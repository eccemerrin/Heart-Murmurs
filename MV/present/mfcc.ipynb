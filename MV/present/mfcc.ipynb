{
 "cells": [
  {
   "cell_type": "markdown",
   "id": "22776b7f",
   "metadata": {},
   "source": [
    "### Source : http://practicalcryptography.com/miscellaneous/machine-learning/guide-mel-frequency-cepstral-coefficients-mfccs/"
   ]
  },
  {
   "cell_type": "code",
   "execution_count": 1,
   "id": "2e9acd3c",
   "metadata": {},
   "outputs": [],
   "source": [
    "import matplotlib.pyplot as plt\n",
    "import numpy as np\n",
    "import scipy.signal"
   ]
  },
  {
   "cell_type": "code",
   "execution_count": 2,
   "id": "5f9a7800",
   "metadata": {},
   "outputs": [],
   "source": [
    "path = \"/Users/ecem/Desktop/phonocardiogram/data/MV/present\""
   ]
  },
  {
   "cell_type": "code",
   "execution_count": 3,
   "id": "a473ad37",
   "metadata": {},
   "outputs": [],
   "source": [
    "waves = np.load(path + \"/present_MV_waves_10sec.npy\", allow_pickle= True)"
   ]
  },
  {
   "cell_type": "code",
   "execution_count": 4,
   "id": "e55a65f3",
   "metadata": {},
   "outputs": [],
   "source": [
    "n = waves.shape[0]"
   ]
  },
  {
   "cell_type": "code",
   "execution_count": 5,
   "id": "4fade6e1",
   "metadata": {},
   "outputs": [],
   "source": [
    "import librosa as lbs"
   ]
  },
  {
   "cell_type": "code",
   "execution_count": 6,
   "id": "89c64773",
   "metadata": {},
   "outputs": [
    {
     "data": {
      "text/plain": [
       "(13, 79)"
      ]
     },
     "execution_count": 6,
     "metadata": {},
     "output_type": "execute_result"
    }
   ],
   "source": [
    "lbs.feature.mfcc(y=waves[0], sr=4000, win_length = 100, n_mfcc=13).shape"
   ]
  },
  {
   "cell_type": "code",
   "execution_count": 7,
   "id": "c43d8523",
   "metadata": {},
   "outputs": [
    {
     "data": {
      "text/plain": [
       "-570.14417"
      ]
     },
     "execution_count": 7,
     "metadata": {},
     "output_type": "execute_result"
    }
   ],
   "source": [
    "lbs.feature.mfcc(y=waves[0], sr=4000, win_length = 100, n_mfcc=13)[0].mean()"
   ]
  },
  {
   "cell_type": "code",
   "execution_count": 8,
   "id": "4d774edf",
   "metadata": {},
   "outputs": [],
   "source": [
    "mfccs = lbs.feature.mfcc(y=waves[0], sr=4000, win_length = 100, n_mfcc=13)"
   ]
  },
  {
   "cell_type": "code",
   "execution_count": 9,
   "id": "37e8a5ef",
   "metadata": {},
   "outputs": [],
   "source": [
    "import librosa.display"
   ]
  },
  {
   "cell_type": "code",
   "execution_count": 10,
   "id": "031f7d04",
   "metadata": {},
   "outputs": [
    {
     "data": {
      "text/plain": [
       "[Text(0.5, 1.0, 'MFCC')]"
      ]
     },
     "execution_count": 10,
     "metadata": {},
     "output_type": "execute_result"
    },
    {
     "data": {
      "image/png": "[encoded data removed]",
      "text/plain": [
       "<Figure size 432x288 with 2 Axes>"
      ]
     },
     "metadata": {
      "needs_background": "light"
     },
     "output_type": "display_data"
    }
   ],
   "source": [
    ">>> import matplotlib.pyplot as plt\n",
    ">>> fig, ax = plt.subplots(nrows=1, sharex=True)\n",
    ">>> img = librosa.display.specshow(mfccs, x_axis='time', ax=ax)\n",
    ">>> fig.colorbar(img, ax=[ax])\n",
    ">>> ax.set(title='MFCC')"
   ]
  },
  {
   "cell_type": "code",
   "execution_count": 11,
   "id": "a9cf23b8",
   "metadata": {},
   "outputs": [],
   "source": [
    "mfccs = np.empty((n, 13))\n",
    "for i in range(waves.shape[0]):\n",
    "    mfcc = lbs.feature.mfcc(y=waves[i], sr=4000, win_length = 100, n_mfcc=13)\n",
    "    for j in range(13):\n",
    "        mfccs[i, j] = mfcc[j].mean()\n",
    "    "
   ]
  },
  {
   "cell_type": "code",
   "execution_count": 12,
   "id": "22bce509",
   "metadata": {},
   "outputs": [
    {
     "data": {
      "text/plain": [
       "(1080, 13)"
      ]
     },
     "execution_count": 12,
     "metadata": {},
     "output_type": "execute_result"
    }
   ],
   "source": [
    "mfccs.shape"
   ]
  },
  {
   "cell_type": "code",
   "execution_count": 13,
   "id": "ae8c91d3",
   "metadata": {},
   "outputs": [],
   "source": [
    "import pandas as pd"
   ]
  },
  {
   "cell_type": "code",
   "execution_count": 14,
   "id": "a8d81f75",
   "metadata": {},
   "outputs": [],
   "source": [
    "columns = []\n",
    "for i in range(13):\n",
    "    columns.append(\"{}'th mfcc\".format(i))"
   ]
  },
  {
   "cell_type": "code",
   "execution_count": 15,
   "id": "ec9136db",
   "metadata": {},
   "outputs": [],
   "source": [
    "mfccs_df = pd.DataFrame(mfccs, columns = columns)"
   ]
  },
  {
   "cell_type": "code",
   "execution_count": 16,
   "id": "70348867",
   "metadata": {},
   "outputs": [
    {
     "data": {
      "text/html": [
       "<div>\n",
       "<style scoped>\n",
       "    .dataframe tbody tr th:only-of-type {\n",
       "        vertical-align: middle;\n",
       "    }\n",
       "\n",
       "    .dataframe tbody tr th {\n",
       "        vertical-align: top;\n",
       "    }\n",
       "\n",
       "    .dataframe thead th {\n",
       "        text-align: right;\n",
       "    }\n",
       "</style>\n",
       "<table border=\"1\" class=\"dataframe\">\n",
       "  <thead>\n",
       "    <tr style=\"text-align: right;\">\n",
       "      <th></th>\n",
       "      <th>0'th mfcc</th>\n",
       "      <th>1'th mfcc</th>\n",
       "      <th>2'th mfcc</th>\n",
       "      <th>3'th mfcc</th>\n",
       "      <th>4'th mfcc</th>\n",
       "      <th>5'th mfcc</th>\n",
       "      <th>6'th mfcc</th>\n",
       "      <th>7'th mfcc</th>\n",
       "      <th>8'th mfcc</th>\n",
       "      <th>9'th mfcc</th>\n",
       "      <th>10'th mfcc</th>\n",
       "      <th>11'th mfcc</th>\n",
       "      <th>12'th mfcc</th>\n",
       "    </tr>\n",
       "  </thead>\n",
       "  <tbody>\n",
       "    <tr>\n",
       "      <th>0</th>\n",
       "      <td>-570.144165</td>\n",
       "      <td>84.743477</td>\n",
       "      <td>71.938217</td>\n",
       "      <td>54.359016</td>\n",
       "      <td>35.131275</td>\n",
       "      <td>17.795877</td>\n",
       "      <td>4.943207</td>\n",
       "      <td>-2.238263</td>\n",
       "      <td>-4.102041</td>\n",
       "      <td>-2.192379</td>\n",
       "      <td>1.378472</td>\n",
       "      <td>4.640109</td>\n",
       "      <td>6.301121</td>\n",
       "    </tr>\n",
       "    <tr>\n",
       "      <th>1</th>\n",
       "      <td>-660.730103</td>\n",
       "      <td>122.864174</td>\n",
       "      <td>101.045837</td>\n",
       "      <td>71.493896</td>\n",
       "      <td>40.333179</td>\n",
       "      <td>13.909631</td>\n",
       "      <td>-3.546658</td>\n",
       "      <td>-10.750186</td>\n",
       "      <td>-9.339309</td>\n",
       "      <td>-2.903386</td>\n",
       "      <td>4.440372</td>\n",
       "      <td>9.434031</td>\n",
       "      <td>10.530929</td>\n",
       "    </tr>\n",
       "    <tr>\n",
       "      <th>2</th>\n",
       "      <td>-752.157959</td>\n",
       "      <td>137.689621</td>\n",
       "      <td>111.488602</td>\n",
       "      <td>76.087448</td>\n",
       "      <td>39.609699</td>\n",
       "      <td>9.926634</td>\n",
       "      <td>-8.099819</td>\n",
       "      <td>-13.600000</td>\n",
       "      <td>-9.393248</td>\n",
       "      <td>-0.472074</td>\n",
       "      <td>7.993968</td>\n",
       "      <td>12.411327</td>\n",
       "      <td>11.657516</td>\n",
       "    </tr>\n",
       "    <tr>\n",
       "      <th>3</th>\n",
       "      <td>-688.436584</td>\n",
       "      <td>120.941528</td>\n",
       "      <td>98.116753</td>\n",
       "      <td>67.557632</td>\n",
       "      <td>36.162590</td>\n",
       "      <td>10.347927</td>\n",
       "      <td>-5.934097</td>\n",
       "      <td>-11.729803</td>\n",
       "      <td>-8.991573</td>\n",
       "      <td>-1.636105</td>\n",
       "      <td>5.985434</td>\n",
       "      <td>10.622911</td>\n",
       "      <td>10.974188</td>\n",
       "    </tr>\n",
       "    <tr>\n",
       "      <th>4</th>\n",
       "      <td>-750.606812</td>\n",
       "      <td>150.106506</td>\n",
       "      <td>120.090424</td>\n",
       "      <td>79.899033</td>\n",
       "      <td>39.137615</td>\n",
       "      <td>6.703459</td>\n",
       "      <td>-12.292192</td>\n",
       "      <td>-17.400272</td>\n",
       "      <td>-12.155264</td>\n",
       "      <td>-2.169276</td>\n",
       "      <td>7.073528</td>\n",
       "      <td>11.961028</td>\n",
       "      <td>11.507572</td>\n",
       "    </tr>\n",
       "    <tr>\n",
       "      <th>...</th>\n",
       "      <td>...</td>\n",
       "      <td>...</td>\n",
       "      <td>...</td>\n",
       "      <td>...</td>\n",
       "      <td>...</td>\n",
       "      <td>...</td>\n",
       "      <td>...</td>\n",
       "      <td>...</td>\n",
       "      <td>...</td>\n",
       "      <td>...</td>\n",
       "      <td>...</td>\n",
       "      <td>...</td>\n",
       "      <td>...</td>\n",
       "    </tr>\n",
       "    <tr>\n",
       "      <th>1075</th>\n",
       "      <td>-613.817383</td>\n",
       "      <td>137.568985</td>\n",
       "      <td>112.259293</td>\n",
       "      <td>78.171791</td>\n",
       "      <td>43.227360</td>\n",
       "      <td>14.914235</td>\n",
       "      <td>-2.319257</td>\n",
       "      <td>-7.835765</td>\n",
       "      <td>-4.352379</td>\n",
       "      <td>3.545585</td>\n",
       "      <td>11.195225</td>\n",
       "      <td>15.348663</td>\n",
       "      <td>14.905712</td>\n",
       "    </tr>\n",
       "    <tr>\n",
       "      <th>1076</th>\n",
       "      <td>-611.504028</td>\n",
       "      <td>131.479324</td>\n",
       "      <td>108.664894</td>\n",
       "      <td>77.501869</td>\n",
       "      <td>44.942245</td>\n",
       "      <td>17.842607</td>\n",
       "      <td>0.582132</td>\n",
       "      <td>-5.809008</td>\n",
       "      <td>-3.462720</td>\n",
       "      <td>3.538464</td>\n",
       "      <td>10.793025</td>\n",
       "      <td>15.047919</td>\n",
       "      <td>15.002252</td>\n",
       "    </tr>\n",
       "    <tr>\n",
       "      <th>1077</th>\n",
       "      <td>-602.486084</td>\n",
       "      <td>131.042908</td>\n",
       "      <td>107.408821</td>\n",
       "      <td>75.459106</td>\n",
       "      <td>42.442707</td>\n",
       "      <td>15.395052</td>\n",
       "      <td>-1.341553</td>\n",
       "      <td>-6.942268</td>\n",
       "      <td>-3.806942</td>\n",
       "      <td>3.764098</td>\n",
       "      <td>11.268342</td>\n",
       "      <td>15.477941</td>\n",
       "      <td>15.206600</td>\n",
       "    </tr>\n",
       "    <tr>\n",
       "      <th>1078</th>\n",
       "      <td>-608.578735</td>\n",
       "      <td>127.779594</td>\n",
       "      <td>105.844131</td>\n",
       "      <td>76.045792</td>\n",
       "      <td>44.900074</td>\n",
       "      <td>18.818014</td>\n",
       "      <td>1.878521</td>\n",
       "      <td>-4.889337</td>\n",
       "      <td>-3.309235</td>\n",
       "      <td>3.001428</td>\n",
       "      <td>10.024223</td>\n",
       "      <td>14.622044</td>\n",
       "      <td>15.310308</td>\n",
       "    </tr>\n",
       "    <tr>\n",
       "      <th>1079</th>\n",
       "      <td>-575.479553</td>\n",
       "      <td>122.036156</td>\n",
       "      <td>100.929054</td>\n",
       "      <td>71.927574</td>\n",
       "      <td>41.962116</td>\n",
       "      <td>17.220108</td>\n",
       "      <td>1.513748</td>\n",
       "      <td>-4.399039</td>\n",
       "      <td>-2.508657</td>\n",
       "      <td>3.525227</td>\n",
       "      <td>9.805215</td>\n",
       "      <td>13.455784</td>\n",
       "      <td>13.308982</td>\n",
       "    </tr>\n",
       "  </tbody>\n",
       "</table>\n",
       "<p>1080 rows × 13 columns</p>\n",
       "</div>"
      ],
      "text/plain": [
       "       0'th mfcc   1'th mfcc   2'th mfcc  3'th mfcc  4'th mfcc  5'th mfcc  \\\n",
       "0    -570.144165   84.743477   71.938217  54.359016  35.131275  17.795877   \n",
       "1    -660.730103  122.864174  101.045837  71.493896  40.333179  13.909631   \n",
       "2    -752.157959  137.689621  111.488602  76.087448  39.609699   9.926634   \n",
       "3    -688.436584  120.941528   98.116753  67.557632  36.162590  10.347927   \n",
       "4    -750.606812  150.106506  120.090424  79.899033  39.137615   6.703459   \n",
       "...          ...         ...         ...        ...        ...        ...   \n",
       "1075 -613.817383  137.568985  112.259293  78.171791  43.227360  14.914235   \n",
       "1076 -611.504028  131.479324  108.664894  77.501869  44.942245  17.842607   \n",
       "1077 -602.486084  131.042908  107.408821  75.459106  42.442707  15.395052   \n",
       "1078 -608.578735  127.779594  105.844131  76.045792  44.900074  18.818014   \n",
       "1079 -575.479553  122.036156  100.929054  71.927574  41.962116  17.220108   \n",
       "\n",
       "      6'th mfcc  7'th mfcc  8'th mfcc  9'th mfcc  10'th mfcc  11'th mfcc  \\\n",
       "0      4.943207  -2.238263  -4.102041  -2.192379    1.378472    4.640109   \n",
       "1     -3.546658 -10.750186  -9.339309  -2.903386    4.440372    9.434031   \n",
       "2     -8.099819 -13.600000  -9.393248  -0.472074    7.993968   12.411327   \n",
       "3     -5.934097 -11.729803  -8.991573  -1.636105    5.985434   10.622911   \n",
       "4    -12.292192 -17.400272 -12.155264  -2.169276    7.073528   11.961028   \n",
       "...         ...        ...        ...        ...         ...         ...   \n",
       "1075  -2.319257  -7.835765  -4.352379   3.545585   11.195225   15.348663   \n",
       "1076   0.582132  -5.809008  -3.462720   3.538464   10.793025   15.047919   \n",
       "1077  -1.341553  -6.942268  -3.806942   3.764098   11.268342   15.477941   \n",
       "1078   1.878521  -4.889337  -3.309235   3.001428   10.024223   14.622044   \n",
       "1079   1.513748  -4.399039  -2.508657   3.525227    9.805215   13.455784   \n",
       "\n",
       "      12'th mfcc  \n",
       "0       6.301121  \n",
       "1      10.530929  \n",
       "2      11.657516  \n",
       "3      10.974188  \n",
       "4      11.507572  \n",
       "...          ...  \n",
       "1075   14.905712  \n",
       "1076   15.002252  \n",
       "1077   15.206600  \n",
       "1078   15.310308  \n",
       "1079   13.308982  \n",
       "\n",
       "[1080 rows x 13 columns]"
      ]
     },
     "execution_count": 16,
     "metadata": {},
     "output_type": "execute_result"
    }
   ],
   "source": [
    "mfccs_df"
   ]
  },
  {
   "cell_type": "code",
   "execution_count": 17,
   "id": "3da5013c",
   "metadata": {},
   "outputs": [],
   "source": [
    "mfccs_df.to_csv(\"/Users/ecem/Desktop/phonocardiogram/data/MV/present/MV-mfcc.csv\")"
   ]
  },
  {
   "cell_type": "code",
   "execution_count": null,
   "id": "9dee5f7f",
   "metadata": {},
   "outputs": [],
   "source": []
  }
 ],
 "metadata": {
  "kernelspec": {
   "display_name": "Python 3 (ipykernel)",
   "language": "python",
   "name": "python3"
  },
  "language_info": {
   "codemirror_mode": {
    "name": "ipython",
    "version": 3
   },
   "file_extension": ".py",
   "mimetype": "text/x-python",
   "name": "python",
   "nbconvert_exporter": "python",
   "pygments_lexer": "ipython3",
   "version": "3.9.9"
  }
 },
 "nbformat": 4,
 "nbformat_minor": 5
}
