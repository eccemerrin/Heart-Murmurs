{
 "cells": [
  {
   "cell_type": "markdown",
   "id": "a10707b4",
   "metadata": {},
   "source": [
    "## Imports:"
   ]
  },
  {
   "cell_type": "code",
   "execution_count": 1,
   "id": "5b0b2dcc",
   "metadata": {},
   "outputs": [
    {
     "ename": "RuntimeError",
     "evalue": "module compiled against API version 0xe but this version of numpy is 0xd",
     "output_type": "error",
     "traceback": [
      "\u001b[0;31m---------------------------------------------------------------------------\u001b[0m",
      "\u001b[0;31mRuntimeError\u001b[0m                              Traceback (most recent call last)",
      "\u001b[0;31mRuntimeError\u001b[0m: module compiled against API version 0xe but this version of numpy is 0xd"
     ]
    }
   ],
   "source": [
    "import scipy.io\n",
    "import os\n",
    "import pandas\n",
    "import numpy as np\n",
    "import matplotlib.pyplot as plt\n",
    "import matplotlib.pylab as plt_lab\n",
    "import matplotlib.gridspec as gridspec\n",
    "import obspy\n",
    "import pandas as pd"
   ]
  },
  {
   "cell_type": "code",
   "execution_count": 2,
   "id": "995724bf",
   "metadata": {},
   "outputs": [],
   "source": [
    "import warnings\n",
    "warnings.filterwarnings('ignore')"
   ]
  },
  {
   "cell_type": "markdown",
   "id": "41b4c77f",
   "metadata": {},
   "source": [
    "## Load data:\n",
    "We are going to use this data to plot spectograms of SCG signals. "
   ]
  },
  {
   "cell_type": "code",
   "execution_count": 3,
   "id": "75a415fd",
   "metadata": {},
   "outputs": [],
   "source": [
    "path = \"/Users/ecem/Desktop/phonocardiogram/data/MV/present\""
   ]
  },
  {
   "cell_type": "code",
   "execution_count": 4,
   "id": "cff5b561",
   "metadata": {},
   "outputs": [],
   "source": [
    "waves = np.load(path + \"/present_MV_waves_10sec.npy\", allow_pickle= True)\n"
   ]
  },
  {
   "cell_type": "code",
   "execution_count": 5,
   "id": "557b6190",
   "metadata": {},
   "outputs": [
    {
     "name": "stdout",
     "output_type": "stream",
     "text": [
      "(1080, 40000)\n"
     ]
    }
   ],
   "source": [
    "print(waves.shape)\n"
   ]
  },
  {
   "cell_type": "markdown",
   "id": "1b2a6059",
   "metadata": {},
   "source": [
    "## Zero Crossing Rate:\n",
    "Compute the zero-crossing rate of an audio time series.\n",
    "The zero-crossing rate (ZCR) is the rate at which a signal changes from positive to zero to negative or from negative to zero to positive."
   ]
  },
  {
   "cell_type": "code",
   "execution_count": 6,
   "id": "7c9b734f",
   "metadata": {},
   "outputs": [],
   "source": [
    "import librosa as lbs"
   ]
  },
  {
   "cell_type": "code",
   "execution_count": 7,
   "id": "23a0bede",
   "metadata": {},
   "outputs": [
    {
     "data": {
      "text/plain": [
       "array([[0.027625, 0.047125, 0.03375 , 0.041125]])"
      ]
     },
     "execution_count": 7,
     "metadata": {},
     "output_type": "execute_result"
    }
   ],
   "source": [
    "lbs.feature.zero_crossing_rate(waves[7],frame_length= 8000, hop_length = 12000)"
   ]
  },
  {
   "cell_type": "code",
   "execution_count": 8,
   "id": "b2a61800",
   "metadata": {},
   "outputs": [
    {
     "data": {
      "text/plain": [
       "(1, 4)"
      ]
     },
     "execution_count": 8,
     "metadata": {},
     "output_type": "execute_result"
    }
   ],
   "source": [
    "lbs.feature.zero_crossing_rate(waves[7], frame_length= 8000, hop_length = 12000).shape"
   ]
  },
  {
   "cell_type": "code",
   "execution_count": 9,
   "id": "cc79deea",
   "metadata": {},
   "outputs": [],
   "source": [
    "def zero_crossing(array, frame_length= 2048, hl = 512):\n",
    "    zero_crossing_rate = np.ones(shape = (array.shape[0], 5)) #buradaki ikinci sayı hop lenght e göre değişmeli \n",
    "\n",
    "    for i in range(array.shape[0]):\n",
    "        zero_crossing_rate[i][0:4] = lbs.feature.zero_crossing_rate(array[i],  frame_length = frame_length,\n",
    "                                                                    hop_length = hl)\n",
    "        zero_crossing_rate[i][4] = sum(lbs.zero_crossings(array[i]))\n",
    "    return zero_crossing_rate\n",
    "\n",
    "        "
   ]
  },
  {
   "cell_type": "code",
   "execution_count": 10,
   "id": "3badd449",
   "metadata": {},
   "outputs": [],
   "source": [
    "zcrs = zero_crossing(waves, 8000, hl = 12000) #çok uzun sürüyor, ya datayı kısaltmalıyız ya da hop lenght artmalı"
   ]
  },
  {
   "cell_type": "code",
   "execution_count": 11,
   "id": "5a0decad",
   "metadata": {},
   "outputs": [
    {
     "data": {
      "text/plain": [
       "numpy.ndarray"
      ]
     },
     "execution_count": 11,
     "metadata": {},
     "output_type": "execute_result"
    }
   ],
   "source": [
    "type(zcrs[0])"
   ]
  },
  {
   "cell_type": "code",
   "execution_count": 12,
   "id": "ef9d104e",
   "metadata": {},
   "outputs": [],
   "source": [
    "np.save(path + \"/present_MV_zcrs_array\", zcrs, allow_pickle= True)"
   ]
  },
  {
   "cell_type": "code",
   "execution_count": 13,
   "id": "58e4c21a",
   "metadata": {},
   "outputs": [
    {
     "name": "stdout",
     "output_type": "stream",
     "text": [
      "['zcrs0', 'zcrs1', 'zcrs2', 'zcrs3', '#ofcrossing']\n"
     ]
    }
   ],
   "source": [
    "columns_zcr = []\n",
    "for i in range(zcrs.shape[1]-1):\n",
    "    columns_zcr.append(\"zcrs{}\".format(i))\n",
    "\n",
    "    \n",
    "columns_zcr.append(\"#ofcrossing\")\n",
    "\n",
    "print(columns_zcr)"
   ]
  },
  {
   "cell_type": "code",
   "execution_count": 14,
   "id": "e07f721f",
   "metadata": {},
   "outputs": [
    {
     "data": {
      "text/plain": [
       "array([2.7625e-02, 4.7125e-02, 3.3750e-02, 4.1125e-02, 1.8060e+03])"
      ]
     },
     "execution_count": 14,
     "metadata": {},
     "output_type": "execute_result"
    }
   ],
   "source": [
    "zcrs[7]"
   ]
  },
  {
   "cell_type": "code",
   "execution_count": 15,
   "id": "14c76313",
   "metadata": {},
   "outputs": [],
   "source": [
    "def dataframe_creator(array, df = pd.DataFrame(), l = 7, columns = None):\n",
    "    values = []\n",
    "\n",
    "    for i in range(array.shape[0]):\n",
    "        llist = list(array[i][0:l-1].tolist())\n",
    "        llist.append(array[i][l-1])\n",
    "        \n",
    "        values.append(llist)\n",
    "        medium = pd.DataFrame([values[i]], columns = columns)\n",
    "        \n",
    "        \n",
    "        df = pd.concat([df, medium], axis = 0)\n",
    "    return df "
   ]
  },
  {
   "cell_type": "code",
   "execution_count": 16,
   "id": "40eb5d7a",
   "metadata": {},
   "outputs": [],
   "source": [
    "df = dataframe_creator(zcrs, l =5,  columns = columns_zcr)\n",
    "\n",
    "df.reset_index(drop = True, inplace = True)"
   ]
  },
  {
   "cell_type": "code",
   "execution_count": 17,
   "id": "58c4ea98",
   "metadata": {},
   "outputs": [
    {
     "data": {
      "text/html": [
       "<div>\n",
       "<style scoped>\n",
       "    .dataframe tbody tr th:only-of-type {\n",
       "        vertical-align: middle;\n",
       "    }\n",
       "\n",
       "    .dataframe tbody tr th {\n",
       "        vertical-align: top;\n",
       "    }\n",
       "\n",
       "    .dataframe thead th {\n",
       "        text-align: right;\n",
       "    }\n",
       "</style>\n",
       "<table border=\"1\" class=\"dataframe\">\n",
       "  <thead>\n",
       "    <tr style=\"text-align: right;\">\n",
       "      <th></th>\n",
       "      <th>zcrs0</th>\n",
       "      <th>zcrs1</th>\n",
       "      <th>zcrs2</th>\n",
       "      <th>zcrs3</th>\n",
       "      <th>#ofcrossing</th>\n",
       "    </tr>\n",
       "  </thead>\n",
       "  <tbody>\n",
       "    <tr>\n",
       "      <th>0</th>\n",
       "      <td>0.025125</td>\n",
       "      <td>0.021500</td>\n",
       "      <td>0.030125</td>\n",
       "      <td>0.037375</td>\n",
       "      <td>1230.0</td>\n",
       "    </tr>\n",
       "    <tr>\n",
       "      <th>1</th>\n",
       "      <td>0.018750</td>\n",
       "      <td>0.045750</td>\n",
       "      <td>0.022125</td>\n",
       "      <td>0.042125</td>\n",
       "      <td>1410.0</td>\n",
       "    </tr>\n",
       "    <tr>\n",
       "      <th>2</th>\n",
       "      <td>0.020000</td>\n",
       "      <td>0.037125</td>\n",
       "      <td>0.031375</td>\n",
       "      <td>0.030375</td>\n",
       "      <td>1269.0</td>\n",
       "    </tr>\n",
       "    <tr>\n",
       "      <th>3</th>\n",
       "      <td>0.016000</td>\n",
       "      <td>0.037125</td>\n",
       "      <td>0.035000</td>\n",
       "      <td>0.032750</td>\n",
       "      <td>1404.0</td>\n",
       "    </tr>\n",
       "    <tr>\n",
       "      <th>4</th>\n",
       "      <td>0.021625</td>\n",
       "      <td>0.047750</td>\n",
       "      <td>0.024000</td>\n",
       "      <td>0.032875</td>\n",
       "      <td>1432.0</td>\n",
       "    </tr>\n",
       "  </tbody>\n",
       "</table>\n",
       "</div>"
      ],
      "text/plain": [
       "      zcrs0     zcrs1     zcrs2     zcrs3  #ofcrossing\n",
       "0  0.025125  0.021500  0.030125  0.037375       1230.0\n",
       "1  0.018750  0.045750  0.022125  0.042125       1410.0\n",
       "2  0.020000  0.037125  0.031375  0.030375       1269.0\n",
       "3  0.016000  0.037125  0.035000  0.032750       1404.0\n",
       "4  0.021625  0.047750  0.024000  0.032875       1432.0"
      ]
     },
     "execution_count": 17,
     "metadata": {},
     "output_type": "execute_result"
    }
   ],
   "source": [
    "df.head()"
   ]
  },
  {
   "cell_type": "code",
   "execution_count": 18,
   "id": "febe5cf1",
   "metadata": {},
   "outputs": [],
   "source": [
    "df.to_csv(path + '/present_MV_zcrs.csv')"
   ]
  },
  {
   "cell_type": "markdown",
   "id": "3bbfeffb",
   "metadata": {},
   "source": [
    "## with Özgün Ozan Nacitarhan code"
   ]
  },
  {
   "cell_type": "code",
   "execution_count": 19,
   "id": "481adc1a",
   "metadata": {},
   "outputs": [],
   "source": [
    "def zcr(array):\n",
    "    zcr = np.ones(shape = (array.shape[0],1))\n",
    "    for i in range(array.shape[0]):\n",
    "        data_zeros = np.zeros(len(array[i]))\n",
    "        data_zeros[1:] = array[i][:len(array[i]) - 1]\n",
    "        zcr[i][0] = (1 / (2 * len(array[i]))) * np.sum(np.abs(np.sign(array[i]) - np.sign(data_zeros)))\n",
    "        \n",
    "    return zcr\n"
   ]
  },
  {
   "cell_type": "code",
   "execution_count": 20,
   "id": "f539b16d",
   "metadata": {},
   "outputs": [],
   "source": [
    "zcrs_özgün = zcr(waves)"
   ]
  },
  {
   "cell_type": "code",
   "execution_count": 21,
   "id": "12e14c34",
   "metadata": {},
   "outputs": [
    {
     "data": {
      "text/plain": [
       "(1080, 1)"
      ]
     },
     "execution_count": 21,
     "metadata": {},
     "output_type": "execute_result"
    }
   ],
   "source": [
    "zcrs_özgün.shape"
   ]
  },
  {
   "cell_type": "code",
   "execution_count": 22,
   "id": "20657000",
   "metadata": {},
   "outputs": [
    {
     "data": {
      "text/plain": [
       "array([0.0307375])"
      ]
     },
     "execution_count": 22,
     "metadata": {},
     "output_type": "execute_result"
    }
   ],
   "source": [
    "zcrs_özgün[0]"
   ]
  },
  {
   "cell_type": "code",
   "execution_count": 23,
   "id": "adfd4882",
   "metadata": {},
   "outputs": [],
   "source": [
    "np.save(path + \"/present_MV_zcrs_özgün\", zcrs_özgün, allow_pickle= True)"
   ]
  },
  {
   "cell_type": "markdown",
   "id": "68835fa8",
   "metadata": {},
   "source": [
    "### Chromogram:\n",
    "We can use Chroma feature visualization to know how dominant the characteristics of a certain pitch {C, C♯, D, D♯, E, F, F♯, G, G♯, A, A♯, B} is present in the sampled frame.\n",
    "\n",
    "Compute a chromagram from a waveform or power spectrogram.\n",
    "It returns Normalized energy for each chroma bin at each frame.\n",
    "\n",
    "Hop size should refer to the number of samples in between successive frames. For signal analysis Hop Size should be less than the frame size, so that frames overlap."
   ]
  },
  {
   "cell_type": "code",
   "execution_count": 24,
   "id": "a2419065",
   "metadata": {},
   "outputs": [],
   "source": [
    "import warnings\n",
    "warnings.filterwarnings('ignore')"
   ]
  },
  {
   "cell_type": "code",
   "execution_count": 25,
   "id": "4ee986de",
   "metadata": {},
   "outputs": [],
   "source": [
    "import librosa.display"
   ]
  },
  {
   "cell_type": "code",
   "execution_count": 26,
   "id": "72d9d462",
   "metadata": {},
   "outputs": [
    {
     "data": {
      "text/plain": [
       "(12, 4)"
      ]
     },
     "execution_count": 26,
     "metadata": {},
     "output_type": "execute_result"
    }
   ],
   "source": [
    "lbs.feature.chroma_stft(waves[0], sr = 4000, hop_length = 12000).shape"
   ]
  },
  {
   "cell_type": "code",
   "execution_count": 27,
   "id": "1129b939",
   "metadata": {},
   "outputs": [],
   "source": [
    "# we are taking time average of each pitch values.\n",
    "def chromagram_average(array, sampling_rate = 256):\n",
    "    pitch = np.ones(shape = (array.shape[0], 12)) \n",
    "    \n",
    "    for i in range(array.shape[0]):\n",
    "        for j in range(12):\n",
    "            pitch[i][j] = lbs.feature.chroma_stft(np.array(array[i]), sr= sampling_rate, hop_length = 12000)[j].mean()\n",
    "    return pitch"
   ]
  },
  {
   "cell_type": "code",
   "execution_count": 28,
   "id": "fe736d42",
   "metadata": {},
   "outputs": [],
   "source": [
    "chro = chromagram_average(waves, sampling_rate = 4000) # bu da çok uzun sürüyor."
   ]
  },
  {
   "cell_type": "code",
   "execution_count": 31,
   "id": "ed36ce80",
   "metadata": {},
   "outputs": [
    {
     "data": {
      "text/plain": [
       "numpy.ndarray"
      ]
     },
     "execution_count": 31,
     "metadata": {},
     "output_type": "execute_result"
    }
   ],
   "source": [
    "type(chro[0])"
   ]
  },
  {
   "cell_type": "code",
   "execution_count": 32,
   "id": "875ac687",
   "metadata": {},
   "outputs": [
    {
     "data": {
      "text/plain": [
       "(1080, 12)"
      ]
     },
     "execution_count": 32,
     "metadata": {},
     "output_type": "execute_result"
    }
   ],
   "source": [
    "chro.shape"
   ]
  },
  {
   "cell_type": "code",
   "execution_count": 33,
   "id": "0bac78ad",
   "metadata": {},
   "outputs": [],
   "source": [
    "np.save(path + \"/present_MV_chromogram_array\", chro, allow_pickle= True)"
   ]
  },
  {
   "cell_type": "code",
   "execution_count": 34,
   "id": "f275be61",
   "metadata": {},
   "outputs": [
    {
     "name": "stdout",
     "output_type": "stream",
     "text": [
      "(1080, 12)\n"
     ]
    }
   ],
   "source": [
    "print(chro.shape)"
   ]
  },
  {
   "cell_type": "code",
   "execution_count": 35,
   "id": "69d520e6",
   "metadata": {},
   "outputs": [],
   "source": [
    "lst = [\"C\", \"C♯\", \"D\", \"D♯\", \"E\", \"F\", \"F♯\", \"G\", \"G♯\", \"A\", \"A♯\", \"B\"]"
   ]
  },
  {
   "cell_type": "code",
   "execution_count": 36,
   "id": "b24e15ff",
   "metadata": {},
   "outputs": [
    {
     "name": "stdout",
     "output_type": "stream",
     "text": [
      "['C', 'C♯', 'D', 'D♯', 'E', 'F', 'F♯', 'G', 'G♯', 'A', 'A♯', 'B']\n",
      "12\n"
     ]
    }
   ],
   "source": [
    "col_chro = []\n",
    "for i in range(chro.shape[1]):\n",
    "    col_chro.append(lst[i])\n",
    "    \n",
    "print(col_chro)\n",
    "print(len(col_chro))"
   ]
  },
  {
   "cell_type": "code",
   "execution_count": 37,
   "id": "17156bed",
   "metadata": {},
   "outputs": [
    {
     "data": {
      "text/html": [
       "<div>\n",
       "<style scoped>\n",
       "    .dataframe tbody tr th:only-of-type {\n",
       "        vertical-align: middle;\n",
       "    }\n",
       "\n",
       "    .dataframe tbody tr th {\n",
       "        vertical-align: top;\n",
       "    }\n",
       "\n",
       "    .dataframe thead th {\n",
       "        text-align: right;\n",
       "    }\n",
       "</style>\n",
       "<table border=\"1\" class=\"dataframe\">\n",
       "  <thead>\n",
       "    <tr style=\"text-align: right;\">\n",
       "      <th></th>\n",
       "      <th>C</th>\n",
       "      <th>C♯</th>\n",
       "      <th>D</th>\n",
       "      <th>D♯</th>\n",
       "      <th>E</th>\n",
       "      <th>F</th>\n",
       "      <th>F♯</th>\n",
       "      <th>G</th>\n",
       "      <th>G♯</th>\n",
       "      <th>A</th>\n",
       "      <th>A♯</th>\n",
       "      <th>B</th>\n",
       "    </tr>\n",
       "  </thead>\n",
       "  <tbody>\n",
       "    <tr>\n",
       "      <th>0</th>\n",
       "      <td>0.810446</td>\n",
       "      <td>0.725619</td>\n",
       "      <td>0.853265</td>\n",
       "      <td>0.759749</td>\n",
       "      <td>0.702425</td>\n",
       "      <td>0.68703</td>\n",
       "      <td>0.561408</td>\n",
       "      <td>0.668863</td>\n",
       "      <td>0.736252</td>\n",
       "      <td>0.648418</td>\n",
       "      <td>0.732366</td>\n",
       "      <td>0.805493</td>\n",
       "    </tr>\n",
       "    <tr>\n",
       "      <th>1</th>\n",
       "      <td>0.738709</td>\n",
       "      <td>0.66695</td>\n",
       "      <td>0.640127</td>\n",
       "      <td>0.678613</td>\n",
       "      <td>0.631114</td>\n",
       "      <td>0.550491</td>\n",
       "      <td>0.62001</td>\n",
       "      <td>0.696551</td>\n",
       "      <td>0.636922</td>\n",
       "      <td>0.503559</td>\n",
       "      <td>0.450244</td>\n",
       "      <td>0.689209</td>\n",
       "    </tr>\n",
       "    <tr>\n",
       "      <th>2</th>\n",
       "      <td>0.593778</td>\n",
       "      <td>0.59127</td>\n",
       "      <td>0.515877</td>\n",
       "      <td>0.447003</td>\n",
       "      <td>0.398011</td>\n",
       "      <td>0.426973</td>\n",
       "      <td>0.640992</td>\n",
       "      <td>0.674925</td>\n",
       "      <td>0.683793</td>\n",
       "      <td>0.621001</td>\n",
       "      <td>0.683612</td>\n",
       "      <td>0.644247</td>\n",
       "    </tr>\n",
       "    <tr>\n",
       "      <th>3</th>\n",
       "      <td>0.659662</td>\n",
       "      <td>0.480534</td>\n",
       "      <td>0.405657</td>\n",
       "      <td>0.313199</td>\n",
       "      <td>0.254617</td>\n",
       "      <td>0.511502</td>\n",
       "      <td>0.540043</td>\n",
       "      <td>0.593592</td>\n",
       "      <td>0.746334</td>\n",
       "      <td>0.834766</td>\n",
       "      <td>0.705766</td>\n",
       "      <td>0.781013</td>\n",
       "    </tr>\n",
       "    <tr>\n",
       "      <th>4</th>\n",
       "      <td>0.721779</td>\n",
       "      <td>0.665788</td>\n",
       "      <td>0.742019</td>\n",
       "      <td>0.611769</td>\n",
       "      <td>0.472817</td>\n",
       "      <td>0.37392</td>\n",
       "      <td>0.511763</td>\n",
       "      <td>0.694966</td>\n",
       "      <td>0.71466</td>\n",
       "      <td>0.605556</td>\n",
       "      <td>0.725241</td>\n",
       "      <td>0.764058</td>\n",
       "    </tr>\n",
       "    <tr>\n",
       "      <th>...</th>\n",
       "      <td>...</td>\n",
       "      <td>...</td>\n",
       "      <td>...</td>\n",
       "      <td>...</td>\n",
       "      <td>...</td>\n",
       "      <td>...</td>\n",
       "      <td>...</td>\n",
       "      <td>...</td>\n",
       "      <td>...</td>\n",
       "      <td>...</td>\n",
       "      <td>...</td>\n",
       "      <td>...</td>\n",
       "    </tr>\n",
       "    <tr>\n",
       "      <th>1075</th>\n",
       "      <td>0.732905</td>\n",
       "      <td>0.613481</td>\n",
       "      <td>0.561687</td>\n",
       "      <td>0.5397</td>\n",
       "      <td>0.497762</td>\n",
       "      <td>0.529659</td>\n",
       "      <td>0.572538</td>\n",
       "      <td>0.513017</td>\n",
       "      <td>0.503343</td>\n",
       "      <td>0.546078</td>\n",
       "      <td>0.699644</td>\n",
       "      <td>0.813053</td>\n",
       "    </tr>\n",
       "    <tr>\n",
       "      <th>1076</th>\n",
       "      <td>0.66974</td>\n",
       "      <td>0.493809</td>\n",
       "      <td>0.499756</td>\n",
       "      <td>0.606515</td>\n",
       "      <td>0.628215</td>\n",
       "      <td>0.611097</td>\n",
       "      <td>0.68244</td>\n",
       "      <td>0.643369</td>\n",
       "      <td>0.618319</td>\n",
       "      <td>0.621708</td>\n",
       "      <td>0.58232</td>\n",
       "      <td>0.678999</td>\n",
       "    </tr>\n",
       "    <tr>\n",
       "      <th>1077</th>\n",
       "      <td>0.696522</td>\n",
       "      <td>0.5674</td>\n",
       "      <td>0.546663</td>\n",
       "      <td>0.496339</td>\n",
       "      <td>0.487712</td>\n",
       "      <td>0.446459</td>\n",
       "      <td>0.6237</td>\n",
       "      <td>0.67567</td>\n",
       "      <td>0.676504</td>\n",
       "      <td>0.653285</td>\n",
       "      <td>0.68114</td>\n",
       "      <td>0.78204</td>\n",
       "    </tr>\n",
       "    <tr>\n",
       "      <th>1078</th>\n",
       "      <td>0.679279</td>\n",
       "      <td>0.729566</td>\n",
       "      <td>0.756466</td>\n",
       "      <td>0.80642</td>\n",
       "      <td>0.722449</td>\n",
       "      <td>0.622377</td>\n",
       "      <td>0.524794</td>\n",
       "      <td>0.51073</td>\n",
       "      <td>0.62642</td>\n",
       "      <td>0.633286</td>\n",
       "      <td>0.602839</td>\n",
       "      <td>0.659564</td>\n",
       "    </tr>\n",
       "    <tr>\n",
       "      <th>1079</th>\n",
       "      <td>0.859343</td>\n",
       "      <td>0.809557</td>\n",
       "      <td>0.819307</td>\n",
       "      <td>0.782602</td>\n",
       "      <td>0.743295</td>\n",
       "      <td>0.652062</td>\n",
       "      <td>0.587517</td>\n",
       "      <td>0.552815</td>\n",
       "      <td>0.551989</td>\n",
       "      <td>0.487436</td>\n",
       "      <td>0.536648</td>\n",
       "      <td>0.758938</td>\n",
       "    </tr>\n",
       "  </tbody>\n",
       "</table>\n",
       "<p>1080 rows × 12 columns</p>\n",
       "</div>"
      ],
      "text/plain": [
       "             C        C♯         D        D♯         E         F        F♯  \\\n",
       "0     0.810446  0.725619  0.853265  0.759749  0.702425   0.68703  0.561408   \n",
       "1     0.738709   0.66695  0.640127  0.678613  0.631114  0.550491   0.62001   \n",
       "2     0.593778   0.59127  0.515877  0.447003  0.398011  0.426973  0.640992   \n",
       "3     0.659662  0.480534  0.405657  0.313199  0.254617  0.511502  0.540043   \n",
       "4     0.721779  0.665788  0.742019  0.611769  0.472817   0.37392  0.511763   \n",
       "...        ...       ...       ...       ...       ...       ...       ...   \n",
       "1075  0.732905  0.613481  0.561687    0.5397  0.497762  0.529659  0.572538   \n",
       "1076   0.66974  0.493809  0.499756  0.606515  0.628215  0.611097   0.68244   \n",
       "1077  0.696522    0.5674  0.546663  0.496339  0.487712  0.446459    0.6237   \n",
       "1078  0.679279  0.729566  0.756466   0.80642  0.722449  0.622377  0.524794   \n",
       "1079  0.859343  0.809557  0.819307  0.782602  0.743295  0.652062  0.587517   \n",
       "\n",
       "             G        G♯         A        A♯         B  \n",
       "0     0.668863  0.736252  0.648418  0.732366  0.805493  \n",
       "1     0.696551  0.636922  0.503559  0.450244  0.689209  \n",
       "2     0.674925  0.683793  0.621001  0.683612  0.644247  \n",
       "3     0.593592  0.746334  0.834766  0.705766  0.781013  \n",
       "4     0.694966   0.71466  0.605556  0.725241  0.764058  \n",
       "...        ...       ...       ...       ...       ...  \n",
       "1075  0.513017  0.503343  0.546078  0.699644  0.813053  \n",
       "1076  0.643369  0.618319  0.621708   0.58232  0.678999  \n",
       "1077   0.67567  0.676504  0.653285   0.68114   0.78204  \n",
       "1078   0.51073   0.62642  0.633286  0.602839  0.659564  \n",
       "1079  0.552815  0.551989  0.487436  0.536648  0.758938  \n",
       "\n",
       "[1080 rows x 12 columns]"
      ]
     },
     "execution_count": 37,
     "metadata": {},
     "output_type": "execute_result"
    }
   ],
   "source": [
    "ch_df = dataframe_creator(chro,\n",
    "                         df =pd.DataFrame(columns = col_chro), columns = col_chro, l = 12)\n",
    "\n",
    "ch_df.reset_index(drop = True, inplace = True)\n",
    "ch_df"
   ]
  },
  {
   "cell_type": "code",
   "execution_count": null,
   "id": "e970217d",
   "metadata": {},
   "outputs": [],
   "source": []
  },
  {
   "cell_type": "code",
   "execution_count": 38,
   "id": "81a61a1e",
   "metadata": {},
   "outputs": [],
   "source": [
    "ch_df.to_csv(path + \"/present_MV_chromogram.csv\")"
   ]
  },
  {
   "cell_type": "markdown",
   "id": "cce74b21",
   "metadata": {},
   "source": [
    "## Tempogram\n",
    "\n",
    "Compute the tempogram: local autocorrelation of the onset strength envelope.\n",
    "\n",
    "# kendime not tempogram değerlerini spektogram değerleri gibi kaydet."
   ]
  },
  {
   "cell_type": "code",
   "execution_count": 39,
   "id": "c9f3130a",
   "metadata": {},
   "outputs": [],
   "source": [
    "def tempo_average(array): # 192,79\n",
    "    means= []\n",
    "    for i in range(array.shape[0]): #192\n",
    "        means.append(array[i].mean())\n",
    "    return np.array(means) # 192\n",
    "        "
   ]
  },
  {
   "cell_type": "code",
   "execution_count": 40,
   "id": "9d9179b5",
   "metadata": {},
   "outputs": [],
   "source": [
    "def tempogram(array = 0, hop_lenght = 12000, sampling_rate = 256):\n",
    "    \n",
    "    oenv = librosa.onset.onset_strength(y=np.array(array), \n",
    "                                            sr=sampling_rate, \n",
    "                                        lag =3)\n",
    "\n",
    "    times = librosa.times_like(oenv, sr=sampling_rate, hop_length=12000)\n",
    "\n",
    "    tempogram = librosa.feature.tempogram(onset_envelope = oenv, sr = sampling_rate,\n",
    "                                              hop_length = hop_lenght, win_length = 192 )\n",
    "    # Estimate the global tempo for display purposes\n",
    "    #tempo = librosa.beat.tempo(onset_envelope=oenv, sr= sampling_rate,\n",
    "                                   #hop_length=hop_length)[0]\n",
    "    return tempogram"
   ]
  },
  {
   "cell_type": "code",
   "execution_count": 41,
   "id": "4ec648a1",
   "metadata": {},
   "outputs": [
    {
     "data": {
      "text/plain": [
       "(192, 79)"
      ]
     },
     "execution_count": 41,
     "metadata": {},
     "output_type": "execute_result"
    }
   ],
   "source": [
    "tempogram(waves[0]).shape"
   ]
  },
  {
   "cell_type": "code",
   "execution_count": 42,
   "id": "d113b2df",
   "metadata": {},
   "outputs": [
    {
     "data": {
      "text/plain": [
       "array([1., 1., 1., 1., 1., 1., 1., 1., 1., 1., 1., 1., 1., 1., 1., 1., 1.,\n",
       "       1., 1., 1., 1., 1., 1., 1., 1., 1., 1., 1., 1., 1., 1., 1., 1., 1.,\n",
       "       1., 1., 1., 1., 1., 1., 1., 1., 1., 1., 1., 1., 1., 1., 1., 1., 1.,\n",
       "       1., 1., 1., 1., 1., 1., 1., 1., 1., 1., 1., 1., 1., 1., 1., 1., 1.,\n",
       "       1., 1., 1., 1., 1., 1., 1., 1., 1., 1., 1.])"
      ]
     },
     "execution_count": 42,
     "metadata": {},
     "output_type": "execute_result"
    }
   ],
   "source": [
    "tempogram(waves[0])[0]"
   ]
  },
  {
   "cell_type": "code",
   "execution_count": 43,
   "id": "4dd11e0a",
   "metadata": {},
   "outputs": [
    {
     "data": {
      "text/plain": [
       "array([0.76697168, 0.76780304, 0.76866028, 0.76954996, 0.77047845,\n",
       "       0.77145178, 0.7724756 , 0.7735551 , 0.77469497, 0.7758993 ,\n",
       "       0.7771716 , 0.77851472, 0.77993086, 0.78142151, 0.78298755,\n",
       "       0.78462915, 0.78634585, 0.78813662, 0.78999981, 0.79193327,\n",
       "       0.79393437, 0.79600007, 0.79812695, 0.80031128, 0.80254909,\n",
       "       0.8048362 , 0.8071683 , 0.809541  , 0.81194986, 0.81439044,\n",
       "       0.81685835, 0.81934929, 0.82185905, 0.82438357, 0.82691894,\n",
       "       0.82946146, 0.83200757, 0.83455396, 0.83709749, 0.83963525,\n",
       "       0.84216454, 0.84468288, 0.84718799, 0.84967779, 0.8521504 ,\n",
       "       0.85460414, 0.85703749, 0.85944913, 0.86183789, 0.86420274,\n",
       "       0.86654283, 0.86885741, 0.87114588, 0.87340774, 0.8756426 ,\n",
       "       0.87785017, 0.88003027, 0.88218276, 0.88430761, 0.88640485,\n",
       "       0.88847455, 0.89051687, 0.89253199, 0.89452014, 0.8964816 ,\n",
       "       0.89841666, 0.90032567, 0.90220897, 0.90406695, 0.9059    ,\n",
       "       0.90770854, 0.90949299, 0.91125378, 0.91299137, 0.91470618,\n",
       "       0.91639867, 0.9180693 , 0.91971851, 0.92134675])"
      ]
     },
     "execution_count": 43,
     "metadata": {},
     "output_type": "execute_result"
    }
   ],
   "source": [
    "tempogram(waves[0])[1]"
   ]
  },
  {
   "cell_type": "code",
   "execution_count": 44,
   "id": "1ecf758c",
   "metadata": {},
   "outputs": [
    {
     "data": {
      "text/plain": [
       "array([ 1.00000000e+00,  8.40228357e-01,  6.08630920e-01,  5.12123698e-01,\n",
       "        5.48737967e-01,  5.70647436e-01,  5.66876969e-01,  5.55998081e-01,\n",
       "        5.51088565e-01,  5.55084199e-01,  5.62282720e-01,  5.49057937e-01,\n",
       "        5.36770563e-01,  5.32411104e-01,  5.20952294e-01,  4.79496649e-01,\n",
       "        4.45297454e-01,  4.44086376e-01,  4.47973800e-01,  4.27533437e-01,\n",
       "        4.01738878e-01,  4.32863124e-01,  4.85593345e-01,  4.76399075e-01,\n",
       "        4.04773923e-01,  3.49259322e-01,  3.21703390e-01,  2.96517761e-01,\n",
       "        2.90563659e-01,  3.10238118e-01,  3.18295728e-01,  3.18706134e-01,\n",
       "        3.31155100e-01,  3.41437779e-01,  3.18526873e-01,  2.82496840e-01,\n",
       "        2.60821357e-01,  2.61799373e-01,  2.93630652e-01,  3.47790582e-01,\n",
       "        3.39123733e-01,  2.72804139e-01,  2.18389561e-01,  2.37099292e-01,\n",
       "        2.69134998e-01,  2.79493610e-01,  2.70815914e-01,  2.67345481e-01,\n",
       "        2.62436054e-01,  2.43679666e-01,  2.30044855e-01,  2.38680324e-01,\n",
       "        2.48176450e-01,  2.32452079e-01,  2.09271910e-01,  2.07454819e-01,\n",
       "        2.11908908e-01,  2.03163666e-01,  1.81988239e-01,  1.57827781e-01,\n",
       "        1.56330688e-01,  1.78882434e-01,  2.00117838e-01,  1.74411286e-01,\n",
       "        1.30630681e-01,  1.14936090e-01,  1.24929390e-01,  1.33676876e-01,\n",
       "        1.30332546e-01,  1.22301058e-01,  1.14668405e-01,  1.07421294e-01,\n",
       "        1.00546383e-01,  9.40304244e-02,  8.78604468e-02,  8.20236250e-02,\n",
       "        7.65070913e-02,  7.12980753e-02,  6.63841540e-02,  6.17533107e-02,\n",
       "        5.73938932e-02,  5.32944943e-02,  4.94439582e-02,  4.58314957e-02,\n",
       "        4.24467013e-02,  3.92790824e-02,  3.63175122e-02,  3.35505660e-02,\n",
       "        3.09671618e-02,  2.85567610e-02,  2.63093472e-02,  2.42154068e-02,\n",
       "        2.22659092e-02,  2.04522866e-02,  1.87664144e-02,  1.72005909e-02,\n",
       "        1.57475171e-02,  1.44002774e-02,  1.31523196e-02,  1.19974367e-02,\n",
       "        1.09297542e-02,  9.94371991e-03,  9.03408953e-03,  8.19590558e-03,\n",
       "        7.42447671e-03,  6.71536381e-03,  6.06437079e-03,  5.46753574e-03,\n",
       "        4.92112074e-03,  4.42159996e-03,  3.96564700e-03,  3.55012387e-03,\n",
       "        3.17207176e-03,  2.82870207e-03,  2.51738801e-03,  2.23565717e-03,\n",
       "        1.98118500e-03,  1.75178884e-03,  1.54542226e-03,  1.36016928e-03,\n",
       "        1.19423787e-03,  1.04595326e-03,  9.13751817e-04,  7.96176077e-04,\n",
       "        6.91870223e-04,  5.99575840e-04,  5.18127916e-04,  4.46450501e-04,\n",
       "        3.83551567e-04,  3.28517455e-04,  2.80508231e-04,  2.38753838e-04,\n",
       "        2.02549894e-04,  1.71253530e-04,  1.44279817e-04,  1.21098662e-04,\n",
       "        1.01232127e-04,  8.42520509e-05,  6.97778041e-05,  5.74740973e-05,\n",
       "        4.70488465e-05,  3.82501739e-05,  3.08607354e-05,  2.46907056e-05,\n",
       "        1.95723414e-05,  1.53570925e-05,  1.19134441e-05,  9.12504977e-06,\n",
       "        6.88938765e-06,  5.11674079e-06,  3.72909926e-06,  2.65881601e-06,\n",
       "        1.84737326e-06,  1.24459021e-06,  8.07868397e-07,  5.01132382e-07,\n",
       "        2.93818921e-07,  1.60292919e-07,  7.94852897e-08,  3.45458507e-08,\n",
       "        1.24162100e-08,  3.34854859e-09,  5.72109716e-10,  4.30717719e-11,\n",
       "        1.05971419e-17,  3.14574059e-18,  1.72289558e-17, -2.38730060e-17,\n",
       "       -2.63373131e-18, -4.87137845e-18,  2.89699767e-19,  1.46818616e-17,\n",
       "       -1.88903357e-17, -6.80145700e-18, -7.71852314e-18,  1.86831469e-17,\n",
       "        3.18779188e-17,  5.93593675e-18,  7.52992287e-18,  1.66229810e-17,\n",
       "        3.05882275e-17,  4.25715484e-17,  1.59942029e-18,  2.95437410e-17,\n",
       "        2.78775709e-17,  2.07030953e-17,  3.36172885e-17, -1.49510937e-18,\n",
       "        1.43512894e-17,  2.07916298e-17,  1.41433222e-17,  2.88911835e-17])"
      ]
     },
     "execution_count": 44,
     "metadata": {},
     "output_type": "execute_result"
    }
   ],
   "source": [
    "tempo_average(tempogram(waves[0]))"
   ]
  },
  {
   "cell_type": "markdown",
   "id": "26896649",
   "metadata": {},
   "source": [
    "# tempogram(waves[0])[0]"
   ]
  },
  {
   "cell_type": "code",
   "execution_count": 45,
   "id": "5f49f3c2",
   "metadata": {},
   "outputs": [],
   "source": [
    "def temp_values(array):\n",
    "    final = np.ones(shape = (array.shape[0], 192))\n",
    "    for i in range(array.shape[0]): #8bin civarı\n",
    "        \n",
    "        _x = tempogram(array[i]) #1,4000   #192,79\n",
    "        #print(_x.shape)\n",
    "        final[i] = tempo_average(_x) #192\n",
    "        \n",
    "        \n",
    "    return final"
   ]
  },
  {
   "cell_type": "code",
   "execution_count": 46,
   "id": "a2c80c43",
   "metadata": {},
   "outputs": [],
   "source": [
    "temp = temp_values(waves) #çok uzun sürüyor \n"
   ]
  },
  {
   "cell_type": "code",
   "execution_count": 47,
   "id": "c97cff81",
   "metadata": {},
   "outputs": [
    {
     "data": {
      "text/plain": [
       "numpy.ndarray"
      ]
     },
     "execution_count": 47,
     "metadata": {},
     "output_type": "execute_result"
    }
   ],
   "source": [
    "type(temp)"
   ]
  },
  {
   "cell_type": "code",
   "execution_count": 48,
   "id": "346fc135",
   "metadata": {},
   "outputs": [],
   "source": [
    "np.save(path + \"/present_MV_tempgram_array\", temp, allow_pickle= True)"
   ]
  },
  {
   "cell_type": "code",
   "execution_count": 49,
   "id": "d6bf375d",
   "metadata": {},
   "outputs": [
    {
     "data": {
      "text/plain": [
       "(1080, 192)"
      ]
     },
     "execution_count": 49,
     "metadata": {},
     "output_type": "execute_result"
    }
   ],
   "source": [
    "temp.shape"
   ]
  },
  {
   "cell_type": "code",
   "execution_count": 50,
   "id": "925ec0d1",
   "metadata": {},
   "outputs": [
    {
     "name": "stdout",
     "output_type": "stream",
     "text": [
      "['tempogram_0', 'tempogram_1', 'tempogram_2', 'tempogram_3', 'tempogram_4', 'tempogram_5', 'tempogram_6', 'tempogram_7', 'tempogram_8', 'tempogram_9', 'tempogram_10', 'tempogram_11', 'tempogram_12', 'tempogram_13', 'tempogram_14', 'tempogram_15', 'tempogram_16', 'tempogram_17', 'tempogram_18', 'tempogram_19', 'tempogram_20', 'tempogram_21', 'tempogram_22', 'tempogram_23', 'tempogram_24', 'tempogram_25', 'tempogram_26', 'tempogram_27', 'tempogram_28', 'tempogram_29', 'tempogram_30', 'tempogram_31', 'tempogram_32', 'tempogram_33', 'tempogram_34', 'tempogram_35', 'tempogram_36', 'tempogram_37', 'tempogram_38', 'tempogram_39', 'tempogram_40', 'tempogram_41', 'tempogram_42', 'tempogram_43', 'tempogram_44', 'tempogram_45', 'tempogram_46', 'tempogram_47', 'tempogram_48', 'tempogram_49', 'tempogram_50', 'tempogram_51', 'tempogram_52', 'tempogram_53', 'tempogram_54', 'tempogram_55', 'tempogram_56', 'tempogram_57', 'tempogram_58', 'tempogram_59', 'tempogram_60', 'tempogram_61', 'tempogram_62', 'tempogram_63', 'tempogram_64', 'tempogram_65', 'tempogram_66', 'tempogram_67', 'tempogram_68', 'tempogram_69', 'tempogram_70', 'tempogram_71', 'tempogram_72', 'tempogram_73', 'tempogram_74', 'tempogram_75', 'tempogram_76', 'tempogram_77', 'tempogram_78', 'tempogram_79', 'tempogram_80', 'tempogram_81', 'tempogram_82', 'tempogram_83', 'tempogram_84', 'tempogram_85', 'tempogram_86', 'tempogram_87', 'tempogram_88', 'tempogram_89', 'tempogram_90', 'tempogram_91', 'tempogram_92', 'tempogram_93', 'tempogram_94', 'tempogram_95', 'tempogram_96', 'tempogram_97', 'tempogram_98', 'tempogram_99', 'tempogram_100', 'tempogram_101', 'tempogram_102', 'tempogram_103', 'tempogram_104', 'tempogram_105', 'tempogram_106', 'tempogram_107', 'tempogram_108', 'tempogram_109', 'tempogram_110', 'tempogram_111', 'tempogram_112', 'tempogram_113', 'tempogram_114', 'tempogram_115', 'tempogram_116', 'tempogram_117', 'tempogram_118', 'tempogram_119', 'tempogram_120', 'tempogram_121', 'tempogram_122', 'tempogram_123', 'tempogram_124', 'tempogram_125', 'tempogram_126', 'tempogram_127', 'tempogram_128', 'tempogram_129', 'tempogram_130', 'tempogram_131', 'tempogram_132', 'tempogram_133', 'tempogram_134', 'tempogram_135', 'tempogram_136', 'tempogram_137', 'tempogram_138', 'tempogram_139', 'tempogram_140', 'tempogram_141', 'tempogram_142', 'tempogram_143', 'tempogram_144', 'tempogram_145', 'tempogram_146', 'tempogram_147', 'tempogram_148', 'tempogram_149', 'tempogram_150', 'tempogram_151', 'tempogram_152', 'tempogram_153', 'tempogram_154', 'tempogram_155', 'tempogram_156', 'tempogram_157', 'tempogram_158', 'tempogram_159', 'tempogram_160', 'tempogram_161', 'tempogram_162', 'tempogram_163', 'tempogram_164', 'tempogram_165', 'tempogram_166', 'tempogram_167', 'tempogram_168', 'tempogram_169', 'tempogram_170', 'tempogram_171', 'tempogram_172', 'tempogram_173', 'tempogram_174', 'tempogram_175', 'tempogram_176', 'tempogram_177', 'tempogram_178', 'tempogram_179', 'tempogram_180', 'tempogram_181', 'tempogram_182', 'tempogram_183', 'tempogram_184', 'tempogram_185', 'tempogram_186', 'tempogram_187', 'tempogram_188', 'tempogram_189', 'tempogram_190', 'tempogram_191']\n"
     ]
    }
   ],
   "source": [
    "columns_t = []\n",
    "for i in range(temp.shape[1]):\n",
    "    columns_t.append(\"tempogram_{}\".format(i))\n",
    "print(columns_t)"
   ]
  },
  {
   "cell_type": "code",
   "execution_count": 51,
   "id": "e5ef312f",
   "metadata": {},
   "outputs": [
    {
     "data": {
      "text/plain": [
       "192"
      ]
     },
     "execution_count": 51,
     "metadata": {},
     "output_type": "execute_result"
    }
   ],
   "source": [
    "len(columns_t)"
   ]
  },
  {
   "cell_type": "code",
   "execution_count": 52,
   "id": "c1f3b527",
   "metadata": {},
   "outputs": [
    {
     "data": {
      "text/html": [
       "<div>\n",
       "<style scoped>\n",
       "    .dataframe tbody tr th:only-of-type {\n",
       "        vertical-align: middle;\n",
       "    }\n",
       "\n",
       "    .dataframe tbody tr th {\n",
       "        vertical-align: top;\n",
       "    }\n",
       "\n",
       "    .dataframe thead th {\n",
       "        text-align: right;\n",
       "    }\n",
       "</style>\n",
       "<table border=\"1\" class=\"dataframe\">\n",
       "  <thead>\n",
       "    <tr style=\"text-align: right;\">\n",
       "      <th></th>\n",
       "      <th>tempogram_0</th>\n",
       "      <th>tempogram_1</th>\n",
       "      <th>tempogram_2</th>\n",
       "      <th>tempogram_3</th>\n",
       "      <th>tempogram_4</th>\n",
       "      <th>tempogram_5</th>\n",
       "      <th>tempogram_6</th>\n",
       "      <th>tempogram_7</th>\n",
       "      <th>tempogram_8</th>\n",
       "      <th>tempogram_9</th>\n",
       "      <th>...</th>\n",
       "      <th>tempogram_182</th>\n",
       "      <th>tempogram_183</th>\n",
       "      <th>tempogram_184</th>\n",
       "      <th>tempogram_185</th>\n",
       "      <th>tempogram_186</th>\n",
       "      <th>tempogram_187</th>\n",
       "      <th>tempogram_188</th>\n",
       "      <th>tempogram_189</th>\n",
       "      <th>tempogram_190</th>\n",
       "      <th>tempogram_191</th>\n",
       "    </tr>\n",
       "  </thead>\n",
       "  <tbody>\n",
       "    <tr>\n",
       "      <th>0</th>\n",
       "      <td>1.0</td>\n",
       "      <td>0.840228</td>\n",
       "      <td>0.608631</td>\n",
       "      <td>0.512124</td>\n",
       "      <td>0.548738</td>\n",
       "      <td>0.570647</td>\n",
       "      <td>0.566877</td>\n",
       "      <td>0.555998</td>\n",
       "      <td>0.551089</td>\n",
       "      <td>0.555084</td>\n",
       "      <td>...</td>\n",
       "      <td>0.0</td>\n",
       "      <td>0.0</td>\n",
       "      <td>0.0</td>\n",
       "      <td>0.0</td>\n",
       "      <td>0.0</td>\n",
       "      <td>-0.0</td>\n",
       "      <td>0.0</td>\n",
       "      <td>0.0</td>\n",
       "      <td>0.0</td>\n",
       "      <td>0.0</td>\n",
       "    </tr>\n",
       "    <tr>\n",
       "      <th>1</th>\n",
       "      <td>1.0</td>\n",
       "      <td>0.804058</td>\n",
       "      <td>0.510143</td>\n",
       "      <td>0.400774</td>\n",
       "      <td>0.405276</td>\n",
       "      <td>0.410899</td>\n",
       "      <td>0.379941</td>\n",
       "      <td>0.362436</td>\n",
       "      <td>0.385077</td>\n",
       "      <td>0.394141</td>\n",
       "      <td>...</td>\n",
       "      <td>-0.0</td>\n",
       "      <td>0.0</td>\n",
       "      <td>0.0</td>\n",
       "      <td>0.0</td>\n",
       "      <td>0.0</td>\n",
       "      <td>-0.0</td>\n",
       "      <td>0.0</td>\n",
       "      <td>0.0</td>\n",
       "      <td>0.0</td>\n",
       "      <td>0.0</td>\n",
       "    </tr>\n",
       "    <tr>\n",
       "      <th>2</th>\n",
       "      <td>1.0</td>\n",
       "      <td>0.79081</td>\n",
       "      <td>0.484828</td>\n",
       "      <td>0.338964</td>\n",
       "      <td>0.352767</td>\n",
       "      <td>0.443668</td>\n",
       "      <td>0.441545</td>\n",
       "      <td>0.380033</td>\n",
       "      <td>0.365459</td>\n",
       "      <td>0.39275</td>\n",
       "      <td>...</td>\n",
       "      <td>0.0</td>\n",
       "      <td>0.0</td>\n",
       "      <td>0.0</td>\n",
       "      <td>0.0</td>\n",
       "      <td>0.0</td>\n",
       "      <td>-0.0</td>\n",
       "      <td>0.0</td>\n",
       "      <td>0.0</td>\n",
       "      <td>0.0</td>\n",
       "      <td>0.0</td>\n",
       "    </tr>\n",
       "    <tr>\n",
       "      <th>3</th>\n",
       "      <td>1.0</td>\n",
       "      <td>0.730569</td>\n",
       "      <td>0.33581</td>\n",
       "      <td>0.110327</td>\n",
       "      <td>0.141231</td>\n",
       "      <td>0.182817</td>\n",
       "      <td>0.191808</td>\n",
       "      <td>0.123467</td>\n",
       "      <td>0.108056</td>\n",
       "      <td>0.110708</td>\n",
       "      <td>...</td>\n",
       "      <td>0.0</td>\n",
       "      <td>0.0</td>\n",
       "      <td>0.0</td>\n",
       "      <td>0.0</td>\n",
       "      <td>0.0</td>\n",
       "      <td>0.0</td>\n",
       "      <td>0.0</td>\n",
       "      <td>0.0</td>\n",
       "      <td>0.0</td>\n",
       "      <td>0.0</td>\n",
       "    </tr>\n",
       "    <tr>\n",
       "      <th>4</th>\n",
       "      <td>1.0</td>\n",
       "      <td>0.844242</td>\n",
       "      <td>0.605675</td>\n",
       "      <td>0.416162</td>\n",
       "      <td>0.309638</td>\n",
       "      <td>0.255187</td>\n",
       "      <td>0.249018</td>\n",
       "      <td>0.253186</td>\n",
       "      <td>0.285578</td>\n",
       "      <td>0.384112</td>\n",
       "      <td>...</td>\n",
       "      <td>0.0</td>\n",
       "      <td>0.0</td>\n",
       "      <td>0.0</td>\n",
       "      <td>0.0</td>\n",
       "      <td>0.0</td>\n",
       "      <td>0.0</td>\n",
       "      <td>0.0</td>\n",
       "      <td>0.0</td>\n",
       "      <td>0.0</td>\n",
       "      <td>0.0</td>\n",
       "    </tr>\n",
       "    <tr>\n",
       "      <th>...</th>\n",
       "      <td>...</td>\n",
       "      <td>...</td>\n",
       "      <td>...</td>\n",
       "      <td>...</td>\n",
       "      <td>...</td>\n",
       "      <td>...</td>\n",
       "      <td>...</td>\n",
       "      <td>...</td>\n",
       "      <td>...</td>\n",
       "      <td>...</td>\n",
       "      <td>...</td>\n",
       "      <td>...</td>\n",
       "      <td>...</td>\n",
       "      <td>...</td>\n",
       "      <td>...</td>\n",
       "      <td>...</td>\n",
       "      <td>...</td>\n",
       "      <td>...</td>\n",
       "      <td>...</td>\n",
       "      <td>...</td>\n",
       "      <td>...</td>\n",
       "    </tr>\n",
       "    <tr>\n",
       "      <th>1075</th>\n",
       "      <td>1.0</td>\n",
       "      <td>0.784627</td>\n",
       "      <td>0.398328</td>\n",
       "      <td>0.168004</td>\n",
       "      <td>0.142585</td>\n",
       "      <td>0.211737</td>\n",
       "      <td>0.297695</td>\n",
       "      <td>0.377897</td>\n",
       "      <td>0.415552</td>\n",
       "      <td>0.369398</td>\n",
       "      <td>...</td>\n",
       "      <td>-0.0</td>\n",
       "      <td>0.0</td>\n",
       "      <td>0.0</td>\n",
       "      <td>0.0</td>\n",
       "      <td>0.0</td>\n",
       "      <td>-0.0</td>\n",
       "      <td>0.0</td>\n",
       "      <td>0.0</td>\n",
       "      <td>0.0</td>\n",
       "      <td>0.0</td>\n",
       "    </tr>\n",
       "    <tr>\n",
       "      <th>1076</th>\n",
       "      <td>1.0</td>\n",
       "      <td>0.832464</td>\n",
       "      <td>0.558903</td>\n",
       "      <td>0.381477</td>\n",
       "      <td>0.33686</td>\n",
       "      <td>0.34052</td>\n",
       "      <td>0.343291</td>\n",
       "      <td>0.340368</td>\n",
       "      <td>0.313565</td>\n",
       "      <td>0.275574</td>\n",
       "      <td>...</td>\n",
       "      <td>-0.0</td>\n",
       "      <td>0.0</td>\n",
       "      <td>-0.0</td>\n",
       "      <td>0.0</td>\n",
       "      <td>0.0</td>\n",
       "      <td>-0.0</td>\n",
       "      <td>0.0</td>\n",
       "      <td>0.0</td>\n",
       "      <td>0.0</td>\n",
       "      <td>0.0</td>\n",
       "    </tr>\n",
       "    <tr>\n",
       "      <th>1077</th>\n",
       "      <td>1.0</td>\n",
       "      <td>0.835764</td>\n",
       "      <td>0.546349</td>\n",
       "      <td>0.3319</td>\n",
       "      <td>0.277453</td>\n",
       "      <td>0.319119</td>\n",
       "      <td>0.363158</td>\n",
       "      <td>0.379023</td>\n",
       "      <td>0.370616</td>\n",
       "      <td>0.35433</td>\n",
       "      <td>...</td>\n",
       "      <td>0.0</td>\n",
       "      <td>0.0</td>\n",
       "      <td>-0.0</td>\n",
       "      <td>0.0</td>\n",
       "      <td>0.0</td>\n",
       "      <td>-0.0</td>\n",
       "      <td>0.0</td>\n",
       "      <td>0.0</td>\n",
       "      <td>0.0</td>\n",
       "      <td>0.0</td>\n",
       "    </tr>\n",
       "    <tr>\n",
       "      <th>1078</th>\n",
       "      <td>1.0</td>\n",
       "      <td>0.801043</td>\n",
       "      <td>0.435805</td>\n",
       "      <td>0.2035</td>\n",
       "      <td>0.166323</td>\n",
       "      <td>0.243787</td>\n",
       "      <td>0.315055</td>\n",
       "      <td>0.303972</td>\n",
       "      <td>0.236859</td>\n",
       "      <td>0.174684</td>\n",
       "      <td>...</td>\n",
       "      <td>0.0</td>\n",
       "      <td>0.0</td>\n",
       "      <td>-0.0</td>\n",
       "      <td>0.0</td>\n",
       "      <td>0.0</td>\n",
       "      <td>-0.0</td>\n",
       "      <td>0.0</td>\n",
       "      <td>0.0</td>\n",
       "      <td>0.0</td>\n",
       "      <td>0.0</td>\n",
       "    </tr>\n",
       "    <tr>\n",
       "      <th>1079</th>\n",
       "      <td>1.0</td>\n",
       "      <td>0.820894</td>\n",
       "      <td>0.576962</td>\n",
       "      <td>0.510313</td>\n",
       "      <td>0.567246</td>\n",
       "      <td>0.568368</td>\n",
       "      <td>0.456648</td>\n",
       "      <td>0.36589</td>\n",
       "      <td>0.34471</td>\n",
       "      <td>0.387555</td>\n",
       "      <td>...</td>\n",
       "      <td>-0.0</td>\n",
       "      <td>0.0</td>\n",
       "      <td>0.0</td>\n",
       "      <td>0.0</td>\n",
       "      <td>0.0</td>\n",
       "      <td>-0.0</td>\n",
       "      <td>0.0</td>\n",
       "      <td>0.0</td>\n",
       "      <td>0.0</td>\n",
       "      <td>0.0</td>\n",
       "    </tr>\n",
       "  </tbody>\n",
       "</table>\n",
       "<p>1080 rows × 192 columns</p>\n",
       "</div>"
      ],
      "text/plain": [
       "     tempogram_0 tempogram_1 tempogram_2 tempogram_3 tempogram_4 tempogram_5  \\\n",
       "0            1.0    0.840228    0.608631    0.512124    0.548738    0.570647   \n",
       "1            1.0    0.804058    0.510143    0.400774    0.405276    0.410899   \n",
       "2            1.0     0.79081    0.484828    0.338964    0.352767    0.443668   \n",
       "3            1.0    0.730569     0.33581    0.110327    0.141231    0.182817   \n",
       "4            1.0    0.844242    0.605675    0.416162    0.309638    0.255187   \n",
       "...          ...         ...         ...         ...         ...         ...   \n",
       "1075         1.0    0.784627    0.398328    0.168004    0.142585    0.211737   \n",
       "1076         1.0    0.832464    0.558903    0.381477     0.33686     0.34052   \n",
       "1077         1.0    0.835764    0.546349      0.3319    0.277453    0.319119   \n",
       "1078         1.0    0.801043    0.435805      0.2035    0.166323    0.243787   \n",
       "1079         1.0    0.820894    0.576962    0.510313    0.567246    0.568368   \n",
       "\n",
       "     tempogram_6 tempogram_7 tempogram_8 tempogram_9  ... tempogram_182  \\\n",
       "0       0.566877    0.555998    0.551089    0.555084  ...           0.0   \n",
       "1       0.379941    0.362436    0.385077    0.394141  ...          -0.0   \n",
       "2       0.441545    0.380033    0.365459     0.39275  ...           0.0   \n",
       "3       0.191808    0.123467    0.108056    0.110708  ...           0.0   \n",
       "4       0.249018    0.253186    0.285578    0.384112  ...           0.0   \n",
       "...          ...         ...         ...         ...  ...           ...   \n",
       "1075    0.297695    0.377897    0.415552    0.369398  ...          -0.0   \n",
       "1076    0.343291    0.340368    0.313565    0.275574  ...          -0.0   \n",
       "1077    0.363158    0.379023    0.370616     0.35433  ...           0.0   \n",
       "1078    0.315055    0.303972    0.236859    0.174684  ...           0.0   \n",
       "1079    0.456648     0.36589     0.34471    0.387555  ...          -0.0   \n",
       "\n",
       "     tempogram_183 tempogram_184 tempogram_185 tempogram_186 tempogram_187  \\\n",
       "0              0.0           0.0           0.0           0.0          -0.0   \n",
       "1              0.0           0.0           0.0           0.0          -0.0   \n",
       "2              0.0           0.0           0.0           0.0          -0.0   \n",
       "3              0.0           0.0           0.0           0.0           0.0   \n",
       "4              0.0           0.0           0.0           0.0           0.0   \n",
       "...            ...           ...           ...           ...           ...   \n",
       "1075           0.0           0.0           0.0           0.0          -0.0   \n",
       "1076           0.0          -0.0           0.0           0.0          -0.0   \n",
       "1077           0.0          -0.0           0.0           0.0          -0.0   \n",
       "1078           0.0          -0.0           0.0           0.0          -0.0   \n",
       "1079           0.0           0.0           0.0           0.0          -0.0   \n",
       "\n",
       "     tempogram_188 tempogram_189 tempogram_190 tempogram_191  \n",
       "0              0.0           0.0           0.0           0.0  \n",
       "1              0.0           0.0           0.0           0.0  \n",
       "2              0.0           0.0           0.0           0.0  \n",
       "3              0.0           0.0           0.0           0.0  \n",
       "4              0.0           0.0           0.0           0.0  \n",
       "...            ...           ...           ...           ...  \n",
       "1075           0.0           0.0           0.0           0.0  \n",
       "1076           0.0           0.0           0.0           0.0  \n",
       "1077           0.0           0.0           0.0           0.0  \n",
       "1078           0.0           0.0           0.0           0.0  \n",
       "1079           0.0           0.0           0.0           0.0  \n",
       "\n",
       "[1080 rows x 192 columns]"
      ]
     },
     "execution_count": 52,
     "metadata": {},
     "output_type": "execute_result"
    }
   ],
   "source": [
    "df_t = dataframe_creator(temp,\n",
    "                         df =pd.DataFrame(columns = columns_t), columns = columns_t, l = 192)\n",
    "\n",
    "df_t.reset_index(drop = True, inplace = True)\n",
    "df_t"
   ]
  },
  {
   "cell_type": "code",
   "execution_count": 53,
   "id": "e627f4d5",
   "metadata": {},
   "outputs": [
    {
     "data": {
      "text/plain": [
       "1.3255613978690745e-17"
      ]
     },
     "execution_count": 53,
     "metadata": {},
     "output_type": "execute_result"
    }
   ],
   "source": [
    "df_t['tempogram_188'][10]"
   ]
  },
  {
   "cell_type": "code",
   "execution_count": 54,
   "id": "33bee52c",
   "metadata": {},
   "outputs": [],
   "source": [
    "df_t.to_csv(path + '/present_MV_tempogram.csv')"
   ]
  },
  {
   "cell_type": "code",
   "execution_count": 55,
   "id": "c2ae7b50",
   "metadata": {},
   "outputs": [
    {
     "data": {
      "text/plain": [
       "tempogram_0      0\n",
       "tempogram_1      0\n",
       "tempogram_2      0\n",
       "tempogram_3      0\n",
       "tempogram_4      0\n",
       "                ..\n",
       "tempogram_187    0\n",
       "tempogram_188    0\n",
       "tempogram_189    0\n",
       "tempogram_190    0\n",
       "tempogram_191    0\n",
       "Length: 192, dtype: int64"
      ]
     },
     "execution_count": 55,
     "metadata": {},
     "output_type": "execute_result"
    }
   ],
   "source": [
    "df_t.isin([0]).sum(axis=0)"
   ]
  },
  {
   "cell_type": "code",
   "execution_count": 56,
   "id": "0c13bdc2",
   "metadata": {},
   "outputs": [
    {
     "data": {
      "text/html": [
       "<div>\n",
       "<style scoped>\n",
       "    .dataframe tbody tr th:only-of-type {\n",
       "        vertical-align: middle;\n",
       "    }\n",
       "\n",
       "    .dataframe tbody tr th {\n",
       "        vertical-align: top;\n",
       "    }\n",
       "\n",
       "    .dataframe thead th {\n",
       "        text-align: right;\n",
       "    }\n",
       "</style>\n",
       "<table border=\"1\" class=\"dataframe\">\n",
       "  <thead>\n",
       "    <tr style=\"text-align: right;\">\n",
       "      <th></th>\n",
       "      <th>zcrs0</th>\n",
       "      <th>zcrs1</th>\n",
       "      <th>zcrs2</th>\n",
       "      <th>zcrs3</th>\n",
       "      <th>#ofcrossing</th>\n",
       "      <th>C</th>\n",
       "      <th>C♯</th>\n",
       "      <th>D</th>\n",
       "      <th>D♯</th>\n",
       "      <th>E</th>\n",
       "      <th>F</th>\n",
       "      <th>F♯</th>\n",
       "      <th>G</th>\n",
       "      <th>G♯</th>\n",
       "      <th>A</th>\n",
       "      <th>A♯</th>\n",
       "      <th>B</th>\n",
       "    </tr>\n",
       "  </thead>\n",
       "  <tbody>\n",
       "    <tr>\n",
       "      <th>0</th>\n",
       "      <td>0.025125</td>\n",
       "      <td>0.021500</td>\n",
       "      <td>0.030125</td>\n",
       "      <td>0.037375</td>\n",
       "      <td>1230.0</td>\n",
       "      <td>0.810446</td>\n",
       "      <td>0.725619</td>\n",
       "      <td>0.853265</td>\n",
       "      <td>0.759749</td>\n",
       "      <td>0.702425</td>\n",
       "      <td>0.68703</td>\n",
       "      <td>0.561408</td>\n",
       "      <td>0.668863</td>\n",
       "      <td>0.736252</td>\n",
       "      <td>0.648418</td>\n",
       "      <td>0.732366</td>\n",
       "      <td>0.805493</td>\n",
       "    </tr>\n",
       "    <tr>\n",
       "      <th>1</th>\n",
       "      <td>0.018750</td>\n",
       "      <td>0.045750</td>\n",
       "      <td>0.022125</td>\n",
       "      <td>0.042125</td>\n",
       "      <td>1410.0</td>\n",
       "      <td>0.738709</td>\n",
       "      <td>0.66695</td>\n",
       "      <td>0.640127</td>\n",
       "      <td>0.678613</td>\n",
       "      <td>0.631114</td>\n",
       "      <td>0.550491</td>\n",
       "      <td>0.62001</td>\n",
       "      <td>0.696551</td>\n",
       "      <td>0.636922</td>\n",
       "      <td>0.503559</td>\n",
       "      <td>0.450244</td>\n",
       "      <td>0.689209</td>\n",
       "    </tr>\n",
       "    <tr>\n",
       "      <th>2</th>\n",
       "      <td>0.020000</td>\n",
       "      <td>0.037125</td>\n",
       "      <td>0.031375</td>\n",
       "      <td>0.030375</td>\n",
       "      <td>1269.0</td>\n",
       "      <td>0.593778</td>\n",
       "      <td>0.59127</td>\n",
       "      <td>0.515877</td>\n",
       "      <td>0.447003</td>\n",
       "      <td>0.398011</td>\n",
       "      <td>0.426973</td>\n",
       "      <td>0.640992</td>\n",
       "      <td>0.674925</td>\n",
       "      <td>0.683793</td>\n",
       "      <td>0.621001</td>\n",
       "      <td>0.683612</td>\n",
       "      <td>0.644247</td>\n",
       "    </tr>\n",
       "    <tr>\n",
       "      <th>3</th>\n",
       "      <td>0.016000</td>\n",
       "      <td>0.037125</td>\n",
       "      <td>0.035000</td>\n",
       "      <td>0.032750</td>\n",
       "      <td>1404.0</td>\n",
       "      <td>0.659662</td>\n",
       "      <td>0.480534</td>\n",
       "      <td>0.405657</td>\n",
       "      <td>0.313199</td>\n",
       "      <td>0.254617</td>\n",
       "      <td>0.511502</td>\n",
       "      <td>0.540043</td>\n",
       "      <td>0.593592</td>\n",
       "      <td>0.746334</td>\n",
       "      <td>0.834766</td>\n",
       "      <td>0.705766</td>\n",
       "      <td>0.781013</td>\n",
       "    </tr>\n",
       "    <tr>\n",
       "      <th>4</th>\n",
       "      <td>0.021625</td>\n",
       "      <td>0.047750</td>\n",
       "      <td>0.024000</td>\n",
       "      <td>0.032875</td>\n",
       "      <td>1432.0</td>\n",
       "      <td>0.721779</td>\n",
       "      <td>0.665788</td>\n",
       "      <td>0.742019</td>\n",
       "      <td>0.611769</td>\n",
       "      <td>0.472817</td>\n",
       "      <td>0.37392</td>\n",
       "      <td>0.511763</td>\n",
       "      <td>0.694966</td>\n",
       "      <td>0.71466</td>\n",
       "      <td>0.605556</td>\n",
       "      <td>0.725241</td>\n",
       "      <td>0.764058</td>\n",
       "    </tr>\n",
       "    <tr>\n",
       "      <th>...</th>\n",
       "      <td>...</td>\n",
       "      <td>...</td>\n",
       "      <td>...</td>\n",
       "      <td>...</td>\n",
       "      <td>...</td>\n",
       "      <td>...</td>\n",
       "      <td>...</td>\n",
       "      <td>...</td>\n",
       "      <td>...</td>\n",
       "      <td>...</td>\n",
       "      <td>...</td>\n",
       "      <td>...</td>\n",
       "      <td>...</td>\n",
       "      <td>...</td>\n",
       "      <td>...</td>\n",
       "      <td>...</td>\n",
       "      <td>...</td>\n",
       "    </tr>\n",
       "    <tr>\n",
       "      <th>1075</th>\n",
       "      <td>0.007625</td>\n",
       "      <td>0.022750</td>\n",
       "      <td>0.014500</td>\n",
       "      <td>0.015625</td>\n",
       "      <td>692.0</td>\n",
       "      <td>0.732905</td>\n",
       "      <td>0.613481</td>\n",
       "      <td>0.561687</td>\n",
       "      <td>0.5397</td>\n",
       "      <td>0.497762</td>\n",
       "      <td>0.529659</td>\n",
       "      <td>0.572538</td>\n",
       "      <td>0.513017</td>\n",
       "      <td>0.503343</td>\n",
       "      <td>0.546078</td>\n",
       "      <td>0.699644</td>\n",
       "      <td>0.813053</td>\n",
       "    </tr>\n",
       "    <tr>\n",
       "      <th>1076</th>\n",
       "      <td>0.012375</td>\n",
       "      <td>0.020500</td>\n",
       "      <td>0.016500</td>\n",
       "      <td>0.014500</td>\n",
       "      <td>693.0</td>\n",
       "      <td>0.66974</td>\n",
       "      <td>0.493809</td>\n",
       "      <td>0.499756</td>\n",
       "      <td>0.606515</td>\n",
       "      <td>0.628215</td>\n",
       "      <td>0.611097</td>\n",
       "      <td>0.68244</td>\n",
       "      <td>0.643369</td>\n",
       "      <td>0.618319</td>\n",
       "      <td>0.621708</td>\n",
       "      <td>0.58232</td>\n",
       "      <td>0.678999</td>\n",
       "    </tr>\n",
       "    <tr>\n",
       "      <th>1077</th>\n",
       "      <td>0.012125</td>\n",
       "      <td>0.017500</td>\n",
       "      <td>0.012750</td>\n",
       "      <td>0.017500</td>\n",
       "      <td>690.0</td>\n",
       "      <td>0.696522</td>\n",
       "      <td>0.5674</td>\n",
       "      <td>0.546663</td>\n",
       "      <td>0.496339</td>\n",
       "      <td>0.487712</td>\n",
       "      <td>0.446459</td>\n",
       "      <td>0.6237</td>\n",
       "      <td>0.67567</td>\n",
       "      <td>0.676504</td>\n",
       "      <td>0.653285</td>\n",
       "      <td>0.68114</td>\n",
       "      <td>0.78204</td>\n",
       "    </tr>\n",
       "    <tr>\n",
       "      <th>1078</th>\n",
       "      <td>0.010500</td>\n",
       "      <td>0.017250</td>\n",
       "      <td>0.017250</td>\n",
       "      <td>0.016375</td>\n",
       "      <td>686.0</td>\n",
       "      <td>0.679279</td>\n",
       "      <td>0.729566</td>\n",
       "      <td>0.756466</td>\n",
       "      <td>0.80642</td>\n",
       "      <td>0.722449</td>\n",
       "      <td>0.622377</td>\n",
       "      <td>0.524794</td>\n",
       "      <td>0.51073</td>\n",
       "      <td>0.62642</td>\n",
       "      <td>0.633286</td>\n",
       "      <td>0.602839</td>\n",
       "      <td>0.659564</td>\n",
       "    </tr>\n",
       "    <tr>\n",
       "      <th>1079</th>\n",
       "      <td>0.009000</td>\n",
       "      <td>0.015250</td>\n",
       "      <td>0.016750</td>\n",
       "      <td>0.024250</td>\n",
       "      <td>706.0</td>\n",
       "      <td>0.859343</td>\n",
       "      <td>0.809557</td>\n",
       "      <td>0.819307</td>\n",
       "      <td>0.782602</td>\n",
       "      <td>0.743295</td>\n",
       "      <td>0.652062</td>\n",
       "      <td>0.587517</td>\n",
       "      <td>0.552815</td>\n",
       "      <td>0.551989</td>\n",
       "      <td>0.487436</td>\n",
       "      <td>0.536648</td>\n",
       "      <td>0.758938</td>\n",
       "    </tr>\n",
       "  </tbody>\n",
       "</table>\n",
       "<p>1080 rows × 17 columns</p>\n",
       "</div>"
      ],
      "text/plain": [
       "         zcrs0     zcrs1     zcrs2     zcrs3  #ofcrossing         C        C♯  \\\n",
       "0     0.025125  0.021500  0.030125  0.037375       1230.0  0.810446  0.725619   \n",
       "1     0.018750  0.045750  0.022125  0.042125       1410.0  0.738709   0.66695   \n",
       "2     0.020000  0.037125  0.031375  0.030375       1269.0  0.593778   0.59127   \n",
       "3     0.016000  0.037125  0.035000  0.032750       1404.0  0.659662  0.480534   \n",
       "4     0.021625  0.047750  0.024000  0.032875       1432.0  0.721779  0.665788   \n",
       "...        ...       ...       ...       ...          ...       ...       ...   \n",
       "1075  0.007625  0.022750  0.014500  0.015625        692.0  0.732905  0.613481   \n",
       "1076  0.012375  0.020500  0.016500  0.014500        693.0   0.66974  0.493809   \n",
       "1077  0.012125  0.017500  0.012750  0.017500        690.0  0.696522    0.5674   \n",
       "1078  0.010500  0.017250  0.017250  0.016375        686.0  0.679279  0.729566   \n",
       "1079  0.009000  0.015250  0.016750  0.024250        706.0  0.859343  0.809557   \n",
       "\n",
       "             D        D♯         E         F        F♯         G        G♯  \\\n",
       "0     0.853265  0.759749  0.702425   0.68703  0.561408  0.668863  0.736252   \n",
       "1     0.640127  0.678613  0.631114  0.550491   0.62001  0.696551  0.636922   \n",
       "2     0.515877  0.447003  0.398011  0.426973  0.640992  0.674925  0.683793   \n",
       "3     0.405657  0.313199  0.254617  0.511502  0.540043  0.593592  0.746334   \n",
       "4     0.742019  0.611769  0.472817   0.37392  0.511763  0.694966   0.71466   \n",
       "...        ...       ...       ...       ...       ...       ...       ...   \n",
       "1075  0.561687    0.5397  0.497762  0.529659  0.572538  0.513017  0.503343   \n",
       "1076  0.499756  0.606515  0.628215  0.611097   0.68244  0.643369  0.618319   \n",
       "1077  0.546663  0.496339  0.487712  0.446459    0.6237   0.67567  0.676504   \n",
       "1078  0.756466   0.80642  0.722449  0.622377  0.524794   0.51073   0.62642   \n",
       "1079  0.819307  0.782602  0.743295  0.652062  0.587517  0.552815  0.551989   \n",
       "\n",
       "             A        A♯         B  \n",
       "0     0.648418  0.732366  0.805493  \n",
       "1     0.503559  0.450244  0.689209  \n",
       "2     0.621001  0.683612  0.644247  \n",
       "3     0.834766  0.705766  0.781013  \n",
       "4     0.605556  0.725241  0.764058  \n",
       "...        ...       ...       ...  \n",
       "1075  0.546078  0.699644  0.813053  \n",
       "1076  0.621708   0.58232  0.678999  \n",
       "1077  0.653285   0.68114   0.78204  \n",
       "1078  0.633286  0.602839  0.659564  \n",
       "1079  0.487436  0.536648  0.758938  \n",
       "\n",
       "[1080 rows x 17 columns]"
      ]
     },
     "execution_count": 56,
     "metadata": {},
     "output_type": "execute_result"
    }
   ],
   "source": [
    "final_df = pd.concat([df, ch_df], axis =1)\n",
    "final_df"
   ]
  },
  {
   "cell_type": "code",
   "execution_count": 57,
   "id": "32a62976",
   "metadata": {},
   "outputs": [
    {
     "data": {
      "text/html": [
       "<div>\n",
       "<style scoped>\n",
       "    .dataframe tbody tr th:only-of-type {\n",
       "        vertical-align: middle;\n",
       "    }\n",
       "\n",
       "    .dataframe tbody tr th {\n",
       "        vertical-align: top;\n",
       "    }\n",
       "\n",
       "    .dataframe thead th {\n",
       "        text-align: right;\n",
       "    }\n",
       "</style>\n",
       "<table border=\"1\" class=\"dataframe\">\n",
       "  <thead>\n",
       "    <tr style=\"text-align: right;\">\n",
       "      <th></th>\n",
       "      <th>zcrs0</th>\n",
       "      <th>zcrs1</th>\n",
       "      <th>zcrs2</th>\n",
       "      <th>zcrs3</th>\n",
       "      <th>#ofcrossing</th>\n",
       "      <th>C</th>\n",
       "      <th>C♯</th>\n",
       "      <th>D</th>\n",
       "      <th>D♯</th>\n",
       "      <th>E</th>\n",
       "      <th>...</th>\n",
       "      <th>tempogram_182</th>\n",
       "      <th>tempogram_183</th>\n",
       "      <th>tempogram_184</th>\n",
       "      <th>tempogram_185</th>\n",
       "      <th>tempogram_186</th>\n",
       "      <th>tempogram_187</th>\n",
       "      <th>tempogram_188</th>\n",
       "      <th>tempogram_189</th>\n",
       "      <th>tempogram_190</th>\n",
       "      <th>tempogram_191</th>\n",
       "    </tr>\n",
       "  </thead>\n",
       "  <tbody>\n",
       "    <tr>\n",
       "      <th>0</th>\n",
       "      <td>0.025125</td>\n",
       "      <td>0.021500</td>\n",
       "      <td>0.030125</td>\n",
       "      <td>0.037375</td>\n",
       "      <td>1230.0</td>\n",
       "      <td>0.810446</td>\n",
       "      <td>0.725619</td>\n",
       "      <td>0.853265</td>\n",
       "      <td>0.759749</td>\n",
       "      <td>0.702425</td>\n",
       "      <td>...</td>\n",
       "      <td>0.0</td>\n",
       "      <td>0.0</td>\n",
       "      <td>0.0</td>\n",
       "      <td>0.0</td>\n",
       "      <td>0.0</td>\n",
       "      <td>-0.0</td>\n",
       "      <td>0.0</td>\n",
       "      <td>0.0</td>\n",
       "      <td>0.0</td>\n",
       "      <td>0.0</td>\n",
       "    </tr>\n",
       "    <tr>\n",
       "      <th>1</th>\n",
       "      <td>0.018750</td>\n",
       "      <td>0.045750</td>\n",
       "      <td>0.022125</td>\n",
       "      <td>0.042125</td>\n",
       "      <td>1410.0</td>\n",
       "      <td>0.738709</td>\n",
       "      <td>0.66695</td>\n",
       "      <td>0.640127</td>\n",
       "      <td>0.678613</td>\n",
       "      <td>0.631114</td>\n",
       "      <td>...</td>\n",
       "      <td>-0.0</td>\n",
       "      <td>0.0</td>\n",
       "      <td>0.0</td>\n",
       "      <td>0.0</td>\n",
       "      <td>0.0</td>\n",
       "      <td>-0.0</td>\n",
       "      <td>0.0</td>\n",
       "      <td>0.0</td>\n",
       "      <td>0.0</td>\n",
       "      <td>0.0</td>\n",
       "    </tr>\n",
       "    <tr>\n",
       "      <th>2</th>\n",
       "      <td>0.020000</td>\n",
       "      <td>0.037125</td>\n",
       "      <td>0.031375</td>\n",
       "      <td>0.030375</td>\n",
       "      <td>1269.0</td>\n",
       "      <td>0.593778</td>\n",
       "      <td>0.59127</td>\n",
       "      <td>0.515877</td>\n",
       "      <td>0.447003</td>\n",
       "      <td>0.398011</td>\n",
       "      <td>...</td>\n",
       "      <td>0.0</td>\n",
       "      <td>0.0</td>\n",
       "      <td>0.0</td>\n",
       "      <td>0.0</td>\n",
       "      <td>0.0</td>\n",
       "      <td>-0.0</td>\n",
       "      <td>0.0</td>\n",
       "      <td>0.0</td>\n",
       "      <td>0.0</td>\n",
       "      <td>0.0</td>\n",
       "    </tr>\n",
       "    <tr>\n",
       "      <th>3</th>\n",
       "      <td>0.016000</td>\n",
       "      <td>0.037125</td>\n",
       "      <td>0.035000</td>\n",
       "      <td>0.032750</td>\n",
       "      <td>1404.0</td>\n",
       "      <td>0.659662</td>\n",
       "      <td>0.480534</td>\n",
       "      <td>0.405657</td>\n",
       "      <td>0.313199</td>\n",
       "      <td>0.254617</td>\n",
       "      <td>...</td>\n",
       "      <td>0.0</td>\n",
       "      <td>0.0</td>\n",
       "      <td>0.0</td>\n",
       "      <td>0.0</td>\n",
       "      <td>0.0</td>\n",
       "      <td>0.0</td>\n",
       "      <td>0.0</td>\n",
       "      <td>0.0</td>\n",
       "      <td>0.0</td>\n",
       "      <td>0.0</td>\n",
       "    </tr>\n",
       "    <tr>\n",
       "      <th>4</th>\n",
       "      <td>0.021625</td>\n",
       "      <td>0.047750</td>\n",
       "      <td>0.024000</td>\n",
       "      <td>0.032875</td>\n",
       "      <td>1432.0</td>\n",
       "      <td>0.721779</td>\n",
       "      <td>0.665788</td>\n",
       "      <td>0.742019</td>\n",
       "      <td>0.611769</td>\n",
       "      <td>0.472817</td>\n",
       "      <td>...</td>\n",
       "      <td>0.0</td>\n",
       "      <td>0.0</td>\n",
       "      <td>0.0</td>\n",
       "      <td>0.0</td>\n",
       "      <td>0.0</td>\n",
       "      <td>0.0</td>\n",
       "      <td>0.0</td>\n",
       "      <td>0.0</td>\n",
       "      <td>0.0</td>\n",
       "      <td>0.0</td>\n",
       "    </tr>\n",
       "    <tr>\n",
       "      <th>...</th>\n",
       "      <td>...</td>\n",
       "      <td>...</td>\n",
       "      <td>...</td>\n",
       "      <td>...</td>\n",
       "      <td>...</td>\n",
       "      <td>...</td>\n",
       "      <td>...</td>\n",
       "      <td>...</td>\n",
       "      <td>...</td>\n",
       "      <td>...</td>\n",
       "      <td>...</td>\n",
       "      <td>...</td>\n",
       "      <td>...</td>\n",
       "      <td>...</td>\n",
       "      <td>...</td>\n",
       "      <td>...</td>\n",
       "      <td>...</td>\n",
       "      <td>...</td>\n",
       "      <td>...</td>\n",
       "      <td>...</td>\n",
       "      <td>...</td>\n",
       "    </tr>\n",
       "    <tr>\n",
       "      <th>1075</th>\n",
       "      <td>0.007625</td>\n",
       "      <td>0.022750</td>\n",
       "      <td>0.014500</td>\n",
       "      <td>0.015625</td>\n",
       "      <td>692.0</td>\n",
       "      <td>0.732905</td>\n",
       "      <td>0.613481</td>\n",
       "      <td>0.561687</td>\n",
       "      <td>0.5397</td>\n",
       "      <td>0.497762</td>\n",
       "      <td>...</td>\n",
       "      <td>-0.0</td>\n",
       "      <td>0.0</td>\n",
       "      <td>0.0</td>\n",
       "      <td>0.0</td>\n",
       "      <td>0.0</td>\n",
       "      <td>-0.0</td>\n",
       "      <td>0.0</td>\n",
       "      <td>0.0</td>\n",
       "      <td>0.0</td>\n",
       "      <td>0.0</td>\n",
       "    </tr>\n",
       "    <tr>\n",
       "      <th>1076</th>\n",
       "      <td>0.012375</td>\n",
       "      <td>0.020500</td>\n",
       "      <td>0.016500</td>\n",
       "      <td>0.014500</td>\n",
       "      <td>693.0</td>\n",
       "      <td>0.66974</td>\n",
       "      <td>0.493809</td>\n",
       "      <td>0.499756</td>\n",
       "      <td>0.606515</td>\n",
       "      <td>0.628215</td>\n",
       "      <td>...</td>\n",
       "      <td>-0.0</td>\n",
       "      <td>0.0</td>\n",
       "      <td>-0.0</td>\n",
       "      <td>0.0</td>\n",
       "      <td>0.0</td>\n",
       "      <td>-0.0</td>\n",
       "      <td>0.0</td>\n",
       "      <td>0.0</td>\n",
       "      <td>0.0</td>\n",
       "      <td>0.0</td>\n",
       "    </tr>\n",
       "    <tr>\n",
       "      <th>1077</th>\n",
       "      <td>0.012125</td>\n",
       "      <td>0.017500</td>\n",
       "      <td>0.012750</td>\n",
       "      <td>0.017500</td>\n",
       "      <td>690.0</td>\n",
       "      <td>0.696522</td>\n",
       "      <td>0.5674</td>\n",
       "      <td>0.546663</td>\n",
       "      <td>0.496339</td>\n",
       "      <td>0.487712</td>\n",
       "      <td>...</td>\n",
       "      <td>0.0</td>\n",
       "      <td>0.0</td>\n",
       "      <td>-0.0</td>\n",
       "      <td>0.0</td>\n",
       "      <td>0.0</td>\n",
       "      <td>-0.0</td>\n",
       "      <td>0.0</td>\n",
       "      <td>0.0</td>\n",
       "      <td>0.0</td>\n",
       "      <td>0.0</td>\n",
       "    </tr>\n",
       "    <tr>\n",
       "      <th>1078</th>\n",
       "      <td>0.010500</td>\n",
       "      <td>0.017250</td>\n",
       "      <td>0.017250</td>\n",
       "      <td>0.016375</td>\n",
       "      <td>686.0</td>\n",
       "      <td>0.679279</td>\n",
       "      <td>0.729566</td>\n",
       "      <td>0.756466</td>\n",
       "      <td>0.80642</td>\n",
       "      <td>0.722449</td>\n",
       "      <td>...</td>\n",
       "      <td>0.0</td>\n",
       "      <td>0.0</td>\n",
       "      <td>-0.0</td>\n",
       "      <td>0.0</td>\n",
       "      <td>0.0</td>\n",
       "      <td>-0.0</td>\n",
       "      <td>0.0</td>\n",
       "      <td>0.0</td>\n",
       "      <td>0.0</td>\n",
       "      <td>0.0</td>\n",
       "    </tr>\n",
       "    <tr>\n",
       "      <th>1079</th>\n",
       "      <td>0.009000</td>\n",
       "      <td>0.015250</td>\n",
       "      <td>0.016750</td>\n",
       "      <td>0.024250</td>\n",
       "      <td>706.0</td>\n",
       "      <td>0.859343</td>\n",
       "      <td>0.809557</td>\n",
       "      <td>0.819307</td>\n",
       "      <td>0.782602</td>\n",
       "      <td>0.743295</td>\n",
       "      <td>...</td>\n",
       "      <td>-0.0</td>\n",
       "      <td>0.0</td>\n",
       "      <td>0.0</td>\n",
       "      <td>0.0</td>\n",
       "      <td>0.0</td>\n",
       "      <td>-0.0</td>\n",
       "      <td>0.0</td>\n",
       "      <td>0.0</td>\n",
       "      <td>0.0</td>\n",
       "      <td>0.0</td>\n",
       "    </tr>\n",
       "  </tbody>\n",
       "</table>\n",
       "<p>1080 rows × 209 columns</p>\n",
       "</div>"
      ],
      "text/plain": [
       "         zcrs0     zcrs1     zcrs2     zcrs3  #ofcrossing         C        C♯  \\\n",
       "0     0.025125  0.021500  0.030125  0.037375       1230.0  0.810446  0.725619   \n",
       "1     0.018750  0.045750  0.022125  0.042125       1410.0  0.738709   0.66695   \n",
       "2     0.020000  0.037125  0.031375  0.030375       1269.0  0.593778   0.59127   \n",
       "3     0.016000  0.037125  0.035000  0.032750       1404.0  0.659662  0.480534   \n",
       "4     0.021625  0.047750  0.024000  0.032875       1432.0  0.721779  0.665788   \n",
       "...        ...       ...       ...       ...          ...       ...       ...   \n",
       "1075  0.007625  0.022750  0.014500  0.015625        692.0  0.732905  0.613481   \n",
       "1076  0.012375  0.020500  0.016500  0.014500        693.0   0.66974  0.493809   \n",
       "1077  0.012125  0.017500  0.012750  0.017500        690.0  0.696522    0.5674   \n",
       "1078  0.010500  0.017250  0.017250  0.016375        686.0  0.679279  0.729566   \n",
       "1079  0.009000  0.015250  0.016750  0.024250        706.0  0.859343  0.809557   \n",
       "\n",
       "             D        D♯         E  ... tempogram_182 tempogram_183  \\\n",
       "0     0.853265  0.759749  0.702425  ...           0.0           0.0   \n",
       "1     0.640127  0.678613  0.631114  ...          -0.0           0.0   \n",
       "2     0.515877  0.447003  0.398011  ...           0.0           0.0   \n",
       "3     0.405657  0.313199  0.254617  ...           0.0           0.0   \n",
       "4     0.742019  0.611769  0.472817  ...           0.0           0.0   \n",
       "...        ...       ...       ...  ...           ...           ...   \n",
       "1075  0.561687    0.5397  0.497762  ...          -0.0           0.0   \n",
       "1076  0.499756  0.606515  0.628215  ...          -0.0           0.0   \n",
       "1077  0.546663  0.496339  0.487712  ...           0.0           0.0   \n",
       "1078  0.756466   0.80642  0.722449  ...           0.0           0.0   \n",
       "1079  0.819307  0.782602  0.743295  ...          -0.0           0.0   \n",
       "\n",
       "     tempogram_184 tempogram_185 tempogram_186 tempogram_187 tempogram_188  \\\n",
       "0              0.0           0.0           0.0          -0.0           0.0   \n",
       "1              0.0           0.0           0.0          -0.0           0.0   \n",
       "2              0.0           0.0           0.0          -0.0           0.0   \n",
       "3              0.0           0.0           0.0           0.0           0.0   \n",
       "4              0.0           0.0           0.0           0.0           0.0   \n",
       "...            ...           ...           ...           ...           ...   \n",
       "1075           0.0           0.0           0.0          -0.0           0.0   \n",
       "1076          -0.0           0.0           0.0          -0.0           0.0   \n",
       "1077          -0.0           0.0           0.0          -0.0           0.0   \n",
       "1078          -0.0           0.0           0.0          -0.0           0.0   \n",
       "1079           0.0           0.0           0.0          -0.0           0.0   \n",
       "\n",
       "     tempogram_189 tempogram_190 tempogram_191  \n",
       "0              0.0           0.0           0.0  \n",
       "1              0.0           0.0           0.0  \n",
       "2              0.0           0.0           0.0  \n",
       "3              0.0           0.0           0.0  \n",
       "4              0.0           0.0           0.0  \n",
       "...            ...           ...           ...  \n",
       "1075           0.0           0.0           0.0  \n",
       "1076           0.0           0.0           0.0  \n",
       "1077           0.0           0.0           0.0  \n",
       "1078           0.0           0.0           0.0  \n",
       "1079           0.0           0.0           0.0  \n",
       "\n",
       "[1080 rows x 209 columns]"
      ]
     },
     "execution_count": 57,
     "metadata": {},
     "output_type": "execute_result"
    }
   ],
   "source": [
    "final_df = pd.concat([final_df, df_t], axis=1)\n",
    "final_df"
   ]
  },
  {
   "cell_type": "code",
   "execution_count": 58,
   "id": "7c0247a6",
   "metadata": {},
   "outputs": [],
   "source": [
    "final_df.to_csv(path + '/present_MV_final_sp.csv')"
   ]
  },
  {
   "cell_type": "code",
   "execution_count": null,
   "id": "c49dade0",
   "metadata": {},
   "outputs": [],
   "source": []
  },
  {
   "cell_type": "code",
   "execution_count": null,
   "id": "5900dbe9",
   "metadata": {},
   "outputs": [],
   "source": []
  }
 ],
 "metadata": {
  "kernelspec": {
   "display_name": "Python 3 (ipykernel)",
   "language": "python",
   "name": "python3"
  },
  "language_info": {
   "codemirror_mode": {
    "name": "ipython",
    "version": 3
   },
   "file_extension": ".py",
   "mimetype": "text/x-python",
   "name": "python",
   "nbconvert_exporter": "python",
   "pygments_lexer": "ipython3",
   "version": "3.9.9"
  }
 },
 "nbformat": 4,
 "nbformat_minor": 5
}
