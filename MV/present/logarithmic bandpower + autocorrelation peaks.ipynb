{
 "cells": [
  {
   "cell_type": "markdown",
   "id": "22c63b0d",
   "metadata": {},
   "source": [
    "## Computing the power spectral density\n",
    "\n",
    "In order to compute the average bandpower in the delta band, we first need to compute an estimate of the power spectral density. The most widely-used method to do that is the Welch's periodogram, which consists in averaging consecutive Fourier transform of small windows of the signal, with or without overlapping. \n",
    "\n",
    "A classic periodogram requires the spectral content of the signal to be stationnary (i.e. time-unvarying) over the time period considered. Because it is never the case, the periodogram is generally biased and contains way too much variance (see the end of this tutorial). By averaging the periodograms obtained over short segments of the windows, the Welch's method allows to drastically reduce this variance. This comes at the cost, however, of a lower frequency resolution.\n",
    "\n",
    "\n",
    "$$ F_{res} = \\frac{F_s}{N} = \\frac{F_s}{F_st} = \\frac{1}{t} $$\n",
    "\n",
    "How do we define the optimal window duration then? \n",
    "\n",
    "A commonly used approach is to take a window sufficiently long to encompasses at least two full cycles of the lowest frequency of interest."
   ]
  },
  {
   "cell_type": "code",
   "execution_count": 1,
   "id": "2e9acd3c",
   "metadata": {},
   "outputs": [],
   "source": [
    "import matplotlib.pyplot as plt\n",
    "import seaborn as sns\n",
    "import numpy as np\n",
    "sns.set(font_scale=1.2)\n",
    "import scipy.signal"
   ]
  },
  {
   "cell_type": "code",
   "execution_count": 2,
   "id": "5f9a7800",
   "metadata": {},
   "outputs": [],
   "source": [
    "path = \"/Users/ecem/Desktop/phonocardiogram/data/MV/present\""
   ]
  },
  {
   "cell_type": "code",
   "execution_count": 3,
   "id": "a473ad37",
   "metadata": {},
   "outputs": [],
   "source": [
    "waves = np.load(path + \"/present_MV_waves_10sec.npy\", allow_pickle= True)"
   ]
  },
  {
   "cell_type": "code",
   "execution_count": 4,
   "id": "e55a65f3",
   "metadata": {},
   "outputs": [],
   "source": [
    "n = waves.shape[0]"
   ]
  },
  {
   "cell_type": "code",
   "execution_count": 5,
   "id": "4e29b820",
   "metadata": {},
   "outputs": [
    {
     "data": {
      "text/plain": [
       "(129,)"
      ]
     },
     "execution_count": 5,
     "metadata": {},
     "output_type": "execute_result"
    }
   ],
   "source": [
    "f, Pxx = scipy.signal.welch(waves[1], fs=4000)\n",
    "f.shape"
   ]
  },
  {
   "cell_type": "markdown",
   "id": "498af6bf",
   "metadata": {},
   "source": [
    " Summation or integration of the spectral components yields the total power (for a physical process) or variance (in a statistical process), identical to what would be obtained by integrating\n",
    "$${\\displaystyle x^{2}(t)}$$ over the time domain"
   ]
  },
  {
   "cell_type": "code",
   "execution_count": 6,
   "id": "63b5497b",
   "metadata": {},
   "outputs": [
    {
     "data": {
      "text/plain": [
       "array([   1,    1,    1,    2,    2,    3,    4,    6,    8,   10,   13,\n",
       "         17,   23,   30,   39,   50,   66,   85,  111,  145,  188,  245,\n",
       "        318,  414,  538,  699,  909, 1181, 1535, 1995])"
      ]
     },
     "execution_count": 6,
     "metadata": {},
     "output_type": "execute_result"
    }
   ],
   "source": [
    "np.logspace(start = 0, stop = 3.3, num =30, dtype = int)"
   ]
  },
  {
   "cell_type": "code",
   "execution_count": 7,
   "id": "88d09fbf",
   "metadata": {},
   "outputs": [],
   "source": [
    "def bandpower_logsteps(x, fs, num_of_chunk = 20):\n",
    "    \n",
    "    f, Pxx = scipy.signal.welch(x, fs=fs)\n",
    "    \n",
    "    steps = np.logspace(start = 0, stop = 3.3, num = num_of_chunk)\n",
    "    \n",
    "    bandpowers = np.zeros((num_of_chunk-1))\n",
    "    \n",
    "    for i in range(num_of_chunk - 1):\n",
    "        fmin = float(steps[i])\n",
    "        fmax = float(steps[i+1])\n",
    "        \n",
    "        ind_min = np.argmax(f > fmin) - 1\n",
    "        ind_max = np.argmax(f > fmax) - 1\n",
    "        bandpowers[i] =  np.trapz(Pxx[ind_min:ind_max], f[ind_min:ind_max])\n",
    "    return bandpowers"
   ]
  },
  {
   "cell_type": "code",
   "execution_count": 8,
   "id": "9f5ea802",
   "metadata": {},
   "outputs": [
    {
     "data": {
      "text/plain": [
       "array([0.00000000e+00, 0.00000000e+00, 0.00000000e+00, 0.00000000e+00,\n",
       "       0.00000000e+00, 0.00000000e+00, 0.00000000e+00, 0.00000000e+00,\n",
       "       0.00000000e+00, 0.00000000e+00, 0.00000000e+00, 0.00000000e+00,\n",
       "       0.00000000e+00, 0.00000000e+00, 0.00000000e+00, 0.00000000e+00,\n",
       "       0.00000000e+00, 1.78834902e-05, 1.65487926e-05, 3.42614319e-05,\n",
       "       3.35624755e-05, 1.70191757e-04, 4.90953400e-07, 1.10411751e-11,\n",
       "       5.80146911e-13, 7.97503903e-14, 1.24985393e-14, 2.50708056e-15,\n",
       "       3.14603961e-16])"
      ]
     },
     "execution_count": 8,
     "metadata": {},
     "output_type": "execute_result"
    }
   ],
   "source": [
    "bandpower_logsteps(waves[20], 4000, 30)"
   ]
  },
  {
   "cell_type": "code",
   "execution_count": 9,
   "id": "d1cb8ded",
   "metadata": {},
   "outputs": [],
   "source": [
    "bp = np.empty((n, 29))\n",
    "for i in range(n):\n",
    "    bp[i,:] = bandpower_logsteps(waves[i], 4000, 30)"
   ]
  },
  {
   "cell_type": "code",
   "execution_count": 10,
   "id": "606f7515",
   "metadata": {},
   "outputs": [
    {
     "data": {
      "text/plain": [
       "array([0.00000000e+00, 0.00000000e+00, 0.00000000e+00, 0.00000000e+00,\n",
       "       0.00000000e+00, 0.00000000e+00, 0.00000000e+00, 0.00000000e+00,\n",
       "       0.00000000e+00, 0.00000000e+00, 0.00000000e+00, 0.00000000e+00,\n",
       "       0.00000000e+00, 0.00000000e+00, 0.00000000e+00, 0.00000000e+00,\n",
       "       0.00000000e+00, 1.78834902e-05, 1.65487926e-05, 3.42614319e-05,\n",
       "       3.35624755e-05, 1.70191757e-04, 4.90953400e-07, 1.10411751e-11,\n",
       "       5.80146911e-13, 7.97503903e-14, 1.24985393e-14, 2.50708056e-15,\n",
       "       3.14603961e-16])"
      ]
     },
     "execution_count": 10,
     "metadata": {},
     "output_type": "execute_result"
    }
   ],
   "source": [
    "#sanity check\n",
    "bp[20]"
   ]
  },
  {
   "cell_type": "markdown",
   "id": "e2a399ed",
   "metadata": {},
   "source": [
    "## Autocorrelation"
   ]
  },
  {
   "cell_type": "code",
   "execution_count": 11,
   "id": "9e7cdfe9",
   "metadata": {},
   "outputs": [],
   "source": [
    "from scipy import signal\n",
    "from scipy.signal import find_peaks"
   ]
  },
  {
   "cell_type": "code",
   "execution_count": 12,
   "id": "4086b64d",
   "metadata": {},
   "outputs": [],
   "source": [
    "autocorr = signal.fftconvolve(waves[0], waves[0], mode='same')\n",
    "autocorr_norm = autocorr / np.linalg.norm(autocorr )"
   ]
  },
  {
   "cell_type": "code",
   "execution_count": 13,
   "id": "32fcee6e",
   "metadata": {},
   "outputs": [
    {
     "data": {
      "text/plain": [
       "(40000,)"
      ]
     },
     "execution_count": 13,
     "metadata": {},
     "output_type": "execute_result"
    }
   ],
   "source": [
    "autocorr.shape"
   ]
  },
  {
   "cell_type": "code",
   "execution_count": 14,
   "id": "c1cfe679",
   "metadata": {},
   "outputs": [
    {
     "data": {
      "text/plain": [
       "40000"
      ]
     },
     "execution_count": 14,
     "metadata": {},
     "output_type": "execute_result"
    }
   ],
   "source": [
    "len(waves[0])"
   ]
  },
  {
   "cell_type": "code",
   "execution_count": 15,
   "id": "f4485c3d",
   "metadata": {},
   "outputs": [
    {
     "name": "stderr",
     "output_type": "stream",
     "text": [
      "/var/folders/gd/3d6ckpdn4q30skhxnvs_p7b80000gn/T/ipykernel_8433/2127519553.py:10: UserWarning: Matplotlib is currently using module://matplotlib_inline.backend_inline, which is a non-GUI backend, so cannot show the figure.\n",
      "  fig.show()\n"
     ]
    },
    {
     "data": {
      "image/png": "[encoded data removed]",
      "text/plain": [
       "<Figure size 432x288 with 3 Axes>"
      ]
     },
     "metadata": {},
     "output_type": "display_data"
    }
   ],
   "source": [
    "import matplotlib.pyplot as plt\n",
    ">>> fig, (ax_orig, ax_mag, ax_norm) = plt.subplots(3, 1)\n",
    ">>> ax_orig.plot(waves[0])\n",
    ">>> ax_orig.set_title('Signal')\n",
    ">>> ax_mag.plot(np.arange(0,len(waves[0])), autocorr)\n",
    ">>> ax_mag.set_title('Autocorrelation')\n",
    ">>> ax_norm.plot(np.arange(0,len(waves[0])), autocorr_norm)\n",
    ">>> ax_norm.set_title('Normalized Autocorrelation')\n",
    ">>> fig.tight_layout()\n",
    ">>> fig.show()"
   ]
  },
  {
   "cell_type": "code",
   "execution_count": 16,
   "id": "d5c82083",
   "metadata": {},
   "outputs": [],
   "source": [
    "peaks = find_peaks(autocorr_norm, height = 0.02)"
   ]
  },
  {
   "cell_type": "code",
   "execution_count": 17,
   "id": "c0879d1e",
   "metadata": {},
   "outputs": [
    {
     "data": {
      "text/plain": [
       "0.0558684840798378"
      ]
     },
     "execution_count": 17,
     "metadata": {},
     "output_type": "execute_result"
    }
   ],
   "source": [
    "peaks[1][\"peak_heights\"].max()"
   ]
  },
  {
   "cell_type": "code",
   "execution_count": 18,
   "id": "72ee4fc0",
   "metadata": {},
   "outputs": [
    {
     "data": {
      "image/png": "[encoded data removed]",
      "text/plain": [
       "<Figure size 432x288 with 1 Axes>"
      ]
     },
     "metadata": {},
     "output_type": "display_data"
    }
   ],
   "source": [
    ">>> plt.plot( autocorr_norm)\n",
    ">>> plt.plot(peaks[0], autocorr_norm[peaks[0]], \"x\")\n",
    ">>> plt.plot(np.zeros_like(autocorr_norm), \"--\", color=\"gray\")\n",
    ">>> plt.show()"
   ]
  },
  {
   "cell_type": "code",
   "execution_count": 19,
   "id": "5b9fb95f",
   "metadata": {},
   "outputs": [
    {
     "data": {
      "text/plain": [
       "1080"
      ]
     },
     "execution_count": 19,
     "metadata": {},
     "output_type": "execute_result"
    }
   ],
   "source": [
    "n"
   ]
  },
  {
   "cell_type": "code",
   "execution_count": 20,
   "id": "426455b0",
   "metadata": {},
   "outputs": [],
   "source": [
    "maxx = np.empty((n))\n",
    "minn = np.empty((n))\n",
    "for i in range(waves.shape[0]):\n",
    "    auto_corr = signal.fftconvolve(waves[i], waves[i], mode='same')\n",
    "    norm = auto_corr / np.linalg.norm(auto_corr)\n",
    "    if find_peaks(norm, height = 0.01)[1][\"peak_heights\"].size == 0:\n",
    "        maxx[i] = 0\n",
    "        minn[i] = 0\n",
    "    else:\n",
    "        maxx[i] = find_peaks(norm, height = 0.01)[1][\"peak_heights\"].max()\n",
    "        minn[i] = find_peaks(norm, height = 0.01)[1][\"peak_heights\"].min()"
   ]
  },
  {
   "cell_type": "code",
   "execution_count": 21,
   "id": "42eaf131",
   "metadata": {},
   "outputs": [
    {
     "data": {
      "text/plain": [
       "array([0.05586848, 0.03419222, 0.02728953, ..., 0.01611376, 0.01530456,\n",
       "       0.02034655])"
      ]
     },
     "execution_count": 21,
     "metadata": {},
     "output_type": "execute_result"
    }
   ],
   "source": [
    "maxx"
   ]
  },
  {
   "cell_type": "markdown",
   "id": "7a62f088",
   "metadata": {},
   "source": [
    "## create dataframe"
   ]
  },
  {
   "cell_type": "code",
   "execution_count": 22,
   "id": "68b3e79b",
   "metadata": {},
   "outputs": [],
   "source": [
    "import pandas as pd"
   ]
  },
  {
   "cell_type": "code",
   "execution_count": 23,
   "id": "66c3a9f8",
   "metadata": {},
   "outputs": [
    {
     "data": {
      "text/html": [
       "<div>\n",
       "<style scoped>\n",
       "    .dataframe tbody tr th:only-of-type {\n",
       "        vertical-align: middle;\n",
       "    }\n",
       "\n",
       "    .dataframe tbody tr th {\n",
       "        vertical-align: top;\n",
       "    }\n",
       "\n",
       "    .dataframe thead th {\n",
       "        text-align: right;\n",
       "    }\n",
       "</style>\n",
       "<table border=\"1\" class=\"dataframe\">\n",
       "  <thead>\n",
       "    <tr style=\"text-align: right;\">\n",
       "      <th></th>\n",
       "      <th>peak max</th>\n",
       "    </tr>\n",
       "  </thead>\n",
       "  <tbody>\n",
       "    <tr>\n",
       "      <th>0</th>\n",
       "      <td>0.055868</td>\n",
       "    </tr>\n",
       "    <tr>\n",
       "      <th>1</th>\n",
       "      <td>0.034192</td>\n",
       "    </tr>\n",
       "    <tr>\n",
       "      <th>2</th>\n",
       "      <td>0.027290</td>\n",
       "    </tr>\n",
       "    <tr>\n",
       "      <th>3</th>\n",
       "      <td>0.124638</td>\n",
       "    </tr>\n",
       "    <tr>\n",
       "      <th>4</th>\n",
       "      <td>0.021207</td>\n",
       "    </tr>\n",
       "  </tbody>\n",
       "</table>\n",
       "</div>"
      ],
      "text/plain": [
       "   peak max\n",
       "0  0.055868\n",
       "1  0.034192\n",
       "2  0.027290\n",
       "3  0.124638\n",
       "4  0.021207"
      ]
     },
     "execution_count": 23,
     "metadata": {},
     "output_type": "execute_result"
    }
   ],
   "source": [
    "max_df = pd.DataFrame(maxx, columns =[\"peak max\"])\n",
    "max_df.head()"
   ]
  },
  {
   "cell_type": "code",
   "execution_count": 24,
   "id": "f9a67411",
   "metadata": {},
   "outputs": [
    {
     "data": {
      "text/html": [
       "<div>\n",
       "<style scoped>\n",
       "    .dataframe tbody tr th:only-of-type {\n",
       "        vertical-align: middle;\n",
       "    }\n",
       "\n",
       "    .dataframe tbody tr th {\n",
       "        vertical-align: top;\n",
       "    }\n",
       "\n",
       "    .dataframe thead th {\n",
       "        text-align: right;\n",
       "    }\n",
       "</style>\n",
       "<table border=\"1\" class=\"dataframe\">\n",
       "  <thead>\n",
       "    <tr style=\"text-align: right;\">\n",
       "      <th></th>\n",
       "      <th>peak min</th>\n",
       "    </tr>\n",
       "  </thead>\n",
       "  <tbody>\n",
       "    <tr>\n",
       "      <th>0</th>\n",
       "      <td>0.010308</td>\n",
       "    </tr>\n",
       "    <tr>\n",
       "      <th>1</th>\n",
       "      <td>0.010054</td>\n",
       "    </tr>\n",
       "    <tr>\n",
       "      <th>2</th>\n",
       "      <td>0.010231</td>\n",
       "    </tr>\n",
       "    <tr>\n",
       "      <th>3</th>\n",
       "      <td>0.010039</td>\n",
       "    </tr>\n",
       "    <tr>\n",
       "      <th>4</th>\n",
       "      <td>0.010005</td>\n",
       "    </tr>\n",
       "  </tbody>\n",
       "</table>\n",
       "</div>"
      ],
      "text/plain": [
       "   peak min\n",
       "0  0.010308\n",
       "1  0.010054\n",
       "2  0.010231\n",
       "3  0.010039\n",
       "4  0.010005"
      ]
     },
     "execution_count": 24,
     "metadata": {},
     "output_type": "execute_result"
    }
   ],
   "source": [
    "min_df = pd.DataFrame(minn, columns =[\"peak min\"])\n",
    "min_df.head()"
   ]
  },
  {
   "cell_type": "code",
   "execution_count": 25,
   "id": "2ccee904",
   "metadata": {},
   "outputs": [],
   "source": [
    "columns = []\n",
    "for i in range(29):\n",
    "    columns.append(\"{}'th bandpower\".format(i))"
   ]
  },
  {
   "cell_type": "code",
   "execution_count": 26,
   "id": "4b80faee",
   "metadata": {},
   "outputs": [
    {
     "data": {
      "text/html": [
       "<div>\n",
       "<style scoped>\n",
       "    .dataframe tbody tr th:only-of-type {\n",
       "        vertical-align: middle;\n",
       "    }\n",
       "\n",
       "    .dataframe tbody tr th {\n",
       "        vertical-align: top;\n",
       "    }\n",
       "\n",
       "    .dataframe thead th {\n",
       "        text-align: right;\n",
       "    }\n",
       "</style>\n",
       "<table border=\"1\" class=\"dataframe\">\n",
       "  <thead>\n",
       "    <tr style=\"text-align: right;\">\n",
       "      <th></th>\n",
       "      <th>0'th bandpower</th>\n",
       "      <th>1'th bandpower</th>\n",
       "      <th>2'th bandpower</th>\n",
       "      <th>3'th bandpower</th>\n",
       "      <th>4'th bandpower</th>\n",
       "      <th>5'th bandpower</th>\n",
       "      <th>6'th bandpower</th>\n",
       "      <th>7'th bandpower</th>\n",
       "      <th>8'th bandpower</th>\n",
       "      <th>9'th bandpower</th>\n",
       "      <th>...</th>\n",
       "      <th>19'th bandpower</th>\n",
       "      <th>20'th bandpower</th>\n",
       "      <th>21'th bandpower</th>\n",
       "      <th>22'th bandpower</th>\n",
       "      <th>23'th bandpower</th>\n",
       "      <th>24'th bandpower</th>\n",
       "      <th>25'th bandpower</th>\n",
       "      <th>26'th bandpower</th>\n",
       "      <th>27'th bandpower</th>\n",
       "      <th>28'th bandpower</th>\n",
       "    </tr>\n",
       "  </thead>\n",
       "  <tbody>\n",
       "    <tr>\n",
       "      <th>0</th>\n",
       "      <td>0.0</td>\n",
       "      <td>0.0</td>\n",
       "      <td>0.0</td>\n",
       "      <td>0.0</td>\n",
       "      <td>0.0</td>\n",
       "      <td>0.0</td>\n",
       "      <td>0.0</td>\n",
       "      <td>0.0</td>\n",
       "      <td>0.0</td>\n",
       "      <td>0.0</td>\n",
       "      <td>...</td>\n",
       "      <td>0.000081</td>\n",
       "      <td>4.314319e-05</td>\n",
       "      <td>2.607201e-05</td>\n",
       "      <td>4.826993e-07</td>\n",
       "      <td>7.161647e-12</td>\n",
       "      <td>9.591161e-13</td>\n",
       "      <td>2.275390e-13</td>\n",
       "      <td>4.909269e-14</td>\n",
       "      <td>1.148709e-14</td>\n",
       "      <td>1.453500e-15</td>\n",
       "    </tr>\n",
       "    <tr>\n",
       "      <th>1</th>\n",
       "      <td>0.0</td>\n",
       "      <td>0.0</td>\n",
       "      <td>0.0</td>\n",
       "      <td>0.0</td>\n",
       "      <td>0.0</td>\n",
       "      <td>0.0</td>\n",
       "      <td>0.0</td>\n",
       "      <td>0.0</td>\n",
       "      <td>0.0</td>\n",
       "      <td>0.0</td>\n",
       "      <td>...</td>\n",
       "      <td>0.000022</td>\n",
       "      <td>7.999390e-06</td>\n",
       "      <td>4.000056e-06</td>\n",
       "      <td>9.091320e-08</td>\n",
       "      <td>1.470541e-12</td>\n",
       "      <td>1.641139e-13</td>\n",
       "      <td>3.558357e-14</td>\n",
       "      <td>7.311267e-15</td>\n",
       "      <td>1.686230e-15</td>\n",
       "      <td>2.192429e-16</td>\n",
       "    </tr>\n",
       "    <tr>\n",
       "      <th>2</th>\n",
       "      <td>0.0</td>\n",
       "      <td>0.0</td>\n",
       "      <td>0.0</td>\n",
       "      <td>0.0</td>\n",
       "      <td>0.0</td>\n",
       "      <td>0.0</td>\n",
       "      <td>0.0</td>\n",
       "      <td>0.0</td>\n",
       "      <td>0.0</td>\n",
       "      <td>0.0</td>\n",
       "      <td>...</td>\n",
       "      <td>0.000003</td>\n",
       "      <td>7.626202e-07</td>\n",
       "      <td>4.256699e-07</td>\n",
       "      <td>1.861822e-08</td>\n",
       "      <td>3.259654e-13</td>\n",
       "      <td>4.646452e-14</td>\n",
       "      <td>1.131330e-14</td>\n",
       "      <td>2.450151e-15</td>\n",
       "      <td>5.753644e-16</td>\n",
       "      <td>7.046963e-17</td>\n",
       "    </tr>\n",
       "    <tr>\n",
       "      <th>3</th>\n",
       "      <td>0.0</td>\n",
       "      <td>0.0</td>\n",
       "      <td>0.0</td>\n",
       "      <td>0.0</td>\n",
       "      <td>0.0</td>\n",
       "      <td>0.0</td>\n",
       "      <td>0.0</td>\n",
       "      <td>0.0</td>\n",
       "      <td>0.0</td>\n",
       "      <td>0.0</td>\n",
       "      <td>...</td>\n",
       "      <td>0.000066</td>\n",
       "      <td>2.285468e-05</td>\n",
       "      <td>1.165733e-05</td>\n",
       "      <td>2.790481e-07</td>\n",
       "      <td>1.367030e-12</td>\n",
       "      <td>1.335981e-13</td>\n",
       "      <td>2.888327e-14</td>\n",
       "      <td>5.880340e-15</td>\n",
       "      <td>1.348516e-15</td>\n",
       "      <td>1.782360e-16</td>\n",
       "    </tr>\n",
       "    <tr>\n",
       "      <th>4</th>\n",
       "      <td>0.0</td>\n",
       "      <td>0.0</td>\n",
       "      <td>0.0</td>\n",
       "      <td>0.0</td>\n",
       "      <td>0.0</td>\n",
       "      <td>0.0</td>\n",
       "      <td>0.0</td>\n",
       "      <td>0.0</td>\n",
       "      <td>0.0</td>\n",
       "      <td>0.0</td>\n",
       "      <td>...</td>\n",
       "      <td>0.000021</td>\n",
       "      <td>7.980564e-06</td>\n",
       "      <td>5.227058e-06</td>\n",
       "      <td>1.657116e-07</td>\n",
       "      <td>2.137529e-12</td>\n",
       "      <td>1.310473e-13</td>\n",
       "      <td>2.296636e-14</td>\n",
       "      <td>4.272949e-15</td>\n",
       "      <td>9.378780e-16</td>\n",
       "      <td>1.163177e-16</td>\n",
       "    </tr>\n",
       "  </tbody>\n",
       "</table>\n",
       "<p>5 rows × 29 columns</p>\n",
       "</div>"
      ],
      "text/plain": [
       "   0'th bandpower  1'th bandpower  2'th bandpower  3'th bandpower  \\\n",
       "0             0.0             0.0             0.0             0.0   \n",
       "1             0.0             0.0             0.0             0.0   \n",
       "2             0.0             0.0             0.0             0.0   \n",
       "3             0.0             0.0             0.0             0.0   \n",
       "4             0.0             0.0             0.0             0.0   \n",
       "\n",
       "   4'th bandpower  5'th bandpower  6'th bandpower  7'th bandpower  \\\n",
       "0             0.0             0.0             0.0             0.0   \n",
       "1             0.0             0.0             0.0             0.0   \n",
       "2             0.0             0.0             0.0             0.0   \n",
       "3             0.0             0.0             0.0             0.0   \n",
       "4             0.0             0.0             0.0             0.0   \n",
       "\n",
       "   8'th bandpower  9'th bandpower  ...  19'th bandpower  20'th bandpower  \\\n",
       "0             0.0             0.0  ...         0.000081     4.314319e-05   \n",
       "1             0.0             0.0  ...         0.000022     7.999390e-06   \n",
       "2             0.0             0.0  ...         0.000003     7.626202e-07   \n",
       "3             0.0             0.0  ...         0.000066     2.285468e-05   \n",
       "4             0.0             0.0  ...         0.000021     7.980564e-06   \n",
       "\n",
       "   21'th bandpower  22'th bandpower  23'th bandpower  24'th bandpower  \\\n",
       "0     2.607201e-05     4.826993e-07     7.161647e-12     9.591161e-13   \n",
       "1     4.000056e-06     9.091320e-08     1.470541e-12     1.641139e-13   \n",
       "2     4.256699e-07     1.861822e-08     3.259654e-13     4.646452e-14   \n",
       "3     1.165733e-05     2.790481e-07     1.367030e-12     1.335981e-13   \n",
       "4     5.227058e-06     1.657116e-07     2.137529e-12     1.310473e-13   \n",
       "\n",
       "   25'th bandpower  26'th bandpower  27'th bandpower  28'th bandpower  \n",
       "0     2.275390e-13     4.909269e-14     1.148709e-14     1.453500e-15  \n",
       "1     3.558357e-14     7.311267e-15     1.686230e-15     2.192429e-16  \n",
       "2     1.131330e-14     2.450151e-15     5.753644e-16     7.046963e-17  \n",
       "3     2.888327e-14     5.880340e-15     1.348516e-15     1.782360e-16  \n",
       "4     2.296636e-14     4.272949e-15     9.378780e-16     1.163177e-16  \n",
       "\n",
       "[5 rows x 29 columns]"
      ]
     },
     "execution_count": 26,
     "metadata": {},
     "output_type": "execute_result"
    }
   ],
   "source": [
    "bandpower_df = pd.DataFrame(bp, columns = columns)\n",
    "bandpower_df.head()"
   ]
  },
  {
   "cell_type": "code",
   "execution_count": 27,
   "id": "2f3b067d",
   "metadata": {},
   "outputs": [],
   "source": [
    "df = pd.concat([max_df, min_df, bandpower_df], axis =1)"
   ]
  },
  {
   "cell_type": "code",
   "execution_count": 28,
   "id": "1670312d",
   "metadata": {},
   "outputs": [
    {
     "data": {
      "text/html": [
       "<div>\n",
       "<style scoped>\n",
       "    .dataframe tbody tr th:only-of-type {\n",
       "        vertical-align: middle;\n",
       "    }\n",
       "\n",
       "    .dataframe tbody tr th {\n",
       "        vertical-align: top;\n",
       "    }\n",
       "\n",
       "    .dataframe thead th {\n",
       "        text-align: right;\n",
       "    }\n",
       "</style>\n",
       "<table border=\"1\" class=\"dataframe\">\n",
       "  <thead>\n",
       "    <tr style=\"text-align: right;\">\n",
       "      <th></th>\n",
       "      <th>peak max</th>\n",
       "      <th>peak min</th>\n",
       "      <th>0'th bandpower</th>\n",
       "      <th>1'th bandpower</th>\n",
       "      <th>2'th bandpower</th>\n",
       "      <th>3'th bandpower</th>\n",
       "      <th>4'th bandpower</th>\n",
       "      <th>5'th bandpower</th>\n",
       "      <th>6'th bandpower</th>\n",
       "      <th>7'th bandpower</th>\n",
       "      <th>...</th>\n",
       "      <th>19'th bandpower</th>\n",
       "      <th>20'th bandpower</th>\n",
       "      <th>21'th bandpower</th>\n",
       "      <th>22'th bandpower</th>\n",
       "      <th>23'th bandpower</th>\n",
       "      <th>24'th bandpower</th>\n",
       "      <th>25'th bandpower</th>\n",
       "      <th>26'th bandpower</th>\n",
       "      <th>27'th bandpower</th>\n",
       "      <th>28'th bandpower</th>\n",
       "    </tr>\n",
       "  </thead>\n",
       "  <tbody>\n",
       "    <tr>\n",
       "      <th>0</th>\n",
       "      <td>0.055868</td>\n",
       "      <td>0.010308</td>\n",
       "      <td>0.0</td>\n",
       "      <td>0.0</td>\n",
       "      <td>0.0</td>\n",
       "      <td>0.0</td>\n",
       "      <td>0.0</td>\n",
       "      <td>0.0</td>\n",
       "      <td>0.0</td>\n",
       "      <td>0.0</td>\n",
       "      <td>...</td>\n",
       "      <td>0.000081</td>\n",
       "      <td>4.314319e-05</td>\n",
       "      <td>2.607201e-05</td>\n",
       "      <td>4.826993e-07</td>\n",
       "      <td>7.161647e-12</td>\n",
       "      <td>9.591161e-13</td>\n",
       "      <td>2.275390e-13</td>\n",
       "      <td>4.909269e-14</td>\n",
       "      <td>1.148709e-14</td>\n",
       "      <td>1.453500e-15</td>\n",
       "    </tr>\n",
       "    <tr>\n",
       "      <th>1</th>\n",
       "      <td>0.034192</td>\n",
       "      <td>0.010054</td>\n",
       "      <td>0.0</td>\n",
       "      <td>0.0</td>\n",
       "      <td>0.0</td>\n",
       "      <td>0.0</td>\n",
       "      <td>0.0</td>\n",
       "      <td>0.0</td>\n",
       "      <td>0.0</td>\n",
       "      <td>0.0</td>\n",
       "      <td>...</td>\n",
       "      <td>0.000022</td>\n",
       "      <td>7.999390e-06</td>\n",
       "      <td>4.000056e-06</td>\n",
       "      <td>9.091320e-08</td>\n",
       "      <td>1.470541e-12</td>\n",
       "      <td>1.641139e-13</td>\n",
       "      <td>3.558357e-14</td>\n",
       "      <td>7.311267e-15</td>\n",
       "      <td>1.686230e-15</td>\n",
       "      <td>2.192429e-16</td>\n",
       "    </tr>\n",
       "    <tr>\n",
       "      <th>2</th>\n",
       "      <td>0.027290</td>\n",
       "      <td>0.010231</td>\n",
       "      <td>0.0</td>\n",
       "      <td>0.0</td>\n",
       "      <td>0.0</td>\n",
       "      <td>0.0</td>\n",
       "      <td>0.0</td>\n",
       "      <td>0.0</td>\n",
       "      <td>0.0</td>\n",
       "      <td>0.0</td>\n",
       "      <td>...</td>\n",
       "      <td>0.000003</td>\n",
       "      <td>7.626202e-07</td>\n",
       "      <td>4.256699e-07</td>\n",
       "      <td>1.861822e-08</td>\n",
       "      <td>3.259654e-13</td>\n",
       "      <td>4.646452e-14</td>\n",
       "      <td>1.131330e-14</td>\n",
       "      <td>2.450151e-15</td>\n",
       "      <td>5.753644e-16</td>\n",
       "      <td>7.046963e-17</td>\n",
       "    </tr>\n",
       "    <tr>\n",
       "      <th>3</th>\n",
       "      <td>0.124638</td>\n",
       "      <td>0.010039</td>\n",
       "      <td>0.0</td>\n",
       "      <td>0.0</td>\n",
       "      <td>0.0</td>\n",
       "      <td>0.0</td>\n",
       "      <td>0.0</td>\n",
       "      <td>0.0</td>\n",
       "      <td>0.0</td>\n",
       "      <td>0.0</td>\n",
       "      <td>...</td>\n",
       "      <td>0.000066</td>\n",
       "      <td>2.285468e-05</td>\n",
       "      <td>1.165733e-05</td>\n",
       "      <td>2.790481e-07</td>\n",
       "      <td>1.367030e-12</td>\n",
       "      <td>1.335981e-13</td>\n",
       "      <td>2.888327e-14</td>\n",
       "      <td>5.880340e-15</td>\n",
       "      <td>1.348516e-15</td>\n",
       "      <td>1.782360e-16</td>\n",
       "    </tr>\n",
       "    <tr>\n",
       "      <th>4</th>\n",
       "      <td>0.021207</td>\n",
       "      <td>0.010005</td>\n",
       "      <td>0.0</td>\n",
       "      <td>0.0</td>\n",
       "      <td>0.0</td>\n",
       "      <td>0.0</td>\n",
       "      <td>0.0</td>\n",
       "      <td>0.0</td>\n",
       "      <td>0.0</td>\n",
       "      <td>0.0</td>\n",
       "      <td>...</td>\n",
       "      <td>0.000021</td>\n",
       "      <td>7.980564e-06</td>\n",
       "      <td>5.227058e-06</td>\n",
       "      <td>1.657116e-07</td>\n",
       "      <td>2.137529e-12</td>\n",
       "      <td>1.310473e-13</td>\n",
       "      <td>2.296636e-14</td>\n",
       "      <td>4.272949e-15</td>\n",
       "      <td>9.378780e-16</td>\n",
       "      <td>1.163177e-16</td>\n",
       "    </tr>\n",
       "    <tr>\n",
       "      <th>...</th>\n",
       "      <td>...</td>\n",
       "      <td>...</td>\n",
       "      <td>...</td>\n",
       "      <td>...</td>\n",
       "      <td>...</td>\n",
       "      <td>...</td>\n",
       "      <td>...</td>\n",
       "      <td>...</td>\n",
       "      <td>...</td>\n",
       "      <td>...</td>\n",
       "      <td>...</td>\n",
       "      <td>...</td>\n",
       "      <td>...</td>\n",
       "      <td>...</td>\n",
       "      <td>...</td>\n",
       "      <td>...</td>\n",
       "      <td>...</td>\n",
       "      <td>...</td>\n",
       "      <td>...</td>\n",
       "      <td>...</td>\n",
       "      <td>...</td>\n",
       "    </tr>\n",
       "    <tr>\n",
       "      <th>1075</th>\n",
       "      <td>0.018607</td>\n",
       "      <td>0.010332</td>\n",
       "      <td>0.0</td>\n",
       "      <td>0.0</td>\n",
       "      <td>0.0</td>\n",
       "      <td>0.0</td>\n",
       "      <td>0.0</td>\n",
       "      <td>0.0</td>\n",
       "      <td>0.0</td>\n",
       "      <td>0.0</td>\n",
       "      <td>...</td>\n",
       "      <td>0.000013</td>\n",
       "      <td>5.411143e-06</td>\n",
       "      <td>7.781188e-06</td>\n",
       "      <td>2.592973e-07</td>\n",
       "      <td>6.732163e-12</td>\n",
       "      <td>1.314991e-12</td>\n",
       "      <td>3.586548e-13</td>\n",
       "      <td>8.205695e-14</td>\n",
       "      <td>1.971666e-14</td>\n",
       "      <td>2.437808e-15</td>\n",
       "    </tr>\n",
       "    <tr>\n",
       "      <th>1076</th>\n",
       "      <td>0.017007</td>\n",
       "      <td>0.010864</td>\n",
       "      <td>0.0</td>\n",
       "      <td>0.0</td>\n",
       "      <td>0.0</td>\n",
       "      <td>0.0</td>\n",
       "      <td>0.0</td>\n",
       "      <td>0.0</td>\n",
       "      <td>0.0</td>\n",
       "      <td>0.0</td>\n",
       "      <td>...</td>\n",
       "      <td>0.000015</td>\n",
       "      <td>4.601926e-06</td>\n",
       "      <td>5.663994e-06</td>\n",
       "      <td>1.723638e-07</td>\n",
       "      <td>7.821695e-12</td>\n",
       "      <td>1.739824e-12</td>\n",
       "      <td>4.829019e-13</td>\n",
       "      <td>1.110520e-13</td>\n",
       "      <td>2.674298e-14</td>\n",
       "      <td>3.269505e-15</td>\n",
       "    </tr>\n",
       "    <tr>\n",
       "      <th>1077</th>\n",
       "      <td>0.016114</td>\n",
       "      <td>0.010119</td>\n",
       "      <td>0.0</td>\n",
       "      <td>0.0</td>\n",
       "      <td>0.0</td>\n",
       "      <td>0.0</td>\n",
       "      <td>0.0</td>\n",
       "      <td>0.0</td>\n",
       "      <td>0.0</td>\n",
       "      <td>0.0</td>\n",
       "      <td>...</td>\n",
       "      <td>0.000024</td>\n",
       "      <td>6.942433e-06</td>\n",
       "      <td>1.165994e-05</td>\n",
       "      <td>4.150836e-07</td>\n",
       "      <td>7.559350e-12</td>\n",
       "      <td>1.478006e-12</td>\n",
       "      <td>4.036579e-13</td>\n",
       "      <td>9.242863e-14</td>\n",
       "      <td>2.222887e-14</td>\n",
       "      <td>2.736582e-15</td>\n",
       "    </tr>\n",
       "    <tr>\n",
       "      <th>1078</th>\n",
       "      <td>0.015305</td>\n",
       "      <td>0.010153</td>\n",
       "      <td>0.0</td>\n",
       "      <td>0.0</td>\n",
       "      <td>0.0</td>\n",
       "      <td>0.0</td>\n",
       "      <td>0.0</td>\n",
       "      <td>0.0</td>\n",
       "      <td>0.0</td>\n",
       "      <td>0.0</td>\n",
       "      <td>...</td>\n",
       "      <td>0.000020</td>\n",
       "      <td>5.759639e-06</td>\n",
       "      <td>6.311046e-06</td>\n",
       "      <td>1.676661e-07</td>\n",
       "      <td>5.780628e-12</td>\n",
       "      <td>1.160940e-12</td>\n",
       "      <td>3.153936e-13</td>\n",
       "      <td>7.195662e-14</td>\n",
       "      <td>1.727794e-14</td>\n",
       "      <td>2.139523e-15</td>\n",
       "    </tr>\n",
       "    <tr>\n",
       "      <th>1079</th>\n",
       "      <td>0.020347</td>\n",
       "      <td>0.010061</td>\n",
       "      <td>0.0</td>\n",
       "      <td>0.0</td>\n",
       "      <td>0.0</td>\n",
       "      <td>0.0</td>\n",
       "      <td>0.0</td>\n",
       "      <td>0.0</td>\n",
       "      <td>0.0</td>\n",
       "      <td>0.0</td>\n",
       "      <td>...</td>\n",
       "      <td>0.000150</td>\n",
       "      <td>8.085277e-05</td>\n",
       "      <td>1.217641e-04</td>\n",
       "      <td>5.132450e-06</td>\n",
       "      <td>4.659642e-11</td>\n",
       "      <td>3.789368e-12</td>\n",
       "      <td>8.286441e-13</td>\n",
       "      <td>1.735855e-13</td>\n",
       "      <td>4.037539e-14</td>\n",
       "      <td>5.103111e-15</td>\n",
       "    </tr>\n",
       "  </tbody>\n",
       "</table>\n",
       "<p>1080 rows × 31 columns</p>\n",
       "</div>"
      ],
      "text/plain": [
       "      peak max  peak min  0'th bandpower  1'th bandpower  2'th bandpower  \\\n",
       "0     0.055868  0.010308             0.0             0.0             0.0   \n",
       "1     0.034192  0.010054             0.0             0.0             0.0   \n",
       "2     0.027290  0.010231             0.0             0.0             0.0   \n",
       "3     0.124638  0.010039             0.0             0.0             0.0   \n",
       "4     0.021207  0.010005             0.0             0.0             0.0   \n",
       "...        ...       ...             ...             ...             ...   \n",
       "1075  0.018607  0.010332             0.0             0.0             0.0   \n",
       "1076  0.017007  0.010864             0.0             0.0             0.0   \n",
       "1077  0.016114  0.010119             0.0             0.0             0.0   \n",
       "1078  0.015305  0.010153             0.0             0.0             0.0   \n",
       "1079  0.020347  0.010061             0.0             0.0             0.0   \n",
       "\n",
       "      3'th bandpower  4'th bandpower  5'th bandpower  6'th bandpower  \\\n",
       "0                0.0             0.0             0.0             0.0   \n",
       "1                0.0             0.0             0.0             0.0   \n",
       "2                0.0             0.0             0.0             0.0   \n",
       "3                0.0             0.0             0.0             0.0   \n",
       "4                0.0             0.0             0.0             0.0   \n",
       "...              ...             ...             ...             ...   \n",
       "1075             0.0             0.0             0.0             0.0   \n",
       "1076             0.0             0.0             0.0             0.0   \n",
       "1077             0.0             0.0             0.0             0.0   \n",
       "1078             0.0             0.0             0.0             0.0   \n",
       "1079             0.0             0.0             0.0             0.0   \n",
       "\n",
       "      7'th bandpower  ...  19'th bandpower  20'th bandpower  21'th bandpower  \\\n",
       "0                0.0  ...         0.000081     4.314319e-05     2.607201e-05   \n",
       "1                0.0  ...         0.000022     7.999390e-06     4.000056e-06   \n",
       "2                0.0  ...         0.000003     7.626202e-07     4.256699e-07   \n",
       "3                0.0  ...         0.000066     2.285468e-05     1.165733e-05   \n",
       "4                0.0  ...         0.000021     7.980564e-06     5.227058e-06   \n",
       "...              ...  ...              ...              ...              ...   \n",
       "1075             0.0  ...         0.000013     5.411143e-06     7.781188e-06   \n",
       "1076             0.0  ...         0.000015     4.601926e-06     5.663994e-06   \n",
       "1077             0.0  ...         0.000024     6.942433e-06     1.165994e-05   \n",
       "1078             0.0  ...         0.000020     5.759639e-06     6.311046e-06   \n",
       "1079             0.0  ...         0.000150     8.085277e-05     1.217641e-04   \n",
       "\n",
       "      22'th bandpower  23'th bandpower  24'th bandpower  25'th bandpower  \\\n",
       "0        4.826993e-07     7.161647e-12     9.591161e-13     2.275390e-13   \n",
       "1        9.091320e-08     1.470541e-12     1.641139e-13     3.558357e-14   \n",
       "2        1.861822e-08     3.259654e-13     4.646452e-14     1.131330e-14   \n",
       "3        2.790481e-07     1.367030e-12     1.335981e-13     2.888327e-14   \n",
       "4        1.657116e-07     2.137529e-12     1.310473e-13     2.296636e-14   \n",
       "...               ...              ...              ...              ...   \n",
       "1075     2.592973e-07     6.732163e-12     1.314991e-12     3.586548e-13   \n",
       "1076     1.723638e-07     7.821695e-12     1.739824e-12     4.829019e-13   \n",
       "1077     4.150836e-07     7.559350e-12     1.478006e-12     4.036579e-13   \n",
       "1078     1.676661e-07     5.780628e-12     1.160940e-12     3.153936e-13   \n",
       "1079     5.132450e-06     4.659642e-11     3.789368e-12     8.286441e-13   \n",
       "\n",
       "      26'th bandpower  27'th bandpower  28'th bandpower  \n",
       "0        4.909269e-14     1.148709e-14     1.453500e-15  \n",
       "1        7.311267e-15     1.686230e-15     2.192429e-16  \n",
       "2        2.450151e-15     5.753644e-16     7.046963e-17  \n",
       "3        5.880340e-15     1.348516e-15     1.782360e-16  \n",
       "4        4.272949e-15     9.378780e-16     1.163177e-16  \n",
       "...               ...              ...              ...  \n",
       "1075     8.205695e-14     1.971666e-14     2.437808e-15  \n",
       "1076     1.110520e-13     2.674298e-14     3.269505e-15  \n",
       "1077     9.242863e-14     2.222887e-14     2.736582e-15  \n",
       "1078     7.195662e-14     1.727794e-14     2.139523e-15  \n",
       "1079     1.735855e-13     4.037539e-14     5.103111e-15  \n",
       "\n",
       "[1080 rows x 31 columns]"
      ]
     },
     "execution_count": 28,
     "metadata": {},
     "output_type": "execute_result"
    }
   ],
   "source": [
    "df"
   ]
  },
  {
   "cell_type": "code",
   "execution_count": 29,
   "id": "6777e97a",
   "metadata": {},
   "outputs": [],
   "source": [
    "df.to_csv(\"/Users/ecem/Desktop/phonocardiogram/data/MV/present/MV-bandpower-and-peaks.csv\" )"
   ]
  },
  {
   "cell_type": "code",
   "execution_count": null,
   "id": "c9d1f7ef",
   "metadata": {},
   "outputs": [],
   "source": []
  },
  {
   "cell_type": "code",
   "execution_count": null,
   "id": "80c8f395",
   "metadata": {},
   "outputs": [],
   "source": []
  }
 ],
 "metadata": {
  "kernelspec": {
   "display_name": "Python 3 (ipykernel)",
   "language": "python",
   "name": "python3"
  },
  "language_info": {
   "codemirror_mode": {
    "name": "ipython",
    "version": 3
   },
   "file_extension": ".py",
   "mimetype": "text/x-python",
   "name": "python",
   "nbconvert_exporter": "python",
   "pygments_lexer": "ipython3",
   "version": "3.9.9"
  }
 },
 "nbformat": 4,
 "nbformat_minor": 5
}
