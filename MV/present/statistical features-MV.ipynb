{
 "cells": [
  {
   "cell_type": "markdown",
   "id": "6915c26f",
   "metadata": {},
   "source": [
    "In this notebook we are going to focus on features which will be derived from time domain characteristics."
   ]
  },
  {
   "cell_type": "code",
   "execution_count": 1,
   "id": "59ccfc96",
   "metadata": {},
   "outputs": [],
   "source": [
    "import numpy as np\n",
    "import math\n",
    "from scipy.signal import argrelextrema, find_peaks"
   ]
  },
  {
   "cell_type": "code",
   "execution_count": 2,
   "id": "81d60d8d",
   "metadata": {},
   "outputs": [],
   "source": [
    "path = \"/Users/ecem/Desktop/phonocardiogram/data/MV/present\""
   ]
  },
  {
   "cell_type": "code",
   "execution_count": 3,
   "id": "85ec7ba6",
   "metadata": {},
   "outputs": [],
   "source": [
    "waves = np.load(path + \"/present_MV_waves_10sec.npy\", allow_pickle= True)"
   ]
  },
  {
   "cell_type": "code",
   "execution_count": 4,
   "id": "1a655f7b",
   "metadata": {},
   "outputs": [
    {
     "data": {
      "text/plain": [
       "(1080, 40000)"
      ]
     },
     "execution_count": 4,
     "metadata": {},
     "output_type": "execute_result"
    }
   ],
   "source": [
    "waves.shape"
   ]
  },
  {
   "cell_type": "code",
   "execution_count": 5,
   "id": "d000e2d0",
   "metadata": {},
   "outputs": [],
   "source": [
    "num = 1080"
   ]
  },
  {
   "cell_type": "markdown",
   "id": "2f19ee82",
   "metadata": {},
   "source": [
    "## Mean:"
   ]
  },
  {
   "cell_type": "code",
   "execution_count": 6,
   "id": "d2002edf",
   "metadata": {},
   "outputs": [],
   "source": [
    "mean_ = np.zeros(num)"
   ]
  },
  {
   "cell_type": "code",
   "execution_count": 7,
   "id": "5e254fa6",
   "metadata": {},
   "outputs": [],
   "source": [
    "for i in range(waves.shape[0]):\n",
    "    mean_[i] = waves[i].mean()"
   ]
  },
  {
   "cell_type": "markdown",
   "id": "875615f2",
   "metadata": {},
   "source": [
    "## Standart deviation:"
   ]
  },
  {
   "cell_type": "code",
   "execution_count": 8,
   "id": "a8a2eee2",
   "metadata": {},
   "outputs": [],
   "source": [
    "std_ = np.zeros((num))\n",
    "for i in range(waves.shape[0]):\n",
    "    std_[i] = waves[i].std()"
   ]
  },
  {
   "cell_type": "markdown",
   "id": "3e70587f",
   "metadata": {},
   "source": [
    "## Skewness"
   ]
  },
  {
   "cell_type": "code",
   "execution_count": 9,
   "id": "ee9cdca0",
   "metadata": {},
   "outputs": [],
   "source": [
    "from scipy.stats import skew"
   ]
  },
  {
   "cell_type": "code",
   "execution_count": 10,
   "id": "1bd2a380",
   "metadata": {},
   "outputs": [],
   "source": [
    "skew_ = np.zeros((num))\n",
    "for i in range(waves.shape[0]):\n",
    "    skew_[i] = skew(waves[i])"
   ]
  },
  {
   "cell_type": "markdown",
   "id": "dfb3927f",
   "metadata": {},
   "source": [
    "## Kurtosis"
   ]
  },
  {
   "cell_type": "code",
   "execution_count": 11,
   "id": "4548b7be",
   "metadata": {},
   "outputs": [],
   "source": [
    "import scipy.stats"
   ]
  },
  {
   "cell_type": "code",
   "execution_count": 12,
   "id": "1ee3aeac",
   "metadata": {},
   "outputs": [],
   "source": [
    "kurt_ = np.zeros((num))\n",
    "for i in range(waves.shape[0]):\n",
    "    kurt_[i] =  scipy.stats.kurtosis(waves[i])"
   ]
  },
  {
   "cell_type": "markdown",
   "id": "7ab0b91b",
   "metadata": {},
   "source": [
    "## Harmonic Mean"
   ]
  },
  {
   "cell_type": "code",
   "execution_count": 13,
   "id": "fe3456f0",
   "metadata": {},
   "outputs": [],
   "source": [
    "harmonic_ = np.zeros((num))\n",
    "for i in range(waves.shape[0]):\n",
    "    harmonic_[i] =  scipy.stats.hmean(waves[i]* waves[i])"
   ]
  },
  {
   "cell_type": "markdown",
   "id": "d81c0900",
   "metadata": {},
   "source": [
    "## Autocorrelation"
   ]
  },
  {
   "cell_type": "code",
   "execution_count": 14,
   "id": "64a2207a",
   "metadata": {},
   "outputs": [],
   "source": [
    "from scipy import signal\n",
    "from scipy.signal import find_peaks"
   ]
  },
  {
   "cell_type": "code",
   "execution_count": 15,
   "id": "f843dc1d",
   "metadata": {},
   "outputs": [],
   "source": [
    "auto_corr = np.zeros((num, 79999))\n",
    "peaks_ = []\n",
    "for i in range(waves.shape[0]):\n",
    "    auto_corr[i,:] = signal.fftconvolve(waves[i], waves[i], mode='full')\n",
    "    peaks_.append(find_peaks(auto_corr[i], height = 0)[1][\"peak_heights\"].mean())\n",
    "    "
   ]
  },
  {
   "cell_type": "code",
   "execution_count": 16,
   "id": "1bc31ec8",
   "metadata": {},
   "outputs": [
    {
     "data": {
      "text/plain": [
       "(1080,)"
      ]
     },
     "execution_count": 16,
     "metadata": {},
     "output_type": "execute_result"
    }
   ],
   "source": [
    "peaks_ = np.array(peaks_)\n",
    "peaks_.shape"
   ]
  },
  {
   "cell_type": "markdown",
   "id": "9abaac2a",
   "metadata": {},
   "source": [
    "# Now lets create their dataframes"
   ]
  },
  {
   "cell_type": "code",
   "execution_count": 17,
   "id": "c7448931",
   "metadata": {},
   "outputs": [
    {
     "ename": "RuntimeError",
     "evalue": "module compiled against API version 0xe but this version of numpy is 0xd",
     "output_type": "error",
     "traceback": [
      "\u001b[0;31m---------------------------------------------------------------------------\u001b[0m",
      "\u001b[0;31mRuntimeError\u001b[0m                              Traceback (most recent call last)",
      "\u001b[0;31mRuntimeError\u001b[0m: module compiled against API version 0xe but this version of numpy is 0xd"
     ]
    }
   ],
   "source": [
    "import pandas as pd"
   ]
  },
  {
   "cell_type": "code",
   "execution_count": 18,
   "id": "987c5bf0",
   "metadata": {},
   "outputs": [
    {
     "data": {
      "text/html": [
       "<div>\n",
       "<style scoped>\n",
       "    .dataframe tbody tr th:only-of-type {\n",
       "        vertical-align: middle;\n",
       "    }\n",
       "\n",
       "    .dataframe tbody tr th {\n",
       "        vertical-align: top;\n",
       "    }\n",
       "\n",
       "    .dataframe thead th {\n",
       "        text-align: right;\n",
       "    }\n",
       "</style>\n",
       "<table border=\"1\" class=\"dataframe\">\n",
       "  <thead>\n",
       "    <tr style=\"text-align: right;\">\n",
       "      <th></th>\n",
       "      <th>mean</th>\n",
       "    </tr>\n",
       "  </thead>\n",
       "  <tbody>\n",
       "    <tr>\n",
       "      <th>0</th>\n",
       "      <td>-0.001512</td>\n",
       "    </tr>\n",
       "    <tr>\n",
       "      <th>1</th>\n",
       "      <td>-0.000412</td>\n",
       "    </tr>\n",
       "    <tr>\n",
       "      <th>2</th>\n",
       "      <td>0.000172</td>\n",
       "    </tr>\n",
       "    <tr>\n",
       "      <th>3</th>\n",
       "      <td>0.000048</td>\n",
       "    </tr>\n",
       "    <tr>\n",
       "      <th>4</th>\n",
       "      <td>0.000685</td>\n",
       "    </tr>\n",
       "  </tbody>\n",
       "</table>\n",
       "</div>"
      ],
      "text/plain": [
       "       mean\n",
       "0 -0.001512\n",
       "1 -0.000412\n",
       "2  0.000172\n",
       "3  0.000048\n",
       "4  0.000685"
      ]
     },
     "execution_count": 18,
     "metadata": {},
     "output_type": "execute_result"
    }
   ],
   "source": [
    "mean_df = pd.DataFrame(mean_, columns =[\"mean\"])\n",
    "mean_df.head()"
   ]
  },
  {
   "cell_type": "code",
   "execution_count": 19,
   "id": "a40b4e1e",
   "metadata": {},
   "outputs": [
    {
     "data": {
      "text/html": [
       "<div>\n",
       "<style scoped>\n",
       "    .dataframe tbody tr th:only-of-type {\n",
       "        vertical-align: middle;\n",
       "    }\n",
       "\n",
       "    .dataframe tbody tr th {\n",
       "        vertical-align: top;\n",
       "    }\n",
       "\n",
       "    .dataframe thead th {\n",
       "        text-align: right;\n",
       "    }\n",
       "</style>\n",
       "<table border=\"1\" class=\"dataframe\">\n",
       "  <thead>\n",
       "    <tr style=\"text-align: right;\">\n",
       "      <th></th>\n",
       "      <th>std</th>\n",
       "    </tr>\n",
       "  </thead>\n",
       "  <tbody>\n",
       "    <tr>\n",
       "      <th>0</th>\n",
       "      <td>0.059670</td>\n",
       "    </tr>\n",
       "    <tr>\n",
       "      <th>1</th>\n",
       "      <td>0.019801</td>\n",
       "    </tr>\n",
       "    <tr>\n",
       "      <th>2</th>\n",
       "      <td>0.011843</td>\n",
       "    </tr>\n",
       "    <tr>\n",
       "      <th>3</th>\n",
       "      <td>0.029366</td>\n",
       "    </tr>\n",
       "    <tr>\n",
       "      <th>4</th>\n",
       "      <td>0.015039</td>\n",
       "    </tr>\n",
       "  </tbody>\n",
       "</table>\n",
       "</div>"
      ],
      "text/plain": [
       "        std\n",
       "0  0.059670\n",
       "1  0.019801\n",
       "2  0.011843\n",
       "3  0.029366\n",
       "4  0.015039"
      ]
     },
     "execution_count": 19,
     "metadata": {},
     "output_type": "execute_result"
    }
   ],
   "source": [
    "std_df = pd.DataFrame(std_, columns =[\"std\"])\n",
    "std_df.head()"
   ]
  },
  {
   "cell_type": "code",
   "execution_count": 20,
   "id": "9b1a56d2",
   "metadata": {},
   "outputs": [
    {
     "data": {
      "text/html": [
       "<div>\n",
       "<style scoped>\n",
       "    .dataframe tbody tr th:only-of-type {\n",
       "        vertical-align: middle;\n",
       "    }\n",
       "\n",
       "    .dataframe tbody tr th {\n",
       "        vertical-align: top;\n",
       "    }\n",
       "\n",
       "    .dataframe thead th {\n",
       "        text-align: right;\n",
       "    }\n",
       "</style>\n",
       "<table border=\"1\" class=\"dataframe\">\n",
       "  <thead>\n",
       "    <tr style=\"text-align: right;\">\n",
       "      <th></th>\n",
       "      <th>kurtosis</th>\n",
       "    </tr>\n",
       "  </thead>\n",
       "  <tbody>\n",
       "    <tr>\n",
       "      <th>0</th>\n",
       "      <td>92.901332</td>\n",
       "    </tr>\n",
       "    <tr>\n",
       "      <th>1</th>\n",
       "      <td>15.586249</td>\n",
       "    </tr>\n",
       "    <tr>\n",
       "      <th>2</th>\n",
       "      <td>29.625304</td>\n",
       "    </tr>\n",
       "    <tr>\n",
       "      <th>3</th>\n",
       "      <td>385.096582</td>\n",
       "    </tr>\n",
       "    <tr>\n",
       "      <th>4</th>\n",
       "      <td>14.906036</td>\n",
       "    </tr>\n",
       "  </tbody>\n",
       "</table>\n",
       "</div>"
      ],
      "text/plain": [
       "     kurtosis\n",
       "0   92.901332\n",
       "1   15.586249\n",
       "2   29.625304\n",
       "3  385.096582\n",
       "4   14.906036"
      ]
     },
     "execution_count": 20,
     "metadata": {},
     "output_type": "execute_result"
    }
   ],
   "source": [
    "kurtosis_df = pd.DataFrame(kurt_, columns = [\"kurtosis\"])\n",
    "kurtosis_df.head()"
   ]
  },
  {
   "cell_type": "code",
   "execution_count": 21,
   "id": "dbbe04fe",
   "metadata": {},
   "outputs": [
    {
     "data": {
      "text/html": [
       "<div>\n",
       "<style scoped>\n",
       "    .dataframe tbody tr th:only-of-type {\n",
       "        vertical-align: middle;\n",
       "    }\n",
       "\n",
       "    .dataframe tbody tr th {\n",
       "        vertical-align: top;\n",
       "    }\n",
       "\n",
       "    .dataframe thead th {\n",
       "        text-align: right;\n",
       "    }\n",
       "</style>\n",
       "<table border=\"1\" class=\"dataframe\">\n",
       "  <thead>\n",
       "    <tr style=\"text-align: right;\">\n",
       "      <th></th>\n",
       "      <th>skewness</th>\n",
       "    </tr>\n",
       "  </thead>\n",
       "  <tbody>\n",
       "    <tr>\n",
       "      <th>0</th>\n",
       "      <td>0.751900</td>\n",
       "    </tr>\n",
       "    <tr>\n",
       "      <th>1</th>\n",
       "      <td>-0.659232</td>\n",
       "    </tr>\n",
       "    <tr>\n",
       "      <th>2</th>\n",
       "      <td>0.248045</td>\n",
       "    </tr>\n",
       "    <tr>\n",
       "      <th>3</th>\n",
       "      <td>4.424341</td>\n",
       "    </tr>\n",
       "    <tr>\n",
       "      <th>4</th>\n",
       "      <td>-1.157463</td>\n",
       "    </tr>\n",
       "  </tbody>\n",
       "</table>\n",
       "</div>"
      ],
      "text/plain": [
       "   skewness\n",
       "0  0.751900\n",
       "1 -0.659232\n",
       "2  0.248045\n",
       "3  4.424341\n",
       "4 -1.157463"
      ]
     },
     "execution_count": 21,
     "metadata": {},
     "output_type": "execute_result"
    }
   ],
   "source": [
    "skew_df = pd.DataFrame(skew_, columns =[\"skewness\"])\n",
    "skew_df.head()"
   ]
  },
  {
   "cell_type": "code",
   "execution_count": 22,
   "id": "36947e26",
   "metadata": {},
   "outputs": [
    {
     "data": {
      "text/html": [
       "<div>\n",
       "<style scoped>\n",
       "    .dataframe tbody tr th:only-of-type {\n",
       "        vertical-align: middle;\n",
       "    }\n",
       "\n",
       "    .dataframe tbody tr th {\n",
       "        vertical-align: top;\n",
       "    }\n",
       "\n",
       "    .dataframe thead th {\n",
       "        text-align: right;\n",
       "    }\n",
       "</style>\n",
       "<table border=\"1\" class=\"dataframe\">\n",
       "  <thead>\n",
       "    <tr style=\"text-align: right;\">\n",
       "      <th></th>\n",
       "      <th>harmonic mean</th>\n",
       "    </tr>\n",
       "  </thead>\n",
       "  <tbody>\n",
       "    <tr>\n",
       "      <th>0</th>\n",
       "      <td>1.627555e-10</td>\n",
       "    </tr>\n",
       "    <tr>\n",
       "      <th>1</th>\n",
       "      <td>3.339466e-11</td>\n",
       "    </tr>\n",
       "    <tr>\n",
       "      <th>2</th>\n",
       "      <td>4.229319e-10</td>\n",
       "    </tr>\n",
       "    <tr>\n",
       "      <th>3</th>\n",
       "      <td>7.171397e-11</td>\n",
       "    </tr>\n",
       "    <tr>\n",
       "      <th>4</th>\n",
       "      <td>1.454162e-09</td>\n",
       "    </tr>\n",
       "  </tbody>\n",
       "</table>\n",
       "</div>"
      ],
      "text/plain": [
       "   harmonic mean\n",
       "0   1.627555e-10\n",
       "1   3.339466e-11\n",
       "2   4.229319e-10\n",
       "3   7.171397e-11\n",
       "4   1.454162e-09"
      ]
     },
     "execution_count": 22,
     "metadata": {},
     "output_type": "execute_result"
    }
   ],
   "source": [
    "harmonic_df = pd.DataFrame(harmonic_, columns =[\"harmonic mean\"])\n",
    "harmonic_df.head()"
   ]
  },
  {
   "cell_type": "code",
   "execution_count": 23,
   "id": "7f19cd46",
   "metadata": {},
   "outputs": [
    {
     "data": {
      "text/html": [
       "<div>\n",
       "<style scoped>\n",
       "    .dataframe tbody tr th:only-of-type {\n",
       "        vertical-align: middle;\n",
       "    }\n",
       "\n",
       "    .dataframe tbody tr th {\n",
       "        vertical-align: top;\n",
       "    }\n",
       "\n",
       "    .dataframe thead th {\n",
       "        text-align: right;\n",
       "    }\n",
       "</style>\n",
       "<table border=\"1\" class=\"dataframe\">\n",
       "  <thead>\n",
       "    <tr style=\"text-align: right;\">\n",
       "      <th></th>\n",
       "      <th>ac peak height mean</th>\n",
       "    </tr>\n",
       "  </thead>\n",
       "  <tbody>\n",
       "    <tr>\n",
       "      <th>0</th>\n",
       "      <td>1.072669</td>\n",
       "    </tr>\n",
       "    <tr>\n",
       "      <th>1</th>\n",
       "      <td>0.277197</td>\n",
       "    </tr>\n",
       "    <tr>\n",
       "      <th>2</th>\n",
       "      <td>0.109943</td>\n",
       "    </tr>\n",
       "    <tr>\n",
       "      <th>3</th>\n",
       "      <td>0.353585</td>\n",
       "    </tr>\n",
       "    <tr>\n",
       "      <th>4</th>\n",
       "      <td>0.157553</td>\n",
       "    </tr>\n",
       "  </tbody>\n",
       "</table>\n",
       "</div>"
      ],
      "text/plain": [
       "   ac peak height mean\n",
       "0             1.072669\n",
       "1             0.277197\n",
       "2             0.109943\n",
       "3             0.353585\n",
       "4             0.157553"
      ]
     },
     "execution_count": 23,
     "metadata": {},
     "output_type": "execute_result"
    }
   ],
   "source": [
    "autocorr_peaks_df = pd.DataFrame(peaks_, columns =[\"ac peak height mean\"])\n",
    "autocorr_peaks_df.head()"
   ]
  },
  {
   "cell_type": "markdown",
   "id": "23ebe6af",
   "metadata": {},
   "source": [
    "## Now concatenate all features"
   ]
  },
  {
   "cell_type": "code",
   "execution_count": 24,
   "id": "b5e8494e",
   "metadata": {},
   "outputs": [],
   "source": [
    "df = pd.concat([mean_df, std_df, skew_df, kurtosis_df, harmonic_df, autocorr_peaks_df], axis =1)"
   ]
  },
  {
   "cell_type": "code",
   "execution_count": 25,
   "id": "451de005",
   "metadata": {},
   "outputs": [
    {
     "data": {
      "text/html": [
       "<div>\n",
       "<style scoped>\n",
       "    .dataframe tbody tr th:only-of-type {\n",
       "        vertical-align: middle;\n",
       "    }\n",
       "\n",
       "    .dataframe tbody tr th {\n",
       "        vertical-align: top;\n",
       "    }\n",
       "\n",
       "    .dataframe thead th {\n",
       "        text-align: right;\n",
       "    }\n",
       "</style>\n",
       "<table border=\"1\" class=\"dataframe\">\n",
       "  <thead>\n",
       "    <tr style=\"text-align: right;\">\n",
       "      <th></th>\n",
       "      <th>mean</th>\n",
       "      <th>std</th>\n",
       "      <th>skewness</th>\n",
       "      <th>kurtosis</th>\n",
       "      <th>harmonic mean</th>\n",
       "      <th>ac peak height mean</th>\n",
       "    </tr>\n",
       "  </thead>\n",
       "  <tbody>\n",
       "    <tr>\n",
       "      <th>0</th>\n",
       "      <td>-0.001512</td>\n",
       "      <td>0.059670</td>\n",
       "      <td>0.751900</td>\n",
       "      <td>92.901332</td>\n",
       "      <td>1.627555e-10</td>\n",
       "      <td>1.072669</td>\n",
       "    </tr>\n",
       "    <tr>\n",
       "      <th>1</th>\n",
       "      <td>-0.000412</td>\n",
       "      <td>0.019801</td>\n",
       "      <td>-0.659232</td>\n",
       "      <td>15.586249</td>\n",
       "      <td>3.339466e-11</td>\n",
       "      <td>0.277197</td>\n",
       "    </tr>\n",
       "    <tr>\n",
       "      <th>2</th>\n",
       "      <td>0.000172</td>\n",
       "      <td>0.011843</td>\n",
       "      <td>0.248045</td>\n",
       "      <td>29.625304</td>\n",
       "      <td>4.229319e-10</td>\n",
       "      <td>0.109943</td>\n",
       "    </tr>\n",
       "    <tr>\n",
       "      <th>3</th>\n",
       "      <td>0.000048</td>\n",
       "      <td>0.029366</td>\n",
       "      <td>4.424341</td>\n",
       "      <td>385.096582</td>\n",
       "      <td>7.171397e-11</td>\n",
       "      <td>0.353585</td>\n",
       "    </tr>\n",
       "    <tr>\n",
       "      <th>4</th>\n",
       "      <td>0.000685</td>\n",
       "      <td>0.015039</td>\n",
       "      <td>-1.157463</td>\n",
       "      <td>14.906036</td>\n",
       "      <td>1.454162e-09</td>\n",
       "      <td>0.157553</td>\n",
       "    </tr>\n",
       "    <tr>\n",
       "      <th>...</th>\n",
       "      <td>...</td>\n",
       "      <td>...</td>\n",
       "      <td>...</td>\n",
       "      <td>...</td>\n",
       "      <td>...</td>\n",
       "      <td>...</td>\n",
       "    </tr>\n",
       "    <tr>\n",
       "      <th>1075</th>\n",
       "      <td>-0.000493</td>\n",
       "      <td>0.084828</td>\n",
       "      <td>-0.227853</td>\n",
       "      <td>3.791500</td>\n",
       "      <td>4.501717e-10</td>\n",
       "      <td>12.322025</td>\n",
       "    </tr>\n",
       "    <tr>\n",
       "      <th>1076</th>\n",
       "      <td>-0.000356</td>\n",
       "      <td>0.082798</td>\n",
       "      <td>-0.004227</td>\n",
       "      <td>3.171172</td>\n",
       "      <td>2.295126e-09</td>\n",
       "      <td>10.250002</td>\n",
       "    </tr>\n",
       "    <tr>\n",
       "      <th>1077</th>\n",
       "      <td>-0.000629</td>\n",
       "      <td>0.082643</td>\n",
       "      <td>-0.107542</td>\n",
       "      <td>3.280987</td>\n",
       "      <td>1.091081e-10</td>\n",
       "      <td>9.873036</td>\n",
       "    </tr>\n",
       "    <tr>\n",
       "      <th>1078</th>\n",
       "      <td>0.000074</td>\n",
       "      <td>0.082421</td>\n",
       "      <td>-0.107801</td>\n",
       "      <td>3.698629</td>\n",
       "      <td>4.424084e-08</td>\n",
       "      <td>10.836644</td>\n",
       "    </tr>\n",
       "    <tr>\n",
       "      <th>1079</th>\n",
       "      <td>-0.000294</td>\n",
       "      <td>0.101420</td>\n",
       "      <td>0.403583</td>\n",
       "      <td>14.930259</td>\n",
       "      <td>0.000000e+00</td>\n",
       "      <td>13.525428</td>\n",
       "    </tr>\n",
       "  </tbody>\n",
       "</table>\n",
       "<p>1080 rows × 6 columns</p>\n",
       "</div>"
      ],
      "text/plain": [
       "          mean       std  skewness    kurtosis  harmonic mean  \\\n",
       "0    -0.001512  0.059670  0.751900   92.901332   1.627555e-10   \n",
       "1    -0.000412  0.019801 -0.659232   15.586249   3.339466e-11   \n",
       "2     0.000172  0.011843  0.248045   29.625304   4.229319e-10   \n",
       "3     0.000048  0.029366  4.424341  385.096582   7.171397e-11   \n",
       "4     0.000685  0.015039 -1.157463   14.906036   1.454162e-09   \n",
       "...        ...       ...       ...         ...            ...   \n",
       "1075 -0.000493  0.084828 -0.227853    3.791500   4.501717e-10   \n",
       "1076 -0.000356  0.082798 -0.004227    3.171172   2.295126e-09   \n",
       "1077 -0.000629  0.082643 -0.107542    3.280987   1.091081e-10   \n",
       "1078  0.000074  0.082421 -0.107801    3.698629   4.424084e-08   \n",
       "1079 -0.000294  0.101420  0.403583   14.930259   0.000000e+00   \n",
       "\n",
       "      ac peak height mean  \n",
       "0                1.072669  \n",
       "1                0.277197  \n",
       "2                0.109943  \n",
       "3                0.353585  \n",
       "4                0.157553  \n",
       "...                   ...  \n",
       "1075            12.322025  \n",
       "1076            10.250002  \n",
       "1077             9.873036  \n",
       "1078            10.836644  \n",
       "1079            13.525428  \n",
       "\n",
       "[1080 rows x 6 columns]"
      ]
     },
     "execution_count": 25,
     "metadata": {},
     "output_type": "execute_result"
    }
   ],
   "source": [
    "df"
   ]
  },
  {
   "cell_type": "code",
   "execution_count": 26,
   "id": "ded988a4",
   "metadata": {},
   "outputs": [],
   "source": [
    "df.to_csv(\"/Users/ecem/Desktop/phonocardiogram/data/MV/present/MV-statistical-features.csv\" )"
   ]
  },
  {
   "cell_type": "code",
   "execution_count": null,
   "id": "59e11497",
   "metadata": {},
   "outputs": [],
   "source": []
  }
 ],
 "metadata": {
  "kernelspec": {
   "display_name": "Python 3 (ipykernel)",
   "language": "python",
   "name": "python3"
  },
  "language_info": {
   "codemirror_mode": {
    "name": "ipython",
    "version": 3
   },
   "file_extension": ".py",
   "mimetype": "text/x-python",
   "name": "python",
   "nbconvert_exporter": "python",
   "pygments_lexer": "ipython3",
   "version": "3.9.9"
  }
 },
 "nbformat": 4,
 "nbformat_minor": 5
}
