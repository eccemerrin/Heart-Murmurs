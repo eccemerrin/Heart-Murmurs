{
 "cells": [
  {
   "cell_type": "markdown",
   "id": "9738d69c",
   "metadata": {},
   "source": [
    "### Imports"
   ]
  },
  {
   "cell_type": "code",
   "execution_count": 1,
   "id": "dc7b749c",
   "metadata": {},
   "outputs": [],
   "source": [
    "import warnings\n",
    "warnings.filterwarnings(\"ignore\")"
   ]
  },
  {
   "cell_type": "code",
   "execution_count": 2,
   "id": "749d0c72",
   "metadata": {},
   "outputs": [],
   "source": [
    "#imports\n",
    "import scipy.io\n",
    "import os\n",
    "import pandas\n",
    "import numpy as np\n",
    "import matplotlib.pyplot as plt\n",
    "import matplotlib.pylab as pl\n",
    "import matplotlib.gridspec as gridspec\n",
    "import obspy\n",
    "import pywt\n",
    "import pywt.data"
   ]
  },
  {
   "cell_type": "markdown",
   "id": "2bc54617",
   "metadata": {},
   "source": [
    "### Load the trimmed data "
   ]
  },
  {
   "cell_type": "code",
   "execution_count": 3,
   "id": "cd387f07",
   "metadata": {},
   "outputs": [],
   "source": [
    "path = \"/Users/ecem/Desktop/phonocardiogram/data/MV/absent\"\n",
    "path_w = \"/Users/ecem/Desktop/phonocardiogram/data/MV/absent/wavelet\"\n",
    "waves = np.load(path + \"/absent_MV_waves_10sec.npy\", allow_pickle= True)"
   ]
  },
  {
   "cell_type": "code",
   "execution_count": 4,
   "id": "2a96529d",
   "metadata": {},
   "outputs": [],
   "source": [
    "n= waves.shape[0]"
   ]
  },
  {
   "cell_type": "code",
   "execution_count": 5,
   "id": "d110333c",
   "metadata": {},
   "outputs": [
    {
     "data": {
      "text/plain": [
       "5534"
      ]
     },
     "execution_count": 5,
     "metadata": {},
     "output_type": "execute_result"
    }
   ],
   "source": [
    "n"
   ]
  },
  {
   "cell_type": "markdown",
   "id": "c0d9b74d",
   "metadata": {},
   "source": [
    "## Let's look at wavelet decomposition for a signal piece"
   ]
  },
  {
   "cell_type": "markdown",
   "id": "f8c7f06d",
   "metadata": {},
   "source": [
    "#### how our decomposition filter values look like"
   ]
  },
  {
   "cell_type": "code",
   "execution_count": 6,
   "id": "556de875",
   "metadata": {},
   "outputs": [
    {
     "data": {
      "image/png": "[encoded data removed]",
      "text/plain": [
       "<Figure size 432x288 with 1 Axes>"
      ]
     },
     "metadata": {
      "needs_background": "light"
     },
     "output_type": "display_data"
    }
   ],
   "source": [
    "w = pywt.Wavelet('db8')\n",
    "plt.plot(w.dec_lo)\n",
    "coeffs = pywt.wavedec(waves[0], w, level=6)"
   ]
  },
  {
   "cell_type": "code",
   "execution_count": 7,
   "id": "95ab5a75",
   "metadata": {},
   "outputs": [],
   "source": [
    "import pandas as pd"
   ]
  },
  {
   "cell_type": "code",
   "execution_count": 8,
   "id": "cb801cab",
   "metadata": {},
   "outputs": [],
   "source": [
    "coef = []\n",
    "for i in range(len(waves)):\n",
    "    coef.append(pywt.wavedec(waves[i], w, level=5))"
   ]
  },
  {
   "cell_type": "code",
   "execution_count": 9,
   "id": "772ae19a",
   "metadata": {},
   "outputs": [
    {
     "name": "stdout",
     "output_type": "stream",
     "text": [
      "(1264,)\n",
      "(1264,)\n",
      "(2514,)\n",
      "(5013,)\n",
      "(10011,)\n",
      "(20007,)\n"
     ]
    }
   ],
   "source": [
    "for i in range(6):\n",
    "    print(coef[0][i].shape)"
   ]
  },
  {
   "cell_type": "markdown",
   "id": "37f4e1b1",
   "metadata": {},
   "source": [
    "### Level by level"
   ]
  },
  {
   "cell_type": "code",
   "execution_count": 10,
   "id": "95d28b26",
   "metadata": {},
   "outputs": [],
   "source": [
    "def level_coef_extractor_3d(array, lvl = 0):\n",
    "    array =np.array(array)\n",
    "    \n",
    "    lenn = array[0][lvl].shape[0] #48\n",
    "    coef = np.ones(shape = (array.shape[0],lenn)) #2392,48\n",
    "    \n",
    "    for i in range(array.shape[0]):\n",
    "        coef[i,:] = array[i][lvl]\n",
    "        \n",
    "    return coef"
   ]
  },
  {
   "cell_type": "code",
   "execution_count": 11,
   "id": "4e06553b",
   "metadata": {},
   "outputs": [],
   "source": [
    "def saver(array = 0, lvl = 0, dir_path = None, name = 'blank'):\n",
    "    coefs = level_coef_extractor_3d(array, lvl)\n",
    "    np.save(dir_path + \"/\"+ str(name) + \"_lvl_\"  + str(lvl), coefs, allow_pickle = True)\n",
    "    del coefs"
   ]
  },
  {
   "cell_type": "code",
   "execution_count": 13,
   "id": "0e5c5c82",
   "metadata": {},
   "outputs": [],
   "source": [
    "for i in range(6):\n",
    "    saver(coef, i, path_w, 'absent_MV_wavelet_coef_5')\n"
   ]
  },
  {
   "cell_type": "markdown",
   "id": "5100e20b",
   "metadata": {},
   "source": [
    "## Shannon entropy\n",
    "\n",
    "The core idea of information theory is that the \"informational value\" of a communicated message depends on the degree to which the content of the message is surprising. \n",
    "\n",
    "If a highly likely event occurs, the message carries very little new information. On the other hand, if a highly unlikely event occurs, the message is much more informative. For instance, the knowledge that some particular number will not be the winning number of a lottery provides very little information, because any particular chosen number will almost certainly not win. \n",
    "\n",
    "However, knowledge that a particular number will win a lottery has high informational value because it communicates the outcome of a very low probability event.\n",
    "\n",
    "There is therefore an inverse relationship between information and the probability of occurrence\n",
    "\n",
    "Remember that Shannon Entropy works on sequences (or probability distribution built from sequences) therefore, you need to have an historic already built up of what your sequence of interest looks like."
   ]
  },
  {
   "cell_type": "code",
   "execution_count": 14,
   "id": "a98ce1f7",
   "metadata": {},
   "outputs": [],
   "source": [
    "import scipy.stats"
   ]
  },
  {
   "cell_type": "code",
   "execution_count": 15,
   "id": "3eb3ae92",
   "metadata": {},
   "outputs": [
    {
     "data": {
      "text/plain": [
       "[<matplotlib.lines.Line2D at 0x2c75f7fd0>]"
      ]
     },
     "execution_count": 15,
     "metadata": {},
     "output_type": "execute_result"
    },
    {
     "data": {
      "image/png": "[encoded data removed]",
      "text/plain": [
       "<Figure size 432x288 with 1 Axes>"
      ]
     },
     "metadata": {
      "needs_background": "light"
     },
     "output_type": "display_data"
    }
   ],
   "source": [
    "plt.plot(coef[0][0])"
   ]
  },
  {
   "cell_type": "code",
   "execution_count": 16,
   "id": "b367b7ac",
   "metadata": {},
   "outputs": [],
   "source": [
    "def scale(data): #1264\n",
    "    maxx = data.max()\n",
    "    minn = data.min()\n",
    "    \n",
    "    diff = maxx - minn\n",
    "    scaled = np.empty((data.shape[0]))\n",
    "    \n",
    "    for i in range(data.shape[0]):\n",
    "        scaled[i] = (data[i] - minn )/ diff\n",
    "    return scaled"
   ]
  },
  {
   "cell_type": "code",
   "execution_count": 17,
   "id": "658a7621",
   "metadata": {},
   "outputs": [
    {
     "data": {
      "text/plain": [
       "1264"
      ]
     },
     "execution_count": 17,
     "metadata": {},
     "output_type": "execute_result"
    }
   ],
   "source": [
    "len(coef[0][0]) #1245,6,1264"
   ]
  },
  {
   "cell_type": "code",
   "execution_count": 18,
   "id": "68d963f9",
   "metadata": {},
   "outputs": [],
   "source": [
    "def scaled_wavelet(array, lvl = 6):\n",
    "    all_wavelets = []\n",
    "    \n",
    "    for i in range(lvl):\n",
    "        lenn = array[0][i].shape[0] #level uzunluğu alıyor\n",
    "        scaled_lvl = np.empty((array.shape[0], lenn)) # 1245, level uzunluğu kadar array oluşturuyor\n",
    "        \n",
    "        for j in range(array.shape[0]): #1245\n",
    "            scaled_lvl[j,:] = scale(coef[j][i])  \n",
    "            \n",
    "        all_wavelets.append(scaled_lvl)\n",
    "    return all_wavelets"
   ]
  },
  {
   "cell_type": "code",
   "execution_count": 19,
   "id": "428dd9ee",
   "metadata": {},
   "outputs": [],
   "source": [
    "coef = np.array(coef)\n",
    "wavelets = scaled_wavelet(coef)"
   ]
  },
  {
   "cell_type": "code",
   "execution_count": 20,
   "id": "ab122a96",
   "metadata": {},
   "outputs": [
    {
     "data": {
      "text/plain": [
       "1264"
      ]
     },
     "execution_count": 20,
     "metadata": {},
     "output_type": "execute_result"
    }
   ],
   "source": [
    "len(wavelets[0][0]) # 6, 1245, 1264"
   ]
  },
  {
   "cell_type": "code",
   "execution_count": 21,
   "id": "2d578c40",
   "metadata": {},
   "outputs": [
    {
     "data": {
      "text/plain": [
       "[<matplotlib.lines.Line2D at 0x2c77f5460>]"
      ]
     },
     "execution_count": 21,
     "metadata": {},
     "output_type": "execute_result"
    },
    {
     "data": {
      "image/png": "[encoded data removed]",
      "text/plain": [
       "<Figure size 432x288 with 1 Axes>"
      ]
     },
     "metadata": {
      "needs_background": "light"
     },
     "output_type": "display_data"
    }
   ],
   "source": [
    "plt.plot(wavelets[0][0])"
   ]
  },
  {
   "cell_type": "code",
   "execution_count": 22,
   "id": "a59da63b",
   "metadata": {},
   "outputs": [],
   "source": [
    "ent = np.empty((n, 6))\n",
    "for j in range(6):\n",
    "    for i in range(n):#1245\n",
    "        ent[i, j] = scipy.stats.entropy(wavelets[j][i])"
   ]
  },
  {
   "cell_type": "code",
   "execution_count": 23,
   "id": "6e0ae512",
   "metadata": {},
   "outputs": [
    {
     "data": {
      "text/plain": [
       "array([[7.12960341, 7.13203209, 7.82676477, 8.51577222, 9.20835069,\n",
       "        9.90350362],\n",
       "       [7.13449696, 7.13478414, 7.82469709, 8.51505299, 9.2077252 ,\n",
       "        9.90369428],\n",
       "       [7.13460433, 7.13603974, 7.82766897, 8.51852774, 9.21070285,\n",
       "        9.90372211],\n",
       "       ...,\n",
       "       [7.1386901 , 7.13669993, 7.82103407, 8.50817978, 9.19836731,\n",
       "        9.90368996],\n",
       "       [7.13219103, 7.13570342, 7.81307559, 8.49932537, 9.17848719,\n",
       "        9.90373732],\n",
       "       [7.13840475, 7.13826648, 7.82819688, 8.51875574, 9.21037506,\n",
       "        9.90368983]])"
      ]
     },
     "execution_count": 23,
     "metadata": {},
     "output_type": "execute_result"
    }
   ],
   "source": [
    "ent"
   ]
  },
  {
   "cell_type": "code",
   "execution_count": 24,
   "id": "6f68353c",
   "metadata": {},
   "outputs": [
    {
     "data": {
      "text/html": [
       "<div>\n",
       "<style scoped>\n",
       "    .dataframe tbody tr th:only-of-type {\n",
       "        vertical-align: middle;\n",
       "    }\n",
       "\n",
       "    .dataframe tbody tr th {\n",
       "        vertical-align: top;\n",
       "    }\n",
       "\n",
       "    .dataframe thead th {\n",
       "        text-align: right;\n",
       "    }\n",
       "</style>\n",
       "<table border=\"1\" class=\"dataframe\">\n",
       "  <thead>\n",
       "    <tr style=\"text-align: right;\">\n",
       "      <th></th>\n",
       "      <th>approx</th>\n",
       "      <th>lvl5</th>\n",
       "      <th>lvl4</th>\n",
       "      <th>lvl3</th>\n",
       "      <th>lvl2</th>\n",
       "      <th>lvl1</th>\n",
       "    </tr>\n",
       "  </thead>\n",
       "  <tbody>\n",
       "    <tr>\n",
       "      <th>0</th>\n",
       "      <td>7.129603</td>\n",
       "      <td>7.132032</td>\n",
       "      <td>7.826765</td>\n",
       "      <td>8.515772</td>\n",
       "      <td>9.208351</td>\n",
       "      <td>9.903504</td>\n",
       "    </tr>\n",
       "    <tr>\n",
       "      <th>1</th>\n",
       "      <td>7.134497</td>\n",
       "      <td>7.134784</td>\n",
       "      <td>7.824697</td>\n",
       "      <td>8.515053</td>\n",
       "      <td>9.207725</td>\n",
       "      <td>9.903694</td>\n",
       "    </tr>\n",
       "    <tr>\n",
       "      <th>2</th>\n",
       "      <td>7.134604</td>\n",
       "      <td>7.136040</td>\n",
       "      <td>7.827669</td>\n",
       "      <td>8.518528</td>\n",
       "      <td>9.210703</td>\n",
       "      <td>9.903722</td>\n",
       "    </tr>\n",
       "    <tr>\n",
       "      <th>3</th>\n",
       "      <td>7.132331</td>\n",
       "      <td>7.126694</td>\n",
       "      <td>7.827230</td>\n",
       "      <td>8.512377</td>\n",
       "      <td>9.205573</td>\n",
       "      <td>9.903753</td>\n",
       "    </tr>\n",
       "    <tr>\n",
       "      <th>4</th>\n",
       "      <td>7.130419</td>\n",
       "      <td>7.132550</td>\n",
       "      <td>7.824321</td>\n",
       "      <td>8.514433</td>\n",
       "      <td>9.207611</td>\n",
       "      <td>9.903617</td>\n",
       "    </tr>\n",
       "    <tr>\n",
       "      <th>...</th>\n",
       "      <td>...</td>\n",
       "      <td>...</td>\n",
       "      <td>...</td>\n",
       "      <td>...</td>\n",
       "      <td>...</td>\n",
       "      <td>...</td>\n",
       "    </tr>\n",
       "    <tr>\n",
       "      <th>5529</th>\n",
       "      <td>7.136390</td>\n",
       "      <td>7.138465</td>\n",
       "      <td>7.798155</td>\n",
       "      <td>8.500382</td>\n",
       "      <td>9.202866</td>\n",
       "      <td>9.903716</td>\n",
       "    </tr>\n",
       "    <tr>\n",
       "      <th>5530</th>\n",
       "      <td>7.135462</td>\n",
       "      <td>7.138962</td>\n",
       "      <td>7.819972</td>\n",
       "      <td>8.500667</td>\n",
       "      <td>9.208067</td>\n",
       "      <td>9.903703</td>\n",
       "    </tr>\n",
       "    <tr>\n",
       "      <th>5531</th>\n",
       "      <td>7.138690</td>\n",
       "      <td>7.136700</td>\n",
       "      <td>7.821034</td>\n",
       "      <td>8.508180</td>\n",
       "      <td>9.198367</td>\n",
       "      <td>9.903690</td>\n",
       "    </tr>\n",
       "    <tr>\n",
       "      <th>5532</th>\n",
       "      <td>7.132191</td>\n",
       "      <td>7.135703</td>\n",
       "      <td>7.813076</td>\n",
       "      <td>8.499325</td>\n",
       "      <td>9.178487</td>\n",
       "      <td>9.903737</td>\n",
       "    </tr>\n",
       "    <tr>\n",
       "      <th>5533</th>\n",
       "      <td>7.138405</td>\n",
       "      <td>7.138266</td>\n",
       "      <td>7.828197</td>\n",
       "      <td>8.518756</td>\n",
       "      <td>9.210375</td>\n",
       "      <td>9.903690</td>\n",
       "    </tr>\n",
       "  </tbody>\n",
       "</table>\n",
       "<p>5534 rows × 6 columns</p>\n",
       "</div>"
      ],
      "text/plain": [
       "        approx      lvl5      lvl4      lvl3      lvl2      lvl1\n",
       "0     7.129603  7.132032  7.826765  8.515772  9.208351  9.903504\n",
       "1     7.134497  7.134784  7.824697  8.515053  9.207725  9.903694\n",
       "2     7.134604  7.136040  7.827669  8.518528  9.210703  9.903722\n",
       "3     7.132331  7.126694  7.827230  8.512377  9.205573  9.903753\n",
       "4     7.130419  7.132550  7.824321  8.514433  9.207611  9.903617\n",
       "...        ...       ...       ...       ...       ...       ...\n",
       "5529  7.136390  7.138465  7.798155  8.500382  9.202866  9.903716\n",
       "5530  7.135462  7.138962  7.819972  8.500667  9.208067  9.903703\n",
       "5531  7.138690  7.136700  7.821034  8.508180  9.198367  9.903690\n",
       "5532  7.132191  7.135703  7.813076  8.499325  9.178487  9.903737\n",
       "5533  7.138405  7.138266  7.828197  8.518756  9.210375  9.903690\n",
       "\n",
       "[5534 rows x 6 columns]"
      ]
     },
     "execution_count": 24,
     "metadata": {},
     "output_type": "execute_result"
    }
   ],
   "source": [
    "ent_df = pd.DataFrame(ent, columns = [\"approx\",\"lvl5\", \"lvl4\", \"lvl3\", \"lvl2\", \"lvl1\"])\n",
    "ent_df"
   ]
  },
  {
   "cell_type": "code",
   "execution_count": 25,
   "id": "ce41bdef",
   "metadata": {},
   "outputs": [],
   "source": [
    "ent_df.to_csv(path_w + \"shannon_entropy_MV.csv\")"
   ]
  },
  {
   "cell_type": "code",
   "execution_count": null,
   "id": "644886e4",
   "metadata": {},
   "outputs": [],
   "source": []
  }
 ],
 "metadata": {
  "kernelspec": {
   "display_name": "Python 3 (ipykernel)",
   "language": "python",
   "name": "python3"
  },
  "language_info": {
   "codemirror_mode": {
    "name": "ipython",
    "version": 3
   },
   "file_extension": ".py",
   "mimetype": "text/x-python",
   "name": "python",
   "nbconvert_exporter": "python",
   "pygments_lexer": "ipython3",
   "version": "3.9.9"
  }
 },
 "nbformat": 4,
 "nbformat_minor": 5
}
