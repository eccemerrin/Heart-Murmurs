{
 "cells": [
  {
   "cell_type": "markdown",
   "id": "a10707b4",
   "metadata": {},
   "source": [
    "## Imports:"
   ]
  },
  {
   "cell_type": "code",
   "execution_count": 1,
   "id": "5b0b2dcc",
   "metadata": {},
   "outputs": [
    {
     "ename": "RuntimeError",
     "evalue": "module compiled against API version 0xe but this version of numpy is 0xd",
     "output_type": "error",
     "traceback": [
      "\u001b[0;31m---------------------------------------------------------------------------\u001b[0m",
      "\u001b[0;31mRuntimeError\u001b[0m                              Traceback (most recent call last)",
      "\u001b[0;31mRuntimeError\u001b[0m: module compiled against API version 0xe but this version of numpy is 0xd"
     ]
    }
   ],
   "source": [
    "import scipy.io\n",
    "import os\n",
    "import pandas\n",
    "import numpy as np\n",
    "import matplotlib.pyplot as plt\n",
    "import matplotlib.pylab as plt_lab\n",
    "import matplotlib.gridspec as gridspec\n",
    "import obspy\n",
    "import pandas as pd"
   ]
  },
  {
   "cell_type": "code",
   "execution_count": 2,
   "id": "995724bf",
   "metadata": {},
   "outputs": [],
   "source": [
    "import warnings\n",
    "warnings.filterwarnings('ignore')"
   ]
  },
  {
   "cell_type": "markdown",
   "id": "41b4c77f",
   "metadata": {},
   "source": [
    "## Load data:\n",
    "We are going to use this data to plot spectograms of SCG signals. "
   ]
  },
  {
   "cell_type": "code",
   "execution_count": 3,
   "id": "75a415fd",
   "metadata": {},
   "outputs": [],
   "source": [
    "path = \"/Users/ecem/Desktop/phonocardiogram/data/MV/absent\""
   ]
  },
  {
   "cell_type": "code",
   "execution_count": 4,
   "id": "cff5b561",
   "metadata": {},
   "outputs": [],
   "source": [
    "waves = np.load(path + \"/absent_MV_waves_10sec.npy\", allow_pickle= True)\n"
   ]
  },
  {
   "cell_type": "code",
   "execution_count": 5,
   "id": "557b6190",
   "metadata": {},
   "outputs": [
    {
     "name": "stdout",
     "output_type": "stream",
     "text": [
      "(5534, 40000)\n"
     ]
    }
   ],
   "source": [
    "print(waves.shape)\n"
   ]
  },
  {
   "cell_type": "markdown",
   "id": "1b2a6059",
   "metadata": {},
   "source": [
    "## Zero Crossing Rate:\n",
    "Compute the zero-crossing rate of an audio time series.\n",
    "The zero-crossing rate (ZCR) is the rate at which a signal changes from positive to zero to negative or from negative to zero to positive."
   ]
  },
  {
   "cell_type": "code",
   "execution_count": 6,
   "id": "7c9b734f",
   "metadata": {},
   "outputs": [],
   "source": [
    "import librosa as lbs"
   ]
  },
  {
   "cell_type": "code",
   "execution_count": 7,
   "id": "23a0bede",
   "metadata": {},
   "outputs": [
    {
     "data": {
      "text/plain": [
       "array([[0.020625, 0.0505  , 0.039125, 0.048375]])"
      ]
     },
     "execution_count": 7,
     "metadata": {},
     "output_type": "execute_result"
    }
   ],
   "source": [
    "lbs.feature.zero_crossing_rate(waves[7],frame_length= 8000, hop_length = 12000)"
   ]
  },
  {
   "cell_type": "code",
   "execution_count": 8,
   "id": "b2a61800",
   "metadata": {},
   "outputs": [
    {
     "data": {
      "text/plain": [
       "(1, 4)"
      ]
     },
     "execution_count": 8,
     "metadata": {},
     "output_type": "execute_result"
    }
   ],
   "source": [
    "lbs.feature.zero_crossing_rate(waves[7], frame_length= 8000, hop_length = 12000).shape"
   ]
  },
  {
   "cell_type": "code",
   "execution_count": 9,
   "id": "cc79deea",
   "metadata": {},
   "outputs": [],
   "source": [
    "def zero_crossing(array, frame_length= 2048, hl = 512):\n",
    "    zero_crossing_rate = np.ones(shape = (array.shape[0], 5)) #buradaki ikinci sayı hop lenght e göre değişmeli \n",
    "\n",
    "    for i in range(array.shape[0]):\n",
    "        zero_crossing_rate[i][0:4] = lbs.feature.zero_crossing_rate(array[i],  frame_length = frame_length,\n",
    "                                                                    hop_length = hl)\n",
    "        zero_crossing_rate[i][4] = sum(lbs.zero_crossings(array[i]))\n",
    "    return zero_crossing_rate\n",
    "\n",
    "        "
   ]
  },
  {
   "cell_type": "code",
   "execution_count": 10,
   "id": "3badd449",
   "metadata": {},
   "outputs": [],
   "source": [
    "zcrs = zero_crossing(waves, 8000, hl = 12000) #çok uzun sürüyor, ya datayı kısaltmalıyız ya da hop lenght artmalı"
   ]
  },
  {
   "cell_type": "code",
   "execution_count": 11,
   "id": "5a0decad",
   "metadata": {},
   "outputs": [
    {
     "data": {
      "text/plain": [
       "numpy.ndarray"
      ]
     },
     "execution_count": 11,
     "metadata": {},
     "output_type": "execute_result"
    }
   ],
   "source": [
    "type(zcrs[0])"
   ]
  },
  {
   "cell_type": "code",
   "execution_count": 12,
   "id": "ef9d104e",
   "metadata": {},
   "outputs": [],
   "source": [
    "np.save(path + \"/absent_MV_zcrs_array\", zcrs, allow_pickle= True)"
   ]
  },
  {
   "cell_type": "code",
   "execution_count": 13,
   "id": "58e4c21a",
   "metadata": {},
   "outputs": [
    {
     "name": "stdout",
     "output_type": "stream",
     "text": [
      "['zcrs0', 'zcrs1', 'zcrs2', 'zcrs3', '#ofcrossing']\n"
     ]
    }
   ],
   "source": [
    "columns_zcr = []\n",
    "for i in range(zcrs.shape[1]-1):\n",
    "    columns_zcr.append(\"zcrs{}\".format(i))\n",
    "\n",
    "    \n",
    "columns_zcr.append(\"#ofcrossing\")\n",
    "\n",
    "print(columns_zcr)"
   ]
  },
  {
   "cell_type": "code",
   "execution_count": 14,
   "id": "e07f721f",
   "metadata": {},
   "outputs": [
    {
     "data": {
      "text/plain": [
       "array([2.0625e-02, 5.0500e-02, 3.9125e-02, 4.8375e-02, 1.6800e+03])"
      ]
     },
     "execution_count": 14,
     "metadata": {},
     "output_type": "execute_result"
    }
   ],
   "source": [
    "zcrs[7]"
   ]
  },
  {
   "cell_type": "code",
   "execution_count": 15,
   "id": "14c76313",
   "metadata": {},
   "outputs": [],
   "source": [
    "def dataframe_creator(array, df = pd.DataFrame(), l = 7, columns = None):\n",
    "    values = []\n",
    "\n",
    "    for i in range(array.shape[0]):\n",
    "        llist = list(array[i][0:l-1].tolist())\n",
    "        llist.append(array[i][l-1])\n",
    "        \n",
    "        values.append(llist)\n",
    "        medium = pd.DataFrame([values[i]], columns = columns)\n",
    "        \n",
    "        \n",
    "        df = pd.concat([df, medium], axis = 0)\n",
    "    return df "
   ]
  },
  {
   "cell_type": "code",
   "execution_count": 16,
   "id": "40eb5d7a",
   "metadata": {},
   "outputs": [],
   "source": [
    "df = dataframe_creator(zcrs, l =5,  columns = columns_zcr)\n",
    "\n",
    "df.reset_index(drop = True, inplace = True)"
   ]
  },
  {
   "cell_type": "code",
   "execution_count": 17,
   "id": "58c4ea98",
   "metadata": {},
   "outputs": [
    {
     "data": {
      "text/html": [
       "<div>\n",
       "<style scoped>\n",
       "    .dataframe tbody tr th:only-of-type {\n",
       "        vertical-align: middle;\n",
       "    }\n",
       "\n",
       "    .dataframe tbody tr th {\n",
       "        vertical-align: top;\n",
       "    }\n",
       "\n",
       "    .dataframe thead th {\n",
       "        text-align: right;\n",
       "    }\n",
       "</style>\n",
       "<table border=\"1\" class=\"dataframe\">\n",
       "  <thead>\n",
       "    <tr style=\"text-align: right;\">\n",
       "      <th></th>\n",
       "      <th>zcrs0</th>\n",
       "      <th>zcrs1</th>\n",
       "      <th>zcrs2</th>\n",
       "      <th>zcrs3</th>\n",
       "      <th>#ofcrossing</th>\n",
       "    </tr>\n",
       "  </thead>\n",
       "  <tbody>\n",
       "    <tr>\n",
       "      <th>0</th>\n",
       "      <td>0.034625</td>\n",
       "      <td>0.049500</td>\n",
       "      <td>0.034125</td>\n",
       "      <td>0.044000</td>\n",
       "      <td>1807.0</td>\n",
       "    </tr>\n",
       "    <tr>\n",
       "      <th>1</th>\n",
       "      <td>0.020500</td>\n",
       "      <td>0.033500</td>\n",
       "      <td>0.044500</td>\n",
       "      <td>0.044625</td>\n",
       "      <td>1624.0</td>\n",
       "    </tr>\n",
       "    <tr>\n",
       "      <th>2</th>\n",
       "      <td>0.017375</td>\n",
       "      <td>0.030875</td>\n",
       "      <td>0.051875</td>\n",
       "      <td>0.032000</td>\n",
       "      <td>1709.0</td>\n",
       "    </tr>\n",
       "    <tr>\n",
       "      <th>3</th>\n",
       "      <td>0.020000</td>\n",
       "      <td>0.044500</td>\n",
       "      <td>0.030750</td>\n",
       "      <td>0.048750</td>\n",
       "      <td>1843.0</td>\n",
       "    </tr>\n",
       "    <tr>\n",
       "      <th>4</th>\n",
       "      <td>0.034250</td>\n",
       "      <td>0.038500</td>\n",
       "      <td>0.042750</td>\n",
       "      <td>0.043750</td>\n",
       "      <td>1842.0</td>\n",
       "    </tr>\n",
       "  </tbody>\n",
       "</table>\n",
       "</div>"
      ],
      "text/plain": [
       "      zcrs0     zcrs1     zcrs2     zcrs3  #ofcrossing\n",
       "0  0.034625  0.049500  0.034125  0.044000       1807.0\n",
       "1  0.020500  0.033500  0.044500  0.044625       1624.0\n",
       "2  0.017375  0.030875  0.051875  0.032000       1709.0\n",
       "3  0.020000  0.044500  0.030750  0.048750       1843.0\n",
       "4  0.034250  0.038500  0.042750  0.043750       1842.0"
      ]
     },
     "execution_count": 17,
     "metadata": {},
     "output_type": "execute_result"
    }
   ],
   "source": [
    "df.head()"
   ]
  },
  {
   "cell_type": "code",
   "execution_count": 18,
   "id": "febe5cf1",
   "metadata": {},
   "outputs": [],
   "source": [
    "df.to_csv(path + '/absent_MV_zcrs.csv')"
   ]
  },
  {
   "cell_type": "markdown",
   "id": "3bbfeffb",
   "metadata": {},
   "source": [
    "## with Özgün Ozan Nacitarhan code"
   ]
  },
  {
   "cell_type": "code",
   "execution_count": 19,
   "id": "481adc1a",
   "metadata": {},
   "outputs": [],
   "source": [
    "def zcr(array):\n",
    "    zcr = np.ones(shape = (array.shape[0],1))\n",
    "    for i in range(array.shape[0]):\n",
    "        data_zeros = np.zeros(len(array[i]))\n",
    "        data_zeros[1:] = array[i][:len(array[i]) - 1]\n",
    "        zcr[i][0] = (1 / (2 * len(array[i]))) * np.sum(np.abs(np.sign(array[i]) - np.sign(data_zeros)))\n",
    "        \n",
    "    return zcr\n"
   ]
  },
  {
   "cell_type": "code",
   "execution_count": 20,
   "id": "f539b16d",
   "metadata": {},
   "outputs": [],
   "source": [
    "zcrs_özgün = zcr(waves)"
   ]
  },
  {
   "cell_type": "code",
   "execution_count": 21,
   "id": "12e14c34",
   "metadata": {},
   "outputs": [
    {
     "data": {
      "text/plain": [
       "(5534, 1)"
      ]
     },
     "execution_count": 21,
     "metadata": {},
     "output_type": "execute_result"
    }
   ],
   "source": [
    "zcrs_özgün.shape"
   ]
  },
  {
   "cell_type": "code",
   "execution_count": 22,
   "id": "20657000",
   "metadata": {},
   "outputs": [
    {
     "data": {
      "text/plain": [
       "array([0.0451625])"
      ]
     },
     "execution_count": 22,
     "metadata": {},
     "output_type": "execute_result"
    }
   ],
   "source": [
    "zcrs_özgün[0]"
   ]
  },
  {
   "cell_type": "code",
   "execution_count": 23,
   "id": "adfd4882",
   "metadata": {},
   "outputs": [],
   "source": [
    "np.save(path + \"/absent_MV_zcrs_özgün\", zcrs_özgün, allow_pickle= True)"
   ]
  },
  {
   "cell_type": "markdown",
   "id": "68835fa8",
   "metadata": {},
   "source": [
    "### Chromogram:\n",
    "We can use Chroma feature visualization to know how dominant the characteristics of a certain pitch {C, C♯, D, D♯, E, F, F♯, G, G♯, A, A♯, B} is present in the sampled frame.\n",
    "\n",
    "Compute a chromagram from a waveform or power spectrogram.\n",
    "It returns Normalized energy for each chroma bin at each frame.\n",
    "\n",
    "Hop size should refer to the number of samples in between successive frames. For signal analysis Hop Size should be less than the frame size, so that frames overlap."
   ]
  },
  {
   "cell_type": "code",
   "execution_count": 24,
   "id": "a2419065",
   "metadata": {},
   "outputs": [],
   "source": [
    "import warnings\n",
    "warnings.filterwarnings('ignore')"
   ]
  },
  {
   "cell_type": "code",
   "execution_count": 25,
   "id": "4ee986de",
   "metadata": {},
   "outputs": [],
   "source": [
    "import librosa.display"
   ]
  },
  {
   "cell_type": "code",
   "execution_count": 26,
   "id": "72d9d462",
   "metadata": {},
   "outputs": [
    {
     "data": {
      "text/plain": [
       "(12, 4)"
      ]
     },
     "execution_count": 26,
     "metadata": {},
     "output_type": "execute_result"
    }
   ],
   "source": [
    "lbs.feature.chroma_stft(waves[0], sr = 4000, hop_length = 12000).shape"
   ]
  },
  {
   "cell_type": "code",
   "execution_count": 27,
   "id": "1129b939",
   "metadata": {},
   "outputs": [],
   "source": [
    "# we are taking time average of each pitch values.\n",
    "def chromagram_average(array, sampling_rate = 256):\n",
    "    pitch = np.ones(shape = (array.shape[0], 12)) \n",
    "    \n",
    "    for i in range(array.shape[0]):\n",
    "        for j in range(12):\n",
    "            pitch[i][j] = lbs.feature.chroma_stft(np.array(array[i]), sr= sampling_rate, hop_length = 12000)[j].mean()\n",
    "    return pitch"
   ]
  },
  {
   "cell_type": "code",
   "execution_count": 28,
   "id": "fe736d42",
   "metadata": {},
   "outputs": [],
   "source": [
    "chro = chromagram_average(waves, sampling_rate = 4000) # bu da çok uzun sürüyor."
   ]
  },
  {
   "cell_type": "code",
   "execution_count": 29,
   "id": "ed36ce80",
   "metadata": {},
   "outputs": [
    {
     "data": {
      "text/plain": [
       "numpy.ndarray"
      ]
     },
     "execution_count": 29,
     "metadata": {},
     "output_type": "execute_result"
    }
   ],
   "source": [
    "type(chro[0])"
   ]
  },
  {
   "cell_type": "code",
   "execution_count": 30,
   "id": "875ac687",
   "metadata": {},
   "outputs": [
    {
     "data": {
      "text/plain": [
       "(5534, 12)"
      ]
     },
     "execution_count": 30,
     "metadata": {},
     "output_type": "execute_result"
    }
   ],
   "source": [
    "chro.shape"
   ]
  },
  {
   "cell_type": "code",
   "execution_count": 31,
   "id": "0bac78ad",
   "metadata": {},
   "outputs": [],
   "source": [
    "np.save(path + \"/absent_MV_chromogram_array\", chro, allow_pickle= True)"
   ]
  },
  {
   "cell_type": "code",
   "execution_count": 32,
   "id": "f275be61",
   "metadata": {},
   "outputs": [
    {
     "name": "stdout",
     "output_type": "stream",
     "text": [
      "(5534, 12)\n"
     ]
    }
   ],
   "source": [
    "print(chro.shape)"
   ]
  },
  {
   "cell_type": "code",
   "execution_count": 33,
   "id": "69d520e6",
   "metadata": {},
   "outputs": [],
   "source": [
    "lst = [\"C\", \"C♯\", \"D\", \"D♯\", \"E\", \"F\", \"F♯\", \"G\", \"G♯\", \"A\", \"A♯\", \"B\"]"
   ]
  },
  {
   "cell_type": "code",
   "execution_count": 34,
   "id": "b24e15ff",
   "metadata": {},
   "outputs": [
    {
     "name": "stdout",
     "output_type": "stream",
     "text": [
      "['C', 'C♯', 'D', 'D♯', 'E', 'F', 'F♯', 'G', 'G♯', 'A', 'A♯', 'B']\n",
      "12\n"
     ]
    }
   ],
   "source": [
    "col_chro = []\n",
    "for i in range(chro.shape[1]):\n",
    "    col_chro.append(lst[i])\n",
    "    \n",
    "print(col_chro)\n",
    "print(len(col_chro))"
   ]
  },
  {
   "cell_type": "code",
   "execution_count": 35,
   "id": "17156bed",
   "metadata": {},
   "outputs": [
    {
     "data": {
      "text/html": [
       "<div>\n",
       "<style scoped>\n",
       "    .dataframe tbody tr th:only-of-type {\n",
       "        vertical-align: middle;\n",
       "    }\n",
       "\n",
       "    .dataframe tbody tr th {\n",
       "        vertical-align: top;\n",
       "    }\n",
       "\n",
       "    .dataframe thead th {\n",
       "        text-align: right;\n",
       "    }\n",
       "</style>\n",
       "<table border=\"1\" class=\"dataframe\">\n",
       "  <thead>\n",
       "    <tr style=\"text-align: right;\">\n",
       "      <th></th>\n",
       "      <th>C</th>\n",
       "      <th>C♯</th>\n",
       "      <th>D</th>\n",
       "      <th>D♯</th>\n",
       "      <th>E</th>\n",
       "      <th>F</th>\n",
       "      <th>F♯</th>\n",
       "      <th>G</th>\n",
       "      <th>G♯</th>\n",
       "      <th>A</th>\n",
       "      <th>A♯</th>\n",
       "      <th>B</th>\n",
       "    </tr>\n",
       "  </thead>\n",
       "  <tbody>\n",
       "    <tr>\n",
       "      <th>0</th>\n",
       "      <td>0.669915</td>\n",
       "      <td>0.808638</td>\n",
       "      <td>0.62196</td>\n",
       "      <td>0.707474</td>\n",
       "      <td>0.715226</td>\n",
       "      <td>0.646128</td>\n",
       "      <td>0.520854</td>\n",
       "      <td>0.461956</td>\n",
       "      <td>0.462268</td>\n",
       "      <td>0.515603</td>\n",
       "      <td>0.658246</td>\n",
       "      <td>0.683442</td>\n",
       "    </tr>\n",
       "    <tr>\n",
       "      <th>1</th>\n",
       "      <td>0.647967</td>\n",
       "      <td>0.598824</td>\n",
       "      <td>0.570706</td>\n",
       "      <td>0.588224</td>\n",
       "      <td>0.580166</td>\n",
       "      <td>0.767072</td>\n",
       "      <td>0.506898</td>\n",
       "      <td>0.406473</td>\n",
       "      <td>0.470765</td>\n",
       "      <td>0.392013</td>\n",
       "      <td>0.463674</td>\n",
       "      <td>0.500641</td>\n",
       "    </tr>\n",
       "    <tr>\n",
       "      <th>2</th>\n",
       "      <td>0.564532</td>\n",
       "      <td>0.555141</td>\n",
       "      <td>0.621192</td>\n",
       "      <td>0.563681</td>\n",
       "      <td>0.505942</td>\n",
       "      <td>0.556837</td>\n",
       "      <td>0.378005</td>\n",
       "      <td>0.287664</td>\n",
       "      <td>0.290702</td>\n",
       "      <td>0.35893</td>\n",
       "      <td>0.5553</td>\n",
       "      <td>0.576961</td>\n",
       "    </tr>\n",
       "    <tr>\n",
       "      <th>3</th>\n",
       "      <td>0.655196</td>\n",
       "      <td>0.665652</td>\n",
       "      <td>0.567938</td>\n",
       "      <td>0.306632</td>\n",
       "      <td>0.423704</td>\n",
       "      <td>0.551027</td>\n",
       "      <td>0.418398</td>\n",
       "      <td>0.588948</td>\n",
       "      <td>0.663119</td>\n",
       "      <td>0.54975</td>\n",
       "      <td>0.64548</td>\n",
       "      <td>0.791106</td>\n",
       "    </tr>\n",
       "    <tr>\n",
       "      <th>4</th>\n",
       "      <td>0.635908</td>\n",
       "      <td>0.601453</td>\n",
       "      <td>0.849178</td>\n",
       "      <td>0.689748</td>\n",
       "      <td>0.574702</td>\n",
       "      <td>0.46503</td>\n",
       "      <td>0.360879</td>\n",
       "      <td>0.404871</td>\n",
       "      <td>0.42825</td>\n",
       "      <td>0.453988</td>\n",
       "      <td>0.507852</td>\n",
       "      <td>0.548556</td>\n",
       "    </tr>\n",
       "    <tr>\n",
       "      <th>...</th>\n",
       "      <td>...</td>\n",
       "      <td>...</td>\n",
       "      <td>...</td>\n",
       "      <td>...</td>\n",
       "      <td>...</td>\n",
       "      <td>...</td>\n",
       "      <td>...</td>\n",
       "      <td>...</td>\n",
       "      <td>...</td>\n",
       "      <td>...</td>\n",
       "      <td>...</td>\n",
       "      <td>...</td>\n",
       "    </tr>\n",
       "    <tr>\n",
       "      <th>5529</th>\n",
       "      <td>0.297003</td>\n",
       "      <td>0.806596</td>\n",
       "      <td>0.623448</td>\n",
       "      <td>0.24406</td>\n",
       "      <td>0.148195</td>\n",
       "      <td>0.140404</td>\n",
       "      <td>0.241639</td>\n",
       "      <td>0.405256</td>\n",
       "      <td>0.467711</td>\n",
       "      <td>0.360803</td>\n",
       "      <td>0.294285</td>\n",
       "      <td>0.264269</td>\n",
       "    </tr>\n",
       "    <tr>\n",
       "      <th>5530</th>\n",
       "      <td>0.589885</td>\n",
       "      <td>0.613856</td>\n",
       "      <td>0.496005</td>\n",
       "      <td>0.38868</td>\n",
       "      <td>0.307694</td>\n",
       "      <td>0.336509</td>\n",
       "      <td>0.587345</td>\n",
       "      <td>0.602297</td>\n",
       "      <td>0.502682</td>\n",
       "      <td>0.417944</td>\n",
       "      <td>0.422392</td>\n",
       "      <td>0.531135</td>\n",
       "    </tr>\n",
       "    <tr>\n",
       "      <th>5531</th>\n",
       "      <td>0.514989</td>\n",
       "      <td>0.637228</td>\n",
       "      <td>0.589905</td>\n",
       "      <td>0.489533</td>\n",
       "      <td>0.488955</td>\n",
       "      <td>0.488679</td>\n",
       "      <td>0.475388</td>\n",
       "      <td>0.645926</td>\n",
       "      <td>0.69642</td>\n",
       "      <td>0.569856</td>\n",
       "      <td>0.489083</td>\n",
       "      <td>0.668931</td>\n",
       "    </tr>\n",
       "    <tr>\n",
       "      <th>5532</th>\n",
       "      <td>0.553569</td>\n",
       "      <td>0.588816</td>\n",
       "      <td>0.549302</td>\n",
       "      <td>0.306009</td>\n",
       "      <td>0.168464</td>\n",
       "      <td>0.183818</td>\n",
       "      <td>0.2305</td>\n",
       "      <td>0.40076</td>\n",
       "      <td>0.689869</td>\n",
       "      <td>0.859795</td>\n",
       "      <td>0.785542</td>\n",
       "      <td>0.825416</td>\n",
       "    </tr>\n",
       "    <tr>\n",
       "      <th>5533</th>\n",
       "      <td>0.625649</td>\n",
       "      <td>0.522516</td>\n",
       "      <td>0.478737</td>\n",
       "      <td>0.443504</td>\n",
       "      <td>0.369527</td>\n",
       "      <td>0.46861</td>\n",
       "      <td>0.655708</td>\n",
       "      <td>0.692168</td>\n",
       "      <td>0.682512</td>\n",
       "      <td>0.544127</td>\n",
       "      <td>0.658893</td>\n",
       "      <td>0.625514</td>\n",
       "    </tr>\n",
       "  </tbody>\n",
       "</table>\n",
       "<p>5534 rows × 12 columns</p>\n",
       "</div>"
      ],
      "text/plain": [
       "             C        C♯         D        D♯         E         F        F♯  \\\n",
       "0     0.669915  0.808638   0.62196  0.707474  0.715226  0.646128  0.520854   \n",
       "1     0.647967  0.598824  0.570706  0.588224  0.580166  0.767072  0.506898   \n",
       "2     0.564532  0.555141  0.621192  0.563681  0.505942  0.556837  0.378005   \n",
       "3     0.655196  0.665652  0.567938  0.306632  0.423704  0.551027  0.418398   \n",
       "4     0.635908  0.601453  0.849178  0.689748  0.574702   0.46503  0.360879   \n",
       "...        ...       ...       ...       ...       ...       ...       ...   \n",
       "5529  0.297003  0.806596  0.623448   0.24406  0.148195  0.140404  0.241639   \n",
       "5530  0.589885  0.613856  0.496005   0.38868  0.307694  0.336509  0.587345   \n",
       "5531  0.514989  0.637228  0.589905  0.489533  0.488955  0.488679  0.475388   \n",
       "5532  0.553569  0.588816  0.549302  0.306009  0.168464  0.183818    0.2305   \n",
       "5533  0.625649  0.522516  0.478737  0.443504  0.369527   0.46861  0.655708   \n",
       "\n",
       "             G        G♯         A        A♯         B  \n",
       "0     0.461956  0.462268  0.515603  0.658246  0.683442  \n",
       "1     0.406473  0.470765  0.392013  0.463674  0.500641  \n",
       "2     0.287664  0.290702   0.35893    0.5553  0.576961  \n",
       "3     0.588948  0.663119   0.54975   0.64548  0.791106  \n",
       "4     0.404871   0.42825  0.453988  0.507852  0.548556  \n",
       "...        ...       ...       ...       ...       ...  \n",
       "5529  0.405256  0.467711  0.360803  0.294285  0.264269  \n",
       "5530  0.602297  0.502682  0.417944  0.422392  0.531135  \n",
       "5531  0.645926   0.69642  0.569856  0.489083  0.668931  \n",
       "5532   0.40076  0.689869  0.859795  0.785542  0.825416  \n",
       "5533  0.692168  0.682512  0.544127  0.658893  0.625514  \n",
       "\n",
       "[5534 rows x 12 columns]"
      ]
     },
     "execution_count": 35,
     "metadata": {},
     "output_type": "execute_result"
    }
   ],
   "source": [
    "ch_df = dataframe_creator(chro,\n",
    "                         df =pd.DataFrame(columns = col_chro), columns = col_chro, l = 12)\n",
    "\n",
    "ch_df.reset_index(drop = True, inplace = True)\n",
    "ch_df"
   ]
  },
  {
   "cell_type": "code",
   "execution_count": 36,
   "id": "81a61a1e",
   "metadata": {},
   "outputs": [],
   "source": [
    "ch_df.to_csv(path + \"/absent_MV_chromogram.csv\")"
   ]
  },
  {
   "cell_type": "markdown",
   "id": "cce74b21",
   "metadata": {},
   "source": [
    "## Tempogram\n",
    "\n",
    "Compute the tempogram: local autocorrelation of the onset strength envelope.\n",
    "\n",
    "# kendime not tempogram değerlerini spektogram değerleri gibi kaydet."
   ]
  },
  {
   "cell_type": "code",
   "execution_count": 37,
   "id": "c9f3130a",
   "metadata": {},
   "outputs": [],
   "source": [
    "def tempo_average(array): # 192,79\n",
    "    means= []\n",
    "    for i in range(array.shape[0]): #192\n",
    "        means.append(array[i].mean())\n",
    "    return np.array(means) # 192\n",
    "        "
   ]
  },
  {
   "cell_type": "code",
   "execution_count": 38,
   "id": "9d9179b5",
   "metadata": {},
   "outputs": [],
   "source": [
    "def tempogram(array = 0, hop_lenght = 12000, sampling_rate = 256):\n",
    "    \n",
    "    oenv = librosa.onset.onset_strength(y=np.array(array), \n",
    "                                            sr=sampling_rate, \n",
    "                                        lag =3)\n",
    "\n",
    "    times = librosa.times_like(oenv, sr=sampling_rate, hop_length=12000)\n",
    "\n",
    "    tempogram = librosa.feature.tempogram(onset_envelope = oenv, sr = sampling_rate,\n",
    "                                              hop_length = hop_lenght, win_length = 192 )\n",
    "    # Estimate the global tempo for display purposes\n",
    "    #tempo = librosa.beat.tempo(onset_envelope=oenv, sr= sampling_rate,\n",
    "                                   #hop_length=hop_length)[0]\n",
    "    return tempogram"
   ]
  },
  {
   "cell_type": "code",
   "execution_count": 39,
   "id": "4ec648a1",
   "metadata": {},
   "outputs": [
    {
     "data": {
      "text/plain": [
       "(192, 79)"
      ]
     },
     "execution_count": 39,
     "metadata": {},
     "output_type": "execute_result"
    }
   ],
   "source": [
    "tempogram(waves[0]).shape"
   ]
  },
  {
   "cell_type": "code",
   "execution_count": 40,
   "id": "d113b2df",
   "metadata": {},
   "outputs": [
    {
     "data": {
      "text/plain": [
       "array([1., 1., 1., 1., 1., 1., 1., 1., 1., 1., 1., 1., 1., 1., 1., 1., 1.,\n",
       "       1., 1., 1., 1., 1., 1., 1., 1., 1., 1., 1., 1., 1., 1., 1., 1., 1.,\n",
       "       1., 1., 1., 1., 1., 1., 1., 1., 1., 1., 1., 1., 1., 1., 1., 1., 1.,\n",
       "       1., 1., 1., 1., 1., 1., 1., 1., 1., 1., 1., 1., 1., 1., 1., 1., 1.,\n",
       "       1., 1., 1., 1., 1., 1., 1., 1., 1., 1., 1.])"
      ]
     },
     "execution_count": 40,
     "metadata": {},
     "output_type": "execute_result"
    }
   ],
   "source": [
    "tempogram(waves[0])[0]"
   ]
  },
  {
   "cell_type": "code",
   "execution_count": 41,
   "id": "4dd11e0a",
   "metadata": {},
   "outputs": [
    {
     "data": {
      "text/plain": [
       "array([0.50562462, 0.50783117, 0.51009085, 0.51240407, 0.51477105,\n",
       "       0.51719183, 0.5196663 , 0.52219415, 0.52477489, 0.52740784,\n",
       "       0.53009212, 0.53282664, 0.53561014, 0.53844112, 0.54131791,\n",
       "       0.54423862, 0.54720117, 0.55020329, 0.55324249, 0.55631614,\n",
       "       0.55942141, 0.56255531, 0.56571469, 0.56889626, 0.5720966 ,\n",
       "       0.5753122 , 0.57853941, 0.58177452, 0.58501378, 0.58825335,\n",
       "       0.59148941, 0.59471811, 0.59793563, 0.60113819, 0.60432205,\n",
       "       0.60748357, 0.61061919, 0.61372549, 0.61679916, 0.61983706,\n",
       "       0.62283622, 0.62579383, 0.62870731, 0.63157427, 0.63439254,\n",
       "       0.63716019, 0.63987551, 0.64253703, 0.64514355, 0.64769408,\n",
       "       0.65018791, 0.65262457, 0.65500381, 0.65732565, 0.65959035,\n",
       "       0.66179838, 0.66395044, 0.66604746, 0.66809057, 0.67008111,\n",
       "       0.67202061, 0.67391079, 0.67575352, 0.67755087, 0.67930504,\n",
       "       0.68101839, 0.68269341, 0.68433273, 0.6859391 , 0.68751537,\n",
       "       0.68906451, 0.69058957, 0.69209373, 0.69358021, 0.69505235,\n",
       "       0.69651354, 0.69796727, 0.69941706, 0.70086652])"
      ]
     },
     "execution_count": 41,
     "metadata": {},
     "output_type": "execute_result"
    }
   ],
   "source": [
    "tempogram(waves[0])[1]"
   ]
  },
  {
   "cell_type": "code",
   "execution_count": 42,
   "id": "1ecf758c",
   "metadata": {},
   "outputs": [
    {
     "data": {
      "text/plain": [
       "array([ 1.00000000e+00,  6.12692293e-01,  2.51970773e-01,  2.27247927e-01,\n",
       "        3.94456573e-01,  5.69634565e-01,  4.31967726e-01,  2.50836350e-01,\n",
       "        2.35000809e-01,  2.63236251e-01,  2.77912389e-01,  2.82031959e-01,\n",
       "        2.85561083e-01,  2.82029162e-01,  2.77326990e-01,  2.89799157e-01,\n",
       "        3.06952183e-01,  3.12748635e-01,  2.65203904e-01,  2.40154901e-01,\n",
       "        2.71295822e-01,  2.74172877e-01,  2.32050262e-01,  2.34004502e-01,\n",
       "        2.69928528e-01,  2.50655886e-01,  2.13281794e-01,  2.24967020e-01,\n",
       "        2.58498163e-01,  2.84619563e-01,  2.63220585e-01,  2.46481487e-01,\n",
       "        2.60080482e-01,  2.62109248e-01,  2.24186397e-01,  1.80805848e-01,\n",
       "        1.78601981e-01,  1.93038010e-01,  1.94935884e-01,  1.83578898e-01,\n",
       "        1.90101092e-01,  2.12990029e-01,  1.94597076e-01,  1.69403974e-01,\n",
       "        1.77791455e-01,  1.89208205e-01,  1.80410727e-01,  1.69292636e-01,\n",
       "        1.58953294e-01,  1.42114096e-01,  1.39646265e-01,  1.43516158e-01,\n",
       "        1.59533059e-01,  1.71216905e-01,  1.44936189e-01,  1.25480514e-01,\n",
       "        1.86742692e-01,  2.73976207e-01,  2.34087895e-01,  1.20539756e-01,\n",
       "        8.65865056e-02,  1.65166372e-01,  2.88903383e-01,  2.57070483e-01,\n",
       "        9.35098549e-02,  5.03421531e-02,  5.91657259e-02,  1.23558729e-01,\n",
       "        1.63121859e-01,  8.05687720e-02,  5.76474775e-02,  5.59943078e-02,\n",
       "        6.19396122e-02,  7.22101046e-02,  6.87467938e-02,  6.54007863e-02,\n",
       "        6.21706737e-02,  5.90549701e-02,  5.60521270e-02,  5.31605334e-02,\n",
       "        5.03785162e-02,  4.77043435e-02,  4.51362164e-02,  4.26722747e-02,\n",
       "        4.03106027e-02,  3.80492345e-02,  3.58860819e-02,  3.38188278e-02,\n",
       "        3.18449886e-02,  2.99620480e-02,  2.81674957e-02,  2.64587584e-02,\n",
       "        2.48330201e-02,  2.32873204e-02,  2.18187501e-02,  2.04244558e-02,\n",
       "        1.91016423e-02,  1.78475720e-02,  1.66595689e-02,  1.55350203e-02,\n",
       "        1.44713792e-02,  1.34661681e-02,  1.25169826e-02,  1.16214893e-02,\n",
       "        1.07774211e-02,  9.98257667e-03,  9.23482224e-03,  8.53209489e-03,\n",
       "        7.87240038e-03,  7.25380507e-03,  6.67442903e-03,  6.13244286e-03,\n",
       "        5.62606932e-03,  5.15358210e-03,  4.71330440e-03,  4.30360863e-03,\n",
       "        3.92291594e-03,  3.56969683e-03,  3.24246928e-03,  2.93979789e-03,\n",
       "        2.66029443e-03,  2.40261731e-03,  2.16547202e-03,  1.94761056e-03,\n",
       "        1.74783170e-03,  1.56498165e-03,  1.39795341e-03,  1.24568656e-03,\n",
       "        1.10716632e-03,  9.81423356e-04,  8.67533964e-04,  7.64619582e-04,\n",
       "        6.71846642e-04,  5.88425847e-04,  5.13611473e-04,  4.46700754e-04,\n",
       "        3.87032837e-04,  3.33987421e-04,  2.86983256e-04,  2.45476641e-04,\n",
       "        2.08959647e-04,  1.76958372e-04,  1.49030977e-04,  1.24766025e-04,\n",
       "        1.03781639e-04,  8.57248776e-05,  7.02710186e-05,  5.71224690e-05,\n",
       "        4.60077811e-05,  3.66805669e-05,  2.89174012e-05,  2.25152480e-05,\n",
       "        1.72897804e-05,  1.30743129e-05,  9.71835233e-06,  7.08619664e-06,\n",
       "        5.05619612e-06,  3.52020521e-06,  2.38303369e-06,  1.56189366e-06,\n",
       "        9.85809938e-07,  5.94935344e-07,  3.39819500e-07,  1.80728872e-07,\n",
       "        8.70143519e-08,  3.61442087e-08,  1.19209703e-08,  2.64210058e-09,\n",
       "        2.49642425e-10, -6.52568169e-18, -1.33398843e-17,  3.92449039e-18,\n",
       "       -1.36973254e-17, -8.66765804e-18, -6.07136548e-18,  1.24872925e-17,\n",
       "        1.59810399e-17, -7.55871166e-18,  3.55227704e-18,  8.88130298e-18,\n",
       "        1.22623980e-17,  2.87689328e-17,  2.76980850e-18,  3.51126527e-18,\n",
       "        6.12552298e-18,  3.67181648e-18,  1.80635988e-17, -3.35510465e-18,\n",
       "        3.78039437e-18,  3.70387269e-18,  5.86488589e-18,  1.72164551e-17])"
      ]
     },
     "execution_count": 42,
     "metadata": {},
     "output_type": "execute_result"
    }
   ],
   "source": [
    "tempo_average(tempogram(waves[0]))"
   ]
  },
  {
   "cell_type": "markdown",
   "id": "26896649",
   "metadata": {},
   "source": [
    "# tempogram(waves[0])[0]"
   ]
  },
  {
   "cell_type": "code",
   "execution_count": 43,
   "id": "5f49f3c2",
   "metadata": {},
   "outputs": [],
   "source": [
    "def temp_values(array):\n",
    "    final = np.ones(shape = (array.shape[0], 192))\n",
    "    for i in range(array.shape[0]): #8bin civarı\n",
    "        \n",
    "        _x = tempogram(array[i]) #1,4000   #192,79\n",
    "        #print(_x.shape)\n",
    "        final[i] = tempo_average(_x) #192\n",
    "        \n",
    "        \n",
    "    return final"
   ]
  },
  {
   "cell_type": "code",
   "execution_count": 44,
   "id": "a2c80c43",
   "metadata": {},
   "outputs": [],
   "source": [
    "temp = temp_values(waves) #çok uzun sürüyor \n"
   ]
  },
  {
   "cell_type": "code",
   "execution_count": 45,
   "id": "c97cff81",
   "metadata": {},
   "outputs": [
    {
     "data": {
      "text/plain": [
       "numpy.ndarray"
      ]
     },
     "execution_count": 45,
     "metadata": {},
     "output_type": "execute_result"
    }
   ],
   "source": [
    "type(temp)"
   ]
  },
  {
   "cell_type": "code",
   "execution_count": 46,
   "id": "346fc135",
   "metadata": {},
   "outputs": [],
   "source": [
    "np.save(path + \"/absent_MV_tempgram_array\", temp, allow_pickle= True)"
   ]
  },
  {
   "cell_type": "code",
   "execution_count": 47,
   "id": "d6bf375d",
   "metadata": {},
   "outputs": [
    {
     "data": {
      "text/plain": [
       "(5534, 192)"
      ]
     },
     "execution_count": 47,
     "metadata": {},
     "output_type": "execute_result"
    }
   ],
   "source": [
    "temp.shape"
   ]
  },
  {
   "cell_type": "code",
   "execution_count": 48,
   "id": "925ec0d1",
   "metadata": {},
   "outputs": [
    {
     "name": "stdout",
     "output_type": "stream",
     "text": [
      "['tempogram_0', 'tempogram_1', 'tempogram_2', 'tempogram_3', 'tempogram_4', 'tempogram_5', 'tempogram_6', 'tempogram_7', 'tempogram_8', 'tempogram_9', 'tempogram_10', 'tempogram_11', 'tempogram_12', 'tempogram_13', 'tempogram_14', 'tempogram_15', 'tempogram_16', 'tempogram_17', 'tempogram_18', 'tempogram_19', 'tempogram_20', 'tempogram_21', 'tempogram_22', 'tempogram_23', 'tempogram_24', 'tempogram_25', 'tempogram_26', 'tempogram_27', 'tempogram_28', 'tempogram_29', 'tempogram_30', 'tempogram_31', 'tempogram_32', 'tempogram_33', 'tempogram_34', 'tempogram_35', 'tempogram_36', 'tempogram_37', 'tempogram_38', 'tempogram_39', 'tempogram_40', 'tempogram_41', 'tempogram_42', 'tempogram_43', 'tempogram_44', 'tempogram_45', 'tempogram_46', 'tempogram_47', 'tempogram_48', 'tempogram_49', 'tempogram_50', 'tempogram_51', 'tempogram_52', 'tempogram_53', 'tempogram_54', 'tempogram_55', 'tempogram_56', 'tempogram_57', 'tempogram_58', 'tempogram_59', 'tempogram_60', 'tempogram_61', 'tempogram_62', 'tempogram_63', 'tempogram_64', 'tempogram_65', 'tempogram_66', 'tempogram_67', 'tempogram_68', 'tempogram_69', 'tempogram_70', 'tempogram_71', 'tempogram_72', 'tempogram_73', 'tempogram_74', 'tempogram_75', 'tempogram_76', 'tempogram_77', 'tempogram_78', 'tempogram_79', 'tempogram_80', 'tempogram_81', 'tempogram_82', 'tempogram_83', 'tempogram_84', 'tempogram_85', 'tempogram_86', 'tempogram_87', 'tempogram_88', 'tempogram_89', 'tempogram_90', 'tempogram_91', 'tempogram_92', 'tempogram_93', 'tempogram_94', 'tempogram_95', 'tempogram_96', 'tempogram_97', 'tempogram_98', 'tempogram_99', 'tempogram_100', 'tempogram_101', 'tempogram_102', 'tempogram_103', 'tempogram_104', 'tempogram_105', 'tempogram_106', 'tempogram_107', 'tempogram_108', 'tempogram_109', 'tempogram_110', 'tempogram_111', 'tempogram_112', 'tempogram_113', 'tempogram_114', 'tempogram_115', 'tempogram_116', 'tempogram_117', 'tempogram_118', 'tempogram_119', 'tempogram_120', 'tempogram_121', 'tempogram_122', 'tempogram_123', 'tempogram_124', 'tempogram_125', 'tempogram_126', 'tempogram_127', 'tempogram_128', 'tempogram_129', 'tempogram_130', 'tempogram_131', 'tempogram_132', 'tempogram_133', 'tempogram_134', 'tempogram_135', 'tempogram_136', 'tempogram_137', 'tempogram_138', 'tempogram_139', 'tempogram_140', 'tempogram_141', 'tempogram_142', 'tempogram_143', 'tempogram_144', 'tempogram_145', 'tempogram_146', 'tempogram_147', 'tempogram_148', 'tempogram_149', 'tempogram_150', 'tempogram_151', 'tempogram_152', 'tempogram_153', 'tempogram_154', 'tempogram_155', 'tempogram_156', 'tempogram_157', 'tempogram_158', 'tempogram_159', 'tempogram_160', 'tempogram_161', 'tempogram_162', 'tempogram_163', 'tempogram_164', 'tempogram_165', 'tempogram_166', 'tempogram_167', 'tempogram_168', 'tempogram_169', 'tempogram_170', 'tempogram_171', 'tempogram_172', 'tempogram_173', 'tempogram_174', 'tempogram_175', 'tempogram_176', 'tempogram_177', 'tempogram_178', 'tempogram_179', 'tempogram_180', 'tempogram_181', 'tempogram_182', 'tempogram_183', 'tempogram_184', 'tempogram_185', 'tempogram_186', 'tempogram_187', 'tempogram_188', 'tempogram_189', 'tempogram_190', 'tempogram_191']\n"
     ]
    }
   ],
   "source": [
    "columns_t = []\n",
    "for i in range(temp.shape[1]):\n",
    "    columns_t.append(\"tempogram_{}\".format(i))\n",
    "print(columns_t)"
   ]
  },
  {
   "cell_type": "code",
   "execution_count": 49,
   "id": "e5ef312f",
   "metadata": {},
   "outputs": [
    {
     "data": {
      "text/plain": [
       "192"
      ]
     },
     "execution_count": 49,
     "metadata": {},
     "output_type": "execute_result"
    }
   ],
   "source": [
    "len(columns_t)"
   ]
  },
  {
   "cell_type": "code",
   "execution_count": 50,
   "id": "c1f3b527",
   "metadata": {},
   "outputs": [
    {
     "data": {
      "text/html": [
       "<div>\n",
       "<style scoped>\n",
       "    .dataframe tbody tr th:only-of-type {\n",
       "        vertical-align: middle;\n",
       "    }\n",
       "\n",
       "    .dataframe tbody tr th {\n",
       "        vertical-align: top;\n",
       "    }\n",
       "\n",
       "    .dataframe thead th {\n",
       "        text-align: right;\n",
       "    }\n",
       "</style>\n",
       "<table border=\"1\" class=\"dataframe\">\n",
       "  <thead>\n",
       "    <tr style=\"text-align: right;\">\n",
       "      <th></th>\n",
       "      <th>tempogram_0</th>\n",
       "      <th>tempogram_1</th>\n",
       "      <th>tempogram_2</th>\n",
       "      <th>tempogram_3</th>\n",
       "      <th>tempogram_4</th>\n",
       "      <th>tempogram_5</th>\n",
       "      <th>tempogram_6</th>\n",
       "      <th>tempogram_7</th>\n",
       "      <th>tempogram_8</th>\n",
       "      <th>tempogram_9</th>\n",
       "      <th>...</th>\n",
       "      <th>tempogram_182</th>\n",
       "      <th>tempogram_183</th>\n",
       "      <th>tempogram_184</th>\n",
       "      <th>tempogram_185</th>\n",
       "      <th>tempogram_186</th>\n",
       "      <th>tempogram_187</th>\n",
       "      <th>tempogram_188</th>\n",
       "      <th>tempogram_189</th>\n",
       "      <th>tempogram_190</th>\n",
       "      <th>tempogram_191</th>\n",
       "    </tr>\n",
       "  </thead>\n",
       "  <tbody>\n",
       "    <tr>\n",
       "      <th>0</th>\n",
       "      <td>1.0</td>\n",
       "      <td>0.612692</td>\n",
       "      <td>0.251971</td>\n",
       "      <td>0.227248</td>\n",
       "      <td>0.394457</td>\n",
       "      <td>0.569635</td>\n",
       "      <td>0.431968</td>\n",
       "      <td>0.250836</td>\n",
       "      <td>0.235001</td>\n",
       "      <td>0.263236</td>\n",
       "      <td>...</td>\n",
       "      <td>0.0</td>\n",
       "      <td>0.0</td>\n",
       "      <td>0.0</td>\n",
       "      <td>0.0</td>\n",
       "      <td>0.0</td>\n",
       "      <td>-0.0</td>\n",
       "      <td>0.0</td>\n",
       "      <td>0.0</td>\n",
       "      <td>0.0</td>\n",
       "      <td>0.0</td>\n",
       "    </tr>\n",
       "    <tr>\n",
       "      <th>1</th>\n",
       "      <td>1.0</td>\n",
       "      <td>0.812084</td>\n",
       "      <td>0.524417</td>\n",
       "      <td>0.39921</td>\n",
       "      <td>0.463387</td>\n",
       "      <td>0.533706</td>\n",
       "      <td>0.491005</td>\n",
       "      <td>0.394162</td>\n",
       "      <td>0.329331</td>\n",
       "      <td>0.344596</td>\n",
       "      <td>...</td>\n",
       "      <td>0.0</td>\n",
       "      <td>0.0</td>\n",
       "      <td>0.0</td>\n",
       "      <td>0.0</td>\n",
       "      <td>0.0</td>\n",
       "      <td>0.0</td>\n",
       "      <td>0.0</td>\n",
       "      <td>-0.0</td>\n",
       "      <td>0.0</td>\n",
       "      <td>0.0</td>\n",
       "    </tr>\n",
       "    <tr>\n",
       "      <th>2</th>\n",
       "      <td>1.0</td>\n",
       "      <td>0.752025</td>\n",
       "      <td>0.369307</td>\n",
       "      <td>0.20196</td>\n",
       "      <td>0.200987</td>\n",
       "      <td>0.281147</td>\n",
       "      <td>0.415204</td>\n",
       "      <td>0.527709</td>\n",
       "      <td>0.516881</td>\n",
       "      <td>0.448642</td>\n",
       "      <td>...</td>\n",
       "      <td>-0.0</td>\n",
       "      <td>-0.0</td>\n",
       "      <td>-0.0</td>\n",
       "      <td>-0.0</td>\n",
       "      <td>0.0</td>\n",
       "      <td>-0.0</td>\n",
       "      <td>0.0</td>\n",
       "      <td>-0.0</td>\n",
       "      <td>-0.0</td>\n",
       "      <td>0.0</td>\n",
       "    </tr>\n",
       "    <tr>\n",
       "      <th>3</th>\n",
       "      <td>1.0</td>\n",
       "      <td>0.893762</td>\n",
       "      <td>0.710908</td>\n",
       "      <td>0.604672</td>\n",
       "      <td>0.594959</td>\n",
       "      <td>0.607324</td>\n",
       "      <td>0.594608</td>\n",
       "      <td>0.558293</td>\n",
       "      <td>0.512215</td>\n",
       "      <td>0.506472</td>\n",
       "      <td>...</td>\n",
       "      <td>-0.0</td>\n",
       "      <td>-0.0</td>\n",
       "      <td>0.0</td>\n",
       "      <td>0.0</td>\n",
       "      <td>0.0</td>\n",
       "      <td>-0.0</td>\n",
       "      <td>-0.0</td>\n",
       "      <td>0.0</td>\n",
       "      <td>-0.0</td>\n",
       "      <td>0.0</td>\n",
       "    </tr>\n",
       "    <tr>\n",
       "      <th>4</th>\n",
       "      <td>1.0</td>\n",
       "      <td>0.794209</td>\n",
       "      <td>0.46666</td>\n",
       "      <td>0.249868</td>\n",
       "      <td>0.189095</td>\n",
       "      <td>0.250804</td>\n",
       "      <td>0.435006</td>\n",
       "      <td>0.619193</td>\n",
       "      <td>0.651466</td>\n",
       "      <td>0.510719</td>\n",
       "      <td>...</td>\n",
       "      <td>0.0</td>\n",
       "      <td>0.0</td>\n",
       "      <td>0.0</td>\n",
       "      <td>0.0</td>\n",
       "      <td>0.0</td>\n",
       "      <td>0.0</td>\n",
       "      <td>0.0</td>\n",
       "      <td>0.0</td>\n",
       "      <td>0.0</td>\n",
       "      <td>0.0</td>\n",
       "    </tr>\n",
       "    <tr>\n",
       "      <th>...</th>\n",
       "      <td>...</td>\n",
       "      <td>...</td>\n",
       "      <td>...</td>\n",
       "      <td>...</td>\n",
       "      <td>...</td>\n",
       "      <td>...</td>\n",
       "      <td>...</td>\n",
       "      <td>...</td>\n",
       "      <td>...</td>\n",
       "      <td>...</td>\n",
       "      <td>...</td>\n",
       "      <td>...</td>\n",
       "      <td>...</td>\n",
       "      <td>...</td>\n",
       "      <td>...</td>\n",
       "      <td>...</td>\n",
       "      <td>...</td>\n",
       "      <td>...</td>\n",
       "      <td>...</td>\n",
       "      <td>...</td>\n",
       "      <td>...</td>\n",
       "    </tr>\n",
       "    <tr>\n",
       "      <th>5529</th>\n",
       "      <td>1.0</td>\n",
       "      <td>0.798272</td>\n",
       "      <td>0.495183</td>\n",
       "      <td>0.344989</td>\n",
       "      <td>0.360634</td>\n",
       "      <td>0.437313</td>\n",
       "      <td>0.467508</td>\n",
       "      <td>0.426792</td>\n",
       "      <td>0.357281</td>\n",
       "      <td>0.347098</td>\n",
       "      <td>...</td>\n",
       "      <td>0.0</td>\n",
       "      <td>0.0</td>\n",
       "      <td>0.0</td>\n",
       "      <td>0.0</td>\n",
       "      <td>0.0</td>\n",
       "      <td>-0.0</td>\n",
       "      <td>0.0</td>\n",
       "      <td>0.0</td>\n",
       "      <td>0.0</td>\n",
       "      <td>0.0</td>\n",
       "    </tr>\n",
       "    <tr>\n",
       "      <th>5530</th>\n",
       "      <td>1.0</td>\n",
       "      <td>0.850075</td>\n",
       "      <td>0.617892</td>\n",
       "      <td>0.466129</td>\n",
       "      <td>0.404447</td>\n",
       "      <td>0.366053</td>\n",
       "      <td>0.384939</td>\n",
       "      <td>0.489267</td>\n",
       "      <td>0.594084</td>\n",
       "      <td>0.618899</td>\n",
       "      <td>...</td>\n",
       "      <td>-0.0</td>\n",
       "      <td>0.0</td>\n",
       "      <td>0.0</td>\n",
       "      <td>0.0</td>\n",
       "      <td>0.0</td>\n",
       "      <td>-0.0</td>\n",
       "      <td>0.0</td>\n",
       "      <td>0.0</td>\n",
       "      <td>0.0</td>\n",
       "      <td>0.0</td>\n",
       "    </tr>\n",
       "    <tr>\n",
       "      <th>5531</th>\n",
       "      <td>1.0</td>\n",
       "      <td>0.879853</td>\n",
       "      <td>0.697142</td>\n",
       "      <td>0.582636</td>\n",
       "      <td>0.550902</td>\n",
       "      <td>0.57907</td>\n",
       "      <td>0.636355</td>\n",
       "      <td>0.678963</td>\n",
       "      <td>0.684967</td>\n",
       "      <td>0.656669</td>\n",
       "      <td>...</td>\n",
       "      <td>0.0</td>\n",
       "      <td>0.0</td>\n",
       "      <td>0.0</td>\n",
       "      <td>0.0</td>\n",
       "      <td>0.0</td>\n",
       "      <td>-0.0</td>\n",
       "      <td>0.0</td>\n",
       "      <td>0.0</td>\n",
       "      <td>0.0</td>\n",
       "      <td>0.0</td>\n",
       "    </tr>\n",
       "    <tr>\n",
       "      <th>5532</th>\n",
       "      <td>1.0</td>\n",
       "      <td>0.818084</td>\n",
       "      <td>0.54939</td>\n",
       "      <td>0.442563</td>\n",
       "      <td>0.447897</td>\n",
       "      <td>0.456272</td>\n",
       "      <td>0.484035</td>\n",
       "      <td>0.524556</td>\n",
       "      <td>0.541601</td>\n",
       "      <td>0.52883</td>\n",
       "      <td>...</td>\n",
       "      <td>-0.0</td>\n",
       "      <td>-0.0</td>\n",
       "      <td>0.0</td>\n",
       "      <td>0.0</td>\n",
       "      <td>0.0</td>\n",
       "      <td>-0.0</td>\n",
       "      <td>0.0</td>\n",
       "      <td>0.0</td>\n",
       "      <td>0.0</td>\n",
       "      <td>0.0</td>\n",
       "    </tr>\n",
       "    <tr>\n",
       "      <th>5533</th>\n",
       "      <td>1.0</td>\n",
       "      <td>0.849283</td>\n",
       "      <td>0.649263</td>\n",
       "      <td>0.558527</td>\n",
       "      <td>0.538855</td>\n",
       "      <td>0.534524</td>\n",
       "      <td>0.549038</td>\n",
       "      <td>0.582266</td>\n",
       "      <td>0.646608</td>\n",
       "      <td>0.693621</td>\n",
       "      <td>...</td>\n",
       "      <td>0.0</td>\n",
       "      <td>0.0</td>\n",
       "      <td>0.0</td>\n",
       "      <td>0.0</td>\n",
       "      <td>0.0</td>\n",
       "      <td>0.0</td>\n",
       "      <td>0.0</td>\n",
       "      <td>0.0</td>\n",
       "      <td>0.0</td>\n",
       "      <td>0.0</td>\n",
       "    </tr>\n",
       "  </tbody>\n",
       "</table>\n",
       "<p>5534 rows × 192 columns</p>\n",
       "</div>"
      ],
      "text/plain": [
       "     tempogram_0 tempogram_1 tempogram_2 tempogram_3 tempogram_4 tempogram_5  \\\n",
       "0            1.0    0.612692    0.251971    0.227248    0.394457    0.569635   \n",
       "1            1.0    0.812084    0.524417     0.39921    0.463387    0.533706   \n",
       "2            1.0    0.752025    0.369307     0.20196    0.200987    0.281147   \n",
       "3            1.0    0.893762    0.710908    0.604672    0.594959    0.607324   \n",
       "4            1.0    0.794209     0.46666    0.249868    0.189095    0.250804   \n",
       "...          ...         ...         ...         ...         ...         ...   \n",
       "5529         1.0    0.798272    0.495183    0.344989    0.360634    0.437313   \n",
       "5530         1.0    0.850075    0.617892    0.466129    0.404447    0.366053   \n",
       "5531         1.0    0.879853    0.697142    0.582636    0.550902     0.57907   \n",
       "5532         1.0    0.818084     0.54939    0.442563    0.447897    0.456272   \n",
       "5533         1.0    0.849283    0.649263    0.558527    0.538855    0.534524   \n",
       "\n",
       "     tempogram_6 tempogram_7 tempogram_8 tempogram_9  ... tempogram_182  \\\n",
       "0       0.431968    0.250836    0.235001    0.263236  ...           0.0   \n",
       "1       0.491005    0.394162    0.329331    0.344596  ...           0.0   \n",
       "2       0.415204    0.527709    0.516881    0.448642  ...          -0.0   \n",
       "3       0.594608    0.558293    0.512215    0.506472  ...          -0.0   \n",
       "4       0.435006    0.619193    0.651466    0.510719  ...           0.0   \n",
       "...          ...         ...         ...         ...  ...           ...   \n",
       "5529    0.467508    0.426792    0.357281    0.347098  ...           0.0   \n",
       "5530    0.384939    0.489267    0.594084    0.618899  ...          -0.0   \n",
       "5531    0.636355    0.678963    0.684967    0.656669  ...           0.0   \n",
       "5532    0.484035    0.524556    0.541601     0.52883  ...          -0.0   \n",
       "5533    0.549038    0.582266    0.646608    0.693621  ...           0.0   \n",
       "\n",
       "     tempogram_183 tempogram_184 tempogram_185 tempogram_186 tempogram_187  \\\n",
       "0              0.0           0.0           0.0           0.0          -0.0   \n",
       "1              0.0           0.0           0.0           0.0           0.0   \n",
       "2             -0.0          -0.0          -0.0           0.0          -0.0   \n",
       "3             -0.0           0.0           0.0           0.0          -0.0   \n",
       "4              0.0           0.0           0.0           0.0           0.0   \n",
       "...            ...           ...           ...           ...           ...   \n",
       "5529           0.0           0.0           0.0           0.0          -0.0   \n",
       "5530           0.0           0.0           0.0           0.0          -0.0   \n",
       "5531           0.0           0.0           0.0           0.0          -0.0   \n",
       "5532          -0.0           0.0           0.0           0.0          -0.0   \n",
       "5533           0.0           0.0           0.0           0.0           0.0   \n",
       "\n",
       "     tempogram_188 tempogram_189 tempogram_190 tempogram_191  \n",
       "0              0.0           0.0           0.0           0.0  \n",
       "1              0.0          -0.0           0.0           0.0  \n",
       "2              0.0          -0.0          -0.0           0.0  \n",
       "3             -0.0           0.0          -0.0           0.0  \n",
       "4              0.0           0.0           0.0           0.0  \n",
       "...            ...           ...           ...           ...  \n",
       "5529           0.0           0.0           0.0           0.0  \n",
       "5530           0.0           0.0           0.0           0.0  \n",
       "5531           0.0           0.0           0.0           0.0  \n",
       "5532           0.0           0.0           0.0           0.0  \n",
       "5533           0.0           0.0           0.0           0.0  \n",
       "\n",
       "[5534 rows x 192 columns]"
      ]
     },
     "execution_count": 50,
     "metadata": {},
     "output_type": "execute_result"
    }
   ],
   "source": [
    "df_t = dataframe_creator(temp,\n",
    "                         df =pd.DataFrame(columns = columns_t), columns = columns_t, l = 192)\n",
    "\n",
    "df_t.reset_index(drop = True, inplace = True)\n",
    "df_t"
   ]
  },
  {
   "cell_type": "code",
   "execution_count": 51,
   "id": "e627f4d5",
   "metadata": {},
   "outputs": [
    {
     "data": {
      "text/plain": [
       "4.154655939557505e-18"
      ]
     },
     "execution_count": 51,
     "metadata": {},
     "output_type": "execute_result"
    }
   ],
   "source": [
    "df_t['tempogram_188'][10]"
   ]
  },
  {
   "cell_type": "code",
   "execution_count": 52,
   "id": "33bee52c",
   "metadata": {},
   "outputs": [],
   "source": [
    "df_t.to_csv(path + '/absent_MV_tempogram.csv')"
   ]
  },
  {
   "cell_type": "code",
   "execution_count": 53,
   "id": "c2ae7b50",
   "metadata": {},
   "outputs": [
    {
     "data": {
      "text/plain": [
       "tempogram_0      0\n",
       "tempogram_1      0\n",
       "tempogram_2      0\n",
       "tempogram_3      0\n",
       "tempogram_4      0\n",
       "                ..\n",
       "tempogram_187    0\n",
       "tempogram_188    0\n",
       "tempogram_189    0\n",
       "tempogram_190    0\n",
       "tempogram_191    0\n",
       "Length: 192, dtype: int64"
      ]
     },
     "execution_count": 53,
     "metadata": {},
     "output_type": "execute_result"
    }
   ],
   "source": [
    "df_t.isin([0]).sum(axis=0)"
   ]
  },
  {
   "cell_type": "code",
   "execution_count": 54,
   "id": "0c13bdc2",
   "metadata": {},
   "outputs": [
    {
     "data": {
      "text/html": [
       "<div>\n",
       "<style scoped>\n",
       "    .dataframe tbody tr th:only-of-type {\n",
       "        vertical-align: middle;\n",
       "    }\n",
       "\n",
       "    .dataframe tbody tr th {\n",
       "        vertical-align: top;\n",
       "    }\n",
       "\n",
       "    .dataframe thead th {\n",
       "        text-align: right;\n",
       "    }\n",
       "</style>\n",
       "<table border=\"1\" class=\"dataframe\">\n",
       "  <thead>\n",
       "    <tr style=\"text-align: right;\">\n",
       "      <th></th>\n",
       "      <th>zcrs0</th>\n",
       "      <th>zcrs1</th>\n",
       "      <th>zcrs2</th>\n",
       "      <th>zcrs3</th>\n",
       "      <th>#ofcrossing</th>\n",
       "      <th>C</th>\n",
       "      <th>C♯</th>\n",
       "      <th>D</th>\n",
       "      <th>D♯</th>\n",
       "      <th>E</th>\n",
       "      <th>F</th>\n",
       "      <th>F♯</th>\n",
       "      <th>G</th>\n",
       "      <th>G♯</th>\n",
       "      <th>A</th>\n",
       "      <th>A♯</th>\n",
       "      <th>B</th>\n",
       "    </tr>\n",
       "  </thead>\n",
       "  <tbody>\n",
       "    <tr>\n",
       "      <th>0</th>\n",
       "      <td>0.034625</td>\n",
       "      <td>0.049500</td>\n",
       "      <td>0.034125</td>\n",
       "      <td>0.044000</td>\n",
       "      <td>1807.0</td>\n",
       "      <td>0.669915</td>\n",
       "      <td>0.808638</td>\n",
       "      <td>0.62196</td>\n",
       "      <td>0.707474</td>\n",
       "      <td>0.715226</td>\n",
       "      <td>0.646128</td>\n",
       "      <td>0.520854</td>\n",
       "      <td>0.461956</td>\n",
       "      <td>0.462268</td>\n",
       "      <td>0.515603</td>\n",
       "      <td>0.658246</td>\n",
       "      <td>0.683442</td>\n",
       "    </tr>\n",
       "    <tr>\n",
       "      <th>1</th>\n",
       "      <td>0.020500</td>\n",
       "      <td>0.033500</td>\n",
       "      <td>0.044500</td>\n",
       "      <td>0.044625</td>\n",
       "      <td>1624.0</td>\n",
       "      <td>0.647967</td>\n",
       "      <td>0.598824</td>\n",
       "      <td>0.570706</td>\n",
       "      <td>0.588224</td>\n",
       "      <td>0.580166</td>\n",
       "      <td>0.767072</td>\n",
       "      <td>0.506898</td>\n",
       "      <td>0.406473</td>\n",
       "      <td>0.470765</td>\n",
       "      <td>0.392013</td>\n",
       "      <td>0.463674</td>\n",
       "      <td>0.500641</td>\n",
       "    </tr>\n",
       "    <tr>\n",
       "      <th>2</th>\n",
       "      <td>0.017375</td>\n",
       "      <td>0.030875</td>\n",
       "      <td>0.051875</td>\n",
       "      <td>0.032000</td>\n",
       "      <td>1709.0</td>\n",
       "      <td>0.564532</td>\n",
       "      <td>0.555141</td>\n",
       "      <td>0.621192</td>\n",
       "      <td>0.563681</td>\n",
       "      <td>0.505942</td>\n",
       "      <td>0.556837</td>\n",
       "      <td>0.378005</td>\n",
       "      <td>0.287664</td>\n",
       "      <td>0.290702</td>\n",
       "      <td>0.35893</td>\n",
       "      <td>0.5553</td>\n",
       "      <td>0.576961</td>\n",
       "    </tr>\n",
       "    <tr>\n",
       "      <th>3</th>\n",
       "      <td>0.020000</td>\n",
       "      <td>0.044500</td>\n",
       "      <td>0.030750</td>\n",
       "      <td>0.048750</td>\n",
       "      <td>1843.0</td>\n",
       "      <td>0.655196</td>\n",
       "      <td>0.665652</td>\n",
       "      <td>0.567938</td>\n",
       "      <td>0.306632</td>\n",
       "      <td>0.423704</td>\n",
       "      <td>0.551027</td>\n",
       "      <td>0.418398</td>\n",
       "      <td>0.588948</td>\n",
       "      <td>0.663119</td>\n",
       "      <td>0.54975</td>\n",
       "      <td>0.64548</td>\n",
       "      <td>0.791106</td>\n",
       "    </tr>\n",
       "    <tr>\n",
       "      <th>4</th>\n",
       "      <td>0.034250</td>\n",
       "      <td>0.038500</td>\n",
       "      <td>0.042750</td>\n",
       "      <td>0.043750</td>\n",
       "      <td>1842.0</td>\n",
       "      <td>0.635908</td>\n",
       "      <td>0.601453</td>\n",
       "      <td>0.849178</td>\n",
       "      <td>0.689748</td>\n",
       "      <td>0.574702</td>\n",
       "      <td>0.46503</td>\n",
       "      <td>0.360879</td>\n",
       "      <td>0.404871</td>\n",
       "      <td>0.42825</td>\n",
       "      <td>0.453988</td>\n",
       "      <td>0.507852</td>\n",
       "      <td>0.548556</td>\n",
       "    </tr>\n",
       "    <tr>\n",
       "      <th>...</th>\n",
       "      <td>...</td>\n",
       "      <td>...</td>\n",
       "      <td>...</td>\n",
       "      <td>...</td>\n",
       "      <td>...</td>\n",
       "      <td>...</td>\n",
       "      <td>...</td>\n",
       "      <td>...</td>\n",
       "      <td>...</td>\n",
       "      <td>...</td>\n",
       "      <td>...</td>\n",
       "      <td>...</td>\n",
       "      <td>...</td>\n",
       "      <td>...</td>\n",
       "      <td>...</td>\n",
       "      <td>...</td>\n",
       "      <td>...</td>\n",
       "    </tr>\n",
       "    <tr>\n",
       "      <th>5529</th>\n",
       "      <td>0.040750</td>\n",
       "      <td>0.063000</td>\n",
       "      <td>0.075875</td>\n",
       "      <td>0.065125</td>\n",
       "      <td>2729.0</td>\n",
       "      <td>0.297003</td>\n",
       "      <td>0.806596</td>\n",
       "      <td>0.623448</td>\n",
       "      <td>0.24406</td>\n",
       "      <td>0.148195</td>\n",
       "      <td>0.140404</td>\n",
       "      <td>0.241639</td>\n",
       "      <td>0.405256</td>\n",
       "      <td>0.467711</td>\n",
       "      <td>0.360803</td>\n",
       "      <td>0.294285</td>\n",
       "      <td>0.264269</td>\n",
       "    </tr>\n",
       "    <tr>\n",
       "      <th>5530</th>\n",
       "      <td>0.034250</td>\n",
       "      <td>0.063125</td>\n",
       "      <td>0.032500</td>\n",
       "      <td>0.051500</td>\n",
       "      <td>2075.0</td>\n",
       "      <td>0.589885</td>\n",
       "      <td>0.613856</td>\n",
       "      <td>0.496005</td>\n",
       "      <td>0.38868</td>\n",
       "      <td>0.307694</td>\n",
       "      <td>0.336509</td>\n",
       "      <td>0.587345</td>\n",
       "      <td>0.602297</td>\n",
       "      <td>0.502682</td>\n",
       "      <td>0.417944</td>\n",
       "      <td>0.422392</td>\n",
       "      <td>0.531135</td>\n",
       "    </tr>\n",
       "    <tr>\n",
       "      <th>5531</th>\n",
       "      <td>0.025875</td>\n",
       "      <td>0.041000</td>\n",
       "      <td>0.039125</td>\n",
       "      <td>0.053750</td>\n",
       "      <td>1753.0</td>\n",
       "      <td>0.514989</td>\n",
       "      <td>0.637228</td>\n",
       "      <td>0.589905</td>\n",
       "      <td>0.489533</td>\n",
       "      <td>0.488955</td>\n",
       "      <td>0.488679</td>\n",
       "      <td>0.475388</td>\n",
       "      <td>0.645926</td>\n",
       "      <td>0.69642</td>\n",
       "      <td>0.569856</td>\n",
       "      <td>0.489083</td>\n",
       "      <td>0.668931</td>\n",
       "    </tr>\n",
       "    <tr>\n",
       "      <th>5532</th>\n",
       "      <td>0.025500</td>\n",
       "      <td>0.072750</td>\n",
       "      <td>0.084625</td>\n",
       "      <td>0.049125</td>\n",
       "      <td>2587.0</td>\n",
       "      <td>0.553569</td>\n",
       "      <td>0.588816</td>\n",
       "      <td>0.549302</td>\n",
       "      <td>0.306009</td>\n",
       "      <td>0.168464</td>\n",
       "      <td>0.183818</td>\n",
       "      <td>0.2305</td>\n",
       "      <td>0.40076</td>\n",
       "      <td>0.689869</td>\n",
       "      <td>0.859795</td>\n",
       "      <td>0.785542</td>\n",
       "      <td>0.825416</td>\n",
       "    </tr>\n",
       "    <tr>\n",
       "      <th>5533</th>\n",
       "      <td>0.027375</td>\n",
       "      <td>0.059750</td>\n",
       "      <td>0.062125</td>\n",
       "      <td>0.051875</td>\n",
       "      <td>2423.0</td>\n",
       "      <td>0.625649</td>\n",
       "      <td>0.522516</td>\n",
       "      <td>0.478737</td>\n",
       "      <td>0.443504</td>\n",
       "      <td>0.369527</td>\n",
       "      <td>0.46861</td>\n",
       "      <td>0.655708</td>\n",
       "      <td>0.692168</td>\n",
       "      <td>0.682512</td>\n",
       "      <td>0.544127</td>\n",
       "      <td>0.658893</td>\n",
       "      <td>0.625514</td>\n",
       "    </tr>\n",
       "  </tbody>\n",
       "</table>\n",
       "<p>5534 rows × 17 columns</p>\n",
       "</div>"
      ],
      "text/plain": [
       "         zcrs0     zcrs1     zcrs2     zcrs3  #ofcrossing         C        C♯  \\\n",
       "0     0.034625  0.049500  0.034125  0.044000       1807.0  0.669915  0.808638   \n",
       "1     0.020500  0.033500  0.044500  0.044625       1624.0  0.647967  0.598824   \n",
       "2     0.017375  0.030875  0.051875  0.032000       1709.0  0.564532  0.555141   \n",
       "3     0.020000  0.044500  0.030750  0.048750       1843.0  0.655196  0.665652   \n",
       "4     0.034250  0.038500  0.042750  0.043750       1842.0  0.635908  0.601453   \n",
       "...        ...       ...       ...       ...          ...       ...       ...   \n",
       "5529  0.040750  0.063000  0.075875  0.065125       2729.0  0.297003  0.806596   \n",
       "5530  0.034250  0.063125  0.032500  0.051500       2075.0  0.589885  0.613856   \n",
       "5531  0.025875  0.041000  0.039125  0.053750       1753.0  0.514989  0.637228   \n",
       "5532  0.025500  0.072750  0.084625  0.049125       2587.0  0.553569  0.588816   \n",
       "5533  0.027375  0.059750  0.062125  0.051875       2423.0  0.625649  0.522516   \n",
       "\n",
       "             D        D♯         E         F        F♯         G        G♯  \\\n",
       "0      0.62196  0.707474  0.715226  0.646128  0.520854  0.461956  0.462268   \n",
       "1     0.570706  0.588224  0.580166  0.767072  0.506898  0.406473  0.470765   \n",
       "2     0.621192  0.563681  0.505942  0.556837  0.378005  0.287664  0.290702   \n",
       "3     0.567938  0.306632  0.423704  0.551027  0.418398  0.588948  0.663119   \n",
       "4     0.849178  0.689748  0.574702   0.46503  0.360879  0.404871   0.42825   \n",
       "...        ...       ...       ...       ...       ...       ...       ...   \n",
       "5529  0.623448   0.24406  0.148195  0.140404  0.241639  0.405256  0.467711   \n",
       "5530  0.496005   0.38868  0.307694  0.336509  0.587345  0.602297  0.502682   \n",
       "5531  0.589905  0.489533  0.488955  0.488679  0.475388  0.645926   0.69642   \n",
       "5532  0.549302  0.306009  0.168464  0.183818    0.2305   0.40076  0.689869   \n",
       "5533  0.478737  0.443504  0.369527   0.46861  0.655708  0.692168  0.682512   \n",
       "\n",
       "             A        A♯         B  \n",
       "0     0.515603  0.658246  0.683442  \n",
       "1     0.392013  0.463674  0.500641  \n",
       "2      0.35893    0.5553  0.576961  \n",
       "3      0.54975   0.64548  0.791106  \n",
       "4     0.453988  0.507852  0.548556  \n",
       "...        ...       ...       ...  \n",
       "5529  0.360803  0.294285  0.264269  \n",
       "5530  0.417944  0.422392  0.531135  \n",
       "5531  0.569856  0.489083  0.668931  \n",
       "5532  0.859795  0.785542  0.825416  \n",
       "5533  0.544127  0.658893  0.625514  \n",
       "\n",
       "[5534 rows x 17 columns]"
      ]
     },
     "execution_count": 54,
     "metadata": {},
     "output_type": "execute_result"
    }
   ],
   "source": [
    "final_df = pd.concat([df, ch_df], axis =1)\n",
    "final_df"
   ]
  },
  {
   "cell_type": "code",
   "execution_count": 55,
   "id": "32a62976",
   "metadata": {},
   "outputs": [
    {
     "data": {
      "text/html": [
       "<div>\n",
       "<style scoped>\n",
       "    .dataframe tbody tr th:only-of-type {\n",
       "        vertical-align: middle;\n",
       "    }\n",
       "\n",
       "    .dataframe tbody tr th {\n",
       "        vertical-align: top;\n",
       "    }\n",
       "\n",
       "    .dataframe thead th {\n",
       "        text-align: right;\n",
       "    }\n",
       "</style>\n",
       "<table border=\"1\" class=\"dataframe\">\n",
       "  <thead>\n",
       "    <tr style=\"text-align: right;\">\n",
       "      <th></th>\n",
       "      <th>zcrs0</th>\n",
       "      <th>zcrs1</th>\n",
       "      <th>zcrs2</th>\n",
       "      <th>zcrs3</th>\n",
       "      <th>#ofcrossing</th>\n",
       "      <th>C</th>\n",
       "      <th>C♯</th>\n",
       "      <th>D</th>\n",
       "      <th>D♯</th>\n",
       "      <th>E</th>\n",
       "      <th>...</th>\n",
       "      <th>tempogram_182</th>\n",
       "      <th>tempogram_183</th>\n",
       "      <th>tempogram_184</th>\n",
       "      <th>tempogram_185</th>\n",
       "      <th>tempogram_186</th>\n",
       "      <th>tempogram_187</th>\n",
       "      <th>tempogram_188</th>\n",
       "      <th>tempogram_189</th>\n",
       "      <th>tempogram_190</th>\n",
       "      <th>tempogram_191</th>\n",
       "    </tr>\n",
       "  </thead>\n",
       "  <tbody>\n",
       "    <tr>\n",
       "      <th>0</th>\n",
       "      <td>0.034625</td>\n",
       "      <td>0.049500</td>\n",
       "      <td>0.034125</td>\n",
       "      <td>0.044000</td>\n",
       "      <td>1807.0</td>\n",
       "      <td>0.669915</td>\n",
       "      <td>0.808638</td>\n",
       "      <td>0.62196</td>\n",
       "      <td>0.707474</td>\n",
       "      <td>0.715226</td>\n",
       "      <td>...</td>\n",
       "      <td>0.0</td>\n",
       "      <td>0.0</td>\n",
       "      <td>0.0</td>\n",
       "      <td>0.0</td>\n",
       "      <td>0.0</td>\n",
       "      <td>-0.0</td>\n",
       "      <td>0.0</td>\n",
       "      <td>0.0</td>\n",
       "      <td>0.0</td>\n",
       "      <td>0.0</td>\n",
       "    </tr>\n",
       "    <tr>\n",
       "      <th>1</th>\n",
       "      <td>0.020500</td>\n",
       "      <td>0.033500</td>\n",
       "      <td>0.044500</td>\n",
       "      <td>0.044625</td>\n",
       "      <td>1624.0</td>\n",
       "      <td>0.647967</td>\n",
       "      <td>0.598824</td>\n",
       "      <td>0.570706</td>\n",
       "      <td>0.588224</td>\n",
       "      <td>0.580166</td>\n",
       "      <td>...</td>\n",
       "      <td>0.0</td>\n",
       "      <td>0.0</td>\n",
       "      <td>0.0</td>\n",
       "      <td>0.0</td>\n",
       "      <td>0.0</td>\n",
       "      <td>0.0</td>\n",
       "      <td>0.0</td>\n",
       "      <td>-0.0</td>\n",
       "      <td>0.0</td>\n",
       "      <td>0.0</td>\n",
       "    </tr>\n",
       "    <tr>\n",
       "      <th>2</th>\n",
       "      <td>0.017375</td>\n",
       "      <td>0.030875</td>\n",
       "      <td>0.051875</td>\n",
       "      <td>0.032000</td>\n",
       "      <td>1709.0</td>\n",
       "      <td>0.564532</td>\n",
       "      <td>0.555141</td>\n",
       "      <td>0.621192</td>\n",
       "      <td>0.563681</td>\n",
       "      <td>0.505942</td>\n",
       "      <td>...</td>\n",
       "      <td>-0.0</td>\n",
       "      <td>-0.0</td>\n",
       "      <td>-0.0</td>\n",
       "      <td>-0.0</td>\n",
       "      <td>0.0</td>\n",
       "      <td>-0.0</td>\n",
       "      <td>0.0</td>\n",
       "      <td>-0.0</td>\n",
       "      <td>-0.0</td>\n",
       "      <td>0.0</td>\n",
       "    </tr>\n",
       "    <tr>\n",
       "      <th>3</th>\n",
       "      <td>0.020000</td>\n",
       "      <td>0.044500</td>\n",
       "      <td>0.030750</td>\n",
       "      <td>0.048750</td>\n",
       "      <td>1843.0</td>\n",
       "      <td>0.655196</td>\n",
       "      <td>0.665652</td>\n",
       "      <td>0.567938</td>\n",
       "      <td>0.306632</td>\n",
       "      <td>0.423704</td>\n",
       "      <td>...</td>\n",
       "      <td>-0.0</td>\n",
       "      <td>-0.0</td>\n",
       "      <td>0.0</td>\n",
       "      <td>0.0</td>\n",
       "      <td>0.0</td>\n",
       "      <td>-0.0</td>\n",
       "      <td>-0.0</td>\n",
       "      <td>0.0</td>\n",
       "      <td>-0.0</td>\n",
       "      <td>0.0</td>\n",
       "    </tr>\n",
       "    <tr>\n",
       "      <th>4</th>\n",
       "      <td>0.034250</td>\n",
       "      <td>0.038500</td>\n",
       "      <td>0.042750</td>\n",
       "      <td>0.043750</td>\n",
       "      <td>1842.0</td>\n",
       "      <td>0.635908</td>\n",
       "      <td>0.601453</td>\n",
       "      <td>0.849178</td>\n",
       "      <td>0.689748</td>\n",
       "      <td>0.574702</td>\n",
       "      <td>...</td>\n",
       "      <td>0.0</td>\n",
       "      <td>0.0</td>\n",
       "      <td>0.0</td>\n",
       "      <td>0.0</td>\n",
       "      <td>0.0</td>\n",
       "      <td>0.0</td>\n",
       "      <td>0.0</td>\n",
       "      <td>0.0</td>\n",
       "      <td>0.0</td>\n",
       "      <td>0.0</td>\n",
       "    </tr>\n",
       "    <tr>\n",
       "      <th>...</th>\n",
       "      <td>...</td>\n",
       "      <td>...</td>\n",
       "      <td>...</td>\n",
       "      <td>...</td>\n",
       "      <td>...</td>\n",
       "      <td>...</td>\n",
       "      <td>...</td>\n",
       "      <td>...</td>\n",
       "      <td>...</td>\n",
       "      <td>...</td>\n",
       "      <td>...</td>\n",
       "      <td>...</td>\n",
       "      <td>...</td>\n",
       "      <td>...</td>\n",
       "      <td>...</td>\n",
       "      <td>...</td>\n",
       "      <td>...</td>\n",
       "      <td>...</td>\n",
       "      <td>...</td>\n",
       "      <td>...</td>\n",
       "      <td>...</td>\n",
       "    </tr>\n",
       "    <tr>\n",
       "      <th>5529</th>\n",
       "      <td>0.040750</td>\n",
       "      <td>0.063000</td>\n",
       "      <td>0.075875</td>\n",
       "      <td>0.065125</td>\n",
       "      <td>2729.0</td>\n",
       "      <td>0.297003</td>\n",
       "      <td>0.806596</td>\n",
       "      <td>0.623448</td>\n",
       "      <td>0.24406</td>\n",
       "      <td>0.148195</td>\n",
       "      <td>...</td>\n",
       "      <td>0.0</td>\n",
       "      <td>0.0</td>\n",
       "      <td>0.0</td>\n",
       "      <td>0.0</td>\n",
       "      <td>0.0</td>\n",
       "      <td>-0.0</td>\n",
       "      <td>0.0</td>\n",
       "      <td>0.0</td>\n",
       "      <td>0.0</td>\n",
       "      <td>0.0</td>\n",
       "    </tr>\n",
       "    <tr>\n",
       "      <th>5530</th>\n",
       "      <td>0.034250</td>\n",
       "      <td>0.063125</td>\n",
       "      <td>0.032500</td>\n",
       "      <td>0.051500</td>\n",
       "      <td>2075.0</td>\n",
       "      <td>0.589885</td>\n",
       "      <td>0.613856</td>\n",
       "      <td>0.496005</td>\n",
       "      <td>0.38868</td>\n",
       "      <td>0.307694</td>\n",
       "      <td>...</td>\n",
       "      <td>-0.0</td>\n",
       "      <td>0.0</td>\n",
       "      <td>0.0</td>\n",
       "      <td>0.0</td>\n",
       "      <td>0.0</td>\n",
       "      <td>-0.0</td>\n",
       "      <td>0.0</td>\n",
       "      <td>0.0</td>\n",
       "      <td>0.0</td>\n",
       "      <td>0.0</td>\n",
       "    </tr>\n",
       "    <tr>\n",
       "      <th>5531</th>\n",
       "      <td>0.025875</td>\n",
       "      <td>0.041000</td>\n",
       "      <td>0.039125</td>\n",
       "      <td>0.053750</td>\n",
       "      <td>1753.0</td>\n",
       "      <td>0.514989</td>\n",
       "      <td>0.637228</td>\n",
       "      <td>0.589905</td>\n",
       "      <td>0.489533</td>\n",
       "      <td>0.488955</td>\n",
       "      <td>...</td>\n",
       "      <td>0.0</td>\n",
       "      <td>0.0</td>\n",
       "      <td>0.0</td>\n",
       "      <td>0.0</td>\n",
       "      <td>0.0</td>\n",
       "      <td>-0.0</td>\n",
       "      <td>0.0</td>\n",
       "      <td>0.0</td>\n",
       "      <td>0.0</td>\n",
       "      <td>0.0</td>\n",
       "    </tr>\n",
       "    <tr>\n",
       "      <th>5532</th>\n",
       "      <td>0.025500</td>\n",
       "      <td>0.072750</td>\n",
       "      <td>0.084625</td>\n",
       "      <td>0.049125</td>\n",
       "      <td>2587.0</td>\n",
       "      <td>0.553569</td>\n",
       "      <td>0.588816</td>\n",
       "      <td>0.549302</td>\n",
       "      <td>0.306009</td>\n",
       "      <td>0.168464</td>\n",
       "      <td>...</td>\n",
       "      <td>-0.0</td>\n",
       "      <td>-0.0</td>\n",
       "      <td>0.0</td>\n",
       "      <td>0.0</td>\n",
       "      <td>0.0</td>\n",
       "      <td>-0.0</td>\n",
       "      <td>0.0</td>\n",
       "      <td>0.0</td>\n",
       "      <td>0.0</td>\n",
       "      <td>0.0</td>\n",
       "    </tr>\n",
       "    <tr>\n",
       "      <th>5533</th>\n",
       "      <td>0.027375</td>\n",
       "      <td>0.059750</td>\n",
       "      <td>0.062125</td>\n",
       "      <td>0.051875</td>\n",
       "      <td>2423.0</td>\n",
       "      <td>0.625649</td>\n",
       "      <td>0.522516</td>\n",
       "      <td>0.478737</td>\n",
       "      <td>0.443504</td>\n",
       "      <td>0.369527</td>\n",
       "      <td>...</td>\n",
       "      <td>0.0</td>\n",
       "      <td>0.0</td>\n",
       "      <td>0.0</td>\n",
       "      <td>0.0</td>\n",
       "      <td>0.0</td>\n",
       "      <td>0.0</td>\n",
       "      <td>0.0</td>\n",
       "      <td>0.0</td>\n",
       "      <td>0.0</td>\n",
       "      <td>0.0</td>\n",
       "    </tr>\n",
       "  </tbody>\n",
       "</table>\n",
       "<p>5534 rows × 209 columns</p>\n",
       "</div>"
      ],
      "text/plain": [
       "         zcrs0     zcrs1     zcrs2     zcrs3  #ofcrossing         C        C♯  \\\n",
       "0     0.034625  0.049500  0.034125  0.044000       1807.0  0.669915  0.808638   \n",
       "1     0.020500  0.033500  0.044500  0.044625       1624.0  0.647967  0.598824   \n",
       "2     0.017375  0.030875  0.051875  0.032000       1709.0  0.564532  0.555141   \n",
       "3     0.020000  0.044500  0.030750  0.048750       1843.0  0.655196  0.665652   \n",
       "4     0.034250  0.038500  0.042750  0.043750       1842.0  0.635908  0.601453   \n",
       "...        ...       ...       ...       ...          ...       ...       ...   \n",
       "5529  0.040750  0.063000  0.075875  0.065125       2729.0  0.297003  0.806596   \n",
       "5530  0.034250  0.063125  0.032500  0.051500       2075.0  0.589885  0.613856   \n",
       "5531  0.025875  0.041000  0.039125  0.053750       1753.0  0.514989  0.637228   \n",
       "5532  0.025500  0.072750  0.084625  0.049125       2587.0  0.553569  0.588816   \n",
       "5533  0.027375  0.059750  0.062125  0.051875       2423.0  0.625649  0.522516   \n",
       "\n",
       "             D        D♯         E  ... tempogram_182 tempogram_183  \\\n",
       "0      0.62196  0.707474  0.715226  ...           0.0           0.0   \n",
       "1     0.570706  0.588224  0.580166  ...           0.0           0.0   \n",
       "2     0.621192  0.563681  0.505942  ...          -0.0          -0.0   \n",
       "3     0.567938  0.306632  0.423704  ...          -0.0          -0.0   \n",
       "4     0.849178  0.689748  0.574702  ...           0.0           0.0   \n",
       "...        ...       ...       ...  ...           ...           ...   \n",
       "5529  0.623448   0.24406  0.148195  ...           0.0           0.0   \n",
       "5530  0.496005   0.38868  0.307694  ...          -0.0           0.0   \n",
       "5531  0.589905  0.489533  0.488955  ...           0.0           0.0   \n",
       "5532  0.549302  0.306009  0.168464  ...          -0.0          -0.0   \n",
       "5533  0.478737  0.443504  0.369527  ...           0.0           0.0   \n",
       "\n",
       "     tempogram_184 tempogram_185 tempogram_186 tempogram_187 tempogram_188  \\\n",
       "0              0.0           0.0           0.0          -0.0           0.0   \n",
       "1              0.0           0.0           0.0           0.0           0.0   \n",
       "2             -0.0          -0.0           0.0          -0.0           0.0   \n",
       "3              0.0           0.0           0.0          -0.0          -0.0   \n",
       "4              0.0           0.0           0.0           0.0           0.0   \n",
       "...            ...           ...           ...           ...           ...   \n",
       "5529           0.0           0.0           0.0          -0.0           0.0   \n",
       "5530           0.0           0.0           0.0          -0.0           0.0   \n",
       "5531           0.0           0.0           0.0          -0.0           0.0   \n",
       "5532           0.0           0.0           0.0          -0.0           0.0   \n",
       "5533           0.0           0.0           0.0           0.0           0.0   \n",
       "\n",
       "     tempogram_189 tempogram_190 tempogram_191  \n",
       "0              0.0           0.0           0.0  \n",
       "1             -0.0           0.0           0.0  \n",
       "2             -0.0          -0.0           0.0  \n",
       "3              0.0          -0.0           0.0  \n",
       "4              0.0           0.0           0.0  \n",
       "...            ...           ...           ...  \n",
       "5529           0.0           0.0           0.0  \n",
       "5530           0.0           0.0           0.0  \n",
       "5531           0.0           0.0           0.0  \n",
       "5532           0.0           0.0           0.0  \n",
       "5533           0.0           0.0           0.0  \n",
       "\n",
       "[5534 rows x 209 columns]"
      ]
     },
     "execution_count": 55,
     "metadata": {},
     "output_type": "execute_result"
    }
   ],
   "source": [
    "final_df = pd.concat([final_df, df_t], axis=1)\n",
    "final_df"
   ]
  },
  {
   "cell_type": "code",
   "execution_count": 56,
   "id": "7c0247a6",
   "metadata": {},
   "outputs": [],
   "source": [
    "final_df.to_csv(path + '/absent_MV_final_sp.csv')"
   ]
  },
  {
   "cell_type": "code",
   "execution_count": null,
   "id": "c49dade0",
   "metadata": {},
   "outputs": [],
   "source": []
  },
  {
   "cell_type": "code",
   "execution_count": null,
   "id": "5900dbe9",
   "metadata": {},
   "outputs": [],
   "source": []
  }
 ],
 "metadata": {
  "kernelspec": {
   "display_name": "Python 3 (ipykernel)",
   "language": "python",
   "name": "python3"
  },
  "language_info": {
   "codemirror_mode": {
    "name": "ipython",
    "version": 3
   },
   "file_extension": ".py",
   "mimetype": "text/x-python",
   "name": "python",
   "nbconvert_exporter": "python",
   "pygments_lexer": "ipython3",
   "version": "3.9.9"
  }
 },
 "nbformat": 4,
 "nbformat_minor": 5
}
