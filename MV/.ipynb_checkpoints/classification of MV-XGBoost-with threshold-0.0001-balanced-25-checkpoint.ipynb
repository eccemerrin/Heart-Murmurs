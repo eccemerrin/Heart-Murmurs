{
 "cells": [
  {
   "cell_type": "markdown",
   "id": "5ff5c96f",
   "metadata": {},
   "source": [
    "### features:\n",
    "* spectogram coef\n",
    "* zero crossing rate\n",
    "* selected chromogram values\n",
    "* selected tempogram values\n",
    "* wavelet levels"
   ]
  },
  {
   "cell_type": "code",
   "execution_count": 1,
   "id": "dcd92ee4",
   "metadata": {},
   "outputs": [
    {
     "ename": "RuntimeError",
     "evalue": "module compiled against API version 0xe but this version of numpy is 0xd",
     "output_type": "error",
     "traceback": [
      "\u001b[0;31m---------------------------------------------------------------------------\u001b[0m",
      "\u001b[0;31mRuntimeError\u001b[0m                              Traceback (most recent call last)",
      "\u001b[0;31mRuntimeError\u001b[0m: module compiled against API version 0xe but this version of numpy is 0xd"
     ]
    }
   ],
   "source": [
    "import pandas as pd \n",
    "import numpy as np\n",
    "from sklearn.pipeline import Pipeline\n",
    "from sklearn.model_selection import train_test_split\n",
    "from sklearn.metrics import classification_report\n",
    "from sklearn.metrics import auc\n",
    "from sklearn.multioutput import MultiOutputClassifier\n",
    "from sklearn.metrics import confusion_matrix, roc_curve, roc_auc_score, precision_recall_curve, recall_score\n",
    "import matplotlib.pyplot as plt\n",
    "import itertools"
   ]
  },
  {
   "cell_type": "code",
   "execution_count": 3,
   "id": "77055433",
   "metadata": {},
   "outputs": [],
   "source": [
    "path = \"/Users/ecem/Desktop/phonocardiogram/data/MV\""
   ]
  },
  {
   "cell_type": "markdown",
   "id": "859b3496",
   "metadata": {},
   "source": [
    "## Load data"
   ]
  },
  {
   "cell_type": "markdown",
   "id": "84ab66f1",
   "metadata": {},
   "source": [
    "Here, our target is to predict disease of patients with multiple diseases. So; our y will be disease column of two column indicatin geach patients disease."
   ]
  },
  {
   "cell_type": "code",
   "execution_count": 4,
   "id": "b2414e78",
   "metadata": {},
   "outputs": [
    {
     "data": {
      "text/html": [
       "<div>\n",
       "<style scoped>\n",
       "    .dataframe tbody tr th:only-of-type {\n",
       "        vertical-align: middle;\n",
       "    }\n",
       "\n",
       "    .dataframe tbody tr th {\n",
       "        vertical-align: top;\n",
       "    }\n",
       "\n",
       "    .dataframe thead th {\n",
       "        text-align: right;\n",
       "    }\n",
       "</style>\n",
       "<table border=\"1\" class=\"dataframe\">\n",
       "  <thead>\n",
       "    <tr style=\"text-align: right;\">\n",
       "      <th></th>\n",
       "      <th>freq_0</th>\n",
       "      <th>freq_1</th>\n",
       "      <th>freq_2</th>\n",
       "      <th>freq_3</th>\n",
       "      <th>freq_4</th>\n",
       "      <th>freq_5</th>\n",
       "      <th>freq_6</th>\n",
       "      <th>freq_7</th>\n",
       "      <th>freq_8</th>\n",
       "      <th>freq_9</th>\n",
       "      <th>...</th>\n",
       "      <th>tempogram_177</th>\n",
       "      <th>tempogram_179</th>\n",
       "      <th>tempogram_180</th>\n",
       "      <th>tempogram_181</th>\n",
       "      <th>tempogram_182</th>\n",
       "      <th>tempogram_183</th>\n",
       "      <th>tempogram_184</th>\n",
       "      <th>tempogram_189</th>\n",
       "      <th>tempogram_190</th>\n",
       "      <th>tempogram_191</th>\n",
       "    </tr>\n",
       "  </thead>\n",
       "  <tbody>\n",
       "    <tr>\n",
       "      <th>0</th>\n",
       "      <td>3.565702e-11</td>\n",
       "      <td>5.058110e-11</td>\n",
       "      <td>5.009728e-11</td>\n",
       "      <td>4.895926e-11</td>\n",
       "      <td>4.722786e-11</td>\n",
       "      <td>4.500613e-11</td>\n",
       "      <td>4.242970e-11</td>\n",
       "      <td>3.966712e-11</td>\n",
       "      <td>3.708980e-11</td>\n",
       "      <td>3.708926e-11</td>\n",
       "      <td>...</td>\n",
       "      <td>5.935937e-18</td>\n",
       "      <td>1.662298e-17</td>\n",
       "      <td>3.058823e-17</td>\n",
       "      <td>4.257155e-17</td>\n",
       "      <td>1.599420e-18</td>\n",
       "      <td>2.954374e-17</td>\n",
       "      <td>2.787757e-17</td>\n",
       "      <td>2.079163e-17</td>\n",
       "      <td>1.414332e-17</td>\n",
       "      <td>2.889118e-17</td>\n",
       "    </tr>\n",
       "    <tr>\n",
       "      <th>1</th>\n",
       "      <td>5.134365e-11</td>\n",
       "      <td>7.243118e-11</td>\n",
       "      <td>7.189839e-11</td>\n",
       "      <td>7.103701e-11</td>\n",
       "      <td>6.990488e-11</td>\n",
       "      <td>6.861625e-11</td>\n",
       "      <td>6.737140e-11</td>\n",
       "      <td>6.641766e-11</td>\n",
       "      <td>6.575817e-11</td>\n",
       "      <td>6.519725e-11</td>\n",
       "      <td>...</td>\n",
       "      <td>-5.254064e-18</td>\n",
       "      <td>1.822149e-18</td>\n",
       "      <td>5.966399e-18</td>\n",
       "      <td>6.824811e-18</td>\n",
       "      <td>-1.274840e-17</td>\n",
       "      <td>1.245525e-18</td>\n",
       "      <td>4.397453e-18</td>\n",
       "      <td>3.463668e-18</td>\n",
       "      <td>2.908491e-18</td>\n",
       "      <td>1.156050e-17</td>\n",
       "    </tr>\n",
       "    <tr>\n",
       "      <th>2</th>\n",
       "      <td>2.742123e-11</td>\n",
       "      <td>3.922052e-11</td>\n",
       "      <td>3.971625e-11</td>\n",
       "      <td>4.018998e-11</td>\n",
       "      <td>4.085918e-11</td>\n",
       "      <td>4.177337e-11</td>\n",
       "      <td>4.266612e-11</td>\n",
       "      <td>4.347156e-11</td>\n",
       "      <td>4.415444e-11</td>\n",
       "      <td>4.468334e-11</td>\n",
       "      <td>...</td>\n",
       "      <td>-1.399242e-18</td>\n",
       "      <td>1.518069e-17</td>\n",
       "      <td>2.112637e-17</td>\n",
       "      <td>3.021586e-17</td>\n",
       "      <td>3.636606e-18</td>\n",
       "      <td>1.548249e-17</td>\n",
       "      <td>1.490537e-17</td>\n",
       "      <td>1.172312e-17</td>\n",
       "      <td>1.392197e-17</td>\n",
       "      <td>3.309639e-17</td>\n",
       "    </tr>\n",
       "    <tr>\n",
       "      <th>3</th>\n",
       "      <td>7.253805e-11</td>\n",
       "      <td>1.041101e-10</td>\n",
       "      <td>1.063940e-10</td>\n",
       "      <td>1.085748e-10</td>\n",
       "      <td>1.104742e-10</td>\n",
       "      <td>1.120098e-10</td>\n",
       "      <td>1.131441e-10</td>\n",
       "      <td>1.138754e-10</td>\n",
       "      <td>1.142270e-10</td>\n",
       "      <td>1.142320e-10</td>\n",
       "      <td>...</td>\n",
       "      <td>3.116256e-18</td>\n",
       "      <td>6.818597e-18</td>\n",
       "      <td>1.140233e-17</td>\n",
       "      <td>1.925106e-17</td>\n",
       "      <td>6.424538e-18</td>\n",
       "      <td>6.027065e-18</td>\n",
       "      <td>3.647587e-18</td>\n",
       "      <td>1.401124e-17</td>\n",
       "      <td>5.493047e-18</td>\n",
       "      <td>1.249725e-17</td>\n",
       "    </tr>\n",
       "    <tr>\n",
       "      <th>4</th>\n",
       "      <td>2.953180e-11</td>\n",
       "      <td>4.238516e-11</td>\n",
       "      <td>4.372856e-11</td>\n",
       "      <td>4.530598e-11</td>\n",
       "      <td>4.697467e-11</td>\n",
       "      <td>4.870685e-11</td>\n",
       "      <td>5.050376e-11</td>\n",
       "      <td>5.234866e-11</td>\n",
       "      <td>5.417679e-11</td>\n",
       "      <td>5.591282e-11</td>\n",
       "      <td>...</td>\n",
       "      <td>-7.287605e-19</td>\n",
       "      <td>8.725804e-18</td>\n",
       "      <td>1.947595e-17</td>\n",
       "      <td>2.591243e-17</td>\n",
       "      <td>3.190898e-18</td>\n",
       "      <td>1.619882e-17</td>\n",
       "      <td>1.861592e-17</td>\n",
       "      <td>1.739028e-17</td>\n",
       "      <td>1.523477e-17</td>\n",
       "      <td>2.122196e-17</td>\n",
       "    </tr>\n",
       "    <tr>\n",
       "      <th>...</th>\n",
       "      <td>...</td>\n",
       "      <td>...</td>\n",
       "      <td>...</td>\n",
       "      <td>...</td>\n",
       "      <td>...</td>\n",
       "      <td>...</td>\n",
       "      <td>...</td>\n",
       "      <td>...</td>\n",
       "      <td>...</td>\n",
       "      <td>...</td>\n",
       "      <td>...</td>\n",
       "      <td>...</td>\n",
       "      <td>...</td>\n",
       "      <td>...</td>\n",
       "      <td>...</td>\n",
       "      <td>...</td>\n",
       "      <td>...</td>\n",
       "      <td>...</td>\n",
       "      <td>...</td>\n",
       "      <td>...</td>\n",
       "      <td>...</td>\n",
       "    </tr>\n",
       "    <tr>\n",
       "      <th>1075</th>\n",
       "      <td>1.166323e-10</td>\n",
       "      <td>1.695751e-10</td>\n",
       "      <td>1.785708e-10</td>\n",
       "      <td>1.880550e-10</td>\n",
       "      <td>1.965457e-10</td>\n",
       "      <td>2.034097e-10</td>\n",
       "      <td>2.084664e-10</td>\n",
       "      <td>2.118851e-10</td>\n",
       "      <td>2.141929e-10</td>\n",
       "      <td>2.162313e-10</td>\n",
       "      <td>...</td>\n",
       "      <td>-2.756389e-18</td>\n",
       "      <td>7.919038e-18</td>\n",
       "      <td>1.114470e-17</td>\n",
       "      <td>2.350613e-17</td>\n",
       "      <td>-1.727700e-19</td>\n",
       "      <td>3.071198e-18</td>\n",
       "      <td>1.276759e-19</td>\n",
       "      <td>8.789764e-18</td>\n",
       "      <td>5.328876e-18</td>\n",
       "      <td>1.366309e-17</td>\n",
       "    </tr>\n",
       "    <tr>\n",
       "      <th>1076</th>\n",
       "      <td>1.330582e-10</td>\n",
       "      <td>1.908228e-10</td>\n",
       "      <td>1.972918e-10</td>\n",
       "      <td>2.059115e-10</td>\n",
       "      <td>2.154406e-10</td>\n",
       "      <td>2.249094e-10</td>\n",
       "      <td>2.336467e-10</td>\n",
       "      <td>2.413569e-10</td>\n",
       "      <td>2.483390e-10</td>\n",
       "      <td>2.560687e-10</td>\n",
       "      <td>...</td>\n",
       "      <td>-2.642670e-18</td>\n",
       "      <td>3.961560e-18</td>\n",
       "      <td>1.011196e-17</td>\n",
       "      <td>2.483538e-17</td>\n",
       "      <td>-3.921357e-18</td>\n",
       "      <td>1.807005e-18</td>\n",
       "      <td>-2.634816e-18</td>\n",
       "      <td>2.755519e-18</td>\n",
       "      <td>5.315982e-18</td>\n",
       "      <td>1.457212e-17</td>\n",
       "    </tr>\n",
       "    <tr>\n",
       "      <th>1077</th>\n",
       "      <td>1.971183e-10</td>\n",
       "      <td>2.801003e-10</td>\n",
       "      <td>2.822917e-10</td>\n",
       "      <td>2.837147e-10</td>\n",
       "      <td>2.838144e-10</td>\n",
       "      <td>2.823869e-10</td>\n",
       "      <td>2.794099e-10</td>\n",
       "      <td>2.750574e-10</td>\n",
       "      <td>2.697999e-10</td>\n",
       "      <td>2.648555e-10</td>\n",
       "      <td>...</td>\n",
       "      <td>9.801412e-19</td>\n",
       "      <td>1.039517e-17</td>\n",
       "      <td>2.379334e-17</td>\n",
       "      <td>2.607605e-17</td>\n",
       "      <td>2.261629e-18</td>\n",
       "      <td>1.203609e-17</td>\n",
       "      <td>-2.183155e-19</td>\n",
       "      <td>1.435194e-17</td>\n",
       "      <td>1.608025e-17</td>\n",
       "      <td>2.572093e-17</td>\n",
       "    </tr>\n",
       "    <tr>\n",
       "      <th>1078</th>\n",
       "      <td>2.030124e-10</td>\n",
       "      <td>2.879313e-10</td>\n",
       "      <td>2.892743e-10</td>\n",
       "      <td>2.899291e-10</td>\n",
       "      <td>2.892023e-10</td>\n",
       "      <td>2.868329e-10</td>\n",
       "      <td>2.829544e-10</td>\n",
       "      <td>2.780129e-10</td>\n",
       "      <td>2.726470e-10</td>\n",
       "      <td>2.675961e-10</td>\n",
       "      <td>...</td>\n",
       "      <td>-8.669065e-19</td>\n",
       "      <td>1.459451e-17</td>\n",
       "      <td>2.212606e-17</td>\n",
       "      <td>2.606953e-17</td>\n",
       "      <td>4.050412e-18</td>\n",
       "      <td>8.375194e-18</td>\n",
       "      <td>-3.074482e-18</td>\n",
       "      <td>1.030202e-17</td>\n",
       "      <td>6.865534e-18</td>\n",
       "      <td>1.954120e-17</td>\n",
       "    </tr>\n",
       "    <tr>\n",
       "      <th>1079</th>\n",
       "      <td>2.739277e-10</td>\n",
       "      <td>3.885067e-10</td>\n",
       "      <td>3.869463e-10</td>\n",
       "      <td>3.827932e-10</td>\n",
       "      <td>3.766236e-10</td>\n",
       "      <td>3.692626e-10</td>\n",
       "      <td>3.617272e-10</td>\n",
       "      <td>3.551194e-10</td>\n",
       "      <td>3.504388e-10</td>\n",
       "      <td>3.482962e-10</td>\n",
       "      <td>...</td>\n",
       "      <td>-2.794576e-18</td>\n",
       "      <td>1.820209e-17</td>\n",
       "      <td>1.284358e-17</td>\n",
       "      <td>3.015365e-17</td>\n",
       "      <td>-7.311598e-18</td>\n",
       "      <td>1.152347e-17</td>\n",
       "      <td>7.072582e-18</td>\n",
       "      <td>1.318026e-17</td>\n",
       "      <td>7.373051e-18</td>\n",
       "      <td>1.616792e-17</td>\n",
       "    </tr>\n",
       "  </tbody>\n",
       "</table>\n",
       "<p>1080 rows × 18657 columns</p>\n",
       "</div>"
      ],
      "text/plain": [
       "            freq_0        freq_1        freq_2        freq_3        freq_4  \\\n",
       "0     3.565702e-11  5.058110e-11  5.009728e-11  4.895926e-11  4.722786e-11   \n",
       "1     5.134365e-11  7.243118e-11  7.189839e-11  7.103701e-11  6.990488e-11   \n",
       "2     2.742123e-11  3.922052e-11  3.971625e-11  4.018998e-11  4.085918e-11   \n",
       "3     7.253805e-11  1.041101e-10  1.063940e-10  1.085748e-10  1.104742e-10   \n",
       "4     2.953180e-11  4.238516e-11  4.372856e-11  4.530598e-11  4.697467e-11   \n",
       "...            ...           ...           ...           ...           ...   \n",
       "1075  1.166323e-10  1.695751e-10  1.785708e-10  1.880550e-10  1.965457e-10   \n",
       "1076  1.330582e-10  1.908228e-10  1.972918e-10  2.059115e-10  2.154406e-10   \n",
       "1077  1.971183e-10  2.801003e-10  2.822917e-10  2.837147e-10  2.838144e-10   \n",
       "1078  2.030124e-10  2.879313e-10  2.892743e-10  2.899291e-10  2.892023e-10   \n",
       "1079  2.739277e-10  3.885067e-10  3.869463e-10  3.827932e-10  3.766236e-10   \n",
       "\n",
       "            freq_5        freq_6        freq_7        freq_8        freq_9  \\\n",
       "0     4.500613e-11  4.242970e-11  3.966712e-11  3.708980e-11  3.708926e-11   \n",
       "1     6.861625e-11  6.737140e-11  6.641766e-11  6.575817e-11  6.519725e-11   \n",
       "2     4.177337e-11  4.266612e-11  4.347156e-11  4.415444e-11  4.468334e-11   \n",
       "3     1.120098e-10  1.131441e-10  1.138754e-10  1.142270e-10  1.142320e-10   \n",
       "4     4.870685e-11  5.050376e-11  5.234866e-11  5.417679e-11  5.591282e-11   \n",
       "...            ...           ...           ...           ...           ...   \n",
       "1075  2.034097e-10  2.084664e-10  2.118851e-10  2.141929e-10  2.162313e-10   \n",
       "1076  2.249094e-10  2.336467e-10  2.413569e-10  2.483390e-10  2.560687e-10   \n",
       "1077  2.823869e-10  2.794099e-10  2.750574e-10  2.697999e-10  2.648555e-10   \n",
       "1078  2.868329e-10  2.829544e-10  2.780129e-10  2.726470e-10  2.675961e-10   \n",
       "1079  3.692626e-10  3.617272e-10  3.551194e-10  3.504388e-10  3.482962e-10   \n",
       "\n",
       "      ...  tempogram_177  tempogram_179  tempogram_180  tempogram_181  \\\n",
       "0     ...   5.935937e-18   1.662298e-17   3.058823e-17   4.257155e-17   \n",
       "1     ...  -5.254064e-18   1.822149e-18   5.966399e-18   6.824811e-18   \n",
       "2     ...  -1.399242e-18   1.518069e-17   2.112637e-17   3.021586e-17   \n",
       "3     ...   3.116256e-18   6.818597e-18   1.140233e-17   1.925106e-17   \n",
       "4     ...  -7.287605e-19   8.725804e-18   1.947595e-17   2.591243e-17   \n",
       "...   ...            ...            ...            ...            ...   \n",
       "1075  ...  -2.756389e-18   7.919038e-18   1.114470e-17   2.350613e-17   \n",
       "1076  ...  -2.642670e-18   3.961560e-18   1.011196e-17   2.483538e-17   \n",
       "1077  ...   9.801412e-19   1.039517e-17   2.379334e-17   2.607605e-17   \n",
       "1078  ...  -8.669065e-19   1.459451e-17   2.212606e-17   2.606953e-17   \n",
       "1079  ...  -2.794576e-18   1.820209e-17   1.284358e-17   3.015365e-17   \n",
       "\n",
       "      tempogram_182  tempogram_183  tempogram_184  tempogram_189  \\\n",
       "0      1.599420e-18   2.954374e-17   2.787757e-17   2.079163e-17   \n",
       "1     -1.274840e-17   1.245525e-18   4.397453e-18   3.463668e-18   \n",
       "2      3.636606e-18   1.548249e-17   1.490537e-17   1.172312e-17   \n",
       "3      6.424538e-18   6.027065e-18   3.647587e-18   1.401124e-17   \n",
       "4      3.190898e-18   1.619882e-17   1.861592e-17   1.739028e-17   \n",
       "...             ...            ...            ...            ...   \n",
       "1075  -1.727700e-19   3.071198e-18   1.276759e-19   8.789764e-18   \n",
       "1076  -3.921357e-18   1.807005e-18  -2.634816e-18   2.755519e-18   \n",
       "1077   2.261629e-18   1.203609e-17  -2.183155e-19   1.435194e-17   \n",
       "1078   4.050412e-18   8.375194e-18  -3.074482e-18   1.030202e-17   \n",
       "1079  -7.311598e-18   1.152347e-17   7.072582e-18   1.318026e-17   \n",
       "\n",
       "      tempogram_190  tempogram_191  \n",
       "0      1.414332e-17   2.889118e-17  \n",
       "1      2.908491e-18   1.156050e-17  \n",
       "2      1.392197e-17   3.309639e-17  \n",
       "3      5.493047e-18   1.249725e-17  \n",
       "4      1.523477e-17   2.122196e-17  \n",
       "...             ...            ...  \n",
       "1075   5.328876e-18   1.366309e-17  \n",
       "1076   5.315982e-18   1.457212e-17  \n",
       "1077   1.608025e-17   2.572093e-17  \n",
       "1078   6.865534e-18   1.954120e-17  \n",
       "1079   7.373051e-18   1.616792e-17  \n",
       "\n",
       "[1080 rows x 18657 columns]"
      ]
     },
     "execution_count": 4,
     "metadata": {},
     "output_type": "execute_result"
    }
   ],
   "source": [
    "present_df = pd.read_csv(path + \"/present/present_MV_p_features.csv\", index_col = 0) \n",
    "present_df"
   ]
  },
  {
   "cell_type": "code",
   "execution_count": 5,
   "id": "a6fc5275",
   "metadata": {},
   "outputs": [
    {
     "data": {
      "text/plain": [
       "3240.0"
      ]
     },
     "execution_count": 5,
     "metadata": {},
     "output_type": "execute_result"
    }
   ],
   "source": [
    "1080*75/25\n"
   ]
  },
  {
   "cell_type": "code",
   "execution_count": 7,
   "id": "d061dfc3",
   "metadata": {},
   "outputs": [],
   "source": [
    "absent_df = pd.read_csv(path + \"/absent/absent_MV_p_features.csv\", index_col = 0) \n",
    "#absent_df"
   ]
  },
  {
   "cell_type": "code",
   "execution_count": 8,
   "id": "ac3f3fed",
   "metadata": {},
   "outputs": [],
   "source": [
    "absent_df =  absent_df.sample(n = 3240 , axis = 0)"
   ]
  },
  {
   "cell_type": "markdown",
   "id": "737042c5",
   "metadata": {},
   "source": [
    "### create labels"
   ]
  },
  {
   "cell_type": "code",
   "execution_count": 13,
   "id": "78132229",
   "metadata": {},
   "outputs": [
    {
     "data": {
      "text/plain": [
       "(4320,)"
      ]
     },
     "execution_count": 13,
     "metadata": {},
     "output_type": "execute_result"
    }
   ],
   "source": [
    "y = np.concatenate((np.ones(1080), np.zeros(3240)), axis =0)\n",
    "y.shape"
   ]
  },
  {
   "cell_type": "markdown",
   "id": "42a97e3f",
   "metadata": {},
   "source": [
    "## concat features"
   ]
  },
  {
   "cell_type": "code",
   "execution_count": 14,
   "id": "6cd3f63f",
   "metadata": {},
   "outputs": [],
   "source": [
    "df = pd.concat([present_df, absent_df], axis = 0)\n",
    "#df"
   ]
  },
  {
   "cell_type": "markdown",
   "id": "8fd7c4d9",
   "metadata": {},
   "source": [
    "## With threshold"
   ]
  },
  {
   "cell_type": "code",
   "execution_count": 15,
   "id": "0298efc9",
   "metadata": {},
   "outputs": [],
   "source": [
    "from sklearn.feature_selection import VarianceThreshold\n",
    "vt = VarianceThreshold(threshold =  0.0001)   # düşük  threshold\n",
    "_ = vt.fit(df)\n",
    "masked = vt.get_support()\n",
    "features_masked = df.loc[:, masked]\n",
    "#features_masked # uncomment to see the dataframe #6941, 703"
   ]
  },
  {
   "cell_type": "code",
   "execution_count": 16,
   "id": "bcf4f600",
   "metadata": {},
   "outputs": [],
   "source": [
    "X_train_, X_valid_, y_train_, y_valid_ = train_test_split(features_masked, y , train_size=0.8, test_size=0.2,\n",
    "                                                                random_state=42)"
   ]
  },
  {
   "cell_type": "code",
   "execution_count": 17,
   "id": "03778983",
   "metadata": {},
   "outputs": [],
   "source": [
    "import xgboost as xgb\n",
    "\n",
    "clf = xgb.XGBClassifier(objective= \"binary:logistic\", eval_metric = \"logloss\")\n"
   ]
  },
  {
   "cell_type": "code",
   "execution_count": 18,
   "id": "7a51bf47",
   "metadata": {},
   "outputs": [
    {
     "data": {
      "text/html": [
       "<style>#sk-container-id-1 {color: black;background-color: white;}#sk-container-id-1 pre{padding: 0;}#sk-container-id-1 div.sk-toggleable {background-color: white;}#sk-container-id-1 label.sk-toggleable__label {cursor: pointer;display: block;width: 100%;margin-bottom: 0;padding: 0.3em;box-sizing: border-box;text-align: center;}#sk-container-id-1 label.sk-toggleable__label-arrow:before {content: \"▸\";float: left;margin-right: 0.25em;color: #696969;}#sk-container-id-1 label.sk-toggleable__label-arrow:hover:before {color: black;}#sk-container-id-1 div.sk-estimator:hover label.sk-toggleable__label-arrow:before {color: black;}#sk-container-id-1 div.sk-toggleable__content {max-height: 0;max-width: 0;overflow: hidden;text-align: left;background-color: #f0f8ff;}#sk-container-id-1 div.sk-toggleable__content pre {margin: 0.2em;color: black;border-radius: 0.25em;background-color: #f0f8ff;}#sk-container-id-1 input.sk-toggleable__control:checked~div.sk-toggleable__content {max-height: 200px;max-width: 100%;overflow: auto;}#sk-container-id-1 input.sk-toggleable__control:checked~label.sk-toggleable__label-arrow:before {content: \"▾\";}#sk-container-id-1 div.sk-estimator input.sk-toggleable__control:checked~label.sk-toggleable__label {background-color: #d4ebff;}#sk-container-id-1 div.sk-label input.sk-toggleable__control:checked~label.sk-toggleable__label {background-color: #d4ebff;}#sk-container-id-1 input.sk-hidden--visually {border: 0;clip: rect(1px 1px 1px 1px);clip: rect(1px, 1px, 1px, 1px);height: 1px;margin: -1px;overflow: hidden;padding: 0;position: absolute;width: 1px;}#sk-container-id-1 div.sk-estimator {font-family: monospace;background-color: #f0f8ff;border: 1px dotted black;border-radius: 0.25em;box-sizing: border-box;margin-bottom: 0.5em;}#sk-container-id-1 div.sk-estimator:hover {background-color: #d4ebff;}#sk-container-id-1 div.sk-parallel-item::after {content: \"\";width: 100%;border-bottom: 1px solid gray;flex-grow: 1;}#sk-container-id-1 div.sk-label:hover label.sk-toggleable__label {background-color: #d4ebff;}#sk-container-id-1 div.sk-serial::before {content: \"\";position: absolute;border-left: 1px solid gray;box-sizing: border-box;top: 0;bottom: 0;left: 50%;z-index: 0;}#sk-container-id-1 div.sk-serial {display: flex;flex-direction: column;align-items: center;background-color: white;padding-right: 0.2em;padding-left: 0.2em;position: relative;}#sk-container-id-1 div.sk-item {position: relative;z-index: 1;}#sk-container-id-1 div.sk-parallel {display: flex;align-items: stretch;justify-content: center;background-color: white;position: relative;}#sk-container-id-1 div.sk-item::before, #sk-container-id-1 div.sk-parallel-item::before {content: \"\";position: absolute;border-left: 1px solid gray;box-sizing: border-box;top: 0;bottom: 0;left: 50%;z-index: -1;}#sk-container-id-1 div.sk-parallel-item {display: flex;flex-direction: column;z-index: 1;position: relative;background-color: white;}#sk-container-id-1 div.sk-parallel-item:first-child::after {align-self: flex-end;width: 50%;}#sk-container-id-1 div.sk-parallel-item:last-child::after {align-self: flex-start;width: 50%;}#sk-container-id-1 div.sk-parallel-item:only-child::after {width: 0;}#sk-container-id-1 div.sk-dashed-wrapped {border: 1px dashed gray;margin: 0 0.4em 0.5em 0.4em;box-sizing: border-box;padding-bottom: 0.4em;background-color: white;}#sk-container-id-1 div.sk-label label {font-family: monospace;font-weight: bold;display: inline-block;line-height: 1.2em;}#sk-container-id-1 div.sk-label-container {text-align: center;}#sk-container-id-1 div.sk-container {/* jupyter's `normalize.less` sets `[hidden] { display: none; }` but bootstrap.min.css set `[hidden] { display: none !important; }` so we also need the `!important` here to be able to override the default hidden behavior on the sphinx rendered scikit-learn.org. See: https://github.com/scikit-learn/scikit-learn/issues/21755 */display: inline-block !important;position: relative;}#sk-container-id-1 div.sk-text-repr-fallback {display: none;}</style><div id=\"sk-container-id-1\" class=\"sk-top-container\"><div class=\"sk-text-repr-fallback\"><pre>XGBClassifier(base_score=0.5, booster=&#x27;gbtree&#x27;, callbacks=None,\n",
       "              colsample_bylevel=1, colsample_bynode=1, colsample_bytree=1,\n",
       "              early_stopping_rounds=None, enable_categorical=False,\n",
       "              eval_metric=&#x27;logloss&#x27;, gamma=0, gpu_id=-1,\n",
       "              grow_policy=&#x27;depthwise&#x27;, importance_type=None,\n",
       "              interaction_constraints=&#x27;&#x27;, learning_rate=0.300000012,\n",
       "              max_bin=256, max_cat_to_onehot=4, max_delta_step=0, max_depth=6,\n",
       "              max_leaves=0, min_child_weight=1, missing=nan,\n",
       "              monotone_constraints=&#x27;()&#x27;, n_estimators=100, n_jobs=0,\n",
       "              num_parallel_tree=1, predictor=&#x27;auto&#x27;, random_state=0,\n",
       "              reg_alpha=0, reg_lambda=1, ...)</pre><b>In a Jupyter environment, please rerun this cell to show the HTML representation or trust the notebook. <br />On GitHub, the HTML representation is unable to render, please try loading this page with nbviewer.org.</b></div><div class=\"sk-container\" hidden><div class=\"sk-item\"><div class=\"sk-estimator sk-toggleable\"><input class=\"sk-toggleable__control sk-hidden--visually\" id=\"sk-estimator-id-1\" type=\"checkbox\" checked><label for=\"sk-estimator-id-1\" class=\"sk-toggleable__label sk-toggleable__label-arrow\">XGBClassifier</label><div class=\"sk-toggleable__content\"><pre>XGBClassifier(base_score=0.5, booster=&#x27;gbtree&#x27;, callbacks=None,\n",
       "              colsample_bylevel=1, colsample_bynode=1, colsample_bytree=1,\n",
       "              early_stopping_rounds=None, enable_categorical=False,\n",
       "              eval_metric=&#x27;logloss&#x27;, gamma=0, gpu_id=-1,\n",
       "              grow_policy=&#x27;depthwise&#x27;, importance_type=None,\n",
       "              interaction_constraints=&#x27;&#x27;, learning_rate=0.300000012,\n",
       "              max_bin=256, max_cat_to_onehot=4, max_delta_step=0, max_depth=6,\n",
       "              max_leaves=0, min_child_weight=1, missing=nan,\n",
       "              monotone_constraints=&#x27;()&#x27;, n_estimators=100, n_jobs=0,\n",
       "              num_parallel_tree=1, predictor=&#x27;auto&#x27;, random_state=0,\n",
       "              reg_alpha=0, reg_lambda=1, ...)</pre></div></div></div></div></div>"
      ],
      "text/plain": [
       "XGBClassifier(base_score=0.5, booster='gbtree', callbacks=None,\n",
       "              colsample_bylevel=1, colsample_bynode=1, colsample_bytree=1,\n",
       "              early_stopping_rounds=None, enable_categorical=False,\n",
       "              eval_metric='logloss', gamma=0, gpu_id=-1,\n",
       "              grow_policy='depthwise', importance_type=None,\n",
       "              interaction_constraints='', learning_rate=0.300000012,\n",
       "              max_bin=256, max_cat_to_onehot=4, max_delta_step=0, max_depth=6,\n",
       "              max_leaves=0, min_child_weight=1, missing=nan,\n",
       "              monotone_constraints='()', n_estimators=100, n_jobs=0,\n",
       "              num_parallel_tree=1, predictor='auto', random_state=0,\n",
       "              reg_alpha=0, reg_lambda=1, ...)"
      ]
     },
     "execution_count": 18,
     "metadata": {},
     "output_type": "execute_result"
    }
   ],
   "source": [
    "clf.fit(X_train_, y_train_)\n"
   ]
  },
  {
   "cell_type": "code",
   "execution_count": 19,
   "id": "ab3c619f",
   "metadata": {},
   "outputs": [],
   "source": [
    "yhat = clf.predict(X_valid_)"
   ]
  },
  {
   "cell_type": "code",
   "execution_count": 20,
   "id": "13300de3",
   "metadata": {},
   "outputs": [
    {
     "data": {
      "text/plain": [
       "(864,)"
      ]
     },
     "execution_count": 20,
     "metadata": {},
     "output_type": "execute_result"
    }
   ],
   "source": [
    "yhat.shape"
   ]
  },
  {
   "cell_type": "code",
   "execution_count": 21,
   "id": "1d2c89e6",
   "metadata": {},
   "outputs": [
    {
     "data": {
      "text/plain": [
       "(864,)"
      ]
     },
     "execution_count": 21,
     "metadata": {},
     "output_type": "execute_result"
    }
   ],
   "source": [
    "y_valid_.shape"
   ]
  },
  {
   "cell_type": "code",
   "execution_count": 22,
   "id": "419b4ece",
   "metadata": {},
   "outputs": [
    {
     "name": "stdout",
     "output_type": "stream",
     "text": [
      "accuracy: 79.40%\n"
     ]
    }
   ],
   "source": [
    "from sklearn.metrics import accuracy_score\n",
    "accuracy = accuracy_score(y_valid_, yhat)\n",
    "print(\"accuracy: %.2f%%\" % (accuracy * 100.0))"
   ]
  },
  {
   "cell_type": "code",
   "execution_count": 23,
   "id": "9dc72ea4",
   "metadata": {},
   "outputs": [
    {
     "name": "stdout",
     "output_type": "stream",
     "text": [
      "recall: 79.40%\n"
     ]
    }
   ],
   "source": [
    "from sklearn.metrics import recall_score\n",
    "recall = recall_score(y_valid_, yhat, average= 'weighted')\n",
    "print(\"recall: %.2f%%\" % (recall * 100.0))\n"
   ]
  },
  {
   "cell_type": "code",
   "execution_count": 24,
   "id": "f954e700",
   "metadata": {},
   "outputs": [
    {
     "name": "stdout",
     "output_type": "stream",
     "text": [
      "precision: 80.15%\n"
     ]
    }
   ],
   "source": [
    "from sklearn.metrics import precision_score\n",
    "precision = precision_score(y_valid_, yhat, average= 'weighted')\n",
    "print(\"precision: %.2f%%\" % (precision * 100.0))"
   ]
  },
  {
   "cell_type": "code",
   "execution_count": 25,
   "id": "d697f808",
   "metadata": {},
   "outputs": [
    {
     "name": "stderr",
     "output_type": "stream",
     "text": [
      "/Users/ecem/miniforge3/envs/tf-metal/lib/python3.9/site-packages/sklearn/utils/deprecation.py:87: FutureWarning: Function plot_confusion_matrix is deprecated; Function `plot_confusion_matrix` is deprecated in 1.0 and will be removed in 1.2. Use one of the class methods: ConfusionMatrixDisplay.from_predictions or ConfusionMatrixDisplay.from_estimator.\n",
      "  warnings.warn(msg, category=FutureWarning)\n"
     ]
    },
    {
     "data": {
      "text/plain": [
       "<sklearn.metrics._plot.confusion_matrix.ConfusionMatrixDisplay at 0x1347320a0>"
      ]
     },
     "execution_count": 25,
     "metadata": {},
     "output_type": "execute_result"
    },
    {
     "data": {
      "image/png": "[encoded data removed]",
      "text/plain": [
       "<Figure size 432x288 with 2 Axes>"
      ]
     },
     "metadata": {
      "needs_background": "light"
     },
     "output_type": "display_data"
    }
   ],
   "source": [
    "from sklearn.metrics import plot_confusion_matrix\n",
    "plot_confusion_matrix(clf, X_valid_, y_valid_) "
   ]
  },
  {
   "cell_type": "code",
   "execution_count": 26,
   "id": "8c685300",
   "metadata": {},
   "outputs": [
    {
     "name": "stdout",
     "output_type": "stream",
     "text": [
      "ROC AUC: 0.6385\n"
     ]
    }
   ],
   "source": [
    "from sklearn.metrics import roc_auc_score\n",
    "score = roc_auc_score(y_valid_, yhat)\n",
    "print(f\"ROC AUC: {score:.4f}\")"
   ]
  },
  {
   "cell_type": "code",
   "execution_count": 27,
   "id": "9d1036a4",
   "metadata": {},
   "outputs": [
    {
     "name": "stdout",
     "output_type": "stream",
     "text": [
      "              precision    recall  f1-score   support\n",
      "\n",
      "      absent       0.79      0.98      0.87       630\n",
      "     present       0.83      0.30      0.44       234\n",
      "\n",
      "    accuracy                           0.79       864\n",
      "   macro avg       0.81      0.64      0.66       864\n",
      "weighted avg       0.80      0.79      0.76       864\n",
      "\n"
     ]
    }
   ],
   "source": [
    "names =[\"absent\", \"present\"]\n",
    "print(classification_report(y_valid_, yhat, target_names = names))"
   ]
  },
  {
   "cell_type": "markdown",
   "id": "c8b0b7ff",
   "metadata": {},
   "source": [
    "* , 1 - 20% as moderately imbalanced data\n",
    "* Notably, the Precision-Recall curve can be used as an alternative metric to evaluate the classifier when the data is imbalanced.\n",
    "* the PR curve is composed of the recall/true positive rate (x-axis) & the precision (y-axis), as shown in figure below. The area under the PR ROC curve (PR AUC) provides a different perspective on evaluating the result of binary classifier. Lager PR AUC value indicates better model performance — the PR curve would move towards the upper right corner.\n",
    "* When data is imbalanced, the AUC might not reflect the true performance of the classifier. The definition of the False Positive Rate (FPR), is the number of false positives divided by the number of negative samples. FPR is considered better when it’s smaller since it indicates fewer false positives. In imbalanced data, the FPR tends to stay at small values due to the large numbers of negatives (i.e. making the denominator large). Thus, FPR becomes less informative for the model performance in this situation.\n",
    "* When there are more negative samples, it is common to predict more outcome as negative samples, causing the precision to decrease."
   ]
  },
  {
   "cell_type": "code",
   "execution_count": 28,
   "id": "f162ac57",
   "metadata": {},
   "outputs": [
    {
     "data": {
      "image/png": "[encoded data removed]",
      "text/plain": [
       "<Figure size 432x288 with 1 Axes>"
      ]
     },
     "metadata": {
      "needs_background": "light"
     },
     "output_type": "display_data"
    },
    {
     "name": "stdout",
     "output_type": "stream",
     "text": [
      "AUC: 0.661\n"
     ]
    }
   ],
   "source": [
    "precision, recall, thresholds = precision_recall_curve(y_valid_, yhat)\n",
    "auc_score = auc(recall, precision)\n",
    "plt.plot([0, 1], [0.5, 0.5], linestyle='--')\n",
    "plt.plot(recall, precision, marker='.')\n",
    "plt.show()\n",
    "print('AUC: %.3f' % auc_score)"
   ]
  },
  {
   "cell_type": "code",
   "execution_count": null,
   "id": "1a6a57dc",
   "metadata": {},
   "outputs": [],
   "source": []
  }
 ],
 "metadata": {
  "kernelspec": {
   "display_name": "Python 3 (ipykernel)",
   "language": "python",
   "name": "python3"
  },
  "language_info": {
   "codemirror_mode": {
    "name": "ipython",
    "version": 3
   },
   "file_extension": ".py",
   "mimetype": "text/x-python",
   "name": "python",
   "nbconvert_exporter": "python",
   "pygments_lexer": "ipython3",
   "version": "3.9.9"
  }
 },
 "nbformat": 4,
 "nbformat_minor": 5
}
