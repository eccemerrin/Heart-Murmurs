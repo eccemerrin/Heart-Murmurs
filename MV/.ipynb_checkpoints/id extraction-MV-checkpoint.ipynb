{
 "cells": [
  {
   "cell_type": "markdown",
   "id": "a10707b4",
   "metadata": {},
   "source": [
    "## Imports:"
   ]
  },
  {
   "cell_type": "code",
   "execution_count": 1,
   "id": "5b0b2dcc",
   "metadata": {},
   "outputs": [
    {
     "ename": "RuntimeError",
     "evalue": "module compiled against API version 0xe but this version of numpy is 0xd",
     "output_type": "error",
     "traceback": [
      "\u001b[0;31m---------------------------------------------------------------------------\u001b[0m",
      "\u001b[0;31mRuntimeError\u001b[0m                              Traceback (most recent call last)",
      "\u001b[0;31mRuntimeError\u001b[0m: module compiled against API version 0xe but this version of numpy is 0xd"
     ]
    }
   ],
   "source": [
    "import scipy.io\n",
    "import os\n",
    "import pandas\n",
    "import numpy as np\n",
    "import matplotlib.pyplot as plt\n",
    "import matplotlib.pylab as plt_lab\n",
    "import matplotlib.gridspec as gridspec\n",
    "import obspy\n",
    "import pandas as pd"
   ]
  },
  {
   "cell_type": "code",
   "execution_count": 2,
   "id": "995724bf",
   "metadata": {},
   "outputs": [],
   "source": [
    "import warnings\n",
    "warnings.filterwarnings('ignore')"
   ]
  },
  {
   "cell_type": "markdown",
   "id": "41b4c77f",
   "metadata": {},
   "source": [
    "## Load data:\n",
    "We are going to use this data to plot spectograms of SCG signals. "
   ]
  },
  {
   "cell_type": "code",
   "execution_count": 3,
   "id": "75a415fd",
   "metadata": {},
   "outputs": [],
   "source": [
    "path = \"/Users/ecem/Desktop/phonocardiogram/data/MV/\""
   ]
  },
  {
   "cell_type": "code",
   "execution_count": 4,
   "id": "d770eb2f",
   "metadata": {},
   "outputs": [],
   "source": [
    "csv = pd.read_csv(\"/Users/ecem/Desktop/phonocardiogram/data/fixed_csv.csv\", index_col = 0)"
   ]
  },
  {
   "cell_type": "code",
   "execution_count": 5,
   "id": "ea0d1766",
   "metadata": {},
   "outputs": [
    {
     "data": {
      "text/html": [
       "<div>\n",
       "<style scoped>\n",
       "    .dataframe tbody tr th:only-of-type {\n",
       "        vertical-align: middle;\n",
       "    }\n",
       "\n",
       "    .dataframe tbody tr th {\n",
       "        vertical-align: top;\n",
       "    }\n",
       "\n",
       "    .dataframe thead th {\n",
       "        text-align: right;\n",
       "    }\n",
       "</style>\n",
       "<table border=\"1\" class=\"dataframe\">\n",
       "  <thead>\n",
       "    <tr style=\"text-align: right;\">\n",
       "      <th></th>\n",
       "      <th>Patient ID</th>\n",
       "      <th>Age</th>\n",
       "      <th>Sex</th>\n",
       "      <th>Height</th>\n",
       "      <th>Weight</th>\n",
       "      <th>Pregnancy status</th>\n",
       "      <th>Murmur</th>\n",
       "      <th>Most audible location</th>\n",
       "      <th>Systolic murmur timing</th>\n",
       "      <th>Systolic murmur shape</th>\n",
       "      <th>...</th>\n",
       "      <th>Campaign</th>\n",
       "      <th>Additional ID</th>\n",
       "      <th>recording location AV</th>\n",
       "      <th>recording location MV</th>\n",
       "      <th>recording location PV</th>\n",
       "      <th>recording location TV</th>\n",
       "      <th>murmur location AV</th>\n",
       "      <th>murmur location MV</th>\n",
       "      <th>murmur location PV</th>\n",
       "      <th>murmur location TV</th>\n",
       "    </tr>\n",
       "  </thead>\n",
       "  <tbody>\n",
       "    <tr>\n",
       "      <th>0</th>\n",
       "      <td>2530</td>\n",
       "      <td>Child</td>\n",
       "      <td>Female</td>\n",
       "      <td>98.0</td>\n",
       "      <td>15.9</td>\n",
       "      <td>False</td>\n",
       "      <td>Absent</td>\n",
       "      <td>NaN</td>\n",
       "      <td>NaN</td>\n",
       "      <td>NaN</td>\n",
       "      <td>...</td>\n",
       "      <td>CC2015</td>\n",
       "      <td>NaN</td>\n",
       "      <td>1.0</td>\n",
       "      <td>1.0</td>\n",
       "      <td>1.0</td>\n",
       "      <td>1.0</td>\n",
       "      <td>0.0</td>\n",
       "      <td>0.0</td>\n",
       "      <td>0.0</td>\n",
       "      <td>0.0</td>\n",
       "    </tr>\n",
       "    <tr>\n",
       "      <th>1</th>\n",
       "      <td>9979</td>\n",
       "      <td>Child</td>\n",
       "      <td>Female</td>\n",
       "      <td>103.0</td>\n",
       "      <td>13.1</td>\n",
       "      <td>False</td>\n",
       "      <td>Present</td>\n",
       "      <td>TV</td>\n",
       "      <td>Holosystolic</td>\n",
       "      <td>Diamond</td>\n",
       "      <td>...</td>\n",
       "      <td>CC2015</td>\n",
       "      <td>NaN</td>\n",
       "      <td>1.0</td>\n",
       "      <td>1.0</td>\n",
       "      <td>1.0</td>\n",
       "      <td>1.0</td>\n",
       "      <td>1.0</td>\n",
       "      <td>1.0</td>\n",
       "      <td>1.0</td>\n",
       "      <td>1.0</td>\n",
       "    </tr>\n",
       "    <tr>\n",
       "      <th>2</th>\n",
       "      <td>9983</td>\n",
       "      <td>Child</td>\n",
       "      <td>Male</td>\n",
       "      <td>115.0</td>\n",
       "      <td>19.1</td>\n",
       "      <td>False</td>\n",
       "      <td>Unknown</td>\n",
       "      <td>NaN</td>\n",
       "      <td>NaN</td>\n",
       "      <td>NaN</td>\n",
       "      <td>...</td>\n",
       "      <td>CC2015</td>\n",
       "      <td>NaN</td>\n",
       "      <td>1.0</td>\n",
       "      <td>1.0</td>\n",
       "      <td>1.0</td>\n",
       "      <td>1.0</td>\n",
       "      <td>0.0</td>\n",
       "      <td>0.0</td>\n",
       "      <td>0.0</td>\n",
       "      <td>0.0</td>\n",
       "    </tr>\n",
       "    <tr>\n",
       "      <th>3</th>\n",
       "      <td>13918</td>\n",
       "      <td>Child</td>\n",
       "      <td>Male</td>\n",
       "      <td>98.0</td>\n",
       "      <td>15.9</td>\n",
       "      <td>False</td>\n",
       "      <td>Present</td>\n",
       "      <td>TV</td>\n",
       "      <td>Holosystolic</td>\n",
       "      <td>Plateau</td>\n",
       "      <td>...</td>\n",
       "      <td>CC2015</td>\n",
       "      <td>NaN</td>\n",
       "      <td>1.0</td>\n",
       "      <td>1.0</td>\n",
       "      <td>1.0</td>\n",
       "      <td>1.0</td>\n",
       "      <td>0.0</td>\n",
       "      <td>0.0</td>\n",
       "      <td>0.0</td>\n",
       "      <td>1.0</td>\n",
       "    </tr>\n",
       "    <tr>\n",
       "      <th>4</th>\n",
       "      <td>14241</td>\n",
       "      <td>Child</td>\n",
       "      <td>Male</td>\n",
       "      <td>87.0</td>\n",
       "      <td>11.2</td>\n",
       "      <td>False</td>\n",
       "      <td>Present</td>\n",
       "      <td>PV</td>\n",
       "      <td>Early-systolic</td>\n",
       "      <td>Plateau</td>\n",
       "      <td>...</td>\n",
       "      <td>CC2015</td>\n",
       "      <td>NaN</td>\n",
       "      <td>1.0</td>\n",
       "      <td>1.0</td>\n",
       "      <td>1.0</td>\n",
       "      <td>1.0</td>\n",
       "      <td>1.0</td>\n",
       "      <td>1.0</td>\n",
       "      <td>1.0</td>\n",
       "      <td>1.0</td>\n",
       "    </tr>\n",
       "  </tbody>\n",
       "</table>\n",
       "<p>5 rows × 29 columns</p>\n",
       "</div>"
      ],
      "text/plain": [
       "   Patient ID    Age     Sex  Height  Weight  Pregnancy status   Murmur  \\\n",
       "0        2530  Child  Female    98.0    15.9             False   Absent   \n",
       "1        9979  Child  Female   103.0    13.1             False  Present   \n",
       "2        9983  Child    Male   115.0    19.1             False  Unknown   \n",
       "3       13918  Child    Male    98.0    15.9             False  Present   \n",
       "4       14241  Child    Male    87.0    11.2             False  Present   \n",
       "\n",
       "  Most audible location Systolic murmur timing Systolic murmur shape  ...  \\\n",
       "0                   NaN                    NaN                   NaN  ...   \n",
       "1                    TV           Holosystolic               Diamond  ...   \n",
       "2                   NaN                    NaN                   NaN  ...   \n",
       "3                    TV           Holosystolic               Plateau  ...   \n",
       "4                    PV         Early-systolic               Plateau  ...   \n",
       "\n",
       "  Campaign Additional ID recording location AV recording location MV  \\\n",
       "0   CC2015           NaN                   1.0                   1.0   \n",
       "1   CC2015           NaN                   1.0                   1.0   \n",
       "2   CC2015           NaN                   1.0                   1.0   \n",
       "3   CC2015           NaN                   1.0                   1.0   \n",
       "4   CC2015           NaN                   1.0                   1.0   \n",
       "\n",
       "  recording location PV recording location TV murmur location AV  \\\n",
       "0                   1.0                   1.0                0.0   \n",
       "1                   1.0                   1.0                1.0   \n",
       "2                   1.0                   1.0                0.0   \n",
       "3                   1.0                   1.0                0.0   \n",
       "4                   1.0                   1.0                1.0   \n",
       "\n",
       "  murmur location MV murmur location PV murmur location TV  \n",
       "0                0.0                0.0                0.0  \n",
       "1                1.0                1.0                1.0  \n",
       "2                0.0                0.0                0.0  \n",
       "3                0.0                0.0                1.0  \n",
       "4                1.0                1.0                1.0  \n",
       "\n",
       "[5 rows x 29 columns]"
      ]
     },
     "execution_count": 5,
     "metadata": {},
     "output_type": "execute_result"
    }
   ],
   "source": [
    "csv.head()"
   ]
  },
  {
   "cell_type": "markdown",
   "id": "77620848",
   "metadata": {},
   "source": [
    "### get indexes for recordings taken in specific location with murmur = absent, present"
   ]
  },
  {
   "cell_type": "code",
   "execution_count": 6,
   "id": "f7806bce",
   "metadata": {},
   "outputs": [
    {
     "data": {
      "text/plain": [
       "(array([  1,   4,   8,  11,  12,  19,  21,  22,  23,  25,  33,  42,  43,\n",
       "         44,  55,  57,  63,  64,  68,  82, 106, 135, 136, 174, 176, 203,\n",
       "        216, 219, 220, 233, 242, 269, 272, 332, 359, 367, 368, 377, 416,\n",
       "        418, 429, 434, 440, 441, 446, 453, 462, 463, 466, 469, 471, 479,\n",
       "        485, 486, 488, 498, 502, 527, 528, 529, 534, 539, 551, 555, 557,\n",
       "        572, 573, 588, 609, 650, 659, 665, 666, 667, 688, 711, 743, 752,\n",
       "        758, 762, 773, 782, 783, 787, 800, 816, 844, 856, 860, 867, 892,\n",
       "        939]),)"
      ]
     },
     "execution_count": 6,
     "metadata": {},
     "output_type": "execute_result"
    }
   ],
   "source": [
    "#this shows indexes of recordings taken in av location which also has a murmur at av\n",
    "idx_mv_present =  np.where((csv['Murmur'] == 'Present') & (csv['murmur location MV'] == 1) &\n",
    "                           (csv['recording location MV'] == 1))\n",
    "idx_mv_present"
   ]
  },
  {
   "cell_type": "code",
   "execution_count": 7,
   "id": "e96b80e7",
   "metadata": {},
   "outputs": [
    {
     "data": {
      "text/plain": [
       "1"
      ]
     },
     "execution_count": 7,
     "metadata": {},
     "output_type": "execute_result"
    }
   ],
   "source": [
    "len(idx_mv_present)"
   ]
  },
  {
   "cell_type": "code",
   "execution_count": 8,
   "id": "74234c85",
   "metadata": {
    "scrolled": true
   },
   "outputs": [
    {
     "data": {
      "text/plain": [
       "(array([  0,   5,   6,   7,  10,  14,  15,  17,  18,  20,  29,  30,  31,\n",
       "         34,  35,  39,  47,  48,  49,  52,  53,  54,  58,  59,  61,  71,\n",
       "         74,  75,  77,  78,  80,  81,  84,  89,  90,  95,  98,  99, 102,\n",
       "        104, 105, 107, 109, 110, 114, 115, 118, 119, 120, 122, 125, 133,\n",
       "        138, 141, 143, 145, 147, 149, 150, 153, 155, 158, 159, 161, 162,\n",
       "        163, 173, 175, 199, 205, 209, 214, 217, 218, 221, 223, 229, 234,\n",
       "        237, 238, 239, 240, 241, 243, 246, 250, 251, 252, 254, 258, 260,\n",
       "        261, 264, 266, 267, 268, 270, 274, 278, 281, 284, 285, 287, 288,\n",
       "        290, 291, 292, 293, 294, 296, 297, 300, 306, 313, 315, 316, 321,\n",
       "        322, 323, 327, 328, 329, 331, 335, 337, 338, 339, 341, 342, 343,\n",
       "        346, 347, 348, 350, 352, 353, 357, 362, 364, 365, 366, 369, 371,\n",
       "        372, 373, 374, 375, 376, 378, 379, 380, 381, 383, 384, 386, 391,\n",
       "        393, 394, 399, 400, 401, 403, 405, 406, 407, 408, 409, 410, 411,\n",
       "        412, 415, 421, 422, 423, 427, 428, 431, 432, 433, 435, 438, 442,\n",
       "        443, 444, 448, 450, 452, 457, 458, 459, 460, 461, 464, 465, 468,\n",
       "        472, 473, 475, 476, 477, 478, 480, 481, 482, 483, 489, 491, 492,\n",
       "        493, 494, 495, 496, 497, 499, 500, 501, 503, 504, 505, 511, 513,\n",
       "        516, 518, 519, 520, 522, 523, 525, 530, 532, 533, 535, 536, 537,\n",
       "        538, 540, 542, 543, 544, 545, 546, 550, 552, 554, 560, 561, 563,\n",
       "        564, 570, 575, 576, 577, 580, 582, 583, 584, 587, 590, 591, 593,\n",
       "        597, 598, 599, 601, 602, 603, 604, 607, 608, 610, 613, 615, 616,\n",
       "        617, 621, 622, 623, 624, 625, 627, 630, 632, 633, 635, 637, 639,\n",
       "        640, 641, 643, 644, 645, 647, 648, 649, 651, 653, 654, 656, 657,\n",
       "        661, 663, 664, 668, 669, 670, 671, 674, 675, 676, 677, 679, 680,\n",
       "        683, 684, 687, 690, 691, 694, 695, 697, 698, 699, 700, 701, 703,\n",
       "        704, 706, 708, 709, 710, 714, 715, 716, 717, 718, 723, 724, 725,\n",
       "        726, 727, 728, 731, 732, 733, 735, 736, 738, 739, 741, 742, 745,\n",
       "        747, 750, 751, 754, 755, 756, 759, 761, 764, 768, 769, 771, 774,\n",
       "        776, 779, 781, 786, 790, 791, 792, 793, 795, 799, 801, 802, 803,\n",
       "        804, 805, 806, 808, 809, 810, 811, 812, 813, 814, 817, 819, 822,\n",
       "        825, 826, 828, 829, 831, 833, 835, 836, 837, 838, 840, 842, 845,\n",
       "        846, 847, 848, 851, 853, 855, 861, 862, 863, 864, 865, 866, 869,\n",
       "        873, 874, 875, 876, 877, 879, 882, 884, 885, 886, 887, 888, 889,\n",
       "        890, 893, 895, 897, 899, 900, 901, 902, 903, 904, 906, 907, 909,\n",
       "        910, 912, 913, 915, 916, 918, 919, 925, 926, 927, 928, 929, 931,\n",
       "        934, 935, 937, 938]),)"
      ]
     },
     "execution_count": 8,
     "metadata": {},
     "output_type": "execute_result"
    }
   ],
   "source": [
    "#this shows indexes of recordings taken in av location which also has not a murmur at anywhere\n",
    "idx_mv_absent =  np.where((csv['Murmur'] == 'Absent') & (csv['murmur location MV'] == 0) &\n",
    "                           (csv['recording location MV'] == 1))\n",
    "idx_mv_absent"
   ]
  },
  {
   "cell_type": "code",
   "execution_count": 9,
   "id": "733b1562",
   "metadata": {},
   "outputs": [
    {
     "data": {
      "text/plain": [
       "459"
      ]
     },
     "execution_count": 9,
     "metadata": {},
     "output_type": "execute_result"
    }
   ],
   "source": [
    "len(idx_mv_absent[0])"
   ]
  },
  {
   "cell_type": "markdown",
   "id": "d044566c",
   "metadata": {},
   "source": [
    "## now lets get the data in which murmur is present"
   ]
  },
  {
   "cell_type": "markdown",
   "id": "dbd6f79f",
   "metadata": {},
   "source": [
    "### murmur = present"
   ]
  },
  {
   "cell_type": "code",
   "execution_count": 10,
   "id": "16d4703f",
   "metadata": {},
   "outputs": [
    {
     "data": {
      "text/plain": [
       "array([ 9979, 14241, 29045, 33151, 36327, 40840, 44514, 45843, 46065,\n",
       "       46579, 49574, 49627, 49628, 49630, 49691, 49712, 49751, 49754,\n",
       "       49821, 49897, 49994, 50054, 50056, 50127, 50129, 50209, 50229,\n",
       "       50233, 50238, 50260, 50277, 50326, 50331, 50676, 50735, 50744,\n",
       "       50746, 50757, 55945, 57706, 68194, 68255, 68303, 68306, 68337,\n",
       "       68379, 68423, 68425, 68432, 68444, 68456, 68487, 68560, 68567,\n",
       "       68582, 68708, 68740, 69068, 69079, 69093, 69120, 69147, 73497,\n",
       "       76240, 77373, 84692, 84693, 84718, 84751, 84834, 84854, 84863,\n",
       "       84864, 84865, 84896, 84949, 85002, 85024, 85031, 85036, 85057,\n",
       "       85079, 85080, 85087, 85110, 85133, 85172, 85198, 85207, 85219,\n",
       "       85261, 85343])"
      ]
     },
     "execution_count": 10,
     "metadata": {},
     "output_type": "execute_result"
    }
   ],
   "source": [
    "ids_mv_present = csv.loc[idx_mv_present]['Patient ID'].values\n",
    "ids_mv_present"
   ]
  },
  {
   "cell_type": "code",
   "execution_count": 11,
   "id": "fbb3b096",
   "metadata": {},
   "outputs": [
    {
     "data": {
      "text/plain": [
       "92"
      ]
     },
     "execution_count": 11,
     "metadata": {},
     "output_type": "execute_result"
    }
   ],
   "source": [
    "len(ids_mv_present)"
   ]
  },
  {
   "cell_type": "code",
   "execution_count": 12,
   "id": "a5218dae",
   "metadata": {},
   "outputs": [],
   "source": [
    "np.save(path + \"/murmur_present_ids\", ids_mv_present, allow_pickle = True)"
   ]
  },
  {
   "cell_type": "code",
   "execution_count": 13,
   "id": "314ccdf9",
   "metadata": {},
   "outputs": [
    {
     "data": {
      "text/plain": [
       "array([ 2530, 14998, 23625, 24160, 31737, 39043, 39403, 40058, 40798,\n",
       "       43852, 49561, 49562, 49568, 49577, 49585, 49610, 49641, 49653,\n",
       "       49659, 49678, 49683, 49687, 49719, 49729, 49745, 49829, 49839,\n",
       "       49842, 49853, 49854, 49876, 49896, 49930, 49960, 49963, 49974,\n",
       "       49980, 49983, 49988, 49990, 49993, 49995, 49999, 50001, 50007,\n",
       "       50008, 50014, 50015, 50017, 50023, 50029, 50049, 50061, 50070,\n",
       "       50074, 50076, 50078, 50080, 50085, 50092, 50096, 50103, 50104,\n",
       "       50109, 50111, 50113, 50126, 50128, 50174, 50213, 50218, 50225,\n",
       "       50230, 50231, 50239, 50244, 50254, 50261, 50271, 50272, 50273,\n",
       "       50275, 50276, 50278, 50284, 50295, 50296, 50297, 50299, 50306,\n",
       "       50312, 50314, 50318, 50321, 50323, 50325, 50327, 50334, 50339,\n",
       "       50343, 50349, 50350, 50354, 50359, 50379, 50384, 50385, 50386,\n",
       "       50388, 50393, 50619, 50624, 50635, 50645, 50647, 50649, 50657,\n",
       "       50658, 50659, 50667, 50668, 50669, 50673, 50680, 50687, 50688,\n",
       "       50689, 50691, 50693, 50699, 50708, 50713, 50715, 50721, 50723,\n",
       "       50725, 50732, 50738, 50740, 50742, 50743, 50747, 50749, 50751,\n",
       "       50752, 50753, 50754, 50756, 50758, 50762, 50763, 50766, 50770,\n",
       "       50771, 50773, 50784, 50788, 50789, 50797, 50798, 50800, 50803,\n",
       "       50807, 50812, 50815, 50818, 50819, 50820, 50822, 50826, 51331,\n",
       "       61610, 63456, 63581, 68182, 68186, 68213, 68219, 68222, 68260,\n",
       "       68292, 68316, 68318, 68327, 68359, 68368, 68377, 68406, 68407,\n",
       "       68412, 68413, 68419, 68427, 68431, 68436, 68460, 68465, 68477,\n",
       "       68478, 68482, 68484, 68498, 68504, 68532, 68545, 68624, 68646,\n",
       "       68659, 68660, 68682, 68698, 68702, 68705, 68711, 68737, 68738,\n",
       "       68741, 68752, 68755, 68849, 68861, 68886, 68888, 68895, 68901,\n",
       "       68909, 68952, 69066, 69095, 69106, 69112, 69125, 69129, 69141,\n",
       "       69144, 69152, 69159, 69161, 69174, 69176, 69188, 73316, 74417,\n",
       "       75440, 78592, 80348, 81297, 81501, 84689, 84696, 84697, 84699,\n",
       "       84706, 84709, 84710, 84711, 84716, 84721, 84724, 84727, 84733,\n",
       "       84734, 84735, 84738, 84740, 84742, 84743, 84749, 84750, 84753,\n",
       "       84758, 84761, 84762, 84764, 84775, 84776, 84778, 84779, 84780,\n",
       "       84785, 84793, 84798, 84799, 84803, 84805, 84808, 84809, 84813,\n",
       "       84815, 84822, 84823, 84826, 84829, 84831, 84835, 84838, 84839,\n",
       "       84851, 84852, 84856, 84859, 84861, 84866, 84868, 84870, 84874,\n",
       "       84877, 84878, 84879, 84881, 84883, 84884, 84887, 84890, 84894,\n",
       "       84912, 84917, 84920, 84921, 84923, 84928, 84930, 84931, 84933,\n",
       "       84935, 84936, 84939, 84945, 84946, 84947, 84957, 84960, 84961,\n",
       "       84962, 84965, 84973, 84974, 84976, 84977, 84978, 84982, 84985,\n",
       "       84986, 84987, 84990, 84991, 84993, 84994, 84996, 85000, 85010,\n",
       "       85012, 85020, 85023, 85027, 85028, 85029, 85033, 85035, 85038,\n",
       "       85046, 85048, 85053, 85062, 85064, 85075, 85077, 85086, 85093,\n",
       "       85094, 85096, 85099, 85102, 85109, 85112, 85113, 85114, 85115,\n",
       "       85116, 85118, 85121, 85122, 85123, 85124, 85127, 85128, 85131,\n",
       "       85134, 85136, 85143, 85147, 85148, 85151, 85152, 85154, 85157,\n",
       "       85161, 85162, 85163, 85164, 85166, 85168, 85174, 85175, 85176,\n",
       "       85180, 85184, 85192, 85197, 85210, 85212, 85213, 85214, 85216,\n",
       "       85217, 85225, 85230, 85234, 85235, 85236, 85239, 85241, 85244,\n",
       "       85246, 85247, 85249, 85250, 85252, 85253, 85258, 85262, 85265,\n",
       "       85270, 85277, 85278, 85279, 85282, 85285, 85286, 85288, 85293,\n",
       "       85296, 85299, 85301, 85305, 85308, 85312, 85315, 85316, 85326,\n",
       "       85327, 85328, 85329, 85331, 85334, 85337, 85338, 85340, 85341])"
      ]
     },
     "execution_count": 13,
     "metadata": {},
     "output_type": "execute_result"
    }
   ],
   "source": [
    "ids_mv_absent = csv.loc[idx_mv_absent]['Patient ID'].values\n",
    "ids_mv_absent"
   ]
  },
  {
   "cell_type": "code",
   "execution_count": 14,
   "id": "575fcbcf",
   "metadata": {},
   "outputs": [
    {
     "data": {
      "text/plain": [
       "459"
      ]
     },
     "execution_count": 14,
     "metadata": {},
     "output_type": "execute_result"
    }
   ],
   "source": [
    "len(ids_mv_absent)"
   ]
  },
  {
   "cell_type": "code",
   "execution_count": 15,
   "id": "0a2244a7",
   "metadata": {},
   "outputs": [],
   "source": [
    "np.save(path + \"murmur_absent_ids\", ids_mv_absent, allow_pickle = True)"
   ]
  },
  {
   "cell_type": "code",
   "execution_count": null,
   "id": "f79ebc23",
   "metadata": {},
   "outputs": [],
   "source": []
  },
  {
   "cell_type": "code",
   "execution_count": null,
   "id": "e043545c",
   "metadata": {},
   "outputs": [],
   "source": []
  }
 ],
 "metadata": {
  "kernelspec": {
   "display_name": "Python 3 (ipykernel)",
   "language": "python",
   "name": "python3"
  },
  "language_info": {
   "codemirror_mode": {
    "name": "ipython",
    "version": 3
   },
   "file_extension": ".py",
   "mimetype": "text/x-python",
   "name": "python",
   "nbconvert_exporter": "python",
   "pygments_lexer": "ipython3",
   "version": "3.9.9"
  }
 },
 "nbformat": 4,
 "nbformat_minor": 5
}
