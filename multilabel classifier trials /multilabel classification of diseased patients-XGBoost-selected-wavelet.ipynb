{
 "cells": [
  {
   "cell_type": "markdown",
   "id": "5ff5c96f",
   "metadata": {},
   "source": [
    "### features:\n",
    "* selected spectogram coef\n",
    "* all zero crossing rate coef\n",
    "* all chromogram values\n",
    "* no tempogram values\n",
    "* selected wavelet"
   ]
  },
  {
   "cell_type": "code",
   "execution_count": 1,
   "id": "dcd92ee4",
   "metadata": {},
   "outputs": [
    {
     "ename": "RuntimeError",
     "evalue": "module compiled against API version 0xe but this version of numpy is 0xd",
     "output_type": "error",
     "traceback": [
      "\u001b[0;31m---------------------------------------------------------------------------\u001b[0m",
      "\u001b[0;31mRuntimeError\u001b[0m                              Traceback (most recent call last)",
      "\u001b[0;31mRuntimeError\u001b[0m: module compiled against API version 0xe but this version of numpy is 0xd"
     ]
    }
   ],
   "source": [
    "import pandas as pd \n",
    "import numpy as np\n",
    "from sklearn.pipeline import Pipeline\n",
    "from sklearn.model_selection import train_test_split\n",
    "from sklearn.metrics import classification_report\n",
    "from sklearn.metrics import auc\n",
    "from sklearn.multioutput import MultiOutputClassifier\n",
    "from sklearn.metrics import confusion_matrix, roc_curve, roc_auc_score, precision_recall_curve, recall_score\n",
    "import matplotlib.pyplot as plt\n",
    "import itertools"
   ]
  },
  {
   "cell_type": "code",
   "execution_count": 2,
   "id": "77055433",
   "metadata": {},
   "outputs": [],
   "source": [
    "AV_path =  \"/Users/ecem/Desktop/phonocardiogram/data/AV\"\n",
    "MV_path =  \"/Users/ecem/Desktop/phonocardiogram/data/MV\"\n",
    "PV_path =  \"/Users/ecem/Desktop/phonocardiogram/data/PV\"\n",
    "TV_path =  \"/Users/ecem/Desktop/phonocardiogram/data/TV\""
   ]
  },
  {
   "cell_type": "markdown",
   "id": "859b3496",
   "metadata": {},
   "source": [
    "## Load data"
   ]
  },
  {
   "cell_type": "markdown",
   "id": "d1c71acb",
   "metadata": {},
   "source": [
    "### Spectogram"
   ]
  },
  {
   "cell_type": "code",
   "execution_count": 3,
   "id": "e39c7ed4",
   "metadata": {},
   "outputs": [],
   "source": [
    "p_spec_av = pd.DataFrame(np.load(AV_path + \"/present/present_AV_spectogram_coef.npy\", allow_pickle = True))\n",
    "p_spec_mv = pd.DataFrame(np.load(MV_path + \"/present/present_MV_spectogram_coef.npy\", allow_pickle = True))\n",
    "p_spec_pv = pd.DataFrame(np.load(PV_path + \"/present/present_PV_spectogram_coef.npy\", allow_pickle = True))\n",
    "p_spec_tv = pd.DataFrame(np.load(TV_path + \"/present/present_TV_spectogram_coef.npy\", allow_pickle = True))"
   ]
  },
  {
   "cell_type": "code",
   "execution_count": 4,
   "id": "a29c686d",
   "metadata": {},
   "outputs": [],
   "source": [
    "spec_columns = np.load(\"/Users/ecem/Desktop/phonocardiogram/data/final_spec_coef_four_class.npy\")"
   ]
  },
  {
   "cell_type": "code",
   "execution_count": 5,
   "id": "453bea54",
   "metadata": {},
   "outputs": [],
   "source": [
    "p_spec_av_ = p_spec_av.iloc[:, spec_columns] #1245\n",
    "p_spec_mv_ = p_spec_mv.iloc[:, spec_columns] #1080\n",
    "p_spec_pv_ = p_spec_pv.iloc[:, spec_columns] #1198\n",
    "p_spec_tv_ = p_spec_tv.iloc[:, spec_columns] #1205"
   ]
  },
  {
   "cell_type": "code",
   "execution_count": 6,
   "id": "0cc9d875",
   "metadata": {},
   "outputs": [
    {
     "data": {
      "text/plain": [
       "(4728, 129)"
      ]
     },
     "execution_count": 6,
     "metadata": {},
     "output_type": "execute_result"
    }
   ],
   "source": [
    "spec = pd.concat([p_spec_av_, p_spec_mv_, p_spec_pv_, p_spec_tv_], axis = 0 )\n",
    "spec.shape"
   ]
  },
  {
   "cell_type": "markdown",
   "id": "fbcd7449",
   "metadata": {},
   "source": [
    "### create labels"
   ]
  },
  {
   "cell_type": "code",
   "execution_count": 7,
   "id": "e829acab",
   "metadata": {},
   "outputs": [
    {
     "data": {
      "text/plain": [
       "4728"
      ]
     },
     "execution_count": 7,
     "metadata": {},
     "output_type": "execute_result"
    }
   ],
   "source": [
    "1245 + 1080 + 1198 + 1205"
   ]
  },
  {
   "cell_type": "code",
   "execution_count": 8,
   "id": "54b22d73",
   "metadata": {},
   "outputs": [
    {
     "data": {
      "text/plain": [
       "array([1., 1., 1., ..., 0., 0., 0.])"
      ]
     },
     "execution_count": 8,
     "metadata": {},
     "output_type": "execute_result"
    }
   ],
   "source": [
    "av_1 = np.ones((1245))\n",
    "av_0 = np.zeros((1080 + 1198 + 1205))\n",
    "av = np.concatenate((av_1,av_0), axis = 0)\n",
    "av"
   ]
  },
  {
   "cell_type": "code",
   "execution_count": 9,
   "id": "d42170af",
   "metadata": {},
   "outputs": [
    {
     "data": {
      "text/plain": [
       "array([0., 0., 0., ..., 0., 0., 0.])"
      ]
     },
     "execution_count": 9,
     "metadata": {},
     "output_type": "execute_result"
    }
   ],
   "source": [
    "mv_1 = np.ones((1080))\n",
    "mv_00 = np.zeros((1245))\n",
    "mv_0 = np.zeros((1198 + 1205))\n",
    "mv = np.concatenate((mv_00, mv_1), axis = 0)\n",
    "mv = np.concatenate((mv, mv_0), axis = 0)\n",
    "mv"
   ]
  },
  {
   "cell_type": "code",
   "execution_count": 10,
   "id": "ce6675d4",
   "metadata": {},
   "outputs": [
    {
     "data": {
      "text/plain": [
       "array([0., 0., 0., ..., 0., 0., 0.])"
      ]
     },
     "execution_count": 10,
     "metadata": {},
     "output_type": "execute_result"
    }
   ],
   "source": [
    "pv_1 = np.ones((1198))\n",
    "pv_00 = np.zeros((1245 + 1080))\n",
    "pv_0 = np.zeros((1205))\n",
    "pv = np.concatenate((pv_00, pv_1), axis = 0)\n",
    "pv = np.concatenate((pv, pv_0), axis = 0)\n",
    "pv"
   ]
  },
  {
   "cell_type": "code",
   "execution_count": 11,
   "id": "19e8d3c8",
   "metadata": {},
   "outputs": [
    {
     "data": {
      "text/plain": [
       "array([0., 0., 0., ..., 1., 1., 1.])"
      ]
     },
     "execution_count": 11,
     "metadata": {},
     "output_type": "execute_result"
    }
   ],
   "source": [
    "tv_1 = np.ones((1205))\n",
    "tv_0 = np.zeros((1245 + 1080 + 1198))\n",
    "tv = np.concatenate((tv_0, tv_1), axis = 0)\n",
    "tv"
   ]
  },
  {
   "cell_type": "code",
   "execution_count": 12,
   "id": "526a96ad",
   "metadata": {},
   "outputs": [
    {
     "data": {
      "text/plain": [
       "array([[1., 0., 0., 0.],\n",
       "       [1., 0., 0., 0.],\n",
       "       [1., 0., 0., 0.],\n",
       "       ...,\n",
       "       [0., 0., 0., 1.],\n",
       "       [0., 0., 0., 1.],\n",
       "       [0., 0., 0., 1.]])"
      ]
     },
     "execution_count": 12,
     "metadata": {},
     "output_type": "execute_result"
    }
   ],
   "source": [
    "labels = np.stack((av, mv, pv, tv), axis = 1)\n",
    "labels"
   ]
  },
  {
   "cell_type": "markdown",
   "id": "c0496b82",
   "metadata": {},
   "source": [
    "### zero crossing rate"
   ]
  },
  {
   "cell_type": "code",
   "execution_count": 13,
   "id": "1dc7afb3",
   "metadata": {},
   "outputs": [],
   "source": [
    "p_zcrs_av = pd.DataFrame(np.load(AV_path + \"/present/present_AV_zcrs_array.npy\", allow_pickle = True))\n",
    "p_zcrs_mv = pd.DataFrame(np.load(MV_path + \"/present/present_MV_zcrs_array.npy\", allow_pickle = True))\n",
    "p_zcrs_pv = pd.DataFrame(np.load(PV_path + \"/present/present_PV_zcrs_array.npy\", allow_pickle = True))\n",
    "p_zcrs_tv = pd.DataFrame(np.load(TV_path + \"/present/present_TV_zcrs_array.npy\", allow_pickle = True))"
   ]
  },
  {
   "cell_type": "code",
   "execution_count": 14,
   "id": "67bec779",
   "metadata": {},
   "outputs": [
    {
     "data": {
      "text/plain": [
       "(4728, 5)"
      ]
     },
     "execution_count": 14,
     "metadata": {},
     "output_type": "execute_result"
    }
   ],
   "source": [
    "zcrs = pd.concat([p_zcrs_av, p_zcrs_mv, p_zcrs_pv, p_zcrs_tv], axis = 0 )\n",
    "zcrs.shape"
   ]
  },
  {
   "cell_type": "markdown",
   "id": "6aee6623",
   "metadata": {},
   "source": [
    "### chromogram "
   ]
  },
  {
   "cell_type": "code",
   "execution_count": 15,
   "id": "b2414e78",
   "metadata": {},
   "outputs": [],
   "source": [
    "p_chro_av = pd.DataFrame(np.load(AV_path + \"/present/present_AV_chromogram_array.npy\", allow_pickle = True))\n",
    "p_chro_mv = pd.DataFrame(np.load(MV_path + \"/present/present_MV_chromogram_array.npy\", allow_pickle = True))\n",
    "p_chro_pv = pd.DataFrame(np.load(PV_path + \"/present/present_PV_chromogram_array.npy\", allow_pickle = True))\n",
    "p_chro_tv = pd.DataFrame(np.load(TV_path + \"/present/present_TV_chromogram_array.npy\", allow_pickle = True))"
   ]
  },
  {
   "cell_type": "code",
   "execution_count": 16,
   "id": "6136ab11",
   "metadata": {},
   "outputs": [
    {
     "data": {
      "text/plain": [
       "(4728, 12)"
      ]
     },
     "execution_count": 16,
     "metadata": {},
     "output_type": "execute_result"
    }
   ],
   "source": [
    "chro = pd.concat([p_chro_av, p_chro_mv, p_chro_pv, p_chro_tv], axis = 0 )\n",
    "chro.shape"
   ]
  },
  {
   "cell_type": "markdown",
   "id": "606e77a3",
   "metadata": {},
   "source": [
    "### wavelet"
   ]
  },
  {
   "cell_type": "code",
   "execution_count": 17,
   "id": "ae403c08",
   "metadata": {},
   "outputs": [],
   "source": [
    "wavelet_path = \"/Users/ecem/Desktop/phonocardiogram/data/wavelet_4\""
   ]
  },
  {
   "cell_type": "code",
   "execution_count": 18,
   "id": "55aded95",
   "metadata": {},
   "outputs": [],
   "source": [
    "p_w_av = pd.read_csv(wavelet_path + \"/p_value_selected_AV_wavelet_4.csv\", index_col = 0)\n",
    "p_w_mv = pd.read_csv(wavelet_path + \"/p_value_selected_MV_wavelet_4.csv\", index_col = 0)\n",
    "p_w_pv = pd.read_csv(wavelet_path + \"/p_value_selected_PV_wavelet_4.csv\", index_col = 0)\n",
    "p_w_tv = pd.read_csv(wavelet_path + \"/p_value_selected_TV_wavelet_4.csv\", index_col = 0)"
   ]
  },
  {
   "cell_type": "code",
   "execution_count": 19,
   "id": "2723ad44",
   "metadata": {},
   "outputs": [
    {
     "data": {
      "text/plain": [
       "(4728, 474)"
      ]
     },
     "execution_count": 19,
     "metadata": {},
     "output_type": "execute_result"
    }
   ],
   "source": [
    "wavelet = pd.concat([p_w_av, p_w_mv, p_w_pv, p_w_tv], axis = 0 )\n",
    "wavelet.shape"
   ]
  },
  {
   "cell_type": "code",
   "execution_count": 20,
   "id": "37cd5e56",
   "metadata": {},
   "outputs": [
    {
     "data": {
      "text/plain": [
       "10761    float64\n",
       "10762    float64\n",
       "10763    float64\n",
       "10764    float64\n",
       "10765    float64\n",
       "          ...   \n",
       "10212    float64\n",
       "10213    float64\n",
       "10214    float64\n",
       "16362    float64\n",
       "16363    float64\n",
       "Length: 129, dtype: object"
      ]
     },
     "execution_count": 20,
     "metadata": {},
     "output_type": "execute_result"
    }
   ],
   "source": [
    "spec.dtypes"
   ]
  },
  {
   "cell_type": "code",
   "execution_count": 21,
   "id": "49fc9835",
   "metadata": {},
   "outputs": [
    {
     "data": {
      "text/plain": [
       "795      float64\n",
       "1923     float64\n",
       "2054     float64\n",
       "1288     float64\n",
       "1289     float64\n",
       "          ...   \n",
       "11250    float64\n",
       "6132     float64\n",
       "6135     float64\n",
       "6136     float64\n",
       "7674     float64\n",
       "Length: 474, dtype: object"
      ]
     },
     "execution_count": 21,
     "metadata": {},
     "output_type": "execute_result"
    }
   ],
   "source": [
    "wavelet.dtypes"
   ]
  },
  {
   "cell_type": "code",
   "execution_count": 22,
   "id": "9a9ccd01",
   "metadata": {},
   "outputs": [
    {
     "data": {
      "text/html": [
       "<div>\n",
       "<style scoped>\n",
       "    .dataframe tbody tr th:only-of-type {\n",
       "        vertical-align: middle;\n",
       "    }\n",
       "\n",
       "    .dataframe tbody tr th {\n",
       "        vertical-align: top;\n",
       "    }\n",
       "\n",
       "    .dataframe thead th {\n",
       "        text-align: right;\n",
       "    }\n",
       "</style>\n",
       "<table border=\"1\" class=\"dataframe\">\n",
       "  <thead>\n",
       "    <tr style=\"text-align: right;\">\n",
       "      <th></th>\n",
       "      <th>10761</th>\n",
       "      <th>10762</th>\n",
       "      <th>10763</th>\n",
       "      <th>10764</th>\n",
       "      <th>10765</th>\n",
       "      <th>10034</th>\n",
       "      <th>10779</th>\n",
       "      <th>10780</th>\n",
       "      <th>10781</th>\n",
       "      <th>10825</th>\n",
       "      <th>...</th>\n",
       "      <th>1507</th>\n",
       "      <th>19938</th>\n",
       "      <th>7148</th>\n",
       "      <th>15853</th>\n",
       "      <th>18415</th>\n",
       "      <th>11250</th>\n",
       "      <th>6132</th>\n",
       "      <th>6135</th>\n",
       "      <th>6136</th>\n",
       "      <th>7674</th>\n",
       "    </tr>\n",
       "  </thead>\n",
       "  <tbody>\n",
       "    <tr>\n",
       "      <th>0</th>\n",
       "      <td>3.468435e-10</td>\n",
       "      <td>3.355544e-10</td>\n",
       "      <td>3.235993e-10</td>\n",
       "      <td>3.115520e-10</td>\n",
       "      <td>2.996047e-10</td>\n",
       "      <td>1.938302e-10</td>\n",
       "      <td>1.745239e-10</td>\n",
       "      <td>1.891659e-10</td>\n",
       "      <td>2.042842e-10</td>\n",
       "      <td>2.058313e-10</td>\n",
       "      <td>...</td>\n",
       "      <td>0.000010</td>\n",
       "      <td>-6.668794e-06</td>\n",
       "      <td>9.633062e-06</td>\n",
       "      <td>-1.989654e-06</td>\n",
       "      <td>1.877849e-05</td>\n",
       "      <td>5.654001e-07</td>\n",
       "      <td>5.845504e-06</td>\n",
       "      <td>-1.900230e-05</td>\n",
       "      <td>-0.000007</td>\n",
       "      <td>-0.000004</td>\n",
       "    </tr>\n",
       "    <tr>\n",
       "      <th>1</th>\n",
       "      <td>1.766830e-10</td>\n",
       "      <td>1.676315e-10</td>\n",
       "      <td>1.582218e-10</td>\n",
       "      <td>1.485391e-10</td>\n",
       "      <td>1.389720e-10</td>\n",
       "      <td>1.216041e-10</td>\n",
       "      <td>9.032377e-11</td>\n",
       "      <td>9.023866e-11</td>\n",
       "      <td>9.597995e-11</td>\n",
       "      <td>1.224554e-10</td>\n",
       "      <td>...</td>\n",
       "      <td>-0.000006</td>\n",
       "      <td>-3.445661e-06</td>\n",
       "      <td>7.260300e-06</td>\n",
       "      <td>1.478550e-05</td>\n",
       "      <td>2.589368e-06</td>\n",
       "      <td>9.500189e-06</td>\n",
       "      <td>-1.224829e-05</td>\n",
       "      <td>1.557264e-05</td>\n",
       "      <td>0.000003</td>\n",
       "      <td>0.000007</td>\n",
       "    </tr>\n",
       "    <tr>\n",
       "      <th>2</th>\n",
       "      <td>1.343474e-10</td>\n",
       "      <td>1.338321e-10</td>\n",
       "      <td>1.312956e-10</td>\n",
       "      <td>1.267718e-10</td>\n",
       "      <td>1.204372e-10</td>\n",
       "      <td>1.015698e-10</td>\n",
       "      <td>8.813682e-11</td>\n",
       "      <td>9.148223e-11</td>\n",
       "      <td>9.973197e-11</td>\n",
       "      <td>1.092851e-10</td>\n",
       "      <td>...</td>\n",
       "      <td>0.000004</td>\n",
       "      <td>-1.714245e-06</td>\n",
       "      <td>-1.766137e-06</td>\n",
       "      <td>2.129818e-07</td>\n",
       "      <td>-1.912296e-06</td>\n",
       "      <td>7.268966e-06</td>\n",
       "      <td>-2.401423e-06</td>\n",
       "      <td>-3.207606e-07</td>\n",
       "      <td>-0.000002</td>\n",
       "      <td>0.000003</td>\n",
       "    </tr>\n",
       "    <tr>\n",
       "      <th>3</th>\n",
       "      <td>1.571295e-10</td>\n",
       "      <td>1.458480e-10</td>\n",
       "      <td>1.338296e-10</td>\n",
       "      <td>1.212466e-10</td>\n",
       "      <td>1.085969e-10</td>\n",
       "      <td>9.068070e-11</td>\n",
       "      <td>1.556015e-10</td>\n",
       "      <td>1.712996e-10</td>\n",
       "      <td>1.866861e-10</td>\n",
       "      <td>1.278467e-10</td>\n",
       "      <td>...</td>\n",
       "      <td>-0.000005</td>\n",
       "      <td>-9.494950e-06</td>\n",
       "      <td>6.371411e-07</td>\n",
       "      <td>-7.485432e-06</td>\n",
       "      <td>1.297471e-06</td>\n",
       "      <td>1.667978e-05</td>\n",
       "      <td>-4.652888e-06</td>\n",
       "      <td>4.499962e-06</td>\n",
       "      <td>0.000005</td>\n",
       "      <td>-0.000003</td>\n",
       "    </tr>\n",
       "    <tr>\n",
       "      <th>4</th>\n",
       "      <td>1.985415e-10</td>\n",
       "      <td>1.858707e-10</td>\n",
       "      <td>1.728999e-10</td>\n",
       "      <td>1.609788e-10</td>\n",
       "      <td>1.510860e-10</td>\n",
       "      <td>1.139708e-10</td>\n",
       "      <td>1.453937e-10</td>\n",
       "      <td>1.533817e-10</td>\n",
       "      <td>1.642486e-10</td>\n",
       "      <td>1.435652e-10</td>\n",
       "      <td>...</td>\n",
       "      <td>0.000027</td>\n",
       "      <td>-2.077431e-06</td>\n",
       "      <td>-4.941830e-07</td>\n",
       "      <td>6.914022e-06</td>\n",
       "      <td>8.027347e-06</td>\n",
       "      <td>3.798626e-05</td>\n",
       "      <td>-2.863118e-06</td>\n",
       "      <td>1.934357e-06</td>\n",
       "      <td>0.000001</td>\n",
       "      <td>0.000008</td>\n",
       "    </tr>\n",
       "    <tr>\n",
       "      <th>...</th>\n",
       "      <td>...</td>\n",
       "      <td>...</td>\n",
       "      <td>...</td>\n",
       "      <td>...</td>\n",
       "      <td>...</td>\n",
       "      <td>...</td>\n",
       "      <td>...</td>\n",
       "      <td>...</td>\n",
       "      <td>...</td>\n",
       "      <td>...</td>\n",
       "      <td>...</td>\n",
       "      <td>...</td>\n",
       "      <td>...</td>\n",
       "      <td>...</td>\n",
       "      <td>...</td>\n",
       "      <td>...</td>\n",
       "      <td>...</td>\n",
       "      <td>...</td>\n",
       "      <td>...</td>\n",
       "      <td>...</td>\n",
       "      <td>...</td>\n",
       "    </tr>\n",
       "    <tr>\n",
       "      <th>1200</th>\n",
       "      <td>9.383587e-10</td>\n",
       "      <td>8.799905e-10</td>\n",
       "      <td>8.293467e-10</td>\n",
       "      <td>7.995923e-10</td>\n",
       "      <td>7.761280e-10</td>\n",
       "      <td>7.403354e-10</td>\n",
       "      <td>7.110894e-10</td>\n",
       "      <td>6.509960e-10</td>\n",
       "      <td>5.941134e-10</td>\n",
       "      <td>8.227183e-10</td>\n",
       "      <td>...</td>\n",
       "      <td>-0.000003</td>\n",
       "      <td>7.340685e-06</td>\n",
       "      <td>2.344197e-06</td>\n",
       "      <td>-1.738756e-05</td>\n",
       "      <td>2.378179e-05</td>\n",
       "      <td>1.202943e-05</td>\n",
       "      <td>4.644971e-06</td>\n",
       "      <td>-5.729496e-06</td>\n",
       "      <td>-0.000008</td>\n",
       "      <td>0.000006</td>\n",
       "    </tr>\n",
       "    <tr>\n",
       "      <th>1201</th>\n",
       "      <td>6.370513e-10</td>\n",
       "      <td>6.196439e-10</td>\n",
       "      <td>6.024713e-10</td>\n",
       "      <td>5.875901e-10</td>\n",
       "      <td>5.768026e-10</td>\n",
       "      <td>6.358840e-10</td>\n",
       "      <td>5.325276e-10</td>\n",
       "      <td>5.630382e-10</td>\n",
       "      <td>5.888244e-10</td>\n",
       "      <td>4.740338e-10</td>\n",
       "      <td>...</td>\n",
       "      <td>-0.000028</td>\n",
       "      <td>-9.944662e-06</td>\n",
       "      <td>5.097594e-06</td>\n",
       "      <td>3.484311e-06</td>\n",
       "      <td>-1.720665e-05</td>\n",
       "      <td>7.488299e-06</td>\n",
       "      <td>1.352560e-05</td>\n",
       "      <td>-2.319040e-05</td>\n",
       "      <td>-0.000003</td>\n",
       "      <td>0.000005</td>\n",
       "    </tr>\n",
       "    <tr>\n",
       "      <th>1202</th>\n",
       "      <td>8.537113e-10</td>\n",
       "      <td>8.670956e-10</td>\n",
       "      <td>9.059052e-10</td>\n",
       "      <td>9.430962e-10</td>\n",
       "      <td>9.677676e-10</td>\n",
       "      <td>6.704773e-10</td>\n",
       "      <td>8.896148e-10</td>\n",
       "      <td>8.753012e-10</td>\n",
       "      <td>8.635090e-10</td>\n",
       "      <td>7.743718e-10</td>\n",
       "      <td>...</td>\n",
       "      <td>-0.000028</td>\n",
       "      <td>7.048482e-06</td>\n",
       "      <td>-9.214506e-06</td>\n",
       "      <td>-3.154506e-06</td>\n",
       "      <td>-1.262734e-05</td>\n",
       "      <td>2.332377e-05</td>\n",
       "      <td>-5.225651e-06</td>\n",
       "      <td>-1.910143e-06</td>\n",
       "      <td>0.000004</td>\n",
       "      <td>-0.000013</td>\n",
       "    </tr>\n",
       "    <tr>\n",
       "      <th>1203</th>\n",
       "      <td>9.704967e-10</td>\n",
       "      <td>9.310608e-10</td>\n",
       "      <td>8.906725e-10</td>\n",
       "      <td>8.530116e-10</td>\n",
       "      <td>8.195462e-10</td>\n",
       "      <td>7.658842e-10</td>\n",
       "      <td>7.371174e-10</td>\n",
       "      <td>7.506907e-10</td>\n",
       "      <td>7.673596e-10</td>\n",
       "      <td>7.257930e-10</td>\n",
       "      <td>...</td>\n",
       "      <td>0.000002</td>\n",
       "      <td>1.101103e-05</td>\n",
       "      <td>1.709722e-05</td>\n",
       "      <td>1.094537e-05</td>\n",
       "      <td>6.600749e-08</td>\n",
       "      <td>3.823952e-06</td>\n",
       "      <td>7.054769e-07</td>\n",
       "      <td>6.161164e-06</td>\n",
       "      <td>-0.000006</td>\n",
       "      <td>-0.000002</td>\n",
       "    </tr>\n",
       "    <tr>\n",
       "      <th>1204</th>\n",
       "      <td>1.027953e-09</td>\n",
       "      <td>1.065096e-09</td>\n",
       "      <td>1.093718e-09</td>\n",
       "      <td>1.110773e-09</td>\n",
       "      <td>1.116957e-09</td>\n",
       "      <td>5.954633e-10</td>\n",
       "      <td>7.587984e-10</td>\n",
       "      <td>7.226871e-10</td>\n",
       "      <td>6.781014e-10</td>\n",
       "      <td>5.939600e-10</td>\n",
       "      <td>...</td>\n",
       "      <td>0.000015</td>\n",
       "      <td>2.881279e-08</td>\n",
       "      <td>-1.672679e-05</td>\n",
       "      <td>9.838957e-06</td>\n",
       "      <td>-1.775217e-06</td>\n",
       "      <td>4.693783e-05</td>\n",
       "      <td>-2.964400e-05</td>\n",
       "      <td>3.500283e-05</td>\n",
       "      <td>0.000043</td>\n",
       "      <td>-0.000023</td>\n",
       "    </tr>\n",
       "  </tbody>\n",
       "</table>\n",
       "<p>4728 rows × 620 columns</p>\n",
       "</div>"
      ],
      "text/plain": [
       "             10761         10762         10763         10764         10765  \\\n",
       "0     3.468435e-10  3.355544e-10  3.235993e-10  3.115520e-10  2.996047e-10   \n",
       "1     1.766830e-10  1.676315e-10  1.582218e-10  1.485391e-10  1.389720e-10   \n",
       "2     1.343474e-10  1.338321e-10  1.312956e-10  1.267718e-10  1.204372e-10   \n",
       "3     1.571295e-10  1.458480e-10  1.338296e-10  1.212466e-10  1.085969e-10   \n",
       "4     1.985415e-10  1.858707e-10  1.728999e-10  1.609788e-10  1.510860e-10   \n",
       "...            ...           ...           ...           ...           ...   \n",
       "1200  9.383587e-10  8.799905e-10  8.293467e-10  7.995923e-10  7.761280e-10   \n",
       "1201  6.370513e-10  6.196439e-10  6.024713e-10  5.875901e-10  5.768026e-10   \n",
       "1202  8.537113e-10  8.670956e-10  9.059052e-10  9.430962e-10  9.677676e-10   \n",
       "1203  9.704967e-10  9.310608e-10  8.906725e-10  8.530116e-10  8.195462e-10   \n",
       "1204  1.027953e-09  1.065096e-09  1.093718e-09  1.110773e-09  1.116957e-09   \n",
       "\n",
       "             10034         10779         10780         10781         10825  \\\n",
       "0     1.938302e-10  1.745239e-10  1.891659e-10  2.042842e-10  2.058313e-10   \n",
       "1     1.216041e-10  9.032377e-11  9.023866e-11  9.597995e-11  1.224554e-10   \n",
       "2     1.015698e-10  8.813682e-11  9.148223e-11  9.973197e-11  1.092851e-10   \n",
       "3     9.068070e-11  1.556015e-10  1.712996e-10  1.866861e-10  1.278467e-10   \n",
       "4     1.139708e-10  1.453937e-10  1.533817e-10  1.642486e-10  1.435652e-10   \n",
       "...            ...           ...           ...           ...           ...   \n",
       "1200  7.403354e-10  7.110894e-10  6.509960e-10  5.941134e-10  8.227183e-10   \n",
       "1201  6.358840e-10  5.325276e-10  5.630382e-10  5.888244e-10  4.740338e-10   \n",
       "1202  6.704773e-10  8.896148e-10  8.753012e-10  8.635090e-10  7.743718e-10   \n",
       "1203  7.658842e-10  7.371174e-10  7.506907e-10  7.673596e-10  7.257930e-10   \n",
       "1204  5.954633e-10  7.587984e-10  7.226871e-10  6.781014e-10  5.939600e-10   \n",
       "\n",
       "      ...      1507         19938          7148         15853         18415  \\\n",
       "0     ...  0.000010 -6.668794e-06  9.633062e-06 -1.989654e-06  1.877849e-05   \n",
       "1     ... -0.000006 -3.445661e-06  7.260300e-06  1.478550e-05  2.589368e-06   \n",
       "2     ...  0.000004 -1.714245e-06 -1.766137e-06  2.129818e-07 -1.912296e-06   \n",
       "3     ... -0.000005 -9.494950e-06  6.371411e-07 -7.485432e-06  1.297471e-06   \n",
       "4     ...  0.000027 -2.077431e-06 -4.941830e-07  6.914022e-06  8.027347e-06   \n",
       "...   ...       ...           ...           ...           ...           ...   \n",
       "1200  ... -0.000003  7.340685e-06  2.344197e-06 -1.738756e-05  2.378179e-05   \n",
       "1201  ... -0.000028 -9.944662e-06  5.097594e-06  3.484311e-06 -1.720665e-05   \n",
       "1202  ... -0.000028  7.048482e-06 -9.214506e-06 -3.154506e-06 -1.262734e-05   \n",
       "1203  ...  0.000002  1.101103e-05  1.709722e-05  1.094537e-05  6.600749e-08   \n",
       "1204  ...  0.000015  2.881279e-08 -1.672679e-05  9.838957e-06 -1.775217e-06   \n",
       "\n",
       "             11250          6132          6135      6136      7674  \n",
       "0     5.654001e-07  5.845504e-06 -1.900230e-05 -0.000007 -0.000004  \n",
       "1     9.500189e-06 -1.224829e-05  1.557264e-05  0.000003  0.000007  \n",
       "2     7.268966e-06 -2.401423e-06 -3.207606e-07 -0.000002  0.000003  \n",
       "3     1.667978e-05 -4.652888e-06  4.499962e-06  0.000005 -0.000003  \n",
       "4     3.798626e-05 -2.863118e-06  1.934357e-06  0.000001  0.000008  \n",
       "...            ...           ...           ...       ...       ...  \n",
       "1200  1.202943e-05  4.644971e-06 -5.729496e-06 -0.000008  0.000006  \n",
       "1201  7.488299e-06  1.352560e-05 -2.319040e-05 -0.000003  0.000005  \n",
       "1202  2.332377e-05 -5.225651e-06 -1.910143e-06  0.000004 -0.000013  \n",
       "1203  3.823952e-06  7.054769e-07  6.161164e-06 -0.000006 -0.000002  \n",
       "1204  4.693783e-05 -2.964400e-05  3.500283e-05  0.000043 -0.000023  \n",
       "\n",
       "[4728 rows x 620 columns]"
      ]
     },
     "execution_count": 22,
     "metadata": {},
     "output_type": "execute_result"
    }
   ],
   "source": [
    "features = pd.concat([spec, zcrs], axis = 1)\n",
    "features = pd.concat([features, chro], axis = 1)\n",
    "features = pd.concat([features, wavelet], axis = 1)\n",
    "features"
   ]
  },
  {
   "cell_type": "code",
   "execution_count": 23,
   "id": "807f04e8",
   "metadata": {},
   "outputs": [
    {
     "data": {
      "text/plain": [
       "10761    float64\n",
       "10762    float64\n",
       "10763    float64\n",
       "10764    float64\n",
       "10765    float64\n",
       "          ...   \n",
       "11250    float64\n",
       "6132     float64\n",
       "6135     float64\n",
       "6136     float64\n",
       "7674     float64\n",
       "Length: 620, dtype: object"
      ]
     },
     "execution_count": 23,
     "metadata": {},
     "output_type": "execute_result"
    }
   ],
   "source": [
    "features.dtypes"
   ]
  },
  {
   "cell_type": "markdown",
   "id": "8fd7c4d9",
   "metadata": {},
   "source": [
    "## With threshold"
   ]
  },
  {
   "cell_type": "code",
   "execution_count": 24,
   "id": "0298efc9",
   "metadata": {},
   "outputs": [
    {
     "name": "stderr",
     "output_type": "stream",
     "text": [
      "/Users/ecem/miniforge3/envs/tf-metal/lib/python3.9/site-packages/sklearn/utils/validation.py:1858: FutureWarning: Feature names only support names that are all strings. Got feature names with dtypes: ['int', 'str']. An error will be raised in 1.2.\n",
      "  warnings.warn(\n"
     ]
    },
    {
     "data": {
      "text/html": [
       "<div>\n",
       "<style scoped>\n",
       "    .dataframe tbody tr th:only-of-type {\n",
       "        vertical-align: middle;\n",
       "    }\n",
       "\n",
       "    .dataframe tbody tr th {\n",
       "        vertical-align: top;\n",
       "    }\n",
       "\n",
       "    .dataframe thead th {\n",
       "        text-align: right;\n",
       "    }\n",
       "</style>\n",
       "<table border=\"1\" class=\"dataframe\">\n",
       "  <thead>\n",
       "    <tr style=\"text-align: right;\">\n",
       "      <th></th>\n",
       "      <th>4</th>\n",
       "      <th>0</th>\n",
       "      <th>1</th>\n",
       "      <th>2</th>\n",
       "      <th>3</th>\n",
       "      <th>4</th>\n",
       "      <th>5</th>\n",
       "      <th>6</th>\n",
       "      <th>7</th>\n",
       "      <th>8</th>\n",
       "      <th>...</th>\n",
       "      <th>1677</th>\n",
       "      <th>792.1</th>\n",
       "      <th>1746</th>\n",
       "      <th>1874</th>\n",
       "      <th>1780</th>\n",
       "      <th>2264</th>\n",
       "      <th>1817</th>\n",
       "      <th>1371</th>\n",
       "      <th>1366</th>\n",
       "      <th>4986</th>\n",
       "    </tr>\n",
       "  </thead>\n",
       "  <tbody>\n",
       "    <tr>\n",
       "      <th>0</th>\n",
       "      <td>1399.0</td>\n",
       "      <td>0.625998</td>\n",
       "      <td>0.482445</td>\n",
       "      <td>0.676526</td>\n",
       "      <td>0.821510</td>\n",
       "      <td>0.745005</td>\n",
       "      <td>0.671202</td>\n",
       "      <td>0.739956</td>\n",
       "      <td>0.652771</td>\n",
       "      <td>0.634898</td>\n",
       "      <td>...</td>\n",
       "      <td>0.298392</td>\n",
       "      <td>-0.032834</td>\n",
       "      <td>0.248164</td>\n",
       "      <td>-0.015671</td>\n",
       "      <td>0.013204</td>\n",
       "      <td>0.024039</td>\n",
       "      <td>-0.079944</td>\n",
       "      <td>-0.006196</td>\n",
       "      <td>-0.002755</td>\n",
       "      <td>0.003897</td>\n",
       "    </tr>\n",
       "    <tr>\n",
       "      <th>1</th>\n",
       "      <td>1394.0</td>\n",
       "      <td>0.502135</td>\n",
       "      <td>0.545204</td>\n",
       "      <td>0.557102</td>\n",
       "      <td>0.735404</td>\n",
       "      <td>0.724191</td>\n",
       "      <td>0.538105</td>\n",
       "      <td>0.538433</td>\n",
       "      <td>0.456542</td>\n",
       "      <td>0.362441</td>\n",
       "      <td>...</td>\n",
       "      <td>-0.008994</td>\n",
       "      <td>-0.017420</td>\n",
       "      <td>0.015129</td>\n",
       "      <td>-0.053181</td>\n",
       "      <td>0.002921</td>\n",
       "      <td>0.038940</td>\n",
       "      <td>0.034556</td>\n",
       "      <td>0.120169</td>\n",
       "      <td>0.000280</td>\n",
       "      <td>-0.000058</td>\n",
       "    </tr>\n",
       "    <tr>\n",
       "      <th>2</th>\n",
       "      <td>1300.0</td>\n",
       "      <td>0.689572</td>\n",
       "      <td>0.861129</td>\n",
       "      <td>0.599657</td>\n",
       "      <td>0.457374</td>\n",
       "      <td>0.396443</td>\n",
       "      <td>0.353062</td>\n",
       "      <td>0.672715</td>\n",
       "      <td>0.543713</td>\n",
       "      <td>0.391207</td>\n",
       "      <td>...</td>\n",
       "      <td>-0.010396</td>\n",
       "      <td>-0.001003</td>\n",
       "      <td>0.009712</td>\n",
       "      <td>-0.020764</td>\n",
       "      <td>0.019223</td>\n",
       "      <td>-0.003763</td>\n",
       "      <td>0.029904</td>\n",
       "      <td>-0.006193</td>\n",
       "      <td>-0.003024</td>\n",
       "      <td>0.000620</td>\n",
       "    </tr>\n",
       "    <tr>\n",
       "      <th>3</th>\n",
       "      <td>1299.0</td>\n",
       "      <td>0.575298</td>\n",
       "      <td>0.466166</td>\n",
       "      <td>0.447056</td>\n",
       "      <td>0.421602</td>\n",
       "      <td>0.518610</td>\n",
       "      <td>0.330166</td>\n",
       "      <td>0.372173</td>\n",
       "      <td>0.601313</td>\n",
       "      <td>0.699403</td>\n",
       "      <td>...</td>\n",
       "      <td>0.050744</td>\n",
       "      <td>0.004767</td>\n",
       "      <td>0.016532</td>\n",
       "      <td>-0.003891</td>\n",
       "      <td>-0.025502</td>\n",
       "      <td>-0.003055</td>\n",
       "      <td>-0.003860</td>\n",
       "      <td>0.014813</td>\n",
       "      <td>0.000136</td>\n",
       "      <td>0.003397</td>\n",
       "    </tr>\n",
       "    <tr>\n",
       "      <th>4</th>\n",
       "      <td>1344.0</td>\n",
       "      <td>0.325563</td>\n",
       "      <td>0.268573</td>\n",
       "      <td>0.197883</td>\n",
       "      <td>0.211158</td>\n",
       "      <td>0.457757</td>\n",
       "      <td>0.713487</td>\n",
       "      <td>0.548991</td>\n",
       "      <td>0.348728</td>\n",
       "      <td>0.465487</td>\n",
       "      <td>...</td>\n",
       "      <td>-0.018814</td>\n",
       "      <td>-0.027728</td>\n",
       "      <td>0.015563</td>\n",
       "      <td>0.007656</td>\n",
       "      <td>0.009178</td>\n",
       "      <td>0.003566</td>\n",
       "      <td>-0.010252</td>\n",
       "      <td>-0.024892</td>\n",
       "      <td>0.001353</td>\n",
       "      <td>-0.000408</td>\n",
       "    </tr>\n",
       "    <tr>\n",
       "      <th>...</th>\n",
       "      <td>...</td>\n",
       "      <td>...</td>\n",
       "      <td>...</td>\n",
       "      <td>...</td>\n",
       "      <td>...</td>\n",
       "      <td>...</td>\n",
       "      <td>...</td>\n",
       "      <td>...</td>\n",
       "      <td>...</td>\n",
       "      <td>...</td>\n",
       "      <td>...</td>\n",
       "      <td>...</td>\n",
       "      <td>...</td>\n",
       "      <td>...</td>\n",
       "      <td>...</td>\n",
       "      <td>...</td>\n",
       "      <td>...</td>\n",
       "      <td>...</td>\n",
       "      <td>...</td>\n",
       "      <td>...</td>\n",
       "      <td>...</td>\n",
       "    </tr>\n",
       "    <tr>\n",
       "      <th>1200</th>\n",
       "      <td>382.0</td>\n",
       "      <td>0.761378</td>\n",
       "      <td>0.581940</td>\n",
       "      <td>0.589731</td>\n",
       "      <td>0.564518</td>\n",
       "      <td>0.530238</td>\n",
       "      <td>0.632826</td>\n",
       "      <td>0.738431</td>\n",
       "      <td>0.799368</td>\n",
       "      <td>0.852685</td>\n",
       "      <td>...</td>\n",
       "      <td>0.015297</td>\n",
       "      <td>-0.011378</td>\n",
       "      <td>0.001990</td>\n",
       "      <td>0.005124</td>\n",
       "      <td>-0.000345</td>\n",
       "      <td>0.009605</td>\n",
       "      <td>0.006444</td>\n",
       "      <td>0.004371</td>\n",
       "      <td>0.004761</td>\n",
       "      <td>-0.010536</td>\n",
       "    </tr>\n",
       "    <tr>\n",
       "      <th>1201</th>\n",
       "      <td>388.0</td>\n",
       "      <td>0.630042</td>\n",
       "      <td>0.788746</td>\n",
       "      <td>0.756570</td>\n",
       "      <td>0.753607</td>\n",
       "      <td>0.664939</td>\n",
       "      <td>0.692472</td>\n",
       "      <td>0.805693</td>\n",
       "      <td>0.668857</td>\n",
       "      <td>0.633761</td>\n",
       "      <td>...</td>\n",
       "      <td>-0.046272</td>\n",
       "      <td>0.029142</td>\n",
       "      <td>0.006323</td>\n",
       "      <td>-0.014022</td>\n",
       "      <td>0.000490</td>\n",
       "      <td>-0.023085</td>\n",
       "      <td>-0.006386</td>\n",
       "      <td>-0.022724</td>\n",
       "      <td>-0.005521</td>\n",
       "      <td>0.000664</td>\n",
       "    </tr>\n",
       "    <tr>\n",
       "      <th>1202</th>\n",
       "      <td>358.0</td>\n",
       "      <td>0.550638</td>\n",
       "      <td>0.775268</td>\n",
       "      <td>0.765337</td>\n",
       "      <td>0.790918</td>\n",
       "      <td>0.585392</td>\n",
       "      <td>0.434670</td>\n",
       "      <td>0.335148</td>\n",
       "      <td>0.359834</td>\n",
       "      <td>0.445198</td>\n",
       "      <td>...</td>\n",
       "      <td>-0.001674</td>\n",
       "      <td>0.007032</td>\n",
       "      <td>0.006584</td>\n",
       "      <td>-0.011826</td>\n",
       "      <td>-0.012120</td>\n",
       "      <td>-0.010602</td>\n",
       "      <td>-0.007027</td>\n",
       "      <td>0.006278</td>\n",
       "      <td>0.002756</td>\n",
       "      <td>-0.001371</td>\n",
       "    </tr>\n",
       "    <tr>\n",
       "      <th>1203</th>\n",
       "      <td>456.0</td>\n",
       "      <td>0.636011</td>\n",
       "      <td>0.748156</td>\n",
       "      <td>0.761960</td>\n",
       "      <td>0.681554</td>\n",
       "      <td>0.668069</td>\n",
       "      <td>0.752171</td>\n",
       "      <td>0.865487</td>\n",
       "      <td>0.817557</td>\n",
       "      <td>0.768924</td>\n",
       "      <td>...</td>\n",
       "      <td>-0.007581</td>\n",
       "      <td>0.016033</td>\n",
       "      <td>0.127535</td>\n",
       "      <td>0.005935</td>\n",
       "      <td>-0.004137</td>\n",
       "      <td>-0.036998</td>\n",
       "      <td>0.012247</td>\n",
       "      <td>0.008432</td>\n",
       "      <td>0.001718</td>\n",
       "      <td>-0.016058</td>\n",
       "    </tr>\n",
       "    <tr>\n",
       "      <th>1204</th>\n",
       "      <td>444.0</td>\n",
       "      <td>0.575557</td>\n",
       "      <td>0.514179</td>\n",
       "      <td>0.556940</td>\n",
       "      <td>0.545879</td>\n",
       "      <td>0.543234</td>\n",
       "      <td>0.632436</td>\n",
       "      <td>0.612592</td>\n",
       "      <td>0.586342</td>\n",
       "      <td>0.631452</td>\n",
       "      <td>...</td>\n",
       "      <td>0.046625</td>\n",
       "      <td>0.013138</td>\n",
       "      <td>-0.029876</td>\n",
       "      <td>-0.005374</td>\n",
       "      <td>-0.031095</td>\n",
       "      <td>-0.017987</td>\n",
       "      <td>0.055280</td>\n",
       "      <td>-0.015520</td>\n",
       "      <td>-0.000354</td>\n",
       "      <td>-0.000011</td>\n",
       "    </tr>\n",
       "  </tbody>\n",
       "</table>\n",
       "<p>4728 rows × 89 columns</p>\n",
       "</div>"
      ],
      "text/plain": [
       "           4         0         1         2         3         4         5  \\\n",
       "0     1399.0  0.625998  0.482445  0.676526  0.821510  0.745005  0.671202   \n",
       "1     1394.0  0.502135  0.545204  0.557102  0.735404  0.724191  0.538105   \n",
       "2     1300.0  0.689572  0.861129  0.599657  0.457374  0.396443  0.353062   \n",
       "3     1299.0  0.575298  0.466166  0.447056  0.421602  0.518610  0.330166   \n",
       "4     1344.0  0.325563  0.268573  0.197883  0.211158  0.457757  0.713487   \n",
       "...      ...       ...       ...       ...       ...       ...       ...   \n",
       "1200   382.0  0.761378  0.581940  0.589731  0.564518  0.530238  0.632826   \n",
       "1201   388.0  0.630042  0.788746  0.756570  0.753607  0.664939  0.692472   \n",
       "1202   358.0  0.550638  0.775268  0.765337  0.790918  0.585392  0.434670   \n",
       "1203   456.0  0.636011  0.748156  0.761960  0.681554  0.668069  0.752171   \n",
       "1204   444.0  0.575557  0.514179  0.556940  0.545879  0.543234  0.632436   \n",
       "\n",
       "             6         7         8  ...      1677     792.1      1746  \\\n",
       "0     0.739956  0.652771  0.634898  ...  0.298392 -0.032834  0.248164   \n",
       "1     0.538433  0.456542  0.362441  ... -0.008994 -0.017420  0.015129   \n",
       "2     0.672715  0.543713  0.391207  ... -0.010396 -0.001003  0.009712   \n",
       "3     0.372173  0.601313  0.699403  ...  0.050744  0.004767  0.016532   \n",
       "4     0.548991  0.348728  0.465487  ... -0.018814 -0.027728  0.015563   \n",
       "...        ...       ...       ...  ...       ...       ...       ...   \n",
       "1200  0.738431  0.799368  0.852685  ...  0.015297 -0.011378  0.001990   \n",
       "1201  0.805693  0.668857  0.633761  ... -0.046272  0.029142  0.006323   \n",
       "1202  0.335148  0.359834  0.445198  ... -0.001674  0.007032  0.006584   \n",
       "1203  0.865487  0.817557  0.768924  ... -0.007581  0.016033  0.127535   \n",
       "1204  0.612592  0.586342  0.631452  ...  0.046625  0.013138 -0.029876   \n",
       "\n",
       "          1874      1780      2264      1817      1371      1366      4986  \n",
       "0    -0.015671  0.013204  0.024039 -0.079944 -0.006196 -0.002755  0.003897  \n",
       "1    -0.053181  0.002921  0.038940  0.034556  0.120169  0.000280 -0.000058  \n",
       "2    -0.020764  0.019223 -0.003763  0.029904 -0.006193 -0.003024  0.000620  \n",
       "3    -0.003891 -0.025502 -0.003055 -0.003860  0.014813  0.000136  0.003397  \n",
       "4     0.007656  0.009178  0.003566 -0.010252 -0.024892  0.001353 -0.000408  \n",
       "...        ...       ...       ...       ...       ...       ...       ...  \n",
       "1200  0.005124 -0.000345  0.009605  0.006444  0.004371  0.004761 -0.010536  \n",
       "1201 -0.014022  0.000490 -0.023085 -0.006386 -0.022724 -0.005521  0.000664  \n",
       "1202 -0.011826 -0.012120 -0.010602 -0.007027  0.006278  0.002756 -0.001371  \n",
       "1203  0.005935 -0.004137 -0.036998  0.012247  0.008432  0.001718 -0.016058  \n",
       "1204 -0.005374 -0.031095 -0.017987  0.055280 -0.015520 -0.000354 -0.000011  \n",
       "\n",
       "[4728 rows x 89 columns]"
      ]
     },
     "execution_count": 24,
     "metadata": {},
     "output_type": "execute_result"
    }
   ],
   "source": [
    "from sklearn.feature_selection import VarianceThreshold\n",
    "vt = VarianceThreshold(threshold =  0.001)   # düşük  threshold\n",
    "_ = vt.fit(features)\n",
    "masked = vt.get_support()\n",
    "features_masked = features.loc[:, masked]\n",
    "features_masked # uncomment to see the dataframe"
   ]
  },
  {
   "cell_type": "code",
   "execution_count": 25,
   "id": "7c2d880c",
   "metadata": {},
   "outputs": [
    {
     "data": {
      "text/plain": [
       "4       float64\n",
       "0       float64\n",
       "1       float64\n",
       "2       float64\n",
       "3       float64\n",
       "         ...   \n",
       "2264    float64\n",
       "1817    float64\n",
       "1371    float64\n",
       "1366    float64\n",
       "4986    float64\n",
       "Length: 89, dtype: object"
      ]
     },
     "execution_count": 25,
     "metadata": {},
     "output_type": "execute_result"
    }
   ],
   "source": [
    "features_masked.dtypes"
   ]
  },
  {
   "cell_type": "code",
   "execution_count": 26,
   "id": "6384f1a6",
   "metadata": {},
   "outputs": [],
   "source": [
    "features_masked = pd.DataFrame(np.vstack([features_masked.columns, features_masked])).iloc[1:,:]"
   ]
  },
  {
   "cell_type": "code",
   "execution_count": 31,
   "id": "81fa5547",
   "metadata": {},
   "outputs": [],
   "source": [
    "features_masked = features_masked.astype('float64')"
   ]
  },
  {
   "cell_type": "code",
   "execution_count": 32,
   "id": "74f37115",
   "metadata": {},
   "outputs": [
    {
     "data": {
      "text/plain": [
       "0     float64\n",
       "1     float64\n",
       "2     float64\n",
       "3     float64\n",
       "4     float64\n",
       "       ...   \n",
       "84    float64\n",
       "85    float64\n",
       "86    float64\n",
       "87    float64\n",
       "88    float64\n",
       "Length: 89, dtype: object"
      ]
     },
     "execution_count": 32,
     "metadata": {},
     "output_type": "execute_result"
    }
   ],
   "source": [
    "features_masked.dtypes"
   ]
  },
  {
   "cell_type": "code",
   "execution_count": 33,
   "id": "bcf4f600",
   "metadata": {},
   "outputs": [],
   "source": [
    "X_train_, X_valid_, y_train_, y_valid_ = train_test_split(features_masked, labels, train_size=0.8, test_size=0.2,\n",
    "                                                                random_state=42)"
   ]
  },
  {
   "cell_type": "code",
   "execution_count": 34,
   "id": "03778983",
   "metadata": {},
   "outputs": [],
   "source": [
    "import xgboost as xgb\n",
    "classifier = MultiOutputClassifier(xgb.XGBClassifier(objective = 'binary:logistic'))\n",
    "\n",
    "clf = Pipeline([('classify', classifier)])\n"
   ]
  },
  {
   "cell_type": "code",
   "execution_count": 35,
   "id": "7a51bf47",
   "metadata": {},
   "outputs": [
    {
     "data": {
      "text/html": [
       "<style>#sk-container-id-1 {color: black;background-color: white;}#sk-container-id-1 pre{padding: 0;}#sk-container-id-1 div.sk-toggleable {background-color: white;}#sk-container-id-1 label.sk-toggleable__label {cursor: pointer;display: block;width: 100%;margin-bottom: 0;padding: 0.3em;box-sizing: border-box;text-align: center;}#sk-container-id-1 label.sk-toggleable__label-arrow:before {content: \"▸\";float: left;margin-right: 0.25em;color: #696969;}#sk-container-id-1 label.sk-toggleable__label-arrow:hover:before {color: black;}#sk-container-id-1 div.sk-estimator:hover label.sk-toggleable__label-arrow:before {color: black;}#sk-container-id-1 div.sk-toggleable__content {max-height: 0;max-width: 0;overflow: hidden;text-align: left;background-color: #f0f8ff;}#sk-container-id-1 div.sk-toggleable__content pre {margin: 0.2em;color: black;border-radius: 0.25em;background-color: #f0f8ff;}#sk-container-id-1 input.sk-toggleable__control:checked~div.sk-toggleable__content {max-height: 200px;max-width: 100%;overflow: auto;}#sk-container-id-1 input.sk-toggleable__control:checked~label.sk-toggleable__label-arrow:before {content: \"▾\";}#sk-container-id-1 div.sk-estimator input.sk-toggleable__control:checked~label.sk-toggleable__label {background-color: #d4ebff;}#sk-container-id-1 div.sk-label input.sk-toggleable__control:checked~label.sk-toggleable__label {background-color: #d4ebff;}#sk-container-id-1 input.sk-hidden--visually {border: 0;clip: rect(1px 1px 1px 1px);clip: rect(1px, 1px, 1px, 1px);height: 1px;margin: -1px;overflow: hidden;padding: 0;position: absolute;width: 1px;}#sk-container-id-1 div.sk-estimator {font-family: monospace;background-color: #f0f8ff;border: 1px dotted black;border-radius: 0.25em;box-sizing: border-box;margin-bottom: 0.5em;}#sk-container-id-1 div.sk-estimator:hover {background-color: #d4ebff;}#sk-container-id-1 div.sk-parallel-item::after {content: \"\";width: 100%;border-bottom: 1px solid gray;flex-grow: 1;}#sk-container-id-1 div.sk-label:hover label.sk-toggleable__label {background-color: #d4ebff;}#sk-container-id-1 div.sk-serial::before {content: \"\";position: absolute;border-left: 1px solid gray;box-sizing: border-box;top: 0;bottom: 0;left: 50%;z-index: 0;}#sk-container-id-1 div.sk-serial {display: flex;flex-direction: column;align-items: center;background-color: white;padding-right: 0.2em;padding-left: 0.2em;position: relative;}#sk-container-id-1 div.sk-item {position: relative;z-index: 1;}#sk-container-id-1 div.sk-parallel {display: flex;align-items: stretch;justify-content: center;background-color: white;position: relative;}#sk-container-id-1 div.sk-item::before, #sk-container-id-1 div.sk-parallel-item::before {content: \"\";position: absolute;border-left: 1px solid gray;box-sizing: border-box;top: 0;bottom: 0;left: 50%;z-index: -1;}#sk-container-id-1 div.sk-parallel-item {display: flex;flex-direction: column;z-index: 1;position: relative;background-color: white;}#sk-container-id-1 div.sk-parallel-item:first-child::after {align-self: flex-end;width: 50%;}#sk-container-id-1 div.sk-parallel-item:last-child::after {align-self: flex-start;width: 50%;}#sk-container-id-1 div.sk-parallel-item:only-child::after {width: 0;}#sk-container-id-1 div.sk-dashed-wrapped {border: 1px dashed gray;margin: 0 0.4em 0.5em 0.4em;box-sizing: border-box;padding-bottom: 0.4em;background-color: white;}#sk-container-id-1 div.sk-label label {font-family: monospace;font-weight: bold;display: inline-block;line-height: 1.2em;}#sk-container-id-1 div.sk-label-container {text-align: center;}#sk-container-id-1 div.sk-container {/* jupyter's `normalize.less` sets `[hidden] { display: none; }` but bootstrap.min.css set `[hidden] { display: none !important; }` so we also need the `!important` here to be able to override the default hidden behavior on the sphinx rendered scikit-learn.org. See: https://github.com/scikit-learn/scikit-learn/issues/21755 */display: inline-block !important;position: relative;}#sk-container-id-1 div.sk-text-repr-fallback {display: none;}</style><div id=\"sk-container-id-1\" class=\"sk-top-container\"><div class=\"sk-text-repr-fallback\"><pre>Pipeline(steps=[(&#x27;classify&#x27;,\n",
       "                 MultiOutputClassifier(estimator=XGBClassifier(base_score=None,\n",
       "                                                               booster=None,\n",
       "                                                               callbacks=None,\n",
       "                                                               colsample_bylevel=None,\n",
       "                                                               colsample_bynode=None,\n",
       "                                                               colsample_bytree=None,\n",
       "                                                               early_stopping_rounds=None,\n",
       "                                                               enable_categorical=False,\n",
       "                                                               eval_metric=None,\n",
       "                                                               gamma=None,\n",
       "                                                               gpu_id=None,\n",
       "                                                               grow_policy=None,\n",
       "                                                               importance_type=None,\n",
       "                                                               interaction_constraints=None,\n",
       "                                                               learning_rate=None,\n",
       "                                                               max_bin=None,\n",
       "                                                               max_cat_to_onehot=None,\n",
       "                                                               max_delta_step=None,\n",
       "                                                               max_depth=None,\n",
       "                                                               max_leaves=None,\n",
       "                                                               min_child_weight=None,\n",
       "                                                               missing=nan,\n",
       "                                                               monotone_constraints=None,\n",
       "                                                               n_estimators=100,\n",
       "                                                               n_jobs=None,\n",
       "                                                               num_parallel_tree=None,\n",
       "                                                               predictor=None,\n",
       "                                                               random_state=None,\n",
       "                                                               reg_alpha=None,\n",
       "                                                               reg_lambda=None, ...)))])</pre><b>In a Jupyter environment, please rerun this cell to show the HTML representation or trust the notebook. <br />On GitHub, the HTML representation is unable to render, please try loading this page with nbviewer.org.</b></div><div class=\"sk-container\" hidden><div class=\"sk-item sk-dashed-wrapped\"><div class=\"sk-label-container\"><div class=\"sk-label sk-toggleable\"><input class=\"sk-toggleable__control sk-hidden--visually\" id=\"sk-estimator-id-1\" type=\"checkbox\" ><label for=\"sk-estimator-id-1\" class=\"sk-toggleable__label sk-toggleable__label-arrow\">Pipeline</label><div class=\"sk-toggleable__content\"><pre>Pipeline(steps=[(&#x27;classify&#x27;,\n",
       "                 MultiOutputClassifier(estimator=XGBClassifier(base_score=None,\n",
       "                                                               booster=None,\n",
       "                                                               callbacks=None,\n",
       "                                                               colsample_bylevel=None,\n",
       "                                                               colsample_bynode=None,\n",
       "                                                               colsample_bytree=None,\n",
       "                                                               early_stopping_rounds=None,\n",
       "                                                               enable_categorical=False,\n",
       "                                                               eval_metric=None,\n",
       "                                                               gamma=None,\n",
       "                                                               gpu_id=None,\n",
       "                                                               grow_policy=None,\n",
       "                                                               importance_type=None,\n",
       "                                                               interaction_constraints=None,\n",
       "                                                               learning_rate=None,\n",
       "                                                               max_bin=None,\n",
       "                                                               max_cat_to_onehot=None,\n",
       "                                                               max_delta_step=None,\n",
       "                                                               max_depth=None,\n",
       "                                                               max_leaves=None,\n",
       "                                                               min_child_weight=None,\n",
       "                                                               missing=nan,\n",
       "                                                               monotone_constraints=None,\n",
       "                                                               n_estimators=100,\n",
       "                                                               n_jobs=None,\n",
       "                                                               num_parallel_tree=None,\n",
       "                                                               predictor=None,\n",
       "                                                               random_state=None,\n",
       "                                                               reg_alpha=None,\n",
       "                                                               reg_lambda=None, ...)))])</pre></div></div></div><div class=\"sk-serial\"><div class=\"sk-item sk-dashed-wrapped\"><div class=\"sk-label-container\"><div class=\"sk-label sk-toggleable\"><input class=\"sk-toggleable__control sk-hidden--visually\" id=\"sk-estimator-id-2\" type=\"checkbox\" ><label for=\"sk-estimator-id-2\" class=\"sk-toggleable__label sk-toggleable__label-arrow\">classify: MultiOutputClassifier</label><div class=\"sk-toggleable__content\"><pre>MultiOutputClassifier(estimator=XGBClassifier(base_score=None, booster=None,\n",
       "                                              callbacks=None,\n",
       "                                              colsample_bylevel=None,\n",
       "                                              colsample_bynode=None,\n",
       "                                              colsample_bytree=None,\n",
       "                                              early_stopping_rounds=None,\n",
       "                                              enable_categorical=False,\n",
       "                                              eval_metric=None, gamma=None,\n",
       "                                              gpu_id=None, grow_policy=None,\n",
       "                                              importance_type=None,\n",
       "                                              interaction_constraints=None,\n",
       "                                              learning_rate=None, max_bin=None,\n",
       "                                              max_cat_to_onehot=None,\n",
       "                                              max_delta_step=None,\n",
       "                                              max_depth=None, max_leaves=None,\n",
       "                                              min_child_weight=None,\n",
       "                                              missing=nan,\n",
       "                                              monotone_constraints=None,\n",
       "                                              n_estimators=100, n_jobs=None,\n",
       "                                              num_parallel_tree=None,\n",
       "                                              predictor=None, random_state=None,\n",
       "                                              reg_alpha=None, reg_lambda=None, ...))</pre></div></div></div><div class=\"sk-parallel\"><div class=\"sk-parallel-item\"><div class=\"sk-item\"><div class=\"sk-label-container\"><div class=\"sk-label sk-toggleable\"><input class=\"sk-toggleable__control sk-hidden--visually\" id=\"sk-estimator-id-3\" type=\"checkbox\" ><label for=\"sk-estimator-id-3\" class=\"sk-toggleable__label sk-toggleable__label-arrow\">estimator: XGBClassifier</label><div class=\"sk-toggleable__content\"><pre>XGBClassifier(base_score=None, booster=None, callbacks=None,\n",
       "              colsample_bylevel=None, colsample_bynode=None,\n",
       "              colsample_bytree=None, early_stopping_rounds=None,\n",
       "              enable_categorical=False, eval_metric=None, gamma=None,\n",
       "              gpu_id=None, grow_policy=None, importance_type=None,\n",
       "              interaction_constraints=None, learning_rate=None, max_bin=None,\n",
       "              max_cat_to_onehot=None, max_delta_step=None, max_depth=None,\n",
       "              max_leaves=None, min_child_weight=None, missing=nan,\n",
       "              monotone_constraints=None, n_estimators=100, n_jobs=None,\n",
       "              num_parallel_tree=None, predictor=None, random_state=None,\n",
       "              reg_alpha=None, reg_lambda=None, ...)</pre></div></div></div><div class=\"sk-serial\"><div class=\"sk-item\"><div class=\"sk-estimator sk-toggleable\"><input class=\"sk-toggleable__control sk-hidden--visually\" id=\"sk-estimator-id-4\" type=\"checkbox\" ><label for=\"sk-estimator-id-4\" class=\"sk-toggleable__label sk-toggleable__label-arrow\">XGBClassifier</label><div class=\"sk-toggleable__content\"><pre>XGBClassifier(base_score=None, booster=None, callbacks=None,\n",
       "              colsample_bylevel=None, colsample_bynode=None,\n",
       "              colsample_bytree=None, early_stopping_rounds=None,\n",
       "              enable_categorical=False, eval_metric=None, gamma=None,\n",
       "              gpu_id=None, grow_policy=None, importance_type=None,\n",
       "              interaction_constraints=None, learning_rate=None, max_bin=None,\n",
       "              max_cat_to_onehot=None, max_delta_step=None, max_depth=None,\n",
       "              max_leaves=None, min_child_weight=None, missing=nan,\n",
       "              monotone_constraints=None, n_estimators=100, n_jobs=None,\n",
       "              num_parallel_tree=None, predictor=None, random_state=None,\n",
       "              reg_alpha=None, reg_lambda=None, ...)</pre></div></div></div></div></div></div></div></div></div></div></div></div>"
      ],
      "text/plain": [
       "Pipeline(steps=[('classify',\n",
       "                 MultiOutputClassifier(estimator=XGBClassifier(base_score=None,\n",
       "                                                               booster=None,\n",
       "                                                               callbacks=None,\n",
       "                                                               colsample_bylevel=None,\n",
       "                                                               colsample_bynode=None,\n",
       "                                                               colsample_bytree=None,\n",
       "                                                               early_stopping_rounds=None,\n",
       "                                                               enable_categorical=False,\n",
       "                                                               eval_metric=None,\n",
       "                                                               gamma=None,\n",
       "                                                               gpu_id=None,\n",
       "                                                               grow_policy=None,\n",
       "                                                               importance_type=None,\n",
       "                                                               interaction_constraints=None,\n",
       "                                                               learning_rate=None,\n",
       "                                                               max_bin=None,\n",
       "                                                               max_cat_to_onehot=None,\n",
       "                                                               max_delta_step=None,\n",
       "                                                               max_depth=None,\n",
       "                                                               max_leaves=None,\n",
       "                                                               min_child_weight=None,\n",
       "                                                               missing=nan,\n",
       "                                                               monotone_constraints=None,\n",
       "                                                               n_estimators=100,\n",
       "                                                               n_jobs=None,\n",
       "                                                               num_parallel_tree=None,\n",
       "                                                               predictor=None,\n",
       "                                                               random_state=None,\n",
       "                                                               reg_alpha=None,\n",
       "                                                               reg_lambda=None, ...)))])"
      ]
     },
     "execution_count": 35,
     "metadata": {},
     "output_type": "execute_result"
    }
   ],
   "source": [
    "clf.fit(X_train_, y_train_)\n"
   ]
  },
  {
   "cell_type": "code",
   "execution_count": 36,
   "id": "ab3c619f",
   "metadata": {},
   "outputs": [],
   "source": [
    "yhat = clf.predict(X_valid_)"
   ]
  },
  {
   "cell_type": "code",
   "execution_count": 37,
   "id": "736b0a69",
   "metadata": {},
   "outputs": [
    {
     "data": {
      "text/html": [
       "<div>\n",
       "<style scoped>\n",
       "    .dataframe tbody tr th:only-of-type {\n",
       "        vertical-align: middle;\n",
       "    }\n",
       "\n",
       "    .dataframe tbody tr th {\n",
       "        vertical-align: top;\n",
       "    }\n",
       "\n",
       "    .dataframe thead th {\n",
       "        text-align: right;\n",
       "    }\n",
       "</style>\n",
       "<table border=\"1\" class=\"dataframe\">\n",
       "  <thead>\n",
       "    <tr style=\"text-align: right;\">\n",
       "      <th></th>\n",
       "      <th>AV</th>\n",
       "      <th>MV</th>\n",
       "      <th>PV</th>\n",
       "      <th>TV</th>\n",
       "      <th>predicted AV</th>\n",
       "      <th>predicted MV</th>\n",
       "      <th>predicted PV</th>\n",
       "      <th>predicted TV</th>\n",
       "    </tr>\n",
       "  </thead>\n",
       "  <tbody>\n",
       "    <tr>\n",
       "      <th>0</th>\n",
       "      <td>0.0</td>\n",
       "      <td>0.0</td>\n",
       "      <td>0.0</td>\n",
       "      <td>1.0</td>\n",
       "      <td>0</td>\n",
       "      <td>0</td>\n",
       "      <td>0</td>\n",
       "      <td>0</td>\n",
       "    </tr>\n",
       "    <tr>\n",
       "      <th>1</th>\n",
       "      <td>0.0</td>\n",
       "      <td>0.0</td>\n",
       "      <td>1.0</td>\n",
       "      <td>0.0</td>\n",
       "      <td>0</td>\n",
       "      <td>0</td>\n",
       "      <td>0</td>\n",
       "      <td>0</td>\n",
       "    </tr>\n",
       "    <tr>\n",
       "      <th>2</th>\n",
       "      <td>0.0</td>\n",
       "      <td>1.0</td>\n",
       "      <td>0.0</td>\n",
       "      <td>0.0</td>\n",
       "      <td>0</td>\n",
       "      <td>0</td>\n",
       "      <td>0</td>\n",
       "      <td>0</td>\n",
       "    </tr>\n",
       "    <tr>\n",
       "      <th>3</th>\n",
       "      <td>0.0</td>\n",
       "      <td>0.0</td>\n",
       "      <td>1.0</td>\n",
       "      <td>0.0</td>\n",
       "      <td>0</td>\n",
       "      <td>0</td>\n",
       "      <td>0</td>\n",
       "      <td>0</td>\n",
       "    </tr>\n",
       "    <tr>\n",
       "      <th>4</th>\n",
       "      <td>0.0</td>\n",
       "      <td>1.0</td>\n",
       "      <td>0.0</td>\n",
       "      <td>0.0</td>\n",
       "      <td>1</td>\n",
       "      <td>0</td>\n",
       "      <td>0</td>\n",
       "      <td>0</td>\n",
       "    </tr>\n",
       "    <tr>\n",
       "      <th>...</th>\n",
       "      <td>...</td>\n",
       "      <td>...</td>\n",
       "      <td>...</td>\n",
       "      <td>...</td>\n",
       "      <td>...</td>\n",
       "      <td>...</td>\n",
       "      <td>...</td>\n",
       "      <td>...</td>\n",
       "    </tr>\n",
       "    <tr>\n",
       "      <th>941</th>\n",
       "      <td>1.0</td>\n",
       "      <td>0.0</td>\n",
       "      <td>0.0</td>\n",
       "      <td>0.0</td>\n",
       "      <td>0</td>\n",
       "      <td>0</td>\n",
       "      <td>0</td>\n",
       "      <td>0</td>\n",
       "    </tr>\n",
       "    <tr>\n",
       "      <th>942</th>\n",
       "      <td>0.0</td>\n",
       "      <td>0.0</td>\n",
       "      <td>1.0</td>\n",
       "      <td>0.0</td>\n",
       "      <td>0</td>\n",
       "      <td>0</td>\n",
       "      <td>0</td>\n",
       "      <td>0</td>\n",
       "    </tr>\n",
       "    <tr>\n",
       "      <th>943</th>\n",
       "      <td>0.0</td>\n",
       "      <td>1.0</td>\n",
       "      <td>0.0</td>\n",
       "      <td>0.0</td>\n",
       "      <td>0</td>\n",
       "      <td>1</td>\n",
       "      <td>0</td>\n",
       "      <td>0</td>\n",
       "    </tr>\n",
       "    <tr>\n",
       "      <th>944</th>\n",
       "      <td>1.0</td>\n",
       "      <td>0.0</td>\n",
       "      <td>0.0</td>\n",
       "      <td>0.0</td>\n",
       "      <td>0</td>\n",
       "      <td>0</td>\n",
       "      <td>1</td>\n",
       "      <td>0</td>\n",
       "    </tr>\n",
       "    <tr>\n",
       "      <th>945</th>\n",
       "      <td>1.0</td>\n",
       "      <td>0.0</td>\n",
       "      <td>0.0</td>\n",
       "      <td>0.0</td>\n",
       "      <td>0</td>\n",
       "      <td>1</td>\n",
       "      <td>0</td>\n",
       "      <td>0</td>\n",
       "    </tr>\n",
       "  </tbody>\n",
       "</table>\n",
       "<p>946 rows × 8 columns</p>\n",
       "</div>"
      ],
      "text/plain": [
       "      AV   MV   PV   TV  predicted AV  predicted MV  predicted PV  \\\n",
       "0    0.0  0.0  0.0  1.0             0             0             0   \n",
       "1    0.0  0.0  1.0  0.0             0             0             0   \n",
       "2    0.0  1.0  0.0  0.0             0             0             0   \n",
       "3    0.0  0.0  1.0  0.0             0             0             0   \n",
       "4    0.0  1.0  0.0  0.0             1             0             0   \n",
       "..   ...  ...  ...  ...           ...           ...           ...   \n",
       "941  1.0  0.0  0.0  0.0             0             0             0   \n",
       "942  0.0  0.0  1.0  0.0             0             0             0   \n",
       "943  0.0  1.0  0.0  0.0             0             1             0   \n",
       "944  1.0  0.0  0.0  0.0             0             0             1   \n",
       "945  1.0  0.0  0.0  0.0             0             1             0   \n",
       "\n",
       "     predicted TV  \n",
       "0               0  \n",
       "1               0  \n",
       "2               0  \n",
       "3               0  \n",
       "4               0  \n",
       "..            ...  \n",
       "941             0  \n",
       "942             0  \n",
       "943             0  \n",
       "944             0  \n",
       "945             0  \n",
       "\n",
       "[946 rows x 8 columns]"
      ]
     },
     "execution_count": 37,
     "metadata": {},
     "output_type": "execute_result"
    }
   ],
   "source": [
    "df_results_test = pd.DataFrame({'AV': y_valid_[:,0], 'MV': y_valid_[:,1], 'PV': y_valid_[:,2], 'TV': y_valid_[:,3],\n",
    "                        'predicted AV': yhat[:,0],\n",
    "                          'predicted MV': yhat[:,1],\n",
    "                          'predicted PV': yhat[:,2], \n",
    "                          'predicted TV': yhat[:,3]})\n",
    "df_results_test"
   ]
  },
  {
   "cell_type": "code",
   "execution_count": 38,
   "id": "779c938f",
   "metadata": {},
   "outputs": [
    {
     "name": "stdout",
     "output_type": "stream",
     "text": [
      "ROC AUC AV: 0.5249, MV: 0.5422, PV: 0.5114, TV: 0.5062 \n"
     ]
    }
   ],
   "source": [
    "auc_y1 = roc_auc_score(y_valid_[:,0],yhat[:,0])\n",
    "auc_y2 = roc_auc_score(y_valid_[:,1],yhat[:,1])\n",
    "auc_y3 = roc_auc_score(y_valid_[:,2],yhat[:,2])\n",
    "auc_y4 = roc_auc_score(y_valid_[:,3],yhat[:,3])\n",
    "\n",
    "print(\"ROC AUC AV: %.4f, MV: %.4f, PV: %.4f, TV: %.4f \" % (auc_y1, auc_y2, auc_y3, auc_y4))\n"
   ]
  },
  {
   "cell_type": "code",
   "execution_count": 39,
   "id": "42b57e60",
   "metadata": {},
   "outputs": [],
   "source": [
    "weighted_roc_auc_ovo = roc_auc_score(\n",
    "    y_valid_, yhat, multi_class=\"ovr\", average=\"weighted\"\n",
    ")"
   ]
  },
  {
   "cell_type": "code",
   "execution_count": 40,
   "id": "8e1ad1be",
   "metadata": {},
   "outputs": [
    {
     "data": {
      "text/plain": [
       "0.5206306745412975"
      ]
     },
     "execution_count": 40,
     "metadata": {},
     "output_type": "execute_result"
    }
   ],
   "source": [
    "weighted_roc_auc_ovo"
   ]
  },
  {
   "cell_type": "code",
   "execution_count": 41,
   "id": "09597165",
   "metadata": {},
   "outputs": [],
   "source": [
    "# Compute ROC curve and ROC area for each class\n",
    "fpr = dict()\n",
    "tpr = dict()\n",
    "roc_auc = dict()\n",
    "for i in range(4):\n",
    "    fpr[i], tpr[i], _ = roc_curve(y_valid_[:, i], yhat[:, i])\n",
    "    roc_auc[i] = auc(fpr[i], tpr[i])\n",
    "\n",
    "# Compute micro-average ROC curve and ROC area\n",
    "fpr[\"micro\"], tpr[\"micro\"], _ = roc_curve(y_valid_.ravel(), yhat.ravel())\n",
    "roc_auc[\"micro\"] = auc(fpr[\"micro\"], tpr[\"micro\"])\n"
   ]
  },
  {
   "cell_type": "code",
   "execution_count": 42,
   "id": "6e663041",
   "metadata": {},
   "outputs": [
    {
     "data": {
      "image/png": "[encoded data removed]",
      "text/plain": [
       "<Figure size 1440x720 with 1 Axes>"
      ]
     },
     "metadata": {
      "needs_background": "light"
     },
     "output_type": "display_data"
    }
   ],
   "source": [
    "# Compute ROC curve and ROC area for each class\n",
    "fpr = dict()\n",
    "tpr = dict()\n",
    "roc_auc = dict()\n",
    "for i in range(4):\n",
    "    fpr[i], tpr[i], _ = roc_curve(y_valid_[:, i], yhat[:, i])\n",
    "    roc_auc[i] = auc(fpr[i], tpr[i])\n",
    "\n",
    "# Compute micro-average ROC curve and ROC area\n",
    "fpr[\"micro\"], tpr[\"micro\"], _ = roc_curve(y_valid_.ravel(), yhat.ravel())\n",
    "roc_auc[\"micro\"] = auc(fpr[\"micro\"], tpr[\"micro\"])\n",
    "\n",
    "n_classes = 4\n",
    "class_names = [\"AV\", \"MV\", \"PV\", \"TV\"]\n",
    "\n",
    "from itertools import cycle\n",
    "lw =3\n",
    "\n",
    "# First aggregate all false positive rates\n",
    "all_fpr = np.unique(np.concatenate([fpr[i] for i in range(n_classes)]))\n",
    "\n",
    "# Then interpolate all ROC curves at this points\n",
    "mean_tpr = np.zeros_like(all_fpr)\n",
    "for i in range(n_classes):\n",
    "    mean_tpr += np.interp(all_fpr, fpr[i], tpr[i])\n",
    "\n",
    "# Finally average it and compute AUC\n",
    "mean_tpr /= n_classes\n",
    "\n",
    "fpr[\"macro\"] = all_fpr\n",
    "tpr[\"macro\"] = mean_tpr\n",
    "roc_auc[\"macro\"] = auc(fpr[\"macro\"], tpr[\"macro\"])\n",
    "\n",
    "# Plot all ROC curves\n",
    "plt.figure(figsize = (20, 10))\n",
    "plt.plot(\n",
    "    fpr[\"micro\"],\n",
    "    tpr[\"micro\"],\n",
    "    label=\"micro-average ROC curve (area = {0:0.2f})\".format(roc_auc[\"micro\"]),\n",
    "    color=\"deeppink\",\n",
    "    linestyle=\":\",\n",
    "    linewidth=4,\n",
    ")\n",
    "\n",
    "plt.plot(\n",
    "    fpr[\"macro\"],\n",
    "    tpr[\"macro\"],\n",
    "    label=\"macro-average ROC curve (area = {0:0.2f})\".format(roc_auc[\"macro\"]),\n",
    "    color=\"navy\",\n",
    "    linestyle=\":\",\n",
    "    linewidth=4,\n",
    ")\n",
    "\n",
    "colors = cycle([\"mediumpurple\", \"indigo\", \"cornflowerblue\"])\n",
    "\n",
    "for i, color in zip(range(n_classes), colors):\n",
    "    plt.plot(\n",
    "        fpr[i],\n",
    "        tpr[i],\n",
    "        color=color,\n",
    "        lw=3,\n",
    "        label=\"ROC curve of class {0} (area = {1:0.2f})\".format(class_names[i], roc_auc[i]),\n",
    "    )\n",
    "\n",
    "plt.plot([0.0, 0.5], [0.0, 0.5], \"k--\", lw=lw)\n",
    "plt.xlim([-0.05, 0.5])\n",
    "plt.xticks(fontsize=15)\n",
    "plt.ylim([-0.05, 1.1])\n",
    "plt.yticks(fontsize=15)\n",
    "plt.xlabel(\"False Positive Rate\",fontsize = 18 )\n",
    "plt.ylabel(\"True Positive Rate\", fontsize = 18)\n",
    "plt.title(\"ROC curves for XGBClassifier\",fontsize = 18)\n",
    "plt.legend(loc=\"lower right\", fontsize = 18) \n",
    "plt.show()"
   ]
  },
  {
   "cell_type": "code",
   "execution_count": 43,
   "id": "625e7ca7",
   "metadata": {},
   "outputs": [
    {
     "name": "stdout",
     "output_type": "stream",
     "text": [
      "[[641  41]\n",
      " [235  29]]\n"
     ]
    }
   ],
   "source": [
    "cm_y1 = confusion_matrix(y_valid_[:,0],yhat[:,0])\n",
    "cm_y2 = confusion_matrix(y_valid_[:,1],yhat[:,1])\n",
    "cm_y3 = confusion_matrix(y_valid_[:,2],yhat[:,2])\n",
    "cm_y4 = confusion_matrix(y_valid_[:,3],yhat[:,3])\n",
    "print(cm_y1)\n",
    "\n"
   ]
  },
  {
   "cell_type": "code",
   "execution_count": 44,
   "id": "be286798",
   "metadata": {},
   "outputs": [],
   "source": [
    "class_dict = {0:'AV', 1:'MV', 2:'PV', 3:'TV'}"
   ]
  },
  {
   "cell_type": "code",
   "execution_count": 45,
   "id": "857f1efd",
   "metadata": {},
   "outputs": [
    {
     "data": {
      "image/png": "[encoded data removed]",
      "text/plain": [
       "<Figure size 2016x1080 with 5 Axes>"
      ]
     },
     "metadata": {
      "needs_background": "light"
     },
     "output_type": "display_data"
    }
   ],
   "source": [
    "from sklearn.metrics import ConfusionMatrixDisplay\n",
    "\n",
    "f, axes = plt.subplots(1, 4, figsize=(28, 15))\n",
    "axes = axes.ravel()\n",
    "for i in range(4):\n",
    "    disp = ConfusionMatrixDisplay(confusion_matrix(y_valid_[:, i],\n",
    "                                                   yhat[:, i]),\n",
    "                                  display_labels=[0, i])\n",
    "    if i == 0:\n",
    "        disp.plot(ax=axes[i], values_format='.4g' , cmap = 'BuPu')\n",
    "        disp.ax_.set_title(f'class {class_names[i]}')\n",
    "        disp.ax_.set_xlabel('Predicted Label', fontsize =15)\n",
    "        disp.ax_.set_ylabel('True Label', fontsize = 15)\n",
    "        disp.ax_.set_xticklabels([0,class_names[i]])\n",
    "        disp.ax_.set_yticklabels([0,class_names[i]])\n",
    "        disp.im_.colorbar.remove()\n",
    "    else:\n",
    "        disp.plot(ax=axes[i], values_format='.4g' , cmap = 'BuPu')\n",
    "        disp.ax_.set_title(f'class {class_names[i]}')\n",
    "        disp.ax_.set_xlabel('Predicted Label', fontsize =15)\n",
    "        disp.ax_.set_ylabel(' ')\n",
    "        disp.ax_.set_xticklabels([0,class_names[i]])\n",
    "        disp.ax_.set_yticklabels([0,class_names[i]])\n",
    "        disp.im_.colorbar.remove()\n",
    "        \n",
    "\n",
    "plt.subplots_adjust(wspace=0.10, hspace=0.1)\n",
    "f.colorbar(disp.im_, ax=axes, shrink= 0.4)\n",
    "plt.show()"
   ]
  },
  {
   "cell_type": "code",
   "execution_count": 46,
   "id": "855d81ff",
   "metadata": {},
   "outputs": [
    {
     "data": {
      "text/plain": [
       "array([[711,  26],\n",
       "       [184,  25]])"
      ]
     },
     "execution_count": 46,
     "metadata": {},
     "output_type": "execute_result"
    }
   ],
   "source": [
    "cm_y2"
   ]
  },
  {
   "cell_type": "code",
   "execution_count": 47,
   "id": "930baa46",
   "metadata": {},
   "outputs": [
    {
     "data": {
      "text/plain": [
       "array([[665,  48],\n",
       "       [212,  21]])"
      ]
     },
     "execution_count": 47,
     "metadata": {},
     "output_type": "execute_result"
    }
   ],
   "source": [
    "cm_y3"
   ]
  },
  {
   "cell_type": "code",
   "execution_count": 48,
   "id": "f41ae90d",
   "metadata": {},
   "outputs": [
    {
     "data": {
      "text/plain": [
       "array([[650,  56],\n",
       "       [218,  22]])"
      ]
     },
     "execution_count": 48,
     "metadata": {},
     "output_type": "execute_result"
    }
   ],
   "source": [
    "cm_y4"
   ]
  },
  {
   "cell_type": "code",
   "execution_count": 49,
   "id": "7bd829ae",
   "metadata": {},
   "outputs": [
    {
     "name": "stdout",
     "output_type": "stream",
     "text": [
      "              precision    recall  f1-score   support\n",
      "\n",
      "         0.0       0.73      0.94      0.82       682\n",
      "         1.0       0.41      0.11      0.17       264\n",
      "\n",
      "    accuracy                           0.71       946\n",
      "   macro avg       0.57      0.52      0.50       946\n",
      "weighted avg       0.64      0.71      0.64       946\n",
      "\n",
      "              precision    recall  f1-score   support\n",
      "\n",
      "         0.0       0.79      0.96      0.87       737\n",
      "         1.0       0.49      0.12      0.19       209\n",
      "\n",
      "    accuracy                           0.78       946\n",
      "   macro avg       0.64      0.54      0.53       946\n",
      "weighted avg       0.73      0.78      0.72       946\n",
      "\n",
      "              precision    recall  f1-score   support\n",
      "\n",
      "         0.0       0.76      0.93      0.84       713\n",
      "         1.0       0.30      0.09      0.14       233\n",
      "\n",
      "    accuracy                           0.73       946\n",
      "   macro avg       0.53      0.51      0.49       946\n",
      "weighted avg       0.65      0.73      0.66       946\n",
      "\n",
      "              precision    recall  f1-score   support\n",
      "\n",
      "         0.0       0.75      0.92      0.83       706\n",
      "         1.0       0.28      0.09      0.14       240\n",
      "\n",
      "    accuracy                           0.71       946\n",
      "   macro avg       0.52      0.51      0.48       946\n",
      "weighted avg       0.63      0.71      0.65       946\n",
      "\n"
     ]
    }
   ],
   "source": [
    "cr_y1 = classification_report(y_valid_[:,0],yhat[:,0]) # AR\n",
    "cr_y2 = classification_report(y_valid_[:,1],yhat[:,1]) # AS\n",
    "cr_y3 = classification_report(y_valid_[:,2],yhat[:,2]) # MR\n",
    "cr_y4 = classification_report(y_valid_[:,3],yhat[:,3]) # MS\n",
    "\n",
    "print (cr_y1)\n",
    "print (cr_y2)\n",
    "print (cr_y3)\n",
    "print (cr_y4)\n",
    "\n",
    "\n"
   ]
  },
  {
   "cell_type": "code",
   "execution_count": 50,
   "id": "b9d3f768",
   "metadata": {},
   "outputs": [],
   "source": [
    "y_valid_a = pd.DataFrame(y_valid_)\n",
    "y_train_a = pd.DataFrame(y_train_)\n",
    "\n",
    "X_valid_a = pd.DataFrame(X_valid_)\n",
    "X_train_a = pd.DataFrame(X_train_)"
   ]
  },
  {
   "cell_type": "markdown",
   "id": "3429fb0f",
   "metadata": {},
   "source": [
    "## Without threshold"
   ]
  },
  {
   "cell_type": "code",
   "execution_count": 58,
   "id": "03d8715e",
   "metadata": {},
   "outputs": [],
   "source": [
    "features = pd.DataFrame(np.vstack([features.columns, features])).iloc[1:,:].astype(\"float64\")"
   ]
  },
  {
   "cell_type": "code",
   "execution_count": 59,
   "id": "3c7a7ac5",
   "metadata": {},
   "outputs": [],
   "source": [
    "X_train, X_valid, y_train, y_valid = train_test_split(features, labels, train_size=0.8, test_size=0.2,\n",
    "                                                                random_state=42)"
   ]
  },
  {
   "cell_type": "code",
   "execution_count": 60,
   "id": "ac86fd1f",
   "metadata": {},
   "outputs": [],
   "source": [
    "classifier_f = MultiOutputClassifier(xgb.XGBClassifier(objective = 'binary:logistic'))\n",
    "\n",
    "clf_f = Pipeline([('classify', classifier)])\n",
    "\n",
    "clf_f.fit(X_train, y_train)\n",
    "\n",
    "yhat_f = clf.predict(X_valid)"
   ]
  },
  {
   "cell_type": "code",
   "execution_count": 61,
   "id": "80a5be93",
   "metadata": {},
   "outputs": [
    {
     "data": {
      "text/html": [
       "<div>\n",
       "<style scoped>\n",
       "    .dataframe tbody tr th:only-of-type {\n",
       "        vertical-align: middle;\n",
       "    }\n",
       "\n",
       "    .dataframe tbody tr th {\n",
       "        vertical-align: top;\n",
       "    }\n",
       "\n",
       "    .dataframe thead th {\n",
       "        text-align: right;\n",
       "    }\n",
       "</style>\n",
       "<table border=\"1\" class=\"dataframe\">\n",
       "  <thead>\n",
       "    <tr style=\"text-align: right;\">\n",
       "      <th></th>\n",
       "      <th>AV</th>\n",
       "      <th>MV</th>\n",
       "      <th>PV</th>\n",
       "      <th>TV</th>\n",
       "      <th>predicted AV</th>\n",
       "      <th>predicted MV</th>\n",
       "      <th>predicted PV</th>\n",
       "      <th>predicted TV</th>\n",
       "    </tr>\n",
       "  </thead>\n",
       "  <tbody>\n",
       "    <tr>\n",
       "      <th>0</th>\n",
       "      <td>0.0</td>\n",
       "      <td>0.0</td>\n",
       "      <td>0.0</td>\n",
       "      <td>1.0</td>\n",
       "      <td>0</td>\n",
       "      <td>0</td>\n",
       "      <td>0</td>\n",
       "      <td>0</td>\n",
       "    </tr>\n",
       "    <tr>\n",
       "      <th>1</th>\n",
       "      <td>0.0</td>\n",
       "      <td>0.0</td>\n",
       "      <td>1.0</td>\n",
       "      <td>0.0</td>\n",
       "      <td>0</td>\n",
       "      <td>0</td>\n",
       "      <td>0</td>\n",
       "      <td>0</td>\n",
       "    </tr>\n",
       "    <tr>\n",
       "      <th>2</th>\n",
       "      <td>0.0</td>\n",
       "      <td>1.0</td>\n",
       "      <td>0.0</td>\n",
       "      <td>0.0</td>\n",
       "      <td>0</td>\n",
       "      <td>0</td>\n",
       "      <td>0</td>\n",
       "      <td>0</td>\n",
       "    </tr>\n",
       "    <tr>\n",
       "      <th>3</th>\n",
       "      <td>0.0</td>\n",
       "      <td>0.0</td>\n",
       "      <td>1.0</td>\n",
       "      <td>0.0</td>\n",
       "      <td>0</td>\n",
       "      <td>0</td>\n",
       "      <td>0</td>\n",
       "      <td>0</td>\n",
       "    </tr>\n",
       "    <tr>\n",
       "      <th>4</th>\n",
       "      <td>0.0</td>\n",
       "      <td>1.0</td>\n",
       "      <td>0.0</td>\n",
       "      <td>0.0</td>\n",
       "      <td>0</td>\n",
       "      <td>0</td>\n",
       "      <td>0</td>\n",
       "      <td>0</td>\n",
       "    </tr>\n",
       "    <tr>\n",
       "      <th>...</th>\n",
       "      <td>...</td>\n",
       "      <td>...</td>\n",
       "      <td>...</td>\n",
       "      <td>...</td>\n",
       "      <td>...</td>\n",
       "      <td>...</td>\n",
       "      <td>...</td>\n",
       "      <td>...</td>\n",
       "    </tr>\n",
       "    <tr>\n",
       "      <th>941</th>\n",
       "      <td>1.0</td>\n",
       "      <td>0.0</td>\n",
       "      <td>0.0</td>\n",
       "      <td>0.0</td>\n",
       "      <td>0</td>\n",
       "      <td>0</td>\n",
       "      <td>0</td>\n",
       "      <td>0</td>\n",
       "    </tr>\n",
       "    <tr>\n",
       "      <th>942</th>\n",
       "      <td>0.0</td>\n",
       "      <td>0.0</td>\n",
       "      <td>1.0</td>\n",
       "      <td>0.0</td>\n",
       "      <td>0</td>\n",
       "      <td>0</td>\n",
       "      <td>0</td>\n",
       "      <td>0</td>\n",
       "    </tr>\n",
       "    <tr>\n",
       "      <th>943</th>\n",
       "      <td>0.0</td>\n",
       "      <td>1.0</td>\n",
       "      <td>0.0</td>\n",
       "      <td>0.0</td>\n",
       "      <td>0</td>\n",
       "      <td>1</td>\n",
       "      <td>0</td>\n",
       "      <td>0</td>\n",
       "    </tr>\n",
       "    <tr>\n",
       "      <th>944</th>\n",
       "      <td>1.0</td>\n",
       "      <td>0.0</td>\n",
       "      <td>0.0</td>\n",
       "      <td>0.0</td>\n",
       "      <td>0</td>\n",
       "      <td>0</td>\n",
       "      <td>0</td>\n",
       "      <td>0</td>\n",
       "    </tr>\n",
       "    <tr>\n",
       "      <th>945</th>\n",
       "      <td>1.0</td>\n",
       "      <td>0.0</td>\n",
       "      <td>0.0</td>\n",
       "      <td>0.0</td>\n",
       "      <td>0</td>\n",
       "      <td>0</td>\n",
       "      <td>0</td>\n",
       "      <td>0</td>\n",
       "    </tr>\n",
       "  </tbody>\n",
       "</table>\n",
       "<p>946 rows × 8 columns</p>\n",
       "</div>"
      ],
      "text/plain": [
       "      AV   MV   PV   TV  predicted AV  predicted MV  predicted PV  \\\n",
       "0    0.0  0.0  0.0  1.0             0             0             0   \n",
       "1    0.0  0.0  1.0  0.0             0             0             0   \n",
       "2    0.0  1.0  0.0  0.0             0             0             0   \n",
       "3    0.0  0.0  1.0  0.0             0             0             0   \n",
       "4    0.0  1.0  0.0  0.0             0             0             0   \n",
       "..   ...  ...  ...  ...           ...           ...           ...   \n",
       "941  1.0  0.0  0.0  0.0             0             0             0   \n",
       "942  0.0  0.0  1.0  0.0             0             0             0   \n",
       "943  0.0  1.0  0.0  0.0             0             1             0   \n",
       "944  1.0  0.0  0.0  0.0             0             0             0   \n",
       "945  1.0  0.0  0.0  0.0             0             0             0   \n",
       "\n",
       "     predicted TV  \n",
       "0               0  \n",
       "1               0  \n",
       "2               0  \n",
       "3               0  \n",
       "4               0  \n",
       "..            ...  \n",
       "941             0  \n",
       "942             0  \n",
       "943             0  \n",
       "944             0  \n",
       "945             0  \n",
       "\n",
       "[946 rows x 8 columns]"
      ]
     },
     "execution_count": 61,
     "metadata": {},
     "output_type": "execute_result"
    }
   ],
   "source": [
    "df_results_test_f = pd.DataFrame({'AV': y_valid[:,0], 'MV': y_valid[:,1], 'PV': y_valid[:,2], 'TV': y_valid[:,3],\n",
    "                        'predicted AV': yhat_f[:,0],\n",
    "                          'predicted MV': yhat_f[:,1],\n",
    "                          'predicted PV': yhat_f[:,2], \n",
    "                          'predicted TV': yhat_f[:,3]})\n",
    "df_results_test_f"
   ]
  },
  {
   "cell_type": "code",
   "execution_count": 62,
   "id": "d6bc8afe",
   "metadata": {},
   "outputs": [
    {
     "name": "stdout",
     "output_type": "stream",
     "text": [
      "ROC AUC AV: 0.5315, MV: 0.5432, PV: 0.5255, TV: 0.5197 \n"
     ]
    }
   ],
   "source": [
    "auc_y1_ = roc_auc_score(y_valid[:,0],yhat_f[:,0])\n",
    "auc_y2_ = roc_auc_score(y_valid[:,1],yhat_f[:,1])\n",
    "auc_y3_ = roc_auc_score(y_valid[:,2],yhat_f[:,2])\n",
    "auc_y4_ = roc_auc_score(y_valid[:,3],yhat_f[:,3])\n",
    "\n",
    "print(\"ROC AUC AV: %.4f, MV: %.4f, PV: %.4f, TV: %.4f \" % (auc_y1_, auc_y2_, auc_y3_, auc_y4_))"
   ]
  },
  {
   "cell_type": "code",
   "execution_count": 63,
   "id": "93024848",
   "metadata": {},
   "outputs": [
    {
     "data": {
      "image/png": "[encoded data removed]",
      "text/plain": [
       "<Figure size 1080x504 with 1 Axes>"
      ]
     },
     "metadata": {
      "needs_background": "light"
     },
     "output_type": "display_data"
    }
   ],
   "source": [
    "# Compute ROC curve and ROC area for each class\n",
    "fpr = dict()\n",
    "tpr = dict()\n",
    "roc_auc = dict()\n",
    "for i in range(4):\n",
    "    fpr[i], tpr[i], _ = roc_curve(y_valid[:, i], yhat_f[:, i])\n",
    "    roc_auc[i] = auc(fpr[i], tpr[i])\n",
    "\n",
    "# Compute micro-average ROC curve and ROC area\n",
    "fpr[\"micro\"], tpr[\"micro\"], _ = roc_curve(y_valid.ravel(), yhat_f.ravel())\n",
    "roc_auc[\"micro\"] = auc(fpr[\"micro\"], tpr[\"micro\"])\n",
    "\n",
    "n_classes = 4\n",
    "class_names = [\"AV\", \"MV\", \"PV\", \"TV\"]\n",
    "\n",
    "from itertools import cycle\n",
    "lw =3\n",
    "\n",
    "# First aggregate all false positive rates\n",
    "all_fpr = np.unique(np.concatenate([fpr[i] for i in range(n_classes)]))\n",
    "\n",
    "# Then interpolate all ROC curves at this points\n",
    "mean_tpr = np.zeros_like(all_fpr)\n",
    "for i in range(n_classes):\n",
    "    mean_tpr += np.interp(all_fpr, fpr[i], tpr[i])\n",
    "\n",
    "# Finally average it and compute AUC\n",
    "mean_tpr /= n_classes\n",
    "\n",
    "fpr[\"macro\"] = all_fpr\n",
    "tpr[\"macro\"] = mean_tpr\n",
    "roc_auc[\"macro\"] = auc(fpr[\"macro\"], tpr[\"macro\"])\n",
    "\n",
    "# Plot all ROC curves\n",
    "plt.figure(figsize = (15, 7))\n",
    "plt.plot(\n",
    "    fpr[\"micro\"],\n",
    "    tpr[\"micro\"],\n",
    "    label=\"micro-average ROC curve (area = {0:0.2f})\".format(roc_auc[\"micro\"]),\n",
    "    color=\"deeppink\",\n",
    "    linestyle=\":\",\n",
    "    linewidth=4,\n",
    ")\n",
    "\n",
    "plt.plot(\n",
    "    fpr[\"macro\"],\n",
    "    tpr[\"macro\"],\n",
    "    label=\"macro-average ROC curve (area = {0:0.2f})\".format(roc_auc[\"macro\"]),\n",
    "    color=\"navy\",\n",
    "    linestyle=\":\",\n",
    "    linewidth=4,\n",
    ")\n",
    "\n",
    "colors = cycle([\"mediumpurple\", \"indigo\", \"cornflowerblue\"])\n",
    "\n",
    "for i, color in zip(range(n_classes), colors):\n",
    "    plt.plot(\n",
    "        fpr[i],\n",
    "        tpr[i],\n",
    "        color=color,\n",
    "        lw=3,\n",
    "        label=\"ROC curve of class {0} (area = {1:0.2f})\".format(class_names[i], roc_auc[i]),\n",
    "    )\n",
    "\n",
    "plt.plot([0.0, 0.5], [0.0, 0.5], \"k--\", lw=lw)\n",
    "plt.xlim([-0.05, 0.5])\n",
    "plt.xticks(fontsize=13)\n",
    "plt.ylim([-0.05, 1.1])\n",
    "plt.yticks(fontsize=13)\n",
    "plt.xlabel(\"False Positive Rate\",fontsize = 13 )\n",
    "plt.ylabel(\"True Positive Rate\", fontsize = 13)\n",
    "plt.title(\"ROC curves for XGBClassifier\",fontsize = 13)\n",
    "plt.legend(loc=\"lower right\", fontsize = 13) \n",
    "plt.show()"
   ]
  },
  {
   "cell_type": "code",
   "execution_count": 64,
   "id": "9a0d2b10",
   "metadata": {},
   "outputs": [
    {
     "data": {
      "image/png": "[encoded data removed]",
      "text/plain": [
       "<Figure size 2016x1080 with 5 Axes>"
      ]
     },
     "metadata": {
      "needs_background": "light"
     },
     "output_type": "display_data"
    }
   ],
   "source": [
    "from sklearn.metrics import ConfusionMatrixDisplay\n",
    "\n",
    "f, axes = plt.subplots(1, 4, figsize=(28, 15))\n",
    "axes = axes.ravel()\n",
    "for i in range(4):\n",
    "    disp = ConfusionMatrixDisplay(confusion_matrix(y_valid_[:, i],\n",
    "                                                   yhat[:, i]),\n",
    "                                  display_labels=[0, i])\n",
    "    if i == 0:\n",
    "        disp.plot(ax=axes[i], values_format='.4g' , cmap = 'BuPu')\n",
    "        disp.ax_.set_title(f'class {class_names[i]}')\n",
    "        disp.ax_.set_xlabel('Predicted Label', fontsize =15)\n",
    "        disp.ax_.set_ylabel('True Label', fontsize = 15)\n",
    "        disp.ax_.set_xticklabels([0,class_names[i]])\n",
    "        disp.ax_.set_yticklabels([0,class_names[i]])\n",
    "        disp.im_.colorbar.remove()\n",
    "        \n",
    "    else:\n",
    "        disp.plot(ax=axes[i], values_format='.4g' , cmap = 'BuPu')\n",
    "        disp.ax_.set_title(f'class {class_names[i]}')\n",
    "        disp.ax_.set_xlabel('Predicted Label', fontsize =15)\n",
    "        disp.ax_.set_ylabel(' ')\n",
    "        disp.ax_.set_xticklabels([0,class_names[i]])\n",
    "        disp.ax_.set_yticklabels([0,class_names[i]])\n",
    "        disp.im_.colorbar.remove()\n",
    "      \n",
    "        \n",
    "\n",
    "plt.subplots_adjust(wspace=0.10, hspace=0.1)\n",
    "f.colorbar(disp.im_, ax=axes, shrink= 0.4)\n",
    "\n",
    "plt.show()"
   ]
  },
  {
   "cell_type": "code",
   "execution_count": 65,
   "id": "e3f8e074",
   "metadata": {},
   "outputs": [
    {
     "name": "stdout",
     "output_type": "stream",
     "text": [
      "              precision    recall  f1-score   support\n",
      "\n",
      "         0.0       0.73      0.97      0.84       682\n",
      "         1.0       0.56      0.09      0.16       264\n",
      "\n",
      "    accuracy                           0.73       946\n",
      "   macro avg       0.65      0.53      0.50       946\n",
      "weighted avg       0.69      0.73      0.65       946\n",
      "\n",
      "              precision    recall  f1-score   support\n",
      "\n",
      "         0.0       0.79      0.97      0.87       737\n",
      "         1.0       0.53      0.11      0.19       209\n",
      "\n",
      "    accuracy                           0.78       946\n",
      "   macro avg       0.66      0.54      0.53       946\n",
      "weighted avg       0.74      0.78      0.72       946\n",
      "\n",
      "              precision    recall  f1-score   support\n",
      "\n",
      "         0.0       0.76      0.95      0.85       713\n",
      "         1.0       0.40      0.10      0.16       233\n",
      "\n",
      "    accuracy                           0.74       946\n",
      "   macro avg       0.58      0.53      0.50       946\n",
      "weighted avg       0.68      0.74      0.68       946\n",
      "\n",
      "              precision    recall  f1-score   support\n",
      "\n",
      "         0.0       0.75      0.95      0.84       706\n",
      "         1.0       0.38      0.09      0.14       240\n",
      "\n",
      "    accuracy                           0.73       946\n",
      "   macro avg       0.57      0.52      0.49       946\n",
      "weighted avg       0.66      0.73      0.66       946\n",
      "\n"
     ]
    }
   ],
   "source": [
    "cr_y1_ = classification_report(y_valid[:,0],yhat_f[:,0])\n",
    "cr_y2_ = classification_report(y_valid[:,1],yhat_f[:,1]) \n",
    "cr_y3_ = classification_report(y_valid[:,2],yhat_f[:,2]) \n",
    "cr_y4_ = classification_report(y_valid[:,3],yhat_f[:,3]) \n",
    "\n",
    "print (cr_y1_)\n",
    "print (cr_y2_)\n",
    "print (cr_y3_)\n",
    "print (cr_y4_)\n",
    "\n"
   ]
  },
  {
   "cell_type": "code",
   "execution_count": null,
   "id": "511dfb2e",
   "metadata": {},
   "outputs": [],
   "source": []
  },
  {
   "cell_type": "code",
   "execution_count": null,
   "id": "04ecf20c",
   "metadata": {},
   "outputs": [],
   "source": []
  },
  {
   "cell_type": "code",
   "execution_count": null,
   "id": "b32346c7",
   "metadata": {},
   "outputs": [],
   "source": []
  }
 ],
 "metadata": {
  "kernelspec": {
   "display_name": "Python 3 (ipykernel)",
   "language": "python",
   "name": "python3"
  },
  "language_info": {
   "codemirror_mode": {
    "name": "ipython",
    "version": 3
   },
   "file_extension": ".py",
   "mimetype": "text/x-python",
   "name": "python",
   "nbconvert_exporter": "python",
   "pygments_lexer": "ipython3",
   "version": "3.9.9"
  }
 },
 "nbformat": 4,
 "nbformat_minor": 5
}
