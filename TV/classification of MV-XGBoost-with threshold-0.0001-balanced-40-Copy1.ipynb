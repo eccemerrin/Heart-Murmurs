{
 "cells": [
  {
   "cell_type": "markdown",
   "id": "5ff5c96f",
   "metadata": {},
   "source": [
    "### features:\n",
    "* spectogram coef\n",
    "* zero crossing rate\n",
    "* selected chromogram values\n",
    "* selected tempogram values\n",
    "* wavelet levels"
   ]
  },
  {
   "cell_type": "code",
   "execution_count": 1,
   "id": "dcd92ee4",
   "metadata": {},
   "outputs": [
    {
     "ename": "RuntimeError",
     "evalue": "module compiled against API version 0xe but this version of numpy is 0xd",
     "output_type": "error",
     "traceback": [
      "\u001b[0;31m---------------------------------------------------------------------------\u001b[0m",
      "\u001b[0;31mRuntimeError\u001b[0m                              Traceback (most recent call last)",
      "\u001b[0;31mRuntimeError\u001b[0m: module compiled against API version 0xe but this version of numpy is 0xd"
     ]
    }
   ],
   "source": [
    "import pandas as pd \n",
    "import numpy as np\n",
    "from sklearn.pipeline import Pipeline\n",
    "from sklearn.model_selection import train_test_split\n",
    "from sklearn.metrics import classification_report\n",
    "from sklearn.metrics import auc\n",
    "from sklearn.multioutput import MultiOutputClassifier\n",
    "from sklearn.metrics import confusion_matrix, roc_curve, roc_auc_score, precision_recall_curve, recall_score\n",
    "import matplotlib.pyplot as plt\n",
    "import itertools"
   ]
  },
  {
   "cell_type": "code",
   "execution_count": 2,
   "id": "77055433",
   "metadata": {},
   "outputs": [],
   "source": [
    "path = \"/Users/ecem/Desktop/phonocardiogram/data/TV\""
   ]
  },
  {
   "cell_type": "markdown",
   "id": "859b3496",
   "metadata": {},
   "source": [
    "## Load data"
   ]
  },
  {
   "cell_type": "markdown",
   "id": "84ab66f1",
   "metadata": {},
   "source": [
    "Here, our target is to predict disease of patients with multiple diseases. So; our y will be disease column of two column indicatin geach patients disease."
   ]
  },
  {
   "cell_type": "code",
   "execution_count": 3,
   "id": "b2414e78",
   "metadata": {},
   "outputs": [
    {
     "data": {
      "text/html": [
       "<div>\n",
       "<style scoped>\n",
       "    .dataframe tbody tr th:only-of-type {\n",
       "        vertical-align: middle;\n",
       "    }\n",
       "\n",
       "    .dataframe tbody tr th {\n",
       "        vertical-align: top;\n",
       "    }\n",
       "\n",
       "    .dataframe thead th {\n",
       "        text-align: right;\n",
       "    }\n",
       "</style>\n",
       "<table border=\"1\" class=\"dataframe\">\n",
       "  <thead>\n",
       "    <tr style=\"text-align: right;\">\n",
       "      <th></th>\n",
       "      <th>freq_0</th>\n",
       "      <th>freq_1</th>\n",
       "      <th>freq_2</th>\n",
       "      <th>freq_3</th>\n",
       "      <th>freq_4</th>\n",
       "      <th>freq_5</th>\n",
       "      <th>freq_6</th>\n",
       "      <th>freq_7</th>\n",
       "      <th>freq_8</th>\n",
       "      <th>freq_9</th>\n",
       "      <th>...</th>\n",
       "      <th>tempogram_177</th>\n",
       "      <th>tempogram_179</th>\n",
       "      <th>tempogram_180</th>\n",
       "      <th>tempogram_181</th>\n",
       "      <th>tempogram_182</th>\n",
       "      <th>tempogram_183</th>\n",
       "      <th>tempogram_184</th>\n",
       "      <th>tempogram_189</th>\n",
       "      <th>tempogram_190</th>\n",
       "      <th>tempogram_191</th>\n",
       "    </tr>\n",
       "  </thead>\n",
       "  <tbody>\n",
       "    <tr>\n",
       "      <th>0</th>\n",
       "      <td>1.026805e-10</td>\n",
       "      <td>1.455476e-10</td>\n",
       "      <td>1.463834e-10</td>\n",
       "      <td>1.475064e-10</td>\n",
       "      <td>1.487800e-10</td>\n",
       "      <td>1.501075e-10</td>\n",
       "      <td>1.514032e-10</td>\n",
       "      <td>1.525765e-10</td>\n",
       "      <td>1.535278e-10</td>\n",
       "      <td>1.541567e-10</td>\n",
       "      <td>...</td>\n",
       "      <td>6.142580e-18</td>\n",
       "      <td>9.206074e-18</td>\n",
       "      <td>1.457822e-17</td>\n",
       "      <td>2.013753e-17</td>\n",
       "      <td>3.634786e-19</td>\n",
       "      <td>1.243471e-17</td>\n",
       "      <td>1.105080e-17</td>\n",
       "      <td>1.705985e-17</td>\n",
       "      <td>1.623126e-17</td>\n",
       "      <td>1.937348e-17</td>\n",
       "    </tr>\n",
       "    <tr>\n",
       "      <th>1</th>\n",
       "      <td>6.263979e-11</td>\n",
       "      <td>8.875031e-11</td>\n",
       "      <td>8.917864e-11</td>\n",
       "      <td>8.975639e-11</td>\n",
       "      <td>9.039855e-11</td>\n",
       "      <td>9.107238e-11</td>\n",
       "      <td>9.182894e-11</td>\n",
       "      <td>9.282966e-11</td>\n",
       "      <td>9.409163e-11</td>\n",
       "      <td>9.545127e-11</td>\n",
       "      <td>...</td>\n",
       "      <td>-8.846758e-18</td>\n",
       "      <td>4.404975e-18</td>\n",
       "      <td>1.170317e-17</td>\n",
       "      <td>2.177864e-17</td>\n",
       "      <td>-4.898098e-18</td>\n",
       "      <td>2.487981e-18</td>\n",
       "      <td>2.040043e-18</td>\n",
       "      <td>4.309049e-18</td>\n",
       "      <td>9.520506e-18</td>\n",
       "      <td>1.174371e-17</td>\n",
       "    </tr>\n",
       "    <tr>\n",
       "      <th>2</th>\n",
       "      <td>9.586826e-11</td>\n",
       "      <td>1.356420e-10</td>\n",
       "      <td>1.358406e-10</td>\n",
       "      <td>1.365911e-10</td>\n",
       "      <td>1.380753e-10</td>\n",
       "      <td>1.397104e-10</td>\n",
       "      <td>1.412548e-10</td>\n",
       "      <td>1.425729e-10</td>\n",
       "      <td>1.435720e-10</td>\n",
       "      <td>1.441930e-10</td>\n",
       "      <td>...</td>\n",
       "      <td>-1.223748e-17</td>\n",
       "      <td>9.736586e-18</td>\n",
       "      <td>1.568854e-17</td>\n",
       "      <td>3.521199e-17</td>\n",
       "      <td>-3.896177e-18</td>\n",
       "      <td>1.375557e-17</td>\n",
       "      <td>1.991244e-17</td>\n",
       "      <td>1.523117e-17</td>\n",
       "      <td>1.129922e-17</td>\n",
       "      <td>2.816323e-17</td>\n",
       "    </tr>\n",
       "    <tr>\n",
       "      <th>3</th>\n",
       "      <td>8.224721e-11</td>\n",
       "      <td>1.182147e-10</td>\n",
       "      <td>1.213804e-10</td>\n",
       "      <td>1.245988e-10</td>\n",
       "      <td>1.282398e-10</td>\n",
       "      <td>1.326121e-10</td>\n",
       "      <td>1.367849e-10</td>\n",
       "      <td>1.405585e-10</td>\n",
       "      <td>1.438477e-10</td>\n",
       "      <td>1.466254e-10</td>\n",
       "      <td>...</td>\n",
       "      <td>9.750855e-19</td>\n",
       "      <td>3.365173e-18</td>\n",
       "      <td>1.222500e-17</td>\n",
       "      <td>2.261293e-17</td>\n",
       "      <td>3.139270e-18</td>\n",
       "      <td>5.725922e-18</td>\n",
       "      <td>9.587301e-18</td>\n",
       "      <td>9.928566e-18</td>\n",
       "      <td>7.236449e-18</td>\n",
       "      <td>1.649091e-17</td>\n",
       "    </tr>\n",
       "    <tr>\n",
       "      <th>4</th>\n",
       "      <td>1.524600e-10</td>\n",
       "      <td>2.223175e-10</td>\n",
       "      <td>2.397989e-10</td>\n",
       "      <td>2.636897e-10</td>\n",
       "      <td>2.906240e-10</td>\n",
       "      <td>3.184967e-10</td>\n",
       "      <td>3.460145e-10</td>\n",
       "      <td>3.723675e-10</td>\n",
       "      <td>3.970771e-10</td>\n",
       "      <td>4.198234e-10</td>\n",
       "      <td>...</td>\n",
       "      <td>-4.292943e-18</td>\n",
       "      <td>-1.595370e-18</td>\n",
       "      <td>-3.309437e-19</td>\n",
       "      <td>7.464136e-18</td>\n",
       "      <td>-5.164900e-18</td>\n",
       "      <td>1.546850e-18</td>\n",
       "      <td>4.775294e-18</td>\n",
       "      <td>-2.266250e-18</td>\n",
       "      <td>-2.416256e-18</td>\n",
       "      <td>4.154944e-18</td>\n",
       "    </tr>\n",
       "    <tr>\n",
       "      <th>...</th>\n",
       "      <td>...</td>\n",
       "      <td>...</td>\n",
       "      <td>...</td>\n",
       "      <td>...</td>\n",
       "      <td>...</td>\n",
       "      <td>...</td>\n",
       "      <td>...</td>\n",
       "      <td>...</td>\n",
       "      <td>...</td>\n",
       "      <td>...</td>\n",
       "      <td>...</td>\n",
       "      <td>...</td>\n",
       "      <td>...</td>\n",
       "      <td>...</td>\n",
       "      <td>...</td>\n",
       "      <td>...</td>\n",
       "      <td>...</td>\n",
       "      <td>...</td>\n",
       "      <td>...</td>\n",
       "      <td>...</td>\n",
       "      <td>...</td>\n",
       "    </tr>\n",
       "    <tr>\n",
       "      <th>1200</th>\n",
       "      <td>4.123272e-10</td>\n",
       "      <td>5.937346e-10</td>\n",
       "      <td>6.189569e-10</td>\n",
       "      <td>6.506925e-10</td>\n",
       "      <td>6.842032e-10</td>\n",
       "      <td>7.164136e-10</td>\n",
       "      <td>7.453172e-10</td>\n",
       "      <td>7.697093e-10</td>\n",
       "      <td>7.888630e-10</td>\n",
       "      <td>8.024662e-10</td>\n",
       "      <td>...</td>\n",
       "      <td>-9.485070e-18</td>\n",
       "      <td>4.281932e-18</td>\n",
       "      <td>7.076818e-18</td>\n",
       "      <td>1.469780e-17</td>\n",
       "      <td>-6.843115e-18</td>\n",
       "      <td>-5.032860e-18</td>\n",
       "      <td>-7.215422e-18</td>\n",
       "      <td>5.673748e-18</td>\n",
       "      <td>3.168160e-18</td>\n",
       "      <td>1.243066e-17</td>\n",
       "    </tr>\n",
       "    <tr>\n",
       "      <th>1201</th>\n",
       "      <td>3.631233e-10</td>\n",
       "      <td>5.210558e-10</td>\n",
       "      <td>5.403737e-10</td>\n",
       "      <td>5.664170e-10</td>\n",
       "      <td>5.951361e-10</td>\n",
       "      <td>6.234697e-10</td>\n",
       "      <td>6.486631e-10</td>\n",
       "      <td>6.680131e-10</td>\n",
       "      <td>6.791120e-10</td>\n",
       "      <td>6.806829e-10</td>\n",
       "      <td>...</td>\n",
       "      <td>-2.634732e-18</td>\n",
       "      <td>8.318904e-19</td>\n",
       "      <td>6.103234e-18</td>\n",
       "      <td>1.389794e-17</td>\n",
       "      <td>-4.978813e-18</td>\n",
       "      <td>-7.155129e-18</td>\n",
       "      <td>-7.842521e-18</td>\n",
       "      <td>5.734599e-20</td>\n",
       "      <td>5.143600e-18</td>\n",
       "      <td>1.318682e-17</td>\n",
       "    </tr>\n",
       "    <tr>\n",
       "      <th>1202</th>\n",
       "      <td>3.619796e-10</td>\n",
       "      <td>5.207971e-10</td>\n",
       "      <td>5.358179e-10</td>\n",
       "      <td>5.477964e-10</td>\n",
       "      <td>5.552154e-10</td>\n",
       "      <td>5.588938e-10</td>\n",
       "      <td>5.608351e-10</td>\n",
       "      <td>5.632281e-10</td>\n",
       "      <td>5.668889e-10</td>\n",
       "      <td>5.831663e-10</td>\n",
       "      <td>...</td>\n",
       "      <td>-4.803635e-18</td>\n",
       "      <td>4.515858e-18</td>\n",
       "      <td>8.239047e-18</td>\n",
       "      <td>2.076973e-17</td>\n",
       "      <td>-1.066834e-17</td>\n",
       "      <td>2.508574e-18</td>\n",
       "      <td>4.619068e-18</td>\n",
       "      <td>1.182112e-17</td>\n",
       "      <td>4.959020e-18</td>\n",
       "      <td>1.678453e-17</td>\n",
       "    </tr>\n",
       "    <tr>\n",
       "      <th>1203</th>\n",
       "      <td>5.244571e-10</td>\n",
       "      <td>7.520905e-10</td>\n",
       "      <td>7.652491e-10</td>\n",
       "      <td>7.770539e-10</td>\n",
       "      <td>7.867998e-10</td>\n",
       "      <td>7.942848e-10</td>\n",
       "      <td>7.995894e-10</td>\n",
       "      <td>8.030440e-10</td>\n",
       "      <td>8.043440e-10</td>\n",
       "      <td>8.022694e-10</td>\n",
       "      <td>...</td>\n",
       "      <td>-8.494817e-18</td>\n",
       "      <td>2.511972e-17</td>\n",
       "      <td>2.521040e-17</td>\n",
       "      <td>4.377844e-17</td>\n",
       "      <td>-1.689769e-18</td>\n",
       "      <td>1.233342e-17</td>\n",
       "      <td>1.912012e-17</td>\n",
       "      <td>1.492043e-17</td>\n",
       "      <td>1.535483e-17</td>\n",
       "      <td>3.714003e-17</td>\n",
       "    </tr>\n",
       "    <tr>\n",
       "      <th>1204</th>\n",
       "      <td>3.109295e-10</td>\n",
       "      <td>4.494128e-10</td>\n",
       "      <td>4.678888e-10</td>\n",
       "      <td>4.881651e-10</td>\n",
       "      <td>5.086029e-10</td>\n",
       "      <td>5.280834e-10</td>\n",
       "      <td>5.453709e-10</td>\n",
       "      <td>5.597190e-10</td>\n",
       "      <td>5.708537e-10</td>\n",
       "      <td>5.788718e-10</td>\n",
       "      <td>...</td>\n",
       "      <td>-4.248651e-18</td>\n",
       "      <td>1.228928e-17</td>\n",
       "      <td>1.712760e-17</td>\n",
       "      <td>3.615654e-17</td>\n",
       "      <td>-3.841481e-18</td>\n",
       "      <td>1.586490e-17</td>\n",
       "      <td>9.325601e-18</td>\n",
       "      <td>5.220927e-18</td>\n",
       "      <td>1.222084e-17</td>\n",
       "      <td>2.267349e-17</td>\n",
       "    </tr>\n",
       "  </tbody>\n",
       "</table>\n",
       "<p>1205 rows × 18864 columns</p>\n",
       "</div>"
      ],
      "text/plain": [
       "            freq_0        freq_1        freq_2        freq_3        freq_4  \\\n",
       "0     1.026805e-10  1.455476e-10  1.463834e-10  1.475064e-10  1.487800e-10   \n",
       "1     6.263979e-11  8.875031e-11  8.917864e-11  8.975639e-11  9.039855e-11   \n",
       "2     9.586826e-11  1.356420e-10  1.358406e-10  1.365911e-10  1.380753e-10   \n",
       "3     8.224721e-11  1.182147e-10  1.213804e-10  1.245988e-10  1.282398e-10   \n",
       "4     1.524600e-10  2.223175e-10  2.397989e-10  2.636897e-10  2.906240e-10   \n",
       "...            ...           ...           ...           ...           ...   \n",
       "1200  4.123272e-10  5.937346e-10  6.189569e-10  6.506925e-10  6.842032e-10   \n",
       "1201  3.631233e-10  5.210558e-10  5.403737e-10  5.664170e-10  5.951361e-10   \n",
       "1202  3.619796e-10  5.207971e-10  5.358179e-10  5.477964e-10  5.552154e-10   \n",
       "1203  5.244571e-10  7.520905e-10  7.652491e-10  7.770539e-10  7.867998e-10   \n",
       "1204  3.109295e-10  4.494128e-10  4.678888e-10  4.881651e-10  5.086029e-10   \n",
       "\n",
       "            freq_5        freq_6        freq_7        freq_8        freq_9  \\\n",
       "0     1.501075e-10  1.514032e-10  1.525765e-10  1.535278e-10  1.541567e-10   \n",
       "1     9.107238e-11  9.182894e-11  9.282966e-11  9.409163e-11  9.545127e-11   \n",
       "2     1.397104e-10  1.412548e-10  1.425729e-10  1.435720e-10  1.441930e-10   \n",
       "3     1.326121e-10  1.367849e-10  1.405585e-10  1.438477e-10  1.466254e-10   \n",
       "4     3.184967e-10  3.460145e-10  3.723675e-10  3.970771e-10  4.198234e-10   \n",
       "...            ...           ...           ...           ...           ...   \n",
       "1200  7.164136e-10  7.453172e-10  7.697093e-10  7.888630e-10  8.024662e-10   \n",
       "1201  6.234697e-10  6.486631e-10  6.680131e-10  6.791120e-10  6.806829e-10   \n",
       "1202  5.588938e-10  5.608351e-10  5.632281e-10  5.668889e-10  5.831663e-10   \n",
       "1203  7.942848e-10  7.995894e-10  8.030440e-10  8.043440e-10  8.022694e-10   \n",
       "1204  5.280834e-10  5.453709e-10  5.597190e-10  5.708537e-10  5.788718e-10   \n",
       "\n",
       "      ...  tempogram_177  tempogram_179  tempogram_180  tempogram_181  \\\n",
       "0     ...   6.142580e-18   9.206074e-18   1.457822e-17   2.013753e-17   \n",
       "1     ...  -8.846758e-18   4.404975e-18   1.170317e-17   2.177864e-17   \n",
       "2     ...  -1.223748e-17   9.736586e-18   1.568854e-17   3.521199e-17   \n",
       "3     ...   9.750855e-19   3.365173e-18   1.222500e-17   2.261293e-17   \n",
       "4     ...  -4.292943e-18  -1.595370e-18  -3.309437e-19   7.464136e-18   \n",
       "...   ...            ...            ...            ...            ...   \n",
       "1200  ...  -9.485070e-18   4.281932e-18   7.076818e-18   1.469780e-17   \n",
       "1201  ...  -2.634732e-18   8.318904e-19   6.103234e-18   1.389794e-17   \n",
       "1202  ...  -4.803635e-18   4.515858e-18   8.239047e-18   2.076973e-17   \n",
       "1203  ...  -8.494817e-18   2.511972e-17   2.521040e-17   4.377844e-17   \n",
       "1204  ...  -4.248651e-18   1.228928e-17   1.712760e-17   3.615654e-17   \n",
       "\n",
       "      tempogram_182  tempogram_183  tempogram_184  tempogram_189  \\\n",
       "0      3.634786e-19   1.243471e-17   1.105080e-17   1.705985e-17   \n",
       "1     -4.898098e-18   2.487981e-18   2.040043e-18   4.309049e-18   \n",
       "2     -3.896177e-18   1.375557e-17   1.991244e-17   1.523117e-17   \n",
       "3      3.139270e-18   5.725922e-18   9.587301e-18   9.928566e-18   \n",
       "4     -5.164900e-18   1.546850e-18   4.775294e-18  -2.266250e-18   \n",
       "...             ...            ...            ...            ...   \n",
       "1200  -6.843115e-18  -5.032860e-18  -7.215422e-18   5.673748e-18   \n",
       "1201  -4.978813e-18  -7.155129e-18  -7.842521e-18   5.734599e-20   \n",
       "1202  -1.066834e-17   2.508574e-18   4.619068e-18   1.182112e-17   \n",
       "1203  -1.689769e-18   1.233342e-17   1.912012e-17   1.492043e-17   \n",
       "1204  -3.841481e-18   1.586490e-17   9.325601e-18   5.220927e-18   \n",
       "\n",
       "      tempogram_190  tempogram_191  \n",
       "0      1.623126e-17   1.937348e-17  \n",
       "1      9.520506e-18   1.174371e-17  \n",
       "2      1.129922e-17   2.816323e-17  \n",
       "3      7.236449e-18   1.649091e-17  \n",
       "4     -2.416256e-18   4.154944e-18  \n",
       "...             ...            ...  \n",
       "1200   3.168160e-18   1.243066e-17  \n",
       "1201   5.143600e-18   1.318682e-17  \n",
       "1202   4.959020e-18   1.678453e-17  \n",
       "1203   1.535483e-17   3.714003e-17  \n",
       "1204   1.222084e-17   2.267349e-17  \n",
       "\n",
       "[1205 rows x 18864 columns]"
      ]
     },
     "execution_count": 3,
     "metadata": {},
     "output_type": "execute_result"
    }
   ],
   "source": [
    "present_df = pd.read_csv(path + \"/present/present_TV_p_features.csv\", index_col = 0) \n",
    "present_df"
   ]
  },
  {
   "cell_type": "code",
   "execution_count": 4,
   "id": "a6fc5275",
   "metadata": {},
   "outputs": [
    {
     "data": {
      "text/plain": [
       "1807.5"
      ]
     },
     "execution_count": 4,
     "metadata": {},
     "output_type": "execute_result"
    }
   ],
   "source": [
    "1205*60/40\n"
   ]
  },
  {
   "cell_type": "code",
   "execution_count": 6,
   "id": "d061dfc3",
   "metadata": {},
   "outputs": [],
   "source": [
    "absent_df = pd.read_csv(path + \"/absent/absent_TV_p_features.csv\", index_col = 0) \n",
    "#absent_df"
   ]
  },
  {
   "cell_type": "code",
   "execution_count": 7,
   "id": "ac3f3fed",
   "metadata": {},
   "outputs": [],
   "source": [
    "absent_df =  absent_df.sample(n = 1807 , axis = 0)"
   ]
  },
  {
   "cell_type": "markdown",
   "id": "737042c5",
   "metadata": {},
   "source": [
    "### create labels"
   ]
  },
  {
   "cell_type": "code",
   "execution_count": 8,
   "id": "78132229",
   "metadata": {},
   "outputs": [
    {
     "data": {
      "text/plain": [
       "(3012,)"
      ]
     },
     "execution_count": 8,
     "metadata": {},
     "output_type": "execute_result"
    }
   ],
   "source": [
    "y = np.concatenate((np.ones(1205), np.zeros(1807)), axis =0)\n",
    "y.shape"
   ]
  },
  {
   "cell_type": "markdown",
   "id": "42a97e3f",
   "metadata": {},
   "source": [
    "## concat features"
   ]
  },
  {
   "cell_type": "code",
   "execution_count": 9,
   "id": "6cd3f63f",
   "metadata": {},
   "outputs": [],
   "source": [
    "df = pd.concat([present_df, absent_df], axis = 0)\n",
    "#df"
   ]
  },
  {
   "cell_type": "markdown",
   "id": "8fd7c4d9",
   "metadata": {},
   "source": [
    "## With threshold"
   ]
  },
  {
   "cell_type": "code",
   "execution_count": 10,
   "id": "0298efc9",
   "metadata": {},
   "outputs": [],
   "source": [
    "from sklearn.feature_selection import VarianceThreshold\n",
    "vt = VarianceThreshold(threshold =  0.0001)   # düşük  threshold\n",
    "_ = vt.fit(df)\n",
    "masked = vt.get_support()\n",
    "features_masked = df.loc[:, masked]\n",
    "#features_masked # uncomment to see the dataframe #6941, 703"
   ]
  },
  {
   "cell_type": "code",
   "execution_count": 11,
   "id": "bcf4f600",
   "metadata": {},
   "outputs": [],
   "source": [
    "X_train_, X_valid_, y_train_, y_valid_ = train_test_split(features_masked, y , train_size=0.8, test_size=0.2,\n",
    "                                                                random_state=42)"
   ]
  },
  {
   "cell_type": "code",
   "execution_count": 12,
   "id": "03778983",
   "metadata": {},
   "outputs": [],
   "source": [
    "import xgboost as xgb\n",
    "\n",
    "clf = xgb.XGBClassifier(objective= \"binary:logistic\", eval_metric = \"logloss\")\n"
   ]
  },
  {
   "cell_type": "code",
   "execution_count": 13,
   "id": "7a51bf47",
   "metadata": {},
   "outputs": [
    {
     "data": {
      "text/html": [
       "<style>#sk-container-id-1 {color: black;background-color: white;}#sk-container-id-1 pre{padding: 0;}#sk-container-id-1 div.sk-toggleable {background-color: white;}#sk-container-id-1 label.sk-toggleable__label {cursor: pointer;display: block;width: 100%;margin-bottom: 0;padding: 0.3em;box-sizing: border-box;text-align: center;}#sk-container-id-1 label.sk-toggleable__label-arrow:before {content: \"▸\";float: left;margin-right: 0.25em;color: #696969;}#sk-container-id-1 label.sk-toggleable__label-arrow:hover:before {color: black;}#sk-container-id-1 div.sk-estimator:hover label.sk-toggleable__label-arrow:before {color: black;}#sk-container-id-1 div.sk-toggleable__content {max-height: 0;max-width: 0;overflow: hidden;text-align: left;background-color: #f0f8ff;}#sk-container-id-1 div.sk-toggleable__content pre {margin: 0.2em;color: black;border-radius: 0.25em;background-color: #f0f8ff;}#sk-container-id-1 input.sk-toggleable__control:checked~div.sk-toggleable__content {max-height: 200px;max-width: 100%;overflow: auto;}#sk-container-id-1 input.sk-toggleable__control:checked~label.sk-toggleable__label-arrow:before {content: \"▾\";}#sk-container-id-1 div.sk-estimator input.sk-toggleable__control:checked~label.sk-toggleable__label {background-color: #d4ebff;}#sk-container-id-1 div.sk-label input.sk-toggleable__control:checked~label.sk-toggleable__label {background-color: #d4ebff;}#sk-container-id-1 input.sk-hidden--visually {border: 0;clip: rect(1px 1px 1px 1px);clip: rect(1px, 1px, 1px, 1px);height: 1px;margin: -1px;overflow: hidden;padding: 0;position: absolute;width: 1px;}#sk-container-id-1 div.sk-estimator {font-family: monospace;background-color: #f0f8ff;border: 1px dotted black;border-radius: 0.25em;box-sizing: border-box;margin-bottom: 0.5em;}#sk-container-id-1 div.sk-estimator:hover {background-color: #d4ebff;}#sk-container-id-1 div.sk-parallel-item::after {content: \"\";width: 100%;border-bottom: 1px solid gray;flex-grow: 1;}#sk-container-id-1 div.sk-label:hover label.sk-toggleable__label {background-color: #d4ebff;}#sk-container-id-1 div.sk-serial::before {content: \"\";position: absolute;border-left: 1px solid gray;box-sizing: border-box;top: 0;bottom: 0;left: 50%;z-index: 0;}#sk-container-id-1 div.sk-serial {display: flex;flex-direction: column;align-items: center;background-color: white;padding-right: 0.2em;padding-left: 0.2em;position: relative;}#sk-container-id-1 div.sk-item {position: relative;z-index: 1;}#sk-container-id-1 div.sk-parallel {display: flex;align-items: stretch;justify-content: center;background-color: white;position: relative;}#sk-container-id-1 div.sk-item::before, #sk-container-id-1 div.sk-parallel-item::before {content: \"\";position: absolute;border-left: 1px solid gray;box-sizing: border-box;top: 0;bottom: 0;left: 50%;z-index: -1;}#sk-container-id-1 div.sk-parallel-item {display: flex;flex-direction: column;z-index: 1;position: relative;background-color: white;}#sk-container-id-1 div.sk-parallel-item:first-child::after {align-self: flex-end;width: 50%;}#sk-container-id-1 div.sk-parallel-item:last-child::after {align-self: flex-start;width: 50%;}#sk-container-id-1 div.sk-parallel-item:only-child::after {width: 0;}#sk-container-id-1 div.sk-dashed-wrapped {border: 1px dashed gray;margin: 0 0.4em 0.5em 0.4em;box-sizing: border-box;padding-bottom: 0.4em;background-color: white;}#sk-container-id-1 div.sk-label label {font-family: monospace;font-weight: bold;display: inline-block;line-height: 1.2em;}#sk-container-id-1 div.sk-label-container {text-align: center;}#sk-container-id-1 div.sk-container {/* jupyter's `normalize.less` sets `[hidden] { display: none; }` but bootstrap.min.css set `[hidden] { display: none !important; }` so we also need the `!important` here to be able to override the default hidden behavior on the sphinx rendered scikit-learn.org. See: https://github.com/scikit-learn/scikit-learn/issues/21755 */display: inline-block !important;position: relative;}#sk-container-id-1 div.sk-text-repr-fallback {display: none;}</style><div id=\"sk-container-id-1\" class=\"sk-top-container\"><div class=\"sk-text-repr-fallback\"><pre>XGBClassifier(base_score=0.5, booster=&#x27;gbtree&#x27;, callbacks=None,\n",
       "              colsample_bylevel=1, colsample_bynode=1, colsample_bytree=1,\n",
       "              early_stopping_rounds=None, enable_categorical=False,\n",
       "              eval_metric=&#x27;logloss&#x27;, gamma=0, gpu_id=-1,\n",
       "              grow_policy=&#x27;depthwise&#x27;, importance_type=None,\n",
       "              interaction_constraints=&#x27;&#x27;, learning_rate=0.300000012,\n",
       "              max_bin=256, max_cat_to_onehot=4, max_delta_step=0, max_depth=6,\n",
       "              max_leaves=0, min_child_weight=1, missing=nan,\n",
       "              monotone_constraints=&#x27;()&#x27;, n_estimators=100, n_jobs=0,\n",
       "              num_parallel_tree=1, predictor=&#x27;auto&#x27;, random_state=0,\n",
       "              reg_alpha=0, reg_lambda=1, ...)</pre><b>In a Jupyter environment, please rerun this cell to show the HTML representation or trust the notebook. <br />On GitHub, the HTML representation is unable to render, please try loading this page with nbviewer.org.</b></div><div class=\"sk-container\" hidden><div class=\"sk-item\"><div class=\"sk-estimator sk-toggleable\"><input class=\"sk-toggleable__control sk-hidden--visually\" id=\"sk-estimator-id-1\" type=\"checkbox\" checked><label for=\"sk-estimator-id-1\" class=\"sk-toggleable__label sk-toggleable__label-arrow\">XGBClassifier</label><div class=\"sk-toggleable__content\"><pre>XGBClassifier(base_score=0.5, booster=&#x27;gbtree&#x27;, callbacks=None,\n",
       "              colsample_bylevel=1, colsample_bynode=1, colsample_bytree=1,\n",
       "              early_stopping_rounds=None, enable_categorical=False,\n",
       "              eval_metric=&#x27;logloss&#x27;, gamma=0, gpu_id=-1,\n",
       "              grow_policy=&#x27;depthwise&#x27;, importance_type=None,\n",
       "              interaction_constraints=&#x27;&#x27;, learning_rate=0.300000012,\n",
       "              max_bin=256, max_cat_to_onehot=4, max_delta_step=0, max_depth=6,\n",
       "              max_leaves=0, min_child_weight=1, missing=nan,\n",
       "              monotone_constraints=&#x27;()&#x27;, n_estimators=100, n_jobs=0,\n",
       "              num_parallel_tree=1, predictor=&#x27;auto&#x27;, random_state=0,\n",
       "              reg_alpha=0, reg_lambda=1, ...)</pre></div></div></div></div></div>"
      ],
      "text/plain": [
       "XGBClassifier(base_score=0.5, booster='gbtree', callbacks=None,\n",
       "              colsample_bylevel=1, colsample_bynode=1, colsample_bytree=1,\n",
       "              early_stopping_rounds=None, enable_categorical=False,\n",
       "              eval_metric='logloss', gamma=0, gpu_id=-1,\n",
       "              grow_policy='depthwise', importance_type=None,\n",
       "              interaction_constraints='', learning_rate=0.300000012,\n",
       "              max_bin=256, max_cat_to_onehot=4, max_delta_step=0, max_depth=6,\n",
       "              max_leaves=0, min_child_weight=1, missing=nan,\n",
       "              monotone_constraints='()', n_estimators=100, n_jobs=0,\n",
       "              num_parallel_tree=1, predictor='auto', random_state=0,\n",
       "              reg_alpha=0, reg_lambda=1, ...)"
      ]
     },
     "execution_count": 13,
     "metadata": {},
     "output_type": "execute_result"
    }
   ],
   "source": [
    "clf.fit(X_train_, y_train_)\n"
   ]
  },
  {
   "cell_type": "code",
   "execution_count": 14,
   "id": "ab3c619f",
   "metadata": {},
   "outputs": [],
   "source": [
    "yhat = clf.predict(X_valid_)"
   ]
  },
  {
   "cell_type": "code",
   "execution_count": 15,
   "id": "13300de3",
   "metadata": {},
   "outputs": [
    {
     "data": {
      "text/plain": [
       "(603,)"
      ]
     },
     "execution_count": 15,
     "metadata": {},
     "output_type": "execute_result"
    }
   ],
   "source": [
    "yhat.shape"
   ]
  },
  {
   "cell_type": "code",
   "execution_count": 16,
   "id": "1d2c89e6",
   "metadata": {},
   "outputs": [
    {
     "data": {
      "text/plain": [
       "(603,)"
      ]
     },
     "execution_count": 16,
     "metadata": {},
     "output_type": "execute_result"
    }
   ],
   "source": [
    "y_valid_.shape"
   ]
  },
  {
   "cell_type": "code",
   "execution_count": 17,
   "id": "419b4ece",
   "metadata": {},
   "outputs": [
    {
     "name": "stdout",
     "output_type": "stream",
     "text": [
      "accuracy: 75.79%\n"
     ]
    }
   ],
   "source": [
    "from sklearn.metrics import accuracy_score\n",
    "accuracy = accuracy_score(y_valid_, yhat)\n",
    "print(\"accuracy: %.2f%%\" % (accuracy * 100.0))"
   ]
  },
  {
   "cell_type": "code",
   "execution_count": 18,
   "id": "9dc72ea4",
   "metadata": {},
   "outputs": [
    {
     "name": "stdout",
     "output_type": "stream",
     "text": [
      "recall: 75.79%\n"
     ]
    }
   ],
   "source": [
    "from sklearn.metrics import recall_score\n",
    "recall = recall_score(y_valid_, yhat, average= 'weighted')\n",
    "print(\"recall: %.2f%%\" % (recall * 100.0))\n"
   ]
  },
  {
   "cell_type": "code",
   "execution_count": 19,
   "id": "f954e700",
   "metadata": {},
   "outputs": [
    {
     "name": "stdout",
     "output_type": "stream",
     "text": [
      "precision: 77.19%\n"
     ]
    }
   ],
   "source": [
    "from sklearn.metrics import precision_score\n",
    "precision = precision_score(y_valid_, yhat, average= 'weighted')\n",
    "print(\"precision: %.2f%%\" % (precision * 100.0))"
   ]
  },
  {
   "cell_type": "code",
   "execution_count": 20,
   "id": "d697f808",
   "metadata": {},
   "outputs": [
    {
     "name": "stderr",
     "output_type": "stream",
     "text": [
      "/Users/ecem/miniforge3/envs/tf-metal/lib/python3.9/site-packages/sklearn/utils/deprecation.py:87: FutureWarning: Function plot_confusion_matrix is deprecated; Function `plot_confusion_matrix` is deprecated in 1.0 and will be removed in 1.2. Use one of the class methods: ConfusionMatrixDisplay.from_predictions or ConfusionMatrixDisplay.from_estimator.\n",
      "  warnings.warn(msg, category=FutureWarning)\n"
     ]
    },
    {
     "data": {
      "text/plain": [
       "<sklearn.metrics._plot.confusion_matrix.ConfusionMatrixDisplay at 0x2c3016850>"
      ]
     },
     "execution_count": 20,
     "metadata": {},
     "output_type": "execute_result"
    },
    {
     "data": {
      "image/png": "[encoded data removed]",
      "text/plain": [
       "<Figure size 432x288 with 2 Axes>"
      ]
     },
     "metadata": {
      "needs_background": "light"
     },
     "output_type": "display_data"
    }
   ],
   "source": [
    "from sklearn.metrics import plot_confusion_matrix\n",
    "plot_confusion_matrix(clf, X_valid_, y_valid_) "
   ]
  },
  {
   "cell_type": "code",
   "execution_count": 21,
   "id": "8c685300",
   "metadata": {},
   "outputs": [
    {
     "name": "stdout",
     "output_type": "stream",
     "text": [
      "ROC AUC: 0.7297\n"
     ]
    }
   ],
   "source": [
    "from sklearn.metrics import roc_auc_score\n",
    "score = roc_auc_score(y_valid_, yhat)\n",
    "print(f\"ROC AUC: {score:.4f}\")"
   ]
  },
  {
   "cell_type": "code",
   "execution_count": 22,
   "id": "9d1036a4",
   "metadata": {},
   "outputs": [
    {
     "name": "stdout",
     "output_type": "stream",
     "text": [
      "              precision    recall  f1-score   support\n",
      "\n",
      "      absent       0.73      0.92      0.81       347\n",
      "     present       0.83      0.54      0.66       256\n",
      "\n",
      "    accuracy                           0.76       603\n",
      "   macro avg       0.78      0.73      0.73       603\n",
      "weighted avg       0.77      0.76      0.75       603\n",
      "\n"
     ]
    }
   ],
   "source": [
    "names =[\"absent\", \"present\"]\n",
    "print(classification_report(y_valid_, yhat, target_names = names))"
   ]
  },
  {
   "cell_type": "markdown",
   "id": "c8b0b7ff",
   "metadata": {},
   "source": [
    "* , 1 - 20% as moderately imbalanced data\n",
    "* Notably, the Precision-Recall curve can be used as an alternative metric to evaluate the classifier when the data is imbalanced.\n",
    "* the PR curve is composed of the recall/true positive rate (x-axis) & the precision (y-axis), as shown in figure below. The area under the PR ROC curve (PR AUC) provides a different perspective on evaluating the result of binary classifier. Lager PR AUC value indicates better model performance — the PR curve would move towards the upper right corner.\n",
    "* When data is imbalanced, the AUC might not reflect the true performance of the classifier. The definition of the False Positive Rate (FPR), is the number of false positives divided by the number of negative samples. FPR is considered better when it’s smaller since it indicates fewer false positives. In imbalanced data, the FPR tends to stay at small values due to the large numbers of negatives (i.e. making the denominator large). Thus, FPR becomes less informative for the model performance in this situation.\n",
    "* When there are more negative samples, it is common to predict more outcome as negative samples, causing the precision to decrease."
   ]
  },
  {
   "cell_type": "code",
   "execution_count": 23,
   "id": "f162ac57",
   "metadata": {},
   "outputs": [
    {
     "data": {
      "image/png": "[encoded data removed]",
      "text/plain": [
       "<Figure size 432x288 with 1 Axes>"
      ]
     },
     "metadata": {
      "needs_background": "light"
     },
     "output_type": "display_data"
    },
    {
     "name": "stdout",
     "output_type": "stream",
     "text": [
      "AUC: 0.782\n"
     ]
    }
   ],
   "source": [
    "precision, recall, thresholds = precision_recall_curve(y_valid_, yhat)\n",
    "auc_score = auc(recall, precision)\n",
    "plt.plot([0, 1], [0.5, 0.5], linestyle='--')\n",
    "plt.plot(recall, precision, marker='.')\n",
    "plt.show()\n",
    "print('AUC: %.3f' % auc_score)"
   ]
  },
  {
   "cell_type": "code",
   "execution_count": null,
   "id": "1a6a57dc",
   "metadata": {},
   "outputs": [],
   "source": []
  },
  {
   "cell_type": "code",
   "execution_count": null,
   "id": "ea5d4491",
   "metadata": {},
   "outputs": [],
   "source": []
  }
 ],
 "metadata": {
  "kernelspec": {
   "display_name": "Python 3 (ipykernel)",
   "language": "python",
   "name": "python3"
  },
  "language_info": {
   "codemirror_mode": {
    "name": "ipython",
    "version": 3
   },
   "file_extension": ".py",
   "mimetype": "text/x-python",
   "name": "python",
   "nbconvert_exporter": "python",
   "pygments_lexer": "ipython3",
   "version": "3.9.9"
  }
 },
 "nbformat": 4,
 "nbformat_minor": 5
}
