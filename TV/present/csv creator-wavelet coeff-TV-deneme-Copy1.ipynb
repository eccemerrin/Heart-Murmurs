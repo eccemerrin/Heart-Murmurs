{
 "cells": [
  {
   "cell_type": "markdown",
   "id": "9738d69c",
   "metadata": {},
   "source": [
    "### Imports"
   ]
  },
  {
   "cell_type": "code",
   "execution_count": 1,
   "id": "dc7b749c",
   "metadata": {},
   "outputs": [],
   "source": [
    "import warnings\n",
    "warnings.filterwarnings(\"ignore\")"
   ]
  },
  {
   "cell_type": "code",
   "execution_count": 2,
   "id": "749d0c72",
   "metadata": {},
   "outputs": [],
   "source": [
    "#imports\n",
    "import scipy.io\n",
    "import os\n",
    "import pandas\n",
    "import numpy as np\n",
    "import matplotlib.pyplot as plt\n",
    "import matplotlib.pylab as pl\n",
    "import matplotlib.gridspec as gridspec\n",
    "import obspy\n",
    "import pywt\n",
    "import pywt.data"
   ]
  },
  {
   "cell_type": "markdown",
   "id": "2bc54617",
   "metadata": {},
   "source": [
    "### Load the trimmed data "
   ]
  },
  {
   "cell_type": "code",
   "execution_count": 3,
   "id": "cd387f07",
   "metadata": {},
   "outputs": [],
   "source": [
    "path = \"/Users/ecem/Desktop/phonocardiogram/data/TV/present\"\n",
    "path_w = \"/Users/ecem/Desktop/phonocardiogram/data/wavelet_4\"\n",
    "waves = np.load(path + \"/present_TV_waves_10sec.npy\", allow_pickle= True)"
   ]
  },
  {
   "cell_type": "code",
   "execution_count": 4,
   "id": "2a96529d",
   "metadata": {},
   "outputs": [],
   "source": [
    "n = waves.shape[0]"
   ]
  },
  {
   "cell_type": "markdown",
   "id": "c0d9b74d",
   "metadata": {},
   "source": [
    "## Let's look at wavelet decomposition for a signal piece"
   ]
  },
  {
   "cell_type": "markdown",
   "id": "f8c7f06d",
   "metadata": {},
   "source": [
    "#### how our decomposition filter values look like"
   ]
  },
  {
   "cell_type": "code",
   "execution_count": 5,
   "id": "556de875",
   "metadata": {},
   "outputs": [
    {
     "data": {
      "image/png": "[encoded data removed]",
      "text/plain": [
       "<Figure size 432x288 with 1 Axes>"
      ]
     },
     "metadata": {
      "needs_background": "light"
     },
     "output_type": "display_data"
    }
   ],
   "source": [
    "w = pywt.Wavelet('db8')\n",
    "plt.plot(w.dec_lo)\n",
    "coeffs = pywt.wavedec(waves[0], w, level=6)"
   ]
  },
  {
   "cell_type": "code",
   "execution_count": 6,
   "id": "95ab5a75",
   "metadata": {},
   "outputs": [],
   "source": [
    "import pandas as pd"
   ]
  },
  {
   "cell_type": "code",
   "execution_count": 7,
   "id": "cb801cab",
   "metadata": {},
   "outputs": [],
   "source": [
    "coef = []\n",
    "for i in range(len(waves)):\n",
    "    coef.append(pywt.wavedec(waves[i], w, level=5))"
   ]
  },
  {
   "cell_type": "code",
   "execution_count": 8,
   "id": "772ae19a",
   "metadata": {},
   "outputs": [
    {
     "name": "stdout",
     "output_type": "stream",
     "text": [
      "(1264,)\n",
      "(1264,)\n",
      "(2514,)\n",
      "(5013,)\n",
      "(10011,)\n",
      "(20007,)\n"
     ]
    }
   ],
   "source": [
    "for i in range(6):\n",
    "    print(coef[0][i].shape)"
   ]
  },
  {
   "cell_type": "markdown",
   "id": "37f4e1b1",
   "metadata": {},
   "source": [
    "### Level by level"
   ]
  },
  {
   "cell_type": "code",
   "execution_count": 9,
   "id": "95d28b26",
   "metadata": {},
   "outputs": [],
   "source": [
    "def level_coef_extractor_3d(array, lvl = 0):\n",
    "    array =np.array(array)\n",
    "    \n",
    "    lenn = array[0][lvl].shape[0] #48\n",
    "    coef = np.ones(shape = (array.shape[0],lenn)) #2392,48\n",
    "    \n",
    "    for i in range(array.shape[0]):\n",
    "        coef[i,:] = array[i][lvl]\n",
    "        \n",
    "    return coef"
   ]
  },
  {
   "cell_type": "code",
   "execution_count": 10,
   "id": "4e06553b",
   "metadata": {},
   "outputs": [],
   "source": [
    "def saver(array = 0, lvl = 0, dir_path = None, name = 'blank'):\n",
    "    coefs = level_coef_extractor_3d(array, lvl)\n",
    "    np.save(dir_path + \"/\"+ str(name) + \"_lvl_\"  + str(lvl), coefs, allow_pickle = True)\n",
    "    del coefs"
   ]
  },
  {
   "cell_type": "code",
   "execution_count": 11,
   "id": "0e5c5c82",
   "metadata": {},
   "outputs": [],
   "source": [
    "for i in range(6):\n",
    "    saver(coef, i, path_w, 'present_TV_wavelet_coef_5')\n"
   ]
  },
  {
   "cell_type": "code",
   "execution_count": 12,
   "id": "5b156d58",
   "metadata": {},
   "outputs": [
    {
     "data": {
      "text/plain": [
       "[<matplotlib.lines.Line2D at 0x11fc3d400>]"
      ]
     },
     "execution_count": 12,
     "metadata": {},
     "output_type": "execute_result"
    },
    {
     "data": {
      "image/png": "[encoded data removed]",
      "text/plain": [
       "<Figure size 432x288 with 1 Axes>"
      ]
     },
     "metadata": {
      "needs_background": "light"
     },
     "output_type": "display_data"
    }
   ],
   "source": [
    "def scale(data): #1264\n",
    "    maxx = data.max()\n",
    "    minn = data.min()\n",
    "    \n",
    "    diff = maxx - minn\n",
    "    scaled = np.empty((data.shape[0]))\n",
    "    \n",
    "    for i in range(data.shape[0]):\n",
    "        scaled[i] = (data[i] - minn )/ diff\n",
    "    return scaled\n",
    "\n",
    "def scaled_wavelet(array, lvl = 6):\n",
    "    all_wavelets = []\n",
    "    \n",
    "    for i in range(lvl):\n",
    "        lenn = array[0][i].shape[0] #level uzunluğu alıyor\n",
    "        scaled_lvl = np.empty((array.shape[0], lenn)) # 1245, level uzunluğu kadar array oluşturuyor\n",
    "        \n",
    "        for j in range(array.shape[0]): #1245\n",
    "            scaled_lvl[j,:] = scale(coef[j][i])  \n",
    "            \n",
    "        all_wavelets.append(scaled_lvl)\n",
    "    return all_wavelets\n",
    "\n",
    "coef = np.array(coef)\n",
    "wavelets = scaled_wavelet(coef)\n",
    "\n",
    "plt.plot(coef[0][0])\n",
    "\n",
    "plt.plot(wavelets[0][0])"
   ]
  },
  {
   "cell_type": "code",
   "execution_count": 13,
   "id": "2c9d620e",
   "metadata": {},
   "outputs": [],
   "source": [
    "import scipy.stats\n",
    "ent = np.empty(shape = (n, 6))\n",
    "for i in range(n):\n",
    "    for j in range(6):\n",
    "        ent[i, j] = scipy.stats.entropy(abs(coef[i][j]))\n",
    "\n",
    "        \n",
    "ent_df = pd.DataFrame(ent, columns = [\"approx\",\"lvl5\", \"lvl4\", \"lvl3\", \"lvl2\", \"lvl1\"])\n",
    "ent_df\n",
    "ent_df.to_csv(\"/Users/ecem/Desktop/phonocardiogram/data/TV/present/shannon_entropy.csv\")"
   ]
  },
  {
   "cell_type": "code",
   "execution_count": null,
   "id": "aa635b0a",
   "metadata": {},
   "outputs": [],
   "source": []
  },
  {
   "cell_type": "code",
   "execution_count": null,
   "id": "9555ba7f",
   "metadata": {},
   "outputs": [],
   "source": []
  }
 ],
 "metadata": {
  "kernelspec": {
   "display_name": "Python 3 (ipykernel)",
   "language": "python",
   "name": "python3"
  },
  "language_info": {
   "codemirror_mode": {
    "name": "ipython",
    "version": 3
   },
   "file_extension": ".py",
   "mimetype": "text/x-python",
   "name": "python",
   "nbconvert_exporter": "python",
   "pygments_lexer": "ipython3",
   "version": "3.9.9"
  }
 },
 "nbformat": 4,
 "nbformat_minor": 5
}
