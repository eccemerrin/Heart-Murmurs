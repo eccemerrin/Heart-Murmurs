{
 "cells": [
  {
   "cell_type": "markdown",
   "id": "22776b7f",
   "metadata": {},
   "source": [
    "### Source : http://practicalcryptography.com/miscellaneous/machine-learning/guide-mel-frequency-cepstral-coefficients-mfccs/"
   ]
  },
  {
   "cell_type": "code",
   "execution_count": 1,
   "id": "2e9acd3c",
   "metadata": {},
   "outputs": [],
   "source": [
    "import matplotlib.pyplot as plt\n",
    "import numpy as np\n",
    "import scipy.signal"
   ]
  },
  {
   "cell_type": "code",
   "execution_count": 2,
   "id": "5f9a7800",
   "metadata": {},
   "outputs": [],
   "source": [
    "path = \"/Users/ecem/Desktop/phonocardiogram/data/TV/present\""
   ]
  },
  {
   "cell_type": "code",
   "execution_count": 3,
   "id": "a473ad37",
   "metadata": {},
   "outputs": [],
   "source": [
    "waves = np.load(path + \"/present_TV_waves_10sec.npy\", allow_pickle= True)"
   ]
  },
  {
   "cell_type": "code",
   "execution_count": 4,
   "id": "e55a65f3",
   "metadata": {},
   "outputs": [],
   "source": [
    "n = waves.shape[0]"
   ]
  },
  {
   "cell_type": "code",
   "execution_count": 5,
   "id": "4fade6e1",
   "metadata": {},
   "outputs": [],
   "source": [
    "import librosa as lbs"
   ]
  },
  {
   "cell_type": "code",
   "execution_count": 6,
   "id": "89c64773",
   "metadata": {},
   "outputs": [
    {
     "data": {
      "text/plain": [
       "(13, 79)"
      ]
     },
     "execution_count": 6,
     "metadata": {},
     "output_type": "execute_result"
    }
   ],
   "source": [
    "lbs.feature.mfcc(y=waves[0], sr=4000, win_length = 100, n_mfcc=13).shape"
   ]
  },
  {
   "cell_type": "code",
   "execution_count": 7,
   "id": "c43d8523",
   "metadata": {},
   "outputs": [
    {
     "data": {
      "text/plain": [
       "-591.8173"
      ]
     },
     "execution_count": 7,
     "metadata": {},
     "output_type": "execute_result"
    }
   ],
   "source": [
    "lbs.feature.mfcc(y=waves[0], sr=4000, win_length = 100, n_mfcc=13)[0].mean()"
   ]
  },
  {
   "cell_type": "code",
   "execution_count": 8,
   "id": "4d774edf",
   "metadata": {},
   "outputs": [],
   "source": [
    "mfccs = lbs.feature.mfcc(y=waves[0], sr=4000, win_length = 100, n_mfcc=13)"
   ]
  },
  {
   "cell_type": "code",
   "execution_count": 9,
   "id": "37e8a5ef",
   "metadata": {},
   "outputs": [],
   "source": [
    "import librosa.display"
   ]
  },
  {
   "cell_type": "code",
   "execution_count": 10,
   "id": "031f7d04",
   "metadata": {},
   "outputs": [
    {
     "data": {
      "text/plain": [
       "[Text(0.5, 1.0, 'MFCC')]"
      ]
     },
     "execution_count": 10,
     "metadata": {},
     "output_type": "execute_result"
    },
    {
     "data": {
      "image/png": "[encoded data removed]",
      "text/plain": [
       "<Figure size 432x288 with 2 Axes>"
      ]
     },
     "metadata": {
      "needs_background": "light"
     },
     "output_type": "display_data"
    }
   ],
   "source": [
    ">>> import matplotlib.pyplot as plt\n",
    ">>> fig, ax = plt.subplots(nrows=1, sharex=True)\n",
    ">>> img = librosa.display.specshow(mfccs, x_axis='time', ax=ax)\n",
    ">>> fig.colorbar(img, ax=[ax])\n",
    ">>> ax.set(title='MFCC')"
   ]
  },
  {
   "cell_type": "code",
   "execution_count": 11,
   "id": "a9cf23b8",
   "metadata": {},
   "outputs": [],
   "source": [
    "mfccs = np.empty((n, 13))\n",
    "for i in range(waves.shape[0]):\n",
    "    mfcc = lbs.feature.mfcc(y=waves[i], sr=4000, win_length = 100, n_mfcc=13)\n",
    "    for j in range(13):\n",
    "        mfccs[i, j] = mfcc[j].mean()\n",
    "    "
   ]
  },
  {
   "cell_type": "code",
   "execution_count": 12,
   "id": "22bce509",
   "metadata": {},
   "outputs": [
    {
     "data": {
      "text/plain": [
       "(1205, 13)"
      ]
     },
     "execution_count": 12,
     "metadata": {},
     "output_type": "execute_result"
    }
   ],
   "source": [
    "mfccs.shape"
   ]
  },
  {
   "cell_type": "code",
   "execution_count": 13,
   "id": "ae8c91d3",
   "metadata": {},
   "outputs": [],
   "source": [
    "import pandas as pd"
   ]
  },
  {
   "cell_type": "code",
   "execution_count": 14,
   "id": "a8d81f75",
   "metadata": {},
   "outputs": [],
   "source": [
    "columns = []\n",
    "for i in range(13):\n",
    "    columns.append(\"{}'th mfcc\".format(i))"
   ]
  },
  {
   "cell_type": "code",
   "execution_count": 15,
   "id": "ec9136db",
   "metadata": {},
   "outputs": [],
   "source": [
    "mfccs_df = pd.DataFrame(mfccs, columns = columns)"
   ]
  },
  {
   "cell_type": "code",
   "execution_count": 16,
   "id": "70348867",
   "metadata": {},
   "outputs": [
    {
     "data": {
      "text/html": [
       "<div>\n",
       "<style scoped>\n",
       "    .dataframe tbody tr th:only-of-type {\n",
       "        vertical-align: middle;\n",
       "    }\n",
       "\n",
       "    .dataframe tbody tr th {\n",
       "        vertical-align: top;\n",
       "    }\n",
       "\n",
       "    .dataframe thead th {\n",
       "        text-align: right;\n",
       "    }\n",
       "</style>\n",
       "<table border=\"1\" class=\"dataframe\">\n",
       "  <thead>\n",
       "    <tr style=\"text-align: right;\">\n",
       "      <th></th>\n",
       "      <th>0'th mfcc</th>\n",
       "      <th>1'th mfcc</th>\n",
       "      <th>2'th mfcc</th>\n",
       "      <th>3'th mfcc</th>\n",
       "      <th>4'th mfcc</th>\n",
       "      <th>5'th mfcc</th>\n",
       "      <th>6'th mfcc</th>\n",
       "      <th>7'th mfcc</th>\n",
       "      <th>8'th mfcc</th>\n",
       "      <th>9'th mfcc</th>\n",
       "      <th>10'th mfcc</th>\n",
       "      <th>11'th mfcc</th>\n",
       "      <th>12'th mfcc</th>\n",
       "    </tr>\n",
       "  </thead>\n",
       "  <tbody>\n",
       "    <tr>\n",
       "      <th>0</th>\n",
       "      <td>-591.817322</td>\n",
       "      <td>92.014435</td>\n",
       "      <td>75.640770</td>\n",
       "      <td>53.285835</td>\n",
       "      <td>29.523932</td>\n",
       "      <td>9.205683</td>\n",
       "      <td>-4.313620</td>\n",
       "      <td>-9.840879</td>\n",
       "      <td>-8.431937</td>\n",
       "      <td>-2.754433</td>\n",
       "      <td>3.939606</td>\n",
       "      <td>8.896379</td>\n",
       "      <td>10.612140</td>\n",
       "    </tr>\n",
       "    <tr>\n",
       "      <th>1</th>\n",
       "      <td>-608.390564</td>\n",
       "      <td>108.873070</td>\n",
       "      <td>87.958176</td>\n",
       "      <td>59.561840</td>\n",
       "      <td>29.968021</td>\n",
       "      <td>5.514747</td>\n",
       "      <td>-9.652433</td>\n",
       "      <td>-14.440272</td>\n",
       "      <td>-10.754220</td>\n",
       "      <td>-2.465962</td>\n",
       "      <td>6.093056</td>\n",
       "      <td>11.587217</td>\n",
       "      <td>12.564015</td>\n",
       "    </tr>\n",
       "    <tr>\n",
       "      <th>2</th>\n",
       "      <td>-552.140869</td>\n",
       "      <td>86.704597</td>\n",
       "      <td>71.681267</td>\n",
       "      <td>51.108711</td>\n",
       "      <td>29.040089</td>\n",
       "      <td>9.846354</td>\n",
       "      <td>-3.389795</td>\n",
       "      <td>-9.445189</td>\n",
       "      <td>-9.057382</td>\n",
       "      <td>-4.415343</td>\n",
       "      <td>1.676179</td>\n",
       "      <td>6.704634</td>\n",
       "      <td>9.119080</td>\n",
       "    </tr>\n",
       "    <tr>\n",
       "      <th>3</th>\n",
       "      <td>-582.783752</td>\n",
       "      <td>96.320496</td>\n",
       "      <td>80.237808</td>\n",
       "      <td>57.960247</td>\n",
       "      <td>34.288982</td>\n",
       "      <td>13.675554</td>\n",
       "      <td>-0.654058</td>\n",
       "      <td>-7.476874</td>\n",
       "      <td>-7.710306</td>\n",
       "      <td>-3.748581</td>\n",
       "      <td>1.500152</td>\n",
       "      <td>5.526372</td>\n",
       "      <td>6.915148</td>\n",
       "    </tr>\n",
       "    <tr>\n",
       "      <th>4</th>\n",
       "      <td>-563.395081</td>\n",
       "      <td>93.641495</td>\n",
       "      <td>76.892998</td>\n",
       "      <td>54.675968</td>\n",
       "      <td>31.853073</td>\n",
       "      <td>12.865392</td>\n",
       "      <td>0.165991</td>\n",
       "      <td>-5.821665</td>\n",
       "      <td>-6.263361</td>\n",
       "      <td>-3.225020</td>\n",
       "      <td>0.963691</td>\n",
       "      <td>4.295860</td>\n",
       "      <td>5.553706</td>\n",
       "    </tr>\n",
       "    <tr>\n",
       "      <th>...</th>\n",
       "      <td>...</td>\n",
       "      <td>...</td>\n",
       "      <td>...</td>\n",
       "      <td>...</td>\n",
       "      <td>...</td>\n",
       "      <td>...</td>\n",
       "      <td>...</td>\n",
       "      <td>...</td>\n",
       "      <td>...</td>\n",
       "      <td>...</td>\n",
       "      <td>...</td>\n",
       "      <td>...</td>\n",
       "      <td>...</td>\n",
       "    </tr>\n",
       "    <tr>\n",
       "      <th>1200</th>\n",
       "      <td>-515.046997</td>\n",
       "      <td>100.614891</td>\n",
       "      <td>85.969406</td>\n",
       "      <td>66.045433</td>\n",
       "      <td>44.804813</td>\n",
       "      <td>26.420040</td>\n",
       "      <td>13.684677</td>\n",
       "      <td>7.527235</td>\n",
       "      <td>7.023386</td>\n",
       "      <td>9.991295</td>\n",
       "      <td>13.837909</td>\n",
       "      <td>16.392942</td>\n",
       "      <td>16.453938</td>\n",
       "    </tr>\n",
       "    <tr>\n",
       "      <th>1201</th>\n",
       "      <td>-553.679016</td>\n",
       "      <td>117.386978</td>\n",
       "      <td>97.879944</td>\n",
       "      <td>71.702789</td>\n",
       "      <td>44.700024</td>\n",
       "      <td>22.428585</td>\n",
       "      <td>8.171965</td>\n",
       "      <td>2.512529</td>\n",
       "      <td>3.696732</td>\n",
       "      <td>8.630657</td>\n",
       "      <td>14.011208</td>\n",
       "      <td>17.298475</td>\n",
       "      <td>17.285185</td>\n",
       "    </tr>\n",
       "    <tr>\n",
       "      <th>1202</th>\n",
       "      <td>-505.021606</td>\n",
       "      <td>97.101532</td>\n",
       "      <td>83.499519</td>\n",
       "      <td>65.035126</td>\n",
       "      <td>45.093800</td>\n",
       "      <td>27.471945</td>\n",
       "      <td>14.859971</td>\n",
       "      <td>8.360435</td>\n",
       "      <td>7.375756</td>\n",
       "      <td>10.039680</td>\n",
       "      <td>13.933534</td>\n",
       "      <td>16.875832</td>\n",
       "      <td>17.503557</td>\n",
       "    </tr>\n",
       "    <tr>\n",
       "      <th>1203</th>\n",
       "      <td>-496.810760</td>\n",
       "      <td>109.279297</td>\n",
       "      <td>91.542336</td>\n",
       "      <td>67.402847</td>\n",
       "      <td>41.922855</td>\n",
       "      <td>20.311941</td>\n",
       "      <td>6.028016</td>\n",
       "      <td>0.111621</td>\n",
       "      <td>1.211944</td>\n",
       "      <td>6.383330</td>\n",
       "      <td>12.239496</td>\n",
       "      <td>16.077532</td>\n",
       "      <td>16.579428</td>\n",
       "    </tr>\n",
       "    <tr>\n",
       "      <th>1204</th>\n",
       "      <td>-514.637878</td>\n",
       "      <td>101.911331</td>\n",
       "      <td>86.891953</td>\n",
       "      <td>66.390869</td>\n",
       "      <td>44.444187</td>\n",
       "      <td>25.317530</td>\n",
       "      <td>11.911399</td>\n",
       "      <td>5.265403</td>\n",
       "      <td>4.552200</td>\n",
       "      <td>7.645778</td>\n",
       "      <td>11.942129</td>\n",
       "      <td>15.184421</td>\n",
       "      <td>16.026596</td>\n",
       "    </tr>\n",
       "  </tbody>\n",
       "</table>\n",
       "<p>1205 rows × 13 columns</p>\n",
       "</div>"
      ],
      "text/plain": [
       "       0'th mfcc   1'th mfcc  2'th mfcc  3'th mfcc  4'th mfcc  5'th mfcc  \\\n",
       "0    -591.817322   92.014435  75.640770  53.285835  29.523932   9.205683   \n",
       "1    -608.390564  108.873070  87.958176  59.561840  29.968021   5.514747   \n",
       "2    -552.140869   86.704597  71.681267  51.108711  29.040089   9.846354   \n",
       "3    -582.783752   96.320496  80.237808  57.960247  34.288982  13.675554   \n",
       "4    -563.395081   93.641495  76.892998  54.675968  31.853073  12.865392   \n",
       "...          ...         ...        ...        ...        ...        ...   \n",
       "1200 -515.046997  100.614891  85.969406  66.045433  44.804813  26.420040   \n",
       "1201 -553.679016  117.386978  97.879944  71.702789  44.700024  22.428585   \n",
       "1202 -505.021606   97.101532  83.499519  65.035126  45.093800  27.471945   \n",
       "1203 -496.810760  109.279297  91.542336  67.402847  41.922855  20.311941   \n",
       "1204 -514.637878  101.911331  86.891953  66.390869  44.444187  25.317530   \n",
       "\n",
       "      6'th mfcc  7'th mfcc  8'th mfcc  9'th mfcc  10'th mfcc  11'th mfcc  \\\n",
       "0     -4.313620  -9.840879  -8.431937  -2.754433    3.939606    8.896379   \n",
       "1     -9.652433 -14.440272 -10.754220  -2.465962    6.093056   11.587217   \n",
       "2     -3.389795  -9.445189  -9.057382  -4.415343    1.676179    6.704634   \n",
       "3     -0.654058  -7.476874  -7.710306  -3.748581    1.500152    5.526372   \n",
       "4      0.165991  -5.821665  -6.263361  -3.225020    0.963691    4.295860   \n",
       "...         ...        ...        ...        ...         ...         ...   \n",
       "1200  13.684677   7.527235   7.023386   9.991295   13.837909   16.392942   \n",
       "1201   8.171965   2.512529   3.696732   8.630657   14.011208   17.298475   \n",
       "1202  14.859971   8.360435   7.375756  10.039680   13.933534   16.875832   \n",
       "1203   6.028016   0.111621   1.211944   6.383330   12.239496   16.077532   \n",
       "1204  11.911399   5.265403   4.552200   7.645778   11.942129   15.184421   \n",
       "\n",
       "      12'th mfcc  \n",
       "0      10.612140  \n",
       "1      12.564015  \n",
       "2       9.119080  \n",
       "3       6.915148  \n",
       "4       5.553706  \n",
       "...          ...  \n",
       "1200   16.453938  \n",
       "1201   17.285185  \n",
       "1202   17.503557  \n",
       "1203   16.579428  \n",
       "1204   16.026596  \n",
       "\n",
       "[1205 rows x 13 columns]"
      ]
     },
     "execution_count": 16,
     "metadata": {},
     "output_type": "execute_result"
    }
   ],
   "source": [
    "mfccs_df"
   ]
  },
  {
   "cell_type": "code",
   "execution_count": 17,
   "id": "3da5013c",
   "metadata": {},
   "outputs": [],
   "source": [
    "mfccs_df.to_csv(\"/Users/ecem/Desktop/phonocardiogram/data/TV/present/TV-mfcc.csv\")"
   ]
  },
  {
   "cell_type": "code",
   "execution_count": null,
   "id": "9dee5f7f",
   "metadata": {},
   "outputs": [],
   "source": []
  }
 ],
 "metadata": {
  "kernelspec": {
   "display_name": "Python 3 (ipykernel)",
   "language": "python",
   "name": "python3"
  },
  "language_info": {
   "codemirror_mode": {
    "name": "ipython",
    "version": 3
   },
   "file_extension": ".py",
   "mimetype": "text/x-python",
   "name": "python",
   "nbconvert_exporter": "python",
   "pygments_lexer": "ipython3",
   "version": "3.9.9"
  }
 },
 "nbformat": 4,
 "nbformat_minor": 5
}
