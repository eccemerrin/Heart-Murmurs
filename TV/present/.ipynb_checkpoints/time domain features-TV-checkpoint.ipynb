{
 "cells": [
  {
   "cell_type": "markdown",
   "id": "6915c26f",
   "metadata": {},
   "source": [
    "In this notebook we are going to focus on features which will be derived from time domain characteristics."
   ]
  },
  {
   "cell_type": "code",
   "execution_count": 1,
   "id": "59ccfc96",
   "metadata": {},
   "outputs": [],
   "source": [
    "import numpy as np\n",
    "import math\n",
    "from scipy.signal import argrelextrema, find_peaks"
   ]
  },
  {
   "cell_type": "code",
   "execution_count": 2,
   "id": "81d60d8d",
   "metadata": {},
   "outputs": [],
   "source": [
    "path = \"/Users/ecem/Desktop/phonocardiogram/data/TV/present\""
   ]
  },
  {
   "cell_type": "code",
   "execution_count": 3,
   "id": "85ec7ba6",
   "metadata": {},
   "outputs": [],
   "source": [
    "waves = np.load(path + \"/present_TV_waves_10sec.npy\", allow_pickle= True)"
   ]
  },
  {
   "cell_type": "code",
   "execution_count": 4,
   "id": "1a655f7b",
   "metadata": {},
   "outputs": [
    {
     "data": {
      "text/plain": [
       "(1205, 40000)"
      ]
     },
     "execution_count": 4,
     "metadata": {},
     "output_type": "execute_result"
    }
   ],
   "source": [
    "waves.shape"
   ]
  },
  {
   "cell_type": "markdown",
   "id": "2f19ee82",
   "metadata": {},
   "source": [
    "## Energy:"
   ]
  },
  {
   "cell_type": "code",
   "execution_count": 5,
   "id": "f6ec411b",
   "metadata": {},
   "outputs": [],
   "source": [
    "def energy(data):\n",
    "    return (1 / len(data)) * np.sum(np.square(data))"
   ]
  },
  {
   "cell_type": "code",
   "execution_count": 6,
   "id": "5e254fa6",
   "metadata": {},
   "outputs": [],
   "source": [
    "energy_ = []\n",
    "for i in range(waves.shape[0]):\n",
    "    energy_.append(energy(waves[i]))"
   ]
  },
  {
   "cell_type": "code",
   "execution_count": 7,
   "id": "e484a09f",
   "metadata": {},
   "outputs": [],
   "source": [
    "energy_ = np.array(energy_)"
   ]
  },
  {
   "cell_type": "code",
   "execution_count": 8,
   "id": "d11f2f05",
   "metadata": {},
   "outputs": [
    {
     "data": {
      "text/plain": [
       "(1205,)"
      ]
     },
     "execution_count": 8,
     "metadata": {},
     "output_type": "execute_result"
    }
   ],
   "source": [
    "energy_.shape"
   ]
  },
  {
   "cell_type": "markdown",
   "id": "875615f2",
   "metadata": {},
   "source": [
    "## Entropy:"
   ]
  },
  {
   "cell_type": "markdown",
   "id": "2e4fa44b",
   "metadata": {},
   "source": [
    "Entropy is a thermodynamics concept that measures the molecular disorder in a closed system. This concept is used in nonlinear dynamical systems to quantify the degree of complexity. Entropy is an interesting tool for analyzing time series, as it does not consider any constraints on the probability distribution [7]. Shannon entropy (ShEn) and conditional entropy (ConEn) are the basic measures used for evaluating entropy. ShEn and ConEn measure the amount of information and the rate of information generation, respectively [1]. Based on these measures, other entropy measures have been introduced for evaluating the complexity of time series"
   ]
  },
  {
   "cell_type": "code",
   "execution_count": 9,
   "id": "7a35408b",
   "metadata": {},
   "outputs": [],
   "source": [
    "def entropy(data, num_short_blocks=10):\n",
    "    eol = np.sum(np.square(data))\n",
    "    win_len = len(data)\n",
    "    sub_win_len = math.floor(win_len / num_short_blocks)\n",
    "\n",
    "    if win_len != sub_win_len * num_short_blocks:\n",
    "        data = data[0:sub_win_len * num_short_blocks]\n",
    "    sub_wins = data.reshape(sub_win_len, num_short_blocks, order='F').copy()\n",
    "    norm_sub_frame_energies = np.zeros((1, sub_wins.shape[1]))\n",
    "    for i in range(sub_wins.shape[1]):\n",
    "        norm_sub_frame_energies[0, i] = np.sum(np.square(sub_wins[:, i])) / (eol + np.spacing(1))\n",
    "    energy_entropy = 0\n",
    "    for i in range(norm_sub_frame_energies.shape[1]):\n",
    "        energy_entropy -= norm_sub_frame_energies[0, i] * math.log(norm_sub_frame_energies[0, i] + np.spacing(1), 2)\n",
    "    return energy_entropy"
   ]
  },
  {
   "cell_type": "code",
   "execution_count": 10,
   "id": "c22a66fd",
   "metadata": {},
   "outputs": [
    {
     "data": {
      "text/plain": [
       "2.2292197176385327"
      ]
     },
     "execution_count": 10,
     "metadata": {},
     "output_type": "execute_result"
    }
   ],
   "source": [
    "entropy(waves[0], num_short_blocks = 10)"
   ]
  },
  {
   "cell_type": "code",
   "execution_count": 11,
   "id": "a8a2eee2",
   "metadata": {},
   "outputs": [],
   "source": [
    "entropy_ = []\n",
    "for i in range(waves.shape[0]):\n",
    "    entropy_.append(entropy(waves[i], num_short_blocks = 10))"
   ]
  },
  {
   "cell_type": "code",
   "execution_count": 12,
   "id": "65d871de",
   "metadata": {},
   "outputs": [
    {
     "data": {
      "text/plain": [
       "(1205,)"
      ]
     },
     "execution_count": 12,
     "metadata": {},
     "output_type": "execute_result"
    }
   ],
   "source": [
    "entropy_ = np.array(entropy_)\n",
    "entropy_.shape"
   ]
  },
  {
   "cell_type": "markdown",
   "id": "7871ddd8",
   "metadata": {},
   "source": [
    "## discrete fourier transform"
   ]
  },
  {
   "cell_type": "code",
   "execution_count": 13,
   "id": "26195564",
   "metadata": {},
   "outputs": [],
   "source": [
    "def dft(data, f_s = 4000, p=0):\n",
    "    win_len = len(data)\n",
    "    fft = np.abs(np.fft.fft(data)) / win_len\n",
    "    if not p:\n",
    "        fft = fft[0:math.ceil(win_len)]\n",
    "        f_req = (f_s / 2) * np.arange(0, np.ceil(win_len / 2) + 1) / np.ceil(win_len / 2)\n",
    "    else:\n",
    "        fft = np.fft.fftshift(fft)\n",
    "        if win_len % 2:\n",
    "            f_req = np.arange(-(win_len - 1) / 2, (win_len - 1) / 2 + 1)\n",
    "        else:\n",
    "            f_req = np.arange(-win_len / 2, win_len / 2)\n",
    "    fft_1 = np.abs(fft)/win_len\n",
    "    fft_2 = fft_1[1:(round(win_len / 2) + 1)]\n",
    "    fft_2 = 2*fft_2\n",
    "    return fft_2, f_req"
   ]
  },
  {
   "cell_type": "markdown",
   "id": "3e70587f",
   "metadata": {},
   "source": [
    "## Spectral Entropy"
   ]
  },
  {
   "cell_type": "code",
   "execution_count": 14,
   "id": "1bd2a380",
   "metadata": {},
   "outputs": [],
   "source": [
    "spec_ent = []\n",
    "for i in range(waves.shape[0]):\n",
    "    fft, _ = dft(waves[i])\n",
    "    spec_ent.append(entropy(fft, 10))"
   ]
  },
  {
   "cell_type": "code",
   "execution_count": 15,
   "id": "28a17912",
   "metadata": {},
   "outputs": [],
   "source": [
    "spec_ent = np.array(spec_ent)"
   ]
  },
  {
   "cell_type": "code",
   "execution_count": 16,
   "id": "817c62d0",
   "metadata": {},
   "outputs": [
    {
     "data": {
      "text/plain": [
       "(1205,)"
      ]
     },
     "execution_count": 16,
     "metadata": {},
     "output_type": "execute_result"
    }
   ],
   "source": [
    "spec_ent.shape"
   ]
  },
  {
   "cell_type": "markdown",
   "id": "dfb3927f",
   "metadata": {},
   "source": [
    "## Spectral RollOff"
   ]
  },
  {
   "cell_type": "markdown",
   "id": "4d29b5e4",
   "metadata": {},
   "source": [
    "Spectral rolloff is the frequency below which a specified percentage of the total spectral energy, e.g. 85%, lies"
   ]
  },
  {
   "cell_type": "code",
   "execution_count": 17,
   "id": "05c8a2da",
   "metadata": {},
   "outputs": [],
   "source": [
    "def spectral_rolloff(data, c=0.90):\n",
    "    total_energy = np.sum(np.square(data))\n",
    "    curr_energy = 0\n",
    "    count_fft = 0\n",
    "    fft_len = len(data)\n",
    "    while curr_energy <= c * total_energy and count_fft <= fft_len:\n",
    "        curr_energy += data[count_fft] ** 2\n",
    "        count_fft += 1\n",
    "    count_fft -= 1\n",
    "    return (count_fft - 1) / fft_len"
   ]
  },
  {
   "cell_type": "code",
   "execution_count": 18,
   "id": "0d9c8e3d",
   "metadata": {},
   "outputs": [
    {
     "data": {
      "text/plain": [
       "0.027"
      ]
     },
     "execution_count": 18,
     "metadata": {},
     "output_type": "execute_result"
    }
   ],
   "source": [
    "fft, _ = dft(waves[0])\n",
    "spectral_rolloff(fft)"
   ]
  },
  {
   "cell_type": "code",
   "execution_count": 19,
   "id": "1ee3aeac",
   "metadata": {},
   "outputs": [],
   "source": [
    "rolloff = []\n",
    "for i in range(waves.shape[0]):\n",
    "    fft, _ = dft(waves[i])\n",
    "    rolloff.append(spectral_rolloff(fft))"
   ]
  },
  {
   "cell_type": "code",
   "execution_count": 20,
   "id": "9393d75c",
   "metadata": {},
   "outputs": [
    {
     "data": {
      "text/plain": [
       "(1205,)"
      ]
     },
     "execution_count": 20,
     "metadata": {},
     "output_type": "execute_result"
    }
   ],
   "source": [
    "rolloff = np.array(rolloff)\n",
    "rolloff.shape"
   ]
  },
  {
   "cell_type": "markdown",
   "id": "d81c0900",
   "metadata": {},
   "source": [
    "## Spectral Centroid"
   ]
  },
  {
   "cell_type": "markdown",
   "id": "12d3e8d0",
   "metadata": {},
   "source": [
    "The spectral centroid (Wikipedia) indicates at which frequency the energy of a spectrum is centered upon. "
   ]
  },
  {
   "cell_type": "markdown",
   "id": "7bb30ddd",
   "metadata": {},
   "source": [
    "## SOR: burada bir pozitif negatif sıkıntısı vardı. Aşağıdaki gibi çözdüm sıkıntı oluyor mu ? "
   ]
  },
  {
   "cell_type": "code",
   "execution_count": 21,
   "id": "04ac186a",
   "metadata": {},
   "outputs": [],
   "source": [
    "def spectral_centroid(data, f_s = 4000):\n",
    "    fft_len = len(data)\n",
    "    m = np.transpose((f_s / (2 * fft_len)) * np.arange(1, fft_len+1))\n",
    "    data = data / np.max(data)\n",
    "    c = np.sum(np.multiply(m, data)) / (np.sum(data) + np.spacing(1))\n",
    "    k = np.sum(np.square(m - c) * data)\n",
    "    l = (np.sum(data) + np.spacing(1))\n",
    "    \n",
    "    if k*l <0 :\n",
    "        s = math.sqrt( -1* k / l ) / (f_s / 2)\n",
    "        c = c / (f_s / 2)\n",
    "        return c\n",
    "    else:\n",
    "        s = math.sqrt( k / l ) / (f_s / 2)\n",
    "        c = c / (f_s / 2)\n",
    "        return c"
   ]
  },
  {
   "cell_type": "code",
   "execution_count": 22,
   "id": "7460956b",
   "metadata": {},
   "outputs": [],
   "source": [
    "centroid = []\n",
    "for i in range(waves.shape[0]):\n",
    "    fft, _ = dft(waves[i])\n",
    "    centroid.append(spectral_centroid(fft))"
   ]
  },
  {
   "cell_type": "code",
   "execution_count": 23,
   "id": "3483d1a3",
   "metadata": {},
   "outputs": [
    {
     "data": {
      "text/plain": [
       "(1205,)"
      ]
     },
     "execution_count": 23,
     "metadata": {},
     "output_type": "execute_result"
    }
   ],
   "source": [
    "centroid = np.array(centroid)\n",
    "centroid.shape"
   ]
  },
  {
   "cell_type": "markdown",
   "id": "e84eebeb",
   "metadata": {},
   "source": [
    "## Spectral spread:"
   ]
  },
  {
   "cell_type": "code",
   "execution_count": 24,
   "id": "ff885447",
   "metadata": {},
   "outputs": [],
   "source": [
    "def spectral_spread(data, f_s=4000):\n",
    "    fft_len = len(data)\n",
    "    m = np.transpose((f_s / (2 * fft_len)) * np.arange(1, fft_len+1))\n",
    "    data = data / np.max(data)\n",
    "    c = np.sum(np.multiply(m, data)) / (np.sum(data) + np.spacing(1))\n",
    "    k = np.sum(np.square(m - c) * data)\n",
    "    l = (np.sum(data) + np.spacing(1))\n",
    "    \n",
    "    if k*l <0 :\n",
    "        s = math.sqrt( -1* k / l ) / (f_s / 2)\n",
    "        c = c / (f_s / 2)\n",
    "        return c\n",
    "    else:\n",
    "        s = math.sqrt( k / l ) / (f_s / 2)\n",
    "        c = c / (f_s / 2)\n",
    "        return s"
   ]
  },
  {
   "cell_type": "code",
   "execution_count": 25,
   "id": "f7b83172",
   "metadata": {},
   "outputs": [],
   "source": [
    "spread = []\n",
    "for i in range(waves.shape[0]):\n",
    "    fft, _ = dft(waves[i])\n",
    "    spread.append(spectral_spread(fft))"
   ]
  },
  {
   "cell_type": "code",
   "execution_count": 26,
   "id": "913c8e25",
   "metadata": {},
   "outputs": [
    {
     "data": {
      "text/plain": [
       "(1205,)"
      ]
     },
     "execution_count": 26,
     "metadata": {},
     "output_type": "execute_result"
    }
   ],
   "source": [
    "spread = np.array( spread)\n",
    "spread.shape"
   ]
  },
  {
   "cell_type": "markdown",
   "id": "9abaac2a",
   "metadata": {},
   "source": [
    "# Now lets create their dataframes"
   ]
  },
  {
   "cell_type": "code",
   "execution_count": 27,
   "id": "968154c0",
   "metadata": {},
   "outputs": [
    {
     "ename": "RuntimeError",
     "evalue": "module compiled against API version 0xe but this version of numpy is 0xd",
     "output_type": "error",
     "traceback": [
      "\u001b[0;31m---------------------------------------------------------------------------\u001b[0m",
      "\u001b[0;31mRuntimeError\u001b[0m                              Traceback (most recent call last)",
      "\u001b[0;31mRuntimeError\u001b[0m: module compiled against API version 0xe but this version of numpy is 0xd"
     ]
    }
   ],
   "source": [
    "import pandas as pd"
   ]
  },
  {
   "cell_type": "code",
   "execution_count": 28,
   "id": "987c5bf0",
   "metadata": {},
   "outputs": [
    {
     "data": {
      "text/html": [
       "<div>\n",
       "<style scoped>\n",
       "    .dataframe tbody tr th:only-of-type {\n",
       "        vertical-align: middle;\n",
       "    }\n",
       "\n",
       "    .dataframe tbody tr th {\n",
       "        vertical-align: top;\n",
       "    }\n",
       "\n",
       "    .dataframe thead th {\n",
       "        text-align: right;\n",
       "    }\n",
       "</style>\n",
       "<table border=\"1\" class=\"dataframe\">\n",
       "  <thead>\n",
       "    <tr style=\"text-align: right;\">\n",
       "      <th></th>\n",
       "      <th>energy</th>\n",
       "    </tr>\n",
       "  </thead>\n",
       "  <tbody>\n",
       "    <tr>\n",
       "      <th>0</th>\n",
       "      <td>0.001654</td>\n",
       "    </tr>\n",
       "    <tr>\n",
       "      <th>1</th>\n",
       "      <td>0.001394</td>\n",
       "    </tr>\n",
       "    <tr>\n",
       "      <th>2</th>\n",
       "      <td>0.004499</td>\n",
       "    </tr>\n",
       "    <tr>\n",
       "      <th>3</th>\n",
       "      <td>0.003483</td>\n",
       "    </tr>\n",
       "    <tr>\n",
       "      <th>4</th>\n",
       "      <td>0.020887</td>\n",
       "    </tr>\n",
       "  </tbody>\n",
       "</table>\n",
       "</div>"
      ],
      "text/plain": [
       "     energy\n",
       "0  0.001654\n",
       "1  0.001394\n",
       "2  0.004499\n",
       "3  0.003483\n",
       "4  0.020887"
      ]
     },
     "execution_count": 28,
     "metadata": {},
     "output_type": "execute_result"
    }
   ],
   "source": [
    "energy_df = pd.DataFrame(energy_, columns =[\"energy\"])\n",
    "energy_df.head()"
   ]
  },
  {
   "cell_type": "code",
   "execution_count": 29,
   "id": "a40b4e1e",
   "metadata": {},
   "outputs": [
    {
     "data": {
      "text/html": [
       "<div>\n",
       "<style scoped>\n",
       "    .dataframe tbody tr th:only-of-type {\n",
       "        vertical-align: middle;\n",
       "    }\n",
       "\n",
       "    .dataframe tbody tr th {\n",
       "        vertical-align: top;\n",
       "    }\n",
       "\n",
       "    .dataframe thead th {\n",
       "        text-align: right;\n",
       "    }\n",
       "</style>\n",
       "<table border=\"1\" class=\"dataframe\">\n",
       "  <thead>\n",
       "    <tr style=\"text-align: right;\">\n",
       "      <th></th>\n",
       "      <th>entropy</th>\n",
       "    </tr>\n",
       "  </thead>\n",
       "  <tbody>\n",
       "    <tr>\n",
       "      <th>0</th>\n",
       "      <td>2.229220</td>\n",
       "    </tr>\n",
       "    <tr>\n",
       "      <th>1</th>\n",
       "      <td>2.301087</td>\n",
       "    </tr>\n",
       "    <tr>\n",
       "      <th>2</th>\n",
       "      <td>1.750436</td>\n",
       "    </tr>\n",
       "    <tr>\n",
       "      <th>3</th>\n",
       "      <td>1.224093</td>\n",
       "    </tr>\n",
       "    <tr>\n",
       "      <th>4</th>\n",
       "      <td>1.447227</td>\n",
       "    </tr>\n",
       "  </tbody>\n",
       "</table>\n",
       "</div>"
      ],
      "text/plain": [
       "    entropy\n",
       "0  2.229220\n",
       "1  2.301087\n",
       "2  1.750436\n",
       "3  1.224093\n",
       "4  1.447227"
      ]
     },
     "execution_count": 29,
     "metadata": {},
     "output_type": "execute_result"
    }
   ],
   "source": [
    "entropy_df = pd.DataFrame(entropy_, columns =[\"entropy\"])\n",
    "entropy_df.head()"
   ]
  },
  {
   "cell_type": "code",
   "execution_count": 30,
   "id": "9b1a56d2",
   "metadata": {},
   "outputs": [
    {
     "data": {
      "text/html": [
       "<div>\n",
       "<style scoped>\n",
       "    .dataframe tbody tr th:only-of-type {\n",
       "        vertical-align: middle;\n",
       "    }\n",
       "\n",
       "    .dataframe tbody tr th {\n",
       "        vertical-align: top;\n",
       "    }\n",
       "\n",
       "    .dataframe thead th {\n",
       "        text-align: right;\n",
       "    }\n",
       "</style>\n",
       "<table border=\"1\" class=\"dataframe\">\n",
       "  <thead>\n",
       "    <tr style=\"text-align: right;\">\n",
       "      <th></th>\n",
       "      <th>spectral entropy</th>\n",
       "    </tr>\n",
       "  </thead>\n",
       "  <tbody>\n",
       "    <tr>\n",
       "      <th>0</th>\n",
       "      <td>0.024783</td>\n",
       "    </tr>\n",
       "    <tr>\n",
       "      <th>1</th>\n",
       "      <td>0.038685</td>\n",
       "    </tr>\n",
       "    <tr>\n",
       "      <th>2</th>\n",
       "      <td>0.077534</td>\n",
       "    </tr>\n",
       "    <tr>\n",
       "      <th>3</th>\n",
       "      <td>0.095695</td>\n",
       "    </tr>\n",
       "    <tr>\n",
       "      <th>4</th>\n",
       "      <td>0.127557</td>\n",
       "    </tr>\n",
       "  </tbody>\n",
       "</table>\n",
       "</div>"
      ],
      "text/plain": [
       "   spectral entropy\n",
       "0          0.024783\n",
       "1          0.038685\n",
       "2          0.077534\n",
       "3          0.095695\n",
       "4          0.127557"
      ]
     },
     "execution_count": 30,
     "metadata": {},
     "output_type": "execute_result"
    }
   ],
   "source": [
    "spec_ent_df = pd.DataFrame(spec_ent, columns = [\"spectral entropy\"])\n",
    "spec_ent_df.head()"
   ]
  },
  {
   "cell_type": "code",
   "execution_count": 31,
   "id": "dbbe04fe",
   "metadata": {},
   "outputs": [
    {
     "data": {
      "text/html": [
       "<div>\n",
       "<style scoped>\n",
       "    .dataframe tbody tr th:only-of-type {\n",
       "        vertical-align: middle;\n",
       "    }\n",
       "\n",
       "    .dataframe tbody tr th {\n",
       "        vertical-align: top;\n",
       "    }\n",
       "\n",
       "    .dataframe thead th {\n",
       "        text-align: right;\n",
       "    }\n",
       "</style>\n",
       "<table border=\"1\" class=\"dataframe\">\n",
       "  <thead>\n",
       "    <tr style=\"text-align: right;\">\n",
       "      <th></th>\n",
       "      <th>spectral rolloff</th>\n",
       "    </tr>\n",
       "  </thead>\n",
       "  <tbody>\n",
       "    <tr>\n",
       "      <th>0</th>\n",
       "      <td>0.02700</td>\n",
       "    </tr>\n",
       "    <tr>\n",
       "      <th>1</th>\n",
       "      <td>0.02925</td>\n",
       "    </tr>\n",
       "    <tr>\n",
       "      <th>2</th>\n",
       "      <td>0.04000</td>\n",
       "    </tr>\n",
       "    <tr>\n",
       "      <th>3</th>\n",
       "      <td>0.05710</td>\n",
       "    </tr>\n",
       "    <tr>\n",
       "      <th>4</th>\n",
       "      <td>0.06340</td>\n",
       "    </tr>\n",
       "  </tbody>\n",
       "</table>\n",
       "</div>"
      ],
      "text/plain": [
       "   spectral rolloff\n",
       "0           0.02700\n",
       "1           0.02925\n",
       "2           0.04000\n",
       "3           0.05710\n",
       "4           0.06340"
      ]
     },
     "execution_count": 31,
     "metadata": {},
     "output_type": "execute_result"
    }
   ],
   "source": [
    "rolloff_df = pd.DataFrame(rolloff, columns =[\"spectral rolloff\"])\n",
    "rolloff_df.head()"
   ]
  },
  {
   "cell_type": "code",
   "execution_count": 32,
   "id": "36947e26",
   "metadata": {},
   "outputs": [
    {
     "data": {
      "text/html": [
       "<div>\n",
       "<style scoped>\n",
       "    .dataframe tbody tr th:only-of-type {\n",
       "        vertical-align: middle;\n",
       "    }\n",
       "\n",
       "    .dataframe tbody tr th {\n",
       "        vertical-align: top;\n",
       "    }\n",
       "\n",
       "    .dataframe thead th {\n",
       "        text-align: right;\n",
       "    }\n",
       "</style>\n",
       "<table border=\"1\" class=\"dataframe\">\n",
       "  <thead>\n",
       "    <tr style=\"text-align: right;\">\n",
       "      <th></th>\n",
       "      <th>spectral centorid</th>\n",
       "    </tr>\n",
       "  </thead>\n",
       "  <tbody>\n",
       "    <tr>\n",
       "      <th>0</th>\n",
       "      <td>0.040884</td>\n",
       "    </tr>\n",
       "    <tr>\n",
       "      <th>1</th>\n",
       "      <td>0.047905</td>\n",
       "    </tr>\n",
       "    <tr>\n",
       "      <th>2</th>\n",
       "      <td>0.040482</td>\n",
       "    </tr>\n",
       "    <tr>\n",
       "      <th>3</th>\n",
       "      <td>0.044225</td>\n",
       "    </tr>\n",
       "    <tr>\n",
       "      <th>4</th>\n",
       "      <td>0.059677</td>\n",
       "    </tr>\n",
       "  </tbody>\n",
       "</table>\n",
       "</div>"
      ],
      "text/plain": [
       "   spectral centorid\n",
       "0           0.040884\n",
       "1           0.047905\n",
       "2           0.040482\n",
       "3           0.044225\n",
       "4           0.059677"
      ]
     },
     "execution_count": 32,
     "metadata": {},
     "output_type": "execute_result"
    }
   ],
   "source": [
    "centroid_df = pd.DataFrame(centroid, columns =[\"spectral centorid\"])\n",
    "centroid_df.head()"
   ]
  },
  {
   "cell_type": "code",
   "execution_count": 33,
   "id": "7f19cd46",
   "metadata": {},
   "outputs": [
    {
     "data": {
      "text/html": [
       "<div>\n",
       "<style scoped>\n",
       "    .dataframe tbody tr th:only-of-type {\n",
       "        vertical-align: middle;\n",
       "    }\n",
       "\n",
       "    .dataframe tbody tr th {\n",
       "        vertical-align: top;\n",
       "    }\n",
       "\n",
       "    .dataframe thead th {\n",
       "        text-align: right;\n",
       "    }\n",
       "</style>\n",
       "<table border=\"1\" class=\"dataframe\">\n",
       "  <thead>\n",
       "    <tr style=\"text-align: right;\">\n",
       "      <th></th>\n",
       "      <th>spectral spread</th>\n",
       "    </tr>\n",
       "  </thead>\n",
       "  <tbody>\n",
       "    <tr>\n",
       "      <th>0</th>\n",
       "      <td>0.085205</td>\n",
       "    </tr>\n",
       "    <tr>\n",
       "      <th>1</th>\n",
       "      <td>0.096823</td>\n",
       "    </tr>\n",
       "    <tr>\n",
       "      <th>2</th>\n",
       "      <td>0.042778</td>\n",
       "    </tr>\n",
       "    <tr>\n",
       "      <th>3</th>\n",
       "      <td>0.041563</td>\n",
       "    </tr>\n",
       "    <tr>\n",
       "      <th>4</th>\n",
       "      <td>0.035458</td>\n",
       "    </tr>\n",
       "  </tbody>\n",
       "</table>\n",
       "</div>"
      ],
      "text/plain": [
       "   spectral spread\n",
       "0         0.085205\n",
       "1         0.096823\n",
       "2         0.042778\n",
       "3         0.041563\n",
       "4         0.035458"
      ]
     },
     "execution_count": 33,
     "metadata": {},
     "output_type": "execute_result"
    }
   ],
   "source": [
    "spread_df = pd.DataFrame(spread, columns =[\"spectral spread\"])\n",
    "spread_df.head()"
   ]
  },
  {
   "cell_type": "markdown",
   "id": "23ebe6af",
   "metadata": {},
   "source": [
    "## Now concatenate all features"
   ]
  },
  {
   "cell_type": "code",
   "execution_count": 34,
   "id": "b5e8494e",
   "metadata": {},
   "outputs": [],
   "source": [
    "df = pd.concat([energy_df, entropy_df, spec_ent_df, rolloff_df, centroid_df, spread_df], axis =1)"
   ]
  },
  {
   "cell_type": "code",
   "execution_count": 35,
   "id": "451de005",
   "metadata": {},
   "outputs": [
    {
     "data": {
      "text/html": [
       "<div>\n",
       "<style scoped>\n",
       "    .dataframe tbody tr th:only-of-type {\n",
       "        vertical-align: middle;\n",
       "    }\n",
       "\n",
       "    .dataframe tbody tr th {\n",
       "        vertical-align: top;\n",
       "    }\n",
       "\n",
       "    .dataframe thead th {\n",
       "        text-align: right;\n",
       "    }\n",
       "</style>\n",
       "<table border=\"1\" class=\"dataframe\">\n",
       "  <thead>\n",
       "    <tr style=\"text-align: right;\">\n",
       "      <th></th>\n",
       "      <th>energy</th>\n",
       "      <th>entropy</th>\n",
       "      <th>spectral entropy</th>\n",
       "      <th>spectral rolloff</th>\n",
       "      <th>spectral centorid</th>\n",
       "      <th>spectral spread</th>\n",
       "    </tr>\n",
       "  </thead>\n",
       "  <tbody>\n",
       "    <tr>\n",
       "      <th>0</th>\n",
       "      <td>0.001654</td>\n",
       "      <td>2.229220</td>\n",
       "      <td>0.024783</td>\n",
       "      <td>0.02700</td>\n",
       "      <td>0.040884</td>\n",
       "      <td>0.085205</td>\n",
       "    </tr>\n",
       "    <tr>\n",
       "      <th>1</th>\n",
       "      <td>0.001394</td>\n",
       "      <td>2.301087</td>\n",
       "      <td>0.038685</td>\n",
       "      <td>0.02925</td>\n",
       "      <td>0.047905</td>\n",
       "      <td>0.096823</td>\n",
       "    </tr>\n",
       "    <tr>\n",
       "      <th>2</th>\n",
       "      <td>0.004499</td>\n",
       "      <td>1.750436</td>\n",
       "      <td>0.077534</td>\n",
       "      <td>0.04000</td>\n",
       "      <td>0.040482</td>\n",
       "      <td>0.042778</td>\n",
       "    </tr>\n",
       "    <tr>\n",
       "      <th>3</th>\n",
       "      <td>0.003483</td>\n",
       "      <td>1.224093</td>\n",
       "      <td>0.095695</td>\n",
       "      <td>0.05710</td>\n",
       "      <td>0.044225</td>\n",
       "      <td>0.041563</td>\n",
       "    </tr>\n",
       "    <tr>\n",
       "      <th>4</th>\n",
       "      <td>0.020887</td>\n",
       "      <td>1.447227</td>\n",
       "      <td>0.127557</td>\n",
       "      <td>0.06340</td>\n",
       "      <td>0.059677</td>\n",
       "      <td>0.035458</td>\n",
       "    </tr>\n",
       "    <tr>\n",
       "      <th>...</th>\n",
       "      <td>...</td>\n",
       "      <td>...</td>\n",
       "      <td>...</td>\n",
       "      <td>...</td>\n",
       "      <td>...</td>\n",
       "      <td>...</td>\n",
       "    </tr>\n",
       "    <tr>\n",
       "      <th>1200</th>\n",
       "      <td>0.049386</td>\n",
       "      <td>2.913031</td>\n",
       "      <td>0.003455</td>\n",
       "      <td>0.01245</td>\n",
       "      <td>0.022283</td>\n",
       "      <td>0.061172</td>\n",
       "    </tr>\n",
       "    <tr>\n",
       "      <th>1201</th>\n",
       "      <td>0.036694</td>\n",
       "      <td>2.950586</td>\n",
       "      <td>0.004319</td>\n",
       "      <td>0.01265</td>\n",
       "      <td>0.023515</td>\n",
       "      <td>0.061657</td>\n",
       "    </tr>\n",
       "    <tr>\n",
       "      <th>1202</th>\n",
       "      <td>0.046054</td>\n",
       "      <td>3.018884</td>\n",
       "      <td>0.004654</td>\n",
       "      <td>0.01095</td>\n",
       "      <td>0.039226</td>\n",
       "      <td>0.116328</td>\n",
       "    </tr>\n",
       "    <tr>\n",
       "      <th>1203</th>\n",
       "      <td>0.036297</td>\n",
       "      <td>2.993076</td>\n",
       "      <td>0.014952</td>\n",
       "      <td>0.01215</td>\n",
       "      <td>0.045749</td>\n",
       "      <td>0.119918</td>\n",
       "    </tr>\n",
       "    <tr>\n",
       "      <th>1204</th>\n",
       "      <td>0.033401</td>\n",
       "      <td>3.047971</td>\n",
       "      <td>0.027397</td>\n",
       "      <td>0.01215</td>\n",
       "      <td>0.028171</td>\n",
       "      <td>0.050162</td>\n",
       "    </tr>\n",
       "  </tbody>\n",
       "</table>\n",
       "<p>1205 rows × 6 columns</p>\n",
       "</div>"
      ],
      "text/plain": [
       "        energy   entropy  spectral entropy  spectral rolloff  \\\n",
       "0     0.001654  2.229220          0.024783           0.02700   \n",
       "1     0.001394  2.301087          0.038685           0.02925   \n",
       "2     0.004499  1.750436          0.077534           0.04000   \n",
       "3     0.003483  1.224093          0.095695           0.05710   \n",
       "4     0.020887  1.447227          0.127557           0.06340   \n",
       "...        ...       ...               ...               ...   \n",
       "1200  0.049386  2.913031          0.003455           0.01245   \n",
       "1201  0.036694  2.950586          0.004319           0.01265   \n",
       "1202  0.046054  3.018884          0.004654           0.01095   \n",
       "1203  0.036297  2.993076          0.014952           0.01215   \n",
       "1204  0.033401  3.047971          0.027397           0.01215   \n",
       "\n",
       "      spectral centorid  spectral spread  \n",
       "0              0.040884         0.085205  \n",
       "1              0.047905         0.096823  \n",
       "2              0.040482         0.042778  \n",
       "3              0.044225         0.041563  \n",
       "4              0.059677         0.035458  \n",
       "...                 ...              ...  \n",
       "1200           0.022283         0.061172  \n",
       "1201           0.023515         0.061657  \n",
       "1202           0.039226         0.116328  \n",
       "1203           0.045749         0.119918  \n",
       "1204           0.028171         0.050162  \n",
       "\n",
       "[1205 rows x 6 columns]"
      ]
     },
     "execution_count": 35,
     "metadata": {},
     "output_type": "execute_result"
    }
   ],
   "source": [
    "df"
   ]
  },
  {
   "cell_type": "code",
   "execution_count": 36,
   "id": "ded988a4",
   "metadata": {},
   "outputs": [],
   "source": [
    "df.to_csv(\"/Users/ecem/Desktop/phonocardiogram/data/TV/present/TV-time-domain-features.csv\" )"
   ]
  }
 ],
 "metadata": {
  "kernelspec": {
   "display_name": "Python 3 (ipykernel)",
   "language": "python",
   "name": "python3"
  },
  "language_info": {
   "codemirror_mode": {
    "name": "ipython",
    "version": 3
   },
   "file_extension": ".py",
   "mimetype": "text/x-python",
   "name": "python",
   "nbconvert_exporter": "python",
   "pygments_lexer": "ipython3",
   "version": "3.9.9"
  }
 },
 "nbformat": 4,
 "nbformat_minor": 5
}
