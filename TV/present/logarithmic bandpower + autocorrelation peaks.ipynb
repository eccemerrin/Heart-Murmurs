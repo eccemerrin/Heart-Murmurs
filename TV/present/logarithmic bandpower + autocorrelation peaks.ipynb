{
 "cells": [
  {
   "cell_type": "markdown",
   "id": "22c63b0d",
   "metadata": {},
   "source": [
    "## Computing the power spectral density\n",
    "\n",
    "In order to compute the average bandpower in the delta band, we first need to compute an estimate of the power spectral density. The most widely-used method to do that is the Welch's periodogram, which consists in averaging consecutive Fourier transform of small windows of the signal, with or without overlapping. \n",
    "\n",
    "A classic periodogram requires the spectral content of the signal to be stationnary (i.e. time-unvarying) over the time period considered. Because it is never the case, the periodogram is generally biased and contains way too much variance (see the end of this tutorial). By averaging the periodograms obtained over short segments of the windows, the Welch's method allows to drastically reduce this variance. This comes at the cost, however, of a lower frequency resolution.\n",
    "\n",
    "\n",
    "$$ F_{res} = \\frac{F_s}{N} = \\frac{F_s}{F_st} = \\frac{1}{t} $$\n",
    "\n",
    "How do we define the optimal window duration then? \n",
    "\n",
    "A commonly used approach is to take a window sufficiently long to encompasses at least two full cycles of the lowest frequency of interest."
   ]
  },
  {
   "cell_type": "code",
   "execution_count": 1,
   "id": "2e9acd3c",
   "metadata": {},
   "outputs": [],
   "source": [
    "import matplotlib.pyplot as plt\n",
    "import seaborn as sns\n",
    "import numpy as np\n",
    "sns.set(font_scale=1.2)\n",
    "import scipy.signal"
   ]
  },
  {
   "cell_type": "code",
   "execution_count": 2,
   "id": "5f9a7800",
   "metadata": {},
   "outputs": [],
   "source": [
    "path = \"/Users/ecem/Desktop/phonocardiogram/data/TV/present\""
   ]
  },
  {
   "cell_type": "code",
   "execution_count": 3,
   "id": "a473ad37",
   "metadata": {},
   "outputs": [],
   "source": [
    "waves = np.load(path + \"/present_TV_waves_10sec.npy\", allow_pickle= True)"
   ]
  },
  {
   "cell_type": "code",
   "execution_count": 4,
   "id": "e55a65f3",
   "metadata": {},
   "outputs": [],
   "source": [
    "n = waves.shape[0]"
   ]
  },
  {
   "cell_type": "code",
   "execution_count": 5,
   "id": "4e29b820",
   "metadata": {},
   "outputs": [
    {
     "data": {
      "text/plain": [
       "(129,)"
      ]
     },
     "execution_count": 5,
     "metadata": {},
     "output_type": "execute_result"
    }
   ],
   "source": [
    "f, Pxx = scipy.signal.welch(waves[1], fs=4000)\n",
    "f.shape"
   ]
  },
  {
   "cell_type": "markdown",
   "id": "498af6bf",
   "metadata": {},
   "source": [
    " Summation or integration of the spectral components yields the total power (for a physical process) or variance (in a statistical process), identical to what would be obtained by integrating\n",
    "$${\\displaystyle x^{2}(t)}$$ over the time domain"
   ]
  },
  {
   "cell_type": "code",
   "execution_count": 6,
   "id": "63b5497b",
   "metadata": {},
   "outputs": [
    {
     "data": {
      "text/plain": [
       "array([   1,    1,    1,    2,    2,    3,    4,    6,    8,   10,   13,\n",
       "         17,   23,   30,   39,   50,   66,   85,  111,  145,  188,  245,\n",
       "        318,  414,  538,  699,  909, 1181, 1535, 1995])"
      ]
     },
     "execution_count": 6,
     "metadata": {},
     "output_type": "execute_result"
    }
   ],
   "source": [
    "np.logspace(start = 0, stop = 3.3, num =30, dtype = int)"
   ]
  },
  {
   "cell_type": "code",
   "execution_count": 7,
   "id": "88d09fbf",
   "metadata": {},
   "outputs": [],
   "source": [
    "def bandpower_logsteps(x, fs, num_of_chunk = 20):\n",
    "    \n",
    "    f, Pxx = scipy.signal.welch(x, fs=fs)\n",
    "    \n",
    "    steps = np.logspace(start = 0, stop = 3.3, num = num_of_chunk)\n",
    "    \n",
    "    bandpowers = np.zeros((num_of_chunk-1))\n",
    "    \n",
    "    for i in range(num_of_chunk - 1):\n",
    "        fmin = float(steps[i])\n",
    "        fmax = float(steps[i+1])\n",
    "        \n",
    "        ind_min = np.argmax(f > fmin) - 1\n",
    "        ind_max = np.argmax(f > fmax) - 1\n",
    "        bandpowers[i] =  np.trapz(Pxx[ind_min:ind_max], f[ind_min:ind_max])\n",
    "    return bandpowers"
   ]
  },
  {
   "cell_type": "code",
   "execution_count": 8,
   "id": "9f5ea802",
   "metadata": {},
   "outputs": [
    {
     "data": {
      "text/plain": [
       "array([0.00000000e+00, 0.00000000e+00, 0.00000000e+00, 0.00000000e+00,\n",
       "       0.00000000e+00, 0.00000000e+00, 0.00000000e+00, 0.00000000e+00,\n",
       "       0.00000000e+00, 0.00000000e+00, 0.00000000e+00, 0.00000000e+00,\n",
       "       0.00000000e+00, 0.00000000e+00, 0.00000000e+00, 0.00000000e+00,\n",
       "       0.00000000e+00, 1.48049049e-05, 1.47997365e-05, 9.49630929e-06,\n",
       "       2.66730549e-06, 2.43944917e-06, 9.01902842e-08, 1.76452222e-12,\n",
       "       2.97445180e-13, 7.95567893e-14, 1.81094172e-14, 4.35339949e-15,\n",
       "       5.36490462e-16])"
      ]
     },
     "execution_count": 8,
     "metadata": {},
     "output_type": "execute_result"
    }
   ],
   "source": [
    "bandpower_logsteps(waves[20], 4000, 30)"
   ]
  },
  {
   "cell_type": "code",
   "execution_count": 9,
   "id": "d1cb8ded",
   "metadata": {},
   "outputs": [],
   "source": [
    "bp = np.empty((n, 29))\n",
    "for i in range(n):\n",
    "    bp[i,:] = bandpower_logsteps(waves[i], 4000, 30)"
   ]
  },
  {
   "cell_type": "code",
   "execution_count": 10,
   "id": "606f7515",
   "metadata": {},
   "outputs": [
    {
     "data": {
      "text/plain": [
       "array([0.00000000e+00, 0.00000000e+00, 0.00000000e+00, 0.00000000e+00,\n",
       "       0.00000000e+00, 0.00000000e+00, 0.00000000e+00, 0.00000000e+00,\n",
       "       0.00000000e+00, 0.00000000e+00, 0.00000000e+00, 0.00000000e+00,\n",
       "       0.00000000e+00, 0.00000000e+00, 0.00000000e+00, 0.00000000e+00,\n",
       "       0.00000000e+00, 1.48049049e-05, 1.47997365e-05, 9.49630929e-06,\n",
       "       2.66730549e-06, 2.43944917e-06, 9.01902842e-08, 1.76452222e-12,\n",
       "       2.97445180e-13, 7.95567893e-14, 1.81094172e-14, 4.35339949e-15,\n",
       "       5.36490462e-16])"
      ]
     },
     "execution_count": 10,
     "metadata": {},
     "output_type": "execute_result"
    }
   ],
   "source": [
    "#sanity check\n",
    "bp[20]"
   ]
  },
  {
   "cell_type": "markdown",
   "id": "e2a399ed",
   "metadata": {},
   "source": [
    "## Autocorrelation"
   ]
  },
  {
   "cell_type": "code",
   "execution_count": 11,
   "id": "9e7cdfe9",
   "metadata": {},
   "outputs": [],
   "source": [
    "from scipy import signal\n",
    "from scipy.signal import find_peaks"
   ]
  },
  {
   "cell_type": "code",
   "execution_count": 12,
   "id": "4086b64d",
   "metadata": {},
   "outputs": [],
   "source": [
    "autocorr = signal.fftconvolve(waves[0], waves[0], mode='same')\n",
    "autocorr_norm = autocorr / np.linalg.norm(autocorr )"
   ]
  },
  {
   "cell_type": "code",
   "execution_count": 13,
   "id": "32fcee6e",
   "metadata": {},
   "outputs": [
    {
     "data": {
      "text/plain": [
       "(40000,)"
      ]
     },
     "execution_count": 13,
     "metadata": {},
     "output_type": "execute_result"
    }
   ],
   "source": [
    "autocorr.shape"
   ]
  },
  {
   "cell_type": "code",
   "execution_count": 14,
   "id": "c1cfe679",
   "metadata": {},
   "outputs": [
    {
     "data": {
      "text/plain": [
       "40000"
      ]
     },
     "execution_count": 14,
     "metadata": {},
     "output_type": "execute_result"
    }
   ],
   "source": [
    "len(waves[0])"
   ]
  },
  {
   "cell_type": "code",
   "execution_count": 15,
   "id": "f4485c3d",
   "metadata": {},
   "outputs": [
    {
     "name": "stderr",
     "output_type": "stream",
     "text": [
      "/var/folders/gd/3d6ckpdn4q30skhxnvs_p7b80000gn/T/ipykernel_8479/2127519553.py:10: UserWarning: Matplotlib is currently using module://matplotlib_inline.backend_inline, which is a non-GUI backend, so cannot show the figure.\n",
      "  fig.show()\n"
     ]
    },
    {
     "data": {
      "image/png": "[encoded data removed]",
      "text/plain": [
       "<Figure size 432x288 with 3 Axes>"
      ]
     },
     "metadata": {},
     "output_type": "display_data"
    }
   ],
   "source": [
    "import matplotlib.pyplot as plt\n",
    ">>> fig, (ax_orig, ax_mag, ax_norm) = plt.subplots(3, 1)\n",
    ">>> ax_orig.plot(waves[0])\n",
    ">>> ax_orig.set_title('Signal')\n",
    ">>> ax_mag.plot(np.arange(0,len(waves[0])), autocorr)\n",
    ">>> ax_mag.set_title('Autocorrelation')\n",
    ">>> ax_norm.plot(np.arange(0,len(waves[0])), autocorr_norm)\n",
    ">>> ax_norm.set_title('Normalized Autocorrelation')\n",
    ">>> fig.tight_layout()\n",
    ">>> fig.show()"
   ]
  },
  {
   "cell_type": "code",
   "execution_count": 16,
   "id": "d5c82083",
   "metadata": {},
   "outputs": [],
   "source": [
    "peaks = find_peaks(autocorr_norm, height = 0.02)"
   ]
  },
  {
   "cell_type": "code",
   "execution_count": 17,
   "id": "c0879d1e",
   "metadata": {},
   "outputs": [
    {
     "data": {
      "text/plain": [
       "0.05567983537912369"
      ]
     },
     "execution_count": 17,
     "metadata": {},
     "output_type": "execute_result"
    }
   ],
   "source": [
    "peaks[1][\"peak_heights\"].max()"
   ]
  },
  {
   "cell_type": "code",
   "execution_count": 18,
   "id": "72ee4fc0",
   "metadata": {},
   "outputs": [
    {
     "data": {
      "image/png": "[encoded data removed]",
      "text/plain": [
       "<Figure size 432x288 with 1 Axes>"
      ]
     },
     "metadata": {},
     "output_type": "display_data"
    }
   ],
   "source": [
    ">>> plt.plot( autocorr_norm)\n",
    ">>> plt.plot(peaks[0], autocorr_norm[peaks[0]], \"x\")\n",
    ">>> plt.plot(np.zeros_like(autocorr_norm), \"--\", color=\"gray\")\n",
    ">>> plt.show()"
   ]
  },
  {
   "cell_type": "code",
   "execution_count": 19,
   "id": "522faa9d",
   "metadata": {
    "scrolled": true
   },
   "outputs": [],
   "source": [
    "maxx = np.empty((n))\n",
    "minn = np.empty((n))\n",
    "for i in range(waves.shape[0]):\n",
    "    auto_corr = signal.fftconvolve(waves[i], waves[i], mode='same')\n",
    "    norm = auto_corr / np.linalg.norm(auto_corr)\n",
    "    if find_peaks(norm, height = 0.01)[1][\"peak_heights\"].size == 0:\n",
    "        maxx[i] = 0\n",
    "        minn[i] = 0\n",
    "    else:\n",
    "        maxx[i] = find_peaks(norm, height = 0.01)[1][\"peak_heights\"].max()\n",
    "        minn[i] = find_peaks(norm, height = 0.01)[1][\"peak_heights\"].min()"
   ]
  },
  {
   "cell_type": "code",
   "execution_count": 20,
   "id": "42eaf131",
   "metadata": {},
   "outputs": [
    {
     "data": {
      "text/plain": [
       "array([0.05567984, 0.05561937, 0.05757016, ..., 0.02061178, 0.01576147,\n",
       "       0.02098539])"
      ]
     },
     "execution_count": 20,
     "metadata": {},
     "output_type": "execute_result"
    }
   ],
   "source": [
    "maxx"
   ]
  },
  {
   "cell_type": "markdown",
   "id": "7a62f088",
   "metadata": {},
   "source": [
    "## create dataframe"
   ]
  },
  {
   "cell_type": "code",
   "execution_count": 21,
   "id": "68b3e79b",
   "metadata": {},
   "outputs": [],
   "source": [
    "import pandas as pd"
   ]
  },
  {
   "cell_type": "code",
   "execution_count": 22,
   "id": "66c3a9f8",
   "metadata": {},
   "outputs": [
    {
     "data": {
      "text/html": [
       "<div>\n",
       "<style scoped>\n",
       "    .dataframe tbody tr th:only-of-type {\n",
       "        vertical-align: middle;\n",
       "    }\n",
       "\n",
       "    .dataframe tbody tr th {\n",
       "        vertical-align: top;\n",
       "    }\n",
       "\n",
       "    .dataframe thead th {\n",
       "        text-align: right;\n",
       "    }\n",
       "</style>\n",
       "<table border=\"1\" class=\"dataframe\">\n",
       "  <thead>\n",
       "    <tr style=\"text-align: right;\">\n",
       "      <th></th>\n",
       "      <th>peak max</th>\n",
       "    </tr>\n",
       "  </thead>\n",
       "  <tbody>\n",
       "    <tr>\n",
       "      <th>0</th>\n",
       "      <td>0.055680</td>\n",
       "    </tr>\n",
       "    <tr>\n",
       "      <th>1</th>\n",
       "      <td>0.055619</td>\n",
       "    </tr>\n",
       "    <tr>\n",
       "      <th>2</th>\n",
       "      <td>0.057570</td>\n",
       "    </tr>\n",
       "    <tr>\n",
       "      <th>3</th>\n",
       "      <td>0.064324</td>\n",
       "    </tr>\n",
       "    <tr>\n",
       "      <th>4</th>\n",
       "      <td>0.036447</td>\n",
       "    </tr>\n",
       "  </tbody>\n",
       "</table>\n",
       "</div>"
      ],
      "text/plain": [
       "   peak max\n",
       "0  0.055680\n",
       "1  0.055619\n",
       "2  0.057570\n",
       "3  0.064324\n",
       "4  0.036447"
      ]
     },
     "execution_count": 22,
     "metadata": {},
     "output_type": "execute_result"
    }
   ],
   "source": [
    "max_df = pd.DataFrame(maxx, columns =[\"peak max\"])\n",
    "max_df.head()"
   ]
  },
  {
   "cell_type": "code",
   "execution_count": 23,
   "id": "71cb6a11",
   "metadata": {},
   "outputs": [
    {
     "data": {
      "text/html": [
       "<div>\n",
       "<style scoped>\n",
       "    .dataframe tbody tr th:only-of-type {\n",
       "        vertical-align: middle;\n",
       "    }\n",
       "\n",
       "    .dataframe tbody tr th {\n",
       "        vertical-align: top;\n",
       "    }\n",
       "\n",
       "    .dataframe thead th {\n",
       "        text-align: right;\n",
       "    }\n",
       "</style>\n",
       "<table border=\"1\" class=\"dataframe\">\n",
       "  <thead>\n",
       "    <tr style=\"text-align: right;\">\n",
       "      <th></th>\n",
       "      <th>peak min</th>\n",
       "    </tr>\n",
       "  </thead>\n",
       "  <tbody>\n",
       "    <tr>\n",
       "      <th>0</th>\n",
       "      <td>0.011450</td>\n",
       "    </tr>\n",
       "    <tr>\n",
       "      <th>1</th>\n",
       "      <td>0.010142</td>\n",
       "    </tr>\n",
       "    <tr>\n",
       "      <th>2</th>\n",
       "      <td>0.010883</td>\n",
       "    </tr>\n",
       "    <tr>\n",
       "      <th>3</th>\n",
       "      <td>0.010140</td>\n",
       "    </tr>\n",
       "    <tr>\n",
       "      <th>4</th>\n",
       "      <td>0.010015</td>\n",
       "    </tr>\n",
       "  </tbody>\n",
       "</table>\n",
       "</div>"
      ],
      "text/plain": [
       "   peak min\n",
       "0  0.011450\n",
       "1  0.010142\n",
       "2  0.010883\n",
       "3  0.010140\n",
       "4  0.010015"
      ]
     },
     "execution_count": 23,
     "metadata": {},
     "output_type": "execute_result"
    }
   ],
   "source": [
    "min_df = pd.DataFrame(minn, columns =[\"peak min\"])\n",
    "min_df.head()"
   ]
  },
  {
   "cell_type": "code",
   "execution_count": 24,
   "id": "315dedc4",
   "metadata": {},
   "outputs": [],
   "source": [
    "columns = []\n",
    "for i in range(29):\n",
    "    columns.append(\"{}'th bandpower\".format(i))"
   ]
  },
  {
   "cell_type": "code",
   "execution_count": 25,
   "id": "4b80faee",
   "metadata": {},
   "outputs": [
    {
     "data": {
      "text/html": [
       "<div>\n",
       "<style scoped>\n",
       "    .dataframe tbody tr th:only-of-type {\n",
       "        vertical-align: middle;\n",
       "    }\n",
       "\n",
       "    .dataframe tbody tr th {\n",
       "        vertical-align: top;\n",
       "    }\n",
       "\n",
       "    .dataframe thead th {\n",
       "        text-align: right;\n",
       "    }\n",
       "</style>\n",
       "<table border=\"1\" class=\"dataframe\">\n",
       "  <thead>\n",
       "    <tr style=\"text-align: right;\">\n",
       "      <th></th>\n",
       "      <th>0'th bandpower</th>\n",
       "      <th>1'th bandpower</th>\n",
       "      <th>2'th bandpower</th>\n",
       "      <th>3'th bandpower</th>\n",
       "      <th>4'th bandpower</th>\n",
       "      <th>5'th bandpower</th>\n",
       "      <th>6'th bandpower</th>\n",
       "      <th>7'th bandpower</th>\n",
       "      <th>8'th bandpower</th>\n",
       "      <th>9'th bandpower</th>\n",
       "      <th>...</th>\n",
       "      <th>19'th bandpower</th>\n",
       "      <th>20'th bandpower</th>\n",
       "      <th>21'th bandpower</th>\n",
       "      <th>22'th bandpower</th>\n",
       "      <th>23'th bandpower</th>\n",
       "      <th>24'th bandpower</th>\n",
       "      <th>25'th bandpower</th>\n",
       "      <th>26'th bandpower</th>\n",
       "      <th>27'th bandpower</th>\n",
       "      <th>28'th bandpower</th>\n",
       "    </tr>\n",
       "  </thead>\n",
       "  <tbody>\n",
       "    <tr>\n",
       "      <th>0</th>\n",
       "      <td>0.0</td>\n",
       "      <td>0.0</td>\n",
       "      <td>0.0</td>\n",
       "      <td>0.0</td>\n",
       "      <td>0.0</td>\n",
       "      <td>0.0</td>\n",
       "      <td>0.0</td>\n",
       "      <td>0.0</td>\n",
       "      <td>0.0</td>\n",
       "      <td>0.0</td>\n",
       "      <td>...</td>\n",
       "      <td>0.000007</td>\n",
       "      <td>0.000002</td>\n",
       "      <td>0.000002</td>\n",
       "      <td>7.052678e-08</td>\n",
       "      <td>3.530842e-12</td>\n",
       "      <td>7.909010e-13</td>\n",
       "      <td>2.187894e-13</td>\n",
       "      <td>5.014277e-14</td>\n",
       "      <td>1.204118e-14</td>\n",
       "      <td>1.451404e-15</td>\n",
       "    </tr>\n",
       "    <tr>\n",
       "      <th>1</th>\n",
       "      <td>0.0</td>\n",
       "      <td>0.0</td>\n",
       "      <td>0.0</td>\n",
       "      <td>0.0</td>\n",
       "      <td>0.0</td>\n",
       "      <td>0.0</td>\n",
       "      <td>0.0</td>\n",
       "      <td>0.0</td>\n",
       "      <td>0.0</td>\n",
       "      <td>0.0</td>\n",
       "      <td>...</td>\n",
       "      <td>0.000012</td>\n",
       "      <td>0.000002</td>\n",
       "      <td>0.000003</td>\n",
       "      <td>1.663672e-07</td>\n",
       "      <td>2.360576e-12</td>\n",
       "      <td>3.382636e-13</td>\n",
       "      <td>8.435641e-14</td>\n",
       "      <td>1.849833e-14</td>\n",
       "      <td>4.353373e-15</td>\n",
       "      <td>5.435500e-16</td>\n",
       "    </tr>\n",
       "    <tr>\n",
       "      <th>2</th>\n",
       "      <td>0.0</td>\n",
       "      <td>0.0</td>\n",
       "      <td>0.0</td>\n",
       "      <td>0.0</td>\n",
       "      <td>0.0</td>\n",
       "      <td>0.0</td>\n",
       "      <td>0.0</td>\n",
       "      <td>0.0</td>\n",
       "      <td>0.0</td>\n",
       "      <td>0.0</td>\n",
       "      <td>...</td>\n",
       "      <td>0.000058</td>\n",
       "      <td>0.000028</td>\n",
       "      <td>0.000030</td>\n",
       "      <td>5.270511e-07</td>\n",
       "      <td>1.016309e-11</td>\n",
       "      <td>8.175889e-13</td>\n",
       "      <td>1.945639e-13</td>\n",
       "      <td>4.337523e-14</td>\n",
       "      <td>1.038496e-14</td>\n",
       "      <td>1.336442e-15</td>\n",
       "    </tr>\n",
       "    <tr>\n",
       "      <th>3</th>\n",
       "      <td>0.0</td>\n",
       "      <td>0.0</td>\n",
       "      <td>0.0</td>\n",
       "      <td>0.0</td>\n",
       "      <td>0.0</td>\n",
       "      <td>0.0</td>\n",
       "      <td>0.0</td>\n",
       "      <td>0.0</td>\n",
       "      <td>0.0</td>\n",
       "      <td>0.0</td>\n",
       "      <td>...</td>\n",
       "      <td>0.000063</td>\n",
       "      <td>0.000026</td>\n",
       "      <td>0.000020</td>\n",
       "      <td>8.287500e-07</td>\n",
       "      <td>2.461269e-11</td>\n",
       "      <td>2.568744e-12</td>\n",
       "      <td>5.470140e-13</td>\n",
       "      <td>1.107792e-13</td>\n",
       "      <td>2.509444e-14</td>\n",
       "      <td>2.981366e-15</td>\n",
       "    </tr>\n",
       "    <tr>\n",
       "      <th>4</th>\n",
       "      <td>0.0</td>\n",
       "      <td>0.0</td>\n",
       "      <td>0.0</td>\n",
       "      <td>0.0</td>\n",
       "      <td>0.0</td>\n",
       "      <td>0.0</td>\n",
       "      <td>0.0</td>\n",
       "      <td>0.0</td>\n",
       "      <td>0.0</td>\n",
       "      <td>0.0</td>\n",
       "      <td>...</td>\n",
       "      <td>0.000747</td>\n",
       "      <td>0.000175</td>\n",
       "      <td>0.000214</td>\n",
       "      <td>7.031534e-06</td>\n",
       "      <td>1.008054e-10</td>\n",
       "      <td>1.098971e-11</td>\n",
       "      <td>2.209599e-12</td>\n",
       "      <td>4.242343e-13</td>\n",
       "      <td>9.356539e-14</td>\n",
       "      <td>1.165488e-14</td>\n",
       "    </tr>\n",
       "  </tbody>\n",
       "</table>\n",
       "<p>5 rows × 29 columns</p>\n",
       "</div>"
      ],
      "text/plain": [
       "   0'th bandpower  1'th bandpower  2'th bandpower  3'th bandpower  \\\n",
       "0             0.0             0.0             0.0             0.0   \n",
       "1             0.0             0.0             0.0             0.0   \n",
       "2             0.0             0.0             0.0             0.0   \n",
       "3             0.0             0.0             0.0             0.0   \n",
       "4             0.0             0.0             0.0             0.0   \n",
       "\n",
       "   4'th bandpower  5'th bandpower  6'th bandpower  7'th bandpower  \\\n",
       "0             0.0             0.0             0.0             0.0   \n",
       "1             0.0             0.0             0.0             0.0   \n",
       "2             0.0             0.0             0.0             0.0   \n",
       "3             0.0             0.0             0.0             0.0   \n",
       "4             0.0             0.0             0.0             0.0   \n",
       "\n",
       "   8'th bandpower  9'th bandpower  ...  19'th bandpower  20'th bandpower  \\\n",
       "0             0.0             0.0  ...         0.000007         0.000002   \n",
       "1             0.0             0.0  ...         0.000012         0.000002   \n",
       "2             0.0             0.0  ...         0.000058         0.000028   \n",
       "3             0.0             0.0  ...         0.000063         0.000026   \n",
       "4             0.0             0.0  ...         0.000747         0.000175   \n",
       "\n",
       "   21'th bandpower  22'th bandpower  23'th bandpower  24'th bandpower  \\\n",
       "0         0.000002     7.052678e-08     3.530842e-12     7.909010e-13   \n",
       "1         0.000003     1.663672e-07     2.360576e-12     3.382636e-13   \n",
       "2         0.000030     5.270511e-07     1.016309e-11     8.175889e-13   \n",
       "3         0.000020     8.287500e-07     2.461269e-11     2.568744e-12   \n",
       "4         0.000214     7.031534e-06     1.008054e-10     1.098971e-11   \n",
       "\n",
       "   25'th bandpower  26'th bandpower  27'th bandpower  28'th bandpower  \n",
       "0     2.187894e-13     5.014277e-14     1.204118e-14     1.451404e-15  \n",
       "1     8.435641e-14     1.849833e-14     4.353373e-15     5.435500e-16  \n",
       "2     1.945639e-13     4.337523e-14     1.038496e-14     1.336442e-15  \n",
       "3     5.470140e-13     1.107792e-13     2.509444e-14     2.981366e-15  \n",
       "4     2.209599e-12     4.242343e-13     9.356539e-14     1.165488e-14  \n",
       "\n",
       "[5 rows x 29 columns]"
      ]
     },
     "execution_count": 25,
     "metadata": {},
     "output_type": "execute_result"
    }
   ],
   "source": [
    "bandpower_df = pd.DataFrame(bp, columns = columns)\n",
    "bandpower_df.head()"
   ]
  },
  {
   "cell_type": "code",
   "execution_count": 26,
   "id": "2f3b067d",
   "metadata": {},
   "outputs": [],
   "source": [
    "df = pd.concat([max_df, min_df, bandpower_df], axis =1)"
   ]
  },
  {
   "cell_type": "code",
   "execution_count": 27,
   "id": "1670312d",
   "metadata": {},
   "outputs": [
    {
     "data": {
      "text/html": [
       "<div>\n",
       "<style scoped>\n",
       "    .dataframe tbody tr th:only-of-type {\n",
       "        vertical-align: middle;\n",
       "    }\n",
       "\n",
       "    .dataframe tbody tr th {\n",
       "        vertical-align: top;\n",
       "    }\n",
       "\n",
       "    .dataframe thead th {\n",
       "        text-align: right;\n",
       "    }\n",
       "</style>\n",
       "<table border=\"1\" class=\"dataframe\">\n",
       "  <thead>\n",
       "    <tr style=\"text-align: right;\">\n",
       "      <th></th>\n",
       "      <th>peak max</th>\n",
       "      <th>peak min</th>\n",
       "      <th>0'th bandpower</th>\n",
       "      <th>1'th bandpower</th>\n",
       "      <th>2'th bandpower</th>\n",
       "      <th>3'th bandpower</th>\n",
       "      <th>4'th bandpower</th>\n",
       "      <th>5'th bandpower</th>\n",
       "      <th>6'th bandpower</th>\n",
       "      <th>7'th bandpower</th>\n",
       "      <th>...</th>\n",
       "      <th>19'th bandpower</th>\n",
       "      <th>20'th bandpower</th>\n",
       "      <th>21'th bandpower</th>\n",
       "      <th>22'th bandpower</th>\n",
       "      <th>23'th bandpower</th>\n",
       "      <th>24'th bandpower</th>\n",
       "      <th>25'th bandpower</th>\n",
       "      <th>26'th bandpower</th>\n",
       "      <th>27'th bandpower</th>\n",
       "      <th>28'th bandpower</th>\n",
       "    </tr>\n",
       "  </thead>\n",
       "  <tbody>\n",
       "    <tr>\n",
       "      <th>0</th>\n",
       "      <td>0.055680</td>\n",
       "      <td>0.011450</td>\n",
       "      <td>0.0</td>\n",
       "      <td>0.0</td>\n",
       "      <td>0.0</td>\n",
       "      <td>0.0</td>\n",
       "      <td>0.0</td>\n",
       "      <td>0.0</td>\n",
       "      <td>0.0</td>\n",
       "      <td>0.0</td>\n",
       "      <td>...</td>\n",
       "      <td>0.000007</td>\n",
       "      <td>0.000002</td>\n",
       "      <td>0.000002</td>\n",
       "      <td>7.052678e-08</td>\n",
       "      <td>3.530842e-12</td>\n",
       "      <td>7.909010e-13</td>\n",
       "      <td>2.187894e-13</td>\n",
       "      <td>5.014277e-14</td>\n",
       "      <td>1.204118e-14</td>\n",
       "      <td>1.451404e-15</td>\n",
       "    </tr>\n",
       "    <tr>\n",
       "      <th>1</th>\n",
       "      <td>0.055619</td>\n",
       "      <td>0.010142</td>\n",
       "      <td>0.0</td>\n",
       "      <td>0.0</td>\n",
       "      <td>0.0</td>\n",
       "      <td>0.0</td>\n",
       "      <td>0.0</td>\n",
       "      <td>0.0</td>\n",
       "      <td>0.0</td>\n",
       "      <td>0.0</td>\n",
       "      <td>...</td>\n",
       "      <td>0.000012</td>\n",
       "      <td>0.000002</td>\n",
       "      <td>0.000003</td>\n",
       "      <td>1.663672e-07</td>\n",
       "      <td>2.360576e-12</td>\n",
       "      <td>3.382636e-13</td>\n",
       "      <td>8.435641e-14</td>\n",
       "      <td>1.849833e-14</td>\n",
       "      <td>4.353373e-15</td>\n",
       "      <td>5.435500e-16</td>\n",
       "    </tr>\n",
       "    <tr>\n",
       "      <th>2</th>\n",
       "      <td>0.057570</td>\n",
       "      <td>0.010883</td>\n",
       "      <td>0.0</td>\n",
       "      <td>0.0</td>\n",
       "      <td>0.0</td>\n",
       "      <td>0.0</td>\n",
       "      <td>0.0</td>\n",
       "      <td>0.0</td>\n",
       "      <td>0.0</td>\n",
       "      <td>0.0</td>\n",
       "      <td>...</td>\n",
       "      <td>0.000058</td>\n",
       "      <td>0.000028</td>\n",
       "      <td>0.000030</td>\n",
       "      <td>5.270511e-07</td>\n",
       "      <td>1.016309e-11</td>\n",
       "      <td>8.175889e-13</td>\n",
       "      <td>1.945639e-13</td>\n",
       "      <td>4.337523e-14</td>\n",
       "      <td>1.038496e-14</td>\n",
       "      <td>1.336442e-15</td>\n",
       "    </tr>\n",
       "    <tr>\n",
       "      <th>3</th>\n",
       "      <td>0.064324</td>\n",
       "      <td>0.010140</td>\n",
       "      <td>0.0</td>\n",
       "      <td>0.0</td>\n",
       "      <td>0.0</td>\n",
       "      <td>0.0</td>\n",
       "      <td>0.0</td>\n",
       "      <td>0.0</td>\n",
       "      <td>0.0</td>\n",
       "      <td>0.0</td>\n",
       "      <td>...</td>\n",
       "      <td>0.000063</td>\n",
       "      <td>0.000026</td>\n",
       "      <td>0.000020</td>\n",
       "      <td>8.287500e-07</td>\n",
       "      <td>2.461269e-11</td>\n",
       "      <td>2.568744e-12</td>\n",
       "      <td>5.470140e-13</td>\n",
       "      <td>1.107792e-13</td>\n",
       "      <td>2.509444e-14</td>\n",
       "      <td>2.981366e-15</td>\n",
       "    </tr>\n",
       "    <tr>\n",
       "      <th>4</th>\n",
       "      <td>0.036447</td>\n",
       "      <td>0.010015</td>\n",
       "      <td>0.0</td>\n",
       "      <td>0.0</td>\n",
       "      <td>0.0</td>\n",
       "      <td>0.0</td>\n",
       "      <td>0.0</td>\n",
       "      <td>0.0</td>\n",
       "      <td>0.0</td>\n",
       "      <td>0.0</td>\n",
       "      <td>...</td>\n",
       "      <td>0.000747</td>\n",
       "      <td>0.000175</td>\n",
       "      <td>0.000214</td>\n",
       "      <td>7.031534e-06</td>\n",
       "      <td>1.008054e-10</td>\n",
       "      <td>1.098971e-11</td>\n",
       "      <td>2.209599e-12</td>\n",
       "      <td>4.242343e-13</td>\n",
       "      <td>9.356539e-14</td>\n",
       "      <td>1.165488e-14</td>\n",
       "    </tr>\n",
       "    <tr>\n",
       "      <th>...</th>\n",
       "      <td>...</td>\n",
       "      <td>...</td>\n",
       "      <td>...</td>\n",
       "      <td>...</td>\n",
       "      <td>...</td>\n",
       "      <td>...</td>\n",
       "      <td>...</td>\n",
       "      <td>...</td>\n",
       "      <td>...</td>\n",
       "      <td>...</td>\n",
       "      <td>...</td>\n",
       "      <td>...</td>\n",
       "      <td>...</td>\n",
       "      <td>...</td>\n",
       "      <td>...</td>\n",
       "      <td>...</td>\n",
       "      <td>...</td>\n",
       "      <td>...</td>\n",
       "      <td>...</td>\n",
       "      <td>...</td>\n",
       "      <td>...</td>\n",
       "    </tr>\n",
       "    <tr>\n",
       "      <th>1200</th>\n",
       "      <td>0.021617</td>\n",
       "      <td>0.010008</td>\n",
       "      <td>0.0</td>\n",
       "      <td>0.0</td>\n",
       "      <td>0.0</td>\n",
       "      <td>0.0</td>\n",
       "      <td>0.0</td>\n",
       "      <td>0.0</td>\n",
       "      <td>0.0</td>\n",
       "      <td>0.0</td>\n",
       "      <td>...</td>\n",
       "      <td>0.000009</td>\n",
       "      <td>0.000006</td>\n",
       "      <td>0.000007</td>\n",
       "      <td>2.618114e-07</td>\n",
       "      <td>3.835486e-11</td>\n",
       "      <td>9.581233e-12</td>\n",
       "      <td>2.714072e-12</td>\n",
       "      <td>6.293829e-13</td>\n",
       "      <td>1.521620e-13</td>\n",
       "      <td>1.865475e-14</td>\n",
       "    </tr>\n",
       "    <tr>\n",
       "      <th>1201</th>\n",
       "      <td>0.016234</td>\n",
       "      <td>0.010121</td>\n",
       "      <td>0.0</td>\n",
       "      <td>0.0</td>\n",
       "      <td>0.0</td>\n",
       "      <td>0.0</td>\n",
       "      <td>0.0</td>\n",
       "      <td>0.0</td>\n",
       "      <td>0.0</td>\n",
       "      <td>0.0</td>\n",
       "      <td>...</td>\n",
       "      <td>0.000012</td>\n",
       "      <td>0.000006</td>\n",
       "      <td>0.000005</td>\n",
       "      <td>3.228070e-07</td>\n",
       "      <td>3.461051e-11</td>\n",
       "      <td>8.612623e-12</td>\n",
       "      <td>2.450093e-12</td>\n",
       "      <td>5.694388e-13</td>\n",
       "      <td>1.378679e-13</td>\n",
       "      <td>1.683871e-14</td>\n",
       "    </tr>\n",
       "    <tr>\n",
       "      <th>1202</th>\n",
       "      <td>0.020612</td>\n",
       "      <td>0.010439</td>\n",
       "      <td>0.0</td>\n",
       "      <td>0.0</td>\n",
       "      <td>0.0</td>\n",
       "      <td>0.0</td>\n",
       "      <td>0.0</td>\n",
       "      <td>0.0</td>\n",
       "      <td>0.0</td>\n",
       "      <td>0.0</td>\n",
       "      <td>...</td>\n",
       "      <td>0.000007</td>\n",
       "      <td>0.000004</td>\n",
       "      <td>0.000006</td>\n",
       "      <td>1.266073e-07</td>\n",
       "      <td>4.692765e-11</td>\n",
       "      <td>1.176325e-11</td>\n",
       "      <td>3.336666e-12</td>\n",
       "      <td>7.740218e-13</td>\n",
       "      <td>1.871832e-13</td>\n",
       "      <td>2.280648e-14</td>\n",
       "    </tr>\n",
       "    <tr>\n",
       "      <th>1203</th>\n",
       "      <td>0.015761</td>\n",
       "      <td>0.010131</td>\n",
       "      <td>0.0</td>\n",
       "      <td>0.0</td>\n",
       "      <td>0.0</td>\n",
       "      <td>0.0</td>\n",
       "      <td>0.0</td>\n",
       "      <td>0.0</td>\n",
       "      <td>0.0</td>\n",
       "      <td>0.0</td>\n",
       "      <td>...</td>\n",
       "      <td>0.000030</td>\n",
       "      <td>0.000022</td>\n",
       "      <td>0.000021</td>\n",
       "      <td>7.804571e-07</td>\n",
       "      <td>3.649793e-11</td>\n",
       "      <td>8.348918e-12</td>\n",
       "      <td>2.341760e-12</td>\n",
       "      <td>5.415036e-13</td>\n",
       "      <td>1.306791e-13</td>\n",
       "      <td>1.597827e-14</td>\n",
       "    </tr>\n",
       "    <tr>\n",
       "      <th>1204</th>\n",
       "      <td>0.020985</td>\n",
       "      <td>0.010072</td>\n",
       "      <td>0.0</td>\n",
       "      <td>0.0</td>\n",
       "      <td>0.0</td>\n",
       "      <td>0.0</td>\n",
       "      <td>0.0</td>\n",
       "      <td>0.0</td>\n",
       "      <td>0.0</td>\n",
       "      <td>0.0</td>\n",
       "      <td>...</td>\n",
       "      <td>0.000039</td>\n",
       "      <td>0.000031</td>\n",
       "      <td>0.000040</td>\n",
       "      <td>1.579715e-06</td>\n",
       "      <td>3.207894e-11</td>\n",
       "      <td>7.526305e-12</td>\n",
       "      <td>2.120560e-12</td>\n",
       "      <td>4.913675e-13</td>\n",
       "      <td>1.186663e-13</td>\n",
       "      <td>1.456028e-14</td>\n",
       "    </tr>\n",
       "  </tbody>\n",
       "</table>\n",
       "<p>1205 rows × 31 columns</p>\n",
       "</div>"
      ],
      "text/plain": [
       "      peak max  peak min  0'th bandpower  1'th bandpower  2'th bandpower  \\\n",
       "0     0.055680  0.011450             0.0             0.0             0.0   \n",
       "1     0.055619  0.010142             0.0             0.0             0.0   \n",
       "2     0.057570  0.010883             0.0             0.0             0.0   \n",
       "3     0.064324  0.010140             0.0             0.0             0.0   \n",
       "4     0.036447  0.010015             0.0             0.0             0.0   \n",
       "...        ...       ...             ...             ...             ...   \n",
       "1200  0.021617  0.010008             0.0             0.0             0.0   \n",
       "1201  0.016234  0.010121             0.0             0.0             0.0   \n",
       "1202  0.020612  0.010439             0.0             0.0             0.0   \n",
       "1203  0.015761  0.010131             0.0             0.0             0.0   \n",
       "1204  0.020985  0.010072             0.0             0.0             0.0   \n",
       "\n",
       "      3'th bandpower  4'th bandpower  5'th bandpower  6'th bandpower  \\\n",
       "0                0.0             0.0             0.0             0.0   \n",
       "1                0.0             0.0             0.0             0.0   \n",
       "2                0.0             0.0             0.0             0.0   \n",
       "3                0.0             0.0             0.0             0.0   \n",
       "4                0.0             0.0             0.0             0.0   \n",
       "...              ...             ...             ...             ...   \n",
       "1200             0.0             0.0             0.0             0.0   \n",
       "1201             0.0             0.0             0.0             0.0   \n",
       "1202             0.0             0.0             0.0             0.0   \n",
       "1203             0.0             0.0             0.0             0.0   \n",
       "1204             0.0             0.0             0.0             0.0   \n",
       "\n",
       "      7'th bandpower  ...  19'th bandpower  20'th bandpower  21'th bandpower  \\\n",
       "0                0.0  ...         0.000007         0.000002         0.000002   \n",
       "1                0.0  ...         0.000012         0.000002         0.000003   \n",
       "2                0.0  ...         0.000058         0.000028         0.000030   \n",
       "3                0.0  ...         0.000063         0.000026         0.000020   \n",
       "4                0.0  ...         0.000747         0.000175         0.000214   \n",
       "...              ...  ...              ...              ...              ...   \n",
       "1200             0.0  ...         0.000009         0.000006         0.000007   \n",
       "1201             0.0  ...         0.000012         0.000006         0.000005   \n",
       "1202             0.0  ...         0.000007         0.000004         0.000006   \n",
       "1203             0.0  ...         0.000030         0.000022         0.000021   \n",
       "1204             0.0  ...         0.000039         0.000031         0.000040   \n",
       "\n",
       "      22'th bandpower  23'th bandpower  24'th bandpower  25'th bandpower  \\\n",
       "0        7.052678e-08     3.530842e-12     7.909010e-13     2.187894e-13   \n",
       "1        1.663672e-07     2.360576e-12     3.382636e-13     8.435641e-14   \n",
       "2        5.270511e-07     1.016309e-11     8.175889e-13     1.945639e-13   \n",
       "3        8.287500e-07     2.461269e-11     2.568744e-12     5.470140e-13   \n",
       "4        7.031534e-06     1.008054e-10     1.098971e-11     2.209599e-12   \n",
       "...               ...              ...              ...              ...   \n",
       "1200     2.618114e-07     3.835486e-11     9.581233e-12     2.714072e-12   \n",
       "1201     3.228070e-07     3.461051e-11     8.612623e-12     2.450093e-12   \n",
       "1202     1.266073e-07     4.692765e-11     1.176325e-11     3.336666e-12   \n",
       "1203     7.804571e-07     3.649793e-11     8.348918e-12     2.341760e-12   \n",
       "1204     1.579715e-06     3.207894e-11     7.526305e-12     2.120560e-12   \n",
       "\n",
       "      26'th bandpower  27'th bandpower  28'th bandpower  \n",
       "0        5.014277e-14     1.204118e-14     1.451404e-15  \n",
       "1        1.849833e-14     4.353373e-15     5.435500e-16  \n",
       "2        4.337523e-14     1.038496e-14     1.336442e-15  \n",
       "3        1.107792e-13     2.509444e-14     2.981366e-15  \n",
       "4        4.242343e-13     9.356539e-14     1.165488e-14  \n",
       "...               ...              ...              ...  \n",
       "1200     6.293829e-13     1.521620e-13     1.865475e-14  \n",
       "1201     5.694388e-13     1.378679e-13     1.683871e-14  \n",
       "1202     7.740218e-13     1.871832e-13     2.280648e-14  \n",
       "1203     5.415036e-13     1.306791e-13     1.597827e-14  \n",
       "1204     4.913675e-13     1.186663e-13     1.456028e-14  \n",
       "\n",
       "[1205 rows x 31 columns]"
      ]
     },
     "execution_count": 27,
     "metadata": {},
     "output_type": "execute_result"
    }
   ],
   "source": [
    "df"
   ]
  },
  {
   "cell_type": "code",
   "execution_count": 28,
   "id": "6777e97a",
   "metadata": {},
   "outputs": [],
   "source": [
    "df.to_csv(\"/Users/ecem/Desktop/phonocardiogram/data/TV/present/TV-bandpower-and-peaks.csv\" )"
   ]
  },
  {
   "cell_type": "code",
   "execution_count": null,
   "id": "c9d1f7ef",
   "metadata": {},
   "outputs": [],
   "source": []
  },
  {
   "cell_type": "code",
   "execution_count": null,
   "id": "80c8f395",
   "metadata": {},
   "outputs": [],
   "source": []
  }
 ],
 "metadata": {
  "kernelspec": {
   "display_name": "Python 3 (ipykernel)",
   "language": "python",
   "name": "python3"
  },
  "language_info": {
   "codemirror_mode": {
    "name": "ipython",
    "version": 3
   },
   "file_extension": ".py",
   "mimetype": "text/x-python",
   "name": "python",
   "nbconvert_exporter": "python",
   "pygments_lexer": "ipython3",
   "version": "3.9.9"
  }
 },
 "nbformat": 4,
 "nbformat_minor": 5
}
