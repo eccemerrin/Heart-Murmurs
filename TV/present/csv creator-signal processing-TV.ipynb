{
 "cells": [
  {
   "cell_type": "markdown",
   "id": "a10707b4",
   "metadata": {},
   "source": [
    "## Imports:"
   ]
  },
  {
   "cell_type": "code",
   "execution_count": 1,
   "id": "5b0b2dcc",
   "metadata": {},
   "outputs": [
    {
     "ename": "RuntimeError",
     "evalue": "module compiled against API version 0xe but this version of numpy is 0xd",
     "output_type": "error",
     "traceback": [
      "\u001b[0;31m---------------------------------------------------------------------------\u001b[0m",
      "\u001b[0;31mRuntimeError\u001b[0m                              Traceback (most recent call last)",
      "\u001b[0;31mRuntimeError\u001b[0m: module compiled against API version 0xe but this version of numpy is 0xd"
     ]
    }
   ],
   "source": [
    "import scipy.io\n",
    "import os\n",
    "import pandas\n",
    "import numpy as np\n",
    "import matplotlib.pyplot as plt\n",
    "import matplotlib.pylab as plt_lab\n",
    "import matplotlib.gridspec as gridspec\n",
    "import obspy\n",
    "import pandas as pd"
   ]
  },
  {
   "cell_type": "code",
   "execution_count": 2,
   "id": "995724bf",
   "metadata": {},
   "outputs": [],
   "source": [
    "import warnings\n",
    "warnings.filterwarnings('ignore')"
   ]
  },
  {
   "cell_type": "markdown",
   "id": "41b4c77f",
   "metadata": {},
   "source": [
    "## Load data:\n",
    "We are going to use this data to plot spectograms of SCG signals. "
   ]
  },
  {
   "cell_type": "code",
   "execution_count": 3,
   "id": "75a415fd",
   "metadata": {},
   "outputs": [],
   "source": [
    "path = \"/Users/ecem/Desktop/phonocardiogram/data/TV/present\""
   ]
  },
  {
   "cell_type": "code",
   "execution_count": 4,
   "id": "cff5b561",
   "metadata": {},
   "outputs": [],
   "source": [
    "waves = np.load(path + \"/present_TV_waves_10sec.npy\", allow_pickle= True)\n"
   ]
  },
  {
   "cell_type": "code",
   "execution_count": 5,
   "id": "557b6190",
   "metadata": {},
   "outputs": [
    {
     "name": "stdout",
     "output_type": "stream",
     "text": [
      "(1205, 40000)\n"
     ]
    }
   ],
   "source": [
    "print(waves.shape)\n"
   ]
  },
  {
   "cell_type": "markdown",
   "id": "1b2a6059",
   "metadata": {},
   "source": [
    "## Zero Crossing Rate:\n",
    "Compute the zero-crossing rate of an audio time series.\n",
    "The zero-crossing rate (ZCR) is the rate at which a signal changes from positive to zero to negative or from negative to zero to positive."
   ]
  },
  {
   "cell_type": "code",
   "execution_count": 6,
   "id": "7c9b734f",
   "metadata": {},
   "outputs": [],
   "source": [
    "import librosa as lbs"
   ]
  },
  {
   "cell_type": "code",
   "execution_count": 7,
   "id": "23a0bede",
   "metadata": {},
   "outputs": [
    {
     "data": {
      "text/plain": [
       "array([[0.014375, 0.030375, 0.03925 , 0.03725 ]])"
      ]
     },
     "execution_count": 7,
     "metadata": {},
     "output_type": "execute_result"
    }
   ],
   "source": [
    "lbs.feature.zero_crossing_rate(waves[7],frame_length= 8000, hop_length = 12000)"
   ]
  },
  {
   "cell_type": "code",
   "execution_count": 8,
   "id": "b2a61800",
   "metadata": {},
   "outputs": [
    {
     "data": {
      "text/plain": [
       "(1, 4)"
      ]
     },
     "execution_count": 8,
     "metadata": {},
     "output_type": "execute_result"
    }
   ],
   "source": [
    "lbs.feature.zero_crossing_rate(waves[7], frame_length= 8000, hop_length = 12000).shape"
   ]
  },
  {
   "cell_type": "code",
   "execution_count": 9,
   "id": "cc79deea",
   "metadata": {},
   "outputs": [],
   "source": [
    "def zero_crossing(array, frame_length= 2048, hl = 512):\n",
    "    zero_crossing_rate = np.ones(shape = (array.shape[0], 5)) #buradaki ikinci sayı hop lenght e göre değişmeli \n",
    "\n",
    "    for i in range(array.shape[0]):\n",
    "        zero_crossing_rate[i][0:4] = lbs.feature.zero_crossing_rate(array[i],  frame_length = frame_length,\n",
    "                                                                    hop_length = hl)\n",
    "        zero_crossing_rate[i][4] = sum(lbs.zero_crossings(array[i]))\n",
    "    return zero_crossing_rate\n",
    "\n",
    "        "
   ]
  },
  {
   "cell_type": "code",
   "execution_count": 10,
   "id": "3badd449",
   "metadata": {},
   "outputs": [],
   "source": [
    "zcrs = zero_crossing(waves, 8000, hl = 12000) #çok uzun sürüyor, ya datayı kısaltmalıyız ya da hop lenght artmalı"
   ]
  },
  {
   "cell_type": "code",
   "execution_count": 11,
   "id": "5a0decad",
   "metadata": {},
   "outputs": [
    {
     "data": {
      "text/plain": [
       "numpy.ndarray"
      ]
     },
     "execution_count": 11,
     "metadata": {},
     "output_type": "execute_result"
    }
   ],
   "source": [
    "type(zcrs[0])"
   ]
  },
  {
   "cell_type": "code",
   "execution_count": 12,
   "id": "ef9d104e",
   "metadata": {},
   "outputs": [],
   "source": [
    "np.save(path + \"/present_TV_zcrs_array\", zcrs, allow_pickle= True)"
   ]
  },
  {
   "cell_type": "code",
   "execution_count": 13,
   "id": "58e4c21a",
   "metadata": {},
   "outputs": [
    {
     "name": "stdout",
     "output_type": "stream",
     "text": [
      "['zcrs0', 'zcrs1', 'zcrs2', 'zcrs3', '#ofcrossing']\n"
     ]
    }
   ],
   "source": [
    "columns_zcr = []\n",
    "for i in range(zcrs.shape[1]-1):\n",
    "    columns_zcr.append(\"zcrs{}\".format(i))\n",
    "\n",
    "    \n",
    "columns_zcr.append(\"#ofcrossing\")\n",
    "\n",
    "print(columns_zcr)"
   ]
  },
  {
   "cell_type": "code",
   "execution_count": 14,
   "id": "e07f721f",
   "metadata": {},
   "outputs": [
    {
     "data": {
      "text/plain": [
       "array([1.4375e-02, 3.0375e-02, 3.9250e-02, 3.7250e-02, 1.3410e+03])"
      ]
     },
     "execution_count": 14,
     "metadata": {},
     "output_type": "execute_result"
    }
   ],
   "source": [
    "zcrs[7]"
   ]
  },
  {
   "cell_type": "code",
   "execution_count": 15,
   "id": "14c76313",
   "metadata": {},
   "outputs": [],
   "source": [
    "def dataframe_creator(array, df = pd.DataFrame(), l = 7, columns = None):\n",
    "    values = []\n",
    "\n",
    "    for i in range(array.shape[0]):\n",
    "        llist = list(array[i][0:l-1].tolist())\n",
    "        llist.append(array[i][l-1])\n",
    "        \n",
    "        values.append(llist)\n",
    "        medium = pd.DataFrame([values[i]], columns = columns)\n",
    "        \n",
    "        \n",
    "        df = pd.concat([df, medium], axis = 0)\n",
    "    return df "
   ]
  },
  {
   "cell_type": "code",
   "execution_count": 16,
   "id": "40eb5d7a",
   "metadata": {},
   "outputs": [],
   "source": [
    "df = dataframe_creator(zcrs, l =5,  columns = columns_zcr)\n",
    "\n",
    "df.reset_index(drop = True, inplace = True)"
   ]
  },
  {
   "cell_type": "code",
   "execution_count": 17,
   "id": "58c4ea98",
   "metadata": {},
   "outputs": [
    {
     "data": {
      "text/html": [
       "<div>\n",
       "<style scoped>\n",
       "    .dataframe tbody tr th:only-of-type {\n",
       "        vertical-align: middle;\n",
       "    }\n",
       "\n",
       "    .dataframe tbody tr th {\n",
       "        vertical-align: top;\n",
       "    }\n",
       "\n",
       "    .dataframe thead th {\n",
       "        text-align: right;\n",
       "    }\n",
       "</style>\n",
       "<table border=\"1\" class=\"dataframe\">\n",
       "  <thead>\n",
       "    <tr style=\"text-align: right;\">\n",
       "      <th></th>\n",
       "      <th>zcrs0</th>\n",
       "      <th>zcrs1</th>\n",
       "      <th>zcrs2</th>\n",
       "      <th>zcrs3</th>\n",
       "      <th>#ofcrossing</th>\n",
       "    </tr>\n",
       "  </thead>\n",
       "  <tbody>\n",
       "    <tr>\n",
       "      <th>0</th>\n",
       "      <td>0.014375</td>\n",
       "      <td>0.045625</td>\n",
       "      <td>0.047750</td>\n",
       "      <td>0.047875</td>\n",
       "      <td>1775.0</td>\n",
       "    </tr>\n",
       "    <tr>\n",
       "      <th>1</th>\n",
       "      <td>0.018250</td>\n",
       "      <td>0.039250</td>\n",
       "      <td>0.049000</td>\n",
       "      <td>0.051250</td>\n",
       "      <td>1784.0</td>\n",
       "    </tr>\n",
       "    <tr>\n",
       "      <th>2</th>\n",
       "      <td>0.019625</td>\n",
       "      <td>0.038125</td>\n",
       "      <td>0.039375</td>\n",
       "      <td>0.039000</td>\n",
       "      <td>1647.0</td>\n",
       "    </tr>\n",
       "    <tr>\n",
       "      <th>3</th>\n",
       "      <td>0.025125</td>\n",
       "      <td>0.041000</td>\n",
       "      <td>0.035000</td>\n",
       "      <td>0.031875</td>\n",
       "      <td>1590.0</td>\n",
       "    </tr>\n",
       "    <tr>\n",
       "      <th>4</th>\n",
       "      <td>0.017625</td>\n",
       "      <td>0.043750</td>\n",
       "      <td>0.034375</td>\n",
       "      <td>0.035375</td>\n",
       "      <td>1598.0</td>\n",
       "    </tr>\n",
       "  </tbody>\n",
       "</table>\n",
       "</div>"
      ],
      "text/plain": [
       "      zcrs0     zcrs1     zcrs2     zcrs3  #ofcrossing\n",
       "0  0.014375  0.045625  0.047750  0.047875       1775.0\n",
       "1  0.018250  0.039250  0.049000  0.051250       1784.0\n",
       "2  0.019625  0.038125  0.039375  0.039000       1647.0\n",
       "3  0.025125  0.041000  0.035000  0.031875       1590.0\n",
       "4  0.017625  0.043750  0.034375  0.035375       1598.0"
      ]
     },
     "execution_count": 17,
     "metadata": {},
     "output_type": "execute_result"
    }
   ],
   "source": [
    "df.head()"
   ]
  },
  {
   "cell_type": "code",
   "execution_count": 18,
   "id": "febe5cf1",
   "metadata": {},
   "outputs": [],
   "source": [
    "df.to_csv(path + '/present_TV_zcrs.csv')"
   ]
  },
  {
   "cell_type": "markdown",
   "id": "3bbfeffb",
   "metadata": {},
   "source": [
    "## with Özgün Ozan Nacitarhan code"
   ]
  },
  {
   "cell_type": "code",
   "execution_count": 19,
   "id": "481adc1a",
   "metadata": {},
   "outputs": [],
   "source": [
    "def zcr(array):\n",
    "    zcr = np.ones(shape = (array.shape[0],1))\n",
    "    for i in range(array.shape[0]):\n",
    "        data_zeros = np.zeros(len(array[i]))\n",
    "        data_zeros[1:] = array[i][:len(array[i]) - 1]\n",
    "        zcr[i][0] = (1 / (2 * len(array[i]))) * np.sum(np.abs(np.sign(array[i]) - np.sign(data_zeros)))\n",
    "        \n",
    "    return zcr\n"
   ]
  },
  {
   "cell_type": "code",
   "execution_count": 20,
   "id": "f539b16d",
   "metadata": {},
   "outputs": [],
   "source": [
    "zcrs_özgün = zcr(waves)"
   ]
  },
  {
   "cell_type": "code",
   "execution_count": 21,
   "id": "12e14c34",
   "metadata": {},
   "outputs": [
    {
     "data": {
      "text/plain": [
       "(1205, 1)"
      ]
     },
     "execution_count": 21,
     "metadata": {},
     "output_type": "execute_result"
    }
   ],
   "source": [
    "zcrs_özgün.shape"
   ]
  },
  {
   "cell_type": "code",
   "execution_count": 22,
   "id": "20657000",
   "metadata": {},
   "outputs": [
    {
     "data": {
      "text/plain": [
       "array([0.0443625])"
      ]
     },
     "execution_count": 22,
     "metadata": {},
     "output_type": "execute_result"
    }
   ],
   "source": [
    "zcrs_özgün[0]"
   ]
  },
  {
   "cell_type": "code",
   "execution_count": 23,
   "id": "adfd4882",
   "metadata": {},
   "outputs": [],
   "source": [
    "np.save(path + \"/present_TV_zcrs_özgün\", zcrs_özgün, allow_pickle= True)"
   ]
  },
  {
   "cell_type": "markdown",
   "id": "68835fa8",
   "metadata": {},
   "source": [
    "### Chromogram:\n",
    "We can use Chroma feature visualization to know how dominant the characteristics of a certain pitch {C, C♯, D, D♯, E, F, F♯, G, G♯, A, A♯, B} is present in the sampled frame.\n",
    "\n",
    "Compute a chromagram from a waveform or power spectrogram.\n",
    "It returns Normalized energy for each chroma bin at each frame.\n",
    "\n",
    "Hop size should refer to the number of samples in between successive frames. For signal analysis Hop Size should be less than the frame size, so that frames overlap."
   ]
  },
  {
   "cell_type": "code",
   "execution_count": 24,
   "id": "a2419065",
   "metadata": {},
   "outputs": [],
   "source": [
    "import warnings\n",
    "warnings.filterwarnings('ignore')"
   ]
  },
  {
   "cell_type": "code",
   "execution_count": 25,
   "id": "4ee986de",
   "metadata": {},
   "outputs": [],
   "source": [
    "import librosa.display"
   ]
  },
  {
   "cell_type": "code",
   "execution_count": 26,
   "id": "72d9d462",
   "metadata": {},
   "outputs": [
    {
     "data": {
      "text/plain": [
       "(12, 4)"
      ]
     },
     "execution_count": 26,
     "metadata": {},
     "output_type": "execute_result"
    }
   ],
   "source": [
    "lbs.feature.chroma_stft(waves[0], sr = 4000, hop_length = 12000).shape"
   ]
  },
  {
   "cell_type": "code",
   "execution_count": 27,
   "id": "1129b939",
   "metadata": {},
   "outputs": [],
   "source": [
    "# we are taking time average of each pitch values.\n",
    "def chromagram_average(array, sampling_rate = 256):\n",
    "    pitch = np.ones(shape = (array.shape[0], 12)) \n",
    "    \n",
    "    for i in range(array.shape[0]):\n",
    "        for j in range(12):\n",
    "            pitch[i][j] = lbs.feature.chroma_stft(np.array(array[i]), sr= sampling_rate, hop_length = 12000)[j].mean()\n",
    "    return pitch"
   ]
  },
  {
   "cell_type": "code",
   "execution_count": 28,
   "id": "fe736d42",
   "metadata": {},
   "outputs": [],
   "source": [
    "chro = chromagram_average(waves, sampling_rate = 4000) # bu da çok uzun sürüyor."
   ]
  },
  {
   "cell_type": "code",
   "execution_count": 29,
   "id": "ed36ce80",
   "metadata": {},
   "outputs": [
    {
     "data": {
      "text/plain": [
       "numpy.ndarray"
      ]
     },
     "execution_count": 29,
     "metadata": {},
     "output_type": "execute_result"
    }
   ],
   "source": [
    "type(chro[0])"
   ]
  },
  {
   "cell_type": "code",
   "execution_count": 30,
   "id": "875ac687",
   "metadata": {},
   "outputs": [
    {
     "data": {
      "text/plain": [
       "(1205, 12)"
      ]
     },
     "execution_count": 30,
     "metadata": {},
     "output_type": "execute_result"
    }
   ],
   "source": [
    "chro.shape"
   ]
  },
  {
   "cell_type": "code",
   "execution_count": 31,
   "id": "0bac78ad",
   "metadata": {},
   "outputs": [],
   "source": [
    "np.save(path + \"/present_TV_chromogram_array\", chro, allow_pickle= True)"
   ]
  },
  {
   "cell_type": "code",
   "execution_count": 32,
   "id": "f275be61",
   "metadata": {},
   "outputs": [
    {
     "name": "stdout",
     "output_type": "stream",
     "text": [
      "(1205, 12)\n"
     ]
    }
   ],
   "source": [
    "print(chro.shape)"
   ]
  },
  {
   "cell_type": "code",
   "execution_count": 33,
   "id": "69d520e6",
   "metadata": {},
   "outputs": [],
   "source": [
    "lst = [\"C\", \"C♯\", \"D\", \"D♯\", \"E\", \"F\", \"F♯\", \"G\", \"G♯\", \"A\", \"A♯\", \"B\"]"
   ]
  },
  {
   "cell_type": "code",
   "execution_count": 34,
   "id": "b24e15ff",
   "metadata": {},
   "outputs": [
    {
     "name": "stdout",
     "output_type": "stream",
     "text": [
      "['C', 'C♯', 'D', 'D♯', 'E', 'F', 'F♯', 'G', 'G♯', 'A', 'A♯', 'B']\n",
      "12\n"
     ]
    }
   ],
   "source": [
    "col_chro = []\n",
    "for i in range(chro.shape[1]):\n",
    "    col_chro.append(lst[i])\n",
    "    \n",
    "print(col_chro)\n",
    "print(len(col_chro))"
   ]
  },
  {
   "cell_type": "code",
   "execution_count": 35,
   "id": "17156bed",
   "metadata": {},
   "outputs": [
    {
     "data": {
      "text/html": [
       "<div>\n",
       "<style scoped>\n",
       "    .dataframe tbody tr th:only-of-type {\n",
       "        vertical-align: middle;\n",
       "    }\n",
       "\n",
       "    .dataframe tbody tr th {\n",
       "        vertical-align: top;\n",
       "    }\n",
       "\n",
       "    .dataframe thead th {\n",
       "        text-align: right;\n",
       "    }\n",
       "</style>\n",
       "<table border=\"1\" class=\"dataframe\">\n",
       "  <thead>\n",
       "    <tr style=\"text-align: right;\">\n",
       "      <th></th>\n",
       "      <th>C</th>\n",
       "      <th>C♯</th>\n",
       "      <th>D</th>\n",
       "      <th>D♯</th>\n",
       "      <th>E</th>\n",
       "      <th>F</th>\n",
       "      <th>F♯</th>\n",
       "      <th>G</th>\n",
       "      <th>G♯</th>\n",
       "      <th>A</th>\n",
       "      <th>A♯</th>\n",
       "      <th>B</th>\n",
       "    </tr>\n",
       "  </thead>\n",
       "  <tbody>\n",
       "    <tr>\n",
       "      <th>0</th>\n",
       "      <td>0.632728</td>\n",
       "      <td>0.582556</td>\n",
       "      <td>0.603655</td>\n",
       "      <td>0.691997</td>\n",
       "      <td>0.506335</td>\n",
       "      <td>0.496066</td>\n",
       "      <td>0.553746</td>\n",
       "      <td>0.565339</td>\n",
       "      <td>0.520591</td>\n",
       "      <td>0.54311</td>\n",
       "      <td>0.587228</td>\n",
       "      <td>0.465919</td>\n",
       "    </tr>\n",
       "    <tr>\n",
       "      <th>1</th>\n",
       "      <td>0.758642</td>\n",
       "      <td>0.864754</td>\n",
       "      <td>0.811397</td>\n",
       "      <td>0.733465</td>\n",
       "      <td>0.694984</td>\n",
       "      <td>0.593114</td>\n",
       "      <td>0.590263</td>\n",
       "      <td>0.54018</td>\n",
       "      <td>0.517904</td>\n",
       "      <td>0.802246</td>\n",
       "      <td>0.897468</td>\n",
       "      <td>0.905409</td>\n",
       "    </tr>\n",
       "    <tr>\n",
       "      <th>2</th>\n",
       "      <td>0.636057</td>\n",
       "      <td>0.625512</td>\n",
       "      <td>0.647747</td>\n",
       "      <td>0.699375</td>\n",
       "      <td>0.545241</td>\n",
       "      <td>0.557489</td>\n",
       "      <td>0.403775</td>\n",
       "      <td>0.325962</td>\n",
       "      <td>0.417445</td>\n",
       "      <td>0.533893</td>\n",
       "      <td>0.668166</td>\n",
       "      <td>0.567049</td>\n",
       "    </tr>\n",
       "    <tr>\n",
       "      <th>3</th>\n",
       "      <td>0.628635</td>\n",
       "      <td>0.557179</td>\n",
       "      <td>0.529808</td>\n",
       "      <td>0.537103</td>\n",
       "      <td>0.520591</td>\n",
       "      <td>0.644424</td>\n",
       "      <td>0.603671</td>\n",
       "      <td>0.515941</td>\n",
       "      <td>0.483744</td>\n",
       "      <td>0.619612</td>\n",
       "      <td>0.640899</td>\n",
       "      <td>0.652614</td>\n",
       "    </tr>\n",
       "    <tr>\n",
       "      <th>4</th>\n",
       "      <td>0.3831</td>\n",
       "      <td>0.359934</td>\n",
       "      <td>0.39486</td>\n",
       "      <td>0.351761</td>\n",
       "      <td>0.431666</td>\n",
       "      <td>0.59696</td>\n",
       "      <td>0.580548</td>\n",
       "      <td>0.597486</td>\n",
       "      <td>0.557329</td>\n",
       "      <td>0.626974</td>\n",
       "      <td>0.62526</td>\n",
       "      <td>0.583547</td>\n",
       "    </tr>\n",
       "    <tr>\n",
       "      <th>...</th>\n",
       "      <td>...</td>\n",
       "      <td>...</td>\n",
       "      <td>...</td>\n",
       "      <td>...</td>\n",
       "      <td>...</td>\n",
       "      <td>...</td>\n",
       "      <td>...</td>\n",
       "      <td>...</td>\n",
       "      <td>...</td>\n",
       "      <td>...</td>\n",
       "      <td>...</td>\n",
       "      <td>...</td>\n",
       "    </tr>\n",
       "    <tr>\n",
       "      <th>1200</th>\n",
       "      <td>0.761378</td>\n",
       "      <td>0.58194</td>\n",
       "      <td>0.589731</td>\n",
       "      <td>0.564518</td>\n",
       "      <td>0.530238</td>\n",
       "      <td>0.632826</td>\n",
       "      <td>0.738431</td>\n",
       "      <td>0.799368</td>\n",
       "      <td>0.852685</td>\n",
       "      <td>0.710811</td>\n",
       "      <td>0.692615</td>\n",
       "      <td>0.862163</td>\n",
       "    </tr>\n",
       "    <tr>\n",
       "      <th>1201</th>\n",
       "      <td>0.630042</td>\n",
       "      <td>0.788746</td>\n",
       "      <td>0.75657</td>\n",
       "      <td>0.753607</td>\n",
       "      <td>0.664939</td>\n",
       "      <td>0.692472</td>\n",
       "      <td>0.805693</td>\n",
       "      <td>0.668857</td>\n",
       "      <td>0.633761</td>\n",
       "      <td>0.697793</td>\n",
       "      <td>0.588426</td>\n",
       "      <td>0.541017</td>\n",
       "    </tr>\n",
       "    <tr>\n",
       "      <th>1202</th>\n",
       "      <td>0.550638</td>\n",
       "      <td>0.775268</td>\n",
       "      <td>0.765337</td>\n",
       "      <td>0.790918</td>\n",
       "      <td>0.585392</td>\n",
       "      <td>0.43467</td>\n",
       "      <td>0.335148</td>\n",
       "      <td>0.359834</td>\n",
       "      <td>0.445198</td>\n",
       "      <td>0.50422</td>\n",
       "      <td>0.42853</td>\n",
       "      <td>0.471036</td>\n",
       "    </tr>\n",
       "    <tr>\n",
       "      <th>1203</th>\n",
       "      <td>0.636011</td>\n",
       "      <td>0.748156</td>\n",
       "      <td>0.76196</td>\n",
       "      <td>0.681554</td>\n",
       "      <td>0.668069</td>\n",
       "      <td>0.752171</td>\n",
       "      <td>0.865487</td>\n",
       "      <td>0.817557</td>\n",
       "      <td>0.768924</td>\n",
       "      <td>0.7034</td>\n",
       "      <td>0.654348</td>\n",
       "      <td>0.604923</td>\n",
       "    </tr>\n",
       "    <tr>\n",
       "      <th>1204</th>\n",
       "      <td>0.575557</td>\n",
       "      <td>0.514179</td>\n",
       "      <td>0.55694</td>\n",
       "      <td>0.545879</td>\n",
       "      <td>0.543234</td>\n",
       "      <td>0.632436</td>\n",
       "      <td>0.612592</td>\n",
       "      <td>0.586342</td>\n",
       "      <td>0.631452</td>\n",
       "      <td>0.673707</td>\n",
       "      <td>0.737693</td>\n",
       "      <td>0.726774</td>\n",
       "    </tr>\n",
       "  </tbody>\n",
       "</table>\n",
       "<p>1205 rows × 12 columns</p>\n",
       "</div>"
      ],
      "text/plain": [
       "             C        C♯         D        D♯         E         F        F♯  \\\n",
       "0     0.632728  0.582556  0.603655  0.691997  0.506335  0.496066  0.553746   \n",
       "1     0.758642  0.864754  0.811397  0.733465  0.694984  0.593114  0.590263   \n",
       "2     0.636057  0.625512  0.647747  0.699375  0.545241  0.557489  0.403775   \n",
       "3     0.628635  0.557179  0.529808  0.537103  0.520591  0.644424  0.603671   \n",
       "4       0.3831  0.359934   0.39486  0.351761  0.431666   0.59696  0.580548   \n",
       "...        ...       ...       ...       ...       ...       ...       ...   \n",
       "1200  0.761378   0.58194  0.589731  0.564518  0.530238  0.632826  0.738431   \n",
       "1201  0.630042  0.788746   0.75657  0.753607  0.664939  0.692472  0.805693   \n",
       "1202  0.550638  0.775268  0.765337  0.790918  0.585392   0.43467  0.335148   \n",
       "1203  0.636011  0.748156   0.76196  0.681554  0.668069  0.752171  0.865487   \n",
       "1204  0.575557  0.514179   0.55694  0.545879  0.543234  0.632436  0.612592   \n",
       "\n",
       "             G        G♯         A        A♯         B  \n",
       "0     0.565339  0.520591   0.54311  0.587228  0.465919  \n",
       "1      0.54018  0.517904  0.802246  0.897468  0.905409  \n",
       "2     0.325962  0.417445  0.533893  0.668166  0.567049  \n",
       "3     0.515941  0.483744  0.619612  0.640899  0.652614  \n",
       "4     0.597486  0.557329  0.626974   0.62526  0.583547  \n",
       "...        ...       ...       ...       ...       ...  \n",
       "1200  0.799368  0.852685  0.710811  0.692615  0.862163  \n",
       "1201  0.668857  0.633761  0.697793  0.588426  0.541017  \n",
       "1202  0.359834  0.445198   0.50422   0.42853  0.471036  \n",
       "1203  0.817557  0.768924    0.7034  0.654348  0.604923  \n",
       "1204  0.586342  0.631452  0.673707  0.737693  0.726774  \n",
       "\n",
       "[1205 rows x 12 columns]"
      ]
     },
     "execution_count": 35,
     "metadata": {},
     "output_type": "execute_result"
    }
   ],
   "source": [
    "ch_df = dataframe_creator(chro,\n",
    "                         df =pd.DataFrame(columns = col_chro), columns = col_chro, l = 12)\n",
    "\n",
    "ch_df.reset_index(drop = True, inplace = True)\n",
    "ch_df"
   ]
  },
  {
   "cell_type": "code",
   "execution_count": 36,
   "id": "81a61a1e",
   "metadata": {},
   "outputs": [],
   "source": [
    "ch_df.to_csv(path + \"/present_TV_chromogram.csv\")"
   ]
  },
  {
   "cell_type": "markdown",
   "id": "cce74b21",
   "metadata": {},
   "source": [
    "## Tempogram\n",
    "\n",
    "Compute the tempogram: local autocorrelation of the onset strength envelope.\n",
    "\n",
    "# kendime not tempogram değerlerini spektogram değerleri gibi kaydet."
   ]
  },
  {
   "cell_type": "code",
   "execution_count": 37,
   "id": "c9f3130a",
   "metadata": {},
   "outputs": [],
   "source": [
    "def tempo_average(array): # 192,79\n",
    "    means= []\n",
    "    for i in range(array.shape[0]): #192\n",
    "        means.append(array[i].mean())\n",
    "    return np.array(means) # 192\n",
    "        "
   ]
  },
  {
   "cell_type": "code",
   "execution_count": 38,
   "id": "9d9179b5",
   "metadata": {},
   "outputs": [],
   "source": [
    "def tempogram(array = 0, hop_lenght = 12000, sampling_rate = 256):\n",
    "    \n",
    "    oenv = librosa.onset.onset_strength(y=np.array(array), \n",
    "                                            sr=sampling_rate, \n",
    "                                        lag =3)\n",
    "\n",
    "    times = librosa.times_like(oenv, sr=sampling_rate, hop_length=12000)\n",
    "\n",
    "    tempogram = librosa.feature.tempogram(onset_envelope = oenv, sr = sampling_rate,\n",
    "                                              hop_length = hop_lenght, win_length = 192 )\n",
    "    # Estimate the global tempo for display purposes\n",
    "    #tempo = librosa.beat.tempo(onset_envelope=oenv, sr= sampling_rate,\n",
    "                                   #hop_length=hop_length)[0]\n",
    "    return tempogram"
   ]
  },
  {
   "cell_type": "code",
   "execution_count": 39,
   "id": "4ec648a1",
   "metadata": {},
   "outputs": [
    {
     "data": {
      "text/plain": [
       "(192, 79)"
      ]
     },
     "execution_count": 39,
     "metadata": {},
     "output_type": "execute_result"
    }
   ],
   "source": [
    "tempogram(waves[0]).shape"
   ]
  },
  {
   "cell_type": "code",
   "execution_count": 40,
   "id": "d113b2df",
   "metadata": {},
   "outputs": [
    {
     "data": {
      "text/plain": [
       "array([1., 1., 1., 1., 1., 1., 1., 1., 1., 1., 1., 1., 1., 1., 1., 1., 1.,\n",
       "       1., 1., 1., 1., 1., 1., 1., 1., 1., 1., 1., 1., 1., 1., 1., 1., 1.,\n",
       "       1., 1., 1., 1., 1., 1., 1., 1., 1., 1., 1., 1., 1., 1., 1., 1., 1.,\n",
       "       1., 1., 1., 1., 1., 1., 1., 1., 1., 1., 1., 1., 1., 1., 1., 1., 1.,\n",
       "       1., 1., 1., 1., 1., 1., 1., 1., 1., 1., 1.])"
      ]
     },
     "execution_count": 40,
     "metadata": {},
     "output_type": "execute_result"
    }
   ],
   "source": [
    "tempogram(waves[0])[0]"
   ]
  },
  {
   "cell_type": "code",
   "execution_count": 41,
   "id": "4dd11e0a",
   "metadata": {},
   "outputs": [
    {
     "data": {
      "text/plain": [
       "array([0.76912238, 0.76964087, 0.77014655, 0.77063979, 0.77112095,\n",
       "       0.77159038, 0.77204843, 0.77249542, 0.7729317 , 0.77335758,\n",
       "       0.7737734 , 0.77417946, 0.77457607, 0.77496353, 0.77534216,\n",
       "       0.77571223, 0.77607405, 0.77642789, 0.77677405, 0.77711279,\n",
       "       0.77744438, 0.77776911, 0.77808724, 0.77839903, 0.77870475,\n",
       "       0.77900465, 0.77929898, 0.77958802, 0.779872  , 0.78015119,\n",
       "       0.78042583, 0.78069617, 0.78096246, 0.78122497, 0.78148393,\n",
       "       0.7817396 , 0.78199224, 0.7822421 , 0.78248944, 0.78273452,\n",
       "       0.7829776 , 0.78321896, 0.78345887, 0.7836976 , 0.78393544,\n",
       "       0.78417268, 0.78440962, 0.78464656, 0.78488381, 0.78512169,\n",
       "       0.78536055, 0.78560071, 0.78584254, 0.7860864 , 0.78633268,\n",
       "       0.78658176, 0.78683405, 0.78709   , 0.78735003, 0.78761462,\n",
       "       0.78788426, 0.78815944, 0.7884407 , 0.7887286 , 0.78902372,\n",
       "       0.78932667, 0.78963809, 0.78995866, 0.79028909, 0.79063011,\n",
       "       0.79098252, 0.79134714, 0.79172483, 0.79211651, 0.79252314,\n",
       "       0.79294573, 0.79338536, 0.79384314, 0.79432027])"
      ]
     },
     "execution_count": 41,
     "metadata": {},
     "output_type": "execute_result"
    }
   ],
   "source": [
    "tempogram(waves[0])[1]"
   ]
  },
  {
   "cell_type": "code",
   "execution_count": 42,
   "id": "1ecf758c",
   "metadata": {},
   "outputs": [
    {
     "data": {
      "text/plain": [
       "array([ 1.00000000e+00,  7.82314233e-01,  4.43080141e-01,  2.69458564e-01,\n",
       "        2.60348607e-01,  2.72531839e-01,  2.79538468e-01,  2.73401601e-01,\n",
       "        2.51887344e-01,  2.84713155e-01,  4.25587903e-01,  6.23928574e-01,\n",
       "        7.09609367e-01,  6.25507524e-01,  4.32024751e-01,  2.78093031e-01,\n",
       "        2.21082391e-01,  2.35006751e-01,  2.47217670e-01,  2.49768980e-01,\n",
       "        2.35908171e-01,  2.24142581e-01,  3.13273601e-01,  5.24804134e-01,\n",
       "        6.72220964e-01,  5.64154998e-01,  3.49821509e-01,  2.20842442e-01,\n",
       "        1.92250807e-01,  1.83570667e-01,  1.89928875e-01,  1.92464145e-01,\n",
       "        1.77605428e-01,  1.85066321e-01,  2.53034411e-01,  3.46508151e-01,\n",
       "        3.77849358e-01,  3.34281290e-01,  2.49771728e-01,  1.77438175e-01,\n",
       "        1.30133949e-01,  1.24878609e-01,  1.25698068e-01,  1.28299268e-01,\n",
       "        1.27526037e-01,  1.22363029e-01,  1.47860372e-01,  2.17112542e-01,\n",
       "        2.73866609e-01,  2.41856049e-01,  1.64897217e-01,  1.08925193e-01,\n",
       "        9.02281584e-02,  8.02687893e-02,  8.03289909e-02,  7.90890694e-02,\n",
       "        7.78755633e-02,  8.26511641e-02,  9.78052113e-02,  1.07927977e-01,\n",
       "        1.00786035e-01,  8.79853514e-02,  7.93427240e-02,  6.83006604e-02,\n",
       "        5.20997819e-02,  5.10232240e-02,  4.90514075e-02,  4.76834124e-02,\n",
       "        4.66022522e-02,  4.49822666e-02,  4.33152025e-02,  4.19809266e-02,\n",
       "        4.00845931e-02,  3.83231539e-02,  3.63616576e-02,  3.44723786e-02,\n",
       "        3.26544425e-02,  3.09068807e-02,  2.92285585e-02,  2.76181612e-02,\n",
       "        2.60742698e-02,  2.45954225e-02,  2.31801267e-02,  2.18268652e-02,\n",
       "        2.05341032e-02,  1.93002911e-02,  1.81238668e-02,  1.70032569e-02,\n",
       "        1.59368696e-02,  1.49230711e-02,  1.39601837e-02,  1.30465141e-02,\n",
       "        1.21803518e-02,  1.13599796e-02,  1.05837032e-02,  9.84985163e-03,\n",
       "        9.15677918e-03,  8.50286663e-03,  7.88652221e-03,  7.30618310e-03,\n",
       "        6.76031688e-03,  6.24742281e-03,  5.76603358e-03,  5.31471691e-03,\n",
       "        4.89207704e-03,  4.49675676e-03,  4.12743911e-03,  3.78284934e-03,\n",
       "        3.46175576e-03,  3.16296660e-03,  2.88532567e-03,  2.62771034e-03,\n",
       "        2.38903158e-03,  2.16823432e-03,  1.96429793e-03,  1.77623659e-03,\n",
       "        1.60310012e-03,  1.44397489e-03,  1.29798453e-03,  1.16429028e-03,\n",
       "        1.04208975e-03,  9.30614537e-04,  8.29128095e-04,  7.36925373e-04,\n",
       "        6.53333061e-04,  5.77709787e-04,  5.09446236e-04,  4.47965200e-04,\n",
       "        3.92721586e-04,  3.43202718e-04,  2.98928632e-04,  2.59452263e-04,\n",
       "        2.24358814e-04,  1.93262498e-04,  1.65802511e-04,  1.41640461e-04,\n",
       "        1.20459650e-04,  1.01964627e-04,  8.58805635e-05,  7.19526770e-05,\n",
       "        5.99457689e-05,  4.96439293e-05,  4.08503823e-05,  3.33871332e-05,\n",
       "        2.70934390e-05,  2.18233068e-05,  1.74434163e-05,  1.38320957e-05,\n",
       "        1.08788316e-05,  8.48385789e-06,  6.55785124e-06,  5.02161117e-06,\n",
       "        3.80569743e-06,  2.85010868e-06,  2.10407381e-06,  1.52588566e-06,\n",
       "        1.08241452e-06,  7.47577359e-07,  5.00149083e-07,  3.22147590e-07,\n",
       "        1.98224011e-07,  1.15374527e-07,  6.27112601e-08,  3.12992030e-08,\n",
       "        1.40228625e-08,  5.45649648e-09,  1.73413889e-09,  3.86140309e-10,\n",
       "        3.72228514e-11,  2.46295268e-18,  2.86072310e-18,  1.12753648e-17,\n",
       "       -1.41634899e-17, -1.25447256e-18, -1.38688656e-17,  1.82999684e-17,\n",
       "        3.00091703e-17,  6.14257952e-18,  1.37439091e-17,  9.20607429e-18,\n",
       "        1.45782232e-17,  2.01375343e-17,  3.63478622e-19,  1.24347119e-17,\n",
       "        1.10508039e-17,  1.21952885e-17,  2.80633571e-17,  9.29687176e-18,\n",
       "        1.20110254e-17,  1.70598484e-17,  1.62312614e-17,  1.93734751e-17])"
      ]
     },
     "execution_count": 42,
     "metadata": {},
     "output_type": "execute_result"
    }
   ],
   "source": [
    "tempo_average(tempogram(waves[0]))"
   ]
  },
  {
   "cell_type": "markdown",
   "id": "26896649",
   "metadata": {},
   "source": [
    "# tempogram(waves[0])[0]"
   ]
  },
  {
   "cell_type": "code",
   "execution_count": 43,
   "id": "5f49f3c2",
   "metadata": {},
   "outputs": [],
   "source": [
    "def temp_values(array):\n",
    "    final = np.ones(shape = (array.shape[0], 192))\n",
    "    for i in range(array.shape[0]): #8bin civarı\n",
    "        \n",
    "        _x = tempogram(array[i]) #1,4000   #192,79\n",
    "        #print(_x.shape)\n",
    "        final[i] = tempo_average(_x) #192\n",
    "        \n",
    "        \n",
    "    return final"
   ]
  },
  {
   "cell_type": "code",
   "execution_count": 44,
   "id": "a2c80c43",
   "metadata": {},
   "outputs": [],
   "source": [
    "temp = temp_values(waves) #çok uzun sürüyor \n"
   ]
  },
  {
   "cell_type": "code",
   "execution_count": 45,
   "id": "c97cff81",
   "metadata": {},
   "outputs": [
    {
     "data": {
      "text/plain": [
       "numpy.ndarray"
      ]
     },
     "execution_count": 45,
     "metadata": {},
     "output_type": "execute_result"
    }
   ],
   "source": [
    "type(temp)"
   ]
  },
  {
   "cell_type": "code",
   "execution_count": 46,
   "id": "346fc135",
   "metadata": {},
   "outputs": [],
   "source": [
    "np.save(path + \"/present_TV_tempogram_array\", temp, allow_pickle= True)"
   ]
  },
  {
   "cell_type": "code",
   "execution_count": 47,
   "id": "d6bf375d",
   "metadata": {},
   "outputs": [
    {
     "data": {
      "text/plain": [
       "(1205, 192)"
      ]
     },
     "execution_count": 47,
     "metadata": {},
     "output_type": "execute_result"
    }
   ],
   "source": [
    "temp.shape"
   ]
  },
  {
   "cell_type": "code",
   "execution_count": 48,
   "id": "925ec0d1",
   "metadata": {},
   "outputs": [
    {
     "name": "stdout",
     "output_type": "stream",
     "text": [
      "['tempogram_0', 'tempogram_1', 'tempogram_2', 'tempogram_3', 'tempogram_4', 'tempogram_5', 'tempogram_6', 'tempogram_7', 'tempogram_8', 'tempogram_9', 'tempogram_10', 'tempogram_11', 'tempogram_12', 'tempogram_13', 'tempogram_14', 'tempogram_15', 'tempogram_16', 'tempogram_17', 'tempogram_18', 'tempogram_19', 'tempogram_20', 'tempogram_21', 'tempogram_22', 'tempogram_23', 'tempogram_24', 'tempogram_25', 'tempogram_26', 'tempogram_27', 'tempogram_28', 'tempogram_29', 'tempogram_30', 'tempogram_31', 'tempogram_32', 'tempogram_33', 'tempogram_34', 'tempogram_35', 'tempogram_36', 'tempogram_37', 'tempogram_38', 'tempogram_39', 'tempogram_40', 'tempogram_41', 'tempogram_42', 'tempogram_43', 'tempogram_44', 'tempogram_45', 'tempogram_46', 'tempogram_47', 'tempogram_48', 'tempogram_49', 'tempogram_50', 'tempogram_51', 'tempogram_52', 'tempogram_53', 'tempogram_54', 'tempogram_55', 'tempogram_56', 'tempogram_57', 'tempogram_58', 'tempogram_59', 'tempogram_60', 'tempogram_61', 'tempogram_62', 'tempogram_63', 'tempogram_64', 'tempogram_65', 'tempogram_66', 'tempogram_67', 'tempogram_68', 'tempogram_69', 'tempogram_70', 'tempogram_71', 'tempogram_72', 'tempogram_73', 'tempogram_74', 'tempogram_75', 'tempogram_76', 'tempogram_77', 'tempogram_78', 'tempogram_79', 'tempogram_80', 'tempogram_81', 'tempogram_82', 'tempogram_83', 'tempogram_84', 'tempogram_85', 'tempogram_86', 'tempogram_87', 'tempogram_88', 'tempogram_89', 'tempogram_90', 'tempogram_91', 'tempogram_92', 'tempogram_93', 'tempogram_94', 'tempogram_95', 'tempogram_96', 'tempogram_97', 'tempogram_98', 'tempogram_99', 'tempogram_100', 'tempogram_101', 'tempogram_102', 'tempogram_103', 'tempogram_104', 'tempogram_105', 'tempogram_106', 'tempogram_107', 'tempogram_108', 'tempogram_109', 'tempogram_110', 'tempogram_111', 'tempogram_112', 'tempogram_113', 'tempogram_114', 'tempogram_115', 'tempogram_116', 'tempogram_117', 'tempogram_118', 'tempogram_119', 'tempogram_120', 'tempogram_121', 'tempogram_122', 'tempogram_123', 'tempogram_124', 'tempogram_125', 'tempogram_126', 'tempogram_127', 'tempogram_128', 'tempogram_129', 'tempogram_130', 'tempogram_131', 'tempogram_132', 'tempogram_133', 'tempogram_134', 'tempogram_135', 'tempogram_136', 'tempogram_137', 'tempogram_138', 'tempogram_139', 'tempogram_140', 'tempogram_141', 'tempogram_142', 'tempogram_143', 'tempogram_144', 'tempogram_145', 'tempogram_146', 'tempogram_147', 'tempogram_148', 'tempogram_149', 'tempogram_150', 'tempogram_151', 'tempogram_152', 'tempogram_153', 'tempogram_154', 'tempogram_155', 'tempogram_156', 'tempogram_157', 'tempogram_158', 'tempogram_159', 'tempogram_160', 'tempogram_161', 'tempogram_162', 'tempogram_163', 'tempogram_164', 'tempogram_165', 'tempogram_166', 'tempogram_167', 'tempogram_168', 'tempogram_169', 'tempogram_170', 'tempogram_171', 'tempogram_172', 'tempogram_173', 'tempogram_174', 'tempogram_175', 'tempogram_176', 'tempogram_177', 'tempogram_178', 'tempogram_179', 'tempogram_180', 'tempogram_181', 'tempogram_182', 'tempogram_183', 'tempogram_184', 'tempogram_185', 'tempogram_186', 'tempogram_187', 'tempogram_188', 'tempogram_189', 'tempogram_190', 'tempogram_191']\n"
     ]
    }
   ],
   "source": [
    "columns_t = []\n",
    "for i in range(temp.shape[1]):\n",
    "    columns_t.append(\"tempogram_{}\".format(i))\n",
    "print(columns_t)"
   ]
  },
  {
   "cell_type": "code",
   "execution_count": 49,
   "id": "e5ef312f",
   "metadata": {},
   "outputs": [
    {
     "data": {
      "text/plain": [
       "192"
      ]
     },
     "execution_count": 49,
     "metadata": {},
     "output_type": "execute_result"
    }
   ],
   "source": [
    "len(columns_t)"
   ]
  },
  {
   "cell_type": "code",
   "execution_count": 50,
   "id": "c1f3b527",
   "metadata": {},
   "outputs": [
    {
     "data": {
      "text/html": [
       "<div>\n",
       "<style scoped>\n",
       "    .dataframe tbody tr th:only-of-type {\n",
       "        vertical-align: middle;\n",
       "    }\n",
       "\n",
       "    .dataframe tbody tr th {\n",
       "        vertical-align: top;\n",
       "    }\n",
       "\n",
       "    .dataframe thead th {\n",
       "        text-align: right;\n",
       "    }\n",
       "</style>\n",
       "<table border=\"1\" class=\"dataframe\">\n",
       "  <thead>\n",
       "    <tr style=\"text-align: right;\">\n",
       "      <th></th>\n",
       "      <th>tempogram_0</th>\n",
       "      <th>tempogram_1</th>\n",
       "      <th>tempogram_2</th>\n",
       "      <th>tempogram_3</th>\n",
       "      <th>tempogram_4</th>\n",
       "      <th>tempogram_5</th>\n",
       "      <th>tempogram_6</th>\n",
       "      <th>tempogram_7</th>\n",
       "      <th>tempogram_8</th>\n",
       "      <th>tempogram_9</th>\n",
       "      <th>...</th>\n",
       "      <th>tempogram_182</th>\n",
       "      <th>tempogram_183</th>\n",
       "      <th>tempogram_184</th>\n",
       "      <th>tempogram_185</th>\n",
       "      <th>tempogram_186</th>\n",
       "      <th>tempogram_187</th>\n",
       "      <th>tempogram_188</th>\n",
       "      <th>tempogram_189</th>\n",
       "      <th>tempogram_190</th>\n",
       "      <th>tempogram_191</th>\n",
       "    </tr>\n",
       "  </thead>\n",
       "  <tbody>\n",
       "    <tr>\n",
       "      <th>0</th>\n",
       "      <td>1.0</td>\n",
       "      <td>0.782314</td>\n",
       "      <td>0.44308</td>\n",
       "      <td>0.269459</td>\n",
       "      <td>0.260349</td>\n",
       "      <td>0.272532</td>\n",
       "      <td>0.279538</td>\n",
       "      <td>0.273402</td>\n",
       "      <td>0.251887</td>\n",
       "      <td>0.284713</td>\n",
       "      <td>...</td>\n",
       "      <td>0.0</td>\n",
       "      <td>0.0</td>\n",
       "      <td>0.0</td>\n",
       "      <td>0.0</td>\n",
       "      <td>0.0</td>\n",
       "      <td>0.0</td>\n",
       "      <td>0.0</td>\n",
       "      <td>0.0</td>\n",
       "      <td>0.0</td>\n",
       "      <td>0.0</td>\n",
       "    </tr>\n",
       "    <tr>\n",
       "      <th>1</th>\n",
       "      <td>1.0</td>\n",
       "      <td>0.774253</td>\n",
       "      <td>0.440555</td>\n",
       "      <td>0.284891</td>\n",
       "      <td>0.311018</td>\n",
       "      <td>0.333963</td>\n",
       "      <td>0.349042</td>\n",
       "      <td>0.326007</td>\n",
       "      <td>0.293324</td>\n",
       "      <td>0.278827</td>\n",
       "      <td>...</td>\n",
       "      <td>-0.0</td>\n",
       "      <td>0.0</td>\n",
       "      <td>0.0</td>\n",
       "      <td>0.0</td>\n",
       "      <td>0.0</td>\n",
       "      <td>-0.0</td>\n",
       "      <td>0.0</td>\n",
       "      <td>0.0</td>\n",
       "      <td>0.0</td>\n",
       "      <td>0.0</td>\n",
       "    </tr>\n",
       "    <tr>\n",
       "      <th>2</th>\n",
       "      <td>1.0</td>\n",
       "      <td>0.867157</td>\n",
       "      <td>0.684033</td>\n",
       "      <td>0.598988</td>\n",
       "      <td>0.592096</td>\n",
       "      <td>0.602322</td>\n",
       "      <td>0.616906</td>\n",
       "      <td>0.613713</td>\n",
       "      <td>0.590528</td>\n",
       "      <td>0.573863</td>\n",
       "      <td>...</td>\n",
       "      <td>-0.0</td>\n",
       "      <td>0.0</td>\n",
       "      <td>0.0</td>\n",
       "      <td>0.0</td>\n",
       "      <td>0.0</td>\n",
       "      <td>-0.0</td>\n",
       "      <td>0.0</td>\n",
       "      <td>0.0</td>\n",
       "      <td>0.0</td>\n",
       "      <td>0.0</td>\n",
       "    </tr>\n",
       "    <tr>\n",
       "      <th>3</th>\n",
       "      <td>1.0</td>\n",
       "      <td>0.705319</td>\n",
       "      <td>0.316058</td>\n",
       "      <td>0.135829</td>\n",
       "      <td>0.303616</td>\n",
       "      <td>0.531777</td>\n",
       "      <td>0.579377</td>\n",
       "      <td>0.370918</td>\n",
       "      <td>0.21552</td>\n",
       "      <td>0.186584</td>\n",
       "      <td>...</td>\n",
       "      <td>0.0</td>\n",
       "      <td>0.0</td>\n",
       "      <td>0.0</td>\n",
       "      <td>0.0</td>\n",
       "      <td>0.0</td>\n",
       "      <td>0.0</td>\n",
       "      <td>0.0</td>\n",
       "      <td>0.0</td>\n",
       "      <td>0.0</td>\n",
       "      <td>0.0</td>\n",
       "    </tr>\n",
       "    <tr>\n",
       "      <th>4</th>\n",
       "      <td>1.0</td>\n",
       "      <td>0.738496</td>\n",
       "      <td>0.348824</td>\n",
       "      <td>0.127286</td>\n",
       "      <td>0.071349</td>\n",
       "      <td>0.1194</td>\n",
       "      <td>0.212045</td>\n",
       "      <td>0.306395</td>\n",
       "      <td>0.391691</td>\n",
       "      <td>0.470576</td>\n",
       "      <td>...</td>\n",
       "      <td>-0.0</td>\n",
       "      <td>0.0</td>\n",
       "      <td>0.0</td>\n",
       "      <td>-0.0</td>\n",
       "      <td>0.0</td>\n",
       "      <td>-0.0</td>\n",
       "      <td>-0.0</td>\n",
       "      <td>-0.0</td>\n",
       "      <td>-0.0</td>\n",
       "      <td>0.0</td>\n",
       "    </tr>\n",
       "    <tr>\n",
       "      <th>...</th>\n",
       "      <td>...</td>\n",
       "      <td>...</td>\n",
       "      <td>...</td>\n",
       "      <td>...</td>\n",
       "      <td>...</td>\n",
       "      <td>...</td>\n",
       "      <td>...</td>\n",
       "      <td>...</td>\n",
       "      <td>...</td>\n",
       "      <td>...</td>\n",
       "      <td>...</td>\n",
       "      <td>...</td>\n",
       "      <td>...</td>\n",
       "      <td>...</td>\n",
       "      <td>...</td>\n",
       "      <td>...</td>\n",
       "      <td>...</td>\n",
       "      <td>...</td>\n",
       "      <td>...</td>\n",
       "      <td>...</td>\n",
       "      <td>...</td>\n",
       "    </tr>\n",
       "    <tr>\n",
       "      <th>1200</th>\n",
       "      <td>1.0</td>\n",
       "      <td>0.781321</td>\n",
       "      <td>0.424697</td>\n",
       "      <td>0.198154</td>\n",
       "      <td>0.15576</td>\n",
       "      <td>0.172316</td>\n",
       "      <td>0.181592</td>\n",
       "      <td>0.198851</td>\n",
       "      <td>0.235288</td>\n",
       "      <td>0.271238</td>\n",
       "      <td>...</td>\n",
       "      <td>-0.0</td>\n",
       "      <td>-0.0</td>\n",
       "      <td>-0.0</td>\n",
       "      <td>0.0</td>\n",
       "      <td>0.0</td>\n",
       "      <td>-0.0</td>\n",
       "      <td>-0.0</td>\n",
       "      <td>0.0</td>\n",
       "      <td>0.0</td>\n",
       "      <td>0.0</td>\n",
       "    </tr>\n",
       "    <tr>\n",
       "      <th>1201</th>\n",
       "      <td>1.0</td>\n",
       "      <td>0.777808</td>\n",
       "      <td>0.40789</td>\n",
       "      <td>0.188958</td>\n",
       "      <td>0.158389</td>\n",
       "      <td>0.181104</td>\n",
       "      <td>0.194287</td>\n",
       "      <td>0.189864</td>\n",
       "      <td>0.220658</td>\n",
       "      <td>0.299185</td>\n",
       "      <td>...</td>\n",
       "      <td>-0.0</td>\n",
       "      <td>-0.0</td>\n",
       "      <td>-0.0</td>\n",
       "      <td>0.0</td>\n",
       "      <td>0.0</td>\n",
       "      <td>-0.0</td>\n",
       "      <td>0.0</td>\n",
       "      <td>0.0</td>\n",
       "      <td>0.0</td>\n",
       "      <td>0.0</td>\n",
       "    </tr>\n",
       "    <tr>\n",
       "      <th>1202</th>\n",
       "      <td>1.0</td>\n",
       "      <td>0.743368</td>\n",
       "      <td>0.386358</td>\n",
       "      <td>0.181704</td>\n",
       "      <td>0.192026</td>\n",
       "      <td>0.322006</td>\n",
       "      <td>0.377815</td>\n",
       "      <td>0.32525</td>\n",
       "      <td>0.317242</td>\n",
       "      <td>0.369902</td>\n",
       "      <td>...</td>\n",
       "      <td>-0.0</td>\n",
       "      <td>0.0</td>\n",
       "      <td>0.0</td>\n",
       "      <td>0.0</td>\n",
       "      <td>0.0</td>\n",
       "      <td>-0.0</td>\n",
       "      <td>0.0</td>\n",
       "      <td>0.0</td>\n",
       "      <td>0.0</td>\n",
       "      <td>0.0</td>\n",
       "    </tr>\n",
       "    <tr>\n",
       "      <th>1203</th>\n",
       "      <td>1.0</td>\n",
       "      <td>0.902151</td>\n",
       "      <td>0.734999</td>\n",
       "      <td>0.633144</td>\n",
       "      <td>0.600471</td>\n",
       "      <td>0.588014</td>\n",
       "      <td>0.565444</td>\n",
       "      <td>0.544215</td>\n",
       "      <td>0.547051</td>\n",
       "      <td>0.555489</td>\n",
       "      <td>...</td>\n",
       "      <td>-0.0</td>\n",
       "      <td>0.0</td>\n",
       "      <td>0.0</td>\n",
       "      <td>0.0</td>\n",
       "      <td>0.0</td>\n",
       "      <td>-0.0</td>\n",
       "      <td>0.0</td>\n",
       "      <td>0.0</td>\n",
       "      <td>0.0</td>\n",
       "      <td>0.0</td>\n",
       "    </tr>\n",
       "    <tr>\n",
       "      <th>1204</th>\n",
       "      <td>1.0</td>\n",
       "      <td>0.885074</td>\n",
       "      <td>0.718349</td>\n",
       "      <td>0.624076</td>\n",
       "      <td>0.620837</td>\n",
       "      <td>0.664713</td>\n",
       "      <td>0.659084</td>\n",
       "      <td>0.628042</td>\n",
       "      <td>0.605526</td>\n",
       "      <td>0.605942</td>\n",
       "      <td>...</td>\n",
       "      <td>-0.0</td>\n",
       "      <td>0.0</td>\n",
       "      <td>0.0</td>\n",
       "      <td>0.0</td>\n",
       "      <td>0.0</td>\n",
       "      <td>-0.0</td>\n",
       "      <td>0.0</td>\n",
       "      <td>0.0</td>\n",
       "      <td>0.0</td>\n",
       "      <td>0.0</td>\n",
       "    </tr>\n",
       "  </tbody>\n",
       "</table>\n",
       "<p>1205 rows × 192 columns</p>\n",
       "</div>"
      ],
      "text/plain": [
       "     tempogram_0 tempogram_1 tempogram_2 tempogram_3 tempogram_4 tempogram_5  \\\n",
       "0            1.0    0.782314     0.44308    0.269459    0.260349    0.272532   \n",
       "1            1.0    0.774253    0.440555    0.284891    0.311018    0.333963   \n",
       "2            1.0    0.867157    0.684033    0.598988    0.592096    0.602322   \n",
       "3            1.0    0.705319    0.316058    0.135829    0.303616    0.531777   \n",
       "4            1.0    0.738496    0.348824    0.127286    0.071349      0.1194   \n",
       "...          ...         ...         ...         ...         ...         ...   \n",
       "1200         1.0    0.781321    0.424697    0.198154     0.15576    0.172316   \n",
       "1201         1.0    0.777808     0.40789    0.188958    0.158389    0.181104   \n",
       "1202         1.0    0.743368    0.386358    0.181704    0.192026    0.322006   \n",
       "1203         1.0    0.902151    0.734999    0.633144    0.600471    0.588014   \n",
       "1204         1.0    0.885074    0.718349    0.624076    0.620837    0.664713   \n",
       "\n",
       "     tempogram_6 tempogram_7 tempogram_8 tempogram_9  ... tempogram_182  \\\n",
       "0       0.279538    0.273402    0.251887    0.284713  ...           0.0   \n",
       "1       0.349042    0.326007    0.293324    0.278827  ...          -0.0   \n",
       "2       0.616906    0.613713    0.590528    0.573863  ...          -0.0   \n",
       "3       0.579377    0.370918     0.21552    0.186584  ...           0.0   \n",
       "4       0.212045    0.306395    0.391691    0.470576  ...          -0.0   \n",
       "...          ...         ...         ...         ...  ...           ...   \n",
       "1200    0.181592    0.198851    0.235288    0.271238  ...          -0.0   \n",
       "1201    0.194287    0.189864    0.220658    0.299185  ...          -0.0   \n",
       "1202    0.377815     0.32525    0.317242    0.369902  ...          -0.0   \n",
       "1203    0.565444    0.544215    0.547051    0.555489  ...          -0.0   \n",
       "1204    0.659084    0.628042    0.605526    0.605942  ...          -0.0   \n",
       "\n",
       "     tempogram_183 tempogram_184 tempogram_185 tempogram_186 tempogram_187  \\\n",
       "0              0.0           0.0           0.0           0.0           0.0   \n",
       "1              0.0           0.0           0.0           0.0          -0.0   \n",
       "2              0.0           0.0           0.0           0.0          -0.0   \n",
       "3              0.0           0.0           0.0           0.0           0.0   \n",
       "4              0.0           0.0          -0.0           0.0          -0.0   \n",
       "...            ...           ...           ...           ...           ...   \n",
       "1200          -0.0          -0.0           0.0           0.0          -0.0   \n",
       "1201          -0.0          -0.0           0.0           0.0          -0.0   \n",
       "1202           0.0           0.0           0.0           0.0          -0.0   \n",
       "1203           0.0           0.0           0.0           0.0          -0.0   \n",
       "1204           0.0           0.0           0.0           0.0          -0.0   \n",
       "\n",
       "     tempogram_188 tempogram_189 tempogram_190 tempogram_191  \n",
       "0              0.0           0.0           0.0           0.0  \n",
       "1              0.0           0.0           0.0           0.0  \n",
       "2              0.0           0.0           0.0           0.0  \n",
       "3              0.0           0.0           0.0           0.0  \n",
       "4             -0.0          -0.0          -0.0           0.0  \n",
       "...            ...           ...           ...           ...  \n",
       "1200          -0.0           0.0           0.0           0.0  \n",
       "1201           0.0           0.0           0.0           0.0  \n",
       "1202           0.0           0.0           0.0           0.0  \n",
       "1203           0.0           0.0           0.0           0.0  \n",
       "1204           0.0           0.0           0.0           0.0  \n",
       "\n",
       "[1205 rows x 192 columns]"
      ]
     },
     "execution_count": 50,
     "metadata": {},
     "output_type": "execute_result"
    }
   ],
   "source": [
    "df_t = dataframe_creator(temp,\n",
    "                         df =pd.DataFrame(columns = columns_t), columns = columns_t, l = 192)\n",
    "\n",
    "df_t.reset_index(drop = True, inplace = True)\n",
    "df_t"
   ]
  },
  {
   "cell_type": "code",
   "execution_count": 51,
   "id": "e627f4d5",
   "metadata": {},
   "outputs": [
    {
     "data": {
      "text/plain": [
       "8.533221099706138e-18"
      ]
     },
     "execution_count": 51,
     "metadata": {},
     "output_type": "execute_result"
    }
   ],
   "source": [
    "df_t['tempogram_188'][10]"
   ]
  },
  {
   "cell_type": "code",
   "execution_count": 52,
   "id": "33bee52c",
   "metadata": {},
   "outputs": [],
   "source": [
    "df_t.to_csv(path + '/present_TV_tempogram.csv')"
   ]
  },
  {
   "cell_type": "code",
   "execution_count": 53,
   "id": "c2ae7b50",
   "metadata": {},
   "outputs": [
    {
     "data": {
      "text/plain": [
       "tempogram_0      0\n",
       "tempogram_1      0\n",
       "tempogram_2      0\n",
       "tempogram_3      0\n",
       "tempogram_4      0\n",
       "                ..\n",
       "tempogram_187    0\n",
       "tempogram_188    0\n",
       "tempogram_189    0\n",
       "tempogram_190    0\n",
       "tempogram_191    0\n",
       "Length: 192, dtype: int64"
      ]
     },
     "execution_count": 53,
     "metadata": {},
     "output_type": "execute_result"
    }
   ],
   "source": [
    "df_t.isin([0]).sum(axis=0)"
   ]
  },
  {
   "cell_type": "code",
   "execution_count": 54,
   "id": "0c13bdc2",
   "metadata": {},
   "outputs": [
    {
     "data": {
      "text/html": [
       "<div>\n",
       "<style scoped>\n",
       "    .dataframe tbody tr th:only-of-type {\n",
       "        vertical-align: middle;\n",
       "    }\n",
       "\n",
       "    .dataframe tbody tr th {\n",
       "        vertical-align: top;\n",
       "    }\n",
       "\n",
       "    .dataframe thead th {\n",
       "        text-align: right;\n",
       "    }\n",
       "</style>\n",
       "<table border=\"1\" class=\"dataframe\">\n",
       "  <thead>\n",
       "    <tr style=\"text-align: right;\">\n",
       "      <th></th>\n",
       "      <th>zcrs0</th>\n",
       "      <th>zcrs1</th>\n",
       "      <th>zcrs2</th>\n",
       "      <th>zcrs3</th>\n",
       "      <th>#ofcrossing</th>\n",
       "      <th>C</th>\n",
       "      <th>C♯</th>\n",
       "      <th>D</th>\n",
       "      <th>D♯</th>\n",
       "      <th>E</th>\n",
       "      <th>F</th>\n",
       "      <th>F♯</th>\n",
       "      <th>G</th>\n",
       "      <th>G♯</th>\n",
       "      <th>A</th>\n",
       "      <th>A♯</th>\n",
       "      <th>B</th>\n",
       "    </tr>\n",
       "  </thead>\n",
       "  <tbody>\n",
       "    <tr>\n",
       "      <th>0</th>\n",
       "      <td>0.014375</td>\n",
       "      <td>0.045625</td>\n",
       "      <td>0.047750</td>\n",
       "      <td>0.047875</td>\n",
       "      <td>1775.0</td>\n",
       "      <td>0.632728</td>\n",
       "      <td>0.582556</td>\n",
       "      <td>0.603655</td>\n",
       "      <td>0.691997</td>\n",
       "      <td>0.506335</td>\n",
       "      <td>0.496066</td>\n",
       "      <td>0.553746</td>\n",
       "      <td>0.565339</td>\n",
       "      <td>0.520591</td>\n",
       "      <td>0.54311</td>\n",
       "      <td>0.587228</td>\n",
       "      <td>0.465919</td>\n",
       "    </tr>\n",
       "    <tr>\n",
       "      <th>1</th>\n",
       "      <td>0.018250</td>\n",
       "      <td>0.039250</td>\n",
       "      <td>0.049000</td>\n",
       "      <td>0.051250</td>\n",
       "      <td>1784.0</td>\n",
       "      <td>0.758642</td>\n",
       "      <td>0.864754</td>\n",
       "      <td>0.811397</td>\n",
       "      <td>0.733465</td>\n",
       "      <td>0.694984</td>\n",
       "      <td>0.593114</td>\n",
       "      <td>0.590263</td>\n",
       "      <td>0.54018</td>\n",
       "      <td>0.517904</td>\n",
       "      <td>0.802246</td>\n",
       "      <td>0.897468</td>\n",
       "      <td>0.905409</td>\n",
       "    </tr>\n",
       "    <tr>\n",
       "      <th>2</th>\n",
       "      <td>0.019625</td>\n",
       "      <td>0.038125</td>\n",
       "      <td>0.039375</td>\n",
       "      <td>0.039000</td>\n",
       "      <td>1647.0</td>\n",
       "      <td>0.636057</td>\n",
       "      <td>0.625512</td>\n",
       "      <td>0.647747</td>\n",
       "      <td>0.699375</td>\n",
       "      <td>0.545241</td>\n",
       "      <td>0.557489</td>\n",
       "      <td>0.403775</td>\n",
       "      <td>0.325962</td>\n",
       "      <td>0.417445</td>\n",
       "      <td>0.533893</td>\n",
       "      <td>0.668166</td>\n",
       "      <td>0.567049</td>\n",
       "    </tr>\n",
       "    <tr>\n",
       "      <th>3</th>\n",
       "      <td>0.025125</td>\n",
       "      <td>0.041000</td>\n",
       "      <td>0.035000</td>\n",
       "      <td>0.031875</td>\n",
       "      <td>1590.0</td>\n",
       "      <td>0.628635</td>\n",
       "      <td>0.557179</td>\n",
       "      <td>0.529808</td>\n",
       "      <td>0.537103</td>\n",
       "      <td>0.520591</td>\n",
       "      <td>0.644424</td>\n",
       "      <td>0.603671</td>\n",
       "      <td>0.515941</td>\n",
       "      <td>0.483744</td>\n",
       "      <td>0.619612</td>\n",
       "      <td>0.640899</td>\n",
       "      <td>0.652614</td>\n",
       "    </tr>\n",
       "    <tr>\n",
       "      <th>4</th>\n",
       "      <td>0.017625</td>\n",
       "      <td>0.043750</td>\n",
       "      <td>0.034375</td>\n",
       "      <td>0.035375</td>\n",
       "      <td>1598.0</td>\n",
       "      <td>0.3831</td>\n",
       "      <td>0.359934</td>\n",
       "      <td>0.39486</td>\n",
       "      <td>0.351761</td>\n",
       "      <td>0.431666</td>\n",
       "      <td>0.59696</td>\n",
       "      <td>0.580548</td>\n",
       "      <td>0.597486</td>\n",
       "      <td>0.557329</td>\n",
       "      <td>0.626974</td>\n",
       "      <td>0.62526</td>\n",
       "      <td>0.583547</td>\n",
       "    </tr>\n",
       "    <tr>\n",
       "      <th>...</th>\n",
       "      <td>...</td>\n",
       "      <td>...</td>\n",
       "      <td>...</td>\n",
       "      <td>...</td>\n",
       "      <td>...</td>\n",
       "      <td>...</td>\n",
       "      <td>...</td>\n",
       "      <td>...</td>\n",
       "      <td>...</td>\n",
       "      <td>...</td>\n",
       "      <td>...</td>\n",
       "      <td>...</td>\n",
       "      <td>...</td>\n",
       "      <td>...</td>\n",
       "      <td>...</td>\n",
       "      <td>...</td>\n",
       "      <td>...</td>\n",
       "    </tr>\n",
       "    <tr>\n",
       "      <th>1200</th>\n",
       "      <td>0.005375</td>\n",
       "      <td>0.009125</td>\n",
       "      <td>0.008625</td>\n",
       "      <td>0.009375</td>\n",
       "      <td>382.0</td>\n",
       "      <td>0.761378</td>\n",
       "      <td>0.58194</td>\n",
       "      <td>0.589731</td>\n",
       "      <td>0.564518</td>\n",
       "      <td>0.530238</td>\n",
       "      <td>0.632826</td>\n",
       "      <td>0.738431</td>\n",
       "      <td>0.799368</td>\n",
       "      <td>0.852685</td>\n",
       "      <td>0.710811</td>\n",
       "      <td>0.692615</td>\n",
       "      <td>0.862163</td>\n",
       "    </tr>\n",
       "    <tr>\n",
       "      <th>1201</th>\n",
       "      <td>0.006000</td>\n",
       "      <td>0.008500</td>\n",
       "      <td>0.009250</td>\n",
       "      <td>0.009625</td>\n",
       "      <td>388.0</td>\n",
       "      <td>0.630042</td>\n",
       "      <td>0.788746</td>\n",
       "      <td>0.75657</td>\n",
       "      <td>0.753607</td>\n",
       "      <td>0.664939</td>\n",
       "      <td>0.692472</td>\n",
       "      <td>0.805693</td>\n",
       "      <td>0.668857</td>\n",
       "      <td>0.633761</td>\n",
       "      <td>0.697793</td>\n",
       "      <td>0.588426</td>\n",
       "      <td>0.541017</td>\n",
       "    </tr>\n",
       "    <tr>\n",
       "      <th>1202</th>\n",
       "      <td>0.004500</td>\n",
       "      <td>0.009375</td>\n",
       "      <td>0.007500</td>\n",
       "      <td>0.008125</td>\n",
       "      <td>358.0</td>\n",
       "      <td>0.550638</td>\n",
       "      <td>0.775268</td>\n",
       "      <td>0.765337</td>\n",
       "      <td>0.790918</td>\n",
       "      <td>0.585392</td>\n",
       "      <td>0.43467</td>\n",
       "      <td>0.335148</td>\n",
       "      <td>0.359834</td>\n",
       "      <td>0.445198</td>\n",
       "      <td>0.50422</td>\n",
       "      <td>0.42853</td>\n",
       "      <td>0.471036</td>\n",
       "    </tr>\n",
       "    <tr>\n",
       "      <th>1203</th>\n",
       "      <td>0.004000</td>\n",
       "      <td>0.009000</td>\n",
       "      <td>0.010000</td>\n",
       "      <td>0.012750</td>\n",
       "      <td>456.0</td>\n",
       "      <td>0.636011</td>\n",
       "      <td>0.748156</td>\n",
       "      <td>0.76196</td>\n",
       "      <td>0.681554</td>\n",
       "      <td>0.668069</td>\n",
       "      <td>0.752171</td>\n",
       "      <td>0.865487</td>\n",
       "      <td>0.817557</td>\n",
       "      <td>0.768924</td>\n",
       "      <td>0.7034</td>\n",
       "      <td>0.654348</td>\n",
       "      <td>0.604923</td>\n",
       "    </tr>\n",
       "    <tr>\n",
       "      <th>1204</th>\n",
       "      <td>0.005750</td>\n",
       "      <td>0.011375</td>\n",
       "      <td>0.013625</td>\n",
       "      <td>0.008875</td>\n",
       "      <td>444.0</td>\n",
       "      <td>0.575557</td>\n",
       "      <td>0.514179</td>\n",
       "      <td>0.55694</td>\n",
       "      <td>0.545879</td>\n",
       "      <td>0.543234</td>\n",
       "      <td>0.632436</td>\n",
       "      <td>0.612592</td>\n",
       "      <td>0.586342</td>\n",
       "      <td>0.631452</td>\n",
       "      <td>0.673707</td>\n",
       "      <td>0.737693</td>\n",
       "      <td>0.726774</td>\n",
       "    </tr>\n",
       "  </tbody>\n",
       "</table>\n",
       "<p>1205 rows × 17 columns</p>\n",
       "</div>"
      ],
      "text/plain": [
       "         zcrs0     zcrs1     zcrs2     zcrs3  #ofcrossing         C        C♯  \\\n",
       "0     0.014375  0.045625  0.047750  0.047875       1775.0  0.632728  0.582556   \n",
       "1     0.018250  0.039250  0.049000  0.051250       1784.0  0.758642  0.864754   \n",
       "2     0.019625  0.038125  0.039375  0.039000       1647.0  0.636057  0.625512   \n",
       "3     0.025125  0.041000  0.035000  0.031875       1590.0  0.628635  0.557179   \n",
       "4     0.017625  0.043750  0.034375  0.035375       1598.0    0.3831  0.359934   \n",
       "...        ...       ...       ...       ...          ...       ...       ...   \n",
       "1200  0.005375  0.009125  0.008625  0.009375        382.0  0.761378   0.58194   \n",
       "1201  0.006000  0.008500  0.009250  0.009625        388.0  0.630042  0.788746   \n",
       "1202  0.004500  0.009375  0.007500  0.008125        358.0  0.550638  0.775268   \n",
       "1203  0.004000  0.009000  0.010000  0.012750        456.0  0.636011  0.748156   \n",
       "1204  0.005750  0.011375  0.013625  0.008875        444.0  0.575557  0.514179   \n",
       "\n",
       "             D        D♯         E         F        F♯         G        G♯  \\\n",
       "0     0.603655  0.691997  0.506335  0.496066  0.553746  0.565339  0.520591   \n",
       "1     0.811397  0.733465  0.694984  0.593114  0.590263   0.54018  0.517904   \n",
       "2     0.647747  0.699375  0.545241  0.557489  0.403775  0.325962  0.417445   \n",
       "3     0.529808  0.537103  0.520591  0.644424  0.603671  0.515941  0.483744   \n",
       "4      0.39486  0.351761  0.431666   0.59696  0.580548  0.597486  0.557329   \n",
       "...        ...       ...       ...       ...       ...       ...       ...   \n",
       "1200  0.589731  0.564518  0.530238  0.632826  0.738431  0.799368  0.852685   \n",
       "1201   0.75657  0.753607  0.664939  0.692472  0.805693  0.668857  0.633761   \n",
       "1202  0.765337  0.790918  0.585392   0.43467  0.335148  0.359834  0.445198   \n",
       "1203   0.76196  0.681554  0.668069  0.752171  0.865487  0.817557  0.768924   \n",
       "1204   0.55694  0.545879  0.543234  0.632436  0.612592  0.586342  0.631452   \n",
       "\n",
       "             A        A♯         B  \n",
       "0      0.54311  0.587228  0.465919  \n",
       "1     0.802246  0.897468  0.905409  \n",
       "2     0.533893  0.668166  0.567049  \n",
       "3     0.619612  0.640899  0.652614  \n",
       "4     0.626974   0.62526  0.583547  \n",
       "...        ...       ...       ...  \n",
       "1200  0.710811  0.692615  0.862163  \n",
       "1201  0.697793  0.588426  0.541017  \n",
       "1202   0.50422   0.42853  0.471036  \n",
       "1203    0.7034  0.654348  0.604923  \n",
       "1204  0.673707  0.737693  0.726774  \n",
       "\n",
       "[1205 rows x 17 columns]"
      ]
     },
     "execution_count": 54,
     "metadata": {},
     "output_type": "execute_result"
    }
   ],
   "source": [
    "final_df = pd.concat([df, ch_df], axis =1)\n",
    "final_df"
   ]
  },
  {
   "cell_type": "code",
   "execution_count": 55,
   "id": "32a62976",
   "metadata": {},
   "outputs": [
    {
     "data": {
      "text/html": [
       "<div>\n",
       "<style scoped>\n",
       "    .dataframe tbody tr th:only-of-type {\n",
       "        vertical-align: middle;\n",
       "    }\n",
       "\n",
       "    .dataframe tbody tr th {\n",
       "        vertical-align: top;\n",
       "    }\n",
       "\n",
       "    .dataframe thead th {\n",
       "        text-align: right;\n",
       "    }\n",
       "</style>\n",
       "<table border=\"1\" class=\"dataframe\">\n",
       "  <thead>\n",
       "    <tr style=\"text-align: right;\">\n",
       "      <th></th>\n",
       "      <th>zcrs0</th>\n",
       "      <th>zcrs1</th>\n",
       "      <th>zcrs2</th>\n",
       "      <th>zcrs3</th>\n",
       "      <th>#ofcrossing</th>\n",
       "      <th>C</th>\n",
       "      <th>C♯</th>\n",
       "      <th>D</th>\n",
       "      <th>D♯</th>\n",
       "      <th>E</th>\n",
       "      <th>...</th>\n",
       "      <th>tempogram_182</th>\n",
       "      <th>tempogram_183</th>\n",
       "      <th>tempogram_184</th>\n",
       "      <th>tempogram_185</th>\n",
       "      <th>tempogram_186</th>\n",
       "      <th>tempogram_187</th>\n",
       "      <th>tempogram_188</th>\n",
       "      <th>tempogram_189</th>\n",
       "      <th>tempogram_190</th>\n",
       "      <th>tempogram_191</th>\n",
       "    </tr>\n",
       "  </thead>\n",
       "  <tbody>\n",
       "    <tr>\n",
       "      <th>0</th>\n",
       "      <td>0.014375</td>\n",
       "      <td>0.045625</td>\n",
       "      <td>0.047750</td>\n",
       "      <td>0.047875</td>\n",
       "      <td>1775.0</td>\n",
       "      <td>0.632728</td>\n",
       "      <td>0.582556</td>\n",
       "      <td>0.603655</td>\n",
       "      <td>0.691997</td>\n",
       "      <td>0.506335</td>\n",
       "      <td>...</td>\n",
       "      <td>0.0</td>\n",
       "      <td>0.0</td>\n",
       "      <td>0.0</td>\n",
       "      <td>0.0</td>\n",
       "      <td>0.0</td>\n",
       "      <td>0.0</td>\n",
       "      <td>0.0</td>\n",
       "      <td>0.0</td>\n",
       "      <td>0.0</td>\n",
       "      <td>0.0</td>\n",
       "    </tr>\n",
       "    <tr>\n",
       "      <th>1</th>\n",
       "      <td>0.018250</td>\n",
       "      <td>0.039250</td>\n",
       "      <td>0.049000</td>\n",
       "      <td>0.051250</td>\n",
       "      <td>1784.0</td>\n",
       "      <td>0.758642</td>\n",
       "      <td>0.864754</td>\n",
       "      <td>0.811397</td>\n",
       "      <td>0.733465</td>\n",
       "      <td>0.694984</td>\n",
       "      <td>...</td>\n",
       "      <td>-0.0</td>\n",
       "      <td>0.0</td>\n",
       "      <td>0.0</td>\n",
       "      <td>0.0</td>\n",
       "      <td>0.0</td>\n",
       "      <td>-0.0</td>\n",
       "      <td>0.0</td>\n",
       "      <td>0.0</td>\n",
       "      <td>0.0</td>\n",
       "      <td>0.0</td>\n",
       "    </tr>\n",
       "    <tr>\n",
       "      <th>2</th>\n",
       "      <td>0.019625</td>\n",
       "      <td>0.038125</td>\n",
       "      <td>0.039375</td>\n",
       "      <td>0.039000</td>\n",
       "      <td>1647.0</td>\n",
       "      <td>0.636057</td>\n",
       "      <td>0.625512</td>\n",
       "      <td>0.647747</td>\n",
       "      <td>0.699375</td>\n",
       "      <td>0.545241</td>\n",
       "      <td>...</td>\n",
       "      <td>-0.0</td>\n",
       "      <td>0.0</td>\n",
       "      <td>0.0</td>\n",
       "      <td>0.0</td>\n",
       "      <td>0.0</td>\n",
       "      <td>-0.0</td>\n",
       "      <td>0.0</td>\n",
       "      <td>0.0</td>\n",
       "      <td>0.0</td>\n",
       "      <td>0.0</td>\n",
       "    </tr>\n",
       "    <tr>\n",
       "      <th>3</th>\n",
       "      <td>0.025125</td>\n",
       "      <td>0.041000</td>\n",
       "      <td>0.035000</td>\n",
       "      <td>0.031875</td>\n",
       "      <td>1590.0</td>\n",
       "      <td>0.628635</td>\n",
       "      <td>0.557179</td>\n",
       "      <td>0.529808</td>\n",
       "      <td>0.537103</td>\n",
       "      <td>0.520591</td>\n",
       "      <td>...</td>\n",
       "      <td>0.0</td>\n",
       "      <td>0.0</td>\n",
       "      <td>0.0</td>\n",
       "      <td>0.0</td>\n",
       "      <td>0.0</td>\n",
       "      <td>0.0</td>\n",
       "      <td>0.0</td>\n",
       "      <td>0.0</td>\n",
       "      <td>0.0</td>\n",
       "      <td>0.0</td>\n",
       "    </tr>\n",
       "    <tr>\n",
       "      <th>4</th>\n",
       "      <td>0.017625</td>\n",
       "      <td>0.043750</td>\n",
       "      <td>0.034375</td>\n",
       "      <td>0.035375</td>\n",
       "      <td>1598.0</td>\n",
       "      <td>0.3831</td>\n",
       "      <td>0.359934</td>\n",
       "      <td>0.39486</td>\n",
       "      <td>0.351761</td>\n",
       "      <td>0.431666</td>\n",
       "      <td>...</td>\n",
       "      <td>-0.0</td>\n",
       "      <td>0.0</td>\n",
       "      <td>0.0</td>\n",
       "      <td>-0.0</td>\n",
       "      <td>0.0</td>\n",
       "      <td>-0.0</td>\n",
       "      <td>-0.0</td>\n",
       "      <td>-0.0</td>\n",
       "      <td>-0.0</td>\n",
       "      <td>0.0</td>\n",
       "    </tr>\n",
       "    <tr>\n",
       "      <th>...</th>\n",
       "      <td>...</td>\n",
       "      <td>...</td>\n",
       "      <td>...</td>\n",
       "      <td>...</td>\n",
       "      <td>...</td>\n",
       "      <td>...</td>\n",
       "      <td>...</td>\n",
       "      <td>...</td>\n",
       "      <td>...</td>\n",
       "      <td>...</td>\n",
       "      <td>...</td>\n",
       "      <td>...</td>\n",
       "      <td>...</td>\n",
       "      <td>...</td>\n",
       "      <td>...</td>\n",
       "      <td>...</td>\n",
       "      <td>...</td>\n",
       "      <td>...</td>\n",
       "      <td>...</td>\n",
       "      <td>...</td>\n",
       "      <td>...</td>\n",
       "    </tr>\n",
       "    <tr>\n",
       "      <th>1200</th>\n",
       "      <td>0.005375</td>\n",
       "      <td>0.009125</td>\n",
       "      <td>0.008625</td>\n",
       "      <td>0.009375</td>\n",
       "      <td>382.0</td>\n",
       "      <td>0.761378</td>\n",
       "      <td>0.58194</td>\n",
       "      <td>0.589731</td>\n",
       "      <td>0.564518</td>\n",
       "      <td>0.530238</td>\n",
       "      <td>...</td>\n",
       "      <td>-0.0</td>\n",
       "      <td>-0.0</td>\n",
       "      <td>-0.0</td>\n",
       "      <td>0.0</td>\n",
       "      <td>0.0</td>\n",
       "      <td>-0.0</td>\n",
       "      <td>-0.0</td>\n",
       "      <td>0.0</td>\n",
       "      <td>0.0</td>\n",
       "      <td>0.0</td>\n",
       "    </tr>\n",
       "    <tr>\n",
       "      <th>1201</th>\n",
       "      <td>0.006000</td>\n",
       "      <td>0.008500</td>\n",
       "      <td>0.009250</td>\n",
       "      <td>0.009625</td>\n",
       "      <td>388.0</td>\n",
       "      <td>0.630042</td>\n",
       "      <td>0.788746</td>\n",
       "      <td>0.75657</td>\n",
       "      <td>0.753607</td>\n",
       "      <td>0.664939</td>\n",
       "      <td>...</td>\n",
       "      <td>-0.0</td>\n",
       "      <td>-0.0</td>\n",
       "      <td>-0.0</td>\n",
       "      <td>0.0</td>\n",
       "      <td>0.0</td>\n",
       "      <td>-0.0</td>\n",
       "      <td>0.0</td>\n",
       "      <td>0.0</td>\n",
       "      <td>0.0</td>\n",
       "      <td>0.0</td>\n",
       "    </tr>\n",
       "    <tr>\n",
       "      <th>1202</th>\n",
       "      <td>0.004500</td>\n",
       "      <td>0.009375</td>\n",
       "      <td>0.007500</td>\n",
       "      <td>0.008125</td>\n",
       "      <td>358.0</td>\n",
       "      <td>0.550638</td>\n",
       "      <td>0.775268</td>\n",
       "      <td>0.765337</td>\n",
       "      <td>0.790918</td>\n",
       "      <td>0.585392</td>\n",
       "      <td>...</td>\n",
       "      <td>-0.0</td>\n",
       "      <td>0.0</td>\n",
       "      <td>0.0</td>\n",
       "      <td>0.0</td>\n",
       "      <td>0.0</td>\n",
       "      <td>-0.0</td>\n",
       "      <td>0.0</td>\n",
       "      <td>0.0</td>\n",
       "      <td>0.0</td>\n",
       "      <td>0.0</td>\n",
       "    </tr>\n",
       "    <tr>\n",
       "      <th>1203</th>\n",
       "      <td>0.004000</td>\n",
       "      <td>0.009000</td>\n",
       "      <td>0.010000</td>\n",
       "      <td>0.012750</td>\n",
       "      <td>456.0</td>\n",
       "      <td>0.636011</td>\n",
       "      <td>0.748156</td>\n",
       "      <td>0.76196</td>\n",
       "      <td>0.681554</td>\n",
       "      <td>0.668069</td>\n",
       "      <td>...</td>\n",
       "      <td>-0.0</td>\n",
       "      <td>0.0</td>\n",
       "      <td>0.0</td>\n",
       "      <td>0.0</td>\n",
       "      <td>0.0</td>\n",
       "      <td>-0.0</td>\n",
       "      <td>0.0</td>\n",
       "      <td>0.0</td>\n",
       "      <td>0.0</td>\n",
       "      <td>0.0</td>\n",
       "    </tr>\n",
       "    <tr>\n",
       "      <th>1204</th>\n",
       "      <td>0.005750</td>\n",
       "      <td>0.011375</td>\n",
       "      <td>0.013625</td>\n",
       "      <td>0.008875</td>\n",
       "      <td>444.0</td>\n",
       "      <td>0.575557</td>\n",
       "      <td>0.514179</td>\n",
       "      <td>0.55694</td>\n",
       "      <td>0.545879</td>\n",
       "      <td>0.543234</td>\n",
       "      <td>...</td>\n",
       "      <td>-0.0</td>\n",
       "      <td>0.0</td>\n",
       "      <td>0.0</td>\n",
       "      <td>0.0</td>\n",
       "      <td>0.0</td>\n",
       "      <td>-0.0</td>\n",
       "      <td>0.0</td>\n",
       "      <td>0.0</td>\n",
       "      <td>0.0</td>\n",
       "      <td>0.0</td>\n",
       "    </tr>\n",
       "  </tbody>\n",
       "</table>\n",
       "<p>1205 rows × 209 columns</p>\n",
       "</div>"
      ],
      "text/plain": [
       "         zcrs0     zcrs1     zcrs2     zcrs3  #ofcrossing         C        C♯  \\\n",
       "0     0.014375  0.045625  0.047750  0.047875       1775.0  0.632728  0.582556   \n",
       "1     0.018250  0.039250  0.049000  0.051250       1784.0  0.758642  0.864754   \n",
       "2     0.019625  0.038125  0.039375  0.039000       1647.0  0.636057  0.625512   \n",
       "3     0.025125  0.041000  0.035000  0.031875       1590.0  0.628635  0.557179   \n",
       "4     0.017625  0.043750  0.034375  0.035375       1598.0    0.3831  0.359934   \n",
       "...        ...       ...       ...       ...          ...       ...       ...   \n",
       "1200  0.005375  0.009125  0.008625  0.009375        382.0  0.761378   0.58194   \n",
       "1201  0.006000  0.008500  0.009250  0.009625        388.0  0.630042  0.788746   \n",
       "1202  0.004500  0.009375  0.007500  0.008125        358.0  0.550638  0.775268   \n",
       "1203  0.004000  0.009000  0.010000  0.012750        456.0  0.636011  0.748156   \n",
       "1204  0.005750  0.011375  0.013625  0.008875        444.0  0.575557  0.514179   \n",
       "\n",
       "             D        D♯         E  ... tempogram_182 tempogram_183  \\\n",
       "0     0.603655  0.691997  0.506335  ...           0.0           0.0   \n",
       "1     0.811397  0.733465  0.694984  ...          -0.0           0.0   \n",
       "2     0.647747  0.699375  0.545241  ...          -0.0           0.0   \n",
       "3     0.529808  0.537103  0.520591  ...           0.0           0.0   \n",
       "4      0.39486  0.351761  0.431666  ...          -0.0           0.0   \n",
       "...        ...       ...       ...  ...           ...           ...   \n",
       "1200  0.589731  0.564518  0.530238  ...          -0.0          -0.0   \n",
       "1201   0.75657  0.753607  0.664939  ...          -0.0          -0.0   \n",
       "1202  0.765337  0.790918  0.585392  ...          -0.0           0.0   \n",
       "1203   0.76196  0.681554  0.668069  ...          -0.0           0.0   \n",
       "1204   0.55694  0.545879  0.543234  ...          -0.0           0.0   \n",
       "\n",
       "     tempogram_184 tempogram_185 tempogram_186 tempogram_187 tempogram_188  \\\n",
       "0              0.0           0.0           0.0           0.0           0.0   \n",
       "1              0.0           0.0           0.0          -0.0           0.0   \n",
       "2              0.0           0.0           0.0          -0.0           0.0   \n",
       "3              0.0           0.0           0.0           0.0           0.0   \n",
       "4              0.0          -0.0           0.0          -0.0          -0.0   \n",
       "...            ...           ...           ...           ...           ...   \n",
       "1200          -0.0           0.0           0.0          -0.0          -0.0   \n",
       "1201          -0.0           0.0           0.0          -0.0           0.0   \n",
       "1202           0.0           0.0           0.0          -0.0           0.0   \n",
       "1203           0.0           0.0           0.0          -0.0           0.0   \n",
       "1204           0.0           0.0           0.0          -0.0           0.0   \n",
       "\n",
       "     tempogram_189 tempogram_190 tempogram_191  \n",
       "0              0.0           0.0           0.0  \n",
       "1              0.0           0.0           0.0  \n",
       "2              0.0           0.0           0.0  \n",
       "3              0.0           0.0           0.0  \n",
       "4             -0.0          -0.0           0.0  \n",
       "...            ...           ...           ...  \n",
       "1200           0.0           0.0           0.0  \n",
       "1201           0.0           0.0           0.0  \n",
       "1202           0.0           0.0           0.0  \n",
       "1203           0.0           0.0           0.0  \n",
       "1204           0.0           0.0           0.0  \n",
       "\n",
       "[1205 rows x 209 columns]"
      ]
     },
     "execution_count": 55,
     "metadata": {},
     "output_type": "execute_result"
    }
   ],
   "source": [
    "final_df = pd.concat([final_df, df_t], axis=1)\n",
    "final_df"
   ]
  },
  {
   "cell_type": "code",
   "execution_count": 56,
   "id": "7c0247a6",
   "metadata": {},
   "outputs": [],
   "source": [
    "final_df.to_csv(path + '/present_TV_final_sp.csv')"
   ]
  },
  {
   "cell_type": "code",
   "execution_count": null,
   "id": "c49dade0",
   "metadata": {},
   "outputs": [],
   "source": []
  },
  {
   "cell_type": "code",
   "execution_count": null,
   "id": "5900dbe9",
   "metadata": {},
   "outputs": [],
   "source": []
  }
 ],
 "metadata": {
  "kernelspec": {
   "display_name": "Python 3 (ipykernel)",
   "language": "python",
   "name": "python3"
  },
  "language_info": {
   "codemirror_mode": {
    "name": "ipython",
    "version": 3
   },
   "file_extension": ".py",
   "mimetype": "text/x-python",
   "name": "python",
   "nbconvert_exporter": "python",
   "pygments_lexer": "ipython3",
   "version": "3.9.9"
  }
 },
 "nbformat": 4,
 "nbformat_minor": 5
}
