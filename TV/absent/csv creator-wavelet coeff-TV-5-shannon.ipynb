{
 "cells": [
  {
   "cell_type": "markdown",
   "id": "9738d69c",
   "metadata": {},
   "source": [
    "### Imports"
   ]
  },
  {
   "cell_type": "code",
   "execution_count": 1,
   "id": "dc7b749c",
   "metadata": {},
   "outputs": [],
   "source": [
    "import warnings\n",
    "warnings.filterwarnings(\"ignore\")"
   ]
  },
  {
   "cell_type": "code",
   "execution_count": 2,
   "id": "749d0c72",
   "metadata": {},
   "outputs": [],
   "source": [
    "#imports\n",
    "import scipy.io\n",
    "import os\n",
    "import pandas\n",
    "import numpy as np\n",
    "import matplotlib.pyplot as plt\n",
    "import matplotlib.pylab as pl\n",
    "import matplotlib.gridspec as gridspec\n",
    "import obspy\n",
    "import pywt\n",
    "import pywt.data"
   ]
  },
  {
   "cell_type": "markdown",
   "id": "2bc54617",
   "metadata": {},
   "source": [
    "### Load the trimmed data "
   ]
  },
  {
   "cell_type": "code",
   "execution_count": 3,
   "id": "cd387f07",
   "metadata": {},
   "outputs": [],
   "source": [
    "path = \"/Users/ecem/Desktop/phonocardiogram/data/TV/absent\"\n",
    "path_w = \"/Users/ecem/Desktop/phonocardiogram/data/TV/absent/wavelet\"\n",
    "waves = np.load(path + \"/absent_TV_waves_10sec.npy\", allow_pickle= True)"
   ]
  },
  {
   "cell_type": "code",
   "execution_count": 4,
   "id": "2a96529d",
   "metadata": {},
   "outputs": [],
   "source": [
    "n= waves.shape[0]"
   ]
  },
  {
   "cell_type": "code",
   "execution_count": 5,
   "id": "d110333c",
   "metadata": {},
   "outputs": [
    {
     "data": {
      "text/plain": [
       "5718"
      ]
     },
     "execution_count": 5,
     "metadata": {},
     "output_type": "execute_result"
    }
   ],
   "source": [
    "n"
   ]
  },
  {
   "cell_type": "markdown",
   "id": "c0d9b74d",
   "metadata": {},
   "source": [
    "## Let's look at wavelet decomposition for a signal piece"
   ]
  },
  {
   "cell_type": "markdown",
   "id": "f8c7f06d",
   "metadata": {},
   "source": [
    "#### how our decomposition filter values look like"
   ]
  },
  {
   "cell_type": "code",
   "execution_count": 6,
   "id": "556de875",
   "metadata": {},
   "outputs": [
    {
     "data": {
      "image/png": "[encoded data removed]",
      "text/plain": [
       "<Figure size 432x288 with 1 Axes>"
      ]
     },
     "metadata": {
      "needs_background": "light"
     },
     "output_type": "display_data"
    }
   ],
   "source": [
    "w = pywt.Wavelet('db8')\n",
    "plt.plot(w.dec_lo)\n",
    "coeffs = pywt.wavedec(waves[0], w, level=6)"
   ]
  },
  {
   "cell_type": "code",
   "execution_count": 7,
   "id": "95ab5a75",
   "metadata": {},
   "outputs": [],
   "source": [
    "import pandas as pd"
   ]
  },
  {
   "cell_type": "code",
   "execution_count": 8,
   "id": "cb801cab",
   "metadata": {},
   "outputs": [],
   "source": [
    "coef = []\n",
    "for i in range(len(waves)):\n",
    "    coef.append(pywt.wavedec(waves[i], w, level=5))"
   ]
  },
  {
   "cell_type": "code",
   "execution_count": 9,
   "id": "772ae19a",
   "metadata": {},
   "outputs": [
    {
     "name": "stdout",
     "output_type": "stream",
     "text": [
      "(1264,)\n",
      "(1264,)\n",
      "(2514,)\n",
      "(5013,)\n",
      "(10011,)\n",
      "(20007,)\n"
     ]
    }
   ],
   "source": [
    "for i in range(6):\n",
    "    print(coef[0][i].shape)"
   ]
  },
  {
   "cell_type": "markdown",
   "id": "37f4e1b1",
   "metadata": {},
   "source": [
    "### Level by level"
   ]
  },
  {
   "cell_type": "code",
   "execution_count": 10,
   "id": "95d28b26",
   "metadata": {},
   "outputs": [],
   "source": [
    "def level_coef_extractor_3d(array, lvl = 0):\n",
    "    array =np.array(array)\n",
    "    \n",
    "    lenn = array[0][lvl].shape[0] #48\n",
    "    coef = np.ones(shape = (array.shape[0],lenn)) #2392,48\n",
    "    \n",
    "    for i in range(array.shape[0]):\n",
    "        coef[i,:] = array[i][lvl]\n",
    "        \n",
    "    return coef"
   ]
  },
  {
   "cell_type": "code",
   "execution_count": 11,
   "id": "4e06553b",
   "metadata": {},
   "outputs": [],
   "source": [
    "def saver(array = 0, lvl = 0, dir_path = None, name = 'blank'):\n",
    "    coefs = level_coef_extractor_3d(array, lvl)\n",
    "    np.save(dir_path + \"/\"+ str(name) + \"_lvl_\"  + str(lvl), coefs, allow_pickle = True)\n",
    "    del coefs"
   ]
  },
  {
   "cell_type": "code",
   "execution_count": 12,
   "id": "0e5c5c82",
   "metadata": {},
   "outputs": [],
   "source": [
    "for i in range(6):\n",
    "    saver(coef, i, path_w, 'absent_PV_wavelet_coef_5')\n"
   ]
  },
  {
   "cell_type": "markdown",
   "id": "5100e20b",
   "metadata": {},
   "source": [
    "## Shannon entropy\n",
    "\n",
    "The core idea of information theory is that the \"informational value\" of a communicated message depends on the degree to which the content of the message is surprising. \n",
    "\n",
    "If a highly likely event occurs, the message carries very little new information. On the other hand, if a highly unlikely event occurs, the message is much more informative. For instance, the knowledge that some particular number will not be the winning number of a lottery provides very little information, because any particular chosen number will almost certainly not win. \n",
    "\n",
    "However, knowledge that a particular number will win a lottery has high informational value because it communicates the outcome of a very low probability event.\n",
    "\n",
    "There is therefore an inverse relationship between information and the probability of occurrence\n",
    "\n",
    "Remember that Shannon Entropy works on sequences (or probability distribution built from sequences) therefore, you need to have an historic already built up of what your sequence of interest looks like."
   ]
  },
  {
   "cell_type": "code",
   "execution_count": 13,
   "id": "a98ce1f7",
   "metadata": {},
   "outputs": [],
   "source": [
    "import scipy.stats"
   ]
  },
  {
   "cell_type": "code",
   "execution_count": 14,
   "id": "3eb3ae92",
   "metadata": {},
   "outputs": [
    {
     "data": {
      "text/plain": [
       "[<matplotlib.lines.Line2D at 0x2b6c67940>]"
      ]
     },
     "execution_count": 14,
     "metadata": {},
     "output_type": "execute_result"
    },
    {
     "data": {
      "image/png": "[encoded data removed]",
      "text/plain": [
       "<Figure size 432x288 with 1 Axes>"
      ]
     },
     "metadata": {
      "needs_background": "light"
     },
     "output_type": "display_data"
    }
   ],
   "source": [
    "plt.plot(coef[0][0])"
   ]
  },
  {
   "cell_type": "code",
   "execution_count": 15,
   "id": "b367b7ac",
   "metadata": {},
   "outputs": [],
   "source": [
    "def scale(data): #1264\n",
    "    maxx = data.max()\n",
    "    minn = data.min()\n",
    "    \n",
    "    diff = maxx - minn\n",
    "    scaled = np.empty((data.shape[0]))\n",
    "    \n",
    "    for i in range(data.shape[0]):\n",
    "        scaled[i] = (data[i] - minn )/ diff\n",
    "    return scaled"
   ]
  },
  {
   "cell_type": "code",
   "execution_count": 16,
   "id": "658a7621",
   "metadata": {},
   "outputs": [
    {
     "data": {
      "text/plain": [
       "1264"
      ]
     },
     "execution_count": 16,
     "metadata": {},
     "output_type": "execute_result"
    }
   ],
   "source": [
    "len(coef[0][0]) #1245,6,1264"
   ]
  },
  {
   "cell_type": "code",
   "execution_count": 17,
   "id": "68d963f9",
   "metadata": {},
   "outputs": [],
   "source": [
    "def scaled_wavelet(array, lvl = 6):\n",
    "    all_wavelets = []\n",
    "    \n",
    "    for i in range(lvl):\n",
    "        lenn = array[0][i].shape[0] #level uzunluğu alıyor\n",
    "        scaled_lvl = np.empty((array.shape[0], lenn)) # 1245, level uzunluğu kadar array oluşturuyor\n",
    "        \n",
    "        for j in range(array.shape[0]): #1245\n",
    "            scaled_lvl[j,:] = scale(coef[j][i])  \n",
    "            \n",
    "        all_wavelets.append(scaled_lvl)\n",
    "    return all_wavelets"
   ]
  },
  {
   "cell_type": "code",
   "execution_count": 18,
   "id": "428dd9ee",
   "metadata": {},
   "outputs": [],
   "source": [
    "coef = np.array(coef)\n",
    "wavelets = scaled_wavelet(coef)"
   ]
  },
  {
   "cell_type": "code",
   "execution_count": 19,
   "id": "ab122a96",
   "metadata": {},
   "outputs": [
    {
     "data": {
      "text/plain": [
       "1264"
      ]
     },
     "execution_count": 19,
     "metadata": {},
     "output_type": "execute_result"
    }
   ],
   "source": [
    "len(wavelets[0][0]) # 6, 1245, 1264"
   ]
  },
  {
   "cell_type": "code",
   "execution_count": 20,
   "id": "2d578c40",
   "metadata": {},
   "outputs": [
    {
     "data": {
      "text/plain": [
       "[<matplotlib.lines.Line2D at 0x1229b2ac0>]"
      ]
     },
     "execution_count": 20,
     "metadata": {},
     "output_type": "execute_result"
    },
    {
     "data": {
      "image/png": "[encoded data removed]",
      "text/plain": [
       "<Figure size 432x288 with 1 Axes>"
      ]
     },
     "metadata": {
      "needs_background": "light"
     },
     "output_type": "display_data"
    }
   ],
   "source": [
    "plt.plot(wavelets[0][0])"
   ]
  },
  {
   "cell_type": "code",
   "execution_count": 21,
   "id": "a59da63b",
   "metadata": {},
   "outputs": [],
   "source": [
    "ent = np.empty((n, 6))\n",
    "for j in range(6):\n",
    "    for i in range(n):#1245\n",
    "        ent[i, j] = scipy.stats.entropy(wavelets[j][i])"
   ]
  },
  {
   "cell_type": "code",
   "execution_count": 22,
   "id": "6e0ae512",
   "metadata": {},
   "outputs": [
    {
     "data": {
      "text/plain": [
       "array([[7.12875919, 7.14039583, 7.82798375, 8.51863246, 9.21106889,\n",
       "        9.90376153],\n",
       "       [7.12762208, 7.13585469, 7.8268504 , 8.51538886, 9.20871785,\n",
       "        9.90355239],\n",
       "       [7.12778189, 7.13896062, 7.82600458, 8.51788179, 9.20939726,\n",
       "        9.90368406],\n",
       "       ...,\n",
       "       [7.13056764, 7.13559966, 7.79238669, 8.49352449, 9.19254503,\n",
       "        9.90371039],\n",
       "       [7.1384477 , 7.13916101, 7.82854862, 8.47875242, 9.20596179,\n",
       "        9.90374429],\n",
       "       [7.13597643, 7.13902726, 7.82829822, 8.51896341, 9.21085383,\n",
       "        9.90376969]])"
      ]
     },
     "execution_count": 22,
     "metadata": {},
     "output_type": "execute_result"
    }
   ],
   "source": [
    "ent"
   ]
  },
  {
   "cell_type": "code",
   "execution_count": 23,
   "id": "6f68353c",
   "metadata": {},
   "outputs": [
    {
     "data": {
      "text/html": [
       "<div>\n",
       "<style scoped>\n",
       "    .dataframe tbody tr th:only-of-type {\n",
       "        vertical-align: middle;\n",
       "    }\n",
       "\n",
       "    .dataframe tbody tr th {\n",
       "        vertical-align: top;\n",
       "    }\n",
       "\n",
       "    .dataframe thead th {\n",
       "        text-align: right;\n",
       "    }\n",
       "</style>\n",
       "<table border=\"1\" class=\"dataframe\">\n",
       "  <thead>\n",
       "    <tr style=\"text-align: right;\">\n",
       "      <th></th>\n",
       "      <th>approx</th>\n",
       "      <th>lvl5</th>\n",
       "      <th>lvl4</th>\n",
       "      <th>lvl3</th>\n",
       "      <th>lvl2</th>\n",
       "      <th>lvl1</th>\n",
       "    </tr>\n",
       "  </thead>\n",
       "  <tbody>\n",
       "    <tr>\n",
       "      <th>0</th>\n",
       "      <td>7.128759</td>\n",
       "      <td>7.140396</td>\n",
       "      <td>7.827984</td>\n",
       "      <td>8.518632</td>\n",
       "      <td>9.211069</td>\n",
       "      <td>9.903762</td>\n",
       "    </tr>\n",
       "    <tr>\n",
       "      <th>1</th>\n",
       "      <td>7.127622</td>\n",
       "      <td>7.135855</td>\n",
       "      <td>7.826850</td>\n",
       "      <td>8.515389</td>\n",
       "      <td>9.208718</td>\n",
       "      <td>9.903552</td>\n",
       "    </tr>\n",
       "    <tr>\n",
       "      <th>2</th>\n",
       "      <td>7.127782</td>\n",
       "      <td>7.138961</td>\n",
       "      <td>7.826005</td>\n",
       "      <td>8.517882</td>\n",
       "      <td>9.209397</td>\n",
       "      <td>9.903684</td>\n",
       "    </tr>\n",
       "    <tr>\n",
       "      <th>3</th>\n",
       "      <td>7.125478</td>\n",
       "      <td>7.140616</td>\n",
       "      <td>7.828822</td>\n",
       "      <td>8.519336</td>\n",
       "      <td>9.210906</td>\n",
       "      <td>9.903748</td>\n",
       "    </tr>\n",
       "    <tr>\n",
       "      <th>4</th>\n",
       "      <td>7.128550</td>\n",
       "      <td>7.133429</td>\n",
       "      <td>7.819289</td>\n",
       "      <td>8.515996</td>\n",
       "      <td>9.206467</td>\n",
       "      <td>9.903670</td>\n",
       "    </tr>\n",
       "    <tr>\n",
       "      <th>...</th>\n",
       "      <td>...</td>\n",
       "      <td>...</td>\n",
       "      <td>...</td>\n",
       "      <td>...</td>\n",
       "      <td>...</td>\n",
       "      <td>...</td>\n",
       "    </tr>\n",
       "    <tr>\n",
       "      <th>5713</th>\n",
       "      <td>7.140428</td>\n",
       "      <td>7.140562</td>\n",
       "      <td>7.828294</td>\n",
       "      <td>8.518869</td>\n",
       "      <td>9.208954</td>\n",
       "      <td>9.903689</td>\n",
       "    </tr>\n",
       "    <tr>\n",
       "      <th>5714</th>\n",
       "      <td>7.137012</td>\n",
       "      <td>7.139455</td>\n",
       "      <td>7.808572</td>\n",
       "      <td>8.500026</td>\n",
       "      <td>9.204949</td>\n",
       "      <td>9.903756</td>\n",
       "    </tr>\n",
       "    <tr>\n",
       "      <th>5715</th>\n",
       "      <td>7.130568</td>\n",
       "      <td>7.135600</td>\n",
       "      <td>7.792387</td>\n",
       "      <td>8.493524</td>\n",
       "      <td>9.192545</td>\n",
       "      <td>9.903710</td>\n",
       "    </tr>\n",
       "    <tr>\n",
       "      <th>5716</th>\n",
       "      <td>7.138448</td>\n",
       "      <td>7.139161</td>\n",
       "      <td>7.828549</td>\n",
       "      <td>8.478752</td>\n",
       "      <td>9.205962</td>\n",
       "      <td>9.903744</td>\n",
       "    </tr>\n",
       "    <tr>\n",
       "      <th>5717</th>\n",
       "      <td>7.135976</td>\n",
       "      <td>7.139027</td>\n",
       "      <td>7.828298</td>\n",
       "      <td>8.518963</td>\n",
       "      <td>9.210854</td>\n",
       "      <td>9.903770</td>\n",
       "    </tr>\n",
       "  </tbody>\n",
       "</table>\n",
       "<p>5718 rows × 6 columns</p>\n",
       "</div>"
      ],
      "text/plain": [
       "        approx      lvl5      lvl4      lvl3      lvl2      lvl1\n",
       "0     7.128759  7.140396  7.827984  8.518632  9.211069  9.903762\n",
       "1     7.127622  7.135855  7.826850  8.515389  9.208718  9.903552\n",
       "2     7.127782  7.138961  7.826005  8.517882  9.209397  9.903684\n",
       "3     7.125478  7.140616  7.828822  8.519336  9.210906  9.903748\n",
       "4     7.128550  7.133429  7.819289  8.515996  9.206467  9.903670\n",
       "...        ...       ...       ...       ...       ...       ...\n",
       "5713  7.140428  7.140562  7.828294  8.518869  9.208954  9.903689\n",
       "5714  7.137012  7.139455  7.808572  8.500026  9.204949  9.903756\n",
       "5715  7.130568  7.135600  7.792387  8.493524  9.192545  9.903710\n",
       "5716  7.138448  7.139161  7.828549  8.478752  9.205962  9.903744\n",
       "5717  7.135976  7.139027  7.828298  8.518963  9.210854  9.903770\n",
       "\n",
       "[5718 rows x 6 columns]"
      ]
     },
     "execution_count": 23,
     "metadata": {},
     "output_type": "execute_result"
    }
   ],
   "source": [
    "ent_df = pd.DataFrame(ent, columns = [\"approx\",\"lvl5\", \"lvl4\", \"lvl3\", \"lvl2\", \"lvl1\"])\n",
    "ent_df"
   ]
  },
  {
   "cell_type": "code",
   "execution_count": 24,
   "id": "ce41bdef",
   "metadata": {},
   "outputs": [],
   "source": [
    "ent_df.to_csv(path_w + \"shannon_entropy_TV.csv\")"
   ]
  },
  {
   "cell_type": "code",
   "execution_count": null,
   "id": "644886e4",
   "metadata": {},
   "outputs": [],
   "source": []
  }
 ],
 "metadata": {
  "kernelspec": {
   "display_name": "Python 3 (ipykernel)",
   "language": "python",
   "name": "python3"
  },
  "language_info": {
   "codemirror_mode": {
    "name": "ipython",
    "version": 3
   },
   "file_extension": ".py",
   "mimetype": "text/x-python",
   "name": "python",
   "nbconvert_exporter": "python",
   "pygments_lexer": "ipython3",
   "version": "3.9.9"
  }
 },
 "nbformat": 4,
 "nbformat_minor": 5
}
