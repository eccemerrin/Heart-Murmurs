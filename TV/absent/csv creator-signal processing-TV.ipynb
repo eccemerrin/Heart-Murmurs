{
 "cells": [
  {
   "cell_type": "markdown",
   "id": "a10707b4",
   "metadata": {},
   "source": [
    "## Imports:"
   ]
  },
  {
   "cell_type": "code",
   "execution_count": 1,
   "id": "5b0b2dcc",
   "metadata": {},
   "outputs": [
    {
     "ename": "RuntimeError",
     "evalue": "module compiled against API version 0xe but this version of numpy is 0xd",
     "output_type": "error",
     "traceback": [
      "\u001b[0;31m---------------------------------------------------------------------------\u001b[0m",
      "\u001b[0;31mRuntimeError\u001b[0m                              Traceback (most recent call last)",
      "\u001b[0;31mRuntimeError\u001b[0m: module compiled against API version 0xe but this version of numpy is 0xd"
     ]
    }
   ],
   "source": [
    "import scipy.io\n",
    "import os\n",
    "import pandas\n",
    "import numpy as np\n",
    "import matplotlib.pyplot as plt\n",
    "import matplotlib.pylab as plt_lab\n",
    "import matplotlib.gridspec as gridspec\n",
    "import obspy\n",
    "import pandas as pd"
   ]
  },
  {
   "cell_type": "code",
   "execution_count": 2,
   "id": "995724bf",
   "metadata": {},
   "outputs": [],
   "source": [
    "import warnings\n",
    "warnings.filterwarnings('ignore')"
   ]
  },
  {
   "cell_type": "markdown",
   "id": "41b4c77f",
   "metadata": {},
   "source": [
    "## Load data:\n",
    "We are going to use this data to plot spectograms of SCG signals. "
   ]
  },
  {
   "cell_type": "code",
   "execution_count": 3,
   "id": "75a415fd",
   "metadata": {},
   "outputs": [],
   "source": [
    "path = \"/Users/ecem/Desktop/phonocardiogram/data/TV/absent\""
   ]
  },
  {
   "cell_type": "code",
   "execution_count": 4,
   "id": "cff5b561",
   "metadata": {},
   "outputs": [],
   "source": [
    "waves = np.load(path + \"/absent_TV_waves_10sec.npy\", allow_pickle= True)\n"
   ]
  },
  {
   "cell_type": "code",
   "execution_count": 5,
   "id": "557b6190",
   "metadata": {},
   "outputs": [
    {
     "name": "stdout",
     "output_type": "stream",
     "text": [
      "(5718, 40000)\n"
     ]
    }
   ],
   "source": [
    "print(waves.shape)\n"
   ]
  },
  {
   "cell_type": "markdown",
   "id": "1b2a6059",
   "metadata": {},
   "source": [
    "## Zero Crossing Rate:\n",
    "Compute the zero-crossing rate of an audio time series.\n",
    "The zero-crossing rate (ZCR) is the rate at which a signal changes from positive to zero to negative or from negative to zero to positive."
   ]
  },
  {
   "cell_type": "code",
   "execution_count": 6,
   "id": "7c9b734f",
   "metadata": {},
   "outputs": [],
   "source": [
    "import librosa as lbs"
   ]
  },
  {
   "cell_type": "code",
   "execution_count": 7,
   "id": "23a0bede",
   "metadata": {},
   "outputs": [
    {
     "data": {
      "text/plain": [
       "array([[0.023   , 0.036875, 0.034625, 0.03325 ]])"
      ]
     },
     "execution_count": 7,
     "metadata": {},
     "output_type": "execute_result"
    }
   ],
   "source": [
    "lbs.feature.zero_crossing_rate(waves[7],frame_length= 8000, hop_length = 12000)"
   ]
  },
  {
   "cell_type": "code",
   "execution_count": 8,
   "id": "b2a61800",
   "metadata": {},
   "outputs": [
    {
     "data": {
      "text/plain": [
       "(1, 4)"
      ]
     },
     "execution_count": 8,
     "metadata": {},
     "output_type": "execute_result"
    }
   ],
   "source": [
    "lbs.feature.zero_crossing_rate(waves[7], frame_length= 8000, hop_length = 12000).shape"
   ]
  },
  {
   "cell_type": "code",
   "execution_count": 9,
   "id": "cc79deea",
   "metadata": {},
   "outputs": [],
   "source": [
    "def zero_crossing(array, frame_length= 2048, hl = 512):\n",
    "    zero_crossing_rate = np.ones(shape = (array.shape[0], 5)) #buradaki ikinci sayı hop lenght e göre değişmeli \n",
    "\n",
    "    for i in range(array.shape[0]):\n",
    "        zero_crossing_rate[i][0:4] = lbs.feature.zero_crossing_rate(array[i],  frame_length = frame_length,\n",
    "                                                                    hop_length = hl)\n",
    "        zero_crossing_rate[i][4] = sum(lbs.zero_crossings(array[i]))\n",
    "    return zero_crossing_rate\n",
    "\n",
    "        "
   ]
  },
  {
   "cell_type": "code",
   "execution_count": 10,
   "id": "3badd449",
   "metadata": {},
   "outputs": [],
   "source": [
    "zcrs = zero_crossing(waves, 8000, hl = 12000) #çok uzun sürüyor, ya datayı kısaltmalıyız ya da hop lenght artmalı"
   ]
  },
  {
   "cell_type": "code",
   "execution_count": 15,
   "id": "5a0decad",
   "metadata": {},
   "outputs": [
    {
     "data": {
      "text/plain": [
       "numpy.ndarray"
      ]
     },
     "execution_count": 15,
     "metadata": {},
     "output_type": "execute_result"
    }
   ],
   "source": [
    "type(zcrs[0])"
   ]
  },
  {
   "cell_type": "code",
   "execution_count": 16,
   "id": "ef9d104e",
   "metadata": {},
   "outputs": [],
   "source": [
    "np.save(path + \"/absent_TV_zcrs_array\", zcrs, allow_pickle= True)"
   ]
  },
  {
   "cell_type": "code",
   "execution_count": 17,
   "id": "58e4c21a",
   "metadata": {},
   "outputs": [
    {
     "name": "stdout",
     "output_type": "stream",
     "text": [
      "['zcrs0', 'zcrs1', 'zcrs2', 'zcrs3', '#ofcrossing']\n"
     ]
    }
   ],
   "source": [
    "columns_zcr = []\n",
    "for i in range(zcrs.shape[1]-1):\n",
    "    columns_zcr.append(\"zcrs{}\".format(i))\n",
    "\n",
    "    \n",
    "columns_zcr.append(\"#ofcrossing\")\n",
    "\n",
    "print(columns_zcr)"
   ]
  },
  {
   "cell_type": "code",
   "execution_count": 18,
   "id": "e07f721f",
   "metadata": {},
   "outputs": [
    {
     "data": {
      "text/plain": [
       "array([2.3000e-02, 3.6875e-02, 3.4625e-02, 3.3250e-02, 1.4230e+03])"
      ]
     },
     "execution_count": 18,
     "metadata": {},
     "output_type": "execute_result"
    }
   ],
   "source": [
    "zcrs[7]"
   ]
  },
  {
   "cell_type": "code",
   "execution_count": 19,
   "id": "14c76313",
   "metadata": {},
   "outputs": [],
   "source": [
    "def dataframe_creator(array, df = pd.DataFrame(), l = 7, columns = None):\n",
    "    values = []\n",
    "\n",
    "    for i in range(array.shape[0]):\n",
    "        llist = list(array[i][0:l-1].tolist())\n",
    "        llist.append(array[i][l-1])\n",
    "        \n",
    "        values.append(llist)\n",
    "        medium = pd.DataFrame([values[i]], columns = columns)\n",
    "        \n",
    "        \n",
    "        df = pd.concat([df, medium], axis = 0)\n",
    "    return df "
   ]
  },
  {
   "cell_type": "code",
   "execution_count": 20,
   "id": "40eb5d7a",
   "metadata": {},
   "outputs": [],
   "source": [
    "df = dataframe_creator(zcrs, l =5,  columns = columns_zcr)\n",
    "\n",
    "df.reset_index(drop = True, inplace = True)"
   ]
  },
  {
   "cell_type": "code",
   "execution_count": 21,
   "id": "58c4ea98",
   "metadata": {},
   "outputs": [
    {
     "data": {
      "text/html": [
       "<div>\n",
       "<style scoped>\n",
       "    .dataframe tbody tr th:only-of-type {\n",
       "        vertical-align: middle;\n",
       "    }\n",
       "\n",
       "    .dataframe tbody tr th {\n",
       "        vertical-align: top;\n",
       "    }\n",
       "\n",
       "    .dataframe thead th {\n",
       "        text-align: right;\n",
       "    }\n",
       "</style>\n",
       "<table border=\"1\" class=\"dataframe\">\n",
       "  <thead>\n",
       "    <tr style=\"text-align: right;\">\n",
       "      <th></th>\n",
       "      <th>zcrs0</th>\n",
       "      <th>zcrs1</th>\n",
       "      <th>zcrs2</th>\n",
       "      <th>zcrs3</th>\n",
       "      <th>#ofcrossing</th>\n",
       "    </tr>\n",
       "  </thead>\n",
       "  <tbody>\n",
       "    <tr>\n",
       "      <th>0</th>\n",
       "      <td>0.013875</td>\n",
       "      <td>0.043500</td>\n",
       "      <td>0.040250</td>\n",
       "      <td>0.026000</td>\n",
       "      <td>1429.0</td>\n",
       "    </tr>\n",
       "    <tr>\n",
       "      <th>1</th>\n",
       "      <td>0.017625</td>\n",
       "      <td>0.040375</td>\n",
       "      <td>0.027375</td>\n",
       "      <td>0.031250</td>\n",
       "      <td>1306.0</td>\n",
       "    </tr>\n",
       "    <tr>\n",
       "      <th>2</th>\n",
       "      <td>0.013125</td>\n",
       "      <td>0.031500</td>\n",
       "      <td>0.042000</td>\n",
       "      <td>0.040625</td>\n",
       "      <td>1456.0</td>\n",
       "    </tr>\n",
       "    <tr>\n",
       "      <th>3</th>\n",
       "      <td>0.018750</td>\n",
       "      <td>0.043375</td>\n",
       "      <td>0.029250</td>\n",
       "      <td>0.024000</td>\n",
       "      <td>1417.0</td>\n",
       "    </tr>\n",
       "    <tr>\n",
       "      <th>4</th>\n",
       "      <td>0.029625</td>\n",
       "      <td>0.043750</td>\n",
       "      <td>0.066375</td>\n",
       "      <td>0.063375</td>\n",
       "      <td>2078.0</td>\n",
       "    </tr>\n",
       "  </tbody>\n",
       "</table>\n",
       "</div>"
      ],
      "text/plain": [
       "      zcrs0     zcrs1     zcrs2     zcrs3  #ofcrossing\n",
       "0  0.013875  0.043500  0.040250  0.026000       1429.0\n",
       "1  0.017625  0.040375  0.027375  0.031250       1306.0\n",
       "2  0.013125  0.031500  0.042000  0.040625       1456.0\n",
       "3  0.018750  0.043375  0.029250  0.024000       1417.0\n",
       "4  0.029625  0.043750  0.066375  0.063375       2078.0"
      ]
     },
     "execution_count": 21,
     "metadata": {},
     "output_type": "execute_result"
    }
   ],
   "source": [
    "df.head()"
   ]
  },
  {
   "cell_type": "code",
   "execution_count": 22,
   "id": "febe5cf1",
   "metadata": {},
   "outputs": [],
   "source": [
    "df.to_csv( path + \"/absent_TV_zcrs.csv\")"
   ]
  },
  {
   "cell_type": "markdown",
   "id": "3bbfeffb",
   "metadata": {},
   "source": [
    "## with Özgün Ozan Nacitarhan code"
   ]
  },
  {
   "cell_type": "code",
   "execution_count": 23,
   "id": "481adc1a",
   "metadata": {},
   "outputs": [],
   "source": [
    "def zcr(array):\n",
    "    zcr = np.ones(shape = (array.shape[0],1))\n",
    "    for i in range(array.shape[0]):\n",
    "        data_zeros = np.zeros(len(array[i]))\n",
    "        data_zeros[1:] = array[i][:len(array[i]) - 1]\n",
    "        zcr[i][0] = (1 / (2 * len(array[i]))) * np.sum(np.abs(np.sign(array[i]) - np.sign(data_zeros)))\n",
    "        \n",
    "    return zcr\n"
   ]
  },
  {
   "cell_type": "code",
   "execution_count": 24,
   "id": "f539b16d",
   "metadata": {},
   "outputs": [],
   "source": [
    "zcrs_özgün = zcr(waves)"
   ]
  },
  {
   "cell_type": "code",
   "execution_count": 25,
   "id": "12e14c34",
   "metadata": {},
   "outputs": [
    {
     "data": {
      "text/plain": [
       "(5718, 1)"
      ]
     },
     "execution_count": 25,
     "metadata": {},
     "output_type": "execute_result"
    }
   ],
   "source": [
    "zcrs_özgün.shape"
   ]
  },
  {
   "cell_type": "code",
   "execution_count": 26,
   "id": "20657000",
   "metadata": {},
   "outputs": [
    {
     "data": {
      "text/plain": [
       "array([0.0357125])"
      ]
     },
     "execution_count": 26,
     "metadata": {},
     "output_type": "execute_result"
    }
   ],
   "source": [
    "zcrs_özgün[0]"
   ]
  },
  {
   "cell_type": "code",
   "execution_count": 27,
   "id": "adfd4882",
   "metadata": {},
   "outputs": [],
   "source": [
    "np.save(path + \"/absent_TV_zcrs_özgün\", zcrs_özgün, allow_pickle= True)"
   ]
  },
  {
   "cell_type": "markdown",
   "id": "68835fa8",
   "metadata": {},
   "source": [
    "### Chromogram:\n",
    "We can use Chroma feature visualization to know how dominant the characteristics of a certain pitch {C, C♯, D, D♯, E, F, F♯, G, G♯, A, A♯, B} is present in the sampled frame.\n",
    "\n",
    "Compute a chromagram from a waveform or power spectrogram.\n",
    "It returns Normalized energy for each chroma bin at each frame.\n",
    "\n",
    "Hop size should refer to the number of samples in between successive frames. For signal analysis Hop Size should be less than the frame size, so that frames overlap."
   ]
  },
  {
   "cell_type": "code",
   "execution_count": 28,
   "id": "a2419065",
   "metadata": {},
   "outputs": [],
   "source": [
    "import warnings\n",
    "warnings.filterwarnings('ignore')"
   ]
  },
  {
   "cell_type": "code",
   "execution_count": 29,
   "id": "4ee986de",
   "metadata": {},
   "outputs": [],
   "source": [
    "import librosa.display"
   ]
  },
  {
   "cell_type": "code",
   "execution_count": 30,
   "id": "72d9d462",
   "metadata": {},
   "outputs": [
    {
     "data": {
      "text/plain": [
       "(12, 4)"
      ]
     },
     "execution_count": 30,
     "metadata": {},
     "output_type": "execute_result"
    }
   ],
   "source": [
    "lbs.feature.chroma_stft(waves[0], sr = 4000, hop_length = 12000).shape"
   ]
  },
  {
   "cell_type": "code",
   "execution_count": 31,
   "id": "1129b939",
   "metadata": {},
   "outputs": [],
   "source": [
    "# we are taking time average of each pitch values.\n",
    "def chromagram_average(array, sampling_rate = 256):\n",
    "    pitch = np.ones(shape = (array.shape[0], 12)) \n",
    "    \n",
    "    for i in range(array.shape[0]):\n",
    "        for j in range(12):\n",
    "            pitch[i][j] = lbs.feature.chroma_stft(np.array(array[i]), sr= sampling_rate, hop_length = 12000)[j].mean()\n",
    "    return pitch"
   ]
  },
  {
   "cell_type": "code",
   "execution_count": 32,
   "id": "fe736d42",
   "metadata": {},
   "outputs": [],
   "source": [
    "chro = chromagram_average(waves, sampling_rate = 4000) # bu da çok uzun sürüyor."
   ]
  },
  {
   "cell_type": "code",
   "execution_count": 33,
   "id": "ed36ce80",
   "metadata": {},
   "outputs": [
    {
     "data": {
      "text/plain": [
       "numpy.ndarray"
      ]
     },
     "execution_count": 33,
     "metadata": {},
     "output_type": "execute_result"
    }
   ],
   "source": [
    "type(chro[0])"
   ]
  },
  {
   "cell_type": "code",
   "execution_count": 34,
   "id": "875ac687",
   "metadata": {},
   "outputs": [
    {
     "data": {
      "text/plain": [
       "(5718, 12)"
      ]
     },
     "execution_count": 34,
     "metadata": {},
     "output_type": "execute_result"
    }
   ],
   "source": [
    "chro.shape"
   ]
  },
  {
   "cell_type": "code",
   "execution_count": 35,
   "id": "0bac78ad",
   "metadata": {},
   "outputs": [],
   "source": [
    "np.save(path + \"/absent_TV_chromogram_array\", chro, allow_pickle= True)"
   ]
  },
  {
   "cell_type": "code",
   "execution_count": 36,
   "id": "f275be61",
   "metadata": {},
   "outputs": [
    {
     "name": "stdout",
     "output_type": "stream",
     "text": [
      "(5718, 12)\n"
     ]
    }
   ],
   "source": [
    "print(chro.shape)"
   ]
  },
  {
   "cell_type": "code",
   "execution_count": 37,
   "id": "69d520e6",
   "metadata": {},
   "outputs": [],
   "source": [
    "lst = [\"C\", \"C♯\", \"D\", \"D♯\", \"E\", \"F\", \"F♯\", \"G\", \"G♯\", \"A\", \"A♯\", \"B\"]"
   ]
  },
  {
   "cell_type": "code",
   "execution_count": 38,
   "id": "b24e15ff",
   "metadata": {},
   "outputs": [
    {
     "name": "stdout",
     "output_type": "stream",
     "text": [
      "['C', 'C♯', 'D', 'D♯', 'E', 'F', 'F♯', 'G', 'G♯', 'A', 'A♯', 'B']\n",
      "12\n"
     ]
    }
   ],
   "source": [
    "col_chro = []\n",
    "for i in range(chro.shape[1]):\n",
    "    col_chro.append(lst[i])\n",
    "    \n",
    "print(col_chro)\n",
    "print(len(col_chro))"
   ]
  },
  {
   "cell_type": "code",
   "execution_count": 39,
   "id": "17156bed",
   "metadata": {},
   "outputs": [
    {
     "data": {
      "text/html": [
       "<div>\n",
       "<style scoped>\n",
       "    .dataframe tbody tr th:only-of-type {\n",
       "        vertical-align: middle;\n",
       "    }\n",
       "\n",
       "    .dataframe tbody tr th {\n",
       "        vertical-align: top;\n",
       "    }\n",
       "\n",
       "    .dataframe thead th {\n",
       "        text-align: right;\n",
       "    }\n",
       "</style>\n",
       "<table border=\"1\" class=\"dataframe\">\n",
       "  <thead>\n",
       "    <tr style=\"text-align: right;\">\n",
       "      <th></th>\n",
       "      <th>C</th>\n",
       "      <th>C♯</th>\n",
       "      <th>D</th>\n",
       "      <th>D♯</th>\n",
       "      <th>E</th>\n",
       "      <th>F</th>\n",
       "      <th>F♯</th>\n",
       "      <th>G</th>\n",
       "      <th>G♯</th>\n",
       "      <th>A</th>\n",
       "      <th>A♯</th>\n",
       "      <th>B</th>\n",
       "    </tr>\n",
       "  </thead>\n",
       "  <tbody>\n",
       "    <tr>\n",
       "      <th>0</th>\n",
       "      <td>0.774697</td>\n",
       "      <td>0.752658</td>\n",
       "      <td>0.624351</td>\n",
       "      <td>0.614751</td>\n",
       "      <td>0.505404</td>\n",
       "      <td>0.562265</td>\n",
       "      <td>0.691305</td>\n",
       "      <td>0.708033</td>\n",
       "      <td>0.747035</td>\n",
       "      <td>0.612049</td>\n",
       "      <td>0.673493</td>\n",
       "      <td>0.70302</td>\n",
       "    </tr>\n",
       "    <tr>\n",
       "      <th>1</th>\n",
       "      <td>0.528984</td>\n",
       "      <td>0.569655</td>\n",
       "      <td>0.631345</td>\n",
       "      <td>0.469145</td>\n",
       "      <td>0.581654</td>\n",
       "      <td>0.628005</td>\n",
       "      <td>0.609931</td>\n",
       "      <td>0.617767</td>\n",
       "      <td>0.658815</td>\n",
       "      <td>0.788469</td>\n",
       "      <td>0.638231</td>\n",
       "      <td>0.490605</td>\n",
       "    </tr>\n",
       "    <tr>\n",
       "      <th>2</th>\n",
       "      <td>0.677536</td>\n",
       "      <td>0.571465</td>\n",
       "      <td>0.455335</td>\n",
       "      <td>0.636636</td>\n",
       "      <td>0.458969</td>\n",
       "      <td>0.446903</td>\n",
       "      <td>0.491728</td>\n",
       "      <td>0.43595</td>\n",
       "      <td>0.524053</td>\n",
       "      <td>0.692241</td>\n",
       "      <td>0.771804</td>\n",
       "      <td>0.758902</td>\n",
       "    </tr>\n",
       "    <tr>\n",
       "      <th>3</th>\n",
       "      <td>0.590559</td>\n",
       "      <td>0.798237</td>\n",
       "      <td>0.52909</td>\n",
       "      <td>0.415183</td>\n",
       "      <td>0.528545</td>\n",
       "      <td>0.482318</td>\n",
       "      <td>0.430858</td>\n",
       "      <td>0.417283</td>\n",
       "      <td>0.437482</td>\n",
       "      <td>0.548379</td>\n",
       "      <td>0.541304</td>\n",
       "      <td>0.498784</td>\n",
       "    </tr>\n",
       "    <tr>\n",
       "      <th>4</th>\n",
       "      <td>0.740675</td>\n",
       "      <td>0.729426</td>\n",
       "      <td>0.650502</td>\n",
       "      <td>0.714158</td>\n",
       "      <td>0.789993</td>\n",
       "      <td>0.751961</td>\n",
       "      <td>0.606954</td>\n",
       "      <td>0.669602</td>\n",
       "      <td>0.731011</td>\n",
       "      <td>0.677369</td>\n",
       "      <td>0.536382</td>\n",
       "      <td>0.584563</td>\n",
       "    </tr>\n",
       "    <tr>\n",
       "      <th>...</th>\n",
       "      <td>...</td>\n",
       "      <td>...</td>\n",
       "      <td>...</td>\n",
       "      <td>...</td>\n",
       "      <td>...</td>\n",
       "      <td>...</td>\n",
       "      <td>...</td>\n",
       "      <td>...</td>\n",
       "      <td>...</td>\n",
       "      <td>...</td>\n",
       "      <td>...</td>\n",
       "      <td>...</td>\n",
       "    </tr>\n",
       "    <tr>\n",
       "      <th>5713</th>\n",
       "      <td>0.453768</td>\n",
       "      <td>0.511931</td>\n",
       "      <td>0.688536</td>\n",
       "      <td>0.518481</td>\n",
       "      <td>0.551608</td>\n",
       "      <td>0.681667</td>\n",
       "      <td>0.859559</td>\n",
       "      <td>0.614479</td>\n",
       "      <td>0.596402</td>\n",
       "      <td>0.697829</td>\n",
       "      <td>0.645281</td>\n",
       "      <td>0.441324</td>\n",
       "    </tr>\n",
       "    <tr>\n",
       "      <th>5714</th>\n",
       "      <td>0.223454</td>\n",
       "      <td>0.246843</td>\n",
       "      <td>0.28603</td>\n",
       "      <td>0.344106</td>\n",
       "      <td>0.229377</td>\n",
       "      <td>0.500183</td>\n",
       "      <td>0.555623</td>\n",
       "      <td>0.246648</td>\n",
       "      <td>0.229102</td>\n",
       "      <td>0.402806</td>\n",
       "      <td>0.279365</td>\n",
       "      <td>0.307494</td>\n",
       "    </tr>\n",
       "    <tr>\n",
       "      <th>5715</th>\n",
       "      <td>0.324664</td>\n",
       "      <td>0.649997</td>\n",
       "      <td>0.461658</td>\n",
       "      <td>0.378426</td>\n",
       "      <td>0.33382</td>\n",
       "      <td>0.510383</td>\n",
       "      <td>0.477204</td>\n",
       "      <td>0.294466</td>\n",
       "      <td>0.474113</td>\n",
       "      <td>0.635614</td>\n",
       "      <td>0.668764</td>\n",
       "      <td>0.531328</td>\n",
       "    </tr>\n",
       "    <tr>\n",
       "      <th>5716</th>\n",
       "      <td>0.447829</td>\n",
       "      <td>0.72264</td>\n",
       "      <td>0.788603</td>\n",
       "      <td>0.556185</td>\n",
       "      <td>0.427288</td>\n",
       "      <td>0.690504</td>\n",
       "      <td>0.552843</td>\n",
       "      <td>0.399766</td>\n",
       "      <td>0.332237</td>\n",
       "      <td>0.287436</td>\n",
       "      <td>0.42689</td>\n",
       "      <td>0.399635</td>\n",
       "    </tr>\n",
       "    <tr>\n",
       "      <th>5717</th>\n",
       "      <td>0.803448</td>\n",
       "      <td>0.795891</td>\n",
       "      <td>0.47536</td>\n",
       "      <td>0.370251</td>\n",
       "      <td>0.526641</td>\n",
       "      <td>0.618469</td>\n",
       "      <td>0.593684</td>\n",
       "      <td>0.484745</td>\n",
       "      <td>0.558724</td>\n",
       "      <td>0.73015</td>\n",
       "      <td>0.643881</td>\n",
       "      <td>0.662759</td>\n",
       "    </tr>\n",
       "  </tbody>\n",
       "</table>\n",
       "<p>5718 rows × 12 columns</p>\n",
       "</div>"
      ],
      "text/plain": [
       "             C        C♯         D        D♯         E         F        F♯  \\\n",
       "0     0.774697  0.752658  0.624351  0.614751  0.505404  0.562265  0.691305   \n",
       "1     0.528984  0.569655  0.631345  0.469145  0.581654  0.628005  0.609931   \n",
       "2     0.677536  0.571465  0.455335  0.636636  0.458969  0.446903  0.491728   \n",
       "3     0.590559  0.798237   0.52909  0.415183  0.528545  0.482318  0.430858   \n",
       "4     0.740675  0.729426  0.650502  0.714158  0.789993  0.751961  0.606954   \n",
       "...        ...       ...       ...       ...       ...       ...       ...   \n",
       "5713  0.453768  0.511931  0.688536  0.518481  0.551608  0.681667  0.859559   \n",
       "5714  0.223454  0.246843   0.28603  0.344106  0.229377  0.500183  0.555623   \n",
       "5715  0.324664  0.649997  0.461658  0.378426   0.33382  0.510383  0.477204   \n",
       "5716  0.447829   0.72264  0.788603  0.556185  0.427288  0.690504  0.552843   \n",
       "5717  0.803448  0.795891   0.47536  0.370251  0.526641  0.618469  0.593684   \n",
       "\n",
       "             G        G♯         A        A♯         B  \n",
       "0     0.708033  0.747035  0.612049  0.673493   0.70302  \n",
       "1     0.617767  0.658815  0.788469  0.638231  0.490605  \n",
       "2      0.43595  0.524053  0.692241  0.771804  0.758902  \n",
       "3     0.417283  0.437482  0.548379  0.541304  0.498784  \n",
       "4     0.669602  0.731011  0.677369  0.536382  0.584563  \n",
       "...        ...       ...       ...       ...       ...  \n",
       "5713  0.614479  0.596402  0.697829  0.645281  0.441324  \n",
       "5714  0.246648  0.229102  0.402806  0.279365  0.307494  \n",
       "5715  0.294466  0.474113  0.635614  0.668764  0.531328  \n",
       "5716  0.399766  0.332237  0.287436   0.42689  0.399635  \n",
       "5717  0.484745  0.558724   0.73015  0.643881  0.662759  \n",
       "\n",
       "[5718 rows x 12 columns]"
      ]
     },
     "execution_count": 39,
     "metadata": {},
     "output_type": "execute_result"
    }
   ],
   "source": [
    "ch_df = dataframe_creator(chro,\n",
    "                         df =pd.DataFrame(columns = col_chro), columns = col_chro, l = 12)\n",
    "\n",
    "ch_df.reset_index(drop = True, inplace = True)\n",
    "ch_df"
   ]
  },
  {
   "cell_type": "code",
   "execution_count": 40,
   "id": "81a61a1e",
   "metadata": {},
   "outputs": [],
   "source": [
    "ch_df.to_csv(path + \"/absent_TV_chromogram.csv\")"
   ]
  },
  {
   "cell_type": "markdown",
   "id": "cce74b21",
   "metadata": {},
   "source": [
    "## Tempogram\n",
    "\n",
    "Compute the tempogram: local autocorrelation of the onset strength envelope.\n",
    "\n",
    "# kendime not tempogram değerlerini spektogram değerleri gibi kaydet."
   ]
  },
  {
   "cell_type": "code",
   "execution_count": 41,
   "id": "c9f3130a",
   "metadata": {},
   "outputs": [],
   "source": [
    "def tempo_average(array): # 192,79\n",
    "    means= []\n",
    "    for i in range(array.shape[0]): #192\n",
    "        means.append(array[i].mean())\n",
    "    return np.array(means) # 192\n",
    "        "
   ]
  },
  {
   "cell_type": "code",
   "execution_count": 42,
   "id": "9d9179b5",
   "metadata": {},
   "outputs": [],
   "source": [
    "def tempogram(array = 0, hop_lenght = 12000, sampling_rate = 256):\n",
    "    \n",
    "    oenv = librosa.onset.onset_strength(y=np.array(array), \n",
    "                                            sr=sampling_rate, \n",
    "                                        lag =3)\n",
    "\n",
    "    times = librosa.times_like(oenv, sr=sampling_rate, hop_length=12000)\n",
    "\n",
    "    tempogram = librosa.feature.tempogram(onset_envelope = oenv, sr = sampling_rate,\n",
    "                                              hop_length = hop_lenght, win_length = 192 )\n",
    "    # Estimate the global tempo for display purposes\n",
    "    #tempo = librosa.beat.tempo(onset_envelope=oenv, sr= sampling_rate,\n",
    "                                   #hop_length=hop_length)[0]\n",
    "    return tempogram"
   ]
  },
  {
   "cell_type": "code",
   "execution_count": 43,
   "id": "4ec648a1",
   "metadata": {},
   "outputs": [
    {
     "data": {
      "text/plain": [
       "(192, 79)"
      ]
     },
     "execution_count": 43,
     "metadata": {},
     "output_type": "execute_result"
    }
   ],
   "source": [
    "tempogram(waves[0]).shape"
   ]
  },
  {
   "cell_type": "code",
   "execution_count": 44,
   "id": "d113b2df",
   "metadata": {},
   "outputs": [
    {
     "data": {
      "text/plain": [
       "array([1., 1., 1., 1., 1., 1., 1., 1., 1., 1., 1., 1., 1., 1., 1., 1., 1.,\n",
       "       1., 1., 1., 1., 1., 1., 1., 1., 1., 1., 1., 1., 1., 1., 1., 1., 1.,\n",
       "       1., 1., 1., 1., 1., 1., 1., 1., 1., 1., 1., 1., 1., 1., 1., 1., 1.,\n",
       "       1., 1., 1., 1., 1., 1., 1., 1., 1., 1., 1., 1., 1., 1., 1., 1., 1.,\n",
       "       1., 1., 1., 1., 1., 1., 1., 1., 1., 1., 1.])"
      ]
     },
     "execution_count": 44,
     "metadata": {},
     "output_type": "execute_result"
    }
   ],
   "source": [
    "tempogram(waves[0])[0]"
   ]
  },
  {
   "cell_type": "code",
   "execution_count": 45,
   "id": "4dd11e0a",
   "metadata": {},
   "outputs": [
    {
     "data": {
      "text/plain": [
       "array([0.8043611 , 0.80387406, 0.80338417, 0.80289217, 0.80239871,\n",
       "       0.80190442, 0.80140988, 0.80091561, 0.8004221 , 0.7999298 ,\n",
       "       0.79943913, 0.79895047, 0.79846417, 0.79798056, 0.79749994,\n",
       "       0.7970226 , 0.7965488 , 0.79607877, 0.79561275, 0.79515094,\n",
       "       0.79469355, 0.79424076, 0.79379275, 0.79334969, 0.79291174,\n",
       "       0.79247906, 0.79205181, 0.79163012, 0.79121414, 0.79080403,\n",
       "       0.79039993, 0.79000197, 0.78961032, 0.78922512, 0.78884652,\n",
       "       0.78847469, 0.78810978, 0.78775198, 0.78740145, 0.78705839,\n",
       "       0.786723  , 0.78639547, 0.78607604, 0.78576492, 0.78546236,\n",
       "       0.78516863, 0.784884  , 0.78460876, 0.78434322, 0.7840877 ,\n",
       "       0.78384257, 0.78360819, 0.78338496, 0.78317331, 0.78297367,\n",
       "       0.78278654, 0.78261241, 0.78245184, 0.7823054 , 0.7821737 ,\n",
       "       0.7820574 , 0.78195719, 0.78187383, 0.78180809, 0.78176082,\n",
       "       0.78173291, 0.78172532, 0.78173906, 0.78177521, 0.78183492,\n",
       "       0.78191941, 0.78202999, 0.78216803, 0.78233502, 0.78253251,\n",
       "       0.78276217, 0.78302578, 0.78332521, 0.78366247])"
      ]
     },
     "execution_count": 45,
     "metadata": {},
     "output_type": "execute_result"
    }
   ],
   "source": [
    "tempogram(waves[0])[1]"
   ]
  },
  {
   "cell_type": "code",
   "execution_count": 46,
   "id": "1ecf758c",
   "metadata": {},
   "outputs": [
    {
     "data": {
      "text/plain": [
       "array([ 1.00000000e+00,  7.89280253e-01,  4.49616051e-01,  2.21368033e-01,\n",
       "        1.30775800e-01,  9.80726553e-02,  1.05266714e-01,  1.51666437e-01,\n",
       "        2.51141114e-01,  3.69657473e-01,  4.84736698e-01,  5.46325512e-01,\n",
       "        5.01062008e-01,  3.49767069e-01,  2.07547145e-01,  1.34799538e-01,\n",
       "        1.11587554e-01,  9.78534442e-02,  1.09711555e-01,  1.60357465e-01,\n",
       "        2.76904079e-01,  4.52404942e-01,  5.91524878e-01,  5.65543427e-01,\n",
       "        3.93683941e-01,  2.06785105e-01,  1.00987381e-01,  8.39411039e-02,\n",
       "        9.52436375e-02,  1.09777802e-01,  1.48008206e-01,  2.17351582e-01,\n",
       "        3.03280822e-01,  3.40376030e-01,  3.21362998e-01,  2.67205206e-01,\n",
       "        1.97394007e-01,  1.31212459e-01,  9.70357672e-02,  8.21447951e-02,\n",
       "        8.17802786e-02,  1.00844825e-01,  1.39599025e-01,  2.05209543e-01,\n",
       "        2.56221610e-01,  2.38765863e-01,  1.71433904e-01,  9.92135991e-02,\n",
       "        6.37648549e-02,  5.61266669e-02,  5.78066402e-02,  6.59663867e-02,\n",
       "        7.87572987e-02,  9.29440613e-02,  1.05239282e-01,  1.01151088e-01,\n",
       "        8.95556639e-02,  7.95997376e-02,  7.01364726e-02,  5.78464749e-02,\n",
       "        5.15762239e-02,  4.98713405e-02,  4.96051229e-02,  5.00354687e-02,\n",
       "        5.15090426e-02,  5.66024277e-02,  6.24501865e-02,  5.67331686e-02,\n",
       "        4.62721859e-02,  3.80382647e-02,  3.59902258e-02,  3.62577828e-02,\n",
       "        3.60912857e-02,  3.53528277e-02,  3.35154823e-02,  3.17472299e-02,\n",
       "        3.00470278e-02,  2.84137994e-02,  2.68464241e-02,  2.53437118e-02,\n",
       "        2.39043898e-02,  2.25271040e-02,  2.12104104e-02,  1.99527918e-02,\n",
       "        1.87526976e-02,  1.76085626e-02,  1.65188164e-02,  1.54818939e-02,\n",
       "        1.44962369e-02,  1.35602922e-02,  1.26724775e-02,  1.18311504e-02,\n",
       "        1.10346276e-02,  1.02812257e-02,  9.56929019e-03,  8.89719546e-03,\n",
       "        8.26334503e-03,  7.66617206e-03,  7.10413985e-03,  6.57574239e-03,\n",
       "        6.07950546e-03,  5.61398792e-03,  5.17778305e-03,  4.76951899e-03,\n",
       "        4.38785727e-03,  4.03149169e-03,  3.69914868e-03,  3.38958825e-03,\n",
       "        3.10160485e-03,  2.83402853e-03,  2.58572633e-03,  2.35560360e-03,\n",
       "        2.14260538e-03,  1.94571760e-03,  1.76396790e-03,  1.59642540e-03,\n",
       "        1.44219914e-03,  1.30043636e-03,  1.17032136e-03,  1.05107570e-03,\n",
       "        9.41958998e-04,  8.42269997e-04,  7.51347482e-04,  6.68571217e-04,\n",
       "        5.93362591e-04,  5.25182823e-04,  4.63526373e-04,  4.07914144e-04,\n",
       "        3.57889853e-04,  3.13018836e-04,  2.72887648e-04,  2.37103996e-04,\n",
       "        2.05296669e-04,  1.77115353e-04,  1.52230461e-04,  1.30333141e-04,\n",
       "        1.11135215e-04,  9.43685765e-05,  7.97836873e-05,  6.71482848e-05,\n",
       "        5.62467508e-05,  4.68799363e-05,  3.88648630e-05,  3.20346284e-05,\n",
       "        2.62383309e-05,  2.13410404e-05,  1.72236666e-05,  1.37823184e-05,\n",
       "        1.09266142e-05,  8.57699914e-06,  6.66216390e-06,  5.11749511e-06,\n",
       "        3.88466240e-06,  2.91149145e-06,  2.15186050e-06,  1.56559342e-06,\n",
       "        1.11835270e-06,  7.81457810e-07,  5.31444360e-07,  3.49356878e-07,\n",
       "        2.20016617e-07,  1.31224126e-07,  7.29818693e-08,  3.70240833e-08,\n",
       "        1.65849145e-08,  6.23690623e-09,  1.81339607e-09,  3.51703043e-10,\n",
       "        3.02634272e-11, -3.74277174e-19,  2.59140977e-18,  8.69200984e-18,\n",
       "       -1.49989601e-17, -5.77244353e-18, -8.20580648e-18,  1.74856537e-17,\n",
       "        2.75011132e-17, -6.90513370e-19, -1.41067020e-18,  2.75456662e-18,\n",
       "        7.77394146e-18,  1.98895728e-17, -6.55993265e-18,  1.32024247e-17,\n",
       "        2.09170299e-17,  5.61176420e-18,  2.73083855e-17,  9.51973366e-18,\n",
       "        1.41138334e-17,  1.32570652e-17,  8.65007546e-18,  1.82217451e-17])"
      ]
     },
     "execution_count": 46,
     "metadata": {},
     "output_type": "execute_result"
    }
   ],
   "source": [
    "tempo_average(tempogram(waves[0]))"
   ]
  },
  {
   "cell_type": "markdown",
   "id": "26896649",
   "metadata": {},
   "source": [
    "# tempogram(waves[0])[0]"
   ]
  },
  {
   "cell_type": "code",
   "execution_count": 47,
   "id": "5f49f3c2",
   "metadata": {},
   "outputs": [],
   "source": [
    "def temp_values(array):\n",
    "    final = np.ones(shape = (array.shape[0], 192))\n",
    "    for i in range(array.shape[0]): #8bin civarı\n",
    "        \n",
    "        _x = tempogram(array[i]) #1,4000   #192,79\n",
    "        #print(_x.shape)\n",
    "        final[i] = tempo_average(_x) #192\n",
    "        \n",
    "        \n",
    "    return final"
   ]
  },
  {
   "cell_type": "code",
   "execution_count": 48,
   "id": "a2c80c43",
   "metadata": {},
   "outputs": [],
   "source": [
    "temp = temp_values(waves) #çok uzun sürüyor \n"
   ]
  },
  {
   "cell_type": "code",
   "execution_count": 49,
   "id": "c97cff81",
   "metadata": {},
   "outputs": [
    {
     "data": {
      "text/plain": [
       "numpy.ndarray"
      ]
     },
     "execution_count": 49,
     "metadata": {},
     "output_type": "execute_result"
    }
   ],
   "source": [
    "type(temp)"
   ]
  },
  {
   "cell_type": "code",
   "execution_count": 50,
   "id": "346fc135",
   "metadata": {},
   "outputs": [],
   "source": [
    "np.save(path + \"/absent_TV_tempgram_array\", temp, allow_pickle= True)"
   ]
  },
  {
   "cell_type": "code",
   "execution_count": 51,
   "id": "d6bf375d",
   "metadata": {},
   "outputs": [
    {
     "data": {
      "text/plain": [
       "(5718, 192)"
      ]
     },
     "execution_count": 51,
     "metadata": {},
     "output_type": "execute_result"
    }
   ],
   "source": [
    "temp.shape"
   ]
  },
  {
   "cell_type": "code",
   "execution_count": 52,
   "id": "925ec0d1",
   "metadata": {},
   "outputs": [
    {
     "name": "stdout",
     "output_type": "stream",
     "text": [
      "['tempogram_0', 'tempogram_1', 'tempogram_2', 'tempogram_3', 'tempogram_4', 'tempogram_5', 'tempogram_6', 'tempogram_7', 'tempogram_8', 'tempogram_9', 'tempogram_10', 'tempogram_11', 'tempogram_12', 'tempogram_13', 'tempogram_14', 'tempogram_15', 'tempogram_16', 'tempogram_17', 'tempogram_18', 'tempogram_19', 'tempogram_20', 'tempogram_21', 'tempogram_22', 'tempogram_23', 'tempogram_24', 'tempogram_25', 'tempogram_26', 'tempogram_27', 'tempogram_28', 'tempogram_29', 'tempogram_30', 'tempogram_31', 'tempogram_32', 'tempogram_33', 'tempogram_34', 'tempogram_35', 'tempogram_36', 'tempogram_37', 'tempogram_38', 'tempogram_39', 'tempogram_40', 'tempogram_41', 'tempogram_42', 'tempogram_43', 'tempogram_44', 'tempogram_45', 'tempogram_46', 'tempogram_47', 'tempogram_48', 'tempogram_49', 'tempogram_50', 'tempogram_51', 'tempogram_52', 'tempogram_53', 'tempogram_54', 'tempogram_55', 'tempogram_56', 'tempogram_57', 'tempogram_58', 'tempogram_59', 'tempogram_60', 'tempogram_61', 'tempogram_62', 'tempogram_63', 'tempogram_64', 'tempogram_65', 'tempogram_66', 'tempogram_67', 'tempogram_68', 'tempogram_69', 'tempogram_70', 'tempogram_71', 'tempogram_72', 'tempogram_73', 'tempogram_74', 'tempogram_75', 'tempogram_76', 'tempogram_77', 'tempogram_78', 'tempogram_79', 'tempogram_80', 'tempogram_81', 'tempogram_82', 'tempogram_83', 'tempogram_84', 'tempogram_85', 'tempogram_86', 'tempogram_87', 'tempogram_88', 'tempogram_89', 'tempogram_90', 'tempogram_91', 'tempogram_92', 'tempogram_93', 'tempogram_94', 'tempogram_95', 'tempogram_96', 'tempogram_97', 'tempogram_98', 'tempogram_99', 'tempogram_100', 'tempogram_101', 'tempogram_102', 'tempogram_103', 'tempogram_104', 'tempogram_105', 'tempogram_106', 'tempogram_107', 'tempogram_108', 'tempogram_109', 'tempogram_110', 'tempogram_111', 'tempogram_112', 'tempogram_113', 'tempogram_114', 'tempogram_115', 'tempogram_116', 'tempogram_117', 'tempogram_118', 'tempogram_119', 'tempogram_120', 'tempogram_121', 'tempogram_122', 'tempogram_123', 'tempogram_124', 'tempogram_125', 'tempogram_126', 'tempogram_127', 'tempogram_128', 'tempogram_129', 'tempogram_130', 'tempogram_131', 'tempogram_132', 'tempogram_133', 'tempogram_134', 'tempogram_135', 'tempogram_136', 'tempogram_137', 'tempogram_138', 'tempogram_139', 'tempogram_140', 'tempogram_141', 'tempogram_142', 'tempogram_143', 'tempogram_144', 'tempogram_145', 'tempogram_146', 'tempogram_147', 'tempogram_148', 'tempogram_149', 'tempogram_150', 'tempogram_151', 'tempogram_152', 'tempogram_153', 'tempogram_154', 'tempogram_155', 'tempogram_156', 'tempogram_157', 'tempogram_158', 'tempogram_159', 'tempogram_160', 'tempogram_161', 'tempogram_162', 'tempogram_163', 'tempogram_164', 'tempogram_165', 'tempogram_166', 'tempogram_167', 'tempogram_168', 'tempogram_169', 'tempogram_170', 'tempogram_171', 'tempogram_172', 'tempogram_173', 'tempogram_174', 'tempogram_175', 'tempogram_176', 'tempogram_177', 'tempogram_178', 'tempogram_179', 'tempogram_180', 'tempogram_181', 'tempogram_182', 'tempogram_183', 'tempogram_184', 'tempogram_185', 'tempogram_186', 'tempogram_187', 'tempogram_188', 'tempogram_189', 'tempogram_190', 'tempogram_191']\n"
     ]
    }
   ],
   "source": [
    "columns_t = []\n",
    "for i in range(temp.shape[1]):\n",
    "    columns_t.append(\"tempogram_{}\".format(i))\n",
    "print(columns_t)"
   ]
  },
  {
   "cell_type": "code",
   "execution_count": 53,
   "id": "e5ef312f",
   "metadata": {},
   "outputs": [
    {
     "data": {
      "text/plain": [
       "192"
      ]
     },
     "execution_count": 53,
     "metadata": {},
     "output_type": "execute_result"
    }
   ],
   "source": [
    "len(columns_t)"
   ]
  },
  {
   "cell_type": "code",
   "execution_count": 54,
   "id": "c1f3b527",
   "metadata": {},
   "outputs": [
    {
     "data": {
      "text/html": [
       "<div>\n",
       "<style scoped>\n",
       "    .dataframe tbody tr th:only-of-type {\n",
       "        vertical-align: middle;\n",
       "    }\n",
       "\n",
       "    .dataframe tbody tr th {\n",
       "        vertical-align: top;\n",
       "    }\n",
       "\n",
       "    .dataframe thead th {\n",
       "        text-align: right;\n",
       "    }\n",
       "</style>\n",
       "<table border=\"1\" class=\"dataframe\">\n",
       "  <thead>\n",
       "    <tr style=\"text-align: right;\">\n",
       "      <th></th>\n",
       "      <th>tempogram_0</th>\n",
       "      <th>tempogram_1</th>\n",
       "      <th>tempogram_2</th>\n",
       "      <th>tempogram_3</th>\n",
       "      <th>tempogram_4</th>\n",
       "      <th>tempogram_5</th>\n",
       "      <th>tempogram_6</th>\n",
       "      <th>tempogram_7</th>\n",
       "      <th>tempogram_8</th>\n",
       "      <th>tempogram_9</th>\n",
       "      <th>...</th>\n",
       "      <th>tempogram_182</th>\n",
       "      <th>tempogram_183</th>\n",
       "      <th>tempogram_184</th>\n",
       "      <th>tempogram_185</th>\n",
       "      <th>tempogram_186</th>\n",
       "      <th>tempogram_187</th>\n",
       "      <th>tempogram_188</th>\n",
       "      <th>tempogram_189</th>\n",
       "      <th>tempogram_190</th>\n",
       "      <th>tempogram_191</th>\n",
       "    </tr>\n",
       "  </thead>\n",
       "  <tbody>\n",
       "    <tr>\n",
       "      <th>0</th>\n",
       "      <td>1.0</td>\n",
       "      <td>0.78928</td>\n",
       "      <td>0.449616</td>\n",
       "      <td>0.221368</td>\n",
       "      <td>0.130776</td>\n",
       "      <td>0.098073</td>\n",
       "      <td>0.105267</td>\n",
       "      <td>0.151666</td>\n",
       "      <td>0.251141</td>\n",
       "      <td>0.369657</td>\n",
       "      <td>...</td>\n",
       "      <td>-0.0</td>\n",
       "      <td>0.0</td>\n",
       "      <td>0.0</td>\n",
       "      <td>0.0</td>\n",
       "      <td>0.0</td>\n",
       "      <td>0.0</td>\n",
       "      <td>0.0</td>\n",
       "      <td>0.0</td>\n",
       "      <td>0.0</td>\n",
       "      <td>0.0</td>\n",
       "    </tr>\n",
       "    <tr>\n",
       "      <th>1</th>\n",
       "      <td>1.0</td>\n",
       "      <td>0.797984</td>\n",
       "      <td>0.482743</td>\n",
       "      <td>0.307028</td>\n",
       "      <td>0.283363</td>\n",
       "      <td>0.349212</td>\n",
       "      <td>0.463909</td>\n",
       "      <td>0.559565</td>\n",
       "      <td>0.563266</td>\n",
       "      <td>0.496564</td>\n",
       "      <td>...</td>\n",
       "      <td>-0.0</td>\n",
       "      <td>0.0</td>\n",
       "      <td>0.0</td>\n",
       "      <td>0.0</td>\n",
       "      <td>0.0</td>\n",
       "      <td>-0.0</td>\n",
       "      <td>0.0</td>\n",
       "      <td>0.0</td>\n",
       "      <td>0.0</td>\n",
       "      <td>0.0</td>\n",
       "    </tr>\n",
       "    <tr>\n",
       "      <th>2</th>\n",
       "      <td>1.0</td>\n",
       "      <td>0.887349</td>\n",
       "      <td>0.718716</td>\n",
       "      <td>0.605566</td>\n",
       "      <td>0.548434</td>\n",
       "      <td>0.512543</td>\n",
       "      <td>0.468736</td>\n",
       "      <td>0.438265</td>\n",
       "      <td>0.460934</td>\n",
       "      <td>0.504058</td>\n",
       "      <td>...</td>\n",
       "      <td>0.0</td>\n",
       "      <td>0.0</td>\n",
       "      <td>0.0</td>\n",
       "      <td>0.0</td>\n",
       "      <td>0.0</td>\n",
       "      <td>0.0</td>\n",
       "      <td>0.0</td>\n",
       "      <td>0.0</td>\n",
       "      <td>0.0</td>\n",
       "      <td>0.0</td>\n",
       "    </tr>\n",
       "    <tr>\n",
       "      <th>3</th>\n",
       "      <td>1.0</td>\n",
       "      <td>0.800527</td>\n",
       "      <td>0.475701</td>\n",
       "      <td>0.308435</td>\n",
       "      <td>0.340022</td>\n",
       "      <td>0.463117</td>\n",
       "      <td>0.521938</td>\n",
       "      <td>0.441395</td>\n",
       "      <td>0.310173</td>\n",
       "      <td>0.293569</td>\n",
       "      <td>...</td>\n",
       "      <td>0.0</td>\n",
       "      <td>0.0</td>\n",
       "      <td>0.0</td>\n",
       "      <td>0.0</td>\n",
       "      <td>0.0</td>\n",
       "      <td>-0.0</td>\n",
       "      <td>0.0</td>\n",
       "      <td>0.0</td>\n",
       "      <td>0.0</td>\n",
       "      <td>0.0</td>\n",
       "    </tr>\n",
       "    <tr>\n",
       "      <th>4</th>\n",
       "      <td>1.0</td>\n",
       "      <td>0.795149</td>\n",
       "      <td>0.463031</td>\n",
       "      <td>0.247617</td>\n",
       "      <td>0.153149</td>\n",
       "      <td>0.109321</td>\n",
       "      <td>0.1169</td>\n",
       "      <td>0.208411</td>\n",
       "      <td>0.381928</td>\n",
       "      <td>0.570263</td>\n",
       "      <td>...</td>\n",
       "      <td>-0.0</td>\n",
       "      <td>0.0</td>\n",
       "      <td>0.0</td>\n",
       "      <td>0.0</td>\n",
       "      <td>0.0</td>\n",
       "      <td>0.0</td>\n",
       "      <td>0.0</td>\n",
       "      <td>0.0</td>\n",
       "      <td>0.0</td>\n",
       "      <td>0.0</td>\n",
       "    </tr>\n",
       "    <tr>\n",
       "      <th>...</th>\n",
       "      <td>...</td>\n",
       "      <td>...</td>\n",
       "      <td>...</td>\n",
       "      <td>...</td>\n",
       "      <td>...</td>\n",
       "      <td>...</td>\n",
       "      <td>...</td>\n",
       "      <td>...</td>\n",
       "      <td>...</td>\n",
       "      <td>...</td>\n",
       "      <td>...</td>\n",
       "      <td>...</td>\n",
       "      <td>...</td>\n",
       "      <td>...</td>\n",
       "      <td>...</td>\n",
       "      <td>...</td>\n",
       "      <td>...</td>\n",
       "      <td>...</td>\n",
       "      <td>...</td>\n",
       "      <td>...</td>\n",
       "      <td>...</td>\n",
       "    </tr>\n",
       "    <tr>\n",
       "      <th>5713</th>\n",
       "      <td>1.0</td>\n",
       "      <td>0.784318</td>\n",
       "      <td>0.437389</td>\n",
       "      <td>0.222279</td>\n",
       "      <td>0.187637</td>\n",
       "      <td>0.245674</td>\n",
       "      <td>0.287423</td>\n",
       "      <td>0.266299</td>\n",
       "      <td>0.211437</td>\n",
       "      <td>0.200573</td>\n",
       "      <td>...</td>\n",
       "      <td>0.0</td>\n",
       "      <td>0.0</td>\n",
       "      <td>0.0</td>\n",
       "      <td>0.0</td>\n",
       "      <td>0.0</td>\n",
       "      <td>0.0</td>\n",
       "      <td>0.0</td>\n",
       "      <td>0.0</td>\n",
       "      <td>0.0</td>\n",
       "      <td>0.0</td>\n",
       "    </tr>\n",
       "    <tr>\n",
       "      <th>5714</th>\n",
       "      <td>1.0</td>\n",
       "      <td>0.853429</td>\n",
       "      <td>0.67926</td>\n",
       "      <td>0.611528</td>\n",
       "      <td>0.625351</td>\n",
       "      <td>0.621929</td>\n",
       "      <td>0.589734</td>\n",
       "      <td>0.586242</td>\n",
       "      <td>0.567186</td>\n",
       "      <td>0.555705</td>\n",
       "      <td>...</td>\n",
       "      <td>0.0</td>\n",
       "      <td>0.0</td>\n",
       "      <td>0.0</td>\n",
       "      <td>0.0</td>\n",
       "      <td>0.0</td>\n",
       "      <td>-0.0</td>\n",
       "      <td>0.0</td>\n",
       "      <td>0.0</td>\n",
       "      <td>0.0</td>\n",
       "      <td>0.0</td>\n",
       "    </tr>\n",
       "    <tr>\n",
       "      <th>5715</th>\n",
       "      <td>1.0</td>\n",
       "      <td>0.759845</td>\n",
       "      <td>0.475647</td>\n",
       "      <td>0.307214</td>\n",
       "      <td>0.287388</td>\n",
       "      <td>0.366127</td>\n",
       "      <td>0.518031</td>\n",
       "      <td>0.588331</td>\n",
       "      <td>0.546471</td>\n",
       "      <td>0.457722</td>\n",
       "      <td>...</td>\n",
       "      <td>-0.0</td>\n",
       "      <td>0.0</td>\n",
       "      <td>0.0</td>\n",
       "      <td>0.0</td>\n",
       "      <td>0.0</td>\n",
       "      <td>-0.0</td>\n",
       "      <td>0.0</td>\n",
       "      <td>0.0</td>\n",
       "      <td>0.0</td>\n",
       "      <td>0.0</td>\n",
       "    </tr>\n",
       "    <tr>\n",
       "      <th>5716</th>\n",
       "      <td>1.0</td>\n",
       "      <td>0.803923</td>\n",
       "      <td>0.498382</td>\n",
       "      <td>0.343497</td>\n",
       "      <td>0.340038</td>\n",
       "      <td>0.395419</td>\n",
       "      <td>0.455638</td>\n",
       "      <td>0.495009</td>\n",
       "      <td>0.565344</td>\n",
       "      <td>0.61335</td>\n",
       "      <td>...</td>\n",
       "      <td>-0.0</td>\n",
       "      <td>-0.0</td>\n",
       "      <td>0.0</td>\n",
       "      <td>0.0</td>\n",
       "      <td>0.0</td>\n",
       "      <td>-0.0</td>\n",
       "      <td>0.0</td>\n",
       "      <td>0.0</td>\n",
       "      <td>0.0</td>\n",
       "      <td>0.0</td>\n",
       "    </tr>\n",
       "    <tr>\n",
       "      <th>5717</th>\n",
       "      <td>1.0</td>\n",
       "      <td>0.855152</td>\n",
       "      <td>0.63111</td>\n",
       "      <td>0.52615</td>\n",
       "      <td>0.520429</td>\n",
       "      <td>0.491477</td>\n",
       "      <td>0.422015</td>\n",
       "      <td>0.354589</td>\n",
       "      <td>0.312274</td>\n",
       "      <td>0.292055</td>\n",
       "      <td>...</td>\n",
       "      <td>0.0</td>\n",
       "      <td>0.0</td>\n",
       "      <td>0.0</td>\n",
       "      <td>0.0</td>\n",
       "      <td>0.0</td>\n",
       "      <td>0.0</td>\n",
       "      <td>0.0</td>\n",
       "      <td>0.0</td>\n",
       "      <td>0.0</td>\n",
       "      <td>0.0</td>\n",
       "    </tr>\n",
       "  </tbody>\n",
       "</table>\n",
       "<p>5718 rows × 192 columns</p>\n",
       "</div>"
      ],
      "text/plain": [
       "     tempogram_0 tempogram_1 tempogram_2 tempogram_3 tempogram_4 tempogram_5  \\\n",
       "0            1.0     0.78928    0.449616    0.221368    0.130776    0.098073   \n",
       "1            1.0    0.797984    0.482743    0.307028    0.283363    0.349212   \n",
       "2            1.0    0.887349    0.718716    0.605566    0.548434    0.512543   \n",
       "3            1.0    0.800527    0.475701    0.308435    0.340022    0.463117   \n",
       "4            1.0    0.795149    0.463031    0.247617    0.153149    0.109321   \n",
       "...          ...         ...         ...         ...         ...         ...   \n",
       "5713         1.0    0.784318    0.437389    0.222279    0.187637    0.245674   \n",
       "5714         1.0    0.853429     0.67926    0.611528    0.625351    0.621929   \n",
       "5715         1.0    0.759845    0.475647    0.307214    0.287388    0.366127   \n",
       "5716         1.0    0.803923    0.498382    0.343497    0.340038    0.395419   \n",
       "5717         1.0    0.855152     0.63111     0.52615    0.520429    0.491477   \n",
       "\n",
       "     tempogram_6 tempogram_7 tempogram_8 tempogram_9  ... tempogram_182  \\\n",
       "0       0.105267    0.151666    0.251141    0.369657  ...          -0.0   \n",
       "1       0.463909    0.559565    0.563266    0.496564  ...          -0.0   \n",
       "2       0.468736    0.438265    0.460934    0.504058  ...           0.0   \n",
       "3       0.521938    0.441395    0.310173    0.293569  ...           0.0   \n",
       "4         0.1169    0.208411    0.381928    0.570263  ...          -0.0   \n",
       "...          ...         ...         ...         ...  ...           ...   \n",
       "5713    0.287423    0.266299    0.211437    0.200573  ...           0.0   \n",
       "5714    0.589734    0.586242    0.567186    0.555705  ...           0.0   \n",
       "5715    0.518031    0.588331    0.546471    0.457722  ...          -0.0   \n",
       "5716    0.455638    0.495009    0.565344     0.61335  ...          -0.0   \n",
       "5717    0.422015    0.354589    0.312274    0.292055  ...           0.0   \n",
       "\n",
       "     tempogram_183 tempogram_184 tempogram_185 tempogram_186 tempogram_187  \\\n",
       "0              0.0           0.0           0.0           0.0           0.0   \n",
       "1              0.0           0.0           0.0           0.0          -0.0   \n",
       "2              0.0           0.0           0.0           0.0           0.0   \n",
       "3              0.0           0.0           0.0           0.0          -0.0   \n",
       "4              0.0           0.0           0.0           0.0           0.0   \n",
       "...            ...           ...           ...           ...           ...   \n",
       "5713           0.0           0.0           0.0           0.0           0.0   \n",
       "5714           0.0           0.0           0.0           0.0          -0.0   \n",
       "5715           0.0           0.0           0.0           0.0          -0.0   \n",
       "5716          -0.0           0.0           0.0           0.0          -0.0   \n",
       "5717           0.0           0.0           0.0           0.0           0.0   \n",
       "\n",
       "     tempogram_188 tempogram_189 tempogram_190 tempogram_191  \n",
       "0              0.0           0.0           0.0           0.0  \n",
       "1              0.0           0.0           0.0           0.0  \n",
       "2              0.0           0.0           0.0           0.0  \n",
       "3              0.0           0.0           0.0           0.0  \n",
       "4              0.0           0.0           0.0           0.0  \n",
       "...            ...           ...           ...           ...  \n",
       "5713           0.0           0.0           0.0           0.0  \n",
       "5714           0.0           0.0           0.0           0.0  \n",
       "5715           0.0           0.0           0.0           0.0  \n",
       "5716           0.0           0.0           0.0           0.0  \n",
       "5717           0.0           0.0           0.0           0.0  \n",
       "\n",
       "[5718 rows x 192 columns]"
      ]
     },
     "execution_count": 54,
     "metadata": {},
     "output_type": "execute_result"
    }
   ],
   "source": [
    "df_t = dataframe_creator(temp,\n",
    "                         df =pd.DataFrame(columns = columns_t), columns = columns_t, l = 192)\n",
    "\n",
    "df_t.reset_index(drop = True, inplace = True)\n",
    "df_t"
   ]
  },
  {
   "cell_type": "code",
   "execution_count": 55,
   "id": "e627f4d5",
   "metadata": {},
   "outputs": [
    {
     "data": {
      "text/plain": [
       "1.5110125434843798e-18"
      ]
     },
     "execution_count": 55,
     "metadata": {},
     "output_type": "execute_result"
    }
   ],
   "source": [
    "df_t['tempogram_188'][10]"
   ]
  },
  {
   "cell_type": "code",
   "execution_count": 56,
   "id": "33bee52c",
   "metadata": {},
   "outputs": [],
   "source": [
    "df_t.to_csv(path + '/absent_TV_tempogram.csv')"
   ]
  },
  {
   "cell_type": "code",
   "execution_count": 57,
   "id": "c2ae7b50",
   "metadata": {},
   "outputs": [
    {
     "data": {
      "text/plain": [
       "tempogram_0      0\n",
       "tempogram_1      0\n",
       "tempogram_2      0\n",
       "tempogram_3      0\n",
       "tempogram_4      0\n",
       "                ..\n",
       "tempogram_187    0\n",
       "tempogram_188    0\n",
       "tempogram_189    0\n",
       "tempogram_190    0\n",
       "tempogram_191    0\n",
       "Length: 192, dtype: int64"
      ]
     },
     "execution_count": 57,
     "metadata": {},
     "output_type": "execute_result"
    }
   ],
   "source": [
    "df_t.isin([0]).sum(axis=0)"
   ]
  },
  {
   "cell_type": "code",
   "execution_count": 58,
   "id": "0c13bdc2",
   "metadata": {},
   "outputs": [
    {
     "data": {
      "text/html": [
       "<div>\n",
       "<style scoped>\n",
       "    .dataframe tbody tr th:only-of-type {\n",
       "        vertical-align: middle;\n",
       "    }\n",
       "\n",
       "    .dataframe tbody tr th {\n",
       "        vertical-align: top;\n",
       "    }\n",
       "\n",
       "    .dataframe thead th {\n",
       "        text-align: right;\n",
       "    }\n",
       "</style>\n",
       "<table border=\"1\" class=\"dataframe\">\n",
       "  <thead>\n",
       "    <tr style=\"text-align: right;\">\n",
       "      <th></th>\n",
       "      <th>zcrs0</th>\n",
       "      <th>zcrs1</th>\n",
       "      <th>zcrs2</th>\n",
       "      <th>zcrs3</th>\n",
       "      <th>#ofcrossing</th>\n",
       "      <th>C</th>\n",
       "      <th>C♯</th>\n",
       "      <th>D</th>\n",
       "      <th>D♯</th>\n",
       "      <th>E</th>\n",
       "      <th>F</th>\n",
       "      <th>F♯</th>\n",
       "      <th>G</th>\n",
       "      <th>G♯</th>\n",
       "      <th>A</th>\n",
       "      <th>A♯</th>\n",
       "      <th>B</th>\n",
       "    </tr>\n",
       "  </thead>\n",
       "  <tbody>\n",
       "    <tr>\n",
       "      <th>0</th>\n",
       "      <td>0.013875</td>\n",
       "      <td>0.043500</td>\n",
       "      <td>0.040250</td>\n",
       "      <td>0.026000</td>\n",
       "      <td>1429.0</td>\n",
       "      <td>0.774697</td>\n",
       "      <td>0.752658</td>\n",
       "      <td>0.624351</td>\n",
       "      <td>0.614751</td>\n",
       "      <td>0.505404</td>\n",
       "      <td>0.562265</td>\n",
       "      <td>0.691305</td>\n",
       "      <td>0.708033</td>\n",
       "      <td>0.747035</td>\n",
       "      <td>0.612049</td>\n",
       "      <td>0.673493</td>\n",
       "      <td>0.70302</td>\n",
       "    </tr>\n",
       "    <tr>\n",
       "      <th>1</th>\n",
       "      <td>0.017625</td>\n",
       "      <td>0.040375</td>\n",
       "      <td>0.027375</td>\n",
       "      <td>0.031250</td>\n",
       "      <td>1306.0</td>\n",
       "      <td>0.528984</td>\n",
       "      <td>0.569655</td>\n",
       "      <td>0.631345</td>\n",
       "      <td>0.469145</td>\n",
       "      <td>0.581654</td>\n",
       "      <td>0.628005</td>\n",
       "      <td>0.609931</td>\n",
       "      <td>0.617767</td>\n",
       "      <td>0.658815</td>\n",
       "      <td>0.788469</td>\n",
       "      <td>0.638231</td>\n",
       "      <td>0.490605</td>\n",
       "    </tr>\n",
       "    <tr>\n",
       "      <th>2</th>\n",
       "      <td>0.013125</td>\n",
       "      <td>0.031500</td>\n",
       "      <td>0.042000</td>\n",
       "      <td>0.040625</td>\n",
       "      <td>1456.0</td>\n",
       "      <td>0.677536</td>\n",
       "      <td>0.571465</td>\n",
       "      <td>0.455335</td>\n",
       "      <td>0.636636</td>\n",
       "      <td>0.458969</td>\n",
       "      <td>0.446903</td>\n",
       "      <td>0.491728</td>\n",
       "      <td>0.43595</td>\n",
       "      <td>0.524053</td>\n",
       "      <td>0.692241</td>\n",
       "      <td>0.771804</td>\n",
       "      <td>0.758902</td>\n",
       "    </tr>\n",
       "    <tr>\n",
       "      <th>3</th>\n",
       "      <td>0.018750</td>\n",
       "      <td>0.043375</td>\n",
       "      <td>0.029250</td>\n",
       "      <td>0.024000</td>\n",
       "      <td>1417.0</td>\n",
       "      <td>0.590559</td>\n",
       "      <td>0.798237</td>\n",
       "      <td>0.52909</td>\n",
       "      <td>0.415183</td>\n",
       "      <td>0.528545</td>\n",
       "      <td>0.482318</td>\n",
       "      <td>0.430858</td>\n",
       "      <td>0.417283</td>\n",
       "      <td>0.437482</td>\n",
       "      <td>0.548379</td>\n",
       "      <td>0.541304</td>\n",
       "      <td>0.498784</td>\n",
       "    </tr>\n",
       "    <tr>\n",
       "      <th>4</th>\n",
       "      <td>0.029625</td>\n",
       "      <td>0.043750</td>\n",
       "      <td>0.066375</td>\n",
       "      <td>0.063375</td>\n",
       "      <td>2078.0</td>\n",
       "      <td>0.740675</td>\n",
       "      <td>0.729426</td>\n",
       "      <td>0.650502</td>\n",
       "      <td>0.714158</td>\n",
       "      <td>0.789993</td>\n",
       "      <td>0.751961</td>\n",
       "      <td>0.606954</td>\n",
       "      <td>0.669602</td>\n",
       "      <td>0.731011</td>\n",
       "      <td>0.677369</td>\n",
       "      <td>0.536382</td>\n",
       "      <td>0.584563</td>\n",
       "    </tr>\n",
       "    <tr>\n",
       "      <th>...</th>\n",
       "      <td>...</td>\n",
       "      <td>...</td>\n",
       "      <td>...</td>\n",
       "      <td>...</td>\n",
       "      <td>...</td>\n",
       "      <td>...</td>\n",
       "      <td>...</td>\n",
       "      <td>...</td>\n",
       "      <td>...</td>\n",
       "      <td>...</td>\n",
       "      <td>...</td>\n",
       "      <td>...</td>\n",
       "      <td>...</td>\n",
       "      <td>...</td>\n",
       "      <td>...</td>\n",
       "      <td>...</td>\n",
       "      <td>...</td>\n",
       "    </tr>\n",
       "    <tr>\n",
       "      <th>5713</th>\n",
       "      <td>0.033500</td>\n",
       "      <td>0.049500</td>\n",
       "      <td>0.061125</td>\n",
       "      <td>0.056250</td>\n",
       "      <td>2220.0</td>\n",
       "      <td>0.453768</td>\n",
       "      <td>0.511931</td>\n",
       "      <td>0.688536</td>\n",
       "      <td>0.518481</td>\n",
       "      <td>0.551608</td>\n",
       "      <td>0.681667</td>\n",
       "      <td>0.859559</td>\n",
       "      <td>0.614479</td>\n",
       "      <td>0.596402</td>\n",
       "      <td>0.697829</td>\n",
       "      <td>0.645281</td>\n",
       "      <td>0.441324</td>\n",
       "    </tr>\n",
       "    <tr>\n",
       "      <th>5714</th>\n",
       "      <td>0.033625</td>\n",
       "      <td>0.065000</td>\n",
       "      <td>0.075750</td>\n",
       "      <td>0.079125</td>\n",
       "      <td>2850.0</td>\n",
       "      <td>0.223454</td>\n",
       "      <td>0.246843</td>\n",
       "      <td>0.28603</td>\n",
       "      <td>0.344106</td>\n",
       "      <td>0.229377</td>\n",
       "      <td>0.500183</td>\n",
       "      <td>0.555623</td>\n",
       "      <td>0.246648</td>\n",
       "      <td>0.229102</td>\n",
       "      <td>0.402806</td>\n",
       "      <td>0.279365</td>\n",
       "      <td>0.307494</td>\n",
       "    </tr>\n",
       "    <tr>\n",
       "      <th>5715</th>\n",
       "      <td>0.024750</td>\n",
       "      <td>0.095375</td>\n",
       "      <td>0.062250</td>\n",
       "      <td>0.052625</td>\n",
       "      <td>2610.0</td>\n",
       "      <td>0.324664</td>\n",
       "      <td>0.649997</td>\n",
       "      <td>0.461658</td>\n",
       "      <td>0.378426</td>\n",
       "      <td>0.33382</td>\n",
       "      <td>0.510383</td>\n",
       "      <td>0.477204</td>\n",
       "      <td>0.294466</td>\n",
       "      <td>0.474113</td>\n",
       "      <td>0.635614</td>\n",
       "      <td>0.668764</td>\n",
       "      <td>0.531328</td>\n",
       "    </tr>\n",
       "    <tr>\n",
       "      <th>5716</th>\n",
       "      <td>0.027750</td>\n",
       "      <td>0.046250</td>\n",
       "      <td>0.081375</td>\n",
       "      <td>0.073750</td>\n",
       "      <td>2477.0</td>\n",
       "      <td>0.447829</td>\n",
       "      <td>0.72264</td>\n",
       "      <td>0.788603</td>\n",
       "      <td>0.556185</td>\n",
       "      <td>0.427288</td>\n",
       "      <td>0.690504</td>\n",
       "      <td>0.552843</td>\n",
       "      <td>0.399766</td>\n",
       "      <td>0.332237</td>\n",
       "      <td>0.287436</td>\n",
       "      <td>0.42689</td>\n",
       "      <td>0.399635</td>\n",
       "    </tr>\n",
       "    <tr>\n",
       "      <th>5717</th>\n",
       "      <td>0.030000</td>\n",
       "      <td>0.070625</td>\n",
       "      <td>0.060125</td>\n",
       "      <td>0.032500</td>\n",
       "      <td>2286.0</td>\n",
       "      <td>0.803448</td>\n",
       "      <td>0.795891</td>\n",
       "      <td>0.47536</td>\n",
       "      <td>0.370251</td>\n",
       "      <td>0.526641</td>\n",
       "      <td>0.618469</td>\n",
       "      <td>0.593684</td>\n",
       "      <td>0.484745</td>\n",
       "      <td>0.558724</td>\n",
       "      <td>0.73015</td>\n",
       "      <td>0.643881</td>\n",
       "      <td>0.662759</td>\n",
       "    </tr>\n",
       "  </tbody>\n",
       "</table>\n",
       "<p>5718 rows × 17 columns</p>\n",
       "</div>"
      ],
      "text/plain": [
       "         zcrs0     zcrs1     zcrs2     zcrs3  #ofcrossing         C        C♯  \\\n",
       "0     0.013875  0.043500  0.040250  0.026000       1429.0  0.774697  0.752658   \n",
       "1     0.017625  0.040375  0.027375  0.031250       1306.0  0.528984  0.569655   \n",
       "2     0.013125  0.031500  0.042000  0.040625       1456.0  0.677536  0.571465   \n",
       "3     0.018750  0.043375  0.029250  0.024000       1417.0  0.590559  0.798237   \n",
       "4     0.029625  0.043750  0.066375  0.063375       2078.0  0.740675  0.729426   \n",
       "...        ...       ...       ...       ...          ...       ...       ...   \n",
       "5713  0.033500  0.049500  0.061125  0.056250       2220.0  0.453768  0.511931   \n",
       "5714  0.033625  0.065000  0.075750  0.079125       2850.0  0.223454  0.246843   \n",
       "5715  0.024750  0.095375  0.062250  0.052625       2610.0  0.324664  0.649997   \n",
       "5716  0.027750  0.046250  0.081375  0.073750       2477.0  0.447829   0.72264   \n",
       "5717  0.030000  0.070625  0.060125  0.032500       2286.0  0.803448  0.795891   \n",
       "\n",
       "             D        D♯         E         F        F♯         G        G♯  \\\n",
       "0     0.624351  0.614751  0.505404  0.562265  0.691305  0.708033  0.747035   \n",
       "1     0.631345  0.469145  0.581654  0.628005  0.609931  0.617767  0.658815   \n",
       "2     0.455335  0.636636  0.458969  0.446903  0.491728   0.43595  0.524053   \n",
       "3      0.52909  0.415183  0.528545  0.482318  0.430858  0.417283  0.437482   \n",
       "4     0.650502  0.714158  0.789993  0.751961  0.606954  0.669602  0.731011   \n",
       "...        ...       ...       ...       ...       ...       ...       ...   \n",
       "5713  0.688536  0.518481  0.551608  0.681667  0.859559  0.614479  0.596402   \n",
       "5714   0.28603  0.344106  0.229377  0.500183  0.555623  0.246648  0.229102   \n",
       "5715  0.461658  0.378426   0.33382  0.510383  0.477204  0.294466  0.474113   \n",
       "5716  0.788603  0.556185  0.427288  0.690504  0.552843  0.399766  0.332237   \n",
       "5717   0.47536  0.370251  0.526641  0.618469  0.593684  0.484745  0.558724   \n",
       "\n",
       "             A        A♯         B  \n",
       "0     0.612049  0.673493   0.70302  \n",
       "1     0.788469  0.638231  0.490605  \n",
       "2     0.692241  0.771804  0.758902  \n",
       "3     0.548379  0.541304  0.498784  \n",
       "4     0.677369  0.536382  0.584563  \n",
       "...        ...       ...       ...  \n",
       "5713  0.697829  0.645281  0.441324  \n",
       "5714  0.402806  0.279365  0.307494  \n",
       "5715  0.635614  0.668764  0.531328  \n",
       "5716  0.287436   0.42689  0.399635  \n",
       "5717   0.73015  0.643881  0.662759  \n",
       "\n",
       "[5718 rows x 17 columns]"
      ]
     },
     "execution_count": 58,
     "metadata": {},
     "output_type": "execute_result"
    }
   ],
   "source": [
    "final_df = pd.concat([df, ch_df], axis =1)\n",
    "final_df"
   ]
  },
  {
   "cell_type": "code",
   "execution_count": 59,
   "id": "32a62976",
   "metadata": {},
   "outputs": [
    {
     "data": {
      "text/html": [
       "<div>\n",
       "<style scoped>\n",
       "    .dataframe tbody tr th:only-of-type {\n",
       "        vertical-align: middle;\n",
       "    }\n",
       "\n",
       "    .dataframe tbody tr th {\n",
       "        vertical-align: top;\n",
       "    }\n",
       "\n",
       "    .dataframe thead th {\n",
       "        text-align: right;\n",
       "    }\n",
       "</style>\n",
       "<table border=\"1\" class=\"dataframe\">\n",
       "  <thead>\n",
       "    <tr style=\"text-align: right;\">\n",
       "      <th></th>\n",
       "      <th>zcrs0</th>\n",
       "      <th>zcrs1</th>\n",
       "      <th>zcrs2</th>\n",
       "      <th>zcrs3</th>\n",
       "      <th>#ofcrossing</th>\n",
       "      <th>C</th>\n",
       "      <th>C♯</th>\n",
       "      <th>D</th>\n",
       "      <th>D♯</th>\n",
       "      <th>E</th>\n",
       "      <th>...</th>\n",
       "      <th>tempogram_182</th>\n",
       "      <th>tempogram_183</th>\n",
       "      <th>tempogram_184</th>\n",
       "      <th>tempogram_185</th>\n",
       "      <th>tempogram_186</th>\n",
       "      <th>tempogram_187</th>\n",
       "      <th>tempogram_188</th>\n",
       "      <th>tempogram_189</th>\n",
       "      <th>tempogram_190</th>\n",
       "      <th>tempogram_191</th>\n",
       "    </tr>\n",
       "  </thead>\n",
       "  <tbody>\n",
       "    <tr>\n",
       "      <th>0</th>\n",
       "      <td>0.013875</td>\n",
       "      <td>0.043500</td>\n",
       "      <td>0.040250</td>\n",
       "      <td>0.026000</td>\n",
       "      <td>1429.0</td>\n",
       "      <td>0.774697</td>\n",
       "      <td>0.752658</td>\n",
       "      <td>0.624351</td>\n",
       "      <td>0.614751</td>\n",
       "      <td>0.505404</td>\n",
       "      <td>...</td>\n",
       "      <td>-0.0</td>\n",
       "      <td>0.0</td>\n",
       "      <td>0.0</td>\n",
       "      <td>0.0</td>\n",
       "      <td>0.0</td>\n",
       "      <td>0.0</td>\n",
       "      <td>0.0</td>\n",
       "      <td>0.0</td>\n",
       "      <td>0.0</td>\n",
       "      <td>0.0</td>\n",
       "    </tr>\n",
       "    <tr>\n",
       "      <th>1</th>\n",
       "      <td>0.017625</td>\n",
       "      <td>0.040375</td>\n",
       "      <td>0.027375</td>\n",
       "      <td>0.031250</td>\n",
       "      <td>1306.0</td>\n",
       "      <td>0.528984</td>\n",
       "      <td>0.569655</td>\n",
       "      <td>0.631345</td>\n",
       "      <td>0.469145</td>\n",
       "      <td>0.581654</td>\n",
       "      <td>...</td>\n",
       "      <td>-0.0</td>\n",
       "      <td>0.0</td>\n",
       "      <td>0.0</td>\n",
       "      <td>0.0</td>\n",
       "      <td>0.0</td>\n",
       "      <td>-0.0</td>\n",
       "      <td>0.0</td>\n",
       "      <td>0.0</td>\n",
       "      <td>0.0</td>\n",
       "      <td>0.0</td>\n",
       "    </tr>\n",
       "    <tr>\n",
       "      <th>2</th>\n",
       "      <td>0.013125</td>\n",
       "      <td>0.031500</td>\n",
       "      <td>0.042000</td>\n",
       "      <td>0.040625</td>\n",
       "      <td>1456.0</td>\n",
       "      <td>0.677536</td>\n",
       "      <td>0.571465</td>\n",
       "      <td>0.455335</td>\n",
       "      <td>0.636636</td>\n",
       "      <td>0.458969</td>\n",
       "      <td>...</td>\n",
       "      <td>0.0</td>\n",
       "      <td>0.0</td>\n",
       "      <td>0.0</td>\n",
       "      <td>0.0</td>\n",
       "      <td>0.0</td>\n",
       "      <td>0.0</td>\n",
       "      <td>0.0</td>\n",
       "      <td>0.0</td>\n",
       "      <td>0.0</td>\n",
       "      <td>0.0</td>\n",
       "    </tr>\n",
       "    <tr>\n",
       "      <th>3</th>\n",
       "      <td>0.018750</td>\n",
       "      <td>0.043375</td>\n",
       "      <td>0.029250</td>\n",
       "      <td>0.024000</td>\n",
       "      <td>1417.0</td>\n",
       "      <td>0.590559</td>\n",
       "      <td>0.798237</td>\n",
       "      <td>0.52909</td>\n",
       "      <td>0.415183</td>\n",
       "      <td>0.528545</td>\n",
       "      <td>...</td>\n",
       "      <td>0.0</td>\n",
       "      <td>0.0</td>\n",
       "      <td>0.0</td>\n",
       "      <td>0.0</td>\n",
       "      <td>0.0</td>\n",
       "      <td>-0.0</td>\n",
       "      <td>0.0</td>\n",
       "      <td>0.0</td>\n",
       "      <td>0.0</td>\n",
       "      <td>0.0</td>\n",
       "    </tr>\n",
       "    <tr>\n",
       "      <th>4</th>\n",
       "      <td>0.029625</td>\n",
       "      <td>0.043750</td>\n",
       "      <td>0.066375</td>\n",
       "      <td>0.063375</td>\n",
       "      <td>2078.0</td>\n",
       "      <td>0.740675</td>\n",
       "      <td>0.729426</td>\n",
       "      <td>0.650502</td>\n",
       "      <td>0.714158</td>\n",
       "      <td>0.789993</td>\n",
       "      <td>...</td>\n",
       "      <td>-0.0</td>\n",
       "      <td>0.0</td>\n",
       "      <td>0.0</td>\n",
       "      <td>0.0</td>\n",
       "      <td>0.0</td>\n",
       "      <td>0.0</td>\n",
       "      <td>0.0</td>\n",
       "      <td>0.0</td>\n",
       "      <td>0.0</td>\n",
       "      <td>0.0</td>\n",
       "    </tr>\n",
       "    <tr>\n",
       "      <th>...</th>\n",
       "      <td>...</td>\n",
       "      <td>...</td>\n",
       "      <td>...</td>\n",
       "      <td>...</td>\n",
       "      <td>...</td>\n",
       "      <td>...</td>\n",
       "      <td>...</td>\n",
       "      <td>...</td>\n",
       "      <td>...</td>\n",
       "      <td>...</td>\n",
       "      <td>...</td>\n",
       "      <td>...</td>\n",
       "      <td>...</td>\n",
       "      <td>...</td>\n",
       "      <td>...</td>\n",
       "      <td>...</td>\n",
       "      <td>...</td>\n",
       "      <td>...</td>\n",
       "      <td>...</td>\n",
       "      <td>...</td>\n",
       "      <td>...</td>\n",
       "    </tr>\n",
       "    <tr>\n",
       "      <th>5713</th>\n",
       "      <td>0.033500</td>\n",
       "      <td>0.049500</td>\n",
       "      <td>0.061125</td>\n",
       "      <td>0.056250</td>\n",
       "      <td>2220.0</td>\n",
       "      <td>0.453768</td>\n",
       "      <td>0.511931</td>\n",
       "      <td>0.688536</td>\n",
       "      <td>0.518481</td>\n",
       "      <td>0.551608</td>\n",
       "      <td>...</td>\n",
       "      <td>0.0</td>\n",
       "      <td>0.0</td>\n",
       "      <td>0.0</td>\n",
       "      <td>0.0</td>\n",
       "      <td>0.0</td>\n",
       "      <td>0.0</td>\n",
       "      <td>0.0</td>\n",
       "      <td>0.0</td>\n",
       "      <td>0.0</td>\n",
       "      <td>0.0</td>\n",
       "    </tr>\n",
       "    <tr>\n",
       "      <th>5714</th>\n",
       "      <td>0.033625</td>\n",
       "      <td>0.065000</td>\n",
       "      <td>0.075750</td>\n",
       "      <td>0.079125</td>\n",
       "      <td>2850.0</td>\n",
       "      <td>0.223454</td>\n",
       "      <td>0.246843</td>\n",
       "      <td>0.28603</td>\n",
       "      <td>0.344106</td>\n",
       "      <td>0.229377</td>\n",
       "      <td>...</td>\n",
       "      <td>0.0</td>\n",
       "      <td>0.0</td>\n",
       "      <td>0.0</td>\n",
       "      <td>0.0</td>\n",
       "      <td>0.0</td>\n",
       "      <td>-0.0</td>\n",
       "      <td>0.0</td>\n",
       "      <td>0.0</td>\n",
       "      <td>0.0</td>\n",
       "      <td>0.0</td>\n",
       "    </tr>\n",
       "    <tr>\n",
       "      <th>5715</th>\n",
       "      <td>0.024750</td>\n",
       "      <td>0.095375</td>\n",
       "      <td>0.062250</td>\n",
       "      <td>0.052625</td>\n",
       "      <td>2610.0</td>\n",
       "      <td>0.324664</td>\n",
       "      <td>0.649997</td>\n",
       "      <td>0.461658</td>\n",
       "      <td>0.378426</td>\n",
       "      <td>0.33382</td>\n",
       "      <td>...</td>\n",
       "      <td>-0.0</td>\n",
       "      <td>0.0</td>\n",
       "      <td>0.0</td>\n",
       "      <td>0.0</td>\n",
       "      <td>0.0</td>\n",
       "      <td>-0.0</td>\n",
       "      <td>0.0</td>\n",
       "      <td>0.0</td>\n",
       "      <td>0.0</td>\n",
       "      <td>0.0</td>\n",
       "    </tr>\n",
       "    <tr>\n",
       "      <th>5716</th>\n",
       "      <td>0.027750</td>\n",
       "      <td>0.046250</td>\n",
       "      <td>0.081375</td>\n",
       "      <td>0.073750</td>\n",
       "      <td>2477.0</td>\n",
       "      <td>0.447829</td>\n",
       "      <td>0.72264</td>\n",
       "      <td>0.788603</td>\n",
       "      <td>0.556185</td>\n",
       "      <td>0.427288</td>\n",
       "      <td>...</td>\n",
       "      <td>-0.0</td>\n",
       "      <td>-0.0</td>\n",
       "      <td>0.0</td>\n",
       "      <td>0.0</td>\n",
       "      <td>0.0</td>\n",
       "      <td>-0.0</td>\n",
       "      <td>0.0</td>\n",
       "      <td>0.0</td>\n",
       "      <td>0.0</td>\n",
       "      <td>0.0</td>\n",
       "    </tr>\n",
       "    <tr>\n",
       "      <th>5717</th>\n",
       "      <td>0.030000</td>\n",
       "      <td>0.070625</td>\n",
       "      <td>0.060125</td>\n",
       "      <td>0.032500</td>\n",
       "      <td>2286.0</td>\n",
       "      <td>0.803448</td>\n",
       "      <td>0.795891</td>\n",
       "      <td>0.47536</td>\n",
       "      <td>0.370251</td>\n",
       "      <td>0.526641</td>\n",
       "      <td>...</td>\n",
       "      <td>0.0</td>\n",
       "      <td>0.0</td>\n",
       "      <td>0.0</td>\n",
       "      <td>0.0</td>\n",
       "      <td>0.0</td>\n",
       "      <td>0.0</td>\n",
       "      <td>0.0</td>\n",
       "      <td>0.0</td>\n",
       "      <td>0.0</td>\n",
       "      <td>0.0</td>\n",
       "    </tr>\n",
       "  </tbody>\n",
       "</table>\n",
       "<p>5718 rows × 209 columns</p>\n",
       "</div>"
      ],
      "text/plain": [
       "         zcrs0     zcrs1     zcrs2     zcrs3  #ofcrossing         C        C♯  \\\n",
       "0     0.013875  0.043500  0.040250  0.026000       1429.0  0.774697  0.752658   \n",
       "1     0.017625  0.040375  0.027375  0.031250       1306.0  0.528984  0.569655   \n",
       "2     0.013125  0.031500  0.042000  0.040625       1456.0  0.677536  0.571465   \n",
       "3     0.018750  0.043375  0.029250  0.024000       1417.0  0.590559  0.798237   \n",
       "4     0.029625  0.043750  0.066375  0.063375       2078.0  0.740675  0.729426   \n",
       "...        ...       ...       ...       ...          ...       ...       ...   \n",
       "5713  0.033500  0.049500  0.061125  0.056250       2220.0  0.453768  0.511931   \n",
       "5714  0.033625  0.065000  0.075750  0.079125       2850.0  0.223454  0.246843   \n",
       "5715  0.024750  0.095375  0.062250  0.052625       2610.0  0.324664  0.649997   \n",
       "5716  0.027750  0.046250  0.081375  0.073750       2477.0  0.447829   0.72264   \n",
       "5717  0.030000  0.070625  0.060125  0.032500       2286.0  0.803448  0.795891   \n",
       "\n",
       "             D        D♯         E  ... tempogram_182 tempogram_183  \\\n",
       "0     0.624351  0.614751  0.505404  ...          -0.0           0.0   \n",
       "1     0.631345  0.469145  0.581654  ...          -0.0           0.0   \n",
       "2     0.455335  0.636636  0.458969  ...           0.0           0.0   \n",
       "3      0.52909  0.415183  0.528545  ...           0.0           0.0   \n",
       "4     0.650502  0.714158  0.789993  ...          -0.0           0.0   \n",
       "...        ...       ...       ...  ...           ...           ...   \n",
       "5713  0.688536  0.518481  0.551608  ...           0.0           0.0   \n",
       "5714   0.28603  0.344106  0.229377  ...           0.0           0.0   \n",
       "5715  0.461658  0.378426   0.33382  ...          -0.0           0.0   \n",
       "5716  0.788603  0.556185  0.427288  ...          -0.0          -0.0   \n",
       "5717   0.47536  0.370251  0.526641  ...           0.0           0.0   \n",
       "\n",
       "     tempogram_184 tempogram_185 tempogram_186 tempogram_187 tempogram_188  \\\n",
       "0              0.0           0.0           0.0           0.0           0.0   \n",
       "1              0.0           0.0           0.0          -0.0           0.0   \n",
       "2              0.0           0.0           0.0           0.0           0.0   \n",
       "3              0.0           0.0           0.0          -0.0           0.0   \n",
       "4              0.0           0.0           0.0           0.0           0.0   \n",
       "...            ...           ...           ...           ...           ...   \n",
       "5713           0.0           0.0           0.0           0.0           0.0   \n",
       "5714           0.0           0.0           0.0          -0.0           0.0   \n",
       "5715           0.0           0.0           0.0          -0.0           0.0   \n",
       "5716           0.0           0.0           0.0          -0.0           0.0   \n",
       "5717           0.0           0.0           0.0           0.0           0.0   \n",
       "\n",
       "     tempogram_189 tempogram_190 tempogram_191  \n",
       "0              0.0           0.0           0.0  \n",
       "1              0.0           0.0           0.0  \n",
       "2              0.0           0.0           0.0  \n",
       "3              0.0           0.0           0.0  \n",
       "4              0.0           0.0           0.0  \n",
       "...            ...           ...           ...  \n",
       "5713           0.0           0.0           0.0  \n",
       "5714           0.0           0.0           0.0  \n",
       "5715           0.0           0.0           0.0  \n",
       "5716           0.0           0.0           0.0  \n",
       "5717           0.0           0.0           0.0  \n",
       "\n",
       "[5718 rows x 209 columns]"
      ]
     },
     "execution_count": 59,
     "metadata": {},
     "output_type": "execute_result"
    }
   ],
   "source": [
    "final_df = pd.concat([final_df, df_t], axis=1)\n",
    "final_df"
   ]
  },
  {
   "cell_type": "code",
   "execution_count": 60,
   "id": "7c0247a6",
   "metadata": {},
   "outputs": [],
   "source": [
    "final_df.to_csv(path + '/absent_TV_final_sp.csv')"
   ]
  },
  {
   "cell_type": "code",
   "execution_count": null,
   "id": "c49dade0",
   "metadata": {},
   "outputs": [],
   "source": []
  },
  {
   "cell_type": "code",
   "execution_count": null,
   "id": "5900dbe9",
   "metadata": {},
   "outputs": [],
   "source": []
  }
 ],
 "metadata": {
  "kernelspec": {
   "display_name": "Python 3 (ipykernel)",
   "language": "python",
   "name": "python3"
  },
  "language_info": {
   "codemirror_mode": {
    "name": "ipython",
    "version": 3
   },
   "file_extension": ".py",
   "mimetype": "text/x-python",
   "name": "python",
   "nbconvert_exporter": "python",
   "pygments_lexer": "ipython3",
   "version": "3.9.9"
  }
 },
 "nbformat": 4,
 "nbformat_minor": 5
}
