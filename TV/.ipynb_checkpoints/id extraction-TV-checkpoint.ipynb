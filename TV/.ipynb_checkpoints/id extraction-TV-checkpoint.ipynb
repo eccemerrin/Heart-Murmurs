{
 "cells": [
  {
   "cell_type": "markdown",
   "id": "a10707b4",
   "metadata": {},
   "source": [
    "## Imports:"
   ]
  },
  {
   "cell_type": "code",
   "execution_count": 1,
   "id": "5b0b2dcc",
   "metadata": {},
   "outputs": [
    {
     "ename": "RuntimeError",
     "evalue": "module compiled against API version 0xe but this version of numpy is 0xd",
     "output_type": "error",
     "traceback": [
      "\u001b[0;31m---------------------------------------------------------------------------\u001b[0m",
      "\u001b[0;31mRuntimeError\u001b[0m                              Traceback (most recent call last)",
      "\u001b[0;31mRuntimeError\u001b[0m: module compiled against API version 0xe but this version of numpy is 0xd"
     ]
    }
   ],
   "source": [
    "import scipy.io\n",
    "import os\n",
    "import pandas\n",
    "import numpy as np\n",
    "import matplotlib.pyplot as plt\n",
    "import matplotlib.pylab as plt_lab\n",
    "import matplotlib.gridspec as gridspec\n",
    "import obspy\n",
    "import pandas as pd"
   ]
  },
  {
   "cell_type": "code",
   "execution_count": 2,
   "id": "995724bf",
   "metadata": {},
   "outputs": [],
   "source": [
    "import warnings\n",
    "warnings.filterwarnings('ignore')"
   ]
  },
  {
   "cell_type": "markdown",
   "id": "41b4c77f",
   "metadata": {},
   "source": [
    "## Load data:\n",
    "We are going to use this data to plot spectograms of SCG signals. "
   ]
  },
  {
   "cell_type": "code",
   "execution_count": 3,
   "id": "75a415fd",
   "metadata": {},
   "outputs": [],
   "source": [
    "path = \"/Users/ecem/Desktop/phonocardiogram/data/TV\""
   ]
  },
  {
   "cell_type": "code",
   "execution_count": 4,
   "id": "d770eb2f",
   "metadata": {},
   "outputs": [],
   "source": [
    "csv = pd.read_csv(\"/Users/ecem/Desktop/phonocardiogram/data/fixed_csv.csv\", index_col = 0)"
   ]
  },
  {
   "cell_type": "code",
   "execution_count": 5,
   "id": "ea0d1766",
   "metadata": {},
   "outputs": [
    {
     "data": {
      "text/html": [
       "<div>\n",
       "<style scoped>\n",
       "    .dataframe tbody tr th:only-of-type {\n",
       "        vertical-align: middle;\n",
       "    }\n",
       "\n",
       "    .dataframe tbody tr th {\n",
       "        vertical-align: top;\n",
       "    }\n",
       "\n",
       "    .dataframe thead th {\n",
       "        text-align: right;\n",
       "    }\n",
       "</style>\n",
       "<table border=\"1\" class=\"dataframe\">\n",
       "  <thead>\n",
       "    <tr style=\"text-align: right;\">\n",
       "      <th></th>\n",
       "      <th>Patient ID</th>\n",
       "      <th>Age</th>\n",
       "      <th>Sex</th>\n",
       "      <th>Height</th>\n",
       "      <th>Weight</th>\n",
       "      <th>Pregnancy status</th>\n",
       "      <th>Murmur</th>\n",
       "      <th>Most audible location</th>\n",
       "      <th>Systolic murmur timing</th>\n",
       "      <th>Systolic murmur shape</th>\n",
       "      <th>...</th>\n",
       "      <th>Campaign</th>\n",
       "      <th>Additional ID</th>\n",
       "      <th>recording location AV</th>\n",
       "      <th>recording location MV</th>\n",
       "      <th>recording location PV</th>\n",
       "      <th>recording location TV</th>\n",
       "      <th>murmur location AV</th>\n",
       "      <th>murmur location MV</th>\n",
       "      <th>murmur location PV</th>\n",
       "      <th>murmur location TV</th>\n",
       "    </tr>\n",
       "  </thead>\n",
       "  <tbody>\n",
       "    <tr>\n",
       "      <th>0</th>\n",
       "      <td>2530</td>\n",
       "      <td>Child</td>\n",
       "      <td>Female</td>\n",
       "      <td>98.0</td>\n",
       "      <td>15.9</td>\n",
       "      <td>False</td>\n",
       "      <td>Absent</td>\n",
       "      <td>NaN</td>\n",
       "      <td>NaN</td>\n",
       "      <td>NaN</td>\n",
       "      <td>...</td>\n",
       "      <td>CC2015</td>\n",
       "      <td>NaN</td>\n",
       "      <td>1.0</td>\n",
       "      <td>1.0</td>\n",
       "      <td>1.0</td>\n",
       "      <td>1.0</td>\n",
       "      <td>0.0</td>\n",
       "      <td>0.0</td>\n",
       "      <td>0.0</td>\n",
       "      <td>0.0</td>\n",
       "    </tr>\n",
       "    <tr>\n",
       "      <th>1</th>\n",
       "      <td>9979</td>\n",
       "      <td>Child</td>\n",
       "      <td>Female</td>\n",
       "      <td>103.0</td>\n",
       "      <td>13.1</td>\n",
       "      <td>False</td>\n",
       "      <td>Present</td>\n",
       "      <td>TV</td>\n",
       "      <td>Holosystolic</td>\n",
       "      <td>Diamond</td>\n",
       "      <td>...</td>\n",
       "      <td>CC2015</td>\n",
       "      <td>NaN</td>\n",
       "      <td>1.0</td>\n",
       "      <td>1.0</td>\n",
       "      <td>1.0</td>\n",
       "      <td>1.0</td>\n",
       "      <td>1.0</td>\n",
       "      <td>1.0</td>\n",
       "      <td>1.0</td>\n",
       "      <td>1.0</td>\n",
       "    </tr>\n",
       "    <tr>\n",
       "      <th>2</th>\n",
       "      <td>9983</td>\n",
       "      <td>Child</td>\n",
       "      <td>Male</td>\n",
       "      <td>115.0</td>\n",
       "      <td>19.1</td>\n",
       "      <td>False</td>\n",
       "      <td>Unknown</td>\n",
       "      <td>NaN</td>\n",
       "      <td>NaN</td>\n",
       "      <td>NaN</td>\n",
       "      <td>...</td>\n",
       "      <td>CC2015</td>\n",
       "      <td>NaN</td>\n",
       "      <td>1.0</td>\n",
       "      <td>1.0</td>\n",
       "      <td>1.0</td>\n",
       "      <td>1.0</td>\n",
       "      <td>0.0</td>\n",
       "      <td>0.0</td>\n",
       "      <td>0.0</td>\n",
       "      <td>0.0</td>\n",
       "    </tr>\n",
       "    <tr>\n",
       "      <th>3</th>\n",
       "      <td>13918</td>\n",
       "      <td>Child</td>\n",
       "      <td>Male</td>\n",
       "      <td>98.0</td>\n",
       "      <td>15.9</td>\n",
       "      <td>False</td>\n",
       "      <td>Present</td>\n",
       "      <td>TV</td>\n",
       "      <td>Holosystolic</td>\n",
       "      <td>Plateau</td>\n",
       "      <td>...</td>\n",
       "      <td>CC2015</td>\n",
       "      <td>NaN</td>\n",
       "      <td>1.0</td>\n",
       "      <td>1.0</td>\n",
       "      <td>1.0</td>\n",
       "      <td>1.0</td>\n",
       "      <td>0.0</td>\n",
       "      <td>0.0</td>\n",
       "      <td>0.0</td>\n",
       "      <td>1.0</td>\n",
       "    </tr>\n",
       "    <tr>\n",
       "      <th>4</th>\n",
       "      <td>14241</td>\n",
       "      <td>Child</td>\n",
       "      <td>Male</td>\n",
       "      <td>87.0</td>\n",
       "      <td>11.2</td>\n",
       "      <td>False</td>\n",
       "      <td>Present</td>\n",
       "      <td>PV</td>\n",
       "      <td>Early-systolic</td>\n",
       "      <td>Plateau</td>\n",
       "      <td>...</td>\n",
       "      <td>CC2015</td>\n",
       "      <td>NaN</td>\n",
       "      <td>1.0</td>\n",
       "      <td>1.0</td>\n",
       "      <td>1.0</td>\n",
       "      <td>1.0</td>\n",
       "      <td>1.0</td>\n",
       "      <td>1.0</td>\n",
       "      <td>1.0</td>\n",
       "      <td>1.0</td>\n",
       "    </tr>\n",
       "  </tbody>\n",
       "</table>\n",
       "<p>5 rows × 29 columns</p>\n",
       "</div>"
      ],
      "text/plain": [
       "   Patient ID    Age     Sex  Height  Weight  Pregnancy status   Murmur  \\\n",
       "0        2530  Child  Female    98.0    15.9             False   Absent   \n",
       "1        9979  Child  Female   103.0    13.1             False  Present   \n",
       "2        9983  Child    Male   115.0    19.1             False  Unknown   \n",
       "3       13918  Child    Male    98.0    15.9             False  Present   \n",
       "4       14241  Child    Male    87.0    11.2             False  Present   \n",
       "\n",
       "  Most audible location Systolic murmur timing Systolic murmur shape  ...  \\\n",
       "0                   NaN                    NaN                   NaN  ...   \n",
       "1                    TV           Holosystolic               Diamond  ...   \n",
       "2                   NaN                    NaN                   NaN  ...   \n",
       "3                    TV           Holosystolic               Plateau  ...   \n",
       "4                    PV         Early-systolic               Plateau  ...   \n",
       "\n",
       "  Campaign Additional ID recording location AV recording location MV  \\\n",
       "0   CC2015           NaN                   1.0                   1.0   \n",
       "1   CC2015           NaN                   1.0                   1.0   \n",
       "2   CC2015           NaN                   1.0                   1.0   \n",
       "3   CC2015           NaN                   1.0                   1.0   \n",
       "4   CC2015           NaN                   1.0                   1.0   \n",
       "\n",
       "  recording location PV recording location TV murmur location AV  \\\n",
       "0                   1.0                   1.0                0.0   \n",
       "1                   1.0                   1.0                1.0   \n",
       "2                   1.0                   1.0                0.0   \n",
       "3                   1.0                   1.0                0.0   \n",
       "4                   1.0                   1.0                1.0   \n",
       "\n",
       "  murmur location MV murmur location PV murmur location TV  \n",
       "0                0.0                0.0                0.0  \n",
       "1                1.0                1.0                1.0  \n",
       "2                0.0                0.0                0.0  \n",
       "3                0.0                0.0                1.0  \n",
       "4                1.0                1.0                1.0  \n",
       "\n",
       "[5 rows x 29 columns]"
      ]
     },
     "execution_count": 5,
     "metadata": {},
     "output_type": "execute_result"
    }
   ],
   "source": [
    "csv.head()"
   ]
  },
  {
   "cell_type": "markdown",
   "id": "77620848",
   "metadata": {},
   "source": [
    "### get indexes for recordings taken in specific location with murmur = absent, present"
   ]
  },
  {
   "cell_type": "code",
   "execution_count": 6,
   "id": "f7806bce",
   "metadata": {},
   "outputs": [
    {
     "data": {
      "text/plain": [
       "(array([  1,   3,   4,   8,  11,  12,  19,  21,  22,  23,  25,  33,  42,\n",
       "         43,  44,  55,  57,  63,  64,  68,  82, 106, 136, 174, 176, 187,\n",
       "        203, 216, 219, 220, 231, 233, 242, 244, 248, 265, 272, 320, 332,\n",
       "        359, 360, 367, 377, 416, 418, 420, 429, 434, 440, 441, 446, 453,\n",
       "        463, 466, 469, 471, 479, 485, 486, 488, 498, 502, 515, 527, 528,\n",
       "        529, 534, 539, 551, 555, 557, 572, 573, 574, 588, 594, 609, 650,\n",
       "        658, 659, 665, 666, 667, 678, 705, 711, 743, 752, 757, 758, 762,\n",
       "        763, 765, 773, 778, 782, 783, 787, 798, 800, 815, 816, 844, 856,\n",
       "        860, 867, 892, 939]),)"
      ]
     },
     "execution_count": 6,
     "metadata": {},
     "output_type": "execute_result"
    }
   ],
   "source": [
    "#this shows indexes of recordings taken in av location which also has a murmur at av\n",
    "idx_tv_present =  np.where((csv['Murmur'] == 'Present') & (csv['murmur location TV'] == 1) &\n",
    "                           (csv['recording location TV'] == 1))\n",
    "idx_tv_present"
   ]
  },
  {
   "cell_type": "code",
   "execution_count": 7,
   "id": "fd33f870",
   "metadata": {},
   "outputs": [
    {
     "data": {
      "text/plain": [
       "108"
      ]
     },
     "execution_count": 7,
     "metadata": {},
     "output_type": "execute_result"
    }
   ],
   "source": [
    "len(idx_tv_present[0])"
   ]
  },
  {
   "cell_type": "code",
   "execution_count": 8,
   "id": "74234c85",
   "metadata": {
    "scrolled": true
   },
   "outputs": [
    {
     "data": {
      "text/plain": [
       "(array([  0,   5,   6,   7,  10,  14,  15,  17,  18,  20,  29,  30,  31,\n",
       "         34,  35,  39,  47,  48,  49,  52,  53,  54,  58,  59,  61,  71,\n",
       "         74,  75,  77,  78,  80,  81,  84,  87,  89,  90,  95,  98,  99,\n",
       "        102, 104, 105, 107, 109, 110, 114, 115, 118, 119, 120, 122, 125,\n",
       "        127, 130, 133, 134, 138, 141, 143, 145, 147, 148, 149, 150, 152,\n",
       "        153, 155, 158, 159, 161, 162, 163, 173, 175, 191, 199, 204, 205,\n",
       "        209, 214, 217, 218, 221, 223, 227, 229, 234, 235, 237, 238, 239,\n",
       "        240, 241, 243, 246, 250, 251, 252, 254, 258, 260, 261, 263, 264,\n",
       "        267, 268, 270, 274, 278, 281, 284, 285, 286, 287, 288, 290, 291,\n",
       "        292, 293, 294, 296, 297, 300, 306, 313, 315, 316, 318, 321, 322,\n",
       "        323, 327, 328, 329, 331, 335, 337, 338, 339, 340, 341, 342, 343,\n",
       "        346, 347, 348, 350, 352, 353, 357, 362, 364, 365, 369, 371, 372,\n",
       "        373, 374, 375, 376, 378, 379, 380, 381, 383, 384, 386, 391, 393,\n",
       "        394, 399, 400, 401, 402, 403, 405, 406, 407, 408, 409, 410, 411,\n",
       "        412, 415, 421, 422, 423, 427, 428, 431, 432, 433, 435, 438, 442,\n",
       "        443, 444, 448, 450, 452, 457, 458, 459, 460, 461, 464, 465, 468,\n",
       "        470, 472, 473, 475, 476, 477, 478, 480, 481, 482, 483, 489, 490,\n",
       "        491, 492, 493, 494, 495, 496, 497, 499, 500, 501, 503, 504, 505,\n",
       "        507, 509, 511, 513, 516, 518, 519, 520, 522, 523, 525, 530, 532,\n",
       "        533, 535, 536, 537, 538, 540, 542, 543, 544, 545, 546, 550, 552,\n",
       "        554, 560, 561, 563, 564, 570, 575, 576, 577, 580, 582, 583, 584,\n",
       "        585, 587, 590, 591, 593, 597, 598, 599, 601, 602, 603, 604, 607,\n",
       "        608, 610, 613, 615, 616, 617, 621, 622, 623, 624, 625, 627, 630,\n",
       "        632, 633, 635, 637, 639, 640, 641, 643, 644, 645, 647, 648, 649,\n",
       "        651, 653, 654, 656, 657, 661, 663, 664, 668, 669, 670, 671, 674,\n",
       "        675, 676, 677, 679, 680, 683, 684, 687, 690, 691, 694, 695, 697,\n",
       "        698, 699, 700, 701, 703, 704, 706, 707, 708, 709, 710, 713, 714,\n",
       "        715, 716, 717, 718, 723, 724, 725, 726, 727, 728, 731, 732, 733,\n",
       "        735, 736, 737, 738, 739, 741, 742, 745, 747, 750, 751, 754, 755,\n",
       "        756, 759, 761, 764, 768, 769, 771, 774, 776, 779, 781, 785, 786,\n",
       "        790, 791, 792, 793, 795, 796, 799, 801, 802, 803, 804, 805, 806,\n",
       "        808, 809, 810, 811, 812, 813, 814, 817, 819, 822, 825, 826, 828,\n",
       "        829, 831, 833, 835, 836, 837, 838, 840, 842, 845, 846, 847, 848,\n",
       "        851, 852, 853, 855, 861, 862, 863, 864, 865, 866, 868, 869, 873,\n",
       "        874, 875, 876, 877, 878, 879, 882, 883, 884, 885, 886, 887, 888,\n",
       "        889, 890, 893, 895, 897, 899, 900, 901, 902, 903, 904, 906, 907,\n",
       "        909, 910, 912, 913, 915, 916, 918, 919, 925, 926, 927, 928, 929,\n",
       "        931, 932, 934, 935, 937, 938, 941]),)"
      ]
     },
     "execution_count": 8,
     "metadata": {},
     "output_type": "execute_result"
    }
   ],
   "source": [
    "#this shows indexes of recordings taken in av location which also has not a murmur at anywhere\n",
    "idx_tv_absent =  np.where((csv['Murmur'] == 'Absent') & (csv['murmur location TV'] == 0) &\n",
    "                           (csv['recording location TV'] == 1))\n",
    "idx_tv_absent"
   ]
  },
  {
   "cell_type": "code",
   "execution_count": 9,
   "id": "733b1562",
   "metadata": {},
   "outputs": [
    {
     "data": {
      "text/plain": [
       "488"
      ]
     },
     "execution_count": 9,
     "metadata": {},
     "output_type": "execute_result"
    }
   ],
   "source": [
    "len(idx_tv_absent[0])"
   ]
  },
  {
   "cell_type": "markdown",
   "id": "d044566c",
   "metadata": {},
   "source": [
    "## now lets get the data in which murmur is present"
   ]
  },
  {
   "cell_type": "markdown",
   "id": "dbd6f79f",
   "metadata": {},
   "source": [
    "### murmur = present"
   ]
  },
  {
   "cell_type": "code",
   "execution_count": 10,
   "id": "16d4703f",
   "metadata": {},
   "outputs": [
    {
     "data": {
      "text/plain": [
       "array([ 9979, 13918, 14241, 29045, 33151, 36327, 40840, 44514, 45843,\n",
       "       46065, 46579, 49574, 49627, 49628, 49630, 49691, 49712, 49751,\n",
       "       49754, 49821, 49897, 49994, 50056, 50127, 50129, 50150, 50209,\n",
       "       50229, 50233, 50238, 50256, 50260, 50277, 50280, 50289, 50319,\n",
       "       50331, 50656, 50676, 50735, 50736, 50744, 50757, 55945, 57706,\n",
       "       61117, 68194, 68255, 68303, 68306, 68337, 68379, 68425, 68432,\n",
       "       68444, 68456, 68487, 68560, 68567, 68582, 68708, 68740, 68874,\n",
       "       69068, 69079, 69093, 69120, 69147, 73497, 76240, 77373, 84692,\n",
       "       84693, 84695, 84718, 84730, 84751, 84834, 84853, 84854, 84863,\n",
       "       84864, 84865, 84882, 84937, 84949, 85002, 85024, 85030, 85031,\n",
       "       85036, 85037, 85042, 85057, 85069, 85079, 85080, 85087, 85108,\n",
       "       85110, 85132, 85133, 85172, 85198, 85207, 85219, 85261, 85343])"
      ]
     },
     "execution_count": 10,
     "metadata": {},
     "output_type": "execute_result"
    }
   ],
   "source": [
    "ids_tv_present = csv.loc[idx_tv_present]['Patient ID'].values\n",
    "ids_tv_present"
   ]
  },
  {
   "cell_type": "code",
   "execution_count": 11,
   "id": "fbb3b096",
   "metadata": {},
   "outputs": [
    {
     "data": {
      "text/plain": [
       "108"
      ]
     },
     "execution_count": 11,
     "metadata": {},
     "output_type": "execute_result"
    }
   ],
   "source": [
    "len(ids_tv_present)"
   ]
  },
  {
   "cell_type": "code",
   "execution_count": 12,
   "id": "a5218dae",
   "metadata": {},
   "outputs": [],
   "source": [
    "np.save(path + \"/murmur_present_ids\", ids_tv_present, allow_pickle = True)"
   ]
  },
  {
   "cell_type": "code",
   "execution_count": 13,
   "id": "314ccdf9",
   "metadata": {},
   "outputs": [
    {
     "data": {
      "text/plain": [
       "array([ 2530, 14998, 23625, 24160, 31737, 39043, 39403, 40058, 40798,\n",
       "       43852, 49561, 49562, 49568, 49577, 49585, 49610, 49641, 49653,\n",
       "       49659, 49678, 49683, 49687, 49719, 49729, 49745, 49829, 49839,\n",
       "       49842, 49853, 49854, 49876, 49896, 49930, 49952, 49960, 49963,\n",
       "       49974, 49980, 49983, 49988, 49990, 49993, 49995, 49999, 50001,\n",
       "       50007, 50008, 50014, 50015, 50017, 50023, 50029, 50032, 50043,\n",
       "       50049, 50053, 50061, 50070, 50074, 50076, 50078, 50079, 50080,\n",
       "       50085, 50089, 50092, 50096, 50103, 50104, 50109, 50111, 50113,\n",
       "       50126, 50128, 50155, 50174, 50210, 50213, 50218, 50225, 50230,\n",
       "       50231, 50239, 50244, 50250, 50254, 50261, 50263, 50271, 50272,\n",
       "       50273, 50275, 50276, 50278, 50284, 50295, 50296, 50297, 50299,\n",
       "       50306, 50312, 50314, 50317, 50318, 50323, 50325, 50327, 50334,\n",
       "       50339, 50343, 50349, 50350, 50352, 50354, 50359, 50379, 50384,\n",
       "       50385, 50386, 50388, 50393, 50619, 50624, 50635, 50645, 50647,\n",
       "       50649, 50654, 50657, 50658, 50659, 50667, 50668, 50669, 50673,\n",
       "       50680, 50687, 50688, 50689, 50690, 50691, 50693, 50699, 50708,\n",
       "       50713, 50715, 50721, 50723, 50725, 50732, 50738, 50740, 50742,\n",
       "       50747, 50749, 50751, 50752, 50753, 50754, 50756, 50758, 50762,\n",
       "       50763, 50766, 50770, 50771, 50773, 50784, 50788, 50789, 50797,\n",
       "       50798, 50800, 50802, 50803, 50807, 50812, 50815, 50818, 50819,\n",
       "       50820, 50822, 50826, 51331, 61610, 63456, 63581, 68182, 68186,\n",
       "       68213, 68219, 68222, 68260, 68292, 68316, 68318, 68327, 68359,\n",
       "       68368, 68377, 68406, 68407, 68412, 68413, 68419, 68427, 68431,\n",
       "       68436, 68449, 68460, 68465, 68477, 68478, 68482, 68484, 68498,\n",
       "       68504, 68532, 68545, 68624, 68632, 68646, 68659, 68660, 68682,\n",
       "       68698, 68702, 68705, 68711, 68737, 68738, 68741, 68752, 68755,\n",
       "       68757, 68827, 68849, 68861, 68886, 68888, 68895, 68901, 68909,\n",
       "       68952, 69066, 69095, 69106, 69112, 69125, 69129, 69141, 69144,\n",
       "       69152, 69159, 69161, 69174, 69176, 69188, 73316, 74417, 75440,\n",
       "       78592, 80348, 81297, 81501, 84689, 84696, 84697, 84699, 84706,\n",
       "       84709, 84710, 84711, 84713, 84716, 84721, 84724, 84727, 84733,\n",
       "       84734, 84735, 84738, 84740, 84742, 84743, 84749, 84750, 84753,\n",
       "       84758, 84761, 84762, 84764, 84775, 84776, 84778, 84779, 84780,\n",
       "       84785, 84793, 84798, 84799, 84803, 84805, 84808, 84809, 84813,\n",
       "       84815, 84822, 84823, 84826, 84829, 84831, 84835, 84838, 84839,\n",
       "       84851, 84852, 84856, 84859, 84861, 84866, 84868, 84870, 84874,\n",
       "       84877, 84878, 84879, 84881, 84883, 84884, 84887, 84890, 84894,\n",
       "       84912, 84917, 84920, 84921, 84923, 84928, 84930, 84931, 84933,\n",
       "       84935, 84936, 84939, 84942, 84945, 84946, 84947, 84952, 84957,\n",
       "       84960, 84961, 84962, 84965, 84973, 84974, 84976, 84977, 84978,\n",
       "       84982, 84985, 84986, 84987, 84990, 84991, 84992, 84993, 84994,\n",
       "       84996, 85000, 85010, 85012, 85020, 85023, 85027, 85028, 85029,\n",
       "       85033, 85035, 85038, 85046, 85048, 85053, 85062, 85064, 85075,\n",
       "       85077, 85084, 85086, 85093, 85094, 85096, 85099, 85102, 85103,\n",
       "       85109, 85112, 85113, 85114, 85115, 85116, 85118, 85121, 85122,\n",
       "       85123, 85124, 85127, 85128, 85131, 85134, 85136, 85143, 85147,\n",
       "       85148, 85151, 85152, 85154, 85157, 85161, 85162, 85163, 85164,\n",
       "       85166, 85168, 85174, 85175, 85176, 85180, 85184, 85186, 85192,\n",
       "       85197, 85210, 85212, 85213, 85214, 85216, 85217, 85222, 85225,\n",
       "       85230, 85234, 85235, 85236, 85239, 85240, 85241, 85244, 85245,\n",
       "       85246, 85247, 85249, 85250, 85252, 85253, 85258, 85262, 85265,\n",
       "       85270, 85277, 85278, 85279, 85282, 85285, 85286, 85288, 85293,\n",
       "       85296, 85299, 85301, 85305, 85308, 85312, 85315, 85316, 85326,\n",
       "       85327, 85328, 85329, 85331, 85334, 85335, 85337, 85338, 85340,\n",
       "       85341, 85349])"
      ]
     },
     "execution_count": 13,
     "metadata": {},
     "output_type": "execute_result"
    }
   ],
   "source": [
    "ids_tv_absent = csv.loc[idx_tv_absent]['Patient ID'].values\n",
    "ids_tv_absent"
   ]
  },
  {
   "cell_type": "code",
   "execution_count": 14,
   "id": "575fcbcf",
   "metadata": {},
   "outputs": [
    {
     "data": {
      "text/plain": [
       "488"
      ]
     },
     "execution_count": 14,
     "metadata": {},
     "output_type": "execute_result"
    }
   ],
   "source": [
    "len(ids_tv_absent)"
   ]
  },
  {
   "cell_type": "code",
   "execution_count": 15,
   "id": "0a2244a7",
   "metadata": {},
   "outputs": [],
   "source": [
    "np.save(path + \"/murmur_absent_ids\", ids_tv_absent, allow_pickle = True)"
   ]
  },
  {
   "cell_type": "code",
   "execution_count": null,
   "id": "f79ebc23",
   "metadata": {},
   "outputs": [],
   "source": []
  },
  {
   "cell_type": "code",
   "execution_count": null,
   "id": "e043545c",
   "metadata": {},
   "outputs": [],
   "source": []
  }
 ],
 "metadata": {
  "kernelspec": {
   "display_name": "Python 3 (ipykernel)",
   "language": "python",
   "name": "python3"
  },
  "language_info": {
   "codemirror_mode": {
    "name": "ipython",
    "version": 3
   },
   "file_extension": ".py",
   "mimetype": "text/x-python",
   "name": "python",
   "nbconvert_exporter": "python",
   "pygments_lexer": "ipython3",
   "version": "3.9.9"
  }
 },
 "nbformat": 4,
 "nbformat_minor": 5
}
