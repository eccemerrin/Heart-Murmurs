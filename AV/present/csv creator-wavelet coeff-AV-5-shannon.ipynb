{
 "cells": [
  {
   "cell_type": "markdown",
   "id": "9738d69c",
   "metadata": {},
   "source": [
    "### Imports"
   ]
  },
  {
   "cell_type": "code",
   "execution_count": 1,
   "id": "dc7b749c",
   "metadata": {},
   "outputs": [],
   "source": [
    "import warnings\n",
    "warnings.filterwarnings(\"ignore\")"
   ]
  },
  {
   "cell_type": "code",
   "execution_count": 2,
   "id": "749d0c72",
   "metadata": {},
   "outputs": [],
   "source": [
    "#imports\n",
    "import scipy.io\n",
    "import os\n",
    "import pandas\n",
    "import numpy as np\n",
    "import matplotlib.pyplot as plt\n",
    "import matplotlib.pylab as pl\n",
    "import matplotlib.gridspec as gridspec\n",
    "import obspy\n",
    "import pywt\n",
    "import pywt.data"
   ]
  },
  {
   "cell_type": "markdown",
   "id": "2bc54617",
   "metadata": {},
   "source": [
    "### Load the trimmed data "
   ]
  },
  {
   "cell_type": "code",
   "execution_count": 3,
   "id": "cd387f07",
   "metadata": {},
   "outputs": [],
   "source": [
    "path = \"/Users/ecem/Desktop/phonocardiogram/data/AV/present\"\n",
    "path_w = \"/Users/ecem/Desktop/phonocardiogram/data/wavelet_4\"\n",
    "waves = np.load(path + \"/present_AV_waves_10sec.npy\", allow_pickle= True)"
   ]
  },
  {
   "cell_type": "code",
   "execution_count": 4,
   "id": "2a96529d",
   "metadata": {},
   "outputs": [],
   "source": [
    "n= waves.shape[0]"
   ]
  },
  {
   "cell_type": "code",
   "execution_count": 5,
   "id": "d110333c",
   "metadata": {},
   "outputs": [
    {
     "data": {
      "text/plain": [
       "1245"
      ]
     },
     "execution_count": 5,
     "metadata": {},
     "output_type": "execute_result"
    }
   ],
   "source": [
    "n"
   ]
  },
  {
   "cell_type": "markdown",
   "id": "c0d9b74d",
   "metadata": {},
   "source": [
    "## Let's look at wavelet decomposition for a signal piece"
   ]
  },
  {
   "cell_type": "markdown",
   "id": "f8c7f06d",
   "metadata": {},
   "source": [
    "#### how our decomposition filter values look like"
   ]
  },
  {
   "cell_type": "code",
   "execution_count": 6,
   "id": "556de875",
   "metadata": {},
   "outputs": [
    {
     "data": {
      "image/png": "[encoded data removed]",
      "text/plain": [
       "<Figure size 432x288 with 1 Axes>"
      ]
     },
     "metadata": {
      "needs_background": "light"
     },
     "output_type": "display_data"
    }
   ],
   "source": [
    "w = pywt.Wavelet('db8')\n",
    "plt.plot(w.dec_lo)\n",
    "coeffs = pywt.wavedec(waves[0], w, level=6)"
   ]
  },
  {
   "cell_type": "code",
   "execution_count": 7,
   "id": "95ab5a75",
   "metadata": {},
   "outputs": [],
   "source": [
    "import pandas as pd"
   ]
  },
  {
   "cell_type": "code",
   "execution_count": 8,
   "id": "cb801cab",
   "metadata": {},
   "outputs": [],
   "source": [
    "coef = []\n",
    "for i in range(len(waves)):\n",
    "    coef.append(pywt.wavedec(waves[i], w, level=5))"
   ]
  },
  {
   "cell_type": "code",
   "execution_count": 9,
   "id": "772ae19a",
   "metadata": {},
   "outputs": [
    {
     "name": "stdout",
     "output_type": "stream",
     "text": [
      "(1264,)\n",
      "(1264,)\n",
      "(2514,)\n",
      "(5013,)\n",
      "(10011,)\n",
      "(20007,)\n"
     ]
    }
   ],
   "source": [
    "for i in range(6):\n",
    "    print(coef[0][i].shape)"
   ]
  },
  {
   "cell_type": "markdown",
   "id": "37f4e1b1",
   "metadata": {},
   "source": [
    "### Level by level"
   ]
  },
  {
   "cell_type": "code",
   "execution_count": 10,
   "id": "95d28b26",
   "metadata": {},
   "outputs": [],
   "source": [
    "def level_coef_extractor_3d(array, lvl = 0):\n",
    "    array =np.array(array)\n",
    "    \n",
    "    lenn = array[0][lvl].shape[0] #48\n",
    "    coef = np.ones(shape = (array.shape[0],lenn)) #2392,48\n",
    "    \n",
    "    for i in range(array.shape[0]):\n",
    "        coef[i,:] = array[i][lvl]\n",
    "        \n",
    "    return coef"
   ]
  },
  {
   "cell_type": "code",
   "execution_count": 11,
   "id": "4e06553b",
   "metadata": {},
   "outputs": [],
   "source": [
    "def saver(array = 0, lvl = 0, dir_path = None, name = 'blank'):\n",
    "    coefs = level_coef_extractor_3d(array, lvl)\n",
    "    np.save(dir_path + \"/\"+ str(name) + \"_lvl_\"  + str(lvl), coefs, allow_pickle = True)\n",
    "    del coefs"
   ]
  },
  {
   "cell_type": "code",
   "execution_count": 12,
   "id": "0e5c5c82",
   "metadata": {},
   "outputs": [],
   "source": [
    "for i in range(6):\n",
    "    saver(coef, i, path_w, 'present_AV_wavelet_coef_5')\n"
   ]
  },
  {
   "cell_type": "markdown",
   "id": "5100e20b",
   "metadata": {},
   "source": [
    "## Shannon entropy\n",
    "\n",
    "The core idea of information theory is that the \"informational value\" of a communicated message depends on the degree to which the content of the message is surprising. \n",
    "\n",
    "If a highly likely event occurs, the message carries very little new information. On the other hand, if a highly unlikely event occurs, the message is much more informative. For instance, the knowledge that some particular number will not be the winning number of a lottery provides very little information, because any particular chosen number will almost certainly not win. \n",
    "\n",
    "However, knowledge that a particular number will win a lottery has high informational value because it communicates the outcome of a very low probability event.\n",
    "\n",
    "There is therefore an inverse relationship between information and the probability of occurrence\n",
    "\n",
    "Remember that Shannon Entropy works on sequences (or probability distribution built from sequences) therefore, you need to have an historic already built up of what your sequence of interest looks like."
   ]
  },
  {
   "cell_type": "code",
   "execution_count": 13,
   "id": "a98ce1f7",
   "metadata": {},
   "outputs": [],
   "source": [
    "import scipy.stats"
   ]
  },
  {
   "cell_type": "code",
   "execution_count": 14,
   "id": "3eb3ae92",
   "metadata": {},
   "outputs": [
    {
     "data": {
      "text/plain": [
       "[<matplotlib.lines.Line2D at 0x17fe09190>]"
      ]
     },
     "execution_count": 14,
     "metadata": {},
     "output_type": "execute_result"
    },
    {
     "data": {
      "image/png": "[encoded data removed]",
      "text/plain": [
       "<Figure size 432x288 with 1 Axes>"
      ]
     },
     "metadata": {
      "needs_background": "light"
     },
     "output_type": "display_data"
    }
   ],
   "source": [
    "plt.plot(coef[0][0])"
   ]
  },
  {
   "cell_type": "code",
   "execution_count": 15,
   "id": "b367b7ac",
   "metadata": {},
   "outputs": [],
   "source": [
    "def scale(data): #1264\n",
    "    maxx = data.max()\n",
    "    minn = data.min()\n",
    "    \n",
    "    diff = maxx - minn\n",
    "    scaled = np.empty((data.shape[0]))\n",
    "    \n",
    "    for i in range(data.shape[0]):\n",
    "        scaled[i] = (data[i] - minn )/ diff\n",
    "    return scaled"
   ]
  },
  {
   "cell_type": "code",
   "execution_count": 16,
   "id": "658a7621",
   "metadata": {},
   "outputs": [
    {
     "data": {
      "text/plain": [
       "1264"
      ]
     },
     "execution_count": 16,
     "metadata": {},
     "output_type": "execute_result"
    }
   ],
   "source": [
    "len(coef[0][0]) #1245,6,1264"
   ]
  },
  {
   "cell_type": "code",
   "execution_count": 17,
   "id": "68d963f9",
   "metadata": {},
   "outputs": [],
   "source": [
    "def scaled_wavelet(array, lvl = 6):\n",
    "    all_wavelets = []\n",
    "    \n",
    "    for i in range(lvl):\n",
    "        lenn = array[0][i].shape[0] #level uzunluğu alıyor\n",
    "        scaled_lvl = np.empty((array.shape[0], lenn)) # 1245, level uzunluğu kadar array oluşturuyor\n",
    "        \n",
    "        for j in range(array.shape[0]): #1245\n",
    "            scaled_lvl[j,:] = scale(coef[j][i])  \n",
    "            \n",
    "        all_wavelets.append(scaled_lvl)\n",
    "    return all_wavelets"
   ]
  },
  {
   "cell_type": "code",
   "execution_count": 21,
   "id": "428dd9ee",
   "metadata": {},
   "outputs": [],
   "source": [
    "coef = np.array(coef)\n",
    "wavelets = scaled_wavelet(coef)"
   ]
  },
  {
   "cell_type": "code",
   "execution_count": 22,
   "id": "ab122a96",
   "metadata": {},
   "outputs": [
    {
     "data": {
      "text/plain": [
       "1264"
      ]
     },
     "execution_count": 22,
     "metadata": {},
     "output_type": "execute_result"
    }
   ],
   "source": [
    "len(wavelets[0][0]) # 6, 1245, 1264"
   ]
  },
  {
   "cell_type": "code",
   "execution_count": 23,
   "id": "2d578c40",
   "metadata": {},
   "outputs": [
    {
     "data": {
      "text/plain": [
       "[<matplotlib.lines.Line2D at 0x17fee2d90>]"
      ]
     },
     "execution_count": 23,
     "metadata": {},
     "output_type": "execute_result"
    },
    {
     "data": {
      "image/png": "[encoded data removed]",
      "text/plain": [
       "<Figure size 432x288 with 1 Axes>"
      ]
     },
     "metadata": {
      "needs_background": "light"
     },
     "output_type": "display_data"
    }
   ],
   "source": [
    "plt.plot(wavelets[0][0])"
   ]
  },
  {
   "cell_type": "code",
   "execution_count": 24,
   "id": "a59da63b",
   "metadata": {},
   "outputs": [],
   "source": [
    "ent = np.empty((n, 6))\n",
    "for j in range(6):\n",
    "    for i in range(n):#1245\n",
    "        ent[i, j] = scipy.stats.entropy(wavelets[j][i])"
   ]
  },
  {
   "cell_type": "code",
   "execution_count": 25,
   "id": "6e0ae512",
   "metadata": {},
   "outputs": [
    {
     "data": {
      "text/plain": [
       "array([[7.13571894, 7.13730862, 7.8267345 , 8.51789281, 9.21079583,\n",
       "        9.90366435],\n",
       "       [7.12559469, 7.11546791, 7.80805801, 8.50599982, 9.19321954,\n",
       "        9.90369589],\n",
       "       [7.12720161, 7.12594926, 7.81153003, 8.50591757, 9.19290777,\n",
       "        9.90369999],\n",
       "       ...,\n",
       "       [7.1174097 , 7.13678081, 7.82406377, 8.51902   , 9.21067769,\n",
       "        9.90371802],\n",
       "       [7.12399855, 7.13879256, 7.82612859, 8.51832315, 9.21108699,\n",
       "        9.90376557],\n",
       "       [7.11600474, 7.136385  , 7.82821424, 8.51788942, 9.20871098,\n",
       "        9.90369876]])"
      ]
     },
     "execution_count": 25,
     "metadata": {},
     "output_type": "execute_result"
    }
   ],
   "source": [
    "ent"
   ]
  },
  {
   "cell_type": "code",
   "execution_count": 27,
   "id": "6f68353c",
   "metadata": {},
   "outputs": [
    {
     "data": {
      "text/html": [
       "<div>\n",
       "<style scoped>\n",
       "    .dataframe tbody tr th:only-of-type {\n",
       "        vertical-align: middle;\n",
       "    }\n",
       "\n",
       "    .dataframe tbody tr th {\n",
       "        vertical-align: top;\n",
       "    }\n",
       "\n",
       "    .dataframe thead th {\n",
       "        text-align: right;\n",
       "    }\n",
       "</style>\n",
       "<table border=\"1\" class=\"dataframe\">\n",
       "  <thead>\n",
       "    <tr style=\"text-align: right;\">\n",
       "      <th></th>\n",
       "      <th>approx</th>\n",
       "      <th>lvl5</th>\n",
       "      <th>lvl4</th>\n",
       "      <th>lvl3</th>\n",
       "      <th>lvl2</th>\n",
       "      <th>lvl1</th>\n",
       "    </tr>\n",
       "  </thead>\n",
       "  <tbody>\n",
       "    <tr>\n",
       "      <th>0</th>\n",
       "      <td>7.135719</td>\n",
       "      <td>7.137309</td>\n",
       "      <td>7.826735</td>\n",
       "      <td>8.517893</td>\n",
       "      <td>9.210796</td>\n",
       "      <td>9.903664</td>\n",
       "    </tr>\n",
       "    <tr>\n",
       "      <th>1</th>\n",
       "      <td>7.125595</td>\n",
       "      <td>7.115468</td>\n",
       "      <td>7.808058</td>\n",
       "      <td>8.506000</td>\n",
       "      <td>9.193220</td>\n",
       "      <td>9.903696</td>\n",
       "    </tr>\n",
       "    <tr>\n",
       "      <th>2</th>\n",
       "      <td>7.127202</td>\n",
       "      <td>7.125949</td>\n",
       "      <td>7.811530</td>\n",
       "      <td>8.505918</td>\n",
       "      <td>9.192908</td>\n",
       "      <td>9.903700</td>\n",
       "    </tr>\n",
       "    <tr>\n",
       "      <th>3</th>\n",
       "      <td>7.129163</td>\n",
       "      <td>7.115281</td>\n",
       "      <td>7.804092</td>\n",
       "      <td>8.504610</td>\n",
       "      <td>9.203150</td>\n",
       "      <td>9.903729</td>\n",
       "    </tr>\n",
       "    <tr>\n",
       "      <th>4</th>\n",
       "      <td>7.125127</td>\n",
       "      <td>7.125186</td>\n",
       "      <td>7.811900</td>\n",
       "      <td>8.511311</td>\n",
       "      <td>9.196325</td>\n",
       "      <td>9.903734</td>\n",
       "    </tr>\n",
       "    <tr>\n",
       "      <th>...</th>\n",
       "      <td>...</td>\n",
       "      <td>...</td>\n",
       "      <td>...</td>\n",
       "      <td>...</td>\n",
       "      <td>...</td>\n",
       "      <td>...</td>\n",
       "    </tr>\n",
       "    <tr>\n",
       "      <th>1240</th>\n",
       "      <td>7.125739</td>\n",
       "      <td>7.135261</td>\n",
       "      <td>7.827380</td>\n",
       "      <td>8.517673</td>\n",
       "      <td>9.209554</td>\n",
       "      <td>9.903719</td>\n",
       "    </tr>\n",
       "    <tr>\n",
       "      <th>1241</th>\n",
       "      <td>7.133097</td>\n",
       "      <td>7.135243</td>\n",
       "      <td>7.827691</td>\n",
       "      <td>8.517966</td>\n",
       "      <td>9.210270</td>\n",
       "      <td>9.903764</td>\n",
       "    </tr>\n",
       "    <tr>\n",
       "      <th>1242</th>\n",
       "      <td>7.117410</td>\n",
       "      <td>7.136781</td>\n",
       "      <td>7.824064</td>\n",
       "      <td>8.519020</td>\n",
       "      <td>9.210678</td>\n",
       "      <td>9.903718</td>\n",
       "    </tr>\n",
       "    <tr>\n",
       "      <th>1243</th>\n",
       "      <td>7.123999</td>\n",
       "      <td>7.138793</td>\n",
       "      <td>7.826129</td>\n",
       "      <td>8.518323</td>\n",
       "      <td>9.211087</td>\n",
       "      <td>9.903766</td>\n",
       "    </tr>\n",
       "    <tr>\n",
       "      <th>1244</th>\n",
       "      <td>7.116005</td>\n",
       "      <td>7.136385</td>\n",
       "      <td>7.828214</td>\n",
       "      <td>8.517889</td>\n",
       "      <td>9.208711</td>\n",
       "      <td>9.903699</td>\n",
       "    </tr>\n",
       "  </tbody>\n",
       "</table>\n",
       "<p>1245 rows × 6 columns</p>\n",
       "</div>"
      ],
      "text/plain": [
       "        approx      lvl5      lvl4      lvl3      lvl2      lvl1\n",
       "0     7.135719  7.137309  7.826735  8.517893  9.210796  9.903664\n",
       "1     7.125595  7.115468  7.808058  8.506000  9.193220  9.903696\n",
       "2     7.127202  7.125949  7.811530  8.505918  9.192908  9.903700\n",
       "3     7.129163  7.115281  7.804092  8.504610  9.203150  9.903729\n",
       "4     7.125127  7.125186  7.811900  8.511311  9.196325  9.903734\n",
       "...        ...       ...       ...       ...       ...       ...\n",
       "1240  7.125739  7.135261  7.827380  8.517673  9.209554  9.903719\n",
       "1241  7.133097  7.135243  7.827691  8.517966  9.210270  9.903764\n",
       "1242  7.117410  7.136781  7.824064  8.519020  9.210678  9.903718\n",
       "1243  7.123999  7.138793  7.826129  8.518323  9.211087  9.903766\n",
       "1244  7.116005  7.136385  7.828214  8.517889  9.208711  9.903699\n",
       "\n",
       "[1245 rows x 6 columns]"
      ]
     },
     "execution_count": 27,
     "metadata": {},
     "output_type": "execute_result"
    }
   ],
   "source": [
    "ent_df = pd.DataFrame(ent, columns = [\"approx\",\"lvl5\", \"lvl4\", \"lvl3\", \"lvl2\", \"lvl1\"])\n",
    "ent_df"
   ]
  },
  {
   "cell_type": "code",
   "execution_count": 28,
   "id": "ce41bdef",
   "metadata": {},
   "outputs": [],
   "source": [
    "ent_df.to_csv(\"/Users/ecem/Desktop/phonocardiogram/data/shannon_entropy.csv\")"
   ]
  }
 ],
 "metadata": {
  "kernelspec": {
   "display_name": "Python 3 (ipykernel)",
   "language": "python",
   "name": "python3"
  },
  "language_info": {
   "codemirror_mode": {
    "name": "ipython",
    "version": 3
   },
   "file_extension": ".py",
   "mimetype": "text/x-python",
   "name": "python",
   "nbconvert_exporter": "python",
   "pygments_lexer": "ipython3",
   "version": "3.9.7"
  }
 },
 "nbformat": 4,
 "nbformat_minor": 5
}
