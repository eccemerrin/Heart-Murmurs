{
 "cells": [
  {
   "cell_type": "markdown",
   "id": "22776b7f",
   "metadata": {},
   "source": [
    "### Source : http://practicalcryptography.com/miscellaneous/machine-learning/guide-mel-frequency-cepstral-coefficients-mfccs/"
   ]
  },
  {
   "cell_type": "code",
   "execution_count": 1,
   "id": "2e9acd3c",
   "metadata": {},
   "outputs": [],
   "source": [
    "import matplotlib.pyplot as plt\n",
    "import numpy as np\n",
    "import scipy.signal"
   ]
  },
  {
   "cell_type": "code",
   "execution_count": 2,
   "id": "5f9a7800",
   "metadata": {},
   "outputs": [],
   "source": [
    "path = \"/Users/ecem/Desktop/phonocardiogram/data/AV/present\""
   ]
  },
  {
   "cell_type": "code",
   "execution_count": 3,
   "id": "a473ad37",
   "metadata": {},
   "outputs": [],
   "source": [
    "waves = np.load(path + \"/present_AV_waves_10sec.npy\", allow_pickle= True)"
   ]
  },
  {
   "cell_type": "code",
   "execution_count": 4,
   "id": "e55a65f3",
   "metadata": {},
   "outputs": [],
   "source": [
    "n = waves.shape[0]"
   ]
  },
  {
   "cell_type": "code",
   "execution_count": 5,
   "id": "4fade6e1",
   "metadata": {},
   "outputs": [],
   "source": [
    "import librosa as lbs"
   ]
  },
  {
   "cell_type": "code",
   "execution_count": 6,
   "id": "89c64773",
   "metadata": {},
   "outputs": [
    {
     "data": {
      "text/plain": [
       "(13, 79)"
      ]
     },
     "execution_count": 6,
     "metadata": {},
     "output_type": "execute_result"
    }
   ],
   "source": [
    "lbs.feature.mfcc(y=waves[0], sr=4000, win_length = 100, n_mfcc=13).shape"
   ]
  },
  {
   "cell_type": "code",
   "execution_count": 7,
   "id": "c43d8523",
   "metadata": {},
   "outputs": [
    {
     "data": {
      "text/plain": [
       "-633.10925"
      ]
     },
     "execution_count": 7,
     "metadata": {},
     "output_type": "execute_result"
    }
   ],
   "source": [
    "lbs.feature.mfcc(y=waves[0], sr=4000, win_length = 100, n_mfcc=13)[0].mean()"
   ]
  },
  {
   "cell_type": "code",
   "execution_count": 8,
   "id": "4d774edf",
   "metadata": {},
   "outputs": [],
   "source": [
    "mfccs = lbs.feature.mfcc(y=waves[0], sr=4000, win_length = 100, n_mfcc=13)"
   ]
  },
  {
   "cell_type": "code",
   "execution_count": 9,
   "id": "37e8a5ef",
   "metadata": {},
   "outputs": [],
   "source": [
    "import librosa.display"
   ]
  },
  {
   "cell_type": "code",
   "execution_count": 10,
   "id": "031f7d04",
   "metadata": {},
   "outputs": [
    {
     "data": {
      "text/plain": [
       "[Text(0.5, 1.0, 'MFCC')]"
      ]
     },
     "execution_count": 10,
     "metadata": {},
     "output_type": "execute_result"
    },
    {
     "data": {
      "image/png": "[encoded data removed]",
      "text/plain": [
       "<Figure size 432x288 with 2 Axes>"
      ]
     },
     "metadata": {
      "needs_background": "light"
     },
     "output_type": "display_data"
    }
   ],
   "source": [
    ">>> import matplotlib.pyplot as plt\n",
    ">>> fig, ax = plt.subplots(nrows=1, sharex=True)\n",
    ">>> img = librosa.display.specshow(mfccs, x_axis='time', ax=ax)\n",
    ">>> fig.colorbar(img, ax=[ax])\n",
    ">>> ax.set(title='MFCC')"
   ]
  },
  {
   "cell_type": "code",
   "execution_count": 11,
   "id": "a9cf23b8",
   "metadata": {},
   "outputs": [],
   "source": [
    "mfccs = np.empty((n, 13))\n",
    "for i in range(waves.shape[0]):\n",
    "    mfcc = lbs.feature.mfcc(y=waves[i], sr=4000, win_length = 100, n_mfcc=13)\n",
    "    for j in range(13):\n",
    "        mfccs[i, j] = mfcc[j].mean()\n",
    "    "
   ]
  },
  {
   "cell_type": "code",
   "execution_count": 12,
   "id": "22bce509",
   "metadata": {},
   "outputs": [
    {
     "data": {
      "text/plain": [
       "(1245, 13)"
      ]
     },
     "execution_count": 12,
     "metadata": {},
     "output_type": "execute_result"
    }
   ],
   "source": [
    "mfccs.shape"
   ]
  },
  {
   "cell_type": "code",
   "execution_count": 13,
   "id": "ae8c91d3",
   "metadata": {},
   "outputs": [],
   "source": [
    "import pandas as pd"
   ]
  },
  {
   "cell_type": "code",
   "execution_count": 14,
   "id": "a8d81f75",
   "metadata": {},
   "outputs": [],
   "source": [
    "columns = []\n",
    "for i in range(13):\n",
    "    columns.append(\"{}'th mfcc\".format(i))"
   ]
  },
  {
   "cell_type": "code",
   "execution_count": 15,
   "id": "ec9136db",
   "metadata": {},
   "outputs": [],
   "source": [
    "mfccs_df = pd.DataFrame(mfccs, columns = columns)"
   ]
  },
  {
   "cell_type": "code",
   "execution_count": 16,
   "id": "70348867",
   "metadata": {},
   "outputs": [
    {
     "data": {
      "text/html": [
       "<div>\n",
       "<style scoped>\n",
       "    .dataframe tbody tr th:only-of-type {\n",
       "        vertical-align: middle;\n",
       "    }\n",
       "\n",
       "    .dataframe tbody tr th {\n",
       "        vertical-align: top;\n",
       "    }\n",
       "\n",
       "    .dataframe thead th {\n",
       "        text-align: right;\n",
       "    }\n",
       "</style>\n",
       "<table border=\"1\" class=\"dataframe\">\n",
       "  <thead>\n",
       "    <tr style=\"text-align: right;\">\n",
       "      <th></th>\n",
       "      <th>0'th mfcc</th>\n",
       "      <th>1'th mfcc</th>\n",
       "      <th>2'th mfcc</th>\n",
       "      <th>3'th mfcc</th>\n",
       "      <th>4'th mfcc</th>\n",
       "      <th>5'th mfcc</th>\n",
       "      <th>6'th mfcc</th>\n",
       "      <th>7'th mfcc</th>\n",
       "      <th>8'th mfcc</th>\n",
       "      <th>9'th mfcc</th>\n",
       "      <th>10'th mfcc</th>\n",
       "      <th>11'th mfcc</th>\n",
       "      <th>12'th mfcc</th>\n",
       "    </tr>\n",
       "  </thead>\n",
       "  <tbody>\n",
       "    <tr>\n",
       "      <th>0</th>\n",
       "      <td>-633.109253</td>\n",
       "      <td>132.700790</td>\n",
       "      <td>107.842934</td>\n",
       "      <td>74.306953</td>\n",
       "      <td>39.785713</td>\n",
       "      <td>11.594851</td>\n",
       "      <td>-5.850253</td>\n",
       "      <td>-11.787212</td>\n",
       "      <td>-8.720296</td>\n",
       "      <td>-1.054230</td>\n",
       "      <td>6.603188</td>\n",
       "      <td>10.925388</td>\n",
       "      <td>10.672085</td>\n",
       "    </tr>\n",
       "    <tr>\n",
       "      <th>1</th>\n",
       "      <td>-701.071594</td>\n",
       "      <td>155.947449</td>\n",
       "      <td>125.058556</td>\n",
       "      <td>83.826912</td>\n",
       "      <td>42.478271</td>\n",
       "      <td>10.240438</td>\n",
       "      <td>-7.892224</td>\n",
       "      <td>-12.005322</td>\n",
       "      <td>-6.336492</td>\n",
       "      <td>2.968461</td>\n",
       "      <td>10.324830</td>\n",
       "      <td>12.509784</td>\n",
       "      <td>9.245497</td>\n",
       "    </tr>\n",
       "    <tr>\n",
       "      <th>2</th>\n",
       "      <td>-741.243896</td>\n",
       "      <td>144.392624</td>\n",
       "      <td>117.971466</td>\n",
       "      <td>81.752098</td>\n",
       "      <td>44.652954</td>\n",
       "      <td>14.680330</td>\n",
       "      <td>-3.411008</td>\n",
       "      <td>-9.114907</td>\n",
       "      <td>-5.614161</td>\n",
       "      <td>1.940580</td>\n",
       "      <td>8.533819</td>\n",
       "      <td>10.958953</td>\n",
       "      <td>8.535465</td>\n",
       "    </tr>\n",
       "    <tr>\n",
       "      <th>3</th>\n",
       "      <td>-732.736938</td>\n",
       "      <td>151.063507</td>\n",
       "      <td>122.540520</td>\n",
       "      <td>84.347046</td>\n",
       "      <td>45.718349</td>\n",
       "      <td>15.088373</td>\n",
       "      <td>-2.875393</td>\n",
       "      <td>-8.049913</td>\n",
       "      <td>-4.078320</td>\n",
       "      <td>3.585862</td>\n",
       "      <td>9.855361</td>\n",
       "      <td>11.641628</td>\n",
       "      <td>8.457591</td>\n",
       "    </tr>\n",
       "    <tr>\n",
       "      <th>4</th>\n",
       "      <td>-735.887756</td>\n",
       "      <td>159.142487</td>\n",
       "      <td>127.244217</td>\n",
       "      <td>85.238556</td>\n",
       "      <td>43.997086</td>\n",
       "      <td>12.814139</td>\n",
       "      <td>-3.882348</td>\n",
       "      <td>-7.016807</td>\n",
       "      <td>-1.437791</td>\n",
       "      <td>6.647314</td>\n",
       "      <td>12.122697</td>\n",
       "      <td>12.467425</td>\n",
       "      <td>7.965951</td>\n",
       "    </tr>\n",
       "    <tr>\n",
       "      <th>...</th>\n",
       "      <td>...</td>\n",
       "      <td>...</td>\n",
       "      <td>...</td>\n",
       "      <td>...</td>\n",
       "      <td>...</td>\n",
       "      <td>...</td>\n",
       "      <td>...</td>\n",
       "      <td>...</td>\n",
       "      <td>...</td>\n",
       "      <td>...</td>\n",
       "      <td>...</td>\n",
       "      <td>...</td>\n",
       "      <td>...</td>\n",
       "    </tr>\n",
       "    <tr>\n",
       "      <th>1240</th>\n",
       "      <td>-588.792297</td>\n",
       "      <td>113.684715</td>\n",
       "      <td>93.878868</td>\n",
       "      <td>67.051743</td>\n",
       "      <td>38.859001</td>\n",
       "      <td>15.127267</td>\n",
       "      <td>-0.260531</td>\n",
       "      <td>-6.127991</td>\n",
       "      <td>-3.993232</td>\n",
       "      <td>2.810654</td>\n",
       "      <td>10.430388</td>\n",
       "      <td>15.764427</td>\n",
       "      <td>17.263075</td>\n",
       "    </tr>\n",
       "    <tr>\n",
       "      <th>1241</th>\n",
       "      <td>-605.685547</td>\n",
       "      <td>121.834923</td>\n",
       "      <td>100.678566</td>\n",
       "      <td>72.031822</td>\n",
       "      <td>42.340965</td>\n",
       "      <td>17.545874</td>\n",
       "      <td>1.642311</td>\n",
       "      <td>-4.437300</td>\n",
       "      <td>-2.462748</td>\n",
       "      <td>4.086339</td>\n",
       "      <td>11.290581</td>\n",
       "      <td>16.108189</td>\n",
       "      <td>17.092247</td>\n",
       "    </tr>\n",
       "    <tr>\n",
       "      <th>1242</th>\n",
       "      <td>-597.122437</td>\n",
       "      <td>118.523613</td>\n",
       "      <td>98.212830</td>\n",
       "      <td>70.891685</td>\n",
       "      <td>42.662952</td>\n",
       "      <td>18.916773</td>\n",
       "      <td>3.500680</td>\n",
       "      <td>-2.521864</td>\n",
       "      <td>-0.913229</td>\n",
       "      <td>4.965795</td>\n",
       "      <td>11.423759</td>\n",
       "      <td>15.550457</td>\n",
       "      <td>16.047947</td>\n",
       "    </tr>\n",
       "    <tr>\n",
       "      <th>1243</th>\n",
       "      <td>-576.533752</td>\n",
       "      <td>113.801575</td>\n",
       "      <td>94.040977</td>\n",
       "      <td>67.431458</td>\n",
       "      <td>39.770035</td>\n",
       "      <td>16.870235</td>\n",
       "      <td>2.424724</td>\n",
       "      <td>-2.699684</td>\n",
       "      <td>-0.320392</td>\n",
       "      <td>6.073212</td>\n",
       "      <td>12.686643</td>\n",
       "      <td>16.670540</td>\n",
       "      <td>16.820971</td>\n",
       "    </tr>\n",
       "    <tr>\n",
       "      <th>1244</th>\n",
       "      <td>-528.520996</td>\n",
       "      <td>107.194771</td>\n",
       "      <td>89.459259</td>\n",
       "      <td>65.518517</td>\n",
       "      <td>40.553410</td>\n",
       "      <td>19.722246</td>\n",
       "      <td>6.260118</td>\n",
       "      <td>0.926360</td>\n",
       "      <td>2.179145</td>\n",
       "      <td>7.060628</td>\n",
       "      <td>12.336532</td>\n",
       "      <td>15.530533</td>\n",
       "      <td>15.526834</td>\n",
       "    </tr>\n",
       "  </tbody>\n",
       "</table>\n",
       "<p>1245 rows × 13 columns</p>\n",
       "</div>"
      ],
      "text/plain": [
       "       0'th mfcc   1'th mfcc   2'th mfcc  3'th mfcc  4'th mfcc  5'th mfcc  \\\n",
       "0    -633.109253  132.700790  107.842934  74.306953  39.785713  11.594851   \n",
       "1    -701.071594  155.947449  125.058556  83.826912  42.478271  10.240438   \n",
       "2    -741.243896  144.392624  117.971466  81.752098  44.652954  14.680330   \n",
       "3    -732.736938  151.063507  122.540520  84.347046  45.718349  15.088373   \n",
       "4    -735.887756  159.142487  127.244217  85.238556  43.997086  12.814139   \n",
       "...          ...         ...         ...        ...        ...        ...   \n",
       "1240 -588.792297  113.684715   93.878868  67.051743  38.859001  15.127267   \n",
       "1241 -605.685547  121.834923  100.678566  72.031822  42.340965  17.545874   \n",
       "1242 -597.122437  118.523613   98.212830  70.891685  42.662952  18.916773   \n",
       "1243 -576.533752  113.801575   94.040977  67.431458  39.770035  16.870235   \n",
       "1244 -528.520996  107.194771   89.459259  65.518517  40.553410  19.722246   \n",
       "\n",
       "      6'th mfcc  7'th mfcc  8'th mfcc  9'th mfcc  10'th mfcc  11'th mfcc  \\\n",
       "0     -5.850253 -11.787212  -8.720296  -1.054230    6.603188   10.925388   \n",
       "1     -7.892224 -12.005322  -6.336492   2.968461   10.324830   12.509784   \n",
       "2     -3.411008  -9.114907  -5.614161   1.940580    8.533819   10.958953   \n",
       "3     -2.875393  -8.049913  -4.078320   3.585862    9.855361   11.641628   \n",
       "4     -3.882348  -7.016807  -1.437791   6.647314   12.122697   12.467425   \n",
       "...         ...        ...        ...        ...         ...         ...   \n",
       "1240  -0.260531  -6.127991  -3.993232   2.810654   10.430388   15.764427   \n",
       "1241   1.642311  -4.437300  -2.462748   4.086339   11.290581   16.108189   \n",
       "1242   3.500680  -2.521864  -0.913229   4.965795   11.423759   15.550457   \n",
       "1243   2.424724  -2.699684  -0.320392   6.073212   12.686643   16.670540   \n",
       "1244   6.260118   0.926360   2.179145   7.060628   12.336532   15.530533   \n",
       "\n",
       "      12'th mfcc  \n",
       "0      10.672085  \n",
       "1       9.245497  \n",
       "2       8.535465  \n",
       "3       8.457591  \n",
       "4       7.965951  \n",
       "...          ...  \n",
       "1240   17.263075  \n",
       "1241   17.092247  \n",
       "1242   16.047947  \n",
       "1243   16.820971  \n",
       "1244   15.526834  \n",
       "\n",
       "[1245 rows x 13 columns]"
      ]
     },
     "execution_count": 16,
     "metadata": {},
     "output_type": "execute_result"
    }
   ],
   "source": [
    "mfccs_df"
   ]
  },
  {
   "cell_type": "code",
   "execution_count": 18,
   "id": "3da5013c",
   "metadata": {},
   "outputs": [],
   "source": [
    "mfccs_df.to_csv(\"/Users/ecem/Desktop/phonocardiogram/data/AV/present/AV-mfcc.csv\")"
   ]
  },
  {
   "cell_type": "code",
   "execution_count": null,
   "id": "9dee5f7f",
   "metadata": {},
   "outputs": [],
   "source": []
  }
 ],
 "metadata": {
  "kernelspec": {
   "display_name": "Python 3 (ipykernel)",
   "language": "python",
   "name": "python3"
  },
  "language_info": {
   "codemirror_mode": {
    "name": "ipython",
    "version": 3
   },
   "file_extension": ".py",
   "mimetype": "text/x-python",
   "name": "python",
   "nbconvert_exporter": "python",
   "pygments_lexer": "ipython3",
   "version": "3.9.9"
  }
 },
 "nbformat": 4,
 "nbformat_minor": 5
}
