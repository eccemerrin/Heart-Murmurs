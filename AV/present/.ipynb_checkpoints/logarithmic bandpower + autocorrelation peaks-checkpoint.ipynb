{
 "cells": [
  {
   "cell_type": "markdown",
   "id": "22c63b0d",
   "metadata": {},
   "source": [
    "## Computing the power spectral density\n",
    "\n",
    "In order to compute the average bandpower in the delta band, we first need to compute an estimate of the power spectral density. The most widely-used method to do that is the Welch's periodogram, which consists in averaging consecutive Fourier transform of small windows of the signal, with or without overlapping. \n",
    "\n",
    "A classic periodogram requires the spectral content of the signal to be stationnary (i.e. time-unvarying) over the time period considered. Because it is never the case, the periodogram is generally biased and contains way too much variance (see the end of this tutorial). By averaging the periodograms obtained over short segments of the windows, the Welch's method allows to drastically reduce this variance. This comes at the cost, however, of a lower frequency resolution.\n",
    "\n",
    "\n",
    "$$ F_{res} = \\frac{F_s}{N} = \\frac{F_s}{F_st} = \\frac{1}{t} $$\n",
    "\n",
    "How do we define the optimal window duration then? \n",
    "\n",
    "A commonly used approach is to take a window sufficiently long to encompasses at least two full cycles of the lowest frequency of interest."
   ]
  },
  {
   "cell_type": "code",
   "execution_count": 1,
   "id": "2e9acd3c",
   "metadata": {},
   "outputs": [],
   "source": [
    "import matplotlib.pyplot as plt\n",
    "import seaborn as sns\n",
    "import numpy as np\n",
    "sns.set(font_scale=1.2)\n",
    "import scipy.signal"
   ]
  },
  {
   "cell_type": "code",
   "execution_count": 2,
   "id": "5f9a7800",
   "metadata": {},
   "outputs": [],
   "source": [
    "path = \"/Users/ecem/Desktop/phonocardiogram/data/AV/present\""
   ]
  },
  {
   "cell_type": "code",
   "execution_count": 3,
   "id": "a473ad37",
   "metadata": {},
   "outputs": [],
   "source": [
    "waves = np.load(path + \"/present_AV_waves_10sec.npy\", allow_pickle= True)"
   ]
  },
  {
   "cell_type": "code",
   "execution_count": 4,
   "id": "e55a65f3",
   "metadata": {},
   "outputs": [],
   "source": [
    "n = waves.shape[0]"
   ]
  },
  {
   "cell_type": "code",
   "execution_count": 5,
   "id": "4e29b820",
   "metadata": {},
   "outputs": [
    {
     "data": {
      "text/plain": [
       "(129,)"
      ]
     },
     "execution_count": 5,
     "metadata": {},
     "output_type": "execute_result"
    }
   ],
   "source": [
    "f, Pxx = scipy.signal.welch(waves[1], fs=4000)\n",
    "f.shape"
   ]
  },
  {
   "cell_type": "markdown",
   "id": "498af6bf",
   "metadata": {},
   "source": [
    " Summation or integration of the spectral components yields the total power (for a physical process) or variance (in a statistical process), identical to what would be obtained by integrating\n",
    "$${\\displaystyle x^{2}(t)}$$ over the time domain"
   ]
  },
  {
   "cell_type": "code",
   "execution_count": 6,
   "id": "63b5497b",
   "metadata": {},
   "outputs": [
    {
     "data": {
      "text/plain": [
       "array([   1,    1,    1,    2,    2,    3,    4,    6,    8,   10,   13,\n",
       "         17,   23,   30,   39,   50,   66,   85,  111,  145,  188,  245,\n",
       "        318,  414,  538,  699,  909, 1181, 1535, 1995])"
      ]
     },
     "execution_count": 6,
     "metadata": {},
     "output_type": "execute_result"
    }
   ],
   "source": [
    "np.logspace(start = 0, stop = 3.3, num =30, dtype = int)"
   ]
  },
  {
   "cell_type": "code",
   "execution_count": 7,
   "id": "88d09fbf",
   "metadata": {},
   "outputs": [],
   "source": [
    "def bandpower_logsteps(x, fs, num_of_chunk = 20):\n",
    "    \n",
    "    f, Pxx = scipy.signal.welch(x, fs=fs)\n",
    "    \n",
    "    steps = np.logspace(start = 0, stop = 3.3, num = num_of_chunk)\n",
    "    \n",
    "    bandpowers = np.zeros((num_of_chunk-1))\n",
    "    \n",
    "    for i in range(num_of_chunk - 1):\n",
    "        fmin = float(steps[i])\n",
    "        fmax = float(steps[i+1])\n",
    "        \n",
    "        ind_min = np.argmax(f > fmin) - 1\n",
    "        ind_max = np.argmax(f > fmax) - 1\n",
    "        bandpowers[i] =  np.trapz(Pxx[ind_min:ind_max], f[ind_min:ind_max])\n",
    "    return bandpowers"
   ]
  },
  {
   "cell_type": "code",
   "execution_count": 8,
   "id": "9f5ea802",
   "metadata": {},
   "outputs": [
    {
     "data": {
      "text/plain": [
       "array([0.00000000e+00, 0.00000000e+00, 0.00000000e+00, 0.00000000e+00,\n",
       "       0.00000000e+00, 0.00000000e+00, 0.00000000e+00, 0.00000000e+00,\n",
       "       0.00000000e+00, 0.00000000e+00, 0.00000000e+00, 0.00000000e+00,\n",
       "       0.00000000e+00, 0.00000000e+00, 0.00000000e+00, 0.00000000e+00,\n",
       "       0.00000000e+00, 1.33938274e-05, 6.79548240e-06, 3.04049985e-06,\n",
       "       3.35813211e-07, 7.57436003e-07, 4.49679872e-08, 6.75340381e-13,\n",
       "       1.06829116e-13, 2.77260968e-14, 6.19234903e-15, 1.47498057e-15,\n",
       "       1.80252821e-16])"
      ]
     },
     "execution_count": 8,
     "metadata": {},
     "output_type": "execute_result"
    }
   ],
   "source": [
    "bandpower_logsteps(waves[20], 4000, 30)"
   ]
  },
  {
   "cell_type": "code",
   "execution_count": 9,
   "id": "685bb2c6",
   "metadata": {},
   "outputs": [],
   "source": [
    "bp = np.empty((n, 29))\n",
    "for i in range(n):\n",
    "    bp[i,:] = bandpower_logsteps(waves[i], 4000, 30)"
   ]
  },
  {
   "cell_type": "code",
   "execution_count": 10,
   "id": "48d4974d",
   "metadata": {},
   "outputs": [
    {
     "data": {
      "text/plain": [
       "array([0.00000000e+00, 0.00000000e+00, 0.00000000e+00, 0.00000000e+00,\n",
       "       0.00000000e+00, 0.00000000e+00, 0.00000000e+00, 0.00000000e+00,\n",
       "       0.00000000e+00, 0.00000000e+00, 0.00000000e+00, 0.00000000e+00,\n",
       "       0.00000000e+00, 0.00000000e+00, 0.00000000e+00, 0.00000000e+00,\n",
       "       0.00000000e+00, 1.33938274e-05, 6.79548240e-06, 3.04049985e-06,\n",
       "       3.35813211e-07, 7.57436003e-07, 4.49679872e-08, 6.75340381e-13,\n",
       "       1.06829116e-13, 2.77260968e-14, 6.19234903e-15, 1.47498057e-15,\n",
       "       1.80252821e-16])"
      ]
     },
     "execution_count": 10,
     "metadata": {},
     "output_type": "execute_result"
    }
   ],
   "source": [
    "#sanity check\n",
    "bp[20]"
   ]
  },
  {
   "cell_type": "markdown",
   "id": "e2a399ed",
   "metadata": {},
   "source": [
    "## Autocorrelation"
   ]
  },
  {
   "cell_type": "code",
   "execution_count": 11,
   "id": "9e7cdfe9",
   "metadata": {},
   "outputs": [],
   "source": [
    "from scipy import signal\n",
    "from scipy.signal import find_peaks"
   ]
  },
  {
   "cell_type": "code",
   "execution_count": 12,
   "id": "4086b64d",
   "metadata": {},
   "outputs": [],
   "source": [
    "autocorr = signal.fftconvolve(waves[0], waves[0], mode='same')\n",
    "autocorr_norm = autocorr / np.linalg.norm(autocorr )"
   ]
  },
  {
   "cell_type": "code",
   "execution_count": 13,
   "id": "2cefb157",
   "metadata": {},
   "outputs": [
    {
     "data": {
      "text/plain": [
       "(40000,)"
      ]
     },
     "execution_count": 13,
     "metadata": {},
     "output_type": "execute_result"
    }
   ],
   "source": [
    "autocorr.shape"
   ]
  },
  {
   "cell_type": "code",
   "execution_count": 14,
   "id": "328921c1",
   "metadata": {},
   "outputs": [
    {
     "data": {
      "text/plain": [
       "40000"
      ]
     },
     "execution_count": 14,
     "metadata": {},
     "output_type": "execute_result"
    }
   ],
   "source": [
    "len(waves[0])"
   ]
  },
  {
   "cell_type": "code",
   "execution_count": 15,
   "id": "f4485c3d",
   "metadata": {},
   "outputs": [
    {
     "name": "stderr",
     "output_type": "stream",
     "text": [
      "/var/folders/gd/3d6ckpdn4q30skhxnvs_p7b80000gn/T/ipykernel_8236/2127519553.py:10: UserWarning: Matplotlib is currently using module://matplotlib_inline.backend_inline, which is a non-GUI backend, so cannot show the figure.\n",
      "  fig.show()\n"
     ]
    },
    {
     "data": {
      "image/png": "[encoded data removed]",
      "text/plain": [
       "<Figure size 432x288 with 3 Axes>"
      ]
     },
     "metadata": {},
     "output_type": "display_data"
    }
   ],
   "source": [
    "import matplotlib.pyplot as plt\n",
    ">>> fig, (ax_orig, ax_mag, ax_norm) = plt.subplots(3, 1)\n",
    ">>> ax_orig.plot(waves[0])\n",
    ">>> ax_orig.set_title('Signal')\n",
    ">>> ax_mag.plot(np.arange(0,len(waves[0])), autocorr)\n",
    ">>> ax_mag.set_title('Autocorrelation')\n",
    ">>> ax_norm.plot(np.arange(0,len(waves[0])), autocorr_norm)\n",
    ">>> ax_norm.set_title('Normalized Autocorrelation')\n",
    ">>> fig.tight_layout()\n",
    ">>> fig.show()"
   ]
  },
  {
   "cell_type": "code",
   "execution_count": 16,
   "id": "d5c82083",
   "metadata": {},
   "outputs": [],
   "source": [
    "peaks = find_peaks(autocorr_norm, height = 0.02)"
   ]
  },
  {
   "cell_type": "code",
   "execution_count": 17,
   "id": "c0879d1e",
   "metadata": {},
   "outputs": [
    {
     "data": {
      "text/plain": [
       "0.03298024833202362"
      ]
     },
     "execution_count": 17,
     "metadata": {},
     "output_type": "execute_result"
    }
   ],
   "source": [
    "peaks[1][\"peak_heights\"].max()"
   ]
  },
  {
   "cell_type": "code",
   "execution_count": 18,
   "id": "72ee4fc0",
   "metadata": {},
   "outputs": [
    {
     "data": {
      "image/png": "[encoded data removed]",
      "text/plain": [
       "<Figure size 432x288 with 1 Axes>"
      ]
     },
     "metadata": {},
     "output_type": "display_data"
    }
   ],
   "source": [
    ">>> plt.plot( autocorr_norm)\n",
    ">>> plt.plot(peaks[0], autocorr_norm[peaks[0]], \"x\")\n",
    ">>> plt.plot(np.zeros_like(autocorr_norm), \"--\", color=\"gray\")\n",
    ">>> plt.show()"
   ]
  },
  {
   "cell_type": "code",
   "execution_count": 19,
   "id": "522faa9d",
   "metadata": {
    "scrolled": true
   },
   "outputs": [],
   "source": [
    "maxx = np.empty((n))\n",
    "minn = np.empty((n))\n",
    "for i in range(waves.shape[0]):\n",
    "    auto_corr = signal.fftconvolve(waves[i], waves[i], mode='same')\n",
    "    norm = auto_corr / np.linalg.norm(auto_corr)\n",
    "    maxx[i] = find_peaks(norm, height = 0.01)[1][\"peak_heights\"].max()\n",
    "    minn[i] = find_peaks(norm, height = 0.01)[1][\"peak_heights\"].min()"
   ]
  },
  {
   "cell_type": "markdown",
   "id": "215cd1a1",
   "metadata": {},
   "source": [
    "## create dataframe"
   ]
  },
  {
   "cell_type": "code",
   "execution_count": 20,
   "id": "68b3e79b",
   "metadata": {},
   "outputs": [],
   "source": [
    "import pandas as pd"
   ]
  },
  {
   "cell_type": "code",
   "execution_count": 21,
   "id": "ed2e3226",
   "metadata": {},
   "outputs": [
    {
     "data": {
      "text/html": [
       "<div>\n",
       "<style scoped>\n",
       "    .dataframe tbody tr th:only-of-type {\n",
       "        vertical-align: middle;\n",
       "    }\n",
       "\n",
       "    .dataframe tbody tr th {\n",
       "        vertical-align: top;\n",
       "    }\n",
       "\n",
       "    .dataframe thead th {\n",
       "        text-align: right;\n",
       "    }\n",
       "</style>\n",
       "<table border=\"1\" class=\"dataframe\">\n",
       "  <thead>\n",
       "    <tr style=\"text-align: right;\">\n",
       "      <th></th>\n",
       "      <th>peak max</th>\n",
       "    </tr>\n",
       "  </thead>\n",
       "  <tbody>\n",
       "    <tr>\n",
       "      <th>0</th>\n",
       "      <td>0.032980</td>\n",
       "    </tr>\n",
       "    <tr>\n",
       "      <th>1</th>\n",
       "      <td>0.023604</td>\n",
       "    </tr>\n",
       "    <tr>\n",
       "      <th>2</th>\n",
       "      <td>0.023554</td>\n",
       "    </tr>\n",
       "    <tr>\n",
       "      <th>3</th>\n",
       "      <td>0.020444</td>\n",
       "    </tr>\n",
       "    <tr>\n",
       "      <th>4</th>\n",
       "      <td>0.027402</td>\n",
       "    </tr>\n",
       "  </tbody>\n",
       "</table>\n",
       "</div>"
      ],
      "text/plain": [
       "   peak max\n",
       "0  0.032980\n",
       "1  0.023604\n",
       "2  0.023554\n",
       "3  0.020444\n",
       "4  0.027402"
      ]
     },
     "execution_count": 21,
     "metadata": {},
     "output_type": "execute_result"
    }
   ],
   "source": [
    "max_df = pd.DataFrame(maxx, columns =[\"peak max\"])\n",
    "max_df.head()"
   ]
  },
  {
   "cell_type": "code",
   "execution_count": 22,
   "id": "36cacdcf",
   "metadata": {},
   "outputs": [
    {
     "data": {
      "text/html": [
       "<div>\n",
       "<style scoped>\n",
       "    .dataframe tbody tr th:only-of-type {\n",
       "        vertical-align: middle;\n",
       "    }\n",
       "\n",
       "    .dataframe tbody tr th {\n",
       "        vertical-align: top;\n",
       "    }\n",
       "\n",
       "    .dataframe thead th {\n",
       "        text-align: right;\n",
       "    }\n",
       "</style>\n",
       "<table border=\"1\" class=\"dataframe\">\n",
       "  <thead>\n",
       "    <tr style=\"text-align: right;\">\n",
       "      <th></th>\n",
       "      <th>peak min</th>\n",
       "    </tr>\n",
       "  </thead>\n",
       "  <tbody>\n",
       "    <tr>\n",
       "      <th>0</th>\n",
       "      <td>0.010268</td>\n",
       "    </tr>\n",
       "    <tr>\n",
       "      <th>1</th>\n",
       "      <td>0.010027</td>\n",
       "    </tr>\n",
       "    <tr>\n",
       "      <th>2</th>\n",
       "      <td>0.010067</td>\n",
       "    </tr>\n",
       "    <tr>\n",
       "      <th>3</th>\n",
       "      <td>0.010010</td>\n",
       "    </tr>\n",
       "    <tr>\n",
       "      <th>4</th>\n",
       "      <td>0.010116</td>\n",
       "    </tr>\n",
       "  </tbody>\n",
       "</table>\n",
       "</div>"
      ],
      "text/plain": [
       "   peak min\n",
       "0  0.010268\n",
       "1  0.010027\n",
       "2  0.010067\n",
       "3  0.010010\n",
       "4  0.010116"
      ]
     },
     "execution_count": 22,
     "metadata": {},
     "output_type": "execute_result"
    }
   ],
   "source": [
    "min_df = pd.DataFrame(minn, columns =[\"peak min\"])\n",
    "min_df.head()"
   ]
  },
  {
   "cell_type": "code",
   "execution_count": 23,
   "id": "d42becc9",
   "metadata": {},
   "outputs": [],
   "source": [
    "columns = []\n",
    "for i in range(29):\n",
    "    columns.append(\"{}'th bandpower\".format(i))"
   ]
  },
  {
   "cell_type": "code",
   "execution_count": 24,
   "id": "d5d3a828",
   "metadata": {},
   "outputs": [
    {
     "data": {
      "text/html": [
       "<div>\n",
       "<style scoped>\n",
       "    .dataframe tbody tr th:only-of-type {\n",
       "        vertical-align: middle;\n",
       "    }\n",
       "\n",
       "    .dataframe tbody tr th {\n",
       "        vertical-align: top;\n",
       "    }\n",
       "\n",
       "    .dataframe thead th {\n",
       "        text-align: right;\n",
       "    }\n",
       "</style>\n",
       "<table border=\"1\" class=\"dataframe\">\n",
       "  <thead>\n",
       "    <tr style=\"text-align: right;\">\n",
       "      <th></th>\n",
       "      <th>0'th bandpower</th>\n",
       "      <th>1'th bandpower</th>\n",
       "      <th>2'th bandpower</th>\n",
       "      <th>3'th bandpower</th>\n",
       "      <th>4'th bandpower</th>\n",
       "      <th>5'th bandpower</th>\n",
       "      <th>6'th bandpower</th>\n",
       "      <th>7'th bandpower</th>\n",
       "      <th>8'th bandpower</th>\n",
       "      <th>9'th bandpower</th>\n",
       "      <th>...</th>\n",
       "      <th>19'th bandpower</th>\n",
       "      <th>20'th bandpower</th>\n",
       "      <th>21'th bandpower</th>\n",
       "      <th>22'th bandpower</th>\n",
       "      <th>23'th bandpower</th>\n",
       "      <th>24'th bandpower</th>\n",
       "      <th>25'th bandpower</th>\n",
       "      <th>26'th bandpower</th>\n",
       "      <th>27'th bandpower</th>\n",
       "      <th>28'th bandpower</th>\n",
       "    </tr>\n",
       "  </thead>\n",
       "  <tbody>\n",
       "    <tr>\n",
       "      <th>0</th>\n",
       "      <td>0.0</td>\n",
       "      <td>0.0</td>\n",
       "      <td>0.0</td>\n",
       "      <td>0.0</td>\n",
       "      <td>0.0</td>\n",
       "      <td>0.0</td>\n",
       "      <td>0.0</td>\n",
       "      <td>0.0</td>\n",
       "      <td>0.0</td>\n",
       "      <td>0.0</td>\n",
       "      <td>...</td>\n",
       "      <td>0.000261</td>\n",
       "      <td>9.663655e-05</td>\n",
       "      <td>3.411161e-05</td>\n",
       "      <td>7.327356e-07</td>\n",
       "      <td>6.109667e-12</td>\n",
       "      <td>6.990118e-13</td>\n",
       "      <td>1.567410e-13</td>\n",
       "      <td>3.271238e-14</td>\n",
       "      <td>7.560295e-15</td>\n",
       "      <td>9.672206e-16</td>\n",
       "    </tr>\n",
       "    <tr>\n",
       "      <th>1</th>\n",
       "      <td>0.0</td>\n",
       "      <td>0.0</td>\n",
       "      <td>0.0</td>\n",
       "      <td>0.0</td>\n",
       "      <td>0.0</td>\n",
       "      <td>0.0</td>\n",
       "      <td>0.0</td>\n",
       "      <td>0.0</td>\n",
       "      <td>0.0</td>\n",
       "      <td>0.0</td>\n",
       "      <td>...</td>\n",
       "      <td>0.000012</td>\n",
       "      <td>1.519768e-06</td>\n",
       "      <td>2.062811e-06</td>\n",
       "      <td>1.606117e-07</td>\n",
       "      <td>1.665456e-12</td>\n",
       "      <td>2.279566e-13</td>\n",
       "      <td>5.451163e-14</td>\n",
       "      <td>1.162113e-14</td>\n",
       "      <td>2.702502e-15</td>\n",
       "      <td>3.390508e-16</td>\n",
       "    </tr>\n",
       "    <tr>\n",
       "      <th>2</th>\n",
       "      <td>0.0</td>\n",
       "      <td>0.0</td>\n",
       "      <td>0.0</td>\n",
       "      <td>0.0</td>\n",
       "      <td>0.0</td>\n",
       "      <td>0.0</td>\n",
       "      <td>0.0</td>\n",
       "      <td>0.0</td>\n",
       "      <td>0.0</td>\n",
       "      <td>0.0</td>\n",
       "      <td>...</td>\n",
       "      <td>0.000003</td>\n",
       "      <td>1.994108e-07</td>\n",
       "      <td>3.527831e-07</td>\n",
       "      <td>2.466588e-08</td>\n",
       "      <td>5.443871e-13</td>\n",
       "      <td>9.449346e-14</td>\n",
       "      <td>2.406857e-14</td>\n",
       "      <td>5.290868e-15</td>\n",
       "      <td>1.248620e-15</td>\n",
       "      <td>1.559593e-16</td>\n",
       "    </tr>\n",
       "    <tr>\n",
       "      <th>3</th>\n",
       "      <td>0.0</td>\n",
       "      <td>0.0</td>\n",
       "      <td>0.0</td>\n",
       "      <td>0.0</td>\n",
       "      <td>0.0</td>\n",
       "      <td>0.0</td>\n",
       "      <td>0.0</td>\n",
       "      <td>0.0</td>\n",
       "      <td>0.0</td>\n",
       "      <td>0.0</td>\n",
       "      <td>...</td>\n",
       "      <td>0.000006</td>\n",
       "      <td>1.912566e-07</td>\n",
       "      <td>8.166079e-07</td>\n",
       "      <td>8.318966e-08</td>\n",
       "      <td>1.157595e-12</td>\n",
       "      <td>1.613553e-13</td>\n",
       "      <td>4.033335e-14</td>\n",
       "      <td>8.847740e-15</td>\n",
       "      <td>2.087383e-15</td>\n",
       "      <td>2.573168e-16</td>\n",
       "    </tr>\n",
       "    <tr>\n",
       "      <th>4</th>\n",
       "      <td>0.0</td>\n",
       "      <td>0.0</td>\n",
       "      <td>0.0</td>\n",
       "      <td>0.0</td>\n",
       "      <td>0.0</td>\n",
       "      <td>0.0</td>\n",
       "      <td>0.0</td>\n",
       "      <td>0.0</td>\n",
       "      <td>0.0</td>\n",
       "      <td>0.0</td>\n",
       "      <td>...</td>\n",
       "      <td>0.000003</td>\n",
       "      <td>2.382790e-07</td>\n",
       "      <td>1.307754e-06</td>\n",
       "      <td>2.114730e-07</td>\n",
       "      <td>1.824674e-12</td>\n",
       "      <td>2.502706e-13</td>\n",
       "      <td>6.282048e-14</td>\n",
       "      <td>1.378203e-14</td>\n",
       "      <td>3.249271e-15</td>\n",
       "      <td>4.029512e-16</td>\n",
       "    </tr>\n",
       "  </tbody>\n",
       "</table>\n",
       "<p>5 rows × 29 columns</p>\n",
       "</div>"
      ],
      "text/plain": [
       "   0'th bandpower  1'th bandpower  2'th bandpower  3'th bandpower  \\\n",
       "0             0.0             0.0             0.0             0.0   \n",
       "1             0.0             0.0             0.0             0.0   \n",
       "2             0.0             0.0             0.0             0.0   \n",
       "3             0.0             0.0             0.0             0.0   \n",
       "4             0.0             0.0             0.0             0.0   \n",
       "\n",
       "   4'th bandpower  5'th bandpower  6'th bandpower  7'th bandpower  \\\n",
       "0             0.0             0.0             0.0             0.0   \n",
       "1             0.0             0.0             0.0             0.0   \n",
       "2             0.0             0.0             0.0             0.0   \n",
       "3             0.0             0.0             0.0             0.0   \n",
       "4             0.0             0.0             0.0             0.0   \n",
       "\n",
       "   8'th bandpower  9'th bandpower  ...  19'th bandpower  20'th bandpower  \\\n",
       "0             0.0             0.0  ...         0.000261     9.663655e-05   \n",
       "1             0.0             0.0  ...         0.000012     1.519768e-06   \n",
       "2             0.0             0.0  ...         0.000003     1.994108e-07   \n",
       "3             0.0             0.0  ...         0.000006     1.912566e-07   \n",
       "4             0.0             0.0  ...         0.000003     2.382790e-07   \n",
       "\n",
       "   21'th bandpower  22'th bandpower  23'th bandpower  24'th bandpower  \\\n",
       "0     3.411161e-05     7.327356e-07     6.109667e-12     6.990118e-13   \n",
       "1     2.062811e-06     1.606117e-07     1.665456e-12     2.279566e-13   \n",
       "2     3.527831e-07     2.466588e-08     5.443871e-13     9.449346e-14   \n",
       "3     8.166079e-07     8.318966e-08     1.157595e-12     1.613553e-13   \n",
       "4     1.307754e-06     2.114730e-07     1.824674e-12     2.502706e-13   \n",
       "\n",
       "   25'th bandpower  26'th bandpower  27'th bandpower  28'th bandpower  \n",
       "0     1.567410e-13     3.271238e-14     7.560295e-15     9.672206e-16  \n",
       "1     5.451163e-14     1.162113e-14     2.702502e-15     3.390508e-16  \n",
       "2     2.406857e-14     5.290868e-15     1.248620e-15     1.559593e-16  \n",
       "3     4.033335e-14     8.847740e-15     2.087383e-15     2.573168e-16  \n",
       "4     6.282048e-14     1.378203e-14     3.249271e-15     4.029512e-16  \n",
       "\n",
       "[5 rows x 29 columns]"
      ]
     },
     "execution_count": 24,
     "metadata": {},
     "output_type": "execute_result"
    }
   ],
   "source": [
    "bandpower_df = pd.DataFrame(bp, columns = columns)\n",
    "bandpower_df.head()"
   ]
  },
  {
   "cell_type": "code",
   "execution_count": 25,
   "id": "efb8aa14",
   "metadata": {},
   "outputs": [],
   "source": [
    "df = pd.concat([max_df, min_df, bandpower_df], axis =1)"
   ]
  },
  {
   "cell_type": "code",
   "execution_count": 26,
   "id": "5dc01732",
   "metadata": {},
   "outputs": [
    {
     "data": {
      "text/html": [
       "<div>\n",
       "<style scoped>\n",
       "    .dataframe tbody tr th:only-of-type {\n",
       "        vertical-align: middle;\n",
       "    }\n",
       "\n",
       "    .dataframe tbody tr th {\n",
       "        vertical-align: top;\n",
       "    }\n",
       "\n",
       "    .dataframe thead th {\n",
       "        text-align: right;\n",
       "    }\n",
       "</style>\n",
       "<table border=\"1\" class=\"dataframe\">\n",
       "  <thead>\n",
       "    <tr style=\"text-align: right;\">\n",
       "      <th></th>\n",
       "      <th>peak max</th>\n",
       "      <th>peak min</th>\n",
       "      <th>0'th bandpower</th>\n",
       "      <th>1'th bandpower</th>\n",
       "      <th>2'th bandpower</th>\n",
       "      <th>3'th bandpower</th>\n",
       "      <th>4'th bandpower</th>\n",
       "      <th>5'th bandpower</th>\n",
       "      <th>6'th bandpower</th>\n",
       "      <th>7'th bandpower</th>\n",
       "      <th>...</th>\n",
       "      <th>19'th bandpower</th>\n",
       "      <th>20'th bandpower</th>\n",
       "      <th>21'th bandpower</th>\n",
       "      <th>22'th bandpower</th>\n",
       "      <th>23'th bandpower</th>\n",
       "      <th>24'th bandpower</th>\n",
       "      <th>25'th bandpower</th>\n",
       "      <th>26'th bandpower</th>\n",
       "      <th>27'th bandpower</th>\n",
       "      <th>28'th bandpower</th>\n",
       "    </tr>\n",
       "  </thead>\n",
       "  <tbody>\n",
       "    <tr>\n",
       "      <th>0</th>\n",
       "      <td>0.032980</td>\n",
       "      <td>0.010268</td>\n",
       "      <td>0.0</td>\n",
       "      <td>0.0</td>\n",
       "      <td>0.0</td>\n",
       "      <td>0.0</td>\n",
       "      <td>0.0</td>\n",
       "      <td>0.0</td>\n",
       "      <td>0.0</td>\n",
       "      <td>0.0</td>\n",
       "      <td>...</td>\n",
       "      <td>0.000261</td>\n",
       "      <td>9.663655e-05</td>\n",
       "      <td>3.411161e-05</td>\n",
       "      <td>7.327356e-07</td>\n",
       "      <td>6.109667e-12</td>\n",
       "      <td>6.990118e-13</td>\n",
       "      <td>1.567410e-13</td>\n",
       "      <td>3.271238e-14</td>\n",
       "      <td>7.560295e-15</td>\n",
       "      <td>9.672206e-16</td>\n",
       "    </tr>\n",
       "    <tr>\n",
       "      <th>1</th>\n",
       "      <td>0.023604</td>\n",
       "      <td>0.010027</td>\n",
       "      <td>0.0</td>\n",
       "      <td>0.0</td>\n",
       "      <td>0.0</td>\n",
       "      <td>0.0</td>\n",
       "      <td>0.0</td>\n",
       "      <td>0.0</td>\n",
       "      <td>0.0</td>\n",
       "      <td>0.0</td>\n",
       "      <td>...</td>\n",
       "      <td>0.000012</td>\n",
       "      <td>1.519768e-06</td>\n",
       "      <td>2.062811e-06</td>\n",
       "      <td>1.606117e-07</td>\n",
       "      <td>1.665456e-12</td>\n",
       "      <td>2.279566e-13</td>\n",
       "      <td>5.451163e-14</td>\n",
       "      <td>1.162113e-14</td>\n",
       "      <td>2.702502e-15</td>\n",
       "      <td>3.390508e-16</td>\n",
       "    </tr>\n",
       "    <tr>\n",
       "      <th>2</th>\n",
       "      <td>0.023554</td>\n",
       "      <td>0.010067</td>\n",
       "      <td>0.0</td>\n",
       "      <td>0.0</td>\n",
       "      <td>0.0</td>\n",
       "      <td>0.0</td>\n",
       "      <td>0.0</td>\n",
       "      <td>0.0</td>\n",
       "      <td>0.0</td>\n",
       "      <td>0.0</td>\n",
       "      <td>...</td>\n",
       "      <td>0.000003</td>\n",
       "      <td>1.994108e-07</td>\n",
       "      <td>3.527831e-07</td>\n",
       "      <td>2.466588e-08</td>\n",
       "      <td>5.443871e-13</td>\n",
       "      <td>9.449346e-14</td>\n",
       "      <td>2.406857e-14</td>\n",
       "      <td>5.290868e-15</td>\n",
       "      <td>1.248620e-15</td>\n",
       "      <td>1.559593e-16</td>\n",
       "    </tr>\n",
       "    <tr>\n",
       "      <th>3</th>\n",
       "      <td>0.020444</td>\n",
       "      <td>0.010010</td>\n",
       "      <td>0.0</td>\n",
       "      <td>0.0</td>\n",
       "      <td>0.0</td>\n",
       "      <td>0.0</td>\n",
       "      <td>0.0</td>\n",
       "      <td>0.0</td>\n",
       "      <td>0.0</td>\n",
       "      <td>0.0</td>\n",
       "      <td>...</td>\n",
       "      <td>0.000006</td>\n",
       "      <td>1.912566e-07</td>\n",
       "      <td>8.166079e-07</td>\n",
       "      <td>8.318966e-08</td>\n",
       "      <td>1.157595e-12</td>\n",
       "      <td>1.613553e-13</td>\n",
       "      <td>4.033335e-14</td>\n",
       "      <td>8.847740e-15</td>\n",
       "      <td>2.087383e-15</td>\n",
       "      <td>2.573168e-16</td>\n",
       "    </tr>\n",
       "    <tr>\n",
       "      <th>4</th>\n",
       "      <td>0.027402</td>\n",
       "      <td>0.010116</td>\n",
       "      <td>0.0</td>\n",
       "      <td>0.0</td>\n",
       "      <td>0.0</td>\n",
       "      <td>0.0</td>\n",
       "      <td>0.0</td>\n",
       "      <td>0.0</td>\n",
       "      <td>0.0</td>\n",
       "      <td>0.0</td>\n",
       "      <td>...</td>\n",
       "      <td>0.000003</td>\n",
       "      <td>2.382790e-07</td>\n",
       "      <td>1.307754e-06</td>\n",
       "      <td>2.114730e-07</td>\n",
       "      <td>1.824674e-12</td>\n",
       "      <td>2.502706e-13</td>\n",
       "      <td>6.282048e-14</td>\n",
       "      <td>1.378203e-14</td>\n",
       "      <td>3.249271e-15</td>\n",
       "      <td>4.029512e-16</td>\n",
       "    </tr>\n",
       "    <tr>\n",
       "      <th>...</th>\n",
       "      <td>...</td>\n",
       "      <td>...</td>\n",
       "      <td>...</td>\n",
       "      <td>...</td>\n",
       "      <td>...</td>\n",
       "      <td>...</td>\n",
       "      <td>...</td>\n",
       "      <td>...</td>\n",
       "      <td>...</td>\n",
       "      <td>...</td>\n",
       "      <td>...</td>\n",
       "      <td>...</td>\n",
       "      <td>...</td>\n",
       "      <td>...</td>\n",
       "      <td>...</td>\n",
       "      <td>...</td>\n",
       "      <td>...</td>\n",
       "      <td>...</td>\n",
       "      <td>...</td>\n",
       "      <td>...</td>\n",
       "      <td>...</td>\n",
       "    </tr>\n",
       "    <tr>\n",
       "      <th>1240</th>\n",
       "      <td>0.017813</td>\n",
       "      <td>0.010050</td>\n",
       "      <td>0.0</td>\n",
       "      <td>0.0</td>\n",
       "      <td>0.0</td>\n",
       "      <td>0.0</td>\n",
       "      <td>0.0</td>\n",
       "      <td>0.0</td>\n",
       "      <td>0.0</td>\n",
       "      <td>0.0</td>\n",
       "      <td>...</td>\n",
       "      <td>0.000012</td>\n",
       "      <td>1.664215e-05</td>\n",
       "      <td>1.938583e-05</td>\n",
       "      <td>4.073607e-07</td>\n",
       "      <td>8.039866e-12</td>\n",
       "      <td>1.191955e-12</td>\n",
       "      <td>3.142340e-13</td>\n",
       "      <td>7.145767e-14</td>\n",
       "      <td>1.715707e-14</td>\n",
       "      <td>2.102312e-15</td>\n",
       "    </tr>\n",
       "    <tr>\n",
       "      <th>1241</th>\n",
       "      <td>0.020770</td>\n",
       "      <td>0.010154</td>\n",
       "      <td>0.0</td>\n",
       "      <td>0.0</td>\n",
       "      <td>0.0</td>\n",
       "      <td>0.0</td>\n",
       "      <td>0.0</td>\n",
       "      <td>0.0</td>\n",
       "      <td>0.0</td>\n",
       "      <td>0.0</td>\n",
       "      <td>...</td>\n",
       "      <td>0.000035</td>\n",
       "      <td>2.797283e-05</td>\n",
       "      <td>2.315478e-05</td>\n",
       "      <td>4.149988e-07</td>\n",
       "      <td>1.220111e-11</td>\n",
       "      <td>2.185165e-12</td>\n",
       "      <td>5.825090e-13</td>\n",
       "      <td>1.321406e-13</td>\n",
       "      <td>3.165776e-14</td>\n",
       "      <td>3.874504e-15</td>\n",
       "    </tr>\n",
       "    <tr>\n",
       "      <th>1242</th>\n",
       "      <td>0.019868</td>\n",
       "      <td>0.010116</td>\n",
       "      <td>0.0</td>\n",
       "      <td>0.0</td>\n",
       "      <td>0.0</td>\n",
       "      <td>0.0</td>\n",
       "      <td>0.0</td>\n",
       "      <td>0.0</td>\n",
       "      <td>0.0</td>\n",
       "      <td>0.0</td>\n",
       "      <td>...</td>\n",
       "      <td>0.000016</td>\n",
       "      <td>3.136179e-05</td>\n",
       "      <td>3.635865e-05</td>\n",
       "      <td>4.119947e-07</td>\n",
       "      <td>1.874447e-11</td>\n",
       "      <td>2.387235e-12</td>\n",
       "      <td>5.923508e-13</td>\n",
       "      <td>1.317217e-13</td>\n",
       "      <td>3.139730e-14</td>\n",
       "      <td>3.890403e-15</td>\n",
       "    </tr>\n",
       "    <tr>\n",
       "      <th>1243</th>\n",
       "      <td>0.014941</td>\n",
       "      <td>0.010130</td>\n",
       "      <td>0.0</td>\n",
       "      <td>0.0</td>\n",
       "      <td>0.0</td>\n",
       "      <td>0.0</td>\n",
       "      <td>0.0</td>\n",
       "      <td>0.0</td>\n",
       "      <td>0.0</td>\n",
       "      <td>0.0</td>\n",
       "      <td>...</td>\n",
       "      <td>0.000034</td>\n",
       "      <td>3.198132e-05</td>\n",
       "      <td>3.773080e-05</td>\n",
       "      <td>7.000800e-07</td>\n",
       "      <td>1.568361e-11</td>\n",
       "      <td>2.524729e-12</td>\n",
       "      <td>6.682197e-13</td>\n",
       "      <td>1.516126e-13</td>\n",
       "      <td>3.636161e-14</td>\n",
       "      <td>4.466815e-15</td>\n",
       "    </tr>\n",
       "    <tr>\n",
       "      <th>1244</th>\n",
       "      <td>0.017711</td>\n",
       "      <td>0.010448</td>\n",
       "      <td>0.0</td>\n",
       "      <td>0.0</td>\n",
       "      <td>0.0</td>\n",
       "      <td>0.0</td>\n",
       "      <td>0.0</td>\n",
       "      <td>0.0</td>\n",
       "      <td>0.0</td>\n",
       "      <td>0.0</td>\n",
       "      <td>...</td>\n",
       "      <td>0.000091</td>\n",
       "      <td>2.756117e-05</td>\n",
       "      <td>2.258972e-05</td>\n",
       "      <td>7.148218e-07</td>\n",
       "      <td>2.624054e-11</td>\n",
       "      <td>5.652342e-12</td>\n",
       "      <td>1.563488e-12</td>\n",
       "      <td>3.592980e-13</td>\n",
       "      <td>8.654061e-14</td>\n",
       "      <td>1.062161e-14</td>\n",
       "    </tr>\n",
       "  </tbody>\n",
       "</table>\n",
       "<p>1245 rows × 31 columns</p>\n",
       "</div>"
      ],
      "text/plain": [
       "      peak max  peak min  0'th bandpower  1'th bandpower  2'th bandpower  \\\n",
       "0     0.032980  0.010268             0.0             0.0             0.0   \n",
       "1     0.023604  0.010027             0.0             0.0             0.0   \n",
       "2     0.023554  0.010067             0.0             0.0             0.0   \n",
       "3     0.020444  0.010010             0.0             0.0             0.0   \n",
       "4     0.027402  0.010116             0.0             0.0             0.0   \n",
       "...        ...       ...             ...             ...             ...   \n",
       "1240  0.017813  0.010050             0.0             0.0             0.0   \n",
       "1241  0.020770  0.010154             0.0             0.0             0.0   \n",
       "1242  0.019868  0.010116             0.0             0.0             0.0   \n",
       "1243  0.014941  0.010130             0.0             0.0             0.0   \n",
       "1244  0.017711  0.010448             0.0             0.0             0.0   \n",
       "\n",
       "      3'th bandpower  4'th bandpower  5'th bandpower  6'th bandpower  \\\n",
       "0                0.0             0.0             0.0             0.0   \n",
       "1                0.0             0.0             0.0             0.0   \n",
       "2                0.0             0.0             0.0             0.0   \n",
       "3                0.0             0.0             0.0             0.0   \n",
       "4                0.0             0.0             0.0             0.0   \n",
       "...              ...             ...             ...             ...   \n",
       "1240             0.0             0.0             0.0             0.0   \n",
       "1241             0.0             0.0             0.0             0.0   \n",
       "1242             0.0             0.0             0.0             0.0   \n",
       "1243             0.0             0.0             0.0             0.0   \n",
       "1244             0.0             0.0             0.0             0.0   \n",
       "\n",
       "      7'th bandpower  ...  19'th bandpower  20'th bandpower  21'th bandpower  \\\n",
       "0                0.0  ...         0.000261     9.663655e-05     3.411161e-05   \n",
       "1                0.0  ...         0.000012     1.519768e-06     2.062811e-06   \n",
       "2                0.0  ...         0.000003     1.994108e-07     3.527831e-07   \n",
       "3                0.0  ...         0.000006     1.912566e-07     8.166079e-07   \n",
       "4                0.0  ...         0.000003     2.382790e-07     1.307754e-06   \n",
       "...              ...  ...              ...              ...              ...   \n",
       "1240             0.0  ...         0.000012     1.664215e-05     1.938583e-05   \n",
       "1241             0.0  ...         0.000035     2.797283e-05     2.315478e-05   \n",
       "1242             0.0  ...         0.000016     3.136179e-05     3.635865e-05   \n",
       "1243             0.0  ...         0.000034     3.198132e-05     3.773080e-05   \n",
       "1244             0.0  ...         0.000091     2.756117e-05     2.258972e-05   \n",
       "\n",
       "      22'th bandpower  23'th bandpower  24'th bandpower  25'th bandpower  \\\n",
       "0        7.327356e-07     6.109667e-12     6.990118e-13     1.567410e-13   \n",
       "1        1.606117e-07     1.665456e-12     2.279566e-13     5.451163e-14   \n",
       "2        2.466588e-08     5.443871e-13     9.449346e-14     2.406857e-14   \n",
       "3        8.318966e-08     1.157595e-12     1.613553e-13     4.033335e-14   \n",
       "4        2.114730e-07     1.824674e-12     2.502706e-13     6.282048e-14   \n",
       "...               ...              ...              ...              ...   \n",
       "1240     4.073607e-07     8.039866e-12     1.191955e-12     3.142340e-13   \n",
       "1241     4.149988e-07     1.220111e-11     2.185165e-12     5.825090e-13   \n",
       "1242     4.119947e-07     1.874447e-11     2.387235e-12     5.923508e-13   \n",
       "1243     7.000800e-07     1.568361e-11     2.524729e-12     6.682197e-13   \n",
       "1244     7.148218e-07     2.624054e-11     5.652342e-12     1.563488e-12   \n",
       "\n",
       "      26'th bandpower  27'th bandpower  28'th bandpower  \n",
       "0        3.271238e-14     7.560295e-15     9.672206e-16  \n",
       "1        1.162113e-14     2.702502e-15     3.390508e-16  \n",
       "2        5.290868e-15     1.248620e-15     1.559593e-16  \n",
       "3        8.847740e-15     2.087383e-15     2.573168e-16  \n",
       "4        1.378203e-14     3.249271e-15     4.029512e-16  \n",
       "...               ...              ...              ...  \n",
       "1240     7.145767e-14     1.715707e-14     2.102312e-15  \n",
       "1241     1.321406e-13     3.165776e-14     3.874504e-15  \n",
       "1242     1.317217e-13     3.139730e-14     3.890403e-15  \n",
       "1243     1.516126e-13     3.636161e-14     4.466815e-15  \n",
       "1244     3.592980e-13     8.654061e-14     1.062161e-14  \n",
       "\n",
       "[1245 rows x 31 columns]"
      ]
     },
     "execution_count": 26,
     "metadata": {},
     "output_type": "execute_result"
    }
   ],
   "source": [
    "df"
   ]
  },
  {
   "cell_type": "code",
   "execution_count": 27,
   "id": "458975d2",
   "metadata": {},
   "outputs": [],
   "source": [
    "df.to_csv(\"/Users/ecem/Desktop/phonocardiogram/data/AV/present/AV-bandpower-and-peaks.csv\" )"
   ]
  },
  {
   "cell_type": "code",
   "execution_count": null,
   "id": "4fade6e1",
   "metadata": {},
   "outputs": [],
   "source": []
  },
  {
   "cell_type": "code",
   "execution_count": null,
   "id": "9dee5f7f",
   "metadata": {},
   "outputs": [],
   "source": []
  }
 ],
 "metadata": {
  "kernelspec": {
   "display_name": "Python 3 (ipykernel)",
   "language": "python",
   "name": "python3"
  },
  "language_info": {
   "codemirror_mode": {
    "name": "ipython",
    "version": 3
   },
   "file_extension": ".py",
   "mimetype": "text/x-python",
   "name": "python",
   "nbconvert_exporter": "python",
   "pygments_lexer": "ipython3",
   "version": "3.9.9"
  }
 },
 "nbformat": 4,
 "nbformat_minor": 5
}
