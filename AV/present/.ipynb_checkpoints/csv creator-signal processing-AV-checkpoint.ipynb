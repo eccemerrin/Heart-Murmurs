{
 "cells": [
  {
   "cell_type": "markdown",
   "id": "a10707b4",
   "metadata": {},
   "source": [
    "## Imports:"
   ]
  },
  {
   "cell_type": "code",
   "execution_count": 1,
   "id": "5b0b2dcc",
   "metadata": {},
   "outputs": [
    {
     "ename": "RuntimeError",
     "evalue": "module compiled against API version 0xe but this version of numpy is 0xd",
     "output_type": "error",
     "traceback": [
      "\u001b[0;31m---------------------------------------------------------------------------\u001b[0m",
      "\u001b[0;31mRuntimeError\u001b[0m                              Traceback (most recent call last)",
      "\u001b[0;31mRuntimeError\u001b[0m: module compiled against API version 0xe but this version of numpy is 0xd"
     ]
    }
   ],
   "source": [
    "import scipy.io\n",
    "import os\n",
    "import pandas\n",
    "import numpy as np\n",
    "import matplotlib.pyplot as plt\n",
    "import matplotlib.pylab as plt_lab\n",
    "import matplotlib.gridspec as gridspec\n",
    "import obspy\n",
    "import pandas as pd"
   ]
  },
  {
   "cell_type": "code",
   "execution_count": 2,
   "id": "995724bf",
   "metadata": {},
   "outputs": [],
   "source": [
    "import warnings\n",
    "warnings.filterwarnings('ignore')"
   ]
  },
  {
   "cell_type": "markdown",
   "id": "41b4c77f",
   "metadata": {},
   "source": [
    "## Load data:\n",
    "We are going to use this data to plot spectograms of SCG signals. "
   ]
  },
  {
   "cell_type": "code",
   "execution_count": 3,
   "id": "75a415fd",
   "metadata": {},
   "outputs": [],
   "source": [
    "path = \"/Users/ecem/Desktop/phonocardiogram/data/AV/present\""
   ]
  },
  {
   "cell_type": "code",
   "execution_count": 4,
   "id": "cff5b561",
   "metadata": {},
   "outputs": [],
   "source": [
    "waves = np.load(path + \"/present_AV_waves_10sec.npy\", allow_pickle= True)\n"
   ]
  },
  {
   "cell_type": "code",
   "execution_count": 5,
   "id": "557b6190",
   "metadata": {},
   "outputs": [
    {
     "name": "stdout",
     "output_type": "stream",
     "text": [
      "(1245, 40000)\n"
     ]
    }
   ],
   "source": [
    "print(waves.shape)\n"
   ]
  },
  {
   "cell_type": "markdown",
   "id": "1b2a6059",
   "metadata": {},
   "source": [
    "## Zero Crossing Rate:\n",
    "Compute the zero-crossing rate of an audio time series.\n",
    "The zero-crossing rate (ZCR) is the rate at which a signal changes from positive to zero to negative or from negative to zero to positive."
   ]
  },
  {
   "cell_type": "code",
   "execution_count": 6,
   "id": "7c9b734f",
   "metadata": {},
   "outputs": [],
   "source": [
    "import librosa as lbs"
   ]
  },
  {
   "cell_type": "code",
   "execution_count": 7,
   "id": "23a0bede",
   "metadata": {},
   "outputs": [
    {
     "data": {
      "text/plain": [
       "array([[0.020875, 0.029875, 0.03275 , 0.02975 ]])"
      ]
     },
     "execution_count": 7,
     "metadata": {},
     "output_type": "execute_result"
    }
   ],
   "source": [
    "lbs.feature.zero_crossing_rate(waves[7],frame_length= 8000, hop_length = 12000)"
   ]
  },
  {
   "cell_type": "code",
   "execution_count": 8,
   "id": "b2a61800",
   "metadata": {},
   "outputs": [
    {
     "data": {
      "text/plain": [
       "(1, 4)"
      ]
     },
     "execution_count": 8,
     "metadata": {},
     "output_type": "execute_result"
    }
   ],
   "source": [
    "lbs.feature.zero_crossing_rate(waves[7], frame_length= 8000, hop_length = 12000).shape"
   ]
  },
  {
   "cell_type": "code",
   "execution_count": 9,
   "id": "cc79deea",
   "metadata": {},
   "outputs": [],
   "source": [
    "def zero_crossing(array, frame_length= 2048, hl = 512):\n",
    "    zero_crossing_rate = np.ones(shape = (array.shape[0], 5)) #buradaki ikinci sayı hop lenght e göre değişmeli \n",
    "\n",
    "    for i in range(array.shape[0]):\n",
    "        zero_crossing_rate[i][0:4] = lbs.feature.zero_crossing_rate(array[i],  frame_length = frame_length,\n",
    "                                                                    hop_length = hl)\n",
    "        zero_crossing_rate[i][4] = sum(lbs.zero_crossings(array[i]))\n",
    "    return zero_crossing_rate\n",
    "\n",
    "        "
   ]
  },
  {
   "cell_type": "code",
   "execution_count": 10,
   "id": "3badd449",
   "metadata": {},
   "outputs": [],
   "source": [
    "zcrs = zero_crossing(waves, 8000, hl = 12000) #çok uzun sürüyor, ya datayı kısaltmalıyız ya da hop lenght artmalı"
   ]
  },
  {
   "cell_type": "code",
   "execution_count": 13,
   "id": "5a0decad",
   "metadata": {},
   "outputs": [
    {
     "data": {
      "text/plain": [
       "numpy.ndarray"
      ]
     },
     "execution_count": 13,
     "metadata": {},
     "output_type": "execute_result"
    }
   ],
   "source": [
    "type(zcrs[0])"
   ]
  },
  {
   "cell_type": "code",
   "execution_count": 14,
   "id": "ef9d104e",
   "metadata": {},
   "outputs": [],
   "source": [
    "np.save(path + \"/present_AV_zcrs_array\", zcrs, allow_pickle= True)"
   ]
  },
  {
   "cell_type": "code",
   "execution_count": 11,
   "id": "58e4c21a",
   "metadata": {},
   "outputs": [
    {
     "name": "stdout",
     "output_type": "stream",
     "text": [
      "['zcrs0', 'zcrs1', 'zcrs2', 'zcrs3', '#ofcrossing']\n"
     ]
    }
   ],
   "source": [
    "columns_zcr = []\n",
    "for i in range(zcrs.shape[1]-1):\n",
    "    columns_zcr.append(\"zcrs{}\".format(i))\n",
    "\n",
    "    \n",
    "columns_zcr.append(\"#ofcrossing\")\n",
    "\n",
    "print(columns_zcr)"
   ]
  },
  {
   "cell_type": "code",
   "execution_count": 12,
   "id": "e07f721f",
   "metadata": {},
   "outputs": [
    {
     "data": {
      "text/plain": [
       "array([2.0875e-02, 2.9875e-02, 3.2750e-02, 2.9750e-02, 1.3420e+03])"
      ]
     },
     "execution_count": 12,
     "metadata": {},
     "output_type": "execute_result"
    }
   ],
   "source": [
    "zcrs[7]"
   ]
  },
  {
   "cell_type": "code",
   "execution_count": 13,
   "id": "14c76313",
   "metadata": {},
   "outputs": [],
   "source": [
    "def dataframe_creator(array, df = pd.DataFrame(), l = 7, columns = None):\n",
    "    values = []\n",
    "\n",
    "    for i in range(array.shape[0]):\n",
    "        llist = list(array[i][0:l-1].tolist())\n",
    "        llist.append(array[i][l-1])\n",
    "        \n",
    "        values.append(llist)\n",
    "        medium = pd.DataFrame([values[i]], columns = columns)\n",
    "        \n",
    "        \n",
    "        df = pd.concat([df, medium], axis = 0)\n",
    "    return df "
   ]
  },
  {
   "cell_type": "code",
   "execution_count": 14,
   "id": "40eb5d7a",
   "metadata": {},
   "outputs": [],
   "source": [
    "df = dataframe_creator(zcrs, l =5,  columns = columns_zcr)\n",
    "\n",
    "df.reset_index(drop = True, inplace = True)"
   ]
  },
  {
   "cell_type": "code",
   "execution_count": 15,
   "id": "58c4ea98",
   "metadata": {},
   "outputs": [
    {
     "data": {
      "text/html": [
       "<div>\n",
       "<style scoped>\n",
       "    .dataframe tbody tr th:only-of-type {\n",
       "        vertical-align: middle;\n",
       "    }\n",
       "\n",
       "    .dataframe tbody tr th {\n",
       "        vertical-align: top;\n",
       "    }\n",
       "\n",
       "    .dataframe thead th {\n",
       "        text-align: right;\n",
       "    }\n",
       "</style>\n",
       "<table border=\"1\" class=\"dataframe\">\n",
       "  <thead>\n",
       "    <tr style=\"text-align: right;\">\n",
       "      <th></th>\n",
       "      <th>zcrs0</th>\n",
       "      <th>zcrs1</th>\n",
       "      <th>zcrs2</th>\n",
       "      <th>zcrs3</th>\n",
       "      <th>#ofcrossing</th>\n",
       "    </tr>\n",
       "  </thead>\n",
       "  <tbody>\n",
       "    <tr>\n",
       "      <th>0</th>\n",
       "      <td>0.013000</td>\n",
       "      <td>0.036000</td>\n",
       "      <td>0.035750</td>\n",
       "      <td>0.034875</td>\n",
       "      <td>1399.0</td>\n",
       "    </tr>\n",
       "    <tr>\n",
       "      <th>1</th>\n",
       "      <td>0.018250</td>\n",
       "      <td>0.031000</td>\n",
       "      <td>0.039125</td>\n",
       "      <td>0.026000</td>\n",
       "      <td>1394.0</td>\n",
       "    </tr>\n",
       "    <tr>\n",
       "      <th>2</th>\n",
       "      <td>0.019125</td>\n",
       "      <td>0.035625</td>\n",
       "      <td>0.030750</td>\n",
       "      <td>0.031500</td>\n",
       "      <td>1300.0</td>\n",
       "    </tr>\n",
       "    <tr>\n",
       "      <th>3</th>\n",
       "      <td>0.015125</td>\n",
       "      <td>0.036625</td>\n",
       "      <td>0.031125</td>\n",
       "      <td>0.032000</td>\n",
       "      <td>1299.0</td>\n",
       "    </tr>\n",
       "    <tr>\n",
       "      <th>4</th>\n",
       "      <td>0.017625</td>\n",
       "      <td>0.028625</td>\n",
       "      <td>0.039500</td>\n",
       "      <td>0.034000</td>\n",
       "      <td>1344.0</td>\n",
       "    </tr>\n",
       "  </tbody>\n",
       "</table>\n",
       "</div>"
      ],
      "text/plain": [
       "      zcrs0     zcrs1     zcrs2     zcrs3  #ofcrossing\n",
       "0  0.013000  0.036000  0.035750  0.034875       1399.0\n",
       "1  0.018250  0.031000  0.039125  0.026000       1394.0\n",
       "2  0.019125  0.035625  0.030750  0.031500       1300.0\n",
       "3  0.015125  0.036625  0.031125  0.032000       1299.0\n",
       "4  0.017625  0.028625  0.039500  0.034000       1344.0"
      ]
     },
     "execution_count": 15,
     "metadata": {},
     "output_type": "execute_result"
    }
   ],
   "source": [
    "df.head()"
   ]
  },
  {
   "cell_type": "code",
   "execution_count": 16,
   "id": "febe5cf1",
   "metadata": {},
   "outputs": [],
   "source": [
    "df.to_csv(path + '/present_AV_zcrs.csv')"
   ]
  },
  {
   "cell_type": "markdown",
   "id": "3bbfeffb",
   "metadata": {},
   "source": [
    "## with Özgün Ozan Nacitarhan code"
   ]
  },
  {
   "cell_type": "code",
   "execution_count": 17,
   "id": "481adc1a",
   "metadata": {},
   "outputs": [],
   "source": [
    "def zcr(array):\n",
    "    zcr = np.ones(shape = (array.shape[0],1))\n",
    "    for i in range(array.shape[0]):\n",
    "        data_zeros = np.zeros(len(array[i]))\n",
    "        data_zeros[1:] = array[i][:len(array[i]) - 1]\n",
    "        zcr[i][0] = (1 / (2 * len(array[i]))) * np.sum(np.abs(np.sign(array[i]) - np.sign(data_zeros)))\n",
    "        \n",
    "    return zcr\n"
   ]
  },
  {
   "cell_type": "code",
   "execution_count": 18,
   "id": "f539b16d",
   "metadata": {},
   "outputs": [],
   "source": [
    "zcrs_özgün = zcr(waves)"
   ]
  },
  {
   "cell_type": "code",
   "execution_count": 19,
   "id": "12e14c34",
   "metadata": {},
   "outputs": [
    {
     "data": {
      "text/plain": [
       "(1245, 1)"
      ]
     },
     "execution_count": 19,
     "metadata": {},
     "output_type": "execute_result"
    }
   ],
   "source": [
    "zcrs_özgün.shape"
   ]
  },
  {
   "cell_type": "code",
   "execution_count": 20,
   "id": "20657000",
   "metadata": {},
   "outputs": [
    {
     "data": {
      "text/plain": [
       "array([0.0349625])"
      ]
     },
     "execution_count": 20,
     "metadata": {},
     "output_type": "execute_result"
    }
   ],
   "source": [
    "zcrs_özgün[0]"
   ]
  },
  {
   "cell_type": "code",
   "execution_count": 21,
   "id": "adfd4882",
   "metadata": {},
   "outputs": [],
   "source": [
    "np.save(path + \"/present_AV_zcrs_özgün\", zcrs_özgün, allow_pickle= True)"
   ]
  },
  {
   "cell_type": "markdown",
   "id": "68835fa8",
   "metadata": {},
   "source": [
    "### Chromogram:\n",
    "We can use Chroma feature visualization to know how dominant the characteristics of a certain pitch {C, C♯, D, D♯, E, F, F♯, G, G♯, A, A♯, B} is present in the sampled frame.\n",
    "\n",
    "Compute a chromagram from a waveform or power spectrogram.\n",
    "It returns Normalized energy for each chroma bin at each frame.\n",
    "\n",
    "Hop size should refer to the number of samples in between successive frames. For signal analysis Hop Size should be less than the frame size, so that frames overlap."
   ]
  },
  {
   "cell_type": "code",
   "execution_count": 15,
   "id": "a2419065",
   "metadata": {},
   "outputs": [],
   "source": [
    "import warnings\n",
    "warnings.filterwarnings('ignore')"
   ]
  },
  {
   "cell_type": "code",
   "execution_count": 16,
   "id": "4ee986de",
   "metadata": {},
   "outputs": [],
   "source": [
    "import librosa.display"
   ]
  },
  {
   "cell_type": "code",
   "execution_count": 17,
   "id": "72d9d462",
   "metadata": {},
   "outputs": [
    {
     "data": {
      "text/plain": [
       "(12, 4)"
      ]
     },
     "execution_count": 17,
     "metadata": {},
     "output_type": "execute_result"
    }
   ],
   "source": [
    "lbs.feature.chroma_stft(waves[0], sr = 4000, hop_length = 12000).shape"
   ]
  },
  {
   "cell_type": "code",
   "execution_count": 18,
   "id": "1129b939",
   "metadata": {},
   "outputs": [],
   "source": [
    "# we are taking time average of each pitch values.\n",
    "def chromagram_average(array, sampling_rate = 256):\n",
    "    pitch = np.ones(shape = (array.shape[0], 12)) \n",
    "    \n",
    "    for i in range(array.shape[0]):\n",
    "        for j in range(12):\n",
    "            pitch[i][j] = lbs.feature.chroma_stft(np.array(array[i]), sr= sampling_rate, hop_length = 12000)[j].mean()\n",
    "    return pitch"
   ]
  },
  {
   "cell_type": "code",
   "execution_count": 19,
   "id": "fe736d42",
   "metadata": {},
   "outputs": [],
   "source": [
    "chro = chromagram_average(waves, sampling_rate = 4000) # bu da çok uzun sürüyor."
   ]
  },
  {
   "cell_type": "code",
   "execution_count": 20,
   "id": "ed36ce80",
   "metadata": {},
   "outputs": [
    {
     "data": {
      "text/plain": [
       "numpy.ndarray"
      ]
     },
     "execution_count": 20,
     "metadata": {},
     "output_type": "execute_result"
    }
   ],
   "source": [
    "type(chro[0])"
   ]
  },
  {
   "cell_type": "code",
   "execution_count": 23,
   "id": "875ac687",
   "metadata": {},
   "outputs": [
    {
     "data": {
      "text/plain": [
       "(1245, 12)"
      ]
     },
     "execution_count": 23,
     "metadata": {},
     "output_type": "execute_result"
    }
   ],
   "source": [
    "chro.shape"
   ]
  },
  {
   "cell_type": "code",
   "execution_count": 22,
   "id": "0bac78ad",
   "metadata": {},
   "outputs": [],
   "source": [
    "np.save(path + \"/present_AV_chromogram_array\", chro, allow_pickle= True)"
   ]
  },
  {
   "cell_type": "code",
   "execution_count": 27,
   "id": "f275be61",
   "metadata": {},
   "outputs": [
    {
     "name": "stdout",
     "output_type": "stream",
     "text": [
      "(1245, 12)\n"
     ]
    }
   ],
   "source": [
    "print(chro.shape)"
   ]
  },
  {
   "cell_type": "code",
   "execution_count": 28,
   "id": "69d520e6",
   "metadata": {},
   "outputs": [],
   "source": [
    "lst = [\"C\", \"C♯\", \"D\", \"D♯\", \"E\", \"F\", \"F♯\", \"G\", \"G♯\", \"A\", \"A♯\", \"B\"]"
   ]
  },
  {
   "cell_type": "code",
   "execution_count": 29,
   "id": "b24e15ff",
   "metadata": {},
   "outputs": [
    {
     "name": "stdout",
     "output_type": "stream",
     "text": [
      "['C', 'C♯', 'D', 'D♯', 'E', 'F', 'F♯', 'G', 'G♯', 'A', 'A♯', 'B']\n",
      "12\n"
     ]
    }
   ],
   "source": [
    "col_chro = []\n",
    "for i in range(chro.shape[1]):\n",
    "    col_chro.append(lst[i])\n",
    "    \n",
    "print(col_chro)\n",
    "print(len(col_chro))"
   ]
  },
  {
   "cell_type": "code",
   "execution_count": 30,
   "id": "17156bed",
   "metadata": {},
   "outputs": [
    {
     "data": {
      "text/html": [
       "<div>\n",
       "<style scoped>\n",
       "    .dataframe tbody tr th:only-of-type {\n",
       "        vertical-align: middle;\n",
       "    }\n",
       "\n",
       "    .dataframe tbody tr th {\n",
       "        vertical-align: top;\n",
       "    }\n",
       "\n",
       "    .dataframe thead th {\n",
       "        text-align: right;\n",
       "    }\n",
       "</style>\n",
       "<table border=\"1\" class=\"dataframe\">\n",
       "  <thead>\n",
       "    <tr style=\"text-align: right;\">\n",
       "      <th></th>\n",
       "      <th>C</th>\n",
       "      <th>C♯</th>\n",
       "      <th>D</th>\n",
       "      <th>D♯</th>\n",
       "      <th>E</th>\n",
       "      <th>F</th>\n",
       "      <th>F♯</th>\n",
       "      <th>G</th>\n",
       "      <th>G♯</th>\n",
       "      <th>A</th>\n",
       "      <th>A♯</th>\n",
       "      <th>B</th>\n",
       "    </tr>\n",
       "  </thead>\n",
       "  <tbody>\n",
       "    <tr>\n",
       "      <th>0</th>\n",
       "      <td>0.625998</td>\n",
       "      <td>0.482445</td>\n",
       "      <td>0.676526</td>\n",
       "      <td>0.82151</td>\n",
       "      <td>0.745005</td>\n",
       "      <td>0.671202</td>\n",
       "      <td>0.739956</td>\n",
       "      <td>0.652771</td>\n",
       "      <td>0.634898</td>\n",
       "      <td>0.795076</td>\n",
       "      <td>0.686735</td>\n",
       "      <td>0.548303</td>\n",
       "    </tr>\n",
       "    <tr>\n",
       "      <th>1</th>\n",
       "      <td>0.502135</td>\n",
       "      <td>0.545204</td>\n",
       "      <td>0.557102</td>\n",
       "      <td>0.735404</td>\n",
       "      <td>0.724191</td>\n",
       "      <td>0.538105</td>\n",
       "      <td>0.538433</td>\n",
       "      <td>0.456542</td>\n",
       "      <td>0.362441</td>\n",
       "      <td>0.525708</td>\n",
       "      <td>0.523698</td>\n",
       "      <td>0.446788</td>\n",
       "    </tr>\n",
       "    <tr>\n",
       "      <th>2</th>\n",
       "      <td>0.689572</td>\n",
       "      <td>0.861129</td>\n",
       "      <td>0.599657</td>\n",
       "      <td>0.457374</td>\n",
       "      <td>0.396443</td>\n",
       "      <td>0.353062</td>\n",
       "      <td>0.672715</td>\n",
       "      <td>0.543713</td>\n",
       "      <td>0.391207</td>\n",
       "      <td>0.608804</td>\n",
       "      <td>0.456716</td>\n",
       "      <td>0.571541</td>\n",
       "    </tr>\n",
       "    <tr>\n",
       "      <th>3</th>\n",
       "      <td>0.575298</td>\n",
       "      <td>0.466166</td>\n",
       "      <td>0.447056</td>\n",
       "      <td>0.421602</td>\n",
       "      <td>0.51861</td>\n",
       "      <td>0.330166</td>\n",
       "      <td>0.372173</td>\n",
       "      <td>0.601313</td>\n",
       "      <td>0.699403</td>\n",
       "      <td>0.9512</td>\n",
       "      <td>0.608406</td>\n",
       "      <td>0.528843</td>\n",
       "    </tr>\n",
       "    <tr>\n",
       "      <th>4</th>\n",
       "      <td>0.325563</td>\n",
       "      <td>0.268573</td>\n",
       "      <td>0.197883</td>\n",
       "      <td>0.211158</td>\n",
       "      <td>0.457757</td>\n",
       "      <td>0.713487</td>\n",
       "      <td>0.548991</td>\n",
       "      <td>0.348728</td>\n",
       "      <td>0.465487</td>\n",
       "      <td>0.361078</td>\n",
       "      <td>0.452525</td>\n",
       "      <td>0.483885</td>\n",
       "    </tr>\n",
       "    <tr>\n",
       "      <th>...</th>\n",
       "      <td>...</td>\n",
       "      <td>...</td>\n",
       "      <td>...</td>\n",
       "      <td>...</td>\n",
       "      <td>...</td>\n",
       "      <td>...</td>\n",
       "      <td>...</td>\n",
       "      <td>...</td>\n",
       "      <td>...</td>\n",
       "      <td>...</td>\n",
       "      <td>...</td>\n",
       "      <td>...</td>\n",
       "    </tr>\n",
       "    <tr>\n",
       "      <th>1240</th>\n",
       "      <td>0.531967</td>\n",
       "      <td>0.431299</td>\n",
       "      <td>0.512284</td>\n",
       "      <td>0.447102</td>\n",
       "      <td>0.548669</td>\n",
       "      <td>0.62862</td>\n",
       "      <td>0.611953</td>\n",
       "      <td>0.535898</td>\n",
       "      <td>0.471509</td>\n",
       "      <td>0.548771</td>\n",
       "      <td>0.590904</td>\n",
       "      <td>0.711907</td>\n",
       "    </tr>\n",
       "    <tr>\n",
       "      <th>1241</th>\n",
       "      <td>0.476936</td>\n",
       "      <td>0.417324</td>\n",
       "      <td>0.468095</td>\n",
       "      <td>0.512506</td>\n",
       "      <td>0.615219</td>\n",
       "      <td>0.775425</td>\n",
       "      <td>0.910564</td>\n",
       "      <td>0.841961</td>\n",
       "      <td>0.750123</td>\n",
       "      <td>0.688432</td>\n",
       "      <td>0.574847</td>\n",
       "      <td>0.506306</td>\n",
       "    </tr>\n",
       "    <tr>\n",
       "      <th>1242</th>\n",
       "      <td>0.726405</td>\n",
       "      <td>0.744161</td>\n",
       "      <td>0.788509</td>\n",
       "      <td>0.738596</td>\n",
       "      <td>0.672574</td>\n",
       "      <td>0.602137</td>\n",
       "      <td>0.74069</td>\n",
       "      <td>0.692392</td>\n",
       "      <td>0.658508</td>\n",
       "      <td>0.673158</td>\n",
       "      <td>0.708672</td>\n",
       "      <td>0.657713</td>\n",
       "    </tr>\n",
       "    <tr>\n",
       "      <th>1243</th>\n",
       "      <td>0.591419</td>\n",
       "      <td>0.774309</td>\n",
       "      <td>0.755697</td>\n",
       "      <td>0.766467</td>\n",
       "      <td>0.732934</td>\n",
       "      <td>0.762733</td>\n",
       "      <td>0.652986</td>\n",
       "      <td>0.711504</td>\n",
       "      <td>0.611182</td>\n",
       "      <td>0.504581</td>\n",
       "      <td>0.633147</td>\n",
       "      <td>0.612522</td>\n",
       "    </tr>\n",
       "    <tr>\n",
       "      <th>1244</th>\n",
       "      <td>0.67696</td>\n",
       "      <td>0.846426</td>\n",
       "      <td>0.893863</td>\n",
       "      <td>0.739928</td>\n",
       "      <td>0.738394</td>\n",
       "      <td>0.726147</td>\n",
       "      <td>0.667488</td>\n",
       "      <td>0.589644</td>\n",
       "      <td>0.546344</td>\n",
       "      <td>0.544755</td>\n",
       "      <td>0.643963</td>\n",
       "      <td>0.65768</td>\n",
       "    </tr>\n",
       "  </tbody>\n",
       "</table>\n",
       "<p>1245 rows × 12 columns</p>\n",
       "</div>"
      ],
      "text/plain": [
       "             C        C♯         D        D♯         E         F        F♯  \\\n",
       "0     0.625998  0.482445  0.676526   0.82151  0.745005  0.671202  0.739956   \n",
       "1     0.502135  0.545204  0.557102  0.735404  0.724191  0.538105  0.538433   \n",
       "2     0.689572  0.861129  0.599657  0.457374  0.396443  0.353062  0.672715   \n",
       "3     0.575298  0.466166  0.447056  0.421602   0.51861  0.330166  0.372173   \n",
       "4     0.325563  0.268573  0.197883  0.211158  0.457757  0.713487  0.548991   \n",
       "...        ...       ...       ...       ...       ...       ...       ...   \n",
       "1240  0.531967  0.431299  0.512284  0.447102  0.548669   0.62862  0.611953   \n",
       "1241  0.476936  0.417324  0.468095  0.512506  0.615219  0.775425  0.910564   \n",
       "1242  0.726405  0.744161  0.788509  0.738596  0.672574  0.602137   0.74069   \n",
       "1243  0.591419  0.774309  0.755697  0.766467  0.732934  0.762733  0.652986   \n",
       "1244   0.67696  0.846426  0.893863  0.739928  0.738394  0.726147  0.667488   \n",
       "\n",
       "             G        G♯         A        A♯         B  \n",
       "0     0.652771  0.634898  0.795076  0.686735  0.548303  \n",
       "1     0.456542  0.362441  0.525708  0.523698  0.446788  \n",
       "2     0.543713  0.391207  0.608804  0.456716  0.571541  \n",
       "3     0.601313  0.699403    0.9512  0.608406  0.528843  \n",
       "4     0.348728  0.465487  0.361078  0.452525  0.483885  \n",
       "...        ...       ...       ...       ...       ...  \n",
       "1240  0.535898  0.471509  0.548771  0.590904  0.711907  \n",
       "1241  0.841961  0.750123  0.688432  0.574847  0.506306  \n",
       "1242  0.692392  0.658508  0.673158  0.708672  0.657713  \n",
       "1243  0.711504  0.611182  0.504581  0.633147  0.612522  \n",
       "1244  0.589644  0.546344  0.544755  0.643963   0.65768  \n",
       "\n",
       "[1245 rows x 12 columns]"
      ]
     },
     "execution_count": 30,
     "metadata": {},
     "output_type": "execute_result"
    }
   ],
   "source": [
    "ch_df = dataframe_creator(chro,\n",
    "                         df =pd.DataFrame(columns = col_chro), columns = col_chro, l = 12)\n",
    "\n",
    "ch_df.reset_index(drop = True, inplace = True)\n",
    "ch_df"
   ]
  },
  {
   "cell_type": "code",
   "execution_count": 31,
   "id": "81a61a1e",
   "metadata": {},
   "outputs": [],
   "source": [
    "ch_df.to_csv(path + \"/present_AV_chromogram.csv\")"
   ]
  },
  {
   "cell_type": "markdown",
   "id": "cce74b21",
   "metadata": {},
   "source": [
    "## Tempogram\n",
    "\n",
    "Compute the tempogram: local autocorrelation of the onset strength envelope.\n",
    "\n",
    "# kendime not tempogram değerlerini spektogram değerleri gibi kaydet."
   ]
  },
  {
   "cell_type": "code",
   "execution_count": 24,
   "id": "c9f3130a",
   "metadata": {},
   "outputs": [],
   "source": [
    "def tempo_average(array): # 192,79\n",
    "    means= []\n",
    "    for i in range(array.shape[0]): #192\n",
    "        means.append(array[i].mean())\n",
    "    return np.array(means) # 192\n",
    "        "
   ]
  },
  {
   "cell_type": "code",
   "execution_count": 25,
   "id": "9d9179b5",
   "metadata": {},
   "outputs": [],
   "source": [
    "def tempogram(array = 0, hop_lenght = 12000, sampling_rate = 256):\n",
    "    \n",
    "    oenv = librosa.onset.onset_strength(y=np.array(array), \n",
    "                                            sr=sampling_rate, \n",
    "                                        lag =3)\n",
    "\n",
    "    times = librosa.times_like(oenv, sr=sampling_rate, hop_length=12000)\n",
    "\n",
    "    tempogram = librosa.feature.tempogram(onset_envelope = oenv, sr = sampling_rate,\n",
    "                                              hop_length = hop_lenght, win_length = 192 )\n",
    "    # Estimate the global tempo for display purposes\n",
    "    #tempo = librosa.beat.tempo(onset_envelope=oenv, sr= sampling_rate,\n",
    "                                   #hop_length=hop_length)[0]\n",
    "    return tempogram"
   ]
  },
  {
   "cell_type": "code",
   "execution_count": 26,
   "id": "4ec648a1",
   "metadata": {},
   "outputs": [
    {
     "data": {
      "text/plain": [
       "(192, 79)"
      ]
     },
     "execution_count": 26,
     "metadata": {},
     "output_type": "execute_result"
    }
   ],
   "source": [
    "tempogram(waves[0]).shape"
   ]
  },
  {
   "cell_type": "code",
   "execution_count": 27,
   "id": "d113b2df",
   "metadata": {},
   "outputs": [
    {
     "data": {
      "text/plain": [
       "array([1., 1., 1., 1., 1., 1., 1., 1., 1., 1., 1., 1., 1., 1., 1., 1., 1.,\n",
       "       1., 1., 1., 1., 1., 1., 1., 1., 1., 1., 1., 1., 1., 1., 1., 1., 1.,\n",
       "       1., 1., 1., 1., 1., 1., 1., 1., 1., 1., 1., 1., 1., 1., 1., 1., 1.,\n",
       "       1., 1., 1., 1., 1., 1., 1., 1., 1., 1., 1., 1., 1., 1., 1., 1., 1.,\n",
       "       1., 1., 1., 1., 1., 1., 1., 1., 1., 1., 1.])"
      ]
     },
     "execution_count": 27,
     "metadata": {},
     "output_type": "execute_result"
    }
   ],
   "source": [
    "tempogram(waves[0])[0]"
   ]
  },
  {
   "cell_type": "code",
   "execution_count": 28,
   "id": "4dd11e0a",
   "metadata": {},
   "outputs": [
    {
     "data": {
      "text/plain": [
       "array([0.8561235 , 0.85548554, 0.85487138, 0.85428005, 0.85371058,\n",
       "       0.85316202, 0.85263345, 0.85212398, 0.85163273, 0.85115887,\n",
       "       0.85070158, 0.8502601 , 0.8498337 , 0.84942165, 0.8490233 ,\n",
       "       0.848638  , 0.84826513, 0.84790413, 0.84755443, 0.84721552,\n",
       "       0.8468869 , 0.84656809, 0.84625865, 0.84595816, 0.8456662 ,\n",
       "       0.84538241, 0.8451064 , 0.84483785, 0.84457642, 0.84432181,\n",
       "       0.84407371, 0.84383186, 0.84359598, 0.84336582, 0.84314115,\n",
       "       0.84292173, 0.84270736, 0.84249781, 0.84229291, 0.84209246,\n",
       "       0.84189629, 0.84170422, 0.84151611, 0.84133179, 0.84115112,\n",
       "       0.84097396, 0.84080019, 0.84062967, 0.84046229, 0.84029793,\n",
       "       0.84013649, 0.83997787, 0.83982195, 0.83966867, 0.83951791,\n",
       "       0.83936961, 0.83922367, 0.83908003, 0.83893861, 0.83879935,\n",
       "       0.83866217, 0.83852703, 0.83839385, 0.83826259, 0.8381332 ,\n",
       "       0.83800563, 0.83787983, 0.83775577, 0.8376334 , 0.83751269,\n",
       "       0.83739361, 0.83727613, 0.83716022, 0.83704587, 0.83693305,\n",
       "       0.83682174, 0.83671194, 0.83660364, 0.83649683])"
      ]
     },
     "execution_count": 28,
     "metadata": {},
     "output_type": "execute_result"
    }
   ],
   "source": [
    "tempogram(waves[0])[1]"
   ]
  },
  {
   "cell_type": "code",
   "execution_count": 29,
   "id": "1ecf758c",
   "metadata": {},
   "outputs": [
    {
     "data": {
      "text/plain": [
       "array([ 1.00000000e+00,  8.43399877e-01,  5.57348720e-01,  3.59643668e-01,\n",
       "        3.09305245e-01,  3.50489052e-01,  4.13375578e-01,  4.13658140e-01,\n",
       "        3.28709075e-01,  2.14437606e-01,  1.51859251e-01,  1.80959733e-01,\n",
       "        2.75179498e-01,  3.67455655e-01,  3.87013972e-01,  3.26231080e-01,\n",
       "        2.42306628e-01,  1.88238763e-01,  1.83516420e-01,  2.02682434e-01,\n",
       "        2.43978479e-01,  2.77678277e-01,  2.71409920e-01,  2.16961380e-01,\n",
       "        1.59856950e-01,  1.30794496e-01,  1.32857646e-01,  1.40747228e-01,\n",
       "        1.41528621e-01,  1.31341940e-01,  1.20644898e-01,  1.23296493e-01,\n",
       "        1.39684886e-01,  1.61722960e-01,  1.77953904e-01,  1.75265630e-01,\n",
       "        1.56202215e-01,  1.36740586e-01,  1.33967936e-01,  1.40228379e-01,\n",
       "        1.38467329e-01,  1.19319765e-01,  9.86757408e-02,  8.59488657e-02,\n",
       "        8.63008680e-02,  9.39775819e-02,  1.00716301e-01,  9.17585294e-02,\n",
       "        7.05703181e-02,  4.59453386e-02,  3.31365991e-02,  3.36303040e-02,\n",
       "        3.77085591e-02,  3.86584672e-02,  3.54679765e-02,  2.72557997e-02,\n",
       "        2.03884983e-02,  1.91907506e-02,  1.97841515e-02,  2.08323722e-02,\n",
       "        2.11090111e-02,  1.63723017e-02,  1.04037017e-02,  5.65390928e-03,\n",
       "        2.77571004e-03,  2.22474999e-03,  2.49690216e-03,  2.30557283e-03,\n",
       "        2.17150599e-03,  1.74951957e-03,  9.17806626e-04,  5.89091586e-04,\n",
       "        4.81990897e-04,  4.16192588e-04,  3.91981968e-04,  3.68837134e-04,\n",
       "        3.46735730e-04,  3.25654403e-04,  3.05568730e-04,  2.86453134e-04,\n",
       "        2.68281145e-04,  2.51025709e-04,  2.34659363e-04,  2.19154268e-04,\n",
       "        2.04481867e-04,  1.90612992e-04,  1.77518253e-04,  1.65168211e-04,\n",
       "        1.53533600e-04,  1.42585290e-04,  1.32294103e-04,  1.22630912e-04,\n",
       "        1.13566649e-04,  1.05072648e-04,  9.71210757e-05,  8.96849172e-05,\n",
       "        8.27379676e-05,  7.62548247e-05,  7.02108858e-05,  6.45823475e-05,\n",
       "        5.93462052e-05,  5.44802551e-05,  4.99630945e-05,  4.57741183e-05,\n",
       "        4.18935210e-05,  3.83023033e-05,  3.49822786e-05,  3.19160827e-05,\n",
       "        2.90871762e-05,  2.64798277e-05,  2.40790774e-05,  2.18706922e-05,\n",
       "        1.98411291e-05,  1.79775263e-05,  1.62677104e-05,  1.47002060e-05,\n",
       "        1.32642413e-05,  1.19497409e-05,  1.07473073e-05,  9.64821408e-06,\n",
       "        8.64441214e-06,  7.72853601e-06,  6.89389806e-06,  6.13443336e-06,\n",
       "        5.44458721e-06,  4.81920502e-06,  4.25346851e-06,  3.74286864e-06,\n",
       "        3.28318188e-06,  2.87044712e-06,  2.50094308e-06,  2.17116531e-06,\n",
       "        1.87780273e-06,  1.61772311e-06,  1.38796759e-06,  1.18574854e-06,\n",
       "        1.00844818e-06,  8.53615857e-07,  7.18964223e-07,  6.02365469e-07,\n",
       "        5.01849059e-07,  4.15600445e-07,  3.41959445e-07,  2.79417195e-07,\n",
       "        2.26610647e-07,  1.82312181e-07,  1.45414506e-07,  1.14917463e-07,\n",
       "        8.99188514e-08,  6.96093429e-08,  5.32672699e-08,  4.02529767e-08,\n",
       "        3.00033879e-08,  2.20270846e-08,  1.58998916e-08,  1.12602360e-08,\n",
       "        7.80340665e-09,  5.27540490e-09,  3.46607094e-09,  2.20262942e-09,\n",
       "        1.34491351e-09,  7.81451154e-10,  4.26088701e-10,  2.13828664e-10,\n",
       "        9.60103863e-11,  3.69497072e-11,  1.13468001e-11,  2.38986594e-12,\n",
       "        2.20307690e-13, -6.13767415e-19, -7.18426560e-18,  3.49977885e-18,\n",
       "       -1.59022508e-17, -8.12270531e-18, -1.02494832e-17,  1.12767384e-17,\n",
       "        2.39167129e-17, -4.96955144e-18,  2.10932623e-19,  3.98527351e-18,\n",
       "        8.13166756e-18,  2.37772155e-17,  9.87437956e-21,  4.72841927e-18,\n",
       "        3.27730808e-18,  5.39567571e-18,  1.49742322e-17, -1.00009861e-18,\n",
       "        8.46051429e-18,  1.39551319e-17,  5.44784684e-18,  1.59415780e-17])"
      ]
     },
     "execution_count": 29,
     "metadata": {},
     "output_type": "execute_result"
    }
   ],
   "source": [
    "tempo_average(tempogram(waves[0]))"
   ]
  },
  {
   "cell_type": "markdown",
   "id": "26896649",
   "metadata": {},
   "source": [
    "# tempogram(waves[0])[0]"
   ]
  },
  {
   "cell_type": "code",
   "execution_count": 30,
   "id": "5f49f3c2",
   "metadata": {},
   "outputs": [],
   "source": [
    "def temp_values(array):\n",
    "    final = np.ones(shape = (array.shape[0], 192))\n",
    "    for i in range(array.shape[0]): #8bin civarı\n",
    "        \n",
    "        _x = tempogram(array[i]) #1,4000   #192,79\n",
    "        #print(_x.shape)\n",
    "        final[i] = tempo_average(_x) #192\n",
    "        \n",
    "        \n",
    "    return final"
   ]
  },
  {
   "cell_type": "code",
   "execution_count": 31,
   "id": "a2c80c43",
   "metadata": {},
   "outputs": [],
   "source": [
    "temp = temp_values(waves) #çok uzun sürüyor \n"
   ]
  },
  {
   "cell_type": "code",
   "execution_count": 32,
   "id": "c97cff81",
   "metadata": {},
   "outputs": [
    {
     "data": {
      "text/plain": [
       "numpy.ndarray"
      ]
     },
     "execution_count": 32,
     "metadata": {},
     "output_type": "execute_result"
    }
   ],
   "source": [
    "type(temp)"
   ]
  },
  {
   "cell_type": "code",
   "execution_count": 33,
   "id": "346fc135",
   "metadata": {},
   "outputs": [],
   "source": [
    "np.save(path + \"/present_AV_tempgram_array\", temp, allow_pickle= True)"
   ]
  },
  {
   "cell_type": "code",
   "execution_count": 40,
   "id": "d6bf375d",
   "metadata": {},
   "outputs": [
    {
     "data": {
      "text/plain": [
       "(1245, 192)"
      ]
     },
     "execution_count": 40,
     "metadata": {},
     "output_type": "execute_result"
    }
   ],
   "source": [
    "temp.shape"
   ]
  },
  {
   "cell_type": "code",
   "execution_count": 41,
   "id": "925ec0d1",
   "metadata": {},
   "outputs": [
    {
     "name": "stdout",
     "output_type": "stream",
     "text": [
      "['tempogram_0', 'tempogram_1', 'tempogram_2', 'tempogram_3', 'tempogram_4', 'tempogram_5', 'tempogram_6', 'tempogram_7', 'tempogram_8', 'tempogram_9', 'tempogram_10', 'tempogram_11', 'tempogram_12', 'tempogram_13', 'tempogram_14', 'tempogram_15', 'tempogram_16', 'tempogram_17', 'tempogram_18', 'tempogram_19', 'tempogram_20', 'tempogram_21', 'tempogram_22', 'tempogram_23', 'tempogram_24', 'tempogram_25', 'tempogram_26', 'tempogram_27', 'tempogram_28', 'tempogram_29', 'tempogram_30', 'tempogram_31', 'tempogram_32', 'tempogram_33', 'tempogram_34', 'tempogram_35', 'tempogram_36', 'tempogram_37', 'tempogram_38', 'tempogram_39', 'tempogram_40', 'tempogram_41', 'tempogram_42', 'tempogram_43', 'tempogram_44', 'tempogram_45', 'tempogram_46', 'tempogram_47', 'tempogram_48', 'tempogram_49', 'tempogram_50', 'tempogram_51', 'tempogram_52', 'tempogram_53', 'tempogram_54', 'tempogram_55', 'tempogram_56', 'tempogram_57', 'tempogram_58', 'tempogram_59', 'tempogram_60', 'tempogram_61', 'tempogram_62', 'tempogram_63', 'tempogram_64', 'tempogram_65', 'tempogram_66', 'tempogram_67', 'tempogram_68', 'tempogram_69', 'tempogram_70', 'tempogram_71', 'tempogram_72', 'tempogram_73', 'tempogram_74', 'tempogram_75', 'tempogram_76', 'tempogram_77', 'tempogram_78', 'tempogram_79', 'tempogram_80', 'tempogram_81', 'tempogram_82', 'tempogram_83', 'tempogram_84', 'tempogram_85', 'tempogram_86', 'tempogram_87', 'tempogram_88', 'tempogram_89', 'tempogram_90', 'tempogram_91', 'tempogram_92', 'tempogram_93', 'tempogram_94', 'tempogram_95', 'tempogram_96', 'tempogram_97', 'tempogram_98', 'tempogram_99', 'tempogram_100', 'tempogram_101', 'tempogram_102', 'tempogram_103', 'tempogram_104', 'tempogram_105', 'tempogram_106', 'tempogram_107', 'tempogram_108', 'tempogram_109', 'tempogram_110', 'tempogram_111', 'tempogram_112', 'tempogram_113', 'tempogram_114', 'tempogram_115', 'tempogram_116', 'tempogram_117', 'tempogram_118', 'tempogram_119', 'tempogram_120', 'tempogram_121', 'tempogram_122', 'tempogram_123', 'tempogram_124', 'tempogram_125', 'tempogram_126', 'tempogram_127', 'tempogram_128', 'tempogram_129', 'tempogram_130', 'tempogram_131', 'tempogram_132', 'tempogram_133', 'tempogram_134', 'tempogram_135', 'tempogram_136', 'tempogram_137', 'tempogram_138', 'tempogram_139', 'tempogram_140', 'tempogram_141', 'tempogram_142', 'tempogram_143', 'tempogram_144', 'tempogram_145', 'tempogram_146', 'tempogram_147', 'tempogram_148', 'tempogram_149', 'tempogram_150', 'tempogram_151', 'tempogram_152', 'tempogram_153', 'tempogram_154', 'tempogram_155', 'tempogram_156', 'tempogram_157', 'tempogram_158', 'tempogram_159', 'tempogram_160', 'tempogram_161', 'tempogram_162', 'tempogram_163', 'tempogram_164', 'tempogram_165', 'tempogram_166', 'tempogram_167', 'tempogram_168', 'tempogram_169', 'tempogram_170', 'tempogram_171', 'tempogram_172', 'tempogram_173', 'tempogram_174', 'tempogram_175', 'tempogram_176', 'tempogram_177', 'tempogram_178', 'tempogram_179', 'tempogram_180', 'tempogram_181', 'tempogram_182', 'tempogram_183', 'tempogram_184', 'tempogram_185', 'tempogram_186', 'tempogram_187', 'tempogram_188', 'tempogram_189', 'tempogram_190', 'tempogram_191']\n"
     ]
    }
   ],
   "source": [
    "columns_t = []\n",
    "for i in range(temp.shape[1]):\n",
    "    columns_t.append(\"tempogram_{}\".format(i))\n",
    "print(columns_t)"
   ]
  },
  {
   "cell_type": "code",
   "execution_count": 42,
   "id": "e5ef312f",
   "metadata": {},
   "outputs": [
    {
     "data": {
      "text/plain": [
       "192"
      ]
     },
     "execution_count": 42,
     "metadata": {},
     "output_type": "execute_result"
    }
   ],
   "source": [
    "len(columns_t)"
   ]
  },
  {
   "cell_type": "code",
   "execution_count": 43,
   "id": "c1f3b527",
   "metadata": {},
   "outputs": [
    {
     "data": {
      "text/html": [
       "<div>\n",
       "<style scoped>\n",
       "    .dataframe tbody tr th:only-of-type {\n",
       "        vertical-align: middle;\n",
       "    }\n",
       "\n",
       "    .dataframe tbody tr th {\n",
       "        vertical-align: top;\n",
       "    }\n",
       "\n",
       "    .dataframe thead th {\n",
       "        text-align: right;\n",
       "    }\n",
       "</style>\n",
       "<table border=\"1\" class=\"dataframe\">\n",
       "  <thead>\n",
       "    <tr style=\"text-align: right;\">\n",
       "      <th></th>\n",
       "      <th>tempogram_0</th>\n",
       "      <th>tempogram_1</th>\n",
       "      <th>tempogram_2</th>\n",
       "      <th>tempogram_3</th>\n",
       "      <th>tempogram_4</th>\n",
       "      <th>tempogram_5</th>\n",
       "      <th>tempogram_6</th>\n",
       "      <th>tempogram_7</th>\n",
       "      <th>tempogram_8</th>\n",
       "      <th>tempogram_9</th>\n",
       "      <th>...</th>\n",
       "      <th>tempogram_182</th>\n",
       "      <th>tempogram_183</th>\n",
       "      <th>tempogram_184</th>\n",
       "      <th>tempogram_185</th>\n",
       "      <th>tempogram_186</th>\n",
       "      <th>tempogram_187</th>\n",
       "      <th>tempogram_188</th>\n",
       "      <th>tempogram_189</th>\n",
       "      <th>tempogram_190</th>\n",
       "      <th>tempogram_191</th>\n",
       "    </tr>\n",
       "  </thead>\n",
       "  <tbody>\n",
       "    <tr>\n",
       "      <th>0</th>\n",
       "      <td>1.0</td>\n",
       "      <td>0.8434</td>\n",
       "      <td>0.557349</td>\n",
       "      <td>0.359644</td>\n",
       "      <td>0.309305</td>\n",
       "      <td>0.350489</td>\n",
       "      <td>0.413376</td>\n",
       "      <td>0.413658</td>\n",
       "      <td>0.328709</td>\n",
       "      <td>0.214438</td>\n",
       "      <td>...</td>\n",
       "      <td>0.0</td>\n",
       "      <td>0.0</td>\n",
       "      <td>0.0</td>\n",
       "      <td>0.0</td>\n",
       "      <td>0.0</td>\n",
       "      <td>-0.0</td>\n",
       "      <td>0.0</td>\n",
       "      <td>0.0</td>\n",
       "      <td>0.0</td>\n",
       "      <td>0.0</td>\n",
       "    </tr>\n",
       "    <tr>\n",
       "      <th>1</th>\n",
       "      <td>1.0</td>\n",
       "      <td>0.882399</td>\n",
       "      <td>0.725761</td>\n",
       "      <td>0.635454</td>\n",
       "      <td>0.573637</td>\n",
       "      <td>0.489803</td>\n",
       "      <td>0.437378</td>\n",
       "      <td>0.436594</td>\n",
       "      <td>0.430984</td>\n",
       "      <td>0.393128</td>\n",
       "      <td>...</td>\n",
       "      <td>0.0</td>\n",
       "      <td>0.0</td>\n",
       "      <td>0.0</td>\n",
       "      <td>0.0</td>\n",
       "      <td>0.0</td>\n",
       "      <td>-0.0</td>\n",
       "      <td>0.0</td>\n",
       "      <td>0.0</td>\n",
       "      <td>0.0</td>\n",
       "      <td>0.0</td>\n",
       "    </tr>\n",
       "    <tr>\n",
       "      <th>2</th>\n",
       "      <td>1.0</td>\n",
       "      <td>0.854323</td>\n",
       "      <td>0.664424</td>\n",
       "      <td>0.565808</td>\n",
       "      <td>0.555001</td>\n",
       "      <td>0.600864</td>\n",
       "      <td>0.626286</td>\n",
       "      <td>0.589928</td>\n",
       "      <td>0.536845</td>\n",
       "      <td>0.546189</td>\n",
       "      <td>...</td>\n",
       "      <td>-0.0</td>\n",
       "      <td>0.0</td>\n",
       "      <td>0.0</td>\n",
       "      <td>0.0</td>\n",
       "      <td>0.0</td>\n",
       "      <td>-0.0</td>\n",
       "      <td>0.0</td>\n",
       "      <td>0.0</td>\n",
       "      <td>0.0</td>\n",
       "      <td>0.0</td>\n",
       "    </tr>\n",
       "    <tr>\n",
       "      <th>3</th>\n",
       "      <td>1.0</td>\n",
       "      <td>0.899384</td>\n",
       "      <td>0.773453</td>\n",
       "      <td>0.704222</td>\n",
       "      <td>0.665984</td>\n",
       "      <td>0.648255</td>\n",
       "      <td>0.645782</td>\n",
       "      <td>0.64042</td>\n",
       "      <td>0.611828</td>\n",
       "      <td>0.593942</td>\n",
       "      <td>...</td>\n",
       "      <td>0.0</td>\n",
       "      <td>0.0</td>\n",
       "      <td>0.0</td>\n",
       "      <td>0.0</td>\n",
       "      <td>0.0</td>\n",
       "      <td>-0.0</td>\n",
       "      <td>0.0</td>\n",
       "      <td>0.0</td>\n",
       "      <td>0.0</td>\n",
       "      <td>0.0</td>\n",
       "    </tr>\n",
       "    <tr>\n",
       "      <th>4</th>\n",
       "      <td>1.0</td>\n",
       "      <td>0.826168</td>\n",
       "      <td>0.617815</td>\n",
       "      <td>0.50243</td>\n",
       "      <td>0.481798</td>\n",
       "      <td>0.528359</td>\n",
       "      <td>0.5518</td>\n",
       "      <td>0.521989</td>\n",
       "      <td>0.480969</td>\n",
       "      <td>0.490861</td>\n",
       "      <td>...</td>\n",
       "      <td>-0.0</td>\n",
       "      <td>0.0</td>\n",
       "      <td>0.0</td>\n",
       "      <td>0.0</td>\n",
       "      <td>0.0</td>\n",
       "      <td>-0.0</td>\n",
       "      <td>0.0</td>\n",
       "      <td>0.0</td>\n",
       "      <td>0.0</td>\n",
       "      <td>0.0</td>\n",
       "    </tr>\n",
       "    <tr>\n",
       "      <th>...</th>\n",
       "      <td>...</td>\n",
       "      <td>...</td>\n",
       "      <td>...</td>\n",
       "      <td>...</td>\n",
       "      <td>...</td>\n",
       "      <td>...</td>\n",
       "      <td>...</td>\n",
       "      <td>...</td>\n",
       "      <td>...</td>\n",
       "      <td>...</td>\n",
       "      <td>...</td>\n",
       "      <td>...</td>\n",
       "      <td>...</td>\n",
       "      <td>...</td>\n",
       "      <td>...</td>\n",
       "      <td>...</td>\n",
       "      <td>...</td>\n",
       "      <td>...</td>\n",
       "      <td>...</td>\n",
       "      <td>...</td>\n",
       "      <td>...</td>\n",
       "    </tr>\n",
       "    <tr>\n",
       "      <th>1240</th>\n",
       "      <td>1.0</td>\n",
       "      <td>0.805165</td>\n",
       "      <td>0.46928</td>\n",
       "      <td>0.239362</td>\n",
       "      <td>0.147428</td>\n",
       "      <td>0.128969</td>\n",
       "      <td>0.140688</td>\n",
       "      <td>0.185682</td>\n",
       "      <td>0.318804</td>\n",
       "      <td>0.502398</td>\n",
       "      <td>...</td>\n",
       "      <td>-0.0</td>\n",
       "      <td>-0.0</td>\n",
       "      <td>0.0</td>\n",
       "      <td>0.0</td>\n",
       "      <td>0.0</td>\n",
       "      <td>-0.0</td>\n",
       "      <td>0.0</td>\n",
       "      <td>0.0</td>\n",
       "      <td>0.0</td>\n",
       "      <td>0.0</td>\n",
       "    </tr>\n",
       "    <tr>\n",
       "      <th>1241</th>\n",
       "      <td>1.0</td>\n",
       "      <td>0.881446</td>\n",
       "      <td>0.67765</td>\n",
       "      <td>0.529523</td>\n",
       "      <td>0.469412</td>\n",
       "      <td>0.46091</td>\n",
       "      <td>0.443421</td>\n",
       "      <td>0.422358</td>\n",
       "      <td>0.429078</td>\n",
       "      <td>0.44685</td>\n",
       "      <td>...</td>\n",
       "      <td>-0.0</td>\n",
       "      <td>0.0</td>\n",
       "      <td>0.0</td>\n",
       "      <td>0.0</td>\n",
       "      <td>0.0</td>\n",
       "      <td>-0.0</td>\n",
       "      <td>0.0</td>\n",
       "      <td>0.0</td>\n",
       "      <td>0.0</td>\n",
       "      <td>0.0</td>\n",
       "    </tr>\n",
       "    <tr>\n",
       "      <th>1242</th>\n",
       "      <td>1.0</td>\n",
       "      <td>0.831436</td>\n",
       "      <td>0.549259</td>\n",
       "      <td>0.376706</td>\n",
       "      <td>0.342791</td>\n",
       "      <td>0.378616</td>\n",
       "      <td>0.447511</td>\n",
       "      <td>0.487494</td>\n",
       "      <td>0.46812</td>\n",
       "      <td>0.448784</td>\n",
       "      <td>...</td>\n",
       "      <td>-0.0</td>\n",
       "      <td>0.0</td>\n",
       "      <td>0.0</td>\n",
       "      <td>0.0</td>\n",
       "      <td>0.0</td>\n",
       "      <td>-0.0</td>\n",
       "      <td>0.0</td>\n",
       "      <td>0.0</td>\n",
       "      <td>0.0</td>\n",
       "      <td>0.0</td>\n",
       "    </tr>\n",
       "    <tr>\n",
       "      <th>1243</th>\n",
       "      <td>1.0</td>\n",
       "      <td>0.788857</td>\n",
       "      <td>0.501455</td>\n",
       "      <td>0.334233</td>\n",
       "      <td>0.295239</td>\n",
       "      <td>0.246897</td>\n",
       "      <td>0.169463</td>\n",
       "      <td>0.172643</td>\n",
       "      <td>0.225298</td>\n",
       "      <td>0.279641</td>\n",
       "      <td>...</td>\n",
       "      <td>0.0</td>\n",
       "      <td>0.0</td>\n",
       "      <td>0.0</td>\n",
       "      <td>0.0</td>\n",
       "      <td>0.0</td>\n",
       "      <td>0.0</td>\n",
       "      <td>0.0</td>\n",
       "      <td>0.0</td>\n",
       "      <td>0.0</td>\n",
       "      <td>0.0</td>\n",
       "    </tr>\n",
       "    <tr>\n",
       "      <th>1244</th>\n",
       "      <td>1.0</td>\n",
       "      <td>0.70836</td>\n",
       "      <td>0.346461</td>\n",
       "      <td>0.243768</td>\n",
       "      <td>0.351411</td>\n",
       "      <td>0.477016</td>\n",
       "      <td>0.48405</td>\n",
       "      <td>0.439775</td>\n",
       "      <td>0.337649</td>\n",
       "      <td>0.306546</td>\n",
       "      <td>...</td>\n",
       "      <td>0.0</td>\n",
       "      <td>0.0</td>\n",
       "      <td>0.0</td>\n",
       "      <td>0.0</td>\n",
       "      <td>0.0</td>\n",
       "      <td>0.0</td>\n",
       "      <td>0.0</td>\n",
       "      <td>0.0</td>\n",
       "      <td>0.0</td>\n",
       "      <td>0.0</td>\n",
       "    </tr>\n",
       "  </tbody>\n",
       "</table>\n",
       "<p>1245 rows × 192 columns</p>\n",
       "</div>"
      ],
      "text/plain": [
       "     tempogram_0 tempogram_1 tempogram_2 tempogram_3 tempogram_4 tempogram_5  \\\n",
       "0            1.0      0.8434    0.557349    0.359644    0.309305    0.350489   \n",
       "1            1.0    0.882399    0.725761    0.635454    0.573637    0.489803   \n",
       "2            1.0    0.854323    0.664424    0.565808    0.555001    0.600864   \n",
       "3            1.0    0.899384    0.773453    0.704222    0.665984    0.648255   \n",
       "4            1.0    0.826168    0.617815     0.50243    0.481798    0.528359   \n",
       "...          ...         ...         ...         ...         ...         ...   \n",
       "1240         1.0    0.805165     0.46928    0.239362    0.147428    0.128969   \n",
       "1241         1.0    0.881446     0.67765    0.529523    0.469412     0.46091   \n",
       "1242         1.0    0.831436    0.549259    0.376706    0.342791    0.378616   \n",
       "1243         1.0    0.788857    0.501455    0.334233    0.295239    0.246897   \n",
       "1244         1.0     0.70836    0.346461    0.243768    0.351411    0.477016   \n",
       "\n",
       "     tempogram_6 tempogram_7 tempogram_8 tempogram_9  ... tempogram_182  \\\n",
       "0       0.413376    0.413658    0.328709    0.214438  ...           0.0   \n",
       "1       0.437378    0.436594    0.430984    0.393128  ...           0.0   \n",
       "2       0.626286    0.589928    0.536845    0.546189  ...          -0.0   \n",
       "3       0.645782     0.64042    0.611828    0.593942  ...           0.0   \n",
       "4         0.5518    0.521989    0.480969    0.490861  ...          -0.0   \n",
       "...          ...         ...         ...         ...  ...           ...   \n",
       "1240    0.140688    0.185682    0.318804    0.502398  ...          -0.0   \n",
       "1241    0.443421    0.422358    0.429078     0.44685  ...          -0.0   \n",
       "1242    0.447511    0.487494     0.46812    0.448784  ...          -0.0   \n",
       "1243    0.169463    0.172643    0.225298    0.279641  ...           0.0   \n",
       "1244     0.48405    0.439775    0.337649    0.306546  ...           0.0   \n",
       "\n",
       "     tempogram_183 tempogram_184 tempogram_185 tempogram_186 tempogram_187  \\\n",
       "0              0.0           0.0           0.0           0.0          -0.0   \n",
       "1              0.0           0.0           0.0           0.0          -0.0   \n",
       "2              0.0           0.0           0.0           0.0          -0.0   \n",
       "3              0.0           0.0           0.0           0.0          -0.0   \n",
       "4              0.0           0.0           0.0           0.0          -0.0   \n",
       "...            ...           ...           ...           ...           ...   \n",
       "1240          -0.0           0.0           0.0           0.0          -0.0   \n",
       "1241           0.0           0.0           0.0           0.0          -0.0   \n",
       "1242           0.0           0.0           0.0           0.0          -0.0   \n",
       "1243           0.0           0.0           0.0           0.0           0.0   \n",
       "1244           0.0           0.0           0.0           0.0           0.0   \n",
       "\n",
       "     tempogram_188 tempogram_189 tempogram_190 tempogram_191  \n",
       "0              0.0           0.0           0.0           0.0  \n",
       "1              0.0           0.0           0.0           0.0  \n",
       "2              0.0           0.0           0.0           0.0  \n",
       "3              0.0           0.0           0.0           0.0  \n",
       "4              0.0           0.0           0.0           0.0  \n",
       "...            ...           ...           ...           ...  \n",
       "1240           0.0           0.0           0.0           0.0  \n",
       "1241           0.0           0.0           0.0           0.0  \n",
       "1242           0.0           0.0           0.0           0.0  \n",
       "1243           0.0           0.0           0.0           0.0  \n",
       "1244           0.0           0.0           0.0           0.0  \n",
       "\n",
       "[1245 rows x 192 columns]"
      ]
     },
     "execution_count": 43,
     "metadata": {},
     "output_type": "execute_result"
    }
   ],
   "source": [
    "df_t = dataframe_creator(temp,\n",
    "                         df =pd.DataFrame(columns = columns_t), columns = columns_t, l = 192)\n",
    "\n",
    "df_t.reset_index(drop = True, inplace = True)\n",
    "df_t"
   ]
  },
  {
   "cell_type": "code",
   "execution_count": 44,
   "id": "e627f4d5",
   "metadata": {},
   "outputs": [
    {
     "data": {
      "text/plain": [
       "1.022254131105072e-17"
      ]
     },
     "execution_count": 44,
     "metadata": {},
     "output_type": "execute_result"
    }
   ],
   "source": [
    "df_t['tempogram_188'][10]"
   ]
  },
  {
   "cell_type": "code",
   "execution_count": 45,
   "id": "33bee52c",
   "metadata": {},
   "outputs": [],
   "source": [
    "df_t.to_csv(path + '/present_AV_tempogram.csv')"
   ]
  },
  {
   "cell_type": "code",
   "execution_count": 46,
   "id": "c2ae7b50",
   "metadata": {},
   "outputs": [
    {
     "data": {
      "text/plain": [
       "tempogram_0      0\n",
       "tempogram_1      0\n",
       "tempogram_2      0\n",
       "tempogram_3      0\n",
       "tempogram_4      0\n",
       "                ..\n",
       "tempogram_187    0\n",
       "tempogram_188    0\n",
       "tempogram_189    0\n",
       "tempogram_190    0\n",
       "tempogram_191    0\n",
       "Length: 192, dtype: int64"
      ]
     },
     "execution_count": 46,
     "metadata": {},
     "output_type": "execute_result"
    }
   ],
   "source": [
    "df_t.isin([0]).sum(axis=0)"
   ]
  },
  {
   "cell_type": "code",
   "execution_count": 47,
   "id": "0c13bdc2",
   "metadata": {},
   "outputs": [
    {
     "data": {
      "text/html": [
       "<div>\n",
       "<style scoped>\n",
       "    .dataframe tbody tr th:only-of-type {\n",
       "        vertical-align: middle;\n",
       "    }\n",
       "\n",
       "    .dataframe tbody tr th {\n",
       "        vertical-align: top;\n",
       "    }\n",
       "\n",
       "    .dataframe thead th {\n",
       "        text-align: right;\n",
       "    }\n",
       "</style>\n",
       "<table border=\"1\" class=\"dataframe\">\n",
       "  <thead>\n",
       "    <tr style=\"text-align: right;\">\n",
       "      <th></th>\n",
       "      <th>zcrs0</th>\n",
       "      <th>zcrs1</th>\n",
       "      <th>zcrs2</th>\n",
       "      <th>zcrs3</th>\n",
       "      <th>#ofcrossing</th>\n",
       "      <th>C</th>\n",
       "      <th>C♯</th>\n",
       "      <th>D</th>\n",
       "      <th>D♯</th>\n",
       "      <th>E</th>\n",
       "      <th>F</th>\n",
       "      <th>F♯</th>\n",
       "      <th>G</th>\n",
       "      <th>G♯</th>\n",
       "      <th>A</th>\n",
       "      <th>A♯</th>\n",
       "      <th>B</th>\n",
       "    </tr>\n",
       "  </thead>\n",
       "  <tbody>\n",
       "    <tr>\n",
       "      <th>0</th>\n",
       "      <td>0.013000</td>\n",
       "      <td>0.036000</td>\n",
       "      <td>0.035750</td>\n",
       "      <td>0.034875</td>\n",
       "      <td>1399.0</td>\n",
       "      <td>0.625998</td>\n",
       "      <td>0.482445</td>\n",
       "      <td>0.676526</td>\n",
       "      <td>0.82151</td>\n",
       "      <td>0.745005</td>\n",
       "      <td>0.671202</td>\n",
       "      <td>0.739956</td>\n",
       "      <td>0.652771</td>\n",
       "      <td>0.634898</td>\n",
       "      <td>0.795076</td>\n",
       "      <td>0.686735</td>\n",
       "      <td>0.548303</td>\n",
       "    </tr>\n",
       "    <tr>\n",
       "      <th>1</th>\n",
       "      <td>0.018250</td>\n",
       "      <td>0.031000</td>\n",
       "      <td>0.039125</td>\n",
       "      <td>0.026000</td>\n",
       "      <td>1394.0</td>\n",
       "      <td>0.502135</td>\n",
       "      <td>0.545204</td>\n",
       "      <td>0.557102</td>\n",
       "      <td>0.735404</td>\n",
       "      <td>0.724191</td>\n",
       "      <td>0.538105</td>\n",
       "      <td>0.538433</td>\n",
       "      <td>0.456542</td>\n",
       "      <td>0.362441</td>\n",
       "      <td>0.525708</td>\n",
       "      <td>0.523698</td>\n",
       "      <td>0.446788</td>\n",
       "    </tr>\n",
       "    <tr>\n",
       "      <th>2</th>\n",
       "      <td>0.019125</td>\n",
       "      <td>0.035625</td>\n",
       "      <td>0.030750</td>\n",
       "      <td>0.031500</td>\n",
       "      <td>1300.0</td>\n",
       "      <td>0.689572</td>\n",
       "      <td>0.861129</td>\n",
       "      <td>0.599657</td>\n",
       "      <td>0.457374</td>\n",
       "      <td>0.396443</td>\n",
       "      <td>0.353062</td>\n",
       "      <td>0.672715</td>\n",
       "      <td>0.543713</td>\n",
       "      <td>0.391207</td>\n",
       "      <td>0.608804</td>\n",
       "      <td>0.456716</td>\n",
       "      <td>0.571541</td>\n",
       "    </tr>\n",
       "    <tr>\n",
       "      <th>3</th>\n",
       "      <td>0.015125</td>\n",
       "      <td>0.036625</td>\n",
       "      <td>0.031125</td>\n",
       "      <td>0.032000</td>\n",
       "      <td>1299.0</td>\n",
       "      <td>0.575298</td>\n",
       "      <td>0.466166</td>\n",
       "      <td>0.447056</td>\n",
       "      <td>0.421602</td>\n",
       "      <td>0.51861</td>\n",
       "      <td>0.330166</td>\n",
       "      <td>0.372173</td>\n",
       "      <td>0.601313</td>\n",
       "      <td>0.699403</td>\n",
       "      <td>0.9512</td>\n",
       "      <td>0.608406</td>\n",
       "      <td>0.528843</td>\n",
       "    </tr>\n",
       "    <tr>\n",
       "      <th>4</th>\n",
       "      <td>0.017625</td>\n",
       "      <td>0.028625</td>\n",
       "      <td>0.039500</td>\n",
       "      <td>0.034000</td>\n",
       "      <td>1344.0</td>\n",
       "      <td>0.325563</td>\n",
       "      <td>0.268573</td>\n",
       "      <td>0.197883</td>\n",
       "      <td>0.211158</td>\n",
       "      <td>0.457757</td>\n",
       "      <td>0.713487</td>\n",
       "      <td>0.548991</td>\n",
       "      <td>0.348728</td>\n",
       "      <td>0.465487</td>\n",
       "      <td>0.361078</td>\n",
       "      <td>0.452525</td>\n",
       "      <td>0.483885</td>\n",
       "    </tr>\n",
       "    <tr>\n",
       "      <th>...</th>\n",
       "      <td>...</td>\n",
       "      <td>...</td>\n",
       "      <td>...</td>\n",
       "      <td>...</td>\n",
       "      <td>...</td>\n",
       "      <td>...</td>\n",
       "      <td>...</td>\n",
       "      <td>...</td>\n",
       "      <td>...</td>\n",
       "      <td>...</td>\n",
       "      <td>...</td>\n",
       "      <td>...</td>\n",
       "      <td>...</td>\n",
       "      <td>...</td>\n",
       "      <td>...</td>\n",
       "      <td>...</td>\n",
       "      <td>...</td>\n",
       "    </tr>\n",
       "    <tr>\n",
       "      <th>1240</th>\n",
       "      <td>0.015875</td>\n",
       "      <td>0.018500</td>\n",
       "      <td>0.012750</td>\n",
       "      <td>0.009125</td>\n",
       "      <td>666.0</td>\n",
       "      <td>0.531967</td>\n",
       "      <td>0.431299</td>\n",
       "      <td>0.512284</td>\n",
       "      <td>0.447102</td>\n",
       "      <td>0.548669</td>\n",
       "      <td>0.62862</td>\n",
       "      <td>0.611953</td>\n",
       "      <td>0.535898</td>\n",
       "      <td>0.471509</td>\n",
       "      <td>0.548771</td>\n",
       "      <td>0.590904</td>\n",
       "      <td>0.711907</td>\n",
       "    </tr>\n",
       "    <tr>\n",
       "      <th>1241</th>\n",
       "      <td>0.015000</td>\n",
       "      <td>0.007500</td>\n",
       "      <td>0.008500</td>\n",
       "      <td>0.015750</td>\n",
       "      <td>579.0</td>\n",
       "      <td>0.476936</td>\n",
       "      <td>0.417324</td>\n",
       "      <td>0.468095</td>\n",
       "      <td>0.512506</td>\n",
       "      <td>0.615219</td>\n",
       "      <td>0.775425</td>\n",
       "      <td>0.910564</td>\n",
       "      <td>0.841961</td>\n",
       "      <td>0.750123</td>\n",
       "      <td>0.688432</td>\n",
       "      <td>0.574847</td>\n",
       "      <td>0.506306</td>\n",
       "    </tr>\n",
       "    <tr>\n",
       "      <th>1242</th>\n",
       "      <td>0.003875</td>\n",
       "      <td>0.016875</td>\n",
       "      <td>0.018250</td>\n",
       "      <td>0.008875</td>\n",
       "      <td>495.0</td>\n",
       "      <td>0.726405</td>\n",
       "      <td>0.744161</td>\n",
       "      <td>0.788509</td>\n",
       "      <td>0.738596</td>\n",
       "      <td>0.672574</td>\n",
       "      <td>0.602137</td>\n",
       "      <td>0.74069</td>\n",
       "      <td>0.692392</td>\n",
       "      <td>0.658508</td>\n",
       "      <td>0.673158</td>\n",
       "      <td>0.708672</td>\n",
       "      <td>0.657713</td>\n",
       "    </tr>\n",
       "    <tr>\n",
       "      <th>1243</th>\n",
       "      <td>0.009375</td>\n",
       "      <td>0.021125</td>\n",
       "      <td>0.008875</td>\n",
       "      <td>0.007750</td>\n",
       "      <td>529.0</td>\n",
       "      <td>0.591419</td>\n",
       "      <td>0.774309</td>\n",
       "      <td>0.755697</td>\n",
       "      <td>0.766467</td>\n",
       "      <td>0.732934</td>\n",
       "      <td>0.762733</td>\n",
       "      <td>0.652986</td>\n",
       "      <td>0.711504</td>\n",
       "      <td>0.611182</td>\n",
       "      <td>0.504581</td>\n",
       "      <td>0.633147</td>\n",
       "      <td>0.612522</td>\n",
       "    </tr>\n",
       "    <tr>\n",
       "      <th>1244</th>\n",
       "      <td>0.004625</td>\n",
       "      <td>0.007875</td>\n",
       "      <td>0.019500</td>\n",
       "      <td>0.007750</td>\n",
       "      <td>441.0</td>\n",
       "      <td>0.67696</td>\n",
       "      <td>0.846426</td>\n",
       "      <td>0.893863</td>\n",
       "      <td>0.739928</td>\n",
       "      <td>0.738394</td>\n",
       "      <td>0.726147</td>\n",
       "      <td>0.667488</td>\n",
       "      <td>0.589644</td>\n",
       "      <td>0.546344</td>\n",
       "      <td>0.544755</td>\n",
       "      <td>0.643963</td>\n",
       "      <td>0.65768</td>\n",
       "    </tr>\n",
       "  </tbody>\n",
       "</table>\n",
       "<p>1245 rows × 17 columns</p>\n",
       "</div>"
      ],
      "text/plain": [
       "         zcrs0     zcrs1     zcrs2     zcrs3  #ofcrossing         C        C♯  \\\n",
       "0     0.013000  0.036000  0.035750  0.034875       1399.0  0.625998  0.482445   \n",
       "1     0.018250  0.031000  0.039125  0.026000       1394.0  0.502135  0.545204   \n",
       "2     0.019125  0.035625  0.030750  0.031500       1300.0  0.689572  0.861129   \n",
       "3     0.015125  0.036625  0.031125  0.032000       1299.0  0.575298  0.466166   \n",
       "4     0.017625  0.028625  0.039500  0.034000       1344.0  0.325563  0.268573   \n",
       "...        ...       ...       ...       ...          ...       ...       ...   \n",
       "1240  0.015875  0.018500  0.012750  0.009125        666.0  0.531967  0.431299   \n",
       "1241  0.015000  0.007500  0.008500  0.015750        579.0  0.476936  0.417324   \n",
       "1242  0.003875  0.016875  0.018250  0.008875        495.0  0.726405  0.744161   \n",
       "1243  0.009375  0.021125  0.008875  0.007750        529.0  0.591419  0.774309   \n",
       "1244  0.004625  0.007875  0.019500  0.007750        441.0   0.67696  0.846426   \n",
       "\n",
       "             D        D♯         E         F        F♯         G        G♯  \\\n",
       "0     0.676526   0.82151  0.745005  0.671202  0.739956  0.652771  0.634898   \n",
       "1     0.557102  0.735404  0.724191  0.538105  0.538433  0.456542  0.362441   \n",
       "2     0.599657  0.457374  0.396443  0.353062  0.672715  0.543713  0.391207   \n",
       "3     0.447056  0.421602   0.51861  0.330166  0.372173  0.601313  0.699403   \n",
       "4     0.197883  0.211158  0.457757  0.713487  0.548991  0.348728  0.465487   \n",
       "...        ...       ...       ...       ...       ...       ...       ...   \n",
       "1240  0.512284  0.447102  0.548669   0.62862  0.611953  0.535898  0.471509   \n",
       "1241  0.468095  0.512506  0.615219  0.775425  0.910564  0.841961  0.750123   \n",
       "1242  0.788509  0.738596  0.672574  0.602137   0.74069  0.692392  0.658508   \n",
       "1243  0.755697  0.766467  0.732934  0.762733  0.652986  0.711504  0.611182   \n",
       "1244  0.893863  0.739928  0.738394  0.726147  0.667488  0.589644  0.546344   \n",
       "\n",
       "             A        A♯         B  \n",
       "0     0.795076  0.686735  0.548303  \n",
       "1     0.525708  0.523698  0.446788  \n",
       "2     0.608804  0.456716  0.571541  \n",
       "3       0.9512  0.608406  0.528843  \n",
       "4     0.361078  0.452525  0.483885  \n",
       "...        ...       ...       ...  \n",
       "1240  0.548771  0.590904  0.711907  \n",
       "1241  0.688432  0.574847  0.506306  \n",
       "1242  0.673158  0.708672  0.657713  \n",
       "1243  0.504581  0.633147  0.612522  \n",
       "1244  0.544755  0.643963   0.65768  \n",
       "\n",
       "[1245 rows x 17 columns]"
      ]
     },
     "execution_count": 47,
     "metadata": {},
     "output_type": "execute_result"
    }
   ],
   "source": [
    "final_df = pd.concat([df, ch_df], axis =1)\n",
    "final_df"
   ]
  },
  {
   "cell_type": "code",
   "execution_count": 48,
   "id": "32a62976",
   "metadata": {},
   "outputs": [
    {
     "data": {
      "text/html": [
       "<div>\n",
       "<style scoped>\n",
       "    .dataframe tbody tr th:only-of-type {\n",
       "        vertical-align: middle;\n",
       "    }\n",
       "\n",
       "    .dataframe tbody tr th {\n",
       "        vertical-align: top;\n",
       "    }\n",
       "\n",
       "    .dataframe thead th {\n",
       "        text-align: right;\n",
       "    }\n",
       "</style>\n",
       "<table border=\"1\" class=\"dataframe\">\n",
       "  <thead>\n",
       "    <tr style=\"text-align: right;\">\n",
       "      <th></th>\n",
       "      <th>zcrs0</th>\n",
       "      <th>zcrs1</th>\n",
       "      <th>zcrs2</th>\n",
       "      <th>zcrs3</th>\n",
       "      <th>#ofcrossing</th>\n",
       "      <th>C</th>\n",
       "      <th>C♯</th>\n",
       "      <th>D</th>\n",
       "      <th>D♯</th>\n",
       "      <th>E</th>\n",
       "      <th>...</th>\n",
       "      <th>tempogram_182</th>\n",
       "      <th>tempogram_183</th>\n",
       "      <th>tempogram_184</th>\n",
       "      <th>tempogram_185</th>\n",
       "      <th>tempogram_186</th>\n",
       "      <th>tempogram_187</th>\n",
       "      <th>tempogram_188</th>\n",
       "      <th>tempogram_189</th>\n",
       "      <th>tempogram_190</th>\n",
       "      <th>tempogram_191</th>\n",
       "    </tr>\n",
       "  </thead>\n",
       "  <tbody>\n",
       "    <tr>\n",
       "      <th>0</th>\n",
       "      <td>0.013000</td>\n",
       "      <td>0.036000</td>\n",
       "      <td>0.035750</td>\n",
       "      <td>0.034875</td>\n",
       "      <td>1399.0</td>\n",
       "      <td>0.625998</td>\n",
       "      <td>0.482445</td>\n",
       "      <td>0.676526</td>\n",
       "      <td>0.82151</td>\n",
       "      <td>0.745005</td>\n",
       "      <td>...</td>\n",
       "      <td>0.0</td>\n",
       "      <td>0.0</td>\n",
       "      <td>0.0</td>\n",
       "      <td>0.0</td>\n",
       "      <td>0.0</td>\n",
       "      <td>-0.0</td>\n",
       "      <td>0.0</td>\n",
       "      <td>0.0</td>\n",
       "      <td>0.0</td>\n",
       "      <td>0.0</td>\n",
       "    </tr>\n",
       "    <tr>\n",
       "      <th>1</th>\n",
       "      <td>0.018250</td>\n",
       "      <td>0.031000</td>\n",
       "      <td>0.039125</td>\n",
       "      <td>0.026000</td>\n",
       "      <td>1394.0</td>\n",
       "      <td>0.502135</td>\n",
       "      <td>0.545204</td>\n",
       "      <td>0.557102</td>\n",
       "      <td>0.735404</td>\n",
       "      <td>0.724191</td>\n",
       "      <td>...</td>\n",
       "      <td>0.0</td>\n",
       "      <td>0.0</td>\n",
       "      <td>0.0</td>\n",
       "      <td>0.0</td>\n",
       "      <td>0.0</td>\n",
       "      <td>-0.0</td>\n",
       "      <td>0.0</td>\n",
       "      <td>0.0</td>\n",
       "      <td>0.0</td>\n",
       "      <td>0.0</td>\n",
       "    </tr>\n",
       "    <tr>\n",
       "      <th>2</th>\n",
       "      <td>0.019125</td>\n",
       "      <td>0.035625</td>\n",
       "      <td>0.030750</td>\n",
       "      <td>0.031500</td>\n",
       "      <td>1300.0</td>\n",
       "      <td>0.689572</td>\n",
       "      <td>0.861129</td>\n",
       "      <td>0.599657</td>\n",
       "      <td>0.457374</td>\n",
       "      <td>0.396443</td>\n",
       "      <td>...</td>\n",
       "      <td>-0.0</td>\n",
       "      <td>0.0</td>\n",
       "      <td>0.0</td>\n",
       "      <td>0.0</td>\n",
       "      <td>0.0</td>\n",
       "      <td>-0.0</td>\n",
       "      <td>0.0</td>\n",
       "      <td>0.0</td>\n",
       "      <td>0.0</td>\n",
       "      <td>0.0</td>\n",
       "    </tr>\n",
       "    <tr>\n",
       "      <th>3</th>\n",
       "      <td>0.015125</td>\n",
       "      <td>0.036625</td>\n",
       "      <td>0.031125</td>\n",
       "      <td>0.032000</td>\n",
       "      <td>1299.0</td>\n",
       "      <td>0.575298</td>\n",
       "      <td>0.466166</td>\n",
       "      <td>0.447056</td>\n",
       "      <td>0.421602</td>\n",
       "      <td>0.51861</td>\n",
       "      <td>...</td>\n",
       "      <td>0.0</td>\n",
       "      <td>0.0</td>\n",
       "      <td>0.0</td>\n",
       "      <td>0.0</td>\n",
       "      <td>0.0</td>\n",
       "      <td>-0.0</td>\n",
       "      <td>0.0</td>\n",
       "      <td>0.0</td>\n",
       "      <td>0.0</td>\n",
       "      <td>0.0</td>\n",
       "    </tr>\n",
       "    <tr>\n",
       "      <th>4</th>\n",
       "      <td>0.017625</td>\n",
       "      <td>0.028625</td>\n",
       "      <td>0.039500</td>\n",
       "      <td>0.034000</td>\n",
       "      <td>1344.0</td>\n",
       "      <td>0.325563</td>\n",
       "      <td>0.268573</td>\n",
       "      <td>0.197883</td>\n",
       "      <td>0.211158</td>\n",
       "      <td>0.457757</td>\n",
       "      <td>...</td>\n",
       "      <td>-0.0</td>\n",
       "      <td>0.0</td>\n",
       "      <td>0.0</td>\n",
       "      <td>0.0</td>\n",
       "      <td>0.0</td>\n",
       "      <td>-0.0</td>\n",
       "      <td>0.0</td>\n",
       "      <td>0.0</td>\n",
       "      <td>0.0</td>\n",
       "      <td>0.0</td>\n",
       "    </tr>\n",
       "    <tr>\n",
       "      <th>...</th>\n",
       "      <td>...</td>\n",
       "      <td>...</td>\n",
       "      <td>...</td>\n",
       "      <td>...</td>\n",
       "      <td>...</td>\n",
       "      <td>...</td>\n",
       "      <td>...</td>\n",
       "      <td>...</td>\n",
       "      <td>...</td>\n",
       "      <td>...</td>\n",
       "      <td>...</td>\n",
       "      <td>...</td>\n",
       "      <td>...</td>\n",
       "      <td>...</td>\n",
       "      <td>...</td>\n",
       "      <td>...</td>\n",
       "      <td>...</td>\n",
       "      <td>...</td>\n",
       "      <td>...</td>\n",
       "      <td>...</td>\n",
       "      <td>...</td>\n",
       "    </tr>\n",
       "    <tr>\n",
       "      <th>1240</th>\n",
       "      <td>0.015875</td>\n",
       "      <td>0.018500</td>\n",
       "      <td>0.012750</td>\n",
       "      <td>0.009125</td>\n",
       "      <td>666.0</td>\n",
       "      <td>0.531967</td>\n",
       "      <td>0.431299</td>\n",
       "      <td>0.512284</td>\n",
       "      <td>0.447102</td>\n",
       "      <td>0.548669</td>\n",
       "      <td>...</td>\n",
       "      <td>-0.0</td>\n",
       "      <td>-0.0</td>\n",
       "      <td>0.0</td>\n",
       "      <td>0.0</td>\n",
       "      <td>0.0</td>\n",
       "      <td>-0.0</td>\n",
       "      <td>0.0</td>\n",
       "      <td>0.0</td>\n",
       "      <td>0.0</td>\n",
       "      <td>0.0</td>\n",
       "    </tr>\n",
       "    <tr>\n",
       "      <th>1241</th>\n",
       "      <td>0.015000</td>\n",
       "      <td>0.007500</td>\n",
       "      <td>0.008500</td>\n",
       "      <td>0.015750</td>\n",
       "      <td>579.0</td>\n",
       "      <td>0.476936</td>\n",
       "      <td>0.417324</td>\n",
       "      <td>0.468095</td>\n",
       "      <td>0.512506</td>\n",
       "      <td>0.615219</td>\n",
       "      <td>...</td>\n",
       "      <td>-0.0</td>\n",
       "      <td>0.0</td>\n",
       "      <td>0.0</td>\n",
       "      <td>0.0</td>\n",
       "      <td>0.0</td>\n",
       "      <td>-0.0</td>\n",
       "      <td>0.0</td>\n",
       "      <td>0.0</td>\n",
       "      <td>0.0</td>\n",
       "      <td>0.0</td>\n",
       "    </tr>\n",
       "    <tr>\n",
       "      <th>1242</th>\n",
       "      <td>0.003875</td>\n",
       "      <td>0.016875</td>\n",
       "      <td>0.018250</td>\n",
       "      <td>0.008875</td>\n",
       "      <td>495.0</td>\n",
       "      <td>0.726405</td>\n",
       "      <td>0.744161</td>\n",
       "      <td>0.788509</td>\n",
       "      <td>0.738596</td>\n",
       "      <td>0.672574</td>\n",
       "      <td>...</td>\n",
       "      <td>-0.0</td>\n",
       "      <td>0.0</td>\n",
       "      <td>0.0</td>\n",
       "      <td>0.0</td>\n",
       "      <td>0.0</td>\n",
       "      <td>-0.0</td>\n",
       "      <td>0.0</td>\n",
       "      <td>0.0</td>\n",
       "      <td>0.0</td>\n",
       "      <td>0.0</td>\n",
       "    </tr>\n",
       "    <tr>\n",
       "      <th>1243</th>\n",
       "      <td>0.009375</td>\n",
       "      <td>0.021125</td>\n",
       "      <td>0.008875</td>\n",
       "      <td>0.007750</td>\n",
       "      <td>529.0</td>\n",
       "      <td>0.591419</td>\n",
       "      <td>0.774309</td>\n",
       "      <td>0.755697</td>\n",
       "      <td>0.766467</td>\n",
       "      <td>0.732934</td>\n",
       "      <td>...</td>\n",
       "      <td>0.0</td>\n",
       "      <td>0.0</td>\n",
       "      <td>0.0</td>\n",
       "      <td>0.0</td>\n",
       "      <td>0.0</td>\n",
       "      <td>0.0</td>\n",
       "      <td>0.0</td>\n",
       "      <td>0.0</td>\n",
       "      <td>0.0</td>\n",
       "      <td>0.0</td>\n",
       "    </tr>\n",
       "    <tr>\n",
       "      <th>1244</th>\n",
       "      <td>0.004625</td>\n",
       "      <td>0.007875</td>\n",
       "      <td>0.019500</td>\n",
       "      <td>0.007750</td>\n",
       "      <td>441.0</td>\n",
       "      <td>0.67696</td>\n",
       "      <td>0.846426</td>\n",
       "      <td>0.893863</td>\n",
       "      <td>0.739928</td>\n",
       "      <td>0.738394</td>\n",
       "      <td>...</td>\n",
       "      <td>0.0</td>\n",
       "      <td>0.0</td>\n",
       "      <td>0.0</td>\n",
       "      <td>0.0</td>\n",
       "      <td>0.0</td>\n",
       "      <td>0.0</td>\n",
       "      <td>0.0</td>\n",
       "      <td>0.0</td>\n",
       "      <td>0.0</td>\n",
       "      <td>0.0</td>\n",
       "    </tr>\n",
       "  </tbody>\n",
       "</table>\n",
       "<p>1245 rows × 209 columns</p>\n",
       "</div>"
      ],
      "text/plain": [
       "         zcrs0     zcrs1     zcrs2     zcrs3  #ofcrossing         C        C♯  \\\n",
       "0     0.013000  0.036000  0.035750  0.034875       1399.0  0.625998  0.482445   \n",
       "1     0.018250  0.031000  0.039125  0.026000       1394.0  0.502135  0.545204   \n",
       "2     0.019125  0.035625  0.030750  0.031500       1300.0  0.689572  0.861129   \n",
       "3     0.015125  0.036625  0.031125  0.032000       1299.0  0.575298  0.466166   \n",
       "4     0.017625  0.028625  0.039500  0.034000       1344.0  0.325563  0.268573   \n",
       "...        ...       ...       ...       ...          ...       ...       ...   \n",
       "1240  0.015875  0.018500  0.012750  0.009125        666.0  0.531967  0.431299   \n",
       "1241  0.015000  0.007500  0.008500  0.015750        579.0  0.476936  0.417324   \n",
       "1242  0.003875  0.016875  0.018250  0.008875        495.0  0.726405  0.744161   \n",
       "1243  0.009375  0.021125  0.008875  0.007750        529.0  0.591419  0.774309   \n",
       "1244  0.004625  0.007875  0.019500  0.007750        441.0   0.67696  0.846426   \n",
       "\n",
       "             D        D♯         E  ... tempogram_182 tempogram_183  \\\n",
       "0     0.676526   0.82151  0.745005  ...           0.0           0.0   \n",
       "1     0.557102  0.735404  0.724191  ...           0.0           0.0   \n",
       "2     0.599657  0.457374  0.396443  ...          -0.0           0.0   \n",
       "3     0.447056  0.421602   0.51861  ...           0.0           0.0   \n",
       "4     0.197883  0.211158  0.457757  ...          -0.0           0.0   \n",
       "...        ...       ...       ...  ...           ...           ...   \n",
       "1240  0.512284  0.447102  0.548669  ...          -0.0          -0.0   \n",
       "1241  0.468095  0.512506  0.615219  ...          -0.0           0.0   \n",
       "1242  0.788509  0.738596  0.672574  ...          -0.0           0.0   \n",
       "1243  0.755697  0.766467  0.732934  ...           0.0           0.0   \n",
       "1244  0.893863  0.739928  0.738394  ...           0.0           0.0   \n",
       "\n",
       "     tempogram_184 tempogram_185 tempogram_186 tempogram_187 tempogram_188  \\\n",
       "0              0.0           0.0           0.0          -0.0           0.0   \n",
       "1              0.0           0.0           0.0          -0.0           0.0   \n",
       "2              0.0           0.0           0.0          -0.0           0.0   \n",
       "3              0.0           0.0           0.0          -0.0           0.0   \n",
       "4              0.0           0.0           0.0          -0.0           0.0   \n",
       "...            ...           ...           ...           ...           ...   \n",
       "1240           0.0           0.0           0.0          -0.0           0.0   \n",
       "1241           0.0           0.0           0.0          -0.0           0.0   \n",
       "1242           0.0           0.0           0.0          -0.0           0.0   \n",
       "1243           0.0           0.0           0.0           0.0           0.0   \n",
       "1244           0.0           0.0           0.0           0.0           0.0   \n",
       "\n",
       "     tempogram_189 tempogram_190 tempogram_191  \n",
       "0              0.0           0.0           0.0  \n",
       "1              0.0           0.0           0.0  \n",
       "2              0.0           0.0           0.0  \n",
       "3              0.0           0.0           0.0  \n",
       "4              0.0           0.0           0.0  \n",
       "...            ...           ...           ...  \n",
       "1240           0.0           0.0           0.0  \n",
       "1241           0.0           0.0           0.0  \n",
       "1242           0.0           0.0           0.0  \n",
       "1243           0.0           0.0           0.0  \n",
       "1244           0.0           0.0           0.0  \n",
       "\n",
       "[1245 rows x 209 columns]"
      ]
     },
     "execution_count": 48,
     "metadata": {},
     "output_type": "execute_result"
    }
   ],
   "source": [
    "final_df = pd.concat([final_df, df_t], axis=1)\n",
    "final_df"
   ]
  },
  {
   "cell_type": "code",
   "execution_count": 49,
   "id": "7c0247a6",
   "metadata": {},
   "outputs": [],
   "source": [
    "final_df.to_csv(path + '/present_AV_final_sp.csv')"
   ]
  },
  {
   "cell_type": "code",
   "execution_count": null,
   "id": "c49dade0",
   "metadata": {},
   "outputs": [],
   "source": []
  },
  {
   "cell_type": "code",
   "execution_count": null,
   "id": "5900dbe9",
   "metadata": {},
   "outputs": [],
   "source": []
  }
 ],
 "metadata": {
  "kernelspec": {
   "display_name": "Python 3 (ipykernel)",
   "language": "python",
   "name": "python3"
  },
  "language_info": {
   "codemirror_mode": {
    "name": "ipython",
    "version": 3
   },
   "file_extension": ".py",
   "mimetype": "text/x-python",
   "name": "python",
   "nbconvert_exporter": "python",
   "pygments_lexer": "ipython3",
   "version": "3.9.9"
  }
 },
 "nbformat": 4,
 "nbformat_minor": 5
}
