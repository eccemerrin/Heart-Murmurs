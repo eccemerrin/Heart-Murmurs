{
 "cells": [
  {
   "cell_type": "code",
   "execution_count": 1,
   "id": "559eb23a",
   "metadata": {},
   "outputs": [],
   "source": [
    "import numpy as np"
   ]
  },
  {
   "cell_type": "markdown",
   "id": "17bcec54",
   "metadata": {},
   "source": [
    "## Variance fractal dimension trajectory"
   ]
  },
  {
   "cell_type": "markdown",
   "id": "2d922160",
   "metadata": {},
   "source": [
    "The fractal dimension of an object indicates how much it ‘spills over’ into the next integer dimension. Mathematician Benoît B. Mandelbrot used it to (formally) study the roughness of the world, which was quite revolutionary in mathematics where everything is neat and smooth."
   ]
  },
  {
   "cell_type": "markdown",
   "id": "3a14dd26",
   "metadata": {},
   "source": [
    "## ST map"
   ]
  },
  {
   "cell_type": "code",
   "execution_count": null,
   "id": "2da0dfca",
   "metadata": {},
   "outputs": [],
   "source": []
  },
  {
   "cell_type": "markdown",
   "id": "62ba9a3a",
   "metadata": {},
   "source": [
    "## HOS Higher Order Statistics"
   ]
  },
  {
   "cell_type": "markdown",
   "id": "52bcf348",
   "metadata": {},
   "source": [
    "## Recurrence Quantification Analysis"
   ]
  },
  {
   "cell_type": "markdown",
   "id": "cc9aa821",
   "metadata": {},
   "source": [
    "## State Space"
   ]
  },
  {
   "cell_type": "code",
   "execution_count": null,
   "id": "f6b34d84",
   "metadata": {},
   "outputs": [],
   "source": []
  }
 ],
 "metadata": {
  "kernelspec": {
   "display_name": "Python 3 (ipykernel)",
   "language": "python",
   "name": "python3"
  },
  "language_info": {
   "codemirror_mode": {
    "name": "ipython",
    "version": 3
   },
   "file_extension": ".py",
   "mimetype": "text/x-python",
   "name": "python",
   "nbconvert_exporter": "python",
   "pygments_lexer": "ipython3",
   "version": "3.9.9"
  }
 },
 "nbformat": 4,
 "nbformat_minor": 5
}
