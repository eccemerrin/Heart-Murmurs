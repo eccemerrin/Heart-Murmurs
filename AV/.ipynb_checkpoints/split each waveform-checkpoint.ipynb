{
 "cells": [
  {
   "cell_type": "code",
   "execution_count": 1,
   "id": "466a2dc2",
   "metadata": {},
   "outputs": [],
   "source": [
    "import numpy as np"
   ]
  },
  {
   "cell_type": "code",
   "execution_count": 2,
   "id": "ce06ed57",
   "metadata": {},
   "outputs": [],
   "source": [
    "target_path = \"/Users/ecem/Desktop/phonocardiogram/data/AV\""
   ]
  },
  {
   "cell_type": "code",
   "execution_count": 3,
   "id": "1ccbf715",
   "metadata": {},
   "outputs": [],
   "source": [
    "present = np.load(target_path + \"/present/present_AV_waves.npy\", allow_pickle= True)\n",
    "absent = np.load(target_path + \"/absent/absent_AV_waves.npy\", allow_pickle= True)\n",
    "sampl = 4000\n"
   ]
  },
  {
   "cell_type": "code",
   "execution_count": 4,
   "id": "ad5672a3",
   "metadata": {},
   "outputs": [
    {
     "data": {
      "text/plain": [
       "(108,)"
      ]
     },
     "execution_count": 4,
     "metadata": {},
     "output_type": "execute_result"
    }
   ],
   "source": [
    "present.shape"
   ]
  },
  {
   "cell_type": "code",
   "execution_count": 5,
   "id": "e5abd37a",
   "metadata": {},
   "outputs": [
    {
     "data": {
      "text/plain": [
       "(597,)"
      ]
     },
     "execution_count": 5,
     "metadata": {},
     "output_type": "execute_result"
    }
   ],
   "source": [
    "absent.shape"
   ]
  },
  {
   "cell_type": "code",
   "execution_count": 6,
   "id": "8ef2fd8b",
   "metadata": {},
   "outputs": [
    {
     "name": "stdout",
     "output_type": "stream",
     "text": [
      "451584\n",
      "504857\n",
      "448762\n",
      "464991\n",
      "347156\n",
      "351742\n",
      "744056\n",
      "655856\n",
      "697839\n",
      "666792\n"
     ]
    }
   ],
   "source": [
    "#sanity check\n",
    "for i in range(10):\n",
    "    print(present[i].shape[0])"
   ]
  },
  {
   "cell_type": "code",
   "execution_count": 7,
   "id": "a5cd1e24",
   "metadata": {},
   "outputs": [],
   "source": [
    "def splitter(array, slicing_point = 10000, duration = 10, sampling_rate = 256):\n",
    "    wanted_npts = int(sampling_rate * duration) \n",
    "    npts = int(array.shape[0] - 10000) #sonunda olması istenen\n",
    "    lenght = npts // wanted_npts\n",
    "    remainder = int(np.around((((npts / wanted_npts - lenght)) * wanted_npts), 0))\n",
    "    \n",
    "    \n",
    "    return np.array_split(array[slicing_point + remainder:],lenght)\n",
    "\n",
    "    "
   ]
  },
  {
   "cell_type": "code",
   "execution_count": 8,
   "id": "fccd5a1c",
   "metadata": {},
   "outputs": [],
   "source": [
    "def merger(array, slicing_point = 10000, duration = 10, sampling_rate = 256):\n",
    "    _waves = []\n",
    "    _howmany = []\n",
    "\n",
    "    for i in range(array.shape[0]):\n",
    "        a = splitter(array[i], slicing_point = slicing_point, duration = duration, sampling_rate = sampling_rate)\n",
    "        _howmany.append(len(a))\n",
    "        \n",
    "        _waves = _waves + a\n",
    "\n",
    "    return [np.array(_waves), _howmany]"
   ]
  },
  {
   "cell_type": "markdown",
   "id": "96c51d13",
   "metadata": {},
   "source": [
    "## Splitting into 10 sc frames"
   ]
  },
  {
   "cell_type": "markdown",
   "id": "0584cb45",
   "metadata": {},
   "source": [
    "### murmur present waves"
   ]
  },
  {
   "cell_type": "code",
   "execution_count": 9,
   "id": "d3b59fd5",
   "metadata": {},
   "outputs": [],
   "source": [
    "present_splitted, howmany_p = merger(present, duration = 10, sampling_rate = sampl)"
   ]
  },
  {
   "cell_type": "code",
   "execution_count": 10,
   "id": "cdf4a586",
   "metadata": {},
   "outputs": [
    {
     "data": {
      "text/plain": [
       "108"
      ]
     },
     "execution_count": 10,
     "metadata": {},
     "output_type": "execute_result"
    }
   ],
   "source": [
    "#sanity check\n",
    "len(howmany_p)"
   ]
  },
  {
   "cell_type": "code",
   "execution_count": 11,
   "id": "2356f471",
   "metadata": {
    "scrolled": true
   },
   "outputs": [
    {
     "data": {
      "text/plain": [
       "[11,\n",
       " 12,\n",
       " 10,\n",
       " 11,\n",
       " 8,\n",
       " 8,\n",
       " 18,\n",
       " 16,\n",
       " 17,\n",
       " 16,\n",
       " 13,\n",
       " 16,\n",
       " 20,\n",
       " 16,\n",
       " 13,\n",
       " 16,\n",
       " 16,\n",
       " 16,\n",
       " 17,\n",
       " 8,\n",
       " 16,\n",
       " 15,\n",
       " 9,\n",
       " 17,\n",
       " 16,\n",
       " 14,\n",
       " 15,\n",
       " 16,\n",
       " 18,\n",
       " 12,\n",
       " 16,\n",
       " 9,\n",
       " 16,\n",
       " 16,\n",
       " 11,\n",
       " 13,\n",
       " 15,\n",
       " 15,\n",
       " 9,\n",
       " 17,\n",
       " 15,\n",
       " 15,\n",
       " 35,\n",
       " 15,\n",
       " 15,\n",
       " 15,\n",
       " 4,\n",
       " 12,\n",
       " 6,\n",
       " 11,\n",
       " 11,\n",
       " 8,\n",
       " 11,\n",
       " 5,\n",
       " 9,\n",
       " 11,\n",
       " 11,\n",
       " 10,\n",
       " 4,\n",
       " 11,\n",
       " 6,\n",
       " 8,\n",
       " 10,\n",
       " 11,\n",
       " 11,\n",
       " 11,\n",
       " 4,\n",
       " 4,\n",
       " 7,\n",
       " 8,\n",
       " 13,\n",
       " 8,\n",
       " 11,\n",
       " 11,\n",
       " 11,\n",
       " 9,\n",
       " 4,\n",
       " 10,\n",
       " 10,\n",
       " 11,\n",
       " 12,\n",
       " 10,\n",
       " 11,\n",
       " 10,\n",
       " 8,\n",
       " 11,\n",
       " 11,\n",
       " 12,\n",
       " 10,\n",
       " 5,\n",
       " 11,\n",
       " 13,\n",
       " 10,\n",
       " 9,\n",
       " 14,\n",
       " 4,\n",
       " 10,\n",
       " 10,\n",
       " 5,\n",
       " 10,\n",
       " 10,\n",
       " 6,\n",
       " 10,\n",
       " 10,\n",
       " 9,\n",
       " 9,\n",
       " 11,\n",
       " 9]"
      ]
     },
     "execution_count": 11,
     "metadata": {},
     "output_type": "execute_result"
    }
   ],
   "source": [
    "howmany_p # the information baout how much came from which is embedded in howmany"
   ]
  },
  {
   "cell_type": "code",
   "execution_count": 12,
   "id": "b1ed389d",
   "metadata": {},
   "outputs": [
    {
     "data": {
      "text/plain": [
       "(1245, 40000)"
      ]
     },
     "execution_count": 12,
     "metadata": {},
     "output_type": "execute_result"
    }
   ],
   "source": [
    "present_splitted.shape"
   ]
  },
  {
   "cell_type": "markdown",
   "id": "5b6fa0af",
   "metadata": {},
   "source": [
    "### murmur absent waves"
   ]
  },
  {
   "cell_type": "code",
   "execution_count": 13,
   "id": "f5901024",
   "metadata": {},
   "outputs": [],
   "source": [
    "absent_splitted, howmany_a = merger(absent, duration = 10, sampling_rate = sampl)"
   ]
  },
  {
   "cell_type": "code",
   "execution_count": 14,
   "id": "946b7f01",
   "metadata": {},
   "outputs": [
    {
     "data": {
      "text/plain": [
       "597"
      ]
     },
     "execution_count": 14,
     "metadata": {},
     "output_type": "execute_result"
    }
   ],
   "source": [
    "len(howmany_a)"
   ]
  },
  {
   "cell_type": "code",
   "execution_count": 15,
   "id": "5e84baf4",
   "metadata": {},
   "outputs": [
    {
     "data": {
      "text/plain": [
       "(6980, 40000)"
      ]
     },
     "execution_count": 15,
     "metadata": {},
     "output_type": "execute_result"
    }
   ],
   "source": [
    "absent_splitted.shape"
   ]
  },
  {
   "cell_type": "markdown",
   "id": "6a46ccfa",
   "metadata": {},
   "source": [
    "### save"
   ]
  },
  {
   "cell_type": "code",
   "execution_count": 16,
   "id": "a1c02d07",
   "metadata": {},
   "outputs": [],
   "source": [
    "np.save(target_path + \"/present/present_AV_waves_10sec\", present_splitted, allow_pickle= True)"
   ]
  },
  {
   "cell_type": "code",
   "execution_count": 17,
   "id": "28cb8570",
   "metadata": {},
   "outputs": [],
   "source": [
    "np.save(target_path + \"/absent/absent_AV_waves_10sec\", absent_splitted, allow_pickle= True)"
   ]
  },
  {
   "cell_type": "code",
   "execution_count": 18,
   "id": "57703a2e",
   "metadata": {},
   "outputs": [
    {
     "data": {
      "text/plain": [
       "(1245, 40000)"
      ]
     },
     "execution_count": 18,
     "metadata": {},
     "output_type": "execute_result"
    }
   ],
   "source": [
    "check  = np.load(target_path + \"/present/present_AV_waves_10sec.npy\")\n",
    "check.shape"
   ]
  },
  {
   "cell_type": "code",
   "execution_count": null,
   "id": "1167e5ba",
   "metadata": {},
   "outputs": [],
   "source": []
  }
 ],
 "metadata": {
  "kernelspec": {
   "display_name": "Python 3 (ipykernel)",
   "language": "python",
   "name": "python3"
  },
  "language_info": {
   "codemirror_mode": {
    "name": "ipython",
    "version": 3
   },
   "file_extension": ".py",
   "mimetype": "text/x-python",
   "name": "python",
   "nbconvert_exporter": "python",
   "pygments_lexer": "ipython3",
   "version": "3.9.9"
  }
 },
 "nbformat": 4,
 "nbformat_minor": 5
}
