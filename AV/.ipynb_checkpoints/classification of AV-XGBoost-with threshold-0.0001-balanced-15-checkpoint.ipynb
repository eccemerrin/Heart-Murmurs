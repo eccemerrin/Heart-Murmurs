{
 "cells": [
  {
   "cell_type": "markdown",
   "id": "5ff5c96f",
   "metadata": {},
   "source": [
    "### features:\n",
    "* spectogram coef\n",
    "* zero crossing rate\n",
    "* selected chromogram values\n",
    "* selected tempogram values\n",
    "* wavelet levels"
   ]
  },
  {
   "cell_type": "code",
   "execution_count": 1,
   "id": "dcd92ee4",
   "metadata": {},
   "outputs": [
    {
     "ename": "RuntimeError",
     "evalue": "module compiled against API version 0xe but this version of numpy is 0xd",
     "output_type": "error",
     "traceback": [
      "\u001b[0;31m---------------------------------------------------------------------------\u001b[0m",
      "\u001b[0;31mRuntimeError\u001b[0m                              Traceback (most recent call last)",
      "\u001b[0;31mRuntimeError\u001b[0m: module compiled against API version 0xe but this version of numpy is 0xd"
     ]
    }
   ],
   "source": [
    "import pandas as pd \n",
    "import numpy as np\n",
    "from sklearn.pipeline import Pipeline\n",
    "from sklearn.model_selection import train_test_split\n",
    "from sklearn.metrics import classification_report\n",
    "from sklearn.metrics import auc\n",
    "from sklearn.multioutput import MultiOutputClassifier\n",
    "from sklearn.metrics import confusion_matrix, roc_curve, roc_auc_score, precision_recall_curve, recall_score\n",
    "import matplotlib.pyplot as plt\n",
    "import itertools"
   ]
  },
  {
   "cell_type": "code",
   "execution_count": 2,
   "id": "77055433",
   "metadata": {},
   "outputs": [],
   "source": [
    "path = \"/Users/ecem/Desktop/phonocardiogram/data/AV\""
   ]
  },
  {
   "cell_type": "markdown",
   "id": "859b3496",
   "metadata": {},
   "source": [
    "## Load data"
   ]
  },
  {
   "cell_type": "markdown",
   "id": "84ab66f1",
   "metadata": {},
   "source": [
    "Here, our target is to predict disease of patients with multiple diseases. So; our y will be disease column of two column indicatin geach patients disease."
   ]
  },
  {
   "cell_type": "code",
   "execution_count": 3,
   "id": "b2414e78",
   "metadata": {},
   "outputs": [
    {
     "data": {
      "text/html": [
       "<div>\n",
       "<style scoped>\n",
       "    .dataframe tbody tr th:only-of-type {\n",
       "        vertical-align: middle;\n",
       "    }\n",
       "\n",
       "    .dataframe tbody tr th {\n",
       "        vertical-align: top;\n",
       "    }\n",
       "\n",
       "    .dataframe thead th {\n",
       "        text-align: right;\n",
       "    }\n",
       "</style>\n",
       "<table border=\"1\" class=\"dataframe\">\n",
       "  <thead>\n",
       "    <tr style=\"text-align: right;\">\n",
       "      <th></th>\n",
       "      <th>freq_0</th>\n",
       "      <th>freq_1</th>\n",
       "      <th>freq_2</th>\n",
       "      <th>freq_3</th>\n",
       "      <th>freq_4</th>\n",
       "      <th>freq_5</th>\n",
       "      <th>freq_6</th>\n",
       "      <th>freq_7</th>\n",
       "      <th>freq_8</th>\n",
       "      <th>freq_9</th>\n",
       "      <th>...</th>\n",
       "      <th>tempogram_165</th>\n",
       "      <th>tempogram_166</th>\n",
       "      <th>tempogram_167</th>\n",
       "      <th>tempogram_168</th>\n",
       "      <th>tempogram_173</th>\n",
       "      <th>tempogram_180</th>\n",
       "      <th>tempogram_181</th>\n",
       "      <th>tempogram_182</th>\n",
       "      <th>tempogram_184</th>\n",
       "      <th>tempogram_191</th>\n",
       "    </tr>\n",
       "  </thead>\n",
       "  <tbody>\n",
       "    <tr>\n",
       "      <th>0</th>\n",
       "      <td>4.053941e-11</td>\n",
       "      <td>5.722774e-11</td>\n",
       "      <td>5.674817e-11</td>\n",
       "      <td>5.604892e-11</td>\n",
       "      <td>5.585778e-11</td>\n",
       "      <td>5.712218e-11</td>\n",
       "      <td>6.096665e-11</td>\n",
       "      <td>6.666104e-11</td>\n",
       "      <td>7.312381e-11</td>\n",
       "      <td>7.987906e-11</td>\n",
       "      <td>...</td>\n",
       "      <td>3.694971e-11</td>\n",
       "      <td>1.134680e-11</td>\n",
       "      <td>2.389866e-12</td>\n",
       "      <td>2.203077e-13</td>\n",
       "      <td>-8.122705e-18</td>\n",
       "      <td>8.131668e-18</td>\n",
       "      <td>2.377722e-17</td>\n",
       "      <td>9.874380e-21</td>\n",
       "      <td>3.277308e-18</td>\n",
       "      <td>1.594158e-17</td>\n",
       "    </tr>\n",
       "    <tr>\n",
       "      <th>1</th>\n",
       "      <td>7.029058e-11</td>\n",
       "      <td>1.004992e-10</td>\n",
       "      <td>1.032565e-10</td>\n",
       "      <td>1.067600e-10</td>\n",
       "      <td>1.103392e-10</td>\n",
       "      <td>1.136039e-10</td>\n",
       "      <td>1.163349e-10</td>\n",
       "      <td>1.183813e-10</td>\n",
       "      <td>1.195946e-10</td>\n",
       "      <td>1.198336e-10</td>\n",
       "      <td>...</td>\n",
       "      <td>2.385996e-08</td>\n",
       "      <td>7.722310e-09</td>\n",
       "      <td>1.684974e-09</td>\n",
       "      <td>1.577951e-10</td>\n",
       "      <td>4.220379e-20</td>\n",
       "      <td>2.353653e-17</td>\n",
       "      <td>4.041855e-17</td>\n",
       "      <td>3.897346e-18</td>\n",
       "      <td>2.307725e-17</td>\n",
       "      <td>3.545423e-17</td>\n",
       "    </tr>\n",
       "    <tr>\n",
       "      <th>2</th>\n",
       "      <td>6.242156e-11</td>\n",
       "      <td>8.838291e-11</td>\n",
       "      <td>8.841429e-11</td>\n",
       "      <td>8.813666e-11</td>\n",
       "      <td>8.771334e-11</td>\n",
       "      <td>8.792236e-11</td>\n",
       "      <td>8.855698e-11</td>\n",
       "      <td>8.896638e-11</td>\n",
       "      <td>8.933381e-11</td>\n",
       "      <td>8.922699e-11</td>\n",
       "      <td>...</td>\n",
       "      <td>1.597677e-09</td>\n",
       "      <td>5.115552e-10</td>\n",
       "      <td>1.114111e-10</td>\n",
       "      <td>1.047179e-11</td>\n",
       "      <td>-1.754692e-17</td>\n",
       "      <td>1.287416e-17</td>\n",
       "      <td>2.539911e-17</td>\n",
       "      <td>-7.691983e-18</td>\n",
       "      <td>7.988967e-19</td>\n",
       "      <td>1.729207e-17</td>\n",
       "    </tr>\n",
       "    <tr>\n",
       "      <th>3</th>\n",
       "      <td>5.658126e-11</td>\n",
       "      <td>8.147643e-11</td>\n",
       "      <td>8.364837e-11</td>\n",
       "      <td>8.546564e-11</td>\n",
       "      <td>8.658269e-11</td>\n",
       "      <td>8.682239e-11</td>\n",
       "      <td>8.612547e-11</td>\n",
       "      <td>8.458010e-11</td>\n",
       "      <td>8.250057e-11</td>\n",
       "      <td>8.019542e-11</td>\n",
       "      <td>...</td>\n",
       "      <td>1.609346e-08</td>\n",
       "      <td>4.978872e-09</td>\n",
       "      <td>1.062980e-09</td>\n",
       "      <td>9.910194e-11</td>\n",
       "      <td>-8.994226e-18</td>\n",
       "      <td>3.161606e-17</td>\n",
       "      <td>3.944629e-17</td>\n",
       "      <td>4.191656e-18</td>\n",
       "      <td>1.564245e-17</td>\n",
       "      <td>2.644279e-17</td>\n",
       "    </tr>\n",
       "    <tr>\n",
       "      <th>4</th>\n",
       "      <td>6.675927e-11</td>\n",
       "      <td>9.572394e-11</td>\n",
       "      <td>9.878655e-11</td>\n",
       "      <td>1.025290e-10</td>\n",
       "      <td>1.061944e-10</td>\n",
       "      <td>1.092672e-10</td>\n",
       "      <td>1.114632e-10</td>\n",
       "      <td>1.127096e-10</td>\n",
       "      <td>1.129850e-10</td>\n",
       "      <td>1.121774e-10</td>\n",
       "      <td>...</td>\n",
       "      <td>1.053892e-08</td>\n",
       "      <td>3.516443e-09</td>\n",
       "      <td>7.916528e-10</td>\n",
       "      <td>7.582421e-11</td>\n",
       "      <td>-1.561858e-17</td>\n",
       "      <td>1.496655e-17</td>\n",
       "      <td>2.920759e-17</td>\n",
       "      <td>-7.881559e-18</td>\n",
       "      <td>1.673272e-17</td>\n",
       "      <td>1.686190e-17</td>\n",
       "    </tr>\n",
       "    <tr>\n",
       "      <th>...</th>\n",
       "      <td>...</td>\n",
       "      <td>...</td>\n",
       "      <td>...</td>\n",
       "      <td>...</td>\n",
       "      <td>...</td>\n",
       "      <td>...</td>\n",
       "      <td>...</td>\n",
       "      <td>...</td>\n",
       "      <td>...</td>\n",
       "      <td>...</td>\n",
       "      <td>...</td>\n",
       "      <td>...</td>\n",
       "      <td>...</td>\n",
       "      <td>...</td>\n",
       "      <td>...</td>\n",
       "      <td>...</td>\n",
       "      <td>...</td>\n",
       "      <td>...</td>\n",
       "      <td>...</td>\n",
       "      <td>...</td>\n",
       "      <td>...</td>\n",
       "    </tr>\n",
       "    <tr>\n",
       "      <th>1240</th>\n",
       "      <td>1.421592e-10</td>\n",
       "      <td>2.041520e-10</td>\n",
       "      <td>2.113140e-10</td>\n",
       "      <td>2.194710e-10</td>\n",
       "      <td>2.268139e-10</td>\n",
       "      <td>2.323881e-10</td>\n",
       "      <td>2.358344e-10</td>\n",
       "      <td>2.373206e-10</td>\n",
       "      <td>2.372831e-10</td>\n",
       "      <td>2.360674e-10</td>\n",
       "      <td>...</td>\n",
       "      <td>2.067244e-11</td>\n",
       "      <td>1.848082e-12</td>\n",
       "      <td>4.279497e-14</td>\n",
       "      <td>-6.412760e-18</td>\n",
       "      <td>-1.892472e-17</td>\n",
       "      <td>9.336599e-18</td>\n",
       "      <td>1.355133e-17</td>\n",
       "      <td>-8.971072e-18</td>\n",
       "      <td>1.206258e-18</td>\n",
       "      <td>1.403043e-17</td>\n",
       "    </tr>\n",
       "    <tr>\n",
       "      <th>1241</th>\n",
       "      <td>1.923120e-10</td>\n",
       "      <td>2.702142e-10</td>\n",
       "      <td>2.654474e-10</td>\n",
       "      <td>2.609435e-10</td>\n",
       "      <td>2.570200e-10</td>\n",
       "      <td>2.536409e-10</td>\n",
       "      <td>2.515014e-10</td>\n",
       "      <td>2.506988e-10</td>\n",
       "      <td>2.509285e-10</td>\n",
       "      <td>2.519738e-10</td>\n",
       "      <td>...</td>\n",
       "      <td>3.104317e-08</td>\n",
       "      <td>8.636136e-09</td>\n",
       "      <td>1.616377e-09</td>\n",
       "      <td>1.355361e-10</td>\n",
       "      <td>-1.023884e-17</td>\n",
       "      <td>1.872794e-17</td>\n",
       "      <td>3.631436e-17</td>\n",
       "      <td>-1.704163e-18</td>\n",
       "      <td>1.676896e-17</td>\n",
       "      <td>3.088029e-17</td>\n",
       "    </tr>\n",
       "    <tr>\n",
       "      <th>1242</th>\n",
       "      <td>2.886341e-10</td>\n",
       "      <td>4.070661e-10</td>\n",
       "      <td>4.033971e-10</td>\n",
       "      <td>3.969121e-10</td>\n",
       "      <td>3.879849e-10</td>\n",
       "      <td>3.776499e-10</td>\n",
       "      <td>3.672374e-10</td>\n",
       "      <td>3.579410e-10</td>\n",
       "      <td>3.507390e-10</td>\n",
       "      <td>3.466603e-10</td>\n",
       "      <td>...</td>\n",
       "      <td>4.953307e-09</td>\n",
       "      <td>1.643199e-09</td>\n",
       "      <td>3.728994e-10</td>\n",
       "      <td>3.603946e-11</td>\n",
       "      <td>-1.049532e-17</td>\n",
       "      <td>1.875301e-17</td>\n",
       "      <td>3.001944e-17</td>\n",
       "      <td>-8.987125e-18</td>\n",
       "      <td>2.075392e-17</td>\n",
       "      <td>2.501257e-17</td>\n",
       "    </tr>\n",
       "    <tr>\n",
       "      <th>1243</th>\n",
       "      <td>2.906344e-10</td>\n",
       "      <td>4.077050e-10</td>\n",
       "      <td>3.979113e-10</td>\n",
       "      <td>3.821000e-10</td>\n",
       "      <td>3.611274e-10</td>\n",
       "      <td>3.373070e-10</td>\n",
       "      <td>3.224267e-10</td>\n",
       "      <td>3.126335e-10</td>\n",
       "      <td>3.102847e-10</td>\n",
       "      <td>3.142008e-10</td>\n",
       "      <td>...</td>\n",
       "      <td>3.617801e-10</td>\n",
       "      <td>6.163482e-11</td>\n",
       "      <td>8.988842e-12</td>\n",
       "      <td>8.386634e-13</td>\n",
       "      <td>-1.776589e-18</td>\n",
       "      <td>1.541197e-17</td>\n",
       "      <td>2.293989e-17</td>\n",
       "      <td>7.193964e-18</td>\n",
       "      <td>1.684496e-17</td>\n",
       "      <td>2.212823e-17</td>\n",
       "    </tr>\n",
       "    <tr>\n",
       "      <th>1244</th>\n",
       "      <td>2.403442e-10</td>\n",
       "      <td>3.484523e-10</td>\n",
       "      <td>3.694375e-10</td>\n",
       "      <td>3.969165e-10</td>\n",
       "      <td>4.344074e-10</td>\n",
       "      <td>4.685038e-10</td>\n",
       "      <td>4.960859e-10</td>\n",
       "      <td>5.151807e-10</td>\n",
       "      <td>5.247142e-10</td>\n",
       "      <td>5.246349e-10</td>\n",
       "      <td>...</td>\n",
       "      <td>5.614987e-18</td>\n",
       "      <td>9.114976e-18</td>\n",
       "      <td>-1.340510e-17</td>\n",
       "      <td>-1.787099e-19</td>\n",
       "      <td>1.138307e-20</td>\n",
       "      <td>1.784688e-17</td>\n",
       "      <td>2.781288e-17</td>\n",
       "      <td>1.088386e-17</td>\n",
       "      <td>1.130238e-17</td>\n",
       "      <td>2.154483e-17</td>\n",
       "    </tr>\n",
       "  </tbody>\n",
       "</table>\n",
       "<p>1245 rows × 18752 columns</p>\n",
       "</div>"
      ],
      "text/plain": [
       "            freq_0        freq_1        freq_2        freq_3        freq_4  \\\n",
       "0     4.053941e-11  5.722774e-11  5.674817e-11  5.604892e-11  5.585778e-11   \n",
       "1     7.029058e-11  1.004992e-10  1.032565e-10  1.067600e-10  1.103392e-10   \n",
       "2     6.242156e-11  8.838291e-11  8.841429e-11  8.813666e-11  8.771334e-11   \n",
       "3     5.658126e-11  8.147643e-11  8.364837e-11  8.546564e-11  8.658269e-11   \n",
       "4     6.675927e-11  9.572394e-11  9.878655e-11  1.025290e-10  1.061944e-10   \n",
       "...            ...           ...           ...           ...           ...   \n",
       "1240  1.421592e-10  2.041520e-10  2.113140e-10  2.194710e-10  2.268139e-10   \n",
       "1241  1.923120e-10  2.702142e-10  2.654474e-10  2.609435e-10  2.570200e-10   \n",
       "1242  2.886341e-10  4.070661e-10  4.033971e-10  3.969121e-10  3.879849e-10   \n",
       "1243  2.906344e-10  4.077050e-10  3.979113e-10  3.821000e-10  3.611274e-10   \n",
       "1244  2.403442e-10  3.484523e-10  3.694375e-10  3.969165e-10  4.344074e-10   \n",
       "\n",
       "            freq_5        freq_6        freq_7        freq_8        freq_9  \\\n",
       "0     5.712218e-11  6.096665e-11  6.666104e-11  7.312381e-11  7.987906e-11   \n",
       "1     1.136039e-10  1.163349e-10  1.183813e-10  1.195946e-10  1.198336e-10   \n",
       "2     8.792236e-11  8.855698e-11  8.896638e-11  8.933381e-11  8.922699e-11   \n",
       "3     8.682239e-11  8.612547e-11  8.458010e-11  8.250057e-11  8.019542e-11   \n",
       "4     1.092672e-10  1.114632e-10  1.127096e-10  1.129850e-10  1.121774e-10   \n",
       "...            ...           ...           ...           ...           ...   \n",
       "1240  2.323881e-10  2.358344e-10  2.373206e-10  2.372831e-10  2.360674e-10   \n",
       "1241  2.536409e-10  2.515014e-10  2.506988e-10  2.509285e-10  2.519738e-10   \n",
       "1242  3.776499e-10  3.672374e-10  3.579410e-10  3.507390e-10  3.466603e-10   \n",
       "1243  3.373070e-10  3.224267e-10  3.126335e-10  3.102847e-10  3.142008e-10   \n",
       "1244  4.685038e-10  4.960859e-10  5.151807e-10  5.247142e-10  5.246349e-10   \n",
       "\n",
       "      ...  tempogram_165  tempogram_166  tempogram_167  tempogram_168  \\\n",
       "0     ...   3.694971e-11   1.134680e-11   2.389866e-12   2.203077e-13   \n",
       "1     ...   2.385996e-08   7.722310e-09   1.684974e-09   1.577951e-10   \n",
       "2     ...   1.597677e-09   5.115552e-10   1.114111e-10   1.047179e-11   \n",
       "3     ...   1.609346e-08   4.978872e-09   1.062980e-09   9.910194e-11   \n",
       "4     ...   1.053892e-08   3.516443e-09   7.916528e-10   7.582421e-11   \n",
       "...   ...            ...            ...            ...            ...   \n",
       "1240  ...   2.067244e-11   1.848082e-12   4.279497e-14  -6.412760e-18   \n",
       "1241  ...   3.104317e-08   8.636136e-09   1.616377e-09   1.355361e-10   \n",
       "1242  ...   4.953307e-09   1.643199e-09   3.728994e-10   3.603946e-11   \n",
       "1243  ...   3.617801e-10   6.163482e-11   8.988842e-12   8.386634e-13   \n",
       "1244  ...   5.614987e-18   9.114976e-18  -1.340510e-17  -1.787099e-19   \n",
       "\n",
       "      tempogram_173  tempogram_180  tempogram_181  tempogram_182  \\\n",
       "0     -8.122705e-18   8.131668e-18   2.377722e-17   9.874380e-21   \n",
       "1      4.220379e-20   2.353653e-17   4.041855e-17   3.897346e-18   \n",
       "2     -1.754692e-17   1.287416e-17   2.539911e-17  -7.691983e-18   \n",
       "3     -8.994226e-18   3.161606e-17   3.944629e-17   4.191656e-18   \n",
       "4     -1.561858e-17   1.496655e-17   2.920759e-17  -7.881559e-18   \n",
       "...             ...            ...            ...            ...   \n",
       "1240  -1.892472e-17   9.336599e-18   1.355133e-17  -8.971072e-18   \n",
       "1241  -1.023884e-17   1.872794e-17   3.631436e-17  -1.704163e-18   \n",
       "1242  -1.049532e-17   1.875301e-17   3.001944e-17  -8.987125e-18   \n",
       "1243  -1.776589e-18   1.541197e-17   2.293989e-17   7.193964e-18   \n",
       "1244   1.138307e-20   1.784688e-17   2.781288e-17   1.088386e-17   \n",
       "\n",
       "      tempogram_184  tempogram_191  \n",
       "0      3.277308e-18   1.594158e-17  \n",
       "1      2.307725e-17   3.545423e-17  \n",
       "2      7.988967e-19   1.729207e-17  \n",
       "3      1.564245e-17   2.644279e-17  \n",
       "4      1.673272e-17   1.686190e-17  \n",
       "...             ...            ...  \n",
       "1240   1.206258e-18   1.403043e-17  \n",
       "1241   1.676896e-17   3.088029e-17  \n",
       "1242   2.075392e-17   2.501257e-17  \n",
       "1243   1.684496e-17   2.212823e-17  \n",
       "1244   1.130238e-17   2.154483e-17  \n",
       "\n",
       "[1245 rows x 18752 columns]"
      ]
     },
     "execution_count": 3,
     "metadata": {},
     "output_type": "execute_result"
    }
   ],
   "source": [
    "present_df = pd.read_csv(path + \"/present/present_AV_p_features.csv\", index_col = 0) \n",
    "present_df"
   ]
  },
  {
   "cell_type": "code",
   "execution_count": 7,
   "id": "a6fc5275",
   "metadata": {},
   "outputs": [
    {
     "data": {
      "text/plain": [
       "15.136778115501519"
      ]
     },
     "execution_count": 7,
     "metadata": {},
     "output_type": "execute_result"
    }
   ],
   "source": [
    "1245* 100 / 8225\n"
   ]
  },
  {
   "cell_type": "code",
   "execution_count": 8,
   "id": "d061dfc3",
   "metadata": {},
   "outputs": [],
   "source": [
    "absent_df = pd.read_csv(path + \"/absent/absent_AV_p_features.csv\", index_col = 0) \n",
    "#absent_df"
   ]
  },
  {
   "cell_type": "markdown",
   "id": "737042c5",
   "metadata": {},
   "source": [
    "### create labels"
   ]
  },
  {
   "cell_type": "code",
   "execution_count": 9,
   "id": "78132229",
   "metadata": {},
   "outputs": [
    {
     "data": {
      "text/plain": [
       "(8225,)"
      ]
     },
     "execution_count": 9,
     "metadata": {},
     "output_type": "execute_result"
    }
   ],
   "source": [
    "y = np.concatenate((np.ones(1245), np.zeros(6980)), axis =0)\n",
    "y.shape"
   ]
  },
  {
   "cell_type": "markdown",
   "id": "42a97e3f",
   "metadata": {},
   "source": [
    "## concat features"
   ]
  },
  {
   "cell_type": "code",
   "execution_count": 10,
   "id": "6cd3f63f",
   "metadata": {},
   "outputs": [],
   "source": [
    "df = pd.concat([present_df, absent_df], axis = 0)\n",
    "#df"
   ]
  },
  {
   "cell_type": "markdown",
   "id": "8fd7c4d9",
   "metadata": {},
   "source": [
    "## With threshold"
   ]
  },
  {
   "cell_type": "code",
   "execution_count": 11,
   "id": "0298efc9",
   "metadata": {},
   "outputs": [],
   "source": [
    "from sklearn.feature_selection import VarianceThreshold\n",
    "vt = VarianceThreshold(threshold =  0.0001)   # düşük  threshold\n",
    "_ = vt.fit(df)\n",
    "masked = vt.get_support()\n",
    "features_masked = df.loc[:, masked]\n",
    "#features_masked # uncomment to see the dataframe #6941, 703"
   ]
  },
  {
   "cell_type": "code",
   "execution_count": 12,
   "id": "bcf4f600",
   "metadata": {},
   "outputs": [],
   "source": [
    "X_train_, X_valid_, y_train_, y_valid_ = train_test_split(features_masked, y , train_size=0.8, test_size=0.2,\n",
    "                                                                random_state=42)"
   ]
  },
  {
   "cell_type": "code",
   "execution_count": 13,
   "id": "03778983",
   "metadata": {},
   "outputs": [],
   "source": [
    "import xgboost as xgb\n",
    "\n",
    "clf = xgb.XGBClassifier(objective= \"binary:logistic\", eval_metric = \"logloss\")\n"
   ]
  },
  {
   "cell_type": "code",
   "execution_count": 14,
   "id": "7a51bf47",
   "metadata": {},
   "outputs": [
    {
     "data": {
      "text/html": [
       "<style>#sk-container-id-1 {color: black;background-color: white;}#sk-container-id-1 pre{padding: 0;}#sk-container-id-1 div.sk-toggleable {background-color: white;}#sk-container-id-1 label.sk-toggleable__label {cursor: pointer;display: block;width: 100%;margin-bottom: 0;padding: 0.3em;box-sizing: border-box;text-align: center;}#sk-container-id-1 label.sk-toggleable__label-arrow:before {content: \"▸\";float: left;margin-right: 0.25em;color: #696969;}#sk-container-id-1 label.sk-toggleable__label-arrow:hover:before {color: black;}#sk-container-id-1 div.sk-estimator:hover label.sk-toggleable__label-arrow:before {color: black;}#sk-container-id-1 div.sk-toggleable__content {max-height: 0;max-width: 0;overflow: hidden;text-align: left;background-color: #f0f8ff;}#sk-container-id-1 div.sk-toggleable__content pre {margin: 0.2em;color: black;border-radius: 0.25em;background-color: #f0f8ff;}#sk-container-id-1 input.sk-toggleable__control:checked~div.sk-toggleable__content {max-height: 200px;max-width: 100%;overflow: auto;}#sk-container-id-1 input.sk-toggleable__control:checked~label.sk-toggleable__label-arrow:before {content: \"▾\";}#sk-container-id-1 div.sk-estimator input.sk-toggleable__control:checked~label.sk-toggleable__label {background-color: #d4ebff;}#sk-container-id-1 div.sk-label input.sk-toggleable__control:checked~label.sk-toggleable__label {background-color: #d4ebff;}#sk-container-id-1 input.sk-hidden--visually {border: 0;clip: rect(1px 1px 1px 1px);clip: rect(1px, 1px, 1px, 1px);height: 1px;margin: -1px;overflow: hidden;padding: 0;position: absolute;width: 1px;}#sk-container-id-1 div.sk-estimator {font-family: monospace;background-color: #f0f8ff;border: 1px dotted black;border-radius: 0.25em;box-sizing: border-box;margin-bottom: 0.5em;}#sk-container-id-1 div.sk-estimator:hover {background-color: #d4ebff;}#sk-container-id-1 div.sk-parallel-item::after {content: \"\";width: 100%;border-bottom: 1px solid gray;flex-grow: 1;}#sk-container-id-1 div.sk-label:hover label.sk-toggleable__label {background-color: #d4ebff;}#sk-container-id-1 div.sk-serial::before {content: \"\";position: absolute;border-left: 1px solid gray;box-sizing: border-box;top: 0;bottom: 0;left: 50%;z-index: 0;}#sk-container-id-1 div.sk-serial {display: flex;flex-direction: column;align-items: center;background-color: white;padding-right: 0.2em;padding-left: 0.2em;position: relative;}#sk-container-id-1 div.sk-item {position: relative;z-index: 1;}#sk-container-id-1 div.sk-parallel {display: flex;align-items: stretch;justify-content: center;background-color: white;position: relative;}#sk-container-id-1 div.sk-item::before, #sk-container-id-1 div.sk-parallel-item::before {content: \"\";position: absolute;border-left: 1px solid gray;box-sizing: border-box;top: 0;bottom: 0;left: 50%;z-index: -1;}#sk-container-id-1 div.sk-parallel-item {display: flex;flex-direction: column;z-index: 1;position: relative;background-color: white;}#sk-container-id-1 div.sk-parallel-item:first-child::after {align-self: flex-end;width: 50%;}#sk-container-id-1 div.sk-parallel-item:last-child::after {align-self: flex-start;width: 50%;}#sk-container-id-1 div.sk-parallel-item:only-child::after {width: 0;}#sk-container-id-1 div.sk-dashed-wrapped {border: 1px dashed gray;margin: 0 0.4em 0.5em 0.4em;box-sizing: border-box;padding-bottom: 0.4em;background-color: white;}#sk-container-id-1 div.sk-label label {font-family: monospace;font-weight: bold;display: inline-block;line-height: 1.2em;}#sk-container-id-1 div.sk-label-container {text-align: center;}#sk-container-id-1 div.sk-container {/* jupyter's `normalize.less` sets `[hidden] { display: none; }` but bootstrap.min.css set `[hidden] { display: none !important; }` so we also need the `!important` here to be able to override the default hidden behavior on the sphinx rendered scikit-learn.org. See: https://github.com/scikit-learn/scikit-learn/issues/21755 */display: inline-block !important;position: relative;}#sk-container-id-1 div.sk-text-repr-fallback {display: none;}</style><div id=\"sk-container-id-1\" class=\"sk-top-container\"><div class=\"sk-text-repr-fallback\"><pre>XGBClassifier(base_score=0.5, booster=&#x27;gbtree&#x27;, callbacks=None,\n",
       "              colsample_bylevel=1, colsample_bynode=1, colsample_bytree=1,\n",
       "              early_stopping_rounds=None, enable_categorical=False,\n",
       "              eval_metric=&#x27;logloss&#x27;, gamma=0, gpu_id=-1,\n",
       "              grow_policy=&#x27;depthwise&#x27;, importance_type=None,\n",
       "              interaction_constraints=&#x27;&#x27;, learning_rate=0.300000012,\n",
       "              max_bin=256, max_cat_to_onehot=4, max_delta_step=0, max_depth=6,\n",
       "              max_leaves=0, min_child_weight=1, missing=nan,\n",
       "              monotone_constraints=&#x27;()&#x27;, n_estimators=100, n_jobs=0,\n",
       "              num_parallel_tree=1, predictor=&#x27;auto&#x27;, random_state=0,\n",
       "              reg_alpha=0, reg_lambda=1, ...)</pre><b>In a Jupyter environment, please rerun this cell to show the HTML representation or trust the notebook. <br />On GitHub, the HTML representation is unable to render, please try loading this page with nbviewer.org.</b></div><div class=\"sk-container\" hidden><div class=\"sk-item\"><div class=\"sk-estimator sk-toggleable\"><input class=\"sk-toggleable__control sk-hidden--visually\" id=\"sk-estimator-id-1\" type=\"checkbox\" checked><label for=\"sk-estimator-id-1\" class=\"sk-toggleable__label sk-toggleable__label-arrow\">XGBClassifier</label><div class=\"sk-toggleable__content\"><pre>XGBClassifier(base_score=0.5, booster=&#x27;gbtree&#x27;, callbacks=None,\n",
       "              colsample_bylevel=1, colsample_bynode=1, colsample_bytree=1,\n",
       "              early_stopping_rounds=None, enable_categorical=False,\n",
       "              eval_metric=&#x27;logloss&#x27;, gamma=0, gpu_id=-1,\n",
       "              grow_policy=&#x27;depthwise&#x27;, importance_type=None,\n",
       "              interaction_constraints=&#x27;&#x27;, learning_rate=0.300000012,\n",
       "              max_bin=256, max_cat_to_onehot=4, max_delta_step=0, max_depth=6,\n",
       "              max_leaves=0, min_child_weight=1, missing=nan,\n",
       "              monotone_constraints=&#x27;()&#x27;, n_estimators=100, n_jobs=0,\n",
       "              num_parallel_tree=1, predictor=&#x27;auto&#x27;, random_state=0,\n",
       "              reg_alpha=0, reg_lambda=1, ...)</pre></div></div></div></div></div>"
      ],
      "text/plain": [
       "XGBClassifier(base_score=0.5, booster='gbtree', callbacks=None,\n",
       "              colsample_bylevel=1, colsample_bynode=1, colsample_bytree=1,\n",
       "              early_stopping_rounds=None, enable_categorical=False,\n",
       "              eval_metric='logloss', gamma=0, gpu_id=-1,\n",
       "              grow_policy='depthwise', importance_type=None,\n",
       "              interaction_constraints='', learning_rate=0.300000012,\n",
       "              max_bin=256, max_cat_to_onehot=4, max_delta_step=0, max_depth=6,\n",
       "              max_leaves=0, min_child_weight=1, missing=nan,\n",
       "              monotone_constraints='()', n_estimators=100, n_jobs=0,\n",
       "              num_parallel_tree=1, predictor='auto', random_state=0,\n",
       "              reg_alpha=0, reg_lambda=1, ...)"
      ]
     },
     "execution_count": 14,
     "metadata": {},
     "output_type": "execute_result"
    }
   ],
   "source": [
    "clf.fit(X_train_, y_train_)\n"
   ]
  },
  {
   "cell_type": "code",
   "execution_count": 15,
   "id": "ab3c619f",
   "metadata": {},
   "outputs": [],
   "source": [
    "yhat = clf.predict(X_valid_)"
   ]
  },
  {
   "cell_type": "code",
   "execution_count": 16,
   "id": "13300de3",
   "metadata": {},
   "outputs": [
    {
     "data": {
      "text/plain": [
       "(1645,)"
      ]
     },
     "execution_count": 16,
     "metadata": {},
     "output_type": "execute_result"
    }
   ],
   "source": [
    "yhat.shape"
   ]
  },
  {
   "cell_type": "code",
   "execution_count": 17,
   "id": "1d2c89e6",
   "metadata": {},
   "outputs": [
    {
     "data": {
      "text/plain": [
       "(1645,)"
      ]
     },
     "execution_count": 17,
     "metadata": {},
     "output_type": "execute_result"
    }
   ],
   "source": [
    "y_valid_.shape"
   ]
  },
  {
   "cell_type": "code",
   "execution_count": 18,
   "id": "419b4ece",
   "metadata": {},
   "outputs": [
    {
     "name": "stdout",
     "output_type": "stream",
     "text": [
      "accuracy: 85.78%\n"
     ]
    }
   ],
   "source": [
    "from sklearn.metrics import accuracy_score\n",
    "accuracy = accuracy_score(y_valid_, yhat)\n",
    "print(\"accuracy: %.2f%%\" % (accuracy * 100.0))"
   ]
  },
  {
   "cell_type": "code",
   "execution_count": 19,
   "id": "9dc72ea4",
   "metadata": {},
   "outputs": [
    {
     "name": "stdout",
     "output_type": "stream",
     "text": [
      "recall: 85.78%\n"
     ]
    }
   ],
   "source": [
    "from sklearn.metrics import recall_score\n",
    "recall = recall_score(y_valid_, yhat, average= 'weighted')\n",
    "print(\"recall: %.2f%%\" % (recall * 100.0))\n"
   ]
  },
  {
   "cell_type": "code",
   "execution_count": 20,
   "id": "f954e700",
   "metadata": {},
   "outputs": [
    {
     "name": "stdout",
     "output_type": "stream",
     "text": [
      "precision: 84.73%\n"
     ]
    }
   ],
   "source": [
    "from sklearn.metrics import precision_score\n",
    "precision = precision_score(y_valid_, yhat, average= 'weighted')\n",
    "print(\"precision: %.2f%%\" % (precision * 100.0))"
   ]
  },
  {
   "cell_type": "code",
   "execution_count": 21,
   "id": "d697f808",
   "metadata": {},
   "outputs": [
    {
     "name": "stderr",
     "output_type": "stream",
     "text": [
      "/Users/ecem/miniforge3/envs/tf-metal/lib/python3.9/site-packages/sklearn/utils/deprecation.py:87: FutureWarning: Function plot_confusion_matrix is deprecated; Function `plot_confusion_matrix` is deprecated in 1.0 and will be removed in 1.2. Use one of the class methods: ConfusionMatrixDisplay.from_predictions or ConfusionMatrixDisplay.from_estimator.\n",
      "  warnings.warn(msg, category=FutureWarning)\n"
     ]
    },
    {
     "data": {
      "text/plain": [
       "<sklearn.metrics._plot.confusion_matrix.ConfusionMatrixDisplay at 0x161b3ceb0>"
      ]
     },
     "execution_count": 21,
     "metadata": {},
     "output_type": "execute_result"
    },
    {
     "data": {
      "image/png": "[encoded data removed]",
      "text/plain": [
       "<Figure size 432x288 with 2 Axes>"
      ]
     },
     "metadata": {
      "needs_background": "light"
     },
     "output_type": "display_data"
    }
   ],
   "source": [
    "from sklearn.metrics import plot_confusion_matrix\n",
    "plot_confusion_matrix(clf, X_valid_, y_valid_) "
   ]
  },
  {
   "cell_type": "code",
   "execution_count": 22,
   "id": "8c685300",
   "metadata": {},
   "outputs": [
    {
     "name": "stdout",
     "output_type": "stream",
     "text": [
      "ROC AUC: 0.5590\n"
     ]
    }
   ],
   "source": [
    "from sklearn.metrics import roc_auc_score\n",
    "score = roc_auc_score(y_valid_, yhat)\n",
    "print(f\"ROC AUC: {score:.4f}\")"
   ]
  },
  {
   "cell_type": "code",
   "execution_count": 23,
   "id": "9d1036a4",
   "metadata": {},
   "outputs": [
    {
     "name": "stdout",
     "output_type": "stream",
     "text": [
      "              precision    recall  f1-score   support\n",
      "\n",
      "      absent       0.86      0.99      0.92      1388\n",
      "     present       0.78      0.12      0.21       257\n",
      "\n",
      "    accuracy                           0.86      1645\n",
      "   macro avg       0.82      0.56      0.57      1645\n",
      "weighted avg       0.85      0.86      0.81      1645\n",
      "\n"
     ]
    }
   ],
   "source": [
    "names =[\"absent\", \"present\"]\n",
    "print(classification_report(y_valid_, yhat, target_names = names))"
   ]
  },
  {
   "cell_type": "markdown",
   "id": "c8b0b7ff",
   "metadata": {},
   "source": [
    "* , 1 - 20% as moderately imbalanced data\n",
    "* Notably, the Precision-Recall curve can be used as an alternative metric to evaluate the classifier when the data is imbalanced.\n",
    "* the PR curve is composed of the recall/true positive rate (x-axis) & the precision (y-axis), as shown in figure below. The area under the PR ROC curve (PR AUC) provides a different perspective on evaluating the result of binary classifier. Lager PR AUC value indicates better model performance — the PR curve would move towards the upper right corner.\n",
    "* When data is imbalanced, the AUC might not reflect the true performance of the classifier. The definition of the False Positive Rate (FPR), is the number of false positives divided by the number of negative samples. FPR is considered better when it’s smaller since it indicates fewer false positives. In imbalanced data, the FPR tends to stay at small values due to the large numbers of negatives (i.e. making the denominator large). Thus, FPR becomes less informative for the model performance in this situation.\n",
    "* When there are more negative samples, it is common to predict more outcome as negative samples, causing the precision to decrease."
   ]
  },
  {
   "cell_type": "code",
   "execution_count": 24,
   "id": "f162ac57",
   "metadata": {},
   "outputs": [
    {
     "data": {
      "image/png": "[encoded data removed]",
      "text/plain": [
       "<Figure size 432x288 with 1 Axes>"
      ]
     },
     "metadata": {
      "needs_background": "light"
     },
     "output_type": "display_data"
    },
    {
     "name": "stdout",
     "output_type": "stream",
     "text": [
      "AUC: 0.521\n"
     ]
    }
   ],
   "source": [
    "precision, recall, thresholds = precision_recall_curve(y_valid_, yhat)\n",
    "auc_score = auc(recall, precision)\n",
    "plt.plot([0, 1], [0.5, 0.5], linestyle='--')\n",
    "plt.plot(recall, precision, marker='.')\n",
    "plt.show()\n",
    "print('AUC: %.3f' % auc_score)"
   ]
  },
  {
   "cell_type": "code",
   "execution_count": null,
   "id": "1a6a57dc",
   "metadata": {},
   "outputs": [],
   "source": []
  }
 ],
 "metadata": {
  "kernelspec": {
   "display_name": "Python 3 (ipykernel)",
   "language": "python",
   "name": "python3"
  },
  "language_info": {
   "codemirror_mode": {
    "name": "ipython",
    "version": 3
   },
   "file_extension": ".py",
   "mimetype": "text/x-python",
   "name": "python",
   "nbconvert_exporter": "python",
   "pygments_lexer": "ipython3",
   "version": "3.9.9"
  }
 },
 "nbformat": 4,
 "nbformat_minor": 5
}
