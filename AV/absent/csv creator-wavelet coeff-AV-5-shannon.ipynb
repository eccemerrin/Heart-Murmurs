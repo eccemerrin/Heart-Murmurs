{
 "cells": [
  {
   "cell_type": "markdown",
   "id": "9738d69c",
   "metadata": {},
   "source": [
    "### Imports"
   ]
  },
  {
   "cell_type": "code",
   "execution_count": 1,
   "id": "dc7b749c",
   "metadata": {},
   "outputs": [],
   "source": [
    "import warnings\n",
    "warnings.filterwarnings(\"ignore\")"
   ]
  },
  {
   "cell_type": "code",
   "execution_count": 2,
   "id": "749d0c72",
   "metadata": {},
   "outputs": [],
   "source": [
    "#imports\n",
    "import scipy.io\n",
    "import os\n",
    "import pandas\n",
    "import numpy as np\n",
    "import matplotlib.pyplot as plt\n",
    "import matplotlib.pylab as pl\n",
    "import matplotlib.gridspec as gridspec\n",
    "import obspy\n",
    "import pywt\n",
    "import pywt.data"
   ]
  },
  {
   "cell_type": "markdown",
   "id": "2bc54617",
   "metadata": {},
   "source": [
    "### Load the trimmed data "
   ]
  },
  {
   "cell_type": "code",
   "execution_count": 3,
   "id": "cd387f07",
   "metadata": {},
   "outputs": [],
   "source": [
    "path = \"/Users/ecem/Desktop/phonocardiogram/data/AV/absent\"\n",
    "path_w = \"/Users/ecem/Desktop/phonocardiogram/data/AV/absent/wavelet\"\n",
    "waves = np.load(path + \"/absent_AV_waves_10sec.npy\", allow_pickle= True)"
   ]
  },
  {
   "cell_type": "code",
   "execution_count": 4,
   "id": "2a96529d",
   "metadata": {},
   "outputs": [],
   "source": [
    "n= waves.shape[0]"
   ]
  },
  {
   "cell_type": "code",
   "execution_count": 5,
   "id": "d110333c",
   "metadata": {},
   "outputs": [
    {
     "data": {
      "text/plain": [
       "6980"
      ]
     },
     "execution_count": 5,
     "metadata": {},
     "output_type": "execute_result"
    }
   ],
   "source": [
    "n"
   ]
  },
  {
   "cell_type": "markdown",
   "id": "c0d9b74d",
   "metadata": {},
   "source": [
    "## Let's look at wavelet decomposition for a signal piece"
   ]
  },
  {
   "cell_type": "markdown",
   "id": "f8c7f06d",
   "metadata": {},
   "source": [
    "#### how our decomposition filter values look like"
   ]
  },
  {
   "cell_type": "code",
   "execution_count": 6,
   "id": "556de875",
   "metadata": {},
   "outputs": [
    {
     "data": {
      "image/png": "[encoded data removed]",
      "text/plain": [
       "<Figure size 432x288 with 1 Axes>"
      ]
     },
     "metadata": {
      "needs_background": "light"
     },
     "output_type": "display_data"
    }
   ],
   "source": [
    "w = pywt.Wavelet('db8')\n",
    "plt.plot(w.dec_lo)\n",
    "coeffs = pywt.wavedec(waves[0], w, level=6)"
   ]
  },
  {
   "cell_type": "code",
   "execution_count": 7,
   "id": "95ab5a75",
   "metadata": {},
   "outputs": [],
   "source": [
    "import pandas as pd"
   ]
  },
  {
   "cell_type": "code",
   "execution_count": 8,
   "id": "cb801cab",
   "metadata": {},
   "outputs": [],
   "source": [
    "coef = []\n",
    "for i in range(len(waves)):\n",
    "    coef.append(pywt.wavedec(waves[i], w, level=5))"
   ]
  },
  {
   "cell_type": "code",
   "execution_count": 9,
   "id": "772ae19a",
   "metadata": {},
   "outputs": [
    {
     "name": "stdout",
     "output_type": "stream",
     "text": [
      "(1264,)\n",
      "(1264,)\n",
      "(2514,)\n",
      "(5013,)\n",
      "(10011,)\n",
      "(20007,)\n"
     ]
    }
   ],
   "source": [
    "for i in range(6):\n",
    "    print(coef[0][i].shape)"
   ]
  },
  {
   "cell_type": "markdown",
   "id": "37f4e1b1",
   "metadata": {},
   "source": [
    "### Level by level"
   ]
  },
  {
   "cell_type": "code",
   "execution_count": 10,
   "id": "95d28b26",
   "metadata": {},
   "outputs": [],
   "source": [
    "def level_coef_extractor_3d(array, lvl = 0):\n",
    "    array =np.array(array)\n",
    "    \n",
    "    lenn = array[0][lvl].shape[0] #48\n",
    "    coef = np.ones(shape = (array.shape[0],lenn)) #2392,48\n",
    "    \n",
    "    for i in range(array.shape[0]):\n",
    "        coef[i,:] = array[i][lvl]\n",
    "        \n",
    "    return coef"
   ]
  },
  {
   "cell_type": "code",
   "execution_count": 11,
   "id": "4e06553b",
   "metadata": {},
   "outputs": [],
   "source": [
    "def saver(array = 0, lvl = 0, dir_path = None, name = 'blank'):\n",
    "    coefs = level_coef_extractor_3d(array, lvl)\n",
    "    np.save(dir_path + \"/\"+ str(name) + \"_lvl_\"  + str(lvl), coefs, allow_pickle = True)\n",
    "    del coefs"
   ]
  },
  {
   "cell_type": "code",
   "execution_count": 12,
   "id": "0e5c5c82",
   "metadata": {},
   "outputs": [],
   "source": [
    "for i in range(6):\n",
    "    saver(coef, i, path_w, 'absent_AV_wavelet_coef_5')\n"
   ]
  },
  {
   "cell_type": "markdown",
   "id": "5100e20b",
   "metadata": {},
   "source": [
    "## Shannon entropy\n",
    "\n",
    "The core idea of information theory is that the \"informational value\" of a communicated message depends on the degree to which the content of the message is surprising. \n",
    "\n",
    "If a highly likely event occurs, the message carries very little new information. On the other hand, if a highly unlikely event occurs, the message is much more informative. For instance, the knowledge that some particular number will not be the winning number of a lottery provides very little information, because any particular chosen number will almost certainly not win. \n",
    "\n",
    "However, knowledge that a particular number will win a lottery has high informational value because it communicates the outcome of a very low probability event.\n",
    "\n",
    "There is therefore an inverse relationship between information and the probability of occurrence\n",
    "\n",
    "Remember that Shannon Entropy works on sequences (or probability distribution built from sequences) therefore, you need to have an historic already built up of what your sequence of interest looks like."
   ]
  },
  {
   "cell_type": "code",
   "execution_count": 13,
   "id": "a98ce1f7",
   "metadata": {},
   "outputs": [],
   "source": [
    "import scipy.stats"
   ]
  },
  {
   "cell_type": "code",
   "execution_count": 14,
   "id": "3eb3ae92",
   "metadata": {},
   "outputs": [
    {
     "data": {
      "text/plain": [
       "[<matplotlib.lines.Line2D at 0x146610910>]"
      ]
     },
     "execution_count": 14,
     "metadata": {},
     "output_type": "execute_result"
    },
    {
     "data": {
      "image/png": "[encoded data removed]",
      "text/plain": [
       "<Figure size 432x288 with 1 Axes>"
      ]
     },
     "metadata": {
      "needs_background": "light"
     },
     "output_type": "display_data"
    }
   ],
   "source": [
    "plt.plot(coef[0][0])"
   ]
  },
  {
   "cell_type": "code",
   "execution_count": 15,
   "id": "b367b7ac",
   "metadata": {},
   "outputs": [],
   "source": [
    "def scale(data): #1264\n",
    "    maxx = data.max()\n",
    "    minn = data.min()\n",
    "    \n",
    "    diff = maxx - minn\n",
    "    scaled = np.empty((data.shape[0]))\n",
    "    \n",
    "    for i in range(data.shape[0]):\n",
    "        scaled[i] = (data[i] - minn )/ diff\n",
    "    return scaled"
   ]
  },
  {
   "cell_type": "code",
   "execution_count": 16,
   "id": "658a7621",
   "metadata": {},
   "outputs": [
    {
     "data": {
      "text/plain": [
       "1264"
      ]
     },
     "execution_count": 16,
     "metadata": {},
     "output_type": "execute_result"
    }
   ],
   "source": [
    "len(coef[0][0]) #1245,6,1264"
   ]
  },
  {
   "cell_type": "code",
   "execution_count": 17,
   "id": "68d963f9",
   "metadata": {},
   "outputs": [],
   "source": [
    "def scaled_wavelet(array, lvl = 6):\n",
    "    all_wavelets = []\n",
    "    \n",
    "    for i in range(lvl):\n",
    "        lenn = array[0][i].shape[0] #level uzunluğu alıyor\n",
    "        scaled_lvl = np.empty((array.shape[0], lenn)) # 1245, level uzunluğu kadar array oluşturuyor\n",
    "        \n",
    "        for j in range(array.shape[0]): #1245\n",
    "            scaled_lvl[j,:] = scale(coef[j][i])  \n",
    "            \n",
    "        all_wavelets.append(scaled_lvl)\n",
    "    return all_wavelets"
   ]
  },
  {
   "cell_type": "code",
   "execution_count": 18,
   "id": "428dd9ee",
   "metadata": {},
   "outputs": [],
   "source": [
    "coef = np.array(coef)\n",
    "wavelets = scaled_wavelet(coef)"
   ]
  },
  {
   "cell_type": "code",
   "execution_count": 19,
   "id": "ab122a96",
   "metadata": {},
   "outputs": [
    {
     "data": {
      "text/plain": [
       "1264"
      ]
     },
     "execution_count": 19,
     "metadata": {},
     "output_type": "execute_result"
    }
   ],
   "source": [
    "len(wavelets[0][0]) # 6, 1245, 1264"
   ]
  },
  {
   "cell_type": "code",
   "execution_count": 20,
   "id": "2d578c40",
   "metadata": {},
   "outputs": [
    {
     "data": {
      "text/plain": [
       "[<matplotlib.lines.Line2D at 0x121291a00>]"
      ]
     },
     "execution_count": 20,
     "metadata": {},
     "output_type": "execute_result"
    },
    {
     "data": {
      "image/png": "[encoded data removed]",
      "text/plain": [
       "<Figure size 432x288 with 1 Axes>"
      ]
     },
     "metadata": {
      "needs_background": "light"
     },
     "output_type": "display_data"
    }
   ],
   "source": [
    "plt.plot(wavelets[0][0])"
   ]
  },
  {
   "cell_type": "code",
   "execution_count": 21,
   "id": "a59da63b",
   "metadata": {},
   "outputs": [],
   "source": [
    "ent = np.empty((n, 6))\n",
    "for j in range(6):\n",
    "    for i in range(n):#1245\n",
    "        ent[i, j] = scipy.stats.entropy(wavelets[j][i])"
   ]
  },
  {
   "cell_type": "code",
   "execution_count": 22,
   "id": "6e0ae512",
   "metadata": {},
   "outputs": [
    {
     "data": {
      "text/plain": [
       "array([[7.12854125, 7.12190709, 7.81735915, 8.51502141, 9.20928548,\n",
       "        9.90369316],\n",
       "       [7.13213584, 7.13365247, 7.8229988 , 8.51707712, 9.21014949,\n",
       "        9.90375111],\n",
       "       [7.13450564, 7.1296887 , 7.81875751, 8.51708386, 9.20733433,\n",
       "        9.90376402],\n",
       "       ...,\n",
       "       [7.1270444 , 7.13721747, 7.82267347, 8.51660957, 9.20865968,\n",
       "        9.90375638],\n",
       "       [7.13018247, 7.12807549, 7.82360199, 8.51294138, 9.20583377,\n",
       "        9.90375835],\n",
       "       [7.13304548, 7.13919734, 7.82809597, 8.51644526, 9.21054605,\n",
       "        9.90346752]])"
      ]
     },
     "execution_count": 22,
     "metadata": {},
     "output_type": "execute_result"
    }
   ],
   "source": [
    "ent"
   ]
  },
  {
   "cell_type": "code",
   "execution_count": 23,
   "id": "6f68353c",
   "metadata": {},
   "outputs": [
    {
     "data": {
      "text/html": [
       "<div>\n",
       "<style scoped>\n",
       "    .dataframe tbody tr th:only-of-type {\n",
       "        vertical-align: middle;\n",
       "    }\n",
       "\n",
       "    .dataframe tbody tr th {\n",
       "        vertical-align: top;\n",
       "    }\n",
       "\n",
       "    .dataframe thead th {\n",
       "        text-align: right;\n",
       "    }\n",
       "</style>\n",
       "<table border=\"1\" class=\"dataframe\">\n",
       "  <thead>\n",
       "    <tr style=\"text-align: right;\">\n",
       "      <th></th>\n",
       "      <th>approx</th>\n",
       "      <th>lvl5</th>\n",
       "      <th>lvl4</th>\n",
       "      <th>lvl3</th>\n",
       "      <th>lvl2</th>\n",
       "      <th>lvl1</th>\n",
       "    </tr>\n",
       "  </thead>\n",
       "  <tbody>\n",
       "    <tr>\n",
       "      <th>0</th>\n",
       "      <td>7.128541</td>\n",
       "      <td>7.121907</td>\n",
       "      <td>7.817359</td>\n",
       "      <td>8.515021</td>\n",
       "      <td>9.209285</td>\n",
       "      <td>9.903693</td>\n",
       "    </tr>\n",
       "    <tr>\n",
       "      <th>1</th>\n",
       "      <td>7.132136</td>\n",
       "      <td>7.133652</td>\n",
       "      <td>7.822999</td>\n",
       "      <td>8.517077</td>\n",
       "      <td>9.210149</td>\n",
       "      <td>9.903751</td>\n",
       "    </tr>\n",
       "    <tr>\n",
       "      <th>2</th>\n",
       "      <td>7.134506</td>\n",
       "      <td>7.129689</td>\n",
       "      <td>7.818758</td>\n",
       "      <td>8.517084</td>\n",
       "      <td>9.207334</td>\n",
       "      <td>9.903764</td>\n",
       "    </tr>\n",
       "    <tr>\n",
       "      <th>3</th>\n",
       "      <td>7.112547</td>\n",
       "      <td>7.128353</td>\n",
       "      <td>7.815709</td>\n",
       "      <td>8.516913</td>\n",
       "      <td>9.210057</td>\n",
       "      <td>9.903766</td>\n",
       "    </tr>\n",
       "    <tr>\n",
       "      <th>4</th>\n",
       "      <td>7.128591</td>\n",
       "      <td>7.130620</td>\n",
       "      <td>7.825389</td>\n",
       "      <td>8.517042</td>\n",
       "      <td>9.209287</td>\n",
       "      <td>9.903744</td>\n",
       "    </tr>\n",
       "    <tr>\n",
       "      <th>...</th>\n",
       "      <td>...</td>\n",
       "      <td>...</td>\n",
       "      <td>...</td>\n",
       "      <td>...</td>\n",
       "      <td>...</td>\n",
       "      <td>...</td>\n",
       "    </tr>\n",
       "    <tr>\n",
       "      <th>6975</th>\n",
       "      <td>7.136604</td>\n",
       "      <td>7.136405</td>\n",
       "      <td>7.824924</td>\n",
       "      <td>8.516719</td>\n",
       "      <td>9.209987</td>\n",
       "      <td>9.903694</td>\n",
       "    </tr>\n",
       "    <tr>\n",
       "      <th>6976</th>\n",
       "      <td>7.137954</td>\n",
       "      <td>7.140584</td>\n",
       "      <td>7.827932</td>\n",
       "      <td>8.511804</td>\n",
       "      <td>9.207716</td>\n",
       "      <td>9.903757</td>\n",
       "    </tr>\n",
       "    <tr>\n",
       "      <th>6977</th>\n",
       "      <td>7.127044</td>\n",
       "      <td>7.137217</td>\n",
       "      <td>7.822673</td>\n",
       "      <td>8.516610</td>\n",
       "      <td>9.208660</td>\n",
       "      <td>9.903756</td>\n",
       "    </tr>\n",
       "    <tr>\n",
       "      <th>6978</th>\n",
       "      <td>7.130182</td>\n",
       "      <td>7.128075</td>\n",
       "      <td>7.823602</td>\n",
       "      <td>8.512941</td>\n",
       "      <td>9.205834</td>\n",
       "      <td>9.903758</td>\n",
       "    </tr>\n",
       "    <tr>\n",
       "      <th>6979</th>\n",
       "      <td>7.133045</td>\n",
       "      <td>7.139197</td>\n",
       "      <td>7.828096</td>\n",
       "      <td>8.516445</td>\n",
       "      <td>9.210546</td>\n",
       "      <td>9.903468</td>\n",
       "    </tr>\n",
       "  </tbody>\n",
       "</table>\n",
       "<p>6980 rows × 6 columns</p>\n",
       "</div>"
      ],
      "text/plain": [
       "        approx      lvl5      lvl4      lvl3      lvl2      lvl1\n",
       "0     7.128541  7.121907  7.817359  8.515021  9.209285  9.903693\n",
       "1     7.132136  7.133652  7.822999  8.517077  9.210149  9.903751\n",
       "2     7.134506  7.129689  7.818758  8.517084  9.207334  9.903764\n",
       "3     7.112547  7.128353  7.815709  8.516913  9.210057  9.903766\n",
       "4     7.128591  7.130620  7.825389  8.517042  9.209287  9.903744\n",
       "...        ...       ...       ...       ...       ...       ...\n",
       "6975  7.136604  7.136405  7.824924  8.516719  9.209987  9.903694\n",
       "6976  7.137954  7.140584  7.827932  8.511804  9.207716  9.903757\n",
       "6977  7.127044  7.137217  7.822673  8.516610  9.208660  9.903756\n",
       "6978  7.130182  7.128075  7.823602  8.512941  9.205834  9.903758\n",
       "6979  7.133045  7.139197  7.828096  8.516445  9.210546  9.903468\n",
       "\n",
       "[6980 rows x 6 columns]"
      ]
     },
     "execution_count": 23,
     "metadata": {},
     "output_type": "execute_result"
    }
   ],
   "source": [
    "ent_df = pd.DataFrame(ent, columns = [\"approx\",\"lvl5\", \"lvl4\", \"lvl3\", \"lvl2\", \"lvl1\"])\n",
    "ent_df"
   ]
  },
  {
   "cell_type": "code",
   "execution_count": 24,
   "id": "ce41bdef",
   "metadata": {},
   "outputs": [],
   "source": [
    "ent_df.to_csv(path_w + \"shannon_entropy_AV.csv\")"
   ]
  },
  {
   "cell_type": "code",
   "execution_count": null,
   "id": "644886e4",
   "metadata": {},
   "outputs": [],
   "source": []
  }
 ],
 "metadata": {
  "kernelspec": {
   "display_name": "Python 3 (ipykernel)",
   "language": "python",
   "name": "python3"
  },
  "language_info": {
   "codemirror_mode": {
    "name": "ipython",
    "version": 3
   },
   "file_extension": ".py",
   "mimetype": "text/x-python",
   "name": "python",
   "nbconvert_exporter": "python",
   "pygments_lexer": "ipython3",
   "version": "3.9.9"
  }
 },
 "nbformat": 4,
 "nbformat_minor": 5
}
