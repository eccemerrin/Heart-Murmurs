{
 "cells": [
  {
   "cell_type": "markdown",
   "id": "22c63b0d",
   "metadata": {},
   "source": [
    "## Computing the power spectral density\n",
    "\n",
    "In order to compute the average bandpower in the delta band, we first need to compute an estimate of the power spectral density. The most widely-used method to do that is the Welch's periodogram, which consists in averaging consecutive Fourier transform of small windows of the signal, with or without overlapping. \n",
    "\n",
    "A classic periodogram requires the spectral content of the signal to be stationnary (i.e. time-unvarying) over the time period considered. Because it is never the case, the periodogram is generally biased and contains way too much variance (see the end of this tutorial). By averaging the periodograms obtained over short segments of the windows, the Welch's method allows to drastically reduce this variance. This comes at the cost, however, of a lower frequency resolution.\n",
    "\n",
    "\n",
    "$$ F_{res} = \\frac{F_s}{N} = \\frac{F_s}{F_st} = \\frac{1}{t} $$\n",
    "\n",
    "How do we define the optimal window duration then? \n",
    "\n",
    "A commonly used approach is to take a window sufficiently long to encompasses at least two full cycles of the lowest frequency of interest."
   ]
  },
  {
   "cell_type": "code",
   "execution_count": 1,
   "id": "2e9acd3c",
   "metadata": {},
   "outputs": [],
   "source": [
    "import matplotlib.pyplot as plt\n",
    "import seaborn as sns\n",
    "import numpy as np\n",
    "sns.set(font_scale=1.2)\n",
    "import scipy.signal"
   ]
  },
  {
   "cell_type": "code",
   "execution_count": 2,
   "id": "5f9a7800",
   "metadata": {},
   "outputs": [],
   "source": [
    "path = \"/Users/ecem/Desktop/phonocardiogram/data/AV/absent\""
   ]
  },
  {
   "cell_type": "code",
   "execution_count": 3,
   "id": "a473ad37",
   "metadata": {},
   "outputs": [],
   "source": [
    "waves = np.load(path + \"/absent_AV_waves_10sec.npy\", allow_pickle= True)"
   ]
  },
  {
   "cell_type": "code",
   "execution_count": 4,
   "id": "e55a65f3",
   "metadata": {},
   "outputs": [],
   "source": [
    "n = waves.shape[0]"
   ]
  },
  {
   "cell_type": "code",
   "execution_count": 5,
   "id": "4e29b820",
   "metadata": {},
   "outputs": [
    {
     "data": {
      "text/plain": [
       "(129,)"
      ]
     },
     "execution_count": 5,
     "metadata": {},
     "output_type": "execute_result"
    }
   ],
   "source": [
    "f, Pxx = scipy.signal.welch(waves[1], fs=4000)\n",
    "f.shape"
   ]
  },
  {
   "cell_type": "markdown",
   "id": "498af6bf",
   "metadata": {},
   "source": [
    " Summation or integration of the spectral components yields the total power (for a physical process) or variance (in a statistical process), identical to what would be obtained by integrating\n",
    "$${\\displaystyle x^{2}(t)}$$ over the time domain"
   ]
  },
  {
   "cell_type": "code",
   "execution_count": 6,
   "id": "63b5497b",
   "metadata": {},
   "outputs": [
    {
     "data": {
      "text/plain": [
       "array([   1,    1,    1,    2,    2,    3,    4,    6,    8,   10,   13,\n",
       "         17,   23,   30,   39,   50,   66,   85,  111,  145,  188,  245,\n",
       "        318,  414,  538,  699,  909, 1181, 1535, 1995])"
      ]
     },
     "execution_count": 6,
     "metadata": {},
     "output_type": "execute_result"
    }
   ],
   "source": [
    "np.logspace(start = 0, stop = 3.3, num =30, dtype = int)"
   ]
  },
  {
   "cell_type": "code",
   "execution_count": 7,
   "id": "88d09fbf",
   "metadata": {},
   "outputs": [],
   "source": [
    "def bandpower_logsteps(x, fs, num_of_chunk = 20):\n",
    "    \n",
    "    f, Pxx = scipy.signal.welch(x, fs=fs)\n",
    "    \n",
    "    steps = np.logspace(start = 0, stop = 3.3, num = num_of_chunk)\n",
    "    \n",
    "    bandpowers = np.zeros((num_of_chunk-1))\n",
    "    \n",
    "    for i in range(num_of_chunk - 1):\n",
    "        fmin = float(steps[i])\n",
    "        fmax = float(steps[i+1])\n",
    "        \n",
    "        ind_min = np.argmax(f > fmin) - 1\n",
    "        ind_max = np.argmax(f > fmax) - 1\n",
    "        bandpowers[i] =  np.trapz(Pxx[ind_min:ind_max], f[ind_min:ind_max])\n",
    "    return bandpowers"
   ]
  },
  {
   "cell_type": "code",
   "execution_count": 8,
   "id": "9f5ea802",
   "metadata": {},
   "outputs": [
    {
     "data": {
      "text/plain": [
       "array([0.00000000e+00, 0.00000000e+00, 0.00000000e+00, 0.00000000e+00,\n",
       "       0.00000000e+00, 0.00000000e+00, 0.00000000e+00, 0.00000000e+00,\n",
       "       0.00000000e+00, 0.00000000e+00, 0.00000000e+00, 0.00000000e+00,\n",
       "       0.00000000e+00, 0.00000000e+00, 0.00000000e+00, 0.00000000e+00,\n",
       "       0.00000000e+00, 2.04869224e-05, 9.03959840e-06, 2.84219159e-06,\n",
       "       3.55073276e-07, 2.00229788e-07, 4.11330824e-09, 5.81454085e-13,\n",
       "       1.24575514e-13, 3.33561780e-14, 7.52789082e-15, 1.79886931e-15,\n",
       "       2.21620677e-16])"
      ]
     },
     "execution_count": 8,
     "metadata": {},
     "output_type": "execute_result"
    }
   ],
   "source": [
    "bandpower_logsteps(waves[20], 4000, 30)"
   ]
  },
  {
   "cell_type": "code",
   "execution_count": 9,
   "id": "685bb2c6",
   "metadata": {},
   "outputs": [],
   "source": [
    "bp = np.empty((n, 29))\n",
    "for i in range(n):\n",
    "    bp[i,:] = bandpower_logsteps(waves[i], 4000, 30)"
   ]
  },
  {
   "cell_type": "code",
   "execution_count": 10,
   "id": "48d4974d",
   "metadata": {},
   "outputs": [
    {
     "data": {
      "text/plain": [
       "array([0.00000000e+00, 0.00000000e+00, 0.00000000e+00, 0.00000000e+00,\n",
       "       0.00000000e+00, 0.00000000e+00, 0.00000000e+00, 0.00000000e+00,\n",
       "       0.00000000e+00, 0.00000000e+00, 0.00000000e+00, 0.00000000e+00,\n",
       "       0.00000000e+00, 0.00000000e+00, 0.00000000e+00, 0.00000000e+00,\n",
       "       0.00000000e+00, 2.04869224e-05, 9.03959840e-06, 2.84219159e-06,\n",
       "       3.55073276e-07, 2.00229788e-07, 4.11330824e-09, 5.81454085e-13,\n",
       "       1.24575514e-13, 3.33561780e-14, 7.52789082e-15, 1.79886931e-15,\n",
       "       2.21620677e-16])"
      ]
     },
     "execution_count": 10,
     "metadata": {},
     "output_type": "execute_result"
    }
   ],
   "source": [
    "#sanity check\n",
    "bp[20]"
   ]
  },
  {
   "cell_type": "markdown",
   "id": "e2a399ed",
   "metadata": {},
   "source": [
    "## Autocorrelation"
   ]
  },
  {
   "cell_type": "code",
   "execution_count": 11,
   "id": "9e7cdfe9",
   "metadata": {},
   "outputs": [],
   "source": [
    "from scipy import signal\n",
    "from scipy.signal import find_peaks"
   ]
  },
  {
   "cell_type": "code",
   "execution_count": 12,
   "id": "4086b64d",
   "metadata": {},
   "outputs": [],
   "source": [
    "autocorr = signal.fftconvolve(waves[0], waves[0], mode='same')\n",
    "autocorr_norm = autocorr / np.linalg.norm(autocorr )"
   ]
  },
  {
   "cell_type": "code",
   "execution_count": 13,
   "id": "2cefb157",
   "metadata": {},
   "outputs": [
    {
     "data": {
      "text/plain": [
       "(40000,)"
      ]
     },
     "execution_count": 13,
     "metadata": {},
     "output_type": "execute_result"
    }
   ],
   "source": [
    "autocorr.shape"
   ]
  },
  {
   "cell_type": "code",
   "execution_count": 14,
   "id": "328921c1",
   "metadata": {},
   "outputs": [
    {
     "data": {
      "text/plain": [
       "40000"
      ]
     },
     "execution_count": 14,
     "metadata": {},
     "output_type": "execute_result"
    }
   ],
   "source": [
    "len(waves[0])"
   ]
  },
  {
   "cell_type": "code",
   "execution_count": 15,
   "id": "f4485c3d",
   "metadata": {},
   "outputs": [
    {
     "name": "stderr",
     "output_type": "stream",
     "text": [
      "/var/folders/gd/3d6ckpdn4q30skhxnvs_p7b80000gn/T/ipykernel_2266/2127519553.py:10: UserWarning: Matplotlib is currently using module://matplotlib_inline.backend_inline, which is a non-GUI backend, so cannot show the figure.\n",
      "  fig.show()\n"
     ]
    },
    {
     "data": {
      "image/png": "[encoded data removed]",
      "text/plain": [
       "<Figure size 432x288 with 3 Axes>"
      ]
     },
     "metadata": {},
     "output_type": "display_data"
    }
   ],
   "source": [
    "import matplotlib.pyplot as plt\n",
    ">>> fig, (ax_orig, ax_mag, ax_norm) = plt.subplots(3, 1)\n",
    ">>> ax_orig.plot(waves[0])\n",
    ">>> ax_orig.set_title('Signal')\n",
    ">>> ax_mag.plot(np.arange(0,len(waves[0])), autocorr)\n",
    ">>> ax_mag.set_title('Autocorrelation')\n",
    ">>> ax_norm.plot(np.arange(0,len(waves[0])), autocorr_norm)\n",
    ">>> ax_norm.set_title('Normalized Autocorrelation')\n",
    ">>> fig.tight_layout()\n",
    ">>> fig.show()"
   ]
  },
  {
   "cell_type": "code",
   "execution_count": 16,
   "id": "d5c82083",
   "metadata": {},
   "outputs": [],
   "source": [
    "peaks = find_peaks(autocorr_norm, height = 0.02)"
   ]
  },
  {
   "cell_type": "code",
   "execution_count": 17,
   "id": "c0879d1e",
   "metadata": {},
   "outputs": [
    {
     "data": {
      "text/plain": [
       "0.0271002147346735"
      ]
     },
     "execution_count": 17,
     "metadata": {},
     "output_type": "execute_result"
    }
   ],
   "source": [
    "peaks[1][\"peak_heights\"].max()"
   ]
  },
  {
   "cell_type": "code",
   "execution_count": 18,
   "id": "72ee4fc0",
   "metadata": {},
   "outputs": [
    {
     "data": {
      "image/png": "[encoded data removed]",
      "text/plain": [
       "<Figure size 432x288 with 1 Axes>"
      ]
     },
     "metadata": {},
     "output_type": "display_data"
    }
   ],
   "source": [
    ">>> plt.plot( autocorr_norm)\n",
    ">>> plt.plot(peaks[0], autocorr_norm[peaks[0]], \"x\")\n",
    ">>> plt.plot(np.zeros_like(autocorr_norm), \"--\", color=\"gray\")\n",
    ">>> plt.show()"
   ]
  },
  {
   "cell_type": "code",
   "execution_count": 24,
   "id": "522faa9d",
   "metadata": {
    "scrolled": true
   },
   "outputs": [],
   "source": [
    "maxx = np.empty((n))\n",
    "minn = np.empty((n))\n",
    "summ = 0\n",
    "for i in range(waves.shape[0]):\n",
    "    auto_corr = signal.fftconvolve(waves[i], waves[i], mode='same')\n",
    "    norm = auto_corr / np.linalg.norm(auto_corr)\n",
    "    fp = find_peaks(norm, height = 0.01)\n",
    "\n",
    "    if fp[0].shape[0] == 0:\n",
    "        summ +=1\n",
    "        pass\n",
    "    else:\n",
    "        maxx[i] = find_peaks(norm, height = 0.01)[1][\"peak_heights\"].max()\n",
    "        minn[i] = find_peaks(norm, height = 0.01)[1][\"peak_heights\"].min()"
   ]
  },
  {
   "cell_type": "code",
   "execution_count": 25,
   "id": "bedfdb9a",
   "metadata": {},
   "outputs": [
    {
     "data": {
      "text/plain": [
       "18"
      ]
     },
     "execution_count": 25,
     "metadata": {},
     "output_type": "execute_result"
    }
   ],
   "source": [
    "summ"
   ]
  },
  {
   "cell_type": "markdown",
   "id": "215cd1a1",
   "metadata": {},
   "source": [
    "## create dataframe"
   ]
  },
  {
   "cell_type": "code",
   "execution_count": 26,
   "id": "68b3e79b",
   "metadata": {},
   "outputs": [],
   "source": [
    "import pandas as pd"
   ]
  },
  {
   "cell_type": "code",
   "execution_count": 27,
   "id": "ed2e3226",
   "metadata": {},
   "outputs": [
    {
     "data": {
      "text/html": [
       "<div>\n",
       "<style scoped>\n",
       "    .dataframe tbody tr th:only-of-type {\n",
       "        vertical-align: middle;\n",
       "    }\n",
       "\n",
       "    .dataframe tbody tr th {\n",
       "        vertical-align: top;\n",
       "    }\n",
       "\n",
       "    .dataframe thead th {\n",
       "        text-align: right;\n",
       "    }\n",
       "</style>\n",
       "<table border=\"1\" class=\"dataframe\">\n",
       "  <thead>\n",
       "    <tr style=\"text-align: right;\">\n",
       "      <th></th>\n",
       "      <th>peak max</th>\n",
       "    </tr>\n",
       "  </thead>\n",
       "  <tbody>\n",
       "    <tr>\n",
       "      <th>0</th>\n",
       "      <td>0.027100</td>\n",
       "    </tr>\n",
       "    <tr>\n",
       "      <th>1</th>\n",
       "      <td>0.035275</td>\n",
       "    </tr>\n",
       "    <tr>\n",
       "      <th>2</th>\n",
       "      <td>0.028974</td>\n",
       "    </tr>\n",
       "    <tr>\n",
       "      <th>3</th>\n",
       "      <td>0.029652</td>\n",
       "    </tr>\n",
       "    <tr>\n",
       "      <th>4</th>\n",
       "      <td>0.027473</td>\n",
       "    </tr>\n",
       "  </tbody>\n",
       "</table>\n",
       "</div>"
      ],
      "text/plain": [
       "   peak max\n",
       "0  0.027100\n",
       "1  0.035275\n",
       "2  0.028974\n",
       "3  0.029652\n",
       "4  0.027473"
      ]
     },
     "execution_count": 27,
     "metadata": {},
     "output_type": "execute_result"
    }
   ],
   "source": [
    "max_df = pd.DataFrame(maxx, columns =[\"peak max\"])\n",
    "max_df.head()"
   ]
  },
  {
   "cell_type": "code",
   "execution_count": 28,
   "id": "36cacdcf",
   "metadata": {},
   "outputs": [
    {
     "data": {
      "text/html": [
       "<div>\n",
       "<style scoped>\n",
       "    .dataframe tbody tr th:only-of-type {\n",
       "        vertical-align: middle;\n",
       "    }\n",
       "\n",
       "    .dataframe tbody tr th {\n",
       "        vertical-align: top;\n",
       "    }\n",
       "\n",
       "    .dataframe thead th {\n",
       "        text-align: right;\n",
       "    }\n",
       "</style>\n",
       "<table border=\"1\" class=\"dataframe\">\n",
       "  <thead>\n",
       "    <tr style=\"text-align: right;\">\n",
       "      <th></th>\n",
       "      <th>peak min</th>\n",
       "    </tr>\n",
       "  </thead>\n",
       "  <tbody>\n",
       "    <tr>\n",
       "      <th>0</th>\n",
       "      <td>0.010161</td>\n",
       "    </tr>\n",
       "    <tr>\n",
       "      <th>1</th>\n",
       "      <td>0.010017</td>\n",
       "    </tr>\n",
       "    <tr>\n",
       "      <th>2</th>\n",
       "      <td>0.010062</td>\n",
       "    </tr>\n",
       "    <tr>\n",
       "      <th>3</th>\n",
       "      <td>0.010021</td>\n",
       "    </tr>\n",
       "    <tr>\n",
       "      <th>4</th>\n",
       "      <td>0.010138</td>\n",
       "    </tr>\n",
       "  </tbody>\n",
       "</table>\n",
       "</div>"
      ],
      "text/plain": [
       "   peak min\n",
       "0  0.010161\n",
       "1  0.010017\n",
       "2  0.010062\n",
       "3  0.010021\n",
       "4  0.010138"
      ]
     },
     "execution_count": 28,
     "metadata": {},
     "output_type": "execute_result"
    }
   ],
   "source": [
    "min_df = pd.DataFrame(minn, columns =[\"peak min\"])\n",
    "min_df.head()"
   ]
  },
  {
   "cell_type": "code",
   "execution_count": 29,
   "id": "d42becc9",
   "metadata": {},
   "outputs": [],
   "source": [
    "columns = []\n",
    "for i in range(29):\n",
    "    columns.append(\"{}'th bandpower\".format(i))"
   ]
  },
  {
   "cell_type": "code",
   "execution_count": 30,
   "id": "d5d3a828",
   "metadata": {},
   "outputs": [
    {
     "data": {
      "text/html": [
       "<div>\n",
       "<style scoped>\n",
       "    .dataframe tbody tr th:only-of-type {\n",
       "        vertical-align: middle;\n",
       "    }\n",
       "\n",
       "    .dataframe tbody tr th {\n",
       "        vertical-align: top;\n",
       "    }\n",
       "\n",
       "    .dataframe thead th {\n",
       "        text-align: right;\n",
       "    }\n",
       "</style>\n",
       "<table border=\"1\" class=\"dataframe\">\n",
       "  <thead>\n",
       "    <tr style=\"text-align: right;\">\n",
       "      <th></th>\n",
       "      <th>0'th bandpower</th>\n",
       "      <th>1'th bandpower</th>\n",
       "      <th>2'th bandpower</th>\n",
       "      <th>3'th bandpower</th>\n",
       "      <th>4'th bandpower</th>\n",
       "      <th>5'th bandpower</th>\n",
       "      <th>6'th bandpower</th>\n",
       "      <th>7'th bandpower</th>\n",
       "      <th>8'th bandpower</th>\n",
       "      <th>9'th bandpower</th>\n",
       "      <th>...</th>\n",
       "      <th>19'th bandpower</th>\n",
       "      <th>20'th bandpower</th>\n",
       "      <th>21'th bandpower</th>\n",
       "      <th>22'th bandpower</th>\n",
       "      <th>23'th bandpower</th>\n",
       "      <th>24'th bandpower</th>\n",
       "      <th>25'th bandpower</th>\n",
       "      <th>26'th bandpower</th>\n",
       "      <th>27'th bandpower</th>\n",
       "      <th>28'th bandpower</th>\n",
       "    </tr>\n",
       "  </thead>\n",
       "  <tbody>\n",
       "    <tr>\n",
       "      <th>0</th>\n",
       "      <td>0.0</td>\n",
       "      <td>0.0</td>\n",
       "      <td>0.0</td>\n",
       "      <td>0.0</td>\n",
       "      <td>0.0</td>\n",
       "      <td>0.0</td>\n",
       "      <td>0.0</td>\n",
       "      <td>0.0</td>\n",
       "      <td>0.0</td>\n",
       "      <td>0.0</td>\n",
       "      <td>...</td>\n",
       "      <td>0.000053</td>\n",
       "      <td>0.000010</td>\n",
       "      <td>0.000009</td>\n",
       "      <td>3.265121e-07</td>\n",
       "      <td>4.210925e-12</td>\n",
       "      <td>5.529903e-13</td>\n",
       "      <td>1.289846e-13</td>\n",
       "      <td>2.724183e-14</td>\n",
       "      <td>6.327039e-15</td>\n",
       "      <td>8.109496e-16</td>\n",
       "    </tr>\n",
       "    <tr>\n",
       "      <th>1</th>\n",
       "      <td>0.0</td>\n",
       "      <td>0.0</td>\n",
       "      <td>0.0</td>\n",
       "      <td>0.0</td>\n",
       "      <td>0.0</td>\n",
       "      <td>0.0</td>\n",
       "      <td>0.0</td>\n",
       "      <td>0.0</td>\n",
       "      <td>0.0</td>\n",
       "      <td>0.0</td>\n",
       "      <td>...</td>\n",
       "      <td>0.000052</td>\n",
       "      <td>0.000017</td>\n",
       "      <td>0.000010</td>\n",
       "      <td>2.753879e-07</td>\n",
       "      <td>6.346047e-12</td>\n",
       "      <td>7.718027e-13</td>\n",
       "      <td>1.734842e-13</td>\n",
       "      <td>3.600292e-14</td>\n",
       "      <td>8.277378e-15</td>\n",
       "      <td>1.031748e-15</td>\n",
       "    </tr>\n",
       "    <tr>\n",
       "      <th>2</th>\n",
       "      <td>0.0</td>\n",
       "      <td>0.0</td>\n",
       "      <td>0.0</td>\n",
       "      <td>0.0</td>\n",
       "      <td>0.0</td>\n",
       "      <td>0.0</td>\n",
       "      <td>0.0</td>\n",
       "      <td>0.0</td>\n",
       "      <td>0.0</td>\n",
       "      <td>0.0</td>\n",
       "      <td>...</td>\n",
       "      <td>0.000020</td>\n",
       "      <td>0.000003</td>\n",
       "      <td>0.000003</td>\n",
       "      <td>6.764560e-08</td>\n",
       "      <td>1.563125e-12</td>\n",
       "      <td>2.653784e-13</td>\n",
       "      <td>6.582897e-14</td>\n",
       "      <td>1.425574e-14</td>\n",
       "      <td>3.347236e-15</td>\n",
       "      <td>4.248359e-16</td>\n",
       "    </tr>\n",
       "    <tr>\n",
       "      <th>3</th>\n",
       "      <td>0.0</td>\n",
       "      <td>0.0</td>\n",
       "      <td>0.0</td>\n",
       "      <td>0.0</td>\n",
       "      <td>0.0</td>\n",
       "      <td>0.0</td>\n",
       "      <td>0.0</td>\n",
       "      <td>0.0</td>\n",
       "      <td>0.0</td>\n",
       "      <td>0.0</td>\n",
       "      <td>...</td>\n",
       "      <td>0.000016</td>\n",
       "      <td>0.000001</td>\n",
       "      <td>0.000001</td>\n",
       "      <td>3.453108e-08</td>\n",
       "      <td>1.955522e-12</td>\n",
       "      <td>3.715692e-13</td>\n",
       "      <td>9.396216e-14</td>\n",
       "      <td>2.047324e-14</td>\n",
       "      <td>4.810262e-15</td>\n",
       "      <td>5.972775e-16</td>\n",
       "    </tr>\n",
       "    <tr>\n",
       "      <th>4</th>\n",
       "      <td>0.0</td>\n",
       "      <td>0.0</td>\n",
       "      <td>0.0</td>\n",
       "      <td>0.0</td>\n",
       "      <td>0.0</td>\n",
       "      <td>0.0</td>\n",
       "      <td>0.0</td>\n",
       "      <td>0.0</td>\n",
       "      <td>0.0</td>\n",
       "      <td>0.0</td>\n",
       "      <td>...</td>\n",
       "      <td>0.000015</td>\n",
       "      <td>0.000005</td>\n",
       "      <td>0.000004</td>\n",
       "      <td>1.098879e-07</td>\n",
       "      <td>1.791890e-12</td>\n",
       "      <td>2.240197e-13</td>\n",
       "      <td>5.388303e-14</td>\n",
       "      <td>1.166309e-14</td>\n",
       "      <td>2.738178e-15</td>\n",
       "      <td>3.404845e-16</td>\n",
       "    </tr>\n",
       "  </tbody>\n",
       "</table>\n",
       "<p>5 rows × 29 columns</p>\n",
       "</div>"
      ],
      "text/plain": [
       "   0'th bandpower  1'th bandpower  2'th bandpower  3'th bandpower  \\\n",
       "0             0.0             0.0             0.0             0.0   \n",
       "1             0.0             0.0             0.0             0.0   \n",
       "2             0.0             0.0             0.0             0.0   \n",
       "3             0.0             0.0             0.0             0.0   \n",
       "4             0.0             0.0             0.0             0.0   \n",
       "\n",
       "   4'th bandpower  5'th bandpower  6'th bandpower  7'th bandpower  \\\n",
       "0             0.0             0.0             0.0             0.0   \n",
       "1             0.0             0.0             0.0             0.0   \n",
       "2             0.0             0.0             0.0             0.0   \n",
       "3             0.0             0.0             0.0             0.0   \n",
       "4             0.0             0.0             0.0             0.0   \n",
       "\n",
       "   8'th bandpower  9'th bandpower  ...  19'th bandpower  20'th bandpower  \\\n",
       "0             0.0             0.0  ...         0.000053         0.000010   \n",
       "1             0.0             0.0  ...         0.000052         0.000017   \n",
       "2             0.0             0.0  ...         0.000020         0.000003   \n",
       "3             0.0             0.0  ...         0.000016         0.000001   \n",
       "4             0.0             0.0  ...         0.000015         0.000005   \n",
       "\n",
       "   21'th bandpower  22'th bandpower  23'th bandpower  24'th bandpower  \\\n",
       "0         0.000009     3.265121e-07     4.210925e-12     5.529903e-13   \n",
       "1         0.000010     2.753879e-07     6.346047e-12     7.718027e-13   \n",
       "2         0.000003     6.764560e-08     1.563125e-12     2.653784e-13   \n",
       "3         0.000001     3.453108e-08     1.955522e-12     3.715692e-13   \n",
       "4         0.000004     1.098879e-07     1.791890e-12     2.240197e-13   \n",
       "\n",
       "   25'th bandpower  26'th bandpower  27'th bandpower  28'th bandpower  \n",
       "0     1.289846e-13     2.724183e-14     6.327039e-15     8.109496e-16  \n",
       "1     1.734842e-13     3.600292e-14     8.277378e-15     1.031748e-15  \n",
       "2     6.582897e-14     1.425574e-14     3.347236e-15     4.248359e-16  \n",
       "3     9.396216e-14     2.047324e-14     4.810262e-15     5.972775e-16  \n",
       "4     5.388303e-14     1.166309e-14     2.738178e-15     3.404845e-16  \n",
       "\n",
       "[5 rows x 29 columns]"
      ]
     },
     "execution_count": 30,
     "metadata": {},
     "output_type": "execute_result"
    }
   ],
   "source": [
    "bandpower_df = pd.DataFrame(bp, columns = columns)\n",
    "bandpower_df.head()"
   ]
  },
  {
   "cell_type": "code",
   "execution_count": 31,
   "id": "efb8aa14",
   "metadata": {},
   "outputs": [],
   "source": [
    "df = pd.concat([max_df, min_df, bandpower_df], axis =1)"
   ]
  },
  {
   "cell_type": "code",
   "execution_count": 32,
   "id": "5dc01732",
   "metadata": {},
   "outputs": [
    {
     "data": {
      "text/html": [
       "<div>\n",
       "<style scoped>\n",
       "    .dataframe tbody tr th:only-of-type {\n",
       "        vertical-align: middle;\n",
       "    }\n",
       "\n",
       "    .dataframe tbody tr th {\n",
       "        vertical-align: top;\n",
       "    }\n",
       "\n",
       "    .dataframe thead th {\n",
       "        text-align: right;\n",
       "    }\n",
       "</style>\n",
       "<table border=\"1\" class=\"dataframe\">\n",
       "  <thead>\n",
       "    <tr style=\"text-align: right;\">\n",
       "      <th></th>\n",
       "      <th>peak max</th>\n",
       "      <th>peak min</th>\n",
       "      <th>0'th bandpower</th>\n",
       "      <th>1'th bandpower</th>\n",
       "      <th>2'th bandpower</th>\n",
       "      <th>3'th bandpower</th>\n",
       "      <th>4'th bandpower</th>\n",
       "      <th>5'th bandpower</th>\n",
       "      <th>6'th bandpower</th>\n",
       "      <th>7'th bandpower</th>\n",
       "      <th>...</th>\n",
       "      <th>19'th bandpower</th>\n",
       "      <th>20'th bandpower</th>\n",
       "      <th>21'th bandpower</th>\n",
       "      <th>22'th bandpower</th>\n",
       "      <th>23'th bandpower</th>\n",
       "      <th>24'th bandpower</th>\n",
       "      <th>25'th bandpower</th>\n",
       "      <th>26'th bandpower</th>\n",
       "      <th>27'th bandpower</th>\n",
       "      <th>28'th bandpower</th>\n",
       "    </tr>\n",
       "  </thead>\n",
       "  <tbody>\n",
       "    <tr>\n",
       "      <th>0</th>\n",
       "      <td>0.027100</td>\n",
       "      <td>0.010161</td>\n",
       "      <td>0.0</td>\n",
       "      <td>0.0</td>\n",
       "      <td>0.0</td>\n",
       "      <td>0.0</td>\n",
       "      <td>0.0</td>\n",
       "      <td>0.0</td>\n",
       "      <td>0.0</td>\n",
       "      <td>0.0</td>\n",
       "      <td>...</td>\n",
       "      <td>0.000053</td>\n",
       "      <td>0.000010</td>\n",
       "      <td>0.000009</td>\n",
       "      <td>3.265121e-07</td>\n",
       "      <td>4.210925e-12</td>\n",
       "      <td>5.529903e-13</td>\n",
       "      <td>1.289846e-13</td>\n",
       "      <td>2.724183e-14</td>\n",
       "      <td>6.327039e-15</td>\n",
       "      <td>8.109496e-16</td>\n",
       "    </tr>\n",
       "    <tr>\n",
       "      <th>1</th>\n",
       "      <td>0.035275</td>\n",
       "      <td>0.010017</td>\n",
       "      <td>0.0</td>\n",
       "      <td>0.0</td>\n",
       "      <td>0.0</td>\n",
       "      <td>0.0</td>\n",
       "      <td>0.0</td>\n",
       "      <td>0.0</td>\n",
       "      <td>0.0</td>\n",
       "      <td>0.0</td>\n",
       "      <td>...</td>\n",
       "      <td>0.000052</td>\n",
       "      <td>0.000017</td>\n",
       "      <td>0.000010</td>\n",
       "      <td>2.753879e-07</td>\n",
       "      <td>6.346047e-12</td>\n",
       "      <td>7.718027e-13</td>\n",
       "      <td>1.734842e-13</td>\n",
       "      <td>3.600292e-14</td>\n",
       "      <td>8.277378e-15</td>\n",
       "      <td>1.031748e-15</td>\n",
       "    </tr>\n",
       "    <tr>\n",
       "      <th>2</th>\n",
       "      <td>0.028974</td>\n",
       "      <td>0.010062</td>\n",
       "      <td>0.0</td>\n",
       "      <td>0.0</td>\n",
       "      <td>0.0</td>\n",
       "      <td>0.0</td>\n",
       "      <td>0.0</td>\n",
       "      <td>0.0</td>\n",
       "      <td>0.0</td>\n",
       "      <td>0.0</td>\n",
       "      <td>...</td>\n",
       "      <td>0.000020</td>\n",
       "      <td>0.000003</td>\n",
       "      <td>0.000003</td>\n",
       "      <td>6.764560e-08</td>\n",
       "      <td>1.563125e-12</td>\n",
       "      <td>2.653784e-13</td>\n",
       "      <td>6.582897e-14</td>\n",
       "      <td>1.425574e-14</td>\n",
       "      <td>3.347236e-15</td>\n",
       "      <td>4.248359e-16</td>\n",
       "    </tr>\n",
       "    <tr>\n",
       "      <th>3</th>\n",
       "      <td>0.029652</td>\n",
       "      <td>0.010021</td>\n",
       "      <td>0.0</td>\n",
       "      <td>0.0</td>\n",
       "      <td>0.0</td>\n",
       "      <td>0.0</td>\n",
       "      <td>0.0</td>\n",
       "      <td>0.0</td>\n",
       "      <td>0.0</td>\n",
       "      <td>0.0</td>\n",
       "      <td>...</td>\n",
       "      <td>0.000016</td>\n",
       "      <td>0.000001</td>\n",
       "      <td>0.000001</td>\n",
       "      <td>3.453108e-08</td>\n",
       "      <td>1.955522e-12</td>\n",
       "      <td>3.715692e-13</td>\n",
       "      <td>9.396216e-14</td>\n",
       "      <td>2.047324e-14</td>\n",
       "      <td>4.810262e-15</td>\n",
       "      <td>5.972775e-16</td>\n",
       "    </tr>\n",
       "    <tr>\n",
       "      <th>4</th>\n",
       "      <td>0.027473</td>\n",
       "      <td>0.010138</td>\n",
       "      <td>0.0</td>\n",
       "      <td>0.0</td>\n",
       "      <td>0.0</td>\n",
       "      <td>0.0</td>\n",
       "      <td>0.0</td>\n",
       "      <td>0.0</td>\n",
       "      <td>0.0</td>\n",
       "      <td>0.0</td>\n",
       "      <td>...</td>\n",
       "      <td>0.000015</td>\n",
       "      <td>0.000005</td>\n",
       "      <td>0.000004</td>\n",
       "      <td>1.098879e-07</td>\n",
       "      <td>1.791890e-12</td>\n",
       "      <td>2.240197e-13</td>\n",
       "      <td>5.388303e-14</td>\n",
       "      <td>1.166309e-14</td>\n",
       "      <td>2.738178e-15</td>\n",
       "      <td>3.404845e-16</td>\n",
       "    </tr>\n",
       "    <tr>\n",
       "      <th>...</th>\n",
       "      <td>...</td>\n",
       "      <td>...</td>\n",
       "      <td>...</td>\n",
       "      <td>...</td>\n",
       "      <td>...</td>\n",
       "      <td>...</td>\n",
       "      <td>...</td>\n",
       "      <td>...</td>\n",
       "      <td>...</td>\n",
       "      <td>...</td>\n",
       "      <td>...</td>\n",
       "      <td>...</td>\n",
       "      <td>...</td>\n",
       "      <td>...</td>\n",
       "      <td>...</td>\n",
       "      <td>...</td>\n",
       "      <td>...</td>\n",
       "      <td>...</td>\n",
       "      <td>...</td>\n",
       "      <td>...</td>\n",
       "      <td>...</td>\n",
       "    </tr>\n",
       "    <tr>\n",
       "      <th>6975</th>\n",
       "      <td>0.044759</td>\n",
       "      <td>0.010011</td>\n",
       "      <td>0.0</td>\n",
       "      <td>0.0</td>\n",
       "      <td>0.0</td>\n",
       "      <td>0.0</td>\n",
       "      <td>0.0</td>\n",
       "      <td>0.0</td>\n",
       "      <td>0.0</td>\n",
       "      <td>0.0</td>\n",
       "      <td>...</td>\n",
       "      <td>0.000074</td>\n",
       "      <td>0.000056</td>\n",
       "      <td>0.000042</td>\n",
       "      <td>9.999981e-07</td>\n",
       "      <td>1.392553e-11</td>\n",
       "      <td>6.702303e-13</td>\n",
       "      <td>1.010362e-13</td>\n",
       "      <td>1.743563e-14</td>\n",
       "      <td>3.728060e-15</td>\n",
       "      <td>4.914745e-16</td>\n",
       "    </tr>\n",
       "    <tr>\n",
       "      <th>6976</th>\n",
       "      <td>0.047013</td>\n",
       "      <td>0.010047</td>\n",
       "      <td>0.0</td>\n",
       "      <td>0.0</td>\n",
       "      <td>0.0</td>\n",
       "      <td>0.0</td>\n",
       "      <td>0.0</td>\n",
       "      <td>0.0</td>\n",
       "      <td>0.0</td>\n",
       "      <td>0.0</td>\n",
       "      <td>...</td>\n",
       "      <td>0.000011</td>\n",
       "      <td>0.000010</td>\n",
       "      <td>0.000008</td>\n",
       "      <td>1.862940e-07</td>\n",
       "      <td>2.709854e-12</td>\n",
       "      <td>1.498507e-13</td>\n",
       "      <td>2.548142e-14</td>\n",
       "      <td>4.751444e-15</td>\n",
       "      <td>1.049159e-15</td>\n",
       "      <td>1.325548e-16</td>\n",
       "    </tr>\n",
       "    <tr>\n",
       "      <th>6977</th>\n",
       "      <td>0.026189</td>\n",
       "      <td>0.010071</td>\n",
       "      <td>0.0</td>\n",
       "      <td>0.0</td>\n",
       "      <td>0.0</td>\n",
       "      <td>0.0</td>\n",
       "      <td>0.0</td>\n",
       "      <td>0.0</td>\n",
       "      <td>0.0</td>\n",
       "      <td>0.0</td>\n",
       "      <td>...</td>\n",
       "      <td>0.000007</td>\n",
       "      <td>0.000007</td>\n",
       "      <td>0.000004</td>\n",
       "      <td>1.174904e-07</td>\n",
       "      <td>1.083572e-12</td>\n",
       "      <td>8.164781e-14</td>\n",
       "      <td>1.750411e-14</td>\n",
       "      <td>3.681776e-15</td>\n",
       "      <td>8.587968e-16</td>\n",
       "      <td>1.067953e-16</td>\n",
       "    </tr>\n",
       "    <tr>\n",
       "      <th>6978</th>\n",
       "      <td>0.021934</td>\n",
       "      <td>0.010066</td>\n",
       "      <td>0.0</td>\n",
       "      <td>0.0</td>\n",
       "      <td>0.0</td>\n",
       "      <td>0.0</td>\n",
       "      <td>0.0</td>\n",
       "      <td>0.0</td>\n",
       "      <td>0.0</td>\n",
       "      <td>0.0</td>\n",
       "      <td>...</td>\n",
       "      <td>0.000005</td>\n",
       "      <td>0.000002</td>\n",
       "      <td>0.000003</td>\n",
       "      <td>1.479159e-07</td>\n",
       "      <td>8.655693e-13</td>\n",
       "      <td>8.123537e-14</td>\n",
       "      <td>1.914232e-14</td>\n",
       "      <td>4.167502e-15</td>\n",
       "      <td>9.827124e-16</td>\n",
       "      <td>1.207894e-16</td>\n",
       "    </tr>\n",
       "    <tr>\n",
       "      <th>6979</th>\n",
       "      <td>0.024039</td>\n",
       "      <td>0.010039</td>\n",
       "      <td>0.0</td>\n",
       "      <td>0.0</td>\n",
       "      <td>0.0</td>\n",
       "      <td>0.0</td>\n",
       "      <td>0.0</td>\n",
       "      <td>0.0</td>\n",
       "      <td>0.0</td>\n",
       "      <td>0.0</td>\n",
       "      <td>...</td>\n",
       "      <td>0.000103</td>\n",
       "      <td>0.000032</td>\n",
       "      <td>0.000033</td>\n",
       "      <td>2.045169e-06</td>\n",
       "      <td>1.093064e-11</td>\n",
       "      <td>4.541518e-13</td>\n",
       "      <td>8.181526e-14</td>\n",
       "      <td>1.625359e-14</td>\n",
       "      <td>3.734279e-15</td>\n",
       "      <td>4.874109e-16</td>\n",
       "    </tr>\n",
       "  </tbody>\n",
       "</table>\n",
       "<p>6980 rows × 31 columns</p>\n",
       "</div>"
      ],
      "text/plain": [
       "      peak max  peak min  0'th bandpower  1'th bandpower  2'th bandpower  \\\n",
       "0     0.027100  0.010161             0.0             0.0             0.0   \n",
       "1     0.035275  0.010017             0.0             0.0             0.0   \n",
       "2     0.028974  0.010062             0.0             0.0             0.0   \n",
       "3     0.029652  0.010021             0.0             0.0             0.0   \n",
       "4     0.027473  0.010138             0.0             0.0             0.0   \n",
       "...        ...       ...             ...             ...             ...   \n",
       "6975  0.044759  0.010011             0.0             0.0             0.0   \n",
       "6976  0.047013  0.010047             0.0             0.0             0.0   \n",
       "6977  0.026189  0.010071             0.0             0.0             0.0   \n",
       "6978  0.021934  0.010066             0.0             0.0             0.0   \n",
       "6979  0.024039  0.010039             0.0             0.0             0.0   \n",
       "\n",
       "      3'th bandpower  4'th bandpower  5'th bandpower  6'th bandpower  \\\n",
       "0                0.0             0.0             0.0             0.0   \n",
       "1                0.0             0.0             0.0             0.0   \n",
       "2                0.0             0.0             0.0             0.0   \n",
       "3                0.0             0.0             0.0             0.0   \n",
       "4                0.0             0.0             0.0             0.0   \n",
       "...              ...             ...             ...             ...   \n",
       "6975             0.0             0.0             0.0             0.0   \n",
       "6976             0.0             0.0             0.0             0.0   \n",
       "6977             0.0             0.0             0.0             0.0   \n",
       "6978             0.0             0.0             0.0             0.0   \n",
       "6979             0.0             0.0             0.0             0.0   \n",
       "\n",
       "      7'th bandpower  ...  19'th bandpower  20'th bandpower  21'th bandpower  \\\n",
       "0                0.0  ...         0.000053         0.000010         0.000009   \n",
       "1                0.0  ...         0.000052         0.000017         0.000010   \n",
       "2                0.0  ...         0.000020         0.000003         0.000003   \n",
       "3                0.0  ...         0.000016         0.000001         0.000001   \n",
       "4                0.0  ...         0.000015         0.000005         0.000004   \n",
       "...              ...  ...              ...              ...              ...   \n",
       "6975             0.0  ...         0.000074         0.000056         0.000042   \n",
       "6976             0.0  ...         0.000011         0.000010         0.000008   \n",
       "6977             0.0  ...         0.000007         0.000007         0.000004   \n",
       "6978             0.0  ...         0.000005         0.000002         0.000003   \n",
       "6979             0.0  ...         0.000103         0.000032         0.000033   \n",
       "\n",
       "      22'th bandpower  23'th bandpower  24'th bandpower  25'th bandpower  \\\n",
       "0        3.265121e-07     4.210925e-12     5.529903e-13     1.289846e-13   \n",
       "1        2.753879e-07     6.346047e-12     7.718027e-13     1.734842e-13   \n",
       "2        6.764560e-08     1.563125e-12     2.653784e-13     6.582897e-14   \n",
       "3        3.453108e-08     1.955522e-12     3.715692e-13     9.396216e-14   \n",
       "4        1.098879e-07     1.791890e-12     2.240197e-13     5.388303e-14   \n",
       "...               ...              ...              ...              ...   \n",
       "6975     9.999981e-07     1.392553e-11     6.702303e-13     1.010362e-13   \n",
       "6976     1.862940e-07     2.709854e-12     1.498507e-13     2.548142e-14   \n",
       "6977     1.174904e-07     1.083572e-12     8.164781e-14     1.750411e-14   \n",
       "6978     1.479159e-07     8.655693e-13     8.123537e-14     1.914232e-14   \n",
       "6979     2.045169e-06     1.093064e-11     4.541518e-13     8.181526e-14   \n",
       "\n",
       "      26'th bandpower  27'th bandpower  28'th bandpower  \n",
       "0        2.724183e-14     6.327039e-15     8.109496e-16  \n",
       "1        3.600292e-14     8.277378e-15     1.031748e-15  \n",
       "2        1.425574e-14     3.347236e-15     4.248359e-16  \n",
       "3        2.047324e-14     4.810262e-15     5.972775e-16  \n",
       "4        1.166309e-14     2.738178e-15     3.404845e-16  \n",
       "...               ...              ...              ...  \n",
       "6975     1.743563e-14     3.728060e-15     4.914745e-16  \n",
       "6976     4.751444e-15     1.049159e-15     1.325548e-16  \n",
       "6977     3.681776e-15     8.587968e-16     1.067953e-16  \n",
       "6978     4.167502e-15     9.827124e-16     1.207894e-16  \n",
       "6979     1.625359e-14     3.734279e-15     4.874109e-16  \n",
       "\n",
       "[6980 rows x 31 columns]"
      ]
     },
     "execution_count": 32,
     "metadata": {},
     "output_type": "execute_result"
    }
   ],
   "source": [
    "df"
   ]
  },
  {
   "cell_type": "code",
   "execution_count": 33,
   "id": "458975d2",
   "metadata": {},
   "outputs": [],
   "source": [
    "df.to_csv(\"/Users/ecem/Desktop/phonocardiogram/data/AV/absent/AV-bandpower-and-peaks.csv\" )"
   ]
  },
  {
   "cell_type": "code",
   "execution_count": null,
   "id": "4fade6e1",
   "metadata": {},
   "outputs": [],
   "source": []
  },
  {
   "cell_type": "code",
   "execution_count": null,
   "id": "9dee5f7f",
   "metadata": {},
   "outputs": [],
   "source": []
  }
 ],
 "metadata": {
  "kernelspec": {
   "display_name": "Python 3 (ipykernel)",
   "language": "python",
   "name": "python3"
  },
  "language_info": {
   "codemirror_mode": {
    "name": "ipython",
    "version": 3
   },
   "file_extension": ".py",
   "mimetype": "text/x-python",
   "name": "python",
   "nbconvert_exporter": "python",
   "pygments_lexer": "ipython3",
   "version": "3.9.9"
  }
 },
 "nbformat": 4,
 "nbformat_minor": 5
}
