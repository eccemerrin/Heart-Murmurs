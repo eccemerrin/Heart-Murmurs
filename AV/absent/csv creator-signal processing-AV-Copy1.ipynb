{
 "cells": [
  {
   "cell_type": "markdown",
   "id": "a10707b4",
   "metadata": {},
   "source": [
    "## Imports:"
   ]
  },
  {
   "cell_type": "code",
   "execution_count": 1,
   "id": "5b0b2dcc",
   "metadata": {},
   "outputs": [
    {
     "ename": "RuntimeError",
     "evalue": "module compiled against API version 0xe but this version of numpy is 0xd",
     "output_type": "error",
     "traceback": [
      "\u001b[0;31m---------------------------------------------------------------------------\u001b[0m",
      "\u001b[0;31mRuntimeError\u001b[0m                              Traceback (most recent call last)",
      "\u001b[0;31mRuntimeError\u001b[0m: module compiled against API version 0xe but this version of numpy is 0xd"
     ]
    }
   ],
   "source": [
    "import scipy.io\n",
    "import os\n",
    "import pandas\n",
    "import numpy as np\n",
    "import matplotlib.pyplot as plt\n",
    "import matplotlib.pylab as plt_lab\n",
    "import matplotlib.gridspec as gridspec\n",
    "import obspy\n",
    "import pandas as pd"
   ]
  },
  {
   "cell_type": "code",
   "execution_count": 2,
   "id": "995724bf",
   "metadata": {},
   "outputs": [],
   "source": [
    "import warnings\n",
    "warnings.filterwarnings('ignore')"
   ]
  },
  {
   "cell_type": "markdown",
   "id": "41b4c77f",
   "metadata": {},
   "source": [
    "## Load data:\n",
    "We are going to use this data to plot spectograms of SCG signals. "
   ]
  },
  {
   "cell_type": "code",
   "execution_count": 4,
   "id": "75a415fd",
   "metadata": {},
   "outputs": [],
   "source": [
    "path = \"/Users/ecem/Desktop/phonocardiogram/data/AV/absent\""
   ]
  },
  {
   "cell_type": "code",
   "execution_count": 5,
   "id": "cff5b561",
   "metadata": {},
   "outputs": [],
   "source": [
    "waves = np.load(path + \"/absent_AV_waves_10sec.npy\", allow_pickle= True)\n"
   ]
  },
  {
   "cell_type": "code",
   "execution_count": 6,
   "id": "557b6190",
   "metadata": {},
   "outputs": [
    {
     "name": "stdout",
     "output_type": "stream",
     "text": [
      "(6980, 40000)\n"
     ]
    }
   ],
   "source": [
    "print(waves.shape)\n"
   ]
  },
  {
   "cell_type": "markdown",
   "id": "1b2a6059",
   "metadata": {},
   "source": [
    "## Zero Crossing Rate:\n",
    "Compute the zero-crossing rate of an audio time series.\n",
    "The zero-crossing rate (ZCR) is the rate at which a signal changes from positive to zero to negative or from negative to zero to positive."
   ]
  },
  {
   "cell_type": "code",
   "execution_count": 7,
   "id": "7c9b734f",
   "metadata": {},
   "outputs": [],
   "source": [
    "import librosa as lbs"
   ]
  },
  {
   "cell_type": "code",
   "execution_count": 8,
   "id": "23a0bede",
   "metadata": {},
   "outputs": [
    {
     "data": {
      "text/plain": [
       "array([[0.017625, 0.042375, 0.052375, 0.044375]])"
      ]
     },
     "execution_count": 8,
     "metadata": {},
     "output_type": "execute_result"
    }
   ],
   "source": [
    "lbs.feature.zero_crossing_rate(waves[7],frame_length= 8000, hop_length = 12000)"
   ]
  },
  {
   "cell_type": "code",
   "execution_count": 9,
   "id": "b2a61800",
   "metadata": {},
   "outputs": [
    {
     "data": {
      "text/plain": [
       "(1, 4)"
      ]
     },
     "execution_count": 9,
     "metadata": {},
     "output_type": "execute_result"
    }
   ],
   "source": [
    "lbs.feature.zero_crossing_rate(waves[7], frame_length= 8000, hop_length = 12000).shape"
   ]
  },
  {
   "cell_type": "code",
   "execution_count": 10,
   "id": "cc79deea",
   "metadata": {},
   "outputs": [],
   "source": [
    "def zero_crossing(array, frame_length= 2048, hl = 512):\n",
    "    zero_crossing_rate = np.ones(shape = (array.shape[0], 5)) #buradaki ikinci sayı hop lenght e göre değişmeli \n",
    "\n",
    "    for i in range(array.shape[0]):\n",
    "        zero_crossing_rate[i][0:4] = lbs.feature.zero_crossing_rate(array[i],  frame_length = frame_length,\n",
    "                                                                    hop_length = hl)\n",
    "        zero_crossing_rate[i][4] = sum(lbs.zero_crossings(array[i]))\n",
    "    return zero_crossing_rate\n",
    "\n",
    "        "
   ]
  },
  {
   "cell_type": "code",
   "execution_count": 11,
   "id": "3badd449",
   "metadata": {},
   "outputs": [],
   "source": [
    "zcrs = zero_crossing(waves, 8000, hl = 12000) #çok uzun sürüyor, ya datayı kısaltmalıyız ya da hop lenght artmalı"
   ]
  },
  {
   "cell_type": "code",
   "execution_count": 12,
   "id": "5a0decad",
   "metadata": {},
   "outputs": [
    {
     "data": {
      "text/plain": [
       "numpy.ndarray"
      ]
     },
     "execution_count": 12,
     "metadata": {},
     "output_type": "execute_result"
    }
   ],
   "source": [
    "type(zcrs[0])"
   ]
  },
  {
   "cell_type": "code",
   "execution_count": 13,
   "id": "ef9d104e",
   "metadata": {},
   "outputs": [],
   "source": [
    "np.save(path + \"/absent_AV_zcrs_array\", zcrs, allow_pickle= True)"
   ]
  },
  {
   "cell_type": "code",
   "execution_count": 14,
   "id": "58e4c21a",
   "metadata": {},
   "outputs": [
    {
     "name": "stdout",
     "output_type": "stream",
     "text": [
      "['zcrs0', 'zcrs1', 'zcrs2', 'zcrs3', '#ofcrossing']\n"
     ]
    }
   ],
   "source": [
    "columns_zcr = []\n",
    "for i in range(zcrs.shape[1]-1):\n",
    "    columns_zcr.append(\"zcrs{}\".format(i))\n",
    "\n",
    "    \n",
    "columns_zcr.append(\"#ofcrossing\")\n",
    "\n",
    "print(columns_zcr)"
   ]
  },
  {
   "cell_type": "code",
   "execution_count": 15,
   "id": "e07f721f",
   "metadata": {},
   "outputs": [
    {
     "data": {
      "text/plain": [
       "array([1.7625e-02, 4.2375e-02, 5.2375e-02, 4.4375e-02, 1.6280e+03])"
      ]
     },
     "execution_count": 15,
     "metadata": {},
     "output_type": "execute_result"
    }
   ],
   "source": [
    "zcrs[7]"
   ]
  },
  {
   "cell_type": "code",
   "execution_count": 16,
   "id": "14c76313",
   "metadata": {},
   "outputs": [],
   "source": [
    "def dataframe_creator(array, df = pd.DataFrame(), l = 7, columns = None):\n",
    "    values = []\n",
    "\n",
    "    for i in range(array.shape[0]):\n",
    "        llist = list(array[i][0:l-1].tolist())\n",
    "        llist.append(array[i][l-1])\n",
    "        \n",
    "        values.append(llist)\n",
    "        medium = pd.DataFrame([values[i]], columns = columns)\n",
    "        \n",
    "        \n",
    "        df = pd.concat([df, medium], axis = 0)\n",
    "    return df "
   ]
  },
  {
   "cell_type": "code",
   "execution_count": 17,
   "id": "40eb5d7a",
   "metadata": {},
   "outputs": [],
   "source": [
    "df = dataframe_creator(zcrs, l =5,  columns = columns_zcr)\n",
    "\n",
    "df.reset_index(drop = True, inplace = True)"
   ]
  },
  {
   "cell_type": "code",
   "execution_count": 18,
   "id": "58c4ea98",
   "metadata": {},
   "outputs": [
    {
     "data": {
      "text/html": [
       "<div>\n",
       "<style scoped>\n",
       "    .dataframe tbody tr th:only-of-type {\n",
       "        vertical-align: middle;\n",
       "    }\n",
       "\n",
       "    .dataframe tbody tr th {\n",
       "        vertical-align: top;\n",
       "    }\n",
       "\n",
       "    .dataframe thead th {\n",
       "        text-align: right;\n",
       "    }\n",
       "</style>\n",
       "<table border=\"1\" class=\"dataframe\">\n",
       "  <thead>\n",
       "    <tr style=\"text-align: right;\">\n",
       "      <th></th>\n",
       "      <th>zcrs0</th>\n",
       "      <th>zcrs1</th>\n",
       "      <th>zcrs2</th>\n",
       "      <th>zcrs3</th>\n",
       "      <th>#ofcrossing</th>\n",
       "    </tr>\n",
       "  </thead>\n",
       "  <tbody>\n",
       "    <tr>\n",
       "      <th>0</th>\n",
       "      <td>0.012500</td>\n",
       "      <td>0.043500</td>\n",
       "      <td>0.035625</td>\n",
       "      <td>0.036625</td>\n",
       "      <td>1516.0</td>\n",
       "    </tr>\n",
       "    <tr>\n",
       "      <th>1</th>\n",
       "      <td>0.018000</td>\n",
       "      <td>0.037125</td>\n",
       "      <td>0.031750</td>\n",
       "      <td>0.053375</td>\n",
       "      <td>1600.0</td>\n",
       "    </tr>\n",
       "    <tr>\n",
       "      <th>2</th>\n",
       "      <td>0.014500</td>\n",
       "      <td>0.038125</td>\n",
       "      <td>0.051375</td>\n",
       "      <td>0.035750</td>\n",
       "      <td>1540.0</td>\n",
       "    </tr>\n",
       "    <tr>\n",
       "      <th>3</th>\n",
       "      <td>0.017250</td>\n",
       "      <td>0.032250</td>\n",
       "      <td>0.034250</td>\n",
       "      <td>0.031750</td>\n",
       "      <td>1378.0</td>\n",
       "    </tr>\n",
       "    <tr>\n",
       "      <th>4</th>\n",
       "      <td>0.022625</td>\n",
       "      <td>0.055125</td>\n",
       "      <td>0.038500</td>\n",
       "      <td>0.031375</td>\n",
       "      <td>1572.0</td>\n",
       "    </tr>\n",
       "  </tbody>\n",
       "</table>\n",
       "</div>"
      ],
      "text/plain": [
       "      zcrs0     zcrs1     zcrs2     zcrs3  #ofcrossing\n",
       "0  0.012500  0.043500  0.035625  0.036625       1516.0\n",
       "1  0.018000  0.037125  0.031750  0.053375       1600.0\n",
       "2  0.014500  0.038125  0.051375  0.035750       1540.0\n",
       "3  0.017250  0.032250  0.034250  0.031750       1378.0\n",
       "4  0.022625  0.055125  0.038500  0.031375       1572.0"
      ]
     },
     "execution_count": 18,
     "metadata": {},
     "output_type": "execute_result"
    }
   ],
   "source": [
    "df.head()"
   ]
  },
  {
   "cell_type": "code",
   "execution_count": 19,
   "id": "febe5cf1",
   "metadata": {},
   "outputs": [],
   "source": [
    "df.to_csv(path + '/absent_AV_zcrs.csv')"
   ]
  },
  {
   "cell_type": "markdown",
   "id": "3bbfeffb",
   "metadata": {},
   "source": [
    "## with Özgün Ozan Nacitarhan code"
   ]
  },
  {
   "cell_type": "code",
   "execution_count": 20,
   "id": "481adc1a",
   "metadata": {},
   "outputs": [],
   "source": [
    "def zcr(array):\n",
    "    zcr = np.ones(shape = (array.shape[0],1))\n",
    "    for i in range(array.shape[0]):\n",
    "        data_zeros = np.zeros(len(array[i]))\n",
    "        data_zeros[1:] = array[i][:len(array[i]) - 1]\n",
    "        zcr[i][0] = (1 / (2 * len(array[i]))) * np.sum(np.abs(np.sign(array[i]) - np.sign(data_zeros)))\n",
    "        \n",
    "    return zcr\n"
   ]
  },
  {
   "cell_type": "code",
   "execution_count": 21,
   "id": "f539b16d",
   "metadata": {},
   "outputs": [],
   "source": [
    "zcrs_özgün = zcr(waves)"
   ]
  },
  {
   "cell_type": "code",
   "execution_count": 22,
   "id": "12e14c34",
   "metadata": {},
   "outputs": [
    {
     "data": {
      "text/plain": [
       "(6980, 1)"
      ]
     },
     "execution_count": 22,
     "metadata": {},
     "output_type": "execute_result"
    }
   ],
   "source": [
    "zcrs_özgün.shape"
   ]
  },
  {
   "cell_type": "code",
   "execution_count": 23,
   "id": "20657000",
   "metadata": {},
   "outputs": [
    {
     "data": {
      "text/plain": [
       "array([0.0378875])"
      ]
     },
     "execution_count": 23,
     "metadata": {},
     "output_type": "execute_result"
    }
   ],
   "source": [
    "zcrs_özgün[0]"
   ]
  },
  {
   "cell_type": "code",
   "execution_count": 24,
   "id": "adfd4882",
   "metadata": {},
   "outputs": [],
   "source": [
    "np.save(path + \"/absent_AV_zcrs_özgün\", zcrs_özgün, allow_pickle= True)"
   ]
  },
  {
   "cell_type": "markdown",
   "id": "68835fa8",
   "metadata": {},
   "source": [
    "### Chromogram:\n",
    "We can use Chroma feature visualization to know how dominant the characteristics of a certain pitch {C, C♯, D, D♯, E, F, F♯, G, G♯, A, A♯, B} is present in the sampled frame.\n",
    "\n",
    "Compute a chromagram from a waveform or power spectrogram.\n",
    "It returns Normalized energy for each chroma bin at each frame.\n",
    "\n",
    "Hop size should refer to the number of samples in between successive frames. For signal analysis Hop Size should be less than the frame size, so that frames overlap."
   ]
  },
  {
   "cell_type": "code",
   "execution_count": 25,
   "id": "a2419065",
   "metadata": {},
   "outputs": [],
   "source": [
    "import warnings\n",
    "warnings.filterwarnings('ignore')"
   ]
  },
  {
   "cell_type": "code",
   "execution_count": 26,
   "id": "4ee986de",
   "metadata": {},
   "outputs": [],
   "source": [
    "import librosa.display"
   ]
  },
  {
   "cell_type": "code",
   "execution_count": 27,
   "id": "72d9d462",
   "metadata": {},
   "outputs": [
    {
     "data": {
      "text/plain": [
       "(12, 4)"
      ]
     },
     "execution_count": 27,
     "metadata": {},
     "output_type": "execute_result"
    }
   ],
   "source": [
    "lbs.feature.chroma_stft(waves[0], sr = 4000, hop_length = 12000).shape"
   ]
  },
  {
   "cell_type": "code",
   "execution_count": 28,
   "id": "1129b939",
   "metadata": {},
   "outputs": [],
   "source": [
    "# we are taking time average of each pitch values.\n",
    "def chromagram_average(array, sampling_rate = 256):\n",
    "    pitch = np.ones(shape = (array.shape[0], 12)) \n",
    "    \n",
    "    for i in range(array.shape[0]):\n",
    "        for j in range(12):\n",
    "            pitch[i][j] = lbs.feature.chroma_stft(np.array(array[i]), sr= sampling_rate, hop_length = 12000)[j].mean()\n",
    "    return pitch"
   ]
  },
  {
   "cell_type": "code",
   "execution_count": 29,
   "id": "fe736d42",
   "metadata": {},
   "outputs": [],
   "source": [
    "chro = chromagram_average(waves, sampling_rate = 4000) # bu da çok uzun sürüyor."
   ]
  },
  {
   "cell_type": "code",
   "execution_count": 30,
   "id": "ed36ce80",
   "metadata": {},
   "outputs": [
    {
     "data": {
      "text/plain": [
       "numpy.ndarray"
      ]
     },
     "execution_count": 30,
     "metadata": {},
     "output_type": "execute_result"
    }
   ],
   "source": [
    "type(chro[0])"
   ]
  },
  {
   "cell_type": "code",
   "execution_count": 31,
   "id": "875ac687",
   "metadata": {},
   "outputs": [
    {
     "data": {
      "text/plain": [
       "(6980, 12)"
      ]
     },
     "execution_count": 31,
     "metadata": {},
     "output_type": "execute_result"
    }
   ],
   "source": [
    "chro.shape"
   ]
  },
  {
   "cell_type": "code",
   "execution_count": 32,
   "id": "0bac78ad",
   "metadata": {},
   "outputs": [],
   "source": [
    "np.save(path + \"/absent_AV_chromogram_array\", chro, allow_pickle= True)"
   ]
  },
  {
   "cell_type": "code",
   "execution_count": 33,
   "id": "f275be61",
   "metadata": {},
   "outputs": [
    {
     "name": "stdout",
     "output_type": "stream",
     "text": [
      "(6980, 12)\n"
     ]
    }
   ],
   "source": [
    "print(chro.shape)"
   ]
  },
  {
   "cell_type": "code",
   "execution_count": 34,
   "id": "69d520e6",
   "metadata": {},
   "outputs": [],
   "source": [
    "lst = [\"C\", \"C♯\", \"D\", \"D♯\", \"E\", \"F\", \"F♯\", \"G\", \"G♯\", \"A\", \"A♯\", \"B\"]"
   ]
  },
  {
   "cell_type": "code",
   "execution_count": 35,
   "id": "b24e15ff",
   "metadata": {},
   "outputs": [
    {
     "name": "stdout",
     "output_type": "stream",
     "text": [
      "['C', 'C♯', 'D', 'D♯', 'E', 'F', 'F♯', 'G', 'G♯', 'A', 'A♯', 'B']\n",
      "12\n"
     ]
    }
   ],
   "source": [
    "col_chro = []\n",
    "for i in range(chro.shape[1]):\n",
    "    col_chro.append(lst[i])\n",
    "    \n",
    "print(col_chro)\n",
    "print(len(col_chro))"
   ]
  },
  {
   "cell_type": "code",
   "execution_count": 36,
   "id": "17156bed",
   "metadata": {},
   "outputs": [
    {
     "data": {
      "text/html": [
       "<div>\n",
       "<style scoped>\n",
       "    .dataframe tbody tr th:only-of-type {\n",
       "        vertical-align: middle;\n",
       "    }\n",
       "\n",
       "    .dataframe tbody tr th {\n",
       "        vertical-align: top;\n",
       "    }\n",
       "\n",
       "    .dataframe thead th {\n",
       "        text-align: right;\n",
       "    }\n",
       "</style>\n",
       "<table border=\"1\" class=\"dataframe\">\n",
       "  <thead>\n",
       "    <tr style=\"text-align: right;\">\n",
       "      <th></th>\n",
       "      <th>C</th>\n",
       "      <th>C♯</th>\n",
       "      <th>D</th>\n",
       "      <th>D♯</th>\n",
       "      <th>E</th>\n",
       "      <th>F</th>\n",
       "      <th>F♯</th>\n",
       "      <th>G</th>\n",
       "      <th>G♯</th>\n",
       "      <th>A</th>\n",
       "      <th>A♯</th>\n",
       "      <th>B</th>\n",
       "    </tr>\n",
       "  </thead>\n",
       "  <tbody>\n",
       "    <tr>\n",
       "      <th>0</th>\n",
       "      <td>0.844399</td>\n",
       "      <td>0.744447</td>\n",
       "      <td>0.6703</td>\n",
       "      <td>0.804889</td>\n",
       "      <td>0.596703</td>\n",
       "      <td>0.578218</td>\n",
       "      <td>0.728577</td>\n",
       "      <td>0.63601</td>\n",
       "      <td>0.74465</td>\n",
       "      <td>0.750118</td>\n",
       "      <td>0.673866</td>\n",
       "      <td>0.684847</td>\n",
       "    </tr>\n",
       "    <tr>\n",
       "      <th>1</th>\n",
       "      <td>0.617081</td>\n",
       "      <td>0.931225</td>\n",
       "      <td>0.821587</td>\n",
       "      <td>0.529354</td>\n",
       "      <td>0.463491</td>\n",
       "      <td>0.665626</td>\n",
       "      <td>0.711824</td>\n",
       "      <td>0.663221</td>\n",
       "      <td>0.565747</td>\n",
       "      <td>0.759736</td>\n",
       "      <td>0.761577</td>\n",
       "      <td>0.549593</td>\n",
       "    </tr>\n",
       "    <tr>\n",
       "      <th>2</th>\n",
       "      <td>0.64818</td>\n",
       "      <td>0.757048</td>\n",
       "      <td>0.461994</td>\n",
       "      <td>0.424684</td>\n",
       "      <td>0.307952</td>\n",
       "      <td>0.338254</td>\n",
       "      <td>0.412674</td>\n",
       "      <td>0.503547</td>\n",
       "      <td>0.450344</td>\n",
       "      <td>0.372416</td>\n",
       "      <td>0.419678</td>\n",
       "      <td>0.557133</td>\n",
       "    </tr>\n",
       "    <tr>\n",
       "      <th>3</th>\n",
       "      <td>0.687141</td>\n",
       "      <td>0.69119</td>\n",
       "      <td>0.752003</td>\n",
       "      <td>0.48828</td>\n",
       "      <td>0.331105</td>\n",
       "      <td>0.315697</td>\n",
       "      <td>0.409785</td>\n",
       "      <td>0.565138</td>\n",
       "      <td>0.601076</td>\n",
       "      <td>0.476511</td>\n",
       "      <td>0.387921</td>\n",
       "      <td>0.65082</td>\n",
       "    </tr>\n",
       "    <tr>\n",
       "      <th>4</th>\n",
       "      <td>0.550905</td>\n",
       "      <td>0.532233</td>\n",
       "      <td>0.501923</td>\n",
       "      <td>0.456858</td>\n",
       "      <td>0.457487</td>\n",
       "      <td>0.507901</td>\n",
       "      <td>0.471108</td>\n",
       "      <td>0.61851</td>\n",
       "      <td>0.745725</td>\n",
       "      <td>0.654878</td>\n",
       "      <td>0.825786</td>\n",
       "      <td>0.767013</td>\n",
       "    </tr>\n",
       "    <tr>\n",
       "      <th>...</th>\n",
       "      <td>...</td>\n",
       "      <td>...</td>\n",
       "      <td>...</td>\n",
       "      <td>...</td>\n",
       "      <td>...</td>\n",
       "      <td>...</td>\n",
       "      <td>...</td>\n",
       "      <td>...</td>\n",
       "      <td>...</td>\n",
       "      <td>...</td>\n",
       "      <td>...</td>\n",
       "      <td>...</td>\n",
       "    </tr>\n",
       "    <tr>\n",
       "      <th>6975</th>\n",
       "      <td>0.846236</td>\n",
       "      <td>0.590217</td>\n",
       "      <td>0.593689</td>\n",
       "      <td>0.633447</td>\n",
       "      <td>0.573979</td>\n",
       "      <td>0.549979</td>\n",
       "      <td>0.4351</td>\n",
       "      <td>0.530312</td>\n",
       "      <td>0.615302</td>\n",
       "      <td>0.655096</td>\n",
       "      <td>0.637599</td>\n",
       "      <td>0.658983</td>\n",
       "    </tr>\n",
       "    <tr>\n",
       "      <th>6976</th>\n",
       "      <td>0.495203</td>\n",
       "      <td>0.608017</td>\n",
       "      <td>0.450968</td>\n",
       "      <td>0.538642</td>\n",
       "      <td>0.447241</td>\n",
       "      <td>0.517477</td>\n",
       "      <td>0.633122</td>\n",
       "      <td>0.694548</td>\n",
       "      <td>0.719311</td>\n",
       "      <td>0.523827</td>\n",
       "      <td>0.537442</td>\n",
       "      <td>0.687991</td>\n",
       "    </tr>\n",
       "    <tr>\n",
       "      <th>6977</th>\n",
       "      <td>0.579771</td>\n",
       "      <td>0.54055</td>\n",
       "      <td>0.550315</td>\n",
       "      <td>0.395047</td>\n",
       "      <td>0.386224</td>\n",
       "      <td>0.470707</td>\n",
       "      <td>0.459667</td>\n",
       "      <td>0.638234</td>\n",
       "      <td>0.71253</td>\n",
       "      <td>0.590428</td>\n",
       "      <td>0.59077</td>\n",
       "      <td>0.609561</td>\n",
       "    </tr>\n",
       "    <tr>\n",
       "      <th>6978</th>\n",
       "      <td>0.791573</td>\n",
       "      <td>0.657851</td>\n",
       "      <td>0.5756</td>\n",
       "      <td>0.442193</td>\n",
       "      <td>0.416418</td>\n",
       "      <td>0.409156</td>\n",
       "      <td>0.400621</td>\n",
       "      <td>0.60972</td>\n",
       "      <td>0.767015</td>\n",
       "      <td>0.680255</td>\n",
       "      <td>0.603341</td>\n",
       "      <td>0.7182</td>\n",
       "    </tr>\n",
       "    <tr>\n",
       "      <th>6979</th>\n",
       "      <td>0.461251</td>\n",
       "      <td>0.544376</td>\n",
       "      <td>0.517206</td>\n",
       "      <td>0.601696</td>\n",
       "      <td>0.685461</td>\n",
       "      <td>0.710067</td>\n",
       "      <td>0.495121</td>\n",
       "      <td>0.587817</td>\n",
       "      <td>0.741786</td>\n",
       "      <td>0.58411</td>\n",
       "      <td>0.503954</td>\n",
       "      <td>0.42212</td>\n",
       "    </tr>\n",
       "  </tbody>\n",
       "</table>\n",
       "<p>6980 rows × 12 columns</p>\n",
       "</div>"
      ],
      "text/plain": [
       "             C        C♯         D        D♯         E         F        F♯  \\\n",
       "0     0.844399  0.744447    0.6703  0.804889  0.596703  0.578218  0.728577   \n",
       "1     0.617081  0.931225  0.821587  0.529354  0.463491  0.665626  0.711824   \n",
       "2      0.64818  0.757048  0.461994  0.424684  0.307952  0.338254  0.412674   \n",
       "3     0.687141   0.69119  0.752003   0.48828  0.331105  0.315697  0.409785   \n",
       "4     0.550905  0.532233  0.501923  0.456858  0.457487  0.507901  0.471108   \n",
       "...        ...       ...       ...       ...       ...       ...       ...   \n",
       "6975  0.846236  0.590217  0.593689  0.633447  0.573979  0.549979    0.4351   \n",
       "6976  0.495203  0.608017  0.450968  0.538642  0.447241  0.517477  0.633122   \n",
       "6977  0.579771   0.54055  0.550315  0.395047  0.386224  0.470707  0.459667   \n",
       "6978  0.791573  0.657851    0.5756  0.442193  0.416418  0.409156  0.400621   \n",
       "6979  0.461251  0.544376  0.517206  0.601696  0.685461  0.710067  0.495121   \n",
       "\n",
       "             G        G♯         A        A♯         B  \n",
       "0      0.63601   0.74465  0.750118  0.673866  0.684847  \n",
       "1     0.663221  0.565747  0.759736  0.761577  0.549593  \n",
       "2     0.503547  0.450344  0.372416  0.419678  0.557133  \n",
       "3     0.565138  0.601076  0.476511  0.387921   0.65082  \n",
       "4      0.61851  0.745725  0.654878  0.825786  0.767013  \n",
       "...        ...       ...       ...       ...       ...  \n",
       "6975  0.530312  0.615302  0.655096  0.637599  0.658983  \n",
       "6976  0.694548  0.719311  0.523827  0.537442  0.687991  \n",
       "6977  0.638234   0.71253  0.590428   0.59077  0.609561  \n",
       "6978   0.60972  0.767015  0.680255  0.603341    0.7182  \n",
       "6979  0.587817  0.741786   0.58411  0.503954   0.42212  \n",
       "\n",
       "[6980 rows x 12 columns]"
      ]
     },
     "execution_count": 36,
     "metadata": {},
     "output_type": "execute_result"
    }
   ],
   "source": [
    "ch_df = dataframe_creator(chro,\n",
    "                         df =pd.DataFrame(columns = col_chro), columns = col_chro, l = 12)\n",
    "\n",
    "ch_df.reset_index(drop = True, inplace = True)\n",
    "ch_df"
   ]
  },
  {
   "cell_type": "code",
   "execution_count": 37,
   "id": "81a61a1e",
   "metadata": {},
   "outputs": [],
   "source": [
    "ch_df.to_csv(path + \"/absent_AV_chromogram.csv\")"
   ]
  },
  {
   "cell_type": "markdown",
   "id": "cce74b21",
   "metadata": {},
   "source": [
    "## Tempogram\n",
    "\n",
    "Compute the tempogram: local autocorrelation of the onset strength envelope.\n",
    "\n",
    "# kendime not tempogram değerlerini spektogram değerleri gibi kaydet."
   ]
  },
  {
   "cell_type": "code",
   "execution_count": 38,
   "id": "c9f3130a",
   "metadata": {},
   "outputs": [],
   "source": [
    "def tempo_average(array): # 192,79\n",
    "    means= []\n",
    "    for i in range(array.shape[0]): #192\n",
    "        means.append(array[i].mean())\n",
    "    return np.array(means) # 192\n",
    "        "
   ]
  },
  {
   "cell_type": "code",
   "execution_count": 39,
   "id": "9d9179b5",
   "metadata": {},
   "outputs": [],
   "source": [
    "def tempogram(array = 0, hop_lenght = 12000, sampling_rate = 256):\n",
    "    \n",
    "    oenv = librosa.onset.onset_strength(y=np.array(array), \n",
    "                                            sr=sampling_rate, \n",
    "                                        lag =3)\n",
    "\n",
    "    times = librosa.times_like(oenv, sr=sampling_rate, hop_length=12000)\n",
    "\n",
    "    tempogram = librosa.feature.tempogram(onset_envelope = oenv, sr = sampling_rate,\n",
    "                                              hop_length = hop_lenght, win_length = 192 )\n",
    "    # Estimate the global tempo for display purposes\n",
    "    #tempo = librosa.beat.tempo(onset_envelope=oenv, sr= sampling_rate,\n",
    "                                   #hop_length=hop_length)[0]\n",
    "    return tempogram"
   ]
  },
  {
   "cell_type": "code",
   "execution_count": 40,
   "id": "4ec648a1",
   "metadata": {},
   "outputs": [
    {
     "data": {
      "text/plain": [
       "(192, 79)"
      ]
     },
     "execution_count": 40,
     "metadata": {},
     "output_type": "execute_result"
    }
   ],
   "source": [
    "tempogram(waves[0]).shape"
   ]
  },
  {
   "cell_type": "code",
   "execution_count": 41,
   "id": "d113b2df",
   "metadata": {},
   "outputs": [
    {
     "data": {
      "text/plain": [
       "array([1., 1., 1., 1., 1., 1., 1., 1., 1., 1., 1., 1., 1., 1., 1., 1., 1.,\n",
       "       1., 1., 1., 1., 1., 1., 1., 1., 1., 1., 1., 1., 1., 1., 1., 1., 1.,\n",
       "       1., 1., 1., 1., 1., 1., 1., 1., 1., 1., 1., 1., 1., 1., 1., 1., 1.,\n",
       "       1., 1., 1., 1., 1., 1., 1., 1., 1., 1., 1., 1., 1., 1., 1., 1., 1.,\n",
       "       1., 1., 1., 1., 1., 1., 1., 1., 1., 1., 1.])"
      ]
     },
     "execution_count": 41,
     "metadata": {},
     "output_type": "execute_result"
    }
   ],
   "source": [
    "tempogram(waves[0])[0]"
   ]
  },
  {
   "cell_type": "code",
   "execution_count": 42,
   "id": "4dd11e0a",
   "metadata": {},
   "outputs": [
    {
     "data": {
      "text/plain": [
       "array([0.8333347 , 0.8333264 , 0.83333055, 0.83334729, 0.83337671,\n",
       "       0.83341894, 0.83347409, 0.83354226, 0.83362358, 0.83371817,\n",
       "       0.83382614, 0.83394761, 0.83408271, 0.83423158, 0.83439434,\n",
       "       0.83457112, 0.83476207, 0.83496733, 0.83518706, 0.8354214 ,\n",
       "       0.83567051, 0.83593456, 0.83621371, 0.83650814, 0.83681803,\n",
       "       0.83714356, 0.83748492, 0.83784231, 0.83821593, 0.83860598,\n",
       "       0.83901268, 0.83943623, 0.83987687, 0.84033481, 0.84081029,\n",
       "       0.84130354, 0.8418148 , 0.84234431, 0.84289231, 0.84345905,\n",
       "       0.84404479, 0.84464976, 0.84527423, 0.84591845, 0.84658267,\n",
       "       0.84726713, 0.8479721 , 0.84869781, 0.84944451, 0.85021242,\n",
       "       0.8510018 , 0.85181285, 0.85264579, 0.85350082, 0.85437814,\n",
       "       0.85527793, 0.85620035, 0.85714554, 0.85811364, 0.85910475,\n",
       "       0.86011896, 0.86115633, 0.86221688, 0.86330064, 0.86440756,\n",
       "       0.8655376 , 0.86669065, 0.86786658, 0.86906523, 0.87028637,\n",
       "       0.87152975, 0.87279506, 0.87408196, 0.87539003, 0.87671883,\n",
       "       0.87806786, 0.87943656, 0.88082432, 0.88223048])"
      ]
     },
     "execution_count": 42,
     "metadata": {},
     "output_type": "execute_result"
    }
   ],
   "source": [
    "tempogram(waves[0])[1]"
   ]
  },
  {
   "cell_type": "code",
   "execution_count": 43,
   "id": "1ecf758c",
   "metadata": {},
   "outputs": [
    {
     "data": {
      "text/plain": [
       "array([ 1.00000000e+00,  8.48387009e-01,  5.81617576e-01,  3.50824052e-01,\n",
       "        2.70176498e-01,  3.01689995e-01,  3.79434369e-01,  4.25331476e-01,\n",
       "        4.06693882e-01,  3.42671824e-01,  2.76818171e-01,  2.33561149e-01,\n",
       "        2.17653776e-01,  2.34017513e-01,  2.61538918e-01,  2.71496092e-01,\n",
       "        2.54470614e-01,  2.32593792e-01,  2.72291418e-01,  3.42584141e-01,\n",
       "        3.84762735e-01,  3.75912717e-01,  3.17983089e-01,  2.63314238e-01,\n",
       "        2.33757505e-01,  2.38088505e-01,  2.48751525e-01,  2.63326426e-01,\n",
       "        2.71131732e-01,  2.81899334e-01,  2.81403191e-01,  2.73778196e-01,\n",
       "        2.65697822e-01,  2.59921645e-01,  2.63017177e-01,  2.44102584e-01,\n",
       "        2.06236162e-01,  1.80420757e-01,  2.04941391e-01,  2.79801975e-01,\n",
       "        3.42356979e-01,  3.43190650e-01,  2.93526097e-01,  2.25521447e-01,\n",
       "        1.72215922e-01,  1.44162849e-01,  1.39665721e-01,  1.41687737e-01,\n",
       "        1.46465146e-01,  1.51470994e-01,  1.56426409e-01,  1.48088294e-01,\n",
       "        1.33544600e-01,  1.21539620e-01,  1.15023941e-01,  1.14408086e-01,\n",
       "        1.09784092e-01,  1.11075213e-01,  1.24542337e-01,  1.44457544e-01,\n",
       "        1.58599455e-01,  1.56200520e-01,  1.35854667e-01,  1.07753489e-01,\n",
       "        8.58341660e-02,  7.40133863e-02,  6.66893557e-02,  6.32534849e-02,\n",
       "        6.00425901e-02,  5.73478026e-02,  5.46782028e-02,  5.28223714e-02,\n",
       "        5.08970874e-02,  4.81793138e-02,  4.58583652e-02,  4.36162606e-02,\n",
       "        4.14519998e-02,  3.93645213e-02,  3.73527060e-02,  3.54153866e-02,\n",
       "        3.35513535e-02,  3.17593543e-02,  3.00380941e-02,  2.83862412e-02,\n",
       "        2.68024262e-02,  2.52852388e-02,  2.38332318e-02,  2.24449266e-02,\n",
       "        2.11188057e-02,  1.98532811e-02,  1.86466703e-02,  1.74972051e-02,\n",
       "        1.64030594e-02,  1.53623947e-02,  1.43733940e-02,  1.34342641e-02,\n",
       "        1.25432372e-02,  1.16985728e-02,  1.08985593e-02,  1.01415162e-02,\n",
       "        9.42579549e-03,  8.74978377e-03,  8.11190399e-03,  7.51061693e-03,\n",
       "        6.94442310e-03,  6.41186401e-03,  5.91152345e-03,  5.44202705e-03,\n",
       "        5.00204019e-03,  4.59026403e-03,  4.20543067e-03,  3.84630055e-03,\n",
       "        3.51166257e-03,  3.20033498e-03,  2.91116604e-03,  2.64303429e-03,\n",
       "        2.39484897e-03,  2.16555082e-03,  1.95411217e-03,  1.75953541e-03,\n",
       "        1.58085140e-03,  1.41711854e-03,  1.26742255e-03,  1.13087705e-03,\n",
       "        1.00662424e-03,  8.93835830e-04,  7.91713422e-04,  6.99488730e-04,\n",
       "        6.16424006e-04,  5.41812240e-04,  4.74977472e-04,  4.15275389e-04,\n",
       "        3.62094063e-04,  3.14854632e-04,  2.73011433e-04,  2.36051250e-04,\n",
       "        2.03492942e-04,  1.74887769e-04,  1.49819822e-04,  1.27906336e-04,\n",
       "        1.08797615e-04,  9.21761060e-05,  7.77543730e-05,  6.52727172e-05,\n",
       "        5.44973615e-05,  4.52194679e-05,  3.72548269e-05,  3.04435012e-05,\n",
       "        2.46481454e-05,  1.97499013e-05,  1.56433575e-05,  1.22324529e-05,\n",
       "        9.42879987e-06,  7.15111872e-06,  5.32507496e-06,  3.88312582e-06,\n",
       "        2.76422083e-06,  1.91342021e-06,  1.28163827e-06,  8.25486874e-07,\n",
       "        5.07091050e-07,  2.93859491e-07,  1.58252854e-07,  7.75603323e-08,\n",
       "        3.35846784e-08,  1.22957253e-08,  3.53951795e-09,  6.91335310e-10,\n",
       "        6.01587044e-11,  1.61238462e-18, -1.96411817e-18,  4.22027013e-18,\n",
       "       -1.43673480e-17, -4.42550908e-18,  1.76477025e-18,  1.30979308e-17,\n",
       "        2.66532665e-17,  4.77992406e-19,  9.94442948e-18,  9.43632510e-18,\n",
       "        1.52762752e-17,  3.06996110e-17,  3.36035270e-18,  1.80149740e-17,\n",
       "        1.39296517e-17,  1.17353231e-17,  2.47857027e-17,  7.07667580e-19,\n",
       "        1.87126298e-17,  2.31699590e-17,  1.64966474e-17,  2.43933591e-17])"
      ]
     },
     "execution_count": 43,
     "metadata": {},
     "output_type": "execute_result"
    }
   ],
   "source": [
    "tempo_average(tempogram(waves[0]))"
   ]
  },
  {
   "cell_type": "markdown",
   "id": "26896649",
   "metadata": {},
   "source": [
    "# tempogram(waves[0])[0]"
   ]
  },
  {
   "cell_type": "code",
   "execution_count": 44,
   "id": "5f49f3c2",
   "metadata": {},
   "outputs": [],
   "source": [
    "def temp_values(array):\n",
    "    final = np.ones(shape = (array.shape[0], 192))\n",
    "    for i in range(array.shape[0]): #8bin civarı\n",
    "        \n",
    "        _x = tempogram(array[i]) #1,4000   #192,79\n",
    "        #print(_x.shape)\n",
    "        final[i] = tempo_average(_x) #192\n",
    "        \n",
    "        \n",
    "    return final"
   ]
  },
  {
   "cell_type": "code",
   "execution_count": 45,
   "id": "a2c80c43",
   "metadata": {},
   "outputs": [],
   "source": [
    "temp = temp_values(waves) #çok uzun sürüyor \n"
   ]
  },
  {
   "cell_type": "code",
   "execution_count": 46,
   "id": "c97cff81",
   "metadata": {},
   "outputs": [
    {
     "data": {
      "text/plain": [
       "numpy.ndarray"
      ]
     },
     "execution_count": 46,
     "metadata": {},
     "output_type": "execute_result"
    }
   ],
   "source": [
    "type(temp)"
   ]
  },
  {
   "cell_type": "code",
   "execution_count": 47,
   "id": "346fc135",
   "metadata": {},
   "outputs": [],
   "source": [
    "np.save(path + \"/absent_AV_tempgram_array\", temp, allow_pickle= True)"
   ]
  },
  {
   "cell_type": "code",
   "execution_count": 48,
   "id": "d6bf375d",
   "metadata": {},
   "outputs": [
    {
     "data": {
      "text/plain": [
       "(6980, 192)"
      ]
     },
     "execution_count": 48,
     "metadata": {},
     "output_type": "execute_result"
    }
   ],
   "source": [
    "temp.shape"
   ]
  },
  {
   "cell_type": "code",
   "execution_count": 49,
   "id": "925ec0d1",
   "metadata": {},
   "outputs": [
    {
     "name": "stdout",
     "output_type": "stream",
     "text": [
      "['tempogram_0', 'tempogram_1', 'tempogram_2', 'tempogram_3', 'tempogram_4', 'tempogram_5', 'tempogram_6', 'tempogram_7', 'tempogram_8', 'tempogram_9', 'tempogram_10', 'tempogram_11', 'tempogram_12', 'tempogram_13', 'tempogram_14', 'tempogram_15', 'tempogram_16', 'tempogram_17', 'tempogram_18', 'tempogram_19', 'tempogram_20', 'tempogram_21', 'tempogram_22', 'tempogram_23', 'tempogram_24', 'tempogram_25', 'tempogram_26', 'tempogram_27', 'tempogram_28', 'tempogram_29', 'tempogram_30', 'tempogram_31', 'tempogram_32', 'tempogram_33', 'tempogram_34', 'tempogram_35', 'tempogram_36', 'tempogram_37', 'tempogram_38', 'tempogram_39', 'tempogram_40', 'tempogram_41', 'tempogram_42', 'tempogram_43', 'tempogram_44', 'tempogram_45', 'tempogram_46', 'tempogram_47', 'tempogram_48', 'tempogram_49', 'tempogram_50', 'tempogram_51', 'tempogram_52', 'tempogram_53', 'tempogram_54', 'tempogram_55', 'tempogram_56', 'tempogram_57', 'tempogram_58', 'tempogram_59', 'tempogram_60', 'tempogram_61', 'tempogram_62', 'tempogram_63', 'tempogram_64', 'tempogram_65', 'tempogram_66', 'tempogram_67', 'tempogram_68', 'tempogram_69', 'tempogram_70', 'tempogram_71', 'tempogram_72', 'tempogram_73', 'tempogram_74', 'tempogram_75', 'tempogram_76', 'tempogram_77', 'tempogram_78', 'tempogram_79', 'tempogram_80', 'tempogram_81', 'tempogram_82', 'tempogram_83', 'tempogram_84', 'tempogram_85', 'tempogram_86', 'tempogram_87', 'tempogram_88', 'tempogram_89', 'tempogram_90', 'tempogram_91', 'tempogram_92', 'tempogram_93', 'tempogram_94', 'tempogram_95', 'tempogram_96', 'tempogram_97', 'tempogram_98', 'tempogram_99', 'tempogram_100', 'tempogram_101', 'tempogram_102', 'tempogram_103', 'tempogram_104', 'tempogram_105', 'tempogram_106', 'tempogram_107', 'tempogram_108', 'tempogram_109', 'tempogram_110', 'tempogram_111', 'tempogram_112', 'tempogram_113', 'tempogram_114', 'tempogram_115', 'tempogram_116', 'tempogram_117', 'tempogram_118', 'tempogram_119', 'tempogram_120', 'tempogram_121', 'tempogram_122', 'tempogram_123', 'tempogram_124', 'tempogram_125', 'tempogram_126', 'tempogram_127', 'tempogram_128', 'tempogram_129', 'tempogram_130', 'tempogram_131', 'tempogram_132', 'tempogram_133', 'tempogram_134', 'tempogram_135', 'tempogram_136', 'tempogram_137', 'tempogram_138', 'tempogram_139', 'tempogram_140', 'tempogram_141', 'tempogram_142', 'tempogram_143', 'tempogram_144', 'tempogram_145', 'tempogram_146', 'tempogram_147', 'tempogram_148', 'tempogram_149', 'tempogram_150', 'tempogram_151', 'tempogram_152', 'tempogram_153', 'tempogram_154', 'tempogram_155', 'tempogram_156', 'tempogram_157', 'tempogram_158', 'tempogram_159', 'tempogram_160', 'tempogram_161', 'tempogram_162', 'tempogram_163', 'tempogram_164', 'tempogram_165', 'tempogram_166', 'tempogram_167', 'tempogram_168', 'tempogram_169', 'tempogram_170', 'tempogram_171', 'tempogram_172', 'tempogram_173', 'tempogram_174', 'tempogram_175', 'tempogram_176', 'tempogram_177', 'tempogram_178', 'tempogram_179', 'tempogram_180', 'tempogram_181', 'tempogram_182', 'tempogram_183', 'tempogram_184', 'tempogram_185', 'tempogram_186', 'tempogram_187', 'tempogram_188', 'tempogram_189', 'tempogram_190', 'tempogram_191']\n"
     ]
    }
   ],
   "source": [
    "columns_t = []\n",
    "for i in range(temp.shape[1]):\n",
    "    columns_t.append(\"tempogram_{}\".format(i))\n",
    "print(columns_t)"
   ]
  },
  {
   "cell_type": "code",
   "execution_count": 50,
   "id": "e5ef312f",
   "metadata": {},
   "outputs": [
    {
     "data": {
      "text/plain": [
       "192"
      ]
     },
     "execution_count": 50,
     "metadata": {},
     "output_type": "execute_result"
    }
   ],
   "source": [
    "len(columns_t)"
   ]
  },
  {
   "cell_type": "code",
   "execution_count": 51,
   "id": "c1f3b527",
   "metadata": {},
   "outputs": [
    {
     "data": {
      "text/html": [
       "<div>\n",
       "<style scoped>\n",
       "    .dataframe tbody tr th:only-of-type {\n",
       "        vertical-align: middle;\n",
       "    }\n",
       "\n",
       "    .dataframe tbody tr th {\n",
       "        vertical-align: top;\n",
       "    }\n",
       "\n",
       "    .dataframe thead th {\n",
       "        text-align: right;\n",
       "    }\n",
       "</style>\n",
       "<table border=\"1\" class=\"dataframe\">\n",
       "  <thead>\n",
       "    <tr style=\"text-align: right;\">\n",
       "      <th></th>\n",
       "      <th>tempogram_0</th>\n",
       "      <th>tempogram_1</th>\n",
       "      <th>tempogram_2</th>\n",
       "      <th>tempogram_3</th>\n",
       "      <th>tempogram_4</th>\n",
       "      <th>tempogram_5</th>\n",
       "      <th>tempogram_6</th>\n",
       "      <th>tempogram_7</th>\n",
       "      <th>tempogram_8</th>\n",
       "      <th>tempogram_9</th>\n",
       "      <th>...</th>\n",
       "      <th>tempogram_182</th>\n",
       "      <th>tempogram_183</th>\n",
       "      <th>tempogram_184</th>\n",
       "      <th>tempogram_185</th>\n",
       "      <th>tempogram_186</th>\n",
       "      <th>tempogram_187</th>\n",
       "      <th>tempogram_188</th>\n",
       "      <th>tempogram_189</th>\n",
       "      <th>tempogram_190</th>\n",
       "      <th>tempogram_191</th>\n",
       "    </tr>\n",
       "  </thead>\n",
       "  <tbody>\n",
       "    <tr>\n",
       "      <th>0</th>\n",
       "      <td>1.0</td>\n",
       "      <td>0.848387</td>\n",
       "      <td>0.581618</td>\n",
       "      <td>0.350824</td>\n",
       "      <td>0.270176</td>\n",
       "      <td>0.30169</td>\n",
       "      <td>0.379434</td>\n",
       "      <td>0.425331</td>\n",
       "      <td>0.406694</td>\n",
       "      <td>0.342672</td>\n",
       "      <td>...</td>\n",
       "      <td>0.0</td>\n",
       "      <td>0.0</td>\n",
       "      <td>0.0</td>\n",
       "      <td>0.0</td>\n",
       "      <td>0.0</td>\n",
       "      <td>0.0</td>\n",
       "      <td>0.0</td>\n",
       "      <td>0.0</td>\n",
       "      <td>0.0</td>\n",
       "      <td>0.0</td>\n",
       "    </tr>\n",
       "    <tr>\n",
       "      <th>1</th>\n",
       "      <td>1.0</td>\n",
       "      <td>0.836654</td>\n",
       "      <td>0.598981</td>\n",
       "      <td>0.509729</td>\n",
       "      <td>0.570408</td>\n",
       "      <td>0.557696</td>\n",
       "      <td>0.430581</td>\n",
       "      <td>0.342852</td>\n",
       "      <td>0.347902</td>\n",
       "      <td>0.388744</td>\n",
       "      <td>...</td>\n",
       "      <td>-0.0</td>\n",
       "      <td>-0.0</td>\n",
       "      <td>-0.0</td>\n",
       "      <td>0.0</td>\n",
       "      <td>0.0</td>\n",
       "      <td>-0.0</td>\n",
       "      <td>-0.0</td>\n",
       "      <td>0.0</td>\n",
       "      <td>-0.0</td>\n",
       "      <td>0.0</td>\n",
       "    </tr>\n",
       "    <tr>\n",
       "      <th>2</th>\n",
       "      <td>1.0</td>\n",
       "      <td>0.889218</td>\n",
       "      <td>0.655773</td>\n",
       "      <td>0.434388</td>\n",
       "      <td>0.304383</td>\n",
       "      <td>0.274099</td>\n",
       "      <td>0.308079</td>\n",
       "      <td>0.344472</td>\n",
       "      <td>0.34904</td>\n",
       "      <td>0.319161</td>\n",
       "      <td>...</td>\n",
       "      <td>-0.0</td>\n",
       "      <td>0.0</td>\n",
       "      <td>0.0</td>\n",
       "      <td>0.0</td>\n",
       "      <td>0.0</td>\n",
       "      <td>0.0</td>\n",
       "      <td>0.0</td>\n",
       "      <td>0.0</td>\n",
       "      <td>0.0</td>\n",
       "      <td>0.0</td>\n",
       "    </tr>\n",
       "    <tr>\n",
       "      <th>3</th>\n",
       "      <td>1.0</td>\n",
       "      <td>0.83685</td>\n",
       "      <td>0.68743</td>\n",
       "      <td>0.591291</td>\n",
       "      <td>0.54779</td>\n",
       "      <td>0.505934</td>\n",
       "      <td>0.465331</td>\n",
       "      <td>0.450495</td>\n",
       "      <td>0.459697</td>\n",
       "      <td>0.454567</td>\n",
       "      <td>...</td>\n",
       "      <td>-0.0</td>\n",
       "      <td>0.0</td>\n",
       "      <td>0.0</td>\n",
       "      <td>0.0</td>\n",
       "      <td>0.0</td>\n",
       "      <td>-0.0</td>\n",
       "      <td>0.0</td>\n",
       "      <td>0.0</td>\n",
       "      <td>0.0</td>\n",
       "      <td>0.0</td>\n",
       "    </tr>\n",
       "    <tr>\n",
       "      <th>4</th>\n",
       "      <td>1.0</td>\n",
       "      <td>0.893816</td>\n",
       "      <td>0.707282</td>\n",
       "      <td>0.570393</td>\n",
       "      <td>0.501353</td>\n",
       "      <td>0.470595</td>\n",
       "      <td>0.440732</td>\n",
       "      <td>0.395722</td>\n",
       "      <td>0.36646</td>\n",
       "      <td>0.395071</td>\n",
       "      <td>...</td>\n",
       "      <td>-0.0</td>\n",
       "      <td>0.0</td>\n",
       "      <td>0.0</td>\n",
       "      <td>0.0</td>\n",
       "      <td>0.0</td>\n",
       "      <td>-0.0</td>\n",
       "      <td>0.0</td>\n",
       "      <td>0.0</td>\n",
       "      <td>0.0</td>\n",
       "      <td>0.0</td>\n",
       "    </tr>\n",
       "    <tr>\n",
       "      <th>...</th>\n",
       "      <td>...</td>\n",
       "      <td>...</td>\n",
       "      <td>...</td>\n",
       "      <td>...</td>\n",
       "      <td>...</td>\n",
       "      <td>...</td>\n",
       "      <td>...</td>\n",
       "      <td>...</td>\n",
       "      <td>...</td>\n",
       "      <td>...</td>\n",
       "      <td>...</td>\n",
       "      <td>...</td>\n",
       "      <td>...</td>\n",
       "      <td>...</td>\n",
       "      <td>...</td>\n",
       "      <td>...</td>\n",
       "      <td>...</td>\n",
       "      <td>...</td>\n",
       "      <td>...</td>\n",
       "      <td>...</td>\n",
       "      <td>...</td>\n",
       "    </tr>\n",
       "    <tr>\n",
       "      <th>6975</th>\n",
       "      <td>1.0</td>\n",
       "      <td>0.758041</td>\n",
       "      <td>0.471681</td>\n",
       "      <td>0.350177</td>\n",
       "      <td>0.390932</td>\n",
       "      <td>0.466793</td>\n",
       "      <td>0.421438</td>\n",
       "      <td>0.342819</td>\n",
       "      <td>0.368484</td>\n",
       "      <td>0.474131</td>\n",
       "      <td>...</td>\n",
       "      <td>-0.0</td>\n",
       "      <td>0.0</td>\n",
       "      <td>0.0</td>\n",
       "      <td>0.0</td>\n",
       "      <td>0.0</td>\n",
       "      <td>-0.0</td>\n",
       "      <td>0.0</td>\n",
       "      <td>0.0</td>\n",
       "      <td>0.0</td>\n",
       "      <td>0.0</td>\n",
       "    </tr>\n",
       "    <tr>\n",
       "      <th>6976</th>\n",
       "      <td>1.0</td>\n",
       "      <td>0.779072</td>\n",
       "      <td>0.48095</td>\n",
       "      <td>0.350317</td>\n",
       "      <td>0.334996</td>\n",
       "      <td>0.294954</td>\n",
       "      <td>0.274389</td>\n",
       "      <td>0.348095</td>\n",
       "      <td>0.48953</td>\n",
       "      <td>0.535279</td>\n",
       "      <td>...</td>\n",
       "      <td>-0.0</td>\n",
       "      <td>0.0</td>\n",
       "      <td>0.0</td>\n",
       "      <td>0.0</td>\n",
       "      <td>0.0</td>\n",
       "      <td>-0.0</td>\n",
       "      <td>0.0</td>\n",
       "      <td>0.0</td>\n",
       "      <td>-0.0</td>\n",
       "      <td>0.0</td>\n",
       "    </tr>\n",
       "    <tr>\n",
       "      <th>6977</th>\n",
       "      <td>1.0</td>\n",
       "      <td>0.83317</td>\n",
       "      <td>0.679071</td>\n",
       "      <td>0.608154</td>\n",
       "      <td>0.652743</td>\n",
       "      <td>0.670097</td>\n",
       "      <td>0.62794</td>\n",
       "      <td>0.564329</td>\n",
       "      <td>0.552632</td>\n",
       "      <td>0.598767</td>\n",
       "      <td>...</td>\n",
       "      <td>-0.0</td>\n",
       "      <td>0.0</td>\n",
       "      <td>0.0</td>\n",
       "      <td>0.0</td>\n",
       "      <td>0.0</td>\n",
       "      <td>-0.0</td>\n",
       "      <td>0.0</td>\n",
       "      <td>0.0</td>\n",
       "      <td>0.0</td>\n",
       "      <td>0.0</td>\n",
       "    </tr>\n",
       "    <tr>\n",
       "      <th>6978</th>\n",
       "      <td>1.0</td>\n",
       "      <td>0.83029</td>\n",
       "      <td>0.624088</td>\n",
       "      <td>0.588032</td>\n",
       "      <td>0.6627</td>\n",
       "      <td>0.675366</td>\n",
       "      <td>0.594937</td>\n",
       "      <td>0.551496</td>\n",
       "      <td>0.601966</td>\n",
       "      <td>0.627721</td>\n",
       "      <td>...</td>\n",
       "      <td>-0.0</td>\n",
       "      <td>0.0</td>\n",
       "      <td>0.0</td>\n",
       "      <td>0.0</td>\n",
       "      <td>0.0</td>\n",
       "      <td>-0.0</td>\n",
       "      <td>0.0</td>\n",
       "      <td>0.0</td>\n",
       "      <td>0.0</td>\n",
       "      <td>0.0</td>\n",
       "    </tr>\n",
       "    <tr>\n",
       "      <th>6979</th>\n",
       "      <td>1.0</td>\n",
       "      <td>0.886523</td>\n",
       "      <td>0.726214</td>\n",
       "      <td>0.678393</td>\n",
       "      <td>0.723605</td>\n",
       "      <td>0.730637</td>\n",
       "      <td>0.659299</td>\n",
       "      <td>0.609702</td>\n",
       "      <td>0.633545</td>\n",
       "      <td>0.692026</td>\n",
       "      <td>...</td>\n",
       "      <td>-0.0</td>\n",
       "      <td>0.0</td>\n",
       "      <td>0.0</td>\n",
       "      <td>0.0</td>\n",
       "      <td>0.0</td>\n",
       "      <td>-0.0</td>\n",
       "      <td>0.0</td>\n",
       "      <td>0.0</td>\n",
       "      <td>0.0</td>\n",
       "      <td>0.0</td>\n",
       "    </tr>\n",
       "  </tbody>\n",
       "</table>\n",
       "<p>6980 rows × 192 columns</p>\n",
       "</div>"
      ],
      "text/plain": [
       "     tempogram_0 tempogram_1 tempogram_2 tempogram_3 tempogram_4 tempogram_5  \\\n",
       "0            1.0    0.848387    0.581618    0.350824    0.270176     0.30169   \n",
       "1            1.0    0.836654    0.598981    0.509729    0.570408    0.557696   \n",
       "2            1.0    0.889218    0.655773    0.434388    0.304383    0.274099   \n",
       "3            1.0     0.83685     0.68743    0.591291     0.54779    0.505934   \n",
       "4            1.0    0.893816    0.707282    0.570393    0.501353    0.470595   \n",
       "...          ...         ...         ...         ...         ...         ...   \n",
       "6975         1.0    0.758041    0.471681    0.350177    0.390932    0.466793   \n",
       "6976         1.0    0.779072     0.48095    0.350317    0.334996    0.294954   \n",
       "6977         1.0     0.83317    0.679071    0.608154    0.652743    0.670097   \n",
       "6978         1.0     0.83029    0.624088    0.588032      0.6627    0.675366   \n",
       "6979         1.0    0.886523    0.726214    0.678393    0.723605    0.730637   \n",
       "\n",
       "     tempogram_6 tempogram_7 tempogram_8 tempogram_9  ... tempogram_182  \\\n",
       "0       0.379434    0.425331    0.406694    0.342672  ...           0.0   \n",
       "1       0.430581    0.342852    0.347902    0.388744  ...          -0.0   \n",
       "2       0.308079    0.344472     0.34904    0.319161  ...          -0.0   \n",
       "3       0.465331    0.450495    0.459697    0.454567  ...          -0.0   \n",
       "4       0.440732    0.395722     0.36646    0.395071  ...          -0.0   \n",
       "...          ...         ...         ...         ...  ...           ...   \n",
       "6975    0.421438    0.342819    0.368484    0.474131  ...          -0.0   \n",
       "6976    0.274389    0.348095     0.48953    0.535279  ...          -0.0   \n",
       "6977     0.62794    0.564329    0.552632    0.598767  ...          -0.0   \n",
       "6978    0.594937    0.551496    0.601966    0.627721  ...          -0.0   \n",
       "6979    0.659299    0.609702    0.633545    0.692026  ...          -0.0   \n",
       "\n",
       "     tempogram_183 tempogram_184 tempogram_185 tempogram_186 tempogram_187  \\\n",
       "0              0.0           0.0           0.0           0.0           0.0   \n",
       "1             -0.0          -0.0           0.0           0.0          -0.0   \n",
       "2              0.0           0.0           0.0           0.0           0.0   \n",
       "3              0.0           0.0           0.0           0.0          -0.0   \n",
       "4              0.0           0.0           0.0           0.0          -0.0   \n",
       "...            ...           ...           ...           ...           ...   \n",
       "6975           0.0           0.0           0.0           0.0          -0.0   \n",
       "6976           0.0           0.0           0.0           0.0          -0.0   \n",
       "6977           0.0           0.0           0.0           0.0          -0.0   \n",
       "6978           0.0           0.0           0.0           0.0          -0.0   \n",
       "6979           0.0           0.0           0.0           0.0          -0.0   \n",
       "\n",
       "     tempogram_188 tempogram_189 tempogram_190 tempogram_191  \n",
       "0              0.0           0.0           0.0           0.0  \n",
       "1             -0.0           0.0          -0.0           0.0  \n",
       "2              0.0           0.0           0.0           0.0  \n",
       "3              0.0           0.0           0.0           0.0  \n",
       "4              0.0           0.0           0.0           0.0  \n",
       "...            ...           ...           ...           ...  \n",
       "6975           0.0           0.0           0.0           0.0  \n",
       "6976           0.0           0.0          -0.0           0.0  \n",
       "6977           0.0           0.0           0.0           0.0  \n",
       "6978           0.0           0.0           0.0           0.0  \n",
       "6979           0.0           0.0           0.0           0.0  \n",
       "\n",
       "[6980 rows x 192 columns]"
      ]
     },
     "execution_count": 51,
     "metadata": {},
     "output_type": "execute_result"
    }
   ],
   "source": [
    "df_t = dataframe_creator(temp,\n",
    "                         df =pd.DataFrame(columns = columns_t), columns = columns_t, l = 192)\n",
    "\n",
    "df_t.reset_index(drop = True, inplace = True)\n",
    "df_t"
   ]
  },
  {
   "cell_type": "code",
   "execution_count": 52,
   "id": "e627f4d5",
   "metadata": {},
   "outputs": [
    {
     "data": {
      "text/plain": [
       "-1.3689543738070905e-18"
      ]
     },
     "execution_count": 52,
     "metadata": {},
     "output_type": "execute_result"
    }
   ],
   "source": [
    "df_t['tempogram_188'][10]"
   ]
  },
  {
   "cell_type": "code",
   "execution_count": 53,
   "id": "33bee52c",
   "metadata": {},
   "outputs": [],
   "source": [
    "df_t.to_csv(path + '/absent_AV_tempogram.csv')"
   ]
  },
  {
   "cell_type": "code",
   "execution_count": 54,
   "id": "c2ae7b50",
   "metadata": {},
   "outputs": [
    {
     "data": {
      "text/plain": [
       "tempogram_0      0\n",
       "tempogram_1      0\n",
       "tempogram_2      0\n",
       "tempogram_3      0\n",
       "tempogram_4      0\n",
       "                ..\n",
       "tempogram_187    0\n",
       "tempogram_188    0\n",
       "tempogram_189    0\n",
       "tempogram_190    0\n",
       "tempogram_191    0\n",
       "Length: 192, dtype: int64"
      ]
     },
     "execution_count": 54,
     "metadata": {},
     "output_type": "execute_result"
    }
   ],
   "source": [
    "df_t.isin([0]).sum(axis=0)"
   ]
  },
  {
   "cell_type": "code",
   "execution_count": 55,
   "id": "0c13bdc2",
   "metadata": {},
   "outputs": [
    {
     "data": {
      "text/html": [
       "<div>\n",
       "<style scoped>\n",
       "    .dataframe tbody tr th:only-of-type {\n",
       "        vertical-align: middle;\n",
       "    }\n",
       "\n",
       "    .dataframe tbody tr th {\n",
       "        vertical-align: top;\n",
       "    }\n",
       "\n",
       "    .dataframe thead th {\n",
       "        text-align: right;\n",
       "    }\n",
       "</style>\n",
       "<table border=\"1\" class=\"dataframe\">\n",
       "  <thead>\n",
       "    <tr style=\"text-align: right;\">\n",
       "      <th></th>\n",
       "      <th>zcrs0</th>\n",
       "      <th>zcrs1</th>\n",
       "      <th>zcrs2</th>\n",
       "      <th>zcrs3</th>\n",
       "      <th>#ofcrossing</th>\n",
       "      <th>C</th>\n",
       "      <th>C♯</th>\n",
       "      <th>D</th>\n",
       "      <th>D♯</th>\n",
       "      <th>E</th>\n",
       "      <th>F</th>\n",
       "      <th>F♯</th>\n",
       "      <th>G</th>\n",
       "      <th>G♯</th>\n",
       "      <th>A</th>\n",
       "      <th>A♯</th>\n",
       "      <th>B</th>\n",
       "    </tr>\n",
       "  </thead>\n",
       "  <tbody>\n",
       "    <tr>\n",
       "      <th>0</th>\n",
       "      <td>0.012500</td>\n",
       "      <td>0.043500</td>\n",
       "      <td>0.035625</td>\n",
       "      <td>0.036625</td>\n",
       "      <td>1516.0</td>\n",
       "      <td>0.844399</td>\n",
       "      <td>0.744447</td>\n",
       "      <td>0.6703</td>\n",
       "      <td>0.804889</td>\n",
       "      <td>0.596703</td>\n",
       "      <td>0.578218</td>\n",
       "      <td>0.728577</td>\n",
       "      <td>0.63601</td>\n",
       "      <td>0.74465</td>\n",
       "      <td>0.750118</td>\n",
       "      <td>0.673866</td>\n",
       "      <td>0.684847</td>\n",
       "    </tr>\n",
       "    <tr>\n",
       "      <th>1</th>\n",
       "      <td>0.018000</td>\n",
       "      <td>0.037125</td>\n",
       "      <td>0.031750</td>\n",
       "      <td>0.053375</td>\n",
       "      <td>1600.0</td>\n",
       "      <td>0.617081</td>\n",
       "      <td>0.931225</td>\n",
       "      <td>0.821587</td>\n",
       "      <td>0.529354</td>\n",
       "      <td>0.463491</td>\n",
       "      <td>0.665626</td>\n",
       "      <td>0.711824</td>\n",
       "      <td>0.663221</td>\n",
       "      <td>0.565747</td>\n",
       "      <td>0.759736</td>\n",
       "      <td>0.761577</td>\n",
       "      <td>0.549593</td>\n",
       "    </tr>\n",
       "    <tr>\n",
       "      <th>2</th>\n",
       "      <td>0.014500</td>\n",
       "      <td>0.038125</td>\n",
       "      <td>0.051375</td>\n",
       "      <td>0.035750</td>\n",
       "      <td>1540.0</td>\n",
       "      <td>0.64818</td>\n",
       "      <td>0.757048</td>\n",
       "      <td>0.461994</td>\n",
       "      <td>0.424684</td>\n",
       "      <td>0.307952</td>\n",
       "      <td>0.338254</td>\n",
       "      <td>0.412674</td>\n",
       "      <td>0.503547</td>\n",
       "      <td>0.450344</td>\n",
       "      <td>0.372416</td>\n",
       "      <td>0.419678</td>\n",
       "      <td>0.557133</td>\n",
       "    </tr>\n",
       "    <tr>\n",
       "      <th>3</th>\n",
       "      <td>0.017250</td>\n",
       "      <td>0.032250</td>\n",
       "      <td>0.034250</td>\n",
       "      <td>0.031750</td>\n",
       "      <td>1378.0</td>\n",
       "      <td>0.687141</td>\n",
       "      <td>0.69119</td>\n",
       "      <td>0.752003</td>\n",
       "      <td>0.48828</td>\n",
       "      <td>0.331105</td>\n",
       "      <td>0.315697</td>\n",
       "      <td>0.409785</td>\n",
       "      <td>0.565138</td>\n",
       "      <td>0.601076</td>\n",
       "      <td>0.476511</td>\n",
       "      <td>0.387921</td>\n",
       "      <td>0.65082</td>\n",
       "    </tr>\n",
       "    <tr>\n",
       "      <th>4</th>\n",
       "      <td>0.022625</td>\n",
       "      <td>0.055125</td>\n",
       "      <td>0.038500</td>\n",
       "      <td>0.031375</td>\n",
       "      <td>1572.0</td>\n",
       "      <td>0.550905</td>\n",
       "      <td>0.532233</td>\n",
       "      <td>0.501923</td>\n",
       "      <td>0.456858</td>\n",
       "      <td>0.457487</td>\n",
       "      <td>0.507901</td>\n",
       "      <td>0.471108</td>\n",
       "      <td>0.61851</td>\n",
       "      <td>0.745725</td>\n",
       "      <td>0.654878</td>\n",
       "      <td>0.825786</td>\n",
       "      <td>0.767013</td>\n",
       "    </tr>\n",
       "    <tr>\n",
       "      <th>...</th>\n",
       "      <td>...</td>\n",
       "      <td>...</td>\n",
       "      <td>...</td>\n",
       "      <td>...</td>\n",
       "      <td>...</td>\n",
       "      <td>...</td>\n",
       "      <td>...</td>\n",
       "      <td>...</td>\n",
       "      <td>...</td>\n",
       "      <td>...</td>\n",
       "      <td>...</td>\n",
       "      <td>...</td>\n",
       "      <td>...</td>\n",
       "      <td>...</td>\n",
       "      <td>...</td>\n",
       "      <td>...</td>\n",
       "      <td>...</td>\n",
       "    </tr>\n",
       "    <tr>\n",
       "      <th>6975</th>\n",
       "      <td>0.031000</td>\n",
       "      <td>0.040000</td>\n",
       "      <td>0.046625</td>\n",
       "      <td>0.066625</td>\n",
       "      <td>2045.0</td>\n",
       "      <td>0.846236</td>\n",
       "      <td>0.590217</td>\n",
       "      <td>0.593689</td>\n",
       "      <td>0.633447</td>\n",
       "      <td>0.573979</td>\n",
       "      <td>0.549979</td>\n",
       "      <td>0.4351</td>\n",
       "      <td>0.530312</td>\n",
       "      <td>0.615302</td>\n",
       "      <td>0.655096</td>\n",
       "      <td>0.637599</td>\n",
       "      <td>0.658983</td>\n",
       "    </tr>\n",
       "    <tr>\n",
       "      <th>6976</th>\n",
       "      <td>0.027000</td>\n",
       "      <td>0.046250</td>\n",
       "      <td>0.049125</td>\n",
       "      <td>0.047875</td>\n",
       "      <td>2139.0</td>\n",
       "      <td>0.495203</td>\n",
       "      <td>0.608017</td>\n",
       "      <td>0.450968</td>\n",
       "      <td>0.538642</td>\n",
       "      <td>0.447241</td>\n",
       "      <td>0.517477</td>\n",
       "      <td>0.633122</td>\n",
       "      <td>0.694548</td>\n",
       "      <td>0.719311</td>\n",
       "      <td>0.523827</td>\n",
       "      <td>0.537442</td>\n",
       "      <td>0.687991</td>\n",
       "    </tr>\n",
       "    <tr>\n",
       "      <th>6977</th>\n",
       "      <td>0.024875</td>\n",
       "      <td>0.036500</td>\n",
       "      <td>0.052625</td>\n",
       "      <td>0.030750</td>\n",
       "      <td>1700.0</td>\n",
       "      <td>0.579771</td>\n",
       "      <td>0.54055</td>\n",
       "      <td>0.550315</td>\n",
       "      <td>0.395047</td>\n",
       "      <td>0.386224</td>\n",
       "      <td>0.470707</td>\n",
       "      <td>0.459667</td>\n",
       "      <td>0.638234</td>\n",
       "      <td>0.71253</td>\n",
       "      <td>0.590428</td>\n",
       "      <td>0.59077</td>\n",
       "      <td>0.609561</td>\n",
       "    </tr>\n",
       "    <tr>\n",
       "      <th>6978</th>\n",
       "      <td>0.016500</td>\n",
       "      <td>0.026375</td>\n",
       "      <td>0.027375</td>\n",
       "      <td>0.056500</td>\n",
       "      <td>1490.0</td>\n",
       "      <td>0.791573</td>\n",
       "      <td>0.657851</td>\n",
       "      <td>0.5756</td>\n",
       "      <td>0.442193</td>\n",
       "      <td>0.416418</td>\n",
       "      <td>0.409156</td>\n",
       "      <td>0.400621</td>\n",
       "      <td>0.60972</td>\n",
       "      <td>0.767015</td>\n",
       "      <td>0.680255</td>\n",
       "      <td>0.603341</td>\n",
       "      <td>0.7182</td>\n",
       "    </tr>\n",
       "    <tr>\n",
       "      <th>6979</th>\n",
       "      <td>0.021875</td>\n",
       "      <td>0.049000</td>\n",
       "      <td>0.054625</td>\n",
       "      <td>0.051000</td>\n",
       "      <td>1969.0</td>\n",
       "      <td>0.461251</td>\n",
       "      <td>0.544376</td>\n",
       "      <td>0.517206</td>\n",
       "      <td>0.601696</td>\n",
       "      <td>0.685461</td>\n",
       "      <td>0.710067</td>\n",
       "      <td>0.495121</td>\n",
       "      <td>0.587817</td>\n",
       "      <td>0.741786</td>\n",
       "      <td>0.58411</td>\n",
       "      <td>0.503954</td>\n",
       "      <td>0.42212</td>\n",
       "    </tr>\n",
       "  </tbody>\n",
       "</table>\n",
       "<p>6980 rows × 17 columns</p>\n",
       "</div>"
      ],
      "text/plain": [
       "         zcrs0     zcrs1     zcrs2     zcrs3  #ofcrossing         C        C♯  \\\n",
       "0     0.012500  0.043500  0.035625  0.036625       1516.0  0.844399  0.744447   \n",
       "1     0.018000  0.037125  0.031750  0.053375       1600.0  0.617081  0.931225   \n",
       "2     0.014500  0.038125  0.051375  0.035750       1540.0   0.64818  0.757048   \n",
       "3     0.017250  0.032250  0.034250  0.031750       1378.0  0.687141   0.69119   \n",
       "4     0.022625  0.055125  0.038500  0.031375       1572.0  0.550905  0.532233   \n",
       "...        ...       ...       ...       ...          ...       ...       ...   \n",
       "6975  0.031000  0.040000  0.046625  0.066625       2045.0  0.846236  0.590217   \n",
       "6976  0.027000  0.046250  0.049125  0.047875       2139.0  0.495203  0.608017   \n",
       "6977  0.024875  0.036500  0.052625  0.030750       1700.0  0.579771   0.54055   \n",
       "6978  0.016500  0.026375  0.027375  0.056500       1490.0  0.791573  0.657851   \n",
       "6979  0.021875  0.049000  0.054625  0.051000       1969.0  0.461251  0.544376   \n",
       "\n",
       "             D        D♯         E         F        F♯         G        G♯  \\\n",
       "0       0.6703  0.804889  0.596703  0.578218  0.728577   0.63601   0.74465   \n",
       "1     0.821587  0.529354  0.463491  0.665626  0.711824  0.663221  0.565747   \n",
       "2     0.461994  0.424684  0.307952  0.338254  0.412674  0.503547  0.450344   \n",
       "3     0.752003   0.48828  0.331105  0.315697  0.409785  0.565138  0.601076   \n",
       "4     0.501923  0.456858  0.457487  0.507901  0.471108   0.61851  0.745725   \n",
       "...        ...       ...       ...       ...       ...       ...       ...   \n",
       "6975  0.593689  0.633447  0.573979  0.549979    0.4351  0.530312  0.615302   \n",
       "6976  0.450968  0.538642  0.447241  0.517477  0.633122  0.694548  0.719311   \n",
       "6977  0.550315  0.395047  0.386224  0.470707  0.459667  0.638234   0.71253   \n",
       "6978    0.5756  0.442193  0.416418  0.409156  0.400621   0.60972  0.767015   \n",
       "6979  0.517206  0.601696  0.685461  0.710067  0.495121  0.587817  0.741786   \n",
       "\n",
       "             A        A♯         B  \n",
       "0     0.750118  0.673866  0.684847  \n",
       "1     0.759736  0.761577  0.549593  \n",
       "2     0.372416  0.419678  0.557133  \n",
       "3     0.476511  0.387921   0.65082  \n",
       "4     0.654878  0.825786  0.767013  \n",
       "...        ...       ...       ...  \n",
       "6975  0.655096  0.637599  0.658983  \n",
       "6976  0.523827  0.537442  0.687991  \n",
       "6977  0.590428   0.59077  0.609561  \n",
       "6978  0.680255  0.603341    0.7182  \n",
       "6979   0.58411  0.503954   0.42212  \n",
       "\n",
       "[6980 rows x 17 columns]"
      ]
     },
     "execution_count": 55,
     "metadata": {},
     "output_type": "execute_result"
    }
   ],
   "source": [
    "final_df = pd.concat([df, ch_df], axis =1)\n",
    "final_df"
   ]
  },
  {
   "cell_type": "code",
   "execution_count": 56,
   "id": "32a62976",
   "metadata": {},
   "outputs": [
    {
     "data": {
      "text/html": [
       "<div>\n",
       "<style scoped>\n",
       "    .dataframe tbody tr th:only-of-type {\n",
       "        vertical-align: middle;\n",
       "    }\n",
       "\n",
       "    .dataframe tbody tr th {\n",
       "        vertical-align: top;\n",
       "    }\n",
       "\n",
       "    .dataframe thead th {\n",
       "        text-align: right;\n",
       "    }\n",
       "</style>\n",
       "<table border=\"1\" class=\"dataframe\">\n",
       "  <thead>\n",
       "    <tr style=\"text-align: right;\">\n",
       "      <th></th>\n",
       "      <th>zcrs0</th>\n",
       "      <th>zcrs1</th>\n",
       "      <th>zcrs2</th>\n",
       "      <th>zcrs3</th>\n",
       "      <th>#ofcrossing</th>\n",
       "      <th>C</th>\n",
       "      <th>C♯</th>\n",
       "      <th>D</th>\n",
       "      <th>D♯</th>\n",
       "      <th>E</th>\n",
       "      <th>...</th>\n",
       "      <th>tempogram_182</th>\n",
       "      <th>tempogram_183</th>\n",
       "      <th>tempogram_184</th>\n",
       "      <th>tempogram_185</th>\n",
       "      <th>tempogram_186</th>\n",
       "      <th>tempogram_187</th>\n",
       "      <th>tempogram_188</th>\n",
       "      <th>tempogram_189</th>\n",
       "      <th>tempogram_190</th>\n",
       "      <th>tempogram_191</th>\n",
       "    </tr>\n",
       "  </thead>\n",
       "  <tbody>\n",
       "    <tr>\n",
       "      <th>0</th>\n",
       "      <td>0.012500</td>\n",
       "      <td>0.043500</td>\n",
       "      <td>0.035625</td>\n",
       "      <td>0.036625</td>\n",
       "      <td>1516.0</td>\n",
       "      <td>0.844399</td>\n",
       "      <td>0.744447</td>\n",
       "      <td>0.6703</td>\n",
       "      <td>0.804889</td>\n",
       "      <td>0.596703</td>\n",
       "      <td>...</td>\n",
       "      <td>0.0</td>\n",
       "      <td>0.0</td>\n",
       "      <td>0.0</td>\n",
       "      <td>0.0</td>\n",
       "      <td>0.0</td>\n",
       "      <td>0.0</td>\n",
       "      <td>0.0</td>\n",
       "      <td>0.0</td>\n",
       "      <td>0.0</td>\n",
       "      <td>0.0</td>\n",
       "    </tr>\n",
       "    <tr>\n",
       "      <th>1</th>\n",
       "      <td>0.018000</td>\n",
       "      <td>0.037125</td>\n",
       "      <td>0.031750</td>\n",
       "      <td>0.053375</td>\n",
       "      <td>1600.0</td>\n",
       "      <td>0.617081</td>\n",
       "      <td>0.931225</td>\n",
       "      <td>0.821587</td>\n",
       "      <td>0.529354</td>\n",
       "      <td>0.463491</td>\n",
       "      <td>...</td>\n",
       "      <td>-0.0</td>\n",
       "      <td>-0.0</td>\n",
       "      <td>-0.0</td>\n",
       "      <td>0.0</td>\n",
       "      <td>0.0</td>\n",
       "      <td>-0.0</td>\n",
       "      <td>-0.0</td>\n",
       "      <td>0.0</td>\n",
       "      <td>-0.0</td>\n",
       "      <td>0.0</td>\n",
       "    </tr>\n",
       "    <tr>\n",
       "      <th>2</th>\n",
       "      <td>0.014500</td>\n",
       "      <td>0.038125</td>\n",
       "      <td>0.051375</td>\n",
       "      <td>0.035750</td>\n",
       "      <td>1540.0</td>\n",
       "      <td>0.64818</td>\n",
       "      <td>0.757048</td>\n",
       "      <td>0.461994</td>\n",
       "      <td>0.424684</td>\n",
       "      <td>0.307952</td>\n",
       "      <td>...</td>\n",
       "      <td>-0.0</td>\n",
       "      <td>0.0</td>\n",
       "      <td>0.0</td>\n",
       "      <td>0.0</td>\n",
       "      <td>0.0</td>\n",
       "      <td>0.0</td>\n",
       "      <td>0.0</td>\n",
       "      <td>0.0</td>\n",
       "      <td>0.0</td>\n",
       "      <td>0.0</td>\n",
       "    </tr>\n",
       "    <tr>\n",
       "      <th>3</th>\n",
       "      <td>0.017250</td>\n",
       "      <td>0.032250</td>\n",
       "      <td>0.034250</td>\n",
       "      <td>0.031750</td>\n",
       "      <td>1378.0</td>\n",
       "      <td>0.687141</td>\n",
       "      <td>0.69119</td>\n",
       "      <td>0.752003</td>\n",
       "      <td>0.48828</td>\n",
       "      <td>0.331105</td>\n",
       "      <td>...</td>\n",
       "      <td>-0.0</td>\n",
       "      <td>0.0</td>\n",
       "      <td>0.0</td>\n",
       "      <td>0.0</td>\n",
       "      <td>0.0</td>\n",
       "      <td>-0.0</td>\n",
       "      <td>0.0</td>\n",
       "      <td>0.0</td>\n",
       "      <td>0.0</td>\n",
       "      <td>0.0</td>\n",
       "    </tr>\n",
       "    <tr>\n",
       "      <th>4</th>\n",
       "      <td>0.022625</td>\n",
       "      <td>0.055125</td>\n",
       "      <td>0.038500</td>\n",
       "      <td>0.031375</td>\n",
       "      <td>1572.0</td>\n",
       "      <td>0.550905</td>\n",
       "      <td>0.532233</td>\n",
       "      <td>0.501923</td>\n",
       "      <td>0.456858</td>\n",
       "      <td>0.457487</td>\n",
       "      <td>...</td>\n",
       "      <td>-0.0</td>\n",
       "      <td>0.0</td>\n",
       "      <td>0.0</td>\n",
       "      <td>0.0</td>\n",
       "      <td>0.0</td>\n",
       "      <td>-0.0</td>\n",
       "      <td>0.0</td>\n",
       "      <td>0.0</td>\n",
       "      <td>0.0</td>\n",
       "      <td>0.0</td>\n",
       "    </tr>\n",
       "    <tr>\n",
       "      <th>...</th>\n",
       "      <td>...</td>\n",
       "      <td>...</td>\n",
       "      <td>...</td>\n",
       "      <td>...</td>\n",
       "      <td>...</td>\n",
       "      <td>...</td>\n",
       "      <td>...</td>\n",
       "      <td>...</td>\n",
       "      <td>...</td>\n",
       "      <td>...</td>\n",
       "      <td>...</td>\n",
       "      <td>...</td>\n",
       "      <td>...</td>\n",
       "      <td>...</td>\n",
       "      <td>...</td>\n",
       "      <td>...</td>\n",
       "      <td>...</td>\n",
       "      <td>...</td>\n",
       "      <td>...</td>\n",
       "      <td>...</td>\n",
       "      <td>...</td>\n",
       "    </tr>\n",
       "    <tr>\n",
       "      <th>6975</th>\n",
       "      <td>0.031000</td>\n",
       "      <td>0.040000</td>\n",
       "      <td>0.046625</td>\n",
       "      <td>0.066625</td>\n",
       "      <td>2045.0</td>\n",
       "      <td>0.846236</td>\n",
       "      <td>0.590217</td>\n",
       "      <td>0.593689</td>\n",
       "      <td>0.633447</td>\n",
       "      <td>0.573979</td>\n",
       "      <td>...</td>\n",
       "      <td>-0.0</td>\n",
       "      <td>0.0</td>\n",
       "      <td>0.0</td>\n",
       "      <td>0.0</td>\n",
       "      <td>0.0</td>\n",
       "      <td>-0.0</td>\n",
       "      <td>0.0</td>\n",
       "      <td>0.0</td>\n",
       "      <td>0.0</td>\n",
       "      <td>0.0</td>\n",
       "    </tr>\n",
       "    <tr>\n",
       "      <th>6976</th>\n",
       "      <td>0.027000</td>\n",
       "      <td>0.046250</td>\n",
       "      <td>0.049125</td>\n",
       "      <td>0.047875</td>\n",
       "      <td>2139.0</td>\n",
       "      <td>0.495203</td>\n",
       "      <td>0.608017</td>\n",
       "      <td>0.450968</td>\n",
       "      <td>0.538642</td>\n",
       "      <td>0.447241</td>\n",
       "      <td>...</td>\n",
       "      <td>-0.0</td>\n",
       "      <td>0.0</td>\n",
       "      <td>0.0</td>\n",
       "      <td>0.0</td>\n",
       "      <td>0.0</td>\n",
       "      <td>-0.0</td>\n",
       "      <td>0.0</td>\n",
       "      <td>0.0</td>\n",
       "      <td>-0.0</td>\n",
       "      <td>0.0</td>\n",
       "    </tr>\n",
       "    <tr>\n",
       "      <th>6977</th>\n",
       "      <td>0.024875</td>\n",
       "      <td>0.036500</td>\n",
       "      <td>0.052625</td>\n",
       "      <td>0.030750</td>\n",
       "      <td>1700.0</td>\n",
       "      <td>0.579771</td>\n",
       "      <td>0.54055</td>\n",
       "      <td>0.550315</td>\n",
       "      <td>0.395047</td>\n",
       "      <td>0.386224</td>\n",
       "      <td>...</td>\n",
       "      <td>-0.0</td>\n",
       "      <td>0.0</td>\n",
       "      <td>0.0</td>\n",
       "      <td>0.0</td>\n",
       "      <td>0.0</td>\n",
       "      <td>-0.0</td>\n",
       "      <td>0.0</td>\n",
       "      <td>0.0</td>\n",
       "      <td>0.0</td>\n",
       "      <td>0.0</td>\n",
       "    </tr>\n",
       "    <tr>\n",
       "      <th>6978</th>\n",
       "      <td>0.016500</td>\n",
       "      <td>0.026375</td>\n",
       "      <td>0.027375</td>\n",
       "      <td>0.056500</td>\n",
       "      <td>1490.0</td>\n",
       "      <td>0.791573</td>\n",
       "      <td>0.657851</td>\n",
       "      <td>0.5756</td>\n",
       "      <td>0.442193</td>\n",
       "      <td>0.416418</td>\n",
       "      <td>...</td>\n",
       "      <td>-0.0</td>\n",
       "      <td>0.0</td>\n",
       "      <td>0.0</td>\n",
       "      <td>0.0</td>\n",
       "      <td>0.0</td>\n",
       "      <td>-0.0</td>\n",
       "      <td>0.0</td>\n",
       "      <td>0.0</td>\n",
       "      <td>0.0</td>\n",
       "      <td>0.0</td>\n",
       "    </tr>\n",
       "    <tr>\n",
       "      <th>6979</th>\n",
       "      <td>0.021875</td>\n",
       "      <td>0.049000</td>\n",
       "      <td>0.054625</td>\n",
       "      <td>0.051000</td>\n",
       "      <td>1969.0</td>\n",
       "      <td>0.461251</td>\n",
       "      <td>0.544376</td>\n",
       "      <td>0.517206</td>\n",
       "      <td>0.601696</td>\n",
       "      <td>0.685461</td>\n",
       "      <td>...</td>\n",
       "      <td>-0.0</td>\n",
       "      <td>0.0</td>\n",
       "      <td>0.0</td>\n",
       "      <td>0.0</td>\n",
       "      <td>0.0</td>\n",
       "      <td>-0.0</td>\n",
       "      <td>0.0</td>\n",
       "      <td>0.0</td>\n",
       "      <td>0.0</td>\n",
       "      <td>0.0</td>\n",
       "    </tr>\n",
       "  </tbody>\n",
       "</table>\n",
       "<p>6980 rows × 209 columns</p>\n",
       "</div>"
      ],
      "text/plain": [
       "         zcrs0     zcrs1     zcrs2     zcrs3  #ofcrossing         C        C♯  \\\n",
       "0     0.012500  0.043500  0.035625  0.036625       1516.0  0.844399  0.744447   \n",
       "1     0.018000  0.037125  0.031750  0.053375       1600.0  0.617081  0.931225   \n",
       "2     0.014500  0.038125  0.051375  0.035750       1540.0   0.64818  0.757048   \n",
       "3     0.017250  0.032250  0.034250  0.031750       1378.0  0.687141   0.69119   \n",
       "4     0.022625  0.055125  0.038500  0.031375       1572.0  0.550905  0.532233   \n",
       "...        ...       ...       ...       ...          ...       ...       ...   \n",
       "6975  0.031000  0.040000  0.046625  0.066625       2045.0  0.846236  0.590217   \n",
       "6976  0.027000  0.046250  0.049125  0.047875       2139.0  0.495203  0.608017   \n",
       "6977  0.024875  0.036500  0.052625  0.030750       1700.0  0.579771   0.54055   \n",
       "6978  0.016500  0.026375  0.027375  0.056500       1490.0  0.791573  0.657851   \n",
       "6979  0.021875  0.049000  0.054625  0.051000       1969.0  0.461251  0.544376   \n",
       "\n",
       "             D        D♯         E  ... tempogram_182 tempogram_183  \\\n",
       "0       0.6703  0.804889  0.596703  ...           0.0           0.0   \n",
       "1     0.821587  0.529354  0.463491  ...          -0.0          -0.0   \n",
       "2     0.461994  0.424684  0.307952  ...          -0.0           0.0   \n",
       "3     0.752003   0.48828  0.331105  ...          -0.0           0.0   \n",
       "4     0.501923  0.456858  0.457487  ...          -0.0           0.0   \n",
       "...        ...       ...       ...  ...           ...           ...   \n",
       "6975  0.593689  0.633447  0.573979  ...          -0.0           0.0   \n",
       "6976  0.450968  0.538642  0.447241  ...          -0.0           0.0   \n",
       "6977  0.550315  0.395047  0.386224  ...          -0.0           0.0   \n",
       "6978    0.5756  0.442193  0.416418  ...          -0.0           0.0   \n",
       "6979  0.517206  0.601696  0.685461  ...          -0.0           0.0   \n",
       "\n",
       "     tempogram_184 tempogram_185 tempogram_186 tempogram_187 tempogram_188  \\\n",
       "0              0.0           0.0           0.0           0.0           0.0   \n",
       "1             -0.0           0.0           0.0          -0.0          -0.0   \n",
       "2              0.0           0.0           0.0           0.0           0.0   \n",
       "3              0.0           0.0           0.0          -0.0           0.0   \n",
       "4              0.0           0.0           0.0          -0.0           0.0   \n",
       "...            ...           ...           ...           ...           ...   \n",
       "6975           0.0           0.0           0.0          -0.0           0.0   \n",
       "6976           0.0           0.0           0.0          -0.0           0.0   \n",
       "6977           0.0           0.0           0.0          -0.0           0.0   \n",
       "6978           0.0           0.0           0.0          -0.0           0.0   \n",
       "6979           0.0           0.0           0.0          -0.0           0.0   \n",
       "\n",
       "     tempogram_189 tempogram_190 tempogram_191  \n",
       "0              0.0           0.0           0.0  \n",
       "1              0.0          -0.0           0.0  \n",
       "2              0.0           0.0           0.0  \n",
       "3              0.0           0.0           0.0  \n",
       "4              0.0           0.0           0.0  \n",
       "...            ...           ...           ...  \n",
       "6975           0.0           0.0           0.0  \n",
       "6976           0.0          -0.0           0.0  \n",
       "6977           0.0           0.0           0.0  \n",
       "6978           0.0           0.0           0.0  \n",
       "6979           0.0           0.0           0.0  \n",
       "\n",
       "[6980 rows x 209 columns]"
      ]
     },
     "execution_count": 56,
     "metadata": {},
     "output_type": "execute_result"
    }
   ],
   "source": [
    "final_df = pd.concat([final_df, df_t], axis=1)\n",
    "final_df"
   ]
  },
  {
   "cell_type": "code",
   "execution_count": 57,
   "id": "7c0247a6",
   "metadata": {},
   "outputs": [],
   "source": [
    "final_df.to_csv(path + '/absent_AV_final_sp.csv')"
   ]
  },
  {
   "cell_type": "code",
   "execution_count": null,
   "id": "c49dade0",
   "metadata": {},
   "outputs": [],
   "source": []
  },
  {
   "cell_type": "code",
   "execution_count": null,
   "id": "5900dbe9",
   "metadata": {},
   "outputs": [],
   "source": []
  }
 ],
 "metadata": {
  "kernelspec": {
   "display_name": "Python 3 (ipykernel)",
   "language": "python",
   "name": "python3"
  },
  "language_info": {
   "codemirror_mode": {
    "name": "ipython",
    "version": 3
   },
   "file_extension": ".py",
   "mimetype": "text/x-python",
   "name": "python",
   "nbconvert_exporter": "python",
   "pygments_lexer": "ipython3",
   "version": "3.9.9"
  }
 },
 "nbformat": 4,
 "nbformat_minor": 5
}
