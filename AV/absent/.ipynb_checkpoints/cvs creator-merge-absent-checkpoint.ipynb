{
 "cells": [
  {
   "cell_type": "code",
   "execution_count": 1,
   "id": "345c0001",
   "metadata": {},
   "outputs": [
    {
     "ename": "RuntimeError",
     "evalue": "module compiled against API version 0xe but this version of numpy is 0xd",
     "output_type": "error",
     "traceback": [
      "\u001b[0;31m---------------------------------------------------------------------------\u001b[0m",
      "\u001b[0;31mRuntimeError\u001b[0m                              Traceback (most recent call last)",
      "\u001b[0;31mRuntimeError\u001b[0m: module compiled against API version 0xe but this version of numpy is 0xd"
     ]
    }
   ],
   "source": [
    "import pandas as pd\n",
    "import numpy as np\n",
    "import warnings\n",
    "warnings.filterwarnings('ignore')"
   ]
  },
  {
   "cell_type": "code",
   "execution_count": 2,
   "id": "440a4745",
   "metadata": {},
   "outputs": [],
   "source": [
    "path = \"/Users/ecem/Desktop/phonocardiogram/data/AV/\""
   ]
  },
  {
   "cell_type": "code",
   "execution_count": 3,
   "id": "3e93b88e",
   "metadata": {},
   "outputs": [],
   "source": [
    "spec = np.load(path + 'absent/absent_AV_spectogram_coef.npy', allow_pickle = True)\n",
    "\n",
    "zcr = np.load(path + 'absent/absent_AV_zcrs_array.npy', allow_pickle = True)\n",
    "\n",
    "temp = np.load(path + 'absent/absent_AV_tempgram_array.npy', allow_pickle = True)\n",
    "\n",
    "chro = np.load(path + 'absent/absent_AV_chromogram_array.npy', allow_pickle = True)\n",
    "\n",
    "w_approx = np.load(path + 'absent/absent_AV_wavelet_coef_lvl_0.npy', allow_pickle = True)\n",
    "w_lvl1 = np.load(path + 'absent/absent_AV_wavelet_coef_lvl_1.npy', allow_pickle = True)\n",
    "w_lvl2 = np.load(path + 'absent/absent_AV_wavelet_coef_lvl_2.npy', allow_pickle = True)\n",
    "w_lvl3 = np.load(path + 'absent/absent_AV_wavelet_coef_lvl_3.npy', allow_pickle = True)\n",
    "w_lvl4 = np.load(path + 'absent/absent_AV_wavelet_coef_lvl_4.npy', allow_pickle = True)\n",
    "w_lvl5 = np.load(path + 'absent/absent_AV_wavelet_coef_lvl_5.npy', allow_pickle = True)\n",
    "w_lvl6 = np.load(path + 'absent/absent_AV_wavelet_coef_lvl_6.npy', allow_pickle = True)\n"
   ]
  },
  {
   "cell_type": "markdown",
   "id": "f128b55a",
   "metadata": {},
   "source": [
    "### we are goint to use spectogram and zero crossing rate directly without dropping any columns (after p value selection). So lets create their dataframe first"
   ]
  },
  {
   "cell_type": "markdown",
   "id": "ce30c297",
   "metadata": {},
   "source": [
    "#### spec"
   ]
  },
  {
   "cell_type": "code",
   "execution_count": 4,
   "id": "dd7e3b29",
   "metadata": {},
   "outputs": [],
   "source": [
    "spec_columns = np.load(path + \"present/spec_column_names.npy\")"
   ]
  },
  {
   "cell_type": "code",
   "execution_count": 5,
   "id": "7934f31e",
   "metadata": {},
   "outputs": [],
   "source": [
    "spec_df = pd.DataFrame(spec, columns = spec_columns ) #6980, 16384\n",
    "#spec_df"
   ]
  },
  {
   "cell_type": "markdown",
   "id": "c17d3dbe",
   "metadata": {},
   "source": [
    "#### zero crossing"
   ]
  },
  {
   "cell_type": "code",
   "execution_count": 6,
   "id": "7d6dc02c",
   "metadata": {},
   "outputs": [],
   "source": [
    "zcrs_df = pd.DataFrame(zcr, columns =[\"zcrs0\", \"zcrs1\", \"zcrs2\", \"zcrs3\", \"zcrs4\"]) #6980, 5\n",
    "#zcrs_df"
   ]
  },
  {
   "cell_type": "markdown",
   "id": "7d94c6ea",
   "metadata": {},
   "source": [
    "## now we need to eliminate some columns in chromogram, tempogram and wavelet dataframes.  We have extracted the columns we will use in the statistical features notebook.\n",
    "### below cell will give the index values for the columns we are going to use."
   ]
  },
  {
   "cell_type": "code",
   "execution_count": 7,
   "id": "b26b4fab",
   "metadata": {},
   "outputs": [],
   "source": [
    "p_temp_index = np.load(path +\"AV_p_value_selected_tempogram.npy\", allow_pickle = True)\n",
    "p_chro_index = np.load(path +\"AV_p_value_selected_chromogram.npy\", allow_pickle = True)\n",
    "p_wavelet_index = np.load(path +\"AV_p_value_selected_wavelet_coef.npy\", allow_pickle = True)"
   ]
  },
  {
   "cell_type": "markdown",
   "id": "1f55b668",
   "metadata": {},
   "source": [
    "## tempogram"
   ]
  },
  {
   "cell_type": "code",
   "execution_count": 8,
   "id": "451bee64",
   "metadata": {},
   "outputs": [
    {
     "data": {
      "text/plain": [
       "array([  1,   2,   3,   5,   6,   7,   8,   9,  10,  11,  12,  13,  14,\n",
       "        15,  16,  17,  18,  22,  23,  30,  31,  32,  33,  34,  35,  36,\n",
       "        37,  38,  39,  40,  63, 164, 165, 166, 167, 168, 173, 180, 181,\n",
       "       182, 184, 191])"
      ]
     },
     "execution_count": 8,
     "metadata": {},
     "output_type": "execute_result"
    }
   ],
   "source": [
    "p_temp_index # these are column index for tempogram"
   ]
  },
  {
   "cell_type": "code",
   "execution_count": 9,
   "id": "dbc7524a",
   "metadata": {},
   "outputs": [
    {
     "data": {
      "text/plain": [
       "42"
      ]
     },
     "execution_count": 9,
     "metadata": {},
     "output_type": "execute_result"
    }
   ],
   "source": [
    "#sanity check\n",
    "len(p_temp_index)"
   ]
  },
  {
   "cell_type": "code",
   "execution_count": 10,
   "id": "fd0c65ef",
   "metadata": {},
   "outputs": [],
   "source": [
    "temp_columns = ['tempogram_0', 'tempogram_1', 'tempogram_2', 'tempogram_3', 'tempogram_4', 'tempogram_5', 'tempogram_6', 'tempogram_7', 'tempogram_8', 'tempogram_9', 'tempogram_10', 'tempogram_11', 'tempogram_12', 'tempogram_13', 'tempogram_14', 'tempogram_15', 'tempogram_16', 'tempogram_17', 'tempogram_18', 'tempogram_19', 'tempogram_20', 'tempogram_21', 'tempogram_22', 'tempogram_23', 'tempogram_24', 'tempogram_25', 'tempogram_26', 'tempogram_27', 'tempogram_28', 'tempogram_29', 'tempogram_30', 'tempogram_31', 'tempogram_32', 'tempogram_33', 'tempogram_34', 'tempogram_35', 'tempogram_36', 'tempogram_37', 'tempogram_38', 'tempogram_39', 'tempogram_40', 'tempogram_41', 'tempogram_42', 'tempogram_43', 'tempogram_44', 'tempogram_45', 'tempogram_46', 'tempogram_47', 'tempogram_48', 'tempogram_49', 'tempogram_50', 'tempogram_51', 'tempogram_52', 'tempogram_53', 'tempogram_54', 'tempogram_55', 'tempogram_56', 'tempogram_57', 'tempogram_58', 'tempogram_59', 'tempogram_60', 'tempogram_61', 'tempogram_62', 'tempogram_63', 'tempogram_64', 'tempogram_65', 'tempogram_66', 'tempogram_67', 'tempogram_68', 'tempogram_69', 'tempogram_70', 'tempogram_71', 'tempogram_72', 'tempogram_73', 'tempogram_74', 'tempogram_75', 'tempogram_76', 'tempogram_77', 'tempogram_78', 'tempogram_79', 'tempogram_80', 'tempogram_81', 'tempogram_82', 'tempogram_83', 'tempogram_84', 'tempogram_85', 'tempogram_86', 'tempogram_87', 'tempogram_88', 'tempogram_89', 'tempogram_90', 'tempogram_91', 'tempogram_92', 'tempogram_93', 'tempogram_94', 'tempogram_95', 'tempogram_96', 'tempogram_97', 'tempogram_98', 'tempogram_99', 'tempogram_100', 'tempogram_101', 'tempogram_102', 'tempogram_103', 'tempogram_104', 'tempogram_105', 'tempogram_106', 'tempogram_107', 'tempogram_108', 'tempogram_109', 'tempogram_110', 'tempogram_111', 'tempogram_112', 'tempogram_113', 'tempogram_114', 'tempogram_115', 'tempogram_116', 'tempogram_117', 'tempogram_118', 'tempogram_119', 'tempogram_120', 'tempogram_121', 'tempogram_122', 'tempogram_123', 'tempogram_124', 'tempogram_125', 'tempogram_126', 'tempogram_127', 'tempogram_128', 'tempogram_129', 'tempogram_130', 'tempogram_131', 'tempogram_132', 'tempogram_133', 'tempogram_134', 'tempogram_135', 'tempogram_136', 'tempogram_137', 'tempogram_138', 'tempogram_139', 'tempogram_140', 'tempogram_141', 'tempogram_142', 'tempogram_143', 'tempogram_144', 'tempogram_145', 'tempogram_146', 'tempogram_147', 'tempogram_148', 'tempogram_149', 'tempogram_150', 'tempogram_151', 'tempogram_152', 'tempogram_153', 'tempogram_154', 'tempogram_155', 'tempogram_156', 'tempogram_157', 'tempogram_158', 'tempogram_159', 'tempogram_160', 'tempogram_161', 'tempogram_162', 'tempogram_163', 'tempogram_164', 'tempogram_165', 'tempogram_166', 'tempogram_167', 'tempogram_168', 'tempogram_169', 'tempogram_170', 'tempogram_171', 'tempogram_172', 'tempogram_173', 'tempogram_174', 'tempogram_175', 'tempogram_176', 'tempogram_177', 'tempogram_178', 'tempogram_179', 'tempogram_180', 'tempogram_181', 'tempogram_182', 'tempogram_183', 'tempogram_184', 'tempogram_185', 'tempogram_186', 'tempogram_187', 'tempogram_188', 'tempogram_189', 'tempogram_190', 'tempogram_191']"
   ]
  },
  {
   "cell_type": "code",
   "execution_count": 11,
   "id": "1c11e794",
   "metadata": {},
   "outputs": [],
   "source": [
    "temp_df = pd.DataFrame(temp, columns = temp_columns ) #6890, 192\n",
    "#temp_df"
   ]
  },
  {
   "cell_type": "code",
   "execution_count": 12,
   "id": "9d16ec91",
   "metadata": {},
   "outputs": [],
   "source": [
    "p_tempogram = temp_df.iloc[:, p_temp_index] #6890, 42\n",
    "#p_tempogram"
   ]
  },
  {
   "cell_type": "markdown",
   "id": "05a42c37",
   "metadata": {},
   "source": [
    "## chromogram "
   ]
  },
  {
   "cell_type": "code",
   "execution_count": 13,
   "id": "6a69bb13",
   "metadata": {},
   "outputs": [
    {
     "data": {
      "text/plain": [
       "array([ 2,  4,  5,  6,  9, 10])"
      ]
     },
     "execution_count": 13,
     "metadata": {},
     "output_type": "execute_result"
    }
   ],
   "source": [
    "p_chro_index # these are column index for chromogram"
   ]
  },
  {
   "cell_type": "code",
   "execution_count": 14,
   "id": "b7d2909f",
   "metadata": {},
   "outputs": [],
   "source": [
    "chro_df = pd.DataFrame(chro) #6980, 12\n",
    "#chro_df"
   ]
  },
  {
   "cell_type": "code",
   "execution_count": 15,
   "id": "cc573a7f",
   "metadata": {},
   "outputs": [],
   "source": [
    "p_chro = chro_df.iloc[:, p_chro_index]\n",
    "p_chro.columns = [\"D\", \"E\", \"F\", \"F#\", \"A\", \"A#\"]\n",
    "#p_chro #6980,6"
   ]
  },
  {
   "cell_type": "markdown",
   "id": "f799539b",
   "metadata": {},
   "source": [
    "## Wavelet"
   ]
  },
  {
   "cell_type": "code",
   "execution_count": 16,
   "id": "73ad57d7",
   "metadata": {},
   "outputs": [],
   "source": [
    "wave_in_app = p_wavelet_index[0]  #44\n",
    "wave_in_lvl1 = p_wavelet_index[1] #56\n",
    "wave_in_lvl2 = p_wavelet_index[2] #86\n",
    "wave_in_lvl3 = p_wavelet_index[3] #184\n",
    "wave_in_lvl4 = p_wavelet_index[4] #313\n",
    "wave_in_lvl5 = p_wavelet_index[5] #577\n",
    "wave_in_lvl6 = p_wavelet_index[6] #1055"
   ]
  },
  {
   "cell_type": "code",
   "execution_count": 17,
   "id": "9dff92f7",
   "metadata": {},
   "outputs": [],
   "source": [
    "columns_global = []\n",
    "\n",
    "for i in range(7):\n",
    "    for j in range(p_wavelet_index[i].shape[0]):\n",
    "        columns_global.append(\"w_lvl{}_{}\".format(i,j))"
   ]
  },
  {
   "cell_type": "markdown",
   "id": "6f59f046",
   "metadata": {},
   "source": [
    "### for approximation coef "
   ]
  },
  {
   "cell_type": "code",
   "execution_count": 18,
   "id": "b14d7512",
   "metadata": {},
   "outputs": [],
   "source": [
    "app_df = pd.DataFrame(w_approx) #6890, 633\n",
    "#app_df"
   ]
  },
  {
   "cell_type": "code",
   "execution_count": 19,
   "id": "ffb68cdb",
   "metadata": {},
   "outputs": [],
   "source": [
    "p_app = app_df.iloc[:, wave_in_app] #6890, 44\n",
    "#p_app"
   ]
  },
  {
   "cell_type": "markdown",
   "id": "2550f46c",
   "metadata": {},
   "source": [
    "### for the level 1"
   ]
  },
  {
   "cell_type": "code",
   "execution_count": 20,
   "id": "de562865",
   "metadata": {},
   "outputs": [],
   "source": [
    "lvl1_df = pd.DataFrame(w_lvl1) #6890, 633\n",
    "#lvl1_df"
   ]
  },
  {
   "cell_type": "code",
   "execution_count": 21,
   "id": "f005c16c",
   "metadata": {},
   "outputs": [],
   "source": [
    "p_lvl1 = lvl1_df.iloc[:, wave_in_lvl1] #6890, 56\n",
    "#p_lvl1"
   ]
  },
  {
   "cell_type": "markdown",
   "id": "bd1c97db",
   "metadata": {},
   "source": [
    "### for the level 2"
   ]
  },
  {
   "cell_type": "code",
   "execution_count": 22,
   "id": "170f7de3",
   "metadata": {},
   "outputs": [],
   "source": [
    "lvl2_df = pd.DataFrame(w_lvl2) #6890, 1258\n",
    "#lvl2_df"
   ]
  },
  {
   "cell_type": "code",
   "execution_count": 23,
   "id": "550ef026",
   "metadata": {},
   "outputs": [],
   "source": [
    "p_lvl2 = lvl2_df.iloc[:, wave_in_lvl2] #6890, 86\n",
    "#p_lvl2"
   ]
  },
  {
   "cell_type": "markdown",
   "id": "3f61c010",
   "metadata": {},
   "source": [
    "### for the level 3"
   ]
  },
  {
   "cell_type": "code",
   "execution_count": 24,
   "id": "68400466",
   "metadata": {},
   "outputs": [],
   "source": [
    "lvl3_df = pd.DataFrame(w_lvl3) #6890, 2508\n",
    "#lvl3_df"
   ]
  },
  {
   "cell_type": "code",
   "execution_count": 25,
   "id": "ccf2d98b",
   "metadata": {},
   "outputs": [],
   "source": [
    "p_lvl3 = lvl3_df.iloc[:, wave_in_lvl3] #6890,184\n",
    "#p_lvl3"
   ]
  },
  {
   "cell_type": "markdown",
   "id": "32091ad2",
   "metadata": {},
   "source": [
    "### for the level 4"
   ]
  },
  {
   "cell_type": "code",
   "execution_count": 26,
   "id": "06fb528e",
   "metadata": {},
   "outputs": [],
   "source": [
    "lvl4_df = pd.DataFrame(w_lvl4) #6890, 5007\n",
    "#lvl4_df"
   ]
  },
  {
   "cell_type": "code",
   "execution_count": 27,
   "id": "0acf0333",
   "metadata": {},
   "outputs": [],
   "source": [
    "p_lvl4 = lvl4_df.iloc[:, wave_in_lvl4] #6890, 313\n",
    "#p_lvl4"
   ]
  },
  {
   "cell_type": "markdown",
   "id": "80dfc851",
   "metadata": {},
   "source": [
    "### for the level 5"
   ]
  },
  {
   "cell_type": "code",
   "execution_count": 28,
   "id": "90783998",
   "metadata": {},
   "outputs": [],
   "source": [
    "lvl5_df = pd.DataFrame(w_lvl5) #6890, 10006\n",
    "#lvl5_df"
   ]
  },
  {
   "cell_type": "code",
   "execution_count": 29,
   "id": "e3b7b20e",
   "metadata": {},
   "outputs": [],
   "source": [
    "p_lvl5 = lvl5_df.iloc[:, wave_in_lvl5] #6890, 577\n",
    "#p_lvl5"
   ]
  },
  {
   "cell_type": "markdown",
   "id": "52f01627",
   "metadata": {},
   "source": [
    "### for the level 6"
   ]
  },
  {
   "cell_type": "code",
   "execution_count": 30,
   "id": "da9793b8",
   "metadata": {},
   "outputs": [],
   "source": [
    "lvl6_df = pd.DataFrame(w_lvl6) #6890, 20004\n",
    "#lvl6_df"
   ]
  },
  {
   "cell_type": "code",
   "execution_count": 31,
   "id": "5ff89af1",
   "metadata": {},
   "outputs": [],
   "source": [
    "p_lvl6 = lvl6_df.iloc[:, wave_in_lvl6] #6890, 1055\n",
    "#p_lvl6"
   ]
  },
  {
   "cell_type": "markdown",
   "id": "99d245ee",
   "metadata": {},
   "source": [
    "## now I am going to merge all wavelet levels into one dataframe"
   ]
  },
  {
   "cell_type": "code",
   "execution_count": 32,
   "id": "cb0af988",
   "metadata": {},
   "outputs": [
    {
     "data": {
      "text/html": [
       "<div>\n",
       "<style scoped>\n",
       "    .dataframe tbody tr th:only-of-type {\n",
       "        vertical-align: middle;\n",
       "    }\n",
       "\n",
       "    .dataframe tbody tr th {\n",
       "        vertical-align: top;\n",
       "    }\n",
       "\n",
       "    .dataframe thead th {\n",
       "        text-align: right;\n",
       "    }\n",
       "</style>\n",
       "<table border=\"1\" class=\"dataframe\">\n",
       "  <thead>\n",
       "    <tr style=\"text-align: right;\">\n",
       "      <th></th>\n",
       "      <th>14</th>\n",
       "      <th>34</th>\n",
       "      <th>37</th>\n",
       "      <th>43</th>\n",
       "      <th>55</th>\n",
       "      <th>77</th>\n",
       "      <th>102</th>\n",
       "      <th>107</th>\n",
       "      <th>137</th>\n",
       "      <th>157</th>\n",
       "      <th>...</th>\n",
       "      <th>19851</th>\n",
       "      <th>19855</th>\n",
       "      <th>19858</th>\n",
       "      <th>19862</th>\n",
       "      <th>19897</th>\n",
       "      <th>19918</th>\n",
       "      <th>19919</th>\n",
       "      <th>19944</th>\n",
       "      <th>19990</th>\n",
       "      <th>19993</th>\n",
       "    </tr>\n",
       "  </thead>\n",
       "  <tbody>\n",
       "    <tr>\n",
       "      <th>0</th>\n",
       "      <td>0.151838</td>\n",
       "      <td>-0.020267</td>\n",
       "      <td>0.071467</td>\n",
       "      <td>-0.083668</td>\n",
       "      <td>0.033796</td>\n",
       "      <td>-0.162922</td>\n",
       "      <td>0.151706</td>\n",
       "      <td>0.056250</td>\n",
       "      <td>0.086338</td>\n",
       "      <td>-0.081417</td>\n",
       "      <td>...</td>\n",
       "      <td>0.000005</td>\n",
       "      <td>6.963382e-07</td>\n",
       "      <td>-5.789596e-06</td>\n",
       "      <td>-9.806245e-07</td>\n",
       "      <td>-6.702961e-06</td>\n",
       "      <td>-0.000010</td>\n",
       "      <td>-6.771414e-06</td>\n",
       "      <td>-0.000010</td>\n",
       "      <td>-2.070738e-08</td>\n",
       "      <td>0.000002</td>\n",
       "    </tr>\n",
       "    <tr>\n",
       "      <th>1</th>\n",
       "      <td>0.025484</td>\n",
       "      <td>-0.109201</td>\n",
       "      <td>0.035330</td>\n",
       "      <td>0.078914</td>\n",
       "      <td>-0.024260</td>\n",
       "      <td>-0.022361</td>\n",
       "      <td>0.004939</td>\n",
       "      <td>0.062620</td>\n",
       "      <td>-0.039212</td>\n",
       "      <td>0.018659</td>\n",
       "      <td>...</td>\n",
       "      <td>0.000003</td>\n",
       "      <td>-2.610163e-06</td>\n",
       "      <td>-1.482549e-07</td>\n",
       "      <td>-3.935682e-06</td>\n",
       "      <td>-5.964383e-06</td>\n",
       "      <td>-0.000004</td>\n",
       "      <td>3.714398e-06</td>\n",
       "      <td>0.000005</td>\n",
       "      <td>9.626383e-07</td>\n",
       "      <td>-0.000003</td>\n",
       "    </tr>\n",
       "    <tr>\n",
       "      <th>2</th>\n",
       "      <td>0.010227</td>\n",
       "      <td>0.188528</td>\n",
       "      <td>0.004989</td>\n",
       "      <td>0.154328</td>\n",
       "      <td>0.012683</td>\n",
       "      <td>0.030738</td>\n",
       "      <td>0.001261</td>\n",
       "      <td>-0.533609</td>\n",
       "      <td>0.032836</td>\n",
       "      <td>0.191428</td>\n",
       "      <td>...</td>\n",
       "      <td>0.000004</td>\n",
       "      <td>-6.177768e-06</td>\n",
       "      <td>7.144728e-06</td>\n",
       "      <td>-8.237861e-06</td>\n",
       "      <td>-3.758720e-06</td>\n",
       "      <td>-0.000009</td>\n",
       "      <td>-9.711744e-06</td>\n",
       "      <td>-0.000005</td>\n",
       "      <td>5.220703e-06</td>\n",
       "      <td>-0.000002</td>\n",
       "    </tr>\n",
       "    <tr>\n",
       "      <th>3</th>\n",
       "      <td>-0.128872</td>\n",
       "      <td>0.063286</td>\n",
       "      <td>-0.051832</td>\n",
       "      <td>0.505130</td>\n",
       "      <td>0.063480</td>\n",
       "      <td>0.015888</td>\n",
       "      <td>0.092249</td>\n",
       "      <td>0.020101</td>\n",
       "      <td>0.027043</td>\n",
       "      <td>0.133390</td>\n",
       "      <td>...</td>\n",
       "      <td>0.000029</td>\n",
       "      <td>-2.697622e-05</td>\n",
       "      <td>1.098402e-05</td>\n",
       "      <td>-1.049857e-05</td>\n",
       "      <td>-1.306462e-05</td>\n",
       "      <td>0.000014</td>\n",
       "      <td>8.042669e-06</td>\n",
       "      <td>-0.000017</td>\n",
       "      <td>9.330921e-06</td>\n",
       "      <td>0.000006</td>\n",
       "    </tr>\n",
       "    <tr>\n",
       "      <th>4</th>\n",
       "      <td>0.021473</td>\n",
       "      <td>-0.029027</td>\n",
       "      <td>-0.072800</td>\n",
       "      <td>-0.005553</td>\n",
       "      <td>-0.009567</td>\n",
       "      <td>0.026126</td>\n",
       "      <td>-0.596943</td>\n",
       "      <td>0.415714</td>\n",
       "      <td>-0.003752</td>\n",
       "      <td>0.054556</td>\n",
       "      <td>...</td>\n",
       "      <td>-0.000004</td>\n",
       "      <td>5.494308e-06</td>\n",
       "      <td>-3.746129e-06</td>\n",
       "      <td>1.614681e-06</td>\n",
       "      <td>3.437206e-06</td>\n",
       "      <td>0.000007</td>\n",
       "      <td>9.789132e-06</td>\n",
       "      <td>-0.000011</td>\n",
       "      <td>-2.994202e-07</td>\n",
       "      <td>-0.000012</td>\n",
       "    </tr>\n",
       "    <tr>\n",
       "      <th>...</th>\n",
       "      <td>...</td>\n",
       "      <td>...</td>\n",
       "      <td>...</td>\n",
       "      <td>...</td>\n",
       "      <td>...</td>\n",
       "      <td>...</td>\n",
       "      <td>...</td>\n",
       "      <td>...</td>\n",
       "      <td>...</td>\n",
       "      <td>...</td>\n",
       "      <td>...</td>\n",
       "      <td>...</td>\n",
       "      <td>...</td>\n",
       "      <td>...</td>\n",
       "      <td>...</td>\n",
       "      <td>...</td>\n",
       "      <td>...</td>\n",
       "      <td>...</td>\n",
       "      <td>...</td>\n",
       "      <td>...</td>\n",
       "      <td>...</td>\n",
       "    </tr>\n",
       "    <tr>\n",
       "      <th>6975</th>\n",
       "      <td>0.010656</td>\n",
       "      <td>0.012502</td>\n",
       "      <td>0.010576</td>\n",
       "      <td>0.013324</td>\n",
       "      <td>0.022523</td>\n",
       "      <td>0.051944</td>\n",
       "      <td>0.039568</td>\n",
       "      <td>-0.014393</td>\n",
       "      <td>0.047475</td>\n",
       "      <td>-0.020950</td>\n",
       "      <td>...</td>\n",
       "      <td>-0.000002</td>\n",
       "      <td>-7.132523e-06</td>\n",
       "      <td>6.590397e-06</td>\n",
       "      <td>-1.494042e-05</td>\n",
       "      <td>-5.225156e-07</td>\n",
       "      <td>-0.000029</td>\n",
       "      <td>-1.634180e-05</td>\n",
       "      <td>0.000005</td>\n",
       "      <td>1.309731e-06</td>\n",
       "      <td>-0.000004</td>\n",
       "    </tr>\n",
       "    <tr>\n",
       "      <th>6976</th>\n",
       "      <td>0.008412</td>\n",
       "      <td>-0.007361</td>\n",
       "      <td>-0.198316</td>\n",
       "      <td>0.038454</td>\n",
       "      <td>0.040936</td>\n",
       "      <td>0.014139</td>\n",
       "      <td>0.006659</td>\n",
       "      <td>-0.045689</td>\n",
       "      <td>0.167351</td>\n",
       "      <td>0.033748</td>\n",
       "      <td>...</td>\n",
       "      <td>0.000008</td>\n",
       "      <td>-7.742674e-06</td>\n",
       "      <td>8.308571e-06</td>\n",
       "      <td>-8.401337e-06</td>\n",
       "      <td>-1.804347e-05</td>\n",
       "      <td>-0.000013</td>\n",
       "      <td>4.085159e-06</td>\n",
       "      <td>0.000019</td>\n",
       "      <td>1.780329e-05</td>\n",
       "      <td>-0.000006</td>\n",
       "    </tr>\n",
       "    <tr>\n",
       "      <th>6977</th>\n",
       "      <td>0.061118</td>\n",
       "      <td>-0.036709</td>\n",
       "      <td>0.060785</td>\n",
       "      <td>0.108534</td>\n",
       "      <td>0.022482</td>\n",
       "      <td>0.114747</td>\n",
       "      <td>0.037390</td>\n",
       "      <td>-0.133273</td>\n",
       "      <td>0.015004</td>\n",
       "      <td>0.095803</td>\n",
       "      <td>...</td>\n",
       "      <td>0.000003</td>\n",
       "      <td>-6.557884e-06</td>\n",
       "      <td>1.189780e-05</td>\n",
       "      <td>-1.669269e-05</td>\n",
       "      <td>-3.237254e-06</td>\n",
       "      <td>-0.000004</td>\n",
       "      <td>-1.189896e-06</td>\n",
       "      <td>0.000008</td>\n",
       "      <td>-7.093244e-06</td>\n",
       "      <td>0.000003</td>\n",
       "    </tr>\n",
       "    <tr>\n",
       "      <th>6978</th>\n",
       "      <td>-0.053280</td>\n",
       "      <td>0.061567</td>\n",
       "      <td>0.076889</td>\n",
       "      <td>-0.016724</td>\n",
       "      <td>0.053898</td>\n",
       "      <td>0.061285</td>\n",
       "      <td>0.004763</td>\n",
       "      <td>0.024871</td>\n",
       "      <td>0.132922</td>\n",
       "      <td>-0.102242</td>\n",
       "      <td>...</td>\n",
       "      <td>-0.000034</td>\n",
       "      <td>6.358366e-05</td>\n",
       "      <td>-6.930577e-05</td>\n",
       "      <td>7.014227e-05</td>\n",
       "      <td>-6.042392e-07</td>\n",
       "      <td>-0.000021</td>\n",
       "      <td>5.278416e-07</td>\n",
       "      <td>-0.000003</td>\n",
       "      <td>8.114657e-06</td>\n",
       "      <td>-0.000013</td>\n",
       "    </tr>\n",
       "    <tr>\n",
       "      <th>6979</th>\n",
       "      <td>0.064300</td>\n",
       "      <td>0.077387</td>\n",
       "      <td>0.001062</td>\n",
       "      <td>-0.302803</td>\n",
       "      <td>0.034997</td>\n",
       "      <td>-0.070229</td>\n",
       "      <td>-0.043984</td>\n",
       "      <td>0.018698</td>\n",
       "      <td>0.036573</td>\n",
       "      <td>0.066897</td>\n",
       "      <td>...</td>\n",
       "      <td>-0.000052</td>\n",
       "      <td>1.544680e-05</td>\n",
       "      <td>-4.367315e-05</td>\n",
       "      <td>1.097855e-06</td>\n",
       "      <td>-6.096915e-05</td>\n",
       "      <td>-0.000062</td>\n",
       "      <td>-3.686128e-05</td>\n",
       "      <td>-0.000018</td>\n",
       "      <td>-5.539390e-05</td>\n",
       "      <td>0.000048</td>\n",
       "    </tr>\n",
       "  </tbody>\n",
       "</table>\n",
       "<p>6980 rows × 2315 columns</p>\n",
       "</div>"
      ],
      "text/plain": [
       "         14        34        37        43        55        77        102    \\\n",
       "0     0.151838 -0.020267  0.071467 -0.083668  0.033796 -0.162922  0.151706   \n",
       "1     0.025484 -0.109201  0.035330  0.078914 -0.024260 -0.022361  0.004939   \n",
       "2     0.010227  0.188528  0.004989  0.154328  0.012683  0.030738  0.001261   \n",
       "3    -0.128872  0.063286 -0.051832  0.505130  0.063480  0.015888  0.092249   \n",
       "4     0.021473 -0.029027 -0.072800 -0.005553 -0.009567  0.026126 -0.596943   \n",
       "...        ...       ...       ...       ...       ...       ...       ...   \n",
       "6975  0.010656  0.012502  0.010576  0.013324  0.022523  0.051944  0.039568   \n",
       "6976  0.008412 -0.007361 -0.198316  0.038454  0.040936  0.014139  0.006659   \n",
       "6977  0.061118 -0.036709  0.060785  0.108534  0.022482  0.114747  0.037390   \n",
       "6978 -0.053280  0.061567  0.076889 -0.016724  0.053898  0.061285  0.004763   \n",
       "6979  0.064300  0.077387  0.001062 -0.302803  0.034997 -0.070229 -0.043984   \n",
       "\n",
       "         107       137       157    ...     19851         19855         19858  \\\n",
       "0     0.056250  0.086338 -0.081417  ...  0.000005  6.963382e-07 -5.789596e-06   \n",
       "1     0.062620 -0.039212  0.018659  ...  0.000003 -2.610163e-06 -1.482549e-07   \n",
       "2    -0.533609  0.032836  0.191428  ...  0.000004 -6.177768e-06  7.144728e-06   \n",
       "3     0.020101  0.027043  0.133390  ...  0.000029 -2.697622e-05  1.098402e-05   \n",
       "4     0.415714 -0.003752  0.054556  ... -0.000004  5.494308e-06 -3.746129e-06   \n",
       "...        ...       ...       ...  ...       ...           ...           ...   \n",
       "6975 -0.014393  0.047475 -0.020950  ... -0.000002 -7.132523e-06  6.590397e-06   \n",
       "6976 -0.045689  0.167351  0.033748  ...  0.000008 -7.742674e-06  8.308571e-06   \n",
       "6977 -0.133273  0.015004  0.095803  ...  0.000003 -6.557884e-06  1.189780e-05   \n",
       "6978  0.024871  0.132922 -0.102242  ... -0.000034  6.358366e-05 -6.930577e-05   \n",
       "6979  0.018698  0.036573  0.066897  ... -0.000052  1.544680e-05 -4.367315e-05   \n",
       "\n",
       "             19862         19897     19918         19919     19944  \\\n",
       "0    -9.806245e-07 -6.702961e-06 -0.000010 -6.771414e-06 -0.000010   \n",
       "1    -3.935682e-06 -5.964383e-06 -0.000004  3.714398e-06  0.000005   \n",
       "2    -8.237861e-06 -3.758720e-06 -0.000009 -9.711744e-06 -0.000005   \n",
       "3    -1.049857e-05 -1.306462e-05  0.000014  8.042669e-06 -0.000017   \n",
       "4     1.614681e-06  3.437206e-06  0.000007  9.789132e-06 -0.000011   \n",
       "...            ...           ...       ...           ...       ...   \n",
       "6975 -1.494042e-05 -5.225156e-07 -0.000029 -1.634180e-05  0.000005   \n",
       "6976 -8.401337e-06 -1.804347e-05 -0.000013  4.085159e-06  0.000019   \n",
       "6977 -1.669269e-05 -3.237254e-06 -0.000004 -1.189896e-06  0.000008   \n",
       "6978  7.014227e-05 -6.042392e-07 -0.000021  5.278416e-07 -0.000003   \n",
       "6979  1.097855e-06 -6.096915e-05 -0.000062 -3.686128e-05 -0.000018   \n",
       "\n",
       "             19990     19993  \n",
       "0    -2.070738e-08  0.000002  \n",
       "1     9.626383e-07 -0.000003  \n",
       "2     5.220703e-06 -0.000002  \n",
       "3     9.330921e-06  0.000006  \n",
       "4    -2.994202e-07 -0.000012  \n",
       "...            ...       ...  \n",
       "6975  1.309731e-06 -0.000004  \n",
       "6976  1.780329e-05 -0.000006  \n",
       "6977 -7.093244e-06  0.000003  \n",
       "6978  8.114657e-06 -0.000013  \n",
       "6979 -5.539390e-05  0.000048  \n",
       "\n",
       "[6980 rows x 2315 columns]"
      ]
     },
     "execution_count": 32,
     "metadata": {},
     "output_type": "execute_result"
    }
   ],
   "source": [
    "wavelet_df = pd.concat([p_app, p_lvl1 ], axis=1)\n",
    "wavelet_df = pd.concat([wavelet_df, p_lvl2], axis=1)\n",
    "wavelet_df = pd.concat([wavelet_df, p_lvl3], axis=1)\n",
    "wavelet_df = pd.concat([wavelet_df, p_lvl4], axis=1)\n",
    "wavelet_df = pd.concat([wavelet_df, p_lvl5], axis=1)\n",
    "wavelet_df = pd.concat([wavelet_df, p_lvl6], axis=1)\n",
    "\n",
    "wavelet_df #6890, 2315"
   ]
  },
  {
   "cell_type": "code",
   "execution_count": 33,
   "id": "ff5c9750",
   "metadata": {},
   "outputs": [],
   "source": [
    "wavelet_df.columns = columns_global #1245, 2315\n",
    "#wavelet_df"
   ]
  },
  {
   "cell_type": "markdown",
   "id": "17fb938d",
   "metadata": {},
   "source": [
    "# now we should concatenate all"
   ]
  },
  {
   "cell_type": "code",
   "execution_count": 34,
   "id": "401c8c78",
   "metadata": {},
   "outputs": [],
   "source": [
    "df = pd.concat([spec_df, wavelet_df], axis=1)\n",
    "df = pd.concat([df, zcrs_df], axis=1)\n",
    "df = pd.concat([df, p_chro], axis=1)\n",
    "df = pd.concat([df, p_tempogram], axis=1)\n",
    "\n",
    "#df #6890, 18752"
   ]
  },
  {
   "cell_type": "markdown",
   "id": "6fe234ec",
   "metadata": {},
   "source": [
    "## save"
   ]
  },
  {
   "cell_type": "code",
   "execution_count": 35,
   "id": "61418155",
   "metadata": {},
   "outputs": [],
   "source": [
    "df.to_csv(path + \"absent/absent_AV_p_features.csv\")"
   ]
  },
  {
   "cell_type": "code",
   "execution_count": null,
   "id": "e8a93478",
   "metadata": {},
   "outputs": [],
   "source": []
  }
 ],
 "metadata": {
  "kernelspec": {
   "display_name": "Python 3 (ipykernel)",
   "language": "python",
   "name": "python3"
  },
  "language_info": {
   "codemirror_mode": {
    "name": "ipython",
    "version": 3
   },
   "file_extension": ".py",
   "mimetype": "text/x-python",
   "name": "python",
   "nbconvert_exporter": "python",
   "pygments_lexer": "ipython3",
   "version": "3.9.9"
  }
 },
 "nbformat": 4,
 "nbformat_minor": 5
}
