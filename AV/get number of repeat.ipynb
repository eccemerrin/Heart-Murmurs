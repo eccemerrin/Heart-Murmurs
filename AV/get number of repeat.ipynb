{
 "cells": [
  {
   "cell_type": "code",
   "execution_count": 1,
   "id": "466a2dc2",
   "metadata": {},
   "outputs": [],
   "source": [
    "import numpy as np"
   ]
  },
  {
   "cell_type": "code",
   "execution_count": 2,
   "id": "ce06ed57",
   "metadata": {},
   "outputs": [],
   "source": [
    "target_path = \"/Users/ecem/Desktop/phonocardiogram/data/AV\""
   ]
  },
  {
   "cell_type": "code",
   "execution_count": 3,
   "id": "1ccbf715",
   "metadata": {},
   "outputs": [],
   "source": [
    "present = np.load(target_path + \"/present/present_AV_waves.npy\", allow_pickle= True)\n",
    "absent = np.load(target_path + \"/absent/absent_AV_waves.npy\", allow_pickle= True)\n",
    "sampl = 4000\n"
   ]
  },
  {
   "cell_type": "code",
   "execution_count": 4,
   "id": "ad5672a3",
   "metadata": {},
   "outputs": [
    {
     "data": {
      "text/plain": [
       "(108,)"
      ]
     },
     "execution_count": 4,
     "metadata": {},
     "output_type": "execute_result"
    }
   ],
   "source": [
    "present.shape"
   ]
  },
  {
   "cell_type": "code",
   "execution_count": 5,
   "id": "e5abd37a",
   "metadata": {},
   "outputs": [
    {
     "data": {
      "text/plain": [
       "(597,)"
      ]
     },
     "execution_count": 5,
     "metadata": {},
     "output_type": "execute_result"
    }
   ],
   "source": [
    "absent.shape"
   ]
  },
  {
   "cell_type": "code",
   "execution_count": 6,
   "id": "8ef2fd8b",
   "metadata": {},
   "outputs": [
    {
     "name": "stdout",
     "output_type": "stream",
     "text": [
      "451584\n",
      "504857\n",
      "448762\n",
      "464991\n",
      "347156\n",
      "351742\n",
      "744056\n",
      "655856\n",
      "697839\n",
      "666792\n"
     ]
    }
   ],
   "source": [
    "#sanity check\n",
    "for i in range(10):\n",
    "    print(present[i].shape[0])"
   ]
  },
  {
   "cell_type": "code",
   "execution_count": 7,
   "id": "a5cd1e24",
   "metadata": {},
   "outputs": [],
   "source": [
    "def splitter(array, slicing_point = 10000, duration = 10, sampling_rate = 256):\n",
    "    wanted_npts = int(sampling_rate * duration) \n",
    "    npts = int(array.shape[0] - 10000) #sonunda olması istenen\n",
    "    lenght = npts // wanted_npts\n",
    "    remainder = int(np.around((((npts / wanted_npts - lenght)) * wanted_npts), 0))\n",
    "    \n",
    "    \n",
    "    return np.array_split(array[slicing_point + remainder:],lenght)\n",
    "\n",
    "    "
   ]
  },
  {
   "cell_type": "code",
   "execution_count": 8,
   "id": "fccd5a1c",
   "metadata": {},
   "outputs": [],
   "source": [
    "def merger(array, slicing_point = 10000, duration = 10, sampling_rate = 256):\n",
    "    _waves = []\n",
    "    _howmany = []\n",
    "\n",
    "    for i in range(array.shape[0]):\n",
    "        a = splitter(array[i], slicing_point = slicing_point, duration = duration, sampling_rate = sampling_rate)\n",
    "        _howmany.append(len(a))\n",
    "        \n",
    "        _waves = _waves + a\n",
    "\n",
    "    return [np.array(_waves), np.array(_howmany)]"
   ]
  },
  {
   "cell_type": "markdown",
   "id": "96c51d13",
   "metadata": {},
   "source": [
    "## Splitting into 10 sc frames"
   ]
  },
  {
   "cell_type": "markdown",
   "id": "0584cb45",
   "metadata": {},
   "source": [
    "### murmur present waves"
   ]
  },
  {
   "cell_type": "code",
   "execution_count": 9,
   "id": "d3b59fd5",
   "metadata": {},
   "outputs": [],
   "source": [
    "present_splitted, howmany_p = merger(present, duration = 10, sampling_rate = sampl)"
   ]
  },
  {
   "cell_type": "code",
   "execution_count": 10,
   "id": "cdf4a586",
   "metadata": {},
   "outputs": [
    {
     "data": {
      "text/plain": [
       "108"
      ]
     },
     "execution_count": 10,
     "metadata": {},
     "output_type": "execute_result"
    }
   ],
   "source": [
    "#sanity check\n",
    "len(howmany_p)"
   ]
  },
  {
   "cell_type": "code",
   "execution_count": 11,
   "id": "2356f471",
   "metadata": {
    "scrolled": true
   },
   "outputs": [
    {
     "data": {
      "text/plain": [
       "array([11, 12, 10, 11,  8,  8, 18, 16, 17, 16, 13, 16, 20, 16, 13, 16, 16,\n",
       "       16, 17,  8, 16, 15,  9, 17, 16, 14, 15, 16, 18, 12, 16,  9, 16, 16,\n",
       "       11, 13, 15, 15,  9, 17, 15, 15, 35, 15, 15, 15,  4, 12,  6, 11, 11,\n",
       "        8, 11,  5,  9, 11, 11, 10,  4, 11,  6,  8, 10, 11, 11, 11,  4,  4,\n",
       "        7,  8, 13,  8, 11, 11, 11,  9,  4, 10, 10, 11, 12, 10, 11, 10,  8,\n",
       "       11, 11, 12, 10,  5, 11, 13, 10,  9, 14,  4, 10, 10,  5, 10, 10,  6,\n",
       "       10, 10,  9,  9, 11,  9])"
      ]
     },
     "execution_count": 11,
     "metadata": {},
     "output_type": "execute_result"
    }
   ],
   "source": [
    "howmany_p # the information baout how much came from which is embedded in howmany"
   ]
  },
  {
   "cell_type": "code",
   "execution_count": 12,
   "id": "b1ed389d",
   "metadata": {},
   "outputs": [
    {
     "data": {
      "text/plain": [
       "(1245, 40000)"
      ]
     },
     "execution_count": 12,
     "metadata": {},
     "output_type": "execute_result"
    }
   ],
   "source": [
    "present_splitted.shape"
   ]
  },
  {
   "cell_type": "code",
   "execution_count": 13,
   "id": "1c5fc1c9",
   "metadata": {},
   "outputs": [],
   "source": [
    "np.save(target_path+\"/number_of_repeat_present\", howmany_p, allow_pickle = True)"
   ]
  },
  {
   "cell_type": "markdown",
   "id": "5b6fa0af",
   "metadata": {},
   "source": [
    "### murmur absent waves"
   ]
  },
  {
   "cell_type": "code",
   "execution_count": 14,
   "id": "f5901024",
   "metadata": {},
   "outputs": [],
   "source": [
    "absent_splitted, howmany_a = merger(absent, duration = 10, sampling_rate = sampl)"
   ]
  },
  {
   "cell_type": "code",
   "execution_count": 15,
   "id": "946b7f01",
   "metadata": {},
   "outputs": [
    {
     "data": {
      "text/plain": [
       "597"
      ]
     },
     "execution_count": 15,
     "metadata": {},
     "output_type": "execute_result"
    }
   ],
   "source": [
    "len(howmany_a)"
   ]
  },
  {
   "cell_type": "code",
   "execution_count": 16,
   "id": "5e84baf4",
   "metadata": {},
   "outputs": [
    {
     "data": {
      "text/plain": [
       "(6980, 40000)"
      ]
     },
     "execution_count": 16,
     "metadata": {},
     "output_type": "execute_result"
    }
   ],
   "source": [
    "absent_splitted.shape"
   ]
  },
  {
   "cell_type": "code",
   "execution_count": 17,
   "id": "d6d9a100",
   "metadata": {},
   "outputs": [],
   "source": [
    "np.save(target_path+\"/number_of_repeat_absent\", howmany_a, allow_pickle = True)"
   ]
  },
  {
   "cell_type": "code",
   "execution_count": null,
   "id": "1167e5ba",
   "metadata": {},
   "outputs": [],
   "source": []
  }
 ],
 "metadata": {
  "kernelspec": {
   "display_name": "Python 3 (ipykernel)",
   "language": "python",
   "name": "python3"
  },
  "language_info": {
   "codemirror_mode": {
    "name": "ipython",
    "version": 3
   },
   "file_extension": ".py",
   "mimetype": "text/x-python",
   "name": "python",
   "nbconvert_exporter": "python",
   "pygments_lexer": "ipython3",
   "version": "3.9.9"
  }
 },
 "nbformat": 4,
 "nbformat_minor": 5
}
