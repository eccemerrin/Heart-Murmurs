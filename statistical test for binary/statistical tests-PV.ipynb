{
 "cells": [
  {
   "cell_type": "code",
   "execution_count": 1,
   "id": "e232ae2f",
   "metadata": {},
   "outputs": [],
   "source": [
    "import pandas as pd \n",
    "from scipy.stats import mannwhitneyu\n",
    "from scipy import stats\n",
    "import numpy as np"
   ]
  },
  {
   "cell_type": "code",
   "execution_count": 2,
   "id": "52193d25",
   "metadata": {},
   "outputs": [],
   "source": [
    "p_path =  \"/Users/ecem/Desktop/phonocardiogram/data/PV/present\"\n",
    "a_path = \"/Users/ecem/Desktop/phonocardiogram/data/PV/absent\""
   ]
  },
  {
   "cell_type": "markdown",
   "id": "fe8a51b6",
   "metadata": {},
   "source": [
    "# features:"
   ]
  },
  {
   "cell_type": "markdown",
   "id": "95a719e9",
   "metadata": {},
   "source": [
    "## * Time domain features"
   ]
  },
  {
   "cell_type": "code",
   "execution_count": 3,
   "id": "7a9d66af",
   "metadata": {},
   "outputs": [],
   "source": [
    "abs_time_domain = pd.read_csv(a_path + \"/PV-time-domain-features.csv\", index_col = 0)\n",
    "pre_time_domain = pd.read_csv(p_path + \"/PV-time-domain-features.csv\", index_col = 0)"
   ]
  },
  {
   "cell_type": "code",
   "execution_count": 4,
   "id": "5ac23bb4",
   "metadata": {},
   "outputs": [],
   "source": [
    "test = mannwhitneyu(abs_time_domain, pre_time_domain,\n",
    "                    use_continuity=False, alternative = 'two-sided')\n",
    "stats = pd.DataFrame(test[0])\n",
    "p = pd.DataFrame(test[1])\n"
   ]
  },
  {
   "cell_type": "code",
   "execution_count": 5,
   "id": "038c4bfb",
   "metadata": {},
   "outputs": [
    {
     "data": {
      "text/html": [
       "<style type=\"text/css\">\n",
       "#T_6dbbf_row0_col0, #T_6dbbf_row0_col1, #T_6dbbf_row0_col2, #T_6dbbf_row0_col4 {\n",
       "  background: pink;\n",
       "}\n",
       "</style>\n",
       "<table id=\"T_6dbbf\">\n",
       "  <thead>\n",
       "    <tr>\n",
       "      <th class=\"blank level0\" >&nbsp;</th>\n",
       "      <th id=\"T_6dbbf_level0_col0\" class=\"col_heading level0 col0\" >0</th>\n",
       "      <th id=\"T_6dbbf_level0_col1\" class=\"col_heading level0 col1\" >1</th>\n",
       "      <th id=\"T_6dbbf_level0_col2\" class=\"col_heading level0 col2\" >2</th>\n",
       "      <th id=\"T_6dbbf_level0_col3\" class=\"col_heading level0 col3\" >3</th>\n",
       "      <th id=\"T_6dbbf_level0_col4\" class=\"col_heading level0 col4\" >4</th>\n",
       "      <th id=\"T_6dbbf_level0_col5\" class=\"col_heading level0 col5\" >5</th>\n",
       "    </tr>\n",
       "  </thead>\n",
       "  <tbody>\n",
       "    <tr>\n",
       "      <th id=\"T_6dbbf_level0_row0\" class=\"row_heading level0 row0\" >0</th>\n",
       "      <td id=\"T_6dbbf_row0_col0\" class=\"data row0 col0\" >0.000000</td>\n",
       "      <td id=\"T_6dbbf_row0_col1\" class=\"data row0 col1\" >0.001573</td>\n",
       "      <td id=\"T_6dbbf_row0_col2\" class=\"data row0 col2\" >0.000000</td>\n",
       "      <td id=\"T_6dbbf_row0_col3\" class=\"data row0 col3\" >0.944518</td>\n",
       "      <td id=\"T_6dbbf_row0_col4\" class=\"data row0 col4\" >0.000017</td>\n",
       "      <td id=\"T_6dbbf_row0_col5\" class=\"data row0 col5\" >0.556713</td>\n",
       "    </tr>\n",
       "  </tbody>\n",
       "</table>\n"
      ],
      "text/plain": [
       "<pandas.io.formats.style.Styler at 0x160e06040>"
      ]
     },
     "execution_count": 5,
     "metadata": {},
     "output_type": "execute_result"
    }
   ],
   "source": [
    "p.T.style.apply(lambda x: [\"background: pink\" if v < 0.05 else \"\" for v in x], axis = 1)"
   ]
  },
  {
   "cell_type": "code",
   "execution_count": 6,
   "id": "a3f26f1d",
   "metadata": {},
   "outputs": [
    {
     "data": {
      "text/plain": [
       "Int64Index([0, 1, 2, 4], dtype='int64')"
      ]
     },
     "execution_count": 6,
     "metadata": {},
     "output_type": "execute_result"
    }
   ],
   "source": [
    "time_dom_idx = p[(p < 0.05).any(axis=1)].index\n",
    "time_dom_idx"
   ]
  },
  {
   "cell_type": "code",
   "execution_count": 7,
   "id": "3bd7b909",
   "metadata": {},
   "outputs": [],
   "source": [
    "abs_time_domain = abs_time_domain.iloc[:, time_dom_idx]"
   ]
  },
  {
   "cell_type": "code",
   "execution_count": 8,
   "id": "09fbe808",
   "metadata": {},
   "outputs": [],
   "source": [
    "pre_time_domain = pre_time_domain.iloc[:, time_dom_idx]"
   ]
  },
  {
   "cell_type": "code",
   "execution_count": 9,
   "id": "8cef8e51",
   "metadata": {},
   "outputs": [],
   "source": [
    "abs_time_domain.to_csv(\"/Users/ecem/Desktop/phonocardiogram/data/binary/PV/absent_time_domain.csv\")"
   ]
  },
  {
   "cell_type": "code",
   "execution_count": 10,
   "id": "b0153bb2",
   "metadata": {},
   "outputs": [],
   "source": [
    "pre_time_domain.to_csv(\"/Users/ecem/Desktop/phonocardiogram/data/binary/PV/present_time_domain.csv\")"
   ]
  },
  {
   "cell_type": "markdown",
   "id": "ed4b50b4",
   "metadata": {},
   "source": [
    "## * statistical features"
   ]
  },
  {
   "cell_type": "code",
   "execution_count": 11,
   "id": "9f95bf2b",
   "metadata": {},
   "outputs": [],
   "source": [
    "abs_statistical = pd.read_csv(a_path + \"/PV-statistical-features.csv\", index_col = 0)\n",
    "pre_statistical  = pd.read_csv(p_path + \"/PV-statistical-features.csv\", index_col = 0)"
   ]
  },
  {
   "cell_type": "code",
   "execution_count": 12,
   "id": "87e67c86",
   "metadata": {},
   "outputs": [],
   "source": [
    "test = mannwhitneyu(abs_statistical, pre_statistical,\n",
    "                    use_continuity=False, alternative = 'two-sided')\n",
    "stats = pd.DataFrame(test[0])\n",
    "p = pd.DataFrame(test[1])\n"
   ]
  },
  {
   "cell_type": "code",
   "execution_count": 13,
   "id": "fcbe338d",
   "metadata": {},
   "outputs": [
    {
     "data": {
      "text/html": [
       "<style type=\"text/css\">\n",
       "#T_1eb15_row0_col1, #T_1eb15_row0_col2, #T_1eb15_row0_col3, #T_1eb15_row0_col4, #T_1eb15_row0_col5 {\n",
       "  background: pink;\n",
       "}\n",
       "</style>\n",
       "<table id=\"T_1eb15\">\n",
       "  <thead>\n",
       "    <tr>\n",
       "      <th class=\"blank level0\" >&nbsp;</th>\n",
       "      <th id=\"T_1eb15_level0_col0\" class=\"col_heading level0 col0\" >0</th>\n",
       "      <th id=\"T_1eb15_level0_col1\" class=\"col_heading level0 col1\" >1</th>\n",
       "      <th id=\"T_1eb15_level0_col2\" class=\"col_heading level0 col2\" >2</th>\n",
       "      <th id=\"T_1eb15_level0_col3\" class=\"col_heading level0 col3\" >3</th>\n",
       "      <th id=\"T_1eb15_level0_col4\" class=\"col_heading level0 col4\" >4</th>\n",
       "      <th id=\"T_1eb15_level0_col5\" class=\"col_heading level0 col5\" >5</th>\n",
       "    </tr>\n",
       "  </thead>\n",
       "  <tbody>\n",
       "    <tr>\n",
       "      <th id=\"T_1eb15_level0_row0\" class=\"row_heading level0 row0\" >0</th>\n",
       "      <td id=\"T_1eb15_row0_col0\" class=\"data row0 col0\" >0.781214</td>\n",
       "      <td id=\"T_1eb15_row0_col1\" class=\"data row0 col1\" >0.000000</td>\n",
       "      <td id=\"T_1eb15_row0_col2\" class=\"data row0 col2\" >0.000000</td>\n",
       "      <td id=\"T_1eb15_row0_col3\" class=\"data row0 col3\" >0.000000</td>\n",
       "      <td id=\"T_1eb15_row0_col4\" class=\"data row0 col4\" >0.000000</td>\n",
       "      <td id=\"T_1eb15_row0_col5\" class=\"data row0 col5\" >0.000000</td>\n",
       "    </tr>\n",
       "  </tbody>\n",
       "</table>\n"
      ],
      "text/plain": [
       "<pandas.io.formats.style.Styler at 0x1624924f0>"
      ]
     },
     "execution_count": 13,
     "metadata": {},
     "output_type": "execute_result"
    }
   ],
   "source": [
    "p.T.style.apply(lambda x: [\"background: pink\" if v < 0.05 else \"\" for v in x], axis = 1)"
   ]
  },
  {
   "cell_type": "code",
   "execution_count": 14,
   "id": "6b99c9e1",
   "metadata": {},
   "outputs": [
    {
     "data": {
      "text/plain": [
       "Int64Index([1, 2, 3, 4, 5], dtype='int64')"
      ]
     },
     "execution_count": 14,
     "metadata": {},
     "output_type": "execute_result"
    }
   ],
   "source": [
    "statistical_idx = p[(p < 0.05).any(axis=1)].index\n",
    "statistical_idx"
   ]
  },
  {
   "cell_type": "code",
   "execution_count": 15,
   "id": "6b1f619c",
   "metadata": {},
   "outputs": [],
   "source": [
    "abs_statistical = abs_statistical.iloc[:, statistical_idx]\n",
    "pre_statistical = pre_statistical.iloc[:, statistical_idx]"
   ]
  },
  {
   "cell_type": "code",
   "execution_count": 16,
   "id": "f16a0fc2",
   "metadata": {},
   "outputs": [],
   "source": [
    "abs_statistical.to_csv(\"/Users/ecem/Desktop/phonocardiogram/data/binary/PV/absent_statistical.csv\")\n",
    "pre_statistical.to_csv(\"/Users/ecem/Desktop/phonocardiogram/data/binary/PV/present_statistical.csv\")"
   ]
  },
  {
   "cell_type": "markdown",
   "id": "ddf93e49",
   "metadata": {},
   "source": [
    "## * shannon entropy of wavelets"
   ]
  },
  {
   "cell_type": "code",
   "execution_count": 17,
   "id": "f37ef932",
   "metadata": {},
   "outputs": [],
   "source": [
    "abs_shannon = pd.read_csv(a_path + \"/shannon_PV.csv\", index_col = 0)\n",
    "pre_shannon  = pd.read_csv(p_path + \"/shannon_entropy.csv\", index_col = 0)"
   ]
  },
  {
   "cell_type": "code",
   "execution_count": 18,
   "id": "94cdeb2e",
   "metadata": {},
   "outputs": [],
   "source": [
    "test = mannwhitneyu(abs_shannon, pre_shannon,\n",
    "                    use_continuity=False, alternative = 'two-sided')\n",
    "stats = pd.DataFrame(test[0])\n",
    "p = pd.DataFrame(test[1])"
   ]
  },
  {
   "cell_type": "code",
   "execution_count": 19,
   "id": "6c7fc0f8",
   "metadata": {},
   "outputs": [
    {
     "data": {
      "text/html": [
       "<style type=\"text/css\">\n",
       "#T_a0750_row0_col0, #T_a0750_row0_col1, #T_a0750_row0_col2, #T_a0750_row0_col3, #T_a0750_row0_col4, #T_a0750_row0_col5 {\n",
       "  background: pink;\n",
       "}\n",
       "</style>\n",
       "<table id=\"T_a0750\">\n",
       "  <thead>\n",
       "    <tr>\n",
       "      <th class=\"blank level0\" >&nbsp;</th>\n",
       "      <th id=\"T_a0750_level0_col0\" class=\"col_heading level0 col0\" >0</th>\n",
       "      <th id=\"T_a0750_level0_col1\" class=\"col_heading level0 col1\" >1</th>\n",
       "      <th id=\"T_a0750_level0_col2\" class=\"col_heading level0 col2\" >2</th>\n",
       "      <th id=\"T_a0750_level0_col3\" class=\"col_heading level0 col3\" >3</th>\n",
       "      <th id=\"T_a0750_level0_col4\" class=\"col_heading level0 col4\" >4</th>\n",
       "      <th id=\"T_a0750_level0_col5\" class=\"col_heading level0 col5\" >5</th>\n",
       "    </tr>\n",
       "  </thead>\n",
       "  <tbody>\n",
       "    <tr>\n",
       "      <th id=\"T_a0750_level0_row0\" class=\"row_heading level0 row0\" >0</th>\n",
       "      <td id=\"T_a0750_row0_col0\" class=\"data row0 col0\" >0.000000</td>\n",
       "      <td id=\"T_a0750_row0_col1\" class=\"data row0 col1\" >0.000000</td>\n",
       "      <td id=\"T_a0750_row0_col2\" class=\"data row0 col2\" >0.000000</td>\n",
       "      <td id=\"T_a0750_row0_col3\" class=\"data row0 col3\" >0.000000</td>\n",
       "      <td id=\"T_a0750_row0_col4\" class=\"data row0 col4\" >0.000000</td>\n",
       "      <td id=\"T_a0750_row0_col5\" class=\"data row0 col5\" >0.000000</td>\n",
       "    </tr>\n",
       "  </tbody>\n",
       "</table>\n"
      ],
      "text/plain": [
       "<pandas.io.formats.style.Styler at 0x1624a5040>"
      ]
     },
     "execution_count": 19,
     "metadata": {},
     "output_type": "execute_result"
    }
   ],
   "source": [
    "p.T.style.apply(lambda x: [\"background: pink\" if v < 0.05 else \"\" for v in x], axis = 1)"
   ]
  },
  {
   "cell_type": "code",
   "execution_count": 20,
   "id": "e847b10a",
   "metadata": {},
   "outputs": [],
   "source": [
    "abs_shannon.to_csv(\"/Users/ecem/Desktop/phonocardiogram/data/binary/PV/absent_shannon.csv\")\n",
    "pre_shannon.to_csv(\"/Users/ecem/Desktop/phonocardiogram/data/binary/PV/present_shannon.csv\")"
   ]
  },
  {
   "cell_type": "markdown",
   "id": "e16b32b9",
   "metadata": {},
   "source": [
    "## * normalized peaks"
   ]
  },
  {
   "cell_type": "code",
   "execution_count": 21,
   "id": "bbf84ce9",
   "metadata": {},
   "outputs": [],
   "source": [
    "abs_np = pd.read_csv(a_path + \"/PV-max-min-normalized-peaks.csv\", index_col = 0)\n",
    "pre_np  = pd.read_csv(p_path + \"/PV-max-min-normalized-peaks.csv\", index_col = 0)"
   ]
  },
  {
   "cell_type": "code",
   "execution_count": 22,
   "id": "55065f49",
   "metadata": {},
   "outputs": [],
   "source": [
    "test = mannwhitneyu(abs_np, pre_np,\n",
    "                    use_continuity=False, alternative = 'two-sided')\n",
    "stats = pd.DataFrame(test[0])\n",
    "p = pd.DataFrame(test[1])"
   ]
  },
  {
   "cell_type": "code",
   "execution_count": 23,
   "id": "e44bb891",
   "metadata": {},
   "outputs": [
    {
     "data": {
      "text/html": [
       "<style type=\"text/css\">\n",
       "#T_cea34_row0_col0 {\n",
       "  background: pink;\n",
       "}\n",
       "</style>\n",
       "<table id=\"T_cea34\">\n",
       "  <thead>\n",
       "    <tr>\n",
       "      <th class=\"blank level0\" >&nbsp;</th>\n",
       "      <th id=\"T_cea34_level0_col0\" class=\"col_heading level0 col0\" >0</th>\n",
       "    </tr>\n",
       "  </thead>\n",
       "  <tbody>\n",
       "    <tr>\n",
       "      <th id=\"T_cea34_level0_row0\" class=\"row_heading level0 row0\" >0</th>\n",
       "      <td id=\"T_cea34_row0_col0\" class=\"data row0 col0\" >0.000000</td>\n",
       "    </tr>\n",
       "  </tbody>\n",
       "</table>\n"
      ],
      "text/plain": [
       "<pandas.io.formats.style.Styler at 0x1624b6df0>"
      ]
     },
     "execution_count": 23,
     "metadata": {},
     "output_type": "execute_result"
    }
   ],
   "source": [
    "p.T.style.apply(lambda x: [\"background: pink\" if v < 0.05 else \"\" for v in x], axis = 1)"
   ]
  },
  {
   "cell_type": "code",
   "execution_count": 24,
   "id": "df22f18c",
   "metadata": {},
   "outputs": [],
   "source": [
    "abs_np.to_csv(\"/Users/ecem/Desktop/phonocardiogram/data/binary/PV/absent_normalized_peaks.csv\")\n",
    "pre_np.to_csv(\"/Users/ecem/Desktop/phonocardiogram/data/binary/PV/present_normalized_peaks.csv\")"
   ]
  },
  {
   "cell_type": "markdown",
   "id": "b4ef6458",
   "metadata": {},
   "source": [
    "## * mock features"
   ]
  },
  {
   "cell_type": "code",
   "execution_count": 25,
   "id": "a6267fd0",
   "metadata": {},
   "outputs": [],
   "source": [
    "abs_mock = pd.read_csv(a_path + \"/PV-mock-features.csv\", index_col = 0)\n",
    "pre_mock  = pd.read_csv(p_path + \"/PV-mock-features.csv\", index_col = 0)"
   ]
  },
  {
   "cell_type": "code",
   "execution_count": 26,
   "id": "25770594",
   "metadata": {},
   "outputs": [],
   "source": [
    "test = mannwhitneyu(abs_mock, pre_mock,\n",
    "                    use_continuity=False, alternative = 'two-sided')\n",
    "stats = pd.DataFrame(test[0])\n",
    "p = pd.DataFrame(test[1])"
   ]
  },
  {
   "cell_type": "code",
   "execution_count": 27,
   "id": "951ca1c8",
   "metadata": {},
   "outputs": [
    {
     "data": {
      "text/html": [
       "<style type=\"text/css\">\n",
       "#T_09a26_row0_col0, #T_09a26_row0_col1, #T_09a26_row0_col2, #T_09a26_row0_col3, #T_09a26_row0_col4 {\n",
       "  background: pink;\n",
       "}\n",
       "</style>\n",
       "<table id=\"T_09a26\">\n",
       "  <thead>\n",
       "    <tr>\n",
       "      <th class=\"blank level0\" >&nbsp;</th>\n",
       "      <th id=\"T_09a26_level0_col0\" class=\"col_heading level0 col0\" >0</th>\n",
       "      <th id=\"T_09a26_level0_col1\" class=\"col_heading level0 col1\" >1</th>\n",
       "      <th id=\"T_09a26_level0_col2\" class=\"col_heading level0 col2\" >2</th>\n",
       "      <th id=\"T_09a26_level0_col3\" class=\"col_heading level0 col3\" >3</th>\n",
       "      <th id=\"T_09a26_level0_col4\" class=\"col_heading level0 col4\" >4</th>\n",
       "    </tr>\n",
       "  </thead>\n",
       "  <tbody>\n",
       "    <tr>\n",
       "      <th id=\"T_09a26_level0_row0\" class=\"row_heading level0 row0\" >0</th>\n",
       "      <td id=\"T_09a26_row0_col0\" class=\"data row0 col0\" >0.000000</td>\n",
       "      <td id=\"T_09a26_row0_col1\" class=\"data row0 col1\" >0.000000</td>\n",
       "      <td id=\"T_09a26_row0_col2\" class=\"data row0 col2\" >0.000000</td>\n",
       "      <td id=\"T_09a26_row0_col3\" class=\"data row0 col3\" >0.000000</td>\n",
       "      <td id=\"T_09a26_row0_col4\" class=\"data row0 col4\" >0.000002</td>\n",
       "    </tr>\n",
       "  </tbody>\n",
       "</table>\n"
      ],
      "text/plain": [
       "<pandas.io.formats.style.Styler at 0x1624b8cd0>"
      ]
     },
     "execution_count": 27,
     "metadata": {},
     "output_type": "execute_result"
    }
   ],
   "source": [
    "p.T.style.apply(lambda x: [\"background: pink\" if v < 0.05 else \"\" for v in x], axis = 1)"
   ]
  },
  {
   "cell_type": "code",
   "execution_count": 28,
   "id": "4ad77d73",
   "metadata": {},
   "outputs": [
    {
     "data": {
      "text/plain": [
       "Int64Index([0, 1, 2, 3, 4], dtype='int64')"
      ]
     },
     "execution_count": 28,
     "metadata": {},
     "output_type": "execute_result"
    }
   ],
   "source": [
    "mock_idx = p[(p < 0.05).any(axis=1)].index\n",
    "mock_idx"
   ]
  },
  {
   "cell_type": "code",
   "execution_count": 29,
   "id": "5d53a550",
   "metadata": {},
   "outputs": [],
   "source": [
    "abs_mock = abs_mock.iloc[:, mock_idx]\n",
    "pre_mock = pre_mock.iloc[:, mock_idx]"
   ]
  },
  {
   "cell_type": "code",
   "execution_count": 30,
   "id": "a120a518",
   "metadata": {},
   "outputs": [],
   "source": [
    "abs_mock.to_csv(\"/Users/ecem/Desktop/phonocardiogram/data/binary/PV/absent_mock_features.csv\")\n",
    "pre_mock.to_csv(\"/Users/ecem/Desktop/phonocardiogram/data/binary/PV/present_mock_features.csv\")"
   ]
  },
  {
   "cell_type": "markdown",
   "id": "e5051dd1",
   "metadata": {},
   "source": [
    "## * bandpower"
   ]
  },
  {
   "cell_type": "code",
   "execution_count": 31,
   "id": "00f24c48",
   "metadata": {},
   "outputs": [],
   "source": [
    "abs_band = pd.read_csv(a_path + \"/PV-bandpower-and-peaks.csv\", index_col = 0)\n",
    "pre_band  = pd.read_csv(p_path + \"/PV-bandpower-and-peaks.csv\", index_col = 0)"
   ]
  },
  {
   "cell_type": "code",
   "execution_count": 32,
   "id": "65ffae66",
   "metadata": {},
   "outputs": [],
   "source": [
    "test = mannwhitneyu(abs_band, pre_band,\n",
    "                    use_continuity=False, alternative = 'two-sided')\n",
    "stats = pd.DataFrame(test[0])\n",
    "p = pd.DataFrame(test[1])"
   ]
  },
  {
   "cell_type": "code",
   "execution_count": 33,
   "id": "49770ce6",
   "metadata": {},
   "outputs": [
    {
     "data": {
      "text/html": [
       "<style type=\"text/css\">\n",
       "#T_fb144_row0_col0, #T_fb144_row0_col1, #T_fb144_row0_col19, #T_fb144_row0_col20, #T_fb144_row0_col21, #T_fb144_row0_col22, #T_fb144_row0_col23, #T_fb144_row0_col24, #T_fb144_row0_col25, #T_fb144_row0_col26, #T_fb144_row0_col27, #T_fb144_row0_col28, #T_fb144_row0_col29, #T_fb144_row0_col30 {\n",
       "  background: pink;\n",
       "}\n",
       "</style>\n",
       "<table id=\"T_fb144\">\n",
       "  <thead>\n",
       "    <tr>\n",
       "      <th class=\"blank level0\" >&nbsp;</th>\n",
       "      <th id=\"T_fb144_level0_col0\" class=\"col_heading level0 col0\" >0</th>\n",
       "      <th id=\"T_fb144_level0_col1\" class=\"col_heading level0 col1\" >1</th>\n",
       "      <th id=\"T_fb144_level0_col2\" class=\"col_heading level0 col2\" >2</th>\n",
       "      <th id=\"T_fb144_level0_col3\" class=\"col_heading level0 col3\" >3</th>\n",
       "      <th id=\"T_fb144_level0_col4\" class=\"col_heading level0 col4\" >4</th>\n",
       "      <th id=\"T_fb144_level0_col5\" class=\"col_heading level0 col5\" >5</th>\n",
       "      <th id=\"T_fb144_level0_col6\" class=\"col_heading level0 col6\" >6</th>\n",
       "      <th id=\"T_fb144_level0_col7\" class=\"col_heading level0 col7\" >7</th>\n",
       "      <th id=\"T_fb144_level0_col8\" class=\"col_heading level0 col8\" >8</th>\n",
       "      <th id=\"T_fb144_level0_col9\" class=\"col_heading level0 col9\" >9</th>\n",
       "      <th id=\"T_fb144_level0_col10\" class=\"col_heading level0 col10\" >10</th>\n",
       "      <th id=\"T_fb144_level0_col11\" class=\"col_heading level0 col11\" >11</th>\n",
       "      <th id=\"T_fb144_level0_col12\" class=\"col_heading level0 col12\" >12</th>\n",
       "      <th id=\"T_fb144_level0_col13\" class=\"col_heading level0 col13\" >13</th>\n",
       "      <th id=\"T_fb144_level0_col14\" class=\"col_heading level0 col14\" >14</th>\n",
       "      <th id=\"T_fb144_level0_col15\" class=\"col_heading level0 col15\" >15</th>\n",
       "      <th id=\"T_fb144_level0_col16\" class=\"col_heading level0 col16\" >16</th>\n",
       "      <th id=\"T_fb144_level0_col17\" class=\"col_heading level0 col17\" >17</th>\n",
       "      <th id=\"T_fb144_level0_col18\" class=\"col_heading level0 col18\" >18</th>\n",
       "      <th id=\"T_fb144_level0_col19\" class=\"col_heading level0 col19\" >19</th>\n",
       "      <th id=\"T_fb144_level0_col20\" class=\"col_heading level0 col20\" >20</th>\n",
       "      <th id=\"T_fb144_level0_col21\" class=\"col_heading level0 col21\" >21</th>\n",
       "      <th id=\"T_fb144_level0_col22\" class=\"col_heading level0 col22\" >22</th>\n",
       "      <th id=\"T_fb144_level0_col23\" class=\"col_heading level0 col23\" >23</th>\n",
       "      <th id=\"T_fb144_level0_col24\" class=\"col_heading level0 col24\" >24</th>\n",
       "      <th id=\"T_fb144_level0_col25\" class=\"col_heading level0 col25\" >25</th>\n",
       "      <th id=\"T_fb144_level0_col26\" class=\"col_heading level0 col26\" >26</th>\n",
       "      <th id=\"T_fb144_level0_col27\" class=\"col_heading level0 col27\" >27</th>\n",
       "      <th id=\"T_fb144_level0_col28\" class=\"col_heading level0 col28\" >28</th>\n",
       "      <th id=\"T_fb144_level0_col29\" class=\"col_heading level0 col29\" >29</th>\n",
       "      <th id=\"T_fb144_level0_col30\" class=\"col_heading level0 col30\" >30</th>\n",
       "    </tr>\n",
       "  </thead>\n",
       "  <tbody>\n",
       "    <tr>\n",
       "      <th id=\"T_fb144_level0_row0\" class=\"row_heading level0 row0\" >0</th>\n",
       "      <td id=\"T_fb144_row0_col0\" class=\"data row0 col0\" >0.000000</td>\n",
       "      <td id=\"T_fb144_row0_col1\" class=\"data row0 col1\" >0.000004</td>\n",
       "      <td id=\"T_fb144_row0_col2\" class=\"data row0 col2\" >nan</td>\n",
       "      <td id=\"T_fb144_row0_col3\" class=\"data row0 col3\" >nan</td>\n",
       "      <td id=\"T_fb144_row0_col4\" class=\"data row0 col4\" >nan</td>\n",
       "      <td id=\"T_fb144_row0_col5\" class=\"data row0 col5\" >nan</td>\n",
       "      <td id=\"T_fb144_row0_col6\" class=\"data row0 col6\" >nan</td>\n",
       "      <td id=\"T_fb144_row0_col7\" class=\"data row0 col7\" >nan</td>\n",
       "      <td id=\"T_fb144_row0_col8\" class=\"data row0 col8\" >nan</td>\n",
       "      <td id=\"T_fb144_row0_col9\" class=\"data row0 col9\" >nan</td>\n",
       "      <td id=\"T_fb144_row0_col10\" class=\"data row0 col10\" >nan</td>\n",
       "      <td id=\"T_fb144_row0_col11\" class=\"data row0 col11\" >nan</td>\n",
       "      <td id=\"T_fb144_row0_col12\" class=\"data row0 col12\" >nan</td>\n",
       "      <td id=\"T_fb144_row0_col13\" class=\"data row0 col13\" >nan</td>\n",
       "      <td id=\"T_fb144_row0_col14\" class=\"data row0 col14\" >nan</td>\n",
       "      <td id=\"T_fb144_row0_col15\" class=\"data row0 col15\" >nan</td>\n",
       "      <td id=\"T_fb144_row0_col16\" class=\"data row0 col16\" >nan</td>\n",
       "      <td id=\"T_fb144_row0_col17\" class=\"data row0 col17\" >nan</td>\n",
       "      <td id=\"T_fb144_row0_col18\" class=\"data row0 col18\" >nan</td>\n",
       "      <td id=\"T_fb144_row0_col19\" class=\"data row0 col19\" >0.000000</td>\n",
       "      <td id=\"T_fb144_row0_col20\" class=\"data row0 col20\" >0.000000</td>\n",
       "      <td id=\"T_fb144_row0_col21\" class=\"data row0 col21\" >0.000000</td>\n",
       "      <td id=\"T_fb144_row0_col22\" class=\"data row0 col22\" >0.000000</td>\n",
       "      <td id=\"T_fb144_row0_col23\" class=\"data row0 col23\" >0.000000</td>\n",
       "      <td id=\"T_fb144_row0_col24\" class=\"data row0 col24\" >0.000002</td>\n",
       "      <td id=\"T_fb144_row0_col25\" class=\"data row0 col25\" >0.000000</td>\n",
       "      <td id=\"T_fb144_row0_col26\" class=\"data row0 col26\" >0.000000</td>\n",
       "      <td id=\"T_fb144_row0_col27\" class=\"data row0 col27\" >0.000000</td>\n",
       "      <td id=\"T_fb144_row0_col28\" class=\"data row0 col28\" >0.000000</td>\n",
       "      <td id=\"T_fb144_row0_col29\" class=\"data row0 col29\" >0.000000</td>\n",
       "      <td id=\"T_fb144_row0_col30\" class=\"data row0 col30\" >0.000000</td>\n",
       "    </tr>\n",
       "  </tbody>\n",
       "</table>\n"
      ],
      "text/plain": [
       "<pandas.io.formats.style.Styler at 0x1624b8f40>"
      ]
     },
     "execution_count": 33,
     "metadata": {},
     "output_type": "execute_result"
    }
   ],
   "source": [
    "p.T.style.apply(lambda x: [\"background: pink\" if v < 0.05 else \"\" for v in x], axis = 1)"
   ]
  },
  {
   "cell_type": "code",
   "execution_count": 34,
   "id": "b6765538",
   "metadata": {},
   "outputs": [
    {
     "data": {
      "text/plain": [
       "Int64Index([0, 1, 19, 20, 21, 22, 23, 24, 25, 26, 27, 28, 29, 30], dtype='int64')"
      ]
     },
     "execution_count": 34,
     "metadata": {},
     "output_type": "execute_result"
    }
   ],
   "source": [
    "band_idx = p[(p < 0.05).any(axis=1)].index\n",
    "band_idx"
   ]
  },
  {
   "cell_type": "code",
   "execution_count": 35,
   "id": "15b0bfc9",
   "metadata": {},
   "outputs": [],
   "source": [
    "abs_band = abs_band.iloc[:, band_idx]\n",
    "pre_band = pre_band.iloc[:, band_idx]"
   ]
  },
  {
   "cell_type": "code",
   "execution_count": 36,
   "id": "bce562f9",
   "metadata": {},
   "outputs": [],
   "source": [
    "abs_band.to_csv(\"/Users/ecem/Desktop/phonocardiogram/data/binary/PV/absent_bandpower_and_peaks.csv\")\n",
    "pre_band.to_csv(\"/Users/ecem/Desktop/phonocardiogram/data/binary/PV/present_bandpower_and_peak.csv\")"
   ]
  },
  {
   "cell_type": "code",
   "execution_count": null,
   "id": "4114e5ed",
   "metadata": {},
   "outputs": [],
   "source": []
  }
 ],
 "metadata": {
  "kernelspec": {
   "display_name": "Python 3 (ipykernel)",
   "language": "python",
   "name": "python3"
  },
  "language_info": {
   "codemirror_mode": {
    "name": "ipython",
    "version": 3
   },
   "file_extension": ".py",
   "mimetype": "text/x-python",
   "name": "python",
   "nbconvert_exporter": "python",
   "pygments_lexer": "ipython3",
   "version": "3.9.9"
  }
 },
 "nbformat": 4,
 "nbformat_minor": 5
}
