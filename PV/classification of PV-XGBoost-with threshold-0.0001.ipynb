{
 "cells": [
  {
   "cell_type": "markdown",
   "id": "5ff5c96f",
   "metadata": {},
   "source": [
    "### features:\n",
    "* spectogram coef\n",
    "* zero crossing rate\n",
    "* selected chromogram values\n",
    "* selected tempogram values\n",
    "* wavelet levels"
   ]
  },
  {
   "cell_type": "code",
   "execution_count": 1,
   "id": "dcd92ee4",
   "metadata": {},
   "outputs": [
    {
     "ename": "RuntimeError",
     "evalue": "module compiled against API version 0xe but this version of numpy is 0xd",
     "output_type": "error",
     "traceback": [
      "\u001b[0;31m---------------------------------------------------------------------------\u001b[0m",
      "\u001b[0;31mRuntimeError\u001b[0m                              Traceback (most recent call last)",
      "\u001b[0;31mRuntimeError\u001b[0m: module compiled against API version 0xe but this version of numpy is 0xd"
     ]
    }
   ],
   "source": [
    "import pandas as pd \n",
    "import numpy as np\n",
    "from sklearn.pipeline import Pipeline\n",
    "from sklearn.model_selection import train_test_split\n",
    "from sklearn.metrics import classification_report\n",
    "from sklearn.metrics import auc\n",
    "from sklearn.multioutput import MultiOutputClassifier\n",
    "from sklearn.metrics import confusion_matrix, roc_curve, roc_auc_score, precision_recall_curve, recall_score\n",
    "import matplotlib.pyplot as plt\n",
    "import itertools"
   ]
  },
  {
   "cell_type": "code",
   "execution_count": 2,
   "id": "77055433",
   "metadata": {},
   "outputs": [],
   "source": [
    "path = \"/Users/ecem/Desktop/phonocardiogram/data/PV\""
   ]
  },
  {
   "cell_type": "markdown",
   "id": "859b3496",
   "metadata": {},
   "source": [
    "## Load data"
   ]
  },
  {
   "cell_type": "markdown",
   "id": "84ab66f1",
   "metadata": {},
   "source": [
    "Here, our target is to predict disease of patients with multiple diseases. So; our y will be disease column of two column indicatin geach patients disease."
   ]
  },
  {
   "cell_type": "code",
   "execution_count": 3,
   "id": "b2414e78",
   "metadata": {},
   "outputs": [
    {
     "data": {
      "text/html": [
       "<div>\n",
       "<style scoped>\n",
       "    .dataframe tbody tr th:only-of-type {\n",
       "        vertical-align: middle;\n",
       "    }\n",
       "\n",
       "    .dataframe tbody tr th {\n",
       "        vertical-align: top;\n",
       "    }\n",
       "\n",
       "    .dataframe thead th {\n",
       "        text-align: right;\n",
       "    }\n",
       "</style>\n",
       "<table border=\"1\" class=\"dataframe\">\n",
       "  <thead>\n",
       "    <tr style=\"text-align: right;\">\n",
       "      <th></th>\n",
       "      <th>freq_0</th>\n",
       "      <th>freq_1</th>\n",
       "      <th>freq_2</th>\n",
       "      <th>freq_3</th>\n",
       "      <th>freq_4</th>\n",
       "      <th>freq_5</th>\n",
       "      <th>freq_6</th>\n",
       "      <th>freq_7</th>\n",
       "      <th>freq_8</th>\n",
       "      <th>freq_9</th>\n",
       "      <th>...</th>\n",
       "      <th>tempogram_171</th>\n",
       "      <th>tempogram_174</th>\n",
       "      <th>tempogram_177</th>\n",
       "      <th>tempogram_181</th>\n",
       "      <th>tempogram_182</th>\n",
       "      <th>tempogram_183</th>\n",
       "      <th>tempogram_184</th>\n",
       "      <th>tempogram_188</th>\n",
       "      <th>tempogram_189</th>\n",
       "      <th>tempogram_191</th>\n",
       "    </tr>\n",
       "  </thead>\n",
       "  <tbody>\n",
       "    <tr>\n",
       "      <th>0</th>\n",
       "      <td>4.405512e-11</td>\n",
       "      <td>6.290197e-11</td>\n",
       "      <td>6.424042e-11</td>\n",
       "      <td>6.586157e-11</td>\n",
       "      <td>6.767803e-11</td>\n",
       "      <td>6.992645e-11</td>\n",
       "      <td>7.249407e-11</td>\n",
       "      <td>7.482476e-11</td>\n",
       "      <td>7.671008e-11</td>\n",
       "      <td>7.846158e-11</td>\n",
       "      <td>...</td>\n",
       "      <td>1.954347e-17</td>\n",
       "      <td>-8.885503e-18</td>\n",
       "      <td>-7.090296e-18</td>\n",
       "      <td>5.621919e-17</td>\n",
       "      <td>1.316002e-18</td>\n",
       "      <td>1.530097e-17</td>\n",
       "      <td>3.332656e-17</td>\n",
       "      <td>8.179604e-18</td>\n",
       "      <td>3.045801e-17</td>\n",
       "      <td>4.588729e-17</td>\n",
       "    </tr>\n",
       "    <tr>\n",
       "      <th>1</th>\n",
       "      <td>1.185566e-10</td>\n",
       "      <td>1.695852e-10</td>\n",
       "      <td>1.729604e-10</td>\n",
       "      <td>1.756318e-10</td>\n",
       "      <td>1.769610e-10</td>\n",
       "      <td>1.768916e-10</td>\n",
       "      <td>1.756781e-10</td>\n",
       "      <td>1.737211e-10</td>\n",
       "      <td>1.713112e-10</td>\n",
       "      <td>1.684716e-10</td>\n",
       "      <td>...</td>\n",
       "      <td>1.262598e-17</td>\n",
       "      <td>-3.312395e-18</td>\n",
       "      <td>1.443682e-18</td>\n",
       "      <td>4.946563e-17</td>\n",
       "      <td>8.252103e-18</td>\n",
       "      <td>1.606138e-17</td>\n",
       "      <td>2.964353e-17</td>\n",
       "      <td>1.091674e-17</td>\n",
       "      <td>2.500401e-17</td>\n",
       "      <td>3.568724e-17</td>\n",
       "    </tr>\n",
       "    <tr>\n",
       "      <th>2</th>\n",
       "      <td>8.620206e-11</td>\n",
       "      <td>1.240978e-10</td>\n",
       "      <td>1.284911e-10</td>\n",
       "      <td>1.344301e-10</td>\n",
       "      <td>1.414676e-10</td>\n",
       "      <td>1.491734e-10</td>\n",
       "      <td>1.572446e-10</td>\n",
       "      <td>1.655685e-10</td>\n",
       "      <td>1.738919e-10</td>\n",
       "      <td>1.817201e-10</td>\n",
       "      <td>...</td>\n",
       "      <td>9.412302e-18</td>\n",
       "      <td>-5.078217e-18</td>\n",
       "      <td>-9.557851e-18</td>\n",
       "      <td>3.547765e-17</td>\n",
       "      <td>-1.045127e-17</td>\n",
       "      <td>9.001258e-18</td>\n",
       "      <td>1.438599e-17</td>\n",
       "      <td>1.010129e-17</td>\n",
       "      <td>1.360085e-17</td>\n",
       "      <td>3.314281e-17</td>\n",
       "    </tr>\n",
       "    <tr>\n",
       "      <th>3</th>\n",
       "      <td>8.315432e-11</td>\n",
       "      <td>1.179681e-10</td>\n",
       "      <td>1.191689e-10</td>\n",
       "      <td>1.214969e-10</td>\n",
       "      <td>1.244097e-10</td>\n",
       "      <td>1.273481e-10</td>\n",
       "      <td>1.299221e-10</td>\n",
       "      <td>1.318415e-10</td>\n",
       "      <td>1.329458e-10</td>\n",
       "      <td>1.332310e-10</td>\n",
       "      <td>...</td>\n",
       "      <td>-9.327725e-18</td>\n",
       "      <td>-2.003770e-17</td>\n",
       "      <td>-1.710636e-17</td>\n",
       "      <td>1.911969e-17</td>\n",
       "      <td>-7.871055e-18</td>\n",
       "      <td>3.369882e-18</td>\n",
       "      <td>9.688193e-18</td>\n",
       "      <td>8.503243e-19</td>\n",
       "      <td>7.080455e-18</td>\n",
       "      <td>1.486388e-17</td>\n",
       "    </tr>\n",
       "    <tr>\n",
       "      <th>4</th>\n",
       "      <td>8.048810e-11</td>\n",
       "      <td>1.143276e-10</td>\n",
       "      <td>1.151059e-10</td>\n",
       "      <td>1.156891e-10</td>\n",
       "      <td>1.158244e-10</td>\n",
       "      <td>1.153247e-10</td>\n",
       "      <td>1.140519e-10</td>\n",
       "      <td>1.119228e-10</td>\n",
       "      <td>1.089441e-10</td>\n",
       "      <td>1.052968e-10</td>\n",
       "      <td>...</td>\n",
       "      <td>2.298549e-18</td>\n",
       "      <td>-1.894136e-17</td>\n",
       "      <td>-2.195113e-17</td>\n",
       "      <td>3.439368e-17</td>\n",
       "      <td>-9.096462e-18</td>\n",
       "      <td>4.121490e-18</td>\n",
       "      <td>1.225106e-17</td>\n",
       "      <td>-2.161860e-18</td>\n",
       "      <td>3.231962e-18</td>\n",
       "      <td>1.551142e-17</td>\n",
       "    </tr>\n",
       "    <tr>\n",
       "      <th>...</th>\n",
       "      <td>...</td>\n",
       "      <td>...</td>\n",
       "      <td>...</td>\n",
       "      <td>...</td>\n",
       "      <td>...</td>\n",
       "      <td>...</td>\n",
       "      <td>...</td>\n",
       "      <td>...</td>\n",
       "      <td>...</td>\n",
       "      <td>...</td>\n",
       "      <td>...</td>\n",
       "      <td>...</td>\n",
       "      <td>...</td>\n",
       "      <td>...</td>\n",
       "      <td>...</td>\n",
       "      <td>...</td>\n",
       "      <td>...</td>\n",
       "      <td>...</td>\n",
       "      <td>...</td>\n",
       "      <td>...</td>\n",
       "      <td>...</td>\n",
       "    </tr>\n",
       "    <tr>\n",
       "      <th>1193</th>\n",
       "      <td>1.014388e-10</td>\n",
       "      <td>1.448570e-10</td>\n",
       "      <td>1.482297e-10</td>\n",
       "      <td>1.525776e-10</td>\n",
       "      <td>1.572981e-10</td>\n",
       "      <td>1.619493e-10</td>\n",
       "      <td>1.661892e-10</td>\n",
       "      <td>1.697928e-10</td>\n",
       "      <td>1.727498e-10</td>\n",
       "      <td>1.754887e-10</td>\n",
       "      <td>...</td>\n",
       "      <td>1.925648e-18</td>\n",
       "      <td>-1.173323e-17</td>\n",
       "      <td>-5.497666e-18</td>\n",
       "      <td>2.757510e-17</td>\n",
       "      <td>3.420739e-18</td>\n",
       "      <td>5.616719e-18</td>\n",
       "      <td>2.954154e-18</td>\n",
       "      <td>8.512995e-18</td>\n",
       "      <td>9.048285e-18</td>\n",
       "      <td>1.819401e-17</td>\n",
       "    </tr>\n",
       "    <tr>\n",
       "      <th>1194</th>\n",
       "      <td>1.260508e-10</td>\n",
       "      <td>1.810589e-10</td>\n",
       "      <td>1.842491e-10</td>\n",
       "      <td>1.866734e-10</td>\n",
       "      <td>1.880556e-10</td>\n",
       "      <td>1.883294e-10</td>\n",
       "      <td>1.875975e-10</td>\n",
       "      <td>1.861380e-10</td>\n",
       "      <td>1.843946e-10</td>\n",
       "      <td>1.828727e-10</td>\n",
       "      <td>...</td>\n",
       "      <td>1.387798e-17</td>\n",
       "      <td>-1.127391e-17</td>\n",
       "      <td>-4.297966e-18</td>\n",
       "      <td>3.613679e-17</td>\n",
       "      <td>4.622093e-19</td>\n",
       "      <td>1.992174e-17</td>\n",
       "      <td>1.170841e-17</td>\n",
       "      <td>1.153585e-17</td>\n",
       "      <td>1.610278e-17</td>\n",
       "      <td>3.618281e-17</td>\n",
       "    </tr>\n",
       "    <tr>\n",
       "      <th>1195</th>\n",
       "      <td>9.406343e-11</td>\n",
       "      <td>1.336062e-10</td>\n",
       "      <td>1.348698e-10</td>\n",
       "      <td>1.364201e-10</td>\n",
       "      <td>1.380579e-10</td>\n",
       "      <td>1.396260e-10</td>\n",
       "      <td>1.409845e-10</td>\n",
       "      <td>1.420118e-10</td>\n",
       "      <td>1.426201e-10</td>\n",
       "      <td>1.427799e-10</td>\n",
       "      <td>...</td>\n",
       "      <td>-6.448648e-19</td>\n",
       "      <td>-1.262659e-17</td>\n",
       "      <td>-2.562591e-18</td>\n",
       "      <td>1.733926e-17</td>\n",
       "      <td>7.629545e-18</td>\n",
       "      <td>1.258108e-17</td>\n",
       "      <td>1.036766e-17</td>\n",
       "      <td>-6.488884e-19</td>\n",
       "      <td>6.425460e-18</td>\n",
       "      <td>1.514655e-17</td>\n",
       "    </tr>\n",
       "    <tr>\n",
       "      <th>1196</th>\n",
       "      <td>7.317667e-11</td>\n",
       "      <td>1.038143e-10</td>\n",
       "      <td>1.042637e-10</td>\n",
       "      <td>1.043074e-10</td>\n",
       "      <td>1.037764e-10</td>\n",
       "      <td>1.027285e-10</td>\n",
       "      <td>1.014323e-10</td>\n",
       "      <td>1.003522e-10</td>\n",
       "      <td>1.000214e-10</td>\n",
       "      <td>1.007912e-10</td>\n",
       "      <td>...</td>\n",
       "      <td>5.431363e-18</td>\n",
       "      <td>-1.544386e-17</td>\n",
       "      <td>-1.466929e-18</td>\n",
       "      <td>2.835838e-17</td>\n",
       "      <td>3.049123e-18</td>\n",
       "      <td>7.541097e-18</td>\n",
       "      <td>4.286104e-18</td>\n",
       "      <td>5.555666e-18</td>\n",
       "      <td>1.122568e-17</td>\n",
       "      <td>2.596713e-17</td>\n",
       "    </tr>\n",
       "    <tr>\n",
       "      <th>1197</th>\n",
       "      <td>1.193111e-10</td>\n",
       "      <td>1.687688e-10</td>\n",
       "      <td>1.688010e-10</td>\n",
       "      <td>1.686422e-10</td>\n",
       "      <td>1.681695e-10</td>\n",
       "      <td>1.685831e-10</td>\n",
       "      <td>1.689853e-10</td>\n",
       "      <td>1.686382e-10</td>\n",
       "      <td>1.674782e-10</td>\n",
       "      <td>1.657383e-10</td>\n",
       "      <td>...</td>\n",
       "      <td>7.916197e-18</td>\n",
       "      <td>-3.704130e-18</td>\n",
       "      <td>3.005048e-18</td>\n",
       "      <td>4.350358e-17</td>\n",
       "      <td>1.557906e-17</td>\n",
       "      <td>2.385184e-17</td>\n",
       "      <td>2.719389e-17</td>\n",
       "      <td>1.383347e-17</td>\n",
       "      <td>1.482061e-17</td>\n",
       "      <td>4.110573e-17</td>\n",
       "    </tr>\n",
       "  </tbody>\n",
       "</table>\n",
       "<p>1198 rows × 18798 columns</p>\n",
       "</div>"
      ],
      "text/plain": [
       "            freq_0        freq_1        freq_2        freq_3        freq_4  \\\n",
       "0     4.405512e-11  6.290197e-11  6.424042e-11  6.586157e-11  6.767803e-11   \n",
       "1     1.185566e-10  1.695852e-10  1.729604e-10  1.756318e-10  1.769610e-10   \n",
       "2     8.620206e-11  1.240978e-10  1.284911e-10  1.344301e-10  1.414676e-10   \n",
       "3     8.315432e-11  1.179681e-10  1.191689e-10  1.214969e-10  1.244097e-10   \n",
       "4     8.048810e-11  1.143276e-10  1.151059e-10  1.156891e-10  1.158244e-10   \n",
       "...            ...           ...           ...           ...           ...   \n",
       "1193  1.014388e-10  1.448570e-10  1.482297e-10  1.525776e-10  1.572981e-10   \n",
       "1194  1.260508e-10  1.810589e-10  1.842491e-10  1.866734e-10  1.880556e-10   \n",
       "1195  9.406343e-11  1.336062e-10  1.348698e-10  1.364201e-10  1.380579e-10   \n",
       "1196  7.317667e-11  1.038143e-10  1.042637e-10  1.043074e-10  1.037764e-10   \n",
       "1197  1.193111e-10  1.687688e-10  1.688010e-10  1.686422e-10  1.681695e-10   \n",
       "\n",
       "            freq_5        freq_6        freq_7        freq_8        freq_9  \\\n",
       "0     6.992645e-11  7.249407e-11  7.482476e-11  7.671008e-11  7.846158e-11   \n",
       "1     1.768916e-10  1.756781e-10  1.737211e-10  1.713112e-10  1.684716e-10   \n",
       "2     1.491734e-10  1.572446e-10  1.655685e-10  1.738919e-10  1.817201e-10   \n",
       "3     1.273481e-10  1.299221e-10  1.318415e-10  1.329458e-10  1.332310e-10   \n",
       "4     1.153247e-10  1.140519e-10  1.119228e-10  1.089441e-10  1.052968e-10   \n",
       "...            ...           ...           ...           ...           ...   \n",
       "1193  1.619493e-10  1.661892e-10  1.697928e-10  1.727498e-10  1.754887e-10   \n",
       "1194  1.883294e-10  1.875975e-10  1.861380e-10  1.843946e-10  1.828727e-10   \n",
       "1195  1.396260e-10  1.409845e-10  1.420118e-10  1.426201e-10  1.427799e-10   \n",
       "1196  1.027285e-10  1.014323e-10  1.003522e-10  1.000214e-10  1.007912e-10   \n",
       "1197  1.685831e-10  1.689853e-10  1.686382e-10  1.674782e-10  1.657383e-10   \n",
       "\n",
       "      ...  tempogram_171  tempogram_174  tempogram_177  tempogram_181  \\\n",
       "0     ...   1.954347e-17  -8.885503e-18  -7.090296e-18   5.621919e-17   \n",
       "1     ...   1.262598e-17  -3.312395e-18   1.443682e-18   4.946563e-17   \n",
       "2     ...   9.412302e-18  -5.078217e-18  -9.557851e-18   3.547765e-17   \n",
       "3     ...  -9.327725e-18  -2.003770e-17  -1.710636e-17   1.911969e-17   \n",
       "4     ...   2.298549e-18  -1.894136e-17  -2.195113e-17   3.439368e-17   \n",
       "...   ...            ...            ...            ...            ...   \n",
       "1193  ...   1.925648e-18  -1.173323e-17  -5.497666e-18   2.757510e-17   \n",
       "1194  ...   1.387798e-17  -1.127391e-17  -4.297966e-18   3.613679e-17   \n",
       "1195  ...  -6.448648e-19  -1.262659e-17  -2.562591e-18   1.733926e-17   \n",
       "1196  ...   5.431363e-18  -1.544386e-17  -1.466929e-18   2.835838e-17   \n",
       "1197  ...   7.916197e-18  -3.704130e-18   3.005048e-18   4.350358e-17   \n",
       "\n",
       "      tempogram_182  tempogram_183  tempogram_184  tempogram_188  \\\n",
       "0      1.316002e-18   1.530097e-17   3.332656e-17   8.179604e-18   \n",
       "1      8.252103e-18   1.606138e-17   2.964353e-17   1.091674e-17   \n",
       "2     -1.045127e-17   9.001258e-18   1.438599e-17   1.010129e-17   \n",
       "3     -7.871055e-18   3.369882e-18   9.688193e-18   8.503243e-19   \n",
       "4     -9.096462e-18   4.121490e-18   1.225106e-17  -2.161860e-18   \n",
       "...             ...            ...            ...            ...   \n",
       "1193   3.420739e-18   5.616719e-18   2.954154e-18   8.512995e-18   \n",
       "1194   4.622093e-19   1.992174e-17   1.170841e-17   1.153585e-17   \n",
       "1195   7.629545e-18   1.258108e-17   1.036766e-17  -6.488884e-19   \n",
       "1196   3.049123e-18   7.541097e-18   4.286104e-18   5.555666e-18   \n",
       "1197   1.557906e-17   2.385184e-17   2.719389e-17   1.383347e-17   \n",
       "\n",
       "      tempogram_189  tempogram_191  \n",
       "0      3.045801e-17   4.588729e-17  \n",
       "1      2.500401e-17   3.568724e-17  \n",
       "2      1.360085e-17   3.314281e-17  \n",
       "3      7.080455e-18   1.486388e-17  \n",
       "4      3.231962e-18   1.551142e-17  \n",
       "...             ...            ...  \n",
       "1193   9.048285e-18   1.819401e-17  \n",
       "1194   1.610278e-17   3.618281e-17  \n",
       "1195   6.425460e-18   1.514655e-17  \n",
       "1196   1.122568e-17   2.596713e-17  \n",
       "1197   1.482061e-17   4.110573e-17  \n",
       "\n",
       "[1198 rows x 18798 columns]"
      ]
     },
     "execution_count": 3,
     "metadata": {},
     "output_type": "execute_result"
    }
   ],
   "source": [
    "present_df = pd.read_csv(path + \"/present/present_PV_p_features.csv\", index_col = 0) #1198, 18798\n",
    "present_df"
   ]
  },
  {
   "cell_type": "code",
   "execution_count": 4,
   "id": "d061dfc3",
   "metadata": {},
   "outputs": [],
   "source": [
    "absent_df = pd.read_csv(path + \"/absent/absent_PV_p_features.csv\", index_col = 0) #5743, 18798\n",
    "#absent_df"
   ]
  },
  {
   "cell_type": "markdown",
   "id": "737042c5",
   "metadata": {},
   "source": [
    "### create labels"
   ]
  },
  {
   "cell_type": "code",
   "execution_count": 5,
   "id": "78132229",
   "metadata": {},
   "outputs": [
    {
     "data": {
      "text/plain": [
       "(6941,)"
      ]
     },
     "execution_count": 5,
     "metadata": {},
     "output_type": "execute_result"
    }
   ],
   "source": [
    "y = np.concatenate((np.ones(1198), np.zeros(5743)), axis =0)\n",
    "y.shape"
   ]
  },
  {
   "cell_type": "markdown",
   "id": "42a97e3f",
   "metadata": {},
   "source": [
    "## concat features"
   ]
  },
  {
   "cell_type": "code",
   "execution_count": 6,
   "id": "6cd3f63f",
   "metadata": {},
   "outputs": [],
   "source": [
    "df = pd.concat([present_df, absent_df], axis = 0) #6941, 18798\n",
    "#df"
   ]
  },
  {
   "cell_type": "markdown",
   "id": "8fd7c4d9",
   "metadata": {},
   "source": [
    "## With threshold"
   ]
  },
  {
   "cell_type": "code",
   "execution_count": 7,
   "id": "0298efc9",
   "metadata": {},
   "outputs": [],
   "source": [
    "from sklearn.feature_selection import VarianceThreshold\n",
    "vt = VarianceThreshold(threshold =  0.0001)   # düşük  threshold\n",
    "_ = vt.fit(df)\n",
    "masked = vt.get_support()\n",
    "features_masked = df.loc[:, masked]\n",
    "#features_masked # uncomment to see the dataframe #6941, 703"
   ]
  },
  {
   "cell_type": "code",
   "execution_count": 8,
   "id": "bcf4f600",
   "metadata": {},
   "outputs": [],
   "source": [
    "X_train_, X_valid_, y_train_, y_valid_ = train_test_split(features_masked, y , train_size=0.8, test_size=0.2,\n",
    "                                                                random_state=42)"
   ]
  },
  {
   "cell_type": "code",
   "execution_count": 9,
   "id": "03778983",
   "metadata": {},
   "outputs": [],
   "source": [
    "import xgboost as xgb\n",
    "\n",
    "clf = xgb.XGBClassifier(objective= \"binary:logistic\", eval_metric = \"logloss\")\n"
   ]
  },
  {
   "cell_type": "code",
   "execution_count": 10,
   "id": "7a51bf47",
   "metadata": {},
   "outputs": [
    {
     "data": {
      "text/html": [
       "<style>#sk-container-id-1 {color: black;background-color: white;}#sk-container-id-1 pre{padding: 0;}#sk-container-id-1 div.sk-toggleable {background-color: white;}#sk-container-id-1 label.sk-toggleable__label {cursor: pointer;display: block;width: 100%;margin-bottom: 0;padding: 0.3em;box-sizing: border-box;text-align: center;}#sk-container-id-1 label.sk-toggleable__label-arrow:before {content: \"▸\";float: left;margin-right: 0.25em;color: #696969;}#sk-container-id-1 label.sk-toggleable__label-arrow:hover:before {color: black;}#sk-container-id-1 div.sk-estimator:hover label.sk-toggleable__label-arrow:before {color: black;}#sk-container-id-1 div.sk-toggleable__content {max-height: 0;max-width: 0;overflow: hidden;text-align: left;background-color: #f0f8ff;}#sk-container-id-1 div.sk-toggleable__content pre {margin: 0.2em;color: black;border-radius: 0.25em;background-color: #f0f8ff;}#sk-container-id-1 input.sk-toggleable__control:checked~div.sk-toggleable__content {max-height: 200px;max-width: 100%;overflow: auto;}#sk-container-id-1 input.sk-toggleable__control:checked~label.sk-toggleable__label-arrow:before {content: \"▾\";}#sk-container-id-1 div.sk-estimator input.sk-toggleable__control:checked~label.sk-toggleable__label {background-color: #d4ebff;}#sk-container-id-1 div.sk-label input.sk-toggleable__control:checked~label.sk-toggleable__label {background-color: #d4ebff;}#sk-container-id-1 input.sk-hidden--visually {border: 0;clip: rect(1px 1px 1px 1px);clip: rect(1px, 1px, 1px, 1px);height: 1px;margin: -1px;overflow: hidden;padding: 0;position: absolute;width: 1px;}#sk-container-id-1 div.sk-estimator {font-family: monospace;background-color: #f0f8ff;border: 1px dotted black;border-radius: 0.25em;box-sizing: border-box;margin-bottom: 0.5em;}#sk-container-id-1 div.sk-estimator:hover {background-color: #d4ebff;}#sk-container-id-1 div.sk-parallel-item::after {content: \"\";width: 100%;border-bottom: 1px solid gray;flex-grow: 1;}#sk-container-id-1 div.sk-label:hover label.sk-toggleable__label {background-color: #d4ebff;}#sk-container-id-1 div.sk-serial::before {content: \"\";position: absolute;border-left: 1px solid gray;box-sizing: border-box;top: 0;bottom: 0;left: 50%;z-index: 0;}#sk-container-id-1 div.sk-serial {display: flex;flex-direction: column;align-items: center;background-color: white;padding-right: 0.2em;padding-left: 0.2em;position: relative;}#sk-container-id-1 div.sk-item {position: relative;z-index: 1;}#sk-container-id-1 div.sk-parallel {display: flex;align-items: stretch;justify-content: center;background-color: white;position: relative;}#sk-container-id-1 div.sk-item::before, #sk-container-id-1 div.sk-parallel-item::before {content: \"\";position: absolute;border-left: 1px solid gray;box-sizing: border-box;top: 0;bottom: 0;left: 50%;z-index: -1;}#sk-container-id-1 div.sk-parallel-item {display: flex;flex-direction: column;z-index: 1;position: relative;background-color: white;}#sk-container-id-1 div.sk-parallel-item:first-child::after {align-self: flex-end;width: 50%;}#sk-container-id-1 div.sk-parallel-item:last-child::after {align-self: flex-start;width: 50%;}#sk-container-id-1 div.sk-parallel-item:only-child::after {width: 0;}#sk-container-id-1 div.sk-dashed-wrapped {border: 1px dashed gray;margin: 0 0.4em 0.5em 0.4em;box-sizing: border-box;padding-bottom: 0.4em;background-color: white;}#sk-container-id-1 div.sk-label label {font-family: monospace;font-weight: bold;display: inline-block;line-height: 1.2em;}#sk-container-id-1 div.sk-label-container {text-align: center;}#sk-container-id-1 div.sk-container {/* jupyter's `normalize.less` sets `[hidden] { display: none; }` but bootstrap.min.css set `[hidden] { display: none !important; }` so we also need the `!important` here to be able to override the default hidden behavior on the sphinx rendered scikit-learn.org. See: https://github.com/scikit-learn/scikit-learn/issues/21755 */display: inline-block !important;position: relative;}#sk-container-id-1 div.sk-text-repr-fallback {display: none;}</style><div id=\"sk-container-id-1\" class=\"sk-top-container\"><div class=\"sk-text-repr-fallback\"><pre>XGBClassifier(base_score=0.5, booster=&#x27;gbtree&#x27;, callbacks=None,\n",
       "              colsample_bylevel=1, colsample_bynode=1, colsample_bytree=1,\n",
       "              early_stopping_rounds=None, enable_categorical=False,\n",
       "              eval_metric=&#x27;logloss&#x27;, gamma=0, gpu_id=-1,\n",
       "              grow_policy=&#x27;depthwise&#x27;, importance_type=None,\n",
       "              interaction_constraints=&#x27;&#x27;, learning_rate=0.300000012,\n",
       "              max_bin=256, max_cat_to_onehot=4, max_delta_step=0, max_depth=6,\n",
       "              max_leaves=0, min_child_weight=1, missing=nan,\n",
       "              monotone_constraints=&#x27;()&#x27;, n_estimators=100, n_jobs=0,\n",
       "              num_parallel_tree=1, predictor=&#x27;auto&#x27;, random_state=0,\n",
       "              reg_alpha=0, reg_lambda=1, ...)</pre><b>In a Jupyter environment, please rerun this cell to show the HTML representation or trust the notebook. <br />On GitHub, the HTML representation is unable to render, please try loading this page with nbviewer.org.</b></div><div class=\"sk-container\" hidden><div class=\"sk-item\"><div class=\"sk-estimator sk-toggleable\"><input class=\"sk-toggleable__control sk-hidden--visually\" id=\"sk-estimator-id-1\" type=\"checkbox\" checked><label for=\"sk-estimator-id-1\" class=\"sk-toggleable__label sk-toggleable__label-arrow\">XGBClassifier</label><div class=\"sk-toggleable__content\"><pre>XGBClassifier(base_score=0.5, booster=&#x27;gbtree&#x27;, callbacks=None,\n",
       "              colsample_bylevel=1, colsample_bynode=1, colsample_bytree=1,\n",
       "              early_stopping_rounds=None, enable_categorical=False,\n",
       "              eval_metric=&#x27;logloss&#x27;, gamma=0, gpu_id=-1,\n",
       "              grow_policy=&#x27;depthwise&#x27;, importance_type=None,\n",
       "              interaction_constraints=&#x27;&#x27;, learning_rate=0.300000012,\n",
       "              max_bin=256, max_cat_to_onehot=4, max_delta_step=0, max_depth=6,\n",
       "              max_leaves=0, min_child_weight=1, missing=nan,\n",
       "              monotone_constraints=&#x27;()&#x27;, n_estimators=100, n_jobs=0,\n",
       "              num_parallel_tree=1, predictor=&#x27;auto&#x27;, random_state=0,\n",
       "              reg_alpha=0, reg_lambda=1, ...)</pre></div></div></div></div></div>"
      ],
      "text/plain": [
       "XGBClassifier(base_score=0.5, booster='gbtree', callbacks=None,\n",
       "              colsample_bylevel=1, colsample_bynode=1, colsample_bytree=1,\n",
       "              early_stopping_rounds=None, enable_categorical=False,\n",
       "              eval_metric='logloss', gamma=0, gpu_id=-1,\n",
       "              grow_policy='depthwise', importance_type=None,\n",
       "              interaction_constraints='', learning_rate=0.300000012,\n",
       "              max_bin=256, max_cat_to_onehot=4, max_delta_step=0, max_depth=6,\n",
       "              max_leaves=0, min_child_weight=1, missing=nan,\n",
       "              monotone_constraints='()', n_estimators=100, n_jobs=0,\n",
       "              num_parallel_tree=1, predictor='auto', random_state=0,\n",
       "              reg_alpha=0, reg_lambda=1, ...)"
      ]
     },
     "execution_count": 10,
     "metadata": {},
     "output_type": "execute_result"
    }
   ],
   "source": [
    "clf.fit(X_train_, y_train_)\n"
   ]
  },
  {
   "cell_type": "code",
   "execution_count": 11,
   "id": "ab3c619f",
   "metadata": {},
   "outputs": [],
   "source": [
    "yhat = clf.predict(X_valid_)"
   ]
  },
  {
   "cell_type": "code",
   "execution_count": 12,
   "id": "13300de3",
   "metadata": {},
   "outputs": [
    {
     "data": {
      "text/plain": [
       "(1389,)"
      ]
     },
     "execution_count": 12,
     "metadata": {},
     "output_type": "execute_result"
    }
   ],
   "source": [
    "yhat.shape"
   ]
  },
  {
   "cell_type": "code",
   "execution_count": 13,
   "id": "1d2c89e6",
   "metadata": {},
   "outputs": [
    {
     "data": {
      "text/plain": [
       "(1389,)"
      ]
     },
     "execution_count": 13,
     "metadata": {},
     "output_type": "execute_result"
    }
   ],
   "source": [
    "y_valid_.shape"
   ]
  },
  {
   "cell_type": "code",
   "execution_count": 14,
   "id": "419b4ece",
   "metadata": {},
   "outputs": [
    {
     "name": "stdout",
     "output_type": "stream",
     "text": [
      "accuracy: 84.95%\n"
     ]
    }
   ],
   "source": [
    "from sklearn.metrics import accuracy_score\n",
    "accuracy = accuracy_score(y_valid_, yhat)\n",
    "print(\"accuracy: %.2f%%\" % (accuracy * 100.0))"
   ]
  },
  {
   "cell_type": "code",
   "execution_count": 15,
   "id": "9dc72ea4",
   "metadata": {},
   "outputs": [
    {
     "name": "stdout",
     "output_type": "stream",
     "text": [
      "recall: 84.95%\n"
     ]
    }
   ],
   "source": [
    "from sklearn.metrics import recall_score\n",
    "recall = recall_score(y_valid_, yhat, average= 'weighted')\n",
    "print(\"recall: %.2f%%\" % (recall * 100.0))\n"
   ]
  },
  {
   "cell_type": "code",
   "execution_count": 16,
   "id": "f954e700",
   "metadata": {},
   "outputs": [
    {
     "name": "stdout",
     "output_type": "stream",
     "text": [
      "precision: 85.10%\n"
     ]
    }
   ],
   "source": [
    "from sklearn.metrics import precision_score\n",
    "precision = precision_score(y_valid_, yhat, average= 'weighted')\n",
    "print(\"precision: %.2f%%\" % (precision * 100.0))"
   ]
  },
  {
   "cell_type": "code",
   "execution_count": 17,
   "id": "d697f808",
   "metadata": {},
   "outputs": [
    {
     "name": "stderr",
     "output_type": "stream",
     "text": [
      "/Users/ecem/miniforge3/envs/tf-metal/lib/python3.9/site-packages/sklearn/utils/deprecation.py:87: FutureWarning: Function plot_confusion_matrix is deprecated; Function `plot_confusion_matrix` is deprecated in 1.0 and will be removed in 1.2. Use one of the class methods: ConfusionMatrixDisplay.from_predictions or ConfusionMatrixDisplay.from_estimator.\n",
      "  warnings.warn(msg, category=FutureWarning)\n"
     ]
    },
    {
     "data": {
      "text/plain": [
       "<sklearn.metrics._plot.confusion_matrix.ConfusionMatrixDisplay at 0x1080b34f0>"
      ]
     },
     "execution_count": 17,
     "metadata": {},
     "output_type": "execute_result"
    },
    {
     "data": {
      "image/png": "[encoded data removed]",
      "text/plain": [
       "<Figure size 432x288 with 2 Axes>"
      ]
     },
     "metadata": {
      "needs_background": "light"
     },
     "output_type": "display_data"
    }
   ],
   "source": [
    "from sklearn.metrics import plot_confusion_matrix\n",
    "plot_confusion_matrix(clf, X_valid_, y_valid_) "
   ]
  },
  {
   "cell_type": "code",
   "execution_count": 18,
   "id": "8c685300",
   "metadata": {},
   "outputs": [
    {
     "name": "stdout",
     "output_type": "stream",
     "text": [
      "ROC AUC: 0.6039\n"
     ]
    }
   ],
   "source": [
    "from sklearn.metrics import roc_auc_score\n",
    "score = roc_auc_score(y_valid_, yhat)\n",
    "print(f\"ROC AUC: {score:.4f}\")"
   ]
  },
  {
   "cell_type": "code",
   "execution_count": 19,
   "id": "9d1036a4",
   "metadata": {},
   "outputs": [
    {
     "name": "stdout",
     "output_type": "stream",
     "text": [
      "              precision    recall  f1-score   support\n",
      "\n",
      "      absent       0.85      0.99      0.92      1134\n",
      "     present       0.86      0.22      0.34       255\n",
      "\n",
      "    accuracy                           0.85      1389\n",
      "   macro avg       0.85      0.60      0.63      1389\n",
      "weighted avg       0.85      0.85      0.81      1389\n",
      "\n"
     ]
    },
    {
     "data": {
      "image/png": "[encoded data removed]",
      "text/plain": [
       "<Figure size 432x288 with 1 Axes>"
      ]
     },
     "metadata": {
      "needs_background": "light"
     },
     "output_type": "display_data"
    },
    {
     "name": "stdout",
     "output_type": "stream",
     "text": [
      "AUC: 0.610\n"
     ]
    }
   ],
   "source": [
    "names =[\"absent\", \"present\"]\n",
    "print(classification_report(y_valid_, yhat, target_names = names))\n",
    "\n",
    "precision, recall, thresholds = precision_recall_curve(y_valid_, yhat)\n",
    "auc_score = auc(recall, precision)\n",
    "plt.plot([0, 1], [0.5, 0.5], linestyle='--')\n",
    "plt.plot(recall, precision, marker='.')\n",
    "plt.show()\n",
    "print('AUC: %.3f' % auc_score)"
   ]
  }
 ],
 "metadata": {
  "kernelspec": {
   "display_name": "Python 3 (ipykernel)",
   "language": "python",
   "name": "python3"
  },
  "language_info": {
   "codemirror_mode": {
    "name": "ipython",
    "version": 3
   },
   "file_extension": ".py",
   "mimetype": "text/x-python",
   "name": "python",
   "nbconvert_exporter": "python",
   "pygments_lexer": "ipython3",
   "version": "3.9.9"
  }
 },
 "nbformat": 4,
 "nbformat_minor": 5
}
