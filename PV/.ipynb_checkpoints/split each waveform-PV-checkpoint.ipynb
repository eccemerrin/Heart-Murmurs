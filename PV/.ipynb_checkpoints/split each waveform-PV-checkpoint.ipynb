{
 "cells": [
  {
   "cell_type": "code",
   "execution_count": 1,
   "id": "466a2dc2",
   "metadata": {},
   "outputs": [],
   "source": [
    "import numpy as np"
   ]
  },
  {
   "cell_type": "code",
   "execution_count": 2,
   "id": "ce06ed57",
   "metadata": {},
   "outputs": [],
   "source": [
    "target_path = \"/Users/ecem/Desktop/phonocardiogram/data/PV\""
   ]
  },
  {
   "cell_type": "code",
   "execution_count": 3,
   "id": "1ccbf715",
   "metadata": {},
   "outputs": [],
   "source": [
    "waves = np.load(target_path + \"/PV_waves.npy\", allow_pickle= True)\n",
    "sampl = 4000\n"
   ]
  },
  {
   "cell_type": "code",
   "execution_count": 4,
   "id": "ad5672a3",
   "metadata": {},
   "outputs": [
    {
     "data": {
      "text/plain": [
       "(764,)"
      ]
     },
     "execution_count": 4,
     "metadata": {},
     "output_type": "execute_result"
    }
   ],
   "source": [
    "waves.shape"
   ]
  },
  {
   "cell_type": "code",
   "execution_count": 5,
   "id": "a9ec6857",
   "metadata": {},
   "outputs": [
    {
     "data": {
      "text/plain": [
       "numpy.ndarray"
      ]
     },
     "execution_count": 5,
     "metadata": {},
     "output_type": "execute_result"
    }
   ],
   "source": [
    "type(waves)"
   ]
  },
  {
   "cell_type": "code",
   "execution_count": 6,
   "id": "8ef2fd8b",
   "metadata": {},
   "outputs": [
    {
     "name": "stdout",
     "output_type": "stream",
     "text": [
      "207094\n",
      "469577\n",
      "454054\n",
      "675612\n",
      "257544\n",
      "287885\n",
      "469577\n",
      "329516\n",
      "436414\n",
      "446645\n"
     ]
    }
   ],
   "source": [
    "#sanity check\n",
    "for i in range(10):\n",
    "    print(waves[i].shape[0])"
   ]
  },
  {
   "cell_type": "code",
   "execution_count": 7,
   "id": "a5cd1e24",
   "metadata": {},
   "outputs": [],
   "source": [
    "def splitter(array, slicing_point = 10000, duration = 10, sampling_rate = 256):\n",
    "    wanted_npts = int(sampling_rate * duration) \n",
    "    npts = int(array.shape[0] - 10000) #sonunda olması istenen\n",
    "    lenght = npts // wanted_npts\n",
    "    remainder = int(np.around((((npts / wanted_npts - lenght)) * wanted_npts), 0))\n",
    "    \n",
    "    \n",
    "    return np.array_split(array[slicing_point + remainder:],lenght)\n",
    "\n",
    "    "
   ]
  },
  {
   "cell_type": "code",
   "execution_count": 8,
   "id": "fccd5a1c",
   "metadata": {},
   "outputs": [],
   "source": [
    "def merger(array, slicing_point = 10000, duration = 10, sampling_rate = 256):\n",
    "    _waves = []\n",
    "    _howmany = []\n",
    "\n",
    "    for i in range(array.shape[0]):\n",
    "        a = splitter(array[i], slicing_point = slicing_point, duration = duration, sampling_rate = sampling_rate)\n",
    "        _howmany.append(len(a))\n",
    "        \n",
    "        _waves = _waves + a\n",
    "\n",
    "    return [np.array(_waves), _howmany]"
   ]
  },
  {
   "cell_type": "markdown",
   "id": "96c51d13",
   "metadata": {},
   "source": [
    "## Splitting into 10 sc frames"
   ]
  },
  {
   "cell_type": "code",
   "execution_count": 9,
   "id": "d3b59fd5",
   "metadata": {},
   "outputs": [],
   "source": [
    "_waves, howmany = merger(waves, duration = 10, sampling_rate = sampl)"
   ]
  },
  {
   "cell_type": "code",
   "execution_count": 10,
   "id": "cdf4a586",
   "metadata": {},
   "outputs": [
    {
     "data": {
      "text/plain": [
       "764"
      ]
     },
     "execution_count": 10,
     "metadata": {},
     "output_type": "execute_result"
    }
   ],
   "source": [
    "#sanity check\n",
    "len(howmany)"
   ]
  },
  {
   "cell_type": "code",
   "execution_count": 11,
   "id": "b1ed389d",
   "metadata": {},
   "outputs": [
    {
     "data": {
      "text/plain": [
       "(8657, 40000)"
      ]
     },
     "execution_count": 11,
     "metadata": {},
     "output_type": "execute_result"
    }
   ],
   "source": [
    "_waves.shape"
   ]
  },
  {
   "cell_type": "code",
   "execution_count": 12,
   "id": "b7f1f69f",
   "metadata": {},
   "outputs": [
    {
     "data": {
      "text/plain": [
       "8657"
      ]
     },
     "execution_count": 12,
     "metadata": {},
     "output_type": "execute_result"
    }
   ],
   "source": [
    "#sanity check\n",
    "ar = np.array(howmany)\n",
    "sum(ar)"
   ]
  },
  {
   "cell_type": "code",
   "execution_count": 13,
   "id": "b31e8c03",
   "metadata": {},
   "outputs": [
    {
     "data": {
      "text/plain": [
       "numpy.ndarray"
      ]
     },
     "execution_count": 13,
     "metadata": {},
     "output_type": "execute_result"
    }
   ],
   "source": [
    "#sanity check\n",
    "type(_waves[0])"
   ]
  },
  {
   "cell_type": "code",
   "execution_count": 14,
   "id": "a1c02d07",
   "metadata": {},
   "outputs": [],
   "source": [
    "np.save(target_path + \"/PV_waves-10sec\", _waves, allow_pickle= True)"
   ]
  },
  {
   "cell_type": "code",
   "execution_count": 15,
   "id": "57703a2e",
   "metadata": {},
   "outputs": [
    {
     "data": {
      "text/plain": [
       "(8657, 40000)"
      ]
     },
     "execution_count": 15,
     "metadata": {},
     "output_type": "execute_result"
    }
   ],
   "source": [
    "check  = np.load(target_path + \"/PV_waves-10sec.npy\")\n",
    "check.shape"
   ]
  },
  {
   "cell_type": "code",
   "execution_count": null,
   "id": "1167e5ba",
   "metadata": {},
   "outputs": [],
   "source": []
  }
 ],
 "metadata": {
  "kernelspec": {
   "display_name": "Python 3 (ipykernel)",
   "language": "python",
   "name": "python3"
  },
  "language_info": {
   "codemirror_mode": {
    "name": "ipython",
    "version": 3
   },
   "file_extension": ".py",
   "mimetype": "text/x-python",
   "name": "python",
   "nbconvert_exporter": "python",
   "pygments_lexer": "ipython3",
   "version": "3.9.9"
  }
 },
 "nbformat": 4,
 "nbformat_minor": 5
}
