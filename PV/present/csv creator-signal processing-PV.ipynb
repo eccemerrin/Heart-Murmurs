{
 "cells": [
  {
   "cell_type": "markdown",
   "id": "a10707b4",
   "metadata": {},
   "source": [
    "## Imports:"
   ]
  },
  {
   "cell_type": "code",
   "execution_count": 1,
   "id": "5b0b2dcc",
   "metadata": {},
   "outputs": [
    {
     "ename": "RuntimeError",
     "evalue": "module compiled against API version 0xe but this version of numpy is 0xd",
     "output_type": "error",
     "traceback": [
      "\u001b[0;31m---------------------------------------------------------------------------\u001b[0m",
      "\u001b[0;31mRuntimeError\u001b[0m                              Traceback (most recent call last)",
      "\u001b[0;31mRuntimeError\u001b[0m: module compiled against API version 0xe but this version of numpy is 0xd"
     ]
    }
   ],
   "source": [
    "import scipy.io\n",
    "import os\n",
    "import pandas\n",
    "import numpy as np\n",
    "import matplotlib.pyplot as plt\n",
    "import matplotlib.pylab as plt_lab\n",
    "import matplotlib.gridspec as gridspec\n",
    "import obspy\n",
    "import pandas as pd"
   ]
  },
  {
   "cell_type": "code",
   "execution_count": 2,
   "id": "995724bf",
   "metadata": {},
   "outputs": [],
   "source": [
    "import warnings\n",
    "warnings.filterwarnings('ignore')"
   ]
  },
  {
   "cell_type": "markdown",
   "id": "41b4c77f",
   "metadata": {},
   "source": [
    "## Load data:\n",
    "We are going to use this data to plot spectograms of SCG signals. "
   ]
  },
  {
   "cell_type": "code",
   "execution_count": 3,
   "id": "75a415fd",
   "metadata": {},
   "outputs": [],
   "source": [
    "path = \"/Users/ecem/Desktop/phonocardiogram/data/PV/present\""
   ]
  },
  {
   "cell_type": "code",
   "execution_count": 4,
   "id": "cff5b561",
   "metadata": {},
   "outputs": [],
   "source": [
    "waves = np.load(path + \"/present_PV_waves_10sec.npy\", allow_pickle= True)\n"
   ]
  },
  {
   "cell_type": "code",
   "execution_count": 5,
   "id": "557b6190",
   "metadata": {},
   "outputs": [
    {
     "name": "stdout",
     "output_type": "stream",
     "text": [
      "(1198, 40000)\n"
     ]
    }
   ],
   "source": [
    "print(waves.shape)\n"
   ]
  },
  {
   "cell_type": "markdown",
   "id": "1b2a6059",
   "metadata": {},
   "source": [
    "## Zero Crossing Rate:\n",
    "Compute the zero-crossing rate of an audio time series.\n",
    "The zero-crossing rate (ZCR) is the rate at which a signal changes from positive to zero to negative or from negative to zero to positive."
   ]
  },
  {
   "cell_type": "code",
   "execution_count": 6,
   "id": "7c9b734f",
   "metadata": {},
   "outputs": [],
   "source": [
    "import librosa as lbs"
   ]
  },
  {
   "cell_type": "code",
   "execution_count": 8,
   "id": "23a0bede",
   "metadata": {},
   "outputs": [
    {
     "data": {
      "text/plain": [
       "array([[0.01375 , 0.032625, 0.032   , 0.033125]])"
      ]
     },
     "execution_count": 8,
     "metadata": {},
     "output_type": "execute_result"
    }
   ],
   "source": [
    "lbs.feature.zero_crossing_rate(waves[7],frame_length= 8000, hop_length = 12000)"
   ]
  },
  {
   "cell_type": "code",
   "execution_count": 9,
   "id": "b2a61800",
   "metadata": {},
   "outputs": [
    {
     "data": {
      "text/plain": [
       "(1, 4)"
      ]
     },
     "execution_count": 9,
     "metadata": {},
     "output_type": "execute_result"
    }
   ],
   "source": [
    "lbs.feature.zero_crossing_rate(waves[7], frame_length= 8000, hop_length = 12000).shape"
   ]
  },
  {
   "cell_type": "code",
   "execution_count": 10,
   "id": "cc79deea",
   "metadata": {},
   "outputs": [],
   "source": [
    "def zero_crossing(array, frame_length= 2048, hl = 512):\n",
    "    zero_crossing_rate = np.ones(shape = (array.shape[0], 5)) #buradaki ikinci sayı hop lenght e göre değişmeli \n",
    "\n",
    "    for i in range(array.shape[0]):\n",
    "        zero_crossing_rate[i][0:4] = lbs.feature.zero_crossing_rate(array[i],  frame_length = frame_length,\n",
    "                                                                    hop_length = hl)\n",
    "        zero_crossing_rate[i][4] = sum(lbs.zero_crossings(array[i]))\n",
    "    return zero_crossing_rate\n",
    "\n",
    "        "
   ]
  },
  {
   "cell_type": "code",
   "execution_count": 11,
   "id": "3badd449",
   "metadata": {},
   "outputs": [],
   "source": [
    "zcrs = zero_crossing(waves, 8000, hl = 12000) #çok uzun sürüyor, ya datayı kısaltmalıyız ya da hop lenght artmalı"
   ]
  },
  {
   "cell_type": "code",
   "execution_count": 12,
   "id": "5a0decad",
   "metadata": {},
   "outputs": [
    {
     "data": {
      "text/plain": [
       "numpy.ndarray"
      ]
     },
     "execution_count": 12,
     "metadata": {},
     "output_type": "execute_result"
    }
   ],
   "source": [
    "type(zcrs[0])"
   ]
  },
  {
   "cell_type": "code",
   "execution_count": 13,
   "id": "ef9d104e",
   "metadata": {},
   "outputs": [],
   "source": [
    "np.save(path + \"/present_PV_zcrs_array\", zcrs, allow_pickle= True)"
   ]
  },
  {
   "cell_type": "code",
   "execution_count": 14,
   "id": "58e4c21a",
   "metadata": {},
   "outputs": [
    {
     "name": "stdout",
     "output_type": "stream",
     "text": [
      "['zcrs0', 'zcrs1', 'zcrs2', 'zcrs3', '#ofcrossing']\n"
     ]
    }
   ],
   "source": [
    "columns_zcr = []\n",
    "for i in range(zcrs.shape[1]-1):\n",
    "    columns_zcr.append(\"zcrs{}\".format(i))\n",
    "\n",
    "    \n",
    "columns_zcr.append(\"#ofcrossing\")\n",
    "\n",
    "print(columns_zcr)"
   ]
  },
  {
   "cell_type": "code",
   "execution_count": 15,
   "id": "e07f721f",
   "metadata": {},
   "outputs": [
    {
     "data": {
      "text/plain": [
       "array([1.3750e-02, 3.2625e-02, 3.2000e-02, 3.3125e-02, 1.2220e+03])"
      ]
     },
     "execution_count": 15,
     "metadata": {},
     "output_type": "execute_result"
    }
   ],
   "source": [
    "zcrs[7]"
   ]
  },
  {
   "cell_type": "code",
   "execution_count": 23,
   "id": "14c76313",
   "metadata": {},
   "outputs": [],
   "source": [
    "def dataframe_creator(array, df = pd.DataFrame(), l = 7, columns = None):\n",
    "    values = []\n",
    "\n",
    "    for i in range(array.shape[0]):\n",
    "        llist = list(array[i][0:l-1].tolist())\n",
    "        llist.append(array[i][l-1])\n",
    "        \n",
    "        values.append(llist)\n",
    "        medium = pd.DataFrame([values[i]], columns = columns)\n",
    "        \n",
    "        \n",
    "        df = pd.concat([df, medium], axis = 0)\n",
    "    return df "
   ]
  },
  {
   "cell_type": "code",
   "execution_count": 17,
   "id": "40eb5d7a",
   "metadata": {},
   "outputs": [],
   "source": [
    "df = dataframe_creator(zcrs, l =5,  columns = columns_zcr)\n",
    "\n",
    "df.reset_index(drop = True, inplace = True)"
   ]
  },
  {
   "cell_type": "code",
   "execution_count": 18,
   "id": "58c4ea98",
   "metadata": {},
   "outputs": [
    {
     "data": {
      "text/html": [
       "<div>\n",
       "<style scoped>\n",
       "    .dataframe tbody tr th:only-of-type {\n",
       "        vertical-align: middle;\n",
       "    }\n",
       "\n",
       "    .dataframe tbody tr th {\n",
       "        vertical-align: top;\n",
       "    }\n",
       "\n",
       "    .dataframe thead th {\n",
       "        text-align: right;\n",
       "    }\n",
       "</style>\n",
       "<table border=\"1\" class=\"dataframe\">\n",
       "  <thead>\n",
       "    <tr style=\"text-align: right;\">\n",
       "      <th></th>\n",
       "      <th>zcrs0</th>\n",
       "      <th>zcrs1</th>\n",
       "      <th>zcrs2</th>\n",
       "      <th>zcrs3</th>\n",
       "      <th>#ofcrossing</th>\n",
       "    </tr>\n",
       "  </thead>\n",
       "  <tbody>\n",
       "    <tr>\n",
       "      <th>0</th>\n",
       "      <td>0.016000</td>\n",
       "      <td>0.028875</td>\n",
       "      <td>0.029625</td>\n",
       "      <td>0.046125</td>\n",
       "      <td>1387.0</td>\n",
       "    </tr>\n",
       "    <tr>\n",
       "      <th>1</th>\n",
       "      <td>0.024750</td>\n",
       "      <td>0.034750</td>\n",
       "      <td>0.033375</td>\n",
       "      <td>0.029875</td>\n",
       "      <td>1411.0</td>\n",
       "    </tr>\n",
       "    <tr>\n",
       "      <th>2</th>\n",
       "      <td>0.014625</td>\n",
       "      <td>0.032750</td>\n",
       "      <td>0.025875</td>\n",
       "      <td>0.032125</td>\n",
       "      <td>1189.0</td>\n",
       "    </tr>\n",
       "    <tr>\n",
       "      <th>3</th>\n",
       "      <td>0.011875</td>\n",
       "      <td>0.033000</td>\n",
       "      <td>0.022000</td>\n",
       "      <td>0.043750</td>\n",
       "      <td>1266.0</td>\n",
       "    </tr>\n",
       "    <tr>\n",
       "      <th>4</th>\n",
       "      <td>0.014250</td>\n",
       "      <td>0.046625</td>\n",
       "      <td>0.047625</td>\n",
       "      <td>0.047125</td>\n",
       "      <td>1685.0</td>\n",
       "    </tr>\n",
       "  </tbody>\n",
       "</table>\n",
       "</div>"
      ],
      "text/plain": [
       "      zcrs0     zcrs1     zcrs2     zcrs3  #ofcrossing\n",
       "0  0.016000  0.028875  0.029625  0.046125       1387.0\n",
       "1  0.024750  0.034750  0.033375  0.029875       1411.0\n",
       "2  0.014625  0.032750  0.025875  0.032125       1189.0\n",
       "3  0.011875  0.033000  0.022000  0.043750       1266.0\n",
       "4  0.014250  0.046625  0.047625  0.047125       1685.0"
      ]
     },
     "execution_count": 18,
     "metadata": {},
     "output_type": "execute_result"
    }
   ],
   "source": [
    "df.head()"
   ]
  },
  {
   "cell_type": "code",
   "execution_count": 19,
   "id": "febe5cf1",
   "metadata": {},
   "outputs": [],
   "source": [
    "df.to_csv(path + '/present_PV_zcrs.csv')"
   ]
  },
  {
   "cell_type": "markdown",
   "id": "3bbfeffb",
   "metadata": {},
   "source": [
    "## with Özgün Ozan Nacitarhan code"
   ]
  },
  {
   "cell_type": "code",
   "execution_count": 20,
   "id": "481adc1a",
   "metadata": {},
   "outputs": [],
   "source": [
    "def zcr(array):\n",
    "    zcr = np.ones(shape = (array.shape[0],1))\n",
    "    for i in range(array.shape[0]):\n",
    "        data_zeros = np.zeros(len(array[i]))\n",
    "        data_zeros[1:] = array[i][:len(array[i]) - 1]\n",
    "        zcr[i][0] = (1 / (2 * len(array[i]))) * np.sum(np.abs(np.sign(array[i]) - np.sign(data_zeros)))\n",
    "        \n",
    "    return zcr\n"
   ]
  },
  {
   "cell_type": "code",
   "execution_count": 21,
   "id": "f539b16d",
   "metadata": {},
   "outputs": [],
   "source": [
    "zcrs_özgün = zcr(waves)"
   ]
  },
  {
   "cell_type": "code",
   "execution_count": 22,
   "id": "12e14c34",
   "metadata": {},
   "outputs": [
    {
     "data": {
      "text/plain": [
       "(1198, 1)"
      ]
     },
     "execution_count": 22,
     "metadata": {},
     "output_type": "execute_result"
    }
   ],
   "source": [
    "zcrs_özgün.shape"
   ]
  },
  {
   "cell_type": "code",
   "execution_count": 23,
   "id": "20657000",
   "metadata": {},
   "outputs": [
    {
     "data": {
      "text/plain": [
       "array([0.0346625])"
      ]
     },
     "execution_count": 23,
     "metadata": {},
     "output_type": "execute_result"
    }
   ],
   "source": [
    "zcrs_özgün[0]"
   ]
  },
  {
   "cell_type": "code",
   "execution_count": 24,
   "id": "adfd4882",
   "metadata": {},
   "outputs": [],
   "source": [
    "np.save(path + \"/present_PV_zcrs_özgün\", zcrs_özgün, allow_pickle= True)"
   ]
  },
  {
   "cell_type": "markdown",
   "id": "68835fa8",
   "metadata": {},
   "source": [
    "### Chromogram:\n",
    "We can use Chroma feature visualization to know how dominant the characteristics of a certain pitch {C, C♯, D, D♯, E, F, F♯, G, G♯, A, A♯, B} is present in the sampled frame.\n",
    "\n",
    "Compute a chromagram from a waveform or power spectrogram.\n",
    "It returns Normalized energy for each chroma bin at each frame.\n",
    "\n",
    "Hop size should refer to the number of samples in between successive frames. For signal analysis Hop Size should be less than the frame size, so that frames overlap."
   ]
  },
  {
   "cell_type": "code",
   "execution_count": 7,
   "id": "a2419065",
   "metadata": {},
   "outputs": [],
   "source": [
    "import warnings\n",
    "warnings.filterwarnings('ignore')"
   ]
  },
  {
   "cell_type": "code",
   "execution_count": 8,
   "id": "4ee986de",
   "metadata": {},
   "outputs": [],
   "source": [
    "import librosa.display"
   ]
  },
  {
   "cell_type": "code",
   "execution_count": 27,
   "id": "72d9d462",
   "metadata": {},
   "outputs": [
    {
     "data": {
      "text/plain": [
       "(12, 4)"
      ]
     },
     "execution_count": 27,
     "metadata": {},
     "output_type": "execute_result"
    }
   ],
   "source": [
    "lbs.feature.chroma_stft(waves[0], sr = 4000, hop_length = 12000).shape"
   ]
  },
  {
   "cell_type": "code",
   "execution_count": 28,
   "id": "1129b939",
   "metadata": {},
   "outputs": [],
   "source": [
    "# we are taking time average of each pitch values.\n",
    "def chromagram_average(array, sampling_rate = 256):\n",
    "    pitch = np.ones(shape = (array.shape[0], 12)) \n",
    "    \n",
    "    for i in range(array.shape[0]):\n",
    "        for j in range(12):\n",
    "            pitch[i][j] = lbs.feature.chroma_stft(np.array(array[i]), sr= sampling_rate, hop_length = 12000)[j].mean()\n",
    "    return pitch"
   ]
  },
  {
   "cell_type": "code",
   "execution_count": 29,
   "id": "fe736d42",
   "metadata": {},
   "outputs": [],
   "source": [
    "chro = chromagram_average(waves, sampling_rate = 4000) # bu da çok uzun sürüyor."
   ]
  },
  {
   "cell_type": "code",
   "execution_count": 30,
   "id": "ed36ce80",
   "metadata": {},
   "outputs": [
    {
     "data": {
      "text/plain": [
       "numpy.ndarray"
      ]
     },
     "execution_count": 30,
     "metadata": {},
     "output_type": "execute_result"
    }
   ],
   "source": [
    "type(chro[0])"
   ]
  },
  {
   "cell_type": "code",
   "execution_count": 31,
   "id": "875ac687",
   "metadata": {},
   "outputs": [
    {
     "data": {
      "text/plain": [
       "(1198, 12)"
      ]
     },
     "execution_count": 31,
     "metadata": {},
     "output_type": "execute_result"
    }
   ],
   "source": [
    "chro.shape"
   ]
  },
  {
   "cell_type": "code",
   "execution_count": 32,
   "id": "0bac78ad",
   "metadata": {},
   "outputs": [],
   "source": [
    "np.save(path + \"/present_PV_chromogram_array\", chro, allow_pickle= True)"
   ]
  },
  {
   "cell_type": "code",
   "execution_count": 33,
   "id": "f275be61",
   "metadata": {},
   "outputs": [
    {
     "name": "stdout",
     "output_type": "stream",
     "text": [
      "(1198, 12)\n"
     ]
    }
   ],
   "source": [
    "print(chro.shape)"
   ]
  },
  {
   "cell_type": "code",
   "execution_count": 34,
   "id": "69d520e6",
   "metadata": {},
   "outputs": [],
   "source": [
    "lst = [\"C\", \"C♯\", \"D\", \"D♯\", \"E\", \"F\", \"F♯\", \"G\", \"G♯\", \"A\", \"A♯\", \"B\"]"
   ]
  },
  {
   "cell_type": "code",
   "execution_count": 35,
   "id": "b24e15ff",
   "metadata": {},
   "outputs": [
    {
     "name": "stdout",
     "output_type": "stream",
     "text": [
      "['C', 'C♯', 'D', 'D♯', 'E', 'F', 'F♯', 'G', 'G♯', 'A', 'A♯', 'B']\n",
      "12\n"
     ]
    }
   ],
   "source": [
    "col_chro = []\n",
    "for i in range(chro.shape[1]):\n",
    "    col_chro.append(lst[i])\n",
    "    \n",
    "print(col_chro)\n",
    "print(len(col_chro))"
   ]
  },
  {
   "cell_type": "code",
   "execution_count": 36,
   "id": "17156bed",
   "metadata": {},
   "outputs": [
    {
     "data": {
      "text/html": [
       "<div>\n",
       "<style scoped>\n",
       "    .dataframe tbody tr th:only-of-type {\n",
       "        vertical-align: middle;\n",
       "    }\n",
       "\n",
       "    .dataframe tbody tr th {\n",
       "        vertical-align: top;\n",
       "    }\n",
       "\n",
       "    .dataframe thead th {\n",
       "        text-align: right;\n",
       "    }\n",
       "</style>\n",
       "<table border=\"1\" class=\"dataframe\">\n",
       "  <thead>\n",
       "    <tr style=\"text-align: right;\">\n",
       "      <th></th>\n",
       "      <th>C</th>\n",
       "      <th>C♯</th>\n",
       "      <th>D</th>\n",
       "      <th>D♯</th>\n",
       "      <th>E</th>\n",
       "      <th>F</th>\n",
       "      <th>F♯</th>\n",
       "      <th>G</th>\n",
       "      <th>G♯</th>\n",
       "      <th>A</th>\n",
       "      <th>A♯</th>\n",
       "      <th>B</th>\n",
       "    </tr>\n",
       "  </thead>\n",
       "  <tbody>\n",
       "    <tr>\n",
       "      <th>0</th>\n",
       "      <td>0.361276</td>\n",
       "      <td>0.18809</td>\n",
       "      <td>0.0868</td>\n",
       "      <td>0.138867</td>\n",
       "      <td>0.267305</td>\n",
       "      <td>0.458633</td>\n",
       "      <td>0.546011</td>\n",
       "      <td>0.807571</td>\n",
       "      <td>0.627838</td>\n",
       "      <td>0.361924</td>\n",
       "      <td>0.176646</td>\n",
       "      <td>0.248592</td>\n",
       "    </tr>\n",
       "    <tr>\n",
       "      <th>1</th>\n",
       "      <td>0.4076</td>\n",
       "      <td>0.494801</td>\n",
       "      <td>0.558321</td>\n",
       "      <td>0.350664</td>\n",
       "      <td>0.238178</td>\n",
       "      <td>0.273537</td>\n",
       "      <td>0.692079</td>\n",
       "      <td>0.89467</td>\n",
       "      <td>0.451084</td>\n",
       "      <td>0.275629</td>\n",
       "      <td>0.336385</td>\n",
       "      <td>0.347217</td>\n",
       "    </tr>\n",
       "    <tr>\n",
       "      <th>2</th>\n",
       "      <td>0.482642</td>\n",
       "      <td>0.461671</td>\n",
       "      <td>0.450648</td>\n",
       "      <td>0.566977</td>\n",
       "      <td>0.637708</td>\n",
       "      <td>0.698479</td>\n",
       "      <td>0.719953</td>\n",
       "      <td>0.67386</td>\n",
       "      <td>0.743078</td>\n",
       "      <td>0.621953</td>\n",
       "      <td>0.476776</td>\n",
       "      <td>0.430923</td>\n",
       "    </tr>\n",
       "    <tr>\n",
       "      <th>3</th>\n",
       "      <td>0.238385</td>\n",
       "      <td>0.248205</td>\n",
       "      <td>0.273198</td>\n",
       "      <td>0.329084</td>\n",
       "      <td>0.295685</td>\n",
       "      <td>0.43718</td>\n",
       "      <td>0.703044</td>\n",
       "      <td>0.51067</td>\n",
       "      <td>0.549033</td>\n",
       "      <td>0.684301</td>\n",
       "      <td>0.52347</td>\n",
       "      <td>0.334992</td>\n",
       "    </tr>\n",
       "    <tr>\n",
       "      <th>4</th>\n",
       "      <td>0.240413</td>\n",
       "      <td>0.247287</td>\n",
       "      <td>0.432816</td>\n",
       "      <td>0.897314</td>\n",
       "      <td>0.509179</td>\n",
       "      <td>0.293332</td>\n",
       "      <td>0.375806</td>\n",
       "      <td>0.405794</td>\n",
       "      <td>0.579791</td>\n",
       "      <td>0.493779</td>\n",
       "      <td>0.397369</td>\n",
       "      <td>0.260196</td>\n",
       "    </tr>\n",
       "    <tr>\n",
       "      <th>...</th>\n",
       "      <td>...</td>\n",
       "      <td>...</td>\n",
       "      <td>...</td>\n",
       "      <td>...</td>\n",
       "      <td>...</td>\n",
       "      <td>...</td>\n",
       "      <td>...</td>\n",
       "      <td>...</td>\n",
       "      <td>...</td>\n",
       "      <td>...</td>\n",
       "      <td>...</td>\n",
       "      <td>...</td>\n",
       "    </tr>\n",
       "    <tr>\n",
       "      <th>1193</th>\n",
       "      <td>0.787261</td>\n",
       "      <td>0.866237</td>\n",
       "      <td>0.854227</td>\n",
       "      <td>0.531692</td>\n",
       "      <td>0.457695</td>\n",
       "      <td>0.458081</td>\n",
       "      <td>0.51741</td>\n",
       "      <td>0.51492</td>\n",
       "      <td>0.61011</td>\n",
       "      <td>0.812995</td>\n",
       "      <td>0.834386</td>\n",
       "      <td>0.831439</td>\n",
       "    </tr>\n",
       "    <tr>\n",
       "      <th>1194</th>\n",
       "      <td>0.612268</td>\n",
       "      <td>0.83509</td>\n",
       "      <td>0.799304</td>\n",
       "      <td>0.670258</td>\n",
       "      <td>0.696083</td>\n",
       "      <td>0.754348</td>\n",
       "      <td>0.624674</td>\n",
       "      <td>0.548216</td>\n",
       "      <td>0.465375</td>\n",
       "      <td>0.394852</td>\n",
       "      <td>0.404237</td>\n",
       "      <td>0.416524</td>\n",
       "    </tr>\n",
       "    <tr>\n",
       "      <th>1195</th>\n",
       "      <td>0.696603</td>\n",
       "      <td>0.744654</td>\n",
       "      <td>0.728119</td>\n",
       "      <td>0.633169</td>\n",
       "      <td>0.689976</td>\n",
       "      <td>0.532535</td>\n",
       "      <td>0.607987</td>\n",
       "      <td>0.608323</td>\n",
       "      <td>0.699683</td>\n",
       "      <td>0.856535</td>\n",
       "      <td>0.882801</td>\n",
       "      <td>0.754319</td>\n",
       "    </tr>\n",
       "    <tr>\n",
       "      <th>1196</th>\n",
       "      <td>0.655882</td>\n",
       "      <td>0.696401</td>\n",
       "      <td>0.602679</td>\n",
       "      <td>0.480421</td>\n",
       "      <td>0.448376</td>\n",
       "      <td>0.374977</td>\n",
       "      <td>0.509118</td>\n",
       "      <td>0.61837</td>\n",
       "      <td>0.620731</td>\n",
       "      <td>0.572516</td>\n",
       "      <td>0.750002</td>\n",
       "      <td>0.637642</td>\n",
       "    </tr>\n",
       "    <tr>\n",
       "      <th>1197</th>\n",
       "      <td>0.79135</td>\n",
       "      <td>0.789595</td>\n",
       "      <td>0.865578</td>\n",
       "      <td>0.622164</td>\n",
       "      <td>0.467693</td>\n",
       "      <td>0.483123</td>\n",
       "      <td>0.455439</td>\n",
       "      <td>0.385084</td>\n",
       "      <td>0.472328</td>\n",
       "      <td>0.501242</td>\n",
       "      <td>0.636037</td>\n",
       "      <td>0.737703</td>\n",
       "    </tr>\n",
       "  </tbody>\n",
       "</table>\n",
       "<p>1198 rows × 12 columns</p>\n",
       "</div>"
      ],
      "text/plain": [
       "             C        C♯         D        D♯         E         F        F♯  \\\n",
       "0     0.361276   0.18809    0.0868  0.138867  0.267305  0.458633  0.546011   \n",
       "1       0.4076  0.494801  0.558321  0.350664  0.238178  0.273537  0.692079   \n",
       "2     0.482642  0.461671  0.450648  0.566977  0.637708  0.698479  0.719953   \n",
       "3     0.238385  0.248205  0.273198  0.329084  0.295685   0.43718  0.703044   \n",
       "4     0.240413  0.247287  0.432816  0.897314  0.509179  0.293332  0.375806   \n",
       "...        ...       ...       ...       ...       ...       ...       ...   \n",
       "1193  0.787261  0.866237  0.854227  0.531692  0.457695  0.458081   0.51741   \n",
       "1194  0.612268   0.83509  0.799304  0.670258  0.696083  0.754348  0.624674   \n",
       "1195  0.696603  0.744654  0.728119  0.633169  0.689976  0.532535  0.607987   \n",
       "1196  0.655882  0.696401  0.602679  0.480421  0.448376  0.374977  0.509118   \n",
       "1197   0.79135  0.789595  0.865578  0.622164  0.467693  0.483123  0.455439   \n",
       "\n",
       "             G        G♯         A        A♯         B  \n",
       "0     0.807571  0.627838  0.361924  0.176646  0.248592  \n",
       "1      0.89467  0.451084  0.275629  0.336385  0.347217  \n",
       "2      0.67386  0.743078  0.621953  0.476776  0.430923  \n",
       "3      0.51067  0.549033  0.684301   0.52347  0.334992  \n",
       "4     0.405794  0.579791  0.493779  0.397369  0.260196  \n",
       "...        ...       ...       ...       ...       ...  \n",
       "1193   0.51492   0.61011  0.812995  0.834386  0.831439  \n",
       "1194  0.548216  0.465375  0.394852  0.404237  0.416524  \n",
       "1195  0.608323  0.699683  0.856535  0.882801  0.754319  \n",
       "1196   0.61837  0.620731  0.572516  0.750002  0.637642  \n",
       "1197  0.385084  0.472328  0.501242  0.636037  0.737703  \n",
       "\n",
       "[1198 rows x 12 columns]"
      ]
     },
     "execution_count": 36,
     "metadata": {},
     "output_type": "execute_result"
    }
   ],
   "source": [
    "ch_df = dataframe_creator(chro,\n",
    "                         df =pd.DataFrame(columns = col_chro), columns = col_chro, l = 12)\n",
    "\n",
    "ch_df.reset_index(drop = True, inplace = True)\n",
    "ch_df"
   ]
  },
  {
   "cell_type": "code",
   "execution_count": 37,
   "id": "81a61a1e",
   "metadata": {},
   "outputs": [],
   "source": [
    "ch_df.to_csv(path + \"/present_PV_chromogram.csv\")"
   ]
  },
  {
   "cell_type": "markdown",
   "id": "cce74b21",
   "metadata": {},
   "source": [
    "## Tempogram\n",
    "\n",
    "Compute the tempogram: local autocorrelation of the onset strength envelope.\n",
    "\n",
    "# kendime not tempogram değerlerini spektogram değerleri gibi kaydet."
   ]
  },
  {
   "cell_type": "code",
   "execution_count": 9,
   "id": "c9f3130a",
   "metadata": {},
   "outputs": [],
   "source": [
    "def tempo_average(array): # 192,79\n",
    "    means= []\n",
    "    for i in range(array.shape[0]): #192\n",
    "        means.append(array[i].mean())\n",
    "    return np.array(means) # 192\n",
    "        "
   ]
  },
  {
   "cell_type": "code",
   "execution_count": 10,
   "id": "9d9179b5",
   "metadata": {},
   "outputs": [],
   "source": [
    "def tempogram(array = 0, hop_lenght = 12000, sampling_rate = 256):\n",
    "    \n",
    "    oenv = librosa.onset.onset_strength(y=np.array(array), \n",
    "                                            sr=sampling_rate, \n",
    "                                        lag =3)\n",
    "\n",
    "    times = librosa.times_like(oenv, sr=sampling_rate, hop_length=12000)\n",
    "\n",
    "    tempogram = librosa.feature.tempogram(onset_envelope = oenv, sr = sampling_rate,\n",
    "                                              hop_length = hop_lenght, win_length = 192 )\n",
    "    # Estimate the global tempo for display purposes\n",
    "    #tempo = librosa.beat.tempo(onset_envelope=oenv, sr= sampling_rate,\n",
    "                                   #hop_length=hop_length)[0]\n",
    "    return tempogram"
   ]
  },
  {
   "cell_type": "code",
   "execution_count": 11,
   "id": "4ec648a1",
   "metadata": {},
   "outputs": [
    {
     "data": {
      "text/plain": [
       "(192, 79)"
      ]
     },
     "execution_count": 11,
     "metadata": {},
     "output_type": "execute_result"
    }
   ],
   "source": [
    "tempogram(waves[0]).shape"
   ]
  },
  {
   "cell_type": "code",
   "execution_count": 12,
   "id": "d113b2df",
   "metadata": {},
   "outputs": [
    {
     "data": {
      "text/plain": [
       "array([1., 1., 1., 1., 1., 1., 1., 1., 1., 1., 1., 1., 1., 1., 1., 1., 1.,\n",
       "       1., 1., 1., 1., 1., 1., 1., 1., 1., 1., 1., 1., 1., 1., 1., 1., 1.,\n",
       "       1., 1., 1., 1., 1., 1., 1., 1., 1., 1., 1., 1., 1., 1., 1., 1., 1.,\n",
       "       1., 1., 1., 1., 1., 1., 1., 1., 1., 1., 1., 1., 1., 1., 1., 1., 1.,\n",
       "       1., 1., 1., 1., 1., 1., 1., 1., 1., 1., 1.])"
      ]
     },
     "execution_count": 12,
     "metadata": {},
     "output_type": "execute_result"
    }
   ],
   "source": [
    "tempogram(waves[0])[0]"
   ]
  },
  {
   "cell_type": "code",
   "execution_count": 13,
   "id": "4dd11e0a",
   "metadata": {},
   "outputs": [
    {
     "data": {
      "text/plain": [
       "array([0.80517355, 0.80649683, 0.80783818, 0.80919789, 0.81057621,\n",
       "       0.81197334, 0.81338942, 0.81482458, 0.81627887, 0.81775233,\n",
       "       0.81924491, 0.82075656, 0.82228715, 0.82383652, 0.82540447,\n",
       "       0.82699073, 0.82859502, 0.830217  , 0.83185629, 0.83351247,\n",
       "       0.83518509, 0.83687367, 0.83857766, 0.84029653, 0.84202967,\n",
       "       0.84377649, 0.84553632, 0.84730852, 0.84909239, 0.85088722,\n",
       "       0.85269229, 0.85450687, 0.85633019, 0.8581615 , 0.86000002,\n",
       "       0.86184497, 0.86369557, 0.86555103, 0.86741057, 0.86927339,\n",
       "       0.8711387 , 0.87300574, 0.87487373, 0.8767419 , 0.87860948,\n",
       "       0.88047575, 0.88233995, 0.88420137, 0.8860593 , 0.88791305,\n",
       "       0.88976194, 0.89160531, 0.89344251, 0.89527293, 0.89709596,\n",
       "       0.89891101, 0.90071752, 0.90251494, 0.90430276, 0.90608047,\n",
       "       0.90784758, 0.90960364, 0.91134822, 0.91308089, 0.91480126,\n",
       "       0.91650896, 0.91820363, 0.91988495, 0.9215526 , 0.9232063 ,\n",
       "       0.92484578, 0.92647078, 0.92808108, 0.92967646, 0.93125674,\n",
       "       0.93282173, 0.93437129, 0.93590527, 0.93742354])"
      ]
     },
     "execution_count": 13,
     "metadata": {},
     "output_type": "execute_result"
    }
   ],
   "source": [
    "tempogram(waves[0])[1]"
   ]
  },
  {
   "cell_type": "code",
   "execution_count": 14,
   "id": "1ecf758c",
   "metadata": {},
   "outputs": [
    {
     "data": {
      "text/plain": [
       "array([ 1.00000000e+00,  8.69964397e-01,  7.07931138e-01,  6.51307510e-01,\n",
       "        6.85073283e-01,  7.56091577e-01,  7.65802804e-01,  7.22457855e-01,\n",
       "        6.85163267e-01,  6.80484031e-01,  6.92943259e-01,  7.00482673e-01,\n",
       "        7.00398193e-01,  6.82602871e-01,  6.91599859e-01,  6.91068737e-01,\n",
       "        6.49323845e-01,  6.11934219e-01,  5.96462921e-01,  6.22443332e-01,\n",
       "        6.61547149e-01,  6.76250195e-01,  6.46579177e-01,  5.82218488e-01,\n",
       "        5.62221260e-01,  5.91417058e-01,  6.20715692e-01,  6.26922672e-01,\n",
       "        5.78383947e-01,  5.22462703e-01,  5.11537060e-01,  5.37342368e-01,\n",
       "        5.62984159e-01,  5.57118906e-01,  5.17435229e-01,  4.72387509e-01,\n",
       "        4.60505190e-01,  4.54274434e-01,  4.44609217e-01,  4.43192183e-01,\n",
       "        4.25061212e-01,  4.18050464e-01,  4.42380547e-01,  4.47954494e-01,\n",
       "        4.14319487e-01,  3.76328125e-01,  3.70682701e-01,  3.96358982e-01,\n",
       "        4.04503582e-01,  3.83776030e-01,  3.42623031e-01,  3.23601145e-01,\n",
       "        3.27847320e-01,  3.29300166e-01,  3.16494867e-01,  2.93693889e-01,\n",
       "        2.80753679e-01,  2.90494366e-01,  2.89450225e-01,  2.67668317e-01,\n",
       "        2.43845013e-01,  2.31475050e-01,  2.23583948e-01,  2.19033318e-01,\n",
       "        2.04506381e-01,  1.85284912e-01,  1.71650683e-01,  1.68200418e-01,\n",
       "        1.70736153e-01,  1.67185299e-01,  1.56524154e-01,  1.47087629e-01,\n",
       "        1.46448950e-01,  1.42278515e-01,  1.34521325e-01,  1.27081885e-01,\n",
       "        1.19954010e-01,  1.13131167e-01,  1.06606400e-01,  1.00372552e-01,\n",
       "        9.44224529e-02,  8.87489289e-02,  8.33447329e-02,  7.82024584e-02,\n",
       "        7.33145750e-02,  6.86734722e-02,  6.42713839e-02,  6.01002637e-02,\n",
       "        5.61518208e-02,  5.24176572e-02,  4.88893772e-02,  4.55586272e-02,\n",
       "        4.24169669e-02,  3.94559878e-02,  3.66675311e-02,  3.40436856e-02,\n",
       "        3.15767848e-02,  2.92594042e-02,  2.70843580e-02,  2.50446963e-02,\n",
       "        2.31337038e-02,  2.13448993e-02,  1.96720340e-02,  1.81090886e-02,\n",
       "        1.66502704e-02,  1.52900120e-02,  1.40229690e-02,  1.28440164e-02,\n",
       "        1.17482413e-02,  1.07309346e-02,  9.78758481e-03,  8.91387275e-03,\n",
       "        8.10567048e-03,  7.35903603e-03,  6.67020604e-03,  6.03558779e-03,\n",
       "        5.45175434e-03,  4.91544008e-03,  4.42353610e-03,  3.97308620e-03,\n",
       "        3.56128298e-03,  3.18546387e-03,  2.84310522e-03,  2.53181465e-03,\n",
       "        2.24932388e-03,  1.99348339e-03,  1.76225970e-03,  1.55373312e-03,\n",
       "        1.36609489e-03,  1.19764303e-03,  1.04677814e-03,  9.12000989e-04,\n",
       "        7.91910644e-04,  6.85202210e-04,  5.90662761e-04,  5.07164505e-04,\n",
       "        4.33658557e-04,  3.69171004e-04,  3.12799823e-04,  2.63712546e-04,\n",
       "        2.21143394e-04,  1.84388976e-04,  1.52803654e-04,  1.25796165e-04,\n",
       "        1.02827295e-04,  8.34071731e-05,  6.70920604e-05,  5.34809758e-05,\n",
       "        4.22122783e-05,  3.29603871e-05,  2.54329452e-05,  1.93687123e-05,\n",
       "        1.45358721e-05,  1.07304569e-05,  7.77460489e-06,  5.51462681e-06,\n",
       "        3.81862218e-06,  2.57324902e-06,  1.68118264e-06,  1.05996548e-06,\n",
       "        6.41174092e-07,  3.69390847e-07,  2.00758256e-07,  1.01473086e-07,\n",
       "        4.65584564e-08,  1.85733762e-08,  5.95434401e-09,  1.29978702e-09,\n",
       "        1.22054662e-10, -4.47056402e-18, -6.92614650e-18,  1.95434735e-17,\n",
       "       -4.06899951e-17, -1.53691940e-17, -8.88550318e-18,  2.51094006e-17,\n",
       "        3.71921536e-17, -7.09029552e-18,  1.36912005e-17,  1.67984920e-17,\n",
       "        3.29720752e-17,  5.62191908e-17,  1.31600214e-18,  1.53009744e-17,\n",
       "        3.33265579e-17,  1.54829474e-17,  4.46498012e-17, -8.99554700e-18,\n",
       "        8.17960405e-18,  3.04580072e-17,  2.15508570e-17,  4.58872943e-17])"
      ]
     },
     "execution_count": 14,
     "metadata": {},
     "output_type": "execute_result"
    }
   ],
   "source": [
    "tempo_average(tempogram(waves[0]))"
   ]
  },
  {
   "cell_type": "markdown",
   "id": "26896649",
   "metadata": {},
   "source": [
    "# tempogram(waves[0])[0]"
   ]
  },
  {
   "cell_type": "code",
   "execution_count": 15,
   "id": "5f49f3c2",
   "metadata": {},
   "outputs": [],
   "source": [
    "def temp_values(array):\n",
    "    final = np.ones(shape = (array.shape[0], 192))\n",
    "    for i in range(array.shape[0]): #8bin civarı\n",
    "        \n",
    "        _x = tempogram(array[i]) #1,4000   #192,79\n",
    "        #print(_x.shape)\n",
    "        final[i] = tempo_average(_x) #192\n",
    "        \n",
    "        \n",
    "    return final"
   ]
  },
  {
   "cell_type": "code",
   "execution_count": 16,
   "id": "a2c80c43",
   "metadata": {},
   "outputs": [],
   "source": [
    "temp = temp_values(waves) #çok uzun sürüyor \n"
   ]
  },
  {
   "cell_type": "code",
   "execution_count": 17,
   "id": "c97cff81",
   "metadata": {},
   "outputs": [
    {
     "data": {
      "text/plain": [
       "numpy.ndarray"
      ]
     },
     "execution_count": 17,
     "metadata": {},
     "output_type": "execute_result"
    }
   ],
   "source": [
    "type(temp)"
   ]
  },
  {
   "cell_type": "code",
   "execution_count": 18,
   "id": "346fc135",
   "metadata": {},
   "outputs": [],
   "source": [
    "np.save(path + \"/present_PV_tempogram_array\", temp, allow_pickle= True)"
   ]
  },
  {
   "cell_type": "code",
   "execution_count": 19,
   "id": "d6bf375d",
   "metadata": {},
   "outputs": [
    {
     "data": {
      "text/plain": [
       "(1198, 192)"
      ]
     },
     "execution_count": 19,
     "metadata": {},
     "output_type": "execute_result"
    }
   ],
   "source": [
    "temp.shape"
   ]
  },
  {
   "cell_type": "code",
   "execution_count": 20,
   "id": "925ec0d1",
   "metadata": {},
   "outputs": [
    {
     "name": "stdout",
     "output_type": "stream",
     "text": [
      "['tempogram_0', 'tempogram_1', 'tempogram_2', 'tempogram_3', 'tempogram_4', 'tempogram_5', 'tempogram_6', 'tempogram_7', 'tempogram_8', 'tempogram_9', 'tempogram_10', 'tempogram_11', 'tempogram_12', 'tempogram_13', 'tempogram_14', 'tempogram_15', 'tempogram_16', 'tempogram_17', 'tempogram_18', 'tempogram_19', 'tempogram_20', 'tempogram_21', 'tempogram_22', 'tempogram_23', 'tempogram_24', 'tempogram_25', 'tempogram_26', 'tempogram_27', 'tempogram_28', 'tempogram_29', 'tempogram_30', 'tempogram_31', 'tempogram_32', 'tempogram_33', 'tempogram_34', 'tempogram_35', 'tempogram_36', 'tempogram_37', 'tempogram_38', 'tempogram_39', 'tempogram_40', 'tempogram_41', 'tempogram_42', 'tempogram_43', 'tempogram_44', 'tempogram_45', 'tempogram_46', 'tempogram_47', 'tempogram_48', 'tempogram_49', 'tempogram_50', 'tempogram_51', 'tempogram_52', 'tempogram_53', 'tempogram_54', 'tempogram_55', 'tempogram_56', 'tempogram_57', 'tempogram_58', 'tempogram_59', 'tempogram_60', 'tempogram_61', 'tempogram_62', 'tempogram_63', 'tempogram_64', 'tempogram_65', 'tempogram_66', 'tempogram_67', 'tempogram_68', 'tempogram_69', 'tempogram_70', 'tempogram_71', 'tempogram_72', 'tempogram_73', 'tempogram_74', 'tempogram_75', 'tempogram_76', 'tempogram_77', 'tempogram_78', 'tempogram_79', 'tempogram_80', 'tempogram_81', 'tempogram_82', 'tempogram_83', 'tempogram_84', 'tempogram_85', 'tempogram_86', 'tempogram_87', 'tempogram_88', 'tempogram_89', 'tempogram_90', 'tempogram_91', 'tempogram_92', 'tempogram_93', 'tempogram_94', 'tempogram_95', 'tempogram_96', 'tempogram_97', 'tempogram_98', 'tempogram_99', 'tempogram_100', 'tempogram_101', 'tempogram_102', 'tempogram_103', 'tempogram_104', 'tempogram_105', 'tempogram_106', 'tempogram_107', 'tempogram_108', 'tempogram_109', 'tempogram_110', 'tempogram_111', 'tempogram_112', 'tempogram_113', 'tempogram_114', 'tempogram_115', 'tempogram_116', 'tempogram_117', 'tempogram_118', 'tempogram_119', 'tempogram_120', 'tempogram_121', 'tempogram_122', 'tempogram_123', 'tempogram_124', 'tempogram_125', 'tempogram_126', 'tempogram_127', 'tempogram_128', 'tempogram_129', 'tempogram_130', 'tempogram_131', 'tempogram_132', 'tempogram_133', 'tempogram_134', 'tempogram_135', 'tempogram_136', 'tempogram_137', 'tempogram_138', 'tempogram_139', 'tempogram_140', 'tempogram_141', 'tempogram_142', 'tempogram_143', 'tempogram_144', 'tempogram_145', 'tempogram_146', 'tempogram_147', 'tempogram_148', 'tempogram_149', 'tempogram_150', 'tempogram_151', 'tempogram_152', 'tempogram_153', 'tempogram_154', 'tempogram_155', 'tempogram_156', 'tempogram_157', 'tempogram_158', 'tempogram_159', 'tempogram_160', 'tempogram_161', 'tempogram_162', 'tempogram_163', 'tempogram_164', 'tempogram_165', 'tempogram_166', 'tempogram_167', 'tempogram_168', 'tempogram_169', 'tempogram_170', 'tempogram_171', 'tempogram_172', 'tempogram_173', 'tempogram_174', 'tempogram_175', 'tempogram_176', 'tempogram_177', 'tempogram_178', 'tempogram_179', 'tempogram_180', 'tempogram_181', 'tempogram_182', 'tempogram_183', 'tempogram_184', 'tempogram_185', 'tempogram_186', 'tempogram_187', 'tempogram_188', 'tempogram_189', 'tempogram_190', 'tempogram_191']\n"
     ]
    }
   ],
   "source": [
    "columns_t = []\n",
    "for i in range(temp.shape[1]):\n",
    "    columns_t.append(\"tempogram_{}\".format(i))\n",
    "print(columns_t)"
   ]
  },
  {
   "cell_type": "code",
   "execution_count": 21,
   "id": "e5ef312f",
   "metadata": {},
   "outputs": [
    {
     "data": {
      "text/plain": [
       "192"
      ]
     },
     "execution_count": 21,
     "metadata": {},
     "output_type": "execute_result"
    }
   ],
   "source": [
    "len(columns_t)"
   ]
  },
  {
   "cell_type": "code",
   "execution_count": 24,
   "id": "c1f3b527",
   "metadata": {},
   "outputs": [
    {
     "data": {
      "text/html": [
       "<div>\n",
       "<style scoped>\n",
       "    .dataframe tbody tr th:only-of-type {\n",
       "        vertical-align: middle;\n",
       "    }\n",
       "\n",
       "    .dataframe tbody tr th {\n",
       "        vertical-align: top;\n",
       "    }\n",
       "\n",
       "    .dataframe thead th {\n",
       "        text-align: right;\n",
       "    }\n",
       "</style>\n",
       "<table border=\"1\" class=\"dataframe\">\n",
       "  <thead>\n",
       "    <tr style=\"text-align: right;\">\n",
       "      <th></th>\n",
       "      <th>tempogram_0</th>\n",
       "      <th>tempogram_1</th>\n",
       "      <th>tempogram_2</th>\n",
       "      <th>tempogram_3</th>\n",
       "      <th>tempogram_4</th>\n",
       "      <th>tempogram_5</th>\n",
       "      <th>tempogram_6</th>\n",
       "      <th>tempogram_7</th>\n",
       "      <th>tempogram_8</th>\n",
       "      <th>tempogram_9</th>\n",
       "      <th>...</th>\n",
       "      <th>tempogram_182</th>\n",
       "      <th>tempogram_183</th>\n",
       "      <th>tempogram_184</th>\n",
       "      <th>tempogram_185</th>\n",
       "      <th>tempogram_186</th>\n",
       "      <th>tempogram_187</th>\n",
       "      <th>tempogram_188</th>\n",
       "      <th>tempogram_189</th>\n",
       "      <th>tempogram_190</th>\n",
       "      <th>tempogram_191</th>\n",
       "    </tr>\n",
       "  </thead>\n",
       "  <tbody>\n",
       "    <tr>\n",
       "      <th>0</th>\n",
       "      <td>1.0</td>\n",
       "      <td>0.869964</td>\n",
       "      <td>0.707931</td>\n",
       "      <td>0.651308</td>\n",
       "      <td>0.685073</td>\n",
       "      <td>0.756092</td>\n",
       "      <td>0.765803</td>\n",
       "      <td>0.722458</td>\n",
       "      <td>0.685163</td>\n",
       "      <td>0.680484</td>\n",
       "      <td>...</td>\n",
       "      <td>0.0</td>\n",
       "      <td>0.0</td>\n",
       "      <td>0.0</td>\n",
       "      <td>0.0</td>\n",
       "      <td>0.0</td>\n",
       "      <td>-0.0</td>\n",
       "      <td>0.0</td>\n",
       "      <td>0.0</td>\n",
       "      <td>0.0</td>\n",
       "      <td>0.0</td>\n",
       "    </tr>\n",
       "    <tr>\n",
       "      <th>1</th>\n",
       "      <td>1.0</td>\n",
       "      <td>0.846305</td>\n",
       "      <td>0.627546</td>\n",
       "      <td>0.532354</td>\n",
       "      <td>0.548772</td>\n",
       "      <td>0.560142</td>\n",
       "      <td>0.535368</td>\n",
       "      <td>0.509864</td>\n",
       "      <td>0.537951</td>\n",
       "      <td>0.625426</td>\n",
       "      <td>...</td>\n",
       "      <td>0.0</td>\n",
       "      <td>0.0</td>\n",
       "      <td>0.0</td>\n",
       "      <td>0.0</td>\n",
       "      <td>0.0</td>\n",
       "      <td>-0.0</td>\n",
       "      <td>0.0</td>\n",
       "      <td>0.0</td>\n",
       "      <td>0.0</td>\n",
       "      <td>0.0</td>\n",
       "    </tr>\n",
       "    <tr>\n",
       "      <th>2</th>\n",
       "      <td>1.0</td>\n",
       "      <td>0.780674</td>\n",
       "      <td>0.489872</td>\n",
       "      <td>0.397215</td>\n",
       "      <td>0.479685</td>\n",
       "      <td>0.597127</td>\n",
       "      <td>0.594512</td>\n",
       "      <td>0.505375</td>\n",
       "      <td>0.424454</td>\n",
       "      <td>0.456429</td>\n",
       "      <td>...</td>\n",
       "      <td>-0.0</td>\n",
       "      <td>0.0</td>\n",
       "      <td>0.0</td>\n",
       "      <td>0.0</td>\n",
       "      <td>0.0</td>\n",
       "      <td>-0.0</td>\n",
       "      <td>0.0</td>\n",
       "      <td>0.0</td>\n",
       "      <td>0.0</td>\n",
       "      <td>0.0</td>\n",
       "    </tr>\n",
       "    <tr>\n",
       "      <th>3</th>\n",
       "      <td>1.0</td>\n",
       "      <td>0.778969</td>\n",
       "      <td>0.484204</td>\n",
       "      <td>0.360636</td>\n",
       "      <td>0.416983</td>\n",
       "      <td>0.516052</td>\n",
       "      <td>0.522251</td>\n",
       "      <td>0.458615</td>\n",
       "      <td>0.390761</td>\n",
       "      <td>0.412904</td>\n",
       "      <td>...</td>\n",
       "      <td>-0.0</td>\n",
       "      <td>0.0</td>\n",
       "      <td>0.0</td>\n",
       "      <td>0.0</td>\n",
       "      <td>0.0</td>\n",
       "      <td>-0.0</td>\n",
       "      <td>0.0</td>\n",
       "      <td>0.0</td>\n",
       "      <td>0.0</td>\n",
       "      <td>0.0</td>\n",
       "    </tr>\n",
       "    <tr>\n",
       "      <th>4</th>\n",
       "      <td>1.0</td>\n",
       "      <td>0.87089</td>\n",
       "      <td>0.663834</td>\n",
       "      <td>0.548104</td>\n",
       "      <td>0.515456</td>\n",
       "      <td>0.52115</td>\n",
       "      <td>0.521213</td>\n",
       "      <td>0.509559</td>\n",
       "      <td>0.52525</td>\n",
       "      <td>0.562378</td>\n",
       "      <td>...</td>\n",
       "      <td>-0.0</td>\n",
       "      <td>0.0</td>\n",
       "      <td>0.0</td>\n",
       "      <td>-0.0</td>\n",
       "      <td>0.0</td>\n",
       "      <td>-0.0</td>\n",
       "      <td>-0.0</td>\n",
       "      <td>0.0</td>\n",
       "      <td>-0.0</td>\n",
       "      <td>0.0</td>\n",
       "    </tr>\n",
       "    <tr>\n",
       "      <th>...</th>\n",
       "      <td>...</td>\n",
       "      <td>...</td>\n",
       "      <td>...</td>\n",
       "      <td>...</td>\n",
       "      <td>...</td>\n",
       "      <td>...</td>\n",
       "      <td>...</td>\n",
       "      <td>...</td>\n",
       "      <td>...</td>\n",
       "      <td>...</td>\n",
       "      <td>...</td>\n",
       "      <td>...</td>\n",
       "      <td>...</td>\n",
       "      <td>...</td>\n",
       "      <td>...</td>\n",
       "      <td>...</td>\n",
       "      <td>...</td>\n",
       "      <td>...</td>\n",
       "      <td>...</td>\n",
       "      <td>...</td>\n",
       "      <td>...</td>\n",
       "    </tr>\n",
       "    <tr>\n",
       "      <th>1193</th>\n",
       "      <td>1.0</td>\n",
       "      <td>0.697405</td>\n",
       "      <td>0.321711</td>\n",
       "      <td>0.291114</td>\n",
       "      <td>0.393916</td>\n",
       "      <td>0.407819</td>\n",
       "      <td>0.369321</td>\n",
       "      <td>0.366829</td>\n",
       "      <td>0.359247</td>\n",
       "      <td>0.346879</td>\n",
       "      <td>...</td>\n",
       "      <td>0.0</td>\n",
       "      <td>0.0</td>\n",
       "      <td>0.0</td>\n",
       "      <td>0.0</td>\n",
       "      <td>0.0</td>\n",
       "      <td>-0.0</td>\n",
       "      <td>0.0</td>\n",
       "      <td>0.0</td>\n",
       "      <td>0.0</td>\n",
       "      <td>0.0</td>\n",
       "    </tr>\n",
       "    <tr>\n",
       "      <th>1194</th>\n",
       "      <td>1.0</td>\n",
       "      <td>0.844596</td>\n",
       "      <td>0.605722</td>\n",
       "      <td>0.452775</td>\n",
       "      <td>0.414372</td>\n",
       "      <td>0.44441</td>\n",
       "      <td>0.493617</td>\n",
       "      <td>0.500581</td>\n",
       "      <td>0.4651</td>\n",
       "      <td>0.463384</td>\n",
       "      <td>...</td>\n",
       "      <td>0.0</td>\n",
       "      <td>0.0</td>\n",
       "      <td>0.0</td>\n",
       "      <td>0.0</td>\n",
       "      <td>0.0</td>\n",
       "      <td>-0.0</td>\n",
       "      <td>0.0</td>\n",
       "      <td>0.0</td>\n",
       "      <td>0.0</td>\n",
       "      <td>0.0</td>\n",
       "    </tr>\n",
       "    <tr>\n",
       "      <th>1195</th>\n",
       "      <td>1.0</td>\n",
       "      <td>0.821914</td>\n",
       "      <td>0.601569</td>\n",
       "      <td>0.448109</td>\n",
       "      <td>0.381916</td>\n",
       "      <td>0.29665</td>\n",
       "      <td>0.226488</td>\n",
       "      <td>0.227451</td>\n",
       "      <td>0.243146</td>\n",
       "      <td>0.263015</td>\n",
       "      <td>...</td>\n",
       "      <td>0.0</td>\n",
       "      <td>0.0</td>\n",
       "      <td>0.0</td>\n",
       "      <td>0.0</td>\n",
       "      <td>0.0</td>\n",
       "      <td>0.0</td>\n",
       "      <td>-0.0</td>\n",
       "      <td>0.0</td>\n",
       "      <td>0.0</td>\n",
       "      <td>0.0</td>\n",
       "    </tr>\n",
       "    <tr>\n",
       "      <th>1196</th>\n",
       "      <td>1.0</td>\n",
       "      <td>0.789112</td>\n",
       "      <td>0.487438</td>\n",
       "      <td>0.341567</td>\n",
       "      <td>0.339528</td>\n",
       "      <td>0.368023</td>\n",
       "      <td>0.355097</td>\n",
       "      <td>0.338034</td>\n",
       "      <td>0.332308</td>\n",
       "      <td>0.351293</td>\n",
       "      <td>...</td>\n",
       "      <td>0.0</td>\n",
       "      <td>0.0</td>\n",
       "      <td>0.0</td>\n",
       "      <td>0.0</td>\n",
       "      <td>0.0</td>\n",
       "      <td>-0.0</td>\n",
       "      <td>0.0</td>\n",
       "      <td>0.0</td>\n",
       "      <td>0.0</td>\n",
       "      <td>0.0</td>\n",
       "    </tr>\n",
       "    <tr>\n",
       "      <th>1197</th>\n",
       "      <td>1.0</td>\n",
       "      <td>0.894725</td>\n",
       "      <td>0.725527</td>\n",
       "      <td>0.631633</td>\n",
       "      <td>0.612544</td>\n",
       "      <td>0.623203</td>\n",
       "      <td>0.633189</td>\n",
       "      <td>0.6217</td>\n",
       "      <td>0.595381</td>\n",
       "      <td>0.58191</td>\n",
       "      <td>...</td>\n",
       "      <td>0.0</td>\n",
       "      <td>0.0</td>\n",
       "      <td>0.0</td>\n",
       "      <td>0.0</td>\n",
       "      <td>0.0</td>\n",
       "      <td>-0.0</td>\n",
       "      <td>0.0</td>\n",
       "      <td>0.0</td>\n",
       "      <td>0.0</td>\n",
       "      <td>0.0</td>\n",
       "    </tr>\n",
       "  </tbody>\n",
       "</table>\n",
       "<p>1198 rows × 192 columns</p>\n",
       "</div>"
      ],
      "text/plain": [
       "     tempogram_0 tempogram_1 tempogram_2 tempogram_3 tempogram_4 tempogram_5  \\\n",
       "0            1.0    0.869964    0.707931    0.651308    0.685073    0.756092   \n",
       "1            1.0    0.846305    0.627546    0.532354    0.548772    0.560142   \n",
       "2            1.0    0.780674    0.489872    0.397215    0.479685    0.597127   \n",
       "3            1.0    0.778969    0.484204    0.360636    0.416983    0.516052   \n",
       "4            1.0     0.87089    0.663834    0.548104    0.515456     0.52115   \n",
       "...          ...         ...         ...         ...         ...         ...   \n",
       "1193         1.0    0.697405    0.321711    0.291114    0.393916    0.407819   \n",
       "1194         1.0    0.844596    0.605722    0.452775    0.414372     0.44441   \n",
       "1195         1.0    0.821914    0.601569    0.448109    0.381916     0.29665   \n",
       "1196         1.0    0.789112    0.487438    0.341567    0.339528    0.368023   \n",
       "1197         1.0    0.894725    0.725527    0.631633    0.612544    0.623203   \n",
       "\n",
       "     tempogram_6 tempogram_7 tempogram_8 tempogram_9  ... tempogram_182  \\\n",
       "0       0.765803    0.722458    0.685163    0.680484  ...           0.0   \n",
       "1       0.535368    0.509864    0.537951    0.625426  ...           0.0   \n",
       "2       0.594512    0.505375    0.424454    0.456429  ...          -0.0   \n",
       "3       0.522251    0.458615    0.390761    0.412904  ...          -0.0   \n",
       "4       0.521213    0.509559     0.52525    0.562378  ...          -0.0   \n",
       "...          ...         ...         ...         ...  ...           ...   \n",
       "1193    0.369321    0.366829    0.359247    0.346879  ...           0.0   \n",
       "1194    0.493617    0.500581      0.4651    0.463384  ...           0.0   \n",
       "1195    0.226488    0.227451    0.243146    0.263015  ...           0.0   \n",
       "1196    0.355097    0.338034    0.332308    0.351293  ...           0.0   \n",
       "1197    0.633189      0.6217    0.595381     0.58191  ...           0.0   \n",
       "\n",
       "     tempogram_183 tempogram_184 tempogram_185 tempogram_186 tempogram_187  \\\n",
       "0              0.0           0.0           0.0           0.0          -0.0   \n",
       "1              0.0           0.0           0.0           0.0          -0.0   \n",
       "2              0.0           0.0           0.0           0.0          -0.0   \n",
       "3              0.0           0.0           0.0           0.0          -0.0   \n",
       "4              0.0           0.0          -0.0           0.0          -0.0   \n",
       "...            ...           ...           ...           ...           ...   \n",
       "1193           0.0           0.0           0.0           0.0          -0.0   \n",
       "1194           0.0           0.0           0.0           0.0          -0.0   \n",
       "1195           0.0           0.0           0.0           0.0           0.0   \n",
       "1196           0.0           0.0           0.0           0.0          -0.0   \n",
       "1197           0.0           0.0           0.0           0.0          -0.0   \n",
       "\n",
       "     tempogram_188 tempogram_189 tempogram_190 tempogram_191  \n",
       "0              0.0           0.0           0.0           0.0  \n",
       "1              0.0           0.0           0.0           0.0  \n",
       "2              0.0           0.0           0.0           0.0  \n",
       "3              0.0           0.0           0.0           0.0  \n",
       "4             -0.0           0.0          -0.0           0.0  \n",
       "...            ...           ...           ...           ...  \n",
       "1193           0.0           0.0           0.0           0.0  \n",
       "1194           0.0           0.0           0.0           0.0  \n",
       "1195          -0.0           0.0           0.0           0.0  \n",
       "1196           0.0           0.0           0.0           0.0  \n",
       "1197           0.0           0.0           0.0           0.0  \n",
       "\n",
       "[1198 rows x 192 columns]"
      ]
     },
     "execution_count": 24,
     "metadata": {},
     "output_type": "execute_result"
    }
   ],
   "source": [
    "df_t = dataframe_creator(temp,\n",
    "                         df =pd.DataFrame(columns = columns_t), columns = columns_t, l = 192)\n",
    "\n",
    "df_t.reset_index(drop = True, inplace = True)\n",
    "df_t"
   ]
  },
  {
   "cell_type": "code",
   "execution_count": 25,
   "id": "e627f4d5",
   "metadata": {},
   "outputs": [
    {
     "data": {
      "text/plain": [
       "1.6202653091365476e-17"
      ]
     },
     "execution_count": 25,
     "metadata": {},
     "output_type": "execute_result"
    }
   ],
   "source": [
    "df_t['tempogram_188'][10]"
   ]
  },
  {
   "cell_type": "code",
   "execution_count": 26,
   "id": "33bee52c",
   "metadata": {},
   "outputs": [],
   "source": [
    "df_t.to_csv(path + '/present_PV_tempogram.csv')"
   ]
  },
  {
   "cell_type": "code",
   "execution_count": 27,
   "id": "c2ae7b50",
   "metadata": {},
   "outputs": [
    {
     "data": {
      "text/plain": [
       "tempogram_0      0\n",
       "tempogram_1      0\n",
       "tempogram_2      0\n",
       "tempogram_3      0\n",
       "tempogram_4      0\n",
       "                ..\n",
       "tempogram_187    0\n",
       "tempogram_188    0\n",
       "tempogram_189    0\n",
       "tempogram_190    0\n",
       "tempogram_191    0\n",
       "Length: 192, dtype: int64"
      ]
     },
     "execution_count": 27,
     "metadata": {},
     "output_type": "execute_result"
    }
   ],
   "source": [
    "df_t.isin([0]).sum(axis=0)"
   ]
  },
  {
   "cell_type": "code",
   "execution_count": 28,
   "id": "0c13bdc2",
   "metadata": {},
   "outputs": [
    {
     "ename": "NameError",
     "evalue": "name 'df' is not defined",
     "output_type": "error",
     "traceback": [
      "\u001b[0;31m---------------------------------------------------------------------------\u001b[0m",
      "\u001b[0;31mNameError\u001b[0m                                 Traceback (most recent call last)",
      "\u001b[0;32m/var/folders/gd/3d6ckpdn4q30skhxnvs_p7b80000gn/T/ipykernel_12591/3207157009.py\u001b[0m in \u001b[0;36m<module>\u001b[0;34m\u001b[0m\n\u001b[0;32m----> 1\u001b[0;31m \u001b[0mfinal_df\u001b[0m \u001b[0;34m=\u001b[0m \u001b[0mpd\u001b[0m\u001b[0;34m.\u001b[0m\u001b[0mconcat\u001b[0m\u001b[0;34m(\u001b[0m\u001b[0;34m[\u001b[0m\u001b[0mdf\u001b[0m\u001b[0;34m,\u001b[0m \u001b[0mch_df\u001b[0m\u001b[0;34m]\u001b[0m\u001b[0;34m,\u001b[0m \u001b[0maxis\u001b[0m \u001b[0;34m=\u001b[0m\u001b[0;36m1\u001b[0m\u001b[0;34m)\u001b[0m\u001b[0;34m\u001b[0m\u001b[0;34m\u001b[0m\u001b[0m\n\u001b[0m\u001b[1;32m      2\u001b[0m \u001b[0mfinal_df\u001b[0m\u001b[0;34m\u001b[0m\u001b[0;34m\u001b[0m\u001b[0m\n",
      "\u001b[0;31mNameError\u001b[0m: name 'df' is not defined"
     ]
    }
   ],
   "source": [
    "final_df = pd.concat([df, ch_df], axis =1)\n",
    "final_df"
   ]
  },
  {
   "cell_type": "code",
   "execution_count": 56,
   "id": "32a62976",
   "metadata": {},
   "outputs": [
    {
     "data": {
      "text/html": [
       "<div>\n",
       "<style scoped>\n",
       "    .dataframe tbody tr th:only-of-type {\n",
       "        vertical-align: middle;\n",
       "    }\n",
       "\n",
       "    .dataframe tbody tr th {\n",
       "        vertical-align: top;\n",
       "    }\n",
       "\n",
       "    .dataframe thead th {\n",
       "        text-align: right;\n",
       "    }\n",
       "</style>\n",
       "<table border=\"1\" class=\"dataframe\">\n",
       "  <thead>\n",
       "    <tr style=\"text-align: right;\">\n",
       "      <th></th>\n",
       "      <th>zcrs0</th>\n",
       "      <th>zcrs1</th>\n",
       "      <th>zcrs2</th>\n",
       "      <th>zcrs3</th>\n",
       "      <th>#ofcrossing</th>\n",
       "      <th>C</th>\n",
       "      <th>C♯</th>\n",
       "      <th>D</th>\n",
       "      <th>D♯</th>\n",
       "      <th>E</th>\n",
       "      <th>...</th>\n",
       "      <th>tempogram_182</th>\n",
       "      <th>tempogram_183</th>\n",
       "      <th>tempogram_184</th>\n",
       "      <th>tempogram_185</th>\n",
       "      <th>tempogram_186</th>\n",
       "      <th>tempogram_187</th>\n",
       "      <th>tempogram_188</th>\n",
       "      <th>tempogram_189</th>\n",
       "      <th>tempogram_190</th>\n",
       "      <th>tempogram_191</th>\n",
       "    </tr>\n",
       "  </thead>\n",
       "  <tbody>\n",
       "    <tr>\n",
       "      <th>0</th>\n",
       "      <td>0.016000</td>\n",
       "      <td>0.028875</td>\n",
       "      <td>0.029625</td>\n",
       "      <td>0.046125</td>\n",
       "      <td>1387.0</td>\n",
       "      <td>0.361276</td>\n",
       "      <td>0.18809</td>\n",
       "      <td>0.0868</td>\n",
       "      <td>0.138867</td>\n",
       "      <td>0.267305</td>\n",
       "      <td>...</td>\n",
       "      <td>0.0</td>\n",
       "      <td>0.0</td>\n",
       "      <td>0.0</td>\n",
       "      <td>0.0</td>\n",
       "      <td>0.0</td>\n",
       "      <td>-0.0</td>\n",
       "      <td>0.0</td>\n",
       "      <td>0.0</td>\n",
       "      <td>0.0</td>\n",
       "      <td>0.0</td>\n",
       "    </tr>\n",
       "    <tr>\n",
       "      <th>1</th>\n",
       "      <td>0.024750</td>\n",
       "      <td>0.034750</td>\n",
       "      <td>0.033375</td>\n",
       "      <td>0.029875</td>\n",
       "      <td>1411.0</td>\n",
       "      <td>0.4076</td>\n",
       "      <td>0.494801</td>\n",
       "      <td>0.558321</td>\n",
       "      <td>0.350664</td>\n",
       "      <td>0.238178</td>\n",
       "      <td>...</td>\n",
       "      <td>0.0</td>\n",
       "      <td>0.0</td>\n",
       "      <td>0.0</td>\n",
       "      <td>0.0</td>\n",
       "      <td>0.0</td>\n",
       "      <td>-0.0</td>\n",
       "      <td>0.0</td>\n",
       "      <td>0.0</td>\n",
       "      <td>0.0</td>\n",
       "      <td>0.0</td>\n",
       "    </tr>\n",
       "    <tr>\n",
       "      <th>2</th>\n",
       "      <td>0.014625</td>\n",
       "      <td>0.032750</td>\n",
       "      <td>0.025875</td>\n",
       "      <td>0.032125</td>\n",
       "      <td>1189.0</td>\n",
       "      <td>0.482642</td>\n",
       "      <td>0.461671</td>\n",
       "      <td>0.450648</td>\n",
       "      <td>0.566977</td>\n",
       "      <td>0.637708</td>\n",
       "      <td>...</td>\n",
       "      <td>-0.0</td>\n",
       "      <td>0.0</td>\n",
       "      <td>0.0</td>\n",
       "      <td>0.0</td>\n",
       "      <td>0.0</td>\n",
       "      <td>-0.0</td>\n",
       "      <td>0.0</td>\n",
       "      <td>0.0</td>\n",
       "      <td>0.0</td>\n",
       "      <td>0.0</td>\n",
       "    </tr>\n",
       "    <tr>\n",
       "      <th>3</th>\n",
       "      <td>0.011875</td>\n",
       "      <td>0.033000</td>\n",
       "      <td>0.022000</td>\n",
       "      <td>0.043750</td>\n",
       "      <td>1266.0</td>\n",
       "      <td>0.238385</td>\n",
       "      <td>0.248205</td>\n",
       "      <td>0.273198</td>\n",
       "      <td>0.329084</td>\n",
       "      <td>0.295685</td>\n",
       "      <td>...</td>\n",
       "      <td>-0.0</td>\n",
       "      <td>0.0</td>\n",
       "      <td>0.0</td>\n",
       "      <td>0.0</td>\n",
       "      <td>0.0</td>\n",
       "      <td>-0.0</td>\n",
       "      <td>0.0</td>\n",
       "      <td>0.0</td>\n",
       "      <td>0.0</td>\n",
       "      <td>0.0</td>\n",
       "    </tr>\n",
       "    <tr>\n",
       "      <th>4</th>\n",
       "      <td>0.014250</td>\n",
       "      <td>0.046625</td>\n",
       "      <td>0.047625</td>\n",
       "      <td>0.047125</td>\n",
       "      <td>1685.0</td>\n",
       "      <td>0.240413</td>\n",
       "      <td>0.247287</td>\n",
       "      <td>0.432816</td>\n",
       "      <td>0.897314</td>\n",
       "      <td>0.509179</td>\n",
       "      <td>...</td>\n",
       "      <td>-0.0</td>\n",
       "      <td>0.0</td>\n",
       "      <td>0.0</td>\n",
       "      <td>-0.0</td>\n",
       "      <td>0.0</td>\n",
       "      <td>-0.0</td>\n",
       "      <td>-0.0</td>\n",
       "      <td>0.0</td>\n",
       "      <td>-0.0</td>\n",
       "      <td>0.0</td>\n",
       "    </tr>\n",
       "    <tr>\n",
       "      <th>...</th>\n",
       "      <td>...</td>\n",
       "      <td>...</td>\n",
       "      <td>...</td>\n",
       "      <td>...</td>\n",
       "      <td>...</td>\n",
       "      <td>...</td>\n",
       "      <td>...</td>\n",
       "      <td>...</td>\n",
       "      <td>...</td>\n",
       "      <td>...</td>\n",
       "      <td>...</td>\n",
       "      <td>...</td>\n",
       "      <td>...</td>\n",
       "      <td>...</td>\n",
       "      <td>...</td>\n",
       "      <td>...</td>\n",
       "      <td>...</td>\n",
       "      <td>...</td>\n",
       "      <td>...</td>\n",
       "      <td>...</td>\n",
       "      <td>...</td>\n",
       "    </tr>\n",
       "    <tr>\n",
       "      <th>1193</th>\n",
       "      <td>0.024375</td>\n",
       "      <td>0.037250</td>\n",
       "      <td>0.028125</td>\n",
       "      <td>0.021750</td>\n",
       "      <td>1237.0</td>\n",
       "      <td>0.787261</td>\n",
       "      <td>0.866237</td>\n",
       "      <td>0.854227</td>\n",
       "      <td>0.531692</td>\n",
       "      <td>0.457695</td>\n",
       "      <td>...</td>\n",
       "      <td>0.0</td>\n",
       "      <td>0.0</td>\n",
       "      <td>0.0</td>\n",
       "      <td>0.0</td>\n",
       "      <td>0.0</td>\n",
       "      <td>-0.0</td>\n",
       "      <td>0.0</td>\n",
       "      <td>0.0</td>\n",
       "      <td>0.0</td>\n",
       "      <td>0.0</td>\n",
       "    </tr>\n",
       "    <tr>\n",
       "      <th>1194</th>\n",
       "      <td>0.022875</td>\n",
       "      <td>0.026125</td>\n",
       "      <td>0.027250</td>\n",
       "      <td>0.015125</td>\n",
       "      <td>1170.0</td>\n",
       "      <td>0.612268</td>\n",
       "      <td>0.83509</td>\n",
       "      <td>0.799304</td>\n",
       "      <td>0.670258</td>\n",
       "      <td>0.696083</td>\n",
       "      <td>...</td>\n",
       "      <td>0.0</td>\n",
       "      <td>0.0</td>\n",
       "      <td>0.0</td>\n",
       "      <td>0.0</td>\n",
       "      <td>0.0</td>\n",
       "      <td>-0.0</td>\n",
       "      <td>0.0</td>\n",
       "      <td>0.0</td>\n",
       "      <td>0.0</td>\n",
       "      <td>0.0</td>\n",
       "    </tr>\n",
       "    <tr>\n",
       "      <th>1195</th>\n",
       "      <td>0.023250</td>\n",
       "      <td>0.038750</td>\n",
       "      <td>0.025000</td>\n",
       "      <td>0.038625</td>\n",
       "      <td>1696.0</td>\n",
       "      <td>0.696603</td>\n",
       "      <td>0.744654</td>\n",
       "      <td>0.728119</td>\n",
       "      <td>0.633169</td>\n",
       "      <td>0.689976</td>\n",
       "      <td>...</td>\n",
       "      <td>0.0</td>\n",
       "      <td>0.0</td>\n",
       "      <td>0.0</td>\n",
       "      <td>0.0</td>\n",
       "      <td>0.0</td>\n",
       "      <td>0.0</td>\n",
       "      <td>-0.0</td>\n",
       "      <td>0.0</td>\n",
       "      <td>0.0</td>\n",
       "      <td>0.0</td>\n",
       "    </tr>\n",
       "    <tr>\n",
       "      <th>1196</th>\n",
       "      <td>0.023125</td>\n",
       "      <td>0.024125</td>\n",
       "      <td>0.029875</td>\n",
       "      <td>0.063250</td>\n",
       "      <td>1815.0</td>\n",
       "      <td>0.655882</td>\n",
       "      <td>0.696401</td>\n",
       "      <td>0.602679</td>\n",
       "      <td>0.480421</td>\n",
       "      <td>0.448376</td>\n",
       "      <td>...</td>\n",
       "      <td>0.0</td>\n",
       "      <td>0.0</td>\n",
       "      <td>0.0</td>\n",
       "      <td>0.0</td>\n",
       "      <td>0.0</td>\n",
       "      <td>-0.0</td>\n",
       "      <td>0.0</td>\n",
       "      <td>0.0</td>\n",
       "      <td>0.0</td>\n",
       "      <td>0.0</td>\n",
       "    </tr>\n",
       "    <tr>\n",
       "      <th>1197</th>\n",
       "      <td>0.007875</td>\n",
       "      <td>0.023500</td>\n",
       "      <td>0.040250</td>\n",
       "      <td>0.025500</td>\n",
       "      <td>1086.0</td>\n",
       "      <td>0.79135</td>\n",
       "      <td>0.789595</td>\n",
       "      <td>0.865578</td>\n",
       "      <td>0.622164</td>\n",
       "      <td>0.467693</td>\n",
       "      <td>...</td>\n",
       "      <td>0.0</td>\n",
       "      <td>0.0</td>\n",
       "      <td>0.0</td>\n",
       "      <td>0.0</td>\n",
       "      <td>0.0</td>\n",
       "      <td>-0.0</td>\n",
       "      <td>0.0</td>\n",
       "      <td>0.0</td>\n",
       "      <td>0.0</td>\n",
       "      <td>0.0</td>\n",
       "    </tr>\n",
       "  </tbody>\n",
       "</table>\n",
       "<p>1198 rows × 209 columns</p>\n",
       "</div>"
      ],
      "text/plain": [
       "         zcrs0     zcrs1     zcrs2     zcrs3  #ofcrossing         C        C♯  \\\n",
       "0     0.016000  0.028875  0.029625  0.046125       1387.0  0.361276   0.18809   \n",
       "1     0.024750  0.034750  0.033375  0.029875       1411.0    0.4076  0.494801   \n",
       "2     0.014625  0.032750  0.025875  0.032125       1189.0  0.482642  0.461671   \n",
       "3     0.011875  0.033000  0.022000  0.043750       1266.0  0.238385  0.248205   \n",
       "4     0.014250  0.046625  0.047625  0.047125       1685.0  0.240413  0.247287   \n",
       "...        ...       ...       ...       ...          ...       ...       ...   \n",
       "1193  0.024375  0.037250  0.028125  0.021750       1237.0  0.787261  0.866237   \n",
       "1194  0.022875  0.026125  0.027250  0.015125       1170.0  0.612268   0.83509   \n",
       "1195  0.023250  0.038750  0.025000  0.038625       1696.0  0.696603  0.744654   \n",
       "1196  0.023125  0.024125  0.029875  0.063250       1815.0  0.655882  0.696401   \n",
       "1197  0.007875  0.023500  0.040250  0.025500       1086.0   0.79135  0.789595   \n",
       "\n",
       "             D        D♯         E  ... tempogram_182 tempogram_183  \\\n",
       "0       0.0868  0.138867  0.267305  ...           0.0           0.0   \n",
       "1     0.558321  0.350664  0.238178  ...           0.0           0.0   \n",
       "2     0.450648  0.566977  0.637708  ...          -0.0           0.0   \n",
       "3     0.273198  0.329084  0.295685  ...          -0.0           0.0   \n",
       "4     0.432816  0.897314  0.509179  ...          -0.0           0.0   \n",
       "...        ...       ...       ...  ...           ...           ...   \n",
       "1193  0.854227  0.531692  0.457695  ...           0.0           0.0   \n",
       "1194  0.799304  0.670258  0.696083  ...           0.0           0.0   \n",
       "1195  0.728119  0.633169  0.689976  ...           0.0           0.0   \n",
       "1196  0.602679  0.480421  0.448376  ...           0.0           0.0   \n",
       "1197  0.865578  0.622164  0.467693  ...           0.0           0.0   \n",
       "\n",
       "     tempogram_184 tempogram_185 tempogram_186 tempogram_187 tempogram_188  \\\n",
       "0              0.0           0.0           0.0          -0.0           0.0   \n",
       "1              0.0           0.0           0.0          -0.0           0.0   \n",
       "2              0.0           0.0           0.0          -0.0           0.0   \n",
       "3              0.0           0.0           0.0          -0.0           0.0   \n",
       "4              0.0          -0.0           0.0          -0.0          -0.0   \n",
       "...            ...           ...           ...           ...           ...   \n",
       "1193           0.0           0.0           0.0          -0.0           0.0   \n",
       "1194           0.0           0.0           0.0          -0.0           0.0   \n",
       "1195           0.0           0.0           0.0           0.0          -0.0   \n",
       "1196           0.0           0.0           0.0          -0.0           0.0   \n",
       "1197           0.0           0.0           0.0          -0.0           0.0   \n",
       "\n",
       "     tempogram_189 tempogram_190 tempogram_191  \n",
       "0              0.0           0.0           0.0  \n",
       "1              0.0           0.0           0.0  \n",
       "2              0.0           0.0           0.0  \n",
       "3              0.0           0.0           0.0  \n",
       "4              0.0          -0.0           0.0  \n",
       "...            ...           ...           ...  \n",
       "1193           0.0           0.0           0.0  \n",
       "1194           0.0           0.0           0.0  \n",
       "1195           0.0           0.0           0.0  \n",
       "1196           0.0           0.0           0.0  \n",
       "1197           0.0           0.0           0.0  \n",
       "\n",
       "[1198 rows x 209 columns]"
      ]
     },
     "execution_count": 56,
     "metadata": {},
     "output_type": "execute_result"
    }
   ],
   "source": [
    "final_df = pd.concat([final_df, df_t], axis=1)\n",
    "final_df"
   ]
  },
  {
   "cell_type": "code",
   "execution_count": 57,
   "id": "7c0247a6",
   "metadata": {},
   "outputs": [],
   "source": [
    "final_df.to_csv(path + '/present_PV_final_sp.csv')"
   ]
  },
  {
   "cell_type": "code",
   "execution_count": null,
   "id": "c49dade0",
   "metadata": {},
   "outputs": [],
   "source": []
  },
  {
   "cell_type": "code",
   "execution_count": null,
   "id": "5900dbe9",
   "metadata": {},
   "outputs": [],
   "source": []
  }
 ],
 "metadata": {
  "kernelspec": {
   "display_name": "Python 3 (ipykernel)",
   "language": "python",
   "name": "python3"
  },
  "language_info": {
   "codemirror_mode": {
    "name": "ipython",
    "version": 3
   },
   "file_extension": ".py",
   "mimetype": "text/x-python",
   "name": "python",
   "nbconvert_exporter": "python",
   "pygments_lexer": "ipython3",
   "version": "3.9.9"
  }
 },
 "nbformat": 4,
 "nbformat_minor": 5
}
