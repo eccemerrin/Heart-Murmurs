{
 "cells": [
  {
   "cell_type": "markdown",
   "id": "22776b7f",
   "metadata": {},
   "source": [
    "### Source : http://practicalcryptography.com/miscellaneous/machine-learning/guide-mel-frequency-cepstral-coefficients-mfccs/"
   ]
  },
  {
   "cell_type": "code",
   "execution_count": 1,
   "id": "2e9acd3c",
   "metadata": {},
   "outputs": [],
   "source": [
    "import matplotlib.pyplot as plt\n",
    "import numpy as np\n",
    "import scipy.signal"
   ]
  },
  {
   "cell_type": "code",
   "execution_count": 2,
   "id": "5f9a7800",
   "metadata": {},
   "outputs": [],
   "source": [
    "path = \"/Users/ecem/Desktop/phonocardiogram/data/PV/present\""
   ]
  },
  {
   "cell_type": "code",
   "execution_count": 3,
   "id": "a473ad37",
   "metadata": {},
   "outputs": [],
   "source": [
    "waves = np.load(path + \"/present_PV_waves_10sec.npy\", allow_pickle= True)"
   ]
  },
  {
   "cell_type": "code",
   "execution_count": 4,
   "id": "e55a65f3",
   "metadata": {},
   "outputs": [],
   "source": [
    "n = waves.shape[0]"
   ]
  },
  {
   "cell_type": "code",
   "execution_count": 5,
   "id": "4fade6e1",
   "metadata": {},
   "outputs": [],
   "source": [
    "import librosa as lbs"
   ]
  },
  {
   "cell_type": "code",
   "execution_count": 6,
   "id": "89c64773",
   "metadata": {},
   "outputs": [
    {
     "data": {
      "text/plain": [
       "(13, 79)"
      ]
     },
     "execution_count": 6,
     "metadata": {},
     "output_type": "execute_result"
    }
   ],
   "source": [
    "lbs.feature.mfcc(y=waves[0], sr=4000, win_length = 100, n_mfcc=13).shape"
   ]
  },
  {
   "cell_type": "code",
   "execution_count": 7,
   "id": "c43d8523",
   "metadata": {},
   "outputs": [
    {
     "data": {
      "text/plain": [
       "-689.0596"
      ]
     },
     "execution_count": 7,
     "metadata": {},
     "output_type": "execute_result"
    }
   ],
   "source": [
    "lbs.feature.mfcc(y=waves[0], sr=4000, win_length = 100, n_mfcc=13)[0].mean()"
   ]
  },
  {
   "cell_type": "code",
   "execution_count": 8,
   "id": "4d774edf",
   "metadata": {},
   "outputs": [],
   "source": [
    "mfccs = lbs.feature.mfcc(y=waves[0], sr=4000, win_length = 100, n_mfcc=13)"
   ]
  },
  {
   "cell_type": "code",
   "execution_count": 9,
   "id": "37e8a5ef",
   "metadata": {},
   "outputs": [],
   "source": [
    "import librosa.display"
   ]
  },
  {
   "cell_type": "code",
   "execution_count": 10,
   "id": "031f7d04",
   "metadata": {},
   "outputs": [
    {
     "data": {
      "text/plain": [
       "[Text(0.5, 1.0, 'MFCC')]"
      ]
     },
     "execution_count": 10,
     "metadata": {},
     "output_type": "execute_result"
    },
    {
     "data": {
      "image/png": "[encoded data removed]",
      "text/plain": [
       "<Figure size 432x288 with 2 Axes>"
      ]
     },
     "metadata": {
      "needs_background": "light"
     },
     "output_type": "display_data"
    }
   ],
   "source": [
    ">>> import matplotlib.pyplot as plt\n",
    ">>> fig, ax = plt.subplots(nrows=1, sharex=True)\n",
    ">>> img = librosa.display.specshow(mfccs, x_axis='time', ax=ax)\n",
    ">>> fig.colorbar(img, ax=[ax])\n",
    ">>> ax.set(title='MFCC')"
   ]
  },
  {
   "cell_type": "code",
   "execution_count": 11,
   "id": "a9cf23b8",
   "metadata": {},
   "outputs": [],
   "source": [
    "mfccs = np.empty((n, 13))\n",
    "for i in range(waves.shape[0]):\n",
    "    mfcc = lbs.feature.mfcc(y=waves[i], sr=4000, win_length = 100, n_mfcc=13)\n",
    "    for j in range(13):\n",
    "        mfccs[i, j] = mfcc[j].mean()\n",
    "    "
   ]
  },
  {
   "cell_type": "code",
   "execution_count": 12,
   "id": "22bce509",
   "metadata": {},
   "outputs": [
    {
     "data": {
      "text/plain": [
       "(1198, 13)"
      ]
     },
     "execution_count": 12,
     "metadata": {},
     "output_type": "execute_result"
    }
   ],
   "source": [
    "mfccs.shape"
   ]
  },
  {
   "cell_type": "code",
   "execution_count": 13,
   "id": "ae8c91d3",
   "metadata": {},
   "outputs": [],
   "source": [
    "import pandas as pd"
   ]
  },
  {
   "cell_type": "code",
   "execution_count": 14,
   "id": "a8d81f75",
   "metadata": {},
   "outputs": [],
   "source": [
    "columns = []\n",
    "for i in range(13):\n",
    "    columns.append(\"{}'th mfcc\".format(i))"
   ]
  },
  {
   "cell_type": "code",
   "execution_count": 15,
   "id": "ec9136db",
   "metadata": {},
   "outputs": [],
   "source": [
    "mfccs_df = pd.DataFrame(mfccs, columns = columns)"
   ]
  },
  {
   "cell_type": "code",
   "execution_count": 16,
   "id": "70348867",
   "metadata": {},
   "outputs": [
    {
     "data": {
      "text/html": [
       "<div>\n",
       "<style scoped>\n",
       "    .dataframe tbody tr th:only-of-type {\n",
       "        vertical-align: middle;\n",
       "    }\n",
       "\n",
       "    .dataframe tbody tr th {\n",
       "        vertical-align: top;\n",
       "    }\n",
       "\n",
       "    .dataframe thead th {\n",
       "        text-align: right;\n",
       "    }\n",
       "</style>\n",
       "<table border=\"1\" class=\"dataframe\">\n",
       "  <thead>\n",
       "    <tr style=\"text-align: right;\">\n",
       "      <th></th>\n",
       "      <th>0'th mfcc</th>\n",
       "      <th>1'th mfcc</th>\n",
       "      <th>2'th mfcc</th>\n",
       "      <th>3'th mfcc</th>\n",
       "      <th>4'th mfcc</th>\n",
       "      <th>5'th mfcc</th>\n",
       "      <th>6'th mfcc</th>\n",
       "      <th>7'th mfcc</th>\n",
       "      <th>8'th mfcc</th>\n",
       "      <th>9'th mfcc</th>\n",
       "      <th>10'th mfcc</th>\n",
       "      <th>11'th mfcc</th>\n",
       "      <th>12'th mfcc</th>\n",
       "    </tr>\n",
       "  </thead>\n",
       "  <tbody>\n",
       "    <tr>\n",
       "      <th>0</th>\n",
       "      <td>-689.059570</td>\n",
       "      <td>152.737457</td>\n",
       "      <td>122.003586</td>\n",
       "      <td>81.106049</td>\n",
       "      <td>40.274704</td>\n",
       "      <td>8.716906</td>\n",
       "      <td>-8.650848</td>\n",
       "      <td>-12.044303</td>\n",
       "      <td>-5.843631</td>\n",
       "      <td>3.707737</td>\n",
       "      <td>11.006802</td>\n",
       "      <td>12.881623</td>\n",
       "      <td>9.133995</td>\n",
       "    </tr>\n",
       "    <tr>\n",
       "      <th>1</th>\n",
       "      <td>-644.720154</td>\n",
       "      <td>139.461487</td>\n",
       "      <td>112.670235</td>\n",
       "      <td>76.771538</td>\n",
       "      <td>40.323620</td>\n",
       "      <td>11.320131</td>\n",
       "      <td>-5.643763</td>\n",
       "      <td>-10.209087</td>\n",
       "      <td>-5.671854</td>\n",
       "      <td>2.769334</td>\n",
       "      <td>10.076153</td>\n",
       "      <td>13.005941</td>\n",
       "      <td>10.800572</td>\n",
       "    </tr>\n",
       "    <tr>\n",
       "      <th>2</th>\n",
       "      <td>-676.014099</td>\n",
       "      <td>134.442245</td>\n",
       "      <td>110.893082</td>\n",
       "      <td>78.834686</td>\n",
       "      <td>45.232658</td>\n",
       "      <td>16.961487</td>\n",
       "      <td>-1.569465</td>\n",
       "      <td>-9.230370</td>\n",
       "      <td>-7.979504</td>\n",
       "      <td>-1.707049</td>\n",
       "      <td>5.305247</td>\n",
       "      <td>9.784348</td>\n",
       "      <td>10.266252</td>\n",
       "    </tr>\n",
       "    <tr>\n",
       "      <th>3</th>\n",
       "      <td>-688.286865</td>\n",
       "      <td>140.934540</td>\n",
       "      <td>115.646271</td>\n",
       "      <td>81.306480</td>\n",
       "      <td>45.608959</td>\n",
       "      <td>16.031603</td>\n",
       "      <td>-2.759377</td>\n",
       "      <td>-9.805824</td>\n",
       "      <td>-7.565494</td>\n",
       "      <td>-0.519465</td>\n",
       "      <td>6.629323</td>\n",
       "      <td>10.521493</td>\n",
       "      <td>9.944338</td>\n",
       "    </tr>\n",
       "    <tr>\n",
       "      <th>4</th>\n",
       "      <td>-674.941467</td>\n",
       "      <td>154.388153</td>\n",
       "      <td>123.243042</td>\n",
       "      <td>81.476608</td>\n",
       "      <td>39.264446</td>\n",
       "      <td>5.966022</td>\n",
       "      <td>-13.108571</td>\n",
       "      <td>-17.652740</td>\n",
       "      <td>-11.601338</td>\n",
       "      <td>-1.023376</td>\n",
       "      <td>8.301964</td>\n",
       "      <td>12.744805</td>\n",
       "      <td>11.537683</td>\n",
       "    </tr>\n",
       "    <tr>\n",
       "      <th>...</th>\n",
       "      <td>...</td>\n",
       "      <td>...</td>\n",
       "      <td>...</td>\n",
       "      <td>...</td>\n",
       "      <td>...</td>\n",
       "      <td>...</td>\n",
       "      <td>...</td>\n",
       "      <td>...</td>\n",
       "      <td>...</td>\n",
       "      <td>...</td>\n",
       "      <td>...</td>\n",
       "      <td>...</td>\n",
       "      <td>...</td>\n",
       "    </tr>\n",
       "    <tr>\n",
       "      <th>1193</th>\n",
       "      <td>-604.588135</td>\n",
       "      <td>135.191193</td>\n",
       "      <td>108.505379</td>\n",
       "      <td>72.547951</td>\n",
       "      <td>35.770668</td>\n",
       "      <td>6.280665</td>\n",
       "      <td>-11.005919</td>\n",
       "      <td>-15.368634</td>\n",
       "      <td>-9.909532</td>\n",
       "      <td>0.088131</td>\n",
       "      <td>9.277061</td>\n",
       "      <td>14.056322</td>\n",
       "      <td>13.436970</td>\n",
       "    </tr>\n",
       "    <tr>\n",
       "      <th>1194</th>\n",
       "      <td>-604.541809</td>\n",
       "      <td>122.287590</td>\n",
       "      <td>99.213593</td>\n",
       "      <td>67.689079</td>\n",
       "      <td>35.228634</td>\n",
       "      <td>8.579655</td>\n",
       "      <td>-7.866748</td>\n",
       "      <td>-13.066180</td>\n",
       "      <td>-9.245117</td>\n",
       "      <td>-0.656319</td>\n",
       "      <td>8.135544</td>\n",
       "      <td>13.708840</td>\n",
       "      <td>14.635028</td>\n",
       "    </tr>\n",
       "    <tr>\n",
       "      <th>1195</th>\n",
       "      <td>-654.538574</td>\n",
       "      <td>149.616989</td>\n",
       "      <td>117.089806</td>\n",
       "      <td>73.970039</td>\n",
       "      <td>31.287647</td>\n",
       "      <td>-1.150291</td>\n",
       "      <td>-18.165079</td>\n",
       "      <td>-20.014488</td>\n",
       "      <td>-11.309918</td>\n",
       "      <td>1.381871</td>\n",
       "      <td>12.092075</td>\n",
       "      <td>17.269474</td>\n",
       "      <td>16.360174</td>\n",
       "    </tr>\n",
       "    <tr>\n",
       "      <th>1196</th>\n",
       "      <td>-659.801697</td>\n",
       "      <td>156.523148</td>\n",
       "      <td>121.987724</td>\n",
       "      <td>76.577370</td>\n",
       "      <td>31.880554</td>\n",
       "      <td>-1.908327</td>\n",
       "      <td>-19.561769</td>\n",
       "      <td>-21.513870</td>\n",
       "      <td>-12.637712</td>\n",
       "      <td>0.257505</td>\n",
       "      <td>11.037302</td>\n",
       "      <td>16.101336</td>\n",
       "      <td>14.964811</td>\n",
       "    </tr>\n",
       "    <tr>\n",
       "      <th>1197</th>\n",
       "      <td>-588.212769</td>\n",
       "      <td>123.105446</td>\n",
       "      <td>99.431854</td>\n",
       "      <td>67.381561</td>\n",
       "      <td>34.286587</td>\n",
       "      <td>7.351641</td>\n",
       "      <td>-8.873289</td>\n",
       "      <td>-13.430731</td>\n",
       "      <td>-8.764174</td>\n",
       "      <td>0.586286</td>\n",
       "      <td>9.767199</td>\n",
       "      <td>15.234776</td>\n",
       "      <td>15.649593</td>\n",
       "    </tr>\n",
       "  </tbody>\n",
       "</table>\n",
       "<p>1198 rows × 13 columns</p>\n",
       "</div>"
      ],
      "text/plain": [
       "       0'th mfcc   1'th mfcc   2'th mfcc  3'th mfcc  4'th mfcc  5'th mfcc  \\\n",
       "0    -689.059570  152.737457  122.003586  81.106049  40.274704   8.716906   \n",
       "1    -644.720154  139.461487  112.670235  76.771538  40.323620  11.320131   \n",
       "2    -676.014099  134.442245  110.893082  78.834686  45.232658  16.961487   \n",
       "3    -688.286865  140.934540  115.646271  81.306480  45.608959  16.031603   \n",
       "4    -674.941467  154.388153  123.243042  81.476608  39.264446   5.966022   \n",
       "...          ...         ...         ...        ...        ...        ...   \n",
       "1193 -604.588135  135.191193  108.505379  72.547951  35.770668   6.280665   \n",
       "1194 -604.541809  122.287590   99.213593  67.689079  35.228634   8.579655   \n",
       "1195 -654.538574  149.616989  117.089806  73.970039  31.287647  -1.150291   \n",
       "1196 -659.801697  156.523148  121.987724  76.577370  31.880554  -1.908327   \n",
       "1197 -588.212769  123.105446   99.431854  67.381561  34.286587   7.351641   \n",
       "\n",
       "      6'th mfcc  7'th mfcc  8'th mfcc  9'th mfcc  10'th mfcc  11'th mfcc  \\\n",
       "0     -8.650848 -12.044303  -5.843631   3.707737   11.006802   12.881623   \n",
       "1     -5.643763 -10.209087  -5.671854   2.769334   10.076153   13.005941   \n",
       "2     -1.569465  -9.230370  -7.979504  -1.707049    5.305247    9.784348   \n",
       "3     -2.759377  -9.805824  -7.565494  -0.519465    6.629323   10.521493   \n",
       "4    -13.108571 -17.652740 -11.601338  -1.023376    8.301964   12.744805   \n",
       "...         ...        ...        ...        ...         ...         ...   \n",
       "1193 -11.005919 -15.368634  -9.909532   0.088131    9.277061   14.056322   \n",
       "1194  -7.866748 -13.066180  -9.245117  -0.656319    8.135544   13.708840   \n",
       "1195 -18.165079 -20.014488 -11.309918   1.381871   12.092075   17.269474   \n",
       "1196 -19.561769 -21.513870 -12.637712   0.257505   11.037302   16.101336   \n",
       "1197  -8.873289 -13.430731  -8.764174   0.586286    9.767199   15.234776   \n",
       "\n",
       "      12'th mfcc  \n",
       "0       9.133995  \n",
       "1      10.800572  \n",
       "2      10.266252  \n",
       "3       9.944338  \n",
       "4      11.537683  \n",
       "...          ...  \n",
       "1193   13.436970  \n",
       "1194   14.635028  \n",
       "1195   16.360174  \n",
       "1196   14.964811  \n",
       "1197   15.649593  \n",
       "\n",
       "[1198 rows x 13 columns]"
      ]
     },
     "execution_count": 16,
     "metadata": {},
     "output_type": "execute_result"
    }
   ],
   "source": [
    "mfccs_df"
   ]
  },
  {
   "cell_type": "code",
   "execution_count": 17,
   "id": "3da5013c",
   "metadata": {},
   "outputs": [],
   "source": [
    "mfccs_df.to_csv(\"/Users/ecem/Desktop/phonocardiogram/data/PV/present/PV-mfcc.csv\")"
   ]
  },
  {
   "cell_type": "code",
   "execution_count": null,
   "id": "9dee5f7f",
   "metadata": {},
   "outputs": [],
   "source": []
  }
 ],
 "metadata": {
  "kernelspec": {
   "display_name": "Python 3 (ipykernel)",
   "language": "python",
   "name": "python3"
  },
  "language_info": {
   "codemirror_mode": {
    "name": "ipython",
    "version": 3
   },
   "file_extension": ".py",
   "mimetype": "text/x-python",
   "name": "python",
   "nbconvert_exporter": "python",
   "pygments_lexer": "ipython3",
   "version": "3.9.9"
  }
 },
 "nbformat": 4,
 "nbformat_minor": 5
}
