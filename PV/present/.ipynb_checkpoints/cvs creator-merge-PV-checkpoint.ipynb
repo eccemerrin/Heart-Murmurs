{
 "cells": [
  {
   "cell_type": "code",
   "execution_count": 1,
   "id": "345c0001",
   "metadata": {},
   "outputs": [
    {
     "ename": "RuntimeError",
     "evalue": "module compiled against API version 0xe but this version of numpy is 0xd",
     "output_type": "error",
     "traceback": [
      "\u001b[0;31m---------------------------------------------------------------------------\u001b[0m",
      "\u001b[0;31mRuntimeError\u001b[0m                              Traceback (most recent call last)",
      "\u001b[0;31mRuntimeError\u001b[0m: module compiled against API version 0xe but this version of numpy is 0xd"
     ]
    }
   ],
   "source": [
    "import pandas as pd\n",
    "import numpy as np\n",
    "import warnings\n",
    "warnings.filterwarnings('ignore')"
   ]
  },
  {
   "cell_type": "code",
   "execution_count": 2,
   "id": "440a4745",
   "metadata": {},
   "outputs": [],
   "source": [
    "path = \"/Users/ecem/Desktop/phonocardiogram/data/PV/\""
   ]
  },
  {
   "cell_type": "code",
   "execution_count": 3,
   "id": "3e93b88e",
   "metadata": {},
   "outputs": [],
   "source": [
    "spec = np.load(path + 'present/present_PV_spectogram_coef.npy', allow_pickle = True)\n",
    "\n",
    "zcr = np.load(path + 'present/present_PV_zcrs_array.npy', allow_pickle = True)\n",
    "\n",
    "temp = np.load(path + 'present/present_PV_tempogram_array.npy', allow_pickle = True)\n",
    "\n",
    "chro = np.load(path + 'present/present_PV_chromogram_array.npy', allow_pickle = True)\n",
    "\n",
    "w_approx = np.load(path + 'present/present_PV_wavelet_coef_lvl_0.npy', allow_pickle = True)\n",
    "w_lvl1 = np.load(path + 'present/present_PV_wavelet_coef_lvl_1.npy', allow_pickle = True)\n",
    "w_lvl2 = np.load(path + 'present/present_PV_wavelet_coef_lvl_2.npy', allow_pickle = True)\n",
    "w_lvl3 = np.load(path + 'present/present_PV_wavelet_coef_lvl_3.npy', allow_pickle = True)\n",
    "w_lvl4 = np.load(path + 'present/present_PV_wavelet_coef_lvl_4.npy', allow_pickle = True)\n",
    "w_lvl5 = np.load(path + 'present/present_PV_wavelet_coef_lvl_5.npy', allow_pickle = True)\n",
    "w_lvl6 = np.load(path + 'present/present_PV_wavelet_coef_lvl_6.npy', allow_pickle = True)\n"
   ]
  },
  {
   "cell_type": "markdown",
   "id": "f128b55a",
   "metadata": {},
   "source": [
    "### we are goint to use spectogram and zero crossing rate directly without dropping any columns (after p value selection). So lets create their dataframe first"
   ]
  },
  {
   "cell_type": "markdown",
   "id": "ce30c297",
   "metadata": {},
   "source": [
    "#### spec"
   ]
  },
  {
   "cell_type": "code",
   "execution_count": 4,
   "id": "dd7e3b29",
   "metadata": {},
   "outputs": [],
   "source": [
    "spec_columns = np.load(\"/Users/ecem/Desktop/phonocardiogram/data/AV/present/spec_column_names.npy\")"
   ]
  },
  {
   "cell_type": "code",
   "execution_count": 5,
   "id": "7934f31e",
   "metadata": {},
   "outputs": [],
   "source": [
    "spec_df = pd.DataFrame(spec, columns = spec_columns ) #1198, 16384\n",
    "#spec_df"
   ]
  },
  {
   "cell_type": "markdown",
   "id": "c17d3dbe",
   "metadata": {},
   "source": [
    "#### zero crossing"
   ]
  },
  {
   "cell_type": "code",
   "execution_count": 6,
   "id": "7d6dc02c",
   "metadata": {},
   "outputs": [],
   "source": [
    "zcrs_df = pd.DataFrame(zcr, columns =[\"zcrs0\", \"zcrs1\", \"zcrs2\", \"zcrs3\", \"zcrs4\"]) #1198, 5\n",
    "#zcrs_df"
   ]
  },
  {
   "cell_type": "markdown",
   "id": "7d94c6ea",
   "metadata": {},
   "source": [
    "## now we need to eliminate some columns in chromogram, tempogram and wavelet dataframes.  We have extracted the columns we will use in the statistical features notebook.\n",
    "### below cell will give the index values for the columns we are going to use."
   ]
  },
  {
   "cell_type": "code",
   "execution_count": 7,
   "id": "b26b4fab",
   "metadata": {},
   "outputs": [],
   "source": [
    "p_temp_index = np.load(path +\"PV_p_value_selected_tempogram.npy\", allow_pickle = True)\n",
    "p_chro_index = np.load(path +\"PV_p_value_selected_chromogram.npy\", allow_pickle = True)\n",
    "p_wavelet_index = np.load(path +\"PV_p_value_selected_wavelet_coef.npy\", allow_pickle = True)"
   ]
  },
  {
   "cell_type": "markdown",
   "id": "1f55b668",
   "metadata": {},
   "source": [
    "## tempogram"
   ]
  },
  {
   "cell_type": "code",
   "execution_count": 8,
   "id": "451bee64",
   "metadata": {},
   "outputs": [
    {
     "data": {
      "text/plain": [
       "array([  1,   2,   5,   6,   7,   8,   9,  10,  11,  12,  13,  14,  15,\n",
       "        16,  17,  18,  19,  20,  24,  31,  32,  33,  34,  35,  36,  37,\n",
       "        38,  39,  40,  41,  42,  43,  44,  45,  52,  53,  54,  55,  56,\n",
       "        62,  63,  64,  65, 138, 139, 140, 141, 142, 143, 144, 145, 146,\n",
       "       147, 148, 149, 150, 151, 152, 153, 154, 155, 156, 157, 158, 159,\n",
       "       160, 161, 162, 163, 164, 165, 166, 167, 168, 169, 171, 174, 177,\n",
       "       181, 182, 183, 184, 188, 189, 191])"
      ]
     },
     "execution_count": 8,
     "metadata": {},
     "output_type": "execute_result"
    }
   ],
   "source": [
    "p_temp_index # these are column index for tempogram"
   ]
  },
  {
   "cell_type": "code",
   "execution_count": 9,
   "id": "dbc7524a",
   "metadata": {},
   "outputs": [
    {
     "data": {
      "text/plain": [
       "85"
      ]
     },
     "execution_count": 9,
     "metadata": {},
     "output_type": "execute_result"
    }
   ],
   "source": [
    "#sanity check\n",
    "len(p_temp_index)"
   ]
  },
  {
   "cell_type": "code",
   "execution_count": 10,
   "id": "fd0c65ef",
   "metadata": {},
   "outputs": [],
   "source": [
    "temp_columns = ['tempogram_0', 'tempogram_1', 'tempogram_2', 'tempogram_3', 'tempogram_4', 'tempogram_5', 'tempogram_6', 'tempogram_7', 'tempogram_8', 'tempogram_9', 'tempogram_10', 'tempogram_11', 'tempogram_12', 'tempogram_13', 'tempogram_14', 'tempogram_15', 'tempogram_16', 'tempogram_17', 'tempogram_18', 'tempogram_19', 'tempogram_20', 'tempogram_21', 'tempogram_22', 'tempogram_23', 'tempogram_24', 'tempogram_25', 'tempogram_26', 'tempogram_27', 'tempogram_28', 'tempogram_29', 'tempogram_30', 'tempogram_31', 'tempogram_32', 'tempogram_33', 'tempogram_34', 'tempogram_35', 'tempogram_36', 'tempogram_37', 'tempogram_38', 'tempogram_39', 'tempogram_40', 'tempogram_41', 'tempogram_42', 'tempogram_43', 'tempogram_44', 'tempogram_45', 'tempogram_46', 'tempogram_47', 'tempogram_48', 'tempogram_49', 'tempogram_50', 'tempogram_51', 'tempogram_52', 'tempogram_53', 'tempogram_54', 'tempogram_55', 'tempogram_56', 'tempogram_57', 'tempogram_58', 'tempogram_59', 'tempogram_60', 'tempogram_61', 'tempogram_62', 'tempogram_63', 'tempogram_64', 'tempogram_65', 'tempogram_66', 'tempogram_67', 'tempogram_68', 'tempogram_69', 'tempogram_70', 'tempogram_71', 'tempogram_72', 'tempogram_73', 'tempogram_74', 'tempogram_75', 'tempogram_76', 'tempogram_77', 'tempogram_78', 'tempogram_79', 'tempogram_80', 'tempogram_81', 'tempogram_82', 'tempogram_83', 'tempogram_84', 'tempogram_85', 'tempogram_86', 'tempogram_87', 'tempogram_88', 'tempogram_89', 'tempogram_90', 'tempogram_91', 'tempogram_92', 'tempogram_93', 'tempogram_94', 'tempogram_95', 'tempogram_96', 'tempogram_97', 'tempogram_98', 'tempogram_99', 'tempogram_100', 'tempogram_101', 'tempogram_102', 'tempogram_103', 'tempogram_104', 'tempogram_105', 'tempogram_106', 'tempogram_107', 'tempogram_108', 'tempogram_109', 'tempogram_110', 'tempogram_111', 'tempogram_112', 'tempogram_113', 'tempogram_114', 'tempogram_115', 'tempogram_116', 'tempogram_117', 'tempogram_118', 'tempogram_119', 'tempogram_120', 'tempogram_121', 'tempogram_122', 'tempogram_123', 'tempogram_124', 'tempogram_125', 'tempogram_126', 'tempogram_127', 'tempogram_128', 'tempogram_129', 'tempogram_130', 'tempogram_131', 'tempogram_132', 'tempogram_133', 'tempogram_134', 'tempogram_135', 'tempogram_136', 'tempogram_137', 'tempogram_138', 'tempogram_139', 'tempogram_140', 'tempogram_141', 'tempogram_142', 'tempogram_143', 'tempogram_144', 'tempogram_145', 'tempogram_146', 'tempogram_147', 'tempogram_148', 'tempogram_149', 'tempogram_150', 'tempogram_151', 'tempogram_152', 'tempogram_153', 'tempogram_154', 'tempogram_155', 'tempogram_156', 'tempogram_157', 'tempogram_158', 'tempogram_159', 'tempogram_160', 'tempogram_161', 'tempogram_162', 'tempogram_163', 'tempogram_164', 'tempogram_165', 'tempogram_166', 'tempogram_167', 'tempogram_168', 'tempogram_169', 'tempogram_170', 'tempogram_171', 'tempogram_172', 'tempogram_173', 'tempogram_174', 'tempogram_175', 'tempogram_176', 'tempogram_177', 'tempogram_178', 'tempogram_179', 'tempogram_180', 'tempogram_181', 'tempogram_182', 'tempogram_183', 'tempogram_184', 'tempogram_185', 'tempogram_186', 'tempogram_187', 'tempogram_188', 'tempogram_189', 'tempogram_190', 'tempogram_191']"
   ]
  },
  {
   "cell_type": "code",
   "execution_count": 11,
   "id": "1c11e794",
   "metadata": {},
   "outputs": [],
   "source": [
    "temp_df = pd.DataFrame(temp, columns = temp_columns ) #1198, 192\n",
    "#temp_df"
   ]
  },
  {
   "cell_type": "code",
   "execution_count": 12,
   "id": "9d16ec91",
   "metadata": {},
   "outputs": [],
   "source": [
    "p_tempogram = temp_df.iloc[:, p_temp_index] #1198, 85\n",
    "#p_tempogram"
   ]
  },
  {
   "cell_type": "markdown",
   "id": "05a42c37",
   "metadata": {},
   "source": [
    "## chromogram "
   ]
  },
  {
   "cell_type": "code",
   "execution_count": 13,
   "id": "6a69bb13",
   "metadata": {},
   "outputs": [
    {
     "data": {
      "text/plain": [
       "array([3, 4, 5, 6, 7])"
      ]
     },
     "execution_count": 13,
     "metadata": {},
     "output_type": "execute_result"
    }
   ],
   "source": [
    "p_chro_index # these are column index for chromogram"
   ]
  },
  {
   "cell_type": "code",
   "execution_count": 14,
   "id": "b7d2909f",
   "metadata": {},
   "outputs": [],
   "source": [
    "chro_df = pd.DataFrame(chro) #1198,12\n",
    "#chro_df"
   ]
  },
  {
   "cell_type": "code",
   "execution_count": 15,
   "id": "cc573a7f",
   "metadata": {},
   "outputs": [],
   "source": [
    "p_chro = chro_df.iloc[:, p_chro_index]\n",
    "p_chro.columns = [\"D#\", \"E\", \"F\", \"F#\", \"G\"]\n",
    "#p_chro #1198, 5"
   ]
  },
  {
   "cell_type": "markdown",
   "id": "f799539b",
   "metadata": {},
   "source": [
    "## Wavelet"
   ]
  },
  {
   "cell_type": "code",
   "execution_count": 16,
   "id": "73ad57d7",
   "metadata": {},
   "outputs": [],
   "source": [
    "wave_in_app = p_wavelet_index[0]  #50\n",
    "wave_in_lvl1 = p_wavelet_index[1] #54\n",
    "wave_in_lvl2 = p_wavelet_index[2] #94\n",
    "wave_in_lvl3 = p_wavelet_index[3] #162\n",
    "wave_in_lvl4 = p_wavelet_index[4] #290\n",
    "wave_in_lvl5 = p_wavelet_index[5] #554\n",
    "wave_in_lvl6 = p_wavelet_index[6] #1115"
   ]
  },
  {
   "cell_type": "code",
   "execution_count": 17,
   "id": "25f56513",
   "metadata": {},
   "outputs": [
    {
     "name": "stdout",
     "output_type": "stream",
     "text": [
      "50\n",
      "54\n",
      "94\n",
      "162\n",
      "290\n",
      "554\n",
      "1115\n"
     ]
    }
   ],
   "source": [
    "for i in range(7):\n",
    "    print(p_wavelet_index[i].shape[0])"
   ]
  },
  {
   "cell_type": "code",
   "execution_count": 18,
   "id": "9dff92f7",
   "metadata": {},
   "outputs": [],
   "source": [
    "columns_global = []\n",
    "\n",
    "for i in range(7):\n",
    "    for j in range(p_wavelet_index[i].shape[0]):\n",
    "        columns_global.append(\"w_lvl{}_{}\".format(i,j))"
   ]
  },
  {
   "cell_type": "markdown",
   "id": "6f59f046",
   "metadata": {},
   "source": [
    "### for approximation coef "
   ]
  },
  {
   "cell_type": "code",
   "execution_count": 19,
   "id": "b14d7512",
   "metadata": {},
   "outputs": [],
   "source": [
    "app_df = pd.DataFrame(w_approx) #1198, 633\n",
    "#app_df"
   ]
  },
  {
   "cell_type": "code",
   "execution_count": 20,
   "id": "ffb68cdb",
   "metadata": {},
   "outputs": [
    {
     "data": {
      "text/html": [
       "<div>\n",
       "<style scoped>\n",
       "    .dataframe tbody tr th:only-of-type {\n",
       "        vertical-align: middle;\n",
       "    }\n",
       "\n",
       "    .dataframe tbody tr th {\n",
       "        vertical-align: top;\n",
       "    }\n",
       "\n",
       "    .dataframe thead th {\n",
       "        text-align: right;\n",
       "    }\n",
       "</style>\n",
       "<table border=\"1\" class=\"dataframe\">\n",
       "  <thead>\n",
       "    <tr style=\"text-align: right;\">\n",
       "      <th></th>\n",
       "      <th>5</th>\n",
       "      <th>18</th>\n",
       "      <th>26</th>\n",
       "      <th>36</th>\n",
       "      <th>43</th>\n",
       "      <th>51</th>\n",
       "      <th>52</th>\n",
       "      <th>76</th>\n",
       "      <th>80</th>\n",
       "      <th>81</th>\n",
       "      <th>...</th>\n",
       "      <th>468</th>\n",
       "      <th>470</th>\n",
       "      <th>482</th>\n",
       "      <th>506</th>\n",
       "      <th>517</th>\n",
       "      <th>546</th>\n",
       "      <th>556</th>\n",
       "      <th>565</th>\n",
       "      <th>620</th>\n",
       "      <th>624</th>\n",
       "    </tr>\n",
       "  </thead>\n",
       "  <tbody>\n",
       "    <tr>\n",
       "      <th>0</th>\n",
       "      <td>-0.005887</td>\n",
       "      <td>0.018560</td>\n",
       "      <td>0.020169</td>\n",
       "      <td>0.001753</td>\n",
       "      <td>-0.015990</td>\n",
       "      <td>-0.027332</td>\n",
       "      <td>-0.123601</td>\n",
       "      <td>0.186934</td>\n",
       "      <td>0.017648</td>\n",
       "      <td>-0.218494</td>\n",
       "      <td>...</td>\n",
       "      <td>-0.022786</td>\n",
       "      <td>-0.002795</td>\n",
       "      <td>0.031617</td>\n",
       "      <td>-0.019923</td>\n",
       "      <td>-0.002638</td>\n",
       "      <td>-0.048264</td>\n",
       "      <td>-0.022465</td>\n",
       "      <td>-0.040208</td>\n",
       "      <td>-0.086290</td>\n",
       "      <td>-0.085369</td>\n",
       "    </tr>\n",
       "    <tr>\n",
       "      <th>1</th>\n",
       "      <td>-0.005903</td>\n",
       "      <td>-0.029092</td>\n",
       "      <td>0.041943</td>\n",
       "      <td>0.072452</td>\n",
       "      <td>-0.088788</td>\n",
       "      <td>-0.000923</td>\n",
       "      <td>0.028187</td>\n",
       "      <td>0.030338</td>\n",
       "      <td>-0.004920</td>\n",
       "      <td>-0.050606</td>\n",
       "      <td>...</td>\n",
       "      <td>0.006264</td>\n",
       "      <td>-0.046712</td>\n",
       "      <td>0.051603</td>\n",
       "      <td>-0.021536</td>\n",
       "      <td>-0.100112</td>\n",
       "      <td>0.003332</td>\n",
       "      <td>-0.056578</td>\n",
       "      <td>0.021084</td>\n",
       "      <td>0.087688</td>\n",
       "      <td>-0.111290</td>\n",
       "    </tr>\n",
       "    <tr>\n",
       "      <th>2</th>\n",
       "      <td>-0.040955</td>\n",
       "      <td>-0.000316</td>\n",
       "      <td>-0.024382</td>\n",
       "      <td>-0.040551</td>\n",
       "      <td>0.035731</td>\n",
       "      <td>0.062703</td>\n",
       "      <td>-0.012008</td>\n",
       "      <td>0.051583</td>\n",
       "      <td>0.021918</td>\n",
       "      <td>0.015889</td>\n",
       "      <td>...</td>\n",
       "      <td>0.051454</td>\n",
       "      <td>-0.022779</td>\n",
       "      <td>-0.519598</td>\n",
       "      <td>0.132135</td>\n",
       "      <td>0.222156</td>\n",
       "      <td>0.010099</td>\n",
       "      <td>0.119721</td>\n",
       "      <td>-0.477604</td>\n",
       "      <td>-0.061424</td>\n",
       "      <td>0.041662</td>\n",
       "    </tr>\n",
       "    <tr>\n",
       "      <th>3</th>\n",
       "      <td>-0.032616</td>\n",
       "      <td>-0.028894</td>\n",
       "      <td>-0.046732</td>\n",
       "      <td>0.581800</td>\n",
       "      <td>0.326700</td>\n",
       "      <td>0.185952</td>\n",
       "      <td>0.139828</td>\n",
       "      <td>-0.015808</td>\n",
       "      <td>0.025961</td>\n",
       "      <td>-0.065917</td>\n",
       "      <td>...</td>\n",
       "      <td>-0.156912</td>\n",
       "      <td>0.093651</td>\n",
       "      <td>0.001748</td>\n",
       "      <td>-0.121399</td>\n",
       "      <td>0.305022</td>\n",
       "      <td>-0.076880</td>\n",
       "      <td>0.033828</td>\n",
       "      <td>0.098066</td>\n",
       "      <td>0.124511</td>\n",
       "      <td>-0.885992</td>\n",
       "    </tr>\n",
       "    <tr>\n",
       "      <th>4</th>\n",
       "      <td>-0.988778</td>\n",
       "      <td>0.102607</td>\n",
       "      <td>-0.107944</td>\n",
       "      <td>0.041408</td>\n",
       "      <td>-0.057696</td>\n",
       "      <td>-0.228204</td>\n",
       "      <td>0.192247</td>\n",
       "      <td>-0.011529</td>\n",
       "      <td>0.020255</td>\n",
       "      <td>-0.072006</td>\n",
       "      <td>...</td>\n",
       "      <td>0.001297</td>\n",
       "      <td>-0.136235</td>\n",
       "      <td>0.018005</td>\n",
       "      <td>-0.011371</td>\n",
       "      <td>-0.071561</td>\n",
       "      <td>0.070571</td>\n",
       "      <td>-0.176624</td>\n",
       "      <td>0.031297</td>\n",
       "      <td>-0.094659</td>\n",
       "      <td>-0.033230</td>\n",
       "    </tr>\n",
       "    <tr>\n",
       "      <th>...</th>\n",
       "      <td>...</td>\n",
       "      <td>...</td>\n",
       "      <td>...</td>\n",
       "      <td>...</td>\n",
       "      <td>...</td>\n",
       "      <td>...</td>\n",
       "      <td>...</td>\n",
       "      <td>...</td>\n",
       "      <td>...</td>\n",
       "      <td>...</td>\n",
       "      <td>...</td>\n",
       "      <td>...</td>\n",
       "      <td>...</td>\n",
       "      <td>...</td>\n",
       "      <td>...</td>\n",
       "      <td>...</td>\n",
       "      <td>...</td>\n",
       "      <td>...</td>\n",
       "      <td>...</td>\n",
       "      <td>...</td>\n",
       "      <td>...</td>\n",
       "    </tr>\n",
       "    <tr>\n",
       "      <th>1193</th>\n",
       "      <td>-0.210138</td>\n",
       "      <td>-0.108360</td>\n",
       "      <td>0.019204</td>\n",
       "      <td>-0.063577</td>\n",
       "      <td>-0.009084</td>\n",
       "      <td>0.047852</td>\n",
       "      <td>0.010095</td>\n",
       "      <td>-0.003495</td>\n",
       "      <td>-0.317787</td>\n",
       "      <td>-0.114807</td>\n",
       "      <td>...</td>\n",
       "      <td>0.007326</td>\n",
       "      <td>-0.081027</td>\n",
       "      <td>0.012522</td>\n",
       "      <td>-0.131224</td>\n",
       "      <td>0.495852</td>\n",
       "      <td>-0.234441</td>\n",
       "      <td>-0.027372</td>\n",
       "      <td>0.255550</td>\n",
       "      <td>0.026047</td>\n",
       "      <td>-0.061564</td>\n",
       "    </tr>\n",
       "    <tr>\n",
       "      <th>1194</th>\n",
       "      <td>0.010954</td>\n",
       "      <td>0.028995</td>\n",
       "      <td>0.010855</td>\n",
       "      <td>0.105802</td>\n",
       "      <td>-0.003125</td>\n",
       "      <td>-0.046952</td>\n",
       "      <td>0.024852</td>\n",
       "      <td>-0.343087</td>\n",
       "      <td>0.020885</td>\n",
       "      <td>0.026645</td>\n",
       "      <td>...</td>\n",
       "      <td>-0.037885</td>\n",
       "      <td>0.049454</td>\n",
       "      <td>0.029226</td>\n",
       "      <td>-0.275943</td>\n",
       "      <td>0.191383</td>\n",
       "      <td>-0.359756</td>\n",
       "      <td>-0.349177</td>\n",
       "      <td>-0.279590</td>\n",
       "      <td>0.944743</td>\n",
       "      <td>-0.264674</td>\n",
       "    </tr>\n",
       "    <tr>\n",
       "      <th>1195</th>\n",
       "      <td>0.082392</td>\n",
       "      <td>0.042631</td>\n",
       "      <td>-0.036478</td>\n",
       "      <td>-0.046578</td>\n",
       "      <td>0.023681</td>\n",
       "      <td>0.003845</td>\n",
       "      <td>0.021134</td>\n",
       "      <td>0.054571</td>\n",
       "      <td>0.022067</td>\n",
       "      <td>0.038597</td>\n",
       "      <td>...</td>\n",
       "      <td>-0.001713</td>\n",
       "      <td>-0.025706</td>\n",
       "      <td>0.068054</td>\n",
       "      <td>-0.015319</td>\n",
       "      <td>0.015021</td>\n",
       "      <td>0.153421</td>\n",
       "      <td>-0.237410</td>\n",
       "      <td>0.067953</td>\n",
       "      <td>0.112754</td>\n",
       "      <td>0.075256</td>\n",
       "    </tr>\n",
       "    <tr>\n",
       "      <th>1196</th>\n",
       "      <td>-0.092711</td>\n",
       "      <td>1.108818</td>\n",
       "      <td>0.165956</td>\n",
       "      <td>0.048043</td>\n",
       "      <td>0.002407</td>\n",
       "      <td>0.002170</td>\n",
       "      <td>-0.001317</td>\n",
       "      <td>-0.014155</td>\n",
       "      <td>-0.012098</td>\n",
       "      <td>-0.007410</td>\n",
       "      <td>...</td>\n",
       "      <td>-0.395662</td>\n",
       "      <td>-0.020246</td>\n",
       "      <td>0.034253</td>\n",
       "      <td>-0.009797</td>\n",
       "      <td>0.009481</td>\n",
       "      <td>-0.059208</td>\n",
       "      <td>-0.067603</td>\n",
       "      <td>-0.001996</td>\n",
       "      <td>-0.020261</td>\n",
       "      <td>-0.340924</td>\n",
       "    </tr>\n",
       "    <tr>\n",
       "      <th>1197</th>\n",
       "      <td>0.426211</td>\n",
       "      <td>-0.121068</td>\n",
       "      <td>0.205983</td>\n",
       "      <td>0.264693</td>\n",
       "      <td>-0.367676</td>\n",
       "      <td>-0.027724</td>\n",
       "      <td>-0.027270</td>\n",
       "      <td>-0.017301</td>\n",
       "      <td>-0.004920</td>\n",
       "      <td>0.070170</td>\n",
       "      <td>...</td>\n",
       "      <td>-0.441358</td>\n",
       "      <td>0.199321</td>\n",
       "      <td>0.120747</td>\n",
       "      <td>-0.268313</td>\n",
       "      <td>-0.349794</td>\n",
       "      <td>-0.040776</td>\n",
       "      <td>0.006145</td>\n",
       "      <td>-0.238868</td>\n",
       "      <td>-0.130367</td>\n",
       "      <td>1.511103</td>\n",
       "    </tr>\n",
       "  </tbody>\n",
       "</table>\n",
       "<p>1198 rows × 50 columns</p>\n",
       "</div>"
      ],
      "text/plain": [
       "           5         18        26        36        43        51        52   \\\n",
       "0    -0.005887  0.018560  0.020169  0.001753 -0.015990 -0.027332 -0.123601   \n",
       "1    -0.005903 -0.029092  0.041943  0.072452 -0.088788 -0.000923  0.028187   \n",
       "2    -0.040955 -0.000316 -0.024382 -0.040551  0.035731  0.062703 -0.012008   \n",
       "3    -0.032616 -0.028894 -0.046732  0.581800  0.326700  0.185952  0.139828   \n",
       "4    -0.988778  0.102607 -0.107944  0.041408 -0.057696 -0.228204  0.192247   \n",
       "...        ...       ...       ...       ...       ...       ...       ...   \n",
       "1193 -0.210138 -0.108360  0.019204 -0.063577 -0.009084  0.047852  0.010095   \n",
       "1194  0.010954  0.028995  0.010855  0.105802 -0.003125 -0.046952  0.024852   \n",
       "1195  0.082392  0.042631 -0.036478 -0.046578  0.023681  0.003845  0.021134   \n",
       "1196 -0.092711  1.108818  0.165956  0.048043  0.002407  0.002170 -0.001317   \n",
       "1197  0.426211 -0.121068  0.205983  0.264693 -0.367676 -0.027724 -0.027270   \n",
       "\n",
       "           76        80        81   ...       468       470       482  \\\n",
       "0     0.186934  0.017648 -0.218494  ... -0.022786 -0.002795  0.031617   \n",
       "1     0.030338 -0.004920 -0.050606  ...  0.006264 -0.046712  0.051603   \n",
       "2     0.051583  0.021918  0.015889  ...  0.051454 -0.022779 -0.519598   \n",
       "3    -0.015808  0.025961 -0.065917  ... -0.156912  0.093651  0.001748   \n",
       "4    -0.011529  0.020255 -0.072006  ...  0.001297 -0.136235  0.018005   \n",
       "...        ...       ...       ...  ...       ...       ...       ...   \n",
       "1193 -0.003495 -0.317787 -0.114807  ...  0.007326 -0.081027  0.012522   \n",
       "1194 -0.343087  0.020885  0.026645  ... -0.037885  0.049454  0.029226   \n",
       "1195  0.054571  0.022067  0.038597  ... -0.001713 -0.025706  0.068054   \n",
       "1196 -0.014155 -0.012098 -0.007410  ... -0.395662 -0.020246  0.034253   \n",
       "1197 -0.017301 -0.004920  0.070170  ... -0.441358  0.199321  0.120747   \n",
       "\n",
       "           506       517       546       556       565       620       624  \n",
       "0    -0.019923 -0.002638 -0.048264 -0.022465 -0.040208 -0.086290 -0.085369  \n",
       "1    -0.021536 -0.100112  0.003332 -0.056578  0.021084  0.087688 -0.111290  \n",
       "2     0.132135  0.222156  0.010099  0.119721 -0.477604 -0.061424  0.041662  \n",
       "3    -0.121399  0.305022 -0.076880  0.033828  0.098066  0.124511 -0.885992  \n",
       "4    -0.011371 -0.071561  0.070571 -0.176624  0.031297 -0.094659 -0.033230  \n",
       "...        ...       ...       ...       ...       ...       ...       ...  \n",
       "1193 -0.131224  0.495852 -0.234441 -0.027372  0.255550  0.026047 -0.061564  \n",
       "1194 -0.275943  0.191383 -0.359756 -0.349177 -0.279590  0.944743 -0.264674  \n",
       "1195 -0.015319  0.015021  0.153421 -0.237410  0.067953  0.112754  0.075256  \n",
       "1196 -0.009797  0.009481 -0.059208 -0.067603 -0.001996 -0.020261 -0.340924  \n",
       "1197 -0.268313 -0.349794 -0.040776  0.006145 -0.238868 -0.130367  1.511103  \n",
       "\n",
       "[1198 rows x 50 columns]"
      ]
     },
     "execution_count": 20,
     "metadata": {},
     "output_type": "execute_result"
    }
   ],
   "source": [
    "p_app = app_df.iloc[:, wave_in_app] #1198, 50\n",
    "p_app"
   ]
  },
  {
   "cell_type": "markdown",
   "id": "2550f46c",
   "metadata": {},
   "source": [
    "### for the level 1"
   ]
  },
  {
   "cell_type": "code",
   "execution_count": 21,
   "id": "de562865",
   "metadata": {},
   "outputs": [],
   "source": [
    "lvl1_df = pd.DataFrame(w_lvl1) #1198, 633\n",
    "#lvl1_df"
   ]
  },
  {
   "cell_type": "code",
   "execution_count": 22,
   "id": "f005c16c",
   "metadata": {},
   "outputs": [],
   "source": [
    "p_lvl1 = lvl1_df.iloc[:, wave_in_lvl1] #1198, 54\n",
    "#p_lvl1"
   ]
  },
  {
   "cell_type": "markdown",
   "id": "bd1c97db",
   "metadata": {},
   "source": [
    "### for the level 2"
   ]
  },
  {
   "cell_type": "code",
   "execution_count": 23,
   "id": "170f7de3",
   "metadata": {},
   "outputs": [],
   "source": [
    "lvl2_df = pd.DataFrame(w_lvl2) #1198, 1258\n",
    "#lvl2_df"
   ]
  },
  {
   "cell_type": "code",
   "execution_count": 24,
   "id": "550ef026",
   "metadata": {},
   "outputs": [],
   "source": [
    "p_lvl2 = lvl2_df.iloc[:, wave_in_lvl2] #1198, 94\n",
    "#p_lvl2"
   ]
  },
  {
   "cell_type": "markdown",
   "id": "3f61c010",
   "metadata": {},
   "source": [
    "### for the level 3"
   ]
  },
  {
   "cell_type": "code",
   "execution_count": 25,
   "id": "68400466",
   "metadata": {},
   "outputs": [],
   "source": [
    "lvl3_df = pd.DataFrame(w_lvl3) #1198, 2508\n",
    "#lvl3_df"
   ]
  },
  {
   "cell_type": "code",
   "execution_count": 26,
   "id": "ccf2d98b",
   "metadata": {},
   "outputs": [],
   "source": [
    "p_lvl3 = lvl3_df.iloc[:, wave_in_lvl3] #1198,162\n",
    "#p_lvl3"
   ]
  },
  {
   "cell_type": "markdown",
   "id": "32091ad2",
   "metadata": {},
   "source": [
    "### for the level 4"
   ]
  },
  {
   "cell_type": "code",
   "execution_count": 27,
   "id": "06fb528e",
   "metadata": {},
   "outputs": [],
   "source": [
    "lvl4_df = pd.DataFrame(w_lvl4) #1198, 5007\n",
    "#lvl4_df"
   ]
  },
  {
   "cell_type": "code",
   "execution_count": 28,
   "id": "0acf0333",
   "metadata": {},
   "outputs": [],
   "source": [
    "p_lvl4 = lvl4_df.iloc[:, wave_in_lvl4] #1998, 290\n",
    "#p_lvl4"
   ]
  },
  {
   "cell_type": "markdown",
   "id": "80dfc851",
   "metadata": {},
   "source": [
    "### for the level 5"
   ]
  },
  {
   "cell_type": "code",
   "execution_count": 29,
   "id": "90783998",
   "metadata": {},
   "outputs": [],
   "source": [
    "lvl5_df = pd.DataFrame(w_lvl5) #1198, 10006\n",
    "#lvl5_df"
   ]
  },
  {
   "cell_type": "code",
   "execution_count": 30,
   "id": "e3b7b20e",
   "metadata": {},
   "outputs": [],
   "source": [
    "p_lvl5 = lvl5_df.iloc[:, wave_in_lvl5] #1198, 554\n",
    "#p_lvl5"
   ]
  },
  {
   "cell_type": "markdown",
   "id": "52f01627",
   "metadata": {},
   "source": [
    "### for the level 6"
   ]
  },
  {
   "cell_type": "code",
   "execution_count": 31,
   "id": "da9793b8",
   "metadata": {},
   "outputs": [],
   "source": [
    "lvl6_df = pd.DataFrame(w_lvl6) #1198, 20004\n",
    "#lvl6_df"
   ]
  },
  {
   "cell_type": "code",
   "execution_count": 32,
   "id": "5ff89af1",
   "metadata": {},
   "outputs": [],
   "source": [
    "p_lvl6 = lvl6_df.iloc[:, wave_in_lvl6] #1198, 1115\n",
    "#p_lvl6"
   ]
  },
  {
   "cell_type": "code",
   "execution_count": 33,
   "id": "cb0af988",
   "metadata": {},
   "outputs": [],
   "source": [
    "wavelet_df = pd.concat([p_app, p_lvl1 ], axis=1)\n",
    "wavelet_df = pd.concat([wavelet_df, p_lvl2], axis=1)\n",
    "wavelet_df = pd.concat([wavelet_df, p_lvl3], axis=1)\n",
    "wavelet_df = pd.concat([wavelet_df, p_lvl4], axis=1)\n",
    "wavelet_df = pd.concat([wavelet_df, p_lvl5], axis=1)\n",
    "wavelet_df = pd.concat([wavelet_df, p_lvl6], axis=1)\n",
    "\n",
    "#wavelet_df #1198, 2319"
   ]
  },
  {
   "cell_type": "code",
   "execution_count": 34,
   "id": "ff5c9750",
   "metadata": {},
   "outputs": [],
   "source": [
    "wavelet_df.columns = columns_global #1198, 2319\n",
    "#wavelet_df"
   ]
  },
  {
   "cell_type": "markdown",
   "id": "99d245ee",
   "metadata": {},
   "source": [
    "## now I am going to merge all wavelet levels into one dataframe"
   ]
  },
  {
   "cell_type": "markdown",
   "id": "17fb938d",
   "metadata": {},
   "source": [
    "# now we should concatenate all"
   ]
  },
  {
   "cell_type": "code",
   "execution_count": 35,
   "id": "401c8c78",
   "metadata": {},
   "outputs": [],
   "source": [
    "df = pd.concat([spec_df, wavelet_df], axis=1)\n",
    "df = pd.concat([df, zcrs_df], axis=1)\n",
    "df = pd.concat([df, p_chro], axis=1)\n",
    "df = pd.concat([df, p_tempogram], axis=1)\n",
    "\n",
    "#df #1198, 18798"
   ]
  },
  {
   "cell_type": "code",
   "execution_count": 36,
   "id": "61418155",
   "metadata": {},
   "outputs": [],
   "source": [
    "df.to_csv(path + \"present/present_PV_p_features.csv\")"
   ]
  },
  {
   "cell_type": "code",
   "execution_count": null,
   "id": "e8a93478",
   "metadata": {},
   "outputs": [],
   "source": []
  }
 ],
 "metadata": {
  "kernelspec": {
   "display_name": "Python 3 (ipykernel)",
   "language": "python",
   "name": "python3"
  },
  "language_info": {
   "codemirror_mode": {
    "name": "ipython",
    "version": 3
   },
   "file_extension": ".py",
   "mimetype": "text/x-python",
   "name": "python",
   "nbconvert_exporter": "python",
   "pygments_lexer": "ipython3",
   "version": "3.9.9"
  }
 },
 "nbformat": 4,
 "nbformat_minor": 5
}
