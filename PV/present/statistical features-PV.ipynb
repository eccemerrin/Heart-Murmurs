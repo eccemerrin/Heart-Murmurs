{
 "cells": [
  {
   "cell_type": "markdown",
   "id": "6915c26f",
   "metadata": {},
   "source": [
    "In this notebook we are going to focus on features which will be derived from time domain characteristics."
   ]
  },
  {
   "cell_type": "code",
   "execution_count": 1,
   "id": "59ccfc96",
   "metadata": {},
   "outputs": [],
   "source": [
    "import numpy as np\n",
    "import math\n",
    "from scipy.signal import argrelextrema, find_peaks"
   ]
  },
  {
   "cell_type": "code",
   "execution_count": 2,
   "id": "81d60d8d",
   "metadata": {},
   "outputs": [],
   "source": [
    "path = \"/Users/ecem/Desktop/phonocardiogram/data/PV/present\""
   ]
  },
  {
   "cell_type": "code",
   "execution_count": 3,
   "id": "85ec7ba6",
   "metadata": {},
   "outputs": [],
   "source": [
    "waves = np.load(path + \"/present_PV_waves_10sec.npy\", allow_pickle= True)"
   ]
  },
  {
   "cell_type": "code",
   "execution_count": 4,
   "id": "1a655f7b",
   "metadata": {},
   "outputs": [
    {
     "data": {
      "text/plain": [
       "(1198, 40000)"
      ]
     },
     "execution_count": 4,
     "metadata": {},
     "output_type": "execute_result"
    }
   ],
   "source": [
    "waves.shape"
   ]
  },
  {
   "cell_type": "code",
   "execution_count": 5,
   "id": "d000e2d0",
   "metadata": {},
   "outputs": [],
   "source": [
    "num = 1198"
   ]
  },
  {
   "cell_type": "markdown",
   "id": "2f19ee82",
   "metadata": {},
   "source": [
    "## Mean:"
   ]
  },
  {
   "cell_type": "code",
   "execution_count": 6,
   "id": "d2002edf",
   "metadata": {},
   "outputs": [],
   "source": [
    "mean_ = np.zeros(num)"
   ]
  },
  {
   "cell_type": "code",
   "execution_count": 7,
   "id": "5e254fa6",
   "metadata": {},
   "outputs": [],
   "source": [
    "for i in range(waves.shape[0]):\n",
    "    mean_[i] = waves[i].mean()"
   ]
  },
  {
   "cell_type": "markdown",
   "id": "875615f2",
   "metadata": {},
   "source": [
    "## Standart deviation:"
   ]
  },
  {
   "cell_type": "code",
   "execution_count": 8,
   "id": "a8a2eee2",
   "metadata": {},
   "outputs": [],
   "source": [
    "std_ = np.zeros((num))\n",
    "for i in range(waves.shape[0]):\n",
    "    std_[i] = waves[i].std()"
   ]
  },
  {
   "cell_type": "markdown",
   "id": "3e70587f",
   "metadata": {},
   "source": [
    "## Skewness"
   ]
  },
  {
   "cell_type": "code",
   "execution_count": 9,
   "id": "ee9cdca0",
   "metadata": {},
   "outputs": [],
   "source": [
    "from scipy.stats import skew"
   ]
  },
  {
   "cell_type": "code",
   "execution_count": 10,
   "id": "1bd2a380",
   "metadata": {},
   "outputs": [],
   "source": [
    "skew_ = np.zeros((num))\n",
    "for i in range(waves.shape[0]):\n",
    "    skew_[i] = skew(waves[i])"
   ]
  },
  {
   "cell_type": "markdown",
   "id": "dfb3927f",
   "metadata": {},
   "source": [
    "## Kurtosis"
   ]
  },
  {
   "cell_type": "code",
   "execution_count": 11,
   "id": "4548b7be",
   "metadata": {},
   "outputs": [],
   "source": [
    "import scipy.stats"
   ]
  },
  {
   "cell_type": "code",
   "execution_count": 12,
   "id": "1ee3aeac",
   "metadata": {},
   "outputs": [],
   "source": [
    "kurt_ = np.zeros((num))\n",
    "for i in range(waves.shape[0]):\n",
    "    kurt_[i] =  scipy.stats.kurtosis(waves[i])"
   ]
  },
  {
   "cell_type": "markdown",
   "id": "7ab0b91b",
   "metadata": {},
   "source": [
    "## Harmonic Mean"
   ]
  },
  {
   "cell_type": "code",
   "execution_count": 13,
   "id": "fe3456f0",
   "metadata": {},
   "outputs": [],
   "source": [
    "harmonic_ = np.zeros((num))\n",
    "for i in range(waves.shape[0]):\n",
    "    harmonic_[i] =  scipy.stats.hmean(waves[i]* waves[i])"
   ]
  },
  {
   "cell_type": "markdown",
   "id": "d81c0900",
   "metadata": {},
   "source": [
    "## Autocorrelation"
   ]
  },
  {
   "cell_type": "code",
   "execution_count": 14,
   "id": "64a2207a",
   "metadata": {},
   "outputs": [],
   "source": [
    "from scipy import signal\n",
    "from scipy.signal import find_peaks"
   ]
  },
  {
   "cell_type": "code",
   "execution_count": 15,
   "id": "f843dc1d",
   "metadata": {},
   "outputs": [],
   "source": [
    "auto_corr = np.zeros((num, 79999))\n",
    "peaks_ = []\n",
    "for i in range(waves.shape[0]):\n",
    "    auto_corr[i,:] = signal.fftconvolve(waves[i], waves[i], mode='full')\n",
    "    peaks_.append(find_peaks(auto_corr[i], height = 0)[1][\"peak_heights\"].mean())\n",
    "    "
   ]
  },
  {
   "cell_type": "code",
   "execution_count": 16,
   "id": "1bc31ec8",
   "metadata": {},
   "outputs": [
    {
     "data": {
      "text/plain": [
       "(1198,)"
      ]
     },
     "execution_count": 16,
     "metadata": {},
     "output_type": "execute_result"
    }
   ],
   "source": [
    "peaks_ = np.array(peaks_)\n",
    "peaks_.shape"
   ]
  },
  {
   "cell_type": "markdown",
   "id": "9abaac2a",
   "metadata": {},
   "source": [
    "# Now lets create their dataframes"
   ]
  },
  {
   "cell_type": "code",
   "execution_count": 17,
   "id": "c7448931",
   "metadata": {},
   "outputs": [
    {
     "ename": "RuntimeError",
     "evalue": "module compiled against API version 0xe but this version of numpy is 0xd",
     "output_type": "error",
     "traceback": [
      "\u001b[0;31m---------------------------------------------------------------------------\u001b[0m",
      "\u001b[0;31mRuntimeError\u001b[0m                              Traceback (most recent call last)",
      "\u001b[0;31mRuntimeError\u001b[0m: module compiled against API version 0xe but this version of numpy is 0xd"
     ]
    }
   ],
   "source": [
    "import pandas as pd"
   ]
  },
  {
   "cell_type": "code",
   "execution_count": 18,
   "id": "987c5bf0",
   "metadata": {},
   "outputs": [
    {
     "data": {
      "text/html": [
       "<div>\n",
       "<style scoped>\n",
       "    .dataframe tbody tr th:only-of-type {\n",
       "        vertical-align: middle;\n",
       "    }\n",
       "\n",
       "    .dataframe tbody tr th {\n",
       "        vertical-align: top;\n",
       "    }\n",
       "\n",
       "    .dataframe thead th {\n",
       "        text-align: right;\n",
       "    }\n",
       "</style>\n",
       "<table border=\"1\" class=\"dataframe\">\n",
       "  <thead>\n",
       "    <tr style=\"text-align: right;\">\n",
       "      <th></th>\n",
       "      <th>mean</th>\n",
       "    </tr>\n",
       "  </thead>\n",
       "  <tbody>\n",
       "    <tr>\n",
       "      <th>0</th>\n",
       "      <td>0.000223</td>\n",
       "    </tr>\n",
       "    <tr>\n",
       "      <th>1</th>\n",
       "      <td>-0.000088</td>\n",
       "    </tr>\n",
       "    <tr>\n",
       "      <th>2</th>\n",
       "      <td>0.000188</td>\n",
       "    </tr>\n",
       "    <tr>\n",
       "      <th>3</th>\n",
       "      <td>0.000247</td>\n",
       "    </tr>\n",
       "    <tr>\n",
       "      <th>4</th>\n",
       "      <td>-0.000120</td>\n",
       "    </tr>\n",
       "  </tbody>\n",
       "</table>\n",
       "</div>"
      ],
      "text/plain": [
       "       mean\n",
       "0  0.000223\n",
       "1 -0.000088\n",
       "2  0.000188\n",
       "3  0.000247\n",
       "4 -0.000120"
      ]
     },
     "execution_count": 18,
     "metadata": {},
     "output_type": "execute_result"
    }
   ],
   "source": [
    "mean_df = pd.DataFrame(mean_, columns =[\"mean\"])\n",
    "mean_df.head()"
   ]
  },
  {
   "cell_type": "code",
   "execution_count": 19,
   "id": "a40b4e1e",
   "metadata": {},
   "outputs": [
    {
     "data": {
      "text/html": [
       "<div>\n",
       "<style scoped>\n",
       "    .dataframe tbody tr th:only-of-type {\n",
       "        vertical-align: middle;\n",
       "    }\n",
       "\n",
       "    .dataframe tbody tr th {\n",
       "        vertical-align: top;\n",
       "    }\n",
       "\n",
       "    .dataframe thead th {\n",
       "        text-align: right;\n",
       "    }\n",
       "</style>\n",
       "<table border=\"1\" class=\"dataframe\">\n",
       "  <thead>\n",
       "    <tr style=\"text-align: right;\">\n",
       "      <th></th>\n",
       "      <th>std</th>\n",
       "    </tr>\n",
       "  </thead>\n",
       "  <tbody>\n",
       "    <tr>\n",
       "      <th>0</th>\n",
       "      <td>0.032710</td>\n",
       "    </tr>\n",
       "    <tr>\n",
       "      <th>1</th>\n",
       "      <td>0.042258</td>\n",
       "    </tr>\n",
       "    <tr>\n",
       "      <th>2</th>\n",
       "      <td>0.042559</td>\n",
       "    </tr>\n",
       "    <tr>\n",
       "      <th>3</th>\n",
       "      <td>0.035224</td>\n",
       "    </tr>\n",
       "    <tr>\n",
       "      <th>4</th>\n",
       "      <td>0.029231</td>\n",
       "    </tr>\n",
       "  </tbody>\n",
       "</table>\n",
       "</div>"
      ],
      "text/plain": [
       "        std\n",
       "0  0.032710\n",
       "1  0.042258\n",
       "2  0.042559\n",
       "3  0.035224\n",
       "4  0.029231"
      ]
     },
     "execution_count": 19,
     "metadata": {},
     "output_type": "execute_result"
    }
   ],
   "source": [
    "std_df = pd.DataFrame(std_, columns =[\"std\"])\n",
    "std_df.head()"
   ]
  },
  {
   "cell_type": "code",
   "execution_count": 20,
   "id": "9b1a56d2",
   "metadata": {},
   "outputs": [
    {
     "data": {
      "text/html": [
       "<div>\n",
       "<style scoped>\n",
       "    .dataframe tbody tr th:only-of-type {\n",
       "        vertical-align: middle;\n",
       "    }\n",
       "\n",
       "    .dataframe tbody tr th {\n",
       "        vertical-align: top;\n",
       "    }\n",
       "\n",
       "    .dataframe thead th {\n",
       "        text-align: right;\n",
       "    }\n",
       "</style>\n",
       "<table border=\"1\" class=\"dataframe\">\n",
       "  <thead>\n",
       "    <tr style=\"text-align: right;\">\n",
       "      <th></th>\n",
       "      <th>kurtosis</th>\n",
       "    </tr>\n",
       "  </thead>\n",
       "  <tbody>\n",
       "    <tr>\n",
       "      <th>0</th>\n",
       "      <td>11.463146</td>\n",
       "    </tr>\n",
       "    <tr>\n",
       "      <th>1</th>\n",
       "      <td>7.173682</td>\n",
       "    </tr>\n",
       "    <tr>\n",
       "      <th>2</th>\n",
       "      <td>23.290349</td>\n",
       "    </tr>\n",
       "    <tr>\n",
       "      <th>3</th>\n",
       "      <td>11.462254</td>\n",
       "    </tr>\n",
       "    <tr>\n",
       "      <th>4</th>\n",
       "      <td>10.447444</td>\n",
       "    </tr>\n",
       "  </tbody>\n",
       "</table>\n",
       "</div>"
      ],
      "text/plain": [
       "    kurtosis\n",
       "0  11.463146\n",
       "1   7.173682\n",
       "2  23.290349\n",
       "3  11.462254\n",
       "4  10.447444"
      ]
     },
     "execution_count": 20,
     "metadata": {},
     "output_type": "execute_result"
    }
   ],
   "source": [
    "kurtosis_df = pd.DataFrame(kurt_, columns = [\"kurtosis\"])\n",
    "kurtosis_df.head()"
   ]
  },
  {
   "cell_type": "code",
   "execution_count": 21,
   "id": "dbbe04fe",
   "metadata": {},
   "outputs": [
    {
     "data": {
      "text/html": [
       "<div>\n",
       "<style scoped>\n",
       "    .dataframe tbody tr th:only-of-type {\n",
       "        vertical-align: middle;\n",
       "    }\n",
       "\n",
       "    .dataframe tbody tr th {\n",
       "        vertical-align: top;\n",
       "    }\n",
       "\n",
       "    .dataframe thead th {\n",
       "        text-align: right;\n",
       "    }\n",
       "</style>\n",
       "<table border=\"1\" class=\"dataframe\">\n",
       "  <thead>\n",
       "    <tr style=\"text-align: right;\">\n",
       "      <th></th>\n",
       "      <th>skewness</th>\n",
       "    </tr>\n",
       "  </thead>\n",
       "  <tbody>\n",
       "    <tr>\n",
       "      <th>0</th>\n",
       "      <td>0.153055</td>\n",
       "    </tr>\n",
       "    <tr>\n",
       "      <th>1</th>\n",
       "      <td>0.014827</td>\n",
       "    </tr>\n",
       "    <tr>\n",
       "      <th>2</th>\n",
       "      <td>1.388897</td>\n",
       "    </tr>\n",
       "    <tr>\n",
       "      <th>3</th>\n",
       "      <td>0.263047</td>\n",
       "    </tr>\n",
       "    <tr>\n",
       "      <th>4</th>\n",
       "      <td>-0.198491</td>\n",
       "    </tr>\n",
       "  </tbody>\n",
       "</table>\n",
       "</div>"
      ],
      "text/plain": [
       "   skewness\n",
       "0  0.153055\n",
       "1  0.014827\n",
       "2  1.388897\n",
       "3  0.263047\n",
       "4 -0.198491"
      ]
     },
     "execution_count": 21,
     "metadata": {},
     "output_type": "execute_result"
    }
   ],
   "source": [
    "skew_df = pd.DataFrame(skew_, columns =[\"skewness\"])\n",
    "skew_df.head()"
   ]
  },
  {
   "cell_type": "code",
   "execution_count": 22,
   "id": "36947e26",
   "metadata": {},
   "outputs": [
    {
     "data": {
      "text/html": [
       "<div>\n",
       "<style scoped>\n",
       "    .dataframe tbody tr th:only-of-type {\n",
       "        vertical-align: middle;\n",
       "    }\n",
       "\n",
       "    .dataframe tbody tr th {\n",
       "        vertical-align: top;\n",
       "    }\n",
       "\n",
       "    .dataframe thead th {\n",
       "        text-align: right;\n",
       "    }\n",
       "</style>\n",
       "<table border=\"1\" class=\"dataframe\">\n",
       "  <thead>\n",
       "    <tr style=\"text-align: right;\">\n",
       "      <th></th>\n",
       "      <th>harmonic mean</th>\n",
       "    </tr>\n",
       "  </thead>\n",
       "  <tbody>\n",
       "    <tr>\n",
       "      <th>0</th>\n",
       "      <td>5.490334e-09</td>\n",
       "    </tr>\n",
       "    <tr>\n",
       "      <th>1</th>\n",
       "      <td>3.548436e-10</td>\n",
       "    </tr>\n",
       "    <tr>\n",
       "      <th>2</th>\n",
       "      <td>2.216367e-08</td>\n",
       "    </tr>\n",
       "    <tr>\n",
       "      <th>3</th>\n",
       "      <td>5.297716e-09</td>\n",
       "    </tr>\n",
       "    <tr>\n",
       "      <th>4</th>\n",
       "      <td>5.462034e-09</td>\n",
       "    </tr>\n",
       "  </tbody>\n",
       "</table>\n",
       "</div>"
      ],
      "text/plain": [
       "   harmonic mean\n",
       "0   5.490334e-09\n",
       "1   3.548436e-10\n",
       "2   2.216367e-08\n",
       "3   5.297716e-09\n",
       "4   5.462034e-09"
      ]
     },
     "execution_count": 22,
     "metadata": {},
     "output_type": "execute_result"
    }
   ],
   "source": [
    "harmonic_df = pd.DataFrame(harmonic_, columns =[\"harmonic mean\"])\n",
    "harmonic_df.head()"
   ]
  },
  {
   "cell_type": "code",
   "execution_count": 27,
   "id": "7f19cd46",
   "metadata": {},
   "outputs": [
    {
     "data": {
      "text/html": [
       "<div>\n",
       "<style scoped>\n",
       "    .dataframe tbody tr th:only-of-type {\n",
       "        vertical-align: middle;\n",
       "    }\n",
       "\n",
       "    .dataframe tbody tr th {\n",
       "        vertical-align: top;\n",
       "    }\n",
       "\n",
       "    .dataframe thead th {\n",
       "        text-align: right;\n",
       "    }\n",
       "</style>\n",
       "<table border=\"1\" class=\"dataframe\">\n",
       "  <thead>\n",
       "    <tr style=\"text-align: right;\">\n",
       "      <th></th>\n",
       "      <th>ac peak height mean</th>\n",
       "    </tr>\n",
       "  </thead>\n",
       "  <tbody>\n",
       "    <tr>\n",
       "      <th>0</th>\n",
       "      <td>1.098450</td>\n",
       "    </tr>\n",
       "    <tr>\n",
       "      <th>1</th>\n",
       "      <td>1.394780</td>\n",
       "    </tr>\n",
       "    <tr>\n",
       "      <th>2</th>\n",
       "      <td>1.327466</td>\n",
       "    </tr>\n",
       "    <tr>\n",
       "      <th>3</th>\n",
       "      <td>1.011723</td>\n",
       "    </tr>\n",
       "    <tr>\n",
       "      <th>4</th>\n",
       "      <td>0.754481</td>\n",
       "    </tr>\n",
       "  </tbody>\n",
       "</table>\n",
       "</div>"
      ],
      "text/plain": [
       "   ac peak height mean\n",
       "0             1.098450\n",
       "1             1.394780\n",
       "2             1.327466\n",
       "3             1.011723\n",
       "4             0.754481"
      ]
     },
     "execution_count": 27,
     "metadata": {},
     "output_type": "execute_result"
    }
   ],
   "source": [
    "autocorr_peaks_df = pd.DataFrame(peaks_, columns =[\"ac peak height mean\"])\n",
    "autocorr_peaks_df.head()"
   ]
  },
  {
   "cell_type": "markdown",
   "id": "23ebe6af",
   "metadata": {},
   "source": [
    "## Now concatenate all features"
   ]
  },
  {
   "cell_type": "code",
   "execution_count": 28,
   "id": "b5e8494e",
   "metadata": {},
   "outputs": [],
   "source": [
    "df = pd.concat([mean_df, std_df, skew_df, kurtosis_df, harmonic_df, autocorr_peaks_df], axis =1)"
   ]
  },
  {
   "cell_type": "code",
   "execution_count": 29,
   "id": "451de005",
   "metadata": {},
   "outputs": [
    {
     "data": {
      "text/html": [
       "<div>\n",
       "<style scoped>\n",
       "    .dataframe tbody tr th:only-of-type {\n",
       "        vertical-align: middle;\n",
       "    }\n",
       "\n",
       "    .dataframe tbody tr th {\n",
       "        vertical-align: top;\n",
       "    }\n",
       "\n",
       "    .dataframe thead th {\n",
       "        text-align: right;\n",
       "    }\n",
       "</style>\n",
       "<table border=\"1\" class=\"dataframe\">\n",
       "  <thead>\n",
       "    <tr style=\"text-align: right;\">\n",
       "      <th></th>\n",
       "      <th>mean</th>\n",
       "      <th>std</th>\n",
       "      <th>skewness</th>\n",
       "      <th>kurtosis</th>\n",
       "      <th>harmonic mean</th>\n",
       "      <th>ac peak height mean</th>\n",
       "    </tr>\n",
       "  </thead>\n",
       "  <tbody>\n",
       "    <tr>\n",
       "      <th>0</th>\n",
       "      <td>0.000223</td>\n",
       "      <td>0.032710</td>\n",
       "      <td>0.153055</td>\n",
       "      <td>11.463146</td>\n",
       "      <td>5.490334e-09</td>\n",
       "      <td>1.098450</td>\n",
       "    </tr>\n",
       "    <tr>\n",
       "      <th>1</th>\n",
       "      <td>-0.000088</td>\n",
       "      <td>0.042258</td>\n",
       "      <td>0.014827</td>\n",
       "      <td>7.173682</td>\n",
       "      <td>3.548436e-10</td>\n",
       "      <td>1.394780</td>\n",
       "    </tr>\n",
       "    <tr>\n",
       "      <th>2</th>\n",
       "      <td>0.000188</td>\n",
       "      <td>0.042559</td>\n",
       "      <td>1.388897</td>\n",
       "      <td>23.290349</td>\n",
       "      <td>2.216367e-08</td>\n",
       "      <td>1.327466</td>\n",
       "    </tr>\n",
       "    <tr>\n",
       "      <th>3</th>\n",
       "      <td>0.000247</td>\n",
       "      <td>0.035224</td>\n",
       "      <td>0.263047</td>\n",
       "      <td>11.462254</td>\n",
       "      <td>5.297716e-09</td>\n",
       "      <td>1.011723</td>\n",
       "    </tr>\n",
       "    <tr>\n",
       "      <th>4</th>\n",
       "      <td>-0.000120</td>\n",
       "      <td>0.029231</td>\n",
       "      <td>-0.198491</td>\n",
       "      <td>10.447444</td>\n",
       "      <td>5.462034e-09</td>\n",
       "      <td>0.754481</td>\n",
       "    </tr>\n",
       "    <tr>\n",
       "      <th>...</th>\n",
       "      <td>...</td>\n",
       "      <td>...</td>\n",
       "      <td>...</td>\n",
       "      <td>...</td>\n",
       "      <td>...</td>\n",
       "      <td>...</td>\n",
       "    </tr>\n",
       "    <tr>\n",
       "      <th>1193</th>\n",
       "      <td>-0.000208</td>\n",
       "      <td>0.050081</td>\n",
       "      <td>0.228460</td>\n",
       "      <td>10.491742</td>\n",
       "      <td>1.300526e-08</td>\n",
       "      <td>2.566832</td>\n",
       "    </tr>\n",
       "    <tr>\n",
       "      <th>1194</th>\n",
       "      <td>-0.000440</td>\n",
       "      <td>0.044552</td>\n",
       "      <td>0.333995</td>\n",
       "      <td>11.092413</td>\n",
       "      <td>4.201546e-09</td>\n",
       "      <td>2.166088</td>\n",
       "    </tr>\n",
       "    <tr>\n",
       "      <th>1195</th>\n",
       "      <td>-0.000188</td>\n",
       "      <td>0.032899</td>\n",
       "      <td>0.288181</td>\n",
       "      <td>10.986533</td>\n",
       "      <td>2.304217e-09</td>\n",
       "      <td>1.027875</td>\n",
       "    </tr>\n",
       "    <tr>\n",
       "      <th>1196</th>\n",
       "      <td>0.000025</td>\n",
       "      <td>0.040093</td>\n",
       "      <td>0.883046</td>\n",
       "      <td>13.957108</td>\n",
       "      <td>2.279876e-09</td>\n",
       "      <td>1.525123</td>\n",
       "    </tr>\n",
       "    <tr>\n",
       "      <th>1197</th>\n",
       "      <td>-0.000360</td>\n",
       "      <td>0.069395</td>\n",
       "      <td>1.115501</td>\n",
       "      <td>59.787869</td>\n",
       "      <td>0.000000e+00</td>\n",
       "      <td>5.140413</td>\n",
       "    </tr>\n",
       "  </tbody>\n",
       "</table>\n",
       "<p>1198 rows × 6 columns</p>\n",
       "</div>"
      ],
      "text/plain": [
       "          mean       std  skewness   kurtosis  harmonic mean  \\\n",
       "0     0.000223  0.032710  0.153055  11.463146   5.490334e-09   \n",
       "1    -0.000088  0.042258  0.014827   7.173682   3.548436e-10   \n",
       "2     0.000188  0.042559  1.388897  23.290349   2.216367e-08   \n",
       "3     0.000247  0.035224  0.263047  11.462254   5.297716e-09   \n",
       "4    -0.000120  0.029231 -0.198491  10.447444   5.462034e-09   \n",
       "...        ...       ...       ...        ...            ...   \n",
       "1193 -0.000208  0.050081  0.228460  10.491742   1.300526e-08   \n",
       "1194 -0.000440  0.044552  0.333995  11.092413   4.201546e-09   \n",
       "1195 -0.000188  0.032899  0.288181  10.986533   2.304217e-09   \n",
       "1196  0.000025  0.040093  0.883046  13.957108   2.279876e-09   \n",
       "1197 -0.000360  0.069395  1.115501  59.787869   0.000000e+00   \n",
       "\n",
       "      ac peak height mean  \n",
       "0                1.098450  \n",
       "1                1.394780  \n",
       "2                1.327466  \n",
       "3                1.011723  \n",
       "4                0.754481  \n",
       "...                   ...  \n",
       "1193             2.566832  \n",
       "1194             2.166088  \n",
       "1195             1.027875  \n",
       "1196             1.525123  \n",
       "1197             5.140413  \n",
       "\n",
       "[1198 rows x 6 columns]"
      ]
     },
     "execution_count": 29,
     "metadata": {},
     "output_type": "execute_result"
    }
   ],
   "source": [
    "df"
   ]
  },
  {
   "cell_type": "code",
   "execution_count": 30,
   "id": "ded988a4",
   "metadata": {},
   "outputs": [],
   "source": [
    "df.to_csv(\"/Users/ecem/Desktop/phonocardiogram/data/PV/present/PV-statistical-features.csv\" )"
   ]
  }
 ],
 "metadata": {
  "kernelspec": {
   "display_name": "Python 3 (ipykernel)",
   "language": "python",
   "name": "python3"
  },
  "language_info": {
   "codemirror_mode": {
    "name": "ipython",
    "version": 3
   },
   "file_extension": ".py",
   "mimetype": "text/x-python",
   "name": "python",
   "nbconvert_exporter": "python",
   "pygments_lexer": "ipython3",
   "version": "3.9.9"
  }
 },
 "nbformat": 4,
 "nbformat_minor": 5
}
