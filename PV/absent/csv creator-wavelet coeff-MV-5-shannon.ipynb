{
 "cells": [
  {
   "cell_type": "markdown",
   "id": "9738d69c",
   "metadata": {},
   "source": [
    "### Imports"
   ]
  },
  {
   "cell_type": "code",
   "execution_count": 1,
   "id": "dc7b749c",
   "metadata": {},
   "outputs": [],
   "source": [
    "import warnings\n",
    "warnings.filterwarnings(\"ignore\")"
   ]
  },
  {
   "cell_type": "code",
   "execution_count": 2,
   "id": "749d0c72",
   "metadata": {},
   "outputs": [],
   "source": [
    "#imports\n",
    "import scipy.io\n",
    "import os\n",
    "import pandas\n",
    "import numpy as np\n",
    "import matplotlib.pyplot as plt\n",
    "import matplotlib.pylab as pl\n",
    "import matplotlib.gridspec as gridspec\n",
    "import obspy\n",
    "import pywt\n",
    "import pywt.data"
   ]
  },
  {
   "cell_type": "markdown",
   "id": "2bc54617",
   "metadata": {},
   "source": [
    "### Load the trimmed data "
   ]
  },
  {
   "cell_type": "code",
   "execution_count": 3,
   "id": "cd387f07",
   "metadata": {},
   "outputs": [],
   "source": [
    "path = \"/Users/ecem/Desktop/phonocardiogram/data/PV/absent\"\n",
    "path_w = \"/Users/ecem/Desktop/phonocardiogram/data/PV/absent/wavelet\"\n",
    "waves = np.load(path + \"/absent_PV_waves_10sec.npy\", allow_pickle= True)"
   ]
  },
  {
   "cell_type": "code",
   "execution_count": 4,
   "id": "2a96529d",
   "metadata": {},
   "outputs": [],
   "source": [
    "n= waves.shape[0]"
   ]
  },
  {
   "cell_type": "code",
   "execution_count": 5,
   "id": "d110333c",
   "metadata": {},
   "outputs": [
    {
     "data": {
      "text/plain": [
       "5743"
      ]
     },
     "execution_count": 5,
     "metadata": {},
     "output_type": "execute_result"
    }
   ],
   "source": [
    "n"
   ]
  },
  {
   "cell_type": "markdown",
   "id": "c0d9b74d",
   "metadata": {},
   "source": [
    "## Let's look at wavelet decomposition for a signal piece"
   ]
  },
  {
   "cell_type": "markdown",
   "id": "f8c7f06d",
   "metadata": {},
   "source": [
    "#### how our decomposition filter values look like"
   ]
  },
  {
   "cell_type": "code",
   "execution_count": 6,
   "id": "556de875",
   "metadata": {},
   "outputs": [
    {
     "data": {
      "image/png": "[encoded data removed]",
      "text/plain": [
       "<Figure size 432x288 with 1 Axes>"
      ]
     },
     "metadata": {
      "needs_background": "light"
     },
     "output_type": "display_data"
    }
   ],
   "source": [
    "w = pywt.Wavelet('db8')\n",
    "plt.plot(w.dec_lo)\n",
    "coeffs = pywt.wavedec(waves[0], w, level=6)"
   ]
  },
  {
   "cell_type": "code",
   "execution_count": 7,
   "id": "95ab5a75",
   "metadata": {},
   "outputs": [],
   "source": [
    "import pandas as pd"
   ]
  },
  {
   "cell_type": "code",
   "execution_count": 8,
   "id": "cb801cab",
   "metadata": {},
   "outputs": [],
   "source": [
    "coef = []\n",
    "for i in range(len(waves)):\n",
    "    coef.append(pywt.wavedec(waves[i], w, level=5))"
   ]
  },
  {
   "cell_type": "code",
   "execution_count": 9,
   "id": "772ae19a",
   "metadata": {},
   "outputs": [
    {
     "name": "stdout",
     "output_type": "stream",
     "text": [
      "(1264,)\n",
      "(1264,)\n",
      "(2514,)\n",
      "(5013,)\n",
      "(10011,)\n",
      "(20007,)\n"
     ]
    }
   ],
   "source": [
    "for i in range(6):\n",
    "    print(coef[0][i].shape)"
   ]
  },
  {
   "cell_type": "markdown",
   "id": "37f4e1b1",
   "metadata": {},
   "source": [
    "### Level by level"
   ]
  },
  {
   "cell_type": "code",
   "execution_count": 10,
   "id": "95d28b26",
   "metadata": {},
   "outputs": [],
   "source": [
    "def level_coef_extractor_3d(array, lvl = 0):\n",
    "    array =np.array(array)\n",
    "    \n",
    "    lenn = array[0][lvl].shape[0] #48\n",
    "    coef = np.ones(shape = (array.shape[0],lenn)) #2392,48\n",
    "    \n",
    "    for i in range(array.shape[0]):\n",
    "        coef[i,:] = array[i][lvl]\n",
    "        \n",
    "    return coef"
   ]
  },
  {
   "cell_type": "code",
   "execution_count": 11,
   "id": "4e06553b",
   "metadata": {},
   "outputs": [],
   "source": [
    "def saver(array = 0, lvl = 0, dir_path = None, name = 'blank'):\n",
    "    coefs = level_coef_extractor_3d(array, lvl)\n",
    "    np.save(dir_path + \"/\"+ str(name) + \"_lvl_\"  + str(lvl), coefs, allow_pickle = True)\n",
    "    del coefs"
   ]
  },
  {
   "cell_type": "code",
   "execution_count": 13,
   "id": "0e5c5c82",
   "metadata": {},
   "outputs": [],
   "source": [
    "for i in range(6):\n",
    "    saver(coef, i, path_w, 'absent_MV_wavelet_coef_5')\n"
   ]
  },
  {
   "cell_type": "markdown",
   "id": "5100e20b",
   "metadata": {},
   "source": [
    "## Shannon entropy\n",
    "\n",
    "The core idea of information theory is that the \"informational value\" of a communicated message depends on the degree to which the content of the message is surprising. \n",
    "\n",
    "If a highly likely event occurs, the message carries very little new information. On the other hand, if a highly unlikely event occurs, the message is much more informative. For instance, the knowledge that some particular number will not be the winning number of a lottery provides very little information, because any particular chosen number will almost certainly not win. \n",
    "\n",
    "However, knowledge that a particular number will win a lottery has high informational value because it communicates the outcome of a very low probability event.\n",
    "\n",
    "There is therefore an inverse relationship between information and the probability of occurrence\n",
    "\n",
    "Remember that Shannon Entropy works on sequences (or probability distribution built from sequences) therefore, you need to have an historic already built up of what your sequence of interest looks like."
   ]
  },
  {
   "cell_type": "code",
   "execution_count": 14,
   "id": "a98ce1f7",
   "metadata": {},
   "outputs": [],
   "source": [
    "import scipy.stats"
   ]
  },
  {
   "cell_type": "code",
   "execution_count": 15,
   "id": "3eb3ae92",
   "metadata": {},
   "outputs": [
    {
     "data": {
      "text/plain": [
       "[<matplotlib.lines.Line2D at 0x2f76cbf10>]"
      ]
     },
     "execution_count": 15,
     "metadata": {},
     "output_type": "execute_result"
    },
    {
     "data": {
      "image/png": "[encoded data removed]",
      "text/plain": [
       "<Figure size 432x288 with 1 Axes>"
      ]
     },
     "metadata": {
      "needs_background": "light"
     },
     "output_type": "display_data"
    }
   ],
   "source": [
    "plt.plot(coef[0][0])"
   ]
  },
  {
   "cell_type": "code",
   "execution_count": 16,
   "id": "b367b7ac",
   "metadata": {},
   "outputs": [],
   "source": [
    "def scale(data): #1264\n",
    "    maxx = data.max()\n",
    "    minn = data.min()\n",
    "    \n",
    "    diff = maxx - minn\n",
    "    scaled = np.empty((data.shape[0]))\n",
    "    \n",
    "    for i in range(data.shape[0]):\n",
    "        scaled[i] = (data[i] - minn )/ diff\n",
    "    return scaled"
   ]
  },
  {
   "cell_type": "code",
   "execution_count": 17,
   "id": "658a7621",
   "metadata": {},
   "outputs": [
    {
     "data": {
      "text/plain": [
       "1264"
      ]
     },
     "execution_count": 17,
     "metadata": {},
     "output_type": "execute_result"
    }
   ],
   "source": [
    "len(coef[0][0]) #1245,6,1264"
   ]
  },
  {
   "cell_type": "code",
   "execution_count": 18,
   "id": "68d963f9",
   "metadata": {},
   "outputs": [],
   "source": [
    "def scaled_wavelet(array, lvl = 6):\n",
    "    all_wavelets = []\n",
    "    \n",
    "    for i in range(lvl):\n",
    "        lenn = array[0][i].shape[0] #level uzunluğu alıyor\n",
    "        scaled_lvl = np.empty((array.shape[0], lenn)) # 1245, level uzunluğu kadar array oluşturuyor\n",
    "        \n",
    "        for j in range(array.shape[0]): #1245\n",
    "            scaled_lvl[j,:] = scale(coef[j][i])  \n",
    "            \n",
    "        all_wavelets.append(scaled_lvl)\n",
    "    return all_wavelets"
   ]
  },
  {
   "cell_type": "code",
   "execution_count": 19,
   "id": "428dd9ee",
   "metadata": {},
   "outputs": [],
   "source": [
    "coef = np.array(coef)\n",
    "wavelets = scaled_wavelet(coef)"
   ]
  },
  {
   "cell_type": "code",
   "execution_count": 20,
   "id": "ab122a96",
   "metadata": {},
   "outputs": [
    {
     "data": {
      "text/plain": [
       "1264"
      ]
     },
     "execution_count": 20,
     "metadata": {},
     "output_type": "execute_result"
    }
   ],
   "source": [
    "len(wavelets[0][0]) # 6, 1245, 1264"
   ]
  },
  {
   "cell_type": "code",
   "execution_count": 21,
   "id": "2d578c40",
   "metadata": {},
   "outputs": [
    {
     "data": {
      "text/plain": [
       "[<matplotlib.lines.Line2D at 0x2f7789dc0>]"
      ]
     },
     "execution_count": 21,
     "metadata": {},
     "output_type": "execute_result"
    },
    {
     "data": {
      "image/png": "[encoded data removed]",
      "text/plain": [
       "<Figure size 432x288 with 1 Axes>"
      ]
     },
     "metadata": {
      "needs_background": "light"
     },
     "output_type": "display_data"
    }
   ],
   "source": [
    "plt.plot(wavelets[0][0])"
   ]
  },
  {
   "cell_type": "code",
   "execution_count": 22,
   "id": "a59da63b",
   "metadata": {},
   "outputs": [],
   "source": [
    "ent = np.empty((n, 6))\n",
    "for j in range(6):\n",
    "    for i in range(n):#1245\n",
    "        ent[i, j] = scipy.stats.entropy(wavelets[j][i])"
   ]
  },
  {
   "cell_type": "code",
   "execution_count": 23,
   "id": "6e0ae512",
   "metadata": {},
   "outputs": [
    {
     "data": {
      "text/plain": [
       "array([[7.13185707, 7.13390114, 7.8275819 , 8.51816399, 9.21108296,\n",
       "        9.90376618],\n",
       "       [7.13397047, 7.12611471, 7.82803415, 8.51887832, 9.21115076,\n",
       "        9.90371869],\n",
       "       [7.13057245, 7.12811484, 7.82029081, 8.51832789, 9.21010188,\n",
       "        9.90376615],\n",
       "       ...,\n",
       "       [7.13107845, 7.12693036, 7.82029311, 8.50535878, 9.21071757,\n",
       "        9.90376479],\n",
       "       [7.11767444, 7.12219339, 7.78559236, 8.48075952, 9.20792794,\n",
       "        9.90369204],\n",
       "       [7.13498112, 7.13770988, 7.82559867, 8.51748218, 9.20835349,\n",
       "        9.9037124 ]])"
      ]
     },
     "execution_count": 23,
     "metadata": {},
     "output_type": "execute_result"
    }
   ],
   "source": [
    "ent"
   ]
  },
  {
   "cell_type": "code",
   "execution_count": 24,
   "id": "6f68353c",
   "metadata": {},
   "outputs": [
    {
     "data": {
      "text/html": [
       "<div>\n",
       "<style scoped>\n",
       "    .dataframe tbody tr th:only-of-type {\n",
       "        vertical-align: middle;\n",
       "    }\n",
       "\n",
       "    .dataframe tbody tr th {\n",
       "        vertical-align: top;\n",
       "    }\n",
       "\n",
       "    .dataframe thead th {\n",
       "        text-align: right;\n",
       "    }\n",
       "</style>\n",
       "<table border=\"1\" class=\"dataframe\">\n",
       "  <thead>\n",
       "    <tr style=\"text-align: right;\">\n",
       "      <th></th>\n",
       "      <th>approx</th>\n",
       "      <th>lvl5</th>\n",
       "      <th>lvl4</th>\n",
       "      <th>lvl3</th>\n",
       "      <th>lvl2</th>\n",
       "      <th>lvl1</th>\n",
       "    </tr>\n",
       "  </thead>\n",
       "  <tbody>\n",
       "    <tr>\n",
       "      <th>0</th>\n",
       "      <td>7.131857</td>\n",
       "      <td>7.133901</td>\n",
       "      <td>7.827582</td>\n",
       "      <td>8.518164</td>\n",
       "      <td>9.211083</td>\n",
       "      <td>9.903766</td>\n",
       "    </tr>\n",
       "    <tr>\n",
       "      <th>1</th>\n",
       "      <td>7.133970</td>\n",
       "      <td>7.126115</td>\n",
       "      <td>7.828034</td>\n",
       "      <td>8.518878</td>\n",
       "      <td>9.211151</td>\n",
       "      <td>9.903719</td>\n",
       "    </tr>\n",
       "    <tr>\n",
       "      <th>2</th>\n",
       "      <td>7.130572</td>\n",
       "      <td>7.128115</td>\n",
       "      <td>7.820291</td>\n",
       "      <td>8.518328</td>\n",
       "      <td>9.210102</td>\n",
       "      <td>9.903766</td>\n",
       "    </tr>\n",
       "    <tr>\n",
       "      <th>3</th>\n",
       "      <td>7.126269</td>\n",
       "      <td>7.124734</td>\n",
       "      <td>7.823169</td>\n",
       "      <td>8.516287</td>\n",
       "      <td>9.210856</td>\n",
       "      <td>9.903713</td>\n",
       "    </tr>\n",
       "    <tr>\n",
       "      <th>4</th>\n",
       "      <td>7.131227</td>\n",
       "      <td>7.128021</td>\n",
       "      <td>7.815786</td>\n",
       "      <td>8.515968</td>\n",
       "      <td>9.211167</td>\n",
       "      <td>9.903714</td>\n",
       "    </tr>\n",
       "    <tr>\n",
       "      <th>...</th>\n",
       "      <td>...</td>\n",
       "      <td>...</td>\n",
       "      <td>...</td>\n",
       "      <td>...</td>\n",
       "      <td>...</td>\n",
       "      <td>...</td>\n",
       "    </tr>\n",
       "    <tr>\n",
       "      <th>5738</th>\n",
       "      <td>7.123416</td>\n",
       "      <td>7.128553</td>\n",
       "      <td>7.810236</td>\n",
       "      <td>8.491175</td>\n",
       "      <td>9.210004</td>\n",
       "      <td>9.903764</td>\n",
       "    </tr>\n",
       "    <tr>\n",
       "      <th>5739</th>\n",
       "      <td>7.124209</td>\n",
       "      <td>7.130598</td>\n",
       "      <td>7.826634</td>\n",
       "      <td>8.516930</td>\n",
       "      <td>9.211048</td>\n",
       "      <td>9.903701</td>\n",
       "    </tr>\n",
       "    <tr>\n",
       "      <th>5740</th>\n",
       "      <td>7.131078</td>\n",
       "      <td>7.126930</td>\n",
       "      <td>7.820293</td>\n",
       "      <td>8.505359</td>\n",
       "      <td>9.210718</td>\n",
       "      <td>9.903765</td>\n",
       "    </tr>\n",
       "    <tr>\n",
       "      <th>5741</th>\n",
       "      <td>7.117674</td>\n",
       "      <td>7.122193</td>\n",
       "      <td>7.785592</td>\n",
       "      <td>8.480760</td>\n",
       "      <td>9.207928</td>\n",
       "      <td>9.903692</td>\n",
       "    </tr>\n",
       "    <tr>\n",
       "      <th>5742</th>\n",
       "      <td>7.134981</td>\n",
       "      <td>7.137710</td>\n",
       "      <td>7.825599</td>\n",
       "      <td>8.517482</td>\n",
       "      <td>9.208353</td>\n",
       "      <td>9.903712</td>\n",
       "    </tr>\n",
       "  </tbody>\n",
       "</table>\n",
       "<p>5743 rows × 6 columns</p>\n",
       "</div>"
      ],
      "text/plain": [
       "        approx      lvl5      lvl4      lvl3      lvl2      lvl1\n",
       "0     7.131857  7.133901  7.827582  8.518164  9.211083  9.903766\n",
       "1     7.133970  7.126115  7.828034  8.518878  9.211151  9.903719\n",
       "2     7.130572  7.128115  7.820291  8.518328  9.210102  9.903766\n",
       "3     7.126269  7.124734  7.823169  8.516287  9.210856  9.903713\n",
       "4     7.131227  7.128021  7.815786  8.515968  9.211167  9.903714\n",
       "...        ...       ...       ...       ...       ...       ...\n",
       "5738  7.123416  7.128553  7.810236  8.491175  9.210004  9.903764\n",
       "5739  7.124209  7.130598  7.826634  8.516930  9.211048  9.903701\n",
       "5740  7.131078  7.126930  7.820293  8.505359  9.210718  9.903765\n",
       "5741  7.117674  7.122193  7.785592  8.480760  9.207928  9.903692\n",
       "5742  7.134981  7.137710  7.825599  8.517482  9.208353  9.903712\n",
       "\n",
       "[5743 rows x 6 columns]"
      ]
     },
     "execution_count": 24,
     "metadata": {},
     "output_type": "execute_result"
    }
   ],
   "source": [
    "ent_df = pd.DataFrame(ent, columns = [\"approx\",\"lvl5\", \"lvl4\", \"lvl3\", \"lvl2\", \"lvl1\"])\n",
    "ent_df"
   ]
  },
  {
   "cell_type": "code",
   "execution_count": 25,
   "id": "ce41bdef",
   "metadata": {},
   "outputs": [],
   "source": [
    "ent_df.to_csv(path_w + \"shannon_entropy_PV.csv\")"
   ]
  },
  {
   "cell_type": "code",
   "execution_count": null,
   "id": "644886e4",
   "metadata": {},
   "outputs": [],
   "source": []
  }
 ],
 "metadata": {
  "kernelspec": {
   "display_name": "Python 3 (ipykernel)",
   "language": "python",
   "name": "python3"
  },
  "language_info": {
   "codemirror_mode": {
    "name": "ipython",
    "version": 3
   },
   "file_extension": ".py",
   "mimetype": "text/x-python",
   "name": "python",
   "nbconvert_exporter": "python",
   "pygments_lexer": "ipython3",
   "version": "3.9.9"
  }
 },
 "nbformat": 4,
 "nbformat_minor": 5
}
