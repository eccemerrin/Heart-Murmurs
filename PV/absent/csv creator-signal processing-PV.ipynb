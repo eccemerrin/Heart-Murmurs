{
 "cells": [
  {
   "cell_type": "markdown",
   "id": "a10707b4",
   "metadata": {},
   "source": [
    "## Imports:"
   ]
  },
  {
   "cell_type": "code",
   "execution_count": 2,
   "id": "5b0b2dcc",
   "metadata": {},
   "outputs": [
    {
     "ename": "RuntimeError",
     "evalue": "module compiled against API version 0xe but this version of numpy is 0xd",
     "output_type": "error",
     "traceback": [
      "\u001b[0;31m---------------------------------------------------------------------------\u001b[0m",
      "\u001b[0;31mRuntimeError\u001b[0m                              Traceback (most recent call last)",
      "\u001b[0;31mRuntimeError\u001b[0m: module compiled against API version 0xe but this version of numpy is 0xd"
     ]
    }
   ],
   "source": [
    "import scipy.io\n",
    "import os\n",
    "import pandas\n",
    "import numpy as np\n",
    "import matplotlib.pyplot as plt\n",
    "import matplotlib.pylab as plt_lab\n",
    "import matplotlib.gridspec as gridspec\n",
    "import obspy\n",
    "import pandas as pd"
   ]
  },
  {
   "cell_type": "code",
   "execution_count": 3,
   "id": "995724bf",
   "metadata": {},
   "outputs": [],
   "source": [
    "import warnings\n",
    "warnings.filterwarnings('ignore')"
   ]
  },
  {
   "cell_type": "markdown",
   "id": "41b4c77f",
   "metadata": {},
   "source": [
    "## Load data:\n",
    "We are going to use this data to plot spectograms of SCG signals. "
   ]
  },
  {
   "cell_type": "code",
   "execution_count": 4,
   "id": "75a415fd",
   "metadata": {},
   "outputs": [],
   "source": [
    "path = \"/Users/ecem/Desktop/phonocardiogram/data/PV/absent\""
   ]
  },
  {
   "cell_type": "code",
   "execution_count": 5,
   "id": "cff5b561",
   "metadata": {},
   "outputs": [],
   "source": [
    "waves = np.load(path + \"/absent_PV_waves_10sec.npy\", allow_pickle= True)\n"
   ]
  },
  {
   "cell_type": "code",
   "execution_count": 6,
   "id": "557b6190",
   "metadata": {},
   "outputs": [
    {
     "name": "stdout",
     "output_type": "stream",
     "text": [
      "(5743, 40000)\n"
     ]
    }
   ],
   "source": [
    "print(waves.shape)\n"
   ]
  },
  {
   "cell_type": "markdown",
   "id": "1b2a6059",
   "metadata": {},
   "source": [
    "## Zero Crossing Rate:\n",
    "Compute the zero-crossing rate of an audio time series.\n",
    "The zero-crossing rate (ZCR) is the rate at which a signal changes from positive to zero to negative or from negative to zero to positive."
   ]
  },
  {
   "cell_type": "code",
   "execution_count": 7,
   "id": "7c9b734f",
   "metadata": {},
   "outputs": [],
   "source": [
    "import librosa as lbs"
   ]
  },
  {
   "cell_type": "code",
   "execution_count": 8,
   "id": "23a0bede",
   "metadata": {},
   "outputs": [
    {
     "data": {
      "text/plain": [
       "array([[0.01975 , 0.03225 , 0.02225 , 0.029875]])"
      ]
     },
     "execution_count": 8,
     "metadata": {},
     "output_type": "execute_result"
    }
   ],
   "source": [
    "lbs.feature.zero_crossing_rate(waves[7],frame_length= 8000, hop_length = 12000)"
   ]
  },
  {
   "cell_type": "code",
   "execution_count": 9,
   "id": "b2a61800",
   "metadata": {},
   "outputs": [
    {
     "data": {
      "text/plain": [
       "(1, 4)"
      ]
     },
     "execution_count": 9,
     "metadata": {},
     "output_type": "execute_result"
    }
   ],
   "source": [
    "lbs.feature.zero_crossing_rate(waves[7], frame_length= 8000, hop_length = 12000).shape"
   ]
  },
  {
   "cell_type": "code",
   "execution_count": 10,
   "id": "cc79deea",
   "metadata": {},
   "outputs": [],
   "source": [
    "def zero_crossing(array, frame_length= 2048, hl = 512):\n",
    "    zero_crossing_rate = np.ones(shape = (array.shape[0], 5)) #buradaki ikinci sayı hop lenght e göre değişmeli \n",
    "\n",
    "    for i in range(array.shape[0]):\n",
    "        zero_crossing_rate[i][0:4] = lbs.feature.zero_crossing_rate(array[i],  frame_length = frame_length,\n",
    "                                                                    hop_length = hl)\n",
    "        zero_crossing_rate[i][4] = sum(lbs.zero_crossings(array[i]))\n",
    "    return zero_crossing_rate\n",
    "\n",
    "        "
   ]
  },
  {
   "cell_type": "code",
   "execution_count": 11,
   "id": "3badd449",
   "metadata": {},
   "outputs": [],
   "source": [
    "zcrs = zero_crossing(waves, 8000, hl = 12000) #çok uzun sürüyor, ya datayı kısaltmalıyız ya da hop lenght artmalı"
   ]
  },
  {
   "cell_type": "code",
   "execution_count": 12,
   "id": "5a0decad",
   "metadata": {},
   "outputs": [
    {
     "data": {
      "text/plain": [
       "numpy.ndarray"
      ]
     },
     "execution_count": 12,
     "metadata": {},
     "output_type": "execute_result"
    }
   ],
   "source": [
    "type(zcrs[0])"
   ]
  },
  {
   "cell_type": "code",
   "execution_count": 13,
   "id": "ef9d104e",
   "metadata": {},
   "outputs": [],
   "source": [
    "np.save(path + \"/absent_PV_zcrs_array\", zcrs, allow_pickle= True)"
   ]
  },
  {
   "cell_type": "code",
   "execution_count": 14,
   "id": "58e4c21a",
   "metadata": {},
   "outputs": [
    {
     "name": "stdout",
     "output_type": "stream",
     "text": [
      "['zcrs0', 'zcrs1', 'zcrs2', 'zcrs3', '#ofcrossing']\n"
     ]
    }
   ],
   "source": [
    "columns_zcr = []\n",
    "for i in range(zcrs.shape[1]-1):\n",
    "    columns_zcr.append(\"zcrs{}\".format(i))\n",
    "\n",
    "    \n",
    "columns_zcr.append(\"#ofcrossing\")\n",
    "\n",
    "print(columns_zcr)"
   ]
  },
  {
   "cell_type": "code",
   "execution_count": 15,
   "id": "e07f721f",
   "metadata": {},
   "outputs": [
    {
     "data": {
      "text/plain": [
       "array([1.9750e-02, 3.2250e-02, 2.2250e-02, 2.9875e-02, 1.2020e+03])"
      ]
     },
     "execution_count": 15,
     "metadata": {},
     "output_type": "execute_result"
    }
   ],
   "source": [
    "zcrs[7]"
   ]
  },
  {
   "cell_type": "code",
   "execution_count": 16,
   "id": "14c76313",
   "metadata": {},
   "outputs": [],
   "source": [
    "def dataframe_creator(array, df = pd.DataFrame(), l = 7, columns = None):\n",
    "    values = []\n",
    "\n",
    "    for i in range(array.shape[0]):\n",
    "        llist = list(array[i][0:l-1].tolist())\n",
    "        llist.append(array[i][l-1])\n",
    "        \n",
    "        values.append(llist)\n",
    "        medium = pd.DataFrame([values[i]], columns = columns)\n",
    "        \n",
    "        \n",
    "        df = pd.concat([df, medium], axis = 0)\n",
    "    return df "
   ]
  },
  {
   "cell_type": "code",
   "execution_count": 17,
   "id": "40eb5d7a",
   "metadata": {},
   "outputs": [],
   "source": [
    "df = dataframe_creator(zcrs, l =5,  columns = columns_zcr)\n",
    "\n",
    "df.reset_index(drop = True, inplace = True)"
   ]
  },
  {
   "cell_type": "code",
   "execution_count": 18,
   "id": "58c4ea98",
   "metadata": {},
   "outputs": [
    {
     "data": {
      "text/html": [
       "<div>\n",
       "<style scoped>\n",
       "    .dataframe tbody tr th:only-of-type {\n",
       "        vertical-align: middle;\n",
       "    }\n",
       "\n",
       "    .dataframe tbody tr th {\n",
       "        vertical-align: top;\n",
       "    }\n",
       "\n",
       "    .dataframe thead th {\n",
       "        text-align: right;\n",
       "    }\n",
       "</style>\n",
       "<table border=\"1\" class=\"dataframe\">\n",
       "  <thead>\n",
       "    <tr style=\"text-align: right;\">\n",
       "      <th></th>\n",
       "      <th>zcrs0</th>\n",
       "      <th>zcrs1</th>\n",
       "      <th>zcrs2</th>\n",
       "      <th>zcrs3</th>\n",
       "      <th>#ofcrossing</th>\n",
       "    </tr>\n",
       "  </thead>\n",
       "  <tbody>\n",
       "    <tr>\n",
       "      <th>0</th>\n",
       "      <td>0.017625</td>\n",
       "      <td>0.031125</td>\n",
       "      <td>0.033625</td>\n",
       "      <td>0.041500</td>\n",
       "      <td>1360.0</td>\n",
       "    </tr>\n",
       "    <tr>\n",
       "      <th>1</th>\n",
       "      <td>0.023500</td>\n",
       "      <td>0.040250</td>\n",
       "      <td>0.042250</td>\n",
       "      <td>0.040000</td>\n",
       "      <td>1674.0</td>\n",
       "    </tr>\n",
       "    <tr>\n",
       "      <th>2</th>\n",
       "      <td>0.017125</td>\n",
       "      <td>0.038250</td>\n",
       "      <td>0.036125</td>\n",
       "      <td>0.032625</td>\n",
       "      <td>1473.0</td>\n",
       "    </tr>\n",
       "    <tr>\n",
       "      <th>3</th>\n",
       "      <td>0.015625</td>\n",
       "      <td>0.031875</td>\n",
       "      <td>0.036250</td>\n",
       "      <td>0.033625</td>\n",
       "      <td>1287.0</td>\n",
       "    </tr>\n",
       "    <tr>\n",
       "      <th>4</th>\n",
       "      <td>0.016875</td>\n",
       "      <td>0.035000</td>\n",
       "      <td>0.038375</td>\n",
       "      <td>0.033125</td>\n",
       "      <td>1288.0</td>\n",
       "    </tr>\n",
       "  </tbody>\n",
       "</table>\n",
       "</div>"
      ],
      "text/plain": [
       "      zcrs0     zcrs1     zcrs2     zcrs3  #ofcrossing\n",
       "0  0.017625  0.031125  0.033625  0.041500       1360.0\n",
       "1  0.023500  0.040250  0.042250  0.040000       1674.0\n",
       "2  0.017125  0.038250  0.036125  0.032625       1473.0\n",
       "3  0.015625  0.031875  0.036250  0.033625       1287.0\n",
       "4  0.016875  0.035000  0.038375  0.033125       1288.0"
      ]
     },
     "execution_count": 18,
     "metadata": {},
     "output_type": "execute_result"
    }
   ],
   "source": [
    "df.head()"
   ]
  },
  {
   "cell_type": "code",
   "execution_count": 22,
   "id": "febe5cf1",
   "metadata": {},
   "outputs": [],
   "source": [
    "df.to_csv( path + \"/absent_PV_zcrs.csv\")"
   ]
  },
  {
   "cell_type": "markdown",
   "id": "3bbfeffb",
   "metadata": {},
   "source": [
    "## with Özgün Ozan Nacitarhan code"
   ]
  },
  {
   "cell_type": "code",
   "execution_count": 23,
   "id": "481adc1a",
   "metadata": {},
   "outputs": [],
   "source": [
    "def zcr(array):\n",
    "    zcr = np.ones(shape = (array.shape[0],1))\n",
    "    for i in range(array.shape[0]):\n",
    "        data_zeros = np.zeros(len(array[i]))\n",
    "        data_zeros[1:] = array[i][:len(array[i]) - 1]\n",
    "        zcr[i][0] = (1 / (2 * len(array[i]))) * np.sum(np.abs(np.sign(array[i]) - np.sign(data_zeros)))\n",
    "        \n",
    "    return zcr\n"
   ]
  },
  {
   "cell_type": "code",
   "execution_count": 24,
   "id": "f539b16d",
   "metadata": {},
   "outputs": [],
   "source": [
    "zcrs_özgün = zcr(waves)"
   ]
  },
  {
   "cell_type": "code",
   "execution_count": 25,
   "id": "12e14c34",
   "metadata": {},
   "outputs": [
    {
     "data": {
      "text/plain": [
       "(5743, 1)"
      ]
     },
     "execution_count": 25,
     "metadata": {},
     "output_type": "execute_result"
    }
   ],
   "source": [
    "zcrs_özgün.shape"
   ]
  },
  {
   "cell_type": "code",
   "execution_count": 26,
   "id": "20657000",
   "metadata": {},
   "outputs": [
    {
     "data": {
      "text/plain": [
       "array([0.0339875])"
      ]
     },
     "execution_count": 26,
     "metadata": {},
     "output_type": "execute_result"
    }
   ],
   "source": [
    "zcrs_özgün[0]"
   ]
  },
  {
   "cell_type": "code",
   "execution_count": 27,
   "id": "adfd4882",
   "metadata": {},
   "outputs": [],
   "source": [
    "np.save(path + \"/absent_PV_zcrs_özgün\", zcrs_özgün, allow_pickle= True)"
   ]
  },
  {
   "cell_type": "markdown",
   "id": "68835fa8",
   "metadata": {},
   "source": [
    "### Chromogram:\n",
    "We can use Chroma feature visualization to know how dominant the characteristics of a certain pitch {C, C♯, D, D♯, E, F, F♯, G, G♯, A, A♯, B} is present in the sampled frame.\n",
    "\n",
    "Compute a chromagram from a waveform or power spectrogram.\n",
    "It returns Normalized energy for each chroma bin at each frame.\n",
    "\n",
    "Hop size should refer to the number of samples in between successive frames. For signal analysis Hop Size should be less than the frame size, so that frames overlap."
   ]
  },
  {
   "cell_type": "code",
   "execution_count": 28,
   "id": "a2419065",
   "metadata": {},
   "outputs": [],
   "source": [
    "import warnings\n",
    "warnings.filterwarnings('ignore')"
   ]
  },
  {
   "cell_type": "code",
   "execution_count": 29,
   "id": "4ee986de",
   "metadata": {},
   "outputs": [],
   "source": [
    "import librosa.display"
   ]
  },
  {
   "cell_type": "code",
   "execution_count": 30,
   "id": "72d9d462",
   "metadata": {},
   "outputs": [
    {
     "data": {
      "text/plain": [
       "(12, 4)"
      ]
     },
     "execution_count": 30,
     "metadata": {},
     "output_type": "execute_result"
    }
   ],
   "source": [
    "lbs.feature.chroma_stft(waves[0], sr = 4000, hop_length = 12000).shape"
   ]
  },
  {
   "cell_type": "code",
   "execution_count": 31,
   "id": "1129b939",
   "metadata": {},
   "outputs": [],
   "source": [
    "# we are taking time average of each pitch values.\n",
    "def chromagram_average(array, sampling_rate = 256):\n",
    "    pitch = np.ones(shape = (array.shape[0], 12)) \n",
    "    \n",
    "    for i in range(array.shape[0]):\n",
    "        for j in range(12):\n",
    "            pitch[i][j] = lbs.feature.chroma_stft(np.array(array[i]), sr= sampling_rate, hop_length = 12000)[j].mean()\n",
    "    return pitch"
   ]
  },
  {
   "cell_type": "code",
   "execution_count": 32,
   "id": "fe736d42",
   "metadata": {},
   "outputs": [],
   "source": [
    "chro = chromagram_average(waves, sampling_rate = 4000) # bu da çok uzun sürüyor."
   ]
  },
  {
   "cell_type": "code",
   "execution_count": 33,
   "id": "ed36ce80",
   "metadata": {},
   "outputs": [
    {
     "data": {
      "text/plain": [
       "numpy.ndarray"
      ]
     },
     "execution_count": 33,
     "metadata": {},
     "output_type": "execute_result"
    }
   ],
   "source": [
    "type(chro[0])"
   ]
  },
  {
   "cell_type": "code",
   "execution_count": 34,
   "id": "875ac687",
   "metadata": {},
   "outputs": [
    {
     "data": {
      "text/plain": [
       "(5743, 12)"
      ]
     },
     "execution_count": 34,
     "metadata": {},
     "output_type": "execute_result"
    }
   ],
   "source": [
    "chro.shape"
   ]
  },
  {
   "cell_type": "code",
   "execution_count": 35,
   "id": "0bac78ad",
   "metadata": {},
   "outputs": [],
   "source": [
    "np.save(path + \"/absent_PV_chromogram_array\", chro, allow_pickle= True)"
   ]
  },
  {
   "cell_type": "code",
   "execution_count": 36,
   "id": "f275be61",
   "metadata": {},
   "outputs": [
    {
     "name": "stdout",
     "output_type": "stream",
     "text": [
      "(5743, 12)\n"
     ]
    }
   ],
   "source": [
    "print(chro.shape)"
   ]
  },
  {
   "cell_type": "code",
   "execution_count": 37,
   "id": "69d520e6",
   "metadata": {},
   "outputs": [],
   "source": [
    "lst = [\"C\", \"C♯\", \"D\", \"D♯\", \"E\", \"F\", \"F♯\", \"G\", \"G♯\", \"A\", \"A♯\", \"B\"]"
   ]
  },
  {
   "cell_type": "code",
   "execution_count": 38,
   "id": "b24e15ff",
   "metadata": {},
   "outputs": [
    {
     "name": "stdout",
     "output_type": "stream",
     "text": [
      "['C', 'C♯', 'D', 'D♯', 'E', 'F', 'F♯', 'G', 'G♯', 'A', 'A♯', 'B']\n",
      "12\n"
     ]
    }
   ],
   "source": [
    "col_chro = []\n",
    "for i in range(chro.shape[1]):\n",
    "    col_chro.append(lst[i])\n",
    "    \n",
    "print(col_chro)\n",
    "print(len(col_chro))"
   ]
  },
  {
   "cell_type": "code",
   "execution_count": 39,
   "id": "17156bed",
   "metadata": {},
   "outputs": [
    {
     "data": {
      "text/html": [
       "<div>\n",
       "<style scoped>\n",
       "    .dataframe tbody tr th:only-of-type {\n",
       "        vertical-align: middle;\n",
       "    }\n",
       "\n",
       "    .dataframe tbody tr th {\n",
       "        vertical-align: top;\n",
       "    }\n",
       "\n",
       "    .dataframe thead th {\n",
       "        text-align: right;\n",
       "    }\n",
       "</style>\n",
       "<table border=\"1\" class=\"dataframe\">\n",
       "  <thead>\n",
       "    <tr style=\"text-align: right;\">\n",
       "      <th></th>\n",
       "      <th>C</th>\n",
       "      <th>C♯</th>\n",
       "      <th>D</th>\n",
       "      <th>D♯</th>\n",
       "      <th>E</th>\n",
       "      <th>F</th>\n",
       "      <th>F♯</th>\n",
       "      <th>G</th>\n",
       "      <th>G♯</th>\n",
       "      <th>A</th>\n",
       "      <th>A♯</th>\n",
       "      <th>B</th>\n",
       "    </tr>\n",
       "  </thead>\n",
       "  <tbody>\n",
       "    <tr>\n",
       "      <th>0</th>\n",
       "      <td>0.693644</td>\n",
       "      <td>0.723399</td>\n",
       "      <td>0.594544</td>\n",
       "      <td>0.428407</td>\n",
       "      <td>0.540471</td>\n",
       "      <td>0.510074</td>\n",
       "      <td>0.363098</td>\n",
       "      <td>0.37403</td>\n",
       "      <td>0.486809</td>\n",
       "      <td>0.594864</td>\n",
       "      <td>0.651274</td>\n",
       "      <td>0.779517</td>\n",
       "    </tr>\n",
       "    <tr>\n",
       "      <th>1</th>\n",
       "      <td>0.867603</td>\n",
       "      <td>0.845508</td>\n",
       "      <td>0.777312</td>\n",
       "      <td>0.585648</td>\n",
       "      <td>0.511485</td>\n",
       "      <td>0.478331</td>\n",
       "      <td>0.522165</td>\n",
       "      <td>0.588875</td>\n",
       "      <td>0.562761</td>\n",
       "      <td>0.566184</td>\n",
       "      <td>0.659388</td>\n",
       "      <td>0.839351</td>\n",
       "    </tr>\n",
       "    <tr>\n",
       "      <th>2</th>\n",
       "      <td>0.68586</td>\n",
       "      <td>0.601582</td>\n",
       "      <td>0.482327</td>\n",
       "      <td>0.28854</td>\n",
       "      <td>0.302736</td>\n",
       "      <td>0.406568</td>\n",
       "      <td>0.609526</td>\n",
       "      <td>0.622973</td>\n",
       "      <td>0.547817</td>\n",
       "      <td>0.458502</td>\n",
       "      <td>0.626571</td>\n",
       "      <td>0.803903</td>\n",
       "    </tr>\n",
       "    <tr>\n",
       "      <th>3</th>\n",
       "      <td>0.606256</td>\n",
       "      <td>0.690986</td>\n",
       "      <td>0.750079</td>\n",
       "      <td>0.710613</td>\n",
       "      <td>0.752834</td>\n",
       "      <td>0.659047</td>\n",
       "      <td>0.461702</td>\n",
       "      <td>0.578035</td>\n",
       "      <td>0.680345</td>\n",
       "      <td>0.797427</td>\n",
       "      <td>0.663839</td>\n",
       "      <td>0.629473</td>\n",
       "    </tr>\n",
       "    <tr>\n",
       "      <th>4</th>\n",
       "      <td>0.809643</td>\n",
       "      <td>0.741644</td>\n",
       "      <td>0.599436</td>\n",
       "      <td>0.579768</td>\n",
       "      <td>0.450705</td>\n",
       "      <td>0.482242</td>\n",
       "      <td>0.55319</td>\n",
       "      <td>0.523951</td>\n",
       "      <td>0.589817</td>\n",
       "      <td>0.736974</td>\n",
       "      <td>0.594865</td>\n",
       "      <td>0.6367</td>\n",
       "    </tr>\n",
       "    <tr>\n",
       "      <th>...</th>\n",
       "      <td>...</td>\n",
       "      <td>...</td>\n",
       "      <td>...</td>\n",
       "      <td>...</td>\n",
       "      <td>...</td>\n",
       "      <td>...</td>\n",
       "      <td>...</td>\n",
       "      <td>...</td>\n",
       "      <td>...</td>\n",
       "      <td>...</td>\n",
       "      <td>...</td>\n",
       "      <td>...</td>\n",
       "    </tr>\n",
       "    <tr>\n",
       "      <th>5738</th>\n",
       "      <td>0.583385</td>\n",
       "      <td>0.54672</td>\n",
       "      <td>0.44279</td>\n",
       "      <td>0.505253</td>\n",
       "      <td>0.579608</td>\n",
       "      <td>0.521135</td>\n",
       "      <td>0.595198</td>\n",
       "      <td>0.504944</td>\n",
       "      <td>0.445564</td>\n",
       "      <td>0.831876</td>\n",
       "      <td>0.621956</td>\n",
       "      <td>0.43113</td>\n",
       "    </tr>\n",
       "    <tr>\n",
       "      <th>5739</th>\n",
       "      <td>0.845798</td>\n",
       "      <td>0.615033</td>\n",
       "      <td>0.440229</td>\n",
       "      <td>0.411292</td>\n",
       "      <td>0.313319</td>\n",
       "      <td>0.370932</td>\n",
       "      <td>0.442699</td>\n",
       "      <td>0.502705</td>\n",
       "      <td>0.572043</td>\n",
       "      <td>0.55052</td>\n",
       "      <td>0.591647</td>\n",
       "      <td>0.762509</td>\n",
       "    </tr>\n",
       "    <tr>\n",
       "      <th>5740</th>\n",
       "      <td>0.57721</td>\n",
       "      <td>0.572016</td>\n",
       "      <td>0.673101</td>\n",
       "      <td>0.531599</td>\n",
       "      <td>0.403556</td>\n",
       "      <td>0.444116</td>\n",
       "      <td>0.458384</td>\n",
       "      <td>0.625309</td>\n",
       "      <td>0.619016</td>\n",
       "      <td>0.614554</td>\n",
       "      <td>0.683417</td>\n",
       "      <td>0.657572</td>\n",
       "    </tr>\n",
       "    <tr>\n",
       "      <th>5741</th>\n",
       "      <td>0.584429</td>\n",
       "      <td>0.507977</td>\n",
       "      <td>0.436805</td>\n",
       "      <td>0.344182</td>\n",
       "      <td>0.372291</td>\n",
       "      <td>0.413986</td>\n",
       "      <td>0.472122</td>\n",
       "      <td>0.610446</td>\n",
       "      <td>0.867279</td>\n",
       "      <td>0.765115</td>\n",
       "      <td>0.766624</td>\n",
       "      <td>0.706321</td>\n",
       "    </tr>\n",
       "    <tr>\n",
       "      <th>5742</th>\n",
       "      <td>0.585459</td>\n",
       "      <td>0.554875</td>\n",
       "      <td>0.527523</td>\n",
       "      <td>0.487044</td>\n",
       "      <td>0.501598</td>\n",
       "      <td>0.375458</td>\n",
       "      <td>0.455076</td>\n",
       "      <td>0.47551</td>\n",
       "      <td>0.573107</td>\n",
       "      <td>0.81315</td>\n",
       "      <td>0.825839</td>\n",
       "      <td>0.677074</td>\n",
       "    </tr>\n",
       "  </tbody>\n",
       "</table>\n",
       "<p>5743 rows × 12 columns</p>\n",
       "</div>"
      ],
      "text/plain": [
       "             C        C♯         D        D♯         E         F        F♯  \\\n",
       "0     0.693644  0.723399  0.594544  0.428407  0.540471  0.510074  0.363098   \n",
       "1     0.867603  0.845508  0.777312  0.585648  0.511485  0.478331  0.522165   \n",
       "2      0.68586  0.601582  0.482327   0.28854  0.302736  0.406568  0.609526   \n",
       "3     0.606256  0.690986  0.750079  0.710613  0.752834  0.659047  0.461702   \n",
       "4     0.809643  0.741644  0.599436  0.579768  0.450705  0.482242   0.55319   \n",
       "...        ...       ...       ...       ...       ...       ...       ...   \n",
       "5738  0.583385   0.54672   0.44279  0.505253  0.579608  0.521135  0.595198   \n",
       "5739  0.845798  0.615033  0.440229  0.411292  0.313319  0.370932  0.442699   \n",
       "5740   0.57721  0.572016  0.673101  0.531599  0.403556  0.444116  0.458384   \n",
       "5741  0.584429  0.507977  0.436805  0.344182  0.372291  0.413986  0.472122   \n",
       "5742  0.585459  0.554875  0.527523  0.487044  0.501598  0.375458  0.455076   \n",
       "\n",
       "             G        G♯         A        A♯         B  \n",
       "0      0.37403  0.486809  0.594864  0.651274  0.779517  \n",
       "1     0.588875  0.562761  0.566184  0.659388  0.839351  \n",
       "2     0.622973  0.547817  0.458502  0.626571  0.803903  \n",
       "3     0.578035  0.680345  0.797427  0.663839  0.629473  \n",
       "4     0.523951  0.589817  0.736974  0.594865    0.6367  \n",
       "...        ...       ...       ...       ...       ...  \n",
       "5738  0.504944  0.445564  0.831876  0.621956   0.43113  \n",
       "5739  0.502705  0.572043   0.55052  0.591647  0.762509  \n",
       "5740  0.625309  0.619016  0.614554  0.683417  0.657572  \n",
       "5741  0.610446  0.867279  0.765115  0.766624  0.706321  \n",
       "5742   0.47551  0.573107   0.81315  0.825839  0.677074  \n",
       "\n",
       "[5743 rows x 12 columns]"
      ]
     },
     "execution_count": 39,
     "metadata": {},
     "output_type": "execute_result"
    }
   ],
   "source": [
    "ch_df = dataframe_creator(chro,\n",
    "                         df =pd.DataFrame(columns = col_chro), columns = col_chro, l = 12)\n",
    "\n",
    "ch_df.reset_index(drop = True, inplace = True)\n",
    "ch_df"
   ]
  },
  {
   "cell_type": "code",
   "execution_count": 40,
   "id": "81a61a1e",
   "metadata": {},
   "outputs": [],
   "source": [
    "ch_df.to_csv(path + \"/absent_PV_chromogram.csv\")"
   ]
  },
  {
   "cell_type": "markdown",
   "id": "cce74b21",
   "metadata": {},
   "source": [
    "## Tempogram\n",
    "\n",
    "Compute the tempogram: local autocorrelation of the onset strength envelope.\n",
    "\n",
    "# kendime not tempogram değerlerini spektogram değerleri gibi kaydet."
   ]
  },
  {
   "cell_type": "code",
   "execution_count": 41,
   "id": "c9f3130a",
   "metadata": {},
   "outputs": [],
   "source": [
    "def tempo_average(array): # 192,79\n",
    "    means= []\n",
    "    for i in range(array.shape[0]): #192\n",
    "        means.append(array[i].mean())\n",
    "    return np.array(means) # 192\n",
    "        "
   ]
  },
  {
   "cell_type": "code",
   "execution_count": 42,
   "id": "9d9179b5",
   "metadata": {},
   "outputs": [],
   "source": [
    "def tempogram(array = 0, hop_lenght = 12000, sampling_rate = 256):\n",
    "    \n",
    "    oenv = librosa.onset.onset_strength(y=np.array(array), \n",
    "                                            sr=sampling_rate, \n",
    "                                        lag =3)\n",
    "\n",
    "    times = librosa.times_like(oenv, sr=sampling_rate, hop_length=12000)\n",
    "\n",
    "    tempogram = librosa.feature.tempogram(onset_envelope = oenv, sr = sampling_rate,\n",
    "                                              hop_length = hop_lenght, win_length = 192 )\n",
    "    # Estimate the global tempo for display purposes\n",
    "    #tempo = librosa.beat.tempo(onset_envelope=oenv, sr= sampling_rate,\n",
    "                                   #hop_length=hop_length)[0]\n",
    "    return tempogram"
   ]
  },
  {
   "cell_type": "code",
   "execution_count": 43,
   "id": "4ec648a1",
   "metadata": {},
   "outputs": [
    {
     "data": {
      "text/plain": [
       "(192, 79)"
      ]
     },
     "execution_count": 43,
     "metadata": {},
     "output_type": "execute_result"
    }
   ],
   "source": [
    "tempogram(waves[0]).shape"
   ]
  },
  {
   "cell_type": "code",
   "execution_count": 44,
   "id": "d113b2df",
   "metadata": {},
   "outputs": [
    {
     "data": {
      "text/plain": [
       "array([1., 1., 1., 1., 1., 1., 1., 1., 1., 1., 1., 1., 1., 1., 1., 1., 1.,\n",
       "       1., 1., 1., 1., 1., 1., 1., 1., 1., 1., 1., 1., 1., 1., 1., 1., 1.,\n",
       "       1., 1., 1., 1., 1., 1., 1., 1., 1., 1., 1., 1., 1., 1., 1., 1., 1.,\n",
       "       1., 1., 1., 1., 1., 1., 1., 1., 1., 1., 1., 1., 1., 1., 1., 1., 1.,\n",
       "       1., 1., 1., 1., 1., 1., 1., 1., 1., 1., 1.])"
      ]
     },
     "execution_count": 44,
     "metadata": {},
     "output_type": "execute_result"
    }
   ],
   "source": [
    "tempogram(waves[0])[0]"
   ]
  },
  {
   "cell_type": "code",
   "execution_count": 45,
   "id": "4dd11e0a",
   "metadata": {},
   "outputs": [
    {
     "data": {
      "text/plain": [
       "array([0.711865  , 0.71237022, 0.71287525, 0.71337982, 0.71388368,\n",
       "       0.71438655, 0.7148882 , 0.71538836, 0.71588679, 0.71638324,\n",
       "       0.71687748, 0.71736926, 0.71785837, 0.71834458, 0.71882766,\n",
       "       0.7193074 , 0.7197836 , 0.72025605, 0.72072456, 0.72118892,\n",
       "       0.72164894, 0.72210445, 0.72255526, 0.7230012 , 0.72344208,\n",
       "       0.72387775, 0.72430803, 0.72473277, 0.72515179, 0.72556494,\n",
       "       0.72597207, 0.72637303, 0.72676765, 0.7271558 , 0.72753732,\n",
       "       0.72791206, 0.72827988, 0.72864063, 0.72899416, 0.72934033,\n",
       "       0.729679  , 0.73001001, 0.73033323, 0.7306485 , 0.73095568,\n",
       "       0.73125461, 0.73154516, 0.73182717, 0.73210048, 0.73236495,\n",
       "       0.73262042, 0.73286674, 0.73310374, 0.73333128, 0.73354918,\n",
       "       0.73375728, 0.73395543, 0.73414344, 0.73432117, 0.73448843,\n",
       "       0.73464506, 0.73479089, 0.73492573, 0.73504942, 0.73516178,\n",
       "       0.73526263, 0.7353518 , 0.73542911, 0.73549438, 0.73554743,\n",
       "       0.73558809, 0.73561618, 0.73563152, 0.73563396, 0.7356233 ,\n",
       "       0.7355994 , 0.73556208, 0.73551118, 0.73544655])"
      ]
     },
     "execution_count": 45,
     "metadata": {},
     "output_type": "execute_result"
    }
   ],
   "source": [
    "tempogram(waves[0])[1]"
   ]
  },
  {
   "cell_type": "code",
   "execution_count": 46,
   "id": "1ecf758c",
   "metadata": {},
   "outputs": [
    {
     "data": {
      "text/plain": [
       "array([ 1.00000000e+00,  7.27391538e-01,  3.44049707e-01,  2.21451874e-01,\n",
       "        2.79490866e-01,  3.08783347e-01,  2.66554696e-01,  2.29530480e-01,\n",
       "        2.37057516e-01,  2.80964377e-01,  2.74176696e-01,  2.28238689e-01,\n",
       "        2.38096200e-01,  2.74493912e-01,  2.21182697e-01,  1.40516805e-01,\n",
       "        1.46168530e-01,  2.35532985e-01,  3.47591724e-01,  4.55948470e-01,\n",
       "        4.98456824e-01,  3.87210467e-01,  2.45742036e-01,  1.90088276e-01,\n",
       "        2.05599601e-01,  2.67321796e-01,  2.90119790e-01,  2.17459424e-01,\n",
       "        1.44039026e-01,  1.42890487e-01,  1.72115692e-01,  1.41028154e-01,\n",
       "        9.70661812e-02,  8.54334244e-02,  8.04144865e-02,  7.36474318e-02,\n",
       "        7.87283061e-02,  1.39106111e-01,  2.49506993e-01,  3.26652546e-01,\n",
       "        2.56144059e-01,  1.35579455e-01,  1.09003251e-01,  1.78390709e-01,\n",
       "        2.05456105e-01,  1.58590220e-01,  1.15631341e-01,  9.36778421e-02,\n",
       "        9.20660702e-02,  9.70066303e-02,  9.37840219e-02,  7.32277698e-02,\n",
       "        5.78260091e-02,  6.00587916e-02,  5.14740946e-02,  3.21463569e-02,\n",
       "        1.80490468e-02,  2.90478592e-02,  6.40892836e-02,  8.80702444e-02,\n",
       "        6.17407365e-02,  2.11843026e-02,  2.19024829e-02,  5.41080185e-02,\n",
       "        6.25862837e-02,  3.29481306e-02,  6.74150840e-03,  1.09291889e-03,\n",
       "        1.52594539e-03,  1.46372352e-03,  6.00640716e-04, -2.43612166e-18,\n",
       "       -1.95367331e-18, -2.17084135e-18, -5.97584552e-18, -1.27219078e-17,\n",
       "       -2.59888722e-17, -2.01413574e-17, -1.37285220e-17, -9.74566746e-18,\n",
       "       -7.32373194e-18, -1.38008760e-17, -8.04751820e-18, -6.78102139e-18,\n",
       "       -1.01818799e-17, -4.94316149e-18, -1.02368820e-17, -3.67205617e-18,\n",
       "       -2.15836029e-19, -1.19653461e-18, -6.39023637e-18, -5.24875611e-18,\n",
       "       -1.07145553e-17, -3.37521377e-18, -1.19574852e-17, -6.43892181e-18,\n",
       "       -1.89740431e-17, -1.58071201e-17, -6.59516606e-18, -4.88835718e-18,\n",
       "        1.60552668e-18,  2.62560404e-20,  9.14853518e-19, -6.30958375e-19,\n",
       "       -1.38784377e-17,  1.00615710e-17,  9.60850171e-18, -2.74651005e-18,\n",
       "        1.44894547e-18,  6.04498601e-18,  1.31598032e-17,  5.87128183e-18,\n",
       "        1.44798766e-18,  1.00471198e-17,  3.55020399e-18,  1.70509951e-18,\n",
       "       -2.12743735e-18, -1.22352951e-17, -2.26489530e-18,  4.37755764e-18,\n",
       "       -8.17521840e-19,  5.91169496e-19, -1.01879992e-17,  2.67717832e-18,\n",
       "        7.15324050e-18,  8.26233625e-18,  1.51476567e-17, -2.62784412e-18,\n",
       "        4.58740882e-18,  8.51628203e-18,  3.05498702e-18,  3.18766964e-18,\n",
       "       -7.95963853e-18,  1.19140298e-18,  1.36518826e-19,  4.63683806e-18,\n",
       "        2.04925588e-18, -7.84126911e-18, -3.17306433e-19, -1.89438934e-18,\n",
       "        6.67910661e-18,  1.03988567e-17, -6.14063335e-18,  9.35670172e-19,\n",
       "        1.99357045e-18,  1.44502395e-17,  2.17538620e-17, -1.64354328e-19,\n",
       "        1.01639983e-17,  1.48824940e-17, -2.00557292e-18,  3.37176666e-18,\n",
       "       -1.06264143e-17,  3.70768962e-18,  5.41603016e-18,  3.65759874e-18,\n",
       "        6.65144451e-18, -1.27526046e-17,  6.27126987e-19, -4.25686770e-18,\n",
       "        6.81275168e-18,  1.13189142e-17, -7.84765830e-18,  8.95491268e-20,\n",
       "        2.68696109e-19,  1.36817247e-18,  9.93569071e-18, -1.11500720e-17,\n",
       "       -6.63325223e-18,  2.20697708e-18, -7.92804295e-18,  1.83328446e-18,\n",
       "       -1.34055326e-17, -6.43406645e-18, -2.32918805e-18,  8.52061445e-18,\n",
       "        2.07030136e-17, -4.19802139e-18,  6.58855696e-20,  6.04417231e-18,\n",
       "        1.10231270e-17,  1.81387586e-17, -1.71795103e-18,  2.53123530e-18,\n",
       "        6.02904730e-18,  6.71550791e-18,  1.61016276e-17, -4.35160852e-18,\n",
       "       -2.41574886e-18,  8.66062108e-18,  2.79359603e-18,  1.52232297e-17])"
      ]
     },
     "execution_count": 46,
     "metadata": {},
     "output_type": "execute_result"
    }
   ],
   "source": [
    "tempo_average(tempogram(waves[0]))"
   ]
  },
  {
   "cell_type": "markdown",
   "id": "26896649",
   "metadata": {},
   "source": [
    "# tempogram(waves[0])[0]"
   ]
  },
  {
   "cell_type": "code",
   "execution_count": 47,
   "id": "5f49f3c2",
   "metadata": {},
   "outputs": [],
   "source": [
    "def temp_values(array):\n",
    "    final = np.ones(shape = (array.shape[0], 192))\n",
    "    for i in range(array.shape[0]): #8bin civarı\n",
    "        \n",
    "        _x = tempogram(array[i]) #1,4000   #192,79\n",
    "        #print(_x.shape)\n",
    "        final[i] = tempo_average(_x) #192\n",
    "        \n",
    "        \n",
    "    return final"
   ]
  },
  {
   "cell_type": "code",
   "execution_count": 48,
   "id": "a2c80c43",
   "metadata": {},
   "outputs": [],
   "source": [
    "temp = temp_values(waves) #çok uzun sürüyor \n"
   ]
  },
  {
   "cell_type": "code",
   "execution_count": 49,
   "id": "c97cff81",
   "metadata": {},
   "outputs": [
    {
     "data": {
      "text/plain": [
       "numpy.ndarray"
      ]
     },
     "execution_count": 49,
     "metadata": {},
     "output_type": "execute_result"
    }
   ],
   "source": [
    "type(temp)"
   ]
  },
  {
   "cell_type": "code",
   "execution_count": 50,
   "id": "346fc135",
   "metadata": {},
   "outputs": [],
   "source": [
    "np.save(path + \"/absent_PV_tempgram_array\", temp, allow_pickle= True)"
   ]
  },
  {
   "cell_type": "code",
   "execution_count": 51,
   "id": "d6bf375d",
   "metadata": {},
   "outputs": [
    {
     "data": {
      "text/plain": [
       "(5743, 192)"
      ]
     },
     "execution_count": 51,
     "metadata": {},
     "output_type": "execute_result"
    }
   ],
   "source": [
    "temp.shape"
   ]
  },
  {
   "cell_type": "code",
   "execution_count": 52,
   "id": "925ec0d1",
   "metadata": {},
   "outputs": [
    {
     "name": "stdout",
     "output_type": "stream",
     "text": [
      "['tempogram_0', 'tempogram_1', 'tempogram_2', 'tempogram_3', 'tempogram_4', 'tempogram_5', 'tempogram_6', 'tempogram_7', 'tempogram_8', 'tempogram_9', 'tempogram_10', 'tempogram_11', 'tempogram_12', 'tempogram_13', 'tempogram_14', 'tempogram_15', 'tempogram_16', 'tempogram_17', 'tempogram_18', 'tempogram_19', 'tempogram_20', 'tempogram_21', 'tempogram_22', 'tempogram_23', 'tempogram_24', 'tempogram_25', 'tempogram_26', 'tempogram_27', 'tempogram_28', 'tempogram_29', 'tempogram_30', 'tempogram_31', 'tempogram_32', 'tempogram_33', 'tempogram_34', 'tempogram_35', 'tempogram_36', 'tempogram_37', 'tempogram_38', 'tempogram_39', 'tempogram_40', 'tempogram_41', 'tempogram_42', 'tempogram_43', 'tempogram_44', 'tempogram_45', 'tempogram_46', 'tempogram_47', 'tempogram_48', 'tempogram_49', 'tempogram_50', 'tempogram_51', 'tempogram_52', 'tempogram_53', 'tempogram_54', 'tempogram_55', 'tempogram_56', 'tempogram_57', 'tempogram_58', 'tempogram_59', 'tempogram_60', 'tempogram_61', 'tempogram_62', 'tempogram_63', 'tempogram_64', 'tempogram_65', 'tempogram_66', 'tempogram_67', 'tempogram_68', 'tempogram_69', 'tempogram_70', 'tempogram_71', 'tempogram_72', 'tempogram_73', 'tempogram_74', 'tempogram_75', 'tempogram_76', 'tempogram_77', 'tempogram_78', 'tempogram_79', 'tempogram_80', 'tempogram_81', 'tempogram_82', 'tempogram_83', 'tempogram_84', 'tempogram_85', 'tempogram_86', 'tempogram_87', 'tempogram_88', 'tempogram_89', 'tempogram_90', 'tempogram_91', 'tempogram_92', 'tempogram_93', 'tempogram_94', 'tempogram_95', 'tempogram_96', 'tempogram_97', 'tempogram_98', 'tempogram_99', 'tempogram_100', 'tempogram_101', 'tempogram_102', 'tempogram_103', 'tempogram_104', 'tempogram_105', 'tempogram_106', 'tempogram_107', 'tempogram_108', 'tempogram_109', 'tempogram_110', 'tempogram_111', 'tempogram_112', 'tempogram_113', 'tempogram_114', 'tempogram_115', 'tempogram_116', 'tempogram_117', 'tempogram_118', 'tempogram_119', 'tempogram_120', 'tempogram_121', 'tempogram_122', 'tempogram_123', 'tempogram_124', 'tempogram_125', 'tempogram_126', 'tempogram_127', 'tempogram_128', 'tempogram_129', 'tempogram_130', 'tempogram_131', 'tempogram_132', 'tempogram_133', 'tempogram_134', 'tempogram_135', 'tempogram_136', 'tempogram_137', 'tempogram_138', 'tempogram_139', 'tempogram_140', 'tempogram_141', 'tempogram_142', 'tempogram_143', 'tempogram_144', 'tempogram_145', 'tempogram_146', 'tempogram_147', 'tempogram_148', 'tempogram_149', 'tempogram_150', 'tempogram_151', 'tempogram_152', 'tempogram_153', 'tempogram_154', 'tempogram_155', 'tempogram_156', 'tempogram_157', 'tempogram_158', 'tempogram_159', 'tempogram_160', 'tempogram_161', 'tempogram_162', 'tempogram_163', 'tempogram_164', 'tempogram_165', 'tempogram_166', 'tempogram_167', 'tempogram_168', 'tempogram_169', 'tempogram_170', 'tempogram_171', 'tempogram_172', 'tempogram_173', 'tempogram_174', 'tempogram_175', 'tempogram_176', 'tempogram_177', 'tempogram_178', 'tempogram_179', 'tempogram_180', 'tempogram_181', 'tempogram_182', 'tempogram_183', 'tempogram_184', 'tempogram_185', 'tempogram_186', 'tempogram_187', 'tempogram_188', 'tempogram_189', 'tempogram_190', 'tempogram_191']\n"
     ]
    }
   ],
   "source": [
    "columns_t = []\n",
    "for i in range(temp.shape[1]):\n",
    "    columns_t.append(\"tempogram_{}\".format(i))\n",
    "print(columns_t)"
   ]
  },
  {
   "cell_type": "code",
   "execution_count": 53,
   "id": "e5ef312f",
   "metadata": {},
   "outputs": [
    {
     "data": {
      "text/plain": [
       "192"
      ]
     },
     "execution_count": 53,
     "metadata": {},
     "output_type": "execute_result"
    }
   ],
   "source": [
    "len(columns_t)"
   ]
  },
  {
   "cell_type": "code",
   "execution_count": 54,
   "id": "c1f3b527",
   "metadata": {},
   "outputs": [
    {
     "data": {
      "text/html": [
       "<div>\n",
       "<style scoped>\n",
       "    .dataframe tbody tr th:only-of-type {\n",
       "        vertical-align: middle;\n",
       "    }\n",
       "\n",
       "    .dataframe tbody tr th {\n",
       "        vertical-align: top;\n",
       "    }\n",
       "\n",
       "    .dataframe thead th {\n",
       "        text-align: right;\n",
       "    }\n",
       "</style>\n",
       "<table border=\"1\" class=\"dataframe\">\n",
       "  <thead>\n",
       "    <tr style=\"text-align: right;\">\n",
       "      <th></th>\n",
       "      <th>tempogram_0</th>\n",
       "      <th>tempogram_1</th>\n",
       "      <th>tempogram_2</th>\n",
       "      <th>tempogram_3</th>\n",
       "      <th>tempogram_4</th>\n",
       "      <th>tempogram_5</th>\n",
       "      <th>tempogram_6</th>\n",
       "      <th>tempogram_7</th>\n",
       "      <th>tempogram_8</th>\n",
       "      <th>tempogram_9</th>\n",
       "      <th>...</th>\n",
       "      <th>tempogram_182</th>\n",
       "      <th>tempogram_183</th>\n",
       "      <th>tempogram_184</th>\n",
       "      <th>tempogram_185</th>\n",
       "      <th>tempogram_186</th>\n",
       "      <th>tempogram_187</th>\n",
       "      <th>tempogram_188</th>\n",
       "      <th>tempogram_189</th>\n",
       "      <th>tempogram_190</th>\n",
       "      <th>tempogram_191</th>\n",
       "    </tr>\n",
       "  </thead>\n",
       "  <tbody>\n",
       "    <tr>\n",
       "      <th>0</th>\n",
       "      <td>1.0</td>\n",
       "      <td>0.727392</td>\n",
       "      <td>0.34405</td>\n",
       "      <td>0.221452</td>\n",
       "      <td>0.279491</td>\n",
       "      <td>0.308783</td>\n",
       "      <td>0.266555</td>\n",
       "      <td>0.22953</td>\n",
       "      <td>0.237058</td>\n",
       "      <td>0.280964</td>\n",
       "      <td>...</td>\n",
       "      <td>-0.0</td>\n",
       "      <td>0.0</td>\n",
       "      <td>0.0</td>\n",
       "      <td>0.0</td>\n",
       "      <td>0.0</td>\n",
       "      <td>-0.0</td>\n",
       "      <td>-0.0</td>\n",
       "      <td>0.0</td>\n",
       "      <td>0.0</td>\n",
       "      <td>0.0</td>\n",
       "    </tr>\n",
       "    <tr>\n",
       "      <th>1</th>\n",
       "      <td>1.0</td>\n",
       "      <td>0.84258</td>\n",
       "      <td>0.582559</td>\n",
       "      <td>0.392903</td>\n",
       "      <td>0.30993</td>\n",
       "      <td>0.274941</td>\n",
       "      <td>0.253086</td>\n",
       "      <td>0.268547</td>\n",
       "      <td>0.334335</td>\n",
       "      <td>0.412931</td>\n",
       "      <td>...</td>\n",
       "      <td>0.0</td>\n",
       "      <td>0.0</td>\n",
       "      <td>0.0</td>\n",
       "      <td>0.0</td>\n",
       "      <td>0.0</td>\n",
       "      <td>0.0</td>\n",
       "      <td>0.0</td>\n",
       "      <td>0.0</td>\n",
       "      <td>0.0</td>\n",
       "      <td>0.0</td>\n",
       "    </tr>\n",
       "    <tr>\n",
       "      <th>2</th>\n",
       "      <td>1.0</td>\n",
       "      <td>0.811866</td>\n",
       "      <td>0.512421</td>\n",
       "      <td>0.325053</td>\n",
       "      <td>0.298788</td>\n",
       "      <td>0.342926</td>\n",
       "      <td>0.345201</td>\n",
       "      <td>0.363461</td>\n",
       "      <td>0.415783</td>\n",
       "      <td>0.456006</td>\n",
       "      <td>...</td>\n",
       "      <td>0.0</td>\n",
       "      <td>0.0</td>\n",
       "      <td>0.0</td>\n",
       "      <td>0.0</td>\n",
       "      <td>0.0</td>\n",
       "      <td>0.0</td>\n",
       "      <td>0.0</td>\n",
       "      <td>0.0</td>\n",
       "      <td>0.0</td>\n",
       "      <td>0.0</td>\n",
       "    </tr>\n",
       "    <tr>\n",
       "      <th>3</th>\n",
       "      <td>1.0</td>\n",
       "      <td>0.86097</td>\n",
       "      <td>0.640465</td>\n",
       "      <td>0.503243</td>\n",
       "      <td>0.454083</td>\n",
       "      <td>0.450812</td>\n",
       "      <td>0.467459</td>\n",
       "      <td>0.471092</td>\n",
       "      <td>0.463625</td>\n",
       "      <td>0.460445</td>\n",
       "      <td>...</td>\n",
       "      <td>-0.0</td>\n",
       "      <td>0.0</td>\n",
       "      <td>0.0</td>\n",
       "      <td>0.0</td>\n",
       "      <td>0.0</td>\n",
       "      <td>-0.0</td>\n",
       "      <td>0.0</td>\n",
       "      <td>0.0</td>\n",
       "      <td>0.0</td>\n",
       "      <td>0.0</td>\n",
       "    </tr>\n",
       "    <tr>\n",
       "      <th>4</th>\n",
       "      <td>1.0</td>\n",
       "      <td>0.895193</td>\n",
       "      <td>0.710867</td>\n",
       "      <td>0.575835</td>\n",
       "      <td>0.508849</td>\n",
       "      <td>0.495625</td>\n",
       "      <td>0.494118</td>\n",
       "      <td>0.494017</td>\n",
       "      <td>0.532039</td>\n",
       "      <td>0.600286</td>\n",
       "      <td>...</td>\n",
       "      <td>0.0</td>\n",
       "      <td>0.0</td>\n",
       "      <td>0.0</td>\n",
       "      <td>0.0</td>\n",
       "      <td>0.0</td>\n",
       "      <td>-0.0</td>\n",
       "      <td>0.0</td>\n",
       "      <td>0.0</td>\n",
       "      <td>0.0</td>\n",
       "      <td>0.0</td>\n",
       "    </tr>\n",
       "    <tr>\n",
       "      <th>...</th>\n",
       "      <td>...</td>\n",
       "      <td>...</td>\n",
       "      <td>...</td>\n",
       "      <td>...</td>\n",
       "      <td>...</td>\n",
       "      <td>...</td>\n",
       "      <td>...</td>\n",
       "      <td>...</td>\n",
       "      <td>...</td>\n",
       "      <td>...</td>\n",
       "      <td>...</td>\n",
       "      <td>...</td>\n",
       "      <td>...</td>\n",
       "      <td>...</td>\n",
       "      <td>...</td>\n",
       "      <td>...</td>\n",
       "      <td>...</td>\n",
       "      <td>...</td>\n",
       "      <td>...</td>\n",
       "      <td>...</td>\n",
       "      <td>...</td>\n",
       "    </tr>\n",
       "    <tr>\n",
       "      <th>5738</th>\n",
       "      <td>1.0</td>\n",
       "      <td>0.859073</td>\n",
       "      <td>0.678697</td>\n",
       "      <td>0.606187</td>\n",
       "      <td>0.644684</td>\n",
       "      <td>0.709719</td>\n",
       "      <td>0.731181</td>\n",
       "      <td>0.690794</td>\n",
       "      <td>0.645696</td>\n",
       "      <td>0.610908</td>\n",
       "      <td>...</td>\n",
       "      <td>-0.0</td>\n",
       "      <td>0.0</td>\n",
       "      <td>0.0</td>\n",
       "      <td>0.0</td>\n",
       "      <td>0.0</td>\n",
       "      <td>-0.0</td>\n",
       "      <td>0.0</td>\n",
       "      <td>0.0</td>\n",
       "      <td>0.0</td>\n",
       "      <td>0.0</td>\n",
       "    </tr>\n",
       "    <tr>\n",
       "      <th>5739</th>\n",
       "      <td>1.0</td>\n",
       "      <td>0.877094</td>\n",
       "      <td>0.714206</td>\n",
       "      <td>0.66454</td>\n",
       "      <td>0.662486</td>\n",
       "      <td>0.648349</td>\n",
       "      <td>0.655902</td>\n",
       "      <td>0.683392</td>\n",
       "      <td>0.706801</td>\n",
       "      <td>0.697883</td>\n",
       "      <td>...</td>\n",
       "      <td>0.0</td>\n",
       "      <td>0.0</td>\n",
       "      <td>0.0</td>\n",
       "      <td>0.0</td>\n",
       "      <td>0.0</td>\n",
       "      <td>-0.0</td>\n",
       "      <td>0.0</td>\n",
       "      <td>0.0</td>\n",
       "      <td>0.0</td>\n",
       "      <td>0.0</td>\n",
       "    </tr>\n",
       "    <tr>\n",
       "      <th>5740</th>\n",
       "      <td>1.0</td>\n",
       "      <td>0.84032</td>\n",
       "      <td>0.632681</td>\n",
       "      <td>0.5955</td>\n",
       "      <td>0.647371</td>\n",
       "      <td>0.632236</td>\n",
       "      <td>0.574875</td>\n",
       "      <td>0.582016</td>\n",
       "      <td>0.656044</td>\n",
       "      <td>0.655813</td>\n",
       "      <td>...</td>\n",
       "      <td>0.0</td>\n",
       "      <td>0.0</td>\n",
       "      <td>0.0</td>\n",
       "      <td>0.0</td>\n",
       "      <td>0.0</td>\n",
       "      <td>-0.0</td>\n",
       "      <td>0.0</td>\n",
       "      <td>0.0</td>\n",
       "      <td>0.0</td>\n",
       "      <td>0.0</td>\n",
       "    </tr>\n",
       "    <tr>\n",
       "      <th>5741</th>\n",
       "      <td>1.0</td>\n",
       "      <td>0.893856</td>\n",
       "      <td>0.777335</td>\n",
       "      <td>0.738323</td>\n",
       "      <td>0.751419</td>\n",
       "      <td>0.75463</td>\n",
       "      <td>0.768567</td>\n",
       "      <td>0.770495</td>\n",
       "      <td>0.755753</td>\n",
       "      <td>0.752019</td>\n",
       "      <td>...</td>\n",
       "      <td>-0.0</td>\n",
       "      <td>0.0</td>\n",
       "      <td>0.0</td>\n",
       "      <td>0.0</td>\n",
       "      <td>0.0</td>\n",
       "      <td>-0.0</td>\n",
       "      <td>0.0</td>\n",
       "      <td>0.0</td>\n",
       "      <td>0.0</td>\n",
       "      <td>0.0</td>\n",
       "    </tr>\n",
       "    <tr>\n",
       "      <th>5742</th>\n",
       "      <td>1.0</td>\n",
       "      <td>0.874357</td>\n",
       "      <td>0.676958</td>\n",
       "      <td>0.517113</td>\n",
       "      <td>0.43114</td>\n",
       "      <td>0.431362</td>\n",
       "      <td>0.502111</td>\n",
       "      <td>0.576942</td>\n",
       "      <td>0.587304</td>\n",
       "      <td>0.567257</td>\n",
       "      <td>...</td>\n",
       "      <td>-0.0</td>\n",
       "      <td>0.0</td>\n",
       "      <td>0.0</td>\n",
       "      <td>0.0</td>\n",
       "      <td>0.0</td>\n",
       "      <td>-0.0</td>\n",
       "      <td>-0.0</td>\n",
       "      <td>0.0</td>\n",
       "      <td>0.0</td>\n",
       "      <td>0.0</td>\n",
       "    </tr>\n",
       "  </tbody>\n",
       "</table>\n",
       "<p>5743 rows × 192 columns</p>\n",
       "</div>"
      ],
      "text/plain": [
       "     tempogram_0 tempogram_1 tempogram_2 tempogram_3 tempogram_4 tempogram_5  \\\n",
       "0            1.0    0.727392     0.34405    0.221452    0.279491    0.308783   \n",
       "1            1.0     0.84258    0.582559    0.392903     0.30993    0.274941   \n",
       "2            1.0    0.811866    0.512421    0.325053    0.298788    0.342926   \n",
       "3            1.0     0.86097    0.640465    0.503243    0.454083    0.450812   \n",
       "4            1.0    0.895193    0.710867    0.575835    0.508849    0.495625   \n",
       "...          ...         ...         ...         ...         ...         ...   \n",
       "5738         1.0    0.859073    0.678697    0.606187    0.644684    0.709719   \n",
       "5739         1.0    0.877094    0.714206     0.66454    0.662486    0.648349   \n",
       "5740         1.0     0.84032    0.632681      0.5955    0.647371    0.632236   \n",
       "5741         1.0    0.893856    0.777335    0.738323    0.751419     0.75463   \n",
       "5742         1.0    0.874357    0.676958    0.517113     0.43114    0.431362   \n",
       "\n",
       "     tempogram_6 tempogram_7 tempogram_8 tempogram_9  ... tempogram_182  \\\n",
       "0       0.266555     0.22953    0.237058    0.280964  ...          -0.0   \n",
       "1       0.253086    0.268547    0.334335    0.412931  ...           0.0   \n",
       "2       0.345201    0.363461    0.415783    0.456006  ...           0.0   \n",
       "3       0.467459    0.471092    0.463625    0.460445  ...          -0.0   \n",
       "4       0.494118    0.494017    0.532039    0.600286  ...           0.0   \n",
       "...          ...         ...         ...         ...  ...           ...   \n",
       "5738    0.731181    0.690794    0.645696    0.610908  ...          -0.0   \n",
       "5739    0.655902    0.683392    0.706801    0.697883  ...           0.0   \n",
       "5740    0.574875    0.582016    0.656044    0.655813  ...           0.0   \n",
       "5741    0.768567    0.770495    0.755753    0.752019  ...          -0.0   \n",
       "5742    0.502111    0.576942    0.587304    0.567257  ...          -0.0   \n",
       "\n",
       "     tempogram_183 tempogram_184 tempogram_185 tempogram_186 tempogram_187  \\\n",
       "0              0.0           0.0           0.0           0.0          -0.0   \n",
       "1              0.0           0.0           0.0           0.0           0.0   \n",
       "2              0.0           0.0           0.0           0.0           0.0   \n",
       "3              0.0           0.0           0.0           0.0          -0.0   \n",
       "4              0.0           0.0           0.0           0.0          -0.0   \n",
       "...            ...           ...           ...           ...           ...   \n",
       "5738           0.0           0.0           0.0           0.0          -0.0   \n",
       "5739           0.0           0.0           0.0           0.0          -0.0   \n",
       "5740           0.0           0.0           0.0           0.0          -0.0   \n",
       "5741           0.0           0.0           0.0           0.0          -0.0   \n",
       "5742           0.0           0.0           0.0           0.0          -0.0   \n",
       "\n",
       "     tempogram_188 tempogram_189 tempogram_190 tempogram_191  \n",
       "0             -0.0           0.0           0.0           0.0  \n",
       "1              0.0           0.0           0.0           0.0  \n",
       "2              0.0           0.0           0.0           0.0  \n",
       "3              0.0           0.0           0.0           0.0  \n",
       "4              0.0           0.0           0.0           0.0  \n",
       "...            ...           ...           ...           ...  \n",
       "5738           0.0           0.0           0.0           0.0  \n",
       "5739           0.0           0.0           0.0           0.0  \n",
       "5740           0.0           0.0           0.0           0.0  \n",
       "5741           0.0           0.0           0.0           0.0  \n",
       "5742          -0.0           0.0           0.0           0.0  \n",
       "\n",
       "[5743 rows x 192 columns]"
      ]
     },
     "execution_count": 54,
     "metadata": {},
     "output_type": "execute_result"
    }
   ],
   "source": [
    "df_t = dataframe_creator(temp,\n",
    "                         df =pd.DataFrame(columns = columns_t), columns = columns_t, l = 192)\n",
    "\n",
    "df_t.reset_index(drop = True, inplace = True)\n",
    "df_t"
   ]
  },
  {
   "cell_type": "code",
   "execution_count": 55,
   "id": "e627f4d5",
   "metadata": {},
   "outputs": [
    {
     "data": {
      "text/plain": [
       "5.6866756058939866e-18"
      ]
     },
     "execution_count": 55,
     "metadata": {},
     "output_type": "execute_result"
    }
   ],
   "source": [
    "df_t['tempogram_188'][10]"
   ]
  },
  {
   "cell_type": "code",
   "execution_count": 56,
   "id": "33bee52c",
   "metadata": {},
   "outputs": [],
   "source": [
    "df_t.to_csv(path + '/absent_PV_tempogram.csv')"
   ]
  },
  {
   "cell_type": "code",
   "execution_count": 57,
   "id": "c2ae7b50",
   "metadata": {},
   "outputs": [
    {
     "data": {
      "text/plain": [
       "tempogram_0      0\n",
       "tempogram_1      0\n",
       "tempogram_2      0\n",
       "tempogram_3      0\n",
       "tempogram_4      0\n",
       "                ..\n",
       "tempogram_187    0\n",
       "tempogram_188    0\n",
       "tempogram_189    0\n",
       "tempogram_190    0\n",
       "tempogram_191    0\n",
       "Length: 192, dtype: int64"
      ]
     },
     "execution_count": 57,
     "metadata": {},
     "output_type": "execute_result"
    }
   ],
   "source": [
    "df_t.isin([0]).sum(axis=0)"
   ]
  },
  {
   "cell_type": "code",
   "execution_count": 58,
   "id": "0c13bdc2",
   "metadata": {},
   "outputs": [
    {
     "data": {
      "text/html": [
       "<div>\n",
       "<style scoped>\n",
       "    .dataframe tbody tr th:only-of-type {\n",
       "        vertical-align: middle;\n",
       "    }\n",
       "\n",
       "    .dataframe tbody tr th {\n",
       "        vertical-align: top;\n",
       "    }\n",
       "\n",
       "    .dataframe thead th {\n",
       "        text-align: right;\n",
       "    }\n",
       "</style>\n",
       "<table border=\"1\" class=\"dataframe\">\n",
       "  <thead>\n",
       "    <tr style=\"text-align: right;\">\n",
       "      <th></th>\n",
       "      <th>zcrs0</th>\n",
       "      <th>zcrs1</th>\n",
       "      <th>zcrs2</th>\n",
       "      <th>zcrs3</th>\n",
       "      <th>#ofcrossing</th>\n",
       "      <th>C</th>\n",
       "      <th>C♯</th>\n",
       "      <th>D</th>\n",
       "      <th>D♯</th>\n",
       "      <th>E</th>\n",
       "      <th>F</th>\n",
       "      <th>F♯</th>\n",
       "      <th>G</th>\n",
       "      <th>G♯</th>\n",
       "      <th>A</th>\n",
       "      <th>A♯</th>\n",
       "      <th>B</th>\n",
       "    </tr>\n",
       "  </thead>\n",
       "  <tbody>\n",
       "    <tr>\n",
       "      <th>0</th>\n",
       "      <td>0.017625</td>\n",
       "      <td>0.031125</td>\n",
       "      <td>0.033625</td>\n",
       "      <td>0.041500</td>\n",
       "      <td>1360.0</td>\n",
       "      <td>0.693644</td>\n",
       "      <td>0.723399</td>\n",
       "      <td>0.594544</td>\n",
       "      <td>0.428407</td>\n",
       "      <td>0.540471</td>\n",
       "      <td>0.510074</td>\n",
       "      <td>0.363098</td>\n",
       "      <td>0.37403</td>\n",
       "      <td>0.486809</td>\n",
       "      <td>0.594864</td>\n",
       "      <td>0.651274</td>\n",
       "      <td>0.779517</td>\n",
       "    </tr>\n",
       "    <tr>\n",
       "      <th>1</th>\n",
       "      <td>0.023500</td>\n",
       "      <td>0.040250</td>\n",
       "      <td>0.042250</td>\n",
       "      <td>0.040000</td>\n",
       "      <td>1674.0</td>\n",
       "      <td>0.867603</td>\n",
       "      <td>0.845508</td>\n",
       "      <td>0.777312</td>\n",
       "      <td>0.585648</td>\n",
       "      <td>0.511485</td>\n",
       "      <td>0.478331</td>\n",
       "      <td>0.522165</td>\n",
       "      <td>0.588875</td>\n",
       "      <td>0.562761</td>\n",
       "      <td>0.566184</td>\n",
       "      <td>0.659388</td>\n",
       "      <td>0.839351</td>\n",
       "    </tr>\n",
       "    <tr>\n",
       "      <th>2</th>\n",
       "      <td>0.017125</td>\n",
       "      <td>0.038250</td>\n",
       "      <td>0.036125</td>\n",
       "      <td>0.032625</td>\n",
       "      <td>1473.0</td>\n",
       "      <td>0.68586</td>\n",
       "      <td>0.601582</td>\n",
       "      <td>0.482327</td>\n",
       "      <td>0.28854</td>\n",
       "      <td>0.302736</td>\n",
       "      <td>0.406568</td>\n",
       "      <td>0.609526</td>\n",
       "      <td>0.622973</td>\n",
       "      <td>0.547817</td>\n",
       "      <td>0.458502</td>\n",
       "      <td>0.626571</td>\n",
       "      <td>0.803903</td>\n",
       "    </tr>\n",
       "    <tr>\n",
       "      <th>3</th>\n",
       "      <td>0.015625</td>\n",
       "      <td>0.031875</td>\n",
       "      <td>0.036250</td>\n",
       "      <td>0.033625</td>\n",
       "      <td>1287.0</td>\n",
       "      <td>0.606256</td>\n",
       "      <td>0.690986</td>\n",
       "      <td>0.750079</td>\n",
       "      <td>0.710613</td>\n",
       "      <td>0.752834</td>\n",
       "      <td>0.659047</td>\n",
       "      <td>0.461702</td>\n",
       "      <td>0.578035</td>\n",
       "      <td>0.680345</td>\n",
       "      <td>0.797427</td>\n",
       "      <td>0.663839</td>\n",
       "      <td>0.629473</td>\n",
       "    </tr>\n",
       "    <tr>\n",
       "      <th>4</th>\n",
       "      <td>0.016875</td>\n",
       "      <td>0.035000</td>\n",
       "      <td>0.038375</td>\n",
       "      <td>0.033125</td>\n",
       "      <td>1288.0</td>\n",
       "      <td>0.809643</td>\n",
       "      <td>0.741644</td>\n",
       "      <td>0.599436</td>\n",
       "      <td>0.579768</td>\n",
       "      <td>0.450705</td>\n",
       "      <td>0.482242</td>\n",
       "      <td>0.55319</td>\n",
       "      <td>0.523951</td>\n",
       "      <td>0.589817</td>\n",
       "      <td>0.736974</td>\n",
       "      <td>0.594865</td>\n",
       "      <td>0.6367</td>\n",
       "    </tr>\n",
       "    <tr>\n",
       "      <th>...</th>\n",
       "      <td>...</td>\n",
       "      <td>...</td>\n",
       "      <td>...</td>\n",
       "      <td>...</td>\n",
       "      <td>...</td>\n",
       "      <td>...</td>\n",
       "      <td>...</td>\n",
       "      <td>...</td>\n",
       "      <td>...</td>\n",
       "      <td>...</td>\n",
       "      <td>...</td>\n",
       "      <td>...</td>\n",
       "      <td>...</td>\n",
       "      <td>...</td>\n",
       "      <td>...</td>\n",
       "      <td>...</td>\n",
       "      <td>...</td>\n",
       "    </tr>\n",
       "    <tr>\n",
       "      <th>5738</th>\n",
       "      <td>0.030750</td>\n",
       "      <td>0.023875</td>\n",
       "      <td>0.043000</td>\n",
       "      <td>0.056125</td>\n",
       "      <td>1700.0</td>\n",
       "      <td>0.583385</td>\n",
       "      <td>0.54672</td>\n",
       "      <td>0.44279</td>\n",
       "      <td>0.505253</td>\n",
       "      <td>0.579608</td>\n",
       "      <td>0.521135</td>\n",
       "      <td>0.595198</td>\n",
       "      <td>0.504944</td>\n",
       "      <td>0.445564</td>\n",
       "      <td>0.831876</td>\n",
       "      <td>0.621956</td>\n",
       "      <td>0.43113</td>\n",
       "    </tr>\n",
       "    <tr>\n",
       "      <th>5739</th>\n",
       "      <td>0.020875</td>\n",
       "      <td>0.048500</td>\n",
       "      <td>0.031750</td>\n",
       "      <td>0.025000</td>\n",
       "      <td>1429.0</td>\n",
       "      <td>0.845798</td>\n",
       "      <td>0.615033</td>\n",
       "      <td>0.440229</td>\n",
       "      <td>0.411292</td>\n",
       "      <td>0.313319</td>\n",
       "      <td>0.370932</td>\n",
       "      <td>0.442699</td>\n",
       "      <td>0.502705</td>\n",
       "      <td>0.572043</td>\n",
       "      <td>0.55052</td>\n",
       "      <td>0.591647</td>\n",
       "      <td>0.762509</td>\n",
       "    </tr>\n",
       "    <tr>\n",
       "      <th>5740</th>\n",
       "      <td>0.015625</td>\n",
       "      <td>0.030500</td>\n",
       "      <td>0.056500</td>\n",
       "      <td>0.049875</td>\n",
       "      <td>1754.0</td>\n",
       "      <td>0.57721</td>\n",
       "      <td>0.572016</td>\n",
       "      <td>0.673101</td>\n",
       "      <td>0.531599</td>\n",
       "      <td>0.403556</td>\n",
       "      <td>0.444116</td>\n",
       "      <td>0.458384</td>\n",
       "      <td>0.625309</td>\n",
       "      <td>0.619016</td>\n",
       "      <td>0.614554</td>\n",
       "      <td>0.683417</td>\n",
       "      <td>0.657572</td>\n",
       "    </tr>\n",
       "    <tr>\n",
       "      <th>5741</th>\n",
       "      <td>0.014375</td>\n",
       "      <td>0.025875</td>\n",
       "      <td>0.023125</td>\n",
       "      <td>0.025750</td>\n",
       "      <td>1090.0</td>\n",
       "      <td>0.584429</td>\n",
       "      <td>0.507977</td>\n",
       "      <td>0.436805</td>\n",
       "      <td>0.344182</td>\n",
       "      <td>0.372291</td>\n",
       "      <td>0.413986</td>\n",
       "      <td>0.472122</td>\n",
       "      <td>0.610446</td>\n",
       "      <td>0.867279</td>\n",
       "      <td>0.765115</td>\n",
       "      <td>0.766624</td>\n",
       "      <td>0.706321</td>\n",
       "    </tr>\n",
       "    <tr>\n",
       "      <th>5742</th>\n",
       "      <td>0.017000</td>\n",
       "      <td>0.042375</td>\n",
       "      <td>0.040125</td>\n",
       "      <td>0.029500</td>\n",
       "      <td>1601.0</td>\n",
       "      <td>0.585459</td>\n",
       "      <td>0.554875</td>\n",
       "      <td>0.527523</td>\n",
       "      <td>0.487044</td>\n",
       "      <td>0.501598</td>\n",
       "      <td>0.375458</td>\n",
       "      <td>0.455076</td>\n",
       "      <td>0.47551</td>\n",
       "      <td>0.573107</td>\n",
       "      <td>0.81315</td>\n",
       "      <td>0.825839</td>\n",
       "      <td>0.677074</td>\n",
       "    </tr>\n",
       "  </tbody>\n",
       "</table>\n",
       "<p>5743 rows × 17 columns</p>\n",
       "</div>"
      ],
      "text/plain": [
       "         zcrs0     zcrs1     zcrs2     zcrs3  #ofcrossing         C        C♯  \\\n",
       "0     0.017625  0.031125  0.033625  0.041500       1360.0  0.693644  0.723399   \n",
       "1     0.023500  0.040250  0.042250  0.040000       1674.0  0.867603  0.845508   \n",
       "2     0.017125  0.038250  0.036125  0.032625       1473.0   0.68586  0.601582   \n",
       "3     0.015625  0.031875  0.036250  0.033625       1287.0  0.606256  0.690986   \n",
       "4     0.016875  0.035000  0.038375  0.033125       1288.0  0.809643  0.741644   \n",
       "...        ...       ...       ...       ...          ...       ...       ...   \n",
       "5738  0.030750  0.023875  0.043000  0.056125       1700.0  0.583385   0.54672   \n",
       "5739  0.020875  0.048500  0.031750  0.025000       1429.0  0.845798  0.615033   \n",
       "5740  0.015625  0.030500  0.056500  0.049875       1754.0   0.57721  0.572016   \n",
       "5741  0.014375  0.025875  0.023125  0.025750       1090.0  0.584429  0.507977   \n",
       "5742  0.017000  0.042375  0.040125  0.029500       1601.0  0.585459  0.554875   \n",
       "\n",
       "             D        D♯         E         F        F♯         G        G♯  \\\n",
       "0     0.594544  0.428407  0.540471  0.510074  0.363098   0.37403  0.486809   \n",
       "1     0.777312  0.585648  0.511485  0.478331  0.522165  0.588875  0.562761   \n",
       "2     0.482327   0.28854  0.302736  0.406568  0.609526  0.622973  0.547817   \n",
       "3     0.750079  0.710613  0.752834  0.659047  0.461702  0.578035  0.680345   \n",
       "4     0.599436  0.579768  0.450705  0.482242   0.55319  0.523951  0.589817   \n",
       "...        ...       ...       ...       ...       ...       ...       ...   \n",
       "5738   0.44279  0.505253  0.579608  0.521135  0.595198  0.504944  0.445564   \n",
       "5739  0.440229  0.411292  0.313319  0.370932  0.442699  0.502705  0.572043   \n",
       "5740  0.673101  0.531599  0.403556  0.444116  0.458384  0.625309  0.619016   \n",
       "5741  0.436805  0.344182  0.372291  0.413986  0.472122  0.610446  0.867279   \n",
       "5742  0.527523  0.487044  0.501598  0.375458  0.455076   0.47551  0.573107   \n",
       "\n",
       "             A        A♯         B  \n",
       "0     0.594864  0.651274  0.779517  \n",
       "1     0.566184  0.659388  0.839351  \n",
       "2     0.458502  0.626571  0.803903  \n",
       "3     0.797427  0.663839  0.629473  \n",
       "4     0.736974  0.594865    0.6367  \n",
       "...        ...       ...       ...  \n",
       "5738  0.831876  0.621956   0.43113  \n",
       "5739   0.55052  0.591647  0.762509  \n",
       "5740  0.614554  0.683417  0.657572  \n",
       "5741  0.765115  0.766624  0.706321  \n",
       "5742   0.81315  0.825839  0.677074  \n",
       "\n",
       "[5743 rows x 17 columns]"
      ]
     },
     "execution_count": 58,
     "metadata": {},
     "output_type": "execute_result"
    }
   ],
   "source": [
    "final_df = pd.concat([df, ch_df], axis =1)\n",
    "final_df"
   ]
  },
  {
   "cell_type": "code",
   "execution_count": 59,
   "id": "32a62976",
   "metadata": {},
   "outputs": [
    {
     "data": {
      "text/html": [
       "<div>\n",
       "<style scoped>\n",
       "    .dataframe tbody tr th:only-of-type {\n",
       "        vertical-align: middle;\n",
       "    }\n",
       "\n",
       "    .dataframe tbody tr th {\n",
       "        vertical-align: top;\n",
       "    }\n",
       "\n",
       "    .dataframe thead th {\n",
       "        text-align: right;\n",
       "    }\n",
       "</style>\n",
       "<table border=\"1\" class=\"dataframe\">\n",
       "  <thead>\n",
       "    <tr style=\"text-align: right;\">\n",
       "      <th></th>\n",
       "      <th>zcrs0</th>\n",
       "      <th>zcrs1</th>\n",
       "      <th>zcrs2</th>\n",
       "      <th>zcrs3</th>\n",
       "      <th>#ofcrossing</th>\n",
       "      <th>C</th>\n",
       "      <th>C♯</th>\n",
       "      <th>D</th>\n",
       "      <th>D♯</th>\n",
       "      <th>E</th>\n",
       "      <th>...</th>\n",
       "      <th>tempogram_182</th>\n",
       "      <th>tempogram_183</th>\n",
       "      <th>tempogram_184</th>\n",
       "      <th>tempogram_185</th>\n",
       "      <th>tempogram_186</th>\n",
       "      <th>tempogram_187</th>\n",
       "      <th>tempogram_188</th>\n",
       "      <th>tempogram_189</th>\n",
       "      <th>tempogram_190</th>\n",
       "      <th>tempogram_191</th>\n",
       "    </tr>\n",
       "  </thead>\n",
       "  <tbody>\n",
       "    <tr>\n",
       "      <th>0</th>\n",
       "      <td>0.017625</td>\n",
       "      <td>0.031125</td>\n",
       "      <td>0.033625</td>\n",
       "      <td>0.041500</td>\n",
       "      <td>1360.0</td>\n",
       "      <td>0.693644</td>\n",
       "      <td>0.723399</td>\n",
       "      <td>0.594544</td>\n",
       "      <td>0.428407</td>\n",
       "      <td>0.540471</td>\n",
       "      <td>...</td>\n",
       "      <td>-0.0</td>\n",
       "      <td>0.0</td>\n",
       "      <td>0.0</td>\n",
       "      <td>0.0</td>\n",
       "      <td>0.0</td>\n",
       "      <td>-0.0</td>\n",
       "      <td>-0.0</td>\n",
       "      <td>0.0</td>\n",
       "      <td>0.0</td>\n",
       "      <td>0.0</td>\n",
       "    </tr>\n",
       "    <tr>\n",
       "      <th>1</th>\n",
       "      <td>0.023500</td>\n",
       "      <td>0.040250</td>\n",
       "      <td>0.042250</td>\n",
       "      <td>0.040000</td>\n",
       "      <td>1674.0</td>\n",
       "      <td>0.867603</td>\n",
       "      <td>0.845508</td>\n",
       "      <td>0.777312</td>\n",
       "      <td>0.585648</td>\n",
       "      <td>0.511485</td>\n",
       "      <td>...</td>\n",
       "      <td>0.0</td>\n",
       "      <td>0.0</td>\n",
       "      <td>0.0</td>\n",
       "      <td>0.0</td>\n",
       "      <td>0.0</td>\n",
       "      <td>0.0</td>\n",
       "      <td>0.0</td>\n",
       "      <td>0.0</td>\n",
       "      <td>0.0</td>\n",
       "      <td>0.0</td>\n",
       "    </tr>\n",
       "    <tr>\n",
       "      <th>2</th>\n",
       "      <td>0.017125</td>\n",
       "      <td>0.038250</td>\n",
       "      <td>0.036125</td>\n",
       "      <td>0.032625</td>\n",
       "      <td>1473.0</td>\n",
       "      <td>0.68586</td>\n",
       "      <td>0.601582</td>\n",
       "      <td>0.482327</td>\n",
       "      <td>0.28854</td>\n",
       "      <td>0.302736</td>\n",
       "      <td>...</td>\n",
       "      <td>0.0</td>\n",
       "      <td>0.0</td>\n",
       "      <td>0.0</td>\n",
       "      <td>0.0</td>\n",
       "      <td>0.0</td>\n",
       "      <td>0.0</td>\n",
       "      <td>0.0</td>\n",
       "      <td>0.0</td>\n",
       "      <td>0.0</td>\n",
       "      <td>0.0</td>\n",
       "    </tr>\n",
       "    <tr>\n",
       "      <th>3</th>\n",
       "      <td>0.015625</td>\n",
       "      <td>0.031875</td>\n",
       "      <td>0.036250</td>\n",
       "      <td>0.033625</td>\n",
       "      <td>1287.0</td>\n",
       "      <td>0.606256</td>\n",
       "      <td>0.690986</td>\n",
       "      <td>0.750079</td>\n",
       "      <td>0.710613</td>\n",
       "      <td>0.752834</td>\n",
       "      <td>...</td>\n",
       "      <td>-0.0</td>\n",
       "      <td>0.0</td>\n",
       "      <td>0.0</td>\n",
       "      <td>0.0</td>\n",
       "      <td>0.0</td>\n",
       "      <td>-0.0</td>\n",
       "      <td>0.0</td>\n",
       "      <td>0.0</td>\n",
       "      <td>0.0</td>\n",
       "      <td>0.0</td>\n",
       "    </tr>\n",
       "    <tr>\n",
       "      <th>4</th>\n",
       "      <td>0.016875</td>\n",
       "      <td>0.035000</td>\n",
       "      <td>0.038375</td>\n",
       "      <td>0.033125</td>\n",
       "      <td>1288.0</td>\n",
       "      <td>0.809643</td>\n",
       "      <td>0.741644</td>\n",
       "      <td>0.599436</td>\n",
       "      <td>0.579768</td>\n",
       "      <td>0.450705</td>\n",
       "      <td>...</td>\n",
       "      <td>0.0</td>\n",
       "      <td>0.0</td>\n",
       "      <td>0.0</td>\n",
       "      <td>0.0</td>\n",
       "      <td>0.0</td>\n",
       "      <td>-0.0</td>\n",
       "      <td>0.0</td>\n",
       "      <td>0.0</td>\n",
       "      <td>0.0</td>\n",
       "      <td>0.0</td>\n",
       "    </tr>\n",
       "    <tr>\n",
       "      <th>...</th>\n",
       "      <td>...</td>\n",
       "      <td>...</td>\n",
       "      <td>...</td>\n",
       "      <td>...</td>\n",
       "      <td>...</td>\n",
       "      <td>...</td>\n",
       "      <td>...</td>\n",
       "      <td>...</td>\n",
       "      <td>...</td>\n",
       "      <td>...</td>\n",
       "      <td>...</td>\n",
       "      <td>...</td>\n",
       "      <td>...</td>\n",
       "      <td>...</td>\n",
       "      <td>...</td>\n",
       "      <td>...</td>\n",
       "      <td>...</td>\n",
       "      <td>...</td>\n",
       "      <td>...</td>\n",
       "      <td>...</td>\n",
       "      <td>...</td>\n",
       "    </tr>\n",
       "    <tr>\n",
       "      <th>5738</th>\n",
       "      <td>0.030750</td>\n",
       "      <td>0.023875</td>\n",
       "      <td>0.043000</td>\n",
       "      <td>0.056125</td>\n",
       "      <td>1700.0</td>\n",
       "      <td>0.583385</td>\n",
       "      <td>0.54672</td>\n",
       "      <td>0.44279</td>\n",
       "      <td>0.505253</td>\n",
       "      <td>0.579608</td>\n",
       "      <td>...</td>\n",
       "      <td>-0.0</td>\n",
       "      <td>0.0</td>\n",
       "      <td>0.0</td>\n",
       "      <td>0.0</td>\n",
       "      <td>0.0</td>\n",
       "      <td>-0.0</td>\n",
       "      <td>0.0</td>\n",
       "      <td>0.0</td>\n",
       "      <td>0.0</td>\n",
       "      <td>0.0</td>\n",
       "    </tr>\n",
       "    <tr>\n",
       "      <th>5739</th>\n",
       "      <td>0.020875</td>\n",
       "      <td>0.048500</td>\n",
       "      <td>0.031750</td>\n",
       "      <td>0.025000</td>\n",
       "      <td>1429.0</td>\n",
       "      <td>0.845798</td>\n",
       "      <td>0.615033</td>\n",
       "      <td>0.440229</td>\n",
       "      <td>0.411292</td>\n",
       "      <td>0.313319</td>\n",
       "      <td>...</td>\n",
       "      <td>0.0</td>\n",
       "      <td>0.0</td>\n",
       "      <td>0.0</td>\n",
       "      <td>0.0</td>\n",
       "      <td>0.0</td>\n",
       "      <td>-0.0</td>\n",
       "      <td>0.0</td>\n",
       "      <td>0.0</td>\n",
       "      <td>0.0</td>\n",
       "      <td>0.0</td>\n",
       "    </tr>\n",
       "    <tr>\n",
       "      <th>5740</th>\n",
       "      <td>0.015625</td>\n",
       "      <td>0.030500</td>\n",
       "      <td>0.056500</td>\n",
       "      <td>0.049875</td>\n",
       "      <td>1754.0</td>\n",
       "      <td>0.57721</td>\n",
       "      <td>0.572016</td>\n",
       "      <td>0.673101</td>\n",
       "      <td>0.531599</td>\n",
       "      <td>0.403556</td>\n",
       "      <td>...</td>\n",
       "      <td>0.0</td>\n",
       "      <td>0.0</td>\n",
       "      <td>0.0</td>\n",
       "      <td>0.0</td>\n",
       "      <td>0.0</td>\n",
       "      <td>-0.0</td>\n",
       "      <td>0.0</td>\n",
       "      <td>0.0</td>\n",
       "      <td>0.0</td>\n",
       "      <td>0.0</td>\n",
       "    </tr>\n",
       "    <tr>\n",
       "      <th>5741</th>\n",
       "      <td>0.014375</td>\n",
       "      <td>0.025875</td>\n",
       "      <td>0.023125</td>\n",
       "      <td>0.025750</td>\n",
       "      <td>1090.0</td>\n",
       "      <td>0.584429</td>\n",
       "      <td>0.507977</td>\n",
       "      <td>0.436805</td>\n",
       "      <td>0.344182</td>\n",
       "      <td>0.372291</td>\n",
       "      <td>...</td>\n",
       "      <td>-0.0</td>\n",
       "      <td>0.0</td>\n",
       "      <td>0.0</td>\n",
       "      <td>0.0</td>\n",
       "      <td>0.0</td>\n",
       "      <td>-0.0</td>\n",
       "      <td>0.0</td>\n",
       "      <td>0.0</td>\n",
       "      <td>0.0</td>\n",
       "      <td>0.0</td>\n",
       "    </tr>\n",
       "    <tr>\n",
       "      <th>5742</th>\n",
       "      <td>0.017000</td>\n",
       "      <td>0.042375</td>\n",
       "      <td>0.040125</td>\n",
       "      <td>0.029500</td>\n",
       "      <td>1601.0</td>\n",
       "      <td>0.585459</td>\n",
       "      <td>0.554875</td>\n",
       "      <td>0.527523</td>\n",
       "      <td>0.487044</td>\n",
       "      <td>0.501598</td>\n",
       "      <td>...</td>\n",
       "      <td>-0.0</td>\n",
       "      <td>0.0</td>\n",
       "      <td>0.0</td>\n",
       "      <td>0.0</td>\n",
       "      <td>0.0</td>\n",
       "      <td>-0.0</td>\n",
       "      <td>-0.0</td>\n",
       "      <td>0.0</td>\n",
       "      <td>0.0</td>\n",
       "      <td>0.0</td>\n",
       "    </tr>\n",
       "  </tbody>\n",
       "</table>\n",
       "<p>5743 rows × 209 columns</p>\n",
       "</div>"
      ],
      "text/plain": [
       "         zcrs0     zcrs1     zcrs2     zcrs3  #ofcrossing         C        C♯  \\\n",
       "0     0.017625  0.031125  0.033625  0.041500       1360.0  0.693644  0.723399   \n",
       "1     0.023500  0.040250  0.042250  0.040000       1674.0  0.867603  0.845508   \n",
       "2     0.017125  0.038250  0.036125  0.032625       1473.0   0.68586  0.601582   \n",
       "3     0.015625  0.031875  0.036250  0.033625       1287.0  0.606256  0.690986   \n",
       "4     0.016875  0.035000  0.038375  0.033125       1288.0  0.809643  0.741644   \n",
       "...        ...       ...       ...       ...          ...       ...       ...   \n",
       "5738  0.030750  0.023875  0.043000  0.056125       1700.0  0.583385   0.54672   \n",
       "5739  0.020875  0.048500  0.031750  0.025000       1429.0  0.845798  0.615033   \n",
       "5740  0.015625  0.030500  0.056500  0.049875       1754.0   0.57721  0.572016   \n",
       "5741  0.014375  0.025875  0.023125  0.025750       1090.0  0.584429  0.507977   \n",
       "5742  0.017000  0.042375  0.040125  0.029500       1601.0  0.585459  0.554875   \n",
       "\n",
       "             D        D♯         E  ... tempogram_182 tempogram_183  \\\n",
       "0     0.594544  0.428407  0.540471  ...          -0.0           0.0   \n",
       "1     0.777312  0.585648  0.511485  ...           0.0           0.0   \n",
       "2     0.482327   0.28854  0.302736  ...           0.0           0.0   \n",
       "3     0.750079  0.710613  0.752834  ...          -0.0           0.0   \n",
       "4     0.599436  0.579768  0.450705  ...           0.0           0.0   \n",
       "...        ...       ...       ...  ...           ...           ...   \n",
       "5738   0.44279  0.505253  0.579608  ...          -0.0           0.0   \n",
       "5739  0.440229  0.411292  0.313319  ...           0.0           0.0   \n",
       "5740  0.673101  0.531599  0.403556  ...           0.0           0.0   \n",
       "5741  0.436805  0.344182  0.372291  ...          -0.0           0.0   \n",
       "5742  0.527523  0.487044  0.501598  ...          -0.0           0.0   \n",
       "\n",
       "     tempogram_184 tempogram_185 tempogram_186 tempogram_187 tempogram_188  \\\n",
       "0              0.0           0.0           0.0          -0.0          -0.0   \n",
       "1              0.0           0.0           0.0           0.0           0.0   \n",
       "2              0.0           0.0           0.0           0.0           0.0   \n",
       "3              0.0           0.0           0.0          -0.0           0.0   \n",
       "4              0.0           0.0           0.0          -0.0           0.0   \n",
       "...            ...           ...           ...           ...           ...   \n",
       "5738           0.0           0.0           0.0          -0.0           0.0   \n",
       "5739           0.0           0.0           0.0          -0.0           0.0   \n",
       "5740           0.0           0.0           0.0          -0.0           0.0   \n",
       "5741           0.0           0.0           0.0          -0.0           0.0   \n",
       "5742           0.0           0.0           0.0          -0.0          -0.0   \n",
       "\n",
       "     tempogram_189 tempogram_190 tempogram_191  \n",
       "0              0.0           0.0           0.0  \n",
       "1              0.0           0.0           0.0  \n",
       "2              0.0           0.0           0.0  \n",
       "3              0.0           0.0           0.0  \n",
       "4              0.0           0.0           0.0  \n",
       "...            ...           ...           ...  \n",
       "5738           0.0           0.0           0.0  \n",
       "5739           0.0           0.0           0.0  \n",
       "5740           0.0           0.0           0.0  \n",
       "5741           0.0           0.0           0.0  \n",
       "5742           0.0           0.0           0.0  \n",
       "\n",
       "[5743 rows x 209 columns]"
      ]
     },
     "execution_count": 59,
     "metadata": {},
     "output_type": "execute_result"
    }
   ],
   "source": [
    "final_df = pd.concat([final_df, df_t], axis=1)\n",
    "final_df"
   ]
  },
  {
   "cell_type": "code",
   "execution_count": 60,
   "id": "7c0247a6",
   "metadata": {},
   "outputs": [],
   "source": [
    "final_df.to_csv(path + '/absent_PV_final_sp.csv')"
   ]
  },
  {
   "cell_type": "code",
   "execution_count": null,
   "id": "c49dade0",
   "metadata": {},
   "outputs": [],
   "source": []
  },
  {
   "cell_type": "code",
   "execution_count": null,
   "id": "5900dbe9",
   "metadata": {},
   "outputs": [],
   "source": []
  }
 ],
 "metadata": {
  "kernelspec": {
   "display_name": "Python 3 (ipykernel)",
   "language": "python",
   "name": "python3"
  },
  "language_info": {
   "codemirror_mode": {
    "name": "ipython",
    "version": 3
   },
   "file_extension": ".py",
   "mimetype": "text/x-python",
   "name": "python",
   "nbconvert_exporter": "python",
   "pygments_lexer": "ipython3",
   "version": "3.9.9"
  }
 },
 "nbformat": 4,
 "nbformat_minor": 5
}
