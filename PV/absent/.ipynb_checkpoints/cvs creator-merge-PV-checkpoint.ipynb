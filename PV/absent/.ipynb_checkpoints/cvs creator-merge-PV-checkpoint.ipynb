{
 "cells": [
  {
   "cell_type": "code",
   "execution_count": 1,
   "id": "345c0001",
   "metadata": {},
   "outputs": [
    {
     "ename": "RuntimeError",
     "evalue": "module compiled against API version 0xe but this version of numpy is 0xd",
     "output_type": "error",
     "traceback": [
      "\u001b[0;31m---------------------------------------------------------------------------\u001b[0m",
      "\u001b[0;31mRuntimeError\u001b[0m                              Traceback (most recent call last)",
      "\u001b[0;31mRuntimeError\u001b[0m: module compiled against API version 0xe but this version of numpy is 0xd"
     ]
    }
   ],
   "source": [
    "import pandas as pd\n",
    "import numpy as np\n",
    "import warnings\n",
    "warnings.filterwarnings('ignore')"
   ]
  },
  {
   "cell_type": "code",
   "execution_count": 2,
   "id": "440a4745",
   "metadata": {},
   "outputs": [],
   "source": [
    "path = \"/Users/ecem/Desktop/phonocardiogram/data/PV/\""
   ]
  },
  {
   "cell_type": "code",
   "execution_count": 3,
   "id": "3e93b88e",
   "metadata": {},
   "outputs": [],
   "source": [
    "spec = np.load(path + 'absent/absent_PV_spectogram_coef.npy', allow_pickle = True)\n",
    "\n",
    "zcr = np.load(path + 'absent/absent_PV_zcrs_array.npy', allow_pickle = True)\n",
    "\n",
    "temp = np.load(path + 'absent/absent_PV_tempgram_array.npy', allow_pickle = True)\n",
    "\n",
    "chro = np.load(path + 'absent/absent_PV_chromogram_array.npy', allow_pickle = True)\n",
    "\n",
    "w_approx = np.load(path + 'absent/absent_PV_wavelet_coef_lvl_0.npy', allow_pickle = True)\n",
    "w_lvl1 = np.load(path + 'absent/absent_PV_wavelet_coef_lvl_1.npy', allow_pickle = True)\n",
    "w_lvl2 = np.load(path + 'absent/absent_PV_wavelet_coef_lvl_2.npy', allow_pickle = True)\n",
    "w_lvl3 = np.load(path + 'absent/absent_PV_wavelet_coef_lvl_3.npy', allow_pickle = True)\n",
    "w_lvl4 = np.load(path + 'absent/absent_PV_wavelet_coef_lvl_4.npy', allow_pickle = True)\n",
    "w_lvl5 = np.load(path + 'absent/absent_PV_wavelet_coef_lvl_5.npy', allow_pickle = True)\n",
    "w_lvl6 = np.load(path + 'absent/absent_PV_wavelet_coef_lvl_6.npy', allow_pickle = True)\n"
   ]
  },
  {
   "cell_type": "markdown",
   "id": "f128b55a",
   "metadata": {},
   "source": [
    "### we are goint to use spectogram and zero crossing rate directly without dropping any columns (after p value selection). So lets create their dataframe first"
   ]
  },
  {
   "cell_type": "markdown",
   "id": "ce30c297",
   "metadata": {},
   "source": [
    "#### spec"
   ]
  },
  {
   "cell_type": "code",
   "execution_count": 4,
   "id": "dd7e3b29",
   "metadata": {},
   "outputs": [],
   "source": [
    "spec_columns = np.load( \"/Users/ecem/Desktop/phonocardiogram/data/AV/present/spec_column_names.npy\")"
   ]
  },
  {
   "cell_type": "code",
   "execution_count": 5,
   "id": "7934f31e",
   "metadata": {},
   "outputs": [],
   "source": [
    "spec_df = pd.DataFrame(spec, columns = spec_columns ) #5743, 16384\n",
    "#spec_df"
   ]
  },
  {
   "cell_type": "markdown",
   "id": "c17d3dbe",
   "metadata": {},
   "source": [
    "#### zero crossing"
   ]
  },
  {
   "cell_type": "code",
   "execution_count": 6,
   "id": "7d6dc02c",
   "metadata": {},
   "outputs": [],
   "source": [
    "zcrs_df = pd.DataFrame(zcr, columns =[\"zcrs0\", \"zcrs1\", \"zcrs2\", \"zcrs3\", \"zcrs4\"]) #5743, 5\n",
    "#zcrs_df"
   ]
  },
  {
   "cell_type": "markdown",
   "id": "7d94c6ea",
   "metadata": {},
   "source": [
    "## now we need to eliminate some columns in chromogram, tempogram and wavelet dataframes.  We have extracted the columns we will use in the statistical features notebook.\n",
    "### below cell will give the index values for the columns we are going to use."
   ]
  },
  {
   "cell_type": "code",
   "execution_count": 7,
   "id": "b26b4fab",
   "metadata": {},
   "outputs": [],
   "source": [
    "p_temp_index = np.load(path +\"PV_p_value_selected_tempogram.npy\", allow_pickle = True)\n",
    "p_chro_index = np.load(path +\"PV_p_value_selected_chromogram.npy\", allow_pickle = True)\n",
    "p_wavelet_index = np.load(path +\"PV_p_value_selected_wavelet_coef.npy\", allow_pickle = True)"
   ]
  },
  {
   "cell_type": "markdown",
   "id": "1f55b668",
   "metadata": {},
   "source": [
    "## tempogram"
   ]
  },
  {
   "cell_type": "code",
   "execution_count": 8,
   "id": "451bee64",
   "metadata": {},
   "outputs": [
    {
     "data": {
      "text/plain": [
       "array([  1,   2,   5,   6,   7,   8,   9,  10,  11,  12,  13,  14,  15,\n",
       "        16,  17,  18,  19,  20,  24,  31,  32,  33,  34,  35,  36,  37,\n",
       "        38,  39,  40,  41,  42,  43,  44,  45,  52,  53,  54,  55,  56,\n",
       "        62,  63,  64,  65, 138, 139, 140, 141, 142, 143, 144, 145, 146,\n",
       "       147, 148, 149, 150, 151, 152, 153, 154, 155, 156, 157, 158, 159,\n",
       "       160, 161, 162, 163, 164, 165, 166, 167, 168, 169, 171, 174, 177,\n",
       "       181, 182, 183, 184, 188, 189, 191])"
      ]
     },
     "execution_count": 8,
     "metadata": {},
     "output_type": "execute_result"
    }
   ],
   "source": [
    "p_temp_index # these are column index for tempogram"
   ]
  },
  {
   "cell_type": "code",
   "execution_count": 9,
   "id": "dbc7524a",
   "metadata": {},
   "outputs": [
    {
     "data": {
      "text/plain": [
       "85"
      ]
     },
     "execution_count": 9,
     "metadata": {},
     "output_type": "execute_result"
    }
   ],
   "source": [
    "#sanity check\n",
    "len(p_temp_index)"
   ]
  },
  {
   "cell_type": "code",
   "execution_count": 10,
   "id": "fd0c65ef",
   "metadata": {},
   "outputs": [],
   "source": [
    "temp_columns = ['tempogram_0', 'tempogram_1', 'tempogram_2', 'tempogram_3', 'tempogram_4', 'tempogram_5', 'tempogram_6', 'tempogram_7', 'tempogram_8', 'tempogram_9', 'tempogram_10', 'tempogram_11', 'tempogram_12', 'tempogram_13', 'tempogram_14', 'tempogram_15', 'tempogram_16', 'tempogram_17', 'tempogram_18', 'tempogram_19', 'tempogram_20', 'tempogram_21', 'tempogram_22', 'tempogram_23', 'tempogram_24', 'tempogram_25', 'tempogram_26', 'tempogram_27', 'tempogram_28', 'tempogram_29', 'tempogram_30', 'tempogram_31', 'tempogram_32', 'tempogram_33', 'tempogram_34', 'tempogram_35', 'tempogram_36', 'tempogram_37', 'tempogram_38', 'tempogram_39', 'tempogram_40', 'tempogram_41', 'tempogram_42', 'tempogram_43', 'tempogram_44', 'tempogram_45', 'tempogram_46', 'tempogram_47', 'tempogram_48', 'tempogram_49', 'tempogram_50', 'tempogram_51', 'tempogram_52', 'tempogram_53', 'tempogram_54', 'tempogram_55', 'tempogram_56', 'tempogram_57', 'tempogram_58', 'tempogram_59', 'tempogram_60', 'tempogram_61', 'tempogram_62', 'tempogram_63', 'tempogram_64', 'tempogram_65', 'tempogram_66', 'tempogram_67', 'tempogram_68', 'tempogram_69', 'tempogram_70', 'tempogram_71', 'tempogram_72', 'tempogram_73', 'tempogram_74', 'tempogram_75', 'tempogram_76', 'tempogram_77', 'tempogram_78', 'tempogram_79', 'tempogram_80', 'tempogram_81', 'tempogram_82', 'tempogram_83', 'tempogram_84', 'tempogram_85', 'tempogram_86', 'tempogram_87', 'tempogram_88', 'tempogram_89', 'tempogram_90', 'tempogram_91', 'tempogram_92', 'tempogram_93', 'tempogram_94', 'tempogram_95', 'tempogram_96', 'tempogram_97', 'tempogram_98', 'tempogram_99', 'tempogram_100', 'tempogram_101', 'tempogram_102', 'tempogram_103', 'tempogram_104', 'tempogram_105', 'tempogram_106', 'tempogram_107', 'tempogram_108', 'tempogram_109', 'tempogram_110', 'tempogram_111', 'tempogram_112', 'tempogram_113', 'tempogram_114', 'tempogram_115', 'tempogram_116', 'tempogram_117', 'tempogram_118', 'tempogram_119', 'tempogram_120', 'tempogram_121', 'tempogram_122', 'tempogram_123', 'tempogram_124', 'tempogram_125', 'tempogram_126', 'tempogram_127', 'tempogram_128', 'tempogram_129', 'tempogram_130', 'tempogram_131', 'tempogram_132', 'tempogram_133', 'tempogram_134', 'tempogram_135', 'tempogram_136', 'tempogram_137', 'tempogram_138', 'tempogram_139', 'tempogram_140', 'tempogram_141', 'tempogram_142', 'tempogram_143', 'tempogram_144', 'tempogram_145', 'tempogram_146', 'tempogram_147', 'tempogram_148', 'tempogram_149', 'tempogram_150', 'tempogram_151', 'tempogram_152', 'tempogram_153', 'tempogram_154', 'tempogram_155', 'tempogram_156', 'tempogram_157', 'tempogram_158', 'tempogram_159', 'tempogram_160', 'tempogram_161', 'tempogram_162', 'tempogram_163', 'tempogram_164', 'tempogram_165', 'tempogram_166', 'tempogram_167', 'tempogram_168', 'tempogram_169', 'tempogram_170', 'tempogram_171', 'tempogram_172', 'tempogram_173', 'tempogram_174', 'tempogram_175', 'tempogram_176', 'tempogram_177', 'tempogram_178', 'tempogram_179', 'tempogram_180', 'tempogram_181', 'tempogram_182', 'tempogram_183', 'tempogram_184', 'tempogram_185', 'tempogram_186', 'tempogram_187', 'tempogram_188', 'tempogram_189', 'tempogram_190', 'tempogram_191']"
   ]
  },
  {
   "cell_type": "code",
   "execution_count": 11,
   "id": "1c11e794",
   "metadata": {},
   "outputs": [],
   "source": [
    "temp_df = pd.DataFrame(temp, columns = temp_columns ) #5743, 192\n",
    "#temp_df"
   ]
  },
  {
   "cell_type": "code",
   "execution_count": 12,
   "id": "9d16ec91",
   "metadata": {},
   "outputs": [],
   "source": [
    "p_tempogram = temp_df.iloc[:, p_temp_index] #5743, 85\n",
    "#p_tempogram"
   ]
  },
  {
   "cell_type": "markdown",
   "id": "05a42c37",
   "metadata": {},
   "source": [
    "## chromogram "
   ]
  },
  {
   "cell_type": "code",
   "execution_count": 13,
   "id": "6a69bb13",
   "metadata": {},
   "outputs": [
    {
     "data": {
      "text/plain": [
       "array([3, 4, 5, 6, 7])"
      ]
     },
     "execution_count": 13,
     "metadata": {},
     "output_type": "execute_result"
    }
   ],
   "source": [
    "p_chro_index # these are column index for chromogram"
   ]
  },
  {
   "cell_type": "code",
   "execution_count": 14,
   "id": "b7d2909f",
   "metadata": {},
   "outputs": [],
   "source": [
    "chro_df = pd.DataFrame(chro) #5743, 12\n",
    "#chro_df"
   ]
  },
  {
   "cell_type": "code",
   "execution_count": 15,
   "id": "cc573a7f",
   "metadata": {},
   "outputs": [
    {
     "data": {
      "text/html": [
       "<div>\n",
       "<style scoped>\n",
       "    .dataframe tbody tr th:only-of-type {\n",
       "        vertical-align: middle;\n",
       "    }\n",
       "\n",
       "    .dataframe tbody tr th {\n",
       "        vertical-align: top;\n",
       "    }\n",
       "\n",
       "    .dataframe thead th {\n",
       "        text-align: right;\n",
       "    }\n",
       "</style>\n",
       "<table border=\"1\" class=\"dataframe\">\n",
       "  <thead>\n",
       "    <tr style=\"text-align: right;\">\n",
       "      <th></th>\n",
       "      <th>D#</th>\n",
       "      <th>E</th>\n",
       "      <th>F</th>\n",
       "      <th>F#</th>\n",
       "      <th>G</th>\n",
       "    </tr>\n",
       "  </thead>\n",
       "  <tbody>\n",
       "    <tr>\n",
       "      <th>0</th>\n",
       "      <td>0.428407</td>\n",
       "      <td>0.540471</td>\n",
       "      <td>0.510074</td>\n",
       "      <td>0.363098</td>\n",
       "      <td>0.374030</td>\n",
       "    </tr>\n",
       "    <tr>\n",
       "      <th>1</th>\n",
       "      <td>0.585648</td>\n",
       "      <td>0.511485</td>\n",
       "      <td>0.478331</td>\n",
       "      <td>0.522165</td>\n",
       "      <td>0.588875</td>\n",
       "    </tr>\n",
       "    <tr>\n",
       "      <th>2</th>\n",
       "      <td>0.288540</td>\n",
       "      <td>0.302736</td>\n",
       "      <td>0.406568</td>\n",
       "      <td>0.609526</td>\n",
       "      <td>0.622973</td>\n",
       "    </tr>\n",
       "    <tr>\n",
       "      <th>3</th>\n",
       "      <td>0.710613</td>\n",
       "      <td>0.752834</td>\n",
       "      <td>0.659047</td>\n",
       "      <td>0.461702</td>\n",
       "      <td>0.578035</td>\n",
       "    </tr>\n",
       "    <tr>\n",
       "      <th>4</th>\n",
       "      <td>0.579768</td>\n",
       "      <td>0.450705</td>\n",
       "      <td>0.482242</td>\n",
       "      <td>0.553190</td>\n",
       "      <td>0.523951</td>\n",
       "    </tr>\n",
       "    <tr>\n",
       "      <th>...</th>\n",
       "      <td>...</td>\n",
       "      <td>...</td>\n",
       "      <td>...</td>\n",
       "      <td>...</td>\n",
       "      <td>...</td>\n",
       "    </tr>\n",
       "    <tr>\n",
       "      <th>5738</th>\n",
       "      <td>0.505253</td>\n",
       "      <td>0.579608</td>\n",
       "      <td>0.521135</td>\n",
       "      <td>0.595198</td>\n",
       "      <td>0.504944</td>\n",
       "    </tr>\n",
       "    <tr>\n",
       "      <th>5739</th>\n",
       "      <td>0.411292</td>\n",
       "      <td>0.313319</td>\n",
       "      <td>0.370932</td>\n",
       "      <td>0.442699</td>\n",
       "      <td>0.502705</td>\n",
       "    </tr>\n",
       "    <tr>\n",
       "      <th>5740</th>\n",
       "      <td>0.531599</td>\n",
       "      <td>0.403556</td>\n",
       "      <td>0.444116</td>\n",
       "      <td>0.458384</td>\n",
       "      <td>0.625309</td>\n",
       "    </tr>\n",
       "    <tr>\n",
       "      <th>5741</th>\n",
       "      <td>0.344182</td>\n",
       "      <td>0.372291</td>\n",
       "      <td>0.413986</td>\n",
       "      <td>0.472122</td>\n",
       "      <td>0.610446</td>\n",
       "    </tr>\n",
       "    <tr>\n",
       "      <th>5742</th>\n",
       "      <td>0.487044</td>\n",
       "      <td>0.501598</td>\n",
       "      <td>0.375458</td>\n",
       "      <td>0.455076</td>\n",
       "      <td>0.475510</td>\n",
       "    </tr>\n",
       "  </tbody>\n",
       "</table>\n",
       "<p>5743 rows × 5 columns</p>\n",
       "</div>"
      ],
      "text/plain": [
       "            D#         E         F        F#         G\n",
       "0     0.428407  0.540471  0.510074  0.363098  0.374030\n",
       "1     0.585648  0.511485  0.478331  0.522165  0.588875\n",
       "2     0.288540  0.302736  0.406568  0.609526  0.622973\n",
       "3     0.710613  0.752834  0.659047  0.461702  0.578035\n",
       "4     0.579768  0.450705  0.482242  0.553190  0.523951\n",
       "...        ...       ...       ...       ...       ...\n",
       "5738  0.505253  0.579608  0.521135  0.595198  0.504944\n",
       "5739  0.411292  0.313319  0.370932  0.442699  0.502705\n",
       "5740  0.531599  0.403556  0.444116  0.458384  0.625309\n",
       "5741  0.344182  0.372291  0.413986  0.472122  0.610446\n",
       "5742  0.487044  0.501598  0.375458  0.455076  0.475510\n",
       "\n",
       "[5743 rows x 5 columns]"
      ]
     },
     "execution_count": 15,
     "metadata": {},
     "output_type": "execute_result"
    }
   ],
   "source": [
    "p_chro = chro_df.iloc[:, p_chro_index]\n",
    "p_chro.columns = [\"D#\", \"E\", \"F\", \"F#\", \"G\"]\n",
    "p_chro #5743,5"
   ]
  },
  {
   "cell_type": "markdown",
   "id": "f799539b",
   "metadata": {},
   "source": [
    "## Wavelet"
   ]
  },
  {
   "cell_type": "code",
   "execution_count": 16,
   "id": "73ad57d7",
   "metadata": {},
   "outputs": [],
   "source": [
    "wave_in_app = p_wavelet_index[0]  #50\n",
    "wave_in_lvl1 = p_wavelet_index[1] #54\n",
    "wave_in_lvl2 = p_wavelet_index[2] #94\n",
    "wave_in_lvl3 = p_wavelet_index[3] #162\n",
    "wave_in_lvl4 = p_wavelet_index[4] #290\n",
    "wave_in_lvl5 = p_wavelet_index[5] #554\n",
    "wave_in_lvl6 = p_wavelet_index[6] #1115"
   ]
  },
  {
   "cell_type": "code",
   "execution_count": 17,
   "id": "9dff92f7",
   "metadata": {},
   "outputs": [],
   "source": [
    "columns_global = []\n",
    "\n",
    "for i in range(7):\n",
    "    for j in range(p_wavelet_index[i].shape[0]):\n",
    "        columns_global.append(\"w_lvl{}_{}\".format(i,j))"
   ]
  },
  {
   "cell_type": "markdown",
   "id": "6f59f046",
   "metadata": {},
   "source": [
    "### for approximation coef "
   ]
  },
  {
   "cell_type": "code",
   "execution_count": 18,
   "id": "b14d7512",
   "metadata": {},
   "outputs": [],
   "source": [
    "app_df = pd.DataFrame(w_approx) #5743, 633\n",
    "#app_df"
   ]
  },
  {
   "cell_type": "code",
   "execution_count": 19,
   "id": "ffb68cdb",
   "metadata": {},
   "outputs": [],
   "source": [
    "p_app = app_df.iloc[:, wave_in_app] #5743, 50\n",
    "#p_app"
   ]
  },
  {
   "cell_type": "markdown",
   "id": "2550f46c",
   "metadata": {},
   "source": [
    "### for the level 1"
   ]
  },
  {
   "cell_type": "code",
   "execution_count": 20,
   "id": "de562865",
   "metadata": {},
   "outputs": [],
   "source": [
    "lvl1_df = pd.DataFrame(w_lvl1) #5743, 633\n",
    "#lvl1_df"
   ]
  },
  {
   "cell_type": "code",
   "execution_count": 21,
   "id": "f005c16c",
   "metadata": {},
   "outputs": [],
   "source": [
    "p_lvl1 = lvl1_df.iloc[:, wave_in_lvl1] #5743, 54\n",
    "#p_lvl1"
   ]
  },
  {
   "cell_type": "markdown",
   "id": "bd1c97db",
   "metadata": {},
   "source": [
    "### for the level 2"
   ]
  },
  {
   "cell_type": "code",
   "execution_count": 22,
   "id": "170f7de3",
   "metadata": {},
   "outputs": [],
   "source": [
    "lvl2_df = pd.DataFrame(w_lvl2) #5743, 1258\n",
    "#lvl2_df"
   ]
  },
  {
   "cell_type": "code",
   "execution_count": 23,
   "id": "550ef026",
   "metadata": {},
   "outputs": [],
   "source": [
    "p_lvl2 = lvl2_df.iloc[:, wave_in_lvl2] #5743, 94\n",
    "#p_lvl2"
   ]
  },
  {
   "cell_type": "markdown",
   "id": "3f61c010",
   "metadata": {},
   "source": [
    "### for the level 3"
   ]
  },
  {
   "cell_type": "code",
   "execution_count": 24,
   "id": "68400466",
   "metadata": {},
   "outputs": [],
   "source": [
    "lvl3_df = pd.DataFrame(w_lvl3) #5743, 2508\n",
    "#lvl3_df"
   ]
  },
  {
   "cell_type": "code",
   "execution_count": 25,
   "id": "ccf2d98b",
   "metadata": {},
   "outputs": [],
   "source": [
    "p_lvl3 = lvl3_df.iloc[:, wave_in_lvl3] #5743, 162\n",
    "#p_lvl3"
   ]
  },
  {
   "cell_type": "markdown",
   "id": "32091ad2",
   "metadata": {},
   "source": [
    "### for the level 4"
   ]
  },
  {
   "cell_type": "code",
   "execution_count": 26,
   "id": "06fb528e",
   "metadata": {},
   "outputs": [],
   "source": [
    "lvl4_df = pd.DataFrame(w_lvl4) #5743, 5007\n",
    "#lvl4_df"
   ]
  },
  {
   "cell_type": "code",
   "execution_count": 27,
   "id": "0acf0333",
   "metadata": {},
   "outputs": [],
   "source": [
    "p_lvl4 = lvl4_df.iloc[:, wave_in_lvl4] #5743, 290\n",
    "#p_lvl4"
   ]
  },
  {
   "cell_type": "markdown",
   "id": "80dfc851",
   "metadata": {},
   "source": [
    "### for the level 5"
   ]
  },
  {
   "cell_type": "code",
   "execution_count": 28,
   "id": "90783998",
   "metadata": {},
   "outputs": [],
   "source": [
    "lvl5_df = pd.DataFrame(w_lvl5) #5743, 10006\n",
    "#lvl5_df"
   ]
  },
  {
   "cell_type": "code",
   "execution_count": 29,
   "id": "e3b7b20e",
   "metadata": {},
   "outputs": [],
   "source": [
    "p_lvl5 = lvl5_df.iloc[:, wave_in_lvl5] #5743, 554\n",
    "#p_lvl5"
   ]
  },
  {
   "cell_type": "markdown",
   "id": "52f01627",
   "metadata": {},
   "source": [
    "### for the level 6"
   ]
  },
  {
   "cell_type": "code",
   "execution_count": 30,
   "id": "da9793b8",
   "metadata": {},
   "outputs": [],
   "source": [
    "lvl6_df = pd.DataFrame(w_lvl6) #5743, 20004\n",
    "#lvl6_df"
   ]
  },
  {
   "cell_type": "code",
   "execution_count": 31,
   "id": "5ff89af1",
   "metadata": {},
   "outputs": [],
   "source": [
    "p_lvl6 = lvl6_df.iloc[:, wave_in_lvl6] #5743, 1115\n",
    "#p_lvl6"
   ]
  },
  {
   "cell_type": "markdown",
   "id": "99d245ee",
   "metadata": {},
   "source": [
    "## now I am going to merge all wavelet levels into one dataframe"
   ]
  },
  {
   "cell_type": "code",
   "execution_count": 32,
   "id": "cb0af988",
   "metadata": {},
   "outputs": [],
   "source": [
    "wavelet_df = pd.concat([p_app, p_lvl1 ], axis=1)\n",
    "wavelet_df = pd.concat([wavelet_df, p_lvl2], axis=1)\n",
    "wavelet_df = pd.concat([wavelet_df, p_lvl3], axis=1)\n",
    "wavelet_df = pd.concat([wavelet_df, p_lvl4], axis=1)\n",
    "wavelet_df = pd.concat([wavelet_df, p_lvl5], axis=1)\n",
    "wavelet_df = pd.concat([wavelet_df, p_lvl6], axis=1)\n",
    "\n",
    "#wavelet_df #5743, 2319"
   ]
  },
  {
   "cell_type": "code",
   "execution_count": 33,
   "id": "ff5c9750",
   "metadata": {},
   "outputs": [],
   "source": [
    "wavelet_df.columns = columns_global #5743, 2319\n",
    "#wavelet_df"
   ]
  },
  {
   "cell_type": "markdown",
   "id": "17fb938d",
   "metadata": {},
   "source": [
    "# now we should concatenate all"
   ]
  },
  {
   "cell_type": "code",
   "execution_count": 34,
   "id": "401c8c78",
   "metadata": {},
   "outputs": [],
   "source": [
    "df = pd.concat([spec_df, wavelet_df], axis=1)\n",
    "df = pd.concat([df, zcrs_df], axis=1)\n",
    "df = pd.concat([df, p_chro], axis=1)\n",
    "df = pd.concat([df, p_tempogram], axis=1)\n",
    "\n",
    "#df #5743, 18798"
   ]
  },
  {
   "cell_type": "markdown",
   "id": "6fe234ec",
   "metadata": {},
   "source": [
    "## save"
   ]
  },
  {
   "cell_type": "code",
   "execution_count": 35,
   "id": "61418155",
   "metadata": {},
   "outputs": [],
   "source": [
    "df.to_csv(path + \"absent/absent_PV_p_features.csv\")"
   ]
  },
  {
   "cell_type": "code",
   "execution_count": null,
   "id": "e8a93478",
   "metadata": {},
   "outputs": [],
   "source": []
  }
 ],
 "metadata": {
  "kernelspec": {
   "display_name": "Python 3 (ipykernel)",
   "language": "python",
   "name": "python3"
  },
  "language_info": {
   "codemirror_mode": {
    "name": "ipython",
    "version": 3
   },
   "file_extension": ".py",
   "mimetype": "text/x-python",
   "name": "python",
   "nbconvert_exporter": "python",
   "pygments_lexer": "ipython3",
   "version": "3.9.9"
  }
 },
 "nbformat": 4,
 "nbformat_minor": 5
}
