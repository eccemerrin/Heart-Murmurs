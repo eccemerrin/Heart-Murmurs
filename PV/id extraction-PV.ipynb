{
 "cells": [
  {
   "cell_type": "markdown",
   "id": "a10707b4",
   "metadata": {},
   "source": [
    "## Imports:"
   ]
  },
  {
   "cell_type": "code",
   "execution_count": 1,
   "id": "5b0b2dcc",
   "metadata": {},
   "outputs": [
    {
     "ename": "RuntimeError",
     "evalue": "module compiled against API version 0xe but this version of numpy is 0xd",
     "output_type": "error",
     "traceback": [
      "\u001b[0;31m---------------------------------------------------------------------------\u001b[0m",
      "\u001b[0;31mRuntimeError\u001b[0m                              Traceback (most recent call last)",
      "\u001b[0;31mRuntimeError\u001b[0m: module compiled against API version 0xe but this version of numpy is 0xd"
     ]
    }
   ],
   "source": [
    "import scipy.io\n",
    "import os\n",
    "import pandas\n",
    "import numpy as np\n",
    "import matplotlib.pyplot as plt\n",
    "import matplotlib.pylab as plt_lab\n",
    "import matplotlib.gridspec as gridspec\n",
    "import obspy\n",
    "import pandas as pd"
   ]
  },
  {
   "cell_type": "code",
   "execution_count": 2,
   "id": "995724bf",
   "metadata": {},
   "outputs": [],
   "source": [
    "import warnings\n",
    "warnings.filterwarnings('ignore')"
   ]
  },
  {
   "cell_type": "markdown",
   "id": "41b4c77f",
   "metadata": {},
   "source": [
    "## Load data:\n",
    "We are going to use this data to plot spectograms of SCG signals. "
   ]
  },
  {
   "cell_type": "code",
   "execution_count": 3,
   "id": "75a415fd",
   "metadata": {},
   "outputs": [],
   "source": [
    "path = \"/Users/ecem/Desktop/phonocardiogram/data/PV\""
   ]
  },
  {
   "cell_type": "code",
   "execution_count": 4,
   "id": "d770eb2f",
   "metadata": {},
   "outputs": [],
   "source": [
    "csv = pd.read_csv(\"/Users/ecem/Desktop/phonocardiogram/data/fixed_csv.csv\", index_col = 0)"
   ]
  },
  {
   "cell_type": "code",
   "execution_count": 5,
   "id": "ea0d1766",
   "metadata": {},
   "outputs": [
    {
     "data": {
      "text/html": [
       "<div>\n",
       "<style scoped>\n",
       "    .dataframe tbody tr th:only-of-type {\n",
       "        vertical-align: middle;\n",
       "    }\n",
       "\n",
       "    .dataframe tbody tr th {\n",
       "        vertical-align: top;\n",
       "    }\n",
       "\n",
       "    .dataframe thead th {\n",
       "        text-align: right;\n",
       "    }\n",
       "</style>\n",
       "<table border=\"1\" class=\"dataframe\">\n",
       "  <thead>\n",
       "    <tr style=\"text-align: right;\">\n",
       "      <th></th>\n",
       "      <th>Patient ID</th>\n",
       "      <th>Age</th>\n",
       "      <th>Sex</th>\n",
       "      <th>Height</th>\n",
       "      <th>Weight</th>\n",
       "      <th>Pregnancy status</th>\n",
       "      <th>Murmur</th>\n",
       "      <th>Most audible location</th>\n",
       "      <th>Systolic murmur timing</th>\n",
       "      <th>Systolic murmur shape</th>\n",
       "      <th>...</th>\n",
       "      <th>Campaign</th>\n",
       "      <th>Additional ID</th>\n",
       "      <th>recording location AV</th>\n",
       "      <th>recording location MV</th>\n",
       "      <th>recording location PV</th>\n",
       "      <th>recording location TV</th>\n",
       "      <th>murmur location AV</th>\n",
       "      <th>murmur location MV</th>\n",
       "      <th>murmur location PV</th>\n",
       "      <th>murmur location TV</th>\n",
       "    </tr>\n",
       "  </thead>\n",
       "  <tbody>\n",
       "    <tr>\n",
       "      <th>0</th>\n",
       "      <td>2530</td>\n",
       "      <td>Child</td>\n",
       "      <td>Female</td>\n",
       "      <td>98.0</td>\n",
       "      <td>15.9</td>\n",
       "      <td>False</td>\n",
       "      <td>Absent</td>\n",
       "      <td>NaN</td>\n",
       "      <td>NaN</td>\n",
       "      <td>NaN</td>\n",
       "      <td>...</td>\n",
       "      <td>CC2015</td>\n",
       "      <td>NaN</td>\n",
       "      <td>1.0</td>\n",
       "      <td>1.0</td>\n",
       "      <td>1.0</td>\n",
       "      <td>1.0</td>\n",
       "      <td>0.0</td>\n",
       "      <td>0.0</td>\n",
       "      <td>0.0</td>\n",
       "      <td>0.0</td>\n",
       "    </tr>\n",
       "    <tr>\n",
       "      <th>1</th>\n",
       "      <td>9979</td>\n",
       "      <td>Child</td>\n",
       "      <td>Female</td>\n",
       "      <td>103.0</td>\n",
       "      <td>13.1</td>\n",
       "      <td>False</td>\n",
       "      <td>Present</td>\n",
       "      <td>TV</td>\n",
       "      <td>Holosystolic</td>\n",
       "      <td>Diamond</td>\n",
       "      <td>...</td>\n",
       "      <td>CC2015</td>\n",
       "      <td>NaN</td>\n",
       "      <td>1.0</td>\n",
       "      <td>1.0</td>\n",
       "      <td>1.0</td>\n",
       "      <td>1.0</td>\n",
       "      <td>1.0</td>\n",
       "      <td>1.0</td>\n",
       "      <td>1.0</td>\n",
       "      <td>1.0</td>\n",
       "    </tr>\n",
       "    <tr>\n",
       "      <th>2</th>\n",
       "      <td>9983</td>\n",
       "      <td>Child</td>\n",
       "      <td>Male</td>\n",
       "      <td>115.0</td>\n",
       "      <td>19.1</td>\n",
       "      <td>False</td>\n",
       "      <td>Unknown</td>\n",
       "      <td>NaN</td>\n",
       "      <td>NaN</td>\n",
       "      <td>NaN</td>\n",
       "      <td>...</td>\n",
       "      <td>CC2015</td>\n",
       "      <td>NaN</td>\n",
       "      <td>1.0</td>\n",
       "      <td>1.0</td>\n",
       "      <td>1.0</td>\n",
       "      <td>1.0</td>\n",
       "      <td>0.0</td>\n",
       "      <td>0.0</td>\n",
       "      <td>0.0</td>\n",
       "      <td>0.0</td>\n",
       "    </tr>\n",
       "    <tr>\n",
       "      <th>3</th>\n",
       "      <td>13918</td>\n",
       "      <td>Child</td>\n",
       "      <td>Male</td>\n",
       "      <td>98.0</td>\n",
       "      <td>15.9</td>\n",
       "      <td>False</td>\n",
       "      <td>Present</td>\n",
       "      <td>TV</td>\n",
       "      <td>Holosystolic</td>\n",
       "      <td>Plateau</td>\n",
       "      <td>...</td>\n",
       "      <td>CC2015</td>\n",
       "      <td>NaN</td>\n",
       "      <td>1.0</td>\n",
       "      <td>1.0</td>\n",
       "      <td>1.0</td>\n",
       "      <td>1.0</td>\n",
       "      <td>0.0</td>\n",
       "      <td>0.0</td>\n",
       "      <td>0.0</td>\n",
       "      <td>1.0</td>\n",
       "    </tr>\n",
       "    <tr>\n",
       "      <th>4</th>\n",
       "      <td>14241</td>\n",
       "      <td>Child</td>\n",
       "      <td>Male</td>\n",
       "      <td>87.0</td>\n",
       "      <td>11.2</td>\n",
       "      <td>False</td>\n",
       "      <td>Present</td>\n",
       "      <td>PV</td>\n",
       "      <td>Early-systolic</td>\n",
       "      <td>Plateau</td>\n",
       "      <td>...</td>\n",
       "      <td>CC2015</td>\n",
       "      <td>NaN</td>\n",
       "      <td>1.0</td>\n",
       "      <td>1.0</td>\n",
       "      <td>1.0</td>\n",
       "      <td>1.0</td>\n",
       "      <td>1.0</td>\n",
       "      <td>1.0</td>\n",
       "      <td>1.0</td>\n",
       "      <td>1.0</td>\n",
       "    </tr>\n",
       "  </tbody>\n",
       "</table>\n",
       "<p>5 rows × 29 columns</p>\n",
       "</div>"
      ],
      "text/plain": [
       "   Patient ID    Age     Sex  Height  Weight  Pregnancy status   Murmur  \\\n",
       "0        2530  Child  Female    98.0    15.9             False   Absent   \n",
       "1        9979  Child  Female   103.0    13.1             False  Present   \n",
       "2        9983  Child    Male   115.0    19.1             False  Unknown   \n",
       "3       13918  Child    Male    98.0    15.9             False  Present   \n",
       "4       14241  Child    Male    87.0    11.2             False  Present   \n",
       "\n",
       "  Most audible location Systolic murmur timing Systolic murmur shape  ...  \\\n",
       "0                   NaN                    NaN                   NaN  ...   \n",
       "1                    TV           Holosystolic               Diamond  ...   \n",
       "2                   NaN                    NaN                   NaN  ...   \n",
       "3                    TV           Holosystolic               Plateau  ...   \n",
       "4                    PV         Early-systolic               Plateau  ...   \n",
       "\n",
       "  Campaign Additional ID recording location AV recording location MV  \\\n",
       "0   CC2015           NaN                   1.0                   1.0   \n",
       "1   CC2015           NaN                   1.0                   1.0   \n",
       "2   CC2015           NaN                   1.0                   1.0   \n",
       "3   CC2015           NaN                   1.0                   1.0   \n",
       "4   CC2015           NaN                   1.0                   1.0   \n",
       "\n",
       "  recording location PV recording location TV murmur location AV  \\\n",
       "0                   1.0                   1.0                0.0   \n",
       "1                   1.0                   1.0                1.0   \n",
       "2                   1.0                   1.0                0.0   \n",
       "3                   1.0                   1.0                0.0   \n",
       "4                   1.0                   1.0                1.0   \n",
       "\n",
       "  murmur location MV murmur location PV murmur location TV  \n",
       "0                0.0                0.0                0.0  \n",
       "1                1.0                1.0                1.0  \n",
       "2                0.0                0.0                0.0  \n",
       "3                0.0                0.0                1.0  \n",
       "4                1.0                1.0                1.0  \n",
       "\n",
       "[5 rows x 29 columns]"
      ]
     },
     "execution_count": 5,
     "metadata": {},
     "output_type": "execute_result"
    }
   ],
   "source": [
    "csv.head()"
   ]
  },
  {
   "cell_type": "markdown",
   "id": "77620848",
   "metadata": {},
   "source": [
    "### get indexes for recordings taken in specific location with murmur = absent, present"
   ]
  },
  {
   "cell_type": "code",
   "execution_count": 6,
   "id": "f7806bce",
   "metadata": {},
   "outputs": [
    {
     "data": {
      "text/plain": [
       "(array([  1,   4,   8,  12,  19,  21,  23,  25,  33,  42,  43,  44,  55,\n",
       "         57,  63,  64,  68,  70,  82,  85, 106, 135, 136, 164, 176, 187,\n",
       "        203, 216, 219, 220, 231, 233, 242, 244, 248, 269, 272, 332, 358,\n",
       "        359, 360, 367, 389, 416, 418, 429, 430, 434, 440, 441, 446, 453,\n",
       "        463, 466, 469, 471, 479, 485, 488, 498, 502, 527, 528, 529, 531,\n",
       "        534, 539, 551, 555, 572, 573, 588, 594, 609, 628, 634, 650, 659,\n",
       "        665, 666, 667, 678, 705, 711, 743, 752, 757, 758, 762, 765, 772,\n",
       "        773, 782, 783, 787, 800, 807, 815, 816, 844, 856, 857, 860, 867,\n",
       "        881, 892, 896]),)"
      ]
     },
     "execution_count": 6,
     "metadata": {},
     "output_type": "execute_result"
    }
   ],
   "source": [
    "#this shows indexes of recordings taken in av location which also has a murmur at av\n",
    "idx_pv_present =  np.where((csv['Murmur'] == 'Present') & (csv['murmur location PV'] == 1) &\n",
    "                           (csv['recording location PV'] == 1))\n",
    "idx_pv_present"
   ]
  },
  {
   "cell_type": "code",
   "execution_count": 7,
   "id": "fd33f870",
   "metadata": {},
   "outputs": [
    {
     "data": {
      "text/plain": [
       "107"
      ]
     },
     "execution_count": 7,
     "metadata": {},
     "output_type": "execute_result"
    }
   ],
   "source": [
    "len(idx_pv_present[0])"
   ]
  },
  {
   "cell_type": "code",
   "execution_count": 8,
   "id": "74234c85",
   "metadata": {
    "scrolled": true
   },
   "outputs": [
    {
     "data": {
      "text/plain": [
       "(array([  0,   5,   6,   7,  10,  14,  15,  17,  18,  20,  29,  30,  31,\n",
       "         34,  35,  39,  47,  48,  49,  52,  53,  54,  58,  59,  61,  71,\n",
       "         74,  75,  77,  78,  80,  81,  84,  87,  89,  90,  95,  98,  99,\n",
       "        102, 104, 105, 107, 109, 110, 114, 115, 118, 119, 120, 122, 125,\n",
       "        130, 133, 134, 138, 141, 143, 145, 147, 148, 149, 150, 152, 153,\n",
       "        155, 158, 159, 161, 162, 163, 173, 175, 191, 196, 199, 204, 205,\n",
       "        207, 209, 210, 214, 217, 218, 221, 223, 224, 227, 229, 234, 235,\n",
       "        237, 238, 239, 240, 241, 243, 246, 249, 250, 251, 252, 254, 256,\n",
       "        258, 260, 261, 263, 264, 267, 268, 270, 274, 278, 281, 284, 285,\n",
       "        286, 287, 288, 290, 291, 292, 293, 294, 296, 297, 300, 306, 313,\n",
       "        315, 316, 318, 321, 322, 323, 325, 327, 328, 329, 331, 333, 335,\n",
       "        337, 338, 339, 340, 341, 342, 343, 346, 347, 348, 350, 352, 353,\n",
       "        357, 362, 364, 365, 369, 371, 372, 373, 374, 375, 376, 378, 379,\n",
       "        380, 381, 383, 384, 385, 386, 391, 393, 394, 399, 400, 401, 402,\n",
       "        403, 405, 406, 407, 408, 409, 410, 411, 412, 413, 415, 421, 422,\n",
       "        423, 427, 428, 431, 432, 433, 435, 438, 442, 443, 444, 448, 450,\n",
       "        452, 457, 458, 459, 460, 461, 464, 465, 468, 470, 472, 473, 475,\n",
       "        476, 477, 478, 480, 481, 482, 483, 489, 490, 491, 492, 493, 494,\n",
       "        495, 496, 497, 499, 500, 501, 503, 504, 505, 507, 509, 511, 513,\n",
       "        516, 518, 519, 520, 522, 523, 525, 530, 532, 533, 535, 536, 537,\n",
       "        538, 540, 542, 543, 544, 545, 546, 550, 552, 554, 560, 561, 563,\n",
       "        564, 566, 570, 575, 576, 577, 580, 582, 583, 584, 585, 587, 590,\n",
       "        591, 593, 597, 598, 599, 601, 602, 603, 604, 607, 608, 610, 613,\n",
       "        615, 616, 617, 621, 622, 623, 624, 625, 627, 630, 632, 633, 635,\n",
       "        637, 639, 640, 641, 642, 643, 644, 645, 647, 648, 649, 651, 653,\n",
       "        654, 656, 657, 661, 663, 664, 668, 669, 670, 671, 674, 675, 676,\n",
       "        677, 679, 680, 683, 684, 686, 687, 690, 691, 694, 695, 697, 698,\n",
       "        699, 700, 701, 703, 704, 706, 707, 708, 709, 710, 713, 714, 715,\n",
       "        716, 717, 718, 719, 723, 724, 725, 726, 727, 728, 731, 732, 733,\n",
       "        735, 736, 737, 738, 739, 741, 742, 745, 747, 750, 751, 754, 755,\n",
       "        756, 759, 761, 764, 767, 768, 769, 771, 774, 776, 779, 781, 785,\n",
       "        786, 790, 791, 792, 793, 794, 795, 796, 799, 801, 802, 803, 804,\n",
       "        805, 806, 808, 809, 810, 811, 812, 813, 814, 817, 819, 821, 822,\n",
       "        825, 826, 827, 828, 829, 830, 831, 833, 835, 836, 837, 838, 840,\n",
       "        842, 845, 846, 847, 848, 849, 851, 852, 853, 855, 861, 862, 863,\n",
       "        864, 865, 866, 868, 869, 873, 874, 875, 876, 877, 878, 879, 882,\n",
       "        883, 884, 885, 886, 887, 888, 889, 890, 893, 895, 897, 899, 900,\n",
       "        901, 902, 903, 904, 906, 907, 909, 910, 912, 913, 915, 916, 918,\n",
       "        919, 925, 926, 927, 928, 929, 930, 931, 932, 934, 935, 937, 938,\n",
       "        940, 941]),)"
      ]
     },
     "execution_count": 8,
     "metadata": {},
     "output_type": "execute_result"
    }
   ],
   "source": [
    "#this shows indexes of recordings taken in av location which also has not a murmur at anywhere\n",
    "idx_pv_absent =  np.where((csv['Murmur'] == 'Absent') & (csv['murmur location PV'] == 0) &\n",
    "                           (csv['recording location PV'] == 1))\n",
    "idx_pv_absent"
   ]
  },
  {
   "cell_type": "code",
   "execution_count": 9,
   "id": "733b1562",
   "metadata": {},
   "outputs": [
    {
     "data": {
      "text/plain": [
       "509"
      ]
     },
     "execution_count": 9,
     "metadata": {},
     "output_type": "execute_result"
    }
   ],
   "source": [
    "len(idx_pv_absent[0])"
   ]
  },
  {
   "cell_type": "markdown",
   "id": "d044566c",
   "metadata": {},
   "source": [
    "## now lets get the data in which murmur is present"
   ]
  },
  {
   "cell_type": "markdown",
   "id": "dbd6f79f",
   "metadata": {},
   "source": [
    "### murmur = present"
   ]
  },
  {
   "cell_type": "code",
   "execution_count": 10,
   "id": "16d4703f",
   "metadata": {},
   "outputs": [
    {
     "data": {
      "text/plain": [
       "array([ 9979, 14241, 29045, 36327, 40840, 44514, 46065, 46579, 49574,\n",
       "       49627, 49628, 49630, 49691, 49712, 49751, 49754, 49821, 49824,\n",
       "       49897, 49931, 49994, 50054, 50056, 50115, 50129, 50150, 50209,\n",
       "       50229, 50233, 50238, 50256, 50260, 50277, 50280, 50289, 50326,\n",
       "       50331, 50676, 50734, 50735, 50736, 50744, 50781, 55945, 57706,\n",
       "       68194, 68204, 68255, 68303, 68306, 68337, 68379, 68425, 68432,\n",
       "       68444, 68456, 68487, 68560, 68582, 68708, 68740, 69068, 69079,\n",
       "       69093, 69096, 69120, 69147, 73497, 76240, 84692, 84693, 84718,\n",
       "       84730, 84751, 84786, 84802, 84834, 84854, 84863, 84864, 84865,\n",
       "       84882, 84937, 84949, 85002, 85024, 85030, 85031, 85036, 85042,\n",
       "       85055, 85057, 85079, 85080, 85087, 85110, 85119, 85132, 85133,\n",
       "       85172, 85198, 85199, 85207, 85219, 85243, 85261, 85269])"
      ]
     },
     "execution_count": 10,
     "metadata": {},
     "output_type": "execute_result"
    }
   ],
   "source": [
    "ids_pv_present = csv.loc[idx_pv_present]['Patient ID'].values\n",
    "ids_pv_present"
   ]
  },
  {
   "cell_type": "code",
   "execution_count": 11,
   "id": "fbb3b096",
   "metadata": {},
   "outputs": [
    {
     "data": {
      "text/plain": [
       "107"
      ]
     },
     "execution_count": 11,
     "metadata": {},
     "output_type": "execute_result"
    }
   ],
   "source": [
    "len(ids_pv_present)"
   ]
  },
  {
   "cell_type": "code",
   "execution_count": 12,
   "id": "a5218dae",
   "metadata": {},
   "outputs": [],
   "source": [
    "np.save(path + \"/murmur_present_ids\", ids_pv_present, allow_pickle = True)"
   ]
  },
  {
   "cell_type": "code",
   "execution_count": 13,
   "id": "314ccdf9",
   "metadata": {},
   "outputs": [
    {
     "data": {
      "text/plain": [
       "array([ 2530, 14998, 23625, 24160, 31737, 39043, 39403, 40058, 40798,\n",
       "       43852, 49561, 49562, 49568, 49577, 49585, 49610, 49641, 49653,\n",
       "       49659, 49678, 49683, 49687, 49719, 49729, 49745, 49829, 49839,\n",
       "       49842, 49853, 49854, 49876, 49896, 49930, 49952, 49960, 49963,\n",
       "       49974, 49980, 49983, 49988, 49990, 49993, 49995, 49999, 50001,\n",
       "       50007, 50008, 50014, 50015, 50017, 50023, 50029, 50043, 50049,\n",
       "       50053, 50061, 50070, 50074, 50076, 50078, 50079, 50080, 50085,\n",
       "       50089, 50092, 50096, 50103, 50104, 50109, 50111, 50113, 50126,\n",
       "       50128, 50155, 50165, 50174, 50210, 50213, 50216, 50218, 50219,\n",
       "       50225, 50230, 50231, 50239, 50244, 50247, 50250, 50254, 50261,\n",
       "       50263, 50271, 50272, 50273, 50275, 50276, 50278, 50284, 50291,\n",
       "       50295, 50296, 50297, 50299, 50303, 50306, 50312, 50314, 50317,\n",
       "       50318, 50323, 50325, 50327, 50334, 50339, 50343, 50349, 50350,\n",
       "       50352, 50354, 50359, 50379, 50384, 50385, 50386, 50388, 50393,\n",
       "       50619, 50624, 50635, 50645, 50647, 50649, 50654, 50657, 50658,\n",
       "       50659, 50664, 50667, 50668, 50669, 50673, 50677, 50680, 50687,\n",
       "       50688, 50689, 50690, 50691, 50693, 50699, 50708, 50713, 50715,\n",
       "       50721, 50723, 50725, 50732, 50738, 50740, 50742, 50747, 50749,\n",
       "       50751, 50752, 50753, 50754, 50756, 50758, 50762, 50763, 50766,\n",
       "       50770, 50771, 50772, 50773, 50784, 50788, 50789, 50797, 50798,\n",
       "       50800, 50802, 50803, 50807, 50812, 50815, 50818, 50819, 50820,\n",
       "       50822, 50826, 50829, 51331, 61610, 63456, 63581, 68182, 68186,\n",
       "       68213, 68219, 68222, 68260, 68292, 68316, 68318, 68327, 68359,\n",
       "       68368, 68377, 68406, 68407, 68412, 68413, 68419, 68427, 68431,\n",
       "       68436, 68449, 68460, 68465, 68477, 68478, 68482, 68484, 68498,\n",
       "       68504, 68532, 68545, 68624, 68632, 68646, 68659, 68660, 68682,\n",
       "       68698, 68702, 68705, 68711, 68737, 68738, 68741, 68752, 68755,\n",
       "       68757, 68827, 68849, 68861, 68886, 68888, 68895, 68901, 68909,\n",
       "       68952, 69066, 69095, 69106, 69112, 69125, 69129, 69141, 69144,\n",
       "       69152, 69159, 69161, 69174, 69176, 69188, 73316, 74417, 75440,\n",
       "       78592, 80348, 81297, 81501, 82275, 84689, 84696, 84697, 84699,\n",
       "       84706, 84709, 84710, 84711, 84713, 84716, 84721, 84724, 84727,\n",
       "       84733, 84734, 84735, 84738, 84740, 84742, 84743, 84749, 84750,\n",
       "       84753, 84758, 84761, 84762, 84764, 84775, 84776, 84778, 84779,\n",
       "       84780, 84785, 84793, 84798, 84799, 84803, 84805, 84808, 84809,\n",
       "       84813, 84814, 84815, 84822, 84823, 84826, 84829, 84831, 84835,\n",
       "       84838, 84839, 84851, 84852, 84856, 84859, 84861, 84866, 84868,\n",
       "       84870, 84874, 84877, 84878, 84879, 84881, 84883, 84884, 84887,\n",
       "       84890, 84893, 84894, 84912, 84917, 84920, 84921, 84923, 84928,\n",
       "       84930, 84931, 84933, 84935, 84936, 84939, 84942, 84945, 84946,\n",
       "       84947, 84952, 84957, 84960, 84961, 84962, 84965, 84966, 84973,\n",
       "       84974, 84976, 84977, 84978, 84982, 84985, 84986, 84987, 84990,\n",
       "       84991, 84992, 84993, 84994, 84996, 85000, 85010, 85012, 85020,\n",
       "       85023, 85027, 85028, 85029, 85033, 85035, 85038, 85044, 85046,\n",
       "       85048, 85053, 85062, 85064, 85075, 85077, 85084, 85086, 85093,\n",
       "       85094, 85096, 85099, 85100, 85102, 85103, 85109, 85112, 85113,\n",
       "       85114, 85115, 85116, 85118, 85121, 85122, 85123, 85124, 85127,\n",
       "       85128, 85131, 85134, 85136, 85140, 85143, 85147, 85148, 85150,\n",
       "       85151, 85152, 85153, 85154, 85157, 85161, 85162, 85163, 85164,\n",
       "       85166, 85168, 85174, 85175, 85176, 85180, 85181, 85184, 85186,\n",
       "       85192, 85197, 85210, 85212, 85213, 85214, 85216, 85217, 85222,\n",
       "       85225, 85230, 85234, 85235, 85236, 85239, 85240, 85241, 85244,\n",
       "       85245, 85246, 85247, 85249, 85250, 85252, 85253, 85258, 85262,\n",
       "       85265, 85270, 85277, 85278, 85279, 85282, 85285, 85286, 85288,\n",
       "       85293, 85296, 85299, 85301, 85305, 85308, 85312, 85315, 85316,\n",
       "       85326, 85327, 85328, 85329, 85331, 85332, 85334, 85335, 85337,\n",
       "       85338, 85340, 85341, 85345, 85349])"
      ]
     },
     "execution_count": 13,
     "metadata": {},
     "output_type": "execute_result"
    }
   ],
   "source": [
    "ids_pv_absent = csv.loc[idx_pv_absent]['Patient ID'].values\n",
    "ids_pv_absent"
   ]
  },
  {
   "cell_type": "code",
   "execution_count": 14,
   "id": "575fcbcf",
   "metadata": {},
   "outputs": [
    {
     "data": {
      "text/plain": [
       "509"
      ]
     },
     "execution_count": 14,
     "metadata": {},
     "output_type": "execute_result"
    }
   ],
   "source": [
    "len(ids_pv_absent)"
   ]
  },
  {
   "cell_type": "code",
   "execution_count": 15,
   "id": "0a2244a7",
   "metadata": {},
   "outputs": [],
   "source": [
    "np.save(path + \"/murmur_absent_ids\", ids_pv_absent, allow_pickle = True)"
   ]
  },
  {
   "cell_type": "code",
   "execution_count": null,
   "id": "f79ebc23",
   "metadata": {},
   "outputs": [],
   "source": []
  },
  {
   "cell_type": "code",
   "execution_count": null,
   "id": "e043545c",
   "metadata": {},
   "outputs": [],
   "source": []
  }
 ],
 "metadata": {
  "kernelspec": {
   "display_name": "Python 3 (ipykernel)",
   "language": "python",
   "name": "python3"
  },
  "language_info": {
   "codemirror_mode": {
    "name": "ipython",
    "version": 3
   },
   "file_extension": ".py",
   "mimetype": "text/x-python",
   "name": "python",
   "nbconvert_exporter": "python",
   "pygments_lexer": "ipython3",
   "version": "3.9.9"
  }
 },
 "nbformat": 4,
 "nbformat_minor": 5
}
