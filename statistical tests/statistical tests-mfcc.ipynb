{
 "cells": [
  {
   "cell_type": "code",
   "execution_count": 1,
   "id": "e232ae2f",
   "metadata": {},
   "outputs": [],
   "source": [
    "import pandas as pd \n",
    "from scipy.stats import mannwhitneyu\n",
    "from scipy import stats\n",
    "import numpy as np"
   ]
  },
  {
   "cell_type": "code",
   "execution_count": 2,
   "id": "52193d25",
   "metadata": {},
   "outputs": [],
   "source": [
    "AV_path =  \"/Users/ecem/Desktop/phonocardiogram/data/AV/present\"\n",
    "MV_path =  \"/Users/ecem/Desktop/phonocardiogram/data/MV/present\"\n",
    "PV_path =  \"/Users/ecem/Desktop/phonocardiogram/data/PV/present\"\n",
    "TV_path =  \"/Users/ecem/Desktop/phonocardiogram/data/TV/present\""
   ]
  },
  {
   "cell_type": "markdown",
   "id": "95a719e9",
   "metadata": {},
   "source": [
    "# Time domain features"
   ]
  },
  {
   "cell_type": "code",
   "execution_count": 3,
   "id": "7a9d66af",
   "metadata": {},
   "outputs": [],
   "source": [
    "av = pd.read_csv(AV_path + \"/AV-mfcc.csv\", index_col = 0)\n",
    "mv = pd.read_csv(MV_path + \"/MV-mfcc.csv\", index_col = 0)\n",
    "pv = pd.read_csv(PV_path + \"/PV-mfcc.csv\", index_col = 0)\n",
    "tv = pd.read_csv(TV_path + \"/TV-mfcc.csv\", index_col = 0)"
   ]
  },
  {
   "cell_type": "code",
   "execution_count": 4,
   "id": "dfd2f717",
   "metadata": {},
   "outputs": [
    {
     "data": {
      "text/html": [
       "<div>\n",
       "<style scoped>\n",
       "    .dataframe tbody tr th:only-of-type {\n",
       "        vertical-align: middle;\n",
       "    }\n",
       "\n",
       "    .dataframe tbody tr th {\n",
       "        vertical-align: top;\n",
       "    }\n",
       "\n",
       "    .dataframe thead th {\n",
       "        text-align: right;\n",
       "    }\n",
       "</style>\n",
       "<table border=\"1\" class=\"dataframe\">\n",
       "  <thead>\n",
       "    <tr style=\"text-align: right;\">\n",
       "      <th></th>\n",
       "      <th>0'th mfcc</th>\n",
       "      <th>1'th mfcc</th>\n",
       "      <th>2'th mfcc</th>\n",
       "      <th>3'th mfcc</th>\n",
       "      <th>4'th mfcc</th>\n",
       "      <th>5'th mfcc</th>\n",
       "      <th>6'th mfcc</th>\n",
       "      <th>7'th mfcc</th>\n",
       "      <th>8'th mfcc</th>\n",
       "      <th>9'th mfcc</th>\n",
       "      <th>10'th mfcc</th>\n",
       "      <th>11'th mfcc</th>\n",
       "      <th>12'th mfcc</th>\n",
       "    </tr>\n",
       "  </thead>\n",
       "  <tbody>\n",
       "    <tr>\n",
       "      <th>0</th>\n",
       "      <td>-633.109253</td>\n",
       "      <td>132.700790</td>\n",
       "      <td>107.842934</td>\n",
       "      <td>74.306953</td>\n",
       "      <td>39.785713</td>\n",
       "      <td>11.594851</td>\n",
       "      <td>-5.850253</td>\n",
       "      <td>-11.787212</td>\n",
       "      <td>-8.720296</td>\n",
       "      <td>-1.054230</td>\n",
       "      <td>6.603188</td>\n",
       "      <td>10.925388</td>\n",
       "      <td>10.672085</td>\n",
       "    </tr>\n",
       "    <tr>\n",
       "      <th>1</th>\n",
       "      <td>-701.071594</td>\n",
       "      <td>155.947449</td>\n",
       "      <td>125.058556</td>\n",
       "      <td>83.826912</td>\n",
       "      <td>42.478271</td>\n",
       "      <td>10.240438</td>\n",
       "      <td>-7.892224</td>\n",
       "      <td>-12.005322</td>\n",
       "      <td>-6.336492</td>\n",
       "      <td>2.968461</td>\n",
       "      <td>10.324830</td>\n",
       "      <td>12.509784</td>\n",
       "      <td>9.245497</td>\n",
       "    </tr>\n",
       "    <tr>\n",
       "      <th>2</th>\n",
       "      <td>-741.243896</td>\n",
       "      <td>144.392624</td>\n",
       "      <td>117.971466</td>\n",
       "      <td>81.752098</td>\n",
       "      <td>44.652954</td>\n",
       "      <td>14.680330</td>\n",
       "      <td>-3.411008</td>\n",
       "      <td>-9.114907</td>\n",
       "      <td>-5.614161</td>\n",
       "      <td>1.940580</td>\n",
       "      <td>8.533819</td>\n",
       "      <td>10.958953</td>\n",
       "      <td>8.535465</td>\n",
       "    </tr>\n",
       "    <tr>\n",
       "      <th>3</th>\n",
       "      <td>-732.736938</td>\n",
       "      <td>151.063507</td>\n",
       "      <td>122.540520</td>\n",
       "      <td>84.347046</td>\n",
       "      <td>45.718349</td>\n",
       "      <td>15.088373</td>\n",
       "      <td>-2.875393</td>\n",
       "      <td>-8.049913</td>\n",
       "      <td>-4.078320</td>\n",
       "      <td>3.585862</td>\n",
       "      <td>9.855361</td>\n",
       "      <td>11.641628</td>\n",
       "      <td>8.457591</td>\n",
       "    </tr>\n",
       "    <tr>\n",
       "      <th>4</th>\n",
       "      <td>-735.887756</td>\n",
       "      <td>159.142487</td>\n",
       "      <td>127.244217</td>\n",
       "      <td>85.238556</td>\n",
       "      <td>43.997086</td>\n",
       "      <td>12.814139</td>\n",
       "      <td>-3.882348</td>\n",
       "      <td>-7.016807</td>\n",
       "      <td>-1.437791</td>\n",
       "      <td>6.647314</td>\n",
       "      <td>12.122697</td>\n",
       "      <td>12.467425</td>\n",
       "      <td>7.965951</td>\n",
       "    </tr>\n",
       "    <tr>\n",
       "      <th>...</th>\n",
       "      <td>...</td>\n",
       "      <td>...</td>\n",
       "      <td>...</td>\n",
       "      <td>...</td>\n",
       "      <td>...</td>\n",
       "      <td>...</td>\n",
       "      <td>...</td>\n",
       "      <td>...</td>\n",
       "      <td>...</td>\n",
       "      <td>...</td>\n",
       "      <td>...</td>\n",
       "      <td>...</td>\n",
       "      <td>...</td>\n",
       "    </tr>\n",
       "    <tr>\n",
       "      <th>1240</th>\n",
       "      <td>-588.792297</td>\n",
       "      <td>113.684715</td>\n",
       "      <td>93.878868</td>\n",
       "      <td>67.051743</td>\n",
       "      <td>38.859001</td>\n",
       "      <td>15.127267</td>\n",
       "      <td>-0.260531</td>\n",
       "      <td>-6.127991</td>\n",
       "      <td>-3.993232</td>\n",
       "      <td>2.810654</td>\n",
       "      <td>10.430388</td>\n",
       "      <td>15.764427</td>\n",
       "      <td>17.263075</td>\n",
       "    </tr>\n",
       "    <tr>\n",
       "      <th>1241</th>\n",
       "      <td>-605.685547</td>\n",
       "      <td>121.834923</td>\n",
       "      <td>100.678566</td>\n",
       "      <td>72.031822</td>\n",
       "      <td>42.340965</td>\n",
       "      <td>17.545874</td>\n",
       "      <td>1.642311</td>\n",
       "      <td>-4.437300</td>\n",
       "      <td>-2.462748</td>\n",
       "      <td>4.086339</td>\n",
       "      <td>11.290581</td>\n",
       "      <td>16.108189</td>\n",
       "      <td>17.092247</td>\n",
       "    </tr>\n",
       "    <tr>\n",
       "      <th>1242</th>\n",
       "      <td>-597.122437</td>\n",
       "      <td>118.523613</td>\n",
       "      <td>98.212830</td>\n",
       "      <td>70.891685</td>\n",
       "      <td>42.662952</td>\n",
       "      <td>18.916773</td>\n",
       "      <td>3.500680</td>\n",
       "      <td>-2.521864</td>\n",
       "      <td>-0.913229</td>\n",
       "      <td>4.965795</td>\n",
       "      <td>11.423759</td>\n",
       "      <td>15.550457</td>\n",
       "      <td>16.047947</td>\n",
       "    </tr>\n",
       "    <tr>\n",
       "      <th>1243</th>\n",
       "      <td>-576.533752</td>\n",
       "      <td>113.801575</td>\n",
       "      <td>94.040977</td>\n",
       "      <td>67.431458</td>\n",
       "      <td>39.770035</td>\n",
       "      <td>16.870235</td>\n",
       "      <td>2.424724</td>\n",
       "      <td>-2.699684</td>\n",
       "      <td>-0.320392</td>\n",
       "      <td>6.073212</td>\n",
       "      <td>12.686643</td>\n",
       "      <td>16.670540</td>\n",
       "      <td>16.820971</td>\n",
       "    </tr>\n",
       "    <tr>\n",
       "      <th>1244</th>\n",
       "      <td>-528.520996</td>\n",
       "      <td>107.194771</td>\n",
       "      <td>89.459259</td>\n",
       "      <td>65.518517</td>\n",
       "      <td>40.553410</td>\n",
       "      <td>19.722246</td>\n",
       "      <td>6.260118</td>\n",
       "      <td>0.926360</td>\n",
       "      <td>2.179145</td>\n",
       "      <td>7.060628</td>\n",
       "      <td>12.336532</td>\n",
       "      <td>15.530533</td>\n",
       "      <td>15.526834</td>\n",
       "    </tr>\n",
       "  </tbody>\n",
       "</table>\n",
       "<p>1245 rows × 13 columns</p>\n",
       "</div>"
      ],
      "text/plain": [
       "       0'th mfcc   1'th mfcc   2'th mfcc  3'th mfcc  4'th mfcc  5'th mfcc  \\\n",
       "0    -633.109253  132.700790  107.842934  74.306953  39.785713  11.594851   \n",
       "1    -701.071594  155.947449  125.058556  83.826912  42.478271  10.240438   \n",
       "2    -741.243896  144.392624  117.971466  81.752098  44.652954  14.680330   \n",
       "3    -732.736938  151.063507  122.540520  84.347046  45.718349  15.088373   \n",
       "4    -735.887756  159.142487  127.244217  85.238556  43.997086  12.814139   \n",
       "...          ...         ...         ...        ...        ...        ...   \n",
       "1240 -588.792297  113.684715   93.878868  67.051743  38.859001  15.127267   \n",
       "1241 -605.685547  121.834923  100.678566  72.031822  42.340965  17.545874   \n",
       "1242 -597.122437  118.523613   98.212830  70.891685  42.662952  18.916773   \n",
       "1243 -576.533752  113.801575   94.040977  67.431458  39.770035  16.870235   \n",
       "1244 -528.520996  107.194771   89.459259  65.518517  40.553410  19.722246   \n",
       "\n",
       "      6'th mfcc  7'th mfcc  8'th mfcc  9'th mfcc  10'th mfcc  11'th mfcc  \\\n",
       "0     -5.850253 -11.787212  -8.720296  -1.054230    6.603188   10.925388   \n",
       "1     -7.892224 -12.005322  -6.336492   2.968461   10.324830   12.509784   \n",
       "2     -3.411008  -9.114907  -5.614161   1.940580    8.533819   10.958953   \n",
       "3     -2.875393  -8.049913  -4.078320   3.585862    9.855361   11.641628   \n",
       "4     -3.882348  -7.016807  -1.437791   6.647314   12.122697   12.467425   \n",
       "...         ...        ...        ...        ...         ...         ...   \n",
       "1240  -0.260531  -6.127991  -3.993232   2.810654   10.430388   15.764427   \n",
       "1241   1.642311  -4.437300  -2.462748   4.086339   11.290581   16.108189   \n",
       "1242   3.500680  -2.521864  -0.913229   4.965795   11.423759   15.550457   \n",
       "1243   2.424724  -2.699684  -0.320392   6.073212   12.686643   16.670540   \n",
       "1244   6.260118   0.926360   2.179145   7.060628   12.336532   15.530533   \n",
       "\n",
       "      12'th mfcc  \n",
       "0      10.672085  \n",
       "1       9.245497  \n",
       "2       8.535465  \n",
       "3       8.457591  \n",
       "4       7.965951  \n",
       "...          ...  \n",
       "1240   17.263075  \n",
       "1241   17.092247  \n",
       "1242   16.047947  \n",
       "1243   16.820971  \n",
       "1244   15.526834  \n",
       "\n",
       "[1245 rows x 13 columns]"
      ]
     },
     "execution_count": 4,
     "metadata": {},
     "output_type": "execute_result"
    }
   ],
   "source": [
    "av"
   ]
  },
  {
   "cell_type": "markdown",
   "id": "05fb94bb",
   "metadata": {},
   "source": [
    "### AV-MV"
   ]
  },
  {
   "cell_type": "code",
   "execution_count": 5,
   "id": "5ac23bb4",
   "metadata": {},
   "outputs": [],
   "source": [
    "test = mannwhitneyu(av, mv,\n",
    "                    use_continuity=False, alternative = 'two-sided')\n",
    "stats = pd.DataFrame(test[0])\n",
    "p = pd.DataFrame(test[1])\n"
   ]
  },
  {
   "cell_type": "code",
   "execution_count": 6,
   "id": "038c4bfb",
   "metadata": {},
   "outputs": [
    {
     "data": {
      "text/html": [
       "<style type=\"text/css\">\n",
       "#T_4b1e8_row0_col0, #T_4b1e8_row0_col3, #T_4b1e8_row0_col4, #T_4b1e8_row0_col5, #T_4b1e8_row0_col6, #T_4b1e8_row0_col7, #T_4b1e8_row0_col8, #T_4b1e8_row0_col9, #T_4b1e8_row0_col10, #T_4b1e8_row0_col11, #T_4b1e8_row0_col12 {\n",
       "  background: pink;\n",
       "}\n",
       "</style>\n",
       "<table id=\"T_4b1e8\">\n",
       "  <thead>\n",
       "    <tr>\n",
       "      <th class=\"blank level0\" >&nbsp;</th>\n",
       "      <th id=\"T_4b1e8_level0_col0\" class=\"col_heading level0 col0\" >0</th>\n",
       "      <th id=\"T_4b1e8_level0_col1\" class=\"col_heading level0 col1\" >1</th>\n",
       "      <th id=\"T_4b1e8_level0_col2\" class=\"col_heading level0 col2\" >2</th>\n",
       "      <th id=\"T_4b1e8_level0_col3\" class=\"col_heading level0 col3\" >3</th>\n",
       "      <th id=\"T_4b1e8_level0_col4\" class=\"col_heading level0 col4\" >4</th>\n",
       "      <th id=\"T_4b1e8_level0_col5\" class=\"col_heading level0 col5\" >5</th>\n",
       "      <th id=\"T_4b1e8_level0_col6\" class=\"col_heading level0 col6\" >6</th>\n",
       "      <th id=\"T_4b1e8_level0_col7\" class=\"col_heading level0 col7\" >7</th>\n",
       "      <th id=\"T_4b1e8_level0_col8\" class=\"col_heading level0 col8\" >8</th>\n",
       "      <th id=\"T_4b1e8_level0_col9\" class=\"col_heading level0 col9\" >9</th>\n",
       "      <th id=\"T_4b1e8_level0_col10\" class=\"col_heading level0 col10\" >10</th>\n",
       "      <th id=\"T_4b1e8_level0_col11\" class=\"col_heading level0 col11\" >11</th>\n",
       "      <th id=\"T_4b1e8_level0_col12\" class=\"col_heading level0 col12\" >12</th>\n",
       "    </tr>\n",
       "  </thead>\n",
       "  <tbody>\n",
       "    <tr>\n",
       "      <th id=\"T_4b1e8_level0_row0\" class=\"row_heading level0 row0\" >0</th>\n",
       "      <td id=\"T_4b1e8_row0_col0\" class=\"data row0 col0\" >0.027482</td>\n",
       "      <td id=\"T_4b1e8_row0_col1\" class=\"data row0 col1\" >0.321737</td>\n",
       "      <td id=\"T_4b1e8_row0_col2\" class=\"data row0 col2\" >0.646194</td>\n",
       "      <td id=\"T_4b1e8_row0_col3\" class=\"data row0 col3\" >0.000000</td>\n",
       "      <td id=\"T_4b1e8_row0_col4\" class=\"data row0 col4\" >0.000000</td>\n",
       "      <td id=\"T_4b1e8_row0_col5\" class=\"data row0 col5\" >0.000000</td>\n",
       "      <td id=\"T_4b1e8_row0_col6\" class=\"data row0 col6\" >0.000000</td>\n",
       "      <td id=\"T_4b1e8_row0_col7\" class=\"data row0 col7\" >0.000000</td>\n",
       "      <td id=\"T_4b1e8_row0_col8\" class=\"data row0 col8\" >0.000000</td>\n",
       "      <td id=\"T_4b1e8_row0_col9\" class=\"data row0 col9\" >0.000538</td>\n",
       "      <td id=\"T_4b1e8_row0_col10\" class=\"data row0 col10\" >0.005618</td>\n",
       "      <td id=\"T_4b1e8_row0_col11\" class=\"data row0 col11\" >0.000000</td>\n",
       "      <td id=\"T_4b1e8_row0_col12\" class=\"data row0 col12\" >0.000000</td>\n",
       "    </tr>\n",
       "  </tbody>\n",
       "</table>\n"
      ],
      "text/plain": [
       "<pandas.io.formats.style.Styler at 0x1344b92b0>"
      ]
     },
     "execution_count": 6,
     "metadata": {},
     "output_type": "execute_result"
    }
   ],
   "source": [
    "p.T.style.apply(lambda x: [\"background: pink\" if v < 0.05 else \"\" for v in x], axis = 1)"
   ]
  },
  {
   "cell_type": "code",
   "execution_count": 7,
   "id": "a3f26f1d",
   "metadata": {},
   "outputs": [
    {
     "data": {
      "text/plain": [
       "Int64Index([0, 3, 4, 5, 6, 7, 8, 9, 10, 11, 12], dtype='int64')"
      ]
     },
     "execution_count": 7,
     "metadata": {},
     "output_type": "execute_result"
    }
   ],
   "source": [
    "av_mv = p[(p < 0.05).any(axis=1)].index\n",
    "av_mv"
   ]
  },
  {
   "cell_type": "markdown",
   "id": "33b4bd95",
   "metadata": {},
   "source": [
    "### AV-PV"
   ]
  },
  {
   "cell_type": "code",
   "execution_count": 8,
   "id": "65fa9939",
   "metadata": {},
   "outputs": [
    {
     "name": "stdout",
     "output_type": "stream",
     "text": [
      "Int64Index([0, 1, 2, 3, 4, 5, 6, 7, 8, 9], dtype='int64')\n"
     ]
    }
   ],
   "source": [
    "test = mannwhitneyu(av, pv, use_continuity=False, alternative = 'two-sided')\n",
    "stats = pd.DataFrame(test[0])\n",
    "p = pd.DataFrame(test[1])\n",
    "\n",
    "av_pv = p[(p < 0.05).any(axis=1)].index\n",
    "\n",
    "print(av_pv)"
   ]
  },
  {
   "cell_type": "code",
   "execution_count": 9,
   "id": "f7e3c5a5",
   "metadata": {},
   "outputs": [
    {
     "data": {
      "text/html": [
       "<style type=\"text/css\">\n",
       "#T_c96bd_row0_col0, #T_c96bd_row0_col1, #T_c96bd_row0_col2, #T_c96bd_row0_col3, #T_c96bd_row0_col4, #T_c96bd_row0_col5, #T_c96bd_row0_col6, #T_c96bd_row0_col7, #T_c96bd_row0_col8, #T_c96bd_row0_col9 {\n",
       "  background: pink;\n",
       "}\n",
       "</style>\n",
       "<table id=\"T_c96bd\">\n",
       "  <thead>\n",
       "    <tr>\n",
       "      <th class=\"blank level0\" >&nbsp;</th>\n",
       "      <th id=\"T_c96bd_level0_col0\" class=\"col_heading level0 col0\" >0</th>\n",
       "      <th id=\"T_c96bd_level0_col1\" class=\"col_heading level0 col1\" >1</th>\n",
       "      <th id=\"T_c96bd_level0_col2\" class=\"col_heading level0 col2\" >2</th>\n",
       "      <th id=\"T_c96bd_level0_col3\" class=\"col_heading level0 col3\" >3</th>\n",
       "      <th id=\"T_c96bd_level0_col4\" class=\"col_heading level0 col4\" >4</th>\n",
       "      <th id=\"T_c96bd_level0_col5\" class=\"col_heading level0 col5\" >5</th>\n",
       "      <th id=\"T_c96bd_level0_col6\" class=\"col_heading level0 col6\" >6</th>\n",
       "      <th id=\"T_c96bd_level0_col7\" class=\"col_heading level0 col7\" >7</th>\n",
       "      <th id=\"T_c96bd_level0_col8\" class=\"col_heading level0 col8\" >8</th>\n",
       "      <th id=\"T_c96bd_level0_col9\" class=\"col_heading level0 col9\" >9</th>\n",
       "      <th id=\"T_c96bd_level0_col10\" class=\"col_heading level0 col10\" >10</th>\n",
       "      <th id=\"T_c96bd_level0_col11\" class=\"col_heading level0 col11\" >11</th>\n",
       "      <th id=\"T_c96bd_level0_col12\" class=\"col_heading level0 col12\" >12</th>\n",
       "    </tr>\n",
       "  </thead>\n",
       "  <tbody>\n",
       "    <tr>\n",
       "      <th id=\"T_c96bd_level0_row0\" class=\"row_heading level0 row0\" >0</th>\n",
       "      <td id=\"T_c96bd_row0_col0\" class=\"data row0 col0\" >0.000000</td>\n",
       "      <td id=\"T_c96bd_row0_col1\" class=\"data row0 col1\" >0.000000</td>\n",
       "      <td id=\"T_c96bd_row0_col2\" class=\"data row0 col2\" >0.000000</td>\n",
       "      <td id=\"T_c96bd_row0_col3\" class=\"data row0 col3\" >0.000000</td>\n",
       "      <td id=\"T_c96bd_row0_col4\" class=\"data row0 col4\" >0.002527</td>\n",
       "      <td id=\"T_c96bd_row0_col5\" class=\"data row0 col5\" >0.004685</td>\n",
       "      <td id=\"T_c96bd_row0_col6\" class=\"data row0 col6\" >0.000009</td>\n",
       "      <td id=\"T_c96bd_row0_col7\" class=\"data row0 col7\" >0.000001</td>\n",
       "      <td id=\"T_c96bd_row0_col8\" class=\"data row0 col8\" >0.000000</td>\n",
       "      <td id=\"T_c96bd_row0_col9\" class=\"data row0 col9\" >0.006091</td>\n",
       "      <td id=\"T_c96bd_row0_col10\" class=\"data row0 col10\" >0.576429</td>\n",
       "      <td id=\"T_c96bd_row0_col11\" class=\"data row0 col11\" >0.553831</td>\n",
       "      <td id=\"T_c96bd_row0_col12\" class=\"data row0 col12\" >0.092487</td>\n",
       "    </tr>\n",
       "  </tbody>\n",
       "</table>\n"
      ],
      "text/plain": [
       "<pandas.io.formats.style.Styler at 0x1344b9580>"
      ]
     },
     "execution_count": 9,
     "metadata": {},
     "output_type": "execute_result"
    }
   ],
   "source": [
    "p.T.style.apply(lambda x: [\"background: pink\" if v < 0.05 else \"\" for v in x], axis = 1)"
   ]
  },
  {
   "cell_type": "markdown",
   "id": "ed4b50b4",
   "metadata": {},
   "source": [
    "### AV-TV"
   ]
  },
  {
   "cell_type": "code",
   "execution_count": 10,
   "id": "ddb6a660",
   "metadata": {},
   "outputs": [
    {
     "name": "stdout",
     "output_type": "stream",
     "text": [
      "Int64Index([0, 1, 2, 3, 4, 5, 6, 7, 8, 11, 12], dtype='int64')\n"
     ]
    }
   ],
   "source": [
    "test = mannwhitneyu(av, tv, use_continuity=False, alternative = 'two-sided')\n",
    "stats = pd.DataFrame(test[0])\n",
    "p = pd.DataFrame(test[1])\n",
    "\n",
    "p.T.style.apply(lambda x: [\"background: pink\" if v < 0.05 else \"\" for v in x], axis = 1)\n",
    "\n",
    "av_tv = p[(p < 0.05).any(axis=1)].index\n",
    "\n",
    "print(av_tv)"
   ]
  },
  {
   "cell_type": "code",
   "execution_count": 11,
   "id": "6c6e4583",
   "metadata": {},
   "outputs": [
    {
     "data": {
      "text/html": [
       "<style type=\"text/css\">\n",
       "#T_65731_row0_col0, #T_65731_row0_col1, #T_65731_row0_col2, #T_65731_row0_col3, #T_65731_row0_col4, #T_65731_row0_col5, #T_65731_row0_col6, #T_65731_row0_col7, #T_65731_row0_col8, #T_65731_row0_col11, #T_65731_row0_col12 {\n",
       "  background: pink;\n",
       "}\n",
       "</style>\n",
       "<table id=\"T_65731\">\n",
       "  <thead>\n",
       "    <tr>\n",
       "      <th class=\"blank level0\" >&nbsp;</th>\n",
       "      <th id=\"T_65731_level0_col0\" class=\"col_heading level0 col0\" >0</th>\n",
       "      <th id=\"T_65731_level0_col1\" class=\"col_heading level0 col1\" >1</th>\n",
       "      <th id=\"T_65731_level0_col2\" class=\"col_heading level0 col2\" >2</th>\n",
       "      <th id=\"T_65731_level0_col3\" class=\"col_heading level0 col3\" >3</th>\n",
       "      <th id=\"T_65731_level0_col4\" class=\"col_heading level0 col4\" >4</th>\n",
       "      <th id=\"T_65731_level0_col5\" class=\"col_heading level0 col5\" >5</th>\n",
       "      <th id=\"T_65731_level0_col6\" class=\"col_heading level0 col6\" >6</th>\n",
       "      <th id=\"T_65731_level0_col7\" class=\"col_heading level0 col7\" >7</th>\n",
       "      <th id=\"T_65731_level0_col8\" class=\"col_heading level0 col8\" >8</th>\n",
       "      <th id=\"T_65731_level0_col9\" class=\"col_heading level0 col9\" >9</th>\n",
       "      <th id=\"T_65731_level0_col10\" class=\"col_heading level0 col10\" >10</th>\n",
       "      <th id=\"T_65731_level0_col11\" class=\"col_heading level0 col11\" >11</th>\n",
       "      <th id=\"T_65731_level0_col12\" class=\"col_heading level0 col12\" >12</th>\n",
       "    </tr>\n",
       "  </thead>\n",
       "  <tbody>\n",
       "    <tr>\n",
       "      <th id=\"T_65731_level0_row0\" class=\"row_heading level0 row0\" >0</th>\n",
       "      <td id=\"T_65731_row0_col0\" class=\"data row0 col0\" >0.000000</td>\n",
       "      <td id=\"T_65731_row0_col1\" class=\"data row0 col1\" >0.000000</td>\n",
       "      <td id=\"T_65731_row0_col2\" class=\"data row0 col2\" >0.000000</td>\n",
       "      <td id=\"T_65731_row0_col3\" class=\"data row0 col3\" >0.000000</td>\n",
       "      <td id=\"T_65731_row0_col4\" class=\"data row0 col4\" >0.000000</td>\n",
       "      <td id=\"T_65731_row0_col5\" class=\"data row0 col5\" >0.000000</td>\n",
       "      <td id=\"T_65731_row0_col6\" class=\"data row0 col6\" >0.003623</td>\n",
       "      <td id=\"T_65731_row0_col7\" class=\"data row0 col7\" >0.031357</td>\n",
       "      <td id=\"T_65731_row0_col8\" class=\"data row0 col8\" >0.006606</td>\n",
       "      <td id=\"T_65731_row0_col9\" class=\"data row0 col9\" >0.057214</td>\n",
       "      <td id=\"T_65731_row0_col10\" class=\"data row0 col10\" >0.387956</td>\n",
       "      <td id=\"T_65731_row0_col11\" class=\"data row0 col11\" >0.000026</td>\n",
       "      <td id=\"T_65731_row0_col12\" class=\"data row0 col12\" >0.000000</td>\n",
       "    </tr>\n",
       "  </tbody>\n",
       "</table>\n"
      ],
      "text/plain": [
       "<pandas.io.formats.style.Styler at 0x137bd84c0>"
      ]
     },
     "execution_count": 11,
     "metadata": {},
     "output_type": "execute_result"
    }
   ],
   "source": [
    "p.T.style.apply(lambda x: [\"background: pink\" if v < 0.05 else \"\" for v in x], axis = 1)"
   ]
  },
  {
   "cell_type": "code",
   "execution_count": 12,
   "id": "ab699e89",
   "metadata": {},
   "outputs": [
    {
     "data": {
      "text/plain": [
       "[0, 3, 4, 5, 6, 7, 8]"
      ]
     },
     "execution_count": 12,
     "metadata": {},
     "output_type": "execute_result"
    }
   ],
   "source": [
    "list(set(av_mv) & set(av_pv) & set(av_tv) )"
   ]
  },
  {
   "cell_type": "markdown",
   "id": "ddf93e49",
   "metadata": {},
   "source": [
    "### MV-PV"
   ]
  },
  {
   "cell_type": "code",
   "execution_count": 13,
   "id": "3660f1dc",
   "metadata": {},
   "outputs": [
    {
     "name": "stdout",
     "output_type": "stream",
     "text": [
      "Int64Index([0, 1, 2, 3, 4, 5, 6, 7, 8, 9, 10, 11, 12], dtype='int64')\n"
     ]
    }
   ],
   "source": [
    "test = mannwhitneyu(mv, pv, use_continuity=False, alternative = 'two-sided')\n",
    "stats = pd.DataFrame(test[0])\n",
    "p = pd.DataFrame(test[1])\n",
    "\n",
    "\n",
    "mv_pv = p[(p < 0.05).any(axis=1)].index\n",
    "\n",
    "print(mv_pv)"
   ]
  },
  {
   "cell_type": "code",
   "execution_count": 14,
   "id": "6c7fc0f8",
   "metadata": {},
   "outputs": [
    {
     "data": {
      "text/html": [
       "<style type=\"text/css\">\n",
       "#T_2156c_row0_col0, #T_2156c_row0_col1, #T_2156c_row0_col2, #T_2156c_row0_col3, #T_2156c_row0_col4, #T_2156c_row0_col5, #T_2156c_row0_col6, #T_2156c_row0_col7, #T_2156c_row0_col8, #T_2156c_row0_col9, #T_2156c_row0_col10, #T_2156c_row0_col11, #T_2156c_row0_col12 {\n",
       "  background: pink;\n",
       "}\n",
       "</style>\n",
       "<table id=\"T_2156c\">\n",
       "  <thead>\n",
       "    <tr>\n",
       "      <th class=\"blank level0\" >&nbsp;</th>\n",
       "      <th id=\"T_2156c_level0_col0\" class=\"col_heading level0 col0\" >0</th>\n",
       "      <th id=\"T_2156c_level0_col1\" class=\"col_heading level0 col1\" >1</th>\n",
       "      <th id=\"T_2156c_level0_col2\" class=\"col_heading level0 col2\" >2</th>\n",
       "      <th id=\"T_2156c_level0_col3\" class=\"col_heading level0 col3\" >3</th>\n",
       "      <th id=\"T_2156c_level0_col4\" class=\"col_heading level0 col4\" >4</th>\n",
       "      <th id=\"T_2156c_level0_col5\" class=\"col_heading level0 col5\" >5</th>\n",
       "      <th id=\"T_2156c_level0_col6\" class=\"col_heading level0 col6\" >6</th>\n",
       "      <th id=\"T_2156c_level0_col7\" class=\"col_heading level0 col7\" >7</th>\n",
       "      <th id=\"T_2156c_level0_col8\" class=\"col_heading level0 col8\" >8</th>\n",
       "      <th id=\"T_2156c_level0_col9\" class=\"col_heading level0 col9\" >9</th>\n",
       "      <th id=\"T_2156c_level0_col10\" class=\"col_heading level0 col10\" >10</th>\n",
       "      <th id=\"T_2156c_level0_col11\" class=\"col_heading level0 col11\" >11</th>\n",
       "      <th id=\"T_2156c_level0_col12\" class=\"col_heading level0 col12\" >12</th>\n",
       "    </tr>\n",
       "  </thead>\n",
       "  <tbody>\n",
       "    <tr>\n",
       "      <th id=\"T_2156c_level0_row0\" class=\"row_heading level0 row0\" >0</th>\n",
       "      <td id=\"T_2156c_row0_col0\" class=\"data row0 col0\" >0.000000</td>\n",
       "      <td id=\"T_2156c_row0_col1\" class=\"data row0 col1\" >0.000000</td>\n",
       "      <td id=\"T_2156c_row0_col2\" class=\"data row0 col2\" >0.000000</td>\n",
       "      <td id=\"T_2156c_row0_col3\" class=\"data row0 col3\" >0.000288</td>\n",
       "      <td id=\"T_2156c_row0_col4\" class=\"data row0 col4\" >0.000000</td>\n",
       "      <td id=\"T_2156c_row0_col5\" class=\"data row0 col5\" >0.000000</td>\n",
       "      <td id=\"T_2156c_row0_col6\" class=\"data row0 col6\" >0.000000</td>\n",
       "      <td id=\"T_2156c_row0_col7\" class=\"data row0 col7\" >0.000000</td>\n",
       "      <td id=\"T_2156c_row0_col8\" class=\"data row0 col8\" >0.000000</td>\n",
       "      <td id=\"T_2156c_row0_col9\" class=\"data row0 col9\" >0.000000</td>\n",
       "      <td id=\"T_2156c_row0_col10\" class=\"data row0 col10\" >0.000726</td>\n",
       "      <td id=\"T_2156c_row0_col11\" class=\"data row0 col11\" >0.000000</td>\n",
       "      <td id=\"T_2156c_row0_col12\" class=\"data row0 col12\" >0.000000</td>\n",
       "    </tr>\n",
       "  </tbody>\n",
       "</table>\n"
      ],
      "text/plain": [
       "<pandas.io.formats.style.Styler at 0x137bd8940>"
      ]
     },
     "execution_count": 14,
     "metadata": {},
     "output_type": "execute_result"
    }
   ],
   "source": [
    "p.T.style.apply(lambda x: [\"background: pink\" if v < 0.05 else \"\" for v in x], axis = 1)"
   ]
  },
  {
   "cell_type": "markdown",
   "id": "e16b32b9",
   "metadata": {},
   "source": [
    "### MV_TV"
   ]
  },
  {
   "cell_type": "code",
   "execution_count": 15,
   "id": "d0562c0d",
   "metadata": {},
   "outputs": [
    {
     "name": "stdout",
     "output_type": "stream",
     "text": [
      "Int64Index([0, 1, 2, 3, 4, 5, 6, 7, 8, 10, 11], dtype='int64')\n"
     ]
    }
   ],
   "source": [
    "test = mannwhitneyu(mv, tv, use_continuity=False, alternative = 'two-sided')\n",
    "stats = pd.DataFrame(test[0])\n",
    "p = pd.DataFrame(test[1])\n",
    "\n",
    "mv_tv = p[(p < 0.05).any(axis=1)].index\n",
    "\n",
    "print(mv_tv)"
   ]
  },
  {
   "cell_type": "code",
   "execution_count": 16,
   "id": "6a2fe28d",
   "metadata": {},
   "outputs": [
    {
     "data": {
      "text/html": [
       "<style type=\"text/css\">\n",
       "#T_b074d_row0_col0, #T_b074d_row0_col1, #T_b074d_row0_col2, #T_b074d_row0_col3, #T_b074d_row0_col4, #T_b074d_row0_col5, #T_b074d_row0_col6, #T_b074d_row0_col7, #T_b074d_row0_col8, #T_b074d_row0_col10, #T_b074d_row0_col11 {\n",
       "  background: pink;\n",
       "}\n",
       "</style>\n",
       "<table id=\"T_b074d\">\n",
       "  <thead>\n",
       "    <tr>\n",
       "      <th class=\"blank level0\" >&nbsp;</th>\n",
       "      <th id=\"T_b074d_level0_col0\" class=\"col_heading level0 col0\" >0</th>\n",
       "      <th id=\"T_b074d_level0_col1\" class=\"col_heading level0 col1\" >1</th>\n",
       "      <th id=\"T_b074d_level0_col2\" class=\"col_heading level0 col2\" >2</th>\n",
       "      <th id=\"T_b074d_level0_col3\" class=\"col_heading level0 col3\" >3</th>\n",
       "      <th id=\"T_b074d_level0_col4\" class=\"col_heading level0 col4\" >4</th>\n",
       "      <th id=\"T_b074d_level0_col5\" class=\"col_heading level0 col5\" >5</th>\n",
       "      <th id=\"T_b074d_level0_col6\" class=\"col_heading level0 col6\" >6</th>\n",
       "      <th id=\"T_b074d_level0_col7\" class=\"col_heading level0 col7\" >7</th>\n",
       "      <th id=\"T_b074d_level0_col8\" class=\"col_heading level0 col8\" >8</th>\n",
       "      <th id=\"T_b074d_level0_col9\" class=\"col_heading level0 col9\" >9</th>\n",
       "      <th id=\"T_b074d_level0_col10\" class=\"col_heading level0 col10\" >10</th>\n",
       "      <th id=\"T_b074d_level0_col11\" class=\"col_heading level0 col11\" >11</th>\n",
       "      <th id=\"T_b074d_level0_col12\" class=\"col_heading level0 col12\" >12</th>\n",
       "    </tr>\n",
       "  </thead>\n",
       "  <tbody>\n",
       "    <tr>\n",
       "      <th id=\"T_b074d_level0_row0\" class=\"row_heading level0 row0\" >0</th>\n",
       "      <td id=\"T_b074d_row0_col0\" class=\"data row0 col0\" >0.000000</td>\n",
       "      <td id=\"T_b074d_row0_col1\" class=\"data row0 col1\" >0.000000</td>\n",
       "      <td id=\"T_b074d_row0_col2\" class=\"data row0 col2\" >0.000000</td>\n",
       "      <td id=\"T_b074d_row0_col3\" class=\"data row0 col3\" >0.000000</td>\n",
       "      <td id=\"T_b074d_row0_col4\" class=\"data row0 col4\" >0.010613</td>\n",
       "      <td id=\"T_b074d_row0_col5\" class=\"data row0 col5\" >0.000017</td>\n",
       "      <td id=\"T_b074d_row0_col6\" class=\"data row0 col6\" >0.000000</td>\n",
       "      <td id=\"T_b074d_row0_col7\" class=\"data row0 col7\" >0.000000</td>\n",
       "      <td id=\"T_b074d_row0_col8\" class=\"data row0 col8\" >0.000000</td>\n",
       "      <td id=\"T_b074d_row0_col9\" class=\"data row0 col9\" >0.095856</td>\n",
       "      <td id=\"T_b074d_row0_col10\" class=\"data row0 col10\" >0.048067</td>\n",
       "      <td id=\"T_b074d_row0_col11\" class=\"data row0 col11\" >0.044017</td>\n",
       "      <td id=\"T_b074d_row0_col12\" class=\"data row0 col12\" >0.081669</td>\n",
       "    </tr>\n",
       "  </tbody>\n",
       "</table>\n"
      ],
      "text/plain": [
       "<pandas.io.formats.style.Styler at 0x137bd8820>"
      ]
     },
     "execution_count": 16,
     "metadata": {},
     "output_type": "execute_result"
    }
   ],
   "source": [
    "p.T.style.apply(lambda x: [\"background: pink\" if v < 0.05 else \"\" for v in x], axis = 1)"
   ]
  },
  {
   "cell_type": "markdown",
   "id": "b4ef6458",
   "metadata": {},
   "source": [
    "### PV-TV"
   ]
  },
  {
   "cell_type": "code",
   "execution_count": 17,
   "id": "3cc0e717",
   "metadata": {},
   "outputs": [
    {
     "name": "stdout",
     "output_type": "stream",
     "text": [
      "Int64Index([2, 3, 4, 5, 6, 7, 8, 9, 11, 12], dtype='int64')\n"
     ]
    }
   ],
   "source": [
    "test = mannwhitneyu(pv, tv, use_continuity=False, alternative = 'two-sided')\n",
    "stats = pd.DataFrame(test[0])\n",
    "p = pd.DataFrame(test[1])\n",
    "\n",
    "pv_tv = p[(p < 0.05).any(axis=1)].index\n",
    "\n",
    "print(pv_tv)"
   ]
  },
  {
   "cell_type": "code",
   "execution_count": 18,
   "id": "b826ace6",
   "metadata": {},
   "outputs": [
    {
     "data": {
      "text/html": [
       "<style type=\"text/css\">\n",
       "#T_edb16_row0_col2, #T_edb16_row0_col3, #T_edb16_row0_col4, #T_edb16_row0_col5, #T_edb16_row0_col6, #T_edb16_row0_col7, #T_edb16_row0_col8, #T_edb16_row0_col9, #T_edb16_row0_col11, #T_edb16_row0_col12 {\n",
       "  background: pink;\n",
       "}\n",
       "</style>\n",
       "<table id=\"T_edb16\">\n",
       "  <thead>\n",
       "    <tr>\n",
       "      <th class=\"blank level0\" >&nbsp;</th>\n",
       "      <th id=\"T_edb16_level0_col0\" class=\"col_heading level0 col0\" >0</th>\n",
       "      <th id=\"T_edb16_level0_col1\" class=\"col_heading level0 col1\" >1</th>\n",
       "      <th id=\"T_edb16_level0_col2\" class=\"col_heading level0 col2\" >2</th>\n",
       "      <th id=\"T_edb16_level0_col3\" class=\"col_heading level0 col3\" >3</th>\n",
       "      <th id=\"T_edb16_level0_col4\" class=\"col_heading level0 col4\" >4</th>\n",
       "      <th id=\"T_edb16_level0_col5\" class=\"col_heading level0 col5\" >5</th>\n",
       "      <th id=\"T_edb16_level0_col6\" class=\"col_heading level0 col6\" >6</th>\n",
       "      <th id=\"T_edb16_level0_col7\" class=\"col_heading level0 col7\" >7</th>\n",
       "      <th id=\"T_edb16_level0_col8\" class=\"col_heading level0 col8\" >8</th>\n",
       "      <th id=\"T_edb16_level0_col9\" class=\"col_heading level0 col9\" >9</th>\n",
       "      <th id=\"T_edb16_level0_col10\" class=\"col_heading level0 col10\" >10</th>\n",
       "      <th id=\"T_edb16_level0_col11\" class=\"col_heading level0 col11\" >11</th>\n",
       "      <th id=\"T_edb16_level0_col12\" class=\"col_heading level0 col12\" >12</th>\n",
       "    </tr>\n",
       "  </thead>\n",
       "  <tbody>\n",
       "    <tr>\n",
       "      <th id=\"T_edb16_level0_row0\" class=\"row_heading level0 row0\" >0</th>\n",
       "      <td id=\"T_edb16_row0_col0\" class=\"data row0 col0\" >0.091568</td>\n",
       "      <td id=\"T_edb16_row0_col1\" class=\"data row0 col1\" >0.144841</td>\n",
       "      <td id=\"T_edb16_row0_col2\" class=\"data row0 col2\" >0.006342</td>\n",
       "      <td id=\"T_edb16_row0_col3\" class=\"data row0 col3\" >0.000000</td>\n",
       "      <td id=\"T_edb16_row0_col4\" class=\"data row0 col4\" >0.000000</td>\n",
       "      <td id=\"T_edb16_row0_col5\" class=\"data row0 col5\" >0.000000</td>\n",
       "      <td id=\"T_edb16_row0_col6\" class=\"data row0 col6\" >0.000000</td>\n",
       "      <td id=\"T_edb16_row0_col7\" class=\"data row0 col7\" >0.000000</td>\n",
       "      <td id=\"T_edb16_row0_col8\" class=\"data row0 col8\" >0.000000</td>\n",
       "      <td id=\"T_edb16_row0_col9\" class=\"data row0 col9\" >0.000002</td>\n",
       "      <td id=\"T_edb16_row0_col10\" class=\"data row0 col10\" >0.101392</td>\n",
       "      <td id=\"T_edb16_row0_col11\" class=\"data row0 col11\" >0.000001</td>\n",
       "      <td id=\"T_edb16_row0_col12\" class=\"data row0 col12\" >0.000000</td>\n",
       "    </tr>\n",
       "  </tbody>\n",
       "</table>\n"
      ],
      "text/plain": [
       "<pandas.io.formats.style.Styler at 0x137c323d0>"
      ]
     },
     "execution_count": 18,
     "metadata": {},
     "output_type": "execute_result"
    }
   ],
   "source": [
    "p.T.style.apply(lambda x: [\"background: pink\" if v < 0.05 else \"\" for v in x], axis = 1)"
   ]
  },
  {
   "cell_type": "code",
   "execution_count": 19,
   "id": "1c075a7d",
   "metadata": {},
   "outputs": [
    {
     "data": {
      "text/html": [
       "<div>\n",
       "<style scoped>\n",
       "    .dataframe tbody tr th:only-of-type {\n",
       "        vertical-align: middle;\n",
       "    }\n",
       "\n",
       "    .dataframe tbody tr th {\n",
       "        vertical-align: top;\n",
       "    }\n",
       "\n",
       "    .dataframe thead th {\n",
       "        text-align: right;\n",
       "    }\n",
       "</style>\n",
       "<table border=\"1\" class=\"dataframe\">\n",
       "  <thead>\n",
       "    <tr style=\"text-align: right;\">\n",
       "      <th></th>\n",
       "      <th>0'th mfcc</th>\n",
       "      <th>1'th mfcc</th>\n",
       "      <th>2'th mfcc</th>\n",
       "      <th>3'th mfcc</th>\n",
       "      <th>4'th mfcc</th>\n",
       "      <th>5'th mfcc</th>\n",
       "      <th>6'th mfcc</th>\n",
       "      <th>7'th mfcc</th>\n",
       "      <th>8'th mfcc</th>\n",
       "      <th>9'th mfcc</th>\n",
       "      <th>10'th mfcc</th>\n",
       "      <th>11'th mfcc</th>\n",
       "      <th>12'th mfcc</th>\n",
       "    </tr>\n",
       "  </thead>\n",
       "  <tbody>\n",
       "    <tr>\n",
       "      <th>0</th>\n",
       "      <td>-633.109253</td>\n",
       "      <td>132.700790</td>\n",
       "      <td>107.842934</td>\n",
       "      <td>74.306953</td>\n",
       "      <td>39.785713</td>\n",
       "      <td>11.594851</td>\n",
       "      <td>-5.850253</td>\n",
       "      <td>-11.787212</td>\n",
       "      <td>-8.720296</td>\n",
       "      <td>-1.054230</td>\n",
       "      <td>6.603188</td>\n",
       "      <td>10.925388</td>\n",
       "      <td>10.672085</td>\n",
       "    </tr>\n",
       "    <tr>\n",
       "      <th>1</th>\n",
       "      <td>-701.071594</td>\n",
       "      <td>155.947449</td>\n",
       "      <td>125.058556</td>\n",
       "      <td>83.826912</td>\n",
       "      <td>42.478271</td>\n",
       "      <td>10.240438</td>\n",
       "      <td>-7.892224</td>\n",
       "      <td>-12.005322</td>\n",
       "      <td>-6.336492</td>\n",
       "      <td>2.968461</td>\n",
       "      <td>10.324830</td>\n",
       "      <td>12.509784</td>\n",
       "      <td>9.245497</td>\n",
       "    </tr>\n",
       "    <tr>\n",
       "      <th>2</th>\n",
       "      <td>-741.243896</td>\n",
       "      <td>144.392624</td>\n",
       "      <td>117.971466</td>\n",
       "      <td>81.752098</td>\n",
       "      <td>44.652954</td>\n",
       "      <td>14.680330</td>\n",
       "      <td>-3.411008</td>\n",
       "      <td>-9.114907</td>\n",
       "      <td>-5.614161</td>\n",
       "      <td>1.940580</td>\n",
       "      <td>8.533819</td>\n",
       "      <td>10.958953</td>\n",
       "      <td>8.535465</td>\n",
       "    </tr>\n",
       "    <tr>\n",
       "      <th>3</th>\n",
       "      <td>-732.736938</td>\n",
       "      <td>151.063507</td>\n",
       "      <td>122.540520</td>\n",
       "      <td>84.347046</td>\n",
       "      <td>45.718349</td>\n",
       "      <td>15.088373</td>\n",
       "      <td>-2.875393</td>\n",
       "      <td>-8.049913</td>\n",
       "      <td>-4.078320</td>\n",
       "      <td>3.585862</td>\n",
       "      <td>9.855361</td>\n",
       "      <td>11.641628</td>\n",
       "      <td>8.457591</td>\n",
       "    </tr>\n",
       "    <tr>\n",
       "      <th>4</th>\n",
       "      <td>-735.887756</td>\n",
       "      <td>159.142487</td>\n",
       "      <td>127.244217</td>\n",
       "      <td>85.238556</td>\n",
       "      <td>43.997086</td>\n",
       "      <td>12.814139</td>\n",
       "      <td>-3.882348</td>\n",
       "      <td>-7.016807</td>\n",
       "      <td>-1.437791</td>\n",
       "      <td>6.647314</td>\n",
       "      <td>12.122697</td>\n",
       "      <td>12.467425</td>\n",
       "      <td>7.965951</td>\n",
       "    </tr>\n",
       "  </tbody>\n",
       "</table>\n",
       "</div>"
      ],
      "text/plain": [
       "    0'th mfcc   1'th mfcc   2'th mfcc  3'th mfcc  4'th mfcc  5'th mfcc  \\\n",
       "0 -633.109253  132.700790  107.842934  74.306953  39.785713  11.594851   \n",
       "1 -701.071594  155.947449  125.058556  83.826912  42.478271  10.240438   \n",
       "2 -741.243896  144.392624  117.971466  81.752098  44.652954  14.680330   \n",
       "3 -732.736938  151.063507  122.540520  84.347046  45.718349  15.088373   \n",
       "4 -735.887756  159.142487  127.244217  85.238556  43.997086  12.814139   \n",
       "\n",
       "   6'th mfcc  7'th mfcc  8'th mfcc  9'th mfcc  10'th mfcc  11'th mfcc  \\\n",
       "0  -5.850253 -11.787212  -8.720296  -1.054230    6.603188   10.925388   \n",
       "1  -7.892224 -12.005322  -6.336492   2.968461   10.324830   12.509784   \n",
       "2  -3.411008  -9.114907  -5.614161   1.940580    8.533819   10.958953   \n",
       "3  -2.875393  -8.049913  -4.078320   3.585862    9.855361   11.641628   \n",
       "4  -3.882348  -7.016807  -1.437791   6.647314   12.122697   12.467425   \n",
       "\n",
       "   12'th mfcc  \n",
       "0   10.672085  \n",
       "1    9.245497  \n",
       "2    8.535465  \n",
       "3    8.457591  \n",
       "4    7.965951  "
      ]
     },
     "execution_count": 19,
     "metadata": {},
     "output_type": "execute_result"
    }
   ],
   "source": [
    "df = pd.concat([av, mv, pv, tv], axis =0)\n",
    "df.head()"
   ]
  },
  {
   "cell_type": "code",
   "execution_count": 20,
   "id": "a215f7f2",
   "metadata": {},
   "outputs": [],
   "source": [
    "cols = list(set(mv_pv) & set(mv_tv)  & set(av_mv) & set(av_pv) & set(av_tv)  & set(pv_tv))"
   ]
  },
  {
   "cell_type": "code",
   "execution_count": 21,
   "id": "b77fff34",
   "metadata": {},
   "outputs": [
    {
     "data": {
      "text/html": [
       "<div>\n",
       "<style scoped>\n",
       "    .dataframe tbody tr th:only-of-type {\n",
       "        vertical-align: middle;\n",
       "    }\n",
       "\n",
       "    .dataframe tbody tr th {\n",
       "        vertical-align: top;\n",
       "    }\n",
       "\n",
       "    .dataframe thead th {\n",
       "        text-align: right;\n",
       "    }\n",
       "</style>\n",
       "<table border=\"1\" class=\"dataframe\">\n",
       "  <thead>\n",
       "    <tr style=\"text-align: right;\">\n",
       "      <th></th>\n",
       "      <th>3'th mfcc</th>\n",
       "      <th>4'th mfcc</th>\n",
       "      <th>5'th mfcc</th>\n",
       "      <th>6'th mfcc</th>\n",
       "      <th>7'th mfcc</th>\n",
       "      <th>8'th mfcc</th>\n",
       "    </tr>\n",
       "  </thead>\n",
       "  <tbody>\n",
       "    <tr>\n",
       "      <th>0</th>\n",
       "      <td>74.306953</td>\n",
       "      <td>39.785713</td>\n",
       "      <td>11.594851</td>\n",
       "      <td>-5.850253</td>\n",
       "      <td>-11.787212</td>\n",
       "      <td>-8.720296</td>\n",
       "    </tr>\n",
       "    <tr>\n",
       "      <th>1</th>\n",
       "      <td>83.826912</td>\n",
       "      <td>42.478271</td>\n",
       "      <td>10.240438</td>\n",
       "      <td>-7.892224</td>\n",
       "      <td>-12.005322</td>\n",
       "      <td>-6.336492</td>\n",
       "    </tr>\n",
       "    <tr>\n",
       "      <th>2</th>\n",
       "      <td>81.752098</td>\n",
       "      <td>44.652954</td>\n",
       "      <td>14.680330</td>\n",
       "      <td>-3.411008</td>\n",
       "      <td>-9.114907</td>\n",
       "      <td>-5.614161</td>\n",
       "    </tr>\n",
       "    <tr>\n",
       "      <th>3</th>\n",
       "      <td>84.347046</td>\n",
       "      <td>45.718349</td>\n",
       "      <td>15.088373</td>\n",
       "      <td>-2.875393</td>\n",
       "      <td>-8.049913</td>\n",
       "      <td>-4.078320</td>\n",
       "    </tr>\n",
       "    <tr>\n",
       "      <th>4</th>\n",
       "      <td>85.238556</td>\n",
       "      <td>43.997086</td>\n",
       "      <td>12.814139</td>\n",
       "      <td>-3.882348</td>\n",
       "      <td>-7.016807</td>\n",
       "      <td>-1.437791</td>\n",
       "    </tr>\n",
       "    <tr>\n",
       "      <th>...</th>\n",
       "      <td>...</td>\n",
       "      <td>...</td>\n",
       "      <td>...</td>\n",
       "      <td>...</td>\n",
       "      <td>...</td>\n",
       "      <td>...</td>\n",
       "    </tr>\n",
       "    <tr>\n",
       "      <th>1200</th>\n",
       "      <td>66.045433</td>\n",
       "      <td>44.804813</td>\n",
       "      <td>26.420040</td>\n",
       "      <td>13.684677</td>\n",
       "      <td>7.527235</td>\n",
       "      <td>7.023386</td>\n",
       "    </tr>\n",
       "    <tr>\n",
       "      <th>1201</th>\n",
       "      <td>71.702789</td>\n",
       "      <td>44.700024</td>\n",
       "      <td>22.428585</td>\n",
       "      <td>8.171965</td>\n",
       "      <td>2.512529</td>\n",
       "      <td>3.696732</td>\n",
       "    </tr>\n",
       "    <tr>\n",
       "      <th>1202</th>\n",
       "      <td>65.035126</td>\n",
       "      <td>45.093800</td>\n",
       "      <td>27.471945</td>\n",
       "      <td>14.859971</td>\n",
       "      <td>8.360435</td>\n",
       "      <td>7.375756</td>\n",
       "    </tr>\n",
       "    <tr>\n",
       "      <th>1203</th>\n",
       "      <td>67.402847</td>\n",
       "      <td>41.922855</td>\n",
       "      <td>20.311941</td>\n",
       "      <td>6.028016</td>\n",
       "      <td>0.111621</td>\n",
       "      <td>1.211944</td>\n",
       "    </tr>\n",
       "    <tr>\n",
       "      <th>1204</th>\n",
       "      <td>66.390869</td>\n",
       "      <td>44.444187</td>\n",
       "      <td>25.317530</td>\n",
       "      <td>11.911399</td>\n",
       "      <td>5.265403</td>\n",
       "      <td>4.552200</td>\n",
       "    </tr>\n",
       "  </tbody>\n",
       "</table>\n",
       "<p>4728 rows × 6 columns</p>\n",
       "</div>"
      ],
      "text/plain": [
       "      3'th mfcc  4'th mfcc  5'th mfcc  6'th mfcc  7'th mfcc  8'th mfcc\n",
       "0     74.306953  39.785713  11.594851  -5.850253 -11.787212  -8.720296\n",
       "1     83.826912  42.478271  10.240438  -7.892224 -12.005322  -6.336492\n",
       "2     81.752098  44.652954  14.680330  -3.411008  -9.114907  -5.614161\n",
       "3     84.347046  45.718349  15.088373  -2.875393  -8.049913  -4.078320\n",
       "4     85.238556  43.997086  12.814139  -3.882348  -7.016807  -1.437791\n",
       "...         ...        ...        ...        ...        ...        ...\n",
       "1200  66.045433  44.804813  26.420040  13.684677   7.527235   7.023386\n",
       "1201  71.702789  44.700024  22.428585   8.171965   2.512529   3.696732\n",
       "1202  65.035126  45.093800  27.471945  14.859971   8.360435   7.375756\n",
       "1203  67.402847  41.922855  20.311941   6.028016   0.111621   1.211944\n",
       "1204  66.390869  44.444187  25.317530  11.911399   5.265403   4.552200\n",
       "\n",
       "[4728 rows x 6 columns]"
      ]
     },
     "execution_count": 21,
     "metadata": {},
     "output_type": "execute_result"
    }
   ],
   "source": [
    "df.iloc[:,cols]"
   ]
  },
  {
   "cell_type": "code",
   "execution_count": 22,
   "id": "3f69d78a",
   "metadata": {},
   "outputs": [],
   "source": [
    "df.to_csv(\"/Users/ecem/Desktop/phonocardiogram/data/mfcc.csv\")"
   ]
  },
  {
   "cell_type": "code",
   "execution_count": null,
   "id": "d06b4990",
   "metadata": {},
   "outputs": [],
   "source": []
  },
  {
   "cell_type": "code",
   "execution_count": null,
   "id": "49770ce6",
   "metadata": {},
   "outputs": [],
   "source": []
  }
 ],
 "metadata": {
  "kernelspec": {
   "display_name": "Python 3 (ipykernel)",
   "language": "python",
   "name": "python3"
  },
  "language_info": {
   "codemirror_mode": {
    "name": "ipython",
    "version": 3
   },
   "file_extension": ".py",
   "mimetype": "text/x-python",
   "name": "python",
   "nbconvert_exporter": "python",
   "pygments_lexer": "ipython3",
   "version": "3.9.9"
  }
 },
 "nbformat": 4,
 "nbformat_minor": 5
}
