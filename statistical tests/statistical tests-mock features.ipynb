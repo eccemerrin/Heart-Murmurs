{
 "cells": [
  {
   "cell_type": "code",
   "execution_count": 1,
   "id": "e232ae2f",
   "metadata": {},
   "outputs": [],
   "source": [
    "import pandas as pd \n",
    "from scipy.stats import mannwhitneyu\n",
    "from scipy import stats\n",
    "import numpy as np"
   ]
  },
  {
   "cell_type": "code",
   "execution_count": 2,
   "id": "52193d25",
   "metadata": {},
   "outputs": [],
   "source": [
    "AV_path =  \"/Users/ecem/Desktop/phonocardiogram/data/AV/present\"\n",
    "MV_path =  \"/Users/ecem/Desktop/phonocardiogram/data/MV/present\"\n",
    "PV_path =  \"/Users/ecem/Desktop/phonocardiogram/data/PV/present\"\n",
    "TV_path =  \"/Users/ecem/Desktop/phonocardiogram/data/TV/present\""
   ]
  },
  {
   "cell_type": "markdown",
   "id": "95a719e9",
   "metadata": {},
   "source": [
    "# Time domain features"
   ]
  },
  {
   "cell_type": "code",
   "execution_count": 3,
   "id": "7a9d66af",
   "metadata": {},
   "outputs": [],
   "source": [
    "av = pd.read_csv(AV_path + \"/AV-mock-features.csv\", index_col = 0)\n",
    "mv = pd.read_csv(MV_path + \"/MV-mock-features.csv\", index_col = 0)\n",
    "pv = pd.read_csv(PV_path + \"/PV-mock-features.csv\", index_col = 0)\n",
    "tv = pd.read_csv(TV_path + \"/TV-mock-features.csv\", index_col = 0)"
   ]
  },
  {
   "cell_type": "code",
   "execution_count": 4,
   "id": "dfd2f717",
   "metadata": {},
   "outputs": [
    {
     "data": {
      "text/html": [
       "<div>\n",
       "<style scoped>\n",
       "    .dataframe tbody tr th:only-of-type {\n",
       "        vertical-align: middle;\n",
       "    }\n",
       "\n",
       "    .dataframe tbody tr th {\n",
       "        vertical-align: top;\n",
       "    }\n",
       "\n",
       "    .dataframe thead th {\n",
       "        text-align: right;\n",
       "    }\n",
       "</style>\n",
       "<table border=\"1\" class=\"dataframe\">\n",
       "  <thead>\n",
       "    <tr style=\"text-align: right;\">\n",
       "      <th></th>\n",
       "      <th>bandpower</th>\n",
       "      <th>petrosian f.a.</th>\n",
       "      <th>katz f.a.</th>\n",
       "      <th>higuchi f.a.</th>\n",
       "      <th>deterended fluctuations f.a.</th>\n",
       "    </tr>\n",
       "  </thead>\n",
       "  <tbody>\n",
       "    <tr>\n",
       "      <th>0</th>\n",
       "      <td>0.001371</td>\n",
       "      <td>1.002736</td>\n",
       "      <td>1.920990</td>\n",
       "      <td>1.091685</td>\n",
       "      <td>0.921825</td>\n",
       "    </tr>\n",
       "    <tr>\n",
       "      <th>1</th>\n",
       "      <td>0.000066</td>\n",
       "      <td>1.002308</td>\n",
       "      <td>2.377508</td>\n",
       "      <td>1.052431</td>\n",
       "      <td>0.904970</td>\n",
       "    </tr>\n",
       "    <tr>\n",
       "      <th>2</th>\n",
       "      <td>0.000024</td>\n",
       "      <td>1.002273</td>\n",
       "      <td>2.223252</td>\n",
       "      <td>1.046259</td>\n",
       "      <td>0.982775</td>\n",
       "    </tr>\n",
       "    <tr>\n",
       "      <th>3</th>\n",
       "      <td>0.000038</td>\n",
       "      <td>1.002218</td>\n",
       "      <td>2.291023</td>\n",
       "      <td>1.048935</td>\n",
       "      <td>0.942318</td>\n",
       "    </tr>\n",
       "    <tr>\n",
       "      <th>4</th>\n",
       "      <td>0.000043</td>\n",
       "      <td>1.002254</td>\n",
       "      <td>2.274571</td>\n",
       "      <td>1.046809</td>\n",
       "      <td>0.918872</td>\n",
       "    </tr>\n",
       "    <tr>\n",
       "      <th>...</th>\n",
       "      <td>...</td>\n",
       "      <td>...</td>\n",
       "      <td>...</td>\n",
       "      <td>...</td>\n",
       "      <td>...</td>\n",
       "    </tr>\n",
       "    <tr>\n",
       "      <th>1240</th>\n",
       "      <td>0.000084</td>\n",
       "      <td>1.002914</td>\n",
       "      <td>1.958447</td>\n",
       "      <td>1.109790</td>\n",
       "      <td>1.264767</td>\n",
       "    </tr>\n",
       "    <tr>\n",
       "      <th>1241</th>\n",
       "      <td>0.000134</td>\n",
       "      <td>1.002629</td>\n",
       "      <td>1.833902</td>\n",
       "      <td>1.087668</td>\n",
       "      <td>1.251488</td>\n",
       "    </tr>\n",
       "    <tr>\n",
       "      <th>1242</th>\n",
       "      <td>0.000113</td>\n",
       "      <td>1.002242</td>\n",
       "      <td>1.998854</td>\n",
       "      <td>1.075552</td>\n",
       "      <td>1.257509</td>\n",
       "    </tr>\n",
       "    <tr>\n",
       "      <th>1243</th>\n",
       "      <td>0.000171</td>\n",
       "      <td>1.002314</td>\n",
       "      <td>1.838299</td>\n",
       "      <td>1.090169</td>\n",
       "      <td>1.253572</td>\n",
       "    </tr>\n",
       "    <tr>\n",
       "      <th>1244</th>\n",
       "      <td>0.000330</td>\n",
       "      <td>1.002101</td>\n",
       "      <td>1.801463</td>\n",
       "      <td>1.058152</td>\n",
       "      <td>1.244650</td>\n",
       "    </tr>\n",
       "  </tbody>\n",
       "</table>\n",
       "<p>1245 rows × 5 columns</p>\n",
       "</div>"
      ],
      "text/plain": [
       "      bandpower  petrosian f.a.  katz f.a.  higuchi f.a.  \\\n",
       "0      0.001371        1.002736   1.920990      1.091685   \n",
       "1      0.000066        1.002308   2.377508      1.052431   \n",
       "2      0.000024        1.002273   2.223252      1.046259   \n",
       "3      0.000038        1.002218   2.291023      1.048935   \n",
       "4      0.000043        1.002254   2.274571      1.046809   \n",
       "...         ...             ...        ...           ...   \n",
       "1240   0.000084        1.002914   1.958447      1.109790   \n",
       "1241   0.000134        1.002629   1.833902      1.087668   \n",
       "1242   0.000113        1.002242   1.998854      1.075552   \n",
       "1243   0.000171        1.002314   1.838299      1.090169   \n",
       "1244   0.000330        1.002101   1.801463      1.058152   \n",
       "\n",
       "      deterended fluctuations f.a.  \n",
       "0                         0.921825  \n",
       "1                         0.904970  \n",
       "2                         0.982775  \n",
       "3                         0.942318  \n",
       "4                         0.918872  \n",
       "...                            ...  \n",
       "1240                      1.264767  \n",
       "1241                      1.251488  \n",
       "1242                      1.257509  \n",
       "1243                      1.253572  \n",
       "1244                      1.244650  \n",
       "\n",
       "[1245 rows x 5 columns]"
      ]
     },
     "execution_count": 4,
     "metadata": {},
     "output_type": "execute_result"
    }
   ],
   "source": [
    "av"
   ]
  },
  {
   "cell_type": "markdown",
   "id": "05fb94bb",
   "metadata": {},
   "source": [
    "### AV-MV"
   ]
  },
  {
   "cell_type": "code",
   "execution_count": 5,
   "id": "5ac23bb4",
   "metadata": {},
   "outputs": [],
   "source": [
    "test = mannwhitneyu(av, mv,\n",
    "                    use_continuity=False, alternative = 'two-sided')\n",
    "stats = pd.DataFrame(test[0])\n",
    "p = pd.DataFrame(test[1])\n"
   ]
  },
  {
   "cell_type": "code",
   "execution_count": 6,
   "id": "038c4bfb",
   "metadata": {},
   "outputs": [
    {
     "data": {
      "text/html": [
       "<style type=\"text/css\">\n",
       "#T_e10cc_row0_col0, #T_e10cc_row0_col1, #T_e10cc_row0_col3 {\n",
       "  background: pink;\n",
       "}\n",
       "</style>\n",
       "<table id=\"T_e10cc\">\n",
       "  <thead>\n",
       "    <tr>\n",
       "      <th class=\"blank level0\" >&nbsp;</th>\n",
       "      <th id=\"T_e10cc_level0_col0\" class=\"col_heading level0 col0\" >0</th>\n",
       "      <th id=\"T_e10cc_level0_col1\" class=\"col_heading level0 col1\" >1</th>\n",
       "      <th id=\"T_e10cc_level0_col2\" class=\"col_heading level0 col2\" >2</th>\n",
       "      <th id=\"T_e10cc_level0_col3\" class=\"col_heading level0 col3\" >3</th>\n",
       "      <th id=\"T_e10cc_level0_col4\" class=\"col_heading level0 col4\" >4</th>\n",
       "    </tr>\n",
       "  </thead>\n",
       "  <tbody>\n",
       "    <tr>\n",
       "      <th id=\"T_e10cc_level0_row0\" class=\"row_heading level0 row0\" >0</th>\n",
       "      <td id=\"T_e10cc_row0_col0\" class=\"data row0 col0\" >0.045227</td>\n",
       "      <td id=\"T_e10cc_row0_col1\" class=\"data row0 col1\" >0.000000</td>\n",
       "      <td id=\"T_e10cc_row0_col2\" class=\"data row0 col2\" >0.251040</td>\n",
       "      <td id=\"T_e10cc_row0_col3\" class=\"data row0 col3\" >0.000000</td>\n",
       "      <td id=\"T_e10cc_row0_col4\" class=\"data row0 col4\" >0.624027</td>\n",
       "    </tr>\n",
       "  </tbody>\n",
       "</table>\n"
      ],
      "text/plain": [
       "<pandas.io.formats.style.Styler at 0x128ba8e20>"
      ]
     },
     "execution_count": 6,
     "metadata": {},
     "output_type": "execute_result"
    }
   ],
   "source": [
    "p.T.style.apply(lambda x: [\"background: pink\" if v < 0.05 else \"\" for v in x], axis = 1)"
   ]
  },
  {
   "cell_type": "code",
   "execution_count": 7,
   "id": "a3f26f1d",
   "metadata": {},
   "outputs": [
    {
     "data": {
      "text/plain": [
       "Int64Index([0, 1, 3], dtype='int64')"
      ]
     },
     "execution_count": 7,
     "metadata": {},
     "output_type": "execute_result"
    }
   ],
   "source": [
    "av_mv = p[(p < 0.05).any(axis=1)].index\n",
    "av_mv"
   ]
  },
  {
   "cell_type": "markdown",
   "id": "33b4bd95",
   "metadata": {},
   "source": [
    "### AV-PV"
   ]
  },
  {
   "cell_type": "code",
   "execution_count": 8,
   "id": "65fa9939",
   "metadata": {},
   "outputs": [
    {
     "name": "stdout",
     "output_type": "stream",
     "text": [
      "Int64Index([2, 3, 4], dtype='int64')\n"
     ]
    }
   ],
   "source": [
    "test = mannwhitneyu(av, pv, use_continuity=False, alternative = 'two-sided')\n",
    "stats = pd.DataFrame(test[0])\n",
    "p = pd.DataFrame(test[1])\n",
    "\n",
    "av_pv = p[(p < 0.05).any(axis=1)].index\n",
    "\n",
    "print(av_pv)"
   ]
  },
  {
   "cell_type": "code",
   "execution_count": 9,
   "id": "f7e3c5a5",
   "metadata": {},
   "outputs": [
    {
     "data": {
      "text/html": [
       "<style type=\"text/css\">\n",
       "#T_ebeb2_row0_col2, #T_ebeb2_row0_col3, #T_ebeb2_row0_col4 {\n",
       "  background: pink;\n",
       "}\n",
       "</style>\n",
       "<table id=\"T_ebeb2\">\n",
       "  <thead>\n",
       "    <tr>\n",
       "      <th class=\"blank level0\" >&nbsp;</th>\n",
       "      <th id=\"T_ebeb2_level0_col0\" class=\"col_heading level0 col0\" >0</th>\n",
       "      <th id=\"T_ebeb2_level0_col1\" class=\"col_heading level0 col1\" >1</th>\n",
       "      <th id=\"T_ebeb2_level0_col2\" class=\"col_heading level0 col2\" >2</th>\n",
       "      <th id=\"T_ebeb2_level0_col3\" class=\"col_heading level0 col3\" >3</th>\n",
       "      <th id=\"T_ebeb2_level0_col4\" class=\"col_heading level0 col4\" >4</th>\n",
       "    </tr>\n",
       "  </thead>\n",
       "  <tbody>\n",
       "    <tr>\n",
       "      <th id=\"T_ebeb2_level0_row0\" class=\"row_heading level0 row0\" >0</th>\n",
       "      <td id=\"T_ebeb2_row0_col0\" class=\"data row0 col0\" >0.224854</td>\n",
       "      <td id=\"T_ebeb2_row0_col1\" class=\"data row0 col1\" >0.061482</td>\n",
       "      <td id=\"T_ebeb2_row0_col2\" class=\"data row0 col2\" >0.000000</td>\n",
       "      <td id=\"T_ebeb2_row0_col3\" class=\"data row0 col3\" >0.000542</td>\n",
       "      <td id=\"T_ebeb2_row0_col4\" class=\"data row0 col4\" >0.000000</td>\n",
       "    </tr>\n",
       "  </tbody>\n",
       "</table>\n"
      ],
      "text/plain": [
       "<pandas.io.formats.style.Styler at 0x176c2a8e0>"
      ]
     },
     "execution_count": 9,
     "metadata": {},
     "output_type": "execute_result"
    }
   ],
   "source": [
    "p.T.style.apply(lambda x: [\"background: pink\" if v < 0.05 else \"\" for v in x], axis = 1)"
   ]
  },
  {
   "cell_type": "markdown",
   "id": "ed4b50b4",
   "metadata": {},
   "source": [
    "### AV-TV"
   ]
  },
  {
   "cell_type": "code",
   "execution_count": 10,
   "id": "ddb6a660",
   "metadata": {},
   "outputs": [
    {
     "name": "stdout",
     "output_type": "stream",
     "text": [
      "Int64Index([1, 2, 3, 4], dtype='int64')\n"
     ]
    }
   ],
   "source": [
    "test = mannwhitneyu(av, tv, use_continuity=False, alternative = 'two-sided')\n",
    "stats = pd.DataFrame(test[0])\n",
    "p = pd.DataFrame(test[1])\n",
    "\n",
    "p.T.style.apply(lambda x: [\"background: pink\" if v < 0.05 else \"\" for v in x], axis = 1)\n",
    "\n",
    "av_tv = p[(p < 0.05).any(axis=1)].index\n",
    "\n",
    "print(av_tv)"
   ]
  },
  {
   "cell_type": "code",
   "execution_count": 11,
   "id": "6c6e4583",
   "metadata": {},
   "outputs": [
    {
     "data": {
      "text/html": [
       "<style type=\"text/css\">\n",
       "#T_3f6dc_row0_col1, #T_3f6dc_row0_col2, #T_3f6dc_row0_col3, #T_3f6dc_row0_col4 {\n",
       "  background: pink;\n",
       "}\n",
       "</style>\n",
       "<table id=\"T_3f6dc\">\n",
       "  <thead>\n",
       "    <tr>\n",
       "      <th class=\"blank level0\" >&nbsp;</th>\n",
       "      <th id=\"T_3f6dc_level0_col0\" class=\"col_heading level0 col0\" >0</th>\n",
       "      <th id=\"T_3f6dc_level0_col1\" class=\"col_heading level0 col1\" >1</th>\n",
       "      <th id=\"T_3f6dc_level0_col2\" class=\"col_heading level0 col2\" >2</th>\n",
       "      <th id=\"T_3f6dc_level0_col3\" class=\"col_heading level0 col3\" >3</th>\n",
       "      <th id=\"T_3f6dc_level0_col4\" class=\"col_heading level0 col4\" >4</th>\n",
       "    </tr>\n",
       "  </thead>\n",
       "  <tbody>\n",
       "    <tr>\n",
       "      <th id=\"T_3f6dc_level0_row0\" class=\"row_heading level0 row0\" >0</th>\n",
       "      <td id=\"T_3f6dc_row0_col0\" class=\"data row0 col0\" >0.761824</td>\n",
       "      <td id=\"T_3f6dc_row0_col1\" class=\"data row0 col1\" >0.000000</td>\n",
       "      <td id=\"T_3f6dc_row0_col2\" class=\"data row0 col2\" >0.000000</td>\n",
       "      <td id=\"T_3f6dc_row0_col3\" class=\"data row0 col3\" >0.000000</td>\n",
       "      <td id=\"T_3f6dc_row0_col4\" class=\"data row0 col4\" >0.000000</td>\n",
       "    </tr>\n",
       "  </tbody>\n",
       "</table>\n"
      ],
      "text/plain": [
       "<pandas.io.formats.style.Styler at 0x176c9fcd0>"
      ]
     },
     "execution_count": 11,
     "metadata": {},
     "output_type": "execute_result"
    }
   ],
   "source": [
    "p.T.style.apply(lambda x: [\"background: pink\" if v < 0.05 else \"\" for v in x], axis = 1)"
   ]
  },
  {
   "cell_type": "markdown",
   "id": "ddf93e49",
   "metadata": {},
   "source": [
    "### MV-PV"
   ]
  },
  {
   "cell_type": "code",
   "execution_count": 12,
   "id": "3660f1dc",
   "metadata": {},
   "outputs": [
    {
     "name": "stdout",
     "output_type": "stream",
     "text": [
      "Int64Index([1, 2, 3, 4], dtype='int64')\n"
     ]
    }
   ],
   "source": [
    "test = mannwhitneyu(mv, pv, use_continuity=False, alternative = 'two-sided')\n",
    "stats = pd.DataFrame(test[0])\n",
    "p = pd.DataFrame(test[1])\n",
    "\n",
    "\n",
    "mv_pv = p[(p < 0.05).any(axis=1)].index\n",
    "\n",
    "print(mv_pv)"
   ]
  },
  {
   "cell_type": "code",
   "execution_count": 13,
   "id": "6c7fc0f8",
   "metadata": {},
   "outputs": [
    {
     "data": {
      "text/html": [
       "<style type=\"text/css\">\n",
       "#T_0d7f4_row0_col1, #T_0d7f4_row0_col2, #T_0d7f4_row0_col3, #T_0d7f4_row0_col4 {\n",
       "  background: pink;\n",
       "}\n",
       "</style>\n",
       "<table id=\"T_0d7f4\">\n",
       "  <thead>\n",
       "    <tr>\n",
       "      <th class=\"blank level0\" >&nbsp;</th>\n",
       "      <th id=\"T_0d7f4_level0_col0\" class=\"col_heading level0 col0\" >0</th>\n",
       "      <th id=\"T_0d7f4_level0_col1\" class=\"col_heading level0 col1\" >1</th>\n",
       "      <th id=\"T_0d7f4_level0_col2\" class=\"col_heading level0 col2\" >2</th>\n",
       "      <th id=\"T_0d7f4_level0_col3\" class=\"col_heading level0 col3\" >3</th>\n",
       "      <th id=\"T_0d7f4_level0_col4\" class=\"col_heading level0 col4\" >4</th>\n",
       "    </tr>\n",
       "  </thead>\n",
       "  <tbody>\n",
       "    <tr>\n",
       "      <th id=\"T_0d7f4_level0_row0\" class=\"row_heading level0 row0\" >0</th>\n",
       "      <td id=\"T_0d7f4_row0_col0\" class=\"data row0 col0\" >0.344443</td>\n",
       "      <td id=\"T_0d7f4_row0_col1\" class=\"data row0 col1\" >0.000000</td>\n",
       "      <td id=\"T_0d7f4_row0_col2\" class=\"data row0 col2\" >0.000078</td>\n",
       "      <td id=\"T_0d7f4_row0_col3\" class=\"data row0 col3\" >0.000000</td>\n",
       "      <td id=\"T_0d7f4_row0_col4\" class=\"data row0 col4\" >0.000000</td>\n",
       "    </tr>\n",
       "  </tbody>\n",
       "</table>\n"
      ],
      "text/plain": [
       "<pandas.io.formats.style.Styler at 0x176c2ab20>"
      ]
     },
     "execution_count": 13,
     "metadata": {},
     "output_type": "execute_result"
    }
   ],
   "source": [
    "p.T.style.apply(lambda x: [\"background: pink\" if v < 0.05 else \"\" for v in x], axis = 1)"
   ]
  },
  {
   "cell_type": "markdown",
   "id": "e16b32b9",
   "metadata": {},
   "source": [
    "### MV_TV"
   ]
  },
  {
   "cell_type": "code",
   "execution_count": 14,
   "id": "d0562c0d",
   "metadata": {},
   "outputs": [
    {
     "name": "stdout",
     "output_type": "stream",
     "text": [
      "Int64Index([2, 4], dtype='int64')\n"
     ]
    }
   ],
   "source": [
    "test = mannwhitneyu(mv, tv, use_continuity=False, alternative = 'two-sided')\n",
    "stats = pd.DataFrame(test[0])\n",
    "p = pd.DataFrame(test[1])\n",
    "\n",
    "mv_tv = p[(p < 0.05).any(axis=1)].index\n",
    "\n",
    "print(mv_tv)"
   ]
  },
  {
   "cell_type": "code",
   "execution_count": 15,
   "id": "6a2fe28d",
   "metadata": {},
   "outputs": [
    {
     "data": {
      "text/html": [
       "<style type=\"text/css\">\n",
       "#T_c05fa_row0_col2, #T_c05fa_row0_col4 {\n",
       "  background: pink;\n",
       "}\n",
       "</style>\n",
       "<table id=\"T_c05fa\">\n",
       "  <thead>\n",
       "    <tr>\n",
       "      <th class=\"blank level0\" >&nbsp;</th>\n",
       "      <th id=\"T_c05fa_level0_col0\" class=\"col_heading level0 col0\" >0</th>\n",
       "      <th id=\"T_c05fa_level0_col1\" class=\"col_heading level0 col1\" >1</th>\n",
       "      <th id=\"T_c05fa_level0_col2\" class=\"col_heading level0 col2\" >2</th>\n",
       "      <th id=\"T_c05fa_level0_col3\" class=\"col_heading level0 col3\" >3</th>\n",
       "      <th id=\"T_c05fa_level0_col4\" class=\"col_heading level0 col4\" >4</th>\n",
       "    </tr>\n",
       "  </thead>\n",
       "  <tbody>\n",
       "    <tr>\n",
       "      <th id=\"T_c05fa_level0_row0\" class=\"row_heading level0 row0\" >0</th>\n",
       "      <td id=\"T_c05fa_row0_col0\" class=\"data row0 col0\" >0.076066</td>\n",
       "      <td id=\"T_c05fa_row0_col1\" class=\"data row0 col1\" >0.237673</td>\n",
       "      <td id=\"T_c05fa_row0_col2\" class=\"data row0 col2\" >0.000000</td>\n",
       "      <td id=\"T_c05fa_row0_col3\" class=\"data row0 col3\" >0.114408</td>\n",
       "      <td id=\"T_c05fa_row0_col4\" class=\"data row0 col4\" >0.000000</td>\n",
       "    </tr>\n",
       "  </tbody>\n",
       "</table>\n"
      ],
      "text/plain": [
       "<pandas.io.formats.style.Styler at 0x176c9f940>"
      ]
     },
     "execution_count": 15,
     "metadata": {},
     "output_type": "execute_result"
    }
   ],
   "source": [
    "p.T.style.apply(lambda x: [\"background: pink\" if v < 0.05 else \"\" for v in x], axis = 1)"
   ]
  },
  {
   "cell_type": "markdown",
   "id": "b4ef6458",
   "metadata": {},
   "source": [
    "### PV-TV"
   ]
  },
  {
   "cell_type": "code",
   "execution_count": 16,
   "id": "3cc0e717",
   "metadata": {},
   "outputs": [
    {
     "name": "stdout",
     "output_type": "stream",
     "text": [
      "Int64Index([1, 3, 4], dtype='int64')\n"
     ]
    }
   ],
   "source": [
    "test = mannwhitneyu(pv, tv, use_continuity=False, alternative = 'two-sided')\n",
    "stats = pd.DataFrame(test[0])\n",
    "p = pd.DataFrame(test[1])\n",
    "\n",
    "pv_tv = p[(p < 0.05).any(axis=1)].index\n",
    "\n",
    "print(pv_tv)"
   ]
  },
  {
   "cell_type": "code",
   "execution_count": 17,
   "id": "b826ace6",
   "metadata": {},
   "outputs": [
    {
     "data": {
      "text/html": [
       "<style type=\"text/css\">\n",
       "#T_7fc7a_row0_col1, #T_7fc7a_row0_col3, #T_7fc7a_row0_col4 {\n",
       "  background: pink;\n",
       "}\n",
       "</style>\n",
       "<table id=\"T_7fc7a\">\n",
       "  <thead>\n",
       "    <tr>\n",
       "      <th class=\"blank level0\" >&nbsp;</th>\n",
       "      <th id=\"T_7fc7a_level0_col0\" class=\"col_heading level0 col0\" >0</th>\n",
       "      <th id=\"T_7fc7a_level0_col1\" class=\"col_heading level0 col1\" >1</th>\n",
       "      <th id=\"T_7fc7a_level0_col2\" class=\"col_heading level0 col2\" >2</th>\n",
       "      <th id=\"T_7fc7a_level0_col3\" class=\"col_heading level0 col3\" >3</th>\n",
       "      <th id=\"T_7fc7a_level0_col4\" class=\"col_heading level0 col4\" >4</th>\n",
       "    </tr>\n",
       "  </thead>\n",
       "  <tbody>\n",
       "    <tr>\n",
       "      <th id=\"T_7fc7a_level0_row0\" class=\"row_heading level0 row0\" >0</th>\n",
       "      <td id=\"T_7fc7a_row0_col0\" class=\"data row0 col0\" >0.303923</td>\n",
       "      <td id=\"T_7fc7a_row0_col1\" class=\"data row0 col1\" >0.000000</td>\n",
       "      <td id=\"T_7fc7a_row0_col2\" class=\"data row0 col2\" >0.052608</td>\n",
       "      <td id=\"T_7fc7a_row0_col3\" class=\"data row0 col3\" >0.000000</td>\n",
       "      <td id=\"T_7fc7a_row0_col4\" class=\"data row0 col4\" >0.017737</td>\n",
       "    </tr>\n",
       "  </tbody>\n",
       "</table>\n"
      ],
      "text/plain": [
       "<pandas.io.formats.style.Styler at 0x176ca75e0>"
      ]
     },
     "execution_count": 17,
     "metadata": {},
     "output_type": "execute_result"
    }
   ],
   "source": [
    "p.T.style.apply(lambda x: [\"background: pink\" if v < 0.05 else \"\" for v in x], axis = 1)"
   ]
  },
  {
   "cell_type": "markdown",
   "id": "c6d4b73d",
   "metadata": {},
   "source": [
    "## as a result we will only exclude the spectral spread. So lets finalize the final dataframe."
   ]
  },
  {
   "cell_type": "code",
   "execution_count": 18,
   "id": "1c075a7d",
   "metadata": {},
   "outputs": [
    {
     "data": {
      "text/html": [
       "<div>\n",
       "<style scoped>\n",
       "    .dataframe tbody tr th:only-of-type {\n",
       "        vertical-align: middle;\n",
       "    }\n",
       "\n",
       "    .dataframe tbody tr th {\n",
       "        vertical-align: top;\n",
       "    }\n",
       "\n",
       "    .dataframe thead th {\n",
       "        text-align: right;\n",
       "    }\n",
       "</style>\n",
       "<table border=\"1\" class=\"dataframe\">\n",
       "  <thead>\n",
       "    <tr style=\"text-align: right;\">\n",
       "      <th></th>\n",
       "      <th>bandpower</th>\n",
       "      <th>petrosian f.a.</th>\n",
       "      <th>katz f.a.</th>\n",
       "      <th>higuchi f.a.</th>\n",
       "      <th>deterended fluctuations f.a.</th>\n",
       "    </tr>\n",
       "  </thead>\n",
       "  <tbody>\n",
       "    <tr>\n",
       "      <th>0</th>\n",
       "      <td>0.001371</td>\n",
       "      <td>1.002736</td>\n",
       "      <td>1.920990</td>\n",
       "      <td>1.091685</td>\n",
       "      <td>0.921825</td>\n",
       "    </tr>\n",
       "    <tr>\n",
       "      <th>1</th>\n",
       "      <td>0.000066</td>\n",
       "      <td>1.002308</td>\n",
       "      <td>2.377508</td>\n",
       "      <td>1.052431</td>\n",
       "      <td>0.904970</td>\n",
       "    </tr>\n",
       "    <tr>\n",
       "      <th>2</th>\n",
       "      <td>0.000024</td>\n",
       "      <td>1.002273</td>\n",
       "      <td>2.223252</td>\n",
       "      <td>1.046259</td>\n",
       "      <td>0.982775</td>\n",
       "    </tr>\n",
       "    <tr>\n",
       "      <th>3</th>\n",
       "      <td>0.000038</td>\n",
       "      <td>1.002218</td>\n",
       "      <td>2.291023</td>\n",
       "      <td>1.048935</td>\n",
       "      <td>0.942318</td>\n",
       "    </tr>\n",
       "    <tr>\n",
       "      <th>4</th>\n",
       "      <td>0.000043</td>\n",
       "      <td>1.002254</td>\n",
       "      <td>2.274571</td>\n",
       "      <td>1.046809</td>\n",
       "      <td>0.918872</td>\n",
       "    </tr>\n",
       "  </tbody>\n",
       "</table>\n",
       "</div>"
      ],
      "text/plain": [
       "   bandpower  petrosian f.a.  katz f.a.  higuchi f.a.  \\\n",
       "0   0.001371        1.002736   1.920990      1.091685   \n",
       "1   0.000066        1.002308   2.377508      1.052431   \n",
       "2   0.000024        1.002273   2.223252      1.046259   \n",
       "3   0.000038        1.002218   2.291023      1.048935   \n",
       "4   0.000043        1.002254   2.274571      1.046809   \n",
       "\n",
       "   deterended fluctuations f.a.  \n",
       "0                      0.921825  \n",
       "1                      0.904970  \n",
       "2                      0.982775  \n",
       "3                      0.942318  \n",
       "4                      0.918872  "
      ]
     },
     "execution_count": 18,
     "metadata": {},
     "output_type": "execute_result"
    }
   ],
   "source": [
    "df = pd.concat([av, mv, pv, tv], axis =0)\n",
    "df.head()"
   ]
  },
  {
   "cell_type": "code",
   "execution_count": 19,
   "id": "b93b1836",
   "metadata": {},
   "outputs": [
    {
     "data": {
      "text/html": [
       "<div>\n",
       "<style scoped>\n",
       "    .dataframe tbody tr th:only-of-type {\n",
       "        vertical-align: middle;\n",
       "    }\n",
       "\n",
       "    .dataframe tbody tr th {\n",
       "        vertical-align: top;\n",
       "    }\n",
       "\n",
       "    .dataframe thead th {\n",
       "        text-align: right;\n",
       "    }\n",
       "</style>\n",
       "<table border=\"1\" class=\"dataframe\">\n",
       "  <thead>\n",
       "    <tr style=\"text-align: right;\">\n",
       "      <th></th>\n",
       "      <th>petrosian f.a.</th>\n",
       "      <th>katz f.a.</th>\n",
       "      <th>higuchi f.a.</th>\n",
       "      <th>deterended fluctuations f.a.</th>\n",
       "    </tr>\n",
       "  </thead>\n",
       "  <tbody>\n",
       "    <tr>\n",
       "      <th>0</th>\n",
       "      <td>1.002736</td>\n",
       "      <td>1.920990</td>\n",
       "      <td>1.091685</td>\n",
       "      <td>0.921825</td>\n",
       "    </tr>\n",
       "    <tr>\n",
       "      <th>1</th>\n",
       "      <td>1.002308</td>\n",
       "      <td>2.377508</td>\n",
       "      <td>1.052431</td>\n",
       "      <td>0.904970</td>\n",
       "    </tr>\n",
       "    <tr>\n",
       "      <th>2</th>\n",
       "      <td>1.002273</td>\n",
       "      <td>2.223252</td>\n",
       "      <td>1.046259</td>\n",
       "      <td>0.982775</td>\n",
       "    </tr>\n",
       "    <tr>\n",
       "      <th>3</th>\n",
       "      <td>1.002218</td>\n",
       "      <td>2.291023</td>\n",
       "      <td>1.048935</td>\n",
       "      <td>0.942318</td>\n",
       "    </tr>\n",
       "    <tr>\n",
       "      <th>4</th>\n",
       "      <td>1.002254</td>\n",
       "      <td>2.274571</td>\n",
       "      <td>1.046809</td>\n",
       "      <td>0.918872</td>\n",
       "    </tr>\n",
       "    <tr>\n",
       "      <th>...</th>\n",
       "      <td>...</td>\n",
       "      <td>...</td>\n",
       "      <td>...</td>\n",
       "      <td>...</td>\n",
       "    </tr>\n",
       "    <tr>\n",
       "      <th>1200</th>\n",
       "      <td>1.001457</td>\n",
       "      <td>1.917979</td>\n",
       "      <td>1.016475</td>\n",
       "      <td>1.278429</td>\n",
       "    </tr>\n",
       "    <tr>\n",
       "      <th>1201</th>\n",
       "      <td>1.001736</td>\n",
       "      <td>1.853328</td>\n",
       "      <td>1.022238</td>\n",
       "      <td>1.283995</td>\n",
       "    </tr>\n",
       "    <tr>\n",
       "      <th>1202</th>\n",
       "      <td>1.001800</td>\n",
       "      <td>1.901451</td>\n",
       "      <td>1.022018</td>\n",
       "      <td>1.306491</td>\n",
       "    </tr>\n",
       "    <tr>\n",
       "      <th>1203</th>\n",
       "      <td>1.002260</td>\n",
       "      <td>1.815818</td>\n",
       "      <td>1.054990</td>\n",
       "      <td>1.273177</td>\n",
       "    </tr>\n",
       "    <tr>\n",
       "      <th>1204</th>\n",
       "      <td>1.001757</td>\n",
       "      <td>1.871117</td>\n",
       "      <td>1.036759</td>\n",
       "      <td>1.249353</td>\n",
       "    </tr>\n",
       "  </tbody>\n",
       "</table>\n",
       "<p>4728 rows × 4 columns</p>\n",
       "</div>"
      ],
      "text/plain": [
       "      petrosian f.a.  katz f.a.  higuchi f.a.  deterended fluctuations f.a.\n",
       "0           1.002736   1.920990      1.091685                      0.921825\n",
       "1           1.002308   2.377508      1.052431                      0.904970\n",
       "2           1.002273   2.223252      1.046259                      0.982775\n",
       "3           1.002218   2.291023      1.048935                      0.942318\n",
       "4           1.002254   2.274571      1.046809                      0.918872\n",
       "...              ...        ...           ...                           ...\n",
       "1200        1.001457   1.917979      1.016475                      1.278429\n",
       "1201        1.001736   1.853328      1.022238                      1.283995\n",
       "1202        1.001800   1.901451      1.022018                      1.306491\n",
       "1203        1.002260   1.815818      1.054990                      1.273177\n",
       "1204        1.001757   1.871117      1.036759                      1.249353\n",
       "\n",
       "[4728 rows x 4 columns]"
      ]
     },
     "execution_count": 19,
     "metadata": {},
     "output_type": "execute_result"
    }
   ],
   "source": [
    "df.drop([\"bandpower\"],axis =1, inplace = True)\n",
    "df"
   ]
  },
  {
   "cell_type": "code",
   "execution_count": 20,
   "id": "3f69d78a",
   "metadata": {},
   "outputs": [],
   "source": [
    "df.to_csv(\"/Users/ecem/Desktop/phonocardiogram/data/mock-features.csv\")"
   ]
  },
  {
   "cell_type": "code",
   "execution_count": null,
   "id": "d06b4990",
   "metadata": {},
   "outputs": [],
   "source": []
  },
  {
   "cell_type": "code",
   "execution_count": null,
   "id": "49770ce6",
   "metadata": {},
   "outputs": [],
   "source": []
  }
 ],
 "metadata": {
  "kernelspec": {
   "display_name": "Python 3 (ipykernel)",
   "language": "python",
   "name": "python3"
  },
  "language_info": {
   "codemirror_mode": {
    "name": "ipython",
    "version": 3
   },
   "file_extension": ".py",
   "mimetype": "text/x-python",
   "name": "python",
   "nbconvert_exporter": "python",
   "pygments_lexer": "ipython3",
   "version": "3.9.9"
  }
 },
 "nbformat": 4,
 "nbformat_minor": 5
}
