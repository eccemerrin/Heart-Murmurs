{
 "cells": [
  {
   "cell_type": "code",
   "execution_count": 1,
   "id": "e232ae2f",
   "metadata": {},
   "outputs": [
    {
     "ename": "RuntimeError",
     "evalue": "module compiled against API version 0xe but this version of numpy is 0xd",
     "output_type": "error",
     "traceback": [
      "\u001b[0;31m---------------------------------------------------------------------------\u001b[0m",
      "\u001b[0;31mRuntimeError\u001b[0m                              Traceback (most recent call last)",
      "\u001b[0;31mRuntimeError\u001b[0m: module compiled against API version 0xe but this version of numpy is 0xd"
     ]
    }
   ],
   "source": [
    "import pandas as pd \n",
    "from scipy.stats import mannwhitneyu\n",
    "from scipy import stats\n",
    "import numpy as np"
   ]
  },
  {
   "cell_type": "code",
   "execution_count": 2,
   "id": "52193d25",
   "metadata": {},
   "outputs": [],
   "source": [
    "AV_path =  \"/Users/ecem/Desktop/phonocardiogram/data/AV/present\"\n",
    "MV_path =  \"/Users/ecem/Desktop/phonocardiogram/data/MV/present\"\n",
    "PV_path =  \"/Users/ecem/Desktop/phonocardiogram/data/PV/present\"\n",
    "TV_path =  \"/Users/ecem/Desktop/phonocardiogram/data/TV/present\""
   ]
  },
  {
   "cell_type": "markdown",
   "id": "95a719e9",
   "metadata": {},
   "source": [
    "# Time domain features"
   ]
  },
  {
   "cell_type": "code",
   "execution_count": 3,
   "id": "7a9d66af",
   "metadata": {},
   "outputs": [],
   "source": [
    "av = pd.read_csv(AV_path + \"/AV-statistical-features.csv\", index_col = 0)\n",
    "mv = pd.read_csv(MV_path + \"/MV-statistical-features.csv\", index_col = 0)\n",
    "pv = pd.read_csv(PV_path + \"/PV-statistical-features.csv\", index_col = 0)\n",
    "tv = pd.read_csv(TV_path + \"/TV-statistical-features.csv\", index_col = 0)"
   ]
  },
  {
   "cell_type": "code",
   "execution_count": 4,
   "id": "dfd2f717",
   "metadata": {},
   "outputs": [
    {
     "data": {
      "text/html": [
       "<div>\n",
       "<style scoped>\n",
       "    .dataframe tbody tr th:only-of-type {\n",
       "        vertical-align: middle;\n",
       "    }\n",
       "\n",
       "    .dataframe tbody tr th {\n",
       "        vertical-align: top;\n",
       "    }\n",
       "\n",
       "    .dataframe thead th {\n",
       "        text-align: right;\n",
       "    }\n",
       "</style>\n",
       "<table border=\"1\" class=\"dataframe\">\n",
       "  <thead>\n",
       "    <tr style=\"text-align: right;\">\n",
       "      <th></th>\n",
       "      <th>mean</th>\n",
       "      <th>std</th>\n",
       "      <th>skewness</th>\n",
       "      <th>kurtosis</th>\n",
       "      <th>harmonic mean</th>\n",
       "      <th>ac peak height mean</th>\n",
       "    </tr>\n",
       "  </thead>\n",
       "  <tbody>\n",
       "    <tr>\n",
       "      <th>0</th>\n",
       "      <td>-0.000040</td>\n",
       "      <td>0.060224</td>\n",
       "      <td>-0.638895</td>\n",
       "      <td>51.817342</td>\n",
       "      <td>4.405790e-10</td>\n",
       "      <td>2.167401</td>\n",
       "    </tr>\n",
       "    <tr>\n",
       "      <th>1</th>\n",
       "      <td>-0.000483</td>\n",
       "      <td>0.027385</td>\n",
       "      <td>0.169739</td>\n",
       "      <td>2.901926</td>\n",
       "      <td>1.058298e-08</td>\n",
       "      <td>0.825860</td>\n",
       "    </tr>\n",
       "    <tr>\n",
       "      <th>2</th>\n",
       "      <td>-0.000067</td>\n",
       "      <td>0.019704</td>\n",
       "      <td>0.181507</td>\n",
       "      <td>4.582113</td>\n",
       "      <td>2.210099e-09</td>\n",
       "      <td>0.303073</td>\n",
       "    </tr>\n",
       "    <tr>\n",
       "      <th>3</th>\n",
       "      <td>-0.000062</td>\n",
       "      <td>0.022971</td>\n",
       "      <td>-0.092871</td>\n",
       "      <td>3.136028</td>\n",
       "      <td>4.928371e-09</td>\n",
       "      <td>0.467023</td>\n",
       "    </tr>\n",
       "    <tr>\n",
       "      <th>4</th>\n",
       "      <td>0.000141</td>\n",
       "      <td>0.026843</td>\n",
       "      <td>0.031420</td>\n",
       "      <td>4.079496</td>\n",
       "      <td>1.251589e-11</td>\n",
       "      <td>0.599395</td>\n",
       "    </tr>\n",
       "    <tr>\n",
       "      <th>...</th>\n",
       "      <td>...</td>\n",
       "      <td>...</td>\n",
       "      <td>...</td>\n",
       "      <td>...</td>\n",
       "      <td>...</td>\n",
       "      <td>...</td>\n",
       "    </tr>\n",
       "    <tr>\n",
       "      <th>1240</th>\n",
       "      <td>-0.000112</td>\n",
       "      <td>0.069700</td>\n",
       "      <td>-0.569312</td>\n",
       "      <td>4.866047</td>\n",
       "      <td>2.078173e-08</td>\n",
       "      <td>7.022980</td>\n",
       "    </tr>\n",
       "    <tr>\n",
       "      <th>1241</th>\n",
       "      <td>0.000324</td>\n",
       "      <td>0.089558</td>\n",
       "      <td>-0.047007</td>\n",
       "      <td>7.927406</td>\n",
       "      <td>1.564200e-08</td>\n",
       "      <td>8.178963</td>\n",
       "    </tr>\n",
       "    <tr>\n",
       "      <th>1242</th>\n",
       "      <td>0.000426</td>\n",
       "      <td>0.089493</td>\n",
       "      <td>-0.188578</td>\n",
       "      <td>2.549026</td>\n",
       "      <td>4.151414e-08</td>\n",
       "      <td>13.439792</td>\n",
       "    </tr>\n",
       "    <tr>\n",
       "      <th>1243</th>\n",
       "      <td>-0.000156</td>\n",
       "      <td>0.100999</td>\n",
       "      <td>0.054567</td>\n",
       "      <td>4.374774</td>\n",
       "      <td>1.060101e-12</td>\n",
       "      <td>15.628110</td>\n",
       "    </tr>\n",
       "    <tr>\n",
       "      <th>1244</th>\n",
       "      <td>-0.001071</td>\n",
       "      <td>0.164105</td>\n",
       "      <td>-0.129876</td>\n",
       "      <td>6.742510</td>\n",
       "      <td>2.881127e-07</td>\n",
       "      <td>43.147708</td>\n",
       "    </tr>\n",
       "  </tbody>\n",
       "</table>\n",
       "<p>1245 rows × 6 columns</p>\n",
       "</div>"
      ],
      "text/plain": [
       "          mean       std  skewness   kurtosis  harmonic mean  \\\n",
       "0    -0.000040  0.060224 -0.638895  51.817342   4.405790e-10   \n",
       "1    -0.000483  0.027385  0.169739   2.901926   1.058298e-08   \n",
       "2    -0.000067  0.019704  0.181507   4.582113   2.210099e-09   \n",
       "3    -0.000062  0.022971 -0.092871   3.136028   4.928371e-09   \n",
       "4     0.000141  0.026843  0.031420   4.079496   1.251589e-11   \n",
       "...        ...       ...       ...        ...            ...   \n",
       "1240 -0.000112  0.069700 -0.569312   4.866047   2.078173e-08   \n",
       "1241  0.000324  0.089558 -0.047007   7.927406   1.564200e-08   \n",
       "1242  0.000426  0.089493 -0.188578   2.549026   4.151414e-08   \n",
       "1243 -0.000156  0.100999  0.054567   4.374774   1.060101e-12   \n",
       "1244 -0.001071  0.164105 -0.129876   6.742510   2.881127e-07   \n",
       "\n",
       "      ac peak height mean  \n",
       "0                2.167401  \n",
       "1                0.825860  \n",
       "2                0.303073  \n",
       "3                0.467023  \n",
       "4                0.599395  \n",
       "...                   ...  \n",
       "1240             7.022980  \n",
       "1241             8.178963  \n",
       "1242            13.439792  \n",
       "1243            15.628110  \n",
       "1244            43.147708  \n",
       "\n",
       "[1245 rows x 6 columns]"
      ]
     },
     "execution_count": 4,
     "metadata": {},
     "output_type": "execute_result"
    }
   ],
   "source": [
    "av"
   ]
  },
  {
   "cell_type": "markdown",
   "id": "05fb94bb",
   "metadata": {},
   "source": [
    "### AV-MV"
   ]
  },
  {
   "cell_type": "code",
   "execution_count": 5,
   "id": "5ac23bb4",
   "metadata": {},
   "outputs": [],
   "source": [
    "test = mannwhitneyu(av, mv,\n",
    "                    use_continuity=False, alternative = 'two-sided')\n",
    "stats = pd.DataFrame(test[0])\n",
    "p = pd.DataFrame(test[1])\n"
   ]
  },
  {
   "cell_type": "code",
   "execution_count": 6,
   "id": "038c4bfb",
   "metadata": {},
   "outputs": [
    {
     "data": {
      "text/html": [
       "<style type=\"text/css\">\n",
       "#T_5b752_row0_col0, #T_5b752_row0_col1, #T_5b752_row0_col2, #T_5b752_row0_col3, #T_5b752_row0_col4, #T_5b752_row0_col5 {\n",
       "  background: pink;\n",
       "}\n",
       "</style>\n",
       "<table id=\"T_5b752\">\n",
       "  <thead>\n",
       "    <tr>\n",
       "      <th class=\"blank level0\" >&nbsp;</th>\n",
       "      <th id=\"T_5b752_level0_col0\" class=\"col_heading level0 col0\" >0</th>\n",
       "      <th id=\"T_5b752_level0_col1\" class=\"col_heading level0 col1\" >1</th>\n",
       "      <th id=\"T_5b752_level0_col2\" class=\"col_heading level0 col2\" >2</th>\n",
       "      <th id=\"T_5b752_level0_col3\" class=\"col_heading level0 col3\" >3</th>\n",
       "      <th id=\"T_5b752_level0_col4\" class=\"col_heading level0 col4\" >4</th>\n",
       "      <th id=\"T_5b752_level0_col5\" class=\"col_heading level0 col5\" >5</th>\n",
       "    </tr>\n",
       "  </thead>\n",
       "  <tbody>\n",
       "    <tr>\n",
       "      <th id=\"T_5b752_level0_row0\" class=\"row_heading level0 row0\" >0</th>\n",
       "      <td id=\"T_5b752_row0_col0\" class=\"data row0 col0\" >0.020197</td>\n",
       "      <td id=\"T_5b752_row0_col1\" class=\"data row0 col1\" >0.000078</td>\n",
       "      <td id=\"T_5b752_row0_col2\" class=\"data row0 col2\" >0.046085</td>\n",
       "      <td id=\"T_5b752_row0_col3\" class=\"data row0 col3\" >0.000000</td>\n",
       "      <td id=\"T_5b752_row0_col4\" class=\"data row0 col4\" >0.000022</td>\n",
       "      <td id=\"T_5b752_row0_col5\" class=\"data row0 col5\" >0.000000</td>\n",
       "    </tr>\n",
       "  </tbody>\n",
       "</table>\n"
      ],
      "text/plain": [
       "<pandas.io.formats.style.Styler at 0x15a83a7c0>"
      ]
     },
     "execution_count": 6,
     "metadata": {},
     "output_type": "execute_result"
    }
   ],
   "source": [
    "p.T.style.apply(lambda x: [\"background: pink\" if v < 0.05 else \"\" for v in x], axis = 1)"
   ]
  },
  {
   "cell_type": "code",
   "execution_count": 7,
   "id": "a3f26f1d",
   "metadata": {},
   "outputs": [
    {
     "data": {
      "text/plain": [
       "Int64Index([0, 1, 2, 3, 4, 5], dtype='int64')"
      ]
     },
     "execution_count": 7,
     "metadata": {},
     "output_type": "execute_result"
    }
   ],
   "source": [
    "av_mv = p[(p < 0.05).any(axis=1)].index\n",
    "av_mv"
   ]
  },
  {
   "cell_type": "markdown",
   "id": "33b4bd95",
   "metadata": {},
   "source": [
    "### AV-PV"
   ]
  },
  {
   "cell_type": "code",
   "execution_count": 8,
   "id": "65fa9939",
   "metadata": {},
   "outputs": [
    {
     "name": "stdout",
     "output_type": "stream",
     "text": [
      "Int64Index([0, 1, 2, 5], dtype='int64')\n"
     ]
    }
   ],
   "source": [
    "test = mannwhitneyu(av, pv, use_continuity=False, alternative = 'two-sided')\n",
    "stats = pd.DataFrame(test[0])\n",
    "p = pd.DataFrame(test[1])\n",
    "\n",
    "av_pv = p[(p < 0.05).any(axis=1)].index\n",
    "\n",
    "print(av_pv)"
   ]
  },
  {
   "cell_type": "code",
   "execution_count": 9,
   "id": "f7e3c5a5",
   "metadata": {},
   "outputs": [
    {
     "data": {
      "text/html": [
       "<style type=\"text/css\">\n",
       "#T_e9248_row0_col0, #T_e9248_row0_col1, #T_e9248_row0_col2, #T_e9248_row0_col5 {\n",
       "  background: pink;\n",
       "}\n",
       "</style>\n",
       "<table id=\"T_e9248\">\n",
       "  <thead>\n",
       "    <tr>\n",
       "      <th class=\"blank level0\" >&nbsp;</th>\n",
       "      <th id=\"T_e9248_level0_col0\" class=\"col_heading level0 col0\" >0</th>\n",
       "      <th id=\"T_e9248_level0_col1\" class=\"col_heading level0 col1\" >1</th>\n",
       "      <th id=\"T_e9248_level0_col2\" class=\"col_heading level0 col2\" >2</th>\n",
       "      <th id=\"T_e9248_level0_col3\" class=\"col_heading level0 col3\" >3</th>\n",
       "      <th id=\"T_e9248_level0_col4\" class=\"col_heading level0 col4\" >4</th>\n",
       "      <th id=\"T_e9248_level0_col5\" class=\"col_heading level0 col5\" >5</th>\n",
       "    </tr>\n",
       "  </thead>\n",
       "  <tbody>\n",
       "    <tr>\n",
       "      <th id=\"T_e9248_level0_row0\" class=\"row_heading level0 row0\" >0</th>\n",
       "      <td id=\"T_e9248_row0_col0\" class=\"data row0 col0\" >0.000009</td>\n",
       "      <td id=\"T_e9248_row0_col1\" class=\"data row0 col1\" >0.000001</td>\n",
       "      <td id=\"T_e9248_row0_col2\" class=\"data row0 col2\" >0.000000</td>\n",
       "      <td id=\"T_e9248_row0_col3\" class=\"data row0 col3\" >0.642075</td>\n",
       "      <td id=\"T_e9248_row0_col4\" class=\"data row0 col4\" >0.552410</td>\n",
       "      <td id=\"T_e9248_row0_col5\" class=\"data row0 col5\" >0.000001</td>\n",
       "    </tr>\n",
       "  </tbody>\n",
       "</table>\n"
      ],
      "text/plain": [
       "<pandas.io.formats.style.Styler at 0x15bddfb80>"
      ]
     },
     "execution_count": 9,
     "metadata": {},
     "output_type": "execute_result"
    }
   ],
   "source": [
    "p.T.style.apply(lambda x: [\"background: pink\" if v < 0.05 else \"\" for v in x], axis = 1)"
   ]
  },
  {
   "cell_type": "markdown",
   "id": "ed4b50b4",
   "metadata": {},
   "source": [
    "### AV-TV"
   ]
  },
  {
   "cell_type": "code",
   "execution_count": 10,
   "id": "ddb6a660",
   "metadata": {},
   "outputs": [
    {
     "name": "stdout",
     "output_type": "stream",
     "text": [
      "Int64Index([1, 2, 3, 4, 5], dtype='int64')\n"
     ]
    }
   ],
   "source": [
    "test = mannwhitneyu(av, tv, use_continuity=False, alternative = 'two-sided')\n",
    "stats = pd.DataFrame(test[0])\n",
    "p = pd.DataFrame(test[1])\n",
    "\n",
    "p.T.style.apply(lambda x: [\"background: pink\" if v < 0.05 else \"\" for v in x], axis = 1)\n",
    "\n",
    "av_tv = p[(p < 0.05).any(axis=1)].index\n",
    "\n",
    "print(av_tv)"
   ]
  },
  {
   "cell_type": "code",
   "execution_count": 11,
   "id": "6c6e4583",
   "metadata": {},
   "outputs": [
    {
     "data": {
      "text/html": [
       "<style type=\"text/css\">\n",
       "#T_ad102_row0_col1, #T_ad102_row0_col2, #T_ad102_row0_col3, #T_ad102_row0_col4, #T_ad102_row0_col5 {\n",
       "  background: pink;\n",
       "}\n",
       "</style>\n",
       "<table id=\"T_ad102\">\n",
       "  <thead>\n",
       "    <tr>\n",
       "      <th class=\"blank level0\" >&nbsp;</th>\n",
       "      <th id=\"T_ad102_level0_col0\" class=\"col_heading level0 col0\" >0</th>\n",
       "      <th id=\"T_ad102_level0_col1\" class=\"col_heading level0 col1\" >1</th>\n",
       "      <th id=\"T_ad102_level0_col2\" class=\"col_heading level0 col2\" >2</th>\n",
       "      <th id=\"T_ad102_level0_col3\" class=\"col_heading level0 col3\" >3</th>\n",
       "      <th id=\"T_ad102_level0_col4\" class=\"col_heading level0 col4\" >4</th>\n",
       "      <th id=\"T_ad102_level0_col5\" class=\"col_heading level0 col5\" >5</th>\n",
       "    </tr>\n",
       "  </thead>\n",
       "  <tbody>\n",
       "    <tr>\n",
       "      <th id=\"T_ad102_level0_row0\" class=\"row_heading level0 row0\" >0</th>\n",
       "      <td id=\"T_ad102_row0_col0\" class=\"data row0 col0\" >0.841189</td>\n",
       "      <td id=\"T_ad102_row0_col1\" class=\"data row0 col1\" >0.000038</td>\n",
       "      <td id=\"T_ad102_row0_col2\" class=\"data row0 col2\" >0.000000</td>\n",
       "      <td id=\"T_ad102_row0_col3\" class=\"data row0 col3\" >0.000002</td>\n",
       "      <td id=\"T_ad102_row0_col4\" class=\"data row0 col4\" >0.038112</td>\n",
       "      <td id=\"T_ad102_row0_col5\" class=\"data row0 col5\" >0.003239</td>\n",
       "    </tr>\n",
       "  </tbody>\n",
       "</table>\n"
      ],
      "text/plain": [
       "<pandas.io.formats.style.Styler at 0x15be808b0>"
      ]
     },
     "execution_count": 11,
     "metadata": {},
     "output_type": "execute_result"
    }
   ],
   "source": [
    "p.T.style.apply(lambda x: [\"background: pink\" if v < 0.05 else \"\" for v in x], axis = 1)"
   ]
  },
  {
   "cell_type": "markdown",
   "id": "ddf93e49",
   "metadata": {},
   "source": [
    "### MV-PV"
   ]
  },
  {
   "cell_type": "code",
   "execution_count": 12,
   "id": "3660f1dc",
   "metadata": {},
   "outputs": [
    {
     "name": "stdout",
     "output_type": "stream",
     "text": [
      "Int64Index([0, 1, 2, 3, 4, 5], dtype='int64')\n"
     ]
    }
   ],
   "source": [
    "test = mannwhitneyu(mv, pv, use_continuity=False, alternative = 'two-sided')\n",
    "stats = pd.DataFrame(test[0])\n",
    "p = pd.DataFrame(test[1])\n",
    "\n",
    "\n",
    "mv_pv = p[(p < 0.05).any(axis=1)].index\n",
    "\n",
    "print(mv_pv)"
   ]
  },
  {
   "cell_type": "code",
   "execution_count": 13,
   "id": "6c7fc0f8",
   "metadata": {},
   "outputs": [
    {
     "data": {
      "text/html": [
       "<style type=\"text/css\">\n",
       "#T_f0cc6_row0_col0, #T_f0cc6_row0_col1, #T_f0cc6_row0_col2, #T_f0cc6_row0_col3, #T_f0cc6_row0_col4, #T_f0cc6_row0_col5 {\n",
       "  background: pink;\n",
       "}\n",
       "</style>\n",
       "<table id=\"T_f0cc6\">\n",
       "  <thead>\n",
       "    <tr>\n",
       "      <th class=\"blank level0\" >&nbsp;</th>\n",
       "      <th id=\"T_f0cc6_level0_col0\" class=\"col_heading level0 col0\" >0</th>\n",
       "      <th id=\"T_f0cc6_level0_col1\" class=\"col_heading level0 col1\" >1</th>\n",
       "      <th id=\"T_f0cc6_level0_col2\" class=\"col_heading level0 col2\" >2</th>\n",
       "      <th id=\"T_f0cc6_level0_col3\" class=\"col_heading level0 col3\" >3</th>\n",
       "      <th id=\"T_f0cc6_level0_col4\" class=\"col_heading level0 col4\" >4</th>\n",
       "      <th id=\"T_f0cc6_level0_col5\" class=\"col_heading level0 col5\" >5</th>\n",
       "    </tr>\n",
       "  </thead>\n",
       "  <tbody>\n",
       "    <tr>\n",
       "      <th id=\"T_f0cc6_level0_row0\" class=\"row_heading level0 row0\" >0</th>\n",
       "      <td id=\"T_f0cc6_row0_col0\" class=\"data row0 col0\" >0.000000</td>\n",
       "      <td id=\"T_f0cc6_row0_col1\" class=\"data row0 col1\" >0.000000</td>\n",
       "      <td id=\"T_f0cc6_row0_col2\" class=\"data row0 col2\" >0.000000</td>\n",
       "      <td id=\"T_f0cc6_row0_col3\" class=\"data row0 col3\" >0.000000</td>\n",
       "      <td id=\"T_f0cc6_row0_col4\" class=\"data row0 col4\" >0.000204</td>\n",
       "      <td id=\"T_f0cc6_row0_col5\" class=\"data row0 col5\" >0.000000</td>\n",
       "    </tr>\n",
       "  </tbody>\n",
       "</table>\n"
      ],
      "text/plain": [
       "<pandas.io.formats.style.Styler at 0x15be80fa0>"
      ]
     },
     "execution_count": 13,
     "metadata": {},
     "output_type": "execute_result"
    }
   ],
   "source": [
    "p.T.style.apply(lambda x: [\"background: pink\" if v < 0.05 else \"\" for v in x], axis = 1)"
   ]
  },
  {
   "cell_type": "markdown",
   "id": "e16b32b9",
   "metadata": {},
   "source": [
    "### MV_TV"
   ]
  },
  {
   "cell_type": "code",
   "execution_count": 14,
   "id": "d0562c0d",
   "metadata": {},
   "outputs": [
    {
     "name": "stdout",
     "output_type": "stream",
     "text": [
      "Int64Index([0, 1, 2, 4, 5], dtype='int64')\n"
     ]
    }
   ],
   "source": [
    "test = mannwhitneyu(mv, tv, use_continuity=False, alternative = 'two-sided')\n",
    "stats = pd.DataFrame(test[0])\n",
    "p = pd.DataFrame(test[1])\n",
    "\n",
    "mv_tv = p[(p < 0.05).any(axis=1)].index\n",
    "\n",
    "print(mv_tv)"
   ]
  },
  {
   "cell_type": "code",
   "execution_count": 15,
   "id": "6a2fe28d",
   "metadata": {},
   "outputs": [
    {
     "data": {
      "text/html": [
       "<style type=\"text/css\">\n",
       "#T_7e265_row0_col0, #T_7e265_row0_col1, #T_7e265_row0_col2, #T_7e265_row0_col4, #T_7e265_row0_col5 {\n",
       "  background: pink;\n",
       "}\n",
       "</style>\n",
       "<table id=\"T_7e265\">\n",
       "  <thead>\n",
       "    <tr>\n",
       "      <th class=\"blank level0\" >&nbsp;</th>\n",
       "      <th id=\"T_7e265_level0_col0\" class=\"col_heading level0 col0\" >0</th>\n",
       "      <th id=\"T_7e265_level0_col1\" class=\"col_heading level0 col1\" >1</th>\n",
       "      <th id=\"T_7e265_level0_col2\" class=\"col_heading level0 col2\" >2</th>\n",
       "      <th id=\"T_7e265_level0_col3\" class=\"col_heading level0 col3\" >3</th>\n",
       "      <th id=\"T_7e265_level0_col4\" class=\"col_heading level0 col4\" >4</th>\n",
       "      <th id=\"T_7e265_level0_col5\" class=\"col_heading level0 col5\" >5</th>\n",
       "    </tr>\n",
       "  </thead>\n",
       "  <tbody>\n",
       "    <tr>\n",
       "      <th id=\"T_7e265_level0_row0\" class=\"row_heading level0 row0\" >0</th>\n",
       "      <td id=\"T_7e265_row0_col0\" class=\"data row0 col0\" >0.014359</td>\n",
       "      <td id=\"T_7e265_row0_col1\" class=\"data row0 col1\" >0.000000</td>\n",
       "      <td id=\"T_7e265_row0_col2\" class=\"data row0 col2\" >0.000000</td>\n",
       "      <td id=\"T_7e265_row0_col3\" class=\"data row0 col3\" >0.361527</td>\n",
       "      <td id=\"T_7e265_row0_col4\" class=\"data row0 col4\" >0.036387</td>\n",
       "      <td id=\"T_7e265_row0_col5\" class=\"data row0 col5\" >0.000000</td>\n",
       "    </tr>\n",
       "  </tbody>\n",
       "</table>\n"
      ],
      "text/plain": [
       "<pandas.io.formats.style.Styler at 0x15be80e50>"
      ]
     },
     "execution_count": 15,
     "metadata": {},
     "output_type": "execute_result"
    }
   ],
   "source": [
    "p.T.style.apply(lambda x: [\"background: pink\" if v < 0.05 else \"\" for v in x], axis = 1)"
   ]
  },
  {
   "cell_type": "markdown",
   "id": "b4ef6458",
   "metadata": {},
   "source": [
    "### PV-TV"
   ]
  },
  {
   "cell_type": "code",
   "execution_count": 16,
   "id": "3cc0e717",
   "metadata": {},
   "outputs": [
    {
     "name": "stdout",
     "output_type": "stream",
     "text": [
      "Int64Index([0, 2, 3], dtype='int64')\n"
     ]
    }
   ],
   "source": [
    "test = mannwhitneyu(pv, tv, use_continuity=False, alternative = 'two-sided')\n",
    "stats = pd.DataFrame(test[0])\n",
    "p = pd.DataFrame(test[1])\n",
    "\n",
    "pv_tv = p[(p < 0.05).any(axis=1)].index\n",
    "\n",
    "print(pv_tv)"
   ]
  },
  {
   "cell_type": "code",
   "execution_count": 17,
   "id": "b826ace6",
   "metadata": {},
   "outputs": [
    {
     "data": {
      "text/html": [
       "<style type=\"text/css\">\n",
       "#T_78e99_row0_col0, #T_78e99_row0_col2, #T_78e99_row0_col3 {\n",
       "  background: pink;\n",
       "}\n",
       "</style>\n",
       "<table id=\"T_78e99\">\n",
       "  <thead>\n",
       "    <tr>\n",
       "      <th class=\"blank level0\" >&nbsp;</th>\n",
       "      <th id=\"T_78e99_level0_col0\" class=\"col_heading level0 col0\" >0</th>\n",
       "      <th id=\"T_78e99_level0_col1\" class=\"col_heading level0 col1\" >1</th>\n",
       "      <th id=\"T_78e99_level0_col2\" class=\"col_heading level0 col2\" >2</th>\n",
       "      <th id=\"T_78e99_level0_col3\" class=\"col_heading level0 col3\" >3</th>\n",
       "      <th id=\"T_78e99_level0_col4\" class=\"col_heading level0 col4\" >4</th>\n",
       "      <th id=\"T_78e99_level0_col5\" class=\"col_heading level0 col5\" >5</th>\n",
       "    </tr>\n",
       "  </thead>\n",
       "  <tbody>\n",
       "    <tr>\n",
       "      <th id=\"T_78e99_level0_row0\" class=\"row_heading level0 row0\" >0</th>\n",
       "      <td id=\"T_78e99_row0_col0\" class=\"data row0 col0\" >0.000064</td>\n",
       "      <td id=\"T_78e99_row0_col1\" class=\"data row0 col1\" >0.836111</td>\n",
       "      <td id=\"T_78e99_row0_col2\" class=\"data row0 col2\" >0.000000</td>\n",
       "      <td id=\"T_78e99_row0_col3\" class=\"data row0 col3\" >0.000006</td>\n",
       "      <td id=\"T_78e99_row0_col4\" class=\"data row0 col4\" >0.127340</td>\n",
       "      <td id=\"T_78e99_row0_col5\" class=\"data row0 col5\" >0.176280</td>\n",
       "    </tr>\n",
       "  </tbody>\n",
       "</table>\n"
      ],
      "text/plain": [
       "<pandas.io.formats.style.Styler at 0x15be80b80>"
      ]
     },
     "execution_count": 17,
     "metadata": {},
     "output_type": "execute_result"
    }
   ],
   "source": [
    "p.T.style.apply(lambda x: [\"background: pink\" if v < 0.05 else \"\" for v in x], axis = 1)"
   ]
  },
  {
   "cell_type": "markdown",
   "id": "c6d4b73d",
   "metadata": {},
   "source": [
    "## as a result we will only exclude the spectral spread. So lets finalize the final dataframe."
   ]
  },
  {
   "cell_type": "code",
   "execution_count": 18,
   "id": "1c075a7d",
   "metadata": {},
   "outputs": [
    {
     "data": {
      "text/html": [
       "<div>\n",
       "<style scoped>\n",
       "    .dataframe tbody tr th:only-of-type {\n",
       "        vertical-align: middle;\n",
       "    }\n",
       "\n",
       "    .dataframe tbody tr th {\n",
       "        vertical-align: top;\n",
       "    }\n",
       "\n",
       "    .dataframe thead th {\n",
       "        text-align: right;\n",
       "    }\n",
       "</style>\n",
       "<table border=\"1\" class=\"dataframe\">\n",
       "  <thead>\n",
       "    <tr style=\"text-align: right;\">\n",
       "      <th></th>\n",
       "      <th>mean</th>\n",
       "      <th>std</th>\n",
       "      <th>skewness</th>\n",
       "      <th>kurtosis</th>\n",
       "      <th>harmonic mean</th>\n",
       "      <th>ac peak height mean</th>\n",
       "    </tr>\n",
       "  </thead>\n",
       "  <tbody>\n",
       "    <tr>\n",
       "      <th>0</th>\n",
       "      <td>-0.000040</td>\n",
       "      <td>0.060224</td>\n",
       "      <td>-0.638895</td>\n",
       "      <td>51.817342</td>\n",
       "      <td>4.405790e-10</td>\n",
       "      <td>2.167401</td>\n",
       "    </tr>\n",
       "    <tr>\n",
       "      <th>1</th>\n",
       "      <td>-0.000483</td>\n",
       "      <td>0.027385</td>\n",
       "      <td>0.169739</td>\n",
       "      <td>2.901926</td>\n",
       "      <td>1.058298e-08</td>\n",
       "      <td>0.825860</td>\n",
       "    </tr>\n",
       "    <tr>\n",
       "      <th>2</th>\n",
       "      <td>-0.000067</td>\n",
       "      <td>0.019704</td>\n",
       "      <td>0.181507</td>\n",
       "      <td>4.582113</td>\n",
       "      <td>2.210099e-09</td>\n",
       "      <td>0.303073</td>\n",
       "    </tr>\n",
       "    <tr>\n",
       "      <th>3</th>\n",
       "      <td>-0.000062</td>\n",
       "      <td>0.022971</td>\n",
       "      <td>-0.092871</td>\n",
       "      <td>3.136028</td>\n",
       "      <td>4.928371e-09</td>\n",
       "      <td>0.467023</td>\n",
       "    </tr>\n",
       "    <tr>\n",
       "      <th>4</th>\n",
       "      <td>0.000141</td>\n",
       "      <td>0.026843</td>\n",
       "      <td>0.031420</td>\n",
       "      <td>4.079496</td>\n",
       "      <td>1.251589e-11</td>\n",
       "      <td>0.599395</td>\n",
       "    </tr>\n",
       "  </tbody>\n",
       "</table>\n",
       "</div>"
      ],
      "text/plain": [
       "       mean       std  skewness   kurtosis  harmonic mean  ac peak height mean\n",
       "0 -0.000040  0.060224 -0.638895  51.817342   4.405790e-10             2.167401\n",
       "1 -0.000483  0.027385  0.169739   2.901926   1.058298e-08             0.825860\n",
       "2 -0.000067  0.019704  0.181507   4.582113   2.210099e-09             0.303073\n",
       "3 -0.000062  0.022971 -0.092871   3.136028   4.928371e-09             0.467023\n",
       "4  0.000141  0.026843  0.031420   4.079496   1.251589e-11             0.599395"
      ]
     },
     "execution_count": 18,
     "metadata": {},
     "output_type": "execute_result"
    }
   ],
   "source": [
    "df = pd.concat([av, mv, pv, tv], axis =0)\n",
    "df.head()"
   ]
  },
  {
   "cell_type": "code",
   "execution_count": 19,
   "id": "3f69d78a",
   "metadata": {},
   "outputs": [],
   "source": [
    "df.to_csv(\"/Users/ecem/Desktop/phonocardiogram/data/statistical-features.csv\")"
   ]
  },
  {
   "cell_type": "code",
   "execution_count": null,
   "id": "d06b4990",
   "metadata": {},
   "outputs": [],
   "source": []
  }
 ],
 "metadata": {
  "kernelspec": {
   "display_name": "Python 3 (ipykernel)",
   "language": "python",
   "name": "python3"
  },
  "language_info": {
   "codemirror_mode": {
    "name": "ipython",
    "version": 3
   },
   "file_extension": ".py",
   "mimetype": "text/x-python",
   "name": "python",
   "nbconvert_exporter": "python",
   "pygments_lexer": "ipython3",
   "version": "3.9.9"
  }
 },
 "nbformat": 4,
 "nbformat_minor": 5
}
