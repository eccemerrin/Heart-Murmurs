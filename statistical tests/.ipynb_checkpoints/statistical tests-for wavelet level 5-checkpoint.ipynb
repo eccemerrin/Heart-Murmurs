{
 "cells": [
  {
   "cell_type": "code",
   "execution_count": 1,
   "id": "e232ae2f",
   "metadata": {},
   "outputs": [],
   "source": [
    "import pandas as pd \n",
    "from scipy.stats import mannwhitneyu\n",
    "from scipy import stats\n",
    "import numpy as np"
   ]
  },
  {
   "cell_type": "code",
   "execution_count": 2,
   "id": "52193d25",
   "metadata": {},
   "outputs": [],
   "source": [
    "AV_path =  \"/Users/ecem/Desktop/phonocardiogram/data/wavelet_4\"\n",
    "MV_path =  \"/Users/ecem/Desktop/phonocardiogram/data/wavelet_4\"\n",
    "PV_path =  \"/Users/ecem/Desktop/phonocardiogram/data/wavelet_4\"\n",
    "TV_path =  \"/Users/ecem/Desktop/phonocardiogram/data/wavelet_4\""
   ]
  },
  {
   "cell_type": "markdown",
   "id": "9b66ebd7",
   "metadata": {},
   "source": [
    "# WAVELET"
   ]
  },
  {
   "cell_type": "code",
   "execution_count": 3,
   "id": "d72f72c4",
   "metadata": {},
   "outputs": [],
   "source": [
    "from IPython.display import display"
   ]
  },
  {
   "cell_type": "code",
   "execution_count": 4,
   "id": "e8d45021",
   "metadata": {},
   "outputs": [],
   "source": [
    "def shortcut_v2(dir_path = None, name1 = 'mr', name2 = 'ar', level = 0):\n",
    "    \n",
    "    wavelet_1 = np.load(dir_path + \"/\" + name1 + \"_lvl_{}.npy\".format(level), allow_pickle = True)\n",
    "    wavelet_2 = np.load(dir_path + \"/\" + name2 + \"_lvl_{}.npy\".format(level), allow_pickle = True)\n",
    "\n",
    "    test = mannwhitneyu(wavelet_1, wavelet_2, use_continuity = False, alternative = 'two-sided')\n",
    "    stats = pd.DataFrame(test[0])\n",
    "    p_value_df = pd.DataFrame(test[1])\n",
    "\n",
    "    little_index_list = p_value_df[(p_value_df < 0.05).any(axis=1)].index\n",
    "    #df = p_value_df.T.style.apply(lambda x: [\"background: pink\" if v < 0.05 else \"\" for v in x],\n",
    "                                          #axis = 1)\n",
    "    \n",
    "    return  little_index_list\n"
   ]
  },
  {
   "cell_type": "code",
   "execution_count": 5,
   "id": "048149a4",
   "metadata": {},
   "outputs": [],
   "source": [
    "path = \"/Users/ecem/Desktop/phonocardiogram/data/wavelet_4\""
   ]
  },
  {
   "cell_type": "markdown",
   "id": "44c7021e",
   "metadata": {},
   "source": [
    "### AV- MV"
   ]
  },
  {
   "cell_type": "code",
   "execution_count": 6,
   "id": "7246e787",
   "metadata": {},
   "outputs": [],
   "source": [
    "index_list_av_mv_w = []\n",
    "for i in range(6):\n",
    "    indexes = shortcut_v2(path, 'present_AV_wavelet_coef_5', 'present_MV_wavelet_coef_5', level = i)\n",
    "    index_list_av_mv_w.append(indexes)\n",
    "    \n",
    "    "
   ]
  },
  {
   "cell_type": "code",
   "execution_count": 7,
   "id": "67322873",
   "metadata": {},
   "outputs": [],
   "source": [
    "#index_list_av_mv_w"
   ]
  },
  {
   "cell_type": "markdown",
   "id": "e7b9bfdb",
   "metadata": {},
   "source": [
    "### AV-PV"
   ]
  },
  {
   "cell_type": "code",
   "execution_count": 8,
   "id": "696d22f1",
   "metadata": {},
   "outputs": [],
   "source": [
    "index_list_av_pv_w = []\n",
    "for i in range(6):\n",
    "    indexes = shortcut_v2(path, 'present_AV_wavelet_coef_5', 'present_PV_wavelet_coef_5', level = i)\n",
    "    index_list_av_pv_w.append(indexes)"
   ]
  },
  {
   "cell_type": "code",
   "execution_count": 9,
   "id": "12841d6e",
   "metadata": {},
   "outputs": [],
   "source": [
    "#index_list_av_pv_w"
   ]
  },
  {
   "cell_type": "markdown",
   "id": "8c6ed2f8",
   "metadata": {},
   "source": [
    "### AV-TV"
   ]
  },
  {
   "cell_type": "code",
   "execution_count": 10,
   "id": "5df2919f",
   "metadata": {},
   "outputs": [],
   "source": [
    "index_list_av_tv_w = []\n",
    "for i in range(6):\n",
    "    indexes = shortcut_v2(path, 'present_AV_wavelet_coef_5', 'present_TV_wavelet_coef_5', level = i)\n",
    "    index_list_av_tv_w.append(indexes)\n",
    "    \n",
    "#index_list_av_tv_w"
   ]
  },
  {
   "cell_type": "code",
   "execution_count": 11,
   "id": "fe6b861e",
   "metadata": {
    "scrolled": true
   },
   "outputs": [],
   "source": [
    "w_index_av = []\n",
    "for i in range(6):\n",
    "    av_w = list(set(index_list_av_mv_w[i]) & set(index_list_av_pv_w[i]) & set(index_list_av_tv_w[i]))\n",
    "    w_index_av.append(av_w)\n",
    "\n",
    "#w_index_av"
   ]
  },
  {
   "cell_type": "markdown",
   "id": "9939ebe8",
   "metadata": {},
   "source": [
    "### MV-PV"
   ]
  },
  {
   "cell_type": "code",
   "execution_count": 12,
   "id": "e23fdf74",
   "metadata": {},
   "outputs": [],
   "source": [
    "index_list_mv_pv_w = []\n",
    "for i in range(6):\n",
    "    indexes = shortcut_v2(path, 'present_MV_wavelet_coef_5', 'present_PV_wavelet_coef_5', level = i)\n",
    "    index_list_mv_pv_w.append(indexes)\n",
    "#index_list_mv_pv_w"
   ]
  },
  {
   "cell_type": "markdown",
   "id": "5dc7175f",
   "metadata": {},
   "source": [
    "### MV-TV"
   ]
  },
  {
   "cell_type": "code",
   "execution_count": 13,
   "id": "26dc3092",
   "metadata": {},
   "outputs": [],
   "source": [
    "index_list_mv_tv_w = []\n",
    "for i in range(6):\n",
    "    indexes = shortcut_v2(path, 'present_MV_wavelet_coef_5', 'present_TV_wavelet_coef_5', level = i)\n",
    "    index_list_mv_tv_w.append(indexes)\n",
    "#index_list_mv_tv_w"
   ]
  },
  {
   "cell_type": "code",
   "execution_count": 14,
   "id": "fe110aad",
   "metadata": {},
   "outputs": [],
   "source": [
    "w_index_mv = []\n",
    "for i in range(6):\n",
    "    mv_w = list(set(index_list_mv_pv_w[i]) & set(index_list_mv_tv_w[i]))\n",
    "    w_index_mv.append(mv_w)\n",
    "#w_index_mv"
   ]
  },
  {
   "cell_type": "markdown",
   "id": "53858db9",
   "metadata": {},
   "source": [
    "### PV-TV"
   ]
  },
  {
   "cell_type": "code",
   "execution_count": 15,
   "id": "72b53387",
   "metadata": {},
   "outputs": [],
   "source": [
    "index_list_pv_tv_w = []\n",
    "for i in range(6):\n",
    "    indexes = shortcut_v2(path, 'present_PV_wavelet_coef_5', 'present_TV_wavelet_coef_5', level = i)\n",
    "    index_list_pv_tv_w.append(indexes)\n",
    "#index_list_pv_tv_w"
   ]
  },
  {
   "cell_type": "code",
   "execution_count": 16,
   "id": "47c5ec0a",
   "metadata": {},
   "outputs": [],
   "source": [
    "w_index = []\n",
    "for i in range(6):\n",
    "    w_index.append( list(set.union(set(w_index_mv[i]), set(w_index_av[i]), set(index_list_pv_tv_w[i]))))\n",
    "    \n",
    "#w_index\n"
   ]
  },
  {
   "cell_type": "code",
   "execution_count": 17,
   "id": "b21ab346",
   "metadata": {},
   "outputs": [
    {
     "data": {
      "text/plain": [
       "117"
      ]
     },
     "execution_count": 17,
     "metadata": {},
     "output_type": "execute_result"
    }
   ],
   "source": [
    "len(w_index[0])"
   ]
  },
  {
   "cell_type": "code",
   "execution_count": 18,
   "id": "9ad4fa6f",
   "metadata": {},
   "outputs": [
    {
     "name": "stderr",
     "output_type": "stream",
     "text": [
      "/var/folders/gd/3d6ckpdn4q30skhxnvs_p7b80000gn/T/ipykernel_63696/1180246712.py:1: VisibleDeprecationWarning: Creating an ndarray from ragged nested sequences (which is a list-or-tuple of lists-or-tuples-or ndarrays with different lengths or shapes) is deprecated. If you meant to do this, you must specify 'dtype=object' when creating the ndarray.\n",
      "  w_index = np.array(w_index)\n"
     ]
    },
    {
     "data": {
      "text/plain": [
       "(6,)"
      ]
     },
     "execution_count": 18,
     "metadata": {},
     "output_type": "execute_result"
    }
   ],
   "source": [
    "w_index = np.array(w_index)\n",
    "w_index.shape"
   ]
  },
  {
   "cell_type": "code",
   "execution_count": 19,
   "id": "7067cfa2",
   "metadata": {},
   "outputs": [],
   "source": [
    "np.save(\"/Users/ecem/Desktop/phonocardiogram/data/wavelet_4/p_value_selected_wavelet_5\", w_index,\n",
    "        allow_pickle = True)"
   ]
  },
  {
   "cell_type": "markdown",
   "id": "be8771cc",
   "metadata": {},
   "source": [
    "### now, create a dataframe with colums from w_index_t"
   ]
  },
  {
   "cell_type": "code",
   "execution_count": 20,
   "id": "0b55c5d2",
   "metadata": {},
   "outputs": [
    {
     "name": "stdout",
     "output_type": "stream",
     "text": [
      "117\n",
      "70\n",
      "164\n",
      "309\n",
      "634\n",
      "1257\n"
     ]
    }
   ],
   "source": [
    "for i in range(6):\n",
    "    print(len(w_index[i]))"
   ]
  },
  {
   "cell_type": "code",
   "execution_count": 21,
   "id": "faf67f1f",
   "metadata": {},
   "outputs": [],
   "source": [
    "def dataframe_creator(path, name, rangee = 6 ):\n",
    "    df = pd.DataFrame()\n",
    "    for i in range(rangee):\n",
    "        levels = pd.DataFrame(np.load(path + \"/present_\" + name + \"_wavelet_coef_5\" + \"_lvl_{}.npy\".format(i)))\n",
    "        levels = levels.iloc[:, w_index[i]]\n",
    "\n",
    "        df = pd.concat([df, levels], axis = 1)\n",
    "        \n",
    "    df.to_csv(path + \"/p_value_selected_\"+ name + \"_wavelet_5.csv\")\n",
    "    return df"
   ]
  },
  {
   "cell_type": "code",
   "execution_count": 22,
   "id": "2a75fc25",
   "metadata": {},
   "outputs": [],
   "source": [
    "av_df = dataframe_creator(path, \"AV\")"
   ]
  },
  {
   "cell_type": "code",
   "execution_count": 23,
   "id": "11d31f32",
   "metadata": {},
   "outputs": [],
   "source": [
    "mv_df = dataframe_creator(path, \"MV\")"
   ]
  },
  {
   "cell_type": "code",
   "execution_count": 24,
   "id": "80dc8256",
   "metadata": {},
   "outputs": [],
   "source": [
    "pv_df = dataframe_creator(path, \"PV\")"
   ]
  },
  {
   "cell_type": "code",
   "execution_count": 25,
   "id": "49a496c5",
   "metadata": {},
   "outputs": [],
   "source": [
    "tv_df = dataframe_creator(path, \"TV\")"
   ]
  },
  {
   "cell_type": "code",
   "execution_count": 26,
   "id": "c36e4179",
   "metadata": {},
   "outputs": [
    {
     "data": {
      "text/html": [
       "<div>\n",
       "<style scoped>\n",
       "    .dataframe tbody tr th:only-of-type {\n",
       "        vertical-align: middle;\n",
       "    }\n",
       "\n",
       "    .dataframe tbody tr th {\n",
       "        vertical-align: top;\n",
       "    }\n",
       "\n",
       "    .dataframe thead th {\n",
       "        text-align: right;\n",
       "    }\n",
       "</style>\n",
       "<table border=\"1\" class=\"dataframe\">\n",
       "  <thead>\n",
       "    <tr style=\"text-align: right;\">\n",
       "      <th></th>\n",
       "      <th>259</th>\n",
       "      <th>1039</th>\n",
       "      <th>531</th>\n",
       "      <th>1046</th>\n",
       "      <th>281</th>\n",
       "      <th>538</th>\n",
       "      <th>282</th>\n",
       "      <th>796</th>\n",
       "      <th>1053</th>\n",
       "      <th>1055</th>\n",
       "      <th>...</th>\n",
       "      <th>8095</th>\n",
       "      <th>12190</th>\n",
       "      <th>8097</th>\n",
       "      <th>8098</th>\n",
       "      <th>12193</th>\n",
       "      <th>12194</th>\n",
       "      <th>16313</th>\n",
       "      <th>16320</th>\n",
       "      <th>16323</th>\n",
       "      <th>8141</th>\n",
       "    </tr>\n",
       "  </thead>\n",
       "  <tbody>\n",
       "    <tr>\n",
       "      <th>0</th>\n",
       "      <td>0.052916</td>\n",
       "      <td>0.155365</td>\n",
       "      <td>0.011395</td>\n",
       "      <td>0.186039</td>\n",
       "      <td>0.023075</td>\n",
       "      <td>0.024515</td>\n",
       "      <td>0.059001</td>\n",
       "      <td>-0.000871</td>\n",
       "      <td>0.023070</td>\n",
       "      <td>-0.048202</td>\n",
       "      <td>...</td>\n",
       "      <td>-6.515215e-07</td>\n",
       "      <td>-1.720367e-07</td>\n",
       "      <td>-8.527579e-07</td>\n",
       "      <td>2.527677e-07</td>\n",
       "      <td>2.103104e-07</td>\n",
       "      <td>3.293214e-07</td>\n",
       "      <td>-6.520820e-07</td>\n",
       "      <td>-4.234835e-07</td>\n",
       "      <td>-2.114034e-07</td>\n",
       "      <td>-8.425136e-07</td>\n",
       "    </tr>\n",
       "    <tr>\n",
       "      <th>1</th>\n",
       "      <td>0.030207</td>\n",
       "      <td>0.019699</td>\n",
       "      <td>0.023538</td>\n",
       "      <td>-0.013897</td>\n",
       "      <td>-0.162079</td>\n",
       "      <td>-0.007238</td>\n",
       "      <td>0.127855</td>\n",
       "      <td>-0.130507</td>\n",
       "      <td>0.143276</td>\n",
       "      <td>-0.079178</td>\n",
       "      <td>...</td>\n",
       "      <td>-7.575331e-07</td>\n",
       "      <td>5.155071e-07</td>\n",
       "      <td>-2.496122e-07</td>\n",
       "      <td>5.929903e-07</td>\n",
       "      <td>-6.243171e-07</td>\n",
       "      <td>2.834713e-07</td>\n",
       "      <td>-1.397158e-06</td>\n",
       "      <td>-7.738172e-07</td>\n",
       "      <td>8.833731e-07</td>\n",
       "      <td>-5.069823e-07</td>\n",
       "    </tr>\n",
       "    <tr>\n",
       "      <th>2</th>\n",
       "      <td>0.072346</td>\n",
       "      <td>-0.069821</td>\n",
       "      <td>-0.035314</td>\n",
       "      <td>-0.309477</td>\n",
       "      <td>-0.093270</td>\n",
       "      <td>0.017596</td>\n",
       "      <td>-0.071237</td>\n",
       "      <td>-0.015194</td>\n",
       "      <td>0.005957</td>\n",
       "      <td>0.222385</td>\n",
       "      <td>...</td>\n",
       "      <td>-2.414427e-07</td>\n",
       "      <td>-3.924055e-07</td>\n",
       "      <td>4.488352e-07</td>\n",
       "      <td>4.692565e-07</td>\n",
       "      <td>2.697141e-07</td>\n",
       "      <td>4.754459e-07</td>\n",
       "      <td>-2.791003e-07</td>\n",
       "      <td>-3.848954e-07</td>\n",
       "      <td>1.913400e-07</td>\n",
       "      <td>-6.010123e-08</td>\n",
       "    </tr>\n",
       "    <tr>\n",
       "      <th>3</th>\n",
       "      <td>0.512340</td>\n",
       "      <td>-0.044351</td>\n",
       "      <td>-0.036612</td>\n",
       "      <td>0.029459</td>\n",
       "      <td>-0.242698</td>\n",
       "      <td>-0.069873</td>\n",
       "      <td>-0.030707</td>\n",
       "      <td>0.088049</td>\n",
       "      <td>0.028545</td>\n",
       "      <td>0.016765</td>\n",
       "      <td>...</td>\n",
       "      <td>-2.872505e-07</td>\n",
       "      <td>-6.227539e-07</td>\n",
       "      <td>-1.343183e-06</td>\n",
       "      <td>-2.651809e-07</td>\n",
       "      <td>9.557136e-07</td>\n",
       "      <td>4.895669e-07</td>\n",
       "      <td>-4.541868e-07</td>\n",
       "      <td>-6.184251e-07</td>\n",
       "      <td>4.075648e-07</td>\n",
       "      <td>6.504983e-07</td>\n",
       "    </tr>\n",
       "    <tr>\n",
       "      <th>4</th>\n",
       "      <td>-0.007128</td>\n",
       "      <td>0.002327</td>\n",
       "      <td>0.099362</td>\n",
       "      <td>0.041718</td>\n",
       "      <td>0.013881</td>\n",
       "      <td>0.021056</td>\n",
       "      <td>-0.026850</td>\n",
       "      <td>-0.037699</td>\n",
       "      <td>-0.037901</td>\n",
       "      <td>0.080707</td>\n",
       "      <td>...</td>\n",
       "      <td>-2.138322e-07</td>\n",
       "      <td>-5.177499e-07</td>\n",
       "      <td>2.224215e-07</td>\n",
       "      <td>2.691604e-07</td>\n",
       "      <td>6.470726e-07</td>\n",
       "      <td>4.887128e-07</td>\n",
       "      <td>3.295942e-07</td>\n",
       "      <td>3.652303e-07</td>\n",
       "      <td>-4.095522e-07</td>\n",
       "      <td>6.816736e-07</td>\n",
       "    </tr>\n",
       "    <tr>\n",
       "      <th>...</th>\n",
       "      <td>...</td>\n",
       "      <td>...</td>\n",
       "      <td>...</td>\n",
       "      <td>...</td>\n",
       "      <td>...</td>\n",
       "      <td>...</td>\n",
       "      <td>...</td>\n",
       "      <td>...</td>\n",
       "      <td>...</td>\n",
       "      <td>...</td>\n",
       "      <td>...</td>\n",
       "      <td>...</td>\n",
       "      <td>...</td>\n",
       "      <td>...</td>\n",
       "      <td>...</td>\n",
       "      <td>...</td>\n",
       "      <td>...</td>\n",
       "      <td>...</td>\n",
       "      <td>...</td>\n",
       "      <td>...</td>\n",
       "      <td>...</td>\n",
       "    </tr>\n",
       "    <tr>\n",
       "      <th>1200</th>\n",
       "      <td>-1.801038</td>\n",
       "      <td>-0.452928</td>\n",
       "      <td>0.209025</td>\n",
       "      <td>0.999271</td>\n",
       "      <td>1.421934</td>\n",
       "      <td>-0.077152</td>\n",
       "      <td>0.607635</td>\n",
       "      <td>-1.764417</td>\n",
       "      <td>-2.478283</td>\n",
       "      <td>-0.525647</td>\n",
       "      <td>...</td>\n",
       "      <td>2.206998e-07</td>\n",
       "      <td>-2.939378e-07</td>\n",
       "      <td>3.880484e-07</td>\n",
       "      <td>-5.312995e-08</td>\n",
       "      <td>3.159912e-07</td>\n",
       "      <td>6.628397e-08</td>\n",
       "      <td>-2.067949e-06</td>\n",
       "      <td>-1.185941e-06</td>\n",
       "      <td>4.882841e-07</td>\n",
       "      <td>-8.483087e-07</td>\n",
       "    </tr>\n",
       "    <tr>\n",
       "      <th>1201</th>\n",
       "      <td>3.917603</td>\n",
       "      <td>-0.259301</td>\n",
       "      <td>-0.186970</td>\n",
       "      <td>-0.109120</td>\n",
       "      <td>2.038120</td>\n",
       "      <td>0.169717</td>\n",
       "      <td>1.160327</td>\n",
       "      <td>0.033469</td>\n",
       "      <td>-0.956723</td>\n",
       "      <td>-0.624116</td>\n",
       "      <td>...</td>\n",
       "      <td>-4.734883e-08</td>\n",
       "      <td>2.210181e-07</td>\n",
       "      <td>1.331272e-06</td>\n",
       "      <td>-2.110517e-08</td>\n",
       "      <td>-3.553560e-07</td>\n",
       "      <td>-3.815057e-07</td>\n",
       "      <td>6.356158e-07</td>\n",
       "      <td>1.881516e-06</td>\n",
       "      <td>-1.362734e-06</td>\n",
       "      <td>1.462701e-06</td>\n",
       "    </tr>\n",
       "    <tr>\n",
       "      <th>1202</th>\n",
       "      <td>0.260889</td>\n",
       "      <td>-0.002544</td>\n",
       "      <td>0.501429</td>\n",
       "      <td>-0.318443</td>\n",
       "      <td>0.169046</td>\n",
       "      <td>-0.113470</td>\n",
       "      <td>0.144034</td>\n",
       "      <td>-0.074187</td>\n",
       "      <td>0.606155</td>\n",
       "      <td>-0.211735</td>\n",
       "      <td>...</td>\n",
       "      <td>-4.523290e-07</td>\n",
       "      <td>-3.130306e-06</td>\n",
       "      <td>6.515847e-08</td>\n",
       "      <td>2.795850e-07</td>\n",
       "      <td>3.384745e-06</td>\n",
       "      <td>2.040372e-06</td>\n",
       "      <td>-7.138624e-09</td>\n",
       "      <td>5.858101e-07</td>\n",
       "      <td>-1.477142e-06</td>\n",
       "      <td>2.308989e-07</td>\n",
       "    </tr>\n",
       "    <tr>\n",
       "      <th>1203</th>\n",
       "      <td>0.123937</td>\n",
       "      <td>-4.091718</td>\n",
       "      <td>2.110124</td>\n",
       "      <td>-0.879363</td>\n",
       "      <td>0.160446</td>\n",
       "      <td>-0.984232</td>\n",
       "      <td>0.424833</td>\n",
       "      <td>4.604614</td>\n",
       "      <td>-0.050999</td>\n",
       "      <td>0.500716</td>\n",
       "      <td>...</td>\n",
       "      <td>-1.043458e-06</td>\n",
       "      <td>2.839729e-07</td>\n",
       "      <td>-1.589788e-07</td>\n",
       "      <td>9.560781e-07</td>\n",
       "      <td>-4.558069e-08</td>\n",
       "      <td>-3.602486e-07</td>\n",
       "      <td>-4.000236e-06</td>\n",
       "      <td>-2.719058e-06</td>\n",
       "      <td>2.370802e-06</td>\n",
       "      <td>5.870752e-07</td>\n",
       "    </tr>\n",
       "    <tr>\n",
       "      <th>1204</th>\n",
       "      <td>0.186926</td>\n",
       "      <td>-1.507356</td>\n",
       "      <td>0.611089</td>\n",
       "      <td>0.720146</td>\n",
       "      <td>0.182411</td>\n",
       "      <td>-0.531415</td>\n",
       "      <td>0.214635</td>\n",
       "      <td>0.012937</td>\n",
       "      <td>-0.542798</td>\n",
       "      <td>-0.126891</td>\n",
       "      <td>...</td>\n",
       "      <td>-1.031036e-06</td>\n",
       "      <td>6.840901e-07</td>\n",
       "      <td>6.087248e-08</td>\n",
       "      <td>5.212223e-07</td>\n",
       "      <td>-8.465177e-07</td>\n",
       "      <td>-3.007863e-07</td>\n",
       "      <td>-2.504748e-08</td>\n",
       "      <td>-3.854693e-07</td>\n",
       "      <td>3.768218e-08</td>\n",
       "      <td>4.853791e-08</td>\n",
       "    </tr>\n",
       "  </tbody>\n",
       "</table>\n",
       "<p>4728 rows × 2551 columns</p>\n",
       "</div>"
      ],
      "text/plain": [
       "         259       1039      531       1046      281       538       282    \\\n",
       "0     0.052916  0.155365  0.011395  0.186039  0.023075  0.024515  0.059001   \n",
       "1     0.030207  0.019699  0.023538 -0.013897 -0.162079 -0.007238  0.127855   \n",
       "2     0.072346 -0.069821 -0.035314 -0.309477 -0.093270  0.017596 -0.071237   \n",
       "3     0.512340 -0.044351 -0.036612  0.029459 -0.242698 -0.069873 -0.030707   \n",
       "4    -0.007128  0.002327  0.099362  0.041718  0.013881  0.021056 -0.026850   \n",
       "...        ...       ...       ...       ...       ...       ...       ...   \n",
       "1200 -1.801038 -0.452928  0.209025  0.999271  1.421934 -0.077152  0.607635   \n",
       "1201  3.917603 -0.259301 -0.186970 -0.109120  2.038120  0.169717  1.160327   \n",
       "1202  0.260889 -0.002544  0.501429 -0.318443  0.169046 -0.113470  0.144034   \n",
       "1203  0.123937 -4.091718  2.110124 -0.879363  0.160446 -0.984232  0.424833   \n",
       "1204  0.186926 -1.507356  0.611089  0.720146  0.182411 -0.531415  0.214635   \n",
       "\n",
       "         796       1053      1055   ...         8095          12190  \\\n",
       "0    -0.000871  0.023070 -0.048202  ... -6.515215e-07 -1.720367e-07   \n",
       "1    -0.130507  0.143276 -0.079178  ... -7.575331e-07  5.155071e-07   \n",
       "2    -0.015194  0.005957  0.222385  ... -2.414427e-07 -3.924055e-07   \n",
       "3     0.088049  0.028545  0.016765  ... -2.872505e-07 -6.227539e-07   \n",
       "4    -0.037699 -0.037901  0.080707  ... -2.138322e-07 -5.177499e-07   \n",
       "...        ...       ...       ...  ...           ...           ...   \n",
       "1200 -1.764417 -2.478283 -0.525647  ...  2.206998e-07 -2.939378e-07   \n",
       "1201  0.033469 -0.956723 -0.624116  ... -4.734883e-08  2.210181e-07   \n",
       "1202 -0.074187  0.606155 -0.211735  ... -4.523290e-07 -3.130306e-06   \n",
       "1203  4.604614 -0.050999  0.500716  ... -1.043458e-06  2.839729e-07   \n",
       "1204  0.012937 -0.542798 -0.126891  ... -1.031036e-06  6.840901e-07   \n",
       "\n",
       "             8097          8098          12193         12194         16313  \\\n",
       "0    -8.527579e-07  2.527677e-07  2.103104e-07  3.293214e-07 -6.520820e-07   \n",
       "1    -2.496122e-07  5.929903e-07 -6.243171e-07  2.834713e-07 -1.397158e-06   \n",
       "2     4.488352e-07  4.692565e-07  2.697141e-07  4.754459e-07 -2.791003e-07   \n",
       "3    -1.343183e-06 -2.651809e-07  9.557136e-07  4.895669e-07 -4.541868e-07   \n",
       "4     2.224215e-07  2.691604e-07  6.470726e-07  4.887128e-07  3.295942e-07   \n",
       "...            ...           ...           ...           ...           ...   \n",
       "1200  3.880484e-07 -5.312995e-08  3.159912e-07  6.628397e-08 -2.067949e-06   \n",
       "1201  1.331272e-06 -2.110517e-08 -3.553560e-07 -3.815057e-07  6.356158e-07   \n",
       "1202  6.515847e-08  2.795850e-07  3.384745e-06  2.040372e-06 -7.138624e-09   \n",
       "1203 -1.589788e-07  9.560781e-07 -4.558069e-08 -3.602486e-07 -4.000236e-06   \n",
       "1204  6.087248e-08  5.212223e-07 -8.465177e-07 -3.007863e-07 -2.504748e-08   \n",
       "\n",
       "             16320         16323         8141   \n",
       "0    -4.234835e-07 -2.114034e-07 -8.425136e-07  \n",
       "1    -7.738172e-07  8.833731e-07 -5.069823e-07  \n",
       "2    -3.848954e-07  1.913400e-07 -6.010123e-08  \n",
       "3    -6.184251e-07  4.075648e-07  6.504983e-07  \n",
       "4     3.652303e-07 -4.095522e-07  6.816736e-07  \n",
       "...            ...           ...           ...  \n",
       "1200 -1.185941e-06  4.882841e-07 -8.483087e-07  \n",
       "1201  1.881516e-06 -1.362734e-06  1.462701e-06  \n",
       "1202  5.858101e-07 -1.477142e-06  2.308989e-07  \n",
       "1203 -2.719058e-06  2.370802e-06  5.870752e-07  \n",
       "1204 -3.854693e-07  3.768218e-08  4.853791e-08  \n",
       "\n",
       "[4728 rows x 2551 columns]"
      ]
     },
     "execution_count": 26,
     "metadata": {},
     "output_type": "execute_result"
    }
   ],
   "source": [
    "final_df = pd.concat([av_df, mv_df, pv_df, tv_df], axis =0 )\n",
    "final_df"
   ]
  },
  {
   "cell_type": "code",
   "execution_count": 27,
   "id": "9537d164",
   "metadata": {},
   "outputs": [],
   "source": [
    "final_df.to_csv( \"/Users/ecem/Desktop/phonocardiogram/data/wavelet5.csv\")"
   ]
  }
 ],
 "metadata": {
  "kernelspec": {
   "display_name": "Python 3 (ipykernel)",
   "language": "python",
   "name": "python3"
  },
  "language_info": {
   "codemirror_mode": {
    "name": "ipython",
    "version": 3
   },
   "file_extension": ".py",
   "mimetype": "text/x-python",
   "name": "python",
   "nbconvert_exporter": "python",
   "pygments_lexer": "ipython3",
   "version": "3.9.9"
  }
 },
 "nbformat": 4,
 "nbformat_minor": 5
}
