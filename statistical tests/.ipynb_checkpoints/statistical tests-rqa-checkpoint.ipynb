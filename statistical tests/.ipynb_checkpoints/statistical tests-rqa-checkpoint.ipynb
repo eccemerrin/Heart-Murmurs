{
 "cells": [
  {
   "cell_type": "code",
   "execution_count": 1,
   "id": "e232ae2f",
   "metadata": {},
   "outputs": [],
   "source": [
    "import pandas as pd \n",
    "from scipy.stats import mannwhitneyu\n",
    "from scipy import stats\n",
    "import numpy as np"
   ]
  },
  {
   "cell_type": "code",
   "execution_count": 2,
   "id": "52193d25",
   "metadata": {},
   "outputs": [],
   "source": [
    "AV_path =  \"/Users/ecem/Desktop/phonocardiogram/data/AV/present\"\n",
    "MV_path =  \"/Users/ecem/Desktop/phonocardiogram/data/MV/present\"\n",
    "PV_path =  \"/Users/ecem/Desktop/phonocardiogram/data/PV/present\"\n",
    "TV_path =  \"/Users/ecem/Desktop/phonocardiogram/data/TV/present\""
   ]
  },
  {
   "cell_type": "markdown",
   "id": "95a719e9",
   "metadata": {},
   "source": [
    "# Time domain features"
   ]
  },
  {
   "cell_type": "code",
   "execution_count": 3,
   "id": "7a9d66af",
   "metadata": {},
   "outputs": [],
   "source": [
    "av = np.load(AV_path + \"/rqa_AV.npy\", allow_pickle = True)\n",
    "mv = np.load(MV_path + \"/rqa_MV.npy\", allow_pickle = True)\n",
    "pv = np.load(PV_path + \"/rqa_PV.npy\", allow_pickle = True)\n",
    "tv = np.load(TV_path + \"/rqa_TV.npy\", allow_pickle = True)"
   ]
  },
  {
   "cell_type": "code",
   "execution_count": 4,
   "id": "dfd2f717",
   "metadata": {},
   "outputs": [
    {
     "data": {
      "text/plain": [
       "array([[2.        , 2.        , 2.        , ..., 2.84661316, 1.00736522,\n",
       "        0.99999988],\n",
       "       [2.        , 2.        , 2.        , ..., 0.        , 1.00000004,\n",
       "        0.99999996],\n",
       "       [2.        , 2.        , 2.        , ..., 0.        , 1.00000004,\n",
       "        0.99999996],\n",
       "       ...,\n",
       "       [2.        , 2.        , 2.        , ..., 4.60704989, 1.0022954 ,\n",
       "        1.00000004],\n",
       "       [2.        , 2.        , 2.        , ..., 4.50134384, 1.00757418,\n",
       "        1.00000012],\n",
       "       [2.        , 2.        , 2.        , ..., 4.83862133, 1.06432717,\n",
       "        1.00000055]])"
      ]
     },
     "execution_count": 4,
     "metadata": {},
     "output_type": "execute_result"
    }
   ],
   "source": [
    "av"
   ]
  },
  {
   "cell_type": "markdown",
   "id": "05fb94bb",
   "metadata": {},
   "source": [
    "### AV-MV"
   ]
  },
  {
   "cell_type": "code",
   "execution_count": 5,
   "id": "5ac23bb4",
   "metadata": {},
   "outputs": [],
   "source": [
    "test = mannwhitneyu(av, mv,\n",
    "                    use_continuity=False, alternative = 'two-sided')\n",
    "stats = pd.DataFrame(test[0])\n",
    "p = pd.DataFrame(test[1])\n"
   ]
  },
  {
   "cell_type": "code",
   "execution_count": 6,
   "id": "038c4bfb",
   "metadata": {},
   "outputs": [
    {
     "data": {
      "text/html": [
       "<style type=\"text/css\">\n",
       "#T_cbc24_row0_col15 {\n",
       "  background: pink;\n",
       "}\n",
       "</style>\n",
       "<table id=\"T_cbc24\">\n",
       "  <thead>\n",
       "    <tr>\n",
       "      <th class=\"blank level0\" >&nbsp;</th>\n",
       "      <th id=\"T_cbc24_level0_col0\" class=\"col_heading level0 col0\" >0</th>\n",
       "      <th id=\"T_cbc24_level0_col1\" class=\"col_heading level0 col1\" >1</th>\n",
       "      <th id=\"T_cbc24_level0_col2\" class=\"col_heading level0 col2\" >2</th>\n",
       "      <th id=\"T_cbc24_level0_col3\" class=\"col_heading level0 col3\" >3</th>\n",
       "      <th id=\"T_cbc24_level0_col4\" class=\"col_heading level0 col4\" >4</th>\n",
       "      <th id=\"T_cbc24_level0_col5\" class=\"col_heading level0 col5\" >5</th>\n",
       "      <th id=\"T_cbc24_level0_col6\" class=\"col_heading level0 col6\" >6</th>\n",
       "      <th id=\"T_cbc24_level0_col7\" class=\"col_heading level0 col7\" >7</th>\n",
       "      <th id=\"T_cbc24_level0_col8\" class=\"col_heading level0 col8\" >8</th>\n",
       "      <th id=\"T_cbc24_level0_col9\" class=\"col_heading level0 col9\" >9</th>\n",
       "      <th id=\"T_cbc24_level0_col10\" class=\"col_heading level0 col10\" >10</th>\n",
       "      <th id=\"T_cbc24_level0_col11\" class=\"col_heading level0 col11\" >11</th>\n",
       "      <th id=\"T_cbc24_level0_col12\" class=\"col_heading level0 col12\" >12</th>\n",
       "      <th id=\"T_cbc24_level0_col13\" class=\"col_heading level0 col13\" >13</th>\n",
       "      <th id=\"T_cbc24_level0_col14\" class=\"col_heading level0 col14\" >14</th>\n",
       "      <th id=\"T_cbc24_level0_col15\" class=\"col_heading level0 col15\" >15</th>\n",
       "      <th id=\"T_cbc24_level0_col16\" class=\"col_heading level0 col16\" >16</th>\n",
       "      <th id=\"T_cbc24_level0_col17\" class=\"col_heading level0 col17\" >17</th>\n",
       "    </tr>\n",
       "  </thead>\n",
       "  <tbody>\n",
       "    <tr>\n",
       "      <th id=\"T_cbc24_level0_row0\" class=\"row_heading level0 row0\" >0</th>\n",
       "      <td id=\"T_cbc24_row0_col0\" class=\"data row0 col0\" >nan</td>\n",
       "      <td id=\"T_cbc24_row0_col1\" class=\"data row0 col1\" >nan</td>\n",
       "      <td id=\"T_cbc24_row0_col2\" class=\"data row0 col2\" >nan</td>\n",
       "      <td id=\"T_cbc24_row0_col3\" class=\"data row0 col3\" >0.084054</td>\n",
       "      <td id=\"T_cbc24_row0_col4\" class=\"data row0 col4\" >0.090407</td>\n",
       "      <td id=\"T_cbc24_row0_col5\" class=\"data row0 col5\" >0.129059</td>\n",
       "      <td id=\"T_cbc24_row0_col6\" class=\"data row0 col6\" >nan</td>\n",
       "      <td id=\"T_cbc24_row0_col7\" class=\"data row0 col7\" >nan</td>\n",
       "      <td id=\"T_cbc24_row0_col8\" class=\"data row0 col8\" >0.113627</td>\n",
       "      <td id=\"T_cbc24_row0_col9\" class=\"data row0 col9\" >0.888277</td>\n",
       "      <td id=\"T_cbc24_row0_col10\" class=\"data row0 col10\" >0.126053</td>\n",
       "      <td id=\"T_cbc24_row0_col11\" class=\"data row0 col11\" >0.957997</td>\n",
       "      <td id=\"T_cbc24_row0_col12\" class=\"data row0 col12\" >0.170429</td>\n",
       "      <td id=\"T_cbc24_row0_col13\" class=\"data row0 col13\" >nan</td>\n",
       "      <td id=\"T_cbc24_row0_col14\" class=\"data row0 col14\" >0.168881</td>\n",
       "      <td id=\"T_cbc24_row0_col15\" class=\"data row0 col15\" >0.025243</td>\n",
       "      <td id=\"T_cbc24_row0_col16\" class=\"data row0 col16\" >0.085939</td>\n",
       "      <td id=\"T_cbc24_row0_col17\" class=\"data row0 col17\" >0.315266</td>\n",
       "    </tr>\n",
       "  </tbody>\n",
       "</table>\n"
      ],
      "text/plain": [
       "<pandas.io.formats.style.Styler at 0x1791355b0>"
      ]
     },
     "execution_count": 6,
     "metadata": {},
     "output_type": "execute_result"
    }
   ],
   "source": [
    "p.T.style.apply(lambda x: [\"background: pink\" if v < 0.05 else \"\" for v in x], axis = 1)"
   ]
  },
  {
   "cell_type": "code",
   "execution_count": 7,
   "id": "a3f26f1d",
   "metadata": {},
   "outputs": [
    {
     "data": {
      "text/plain": [
       "Int64Index([15], dtype='int64')"
      ]
     },
     "execution_count": 7,
     "metadata": {},
     "output_type": "execute_result"
    }
   ],
   "source": [
    "av_mv = p[(p < 0.05).any(axis=1)].index\n",
    "av_mv"
   ]
  },
  {
   "cell_type": "markdown",
   "id": "33b4bd95",
   "metadata": {},
   "source": [
    "### AV-PV"
   ]
  },
  {
   "cell_type": "code",
   "execution_count": 8,
   "id": "65fa9939",
   "metadata": {},
   "outputs": [
    {
     "name": "stdout",
     "output_type": "stream",
     "text": [
      "Int64Index([3, 4, 5, 8, 10, 12, 14, 15, 16, 17], dtype='int64')\n"
     ]
    }
   ],
   "source": [
    "test = mannwhitneyu(av, pv, use_continuity=False, alternative = 'two-sided')\n",
    "stats = pd.DataFrame(test[0])\n",
    "p = pd.DataFrame(test[1])\n",
    "\n",
    "av_pv = p[(p < 0.05).any(axis=1)].index\n",
    "\n",
    "print(av_pv)"
   ]
  },
  {
   "cell_type": "code",
   "execution_count": 9,
   "id": "f7e3c5a5",
   "metadata": {},
   "outputs": [
    {
     "data": {
      "text/html": [
       "<style type=\"text/css\">\n",
       "#T_52dd0_row0_col3, #T_52dd0_row0_col4, #T_52dd0_row0_col5, #T_52dd0_row0_col8, #T_52dd0_row0_col10, #T_52dd0_row0_col12, #T_52dd0_row0_col14, #T_52dd0_row0_col15, #T_52dd0_row0_col16, #T_52dd0_row0_col17 {\n",
       "  background: pink;\n",
       "}\n",
       "</style>\n",
       "<table id=\"T_52dd0\">\n",
       "  <thead>\n",
       "    <tr>\n",
       "      <th class=\"blank level0\" >&nbsp;</th>\n",
       "      <th id=\"T_52dd0_level0_col0\" class=\"col_heading level0 col0\" >0</th>\n",
       "      <th id=\"T_52dd0_level0_col1\" class=\"col_heading level0 col1\" >1</th>\n",
       "      <th id=\"T_52dd0_level0_col2\" class=\"col_heading level0 col2\" >2</th>\n",
       "      <th id=\"T_52dd0_level0_col3\" class=\"col_heading level0 col3\" >3</th>\n",
       "      <th id=\"T_52dd0_level0_col4\" class=\"col_heading level0 col4\" >4</th>\n",
       "      <th id=\"T_52dd0_level0_col5\" class=\"col_heading level0 col5\" >5</th>\n",
       "      <th id=\"T_52dd0_level0_col6\" class=\"col_heading level0 col6\" >6</th>\n",
       "      <th id=\"T_52dd0_level0_col7\" class=\"col_heading level0 col7\" >7</th>\n",
       "      <th id=\"T_52dd0_level0_col8\" class=\"col_heading level0 col8\" >8</th>\n",
       "      <th id=\"T_52dd0_level0_col9\" class=\"col_heading level0 col9\" >9</th>\n",
       "      <th id=\"T_52dd0_level0_col10\" class=\"col_heading level0 col10\" >10</th>\n",
       "      <th id=\"T_52dd0_level0_col11\" class=\"col_heading level0 col11\" >11</th>\n",
       "      <th id=\"T_52dd0_level0_col12\" class=\"col_heading level0 col12\" >12</th>\n",
       "      <th id=\"T_52dd0_level0_col13\" class=\"col_heading level0 col13\" >13</th>\n",
       "      <th id=\"T_52dd0_level0_col14\" class=\"col_heading level0 col14\" >14</th>\n",
       "      <th id=\"T_52dd0_level0_col15\" class=\"col_heading level0 col15\" >15</th>\n",
       "      <th id=\"T_52dd0_level0_col16\" class=\"col_heading level0 col16\" >16</th>\n",
       "      <th id=\"T_52dd0_level0_col17\" class=\"col_heading level0 col17\" >17</th>\n",
       "    </tr>\n",
       "  </thead>\n",
       "  <tbody>\n",
       "    <tr>\n",
       "      <th id=\"T_52dd0_level0_row0\" class=\"row_heading level0 row0\" >0</th>\n",
       "      <td id=\"T_52dd0_row0_col0\" class=\"data row0 col0\" >nan</td>\n",
       "      <td id=\"T_52dd0_row0_col1\" class=\"data row0 col1\" >nan</td>\n",
       "      <td id=\"T_52dd0_row0_col2\" class=\"data row0 col2\" >nan</td>\n",
       "      <td id=\"T_52dd0_row0_col3\" class=\"data row0 col3\" >0.000389</td>\n",
       "      <td id=\"T_52dd0_row0_col4\" class=\"data row0 col4\" >0.001512</td>\n",
       "      <td id=\"T_52dd0_row0_col5\" class=\"data row0 col5\" >0.001453</td>\n",
       "      <td id=\"T_52dd0_row0_col6\" class=\"data row0 col6\" >nan</td>\n",
       "      <td id=\"T_52dd0_row0_col7\" class=\"data row0 col7\" >nan</td>\n",
       "      <td id=\"T_52dd0_row0_col8\" class=\"data row0 col8\" >0.018592</td>\n",
       "      <td id=\"T_52dd0_row0_col9\" class=\"data row0 col9\" >0.582428</td>\n",
       "      <td id=\"T_52dd0_row0_col10\" class=\"data row0 col10\" >0.001324</td>\n",
       "      <td id=\"T_52dd0_row0_col11\" class=\"data row0 col11\" >0.132039</td>\n",
       "      <td id=\"T_52dd0_row0_col12\" class=\"data row0 col12\" >0.000002</td>\n",
       "      <td id=\"T_52dd0_row0_col13\" class=\"data row0 col13\" >nan</td>\n",
       "      <td id=\"T_52dd0_row0_col14\" class=\"data row0 col14\" >0.018199</td>\n",
       "      <td id=\"T_52dd0_row0_col15\" class=\"data row0 col15\" >0.000000</td>\n",
       "      <td id=\"T_52dd0_row0_col16\" class=\"data row0 col16\" >0.000509</td>\n",
       "      <td id=\"T_52dd0_row0_col17\" class=\"data row0 col17\" >0.002806</td>\n",
       "    </tr>\n",
       "  </tbody>\n",
       "</table>\n"
      ],
      "text/plain": [
       "<pandas.io.formats.style.Styler at 0x17a714c10>"
      ]
     },
     "execution_count": 9,
     "metadata": {},
     "output_type": "execute_result"
    }
   ],
   "source": [
    "p.T.style.apply(lambda x: [\"background: pink\" if v < 0.05 else \"\" for v in x], axis = 1)"
   ]
  },
  {
   "cell_type": "markdown",
   "id": "ed4b50b4",
   "metadata": {},
   "source": [
    "### AV-TV"
   ]
  },
  {
   "cell_type": "code",
   "execution_count": 10,
   "id": "ddb6a660",
   "metadata": {},
   "outputs": [
    {
     "name": "stdout",
     "output_type": "stream",
     "text": [
      "Int64Index([3, 4, 5, 8, 9, 10, 11, 12, 14, 15, 16], dtype='int64')\n"
     ]
    }
   ],
   "source": [
    "test = mannwhitneyu(av, tv, use_continuity=False, alternative = 'two-sided')\n",
    "stats = pd.DataFrame(test[0])\n",
    "p = pd.DataFrame(test[1])\n",
    "\n",
    "p.T.style.apply(lambda x: [\"background: pink\" if v < 0.05 else \"\" for v in x], axis = 1)\n",
    "\n",
    "av_tv = p[(p < 0.05).any(axis=1)].index\n",
    "\n",
    "print(av_tv)"
   ]
  },
  {
   "cell_type": "code",
   "execution_count": 11,
   "id": "6c6e4583",
   "metadata": {},
   "outputs": [
    {
     "data": {
      "text/html": [
       "<style type=\"text/css\">\n",
       "#T_d101c_row0_col3, #T_d101c_row0_col4, #T_d101c_row0_col5, #T_d101c_row0_col8, #T_d101c_row0_col9, #T_d101c_row0_col10, #T_d101c_row0_col11, #T_d101c_row0_col12, #T_d101c_row0_col14, #T_d101c_row0_col15, #T_d101c_row0_col16 {\n",
       "  background: pink;\n",
       "}\n",
       "</style>\n",
       "<table id=\"T_d101c\">\n",
       "  <thead>\n",
       "    <tr>\n",
       "      <th class=\"blank level0\" >&nbsp;</th>\n",
       "      <th id=\"T_d101c_level0_col0\" class=\"col_heading level0 col0\" >0</th>\n",
       "      <th id=\"T_d101c_level0_col1\" class=\"col_heading level0 col1\" >1</th>\n",
       "      <th id=\"T_d101c_level0_col2\" class=\"col_heading level0 col2\" >2</th>\n",
       "      <th id=\"T_d101c_level0_col3\" class=\"col_heading level0 col3\" >3</th>\n",
       "      <th id=\"T_d101c_level0_col4\" class=\"col_heading level0 col4\" >4</th>\n",
       "      <th id=\"T_d101c_level0_col5\" class=\"col_heading level0 col5\" >5</th>\n",
       "      <th id=\"T_d101c_level0_col6\" class=\"col_heading level0 col6\" >6</th>\n",
       "      <th id=\"T_d101c_level0_col7\" class=\"col_heading level0 col7\" >7</th>\n",
       "      <th id=\"T_d101c_level0_col8\" class=\"col_heading level0 col8\" >8</th>\n",
       "      <th id=\"T_d101c_level0_col9\" class=\"col_heading level0 col9\" >9</th>\n",
       "      <th id=\"T_d101c_level0_col10\" class=\"col_heading level0 col10\" >10</th>\n",
       "      <th id=\"T_d101c_level0_col11\" class=\"col_heading level0 col11\" >11</th>\n",
       "      <th id=\"T_d101c_level0_col12\" class=\"col_heading level0 col12\" >12</th>\n",
       "      <th id=\"T_d101c_level0_col13\" class=\"col_heading level0 col13\" >13</th>\n",
       "      <th id=\"T_d101c_level0_col14\" class=\"col_heading level0 col14\" >14</th>\n",
       "      <th id=\"T_d101c_level0_col15\" class=\"col_heading level0 col15\" >15</th>\n",
       "      <th id=\"T_d101c_level0_col16\" class=\"col_heading level0 col16\" >16</th>\n",
       "      <th id=\"T_d101c_level0_col17\" class=\"col_heading level0 col17\" >17</th>\n",
       "    </tr>\n",
       "  </thead>\n",
       "  <tbody>\n",
       "    <tr>\n",
       "      <th id=\"T_d101c_level0_row0\" class=\"row_heading level0 row0\" >0</th>\n",
       "      <td id=\"T_d101c_row0_col0\" class=\"data row0 col0\" >nan</td>\n",
       "      <td id=\"T_d101c_row0_col1\" class=\"data row0 col1\" >nan</td>\n",
       "      <td id=\"T_d101c_row0_col2\" class=\"data row0 col2\" >nan</td>\n",
       "      <td id=\"T_d101c_row0_col3\" class=\"data row0 col3\" >0.000001</td>\n",
       "      <td id=\"T_d101c_row0_col4\" class=\"data row0 col4\" >0.000018</td>\n",
       "      <td id=\"T_d101c_row0_col5\" class=\"data row0 col5\" >0.000005</td>\n",
       "      <td id=\"T_d101c_row0_col6\" class=\"data row0 col6\" >nan</td>\n",
       "      <td id=\"T_d101c_row0_col7\" class=\"data row0 col7\" >nan</td>\n",
       "      <td id=\"T_d101c_row0_col8\" class=\"data row0 col8\" >0.001113</td>\n",
       "      <td id=\"T_d101c_row0_col9\" class=\"data row0 col9\" >0.000018</td>\n",
       "      <td id=\"T_d101c_row0_col10\" class=\"data row0 col10\" >0.000004</td>\n",
       "      <td id=\"T_d101c_row0_col11\" class=\"data row0 col11\" >0.000070</td>\n",
       "      <td id=\"T_d101c_row0_col12\" class=\"data row0 col12\" >0.000000</td>\n",
       "      <td id=\"T_d101c_row0_col13\" class=\"data row0 col13\" >nan</td>\n",
       "      <td id=\"T_d101c_row0_col14\" class=\"data row0 col14\" >0.000464</td>\n",
       "      <td id=\"T_d101c_row0_col15\" class=\"data row0 col15\" >0.000000</td>\n",
       "      <td id=\"T_d101c_row0_col16\" class=\"data row0 col16\" >0.000001</td>\n",
       "      <td id=\"T_d101c_row0_col17\" class=\"data row0 col17\" >0.408226</td>\n",
       "    </tr>\n",
       "  </tbody>\n",
       "</table>\n"
      ],
      "text/plain": [
       "<pandas.io.formats.style.Styler at 0x17a714a90>"
      ]
     },
     "execution_count": 11,
     "metadata": {},
     "output_type": "execute_result"
    }
   ],
   "source": [
    "p.T.style.apply(lambda x: [\"background: pink\" if v < 0.05 else \"\" for v in x], axis = 1)"
   ]
  },
  {
   "cell_type": "code",
   "execution_count": 12,
   "id": "ab699e89",
   "metadata": {},
   "outputs": [
    {
     "data": {
      "text/plain": [
       "[15]"
      ]
     },
     "execution_count": 12,
     "metadata": {},
     "output_type": "execute_result"
    }
   ],
   "source": [
    "list(set(av_mv) & set(av_pv) & set(av_tv) )"
   ]
  },
  {
   "cell_type": "markdown",
   "id": "ddf93e49",
   "metadata": {},
   "source": [
    "### MV-PV"
   ]
  },
  {
   "cell_type": "code",
   "execution_count": 13,
   "id": "3660f1dc",
   "metadata": {},
   "outputs": [
    {
     "name": "stdout",
     "output_type": "stream",
     "text": [
      "Int64Index([3, 4, 5, 8, 10, 12, 14, 15, 16, 17], dtype='int64')\n"
     ]
    }
   ],
   "source": [
    "test = mannwhitneyu(mv, pv, use_continuity=False, alternative = 'two-sided')\n",
    "stats = pd.DataFrame(test[0])\n",
    "p = pd.DataFrame(test[1])\n",
    "\n",
    "\n",
    "mv_pv = p[(p < 0.05).any(axis=1)].index\n",
    "\n",
    "print(mv_pv)"
   ]
  },
  {
   "cell_type": "code",
   "execution_count": 14,
   "id": "6c7fc0f8",
   "metadata": {},
   "outputs": [
    {
     "data": {
      "text/html": [
       "<style type=\"text/css\">\n",
       "#T_33716_row0_col3, #T_33716_row0_col4, #T_33716_row0_col5, #T_33716_row0_col8, #T_33716_row0_col10, #T_33716_row0_col12, #T_33716_row0_col14, #T_33716_row0_col15, #T_33716_row0_col16, #T_33716_row0_col17 {\n",
       "  background: pink;\n",
       "}\n",
       "</style>\n",
       "<table id=\"T_33716\">\n",
       "  <thead>\n",
       "    <tr>\n",
       "      <th class=\"blank level0\" >&nbsp;</th>\n",
       "      <th id=\"T_33716_level0_col0\" class=\"col_heading level0 col0\" >0</th>\n",
       "      <th id=\"T_33716_level0_col1\" class=\"col_heading level0 col1\" >1</th>\n",
       "      <th id=\"T_33716_level0_col2\" class=\"col_heading level0 col2\" >2</th>\n",
       "      <th id=\"T_33716_level0_col3\" class=\"col_heading level0 col3\" >3</th>\n",
       "      <th id=\"T_33716_level0_col4\" class=\"col_heading level0 col4\" >4</th>\n",
       "      <th id=\"T_33716_level0_col5\" class=\"col_heading level0 col5\" >5</th>\n",
       "      <th id=\"T_33716_level0_col6\" class=\"col_heading level0 col6\" >6</th>\n",
       "      <th id=\"T_33716_level0_col7\" class=\"col_heading level0 col7\" >7</th>\n",
       "      <th id=\"T_33716_level0_col8\" class=\"col_heading level0 col8\" >8</th>\n",
       "      <th id=\"T_33716_level0_col9\" class=\"col_heading level0 col9\" >9</th>\n",
       "      <th id=\"T_33716_level0_col10\" class=\"col_heading level0 col10\" >10</th>\n",
       "      <th id=\"T_33716_level0_col11\" class=\"col_heading level0 col11\" >11</th>\n",
       "      <th id=\"T_33716_level0_col12\" class=\"col_heading level0 col12\" >12</th>\n",
       "      <th id=\"T_33716_level0_col13\" class=\"col_heading level0 col13\" >13</th>\n",
       "      <th id=\"T_33716_level0_col14\" class=\"col_heading level0 col14\" >14</th>\n",
       "      <th id=\"T_33716_level0_col15\" class=\"col_heading level0 col15\" >15</th>\n",
       "      <th id=\"T_33716_level0_col16\" class=\"col_heading level0 col16\" >16</th>\n",
       "      <th id=\"T_33716_level0_col17\" class=\"col_heading level0 col17\" >17</th>\n",
       "    </tr>\n",
       "  </thead>\n",
       "  <tbody>\n",
       "    <tr>\n",
       "      <th id=\"T_33716_level0_row0\" class=\"row_heading level0 row0\" >0</th>\n",
       "      <td id=\"T_33716_row0_col0\" class=\"data row0 col0\" >nan</td>\n",
       "      <td id=\"T_33716_row0_col1\" class=\"data row0 col1\" >nan</td>\n",
       "      <td id=\"T_33716_row0_col2\" class=\"data row0 col2\" >nan</td>\n",
       "      <td id=\"T_33716_row0_col3\" class=\"data row0 col3\" >0.000000</td>\n",
       "      <td id=\"T_33716_row0_col4\" class=\"data row0 col4\" >0.000001</td>\n",
       "      <td id=\"T_33716_row0_col5\" class=\"data row0 col5\" >0.000005</td>\n",
       "      <td id=\"T_33716_row0_col6\" class=\"data row0 col6\" >nan</td>\n",
       "      <td id=\"T_33716_row0_col7\" class=\"data row0 col7\" >nan</td>\n",
       "      <td id=\"T_33716_row0_col8\" class=\"data row0 col8\" >0.000154</td>\n",
       "      <td id=\"T_33716_row0_col9\" class=\"data row0 col9\" >0.474726</td>\n",
       "      <td id=\"T_33716_row0_col10\" class=\"data row0 col10\" >0.000004</td>\n",
       "      <td id=\"T_33716_row0_col11\" class=\"data row0 col11\" >0.161503</td>\n",
       "      <td id=\"T_33716_row0_col12\" class=\"data row0 col12\" >0.000000</td>\n",
       "      <td id=\"T_33716_row0_col13\" class=\"data row0 col13\" >nan</td>\n",
       "      <td id=\"T_33716_row0_col14\" class=\"data row0 col14\" >0.000397</td>\n",
       "      <td id=\"T_33716_row0_col15\" class=\"data row0 col15\" >0.000000</td>\n",
       "      <td id=\"T_33716_row0_col16\" class=\"data row0 col16\" >0.000001</td>\n",
       "      <td id=\"T_33716_row0_col17\" class=\"data row0 col17\" >0.000097</td>\n",
       "    </tr>\n",
       "  </tbody>\n",
       "</table>\n"
      ],
      "text/plain": [
       "<pandas.io.formats.style.Styler at 0x17a7980d0>"
      ]
     },
     "execution_count": 14,
     "metadata": {},
     "output_type": "execute_result"
    }
   ],
   "source": [
    "p.T.style.apply(lambda x: [\"background: pink\" if v < 0.05 else \"\" for v in x], axis = 1)"
   ]
  },
  {
   "cell_type": "markdown",
   "id": "e16b32b9",
   "metadata": {},
   "source": [
    "### MV_TV"
   ]
  },
  {
   "cell_type": "code",
   "execution_count": 15,
   "id": "d0562c0d",
   "metadata": {},
   "outputs": [
    {
     "name": "stdout",
     "output_type": "stream",
     "text": [
      "Int64Index([3, 4, 5, 8, 9, 10, 11, 12, 14, 15, 16], dtype='int64')\n"
     ]
    }
   ],
   "source": [
    "test = mannwhitneyu(mv, tv, use_continuity=False, alternative = 'two-sided')\n",
    "stats = pd.DataFrame(test[0])\n",
    "p = pd.DataFrame(test[1])\n",
    "\n",
    "mv_tv = p[(p < 0.05).any(axis=1)].index\n",
    "\n",
    "print(mv_tv)"
   ]
  },
  {
   "cell_type": "code",
   "execution_count": 16,
   "id": "6a2fe28d",
   "metadata": {},
   "outputs": [
    {
     "data": {
      "text/html": [
       "<style type=\"text/css\">\n",
       "#T_c4895_row0_col3, #T_c4895_row0_col4, #T_c4895_row0_col5, #T_c4895_row0_col8, #T_c4895_row0_col9, #T_c4895_row0_col10, #T_c4895_row0_col11, #T_c4895_row0_col12, #T_c4895_row0_col14, #T_c4895_row0_col15, #T_c4895_row0_col16 {\n",
       "  background: pink;\n",
       "}\n",
       "</style>\n",
       "<table id=\"T_c4895\">\n",
       "  <thead>\n",
       "    <tr>\n",
       "      <th class=\"blank level0\" >&nbsp;</th>\n",
       "      <th id=\"T_c4895_level0_col0\" class=\"col_heading level0 col0\" >0</th>\n",
       "      <th id=\"T_c4895_level0_col1\" class=\"col_heading level0 col1\" >1</th>\n",
       "      <th id=\"T_c4895_level0_col2\" class=\"col_heading level0 col2\" >2</th>\n",
       "      <th id=\"T_c4895_level0_col3\" class=\"col_heading level0 col3\" >3</th>\n",
       "      <th id=\"T_c4895_level0_col4\" class=\"col_heading level0 col4\" >4</th>\n",
       "      <th id=\"T_c4895_level0_col5\" class=\"col_heading level0 col5\" >5</th>\n",
       "      <th id=\"T_c4895_level0_col6\" class=\"col_heading level0 col6\" >6</th>\n",
       "      <th id=\"T_c4895_level0_col7\" class=\"col_heading level0 col7\" >7</th>\n",
       "      <th id=\"T_c4895_level0_col8\" class=\"col_heading level0 col8\" >8</th>\n",
       "      <th id=\"T_c4895_level0_col9\" class=\"col_heading level0 col9\" >9</th>\n",
       "      <th id=\"T_c4895_level0_col10\" class=\"col_heading level0 col10\" >10</th>\n",
       "      <th id=\"T_c4895_level0_col11\" class=\"col_heading level0 col11\" >11</th>\n",
       "      <th id=\"T_c4895_level0_col12\" class=\"col_heading level0 col12\" >12</th>\n",
       "      <th id=\"T_c4895_level0_col13\" class=\"col_heading level0 col13\" >13</th>\n",
       "      <th id=\"T_c4895_level0_col14\" class=\"col_heading level0 col14\" >14</th>\n",
       "      <th id=\"T_c4895_level0_col15\" class=\"col_heading level0 col15\" >15</th>\n",
       "      <th id=\"T_c4895_level0_col16\" class=\"col_heading level0 col16\" >16</th>\n",
       "      <th id=\"T_c4895_level0_col17\" class=\"col_heading level0 col17\" >17</th>\n",
       "    </tr>\n",
       "  </thead>\n",
       "  <tbody>\n",
       "    <tr>\n",
       "      <th id=\"T_c4895_level0_row0\" class=\"row_heading level0 row0\" >0</th>\n",
       "      <td id=\"T_c4895_row0_col0\" class=\"data row0 col0\" >nan</td>\n",
       "      <td id=\"T_c4895_row0_col1\" class=\"data row0 col1\" >nan</td>\n",
       "      <td id=\"T_c4895_row0_col2\" class=\"data row0 col2\" >nan</td>\n",
       "      <td id=\"T_c4895_row0_col3\" class=\"data row0 col3\" >0.000000</td>\n",
       "      <td id=\"T_c4895_row0_col4\" class=\"data row0 col4\" >0.000000</td>\n",
       "      <td id=\"T_c4895_row0_col5\" class=\"data row0 col5\" >0.000000</td>\n",
       "      <td id=\"T_c4895_row0_col6\" class=\"data row0 col6\" >nan</td>\n",
       "      <td id=\"T_c4895_row0_col7\" class=\"data row0 col7\" >nan</td>\n",
       "      <td id=\"T_c4895_row0_col8\" class=\"data row0 col8\" >0.000004</td>\n",
       "      <td id=\"T_c4895_row0_col9\" class=\"data row0 col9\" >0.000010</td>\n",
       "      <td id=\"T_c4895_row0_col10\" class=\"data row0 col10\" >0.000000</td>\n",
       "      <td id=\"T_c4895_row0_col11\" class=\"data row0 col11\" >0.000148</td>\n",
       "      <td id=\"T_c4895_row0_col12\" class=\"data row0 col12\" >0.000000</td>\n",
       "      <td id=\"T_c4895_row0_col13\" class=\"data row0 col13\" >nan</td>\n",
       "      <td id=\"T_c4895_row0_col14\" class=\"data row0 col14\" >0.000003</td>\n",
       "      <td id=\"T_c4895_row0_col15\" class=\"data row0 col15\" >0.000000</td>\n",
       "      <td id=\"T_c4895_row0_col16\" class=\"data row0 col16\" >0.000000</td>\n",
       "      <td id=\"T_c4895_row0_col17\" class=\"data row0 col17\" >0.105924</td>\n",
       "    </tr>\n",
       "  </tbody>\n",
       "</table>\n"
      ],
      "text/plain": [
       "<pandas.io.formats.style.Styler at 0x17a798b20>"
      ]
     },
     "execution_count": 16,
     "metadata": {},
     "output_type": "execute_result"
    }
   ],
   "source": [
    "p.T.style.apply(lambda x: [\"background: pink\" if v < 0.05 else \"\" for v in x], axis = 1)"
   ]
  },
  {
   "cell_type": "markdown",
   "id": "b4ef6458",
   "metadata": {},
   "source": [
    "### PV-TV"
   ]
  },
  {
   "cell_type": "code",
   "execution_count": 17,
   "id": "3cc0e717",
   "metadata": {},
   "outputs": [
    {
     "name": "stdout",
     "output_type": "stream",
     "text": [
      "Int64Index([9, 11, 12, 14], dtype='int64')\n"
     ]
    }
   ],
   "source": [
    "test = mannwhitneyu(pv, tv, use_continuity=False, alternative = 'two-sided')\n",
    "stats = pd.DataFrame(test[0])\n",
    "p = pd.DataFrame(test[1])\n",
    "\n",
    "pv_tv = p[(p < 0.05).any(axis=1)].index\n",
    "\n",
    "print(pv_tv)"
   ]
  },
  {
   "cell_type": "code",
   "execution_count": 18,
   "id": "b826ace6",
   "metadata": {},
   "outputs": [
    {
     "data": {
      "text/html": [
       "<style type=\"text/css\">\n",
       "#T_4ec96_row0_col9, #T_4ec96_row0_col11, #T_4ec96_row0_col12, #T_4ec96_row0_col14 {\n",
       "  background: pink;\n",
       "}\n",
       "</style>\n",
       "<table id=\"T_4ec96\">\n",
       "  <thead>\n",
       "    <tr>\n",
       "      <th class=\"blank level0\" >&nbsp;</th>\n",
       "      <th id=\"T_4ec96_level0_col0\" class=\"col_heading level0 col0\" >0</th>\n",
       "      <th id=\"T_4ec96_level0_col1\" class=\"col_heading level0 col1\" >1</th>\n",
       "      <th id=\"T_4ec96_level0_col2\" class=\"col_heading level0 col2\" >2</th>\n",
       "      <th id=\"T_4ec96_level0_col3\" class=\"col_heading level0 col3\" >3</th>\n",
       "      <th id=\"T_4ec96_level0_col4\" class=\"col_heading level0 col4\" >4</th>\n",
       "      <th id=\"T_4ec96_level0_col5\" class=\"col_heading level0 col5\" >5</th>\n",
       "      <th id=\"T_4ec96_level0_col6\" class=\"col_heading level0 col6\" >6</th>\n",
       "      <th id=\"T_4ec96_level0_col7\" class=\"col_heading level0 col7\" >7</th>\n",
       "      <th id=\"T_4ec96_level0_col8\" class=\"col_heading level0 col8\" >8</th>\n",
       "      <th id=\"T_4ec96_level0_col9\" class=\"col_heading level0 col9\" >9</th>\n",
       "      <th id=\"T_4ec96_level0_col10\" class=\"col_heading level0 col10\" >10</th>\n",
       "      <th id=\"T_4ec96_level0_col11\" class=\"col_heading level0 col11\" >11</th>\n",
       "      <th id=\"T_4ec96_level0_col12\" class=\"col_heading level0 col12\" >12</th>\n",
       "      <th id=\"T_4ec96_level0_col13\" class=\"col_heading level0 col13\" >13</th>\n",
       "      <th id=\"T_4ec96_level0_col14\" class=\"col_heading level0 col14\" >14</th>\n",
       "      <th id=\"T_4ec96_level0_col15\" class=\"col_heading level0 col15\" >15</th>\n",
       "      <th id=\"T_4ec96_level0_col16\" class=\"col_heading level0 col16\" >16</th>\n",
       "      <th id=\"T_4ec96_level0_col17\" class=\"col_heading level0 col17\" >17</th>\n",
       "    </tr>\n",
       "  </thead>\n",
       "  <tbody>\n",
       "    <tr>\n",
       "      <th id=\"T_4ec96_level0_row0\" class=\"row_heading level0 row0\" >0</th>\n",
       "      <td id=\"T_4ec96_row0_col0\" class=\"data row0 col0\" >nan</td>\n",
       "      <td id=\"T_4ec96_row0_col1\" class=\"data row0 col1\" >nan</td>\n",
       "      <td id=\"T_4ec96_row0_col2\" class=\"data row0 col2\" >nan</td>\n",
       "      <td id=\"T_4ec96_row0_col3\" class=\"data row0 col3\" >0.066574</td>\n",
       "      <td id=\"T_4ec96_row0_col4\" class=\"data row0 col4\" >0.162575</td>\n",
       "      <td id=\"T_4ec96_row0_col5\" class=\"data row0 col5\" >0.056678</td>\n",
       "      <td id=\"T_4ec96_row0_col6\" class=\"data row0 col6\" >nan</td>\n",
       "      <td id=\"T_4ec96_row0_col7\" class=\"data row0 col7\" >nan</td>\n",
       "      <td id=\"T_4ec96_row0_col8\" class=\"data row0 col8\" >0.135997</td>\n",
       "      <td id=\"T_4ec96_row0_col9\" class=\"data row0 col9\" >0.000258</td>\n",
       "      <td id=\"T_4ec96_row0_col10\" class=\"data row0 col10\" >0.050811</td>\n",
       "      <td id=\"T_4ec96_row0_col11\" class=\"data row0 col11\" >0.023512</td>\n",
       "      <td id=\"T_4ec96_row0_col12\" class=\"data row0 col12\" >0.005199</td>\n",
       "      <td id=\"T_4ec96_row0_col13\" class=\"data row0 col13\" >nan</td>\n",
       "      <td id=\"T_4ec96_row0_col14\" class=\"data row0 col14\" >0.044701</td>\n",
       "      <td id=\"T_4ec96_row0_col15\" class=\"data row0 col15\" >0.917943</td>\n",
       "      <td id=\"T_4ec96_row0_col16\" class=\"data row0 col16\" >0.060866</td>\n",
       "      <td id=\"T_4ec96_row0_col17\" class=\"data row0 col17\" >0.065624</td>\n",
       "    </tr>\n",
       "  </tbody>\n",
       "</table>\n"
      ],
      "text/plain": [
       "<pandas.io.formats.style.Styler at 0x179135d30>"
      ]
     },
     "execution_count": 18,
     "metadata": {},
     "output_type": "execute_result"
    }
   ],
   "source": [
    "p.T.style.apply(lambda x: [\"background: pink\" if v < 0.05 else \"\" for v in x], axis = 1)"
   ]
  },
  {
   "cell_type": "code",
   "execution_count": 19,
   "id": "32a2a4a7",
   "metadata": {},
   "outputs": [],
   "source": [
    "columns = [\"min_diagonal_line_length\", \"min_vertical_line_length\", \"min_white_vertical_line_length\",\n",
    "           \"recurrence_rate\",\"determinism\",\"average_diagonal_line\",\"longest_diagonal_line\",\"divergence\",\n",
    "           \"entropy_diagonal_lines\", \"laminarity\", \"trapping_time\", \"longest_vertical_line\", \n",
    "           \"entropy_vertical_lines\", \"average_white_vertical_line\", \"longest_white_vertical_line\", \n",
    "           \"entropy_white_vertical_lines\", \"ratio_determinism_recurrence_rate\", \"ratio_laminarity_determinism \"]"
   ]
  },
  {
   "cell_type": "code",
   "execution_count": 20,
   "id": "1daa1998",
   "metadata": {},
   "outputs": [],
   "source": [
    "df_av = pd.DataFrame(av, columns =columns )\n",
    "df_mv = pd.DataFrame(mv, columns =columns )\n",
    "df_pv = pd.DataFrame(pv, columns =columns )\n",
    "df_tv = pd.DataFrame(tv, columns =columns )\n",
    "\n",
    "\n"
   ]
  },
  {
   "cell_type": "code",
   "execution_count": 21,
   "id": "1c075a7d",
   "metadata": {},
   "outputs": [
    {
     "data": {
      "text/html": [
       "<div>\n",
       "<style scoped>\n",
       "    .dataframe tbody tr th:only-of-type {\n",
       "        vertical-align: middle;\n",
       "    }\n",
       "\n",
       "    .dataframe tbody tr th {\n",
       "        vertical-align: top;\n",
       "    }\n",
       "\n",
       "    .dataframe thead th {\n",
       "        text-align: right;\n",
       "    }\n",
       "</style>\n",
       "<table border=\"1\" class=\"dataframe\">\n",
       "  <thead>\n",
       "    <tr style=\"text-align: right;\">\n",
       "      <th></th>\n",
       "      <th>min_diagonal_line_length</th>\n",
       "      <th>min_vertical_line_length</th>\n",
       "      <th>min_white_vertical_line_length</th>\n",
       "      <th>recurrence_rate</th>\n",
       "      <th>determinism</th>\n",
       "      <th>average_diagonal_line</th>\n",
       "      <th>longest_diagonal_line</th>\n",
       "      <th>divergence</th>\n",
       "      <th>entropy_diagonal_lines</th>\n",
       "      <th>laminarity</th>\n",
       "      <th>trapping_time</th>\n",
       "      <th>longest_vertical_line</th>\n",
       "      <th>entropy_vertical_lines</th>\n",
       "      <th>average_white_vertical_line</th>\n",
       "      <th>longest_white_vertical_line</th>\n",
       "      <th>entropy_white_vertical_lines</th>\n",
       "      <th>ratio_determinism_recurrence_rate</th>\n",
       "      <th>ratio_laminarity_determinism</th>\n",
       "    </tr>\n",
       "  </thead>\n",
       "  <tbody>\n",
       "    <tr>\n",
       "      <th>0</th>\n",
       "      <td>2.0</td>\n",
       "      <td>2.0</td>\n",
       "      <td>2.0</td>\n",
       "      <td>0.992689</td>\n",
       "      <td>1.0</td>\n",
       "      <td>1119.932797</td>\n",
       "      <td>39997.0</td>\n",
       "      <td>0.000025</td>\n",
       "      <td>4.925425</td>\n",
       "      <td>1.0</td>\n",
       "      <td>2110.97942</td>\n",
       "      <td>25686.0</td>\n",
       "      <td>4.039169</td>\n",
       "      <td>16.757784</td>\n",
       "      <td>25786.0</td>\n",
       "      <td>2.846613</td>\n",
       "      <td>1.007365</td>\n",
       "      <td>1.0</td>\n",
       "    </tr>\n",
       "    <tr>\n",
       "      <th>1</th>\n",
       "      <td>2.0</td>\n",
       "      <td>2.0</td>\n",
       "      <td>2.0</td>\n",
       "      <td>1.000000</td>\n",
       "      <td>1.0</td>\n",
       "      <td>19999.500750</td>\n",
       "      <td>39997.0</td>\n",
       "      <td>0.000025</td>\n",
       "      <td>10.596535</td>\n",
       "      <td>1.0</td>\n",
       "      <td>39997.99990</td>\n",
       "      <td>39998.0</td>\n",
       "      <td>0.000000</td>\n",
       "      <td>NaN</td>\n",
       "      <td>0.0</td>\n",
       "      <td>0.000000</td>\n",
       "      <td>1.000000</td>\n",
       "      <td>1.0</td>\n",
       "    </tr>\n",
       "    <tr>\n",
       "      <th>2</th>\n",
       "      <td>2.0</td>\n",
       "      <td>2.0</td>\n",
       "      <td>2.0</td>\n",
       "      <td>1.000000</td>\n",
       "      <td>1.0</td>\n",
       "      <td>19999.500750</td>\n",
       "      <td>39997.0</td>\n",
       "      <td>0.000025</td>\n",
       "      <td>10.596535</td>\n",
       "      <td>1.0</td>\n",
       "      <td>39997.99990</td>\n",
       "      <td>39998.0</td>\n",
       "      <td>0.000000</td>\n",
       "      <td>NaN</td>\n",
       "      <td>0.0</td>\n",
       "      <td>0.000000</td>\n",
       "      <td>1.000000</td>\n",
       "      <td>1.0</td>\n",
       "    </tr>\n",
       "    <tr>\n",
       "      <th>3</th>\n",
       "      <td>2.0</td>\n",
       "      <td>2.0</td>\n",
       "      <td>2.0</td>\n",
       "      <td>1.000000</td>\n",
       "      <td>1.0</td>\n",
       "      <td>19999.500750</td>\n",
       "      <td>39997.0</td>\n",
       "      <td>0.000025</td>\n",
       "      <td>10.596535</td>\n",
       "      <td>1.0</td>\n",
       "      <td>39997.99990</td>\n",
       "      <td>39998.0</td>\n",
       "      <td>0.000000</td>\n",
       "      <td>NaN</td>\n",
       "      <td>0.0</td>\n",
       "      <td>0.000000</td>\n",
       "      <td>1.000000</td>\n",
       "      <td>1.0</td>\n",
       "    </tr>\n",
       "    <tr>\n",
       "      <th>4</th>\n",
       "      <td>2.0</td>\n",
       "      <td>2.0</td>\n",
       "      <td>2.0</td>\n",
       "      <td>1.000000</td>\n",
       "      <td>1.0</td>\n",
       "      <td>19999.500750</td>\n",
       "      <td>39997.0</td>\n",
       "      <td>0.000025</td>\n",
       "      <td>10.596535</td>\n",
       "      <td>1.0</td>\n",
       "      <td>39997.99990</td>\n",
       "      <td>39998.0</td>\n",
       "      <td>0.000000</td>\n",
       "      <td>NaN</td>\n",
       "      <td>0.0</td>\n",
       "      <td>0.000000</td>\n",
       "      <td>1.000000</td>\n",
       "      <td>1.0</td>\n",
       "    </tr>\n",
       "  </tbody>\n",
       "</table>\n",
       "</div>"
      ],
      "text/plain": [
       "   min_diagonal_line_length  min_vertical_line_length  \\\n",
       "0                       2.0                       2.0   \n",
       "1                       2.0                       2.0   \n",
       "2                       2.0                       2.0   \n",
       "3                       2.0                       2.0   \n",
       "4                       2.0                       2.0   \n",
       "\n",
       "   min_white_vertical_line_length  recurrence_rate  determinism  \\\n",
       "0                             2.0         0.992689          1.0   \n",
       "1                             2.0         1.000000          1.0   \n",
       "2                             2.0         1.000000          1.0   \n",
       "3                             2.0         1.000000          1.0   \n",
       "4                             2.0         1.000000          1.0   \n",
       "\n",
       "   average_diagonal_line  longest_diagonal_line  divergence  \\\n",
       "0            1119.932797                39997.0    0.000025   \n",
       "1           19999.500750                39997.0    0.000025   \n",
       "2           19999.500750                39997.0    0.000025   \n",
       "3           19999.500750                39997.0    0.000025   \n",
       "4           19999.500750                39997.0    0.000025   \n",
       "\n",
       "   entropy_diagonal_lines  laminarity  trapping_time  longest_vertical_line  \\\n",
       "0                4.925425         1.0     2110.97942                25686.0   \n",
       "1               10.596535         1.0    39997.99990                39998.0   \n",
       "2               10.596535         1.0    39997.99990                39998.0   \n",
       "3               10.596535         1.0    39997.99990                39998.0   \n",
       "4               10.596535         1.0    39997.99990                39998.0   \n",
       "\n",
       "   entropy_vertical_lines  average_white_vertical_line  \\\n",
       "0                4.039169                    16.757784   \n",
       "1                0.000000                          NaN   \n",
       "2                0.000000                          NaN   \n",
       "3                0.000000                          NaN   \n",
       "4                0.000000                          NaN   \n",
       "\n",
       "   longest_white_vertical_line  entropy_white_vertical_lines  \\\n",
       "0                      25786.0                      2.846613   \n",
       "1                          0.0                      0.000000   \n",
       "2                          0.0                      0.000000   \n",
       "3                          0.0                      0.000000   \n",
       "4                          0.0                      0.000000   \n",
       "\n",
       "   ratio_determinism_recurrence_rate  ratio_laminarity_determinism   \n",
       "0                           1.007365                            1.0  \n",
       "1                           1.000000                            1.0  \n",
       "2                           1.000000                            1.0  \n",
       "3                           1.000000                            1.0  \n",
       "4                           1.000000                            1.0  "
      ]
     },
     "execution_count": 21,
     "metadata": {},
     "output_type": "execute_result"
    }
   ],
   "source": [
    "df = pd.concat([df_av, df_mv, df_pv, df_tv], axis =0)\n",
    "df.head()"
   ]
  },
  {
   "cell_type": "code",
   "execution_count": 22,
   "id": "3f69d78a",
   "metadata": {},
   "outputs": [],
   "source": [
    "df.to_csv(\"/Users/ecem/Desktop/phonocardiogram/data/rqa.csv\")"
   ]
  },
  {
   "cell_type": "code",
   "execution_count": null,
   "id": "d06b4990",
   "metadata": {},
   "outputs": [],
   "source": []
  },
  {
   "cell_type": "code",
   "execution_count": null,
   "id": "49770ce6",
   "metadata": {},
   "outputs": [],
   "source": []
  }
 ],
 "metadata": {
  "kernelspec": {
   "display_name": "Python 3 (ipykernel)",
   "language": "python",
   "name": "python3"
  },
  "language_info": {
   "codemirror_mode": {
    "name": "ipython",
    "version": 3
   },
   "file_extension": ".py",
   "mimetype": "text/x-python",
   "name": "python",
   "nbconvert_exporter": "python",
   "pygments_lexer": "ipython3",
   "version": "3.9.9"
  }
 },
 "nbformat": 4,
 "nbformat_minor": 5
}
