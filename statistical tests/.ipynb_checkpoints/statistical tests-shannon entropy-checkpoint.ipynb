{
 "cells": [
  {
   "cell_type": "code",
   "execution_count": 1,
   "id": "e232ae2f",
   "metadata": {},
   "outputs": [],
   "source": [
    "import pandas as pd \n",
    "from scipy.stats import mannwhitneyu\n",
    "from scipy import stats\n",
    "import numpy as np"
   ]
  },
  {
   "cell_type": "code",
   "execution_count": 2,
   "id": "52193d25",
   "metadata": {},
   "outputs": [],
   "source": [
    "AV_path =  \"/Users/ecem/Desktop/phonocardiogram/data/AV/present\"\n",
    "MV_path =  \"/Users/ecem/Desktop/phonocardiogram/data/MV/present\"\n",
    "PV_path =  \"/Users/ecem/Desktop/phonocardiogram/data/PV/present\"\n",
    "TV_path =  \"/Users/ecem/Desktop/phonocardiogram/data/TV/present\""
   ]
  },
  {
   "cell_type": "markdown",
   "id": "95a719e9",
   "metadata": {},
   "source": [
    "# Entropy features"
   ]
  },
  {
   "cell_type": "code",
   "execution_count": 3,
   "id": "7a9d66af",
   "metadata": {},
   "outputs": [],
   "source": [
    "av = pd.read_csv(AV_path + \"/shannon_entropy.csv\", index_col = 0)\n",
    "mv = pd.read_csv(MV_path + \"/shannon_entropy.csv\", index_col = 0)\n",
    "pv = pd.read_csv(PV_path + \"/shannon_entropy.csv\", index_col = 0)\n",
    "tv = pd.read_csv(TV_path + \"/shannon_entropy.csv\", index_col = 0)"
   ]
  },
  {
   "cell_type": "code",
   "execution_count": 4,
   "id": "dfd2f717",
   "metadata": {},
   "outputs": [
    {
     "data": {
      "text/html": [
       "<div>\n",
       "<style scoped>\n",
       "    .dataframe tbody tr th:only-of-type {\n",
       "        vertical-align: middle;\n",
       "    }\n",
       "\n",
       "    .dataframe tbody tr th {\n",
       "        vertical-align: top;\n",
       "    }\n",
       "\n",
       "    .dataframe thead th {\n",
       "        text-align: right;\n",
       "    }\n",
       "</style>\n",
       "<table border=\"1\" class=\"dataframe\">\n",
       "  <thead>\n",
       "    <tr style=\"text-align: right;\">\n",
       "      <th></th>\n",
       "      <th>approx</th>\n",
       "      <th>lvl5</th>\n",
       "      <th>lvl4</th>\n",
       "      <th>lvl3</th>\n",
       "      <th>lvl2</th>\n",
       "      <th>lvl1</th>\n",
       "    </tr>\n",
       "  </thead>\n",
       "  <tbody>\n",
       "    <tr>\n",
       "      <th>0</th>\n",
       "      <td>6.332259</td>\n",
       "      <td>6.229442</td>\n",
       "      <td>6.475745</td>\n",
       "      <td>7.444101</td>\n",
       "      <td>8.316431</td>\n",
       "      <td>8.943274</td>\n",
       "    </tr>\n",
       "    <tr>\n",
       "      <th>1</th>\n",
       "      <td>6.702363</td>\n",
       "      <td>6.629805</td>\n",
       "      <td>7.401528</td>\n",
       "      <td>8.117037</td>\n",
       "      <td>8.834056</td>\n",
       "      <td>9.352706</td>\n",
       "    </tr>\n",
       "    <tr>\n",
       "      <th>2</th>\n",
       "      <td>6.568780</td>\n",
       "      <td>6.603271</td>\n",
       "      <td>7.456561</td>\n",
       "      <td>8.205790</td>\n",
       "      <td>8.910208</td>\n",
       "      <td>9.349056</td>\n",
       "    </tr>\n",
       "    <tr>\n",
       "      <th>3</th>\n",
       "      <td>6.617825</td>\n",
       "      <td>6.666370</td>\n",
       "      <td>7.387099</td>\n",
       "      <td>8.053108</td>\n",
       "      <td>8.692856</td>\n",
       "      <td>9.210390</td>\n",
       "    </tr>\n",
       "    <tr>\n",
       "      <th>4</th>\n",
       "      <td>6.588070</td>\n",
       "      <td>6.663248</td>\n",
       "      <td>7.417582</td>\n",
       "      <td>7.989165</td>\n",
       "      <td>8.619781</td>\n",
       "      <td>9.159248</td>\n",
       "    </tr>\n",
       "    <tr>\n",
       "      <th>...</th>\n",
       "      <td>...</td>\n",
       "      <td>...</td>\n",
       "      <td>...</td>\n",
       "      <td>...</td>\n",
       "      <td>...</td>\n",
       "      <td>...</td>\n",
       "    </tr>\n",
       "    <tr>\n",
       "      <th>1240</th>\n",
       "      <td>6.646903</td>\n",
       "      <td>6.631938</td>\n",
       "      <td>7.112169</td>\n",
       "      <td>7.720889</td>\n",
       "      <td>8.430571</td>\n",
       "      <td>7.781377</td>\n",
       "    </tr>\n",
       "    <tr>\n",
       "      <th>1241</th>\n",
       "      <td>6.601840</td>\n",
       "      <td>6.507274</td>\n",
       "      <td>6.950059</td>\n",
       "      <td>7.667549</td>\n",
       "      <td>8.379178</td>\n",
       "      <td>8.242596</td>\n",
       "    </tr>\n",
       "    <tr>\n",
       "      <th>1242</th>\n",
       "      <td>6.680540</td>\n",
       "      <td>6.627028</td>\n",
       "      <td>6.999328</td>\n",
       "      <td>7.535303</td>\n",
       "      <td>8.238698</td>\n",
       "      <td>5.955468</td>\n",
       "    </tr>\n",
       "    <tr>\n",
       "      <th>1243</th>\n",
       "      <td>6.634735</td>\n",
       "      <td>6.508259</td>\n",
       "      <td>6.850771</td>\n",
       "      <td>7.516241</td>\n",
       "      <td>8.212043</td>\n",
       "      <td>6.636245</td>\n",
       "    </tr>\n",
       "    <tr>\n",
       "      <th>1244</th>\n",
       "      <td>6.590891</td>\n",
       "      <td>6.103599</td>\n",
       "      <td>6.844823</td>\n",
       "      <td>7.716291</td>\n",
       "      <td>8.474675</td>\n",
       "      <td>8.961600</td>\n",
       "    </tr>\n",
       "  </tbody>\n",
       "</table>\n",
       "<p>1245 rows × 6 columns</p>\n",
       "</div>"
      ],
      "text/plain": [
       "        approx      lvl5      lvl4      lvl3      lvl2      lvl1\n",
       "0     6.332259  6.229442  6.475745  7.444101  8.316431  8.943274\n",
       "1     6.702363  6.629805  7.401528  8.117037  8.834056  9.352706\n",
       "2     6.568780  6.603271  7.456561  8.205790  8.910208  9.349056\n",
       "3     6.617825  6.666370  7.387099  8.053108  8.692856  9.210390\n",
       "4     6.588070  6.663248  7.417582  7.989165  8.619781  9.159248\n",
       "...        ...       ...       ...       ...       ...       ...\n",
       "1240  6.646903  6.631938  7.112169  7.720889  8.430571  7.781377\n",
       "1241  6.601840  6.507274  6.950059  7.667549  8.379178  8.242596\n",
       "1242  6.680540  6.627028  6.999328  7.535303  8.238698  5.955468\n",
       "1243  6.634735  6.508259  6.850771  7.516241  8.212043  6.636245\n",
       "1244  6.590891  6.103599  6.844823  7.716291  8.474675  8.961600\n",
       "\n",
       "[1245 rows x 6 columns]"
      ]
     },
     "execution_count": 4,
     "metadata": {},
     "output_type": "execute_result"
    }
   ],
   "source": [
    "av"
   ]
  },
  {
   "cell_type": "markdown",
   "id": "05fb94bb",
   "metadata": {},
   "source": [
    "### AV-MV"
   ]
  },
  {
   "cell_type": "code",
   "execution_count": 5,
   "id": "5ac23bb4",
   "metadata": {},
   "outputs": [],
   "source": [
    "test = mannwhitneyu(av, mv,\n",
    "                    use_continuity=False, alternative = 'two-sided')\n",
    "stats = pd.DataFrame(test[0])\n",
    "p = pd.DataFrame(test[1])\n"
   ]
  },
  {
   "cell_type": "code",
   "execution_count": 6,
   "id": "038c4bfb",
   "metadata": {},
   "outputs": [
    {
     "data": {
      "text/html": [
       "<style type=\"text/css\">\n",
       "#T_26ceb_row0_col0, #T_26ceb_row0_col1, #T_26ceb_row0_col3, #T_26ceb_row0_col4, #T_26ceb_row0_col5 {\n",
       "  background: pink;\n",
       "}\n",
       "</style>\n",
       "<table id=\"T_26ceb\">\n",
       "  <thead>\n",
       "    <tr>\n",
       "      <th class=\"blank level0\" >&nbsp;</th>\n",
       "      <th id=\"T_26ceb_level0_col0\" class=\"col_heading level0 col0\" >0</th>\n",
       "      <th id=\"T_26ceb_level0_col1\" class=\"col_heading level0 col1\" >1</th>\n",
       "      <th id=\"T_26ceb_level0_col2\" class=\"col_heading level0 col2\" >2</th>\n",
       "      <th id=\"T_26ceb_level0_col3\" class=\"col_heading level0 col3\" >3</th>\n",
       "      <th id=\"T_26ceb_level0_col4\" class=\"col_heading level0 col4\" >4</th>\n",
       "      <th id=\"T_26ceb_level0_col5\" class=\"col_heading level0 col5\" >5</th>\n",
       "    </tr>\n",
       "  </thead>\n",
       "  <tbody>\n",
       "    <tr>\n",
       "      <th id=\"T_26ceb_level0_row0\" class=\"row_heading level0 row0\" >0</th>\n",
       "      <td id=\"T_26ceb_row0_col0\" class=\"data row0 col0\" >0.000000</td>\n",
       "      <td id=\"T_26ceb_row0_col1\" class=\"data row0 col1\" >0.000000</td>\n",
       "      <td id=\"T_26ceb_row0_col2\" class=\"data row0 col2\" >0.360232</td>\n",
       "      <td id=\"T_26ceb_row0_col3\" class=\"data row0 col3\" >0.002303</td>\n",
       "      <td id=\"T_26ceb_row0_col4\" class=\"data row0 col4\" >0.001586</td>\n",
       "      <td id=\"T_26ceb_row0_col5\" class=\"data row0 col5\" >0.000271</td>\n",
       "    </tr>\n",
       "  </tbody>\n",
       "</table>\n"
      ],
      "text/plain": [
       "<pandas.io.formats.style.Styler at 0x16e2f3fd0>"
      ]
     },
     "execution_count": 6,
     "metadata": {},
     "output_type": "execute_result"
    }
   ],
   "source": [
    "p.T.style.apply(lambda x: [\"background: pink\" if v < 0.05 else \"\" for v in x], axis = 1)"
   ]
  },
  {
   "cell_type": "code",
   "execution_count": 7,
   "id": "a3f26f1d",
   "metadata": {},
   "outputs": [
    {
     "data": {
      "text/plain": [
       "Int64Index([0, 1, 3, 4, 5], dtype='int64')"
      ]
     },
     "execution_count": 7,
     "metadata": {},
     "output_type": "execute_result"
    }
   ],
   "source": [
    "av_mv = p[(p < 0.05).any(axis=1)].index\n",
    "av_mv"
   ]
  },
  {
   "cell_type": "markdown",
   "id": "33b4bd95",
   "metadata": {},
   "source": [
    "### AV-PV"
   ]
  },
  {
   "cell_type": "code",
   "execution_count": 8,
   "id": "65fa9939",
   "metadata": {},
   "outputs": [
    {
     "name": "stdout",
     "output_type": "stream",
     "text": [
      "Int64Index([0, 1, 3, 4], dtype='int64')\n"
     ]
    }
   ],
   "source": [
    "test = mannwhitneyu(av, pv, use_continuity=False, alternative = 'two-sided')\n",
    "stats = pd.DataFrame(test[0])\n",
    "p = pd.DataFrame(test[1])\n",
    "\n",
    "av_pv = p[(p < 0.05).any(axis=1)].index\n",
    "\n",
    "print(av_pv)"
   ]
  },
  {
   "cell_type": "code",
   "execution_count": 9,
   "id": "f7e3c5a5",
   "metadata": {},
   "outputs": [
    {
     "data": {
      "text/html": [
       "<style type=\"text/css\">\n",
       "#T_924b5_row0_col0, #T_924b5_row0_col1, #T_924b5_row0_col3, #T_924b5_row0_col4 {\n",
       "  background: pink;\n",
       "}\n",
       "</style>\n",
       "<table id=\"T_924b5\">\n",
       "  <thead>\n",
       "    <tr>\n",
       "      <th class=\"blank level0\" >&nbsp;</th>\n",
       "      <th id=\"T_924b5_level0_col0\" class=\"col_heading level0 col0\" >0</th>\n",
       "      <th id=\"T_924b5_level0_col1\" class=\"col_heading level0 col1\" >1</th>\n",
       "      <th id=\"T_924b5_level0_col2\" class=\"col_heading level0 col2\" >2</th>\n",
       "      <th id=\"T_924b5_level0_col3\" class=\"col_heading level0 col3\" >3</th>\n",
       "      <th id=\"T_924b5_level0_col4\" class=\"col_heading level0 col4\" >4</th>\n",
       "      <th id=\"T_924b5_level0_col5\" class=\"col_heading level0 col5\" >5</th>\n",
       "    </tr>\n",
       "  </thead>\n",
       "  <tbody>\n",
       "    <tr>\n",
       "      <th id=\"T_924b5_level0_row0\" class=\"row_heading level0 row0\" >0</th>\n",
       "      <td id=\"T_924b5_row0_col0\" class=\"data row0 col0\" >0.000000</td>\n",
       "      <td id=\"T_924b5_row0_col1\" class=\"data row0 col1\" >0.000000</td>\n",
       "      <td id=\"T_924b5_row0_col2\" class=\"data row0 col2\" >0.251846</td>\n",
       "      <td id=\"T_924b5_row0_col3\" class=\"data row0 col3\" >0.000123</td>\n",
       "      <td id=\"T_924b5_row0_col4\" class=\"data row0 col4\" >0.000250</td>\n",
       "      <td id=\"T_924b5_row0_col5\" class=\"data row0 col5\" >0.723850</td>\n",
       "    </tr>\n",
       "  </tbody>\n",
       "</table>\n"
      ],
      "text/plain": [
       "<pandas.io.formats.style.Styler at 0x17a9af310>"
      ]
     },
     "execution_count": 9,
     "metadata": {},
     "output_type": "execute_result"
    }
   ],
   "source": [
    "p.T.style.apply(lambda x: [\"background: pink\" if v < 0.05 else \"\" for v in x], axis = 1)"
   ]
  },
  {
   "cell_type": "markdown",
   "id": "ed4b50b4",
   "metadata": {},
   "source": [
    "### AV-TV"
   ]
  },
  {
   "cell_type": "code",
   "execution_count": 10,
   "id": "ddb6a660",
   "metadata": {},
   "outputs": [
    {
     "name": "stdout",
     "output_type": "stream",
     "text": [
      "Int64Index([0, 1, 2, 4, 5], dtype='int64')\n"
     ]
    }
   ],
   "source": [
    "test = mannwhitneyu(av, tv, use_continuity=False, alternative = 'two-sided')\n",
    "stats = pd.DataFrame(test[0])\n",
    "p = pd.DataFrame(test[1])\n",
    "\n",
    "p.T.style.apply(lambda x: [\"background: pink\" if v < 0.05 else \"\" for v in x], axis = 1)\n",
    "\n",
    "av_tv = p[(p < 0.05).any(axis=1)].index\n",
    "\n",
    "print(av_tv)"
   ]
  },
  {
   "cell_type": "code",
   "execution_count": 11,
   "id": "6c6e4583",
   "metadata": {},
   "outputs": [
    {
     "data": {
      "text/html": [
       "<style type=\"text/css\">\n",
       "#T_1d626_row0_col0, #T_1d626_row0_col1, #T_1d626_row0_col2, #T_1d626_row0_col4, #T_1d626_row0_col5 {\n",
       "  background: pink;\n",
       "}\n",
       "</style>\n",
       "<table id=\"T_1d626\">\n",
       "  <thead>\n",
       "    <tr>\n",
       "      <th class=\"blank level0\" >&nbsp;</th>\n",
       "      <th id=\"T_1d626_level0_col0\" class=\"col_heading level0 col0\" >0</th>\n",
       "      <th id=\"T_1d626_level0_col1\" class=\"col_heading level0 col1\" >1</th>\n",
       "      <th id=\"T_1d626_level0_col2\" class=\"col_heading level0 col2\" >2</th>\n",
       "      <th id=\"T_1d626_level0_col3\" class=\"col_heading level0 col3\" >3</th>\n",
       "      <th id=\"T_1d626_level0_col4\" class=\"col_heading level0 col4\" >4</th>\n",
       "      <th id=\"T_1d626_level0_col5\" class=\"col_heading level0 col5\" >5</th>\n",
       "    </tr>\n",
       "  </thead>\n",
       "  <tbody>\n",
       "    <tr>\n",
       "      <th id=\"T_1d626_level0_row0\" class=\"row_heading level0 row0\" >0</th>\n",
       "      <td id=\"T_1d626_row0_col0\" class=\"data row0 col0\" >0.000000</td>\n",
       "      <td id=\"T_1d626_row0_col1\" class=\"data row0 col1\" >0.000000</td>\n",
       "      <td id=\"T_1d626_row0_col2\" class=\"data row0 col2\" >0.001746</td>\n",
       "      <td id=\"T_1d626_row0_col3\" class=\"data row0 col3\" >0.052109</td>\n",
       "      <td id=\"T_1d626_row0_col4\" class=\"data row0 col4\" >0.039045</td>\n",
       "      <td id=\"T_1d626_row0_col5\" class=\"data row0 col5\" >0.000244</td>\n",
       "    </tr>\n",
       "  </tbody>\n",
       "</table>\n"
      ],
      "text/plain": [
       "<pandas.io.formats.style.Styler at 0x17a9fe040>"
      ]
     },
     "execution_count": 11,
     "metadata": {},
     "output_type": "execute_result"
    }
   ],
   "source": [
    "p.T.style.apply(lambda x: [\"background: pink\" if v < 0.05 else \"\" for v in x], axis = 1)"
   ]
  },
  {
   "cell_type": "markdown",
   "id": "ddf93e49",
   "metadata": {},
   "source": [
    "### MV-PV"
   ]
  },
  {
   "cell_type": "code",
   "execution_count": 12,
   "id": "3660f1dc",
   "metadata": {},
   "outputs": [
    {
     "name": "stdout",
     "output_type": "stream",
     "text": [
      "Int64Index([0, 1, 2, 5], dtype='int64')\n"
     ]
    }
   ],
   "source": [
    "test = mannwhitneyu(mv, pv, use_continuity=False, alternative = 'two-sided')\n",
    "stats = pd.DataFrame(test[0])\n",
    "p = pd.DataFrame(test[1])\n",
    "\n",
    "\n",
    "mv_pv = p[(p < 0.05).any(axis=1)].index\n",
    "\n",
    "print(mv_pv)"
   ]
  },
  {
   "cell_type": "code",
   "execution_count": 13,
   "id": "6c7fc0f8",
   "metadata": {},
   "outputs": [
    {
     "data": {
      "text/html": [
       "<style type=\"text/css\">\n",
       "#T_aa99b_row0_col0, #T_aa99b_row0_col1, #T_aa99b_row0_col2, #T_aa99b_row0_col5 {\n",
       "  background: pink;\n",
       "}\n",
       "</style>\n",
       "<table id=\"T_aa99b\">\n",
       "  <thead>\n",
       "    <tr>\n",
       "      <th class=\"blank level0\" >&nbsp;</th>\n",
       "      <th id=\"T_aa99b_level0_col0\" class=\"col_heading level0 col0\" >0</th>\n",
       "      <th id=\"T_aa99b_level0_col1\" class=\"col_heading level0 col1\" >1</th>\n",
       "      <th id=\"T_aa99b_level0_col2\" class=\"col_heading level0 col2\" >2</th>\n",
       "      <th id=\"T_aa99b_level0_col3\" class=\"col_heading level0 col3\" >3</th>\n",
       "      <th id=\"T_aa99b_level0_col4\" class=\"col_heading level0 col4\" >4</th>\n",
       "      <th id=\"T_aa99b_level0_col5\" class=\"col_heading level0 col5\" >5</th>\n",
       "    </tr>\n",
       "  </thead>\n",
       "  <tbody>\n",
       "    <tr>\n",
       "      <th id=\"T_aa99b_level0_row0\" class=\"row_heading level0 row0\" >0</th>\n",
       "      <td id=\"T_aa99b_row0_col0\" class=\"data row0 col0\" >0.007268</td>\n",
       "      <td id=\"T_aa99b_row0_col1\" class=\"data row0 col1\" >0.021122</td>\n",
       "      <td id=\"T_aa99b_row0_col2\" class=\"data row0 col2\" >0.047208</td>\n",
       "      <td id=\"T_aa99b_row0_col3\" class=\"data row0 col3\" >0.548732</td>\n",
       "      <td id=\"T_aa99b_row0_col4\" class=\"data row0 col4\" >0.622600</td>\n",
       "      <td id=\"T_aa99b_row0_col5\" class=\"data row0 col5\" >0.000124</td>\n",
       "    </tr>\n",
       "  </tbody>\n",
       "</table>\n"
      ],
      "text/plain": [
       "<pandas.io.formats.style.Styler at 0x17a9fe5e0>"
      ]
     },
     "execution_count": 13,
     "metadata": {},
     "output_type": "execute_result"
    }
   ],
   "source": [
    "p.T.style.apply(lambda x: [\"background: pink\" if v < 0.05 else \"\" for v in x], axis = 1)"
   ]
  },
  {
   "cell_type": "markdown",
   "id": "e16b32b9",
   "metadata": {},
   "source": [
    "### MV_TV"
   ]
  },
  {
   "cell_type": "code",
   "execution_count": 14,
   "id": "d0562c0d",
   "metadata": {},
   "outputs": [
    {
     "name": "stdout",
     "output_type": "stream",
     "text": [
      "Int64Index([0, 1, 2], dtype='int64')\n"
     ]
    }
   ],
   "source": [
    "test = mannwhitneyu(mv, tv, use_continuity=False, alternative = 'two-sided')\n",
    "stats = pd.DataFrame(test[0])\n",
    "p = pd.DataFrame(test[1])\n",
    "\n",
    "mv_tv = p[(p < 0.05).any(axis=1)].index\n",
    "\n",
    "print(mv_tv)"
   ]
  },
  {
   "cell_type": "code",
   "execution_count": 15,
   "id": "6a2fe28d",
   "metadata": {},
   "outputs": [
    {
     "data": {
      "text/html": [
       "<style type=\"text/css\">\n",
       "#T_4642d_row0_col0, #T_4642d_row0_col1, #T_4642d_row0_col2 {\n",
       "  background: pink;\n",
       "}\n",
       "</style>\n",
       "<table id=\"T_4642d\">\n",
       "  <thead>\n",
       "    <tr>\n",
       "      <th class=\"blank level0\" >&nbsp;</th>\n",
       "      <th id=\"T_4642d_level0_col0\" class=\"col_heading level0 col0\" >0</th>\n",
       "      <th id=\"T_4642d_level0_col1\" class=\"col_heading level0 col1\" >1</th>\n",
       "      <th id=\"T_4642d_level0_col2\" class=\"col_heading level0 col2\" >2</th>\n",
       "      <th id=\"T_4642d_level0_col3\" class=\"col_heading level0 col3\" >3</th>\n",
       "      <th id=\"T_4642d_level0_col4\" class=\"col_heading level0 col4\" >4</th>\n",
       "      <th id=\"T_4642d_level0_col5\" class=\"col_heading level0 col5\" >5</th>\n",
       "    </tr>\n",
       "  </thead>\n",
       "  <tbody>\n",
       "    <tr>\n",
       "      <th id=\"T_4642d_level0_row0\" class=\"row_heading level0 row0\" >0</th>\n",
       "      <td id=\"T_4642d_row0_col0\" class=\"data row0 col0\" >0.000000</td>\n",
       "      <td id=\"T_4642d_row0_col1\" class=\"data row0 col1\" >0.000000</td>\n",
       "      <td id=\"T_4642d_row0_col2\" class=\"data row0 col2\" >0.000134</td>\n",
       "      <td id=\"T_4642d_row0_col3\" class=\"data row0 col3\" >0.320065</td>\n",
       "      <td id=\"T_4642d_row0_col4\" class=\"data row0 col4\" >0.283992</td>\n",
       "      <td id=\"T_4642d_row0_col5\" class=\"data row0 col5\" >0.945188</td>\n",
       "    </tr>\n",
       "  </tbody>\n",
       "</table>\n"
      ],
      "text/plain": [
       "<pandas.io.formats.style.Styler at 0x16e2f34f0>"
      ]
     },
     "execution_count": 15,
     "metadata": {},
     "output_type": "execute_result"
    }
   ],
   "source": [
    "p.T.style.apply(lambda x: [\"background: pink\" if v < 0.05 else \"\" for v in x], axis = 1)"
   ]
  },
  {
   "cell_type": "markdown",
   "id": "b4ef6458",
   "metadata": {},
   "source": [
    "### PV-TV"
   ]
  },
  {
   "cell_type": "code",
   "execution_count": 16,
   "id": "3cc0e717",
   "metadata": {},
   "outputs": [
    {
     "name": "stdout",
     "output_type": "stream",
     "text": [
      "Int64Index([0, 1, 5], dtype='int64')\n"
     ]
    }
   ],
   "source": [
    "test = mannwhitneyu(pv, tv, use_continuity=False, alternative = 'two-sided')\n",
    "stats = pd.DataFrame(test[0])\n",
    "p = pd.DataFrame(test[1])\n",
    "\n",
    "pv_tv = p[(p < 0.05).any(axis=1)].index\n",
    "\n",
    "print(pv_tv)"
   ]
  },
  {
   "cell_type": "code",
   "execution_count": 17,
   "id": "b826ace6",
   "metadata": {},
   "outputs": [
    {
     "data": {
      "text/html": [
       "<style type=\"text/css\">\n",
       "#T_aed74_row0_col0, #T_aed74_row0_col1, #T_aed74_row0_col5 {\n",
       "  background: pink;\n",
       "}\n",
       "</style>\n",
       "<table id=\"T_aed74\">\n",
       "  <thead>\n",
       "    <tr>\n",
       "      <th class=\"blank level0\" >&nbsp;</th>\n",
       "      <th id=\"T_aed74_level0_col0\" class=\"col_heading level0 col0\" >0</th>\n",
       "      <th id=\"T_aed74_level0_col1\" class=\"col_heading level0 col1\" >1</th>\n",
       "      <th id=\"T_aed74_level0_col2\" class=\"col_heading level0 col2\" >2</th>\n",
       "      <th id=\"T_aed74_level0_col3\" class=\"col_heading level0 col3\" >3</th>\n",
       "      <th id=\"T_aed74_level0_col4\" class=\"col_heading level0 col4\" >4</th>\n",
       "      <th id=\"T_aed74_level0_col5\" class=\"col_heading level0 col5\" >5</th>\n",
       "    </tr>\n",
       "  </thead>\n",
       "  <tbody>\n",
       "    <tr>\n",
       "      <th id=\"T_aed74_level0_row0\" class=\"row_heading level0 row0\" >0</th>\n",
       "      <td id=\"T_aed74_row0_col0\" class=\"data row0 col0\" >0.000002</td>\n",
       "      <td id=\"T_aed74_row0_col1\" class=\"data row0 col1\" >0.000000</td>\n",
       "      <td id=\"T_aed74_row0_col2\" class=\"data row0 col2\" >0.050690</td>\n",
       "      <td id=\"T_aed74_row0_col3\" class=\"data row0 col3\" >0.109213</td>\n",
       "      <td id=\"T_aed74_row0_col4\" class=\"data row0 col4\" >0.120179</td>\n",
       "      <td id=\"T_aed74_row0_col5\" class=\"data row0 col5\" >0.000117</td>\n",
       "    </tr>\n",
       "  </tbody>\n",
       "</table>\n"
      ],
      "text/plain": [
       "<pandas.io.formats.style.Styler at 0x16e2f3b50>"
      ]
     },
     "execution_count": 17,
     "metadata": {},
     "output_type": "execute_result"
    }
   ],
   "source": [
    "p.T.style.apply(lambda x: [\"background: pink\" if v < 0.05 else \"\" for v in x], axis = 1)"
   ]
  },
  {
   "cell_type": "code",
   "execution_count": 18,
   "id": "1c075a7d",
   "metadata": {},
   "outputs": [
    {
     "data": {
      "text/html": [
       "<div>\n",
       "<style scoped>\n",
       "    .dataframe tbody tr th:only-of-type {\n",
       "        vertical-align: middle;\n",
       "    }\n",
       "\n",
       "    .dataframe tbody tr th {\n",
       "        vertical-align: top;\n",
       "    }\n",
       "\n",
       "    .dataframe thead th {\n",
       "        text-align: right;\n",
       "    }\n",
       "</style>\n",
       "<table border=\"1\" class=\"dataframe\">\n",
       "  <thead>\n",
       "    <tr style=\"text-align: right;\">\n",
       "      <th></th>\n",
       "      <th>approx</th>\n",
       "      <th>lvl5</th>\n",
       "      <th>lvl4</th>\n",
       "      <th>lvl3</th>\n",
       "      <th>lvl2</th>\n",
       "      <th>lvl1</th>\n",
       "    </tr>\n",
       "  </thead>\n",
       "  <tbody>\n",
       "    <tr>\n",
       "      <th>0</th>\n",
       "      <td>6.332259</td>\n",
       "      <td>6.229442</td>\n",
       "      <td>6.475745</td>\n",
       "      <td>7.444101</td>\n",
       "      <td>8.316431</td>\n",
       "      <td>8.943274</td>\n",
       "    </tr>\n",
       "    <tr>\n",
       "      <th>1</th>\n",
       "      <td>6.702363</td>\n",
       "      <td>6.629805</td>\n",
       "      <td>7.401528</td>\n",
       "      <td>8.117037</td>\n",
       "      <td>8.834056</td>\n",
       "      <td>9.352706</td>\n",
       "    </tr>\n",
       "    <tr>\n",
       "      <th>2</th>\n",
       "      <td>6.568780</td>\n",
       "      <td>6.603271</td>\n",
       "      <td>7.456561</td>\n",
       "      <td>8.205790</td>\n",
       "      <td>8.910208</td>\n",
       "      <td>9.349056</td>\n",
       "    </tr>\n",
       "    <tr>\n",
       "      <th>3</th>\n",
       "      <td>6.617825</td>\n",
       "      <td>6.666370</td>\n",
       "      <td>7.387099</td>\n",
       "      <td>8.053108</td>\n",
       "      <td>8.692856</td>\n",
       "      <td>9.210390</td>\n",
       "    </tr>\n",
       "    <tr>\n",
       "      <th>4</th>\n",
       "      <td>6.588070</td>\n",
       "      <td>6.663248</td>\n",
       "      <td>7.417582</td>\n",
       "      <td>7.989165</td>\n",
       "      <td>8.619781</td>\n",
       "      <td>9.159248</td>\n",
       "    </tr>\n",
       "  </tbody>\n",
       "</table>\n",
       "</div>"
      ],
      "text/plain": [
       "     approx      lvl5      lvl4      lvl3      lvl2      lvl1\n",
       "0  6.332259  6.229442  6.475745  7.444101  8.316431  8.943274\n",
       "1  6.702363  6.629805  7.401528  8.117037  8.834056  9.352706\n",
       "2  6.568780  6.603271  7.456561  8.205790  8.910208  9.349056\n",
       "3  6.617825  6.666370  7.387099  8.053108  8.692856  9.210390\n",
       "4  6.588070  6.663248  7.417582  7.989165  8.619781  9.159248"
      ]
     },
     "execution_count": 18,
     "metadata": {},
     "output_type": "execute_result"
    }
   ],
   "source": [
    "df = pd.concat([av, mv, pv, tv], axis =0)\n",
    "df.head()"
   ]
  },
  {
   "cell_type": "code",
   "execution_count": 19,
   "id": "b77fff34",
   "metadata": {},
   "outputs": [
    {
     "data": {
      "text/html": [
       "<div>\n",
       "<style scoped>\n",
       "    .dataframe tbody tr th:only-of-type {\n",
       "        vertical-align: middle;\n",
       "    }\n",
       "\n",
       "    .dataframe tbody tr th {\n",
       "        vertical-align: top;\n",
       "    }\n",
       "\n",
       "    .dataframe thead th {\n",
       "        text-align: right;\n",
       "    }\n",
       "</style>\n",
       "<table border=\"1\" class=\"dataframe\">\n",
       "  <thead>\n",
       "    <tr style=\"text-align: right;\">\n",
       "      <th></th>\n",
       "      <th>approx</th>\n",
       "      <th>lvl5</th>\n",
       "      <th>lvl4</th>\n",
       "      <th>lvl3</th>\n",
       "      <th>lvl2</th>\n",
       "      <th>lvl1</th>\n",
       "    </tr>\n",
       "  </thead>\n",
       "  <tbody>\n",
       "    <tr>\n",
       "      <th>0</th>\n",
       "      <td>6.332259</td>\n",
       "      <td>6.229442</td>\n",
       "      <td>6.475745</td>\n",
       "      <td>7.444101</td>\n",
       "      <td>8.316431</td>\n",
       "      <td>8.943274</td>\n",
       "    </tr>\n",
       "    <tr>\n",
       "      <th>1</th>\n",
       "      <td>6.702363</td>\n",
       "      <td>6.629805</td>\n",
       "      <td>7.401528</td>\n",
       "      <td>8.117037</td>\n",
       "      <td>8.834056</td>\n",
       "      <td>9.352706</td>\n",
       "    </tr>\n",
       "    <tr>\n",
       "      <th>2</th>\n",
       "      <td>6.568780</td>\n",
       "      <td>6.603271</td>\n",
       "      <td>7.456561</td>\n",
       "      <td>8.205790</td>\n",
       "      <td>8.910208</td>\n",
       "      <td>9.349056</td>\n",
       "    </tr>\n",
       "    <tr>\n",
       "      <th>3</th>\n",
       "      <td>6.617825</td>\n",
       "      <td>6.666370</td>\n",
       "      <td>7.387099</td>\n",
       "      <td>8.053108</td>\n",
       "      <td>8.692856</td>\n",
       "      <td>9.210390</td>\n",
       "    </tr>\n",
       "    <tr>\n",
       "      <th>4</th>\n",
       "      <td>6.588070</td>\n",
       "      <td>6.663248</td>\n",
       "      <td>7.417582</td>\n",
       "      <td>7.989165</td>\n",
       "      <td>8.619781</td>\n",
       "      <td>9.159248</td>\n",
       "    </tr>\n",
       "    <tr>\n",
       "      <th>...</th>\n",
       "      <td>...</td>\n",
       "      <td>...</td>\n",
       "      <td>...</td>\n",
       "      <td>...</td>\n",
       "      <td>...</td>\n",
       "      <td>...</td>\n",
       "    </tr>\n",
       "    <tr>\n",
       "      <th>1200</th>\n",
       "      <td>6.624857</td>\n",
       "      <td>6.547929</td>\n",
       "      <td>7.242003</td>\n",
       "      <td>8.000952</td>\n",
       "      <td>8.716274</td>\n",
       "      <td>7.139174</td>\n",
       "    </tr>\n",
       "    <tr>\n",
       "      <th>1201</th>\n",
       "      <td>6.633953</td>\n",
       "      <td>6.521235</td>\n",
       "      <td>7.313371</td>\n",
       "      <td>8.074362</td>\n",
       "      <td>8.710971</td>\n",
       "      <td>6.732684</td>\n",
       "    </tr>\n",
       "    <tr>\n",
       "      <th>1202</th>\n",
       "      <td>6.662886</td>\n",
       "      <td>6.545979</td>\n",
       "      <td>7.310356</td>\n",
       "      <td>8.131572</td>\n",
       "      <td>8.768701</td>\n",
       "      <td>7.585297</td>\n",
       "    </tr>\n",
       "    <tr>\n",
       "      <th>1203</th>\n",
       "      <td>6.652011</td>\n",
       "      <td>6.536550</td>\n",
       "      <td>7.256038</td>\n",
       "      <td>7.961698</td>\n",
       "      <td>8.675770</td>\n",
       "      <td>8.921017</td>\n",
       "    </tr>\n",
       "    <tr>\n",
       "      <th>1204</th>\n",
       "      <td>6.633846</td>\n",
       "      <td>6.465727</td>\n",
       "      <td>6.986950</td>\n",
       "      <td>7.525166</td>\n",
       "      <td>8.234385</td>\n",
       "      <td>8.294152</td>\n",
       "    </tr>\n",
       "  </tbody>\n",
       "</table>\n",
       "<p>4728 rows × 6 columns</p>\n",
       "</div>"
      ],
      "text/plain": [
       "        approx      lvl5      lvl4      lvl3      lvl2      lvl1\n",
       "0     6.332259  6.229442  6.475745  7.444101  8.316431  8.943274\n",
       "1     6.702363  6.629805  7.401528  8.117037  8.834056  9.352706\n",
       "2     6.568780  6.603271  7.456561  8.205790  8.910208  9.349056\n",
       "3     6.617825  6.666370  7.387099  8.053108  8.692856  9.210390\n",
       "4     6.588070  6.663248  7.417582  7.989165  8.619781  9.159248\n",
       "...        ...       ...       ...       ...       ...       ...\n",
       "1200  6.624857  6.547929  7.242003  8.000952  8.716274  7.139174\n",
       "1201  6.633953  6.521235  7.313371  8.074362  8.710971  6.732684\n",
       "1202  6.662886  6.545979  7.310356  8.131572  8.768701  7.585297\n",
       "1203  6.652011  6.536550  7.256038  7.961698  8.675770  8.921017\n",
       "1204  6.633846  6.465727  6.986950  7.525166  8.234385  8.294152\n",
       "\n",
       "[4728 rows x 6 columns]"
      ]
     },
     "execution_count": 19,
     "metadata": {},
     "output_type": "execute_result"
    }
   ],
   "source": [
    "#df = df[[\"approx\", \"lvl5\"]]\n",
    "df"
   ]
  },
  {
   "cell_type": "code",
   "execution_count": 20,
   "id": "3f69d78a",
   "metadata": {},
   "outputs": [],
   "source": [
    "df.to_csv(\"/Users/ecem/Desktop/phonocardiogram/data/shannon_entropy.csv\")"
   ]
  },
  {
   "cell_type": "code",
   "execution_count": null,
   "id": "d06b4990",
   "metadata": {},
   "outputs": [],
   "source": []
  },
  {
   "cell_type": "code",
   "execution_count": null,
   "id": "49770ce6",
   "metadata": {},
   "outputs": [],
   "source": []
  }
 ],
 "metadata": {
  "kernelspec": {
   "display_name": "Python 3 (ipykernel)",
   "language": "python",
   "name": "python3"
  },
  "language_info": {
   "codemirror_mode": {
    "name": "ipython",
    "version": 3
   },
   "file_extension": ".py",
   "mimetype": "text/x-python",
   "name": "python",
   "nbconvert_exporter": "python",
   "pygments_lexer": "ipython3",
   "version": "3.9.9"
  }
 },
 "nbformat": 4,
 "nbformat_minor": 5
}
