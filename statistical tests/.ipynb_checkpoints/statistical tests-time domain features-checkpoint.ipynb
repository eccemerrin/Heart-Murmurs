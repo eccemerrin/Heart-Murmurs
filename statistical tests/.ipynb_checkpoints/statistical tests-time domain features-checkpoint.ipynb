{
 "cells": [
  {
   "cell_type": "code",
   "execution_count": 1,
   "id": "e232ae2f",
   "metadata": {},
   "outputs": [
    {
     "ename": "RuntimeError",
     "evalue": "module compiled against API version 0xe but this version of numpy is 0xd",
     "output_type": "error",
     "traceback": [
      "\u001b[0;31m---------------------------------------------------------------------------\u001b[0m",
      "\u001b[0;31mRuntimeError\u001b[0m                              Traceback (most recent call last)",
      "\u001b[0;31mRuntimeError\u001b[0m: module compiled against API version 0xe but this version of numpy is 0xd"
     ]
    }
   ],
   "source": [
    "import pandas as pd \n",
    "from scipy.stats import mannwhitneyu\n",
    "from scipy import stats\n",
    "import numpy as np"
   ]
  },
  {
   "cell_type": "code",
   "execution_count": 2,
   "id": "52193d25",
   "metadata": {},
   "outputs": [],
   "source": [
    "AV_path =  \"/Users/ecem/Desktop/phonocardiogram/data/AV/present\"\n",
    "MV_path =  \"/Users/ecem/Desktop/phonocardiogram/data/MV/present\"\n",
    "PV_path =  \"/Users/ecem/Desktop/phonocardiogram/data/PV/present\"\n",
    "TV_path =  \"/Users/ecem/Desktop/phonocardiogram/data/TV/present\""
   ]
  },
  {
   "cell_type": "markdown",
   "id": "95a719e9",
   "metadata": {},
   "source": [
    "# Time domain features"
   ]
  },
  {
   "cell_type": "code",
   "execution_count": 3,
   "id": "7a9d66af",
   "metadata": {},
   "outputs": [],
   "source": [
    "av = pd.read_csv(AV_path + \"/AV-time-domain-features.csv\", index_col = 0)\n",
    "mv = pd.read_csv(MV_path + \"/MV-time-domain-features.csv\", index_col = 0)\n",
    "pv = pd.read_csv(PV_path + \"/PV-time-domain-features.csv\", index_col = 0)\n",
    "tv = pd.read_csv(TV_path + \"/TV-time-domain-features.csv\", index_col = 0)"
   ]
  },
  {
   "cell_type": "code",
   "execution_count": 4,
   "id": "dfd2f717",
   "metadata": {},
   "outputs": [
    {
     "data": {
      "text/html": [
       "<div>\n",
       "<style scoped>\n",
       "    .dataframe tbody tr th:only-of-type {\n",
       "        vertical-align: middle;\n",
       "    }\n",
       "\n",
       "    .dataframe tbody tr th {\n",
       "        vertical-align: top;\n",
       "    }\n",
       "\n",
       "    .dataframe thead th {\n",
       "        text-align: right;\n",
       "    }\n",
       "</style>\n",
       "<table border=\"1\" class=\"dataframe\">\n",
       "  <thead>\n",
       "    <tr style=\"text-align: right;\">\n",
       "      <th></th>\n",
       "      <th>energy</th>\n",
       "      <th>entropy</th>\n",
       "      <th>spectral entropy</th>\n",
       "      <th>spectral rolloff</th>\n",
       "      <th>spectral centorid</th>\n",
       "      <th>spectral spread</th>\n",
       "    </tr>\n",
       "  </thead>\n",
       "  <tbody>\n",
       "    <tr>\n",
       "      <th>0</th>\n",
       "      <td>0.003627</td>\n",
       "      <td>1.669286</td>\n",
       "      <td>0.188441</td>\n",
       "      <td>0.07420</td>\n",
       "      <td>0.053309</td>\n",
       "      <td>0.050103</td>\n",
       "    </tr>\n",
       "    <tr>\n",
       "      <th>1</th>\n",
       "      <td>0.000750</td>\n",
       "      <td>2.963927</td>\n",
       "      <td>0.043663</td>\n",
       "      <td>0.04800</td>\n",
       "      <td>0.042804</td>\n",
       "      <td>0.050674</td>\n",
       "    </tr>\n",
       "    <tr>\n",
       "      <th>2</th>\n",
       "      <td>0.000388</td>\n",
       "      <td>2.840991</td>\n",
       "      <td>0.017348</td>\n",
       "      <td>0.04395</td>\n",
       "      <td>0.034369</td>\n",
       "      <td>0.036723</td>\n",
       "    </tr>\n",
       "    <tr>\n",
       "      <th>3</th>\n",
       "      <td>0.000528</td>\n",
       "      <td>2.859511</td>\n",
       "      <td>0.025138</td>\n",
       "      <td>0.04730</td>\n",
       "      <td>0.037526</td>\n",
       "      <td>0.048492</td>\n",
       "    </tr>\n",
       "    <tr>\n",
       "      <th>4</th>\n",
       "      <td>0.000721</td>\n",
       "      <td>2.733358</td>\n",
       "      <td>0.029182</td>\n",
       "      <td>0.04545</td>\n",
       "      <td>0.041871</td>\n",
       "      <td>0.065678</td>\n",
       "    </tr>\n",
       "    <tr>\n",
       "      <th>...</th>\n",
       "      <td>...</td>\n",
       "      <td>...</td>\n",
       "      <td>...</td>\n",
       "      <td>...</td>\n",
       "      <td>...</td>\n",
       "      <td>...</td>\n",
       "    </tr>\n",
       "    <tr>\n",
       "      <th>1240</th>\n",
       "      <td>0.004858</td>\n",
       "      <td>2.934228</td>\n",
       "      <td>0.072016</td>\n",
       "      <td>0.01065</td>\n",
       "      <td>0.034953</td>\n",
       "      <td>0.056451</td>\n",
       "    </tr>\n",
       "    <tr>\n",
       "      <th>1241</th>\n",
       "      <td>0.008021</td>\n",
       "      <td>2.682469</td>\n",
       "      <td>0.054700</td>\n",
       "      <td>0.01220</td>\n",
       "      <td>0.030964</td>\n",
       "      <td>0.041103</td>\n",
       "    </tr>\n",
       "    <tr>\n",
       "      <th>1242</th>\n",
       "      <td>0.008009</td>\n",
       "      <td>2.889273</td>\n",
       "      <td>0.069861</td>\n",
       "      <td>0.01200</td>\n",
       "      <td>0.035854</td>\n",
       "      <td>0.066225</td>\n",
       "    </tr>\n",
       "    <tr>\n",
       "      <th>1243</th>\n",
       "      <td>0.010201</td>\n",
       "      <td>3.021816</td>\n",
       "      <td>0.061103</td>\n",
       "      <td>0.01205</td>\n",
       "      <td>0.047309</td>\n",
       "      <td>0.104097</td>\n",
       "    </tr>\n",
       "    <tr>\n",
       "      <th>1244</th>\n",
       "      <td>0.026932</td>\n",
       "      <td>3.144357</td>\n",
       "      <td>0.019942</td>\n",
       "      <td>0.01680</td>\n",
       "      <td>0.038167</td>\n",
       "      <td>0.089613</td>\n",
       "    </tr>\n",
       "  </tbody>\n",
       "</table>\n",
       "<p>1245 rows × 6 columns</p>\n",
       "</div>"
      ],
      "text/plain": [
       "        energy   entropy  spectral entropy  spectral rolloff  \\\n",
       "0     0.003627  1.669286          0.188441           0.07420   \n",
       "1     0.000750  2.963927          0.043663           0.04800   \n",
       "2     0.000388  2.840991          0.017348           0.04395   \n",
       "3     0.000528  2.859511          0.025138           0.04730   \n",
       "4     0.000721  2.733358          0.029182           0.04545   \n",
       "...        ...       ...               ...               ...   \n",
       "1240  0.004858  2.934228          0.072016           0.01065   \n",
       "1241  0.008021  2.682469          0.054700           0.01220   \n",
       "1242  0.008009  2.889273          0.069861           0.01200   \n",
       "1243  0.010201  3.021816          0.061103           0.01205   \n",
       "1244  0.026932  3.144357          0.019942           0.01680   \n",
       "\n",
       "      spectral centorid  spectral spread  \n",
       "0              0.053309         0.050103  \n",
       "1              0.042804         0.050674  \n",
       "2              0.034369         0.036723  \n",
       "3              0.037526         0.048492  \n",
       "4              0.041871         0.065678  \n",
       "...                 ...              ...  \n",
       "1240           0.034953         0.056451  \n",
       "1241           0.030964         0.041103  \n",
       "1242           0.035854         0.066225  \n",
       "1243           0.047309         0.104097  \n",
       "1244           0.038167         0.089613  \n",
       "\n",
       "[1245 rows x 6 columns]"
      ]
     },
     "execution_count": 4,
     "metadata": {},
     "output_type": "execute_result"
    }
   ],
   "source": [
    "av"
   ]
  },
  {
   "cell_type": "markdown",
   "id": "05fb94bb",
   "metadata": {},
   "source": [
    "### AV-MV"
   ]
  },
  {
   "cell_type": "code",
   "execution_count": 5,
   "id": "5ac23bb4",
   "metadata": {},
   "outputs": [],
   "source": [
    "test = mannwhitneyu(av, mv,\n",
    "                    use_continuity=False, alternative = 'two-sided')\n",
    "stats = pd.DataFrame(test[0])\n",
    "p = pd.DataFrame(test[1])\n"
   ]
  },
  {
   "cell_type": "code",
   "execution_count": 6,
   "id": "038c4bfb",
   "metadata": {},
   "outputs": [
    {
     "data": {
      "text/html": [
       "<style type=\"text/css\">\n",
       "#T_c506e_row0_col0, #T_c506e_row0_col2, #T_c506e_row0_col3 {\n",
       "  background: pink;\n",
       "}\n",
       "</style>\n",
       "<table id=\"T_c506e\">\n",
       "  <thead>\n",
       "    <tr>\n",
       "      <th class=\"blank level0\" >&nbsp;</th>\n",
       "      <th id=\"T_c506e_level0_col0\" class=\"col_heading level0 col0\" >0</th>\n",
       "      <th id=\"T_c506e_level0_col1\" class=\"col_heading level0 col1\" >1</th>\n",
       "      <th id=\"T_c506e_level0_col2\" class=\"col_heading level0 col2\" >2</th>\n",
       "      <th id=\"T_c506e_level0_col3\" class=\"col_heading level0 col3\" >3</th>\n",
       "      <th id=\"T_c506e_level0_col4\" class=\"col_heading level0 col4\" >4</th>\n",
       "      <th id=\"T_c506e_level0_col5\" class=\"col_heading level0 col5\" >5</th>\n",
       "    </tr>\n",
       "  </thead>\n",
       "  <tbody>\n",
       "    <tr>\n",
       "      <th id=\"T_c506e_level0_row0\" class=\"row_heading level0 row0\" >0</th>\n",
       "      <td id=\"T_c506e_row0_col0\" class=\"data row0 col0\" >0.000079</td>\n",
       "      <td id=\"T_c506e_row0_col1\" class=\"data row0 col1\" >0.173356</td>\n",
       "      <td id=\"T_c506e_row0_col2\" class=\"data row0 col2\" >0.000000</td>\n",
       "      <td id=\"T_c506e_row0_col3\" class=\"data row0 col3\" >0.021854</td>\n",
       "      <td id=\"T_c506e_row0_col4\" class=\"data row0 col4\" >0.146865</td>\n",
       "      <td id=\"T_c506e_row0_col5\" class=\"data row0 col5\" >0.086174</td>\n",
       "    </tr>\n",
       "  </tbody>\n",
       "</table>\n"
      ],
      "text/plain": [
       "<pandas.io.formats.style.Styler at 0x128853640>"
      ]
     },
     "execution_count": 6,
     "metadata": {},
     "output_type": "execute_result"
    }
   ],
   "source": [
    "p.T.style.apply(lambda x: [\"background: pink\" if v < 0.05 else \"\" for v in x], axis = 1)"
   ]
  },
  {
   "cell_type": "code",
   "execution_count": 7,
   "id": "a3f26f1d",
   "metadata": {},
   "outputs": [
    {
     "data": {
      "text/plain": [
       "Int64Index([0, 2, 3], dtype='int64')"
      ]
     },
     "execution_count": 7,
     "metadata": {},
     "output_type": "execute_result"
    }
   ],
   "source": [
    "av_mv = p[(p < 0.05).any(axis=1)].index\n",
    "av_mv"
   ]
  },
  {
   "cell_type": "markdown",
   "id": "33b4bd95",
   "metadata": {},
   "source": [
    "### AV-PV"
   ]
  },
  {
   "cell_type": "code",
   "execution_count": 8,
   "id": "65fa9939",
   "metadata": {},
   "outputs": [
    {
     "name": "stdout",
     "output_type": "stream",
     "text": [
      "Int64Index([0, 1, 2, 3, 4], dtype='int64')\n"
     ]
    }
   ],
   "source": [
    "test = mannwhitneyu(av, pv, use_continuity=False, alternative = 'two-sided')\n",
    "stats = pd.DataFrame(test[0])\n",
    "p = pd.DataFrame(test[1])\n",
    "\n",
    "av_pv = p[(p < 0.05).any(axis=1)].index\n",
    "\n",
    "print(av_pv)"
   ]
  },
  {
   "cell_type": "code",
   "execution_count": 9,
   "id": "f7e3c5a5",
   "metadata": {},
   "outputs": [
    {
     "data": {
      "text/html": [
       "<style type=\"text/css\">\n",
       "#T_4bc44_row0_col0, #T_4bc44_row0_col1, #T_4bc44_row0_col2, #T_4bc44_row0_col3, #T_4bc44_row0_col4 {\n",
       "  background: pink;\n",
       "}\n",
       "</style>\n",
       "<table id=\"T_4bc44\">\n",
       "  <thead>\n",
       "    <tr>\n",
       "      <th class=\"blank level0\" >&nbsp;</th>\n",
       "      <th id=\"T_4bc44_level0_col0\" class=\"col_heading level0 col0\" >0</th>\n",
       "      <th id=\"T_4bc44_level0_col1\" class=\"col_heading level0 col1\" >1</th>\n",
       "      <th id=\"T_4bc44_level0_col2\" class=\"col_heading level0 col2\" >2</th>\n",
       "      <th id=\"T_4bc44_level0_col3\" class=\"col_heading level0 col3\" >3</th>\n",
       "      <th id=\"T_4bc44_level0_col4\" class=\"col_heading level0 col4\" >4</th>\n",
       "      <th id=\"T_4bc44_level0_col5\" class=\"col_heading level0 col5\" >5</th>\n",
       "    </tr>\n",
       "  </thead>\n",
       "  <tbody>\n",
       "    <tr>\n",
       "      <th id=\"T_4bc44_level0_row0\" class=\"row_heading level0 row0\" >0</th>\n",
       "      <td id=\"T_4bc44_row0_col0\" class=\"data row0 col0\" >0.000001</td>\n",
       "      <td id=\"T_4bc44_row0_col1\" class=\"data row0 col1\" >0.041701</td>\n",
       "      <td id=\"T_4bc44_row0_col2\" class=\"data row0 col2\" >0.000000</td>\n",
       "      <td id=\"T_4bc44_row0_col3\" class=\"data row0 col3\" >0.000000</td>\n",
       "      <td id=\"T_4bc44_row0_col4\" class=\"data row0 col4\" >0.000000</td>\n",
       "      <td id=\"T_4bc44_row0_col5\" class=\"data row0 col5\" >0.485696</td>\n",
       "    </tr>\n",
       "  </tbody>\n",
       "</table>\n"
      ],
      "text/plain": [
       "<pandas.io.formats.style.Styler at 0x12af6abb0>"
      ]
     },
     "execution_count": 9,
     "metadata": {},
     "output_type": "execute_result"
    }
   ],
   "source": [
    "p.T.style.apply(lambda x: [\"background: pink\" if v < 0.05 else \"\" for v in x], axis = 1)"
   ]
  },
  {
   "cell_type": "markdown",
   "id": "ed4b50b4",
   "metadata": {},
   "source": [
    "### AV-TV"
   ]
  },
  {
   "cell_type": "code",
   "execution_count": 10,
   "id": "ddb6a660",
   "metadata": {},
   "outputs": [
    {
     "name": "stdout",
     "output_type": "stream",
     "text": [
      "Int64Index([0, 1, 3, 4], dtype='int64')\n"
     ]
    }
   ],
   "source": [
    "test = mannwhitneyu(av, tv, use_continuity=False, alternative = 'two-sided')\n",
    "stats = pd.DataFrame(test[0])\n",
    "p = pd.DataFrame(test[1])\n",
    "\n",
    "p.T.style.apply(lambda x: [\"background: pink\" if v < 0.05 else \"\" for v in x], axis = 1)\n",
    "\n",
    "av_tv = p[(p < 0.05).any(axis=1)].index\n",
    "\n",
    "print(av_tv)"
   ]
  },
  {
   "cell_type": "code",
   "execution_count": 11,
   "id": "6c6e4583",
   "metadata": {},
   "outputs": [
    {
     "data": {
      "text/html": [
       "<style type=\"text/css\">\n",
       "#T_d6c93_row0_col0, #T_d6c93_row0_col1, #T_d6c93_row0_col3, #T_d6c93_row0_col4 {\n",
       "  background: pink;\n",
       "}\n",
       "</style>\n",
       "<table id=\"T_d6c93\">\n",
       "  <thead>\n",
       "    <tr>\n",
       "      <th class=\"blank level0\" >&nbsp;</th>\n",
       "      <th id=\"T_d6c93_level0_col0\" class=\"col_heading level0 col0\" >0</th>\n",
       "      <th id=\"T_d6c93_level0_col1\" class=\"col_heading level0 col1\" >1</th>\n",
       "      <th id=\"T_d6c93_level0_col2\" class=\"col_heading level0 col2\" >2</th>\n",
       "      <th id=\"T_d6c93_level0_col3\" class=\"col_heading level0 col3\" >3</th>\n",
       "      <th id=\"T_d6c93_level0_col4\" class=\"col_heading level0 col4\" >4</th>\n",
       "      <th id=\"T_d6c93_level0_col5\" class=\"col_heading level0 col5\" >5</th>\n",
       "    </tr>\n",
       "  </thead>\n",
       "  <tbody>\n",
       "    <tr>\n",
       "      <th id=\"T_d6c93_level0_row0\" class=\"row_heading level0 row0\" >0</th>\n",
       "      <td id=\"T_d6c93_row0_col0\" class=\"data row0 col0\" >0.000037</td>\n",
       "      <td id=\"T_d6c93_row0_col1\" class=\"data row0 col1\" >0.006063</td>\n",
       "      <td id=\"T_d6c93_row0_col2\" class=\"data row0 col2\" >0.957015</td>\n",
       "      <td id=\"T_d6c93_row0_col3\" class=\"data row0 col3\" >0.000000</td>\n",
       "      <td id=\"T_d6c93_row0_col4\" class=\"data row0 col4\" >0.035417</td>\n",
       "      <td id=\"T_d6c93_row0_col5\" class=\"data row0 col5\" >0.855824</td>\n",
       "    </tr>\n",
       "  </tbody>\n",
       "</table>\n"
      ],
      "text/plain": [
       "<pandas.io.formats.style.Styler at 0x12af777c0>"
      ]
     },
     "execution_count": 11,
     "metadata": {},
     "output_type": "execute_result"
    }
   ],
   "source": [
    "p.T.style.apply(lambda x: [\"background: pink\" if v < 0.05 else \"\" for v in x], axis = 1)"
   ]
  },
  {
   "cell_type": "markdown",
   "id": "ddf93e49",
   "metadata": {},
   "source": [
    "### MV-PV"
   ]
  },
  {
   "cell_type": "code",
   "execution_count": 12,
   "id": "3660f1dc",
   "metadata": {},
   "outputs": [
    {
     "name": "stdout",
     "output_type": "stream",
     "text": [
      "Int64Index([0, 2, 3, 4], dtype='int64')\n"
     ]
    }
   ],
   "source": [
    "test = mannwhitneyu(mv, pv, use_continuity=False, alternative = 'two-sided')\n",
    "stats = pd.DataFrame(test[0])\n",
    "p = pd.DataFrame(test[1])\n",
    "\n",
    "\n",
    "mv_pv = p[(p < 0.05).any(axis=1)].index\n",
    "\n",
    "print(mv_pv)"
   ]
  },
  {
   "cell_type": "code",
   "execution_count": 13,
   "id": "6c7fc0f8",
   "metadata": {},
   "outputs": [
    {
     "data": {
      "text/html": [
       "<style type=\"text/css\">\n",
       "#T_a27c2_row0_col0, #T_a27c2_row0_col2, #T_a27c2_row0_col3, #T_a27c2_row0_col4 {\n",
       "  background: pink;\n",
       "}\n",
       "</style>\n",
       "<table id=\"T_a27c2\">\n",
       "  <thead>\n",
       "    <tr>\n",
       "      <th class=\"blank level0\" >&nbsp;</th>\n",
       "      <th id=\"T_a27c2_level0_col0\" class=\"col_heading level0 col0\" >0</th>\n",
       "      <th id=\"T_a27c2_level0_col1\" class=\"col_heading level0 col1\" >1</th>\n",
       "      <th id=\"T_a27c2_level0_col2\" class=\"col_heading level0 col2\" >2</th>\n",
       "      <th id=\"T_a27c2_level0_col3\" class=\"col_heading level0 col3\" >3</th>\n",
       "      <th id=\"T_a27c2_level0_col4\" class=\"col_heading level0 col4\" >4</th>\n",
       "      <th id=\"T_a27c2_level0_col5\" class=\"col_heading level0 col5\" >5</th>\n",
       "    </tr>\n",
       "  </thead>\n",
       "  <tbody>\n",
       "    <tr>\n",
       "      <th id=\"T_a27c2_level0_row0\" class=\"row_heading level0 row0\" >0</th>\n",
       "      <td id=\"T_a27c2_row0_col0\" class=\"data row0 col0\" >0.000000</td>\n",
       "      <td id=\"T_a27c2_row0_col1\" class=\"data row0 col1\" >0.584795</td>\n",
       "      <td id=\"T_a27c2_row0_col2\" class=\"data row0 col2\" >0.000000</td>\n",
       "      <td id=\"T_a27c2_row0_col3\" class=\"data row0 col3\" >0.000000</td>\n",
       "      <td id=\"T_a27c2_row0_col4\" class=\"data row0 col4\" >0.000000</td>\n",
       "      <td id=\"T_a27c2_row0_col5\" class=\"data row0 col5\" >0.372070</td>\n",
       "    </tr>\n",
       "  </tbody>\n",
       "</table>\n"
      ],
      "text/plain": [
       "<pandas.io.formats.style.Styler at 0x12af77070>"
      ]
     },
     "execution_count": 13,
     "metadata": {},
     "output_type": "execute_result"
    }
   ],
   "source": [
    "p.T.style.apply(lambda x: [\"background: pink\" if v < 0.05 else \"\" for v in x], axis = 1)"
   ]
  },
  {
   "cell_type": "markdown",
   "id": "e16b32b9",
   "metadata": {},
   "source": [
    "### MV_TV"
   ]
  },
  {
   "cell_type": "code",
   "execution_count": 14,
   "id": "d0562c0d",
   "metadata": {},
   "outputs": [
    {
     "name": "stdout",
     "output_type": "stream",
     "text": [
      "Int64Index([0, 2, 3, 4], dtype='int64')\n"
     ]
    }
   ],
   "source": [
    "test = mannwhitneyu(mv, tv, use_continuity=False, alternative = 'two-sided')\n",
    "stats = pd.DataFrame(test[0])\n",
    "p = pd.DataFrame(test[1])\n",
    "\n",
    "mv_tv = p[(p < 0.05).any(axis=1)].index\n",
    "\n",
    "print(mv_tv)"
   ]
  },
  {
   "cell_type": "code",
   "execution_count": 15,
   "id": "6a2fe28d",
   "metadata": {},
   "outputs": [
    {
     "data": {
      "text/html": [
       "<style type=\"text/css\">\n",
       "#T_793da_row0_col0, #T_793da_row0_col2, #T_793da_row0_col3, #T_793da_row0_col4 {\n",
       "  background: pink;\n",
       "}\n",
       "</style>\n",
       "<table id=\"T_793da\">\n",
       "  <thead>\n",
       "    <tr>\n",
       "      <th class=\"blank level0\" >&nbsp;</th>\n",
       "      <th id=\"T_793da_level0_col0\" class=\"col_heading level0 col0\" >0</th>\n",
       "      <th id=\"T_793da_level0_col1\" class=\"col_heading level0 col1\" >1</th>\n",
       "      <th id=\"T_793da_level0_col2\" class=\"col_heading level0 col2\" >2</th>\n",
       "      <th id=\"T_793da_level0_col3\" class=\"col_heading level0 col3\" >3</th>\n",
       "      <th id=\"T_793da_level0_col4\" class=\"col_heading level0 col4\" >4</th>\n",
       "      <th id=\"T_793da_level0_col5\" class=\"col_heading level0 col5\" >5</th>\n",
       "    </tr>\n",
       "  </thead>\n",
       "  <tbody>\n",
       "    <tr>\n",
       "      <th id=\"T_793da_level0_row0\" class=\"row_heading level0 row0\" >0</th>\n",
       "      <td id=\"T_793da_row0_col0\" class=\"data row0 col0\" >0.000000</td>\n",
       "      <td id=\"T_793da_row0_col1\" class=\"data row0 col1\" >0.120583</td>\n",
       "      <td id=\"T_793da_row0_col2\" class=\"data row0 col2\" >0.000000</td>\n",
       "      <td id=\"T_793da_row0_col3\" class=\"data row0 col3\" >0.000000</td>\n",
       "      <td id=\"T_793da_row0_col4\" class=\"data row0 col4\" >0.000560</td>\n",
       "      <td id=\"T_793da_row0_col5\" class=\"data row0 col5\" >0.180530</td>\n",
       "    </tr>\n",
       "  </tbody>\n",
       "</table>\n"
      ],
      "text/plain": [
       "<pandas.io.formats.style.Styler at 0x12af77370>"
      ]
     },
     "execution_count": 15,
     "metadata": {},
     "output_type": "execute_result"
    }
   ],
   "source": [
    "p.T.style.apply(lambda x: [\"background: pink\" if v < 0.05 else \"\" for v in x], axis = 1)"
   ]
  },
  {
   "cell_type": "markdown",
   "id": "b4ef6458",
   "metadata": {},
   "source": [
    "### PV-TV"
   ]
  },
  {
   "cell_type": "code",
   "execution_count": 16,
   "id": "3cc0e717",
   "metadata": {},
   "outputs": [
    {
     "name": "stdout",
     "output_type": "stream",
     "text": [
      "Int64Index([2, 4], dtype='int64')\n"
     ]
    }
   ],
   "source": [
    "test = mannwhitneyu(pv, tv, use_continuity=False, alternative = 'two-sided')\n",
    "stats = pd.DataFrame(test[0])\n",
    "p = pd.DataFrame(test[1])\n",
    "\n",
    "pv_tv = p[(p < 0.05).any(axis=1)].index\n",
    "\n",
    "print(pv_tv)"
   ]
  },
  {
   "cell_type": "code",
   "execution_count": 17,
   "id": "b826ace6",
   "metadata": {},
   "outputs": [
    {
     "data": {
      "text/html": [
       "<style type=\"text/css\">\n",
       "#T_23832_row0_col2, #T_23832_row0_col4 {\n",
       "  background: pink;\n",
       "}\n",
       "</style>\n",
       "<table id=\"T_23832\">\n",
       "  <thead>\n",
       "    <tr>\n",
       "      <th class=\"blank level0\" >&nbsp;</th>\n",
       "      <th id=\"T_23832_level0_col0\" class=\"col_heading level0 col0\" >0</th>\n",
       "      <th id=\"T_23832_level0_col1\" class=\"col_heading level0 col1\" >1</th>\n",
       "      <th id=\"T_23832_level0_col2\" class=\"col_heading level0 col2\" >2</th>\n",
       "      <th id=\"T_23832_level0_col3\" class=\"col_heading level0 col3\" >3</th>\n",
       "      <th id=\"T_23832_level0_col4\" class=\"col_heading level0 col4\" >4</th>\n",
       "      <th id=\"T_23832_level0_col5\" class=\"col_heading level0 col5\" >5</th>\n",
       "    </tr>\n",
       "  </thead>\n",
       "  <tbody>\n",
       "    <tr>\n",
       "      <th id=\"T_23832_level0_row0\" class=\"row_heading level0 row0\" >0</th>\n",
       "      <td id=\"T_23832_row0_col0\" class=\"data row0 col0\" >0.843006</td>\n",
       "      <td id=\"T_23832_row0_col1\" class=\"data row0 col1\" >0.239686</td>\n",
       "      <td id=\"T_23832_row0_col2\" class=\"data row0 col2\" >0.000000</td>\n",
       "      <td id=\"T_23832_row0_col3\" class=\"data row0 col3\" >0.891533</td>\n",
       "      <td id=\"T_23832_row0_col4\" class=\"data row0 col4\" >0.000073</td>\n",
       "      <td id=\"T_23832_row0_col5\" class=\"data row0 col5\" >0.580797</td>\n",
       "    </tr>\n",
       "  </tbody>\n",
       "</table>\n"
      ],
      "text/plain": [
       "<pandas.io.formats.style.Styler at 0x12af87280>"
      ]
     },
     "execution_count": 17,
     "metadata": {},
     "output_type": "execute_result"
    }
   ],
   "source": [
    "p.T.style.apply(lambda x: [\"background: pink\" if v < 0.05 else \"\" for v in x], axis = 1)"
   ]
  },
  {
   "cell_type": "markdown",
   "id": "c6d4b73d",
   "metadata": {},
   "source": [
    "## as a result we will only exclude the spectral spread. So lets finalize the final dataframe."
   ]
  },
  {
   "cell_type": "code",
   "execution_count": 18,
   "id": "1c075a7d",
   "metadata": {},
   "outputs": [
    {
     "data": {
      "text/html": [
       "<div>\n",
       "<style scoped>\n",
       "    .dataframe tbody tr th:only-of-type {\n",
       "        vertical-align: middle;\n",
       "    }\n",
       "\n",
       "    .dataframe tbody tr th {\n",
       "        vertical-align: top;\n",
       "    }\n",
       "\n",
       "    .dataframe thead th {\n",
       "        text-align: right;\n",
       "    }\n",
       "</style>\n",
       "<table border=\"1\" class=\"dataframe\">\n",
       "  <thead>\n",
       "    <tr style=\"text-align: right;\">\n",
       "      <th></th>\n",
       "      <th>energy</th>\n",
       "      <th>entropy</th>\n",
       "      <th>spectral entropy</th>\n",
       "      <th>spectral rolloff</th>\n",
       "      <th>spectral centorid</th>\n",
       "      <th>spectral spread</th>\n",
       "    </tr>\n",
       "  </thead>\n",
       "  <tbody>\n",
       "    <tr>\n",
       "      <th>0</th>\n",
       "      <td>0.003627</td>\n",
       "      <td>1.669286</td>\n",
       "      <td>0.188441</td>\n",
       "      <td>0.07420</td>\n",
       "      <td>0.053309</td>\n",
       "      <td>0.050103</td>\n",
       "    </tr>\n",
       "    <tr>\n",
       "      <th>1</th>\n",
       "      <td>0.000750</td>\n",
       "      <td>2.963927</td>\n",
       "      <td>0.043663</td>\n",
       "      <td>0.04800</td>\n",
       "      <td>0.042804</td>\n",
       "      <td>0.050674</td>\n",
       "    </tr>\n",
       "    <tr>\n",
       "      <th>2</th>\n",
       "      <td>0.000388</td>\n",
       "      <td>2.840991</td>\n",
       "      <td>0.017348</td>\n",
       "      <td>0.04395</td>\n",
       "      <td>0.034369</td>\n",
       "      <td>0.036723</td>\n",
       "    </tr>\n",
       "    <tr>\n",
       "      <th>3</th>\n",
       "      <td>0.000528</td>\n",
       "      <td>2.859511</td>\n",
       "      <td>0.025138</td>\n",
       "      <td>0.04730</td>\n",
       "      <td>0.037526</td>\n",
       "      <td>0.048492</td>\n",
       "    </tr>\n",
       "    <tr>\n",
       "      <th>4</th>\n",
       "      <td>0.000721</td>\n",
       "      <td>2.733358</td>\n",
       "      <td>0.029182</td>\n",
       "      <td>0.04545</td>\n",
       "      <td>0.041871</td>\n",
       "      <td>0.065678</td>\n",
       "    </tr>\n",
       "  </tbody>\n",
       "</table>\n",
       "</div>"
      ],
      "text/plain": [
       "     energy   entropy  spectral entropy  spectral rolloff  spectral centorid  \\\n",
       "0  0.003627  1.669286          0.188441           0.07420           0.053309   \n",
       "1  0.000750  2.963927          0.043663           0.04800           0.042804   \n",
       "2  0.000388  2.840991          0.017348           0.04395           0.034369   \n",
       "3  0.000528  2.859511          0.025138           0.04730           0.037526   \n",
       "4  0.000721  2.733358          0.029182           0.04545           0.041871   \n",
       "\n",
       "   spectral spread  \n",
       "0         0.050103  \n",
       "1         0.050674  \n",
       "2         0.036723  \n",
       "3         0.048492  \n",
       "4         0.065678  "
      ]
     },
     "execution_count": 18,
     "metadata": {},
     "output_type": "execute_result"
    }
   ],
   "source": [
    "df = pd.concat([av, mv, pv, tv], axis =0)\n",
    "df.head()"
   ]
  },
  {
   "cell_type": "code",
   "execution_count": 19,
   "id": "5d46b56a",
   "metadata": {},
   "outputs": [],
   "source": [
    "df.drop([\"spectral spread\"], axis =1, inplace= True)\n"
   ]
  },
  {
   "cell_type": "code",
   "execution_count": 20,
   "id": "42f3e78c",
   "metadata": {},
   "outputs": [
    {
     "data": {
      "text/html": [
       "<div>\n",
       "<style scoped>\n",
       "    .dataframe tbody tr th:only-of-type {\n",
       "        vertical-align: middle;\n",
       "    }\n",
       "\n",
       "    .dataframe tbody tr th {\n",
       "        vertical-align: top;\n",
       "    }\n",
       "\n",
       "    .dataframe thead th {\n",
       "        text-align: right;\n",
       "    }\n",
       "</style>\n",
       "<table border=\"1\" class=\"dataframe\">\n",
       "  <thead>\n",
       "    <tr style=\"text-align: right;\">\n",
       "      <th></th>\n",
       "      <th>energy</th>\n",
       "      <th>entropy</th>\n",
       "      <th>spectral entropy</th>\n",
       "      <th>spectral rolloff</th>\n",
       "      <th>spectral centorid</th>\n",
       "    </tr>\n",
       "  </thead>\n",
       "  <tbody>\n",
       "    <tr>\n",
       "      <th>0</th>\n",
       "      <td>0.003627</td>\n",
       "      <td>1.669286</td>\n",
       "      <td>0.188441</td>\n",
       "      <td>0.07420</td>\n",
       "      <td>0.053309</td>\n",
       "    </tr>\n",
       "    <tr>\n",
       "      <th>1</th>\n",
       "      <td>0.000750</td>\n",
       "      <td>2.963927</td>\n",
       "      <td>0.043663</td>\n",
       "      <td>0.04800</td>\n",
       "      <td>0.042804</td>\n",
       "    </tr>\n",
       "    <tr>\n",
       "      <th>2</th>\n",
       "      <td>0.000388</td>\n",
       "      <td>2.840991</td>\n",
       "      <td>0.017348</td>\n",
       "      <td>0.04395</td>\n",
       "      <td>0.034369</td>\n",
       "    </tr>\n",
       "    <tr>\n",
       "      <th>3</th>\n",
       "      <td>0.000528</td>\n",
       "      <td>2.859511</td>\n",
       "      <td>0.025138</td>\n",
       "      <td>0.04730</td>\n",
       "      <td>0.037526</td>\n",
       "    </tr>\n",
       "    <tr>\n",
       "      <th>4</th>\n",
       "      <td>0.000721</td>\n",
       "      <td>2.733358</td>\n",
       "      <td>0.029182</td>\n",
       "      <td>0.04545</td>\n",
       "      <td>0.041871</td>\n",
       "    </tr>\n",
       "    <tr>\n",
       "      <th>...</th>\n",
       "      <td>...</td>\n",
       "      <td>...</td>\n",
       "      <td>...</td>\n",
       "      <td>...</td>\n",
       "      <td>...</td>\n",
       "    </tr>\n",
       "    <tr>\n",
       "      <th>1200</th>\n",
       "      <td>0.049386</td>\n",
       "      <td>2.913031</td>\n",
       "      <td>0.003455</td>\n",
       "      <td>0.01245</td>\n",
       "      <td>0.022283</td>\n",
       "    </tr>\n",
       "    <tr>\n",
       "      <th>1201</th>\n",
       "      <td>0.036694</td>\n",
       "      <td>2.950586</td>\n",
       "      <td>0.004319</td>\n",
       "      <td>0.01265</td>\n",
       "      <td>0.023515</td>\n",
       "    </tr>\n",
       "    <tr>\n",
       "      <th>1202</th>\n",
       "      <td>0.046054</td>\n",
       "      <td>3.018884</td>\n",
       "      <td>0.004654</td>\n",
       "      <td>0.01095</td>\n",
       "      <td>0.039226</td>\n",
       "    </tr>\n",
       "    <tr>\n",
       "      <th>1203</th>\n",
       "      <td>0.036297</td>\n",
       "      <td>2.993076</td>\n",
       "      <td>0.014952</td>\n",
       "      <td>0.01215</td>\n",
       "      <td>0.045749</td>\n",
       "    </tr>\n",
       "    <tr>\n",
       "      <th>1204</th>\n",
       "      <td>0.033401</td>\n",
       "      <td>3.047971</td>\n",
       "      <td>0.027397</td>\n",
       "      <td>0.01215</td>\n",
       "      <td>0.028171</td>\n",
       "    </tr>\n",
       "  </tbody>\n",
       "</table>\n",
       "<p>4728 rows × 5 columns</p>\n",
       "</div>"
      ],
      "text/plain": [
       "        energy   entropy  spectral entropy  spectral rolloff  \\\n",
       "0     0.003627  1.669286          0.188441           0.07420   \n",
       "1     0.000750  2.963927          0.043663           0.04800   \n",
       "2     0.000388  2.840991          0.017348           0.04395   \n",
       "3     0.000528  2.859511          0.025138           0.04730   \n",
       "4     0.000721  2.733358          0.029182           0.04545   \n",
       "...        ...       ...               ...               ...   \n",
       "1200  0.049386  2.913031          0.003455           0.01245   \n",
       "1201  0.036694  2.950586          0.004319           0.01265   \n",
       "1202  0.046054  3.018884          0.004654           0.01095   \n",
       "1203  0.036297  2.993076          0.014952           0.01215   \n",
       "1204  0.033401  3.047971          0.027397           0.01215   \n",
       "\n",
       "      spectral centorid  \n",
       "0              0.053309  \n",
       "1              0.042804  \n",
       "2              0.034369  \n",
       "3              0.037526  \n",
       "4              0.041871  \n",
       "...                 ...  \n",
       "1200           0.022283  \n",
       "1201           0.023515  \n",
       "1202           0.039226  \n",
       "1203           0.045749  \n",
       "1204           0.028171  \n",
       "\n",
       "[4728 rows x 5 columns]"
      ]
     },
     "execution_count": 20,
     "metadata": {},
     "output_type": "execute_result"
    }
   ],
   "source": [
    "df"
   ]
  },
  {
   "cell_type": "code",
   "execution_count": 21,
   "id": "3f69d78a",
   "metadata": {},
   "outputs": [],
   "source": [
    "df.to_csv(\"/Users/ecem/Desktop/phonocardiogram/data/time-domain-features.csv\")"
   ]
  },
  {
   "cell_type": "code",
   "execution_count": null,
   "id": "d06b4990",
   "metadata": {},
   "outputs": [],
   "source": []
  }
 ],
 "metadata": {
  "kernelspec": {
   "display_name": "Python 3 (ipykernel)",
   "language": "python",
   "name": "python3"
  },
  "language_info": {
   "codemirror_mode": {
    "name": "ipython",
    "version": 3
   },
   "file_extension": ".py",
   "mimetype": "text/x-python",
   "name": "python",
   "nbconvert_exporter": "python",
   "pygments_lexer": "ipython3",
   "version": "3.9.9"
  }
 },
 "nbformat": 4,
 "nbformat_minor": 5
}
