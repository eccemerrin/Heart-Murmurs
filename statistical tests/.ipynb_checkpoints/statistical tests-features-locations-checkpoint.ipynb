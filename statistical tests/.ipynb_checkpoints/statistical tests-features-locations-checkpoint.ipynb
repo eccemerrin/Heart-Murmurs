{
 "cells": [
  {
   "cell_type": "code",
   "execution_count": 1,
   "id": "e232ae2f",
   "metadata": {},
   "outputs": [
    {
     "ename": "RuntimeError",
     "evalue": "module compiled against API version 0xe but this version of numpy is 0xd",
     "output_type": "error",
     "traceback": [
      "\u001b[0;31m---------------------------------------------------------------------------\u001b[0m",
      "\u001b[0;31mRuntimeError\u001b[0m                              Traceback (most recent call last)",
      "\u001b[0;31mRuntimeError\u001b[0m: module compiled against API version 0xe but this version of numpy is 0xd"
     ]
    }
   ],
   "source": [
    "import pandas as pd \n",
    "from scipy.stats import mannwhitneyu\n",
    "from scipy import stats\n",
    "import numpy as np"
   ]
  },
  {
   "cell_type": "code",
   "execution_count": 2,
   "id": "52193d25",
   "metadata": {},
   "outputs": [],
   "source": [
    "AV_path =  \"/Users/ecem/Desktop/phonocardiogram/data/AV\"\n",
    "MV_path =  \"/Users/ecem/Desktop/phonocardiogram/data/MV\"\n",
    "PV_path =  \"/Users/ecem/Desktop/phonocardiogram/data/PV\"\n",
    "TV_path =  \"/Users/ecem/Desktop/phonocardiogram/data/TV\""
   ]
  },
  {
   "cell_type": "markdown",
   "id": "95a719e9",
   "metadata": {},
   "source": [
    "# SPECTOGRAM"
   ]
  },
  {
   "cell_type": "code",
   "execution_count": 3,
   "id": "0f160241",
   "metadata": {},
   "outputs": [],
   "source": [
    "p_spec_av = np.load(AV_path + \"/present/present_AV_spectogram_coef.npy\", allow_pickle = True)\n",
    "p_spec_mv = np.load(MV_path + \"/present/present_MV_spectogram_coef.npy\", allow_pickle = True)\n",
    "p_spec_pv = np.load(PV_path + \"/present/present_PV_spectogram_coef.npy\", allow_pickle = True)\n",
    "p_spec_tv = np.load(TV_path + \"/present/present_TV_spectogram_coef.npy\", allow_pickle = True)"
   ]
  },
  {
   "cell_type": "markdown",
   "id": "05fb94bb",
   "metadata": {},
   "source": [
    "### AV-MV"
   ]
  },
  {
   "cell_type": "code",
   "execution_count": 4,
   "id": "5ac23bb4",
   "metadata": {},
   "outputs": [],
   "source": [
    "test = mannwhitneyu(p_spec_av, p_spec_mv, use_continuity=False, alternative = 'two-sided')\n",
    "stats = pd.DataFrame(test[0])\n",
    "p = pd.DataFrame(test[1])\n"
   ]
  },
  {
   "cell_type": "code",
   "execution_count": 5,
   "id": "a3f26f1d",
   "metadata": {},
   "outputs": [],
   "source": [
    "index_list_av_mv = p[(p < 0.05).any(axis=1)].index"
   ]
  },
  {
   "cell_type": "code",
   "execution_count": 6,
   "id": "b837a43d",
   "metadata": {},
   "outputs": [
    {
     "data": {
      "text/plain": [
       "15180"
      ]
     },
     "execution_count": 6,
     "metadata": {},
     "output_type": "execute_result"
    }
   ],
   "source": [
    "len(index_list_av_mv)"
   ]
  },
  {
   "cell_type": "markdown",
   "id": "33b4bd95",
   "metadata": {},
   "source": [
    "### AV-PV"
   ]
  },
  {
   "cell_type": "code",
   "execution_count": 7,
   "id": "65fa9939",
   "metadata": {},
   "outputs": [
    {
     "name": "stdout",
     "output_type": "stream",
     "text": [
      "14715\n"
     ]
    }
   ],
   "source": [
    "test = mannwhitneyu(p_spec_av, p_spec_pv, use_continuity=False, alternative = 'two-sided')\n",
    "stats = pd.DataFrame(test[0])\n",
    "p = pd.DataFrame(test[1])\n",
    "\n",
    "index_list_av_pv = p[(p < 0.05).any(axis=1)].index\n",
    "\n",
    "print(len(index_list_av_pv))"
   ]
  },
  {
   "cell_type": "markdown",
   "id": "8fe5fea6",
   "metadata": {},
   "source": [
    "### AV_TV"
   ]
  },
  {
   "cell_type": "code",
   "execution_count": 8,
   "id": "ddb6a660",
   "metadata": {},
   "outputs": [
    {
     "name": "stdout",
     "output_type": "stream",
     "text": [
      "14551\n"
     ]
    }
   ],
   "source": [
    "test = mannwhitneyu(p_spec_av, p_spec_tv, use_continuity=False, alternative = 'two-sided')\n",
    "stats = pd.DataFrame(test[0])\n",
    "p = pd.DataFrame(test[1])\n",
    "\n",
    "p.T.style.apply(lambda x: [\"background: pink\" if v < 0.05 else \"\" for v in x], axis = 1)\n",
    "\n",
    "index_list_av_tv = p[(p < 0.05).any(axis=1)].index\n",
    "\n",
    "print(len(index_list_av_tv))"
   ]
  },
  {
   "cell_type": "code",
   "execution_count": 9,
   "id": "80341bbf",
   "metadata": {},
   "outputs": [
    {
     "name": "stdout",
     "output_type": "stream",
     "text": [
      "13159\n"
     ]
    }
   ],
   "source": [
    "av = list(set(index_list_av_mv) & set(index_list_av_pv ) & set(index_list_av_tv))\n",
    "print(len(av))"
   ]
  },
  {
   "cell_type": "markdown",
   "id": "ddf93e49",
   "metadata": {},
   "source": [
    "### MV-PV"
   ]
  },
  {
   "cell_type": "code",
   "execution_count": 10,
   "id": "3660f1dc",
   "metadata": {},
   "outputs": [
    {
     "name": "stdout",
     "output_type": "stream",
     "text": [
      "15786\n"
     ]
    }
   ],
   "source": [
    "test = mannwhitneyu(p_spec_mv, p_spec_pv, use_continuity=False, alternative = 'two-sided')\n",
    "stats = pd.DataFrame(test[0])\n",
    "p = pd.DataFrame(test[1])\n",
    "\n",
    "\n",
    "index_list_mv_pv = p[(p < 0.05).any(axis=1)].index\n",
    "\n",
    "print(len(index_list_mv_pv))"
   ]
  },
  {
   "cell_type": "markdown",
   "id": "e16b32b9",
   "metadata": {},
   "source": [
    "### MV_TV"
   ]
  },
  {
   "cell_type": "code",
   "execution_count": 11,
   "id": "d0562c0d",
   "metadata": {},
   "outputs": [
    {
     "name": "stdout",
     "output_type": "stream",
     "text": [
      "14159\n"
     ]
    }
   ],
   "source": [
    "test = mannwhitneyu(p_spec_mv, p_spec_tv, use_continuity=False, alternative = 'two-sided')\n",
    "stats = pd.DataFrame(test[0])\n",
    "p = pd.DataFrame(test[1])\n",
    "\n",
    "p.T.style.apply(lambda x: [\"background: pink\" if v < 0.05 else \"\" for v in x], axis = 1)\n",
    "\n",
    "index_list_mv_tv = p[(p < 0.05).any(axis=1)].index\n",
    "\n",
    "print(len(index_list_mv_tv))"
   ]
  },
  {
   "cell_type": "code",
   "execution_count": 12,
   "id": "ebb22702",
   "metadata": {},
   "outputs": [
    {
     "name": "stdout",
     "output_type": "stream",
     "text": [
      "13759\n"
     ]
    }
   ],
   "source": [
    "mv = list(set(index_list_mv_pv) & set(index_list_mv_tv ))\n",
    "print(len(mv))"
   ]
  },
  {
   "cell_type": "markdown",
   "id": "b4ef6458",
   "metadata": {},
   "source": [
    "### PV-TV"
   ]
  },
  {
   "cell_type": "code",
   "execution_count": 13,
   "id": "3cc0e717",
   "metadata": {},
   "outputs": [
    {
     "name": "stdout",
     "output_type": "stream",
     "text": [
      "3197\n"
     ]
    }
   ],
   "source": [
    "test = mannwhitneyu(p_spec_pv, p_spec_tv, use_continuity=False, alternative = 'two-sided')\n",
    "stats = pd.DataFrame(test[0])\n",
    "p = pd.DataFrame(test[1])\n",
    "\n",
    "p.T.style.apply(lambda x: [\"background: pink\" if v < 0.05 else \"\" for v in x], axis = 1)\n",
    "\n",
    "index_list_pv_tv = p[(p < 0.05).any(axis=1)].index\n",
    "\n",
    "print(len(index_list_pv_tv))"
   ]
  },
  {
   "cell_type": "code",
   "execution_count": 14,
   "id": "5dccfb53",
   "metadata": {},
   "outputs": [
    {
     "data": {
      "text/plain": [
       "1169"
      ]
     },
     "execution_count": 14,
     "metadata": {},
     "output_type": "execute_result"
    }
   ],
   "source": [
    "index_list_pv_tv[0]"
   ]
  },
  {
   "cell_type": "code",
   "execution_count": 15,
   "id": "e055e820",
   "metadata": {},
   "outputs": [
    {
     "name": "stdout",
     "output_type": "stream",
     "text": [
      "129\n"
     ]
    }
   ],
   "source": [
    "final = list(set(index_list_pv_tv) & set(av)& set(mv))\n",
    "print(len(final))"
   ]
  },
  {
   "cell_type": "code",
   "execution_count": 16,
   "id": "80a5daf0",
   "metadata": {},
   "outputs": [],
   "source": [
    "#final"
   ]
  },
  {
   "cell_type": "code",
   "execution_count": 17,
   "id": "cc9b3a35",
   "metadata": {},
   "outputs": [],
   "source": [
    "final = np.array(final)\n",
    "np.save(\"/Users/ecem/Desktop/phonocardiogram/data/final_spec_coef_four_class\", final, allow_pickle = True)"
   ]
  },
  {
   "cell_type": "markdown",
   "id": "9b66ebd7",
   "metadata": {},
   "source": [
    "# WAVELET"
   ]
  },
  {
   "cell_type": "code",
   "execution_count": 18,
   "id": "d72f72c4",
   "metadata": {},
   "outputs": [],
   "source": [
    "from IPython.display import display"
   ]
  },
  {
   "cell_type": "code",
   "execution_count": 19,
   "id": "e8d45021",
   "metadata": {},
   "outputs": [],
   "source": [
    "def shortcut_v2(dir_path = None, name1 = 'mr', name2 = 'ar', level = 0):\n",
    "    \n",
    "    wavelet_1 = np.load(dir_path + \"/\" + name1 + \"_lvl_{}.npy\".format(level), allow_pickle = True)\n",
    "    wavelet_2 = np.load(dir_path + \"/\" + name2 + \"_lvl_{}.npy\".format(level), allow_pickle = True)\n",
    "\n",
    "    test = mannwhitneyu(wavelet_1, wavelet_2, use_continuity = False, alternative = 'two-sided')\n",
    "    stats = pd.DataFrame(test[0])\n",
    "    p_value_df = pd.DataFrame(test[1])\n",
    "\n",
    "    little_index_list = p_value_df[(p_value_df < 0.05).any(axis=1)].index\n",
    "    #df = p_value_df.T.style.apply(lambda x: [\"background: pink\" if v < 0.05 else \"\" for v in x],\n",
    "                                          #axis = 1)\n",
    "    \n",
    "    return  little_index_list\n"
   ]
  },
  {
   "cell_type": "code",
   "execution_count": 20,
   "id": "048149a4",
   "metadata": {},
   "outputs": [],
   "source": [
    "path = \"/Users/ecem/Desktop/phonocardiogram/data/\""
   ]
  },
  {
   "cell_type": "markdown",
   "id": "44c7021e",
   "metadata": {},
   "source": [
    "### AV- MV"
   ]
  },
  {
   "cell_type": "code",
   "execution_count": 21,
   "id": "7246e787",
   "metadata": {},
   "outputs": [],
   "source": [
    "index_list_av_mv_w = []\n",
    "for i in range(7):\n",
    "    indexes = shortcut_v2(path, 'AV/present/present_AV_wavelet_coef', 'MV/present/present_MV_wavelet_coef', level = i)\n",
    "    index_list_av_mv_w.append(indexes)\n",
    "    \n",
    "    "
   ]
  },
  {
   "cell_type": "code",
   "execution_count": 22,
   "id": "67322873",
   "metadata": {},
   "outputs": [],
   "source": [
    "#index_list_av_mv_w"
   ]
  },
  {
   "cell_type": "markdown",
   "id": "e7b9bfdb",
   "metadata": {},
   "source": [
    "### AV-PV"
   ]
  },
  {
   "cell_type": "code",
   "execution_count": 23,
   "id": "1cccef97",
   "metadata": {},
   "outputs": [],
   "source": [
    "index_list_av_pv_w = []\n",
    "for i in range(7):\n",
    "    indexes = shortcut_v2(path, 'AV/present/present_AV_wavelet_coef', 'PV/present/present_PV_wavelet_coef', level = i)\n",
    "    index_list_av_pv_w.append(indexes)"
   ]
  },
  {
   "cell_type": "code",
   "execution_count": 24,
   "id": "12841d6e",
   "metadata": {},
   "outputs": [],
   "source": [
    "#index_list_av_pv_w"
   ]
  },
  {
   "cell_type": "markdown",
   "id": "8c6ed2f8",
   "metadata": {},
   "source": [
    "### AV-TV"
   ]
  },
  {
   "cell_type": "code",
   "execution_count": 25,
   "id": "5df2919f",
   "metadata": {},
   "outputs": [],
   "source": [
    "index_list_av_tv_w = []\n",
    "for i in range(7):\n",
    "    indexes = shortcut_v2(path, 'AV/present/present_AV_wavelet_coef', 'TV/present/present_TV_wavelet_coef', level = i)\n",
    "    index_list_av_tv_w.append(indexes)\n",
    "    \n",
    "#index_list_av_tv_w"
   ]
  },
  {
   "cell_type": "code",
   "execution_count": 26,
   "id": "fe6b861e",
   "metadata": {},
   "outputs": [],
   "source": [
    "w_index_av = []\n",
    "for i in range(7):\n",
    "    av_w = list(set(index_list_av_mv_w[i]) & set(index_list_av_pv_w[i]) & set(index_list_av_tv_w[i]))\n",
    "    w_index_av.append(av_w)\n",
    "\n",
    "    "
   ]
  },
  {
   "cell_type": "markdown",
   "id": "9939ebe8",
   "metadata": {},
   "source": [
    "### MV-PV"
   ]
  },
  {
   "cell_type": "code",
   "execution_count": 27,
   "id": "e23fdf74",
   "metadata": {},
   "outputs": [],
   "source": [
    "index_list_mv_pv_w = []\n",
    "for i in range(7):\n",
    "    indexes = shortcut_v2(path, 'MV/present/present_MV_wavelet_coef', 'PV/present/present_PV_wavelet_coef', level = i)\n",
    "    index_list_mv_pv_w.append(indexes)"
   ]
  },
  {
   "cell_type": "markdown",
   "id": "5dc7175f",
   "metadata": {},
   "source": [
    "### MV-TV"
   ]
  },
  {
   "cell_type": "code",
   "execution_count": 28,
   "id": "26dc3092",
   "metadata": {},
   "outputs": [],
   "source": [
    "index_list_mv_tv_w = []\n",
    "for i in range(7):\n",
    "    indexes = shortcut_v2(path, 'MV/present/present_MV_wavelet_coef', 'TV/present/present_TV_wavelet_coef', level = i)\n",
    "    index_list_mv_tv_w.append(indexes)"
   ]
  },
  {
   "cell_type": "code",
   "execution_count": 29,
   "id": "fe110aad",
   "metadata": {},
   "outputs": [],
   "source": [
    "w_index_mv = []\n",
    "for i in range(7):\n",
    "    mv_w = list(set(index_list_mv_pv_w[i]) & set(index_list_mv_tv_w[i]))\n",
    "    w_index_mv.append(mv_w)"
   ]
  },
  {
   "cell_type": "markdown",
   "id": "53858db9",
   "metadata": {},
   "source": [
    "### PV-TV"
   ]
  },
  {
   "cell_type": "code",
   "execution_count": 30,
   "id": "72b53387",
   "metadata": {},
   "outputs": [],
   "source": [
    "index_list_pv_tv_w = []\n",
    "for i in range(7):\n",
    "    indexes = shortcut_v2(path, 'PV/present/present_PV_wavelet_coef', 'TV/present/present_TV_wavelet_coef', level = i)\n",
    "    index_list_pv_tv_w.append(indexes)"
   ]
  },
  {
   "cell_type": "code",
   "execution_count": 31,
   "id": "f832fe53",
   "metadata": {},
   "outputs": [
    {
     "data": {
      "text/plain": [
       "[[129,\n",
       "  136,\n",
       "  266,\n",
       "  16,\n",
       "  402,\n",
       "  532,\n",
       "  539,\n",
       "  155,\n",
       "  286,\n",
       "  159,\n",
       "  301,\n",
       "  48,\n",
       "  571,\n",
       "  194,\n",
       "  198,\n",
       "  200,\n",
       "  73,\n",
       "  459,\n",
       "  210,\n",
       "  601,\n",
       "  232,\n",
       "  242,\n",
       "  375,\n",
       "  381,\n",
       "  255],\n",
       " [468, 237],\n",
       " [353,\n",
       "  610,\n",
       "  101,\n",
       "  390,\n",
       "  838,\n",
       "  776,\n",
       "  1094,\n",
       "  778,\n",
       "  1166,\n",
       "  639,\n",
       "  48,\n",
       "  989,\n",
       "  1043,\n",
       "  151,\n",
       "  733,\n",
       "  991],\n",
       " [608,\n",
       "  2176,\n",
       "  1122,\n",
       "  1029,\n",
       "  2086,\n",
       "  1477,\n",
       "  812,\n",
       "  1677,\n",
       "  792,\n",
       "  1746,\n",
       "  1874,\n",
       "  1780,\n",
       "  2264,\n",
       "  1817,\n",
       "  1371],\n",
       " [1536,\n",
       "  4480,\n",
       "  2053,\n",
       "  3209,\n",
       "  4110,\n",
       "  402,\n",
       "  3349,\n",
       "  3737,\n",
       "  1182,\n",
       "  3230,\n",
       "  3231,\n",
       "  1570,\n",
       "  1571,\n",
       "  2084,\n",
       "  2085,\n",
       "  4773,\n",
       "  420,\n",
       "  1323,\n",
       "  3118,\n",
       "  4398,\n",
       "  1842,\n",
       "  1843,\n",
       "  3765,\n",
       "  183,\n",
       "  1337,\n",
       "  3002,\n",
       "  1733,\n",
       "  4680,\n",
       "  4170,\n",
       "  1354,\n",
       "  588,\n",
       "  589,\n",
       "  1103,\n",
       "  4304,\n",
       "  1622,\n",
       "  1366,\n",
       "  2391,\n",
       "  2392,\n",
       "  4188,\n",
       "  1758,\n",
       "  4704,\n",
       "  4706,\n",
       "  4707,\n",
       "  3298,\n",
       "  3940,\n",
       "  3941,\n",
       "  3046,\n",
       "  3047,\n",
       "  2155,\n",
       "  2413,\n",
       "  2414,\n",
       "  2415,\n",
       "  4589,\n",
       "  4590,\n",
       "  3443,\n",
       "  4214,\n",
       "  4215,\n",
       "  3574,\n",
       "  378,\n",
       "  379,\n",
       "  4986,\n",
       "  255],\n",
       " [0,\n",
       "  1,\n",
       "  2,\n",
       "  3,\n",
       "  4,\n",
       "  4101,\n",
       "  4103,\n",
       "  4105,\n",
       "  528,\n",
       "  530,\n",
       "  5141,\n",
       "  535,\n",
       "  538,\n",
       "  5153,\n",
       "  1058,\n",
       "  1570,\n",
       "  1060,\n",
       "  1572,\n",
       "  1062,\n",
       "  6695,\n",
       "  1064,\n",
       "  1574,\n",
       "  570,\n",
       "  3137,\n",
       "  5698,\n",
       "  4167,\n",
       "  5703,\n",
       "  5712,\n",
       "  9299,\n",
       "  6228,\n",
       "  6230,\n",
       "  6232,\n",
       "  9832,\n",
       "  6762,\n",
       "  2667,\n",
       "  6764,\n",
       "  3181,\n",
       "  2669,\n",
       "  2159,\n",
       "  2671,\n",
       "  9834,\n",
       "  9836,\n",
       "  1651,\n",
       "  1140,\n",
       "  4224,\n",
       "  4741,\n",
       "  1158,\n",
       "  9351,\n",
       "  1160,\n",
       "  9353,\n",
       "  1672,\n",
       "  9355,\n",
       "  9357,\n",
       "  2705,\n",
       "  2199,\n",
       "  2201,\n",
       "  2715,\n",
       "  2722,\n",
       "  6308,\n",
       "  9385,\n",
       "  4779,\n",
       "  4781,\n",
       "  176,\n",
       "  9918,\n",
       "  9407,\n",
       "  9920,\n",
       "  7877,\n",
       "  7879,\n",
       "  6862,\n",
       "  2768,\n",
       "  6864,\n",
       "  2770,\n",
       "  7895,\n",
       "  9434,\n",
       "  4827,\n",
       "  9436,\n",
       "  5341,\n",
       "  2782,\n",
       "  3806,\n",
       "  8427,\n",
       "  8429,\n",
       "  9967,\n",
       "  753,\n",
       "  9969,\n",
       "  755,\n",
       "  7928,\n",
       "  796,\n",
       "  798,\n",
       "  799,\n",
       "  2336,\n",
       "  4384,\n",
       "  2338,\n",
       "  801,\n",
       "  2344,\n",
       "  3882,\n",
       "  7471,\n",
       "  3386,\n",
       "  3388,\n",
       "  9543,\n",
       "  9037,\n",
       "  8018,\n",
       "  4466,\n",
       "  2435,\n",
       "  2437,\n",
       "  3992,\n",
       "  418,\n",
       "  3513,\n",
       "  6089,\n",
       "  6091,\n",
       "  8140,\n",
       "  8142,\n",
       "  5076,\n",
       "  9175,\n",
       "  9177,\n",
       "  8155,\n",
       "  8157,\n",
       "  3552,\n",
       "  3554,\n",
       "  3556,\n",
       "  4069,\n",
       "  7658,\n",
       "  9711,\n",
       "  8691,\n",
       "  8693,\n",
       "  9209,\n",
       "  3069],\n",
       " [0,\n",
       "  1,\n",
       "  2,\n",
       "  3,\n",
       "  8199,\n",
       "  8200,\n",
       "  8203,\n",
       "  8204,\n",
       "  3598,\n",
       "  8207,\n",
       "  1049,\n",
       "  1052,\n",
       "  1053,\n",
       "  5149,\n",
       "  1056,\n",
       "  16934,\n",
       "  10279,\n",
       "  1063,\n",
       "  12331,\n",
       "  1070,\n",
       "  1073,\n",
       "  1588,\n",
       "  1589,\n",
       "  1592,\n",
       "  1593,\n",
       "  1595,\n",
       "  1596,\n",
       "  4669,\n",
       "  8765,\n",
       "  10303,\n",
       "  2112,\n",
       "  2113,\n",
       "  2117,\n",
       "  3141,\n",
       "  4680,\n",
       "  2121,\n",
       "  3144,\n",
       "  4684,\n",
       "  2125,\n",
       "  7761,\n",
       "  14935,\n",
       "  14938,\n",
       "  14939,\n",
       "  16989,\n",
       "  9314,\n",
       "  19558,\n",
       "  11879,\n",
       "  11883,\n",
       "  4717,\n",
       "  4718,\n",
       "  12910,\n",
       "  1133,\n",
       "  6769,\n",
       "  12913,\n",
       "  12914,\n",
       "  1137,\n",
       "  6773,\n",
       "  11380,\n",
       "  11383,\n",
       "  15474,\n",
       "  15478,\n",
       "  6271,\n",
       "  4224,\n",
       "  11393,\n",
       "  8331,\n",
       "  19083,\n",
       "  11403,\n",
       "  19086,\n",
       "  13456,\n",
       "  18594,\n",
       "  18595,\n",
       "  12453,\n",
       "  8870,\n",
       "  10408,\n",
       "  12457,\n",
       "  14504,\n",
       "  18088,\n",
       "  14508,\n",
       "  12461,\n",
       "  10415,\n",
       "  1210,\n",
       "  13504,\n",
       "  5831,\n",
       "  19661,\n",
       "  3789,\n",
       "  19665,\n",
       "  722,\n",
       "  13521,\n",
       "  13524,\n",
       "  19669,\n",
       "  6359,\n",
       "  5335,\n",
       "  4315,\n",
       "  2272,\n",
       "  14048,\n",
       "  2276,\n",
       "  2277,\n",
       "  4325,\n",
       "  14052,\n",
       "  4867,\n",
       "  4870,\n",
       "  4871,\n",
       "  15112,\n",
       "  18699,\n",
       "  16141,\n",
       "  18702,\n",
       "  18703,\n",
       "  16145,\n",
       "  18707,\n",
       "  18710,\n",
       "  1814,\n",
       "  18714,\n",
       "  5403,\n",
       "  5406,\n",
       "  5407,\n",
       "  14114,\n",
       "  4388,\n",
       "  14117,\n",
       "  4392,\n",
       "  18216,\n",
       "  2346,\n",
       "  4395,\n",
       "  7981,\n",
       "  5430,\n",
       "  5434,\n",
       "  17211,\n",
       "  829,\n",
       "  5440,\n",
       "  833,\n",
       "  9554,\n",
       "  9555,\n",
       "  9558,\n",
       "  9559,\n",
       "  345,\n",
       "  346,\n",
       "  7012,\n",
       "  2416,\n",
       "  19833,\n",
       "  18810,\n",
       "  18811,\n",
       "  11644,\n",
       "  18814,\n",
       "  15750,\n",
       "  15751,\n",
       "  15752,\n",
       "  7562,\n",
       "  15754,\n",
       "  15755,\n",
       "  19850,\n",
       "  19853,\n",
       "  19854,\n",
       "  12174,\n",
       "  13714,\n",
       "  916,\n",
       "  13718,\n",
       "  13721,\n",
       "  13722,\n",
       "  13724,\n",
       "  5533,\n",
       "  13725,\n",
       "  8610,\n",
       "  5540,\n",
       "  10149,\n",
       "  18344,\n",
       "  18346,\n",
       "  15787,\n",
       "  18347,\n",
       "  18861,\n",
       "  15790,\n",
       "  18350,\n",
       "  18865,\n",
       "  15794,\n",
       "  16307,\n",
       "  10679,\n",
       "  5560,\n",
       "  5561,\n",
       "  16311,\n",
       "  7101,\n",
       "  7105,\n",
       "  7109,\n",
       "  8135,\n",
       "  14286,\n",
       "  15313,\n",
       "  19409,\n",
       "  16851,\n",
       "  14289,\n",
       "  16855,\n",
       "  19416,\n",
       "  7130,\n",
       "  19419,\n",
       "  1499,\n",
       "  2525,\n",
       "  19931,\n",
       "  17375,\n",
       "  480,\n",
       "  7137,\n",
       "  1502,\n",
       "  17379,\n",
       "  1503,\n",
       "  19934,\n",
       "  19935,\n",
       "  17383,\n",
       "  1507,\n",
       "  19938,\n",
       "  7148,\n",
       "  15853,\n",
       "  18415,\n",
       "  11250,\n",
       "  6132,\n",
       "  6135,\n",
       "  6136,\n",
       "  7674]]"
      ]
     },
     "execution_count": 31,
     "metadata": {},
     "output_type": "execute_result"
    }
   ],
   "source": [
    "w_index_mv"
   ]
  },
  {
   "cell_type": "code",
   "execution_count": 32,
   "id": "b6d47000",
   "metadata": {
    "scrolled": true
   },
   "outputs": [
    {
     "data": {
      "text/plain": [
       "[[201, 595, 243, 245, 157],\n",
       " [129, 130, 225, 324, 43],\n",
       " [929, 6, 583, 814, 727, 601, 1051],\n",
       " [226, 2211, 2403, 612, 2019, 358, 104, 42, 1328, 1172, 214, 470, 415],\n",
       " [4228, 4101, 4102, 3879, 81, 824, 3673, 187, 3037],\n",
       " [8198,\n",
       "  8200,\n",
       "  8202,\n",
       "  6035,\n",
       "  927,\n",
       "  8740,\n",
       "  5046,\n",
       "  3258,\n",
       "  58,\n",
       "  6075,\n",
       "  6718,\n",
       "  6720,\n",
       "  6084,\n",
       "  7755,\n",
       "  3533,\n",
       "  2904,\n",
       "  478,\n",
       "  480,\n",
       "  4454,\n",
       "  5864,\n",
       "  4456,\n",
       "  496,\n",
       "  244,\n",
       "  8054],\n",
       " [6795,\n",
       "  16397,\n",
       "  16398,\n",
       "  6799,\n",
       "  16401,\n",
       "  18578,\n",
       "  15506,\n",
       "  7700,\n",
       "  15507,\n",
       "  7063,\n",
       "  3610,\n",
       "  7066,\n",
       "  7070,\n",
       "  12063,\n",
       "  14370,\n",
       "  12067,\n",
       "  15012,\n",
       "  5804,\n",
       "  687,\n",
       "  5808,\n",
       "  16948,\n",
       "  180,\n",
       "  10932,\n",
       "  948,\n",
       "  952,\n",
       "  953,\n",
       "  1851,\n",
       "  18748,\n",
       "  956,\n",
       "  1855,\n",
       "  960,\n",
       "  8901,\n",
       "  8902,\n",
       "  455,\n",
       "  8905,\n",
       "  600,\n",
       "  604,\n",
       "  9950,\n",
       "  738,\n",
       "  14694,\n",
       "  13433,\n",
       "  13436]]"
      ]
     },
     "execution_count": 32,
     "metadata": {},
     "output_type": "execute_result"
    }
   ],
   "source": [
    "w_index_av"
   ]
  },
  {
   "cell_type": "code",
   "execution_count": 33,
   "id": "7c40d45c",
   "metadata": {},
   "outputs": [
    {
     "data": {
      "text/plain": [
       "[Int64Index([ 18,  19,  28,  36,  50,  55,  62,  68,  74,  76,  80,  81, 120,\n",
       "             128, 137, 138, 151, 156, 179, 207, 213, 223, 234, 237, 238, 247,\n",
       "             262, 280, 284, 292, 293, 303, 304, 335, 340, 364, 370, 378, 416,\n",
       "             420, 436, 457, 458, 488, 518, 544, 556, 565, 569, 598, 599],\n",
       "            dtype='int64'),\n",
       " Int64Index([ 42,  73,  74, 113, 131, 132, 136, 146, 186, 226, 282, 300, 302,\n",
       "             306, 319, 329, 376, 396, 429, 445, 453, 458, 470, 495, 520, 533,\n",
       "             552, 572, 606],\n",
       "            dtype='int64'),\n",
       " Int64Index([  16,   36,   43,   70,   89,   95,   96,   97,  106,  112,  122,\n",
       "              125,  145,  161,  167,  169,  176,  177,  197,  226,  230,  297,\n",
       "              337,  359,  367,  387,  402,  403,  410,  412,  428,  436,  513,\n",
       "              596,  617,  635,  665,  667,  694,  725,  737,  756,  757,  762,\n",
       "              764,  768,  773,  787,  803,  812,  817,  830,  850,  891,  932,\n",
       "              943,  961, 1003, 1005, 1006, 1048, 1056, 1057, 1061, 1063, 1103,\n",
       "             1115, 1168, 1169, 1181, 1184, 1185, 1200, 1236],\n",
       "            dtype='int64'),\n",
       " Int64Index([   3,    4,   15,   30,   31,   37,   59,   64,   70,   82,\n",
       "             ...\n",
       "             2259, 2265, 2283, 2315, 2316, 2364, 2365, 2408, 2423, 2467],\n",
       "            dtype='int64', length=134),\n",
       " Int64Index([   5,    6,   21,   57,   58,   66,   96,   97,   98,   99,\n",
       "             ...\n",
       "             4828, 4829, 4830, 4831, 4840, 4904, 4905, 4924, 4990, 4991],\n",
       "            dtype='int64', length=245),\n",
       " Int64Index([  39,   41,   43,   93,   95,   98,  100,  102,  111,  113,\n",
       "             ...\n",
       "             9843, 9845, 9846, 9848, 9851, 9891, 9898, 9921, 9923, 9998],\n",
       "            dtype='int64', length=503),\n",
       " Int64Index([   68,    72,    74,    75,    76,    78,    79,    82,    83,\n",
       "               183,\n",
       "             ...\n",
       "             19746, 19779, 19783, 19793, 19806, 19835, 19839, 19843, 19892,\n",
       "             19993],\n",
       "            dtype='int64', length=1006)]"
      ]
     },
     "execution_count": 33,
     "metadata": {},
     "output_type": "execute_result"
    }
   ],
   "source": [
    "index_list_pv_tv_w"
   ]
  },
  {
   "cell_type": "code",
   "execution_count": 34,
   "id": "47c5ec0a",
   "metadata": {},
   "outputs": [],
   "source": [
    "w_index = []\n",
    "for i in range(7):\n",
    "    all_w = list(set(w_index_av[i]) &set(index_list_pv_tv_w[i]))\n",
    "    w_index.append(all_w)"
   ]
  },
  {
   "cell_type": "code",
   "execution_count": 35,
   "id": "464dc5ae",
   "metadata": {},
   "outputs": [
    {
     "data": {
      "text/plain": [
       "[[], [], [], [], [], [], []]"
      ]
     },
     "execution_count": 35,
     "metadata": {},
     "output_type": "execute_result"
    }
   ],
   "source": [
    "w_index"
   ]
  },
  {
   "cell_type": "markdown",
   "id": "072193fa",
   "metadata": {},
   "source": []
  },
  {
   "cell_type": "markdown",
   "id": "5fb119ea",
   "metadata": {},
   "source": [
    "# SIGNAL PROCESSING"
   ]
  },
  {
   "cell_type": "code",
   "execution_count": 36,
   "id": "2723d613",
   "metadata": {},
   "outputs": [],
   "source": [
    "def shortcut_sp(array1, array2, l = 1):\n",
    "    p_value = []\n",
    "    df_list = []\n",
    "    \n",
    "    if l == 1:\n",
    "        test = mannwhitneyu(array1, array2, use_continuity = False, alternative = 'two-sided', axis = 0)\n",
    "        stats = pd.DataFrame(test[0])\n",
    "        p_value = pd.DataFrame(test[1]).T\n",
    "        \n",
    "        display(p_value.style.apply(lambda x: [\"background: pink\" if v < 0.05 else \"\" for v in x],\n",
    "                                              axis = 1))\n",
    "    else:\n",
    "        for i in range(l):\n",
    "            test = mannwhitneyu(array1, array2, use_continuity = False, alternative = 'two-sided', axis = 1)\n",
    "            stats = pd.DataFrame(test[0])\n",
    "            p_value.append(pd.DataFrame(test[1]))\n",
    "\n",
    "            df_list.append(p_value[i].style.apply(lambda x: [\"background: pink\" if v < 0.05 else \"\" for v in x],\n",
    "                                                  axis = 1))\n",
    "            display(df_list[i])"
   ]
  },
  {
   "cell_type": "markdown",
   "id": "b682f31b",
   "metadata": {},
   "source": [
    "# *Zero Crossing Rate"
   ]
  },
  {
   "cell_type": "code",
   "execution_count": 37,
   "id": "18d9d6d4",
   "metadata": {},
   "outputs": [],
   "source": [
    "p_zcrs_av = np.load(AV_path + \"/present/present_AV_zcrs_array.npy\", allow_pickle = True)\n",
    "p_zcrs_mv = np.load(MV_path + \"/present/present_MV_zcrs_array.npy\", allow_pickle = True)\n",
    "p_zcrs_pv = np.load(PV_path + \"/present/present_PV_zcrs_array.npy\", allow_pickle = True)\n",
    "p_zcrs_tv = np.load(TV_path + \"/present/present_TV_zcrs_array.npy\", allow_pickle = True)"
   ]
  },
  {
   "cell_type": "markdown",
   "id": "28be0a23",
   "metadata": {},
   "source": [
    "### AV vs MV"
   ]
  },
  {
   "cell_type": "code",
   "execution_count": 38,
   "id": "4513dfa7",
   "metadata": {
    "scrolled": true
   },
   "outputs": [
    {
     "data": {
      "text/html": [
       "<style type=\"text/css\">\n",
       "#T_83235_row0_col0, #T_83235_row0_col1, #T_83235_row0_col2, #T_83235_row0_col3, #T_83235_row0_col4 {\n",
       "  background: pink;\n",
       "}\n",
       "</style>\n",
       "<table id=\"T_83235\">\n",
       "  <thead>\n",
       "    <tr>\n",
       "      <th class=\"blank level0\" >&nbsp;</th>\n",
       "      <th id=\"T_83235_level0_col0\" class=\"col_heading level0 col0\" >0</th>\n",
       "      <th id=\"T_83235_level0_col1\" class=\"col_heading level0 col1\" >1</th>\n",
       "      <th id=\"T_83235_level0_col2\" class=\"col_heading level0 col2\" >2</th>\n",
       "      <th id=\"T_83235_level0_col3\" class=\"col_heading level0 col3\" >3</th>\n",
       "      <th id=\"T_83235_level0_col4\" class=\"col_heading level0 col4\" >4</th>\n",
       "    </tr>\n",
       "  </thead>\n",
       "  <tbody>\n",
       "    <tr>\n",
       "      <th id=\"T_83235_level0_row0\" class=\"row_heading level0 row0\" >0</th>\n",
       "      <td id=\"T_83235_row0_col0\" class=\"data row0 col0\" >0.000000</td>\n",
       "      <td id=\"T_83235_row0_col1\" class=\"data row0 col1\" >0.000000</td>\n",
       "      <td id=\"T_83235_row0_col2\" class=\"data row0 col2\" >0.000000</td>\n",
       "      <td id=\"T_83235_row0_col3\" class=\"data row0 col3\" >0.000000</td>\n",
       "      <td id=\"T_83235_row0_col4\" class=\"data row0 col4\" >0.000000</td>\n",
       "    </tr>\n",
       "  </tbody>\n",
       "</table>\n"
      ],
      "text/plain": [
       "<pandas.io.formats.style.Styler at 0x1674a23a0>"
      ]
     },
     "metadata": {},
     "output_type": "display_data"
    }
   ],
   "source": [
    "shortcut_sp(p_zcrs_av, p_zcrs_mv)"
   ]
  },
  {
   "cell_type": "markdown",
   "id": "73ab2410",
   "metadata": {},
   "source": [
    "### AV vs PV"
   ]
  },
  {
   "cell_type": "code",
   "execution_count": 39,
   "id": "a3c0d53c",
   "metadata": {},
   "outputs": [
    {
     "data": {
      "text/html": [
       "<style type=\"text/css\">\n",
       "#T_16c34_row0_col0, #T_16c34_row0_col1, #T_16c34_row0_col2, #T_16c34_row0_col3, #T_16c34_row0_col4 {\n",
       "  background: pink;\n",
       "}\n",
       "</style>\n",
       "<table id=\"T_16c34\">\n",
       "  <thead>\n",
       "    <tr>\n",
       "      <th class=\"blank level0\" >&nbsp;</th>\n",
       "      <th id=\"T_16c34_level0_col0\" class=\"col_heading level0 col0\" >0</th>\n",
       "      <th id=\"T_16c34_level0_col1\" class=\"col_heading level0 col1\" >1</th>\n",
       "      <th id=\"T_16c34_level0_col2\" class=\"col_heading level0 col2\" >2</th>\n",
       "      <th id=\"T_16c34_level0_col3\" class=\"col_heading level0 col3\" >3</th>\n",
       "      <th id=\"T_16c34_level0_col4\" class=\"col_heading level0 col4\" >4</th>\n",
       "    </tr>\n",
       "  </thead>\n",
       "  <tbody>\n",
       "    <tr>\n",
       "      <th id=\"T_16c34_level0_row0\" class=\"row_heading level0 row0\" >0</th>\n",
       "      <td id=\"T_16c34_row0_col0\" class=\"data row0 col0\" >0.016074</td>\n",
       "      <td id=\"T_16c34_row0_col1\" class=\"data row0 col1\" >0.014966</td>\n",
       "      <td id=\"T_16c34_row0_col2\" class=\"data row0 col2\" >0.000929</td>\n",
       "      <td id=\"T_16c34_row0_col3\" class=\"data row0 col3\" >0.018258</td>\n",
       "      <td id=\"T_16c34_row0_col4\" class=\"data row0 col4\" >0.001102</td>\n",
       "    </tr>\n",
       "  </tbody>\n",
       "</table>\n"
      ],
      "text/plain": [
       "<pandas.io.formats.style.Styler at 0x106c7c550>"
      ]
     },
     "metadata": {},
     "output_type": "display_data"
    }
   ],
   "source": [
    "shortcut_sp(p_zcrs_av, p_zcrs_pv)"
   ]
  },
  {
   "cell_type": "markdown",
   "id": "04ac9dbc",
   "metadata": {},
   "source": [
    "### AV vs TV"
   ]
  },
  {
   "cell_type": "code",
   "execution_count": 40,
   "id": "0bd6feb2",
   "metadata": {},
   "outputs": [
    {
     "data": {
      "text/html": [
       "<style type=\"text/css\">\n",
       "</style>\n",
       "<table id=\"T_458b8\">\n",
       "  <thead>\n",
       "    <tr>\n",
       "      <th class=\"blank level0\" >&nbsp;</th>\n",
       "      <th id=\"T_458b8_level0_col0\" class=\"col_heading level0 col0\" >0</th>\n",
       "      <th id=\"T_458b8_level0_col1\" class=\"col_heading level0 col1\" >1</th>\n",
       "      <th id=\"T_458b8_level0_col2\" class=\"col_heading level0 col2\" >2</th>\n",
       "      <th id=\"T_458b8_level0_col3\" class=\"col_heading level0 col3\" >3</th>\n",
       "      <th id=\"T_458b8_level0_col4\" class=\"col_heading level0 col4\" >4</th>\n",
       "    </tr>\n",
       "  </thead>\n",
       "  <tbody>\n",
       "    <tr>\n",
       "      <th id=\"T_458b8_level0_row0\" class=\"row_heading level0 row0\" >0</th>\n",
       "      <td id=\"T_458b8_row0_col0\" class=\"data row0 col0\" >0.607344</td>\n",
       "      <td id=\"T_458b8_row0_col1\" class=\"data row0 col1\" >0.874108</td>\n",
       "      <td id=\"T_458b8_row0_col2\" class=\"data row0 col2\" >0.839848</td>\n",
       "      <td id=\"T_458b8_row0_col3\" class=\"data row0 col3\" >0.457638</td>\n",
       "      <td id=\"T_458b8_row0_col4\" class=\"data row0 col4\" >0.841524</td>\n",
       "    </tr>\n",
       "  </tbody>\n",
       "</table>\n"
      ],
      "text/plain": [
       "<pandas.io.formats.style.Styler at 0x15ae54400>"
      ]
     },
     "metadata": {},
     "output_type": "display_data"
    }
   ],
   "source": [
    "shortcut_sp(p_zcrs_av, p_zcrs_tv)"
   ]
  },
  {
   "cell_type": "markdown",
   "id": "1c81486b",
   "metadata": {},
   "source": [
    "### MV vs PV"
   ]
  },
  {
   "cell_type": "code",
   "execution_count": 41,
   "id": "1559ca5f",
   "metadata": {},
   "outputs": [
    {
     "data": {
      "text/html": [
       "<style type=\"text/css\">\n",
       "#T_749c9_row0_col0, #T_749c9_row0_col1, #T_749c9_row0_col2, #T_749c9_row0_col3, #T_749c9_row0_col4 {\n",
       "  background: pink;\n",
       "}\n",
       "</style>\n",
       "<table id=\"T_749c9\">\n",
       "  <thead>\n",
       "    <tr>\n",
       "      <th class=\"blank level0\" >&nbsp;</th>\n",
       "      <th id=\"T_749c9_level0_col0\" class=\"col_heading level0 col0\" >0</th>\n",
       "      <th id=\"T_749c9_level0_col1\" class=\"col_heading level0 col1\" >1</th>\n",
       "      <th id=\"T_749c9_level0_col2\" class=\"col_heading level0 col2\" >2</th>\n",
       "      <th id=\"T_749c9_level0_col3\" class=\"col_heading level0 col3\" >3</th>\n",
       "      <th id=\"T_749c9_level0_col4\" class=\"col_heading level0 col4\" >4</th>\n",
       "    </tr>\n",
       "  </thead>\n",
       "  <tbody>\n",
       "    <tr>\n",
       "      <th id=\"T_749c9_level0_row0\" class=\"row_heading level0 row0\" >0</th>\n",
       "      <td id=\"T_749c9_row0_col0\" class=\"data row0 col0\" >0.000000</td>\n",
       "      <td id=\"T_749c9_row0_col1\" class=\"data row0 col1\" >0.000000</td>\n",
       "      <td id=\"T_749c9_row0_col2\" class=\"data row0 col2\" >0.000000</td>\n",
       "      <td id=\"T_749c9_row0_col3\" class=\"data row0 col3\" >0.000000</td>\n",
       "      <td id=\"T_749c9_row0_col4\" class=\"data row0 col4\" >0.000000</td>\n",
       "    </tr>\n",
       "  </tbody>\n",
       "</table>\n"
      ],
      "text/plain": [
       "<pandas.io.formats.style.Styler at 0x166cbd670>"
      ]
     },
     "metadata": {},
     "output_type": "display_data"
    }
   ],
   "source": [
    "shortcut_sp(p_zcrs_mv, p_zcrs_pv)"
   ]
  },
  {
   "cell_type": "markdown",
   "id": "a5ff77e8",
   "metadata": {},
   "source": [
    "### MV vs TV"
   ]
  },
  {
   "cell_type": "code",
   "execution_count": 42,
   "id": "2e77643d",
   "metadata": {},
   "outputs": [
    {
     "data": {
      "text/html": [
       "<style type=\"text/css\">\n",
       "#T_c9d62_row0_col0, #T_c9d62_row0_col1, #T_c9d62_row0_col2, #T_c9d62_row0_col3, #T_c9d62_row0_col4 {\n",
       "  background: pink;\n",
       "}\n",
       "</style>\n",
       "<table id=\"T_c9d62\">\n",
       "  <thead>\n",
       "    <tr>\n",
       "      <th class=\"blank level0\" >&nbsp;</th>\n",
       "      <th id=\"T_c9d62_level0_col0\" class=\"col_heading level0 col0\" >0</th>\n",
       "      <th id=\"T_c9d62_level0_col1\" class=\"col_heading level0 col1\" >1</th>\n",
       "      <th id=\"T_c9d62_level0_col2\" class=\"col_heading level0 col2\" >2</th>\n",
       "      <th id=\"T_c9d62_level0_col3\" class=\"col_heading level0 col3\" >3</th>\n",
       "      <th id=\"T_c9d62_level0_col4\" class=\"col_heading level0 col4\" >4</th>\n",
       "    </tr>\n",
       "  </thead>\n",
       "  <tbody>\n",
       "    <tr>\n",
       "      <th id=\"T_c9d62_level0_row0\" class=\"row_heading level0 row0\" >0</th>\n",
       "      <td id=\"T_c9d62_row0_col0\" class=\"data row0 col0\" >0.000000</td>\n",
       "      <td id=\"T_c9d62_row0_col1\" class=\"data row0 col1\" >0.000000</td>\n",
       "      <td id=\"T_c9d62_row0_col2\" class=\"data row0 col2\" >0.000000</td>\n",
       "      <td id=\"T_c9d62_row0_col3\" class=\"data row0 col3\" >0.000000</td>\n",
       "      <td id=\"T_c9d62_row0_col4\" class=\"data row0 col4\" >0.000000</td>\n",
       "    </tr>\n",
       "  </tbody>\n",
       "</table>\n"
      ],
      "text/plain": [
       "<pandas.io.formats.style.Styler at 0x1673ab430>"
      ]
     },
     "metadata": {},
     "output_type": "display_data"
    }
   ],
   "source": [
    "shortcut_sp(p_zcrs_mv, p_zcrs_tv)"
   ]
  },
  {
   "cell_type": "markdown",
   "id": "199940c8",
   "metadata": {},
   "source": [
    "### PV vs TV"
   ]
  },
  {
   "cell_type": "code",
   "execution_count": 43,
   "id": "d8e67c8a",
   "metadata": {},
   "outputs": [
    {
     "data": {
      "text/html": [
       "<style type=\"text/css\">\n",
       "#T_956f4_row0_col0, #T_956f4_row0_col1, #T_956f4_row0_col2, #T_956f4_row0_col3, #T_956f4_row0_col4 {\n",
       "  background: pink;\n",
       "}\n",
       "</style>\n",
       "<table id=\"T_956f4\">\n",
       "  <thead>\n",
       "    <tr>\n",
       "      <th class=\"blank level0\" >&nbsp;</th>\n",
       "      <th id=\"T_956f4_level0_col0\" class=\"col_heading level0 col0\" >0</th>\n",
       "      <th id=\"T_956f4_level0_col1\" class=\"col_heading level0 col1\" >1</th>\n",
       "      <th id=\"T_956f4_level0_col2\" class=\"col_heading level0 col2\" >2</th>\n",
       "      <th id=\"T_956f4_level0_col3\" class=\"col_heading level0 col3\" >3</th>\n",
       "      <th id=\"T_956f4_level0_col4\" class=\"col_heading level0 col4\" >4</th>\n",
       "    </tr>\n",
       "  </thead>\n",
       "  <tbody>\n",
       "    <tr>\n",
       "      <th id=\"T_956f4_level0_row0\" class=\"row_heading level0 row0\" >0</th>\n",
       "      <td id=\"T_956f4_row0_col0\" class=\"data row0 col0\" >0.006724</td>\n",
       "      <td id=\"T_956f4_row0_col1\" class=\"data row0 col1\" >0.022477</td>\n",
       "      <td id=\"T_956f4_row0_col2\" class=\"data row0 col2\" >0.005177</td>\n",
       "      <td id=\"T_956f4_row0_col3\" class=\"data row0 col3\" >0.002756</td>\n",
       "      <td id=\"T_956f4_row0_col4\" class=\"data row0 col4\" >0.001706</td>\n",
       "    </tr>\n",
       "  </tbody>\n",
       "</table>\n"
      ],
      "text/plain": [
       "<pandas.io.formats.style.Styler at 0x106c7cf10>"
      ]
     },
     "metadata": {},
     "output_type": "display_data"
    }
   ],
   "source": [
    "shortcut_sp(p_zcrs_pv, p_zcrs_tv)"
   ]
  },
  {
   "cell_type": "markdown",
   "id": "9219c30d",
   "metadata": {},
   "source": [
    "# *Chromogram"
   ]
  },
  {
   "cell_type": "code",
   "execution_count": 44,
   "id": "ba18c45b",
   "metadata": {},
   "outputs": [],
   "source": [
    "p_chro_av = np.load(AV_path + \"/present/present_AV_chromogram_array.npy\", allow_pickle = True)\n",
    "p_chro_mv = np.load(MV_path + \"/present/present_MV_chromogram_array.npy\", allow_pickle = True)\n",
    "p_chro_pv = np.load(PV_path + \"/present/present_PV_chromogram_array.npy\", allow_pickle = True)\n",
    "p_chro_tv = np.load(TV_path + \"/present/present_TV_chromogram_array.npy\", allow_pickle = True)"
   ]
  },
  {
   "cell_type": "markdown",
   "id": "0adbb525",
   "metadata": {},
   "source": [
    "### AV vs MV"
   ]
  },
  {
   "cell_type": "code",
   "execution_count": 45,
   "id": "d2fca025",
   "metadata": {},
   "outputs": [
    {
     "data": {
      "text/html": [
       "<style type=\"text/css\">\n",
       "#T_dff24_row0_col6, #T_dff24_row0_col7, #T_dff24_row0_col8 {\n",
       "  background: pink;\n",
       "}\n",
       "</style>\n",
       "<table id=\"T_dff24\">\n",
       "  <thead>\n",
       "    <tr>\n",
       "      <th class=\"blank level0\" >&nbsp;</th>\n",
       "      <th id=\"T_dff24_level0_col0\" class=\"col_heading level0 col0\" >0</th>\n",
       "      <th id=\"T_dff24_level0_col1\" class=\"col_heading level0 col1\" >1</th>\n",
       "      <th id=\"T_dff24_level0_col2\" class=\"col_heading level0 col2\" >2</th>\n",
       "      <th id=\"T_dff24_level0_col3\" class=\"col_heading level0 col3\" >3</th>\n",
       "      <th id=\"T_dff24_level0_col4\" class=\"col_heading level0 col4\" >4</th>\n",
       "      <th id=\"T_dff24_level0_col5\" class=\"col_heading level0 col5\" >5</th>\n",
       "      <th id=\"T_dff24_level0_col6\" class=\"col_heading level0 col6\" >6</th>\n",
       "      <th id=\"T_dff24_level0_col7\" class=\"col_heading level0 col7\" >7</th>\n",
       "      <th id=\"T_dff24_level0_col8\" class=\"col_heading level0 col8\" >8</th>\n",
       "      <th id=\"T_dff24_level0_col9\" class=\"col_heading level0 col9\" >9</th>\n",
       "      <th id=\"T_dff24_level0_col10\" class=\"col_heading level0 col10\" >10</th>\n",
       "      <th id=\"T_dff24_level0_col11\" class=\"col_heading level0 col11\" >11</th>\n",
       "    </tr>\n",
       "  </thead>\n",
       "  <tbody>\n",
       "    <tr>\n",
       "      <th id=\"T_dff24_level0_row0\" class=\"row_heading level0 row0\" >0</th>\n",
       "      <td id=\"T_dff24_row0_col0\" class=\"data row0 col0\" >0.669130</td>\n",
       "      <td id=\"T_dff24_row0_col1\" class=\"data row0 col1\" >0.674462</td>\n",
       "      <td id=\"T_dff24_row0_col2\" class=\"data row0 col2\" >0.226760</td>\n",
       "      <td id=\"T_dff24_row0_col3\" class=\"data row0 col3\" >0.881038</td>\n",
       "      <td id=\"T_dff24_row0_col4\" class=\"data row0 col4\" >0.669040</td>\n",
       "      <td id=\"T_dff24_row0_col5\" class=\"data row0 col5\" >0.067644</td>\n",
       "      <td id=\"T_dff24_row0_col6\" class=\"data row0 col6\" >0.008997</td>\n",
       "      <td id=\"T_dff24_row0_col7\" class=\"data row0 col7\" >0.000360</td>\n",
       "      <td id=\"T_dff24_row0_col8\" class=\"data row0 col8\" >0.027749</td>\n",
       "      <td id=\"T_dff24_row0_col9\" class=\"data row0 col9\" >0.538659</td>\n",
       "      <td id=\"T_dff24_row0_col10\" class=\"data row0 col10\" >0.549638</td>\n",
       "      <td id=\"T_dff24_row0_col11\" class=\"data row0 col11\" >0.775124</td>\n",
       "    </tr>\n",
       "  </tbody>\n",
       "</table>\n"
      ],
      "text/plain": [
       "<pandas.io.formats.style.Styler at 0x15ae64ca0>"
      ]
     },
     "metadata": {},
     "output_type": "display_data"
    }
   ],
   "source": [
    "shortcut_sp(p_chro_av, p_chro_mv)"
   ]
  },
  {
   "cell_type": "markdown",
   "id": "8dc6ef83",
   "metadata": {},
   "source": [
    "### AV vs PV"
   ]
  },
  {
   "cell_type": "code",
   "execution_count": 46,
   "id": "3dc1bf65",
   "metadata": {},
   "outputs": [
    {
     "data": {
      "text/html": [
       "<style type=\"text/css\">\n",
       "#T_2f9a5_row0_col2, #T_2f9a5_row0_col3, #T_2f9a5_row0_col4, #T_2f9a5_row0_col5, #T_2f9a5_row0_col6, #T_2f9a5_row0_col7, #T_2f9a5_row0_col10 {\n",
       "  background: pink;\n",
       "}\n",
       "</style>\n",
       "<table id=\"T_2f9a5\">\n",
       "  <thead>\n",
       "    <tr>\n",
       "      <th class=\"blank level0\" >&nbsp;</th>\n",
       "      <th id=\"T_2f9a5_level0_col0\" class=\"col_heading level0 col0\" >0</th>\n",
       "      <th id=\"T_2f9a5_level0_col1\" class=\"col_heading level0 col1\" >1</th>\n",
       "      <th id=\"T_2f9a5_level0_col2\" class=\"col_heading level0 col2\" >2</th>\n",
       "      <th id=\"T_2f9a5_level0_col3\" class=\"col_heading level0 col3\" >3</th>\n",
       "      <th id=\"T_2f9a5_level0_col4\" class=\"col_heading level0 col4\" >4</th>\n",
       "      <th id=\"T_2f9a5_level0_col5\" class=\"col_heading level0 col5\" >5</th>\n",
       "      <th id=\"T_2f9a5_level0_col6\" class=\"col_heading level0 col6\" >6</th>\n",
       "      <th id=\"T_2f9a5_level0_col7\" class=\"col_heading level0 col7\" >7</th>\n",
       "      <th id=\"T_2f9a5_level0_col8\" class=\"col_heading level0 col8\" >8</th>\n",
       "      <th id=\"T_2f9a5_level0_col9\" class=\"col_heading level0 col9\" >9</th>\n",
       "      <th id=\"T_2f9a5_level0_col10\" class=\"col_heading level0 col10\" >10</th>\n",
       "      <th id=\"T_2f9a5_level0_col11\" class=\"col_heading level0 col11\" >11</th>\n",
       "    </tr>\n",
       "  </thead>\n",
       "  <tbody>\n",
       "    <tr>\n",
       "      <th id=\"T_2f9a5_level0_row0\" class=\"row_heading level0 row0\" >0</th>\n",
       "      <td id=\"T_2f9a5_row0_col0\" class=\"data row0 col0\" >0.555657</td>\n",
       "      <td id=\"T_2f9a5_row0_col1\" class=\"data row0 col1\" >0.437475</td>\n",
       "      <td id=\"T_2f9a5_row0_col2\" class=\"data row0 col2\" >0.000017</td>\n",
       "      <td id=\"T_2f9a5_row0_col3\" class=\"data row0 col3\" >0.001110</td>\n",
       "      <td id=\"T_2f9a5_row0_col4\" class=\"data row0 col4\" >0.001061</td>\n",
       "      <td id=\"T_2f9a5_row0_col5\" class=\"data row0 col5\" >0.000017</td>\n",
       "      <td id=\"T_2f9a5_row0_col6\" class=\"data row0 col6\" >0.000670</td>\n",
       "      <td id=\"T_2f9a5_row0_col7\" class=\"data row0 col7\" >0.000453</td>\n",
       "      <td id=\"T_2f9a5_row0_col8\" class=\"data row0 col8\" >0.204624</td>\n",
       "      <td id=\"T_2f9a5_row0_col9\" class=\"data row0 col9\" >0.208718</td>\n",
       "      <td id=\"T_2f9a5_row0_col10\" class=\"data row0 col10\" >0.042520</td>\n",
       "      <td id=\"T_2f9a5_row0_col11\" class=\"data row0 col11\" >0.341954</td>\n",
       "    </tr>\n",
       "  </tbody>\n",
       "</table>\n"
      ],
      "text/plain": [
       "<pandas.io.formats.style.Styler at 0x15ae64070>"
      ]
     },
     "metadata": {},
     "output_type": "display_data"
    }
   ],
   "source": [
    "shortcut_sp(p_chro_av, p_chro_pv)"
   ]
  },
  {
   "cell_type": "markdown",
   "id": "52fccf7a",
   "metadata": {},
   "source": [
    "### AV vs TV"
   ]
  },
  {
   "cell_type": "code",
   "execution_count": 47,
   "id": "acc1e987",
   "metadata": {},
   "outputs": [
    {
     "data": {
      "text/html": [
       "<style type=\"text/css\">\n",
       "#T_dfcf4_row0_col0, #T_dfcf4_row0_col1, #T_dfcf4_row0_col2, #T_dfcf4_row0_col3, #T_dfcf4_row0_col4, #T_dfcf4_row0_col5, #T_dfcf4_row0_col6, #T_dfcf4_row0_col7, #T_dfcf4_row0_col8, #T_dfcf4_row0_col9, #T_dfcf4_row0_col10, #T_dfcf4_row0_col11 {\n",
       "  background: pink;\n",
       "}\n",
       "</style>\n",
       "<table id=\"T_dfcf4\">\n",
       "  <thead>\n",
       "    <tr>\n",
       "      <th class=\"blank level0\" >&nbsp;</th>\n",
       "      <th id=\"T_dfcf4_level0_col0\" class=\"col_heading level0 col0\" >0</th>\n",
       "      <th id=\"T_dfcf4_level0_col1\" class=\"col_heading level0 col1\" >1</th>\n",
       "      <th id=\"T_dfcf4_level0_col2\" class=\"col_heading level0 col2\" >2</th>\n",
       "      <th id=\"T_dfcf4_level0_col3\" class=\"col_heading level0 col3\" >3</th>\n",
       "      <th id=\"T_dfcf4_level0_col4\" class=\"col_heading level0 col4\" >4</th>\n",
       "      <th id=\"T_dfcf4_level0_col5\" class=\"col_heading level0 col5\" >5</th>\n",
       "      <th id=\"T_dfcf4_level0_col6\" class=\"col_heading level0 col6\" >6</th>\n",
       "      <th id=\"T_dfcf4_level0_col7\" class=\"col_heading level0 col7\" >7</th>\n",
       "      <th id=\"T_dfcf4_level0_col8\" class=\"col_heading level0 col8\" >8</th>\n",
       "      <th id=\"T_dfcf4_level0_col9\" class=\"col_heading level0 col9\" >9</th>\n",
       "      <th id=\"T_dfcf4_level0_col10\" class=\"col_heading level0 col10\" >10</th>\n",
       "      <th id=\"T_dfcf4_level0_col11\" class=\"col_heading level0 col11\" >11</th>\n",
       "    </tr>\n",
       "  </thead>\n",
       "  <tbody>\n",
       "    <tr>\n",
       "      <th id=\"T_dfcf4_level0_row0\" class=\"row_heading level0 row0\" >0</th>\n",
       "      <td id=\"T_dfcf4_row0_col0\" class=\"data row0 col0\" >0.005675</td>\n",
       "      <td id=\"T_dfcf4_row0_col1\" class=\"data row0 col1\" >0.003829</td>\n",
       "      <td id=\"T_dfcf4_row0_col2\" class=\"data row0 col2\" >0.000000</td>\n",
       "      <td id=\"T_dfcf4_row0_col3\" class=\"data row0 col3\" >0.000006</td>\n",
       "      <td id=\"T_dfcf4_row0_col4\" class=\"data row0 col4\" >0.000000</td>\n",
       "      <td id=\"T_dfcf4_row0_col5\" class=\"data row0 col5\" >0.000000</td>\n",
       "      <td id=\"T_dfcf4_row0_col6\" class=\"data row0 col6\" >0.000000</td>\n",
       "      <td id=\"T_dfcf4_row0_col7\" class=\"data row0 col7\" >0.000000</td>\n",
       "      <td id=\"T_dfcf4_row0_col8\" class=\"data row0 col8\" >0.000000</td>\n",
       "      <td id=\"T_dfcf4_row0_col9\" class=\"data row0 col9\" >0.000096</td>\n",
       "      <td id=\"T_dfcf4_row0_col10\" class=\"data row0 col10\" >0.002847</td>\n",
       "      <td id=\"T_dfcf4_row0_col11\" class=\"data row0 col11\" >0.002516</td>\n",
       "    </tr>\n",
       "  </tbody>\n",
       "</table>\n"
      ],
      "text/plain": [
       "<pandas.io.formats.style.Styler at 0x1674a2100>"
      ]
     },
     "metadata": {},
     "output_type": "display_data"
    }
   ],
   "source": [
    "shortcut_sp(p_chro_av, p_chro_tv)"
   ]
  },
  {
   "cell_type": "markdown",
   "id": "48e77b64",
   "metadata": {},
   "source": [
    "### MV vs PV "
   ]
  },
  {
   "cell_type": "code",
   "execution_count": 48,
   "id": "08c0deac",
   "metadata": {},
   "outputs": [
    {
     "data": {
      "text/html": [
       "<style type=\"text/css\">\n",
       "#T_75a2b_row0_col2, #T_75a2b_row0_col3, #T_75a2b_row0_col4, #T_75a2b_row0_col5 {\n",
       "  background: pink;\n",
       "}\n",
       "</style>\n",
       "<table id=\"T_75a2b\">\n",
       "  <thead>\n",
       "    <tr>\n",
       "      <th class=\"blank level0\" >&nbsp;</th>\n",
       "      <th id=\"T_75a2b_level0_col0\" class=\"col_heading level0 col0\" >0</th>\n",
       "      <th id=\"T_75a2b_level0_col1\" class=\"col_heading level0 col1\" >1</th>\n",
       "      <th id=\"T_75a2b_level0_col2\" class=\"col_heading level0 col2\" >2</th>\n",
       "      <th id=\"T_75a2b_level0_col3\" class=\"col_heading level0 col3\" >3</th>\n",
       "      <th id=\"T_75a2b_level0_col4\" class=\"col_heading level0 col4\" >4</th>\n",
       "      <th id=\"T_75a2b_level0_col5\" class=\"col_heading level0 col5\" >5</th>\n",
       "      <th id=\"T_75a2b_level0_col6\" class=\"col_heading level0 col6\" >6</th>\n",
       "      <th id=\"T_75a2b_level0_col7\" class=\"col_heading level0 col7\" >7</th>\n",
       "      <th id=\"T_75a2b_level0_col8\" class=\"col_heading level0 col8\" >8</th>\n",
       "      <th id=\"T_75a2b_level0_col9\" class=\"col_heading level0 col9\" >9</th>\n",
       "      <th id=\"T_75a2b_level0_col10\" class=\"col_heading level0 col10\" >10</th>\n",
       "      <th id=\"T_75a2b_level0_col11\" class=\"col_heading level0 col11\" >11</th>\n",
       "    </tr>\n",
       "  </thead>\n",
       "  <tbody>\n",
       "    <tr>\n",
       "      <th id=\"T_75a2b_level0_row0\" class=\"row_heading level0 row0\" >0</th>\n",
       "      <td id=\"T_75a2b_row0_col0\" class=\"data row0 col0\" >0.884809</td>\n",
       "      <td id=\"T_75a2b_row0_col1\" class=\"data row0 col1\" >0.733601</td>\n",
       "      <td id=\"T_75a2b_row0_col2\" class=\"data row0 col2\" >0.003311</td>\n",
       "      <td id=\"T_75a2b_row0_col3\" class=\"data row0 col3\" >0.003233</td>\n",
       "      <td id=\"T_75a2b_row0_col4\" class=\"data row0 col4\" >0.005765</td>\n",
       "      <td id=\"T_75a2b_row0_col5\" class=\"data row0 col5\" >0.021332</td>\n",
       "      <td id=\"T_75a2b_row0_col6\" class=\"data row0 col6\" >0.510230</td>\n",
       "      <td id=\"T_75a2b_row0_col7\" class=\"data row0 col7\" >0.920676</td>\n",
       "      <td id=\"T_75a2b_row0_col8\" class=\"data row0 col8\" >0.349578</td>\n",
       "      <td id=\"T_75a2b_row0_col9\" class=\"data row0 col9\" >0.062718</td>\n",
       "      <td id=\"T_75a2b_row0_col10\" class=\"data row0 col10\" >0.182500</td>\n",
       "      <td id=\"T_75a2b_row0_col11\" class=\"data row0 col11\" >0.514131</td>\n",
       "    </tr>\n",
       "  </tbody>\n",
       "</table>\n"
      ],
      "text/plain": [
       "<pandas.io.formats.style.Styler at 0x106c7cd90>"
      ]
     },
     "metadata": {},
     "output_type": "display_data"
    }
   ],
   "source": [
    "shortcut_sp(p_chro_mv, p_chro_pv)"
   ]
  },
  {
   "cell_type": "markdown",
   "id": "63ec428e",
   "metadata": {},
   "source": [
    "### MV vs TV"
   ]
  },
  {
   "cell_type": "code",
   "execution_count": 49,
   "id": "6987bf23",
   "metadata": {},
   "outputs": [
    {
     "data": {
      "text/html": [
       "<style type=\"text/css\">\n",
       "#T_85e3b_row0_col0, #T_85e3b_row0_col1, #T_85e3b_row0_col2, #T_85e3b_row0_col3, #T_85e3b_row0_col4, #T_85e3b_row0_col5, #T_85e3b_row0_col6, #T_85e3b_row0_col7, #T_85e3b_row0_col8, #T_85e3b_row0_col9, #T_85e3b_row0_col10, #T_85e3b_row0_col11 {\n",
       "  background: pink;\n",
       "}\n",
       "</style>\n",
       "<table id=\"T_85e3b\">\n",
       "  <thead>\n",
       "    <tr>\n",
       "      <th class=\"blank level0\" >&nbsp;</th>\n",
       "      <th id=\"T_85e3b_level0_col0\" class=\"col_heading level0 col0\" >0</th>\n",
       "      <th id=\"T_85e3b_level0_col1\" class=\"col_heading level0 col1\" >1</th>\n",
       "      <th id=\"T_85e3b_level0_col2\" class=\"col_heading level0 col2\" >2</th>\n",
       "      <th id=\"T_85e3b_level0_col3\" class=\"col_heading level0 col3\" >3</th>\n",
       "      <th id=\"T_85e3b_level0_col4\" class=\"col_heading level0 col4\" >4</th>\n",
       "      <th id=\"T_85e3b_level0_col5\" class=\"col_heading level0 col5\" >5</th>\n",
       "      <th id=\"T_85e3b_level0_col6\" class=\"col_heading level0 col6\" >6</th>\n",
       "      <th id=\"T_85e3b_level0_col7\" class=\"col_heading level0 col7\" >7</th>\n",
       "      <th id=\"T_85e3b_level0_col8\" class=\"col_heading level0 col8\" >8</th>\n",
       "      <th id=\"T_85e3b_level0_col9\" class=\"col_heading level0 col9\" >9</th>\n",
       "      <th id=\"T_85e3b_level0_col10\" class=\"col_heading level0 col10\" >10</th>\n",
       "      <th id=\"T_85e3b_level0_col11\" class=\"col_heading level0 col11\" >11</th>\n",
       "    </tr>\n",
       "  </thead>\n",
       "  <tbody>\n",
       "    <tr>\n",
       "      <th id=\"T_85e3b_level0_row0\" class=\"row_heading level0 row0\" >0</th>\n",
       "      <td id=\"T_85e3b_row0_col0\" class=\"data row0 col0\" >0.001891</td>\n",
       "      <td id=\"T_85e3b_row0_col1\" class=\"data row0 col1\" >0.018288</td>\n",
       "      <td id=\"T_85e3b_row0_col2\" class=\"data row0 col2\" >0.000131</td>\n",
       "      <td id=\"T_85e3b_row0_col3\" class=\"data row0 col3\" >0.000033</td>\n",
       "      <td id=\"T_85e3b_row0_col4\" class=\"data row0 col4\" >0.000000</td>\n",
       "      <td id=\"T_85e3b_row0_col5\" class=\"data row0 col5\" >0.000000</td>\n",
       "      <td id=\"T_85e3b_row0_col6\" class=\"data row0 col6\" >0.000023</td>\n",
       "      <td id=\"T_85e3b_row0_col7\" class=\"data row0 col7\" >0.000577</td>\n",
       "      <td id=\"T_85e3b_row0_col8\" class=\"data row0 col8\" >0.000200</td>\n",
       "      <td id=\"T_85e3b_row0_col9\" class=\"data row0 col9\" >0.001355</td>\n",
       "      <td id=\"T_85e3b_row0_col10\" class=\"data row0 col10\" >0.000582</td>\n",
       "      <td id=\"T_85e3b_row0_col11\" class=\"data row0 col11\" >0.001450</td>\n",
       "    </tr>\n",
       "  </tbody>\n",
       "</table>\n"
      ],
      "text/plain": [
       "<pandas.io.formats.style.Styler at 0x1674a25e0>"
      ]
     },
     "metadata": {},
     "output_type": "display_data"
    }
   ],
   "source": [
    "shortcut_sp(p_chro_mv, p_chro_tv)"
   ]
  },
  {
   "cell_type": "markdown",
   "id": "e7aa1d69",
   "metadata": {},
   "source": [
    "### PV vs TV"
   ]
  },
  {
   "cell_type": "code",
   "execution_count": 50,
   "id": "9bed9c3f",
   "metadata": {},
   "outputs": [
    {
     "data": {
      "text/html": [
       "<style type=\"text/css\">\n",
       "#T_a18a5_row0_col0, #T_a18a5_row0_col1, #T_a18a5_row0_col4, #T_a18a5_row0_col5, #T_a18a5_row0_col6, #T_a18a5_row0_col7, #T_a18a5_row0_col8, #T_a18a5_row0_col9, #T_a18a5_row0_col10, #T_a18a5_row0_col11 {\n",
       "  background: pink;\n",
       "}\n",
       "</style>\n",
       "<table id=\"T_a18a5\">\n",
       "  <thead>\n",
       "    <tr>\n",
       "      <th class=\"blank level0\" >&nbsp;</th>\n",
       "      <th id=\"T_a18a5_level0_col0\" class=\"col_heading level0 col0\" >0</th>\n",
       "      <th id=\"T_a18a5_level0_col1\" class=\"col_heading level0 col1\" >1</th>\n",
       "      <th id=\"T_a18a5_level0_col2\" class=\"col_heading level0 col2\" >2</th>\n",
       "      <th id=\"T_a18a5_level0_col3\" class=\"col_heading level0 col3\" >3</th>\n",
       "      <th id=\"T_a18a5_level0_col4\" class=\"col_heading level0 col4\" >4</th>\n",
       "      <th id=\"T_a18a5_level0_col5\" class=\"col_heading level0 col5\" >5</th>\n",
       "      <th id=\"T_a18a5_level0_col6\" class=\"col_heading level0 col6\" >6</th>\n",
       "      <th id=\"T_a18a5_level0_col7\" class=\"col_heading level0 col7\" >7</th>\n",
       "      <th id=\"T_a18a5_level0_col8\" class=\"col_heading level0 col8\" >8</th>\n",
       "      <th id=\"T_a18a5_level0_col9\" class=\"col_heading level0 col9\" >9</th>\n",
       "      <th id=\"T_a18a5_level0_col10\" class=\"col_heading level0 col10\" >10</th>\n",
       "      <th id=\"T_a18a5_level0_col11\" class=\"col_heading level0 col11\" >11</th>\n",
       "    </tr>\n",
       "  </thead>\n",
       "  <tbody>\n",
       "    <tr>\n",
       "      <th id=\"T_a18a5_level0_row0\" class=\"row_heading level0 row0\" >0</th>\n",
       "      <td id=\"T_a18a5_row0_col0\" class=\"data row0 col0\" >0.000687</td>\n",
       "      <td id=\"T_a18a5_row0_col1\" class=\"data row0 col1\" >0.033435</td>\n",
       "      <td id=\"T_a18a5_row0_col2\" class=\"data row0 col2\" >0.315886</td>\n",
       "      <td id=\"T_a18a5_row0_col3\" class=\"data row0 col3\" >0.166450</td>\n",
       "      <td id=\"T_a18a5_row0_col4\" class=\"data row0 col4\" >0.014820</td>\n",
       "      <td id=\"T_a18a5_row0_col5\" class=\"data row0 col5\" >0.001039</td>\n",
       "      <td id=\"T_a18a5_row0_col6\" class=\"data row0 col6\" >0.000160</td>\n",
       "      <td id=\"T_a18a5_row0_col7\" class=\"data row0 col7\" >0.000346</td>\n",
       "      <td id=\"T_a18a5_row0_col8\" class=\"data row0 col8\" >0.000002</td>\n",
       "      <td id=\"T_a18a5_row0_col9\" class=\"data row0 col9\" >0.000000</td>\n",
       "      <td id=\"T_a18a5_row0_col10\" class=\"data row0 col10\" >0.000001</td>\n",
       "      <td id=\"T_a18a5_row0_col11\" class=\"data row0 col11\" >0.000076</td>\n",
       "    </tr>\n",
       "  </tbody>\n",
       "</table>\n"
      ],
      "text/plain": [
       "<pandas.io.formats.style.Styler at 0x1674a2c70>"
      ]
     },
     "metadata": {},
     "output_type": "display_data"
    }
   ],
   "source": [
    "shortcut_sp(p_chro_pv, p_chro_tv)"
   ]
  },
  {
   "cell_type": "markdown",
   "id": "1561bb77",
   "metadata": {},
   "source": [
    "# *Tempogram"
   ]
  },
  {
   "cell_type": "code",
   "execution_count": 51,
   "id": "1c298985",
   "metadata": {},
   "outputs": [],
   "source": [
    "def temp(array_1, array_2):\n",
    "    test = mannwhitneyu(array_1, array_2, use_continuity = False, alternative = 'two-sided')\n",
    "    stats = pd.DataFrame(test[0])\n",
    "    p_value_df = pd.DataFrame(test[1])\n",
    "\n",
    "    little_index_list = p_value_df[(p_value_df < 0.05).any(axis=1)].index\n",
    "    \n",
    "    return  little_index_list\n"
   ]
  },
  {
   "cell_type": "code",
   "execution_count": 52,
   "id": "06868ae0",
   "metadata": {},
   "outputs": [],
   "source": [
    "p_temp_av = np.load(AV_path + \"/present/present_AV_tempgram_array.npy\", allow_pickle = True)\n",
    "p_temp_mv = np.load(MV_path + \"/present/present_MV_tempgram_array.npy\", allow_pickle = True)\n",
    "p_temp_pv = np.load(PV_path + \"/present/present_PV_tempogram_array.npy\", allow_pickle = True)\n",
    "p_temp_tv = np.load(TV_path + \"/present/present_TV_tempogram_array.npy\", allow_pickle = True)"
   ]
  },
  {
   "cell_type": "markdown",
   "id": "f0e371bc",
   "metadata": {},
   "source": [
    "### AV vs MV"
   ]
  },
  {
   "cell_type": "code",
   "execution_count": 53,
   "id": "8598189a",
   "metadata": {},
   "outputs": [],
   "source": [
    "av_mv = temp(p_temp_av, p_temp_mv)"
   ]
  },
  {
   "cell_type": "markdown",
   "id": "9f58f1dc",
   "metadata": {},
   "source": [
    "### AV vs PV"
   ]
  },
  {
   "cell_type": "code",
   "execution_count": 54,
   "id": "b599e352",
   "metadata": {},
   "outputs": [],
   "source": [
    "av_pv = temp(p_temp_av, p_temp_pv)"
   ]
  },
  {
   "cell_type": "markdown",
   "id": "3f372250",
   "metadata": {},
   "source": [
    "### AV vs TV"
   ]
  },
  {
   "cell_type": "code",
   "execution_count": 55,
   "id": "6d641873",
   "metadata": {},
   "outputs": [],
   "source": [
    "av_tv = temp(p_temp_av, p_temp_tv)"
   ]
  },
  {
   "cell_type": "code",
   "execution_count": 56,
   "id": "b162b637",
   "metadata": {},
   "outputs": [
    {
     "name": "stdout",
     "output_type": "stream",
     "text": [
      "22\n"
     ]
    }
   ],
   "source": [
    "av_temp = list(set(av_mv) & set(av_pv) & set(av_tv))\n",
    "print(len(av_temp))"
   ]
  },
  {
   "cell_type": "markdown",
   "id": "003eb476",
   "metadata": {},
   "source": [
    "### MV vs PV"
   ]
  },
  {
   "cell_type": "code",
   "execution_count": 57,
   "id": "164f7c7d",
   "metadata": {},
   "outputs": [],
   "source": [
    "mv_pv = temp(p_temp_mv, p_temp_pv)"
   ]
  },
  {
   "cell_type": "markdown",
   "id": "5be4f8e4",
   "metadata": {},
   "source": [
    "### MV vs TV"
   ]
  },
  {
   "cell_type": "code",
   "execution_count": 58,
   "id": "f10b69c6",
   "metadata": {},
   "outputs": [],
   "source": [
    "mv_tv = temp(p_temp_mv, p_temp_tv)"
   ]
  },
  {
   "cell_type": "code",
   "execution_count": 59,
   "id": "1ad7c500",
   "metadata": {},
   "outputs": [
    {
     "name": "stdout",
     "output_type": "stream",
     "text": [
      "15\n"
     ]
    }
   ],
   "source": [
    "mv_temp = list(set(mv_pv) & set(mv_tv))\n",
    "print(len(mv_temp))"
   ]
  },
  {
   "cell_type": "markdown",
   "id": "c8a11151",
   "metadata": {},
   "source": [
    "### PV vs TV"
   ]
  },
  {
   "cell_type": "code",
   "execution_count": 60,
   "id": "7c804a3e",
   "metadata": {},
   "outputs": [],
   "source": [
    "pv_tv = temp(p_temp_pv, p_temp_tv)"
   ]
  },
  {
   "cell_type": "code",
   "execution_count": 61,
   "id": "df3005c1",
   "metadata": {},
   "outputs": [
    {
     "name": "stdout",
     "output_type": "stream",
     "text": [
      "0\n"
     ]
    }
   ],
   "source": [
    "temp = list(set(mv_temp) & set(av_temp) & set(pv_tv))\n",
    "print(len(temp))"
   ]
  },
  {
   "cell_type": "code",
   "execution_count": null,
   "id": "62d17935",
   "metadata": {},
   "outputs": [],
   "source": []
  },
  {
   "cell_type": "code",
   "execution_count": null,
   "id": "1c075a7d",
   "metadata": {},
   "outputs": [],
   "source": []
  }
 ],
 "metadata": {
  "kernelspec": {
   "display_name": "Python 3 (ipykernel)",
   "language": "python",
   "name": "python3"
  },
  "language_info": {
   "codemirror_mode": {
    "name": "ipython",
    "version": 3
   },
   "file_extension": ".py",
   "mimetype": "text/x-python",
   "name": "python",
   "nbconvert_exporter": "python",
   "pygments_lexer": "ipython3",
   "version": "3.9.9"
  }
 },
 "nbformat": 4,
 "nbformat_minor": 5
}
