{
 "cells": [
  {
   "cell_type": "code",
   "execution_count": 1,
   "id": "e232ae2f",
   "metadata": {},
   "outputs": [
    {
     "ename": "RuntimeError",
     "evalue": "module compiled against API version 0xe but this version of numpy is 0xd",
     "output_type": "error",
     "traceback": [
      "\u001b[0;31m---------------------------------------------------------------------------\u001b[0m",
      "\u001b[0;31mRuntimeError\u001b[0m                              Traceback (most recent call last)",
      "\u001b[0;31mRuntimeError\u001b[0m: module compiled against API version 0xe but this version of numpy is 0xd"
     ]
    }
   ],
   "source": [
    "import pandas as pd \n",
    "from scipy.stats import mannwhitneyu\n",
    "from scipy import stats\n",
    "import numpy as np"
   ]
  },
  {
   "cell_type": "code",
   "execution_count": 2,
   "id": "52193d25",
   "metadata": {},
   "outputs": [],
   "source": [
    "AV_path =  \"/Users/ecem/Desktop/phonocardiogram/data/AV\"\n",
    "MV_path =  \"/Users/ecem/Desktop/phonocardiogram/data/MV\"\n",
    "PV_path =  \"/Users/ecem/Desktop/phonocardiogram/data/PV\"\n",
    "TV_path =  \"/Users/ecem/Desktop/phonocardiogram/data/TV\""
   ]
  },
  {
   "cell_type": "markdown",
   "id": "95a719e9",
   "metadata": {},
   "source": [
    "# SPECTOGRAM"
   ]
  },
  {
   "cell_type": "code",
   "execution_count": 3,
   "id": "0f160241",
   "metadata": {},
   "outputs": [],
   "source": [
    "p_spec_av = np.load(AV_path + \"/present/present_AV_spectogram_coef.npy\", allow_pickle = True)\n",
    "p_spec_mv = np.load(MV_path + \"/present/present_MV_spectogram_coef.npy\", allow_pickle = True)\n",
    "p_spec_pv = np.load(PV_path + \"/present/present_PV_spectogram_coef.npy\", allow_pickle = True)\n",
    "p_spec_tv = np.load(TV_path + \"/present/present_TV_spectogram_coef.npy\", allow_pickle = True)"
   ]
  },
  {
   "cell_type": "markdown",
   "id": "05fb94bb",
   "metadata": {},
   "source": [
    "### AV-MV"
   ]
  },
  {
   "cell_type": "code",
   "execution_count": 4,
   "id": "5ac23bb4",
   "metadata": {},
   "outputs": [],
   "source": [
    "test = mannwhitneyu(p_spec_av, p_spec_mv, use_continuity=False, alternative = 'two-sided')\n",
    "stats = pd.DataFrame(test[0])\n",
    "p = pd.DataFrame(test[1])\n"
   ]
  },
  {
   "cell_type": "code",
   "execution_count": 5,
   "id": "a3f26f1d",
   "metadata": {},
   "outputs": [],
   "source": [
    "index_list_av_mv = p[(p < 0.05).any(axis=1)].index"
   ]
  },
  {
   "cell_type": "code",
   "execution_count": 6,
   "id": "b837a43d",
   "metadata": {},
   "outputs": [
    {
     "data": {
      "text/plain": [
       "15180"
      ]
     },
     "execution_count": 6,
     "metadata": {},
     "output_type": "execute_result"
    }
   ],
   "source": [
    "len(index_list_av_mv)"
   ]
  },
  {
   "cell_type": "markdown",
   "id": "33b4bd95",
   "metadata": {},
   "source": [
    "### AV-PV"
   ]
  },
  {
   "cell_type": "code",
   "execution_count": 7,
   "id": "65fa9939",
   "metadata": {},
   "outputs": [
    {
     "name": "stdout",
     "output_type": "stream",
     "text": [
      "14715\n"
     ]
    }
   ],
   "source": [
    "test = mannwhitneyu(p_spec_av, p_spec_pv, use_continuity=False, alternative = 'two-sided')\n",
    "stats = pd.DataFrame(test[0])\n",
    "p = pd.DataFrame(test[1])\n",
    "\n",
    "index_list_av_pv = p[(p < 0.05).any(axis=1)].index\n",
    "\n",
    "print(len(index_list_av_pv))"
   ]
  },
  {
   "cell_type": "markdown",
   "id": "8fe5fea6",
   "metadata": {},
   "source": [
    "### AV_TV"
   ]
  },
  {
   "cell_type": "code",
   "execution_count": 8,
   "id": "ddb6a660",
   "metadata": {},
   "outputs": [
    {
     "name": "stdout",
     "output_type": "stream",
     "text": [
      "14551\n"
     ]
    }
   ],
   "source": [
    "test = mannwhitneyu(p_spec_av, p_spec_tv, use_continuity=False, alternative = 'two-sided')\n",
    "stats = pd.DataFrame(test[0])\n",
    "p = pd.DataFrame(test[1])\n",
    "\n",
    "p.T.style.apply(lambda x: [\"background: pink\" if v < 0.05 else \"\" for v in x], axis = 1)\n",
    "\n",
    "index_list_av_tv = p[(p < 0.05).any(axis=1)].index\n",
    "\n",
    "print(len(index_list_av_tv))"
   ]
  },
  {
   "cell_type": "code",
   "execution_count": 9,
   "id": "80341bbf",
   "metadata": {},
   "outputs": [
    {
     "name": "stdout",
     "output_type": "stream",
     "text": [
      "13159\n"
     ]
    }
   ],
   "source": [
    "av = list(set(index_list_av_mv) & set(index_list_av_pv ) & set(index_list_av_tv))\n",
    "print(len(av))"
   ]
  },
  {
   "cell_type": "markdown",
   "id": "ddf93e49",
   "metadata": {},
   "source": [
    "### MV-PV"
   ]
  },
  {
   "cell_type": "code",
   "execution_count": 10,
   "id": "3660f1dc",
   "metadata": {},
   "outputs": [
    {
     "name": "stdout",
     "output_type": "stream",
     "text": [
      "15786\n"
     ]
    }
   ],
   "source": [
    "test = mannwhitneyu(p_spec_mv, p_spec_pv, use_continuity=False, alternative = 'two-sided')\n",
    "stats = pd.DataFrame(test[0])\n",
    "p = pd.DataFrame(test[1])\n",
    "\n",
    "\n",
    "index_list_mv_pv = p[(p < 0.05).any(axis=1)].index\n",
    "\n",
    "print(len(index_list_mv_pv))"
   ]
  },
  {
   "cell_type": "markdown",
   "id": "e16b32b9",
   "metadata": {},
   "source": [
    "### MV_TV"
   ]
  },
  {
   "cell_type": "code",
   "execution_count": 11,
   "id": "d0562c0d",
   "metadata": {},
   "outputs": [
    {
     "name": "stdout",
     "output_type": "stream",
     "text": [
      "14159\n"
     ]
    }
   ],
   "source": [
    "test = mannwhitneyu(p_spec_mv, p_spec_tv, use_continuity=False, alternative = 'two-sided')\n",
    "stats = pd.DataFrame(test[0])\n",
    "p = pd.DataFrame(test[1])\n",
    "\n",
    "p.T.style.apply(lambda x: [\"background: pink\" if v < 0.05 else \"\" for v in x], axis = 1)\n",
    "\n",
    "index_list_mv_tv = p[(p < 0.05).any(axis=1)].index\n",
    "\n",
    "print(len(index_list_mv_tv))"
   ]
  },
  {
   "cell_type": "code",
   "execution_count": 12,
   "id": "ebb22702",
   "metadata": {},
   "outputs": [
    {
     "name": "stdout",
     "output_type": "stream",
     "text": [
      "13759\n"
     ]
    }
   ],
   "source": [
    "mv = list(set(index_list_mv_pv) & set(index_list_mv_tv ))\n",
    "print(len(mv))"
   ]
  },
  {
   "cell_type": "markdown",
   "id": "b4ef6458",
   "metadata": {},
   "source": [
    "### PV-TV"
   ]
  },
  {
   "cell_type": "code",
   "execution_count": 13,
   "id": "3cc0e717",
   "metadata": {},
   "outputs": [
    {
     "name": "stdout",
     "output_type": "stream",
     "text": [
      "3197\n"
     ]
    }
   ],
   "source": [
    "test = mannwhitneyu(p_spec_pv, p_spec_tv, use_continuity=False, alternative = 'two-sided')\n",
    "stats = pd.DataFrame(test[0])\n",
    "p = pd.DataFrame(test[1])\n",
    "\n",
    "p.T.style.apply(lambda x: [\"background: pink\" if v < 0.05 else \"\" for v in x], axis = 1)\n",
    "\n",
    "index_list_pv_tv = p[(p < 0.05).any(axis=1)].index\n",
    "\n",
    "print(len(index_list_pv_tv))"
   ]
  },
  {
   "cell_type": "code",
   "execution_count": 14,
   "id": "5dccfb53",
   "metadata": {},
   "outputs": [
    {
     "data": {
      "text/plain": [
       "1169"
      ]
     },
     "execution_count": 14,
     "metadata": {},
     "output_type": "execute_result"
    }
   ],
   "source": [
    "index_list_pv_tv[0]"
   ]
  },
  {
   "cell_type": "code",
   "execution_count": 15,
   "id": "e055e820",
   "metadata": {},
   "outputs": [
    {
     "name": "stdout",
     "output_type": "stream",
     "text": [
      "129\n"
     ]
    }
   ],
   "source": [
    "final = list(set(index_list_pv_tv) & set(av)& set(mv))\n",
    "print(len(final))"
   ]
  },
  {
   "cell_type": "code",
   "execution_count": 16,
   "id": "80a5daf0",
   "metadata": {},
   "outputs": [],
   "source": [
    "#final"
   ]
  },
  {
   "cell_type": "code",
   "execution_count": 17,
   "id": "cc9b3a35",
   "metadata": {},
   "outputs": [],
   "source": [
    "final = np.array(final)\n",
    "np.save(\"/Users/ecem/Desktop/phonocardiogram/data/final_spec_coef_four_class\", final, allow_pickle = True)"
   ]
  },
  {
   "cell_type": "markdown",
   "id": "9b66ebd7",
   "metadata": {},
   "source": [
    "# WAVELET"
   ]
  },
  {
   "cell_type": "code",
   "execution_count": 3,
   "id": "d72f72c4",
   "metadata": {},
   "outputs": [],
   "source": [
    "from IPython.display import display"
   ]
  },
  {
   "cell_type": "code",
   "execution_count": 4,
   "id": "e8d45021",
   "metadata": {},
   "outputs": [],
   "source": [
    "def shortcut_v2(dir_path = None, name1 = 'mr', name2 = 'ar', level = 0):\n",
    "    \n",
    "    wavelet_1 = np.load(dir_path + \"/\" + name1 + \"_lvl_{}.npy\".format(level), allow_pickle = True)\n",
    "    wavelet_2 = np.load(dir_path + \"/\" + name2 + \"_lvl_{}.npy\".format(level), allow_pickle = True)\n",
    "\n",
    "    test = mannwhitneyu(wavelet_1, wavelet_2, use_continuity = False, alternative = 'two-sided')\n",
    "    stats = pd.DataFrame(test[0])\n",
    "    p_value_df = pd.DataFrame(test[1])\n",
    "\n",
    "    little_index_list = p_value_df[(p_value_df < 0.05).any(axis=1)].index\n",
    "    #df = p_value_df.T.style.apply(lambda x: [\"background: pink\" if v < 0.05 else \"\" for v in x],\n",
    "                                          #axis = 1)\n",
    "    \n",
    "    return  little_index_list\n"
   ]
  },
  {
   "cell_type": "code",
   "execution_count": 5,
   "id": "048149a4",
   "metadata": {},
   "outputs": [],
   "source": [
    "path = \"/Users/ecem/Desktop/phonocardiogram/data/\""
   ]
  },
  {
   "cell_type": "markdown",
   "id": "44c7021e",
   "metadata": {},
   "source": [
    "### AV- MV"
   ]
  },
  {
   "cell_type": "code",
   "execution_count": 6,
   "id": "7246e787",
   "metadata": {},
   "outputs": [],
   "source": [
    "index_list_av_mv_w = []\n",
    "for i in range(7):\n",
    "    indexes = shortcut_v2(path, 'AV/present/present_AV_wavelet_coef', 'MV/present/present_MV_wavelet_coef', level = i)\n",
    "    index_list_av_mv_w.append(indexes)\n",
    "    \n",
    "    "
   ]
  },
  {
   "cell_type": "code",
   "execution_count": 7,
   "id": "67322873",
   "metadata": {},
   "outputs": [],
   "source": [
    "#index_list_av_mv_w"
   ]
  },
  {
   "cell_type": "markdown",
   "id": "e7b9bfdb",
   "metadata": {},
   "source": [
    "### AV-PV"
   ]
  },
  {
   "cell_type": "code",
   "execution_count": 8,
   "id": "1cccef97",
   "metadata": {},
   "outputs": [],
   "source": [
    "index_list_av_pv_w = []\n",
    "for i in range(7):\n",
    "    indexes = shortcut_v2(path, 'AV/present/present_AV_wavelet_coef', 'PV/present/present_PV_wavelet_coef', level = i)\n",
    "    index_list_av_pv_w.append(indexes)"
   ]
  },
  {
   "cell_type": "code",
   "execution_count": 9,
   "id": "12841d6e",
   "metadata": {},
   "outputs": [],
   "source": [
    "#index_list_av_pv_w"
   ]
  },
  {
   "cell_type": "markdown",
   "id": "8c6ed2f8",
   "metadata": {},
   "source": [
    "### AV-TV"
   ]
  },
  {
   "cell_type": "code",
   "execution_count": 10,
   "id": "5df2919f",
   "metadata": {},
   "outputs": [],
   "source": [
    "index_list_av_tv_w = []\n",
    "for i in range(7):\n",
    "    indexes = shortcut_v2(path, 'AV/present/present_AV_wavelet_coef', 'TV/present/present_TV_wavelet_coef', level = i)\n",
    "    index_list_av_tv_w.append(indexes)\n",
    "    \n",
    "#index_list_av_tv_w"
   ]
  },
  {
   "cell_type": "code",
   "execution_count": 11,
   "id": "fe6b861e",
   "metadata": {},
   "outputs": [],
   "source": [
    "w_index_av = []\n",
    "for i in range(7):\n",
    "    av_w = list(set(index_list_av_mv_w[i]) & set(index_list_av_pv_w[i]) & set(index_list_av_tv_w[i]))\n",
    "    w_index_av.append(av_w)\n",
    "\n",
    "    "
   ]
  },
  {
   "cell_type": "markdown",
   "id": "9939ebe8",
   "metadata": {},
   "source": [
    "### MV-PV"
   ]
  },
  {
   "cell_type": "code",
   "execution_count": 12,
   "id": "e23fdf74",
   "metadata": {},
   "outputs": [],
   "source": [
    "index_list_mv_pv_w = []\n",
    "for i in range(7):\n",
    "    indexes = shortcut_v2(path, 'MV/present/present_MV_wavelet_coef', 'PV/present/present_PV_wavelet_coef', level = i)\n",
    "    index_list_mv_pv_w.append(indexes)"
   ]
  },
  {
   "cell_type": "markdown",
   "id": "5dc7175f",
   "metadata": {},
   "source": [
    "### MV-TV"
   ]
  },
  {
   "cell_type": "code",
   "execution_count": 13,
   "id": "26dc3092",
   "metadata": {},
   "outputs": [],
   "source": [
    "index_list_mv_tv_w = []\n",
    "for i in range(7):\n",
    "    indexes = shortcut_v2(path, 'MV/present/present_MV_wavelet_coef', 'TV/present/present_TV_wavelet_coef', level = i)\n",
    "    index_list_mv_tv_w.append(indexes)"
   ]
  },
  {
   "cell_type": "code",
   "execution_count": 14,
   "id": "fe110aad",
   "metadata": {},
   "outputs": [],
   "source": [
    "w_index_mv = []\n",
    "for i in range(7):\n",
    "    mv_w = list(set(index_list_mv_pv_w[i]) & set(index_list_mv_tv_w[i]))\n",
    "    w_index_mv.append(mv_w)"
   ]
  },
  {
   "cell_type": "markdown",
   "id": "53858db9",
   "metadata": {},
   "source": [
    "### PV-TV"
   ]
  },
  {
   "cell_type": "code",
   "execution_count": 15,
   "id": "72b53387",
   "metadata": {},
   "outputs": [],
   "source": [
    "index_list_pv_tv_w = []\n",
    "for i in range(7):\n",
    "    indexes = shortcut_v2(path, 'PV/present/present_PV_wavelet_coef', 'TV/present/present_TV_wavelet_coef', level = i)\n",
    "    index_list_pv_tv_w.append(indexes)"
   ]
  },
  {
   "cell_type": "code",
   "execution_count": 24,
   "id": "df621d89",
   "metadata": {},
   "outputs": [
    {
     "data": {
      "text/plain": [
       "[201, 595, 243, 245, 157]"
      ]
     },
     "execution_count": 24,
     "metadata": {},
     "output_type": "execute_result"
    }
   ],
   "source": [
    "w_index_av[i]"
   ]
  },
  {
   "cell_type": "code",
   "execution_count": 25,
   "id": "47c5ec0a",
   "metadata": {},
   "outputs": [],
   "source": [
    "w_index = []\n",
    "for i in range(7):\n",
    "    all_w.append(w_index_av[i])\n",
    "    all_w.append(w_index_mv[i])\n",
    "    all_w.append(index_list_pv_tv_w[i])\n",
    "    w_index.append(all_w)"
   ]
  },
  {
   "cell_type": "markdown",
   "id": "5fb119ea",
   "metadata": {},
   "source": [
    "# SIGNAL PROCESSING"
   ]
  },
  {
   "cell_type": "code",
   "execution_count": 36,
   "id": "2723d613",
   "metadata": {},
   "outputs": [],
   "source": [
    "def shortcut_sp(array1, array2, l = 1):\n",
    "    p_value = []\n",
    "    df_list = []\n",
    "    \n",
    "    if l == 1:\n",
    "        test = mannwhitneyu(array1, array2, use_continuity = False, alternative = 'two-sided', axis = 0)\n",
    "        stats = pd.DataFrame(test[0])\n",
    "        p_value = pd.DataFrame(test[1]).T\n",
    "        \n",
    "        display(p_value.style.apply(lambda x: [\"background: pink\" if v < 0.05 else \"\" for v in x],\n",
    "                                              axis = 1))\n",
    "    else:\n",
    "        for i in range(l):\n",
    "            test = mannwhitneyu(array1, array2, use_continuity = False, alternative = 'two-sided', axis = 1)\n",
    "            stats = pd.DataFrame(test[0])\n",
    "            p_value.append(pd.DataFrame(test[1]))\n",
    "\n",
    "            df_list.append(p_value[i].style.apply(lambda x: [\"background: pink\" if v < 0.05 else \"\" for v in x],\n",
    "                                                  axis = 1))\n",
    "            display(df_list[i])"
   ]
  },
  {
   "cell_type": "markdown",
   "id": "b682f31b",
   "metadata": {},
   "source": [
    "# *Zero Crossing Rate"
   ]
  },
  {
   "cell_type": "code",
   "execution_count": 37,
   "id": "18d9d6d4",
   "metadata": {},
   "outputs": [],
   "source": [
    "p_zcrs_av = np.load(AV_path + \"/present/present_AV_zcrs_array.npy\", allow_pickle = True)\n",
    "p_zcrs_mv = np.load(MV_path + \"/present/present_MV_zcrs_array.npy\", allow_pickle = True)\n",
    "p_zcrs_pv = np.load(PV_path + \"/present/present_PV_zcrs_array.npy\", allow_pickle = True)\n",
    "p_zcrs_tv = np.load(TV_path + \"/present/present_TV_zcrs_array.npy\", allow_pickle = True)"
   ]
  },
  {
   "cell_type": "markdown",
   "id": "28be0a23",
   "metadata": {},
   "source": [
    "### AV vs MV"
   ]
  },
  {
   "cell_type": "code",
   "execution_count": 38,
   "id": "4513dfa7",
   "metadata": {
    "scrolled": true
   },
   "outputs": [
    {
     "data": {
      "text/html": [
       "<style type=\"text/css\">\n",
       "#T_83235_row0_col0, #T_83235_row0_col1, #T_83235_row0_col2, #T_83235_row0_col3, #T_83235_row0_col4 {\n",
       "  background: pink;\n",
       "}\n",
       "</style>\n",
       "<table id=\"T_83235\">\n",
       "  <thead>\n",
       "    <tr>\n",
       "      <th class=\"blank level0\" >&nbsp;</th>\n",
       "      <th id=\"T_83235_level0_col0\" class=\"col_heading level0 col0\" >0</th>\n",
       "      <th id=\"T_83235_level0_col1\" class=\"col_heading level0 col1\" >1</th>\n",
       "      <th id=\"T_83235_level0_col2\" class=\"col_heading level0 col2\" >2</th>\n",
       "      <th id=\"T_83235_level0_col3\" class=\"col_heading level0 col3\" >3</th>\n",
       "      <th id=\"T_83235_level0_col4\" class=\"col_heading level0 col4\" >4</th>\n",
       "    </tr>\n",
       "  </thead>\n",
       "  <tbody>\n",
       "    <tr>\n",
       "      <th id=\"T_83235_level0_row0\" class=\"row_heading level0 row0\" >0</th>\n",
       "      <td id=\"T_83235_row0_col0\" class=\"data row0 col0\" >0.000000</td>\n",
       "      <td id=\"T_83235_row0_col1\" class=\"data row0 col1\" >0.000000</td>\n",
       "      <td id=\"T_83235_row0_col2\" class=\"data row0 col2\" >0.000000</td>\n",
       "      <td id=\"T_83235_row0_col3\" class=\"data row0 col3\" >0.000000</td>\n",
       "      <td id=\"T_83235_row0_col4\" class=\"data row0 col4\" >0.000000</td>\n",
       "    </tr>\n",
       "  </tbody>\n",
       "</table>\n"
      ],
      "text/plain": [
       "<pandas.io.formats.style.Styler at 0x1674a23a0>"
      ]
     },
     "metadata": {},
     "output_type": "display_data"
    }
   ],
   "source": [
    "shortcut_sp(p_zcrs_av, p_zcrs_mv)"
   ]
  },
  {
   "cell_type": "markdown",
   "id": "73ab2410",
   "metadata": {},
   "source": [
    "### AV vs PV"
   ]
  },
  {
   "cell_type": "code",
   "execution_count": 39,
   "id": "a3c0d53c",
   "metadata": {},
   "outputs": [
    {
     "data": {
      "text/html": [
       "<style type=\"text/css\">\n",
       "#T_16c34_row0_col0, #T_16c34_row0_col1, #T_16c34_row0_col2, #T_16c34_row0_col3, #T_16c34_row0_col4 {\n",
       "  background: pink;\n",
       "}\n",
       "</style>\n",
       "<table id=\"T_16c34\">\n",
       "  <thead>\n",
       "    <tr>\n",
       "      <th class=\"blank level0\" >&nbsp;</th>\n",
       "      <th id=\"T_16c34_level0_col0\" class=\"col_heading level0 col0\" >0</th>\n",
       "      <th id=\"T_16c34_level0_col1\" class=\"col_heading level0 col1\" >1</th>\n",
       "      <th id=\"T_16c34_level0_col2\" class=\"col_heading level0 col2\" >2</th>\n",
       "      <th id=\"T_16c34_level0_col3\" class=\"col_heading level0 col3\" >3</th>\n",
       "      <th id=\"T_16c34_level0_col4\" class=\"col_heading level0 col4\" >4</th>\n",
       "    </tr>\n",
       "  </thead>\n",
       "  <tbody>\n",
       "    <tr>\n",
       "      <th id=\"T_16c34_level0_row0\" class=\"row_heading level0 row0\" >0</th>\n",
       "      <td id=\"T_16c34_row0_col0\" class=\"data row0 col0\" >0.016074</td>\n",
       "      <td id=\"T_16c34_row0_col1\" class=\"data row0 col1\" >0.014966</td>\n",
       "      <td id=\"T_16c34_row0_col2\" class=\"data row0 col2\" >0.000929</td>\n",
       "      <td id=\"T_16c34_row0_col3\" class=\"data row0 col3\" >0.018258</td>\n",
       "      <td id=\"T_16c34_row0_col4\" class=\"data row0 col4\" >0.001102</td>\n",
       "    </tr>\n",
       "  </tbody>\n",
       "</table>\n"
      ],
      "text/plain": [
       "<pandas.io.formats.style.Styler at 0x106c7c550>"
      ]
     },
     "metadata": {},
     "output_type": "display_data"
    }
   ],
   "source": [
    "shortcut_sp(p_zcrs_av, p_zcrs_pv)"
   ]
  },
  {
   "cell_type": "markdown",
   "id": "04ac9dbc",
   "metadata": {},
   "source": [
    "### AV vs TV"
   ]
  },
  {
   "cell_type": "code",
   "execution_count": 40,
   "id": "0bd6feb2",
   "metadata": {},
   "outputs": [
    {
     "data": {
      "text/html": [
       "<style type=\"text/css\">\n",
       "</style>\n",
       "<table id=\"T_458b8\">\n",
       "  <thead>\n",
       "    <tr>\n",
       "      <th class=\"blank level0\" >&nbsp;</th>\n",
       "      <th id=\"T_458b8_level0_col0\" class=\"col_heading level0 col0\" >0</th>\n",
       "      <th id=\"T_458b8_level0_col1\" class=\"col_heading level0 col1\" >1</th>\n",
       "      <th id=\"T_458b8_level0_col2\" class=\"col_heading level0 col2\" >2</th>\n",
       "      <th id=\"T_458b8_level0_col3\" class=\"col_heading level0 col3\" >3</th>\n",
       "      <th id=\"T_458b8_level0_col4\" class=\"col_heading level0 col4\" >4</th>\n",
       "    </tr>\n",
       "  </thead>\n",
       "  <tbody>\n",
       "    <tr>\n",
       "      <th id=\"T_458b8_level0_row0\" class=\"row_heading level0 row0\" >0</th>\n",
       "      <td id=\"T_458b8_row0_col0\" class=\"data row0 col0\" >0.607344</td>\n",
       "      <td id=\"T_458b8_row0_col1\" class=\"data row0 col1\" >0.874108</td>\n",
       "      <td id=\"T_458b8_row0_col2\" class=\"data row0 col2\" >0.839848</td>\n",
       "      <td id=\"T_458b8_row0_col3\" class=\"data row0 col3\" >0.457638</td>\n",
       "      <td id=\"T_458b8_row0_col4\" class=\"data row0 col4\" >0.841524</td>\n",
       "    </tr>\n",
       "  </tbody>\n",
       "</table>\n"
      ],
      "text/plain": [
       "<pandas.io.formats.style.Styler at 0x15ae54400>"
      ]
     },
     "metadata": {},
     "output_type": "display_data"
    }
   ],
   "source": [
    "shortcut_sp(p_zcrs_av, p_zcrs_tv)"
   ]
  },
  {
   "cell_type": "markdown",
   "id": "1c81486b",
   "metadata": {},
   "source": [
    "### MV vs PV"
   ]
  },
  {
   "cell_type": "code",
   "execution_count": 41,
   "id": "1559ca5f",
   "metadata": {},
   "outputs": [
    {
     "data": {
      "text/html": [
       "<style type=\"text/css\">\n",
       "#T_749c9_row0_col0, #T_749c9_row0_col1, #T_749c9_row0_col2, #T_749c9_row0_col3, #T_749c9_row0_col4 {\n",
       "  background: pink;\n",
       "}\n",
       "</style>\n",
       "<table id=\"T_749c9\">\n",
       "  <thead>\n",
       "    <tr>\n",
       "      <th class=\"blank level0\" >&nbsp;</th>\n",
       "      <th id=\"T_749c9_level0_col0\" class=\"col_heading level0 col0\" >0</th>\n",
       "      <th id=\"T_749c9_level0_col1\" class=\"col_heading level0 col1\" >1</th>\n",
       "      <th id=\"T_749c9_level0_col2\" class=\"col_heading level0 col2\" >2</th>\n",
       "      <th id=\"T_749c9_level0_col3\" class=\"col_heading level0 col3\" >3</th>\n",
       "      <th id=\"T_749c9_level0_col4\" class=\"col_heading level0 col4\" >4</th>\n",
       "    </tr>\n",
       "  </thead>\n",
       "  <tbody>\n",
       "    <tr>\n",
       "      <th id=\"T_749c9_level0_row0\" class=\"row_heading level0 row0\" >0</th>\n",
       "      <td id=\"T_749c9_row0_col0\" class=\"data row0 col0\" >0.000000</td>\n",
       "      <td id=\"T_749c9_row0_col1\" class=\"data row0 col1\" >0.000000</td>\n",
       "      <td id=\"T_749c9_row0_col2\" class=\"data row0 col2\" >0.000000</td>\n",
       "      <td id=\"T_749c9_row0_col3\" class=\"data row0 col3\" >0.000000</td>\n",
       "      <td id=\"T_749c9_row0_col4\" class=\"data row0 col4\" >0.000000</td>\n",
       "    </tr>\n",
       "  </tbody>\n",
       "</table>\n"
      ],
      "text/plain": [
       "<pandas.io.formats.style.Styler at 0x166cbd670>"
      ]
     },
     "metadata": {},
     "output_type": "display_data"
    }
   ],
   "source": [
    "shortcut_sp(p_zcrs_mv, p_zcrs_pv)"
   ]
  },
  {
   "cell_type": "markdown",
   "id": "a5ff77e8",
   "metadata": {},
   "source": [
    "### MV vs TV"
   ]
  },
  {
   "cell_type": "code",
   "execution_count": 42,
   "id": "2e77643d",
   "metadata": {},
   "outputs": [
    {
     "data": {
      "text/html": [
       "<style type=\"text/css\">\n",
       "#T_c9d62_row0_col0, #T_c9d62_row0_col1, #T_c9d62_row0_col2, #T_c9d62_row0_col3, #T_c9d62_row0_col4 {\n",
       "  background: pink;\n",
       "}\n",
       "</style>\n",
       "<table id=\"T_c9d62\">\n",
       "  <thead>\n",
       "    <tr>\n",
       "      <th class=\"blank level0\" >&nbsp;</th>\n",
       "      <th id=\"T_c9d62_level0_col0\" class=\"col_heading level0 col0\" >0</th>\n",
       "      <th id=\"T_c9d62_level0_col1\" class=\"col_heading level0 col1\" >1</th>\n",
       "      <th id=\"T_c9d62_level0_col2\" class=\"col_heading level0 col2\" >2</th>\n",
       "      <th id=\"T_c9d62_level0_col3\" class=\"col_heading level0 col3\" >3</th>\n",
       "      <th id=\"T_c9d62_level0_col4\" class=\"col_heading level0 col4\" >4</th>\n",
       "    </tr>\n",
       "  </thead>\n",
       "  <tbody>\n",
       "    <tr>\n",
       "      <th id=\"T_c9d62_level0_row0\" class=\"row_heading level0 row0\" >0</th>\n",
       "      <td id=\"T_c9d62_row0_col0\" class=\"data row0 col0\" >0.000000</td>\n",
       "      <td id=\"T_c9d62_row0_col1\" class=\"data row0 col1\" >0.000000</td>\n",
       "      <td id=\"T_c9d62_row0_col2\" class=\"data row0 col2\" >0.000000</td>\n",
       "      <td id=\"T_c9d62_row0_col3\" class=\"data row0 col3\" >0.000000</td>\n",
       "      <td id=\"T_c9d62_row0_col4\" class=\"data row0 col4\" >0.000000</td>\n",
       "    </tr>\n",
       "  </tbody>\n",
       "</table>\n"
      ],
      "text/plain": [
       "<pandas.io.formats.style.Styler at 0x1673ab430>"
      ]
     },
     "metadata": {},
     "output_type": "display_data"
    }
   ],
   "source": [
    "shortcut_sp(p_zcrs_mv, p_zcrs_tv)"
   ]
  },
  {
   "cell_type": "markdown",
   "id": "199940c8",
   "metadata": {},
   "source": [
    "### PV vs TV"
   ]
  },
  {
   "cell_type": "code",
   "execution_count": 43,
   "id": "d8e67c8a",
   "metadata": {},
   "outputs": [
    {
     "data": {
      "text/html": [
       "<style type=\"text/css\">\n",
       "#T_956f4_row0_col0, #T_956f4_row0_col1, #T_956f4_row0_col2, #T_956f4_row0_col3, #T_956f4_row0_col4 {\n",
       "  background: pink;\n",
       "}\n",
       "</style>\n",
       "<table id=\"T_956f4\">\n",
       "  <thead>\n",
       "    <tr>\n",
       "      <th class=\"blank level0\" >&nbsp;</th>\n",
       "      <th id=\"T_956f4_level0_col0\" class=\"col_heading level0 col0\" >0</th>\n",
       "      <th id=\"T_956f4_level0_col1\" class=\"col_heading level0 col1\" >1</th>\n",
       "      <th id=\"T_956f4_level0_col2\" class=\"col_heading level0 col2\" >2</th>\n",
       "      <th id=\"T_956f4_level0_col3\" class=\"col_heading level0 col3\" >3</th>\n",
       "      <th id=\"T_956f4_level0_col4\" class=\"col_heading level0 col4\" >4</th>\n",
       "    </tr>\n",
       "  </thead>\n",
       "  <tbody>\n",
       "    <tr>\n",
       "      <th id=\"T_956f4_level0_row0\" class=\"row_heading level0 row0\" >0</th>\n",
       "      <td id=\"T_956f4_row0_col0\" class=\"data row0 col0\" >0.006724</td>\n",
       "      <td id=\"T_956f4_row0_col1\" class=\"data row0 col1\" >0.022477</td>\n",
       "      <td id=\"T_956f4_row0_col2\" class=\"data row0 col2\" >0.005177</td>\n",
       "      <td id=\"T_956f4_row0_col3\" class=\"data row0 col3\" >0.002756</td>\n",
       "      <td id=\"T_956f4_row0_col4\" class=\"data row0 col4\" >0.001706</td>\n",
       "    </tr>\n",
       "  </tbody>\n",
       "</table>\n"
      ],
      "text/plain": [
       "<pandas.io.formats.style.Styler at 0x106c7cf10>"
      ]
     },
     "metadata": {},
     "output_type": "display_data"
    }
   ],
   "source": [
    "shortcut_sp(p_zcrs_pv, p_zcrs_tv)"
   ]
  },
  {
   "cell_type": "markdown",
   "id": "9219c30d",
   "metadata": {},
   "source": [
    "# *Chromogram"
   ]
  },
  {
   "cell_type": "code",
   "execution_count": 44,
   "id": "ba18c45b",
   "metadata": {},
   "outputs": [],
   "source": [
    "p_chro_av = np.load(AV_path + \"/present/present_AV_chromogram_array.npy\", allow_pickle = True)\n",
    "p_chro_mv = np.load(MV_path + \"/present/present_MV_chromogram_array.npy\", allow_pickle = True)\n",
    "p_chro_pv = np.load(PV_path + \"/present/present_PV_chromogram_array.npy\", allow_pickle = True)\n",
    "p_chro_tv = np.load(TV_path + \"/present/present_TV_chromogram_array.npy\", allow_pickle = True)"
   ]
  },
  {
   "cell_type": "markdown",
   "id": "0adbb525",
   "metadata": {},
   "source": [
    "### AV vs MV"
   ]
  },
  {
   "cell_type": "code",
   "execution_count": 45,
   "id": "d2fca025",
   "metadata": {},
   "outputs": [
    {
     "data": {
      "text/html": [
       "<style type=\"text/css\">\n",
       "#T_dff24_row0_col6, #T_dff24_row0_col7, #T_dff24_row0_col8 {\n",
       "  background: pink;\n",
       "}\n",
       "</style>\n",
       "<table id=\"T_dff24\">\n",
       "  <thead>\n",
       "    <tr>\n",
       "      <th class=\"blank level0\" >&nbsp;</th>\n",
       "      <th id=\"T_dff24_level0_col0\" class=\"col_heading level0 col0\" >0</th>\n",
       "      <th id=\"T_dff24_level0_col1\" class=\"col_heading level0 col1\" >1</th>\n",
       "      <th id=\"T_dff24_level0_col2\" class=\"col_heading level0 col2\" >2</th>\n",
       "      <th id=\"T_dff24_level0_col3\" class=\"col_heading level0 col3\" >3</th>\n",
       "      <th id=\"T_dff24_level0_col4\" class=\"col_heading level0 col4\" >4</th>\n",
       "      <th id=\"T_dff24_level0_col5\" class=\"col_heading level0 col5\" >5</th>\n",
       "      <th id=\"T_dff24_level0_col6\" class=\"col_heading level0 col6\" >6</th>\n",
       "      <th id=\"T_dff24_level0_col7\" class=\"col_heading level0 col7\" >7</th>\n",
       "      <th id=\"T_dff24_level0_col8\" class=\"col_heading level0 col8\" >8</th>\n",
       "      <th id=\"T_dff24_level0_col9\" class=\"col_heading level0 col9\" >9</th>\n",
       "      <th id=\"T_dff24_level0_col10\" class=\"col_heading level0 col10\" >10</th>\n",
       "      <th id=\"T_dff24_level0_col11\" class=\"col_heading level0 col11\" >11</th>\n",
       "    </tr>\n",
       "  </thead>\n",
       "  <tbody>\n",
       "    <tr>\n",
       "      <th id=\"T_dff24_level0_row0\" class=\"row_heading level0 row0\" >0</th>\n",
       "      <td id=\"T_dff24_row0_col0\" class=\"data row0 col0\" >0.669130</td>\n",
       "      <td id=\"T_dff24_row0_col1\" class=\"data row0 col1\" >0.674462</td>\n",
       "      <td id=\"T_dff24_row0_col2\" class=\"data row0 col2\" >0.226760</td>\n",
       "      <td id=\"T_dff24_row0_col3\" class=\"data row0 col3\" >0.881038</td>\n",
       "      <td id=\"T_dff24_row0_col4\" class=\"data row0 col4\" >0.669040</td>\n",
       "      <td id=\"T_dff24_row0_col5\" class=\"data row0 col5\" >0.067644</td>\n",
       "      <td id=\"T_dff24_row0_col6\" class=\"data row0 col6\" >0.008997</td>\n",
       "      <td id=\"T_dff24_row0_col7\" class=\"data row0 col7\" >0.000360</td>\n",
       "      <td id=\"T_dff24_row0_col8\" class=\"data row0 col8\" >0.027749</td>\n",
       "      <td id=\"T_dff24_row0_col9\" class=\"data row0 col9\" >0.538659</td>\n",
       "      <td id=\"T_dff24_row0_col10\" class=\"data row0 col10\" >0.549638</td>\n",
       "      <td id=\"T_dff24_row0_col11\" class=\"data row0 col11\" >0.775124</td>\n",
       "    </tr>\n",
       "  </tbody>\n",
       "</table>\n"
      ],
      "text/plain": [
       "<pandas.io.formats.style.Styler at 0x15ae64ca0>"
      ]
     },
     "metadata": {},
     "output_type": "display_data"
    }
   ],
   "source": [
    "shortcut_sp(p_chro_av, p_chro_mv)"
   ]
  },
  {
   "cell_type": "markdown",
   "id": "8dc6ef83",
   "metadata": {},
   "source": [
    "### AV vs PV"
   ]
  },
  {
   "cell_type": "code",
   "execution_count": 46,
   "id": "3dc1bf65",
   "metadata": {},
   "outputs": [
    {
     "data": {
      "text/html": [
       "<style type=\"text/css\">\n",
       "#T_2f9a5_row0_col2, #T_2f9a5_row0_col3, #T_2f9a5_row0_col4, #T_2f9a5_row0_col5, #T_2f9a5_row0_col6, #T_2f9a5_row0_col7, #T_2f9a5_row0_col10 {\n",
       "  background: pink;\n",
       "}\n",
       "</style>\n",
       "<table id=\"T_2f9a5\">\n",
       "  <thead>\n",
       "    <tr>\n",
       "      <th class=\"blank level0\" >&nbsp;</th>\n",
       "      <th id=\"T_2f9a5_level0_col0\" class=\"col_heading level0 col0\" >0</th>\n",
       "      <th id=\"T_2f9a5_level0_col1\" class=\"col_heading level0 col1\" >1</th>\n",
       "      <th id=\"T_2f9a5_level0_col2\" class=\"col_heading level0 col2\" >2</th>\n",
       "      <th id=\"T_2f9a5_level0_col3\" class=\"col_heading level0 col3\" >3</th>\n",
       "      <th id=\"T_2f9a5_level0_col4\" class=\"col_heading level0 col4\" >4</th>\n",
       "      <th id=\"T_2f9a5_level0_col5\" class=\"col_heading level0 col5\" >5</th>\n",
       "      <th id=\"T_2f9a5_level0_col6\" class=\"col_heading level0 col6\" >6</th>\n",
       "      <th id=\"T_2f9a5_level0_col7\" class=\"col_heading level0 col7\" >7</th>\n",
       "      <th id=\"T_2f9a5_level0_col8\" class=\"col_heading level0 col8\" >8</th>\n",
       "      <th id=\"T_2f9a5_level0_col9\" class=\"col_heading level0 col9\" >9</th>\n",
       "      <th id=\"T_2f9a5_level0_col10\" class=\"col_heading level0 col10\" >10</th>\n",
       "      <th id=\"T_2f9a5_level0_col11\" class=\"col_heading level0 col11\" >11</th>\n",
       "    </tr>\n",
       "  </thead>\n",
       "  <tbody>\n",
       "    <tr>\n",
       "      <th id=\"T_2f9a5_level0_row0\" class=\"row_heading level0 row0\" >0</th>\n",
       "      <td id=\"T_2f9a5_row0_col0\" class=\"data row0 col0\" >0.555657</td>\n",
       "      <td id=\"T_2f9a5_row0_col1\" class=\"data row0 col1\" >0.437475</td>\n",
       "      <td id=\"T_2f9a5_row0_col2\" class=\"data row0 col2\" >0.000017</td>\n",
       "      <td id=\"T_2f9a5_row0_col3\" class=\"data row0 col3\" >0.001110</td>\n",
       "      <td id=\"T_2f9a5_row0_col4\" class=\"data row0 col4\" >0.001061</td>\n",
       "      <td id=\"T_2f9a5_row0_col5\" class=\"data row0 col5\" >0.000017</td>\n",
       "      <td id=\"T_2f9a5_row0_col6\" class=\"data row0 col6\" >0.000670</td>\n",
       "      <td id=\"T_2f9a5_row0_col7\" class=\"data row0 col7\" >0.000453</td>\n",
       "      <td id=\"T_2f9a5_row0_col8\" class=\"data row0 col8\" >0.204624</td>\n",
       "      <td id=\"T_2f9a5_row0_col9\" class=\"data row0 col9\" >0.208718</td>\n",
       "      <td id=\"T_2f9a5_row0_col10\" class=\"data row0 col10\" >0.042520</td>\n",
       "      <td id=\"T_2f9a5_row0_col11\" class=\"data row0 col11\" >0.341954</td>\n",
       "    </tr>\n",
       "  </tbody>\n",
       "</table>\n"
      ],
      "text/plain": [
       "<pandas.io.formats.style.Styler at 0x15ae64070>"
      ]
     },
     "metadata": {},
     "output_type": "display_data"
    }
   ],
   "source": [
    "shortcut_sp(p_chro_av, p_chro_pv)"
   ]
  },
  {
   "cell_type": "markdown",
   "id": "52fccf7a",
   "metadata": {},
   "source": [
    "### AV vs TV"
   ]
  },
  {
   "cell_type": "code",
   "execution_count": 47,
   "id": "acc1e987",
   "metadata": {},
   "outputs": [
    {
     "data": {
      "text/html": [
       "<style type=\"text/css\">\n",
       "#T_dfcf4_row0_col0, #T_dfcf4_row0_col1, #T_dfcf4_row0_col2, #T_dfcf4_row0_col3, #T_dfcf4_row0_col4, #T_dfcf4_row0_col5, #T_dfcf4_row0_col6, #T_dfcf4_row0_col7, #T_dfcf4_row0_col8, #T_dfcf4_row0_col9, #T_dfcf4_row0_col10, #T_dfcf4_row0_col11 {\n",
       "  background: pink;\n",
       "}\n",
       "</style>\n",
       "<table id=\"T_dfcf4\">\n",
       "  <thead>\n",
       "    <tr>\n",
       "      <th class=\"blank level0\" >&nbsp;</th>\n",
       "      <th id=\"T_dfcf4_level0_col0\" class=\"col_heading level0 col0\" >0</th>\n",
       "      <th id=\"T_dfcf4_level0_col1\" class=\"col_heading level0 col1\" >1</th>\n",
       "      <th id=\"T_dfcf4_level0_col2\" class=\"col_heading level0 col2\" >2</th>\n",
       "      <th id=\"T_dfcf4_level0_col3\" class=\"col_heading level0 col3\" >3</th>\n",
       "      <th id=\"T_dfcf4_level0_col4\" class=\"col_heading level0 col4\" >4</th>\n",
       "      <th id=\"T_dfcf4_level0_col5\" class=\"col_heading level0 col5\" >5</th>\n",
       "      <th id=\"T_dfcf4_level0_col6\" class=\"col_heading level0 col6\" >6</th>\n",
       "      <th id=\"T_dfcf4_level0_col7\" class=\"col_heading level0 col7\" >7</th>\n",
       "      <th id=\"T_dfcf4_level0_col8\" class=\"col_heading level0 col8\" >8</th>\n",
       "      <th id=\"T_dfcf4_level0_col9\" class=\"col_heading level0 col9\" >9</th>\n",
       "      <th id=\"T_dfcf4_level0_col10\" class=\"col_heading level0 col10\" >10</th>\n",
       "      <th id=\"T_dfcf4_level0_col11\" class=\"col_heading level0 col11\" >11</th>\n",
       "    </tr>\n",
       "  </thead>\n",
       "  <tbody>\n",
       "    <tr>\n",
       "      <th id=\"T_dfcf4_level0_row0\" class=\"row_heading level0 row0\" >0</th>\n",
       "      <td id=\"T_dfcf4_row0_col0\" class=\"data row0 col0\" >0.005675</td>\n",
       "      <td id=\"T_dfcf4_row0_col1\" class=\"data row0 col1\" >0.003829</td>\n",
       "      <td id=\"T_dfcf4_row0_col2\" class=\"data row0 col2\" >0.000000</td>\n",
       "      <td id=\"T_dfcf4_row0_col3\" class=\"data row0 col3\" >0.000006</td>\n",
       "      <td id=\"T_dfcf4_row0_col4\" class=\"data row0 col4\" >0.000000</td>\n",
       "      <td id=\"T_dfcf4_row0_col5\" class=\"data row0 col5\" >0.000000</td>\n",
       "      <td id=\"T_dfcf4_row0_col6\" class=\"data row0 col6\" >0.000000</td>\n",
       "      <td id=\"T_dfcf4_row0_col7\" class=\"data row0 col7\" >0.000000</td>\n",
       "      <td id=\"T_dfcf4_row0_col8\" class=\"data row0 col8\" >0.000000</td>\n",
       "      <td id=\"T_dfcf4_row0_col9\" class=\"data row0 col9\" >0.000096</td>\n",
       "      <td id=\"T_dfcf4_row0_col10\" class=\"data row0 col10\" >0.002847</td>\n",
       "      <td id=\"T_dfcf4_row0_col11\" class=\"data row0 col11\" >0.002516</td>\n",
       "    </tr>\n",
       "  </tbody>\n",
       "</table>\n"
      ],
      "text/plain": [
       "<pandas.io.formats.style.Styler at 0x1674a2100>"
      ]
     },
     "metadata": {},
     "output_type": "display_data"
    }
   ],
   "source": [
    "shortcut_sp(p_chro_av, p_chro_tv)"
   ]
  },
  {
   "cell_type": "markdown",
   "id": "48e77b64",
   "metadata": {},
   "source": [
    "### MV vs PV "
   ]
  },
  {
   "cell_type": "code",
   "execution_count": 48,
   "id": "08c0deac",
   "metadata": {},
   "outputs": [
    {
     "data": {
      "text/html": [
       "<style type=\"text/css\">\n",
       "#T_75a2b_row0_col2, #T_75a2b_row0_col3, #T_75a2b_row0_col4, #T_75a2b_row0_col5 {\n",
       "  background: pink;\n",
       "}\n",
       "</style>\n",
       "<table id=\"T_75a2b\">\n",
       "  <thead>\n",
       "    <tr>\n",
       "      <th class=\"blank level0\" >&nbsp;</th>\n",
       "      <th id=\"T_75a2b_level0_col0\" class=\"col_heading level0 col0\" >0</th>\n",
       "      <th id=\"T_75a2b_level0_col1\" class=\"col_heading level0 col1\" >1</th>\n",
       "      <th id=\"T_75a2b_level0_col2\" class=\"col_heading level0 col2\" >2</th>\n",
       "      <th id=\"T_75a2b_level0_col3\" class=\"col_heading level0 col3\" >3</th>\n",
       "      <th id=\"T_75a2b_level0_col4\" class=\"col_heading level0 col4\" >4</th>\n",
       "      <th id=\"T_75a2b_level0_col5\" class=\"col_heading level0 col5\" >5</th>\n",
       "      <th id=\"T_75a2b_level0_col6\" class=\"col_heading level0 col6\" >6</th>\n",
       "      <th id=\"T_75a2b_level0_col7\" class=\"col_heading level0 col7\" >7</th>\n",
       "      <th id=\"T_75a2b_level0_col8\" class=\"col_heading level0 col8\" >8</th>\n",
       "      <th id=\"T_75a2b_level0_col9\" class=\"col_heading level0 col9\" >9</th>\n",
       "      <th id=\"T_75a2b_level0_col10\" class=\"col_heading level0 col10\" >10</th>\n",
       "      <th id=\"T_75a2b_level0_col11\" class=\"col_heading level0 col11\" >11</th>\n",
       "    </tr>\n",
       "  </thead>\n",
       "  <tbody>\n",
       "    <tr>\n",
       "      <th id=\"T_75a2b_level0_row0\" class=\"row_heading level0 row0\" >0</th>\n",
       "      <td id=\"T_75a2b_row0_col0\" class=\"data row0 col0\" >0.884809</td>\n",
       "      <td id=\"T_75a2b_row0_col1\" class=\"data row0 col1\" >0.733601</td>\n",
       "      <td id=\"T_75a2b_row0_col2\" class=\"data row0 col2\" >0.003311</td>\n",
       "      <td id=\"T_75a2b_row0_col3\" class=\"data row0 col3\" >0.003233</td>\n",
       "      <td id=\"T_75a2b_row0_col4\" class=\"data row0 col4\" >0.005765</td>\n",
       "      <td id=\"T_75a2b_row0_col5\" class=\"data row0 col5\" >0.021332</td>\n",
       "      <td id=\"T_75a2b_row0_col6\" class=\"data row0 col6\" >0.510230</td>\n",
       "      <td id=\"T_75a2b_row0_col7\" class=\"data row0 col7\" >0.920676</td>\n",
       "      <td id=\"T_75a2b_row0_col8\" class=\"data row0 col8\" >0.349578</td>\n",
       "      <td id=\"T_75a2b_row0_col9\" class=\"data row0 col9\" >0.062718</td>\n",
       "      <td id=\"T_75a2b_row0_col10\" class=\"data row0 col10\" >0.182500</td>\n",
       "      <td id=\"T_75a2b_row0_col11\" class=\"data row0 col11\" >0.514131</td>\n",
       "    </tr>\n",
       "  </tbody>\n",
       "</table>\n"
      ],
      "text/plain": [
       "<pandas.io.formats.style.Styler at 0x106c7cd90>"
      ]
     },
     "metadata": {},
     "output_type": "display_data"
    }
   ],
   "source": [
    "shortcut_sp(p_chro_mv, p_chro_pv)"
   ]
  },
  {
   "cell_type": "markdown",
   "id": "63ec428e",
   "metadata": {},
   "source": [
    "### MV vs TV"
   ]
  },
  {
   "cell_type": "code",
   "execution_count": 49,
   "id": "6987bf23",
   "metadata": {},
   "outputs": [
    {
     "data": {
      "text/html": [
       "<style type=\"text/css\">\n",
       "#T_85e3b_row0_col0, #T_85e3b_row0_col1, #T_85e3b_row0_col2, #T_85e3b_row0_col3, #T_85e3b_row0_col4, #T_85e3b_row0_col5, #T_85e3b_row0_col6, #T_85e3b_row0_col7, #T_85e3b_row0_col8, #T_85e3b_row0_col9, #T_85e3b_row0_col10, #T_85e3b_row0_col11 {\n",
       "  background: pink;\n",
       "}\n",
       "</style>\n",
       "<table id=\"T_85e3b\">\n",
       "  <thead>\n",
       "    <tr>\n",
       "      <th class=\"blank level0\" >&nbsp;</th>\n",
       "      <th id=\"T_85e3b_level0_col0\" class=\"col_heading level0 col0\" >0</th>\n",
       "      <th id=\"T_85e3b_level0_col1\" class=\"col_heading level0 col1\" >1</th>\n",
       "      <th id=\"T_85e3b_level0_col2\" class=\"col_heading level0 col2\" >2</th>\n",
       "      <th id=\"T_85e3b_level0_col3\" class=\"col_heading level0 col3\" >3</th>\n",
       "      <th id=\"T_85e3b_level0_col4\" class=\"col_heading level0 col4\" >4</th>\n",
       "      <th id=\"T_85e3b_level0_col5\" class=\"col_heading level0 col5\" >5</th>\n",
       "      <th id=\"T_85e3b_level0_col6\" class=\"col_heading level0 col6\" >6</th>\n",
       "      <th id=\"T_85e3b_level0_col7\" class=\"col_heading level0 col7\" >7</th>\n",
       "      <th id=\"T_85e3b_level0_col8\" class=\"col_heading level0 col8\" >8</th>\n",
       "      <th id=\"T_85e3b_level0_col9\" class=\"col_heading level0 col9\" >9</th>\n",
       "      <th id=\"T_85e3b_level0_col10\" class=\"col_heading level0 col10\" >10</th>\n",
       "      <th id=\"T_85e3b_level0_col11\" class=\"col_heading level0 col11\" >11</th>\n",
       "    </tr>\n",
       "  </thead>\n",
       "  <tbody>\n",
       "    <tr>\n",
       "      <th id=\"T_85e3b_level0_row0\" class=\"row_heading level0 row0\" >0</th>\n",
       "      <td id=\"T_85e3b_row0_col0\" class=\"data row0 col0\" >0.001891</td>\n",
       "      <td id=\"T_85e3b_row0_col1\" class=\"data row0 col1\" >0.018288</td>\n",
       "      <td id=\"T_85e3b_row0_col2\" class=\"data row0 col2\" >0.000131</td>\n",
       "      <td id=\"T_85e3b_row0_col3\" class=\"data row0 col3\" >0.000033</td>\n",
       "      <td id=\"T_85e3b_row0_col4\" class=\"data row0 col4\" >0.000000</td>\n",
       "      <td id=\"T_85e3b_row0_col5\" class=\"data row0 col5\" >0.000000</td>\n",
       "      <td id=\"T_85e3b_row0_col6\" class=\"data row0 col6\" >0.000023</td>\n",
       "      <td id=\"T_85e3b_row0_col7\" class=\"data row0 col7\" >0.000577</td>\n",
       "      <td id=\"T_85e3b_row0_col8\" class=\"data row0 col8\" >0.000200</td>\n",
       "      <td id=\"T_85e3b_row0_col9\" class=\"data row0 col9\" >0.001355</td>\n",
       "      <td id=\"T_85e3b_row0_col10\" class=\"data row0 col10\" >0.000582</td>\n",
       "      <td id=\"T_85e3b_row0_col11\" class=\"data row0 col11\" >0.001450</td>\n",
       "    </tr>\n",
       "  </tbody>\n",
       "</table>\n"
      ],
      "text/plain": [
       "<pandas.io.formats.style.Styler at 0x1674a25e0>"
      ]
     },
     "metadata": {},
     "output_type": "display_data"
    }
   ],
   "source": [
    "shortcut_sp(p_chro_mv, p_chro_tv)"
   ]
  },
  {
   "cell_type": "markdown",
   "id": "e7aa1d69",
   "metadata": {},
   "source": [
    "### PV vs TV"
   ]
  },
  {
   "cell_type": "code",
   "execution_count": 50,
   "id": "9bed9c3f",
   "metadata": {},
   "outputs": [
    {
     "data": {
      "text/html": [
       "<style type=\"text/css\">\n",
       "#T_a18a5_row0_col0, #T_a18a5_row0_col1, #T_a18a5_row0_col4, #T_a18a5_row0_col5, #T_a18a5_row0_col6, #T_a18a5_row0_col7, #T_a18a5_row0_col8, #T_a18a5_row0_col9, #T_a18a5_row0_col10, #T_a18a5_row0_col11 {\n",
       "  background: pink;\n",
       "}\n",
       "</style>\n",
       "<table id=\"T_a18a5\">\n",
       "  <thead>\n",
       "    <tr>\n",
       "      <th class=\"blank level0\" >&nbsp;</th>\n",
       "      <th id=\"T_a18a5_level0_col0\" class=\"col_heading level0 col0\" >0</th>\n",
       "      <th id=\"T_a18a5_level0_col1\" class=\"col_heading level0 col1\" >1</th>\n",
       "      <th id=\"T_a18a5_level0_col2\" class=\"col_heading level0 col2\" >2</th>\n",
       "      <th id=\"T_a18a5_level0_col3\" class=\"col_heading level0 col3\" >3</th>\n",
       "      <th id=\"T_a18a5_level0_col4\" class=\"col_heading level0 col4\" >4</th>\n",
       "      <th id=\"T_a18a5_level0_col5\" class=\"col_heading level0 col5\" >5</th>\n",
       "      <th id=\"T_a18a5_level0_col6\" class=\"col_heading level0 col6\" >6</th>\n",
       "      <th id=\"T_a18a5_level0_col7\" class=\"col_heading level0 col7\" >7</th>\n",
       "      <th id=\"T_a18a5_level0_col8\" class=\"col_heading level0 col8\" >8</th>\n",
       "      <th id=\"T_a18a5_level0_col9\" class=\"col_heading level0 col9\" >9</th>\n",
       "      <th id=\"T_a18a5_level0_col10\" class=\"col_heading level0 col10\" >10</th>\n",
       "      <th id=\"T_a18a5_level0_col11\" class=\"col_heading level0 col11\" >11</th>\n",
       "    </tr>\n",
       "  </thead>\n",
       "  <tbody>\n",
       "    <tr>\n",
       "      <th id=\"T_a18a5_level0_row0\" class=\"row_heading level0 row0\" >0</th>\n",
       "      <td id=\"T_a18a5_row0_col0\" class=\"data row0 col0\" >0.000687</td>\n",
       "      <td id=\"T_a18a5_row0_col1\" class=\"data row0 col1\" >0.033435</td>\n",
       "      <td id=\"T_a18a5_row0_col2\" class=\"data row0 col2\" >0.315886</td>\n",
       "      <td id=\"T_a18a5_row0_col3\" class=\"data row0 col3\" >0.166450</td>\n",
       "      <td id=\"T_a18a5_row0_col4\" class=\"data row0 col4\" >0.014820</td>\n",
       "      <td id=\"T_a18a5_row0_col5\" class=\"data row0 col5\" >0.001039</td>\n",
       "      <td id=\"T_a18a5_row0_col6\" class=\"data row0 col6\" >0.000160</td>\n",
       "      <td id=\"T_a18a5_row0_col7\" class=\"data row0 col7\" >0.000346</td>\n",
       "      <td id=\"T_a18a5_row0_col8\" class=\"data row0 col8\" >0.000002</td>\n",
       "      <td id=\"T_a18a5_row0_col9\" class=\"data row0 col9\" >0.000000</td>\n",
       "      <td id=\"T_a18a5_row0_col10\" class=\"data row0 col10\" >0.000001</td>\n",
       "      <td id=\"T_a18a5_row0_col11\" class=\"data row0 col11\" >0.000076</td>\n",
       "    </tr>\n",
       "  </tbody>\n",
       "</table>\n"
      ],
      "text/plain": [
       "<pandas.io.formats.style.Styler at 0x1674a2c70>"
      ]
     },
     "metadata": {},
     "output_type": "display_data"
    }
   ],
   "source": [
    "shortcut_sp(p_chro_pv, p_chro_tv)"
   ]
  },
  {
   "cell_type": "markdown",
   "id": "1561bb77",
   "metadata": {},
   "source": [
    "# *Tempogram"
   ]
  },
  {
   "cell_type": "code",
   "execution_count": 51,
   "id": "1c298985",
   "metadata": {},
   "outputs": [],
   "source": [
    "def temp(array_1, array_2):\n",
    "    test = mannwhitneyu(array_1, array_2, use_continuity = False, alternative = 'two-sided')\n",
    "    stats = pd.DataFrame(test[0])\n",
    "    p_value_df = pd.DataFrame(test[1])\n",
    "\n",
    "    little_index_list = p_value_df[(p_value_df < 0.05).any(axis=1)].index\n",
    "    \n",
    "    return  little_index_list\n"
   ]
  },
  {
   "cell_type": "code",
   "execution_count": 52,
   "id": "06868ae0",
   "metadata": {},
   "outputs": [],
   "source": [
    "p_temp_av = np.load(AV_path + \"/present/present_AV_tempgram_array.npy\", allow_pickle = True)\n",
    "p_temp_mv = np.load(MV_path + \"/present/present_MV_tempgram_array.npy\", allow_pickle = True)\n",
    "p_temp_pv = np.load(PV_path + \"/present/present_PV_tempogram_array.npy\", allow_pickle = True)\n",
    "p_temp_tv = np.load(TV_path + \"/present/present_TV_tempogram_array.npy\", allow_pickle = True)"
   ]
  },
  {
   "cell_type": "markdown",
   "id": "f0e371bc",
   "metadata": {},
   "source": [
    "### AV vs MV"
   ]
  },
  {
   "cell_type": "code",
   "execution_count": 53,
   "id": "8598189a",
   "metadata": {},
   "outputs": [],
   "source": [
    "av_mv = temp(p_temp_av, p_temp_mv)"
   ]
  },
  {
   "cell_type": "markdown",
   "id": "9f58f1dc",
   "metadata": {},
   "source": [
    "### AV vs PV"
   ]
  },
  {
   "cell_type": "code",
   "execution_count": 54,
   "id": "b599e352",
   "metadata": {},
   "outputs": [],
   "source": [
    "av_pv = temp(p_temp_av, p_temp_pv)"
   ]
  },
  {
   "cell_type": "markdown",
   "id": "3f372250",
   "metadata": {},
   "source": [
    "### AV vs TV"
   ]
  },
  {
   "cell_type": "code",
   "execution_count": 55,
   "id": "6d641873",
   "metadata": {},
   "outputs": [],
   "source": [
    "av_tv = temp(p_temp_av, p_temp_tv)"
   ]
  },
  {
   "cell_type": "code",
   "execution_count": 56,
   "id": "b162b637",
   "metadata": {},
   "outputs": [
    {
     "name": "stdout",
     "output_type": "stream",
     "text": [
      "22\n"
     ]
    }
   ],
   "source": [
    "av_temp = list(set(av_mv) & set(av_pv) & set(av_tv))\n",
    "print(len(av_temp))"
   ]
  },
  {
   "cell_type": "markdown",
   "id": "003eb476",
   "metadata": {},
   "source": [
    "### MV vs PV"
   ]
  },
  {
   "cell_type": "code",
   "execution_count": 57,
   "id": "164f7c7d",
   "metadata": {},
   "outputs": [],
   "source": [
    "mv_pv = temp(p_temp_mv, p_temp_pv)"
   ]
  },
  {
   "cell_type": "markdown",
   "id": "5be4f8e4",
   "metadata": {},
   "source": [
    "### MV vs TV"
   ]
  },
  {
   "cell_type": "code",
   "execution_count": 58,
   "id": "f10b69c6",
   "metadata": {},
   "outputs": [],
   "source": [
    "mv_tv = temp(p_temp_mv, p_temp_tv)"
   ]
  },
  {
   "cell_type": "code",
   "execution_count": 59,
   "id": "1ad7c500",
   "metadata": {},
   "outputs": [
    {
     "name": "stdout",
     "output_type": "stream",
     "text": [
      "15\n"
     ]
    }
   ],
   "source": [
    "mv_temp = list(set(mv_pv) & set(mv_tv))\n",
    "print(len(mv_temp))"
   ]
  },
  {
   "cell_type": "markdown",
   "id": "c8a11151",
   "metadata": {},
   "source": [
    "### PV vs TV"
   ]
  },
  {
   "cell_type": "code",
   "execution_count": 60,
   "id": "7c804a3e",
   "metadata": {},
   "outputs": [],
   "source": [
    "pv_tv = temp(p_temp_pv, p_temp_tv)"
   ]
  },
  {
   "cell_type": "code",
   "execution_count": 61,
   "id": "df3005c1",
   "metadata": {},
   "outputs": [
    {
     "name": "stdout",
     "output_type": "stream",
     "text": [
      "0\n"
     ]
    }
   ],
   "source": [
    "temp = list(set(mv_temp) & set(av_temp) & set(pv_tv))\n",
    "print(len(temp))"
   ]
  },
  {
   "cell_type": "code",
   "execution_count": null,
   "id": "62d17935",
   "metadata": {},
   "outputs": [],
   "source": []
  },
  {
   "cell_type": "code",
   "execution_count": null,
   "id": "1c075a7d",
   "metadata": {},
   "outputs": [],
   "source": []
  }
 ],
 "metadata": {
  "kernelspec": {
   "display_name": "Python 3 (ipykernel)",
   "language": "python",
   "name": "python3"
  },
  "language_info": {
   "codemirror_mode": {
    "name": "ipython",
    "version": 3
   },
   "file_extension": ".py",
   "mimetype": "text/x-python",
   "name": "python",
   "nbconvert_exporter": "python",
   "pygments_lexer": "ipython3",
   "version": "3.9.9"
  }
 },
 "nbformat": 4,
 "nbformat_minor": 5
}
